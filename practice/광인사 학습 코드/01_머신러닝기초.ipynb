{
 "cells": [
  {
   "attachments": {},
   "cell_type": "markdown",
   "id": "41d772ff",
   "metadata": {},
   "source": [
    "# 머신러닝의 종류"
   ]
  },
  {
   "attachments": {},
   "cell_type": "markdown",
   "id": "00de3df5",
   "metadata": {},
   "source": [
    "## 지도 학습\n",
    "- 분류\n",
    "- 회귀\n",
    "- 추천 시스템\n",
    "- 시각/음석 인식,감지\n",
    "- 텍스트마이닝, NPL\n",
    "\n",
    "## 비지도 학습\n",
    "- 클러스트링(군집화)\n",
    "- 차원축소\n",
    "- 강화학습"
   ]
  },
  {
   "attachments": {},
   "cell_type": "markdown",
   "id": "ba6d9124",
   "metadata": {},
   "source": [
    "# 머신러닝 학습 방법"
   ]
  },
  {
   "attachments": {},
   "cell_type": "markdown",
   "id": "a61dd610",
   "metadata": {},
   "source": [
    "- 거리 기반 학습\n",
    "- 수식 기반 학습\n",
    "- 논리 기반 학습\n",
    "- 확률 기반 학습(Naive bayes)"
   ]
  },
  {
   "attachments": {},
   "cell_type": "markdown",
   "id": "8c93e9bf",
   "metadata": {},
   "source": [
    "## 1. 거리 기반 학습으로 AND 논리를 학습하는 모델을 만들자\n",
    "- 머신러닝모델 종류: KNN, SVM"
   ]
  },
  {
   "cell_type": "code",
   "execution_count": 1,
   "id": "09ca757f",
   "metadata": {},
   "outputs": [
    {
     "name": "stdout",
     "output_type": "stream",
     "text": [
      "0\n",
      "0\n",
      "0\n",
      "1\n"
     ]
    }
   ],
   "source": [
    "# AND 논리 선언\n",
    "data = [[0,0,0],\n",
    "       [0,1,0],\n",
    "       [1,0,0],\n",
    "       [1,1,1]]\n",
    "\n",
    "# 입력된 데이터(x1, x2)에서 가장 가까운 데이터의 라벨을 출력하는 함수 작성\n",
    "def distanceML(x1, x2):\n",
    "    # 최종 결과값\n",
    "    result = 0\n",
    "    # 최소 거리를 비교하기 위한 값\n",
    "    minDis = float('inf')\n",
    "    \n",
    "    # 특성 데이터에서 한 행씩 데이터를 가져온다\n",
    "    for row in data:\n",
    "        # 특성 데이터와 라벨 데이터를 분리\n",
    "        X = row[0:2]   # 특성 데이터 (전건, 후건의 참 거짓 여부)\n",
    "        y = row[2]   # 라벨 데이터 (명제의 참 거짓 여부)\n",
    "        \n",
    "        # 입력된 데이터 (x1, x2)와 각 특성데이터간의 거리 계산\n",
    "        # abs : 절대값을 계산 (음수를 없애기 위해서 - 거리는 음수가 없기 때문에) / 제곱으로 계산할 수 도 있다.\n",
    "        dis = abs(x1-X[0]) + abs(x2-X[1])\n",
    "        \n",
    "        # 거리가 최소인 데이터로 갱신\n",
    "        if minDis > dis :\n",
    "            minDis = dis   \n",
    "            result = y\n",
    "    # 거리가 가장 작은 데이터의 라벨값을 반환\n",
    "    return result\n",
    "            \n",
    "print(distanceML(0, 0))    \n",
    "print(distanceML(1, 0))\n",
    "print(distanceML(0, 1))\n",
    "print(distanceML(1, 1))"
   ]
  },
  {
   "cell_type": "code",
   "execution_count": 2,
   "id": "4fd8c181",
   "metadata": {},
   "outputs": [
    {
     "name": "stdout",
     "output_type": "stream",
     "text": [
      "0\n",
      "1\n",
      "1\n",
      "1\n"
     ]
    }
   ],
   "source": [
    "# OR 논리 선언\n",
    "data = [[0,0,0],\n",
    "       [0,1,1],\n",
    "       [1,0,1],\n",
    "       [1,1,1]]\n",
    "\n",
    "def distanceML(x1, x2):\n",
    "    result = 0\n",
    "    minDis = 99\n",
    "    for row in data:\n",
    "        X = row[0:2]  \n",
    "        y = row[2]  \n",
    "        dis = abs(x1-X[0]) + abs(x2-X[1])\n",
    "        \n",
    "        if minDis > dis :\n",
    "            minDis = dis  \n",
    "            result = y\n",
    "\n",
    "    return result\n",
    "            \n",
    "print(distanceML(0, 0))    \n",
    "print(distanceML(1, 0))\n",
    "print(distanceML(0, 1))\n",
    "print(distanceML(1, 1))"
   ]
  },
  {
   "cell_type": "code",
   "execution_count": 3,
   "id": "87f7abd8",
   "metadata": {},
   "outputs": [
    {
     "name": "stdout",
     "output_type": "stream",
     "text": [
      "0\n",
      "1\n",
      "1\n",
      "0\n"
     ]
    }
   ],
   "source": [
    "# XOR 논리 선언\n",
    "data = [[0,0,0],\n",
    "       [0,1,1],\n",
    "       [1,0,1],\n",
    "       [1,1,0]]\n",
    "\n",
    "\n",
    "def distanceML(x1, x2):\n",
    "    result = 0\n",
    "    minDis = 99\n",
    "\n",
    "    for row in data:\n",
    "        X = row[0:2]  \n",
    "        y = row[2]  \n",
    "        dis = abs(x1-X[0]) + abs(x2-X[1])\n",
    "        \n",
    "        if minDis > dis :\n",
    "            minDis = dis  \n",
    "            result = y\n",
    "\n",
    "    return result\n",
    "            \n",
    "print(distanceML(0, 0))    \n",
    "print(distanceML(1, 0))\n",
    "print(distanceML(0, 1))\n",
    "print(distanceML(1, 1))"
   ]
  },
  {
   "attachments": {},
   "cell_type": "markdown",
   "id": "12c2d944",
   "metadata": {},
   "source": [
    "#### (예제) 비만 판독기 "
   ]
  },
  {
   "cell_type": "code",
   "execution_count": 4,
   "id": "600b8a51",
   "metadata": {},
   "outputs": [
    {
     "data": {
      "text/plain": [
       "'정상'"
      ]
     },
     "execution_count": 4,
     "metadata": {},
     "output_type": "execute_result"
    }
   ],
   "source": [
    "data2 = [[150, 40, \"저체중\"],\n",
    "        [200, 100, \"비만\"],\n",
    "        [180, 150, \"비만\"],\n",
    "        [160, 40, \"저체중\"],\n",
    "        [170, 70, \"정상\"]]\n",
    "\n",
    "def distanceML(x1, x2):\n",
    "    result = 0\n",
    "    minDis = 99\n",
    "\n",
    "    for row in data2:\n",
    "        X = row[0:2]  \n",
    "        y = row[2]  \n",
    "        dis = abs(x1-X[0]) + abs(x2-X[1])\n",
    "        \n",
    "        if minDis > dis :\n",
    "            minDis = dis  \n",
    "            result = y\n",
    "            #거리 기반 방법에서는 특성 데이터들의 가중치를 고려하지 않으면 정확한 값이 나오지 않는다.\n",
    "\n",
    "    return result\n",
    "\n",
    "distanceML(170,55)"
   ]
  },
  {
   "attachments": {},
   "cell_type": "markdown",
   "id": "48823144",
   "metadata": {},
   "source": [
    "## 2. 수식 기반 학습으로 AND 논리를 학습하는 모델을 만들자"
   ]
  },
  {
   "cell_type": "markdown",
   "id": "3a777c57",
   "metadata": {},
   "source": [
    "- Lienar, Regression(선형회귀), Rideg, Lasso\n",
    "- Logistic Regression\n",
    "- (확률 모델을 사용하기도 한다... 근데 어려움)"
   ]
  },
  {
   "cell_type": "code",
   "execution_count": 5,
   "id": "4ebe5b37",
   "metadata": {
    "scrolled": true
   },
   "outputs": [
    {
     "name": "stdout",
     "output_type": "stream",
     "text": [
      "0\n",
      "0\n",
      "0\n",
      "1\n"
     ]
    }
   ],
   "source": [
    "# AND 논리 선언\n",
    "data = [[0,0,0],\n",
    "       [0,1,0],\n",
    "       [1,0,0],\n",
    "       [1,1,1]]\n",
    "\n",
    "    # y=ax + b 1차 함수의 기울기는 수식기반 학습에서 가중치로 작용한다.\n",
    "    # 와이 절편은 바이어싱 해준다 --> 0부터 시작하는게 아니라 y절편만큼 이동한 거리에서 시작한다.\n",
    "    #AND = W1*A + W2*B +b \n",
    "\n",
    "def andML(x1,x2):\n",
    "    w1, w2, b = 0.5, 0.5, 0   #여러분이 직접 맞춰보세요  (-1,0과 1.0 사이 값을 넣어서 )\n",
    "    \n",
    "    #AND 논리를 만드는 수식\n",
    "    temp = (w1*x1) + (w2*x2) + b\n",
    "\n",
    "    if temp <= 0.5:\n",
    "        return 0\n",
    "    else:\n",
    "        return 1\n",
    "    \n",
    "print(andML(0,0))\n",
    "print(andML(0,1))\n",
    "print(andML(1,0))\n",
    "print(andML(1,1))"
   ]
  },
  {
   "attachments": {},
   "cell_type": "markdown",
   "id": "a521a7d6",
   "metadata": {},
   "source": [
    "## 3. 논리 기반 학습으로 AND 논리를 학습하는 모델을 만들자\n",
    "- Decision Tree (의사결정)"
   ]
  },
  {
   "cell_type": "code",
   "execution_count": 6,
   "id": "f1da5f4f",
   "metadata": {},
   "outputs": [
    {
     "name": "stdout",
     "output_type": "stream",
     "text": [
      "0\n",
      "0\n",
      "0\n",
      "1\n"
     ]
    }
   ],
   "source": [
    "#AND 논리 선언\n",
    "data = [[0,0,0],\n",
    "       [0,1,0],\n",
    "       [1,0,0],\n",
    "       [1,1,1]]\n",
    "\n",
    "def logicalML(x1, x2):\n",
    "    if x1 == 0 and x2 == 0 :\n",
    "        return 0\n",
    "    if x1 == 1 and x2 == 0 :\n",
    "        return 0\n",
    "    if x1 == 0 and x2 == 1 :\n",
    "        return 0\n",
    "    if x1 == 1 and x2 == 1 :\n",
    "        return 1\n",
    "    \n",
    "    #나중에 사용하게 될 머신러닝 모델들이 거리, 가중치, 조건문을 자동으로 만들어준다.\n",
    "    \n",
    "print(logicalML(0,0))\n",
    "print(logicalML(0,1))\n",
    "print(logicalML(1,0))\n",
    "print(logicalML(1,1))"
   ]
  },
  {
   "attachments": {},
   "cell_type": "markdown",
   "id": "bda78a3c",
   "metadata": {},
   "source": [
    "# Scikit-learn 프레임워크를 활용\n",
    "\n",
    "- Scikit-learn 프레임 워크 : 머신러닝과 관련된 데이터, 모델, 함수 등을 다양하게 제공하는 가장 많이 활용되는 머신러닝 프레임워크"
   ]
  },
  {
   "cell_type": "code",
   "execution_count": 1,
   "id": "3269561c",
   "metadata": {},
   "outputs": [
    {
     "name": "stdout",
     "output_type": "stream",
     "text": [
      "1.1.0\n"
     ]
    }
   ],
   "source": [
    "import sklearn\n",
    "print(sklearn.__version__)"
   ]
  },
  {
   "cell_type": "code",
   "execution_count": 10,
   "id": "ed4645a0",
   "metadata": {},
   "outputs": [
    {
     "data": {
      "text/html": [
       "<div>\n",
       "<style scoped>\n",
       "    .dataframe tbody tr th:only-of-type {\n",
       "        vertical-align: middle;\n",
       "    }\n",
       "\n",
       "    .dataframe tbody tr th {\n",
       "        vertical-align: top;\n",
       "    }\n",
       "\n",
       "    .dataframe thead th {\n",
       "        text-align: right;\n",
       "    }\n",
       "</style>\n",
       "<table border=\"1\" class=\"dataframe\">\n",
       "  <thead>\n",
       "    <tr style=\"text-align: right;\">\n",
       "      <th></th>\n",
       "      <th>A</th>\n",
       "      <th>B</th>\n",
       "      <th>AND</th>\n",
       "    </tr>\n",
       "  </thead>\n",
       "  <tbody>\n",
       "    <tr>\n",
       "      <th>0</th>\n",
       "      <td>0</td>\n",
       "      <td>0</td>\n",
       "      <td>0</td>\n",
       "    </tr>\n",
       "    <tr>\n",
       "      <th>1</th>\n",
       "      <td>0</td>\n",
       "      <td>1</td>\n",
       "      <td>0</td>\n",
       "    </tr>\n",
       "    <tr>\n",
       "      <th>2</th>\n",
       "      <td>1</td>\n",
       "      <td>0</td>\n",
       "      <td>0</td>\n",
       "    </tr>\n",
       "    <tr>\n",
       "      <th>3</th>\n",
       "      <td>1</td>\n",
       "      <td>1</td>\n",
       "      <td>1</td>\n",
       "    </tr>\n",
       "  </tbody>\n",
       "</table>\n",
       "</div>"
      ],
      "text/plain": [
       "   A  B  AND\n",
       "0  0  0    0\n",
       "1  0  1    0\n",
       "2  1  0    0\n",
       "3  1  1    1"
      ]
     },
     "execution_count": 10,
     "metadata": {},
     "output_type": "execute_result"
    }
   ],
   "source": [
    "#AND 논리 선언\n",
    "data = [[0,0,0],\n",
    "       [0,1,0],\n",
    "       [1,0,0],\n",
    "       [1,1,1]]\n",
    "\n",
    "# pandas 데이터로 변환\n",
    "import pandas as pd\n",
    "dfAnd = pd.DataFrame(data, columns=[\"A\", \"B\", \"AND\"])\n",
    "dfAnd"
   ]
  },
  {
   "cell_type": "code",
   "execution_count": 11,
   "id": "4846aae2",
   "metadata": {},
   "outputs": [
    {
     "data": {
      "text/html": [
       "<div>\n",
       "<style scoped>\n",
       "    .dataframe tbody tr th:only-of-type {\n",
       "        vertical-align: middle;\n",
       "    }\n",
       "\n",
       "    .dataframe tbody tr th {\n",
       "        vertical-align: top;\n",
       "    }\n",
       "\n",
       "    .dataframe thead th {\n",
       "        text-align: right;\n",
       "    }\n",
       "</style>\n",
       "<table border=\"1\" class=\"dataframe\">\n",
       "  <thead>\n",
       "    <tr style=\"text-align: right;\">\n",
       "      <th></th>\n",
       "      <th>A</th>\n",
       "      <th>B</th>\n",
       "    </tr>\n",
       "  </thead>\n",
       "  <tbody>\n",
       "    <tr>\n",
       "      <th>0</th>\n",
       "      <td>0</td>\n",
       "      <td>0</td>\n",
       "    </tr>\n",
       "    <tr>\n",
       "      <th>1</th>\n",
       "      <td>0</td>\n",
       "      <td>1</td>\n",
       "    </tr>\n",
       "    <tr>\n",
       "      <th>2</th>\n",
       "      <td>1</td>\n",
       "      <td>0</td>\n",
       "    </tr>\n",
       "    <tr>\n",
       "      <th>3</th>\n",
       "      <td>1</td>\n",
       "      <td>1</td>\n",
       "    </tr>\n",
       "  </tbody>\n",
       "</table>\n",
       "</div>"
      ],
      "text/plain": [
       "   A  B\n",
       "0  0  0\n",
       "1  0  1\n",
       "2  1  0\n",
       "3  1  1"
      ]
     },
     "execution_count": 11,
     "metadata": {},
     "output_type": "execute_result"
    }
   ],
   "source": [
    "#특성데이터와 라벨데이터로 분리\n",
    "X = dfAnd.iloc[:, :2]\n",
    "X"
   ]
  },
  {
   "cell_type": "code",
   "execution_count": 18,
   "id": "0c426d3f",
   "metadata": {},
   "outputs": [
    {
     "name": "stdout",
     "output_type": "stream",
     "text": [
      "0    0\n",
      "1    0\n",
      "2    0\n",
      "3    1\n",
      "Name: AND, dtype: int64\n"
     ]
    },
    {
     "data": {
      "text/html": [
       "<div>\n",
       "<style scoped>\n",
       "    .dataframe tbody tr th:only-of-type {\n",
       "        vertical-align: middle;\n",
       "    }\n",
       "\n",
       "    .dataframe tbody tr th {\n",
       "        vertical-align: top;\n",
       "    }\n",
       "\n",
       "    .dataframe thead th {\n",
       "        text-align: right;\n",
       "    }\n",
       "</style>\n",
       "<table border=\"1\" class=\"dataframe\">\n",
       "  <thead>\n",
       "    <tr style=\"text-align: right;\">\n",
       "      <th></th>\n",
       "      <th>AND</th>\n",
       "    </tr>\n",
       "  </thead>\n",
       "  <tbody>\n",
       "    <tr>\n",
       "      <th>0</th>\n",
       "      <td>0</td>\n",
       "    </tr>\n",
       "    <tr>\n",
       "      <th>1</th>\n",
       "      <td>0</td>\n",
       "    </tr>\n",
       "    <tr>\n",
       "      <th>2</th>\n",
       "      <td>0</td>\n",
       "    </tr>\n",
       "    <tr>\n",
       "      <th>3</th>\n",
       "      <td>1</td>\n",
       "    </tr>\n",
       "  </tbody>\n",
       "</table>\n",
       "</div>"
      ],
      "text/plain": [
       "   AND\n",
       "0    0\n",
       "1    0\n",
       "2    0\n",
       "3    1"
      ]
     },
     "execution_count": 18,
     "metadata": {},
     "output_type": "execute_result"
    }
   ],
   "source": [
    "y = dfAnd.iloc[:, 2]   # 인덱싱하면 시리즈 데이터로 잘림 (가능하면 인덱싱으로 잘라내야한다!!!)\n",
    "y1 = dfAnd.iloc[:, 2:]   # 슬라이싱으로 자르면 데이터프레임으로 잘림 두개 섞어서 쓰면 오류남 시리즈는(4,0) 데이터프레임은 (4,1)\n",
    "print(y)\n",
    "y1"
   ]
  },
  {
   "cell_type": "code",
   "execution_count": 14,
   "id": "26f30721",
   "metadata": {},
   "outputs": [
    {
     "data": {
      "text/html": [
       "<style>#sk-container-id-1 {color: black;background-color: white;}#sk-container-id-1 pre{padding: 0;}#sk-container-id-1 div.sk-toggleable {background-color: white;}#sk-container-id-1 label.sk-toggleable__label {cursor: pointer;display: block;width: 100%;margin-bottom: 0;padding: 0.3em;box-sizing: border-box;text-align: center;}#sk-container-id-1 label.sk-toggleable__label-arrow:before {content: \"▸\";float: left;margin-right: 0.25em;color: #696969;}#sk-container-id-1 label.sk-toggleable__label-arrow:hover:before {color: black;}#sk-container-id-1 div.sk-estimator:hover label.sk-toggleable__label-arrow:before {color: black;}#sk-container-id-1 div.sk-toggleable__content {max-height: 0;max-width: 0;overflow: hidden;text-align: left;background-color: #f0f8ff;}#sk-container-id-1 div.sk-toggleable__content pre {margin: 0.2em;color: black;border-radius: 0.25em;background-color: #f0f8ff;}#sk-container-id-1 input.sk-toggleable__control:checked~div.sk-toggleable__content {max-height: 200px;max-width: 100%;overflow: auto;}#sk-container-id-1 input.sk-toggleable__control:checked~label.sk-toggleable__label-arrow:before {content: \"▾\";}#sk-container-id-1 div.sk-estimator input.sk-toggleable__control:checked~label.sk-toggleable__label {background-color: #d4ebff;}#sk-container-id-1 div.sk-label input.sk-toggleable__control:checked~label.sk-toggleable__label {background-color: #d4ebff;}#sk-container-id-1 input.sk-hidden--visually {border: 0;clip: rect(1px 1px 1px 1px);clip: rect(1px, 1px, 1px, 1px);height: 1px;margin: -1px;overflow: hidden;padding: 0;position: absolute;width: 1px;}#sk-container-id-1 div.sk-estimator {font-family: monospace;background-color: #f0f8ff;border: 1px dotted black;border-radius: 0.25em;box-sizing: border-box;margin-bottom: 0.5em;}#sk-container-id-1 div.sk-estimator:hover {background-color: #d4ebff;}#sk-container-id-1 div.sk-parallel-item::after {content: \"\";width: 100%;border-bottom: 1px solid gray;flex-grow: 1;}#sk-container-id-1 div.sk-label:hover label.sk-toggleable__label {background-color: #d4ebff;}#sk-container-id-1 div.sk-serial::before {content: \"\";position: absolute;border-left: 1px solid gray;box-sizing: border-box;top: 0;bottom: 0;left: 50%;z-index: 0;}#sk-container-id-1 div.sk-serial {display: flex;flex-direction: column;align-items: center;background-color: white;padding-right: 0.2em;padding-left: 0.2em;position: relative;}#sk-container-id-1 div.sk-item {position: relative;z-index: 1;}#sk-container-id-1 div.sk-parallel {display: flex;align-items: stretch;justify-content: center;background-color: white;position: relative;}#sk-container-id-1 div.sk-item::before, #sk-container-id-1 div.sk-parallel-item::before {content: \"\";position: absolute;border-left: 1px solid gray;box-sizing: border-box;top: 0;bottom: 0;left: 50%;z-index: -1;}#sk-container-id-1 div.sk-parallel-item {display: flex;flex-direction: column;z-index: 1;position: relative;background-color: white;}#sk-container-id-1 div.sk-parallel-item:first-child::after {align-self: flex-end;width: 50%;}#sk-container-id-1 div.sk-parallel-item:last-child::after {align-self: flex-start;width: 50%;}#sk-container-id-1 div.sk-parallel-item:only-child::after {width: 0;}#sk-container-id-1 div.sk-dashed-wrapped {border: 1px dashed gray;margin: 0 0.4em 0.5em 0.4em;box-sizing: border-box;padding-bottom: 0.4em;background-color: white;}#sk-container-id-1 div.sk-label label {font-family: monospace;font-weight: bold;display: inline-block;line-height: 1.2em;}#sk-container-id-1 div.sk-label-container {text-align: center;}#sk-container-id-1 div.sk-container {/* jupyter's `normalize.less` sets `[hidden] { display: none; }` but bootstrap.min.css set `[hidden] { display: none !important; }` so we also need the `!important` here to be able to override the default hidden behavior on the sphinx rendered scikit-learn.org. See: https://github.com/scikit-learn/scikit-learn/issues/21755 */display: inline-block !important;position: relative;}#sk-container-id-1 div.sk-text-repr-fallback {display: none;}</style><div id=\"sk-container-id-1\" class=\"sk-top-container\"><div class=\"sk-text-repr-fallback\"><pre>KNeighborsClassifier(n_neighbors=1)</pre><b>In a Jupyter environment, please rerun this cell to show the HTML representation or trust the notebook. <br />On GitHub, the HTML representation is unable to render, please try loading this page with nbviewer.org.</b></div><div class=\"sk-container\" hidden><div class=\"sk-item\"><div class=\"sk-estimator sk-toggleable\"><input class=\"sk-toggleable__control sk-hidden--visually\" id=\"sk-estimator-id-1\" type=\"checkbox\" checked><label for=\"sk-estimator-id-1\" class=\"sk-toggleable__label sk-toggleable__label-arrow\">KNeighborsClassifier</label><div class=\"sk-toggleable__content\"><pre>KNeighborsClassifier(n_neighbors=1)</pre></div></div></div></div></div>"
      ],
      "text/plain": [
       "KNeighborsClassifier(n_neighbors=1)"
      ]
     },
     "execution_count": 14,
     "metadata": {},
     "output_type": "execute_result"
    }
   ],
   "source": [
    "#KNN 분류 모델을 로드\n",
    "from sklearn.neighbors import KNeighborsClassifier\n",
    "\n",
    "# 모델 선언\n",
    "#n_neighbors : 가까이에 있는 참고하는 데이터의 수 \n",
    "knn_model = KNeighborsClassifier(n_neighbors=1)\n",
    "\n",
    "#특성 데이터와 라벨 데이터를 입력해서 훈련\n",
    "knn_model.fit(X,y)"
   ]
  },
  {
   "cell_type": "code",
   "execution_count": 21,
   "id": "78d435b9",
   "metadata": {},
   "outputs": [
    {
     "name": "stderr",
     "output_type": "stream",
     "text": [
      "/opt/homebrew/Caskroom/miniforge/base/envs/ml/lib/python3.11/site-packages/sklearn/base.py:409: UserWarning: X does not have valid feature names, but KNeighborsClassifier was fitted with feature names\n",
      "  warnings.warn(\n"
     ]
    },
    {
     "data": {
      "text/plain": [
       "array([1, 0, 0, 0])"
      ]
     },
     "execution_count": 21,
     "metadata": {},
     "output_type": "execute_result"
    }
   ],
   "source": [
    "#새로운 데이터를 입력해서 예측\n",
    "new_X = [[1,1], [0,1], [1,0], [0,0]]  # 데이터 프레임으로 위에서 학습했는데 리스트로 넣어서 에러뜸\n",
    "\n",
    "#predict() : 생성된 모델을 이용해서 새로운 특성데이터의 라벨데이터를 예측\n",
    "pred_y = knn_model.predict(new_X)\n",
    "pred_y"
   ]
  },
  {
   "cell_type": "code",
   "execution_count": 22,
   "id": "2c7bc1c8",
   "metadata": {},
   "outputs": [
    {
     "name": "stdout",
     "output_type": "stream",
     "text": [
      "1.0\n",
      "1.0\n"
     ]
    }
   ],
   "source": [
    "# 평가(score, accuracy_score) - 정확도 구하는 함수\n",
    "# score(): 훈련하고 나서 특성데이터와 라벨데이터로 정확도를 계산   <- 기본 함수로 포함하고 있음\n",
    "# accuracy_score(): 예측한 라벨과 원래 라벨을 비교하여 정확도를 계산  <- 도함수를 임포트 해줘야함 \n",
    "print(knn_model.score(X,y))\n",
    "\n",
    "from sklearn.metrics import accuracy_score\n",
    "print(accuracy_score(pred_y, new_y))\n",
    "\n",
    "# 머신러닝에서는 정확도 100%가 나오면 과대적합일 확률이 높다"
   ]
  },
  {
   "cell_type": "code",
   "execution_count": null,
   "id": "fd5522ce",
   "metadata": {},
   "outputs": [],
   "source": []
  }
 ],
 "metadata": {
  "kernelspec": {
   "display_name": "ml",
   "language": "python",
   "name": "python3"
  },
  "language_info": {
   "codemirror_mode": {
    "name": "ipython",
    "version": 3
   },
   "file_extension": ".py",
   "mimetype": "text/x-python",
   "name": "python",
   "nbconvert_exporter": "python",
   "pygments_lexer": "ipython3",
   "version": "3.11.0"
  },
  "toc": {
   "base_numbering": 1,
   "nav_menu": {},
   "number_sections": true,
   "sideBar": true,
   "skip_h1_title": false,
   "title_cell": "Table of Contents",
   "title_sidebar": "Contents",
   "toc_cell": false,
   "toc_position": {
    "height": "calc(100% - 180px)",
    "left": "10px",
    "top": "150px",
    "width": "349.091px"
   },
   "toc_section_display": true,
   "toc_window_display": true
  },
  "vscode": {
   "interpreter": {
    "hash": "08eac26dc1f80337b7d87e94e7159a5bad95c2e85f47efef91c61359b3afbfe9"
   }
  }
 },
 "nbformat": 4,
 "nbformat_minor": 5
}
