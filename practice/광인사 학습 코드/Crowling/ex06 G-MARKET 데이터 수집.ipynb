{
 "cells": [
  {
   "cell_type": "code",
   "execution_count": 1,
   "id": "18c525de",
   "metadata": {},
   "outputs": [],
   "source": [
    "from selenium import webdriver as wb\n",
    "from selenium.webdriver.common.keys import Keys\n",
    "from selenium.webdriver.common.by import By\n",
    "import time"
   ]
  },
  {
   "cell_type": "code",
   "execution_count": 2,
   "id": "6073b4d6",
   "metadata": {},
   "outputs": [],
   "source": [
    "driver = wb.Chrome()"
   ]
  },
  {
   "cell_type": "code",
   "execution_count": 3,
   "id": "10e6e264",
   "metadata": {},
   "outputs": [],
   "source": [
    "driver.get(\"http://corners.gmarket.co.kr/Bestsellers\")"
   ]
  },
  {
   "cell_type": "code",
   "execution_count": 5,
   "id": "35744810",
   "metadata": {},
   "outputs": [],
   "source": [
    "# 1. 첫번째 상품 클릭\n",
    "# 내가 찾을 태그가 복수면 elements 그리고 복수면 데이터에 인덱스를 넣어줘야한다 (인덱스형태로 넘오오기 때문이다)\n",
    "img = driver.find_elements(By.CLASS_NAME, \"lazy\") "
   ]
  },
  {
   "cell_type": "code",
   "execution_count": 7,
   "id": "9b729e7c",
   "metadata": {},
   "outputs": [
    {
     "data": {
      "text/plain": [
       "<selenium.webdriver.remote.webelement.WebElement (session=\"e53a4e5e0136d6bc0884d454ffe0ed6f\", element=\"17cd5a56-9b84-4296-b799-46a538146aec\")>"
      ]
     },
     "execution_count": 7,
     "metadata": {},
     "output_type": "execute_result"
    }
   ],
   "source": [
    "img[0]"
   ]
  },
  {
   "cell_type": "code",
   "execution_count": 6,
   "id": "2136b85d",
   "metadata": {},
   "outputs": [],
   "source": [
    "img[0].click()"
   ]
  },
  {
   "cell_type": "code",
   "execution_count": 159,
   "id": "474745f1",
   "metadata": {},
   "outputs": [],
   "source": [
    "item = driver.find_element(By.CLASS_NAME, \"itemtit\") #상품명"
   ]
  },
  {
   "cell_type": "code",
   "execution_count": 160,
   "id": "d7215cf6",
   "metadata": {
    "scrolled": true
   },
   "outputs": [],
   "source": [
    "price = driver.find_element(By.CLASS_NAME, \"price_real\") #상품가격정보"
   ]
  },
  {
   "cell_type": "code",
   "execution_count": 161,
   "id": "dbb6ad9d",
   "metadata": {},
   "outputs": [],
   "source": [
    "driver.back()"
   ]
  },
  {
   "cell_type": "code",
   "execution_count": 162,
   "id": "baeaa829",
   "metadata": {},
   "outputs": [
    {
     "ename": "WebDriverException",
     "evalue": "Message: unknown error: cannot determine loading status\nfrom unknown error: unexpected command response\n  (Session info: chrome=103.0.5060.114)\nStacktrace:\nBacktrace:\n\tOrdinal0 [0x01096463+2188387]\n\tOrdinal0 [0x0102E461+1762401]\n\tOrdinal0 [0x00F43D78+802168]\n\tOrdinal0 [0x00F37210+750096]\n\tOrdinal0 [0x00F3675A+747354]\n\tOrdinal0 [0x00F35D3F+744767]\n\tOrdinal0 [0x00F34C28+740392]\n\tOrdinal0 [0x00F35228+741928]\n\tOrdinal0 [0x00F3EF2F+782127]\n\tOrdinal0 [0x00F49FBB+827323]\n\tOrdinal0 [0x00F4D310+840464]\n\tOrdinal0 [0x00F354F6+742646]\n\tOrdinal0 [0x00F49BF3+826355]\n\tOrdinal0 [0x00F9CF6D+1167213]\n\tOrdinal0 [0x00F8C5F6+1099254]\n\tOrdinal0 [0x00F66BE0+945120]\n\tOrdinal0 [0x00F67AD6+948950]\n\tGetHandleVerifier [0x013371F2+2712546]\n\tGetHandleVerifier [0x0132886D+2652765]\n\tGetHandleVerifier [0x0112002A+520730]\n\tGetHandleVerifier [0x0111EE06+516086]\n\tOrdinal0 [0x0103468B+1787531]\n\tOrdinal0 [0x01038E88+1805960]\n\tOrdinal0 [0x01038F75+1806197]\n\tOrdinal0 [0x01041DF1+1842673]\n\tBaseThreadInitThunk [0x7619FA29+25]\n\tRtlGetAppContainerNamedObjectPath [0x76FA7A7E+286]\n\tRtlGetAppContainerNamedObjectPath [0x76FA7A4E+238]\n",
     "output_type": "error",
     "traceback": [
      "\u001b[1;31m---------------------------------------------------------------------------\u001b[0m",
      "\u001b[1;31mWebDriverException\u001b[0m                        Traceback (most recent call last)",
      "Input \u001b[1;32mIn [162]\u001b[0m, in \u001b[0;36m<cell line: 3>\u001b[1;34m()\u001b[0m\n\u001b[0;32m      3\u001b[0m \u001b[38;5;28;01mfor\u001b[39;00m i \u001b[38;5;129;01min\u001b[39;00m \u001b[38;5;28mrange\u001b[39m(\u001b[38;5;28mlen\u001b[39m(img)):\n\u001b[0;32m      4\u001b[0m     img \u001b[38;5;241m=\u001b[39m driver\u001b[38;5;241m.\u001b[39mfind_elements(By\u001b[38;5;241m.\u001b[39mCLASS_NAME, \u001b[38;5;124m\"\u001b[39m\u001b[38;5;124mlazy\u001b[39m\u001b[38;5;124m\"\u001b[39m)\n\u001b[1;32m----> 5\u001b[0m     \u001b[43mimg\u001b[49m\u001b[43m[\u001b[49m\u001b[43mi\u001b[49m\u001b[43m]\u001b[49m\u001b[38;5;241;43m.\u001b[39;49m\u001b[43mclick\u001b[49m\u001b[43m(\u001b[49m\u001b[43m)\u001b[49m\n\u001b[0;32m      6\u001b[0m     time\u001b[38;5;241m.\u001b[39msleep(\u001b[38;5;241m3\u001b[39m)  \u001b[38;5;66;03m# 잠깐 멈추는 용도\u001b[39;00m\n\u001b[0;32m      7\u001b[0m     item \u001b[38;5;241m=\u001b[39m driver\u001b[38;5;241m.\u001b[39mfind_element(By\u001b[38;5;241m.\u001b[39mCLASS_NAME, \u001b[38;5;124m\"\u001b[39m\u001b[38;5;124mitemtit\u001b[39m\u001b[38;5;124m\"\u001b[39m)\n",
      "File \u001b[1;32m~\\Anaconda3\\lib\\site-packages\\selenium\\webdriver\\remote\\webelement.py:88\u001b[0m, in \u001b[0;36mWebElement.click\u001b[1;34m(self)\u001b[0m\n\u001b[0;32m     86\u001b[0m \u001b[38;5;28;01mdef\u001b[39;00m \u001b[38;5;21mclick\u001b[39m(\u001b[38;5;28mself\u001b[39m) \u001b[38;5;241m-\u001b[39m\u001b[38;5;241m>\u001b[39m \u001b[38;5;28;01mNone\u001b[39;00m:\n\u001b[0;32m     87\u001b[0m     \u001b[38;5;124;03m\"\"\"Clicks the element.\"\"\"\u001b[39;00m\n\u001b[1;32m---> 88\u001b[0m     \u001b[38;5;28;43mself\u001b[39;49m\u001b[38;5;241;43m.\u001b[39;49m\u001b[43m_execute\u001b[49m\u001b[43m(\u001b[49m\u001b[43mCommand\u001b[49m\u001b[38;5;241;43m.\u001b[39;49m\u001b[43mCLICK_ELEMENT\u001b[49m\u001b[43m)\u001b[49m\n",
      "File \u001b[1;32m~\\Anaconda3\\lib\\site-packages\\selenium\\webdriver\\remote\\webelement.py:396\u001b[0m, in \u001b[0;36mWebElement._execute\u001b[1;34m(self, command, params)\u001b[0m\n\u001b[0;32m    394\u001b[0m     params \u001b[38;5;241m=\u001b[39m {}\n\u001b[0;32m    395\u001b[0m params[\u001b[38;5;124m'\u001b[39m\u001b[38;5;124mid\u001b[39m\u001b[38;5;124m'\u001b[39m] \u001b[38;5;241m=\u001b[39m \u001b[38;5;28mself\u001b[39m\u001b[38;5;241m.\u001b[39m_id\n\u001b[1;32m--> 396\u001b[0m \u001b[38;5;28;01mreturn\u001b[39;00m \u001b[38;5;28;43mself\u001b[39;49m\u001b[38;5;241;43m.\u001b[39;49m\u001b[43m_parent\u001b[49m\u001b[38;5;241;43m.\u001b[39;49m\u001b[43mexecute\u001b[49m\u001b[43m(\u001b[49m\u001b[43mcommand\u001b[49m\u001b[43m,\u001b[49m\u001b[43m \u001b[49m\u001b[43mparams\u001b[49m\u001b[43m)\u001b[49m\n",
      "File \u001b[1;32m~\\Anaconda3\\lib\\site-packages\\selenium\\webdriver\\remote\\webdriver.py:435\u001b[0m, in \u001b[0;36mWebDriver.execute\u001b[1;34m(self, driver_command, params)\u001b[0m\n\u001b[0;32m    433\u001b[0m response \u001b[38;5;241m=\u001b[39m \u001b[38;5;28mself\u001b[39m\u001b[38;5;241m.\u001b[39mcommand_executor\u001b[38;5;241m.\u001b[39mexecute(driver_command, params)\n\u001b[0;32m    434\u001b[0m \u001b[38;5;28;01mif\u001b[39;00m response:\n\u001b[1;32m--> 435\u001b[0m     \u001b[38;5;28;43mself\u001b[39;49m\u001b[38;5;241;43m.\u001b[39;49m\u001b[43merror_handler\u001b[49m\u001b[38;5;241;43m.\u001b[39;49m\u001b[43mcheck_response\u001b[49m\u001b[43m(\u001b[49m\u001b[43mresponse\u001b[49m\u001b[43m)\u001b[49m\n\u001b[0;32m    436\u001b[0m     response[\u001b[38;5;124m'\u001b[39m\u001b[38;5;124mvalue\u001b[39m\u001b[38;5;124m'\u001b[39m] \u001b[38;5;241m=\u001b[39m \u001b[38;5;28mself\u001b[39m\u001b[38;5;241m.\u001b[39m_unwrap_value(\n\u001b[0;32m    437\u001b[0m         response\u001b[38;5;241m.\u001b[39mget(\u001b[38;5;124m'\u001b[39m\u001b[38;5;124mvalue\u001b[39m\u001b[38;5;124m'\u001b[39m, \u001b[38;5;28;01mNone\u001b[39;00m))\n\u001b[0;32m    438\u001b[0m     \u001b[38;5;28;01mreturn\u001b[39;00m response\n",
      "File \u001b[1;32m~\\Anaconda3\\lib\\site-packages\\selenium\\webdriver\\remote\\errorhandler.py:247\u001b[0m, in \u001b[0;36mErrorHandler.check_response\u001b[1;34m(self, response)\u001b[0m\n\u001b[0;32m    245\u001b[0m         alert_text \u001b[38;5;241m=\u001b[39m value[\u001b[38;5;124m'\u001b[39m\u001b[38;5;124malert\u001b[39m\u001b[38;5;124m'\u001b[39m]\u001b[38;5;241m.\u001b[39mget(\u001b[38;5;124m'\u001b[39m\u001b[38;5;124mtext\u001b[39m\u001b[38;5;124m'\u001b[39m)\n\u001b[0;32m    246\u001b[0m     \u001b[38;5;28;01mraise\u001b[39;00m exception_class(message, screen, stacktrace, alert_text)  \u001b[38;5;66;03m# type: ignore[call-arg]  # mypy is not smart enough here\u001b[39;00m\n\u001b[1;32m--> 247\u001b[0m \u001b[38;5;28;01mraise\u001b[39;00m exception_class(message, screen, stacktrace)\n",
      "\u001b[1;31mWebDriverException\u001b[0m: Message: unknown error: cannot determine loading status\nfrom unknown error: unexpected command response\n  (Session info: chrome=103.0.5060.114)\nStacktrace:\nBacktrace:\n\tOrdinal0 [0x01096463+2188387]\n\tOrdinal0 [0x0102E461+1762401]\n\tOrdinal0 [0x00F43D78+802168]\n\tOrdinal0 [0x00F37210+750096]\n\tOrdinal0 [0x00F3675A+747354]\n\tOrdinal0 [0x00F35D3F+744767]\n\tOrdinal0 [0x00F34C28+740392]\n\tOrdinal0 [0x00F35228+741928]\n\tOrdinal0 [0x00F3EF2F+782127]\n\tOrdinal0 [0x00F49FBB+827323]\n\tOrdinal0 [0x00F4D310+840464]\n\tOrdinal0 [0x00F354F6+742646]\n\tOrdinal0 [0x00F49BF3+826355]\n\tOrdinal0 [0x00F9CF6D+1167213]\n\tOrdinal0 [0x00F8C5F6+1099254]\n\tOrdinal0 [0x00F66BE0+945120]\n\tOrdinal0 [0x00F67AD6+948950]\n\tGetHandleVerifier [0x013371F2+2712546]\n\tGetHandleVerifier [0x0132886D+2652765]\n\tGetHandleVerifier [0x0112002A+520730]\n\tGetHandleVerifier [0x0111EE06+516086]\n\tOrdinal0 [0x0103468B+1787531]\n\tOrdinal0 [0x01038E88+1805960]\n\tOrdinal0 [0x01038F75+1806197]\n\tOrdinal0 [0x01041DF1+1842673]\n\tBaseThreadInitThunk [0x7619FA29+25]\n\tRtlGetAppContainerNamedObjectPath [0x76FA7A7E+286]\n\tRtlGetAppContainerNamedObjectPath [0x76FA7A4E+238]\n"
     ]
    }
   ],
   "source": [
    "itemName = []\n",
    "itemPrice = []\n",
    "for i in range(len(img)):\n",
    "    img = driver.find_elements(By.CLASS_NAME, \"lazy\")\n",
    "    img[i].click()\n",
    "    # 중간중간 코드에 쉬는 시간을 부여\n",
    "    # 서버에게 부담을 주지 않기 위해서\n",
    "    # 화면에 전환이 있었을 때 (클라이언트와 서버가 통신할 때)\n",
    "    time.sleep(3)  # 잠깐 멈추는 용도\n",
    "    drive.implicitly_wait(10) \n",
    "    # 타임슬립과 유사한 용도 둘다 괄호안의 초 만큼 멈추는 것은 같다\n",
    "    # 하지만 implicitlt는 최대 10초라는 의미이고 .html파일을 다 받아오면 그 중간에 멈추고 뒤 코드 진행한다.\n",
    "    # 런데 웹페이지가 html 만으로 이루어져있지 않고 자바스크립트 같은 것도 있다. \n",
    "    # 그래서 html이 다 받아져도 딩이 끝나지 않을 수 있다.\n",
    "\n",
    "    item = driver.find_element(By.CLASS_NAME, \"itemtit\")\n",
    "    itemName.append(item.text)\n",
    "    price = driver.find_element(By.CLASS_NAME, \"price_real\")\n",
    "    itemPrice.append(price.text)\n",
    "    driver.back()\n",
    "    time.sleep(3)\n",
    "    \n",
    "    #잘 돌아가다가 중간에 뻑나는 이유? 서버 응답시간?"
   ]
  },
  {
   "cell_type": "code",
   "execution_count": 163,
   "id": "1705f25d",
   "metadata": {},
   "outputs": [
    {
     "data": {
      "text/plain": [
       "['진짜진짜 촉촉한 올리브 토너 2개 + 로션 1개/+사은품',\n",
       " '제스프리 제스프리 썬골드키위 특대과 3.2kg(23~25과 개당 130g~140g내외)+스푼3개',\n",
       " '완도 전복 쿠폰가 26340 초복 선물용 횟감용 14-16미 1KG 더큰 전복 국내산']"
      ]
     },
     "execution_count": 163,
     "metadata": {},
     "output_type": "execute_result"
    }
   ],
   "source": [
    "itemName"
   ]
  },
  {
   "cell_type": "code",
   "execution_count": 164,
   "id": "5ba30390",
   "metadata": {},
   "outputs": [
    {
     "data": {
      "text/plain": [
       "['10,500원', '27,740원', '30,000원']"
      ]
     },
     "execution_count": 164,
     "metadata": {},
     "output_type": "execute_result"
    }
   ],
   "source": [
    "itemPrice"
   ]
  },
  {
   "cell_type": "code",
   "execution_count": 165,
   "id": "44060307",
   "metadata": {},
   "outputs": [
    {
     "data": {
      "text/html": [
       "<div>\n",
       "<style scoped>\n",
       "    .dataframe tbody tr th:only-of-type {\n",
       "        vertical-align: middle;\n",
       "    }\n",
       "\n",
       "    .dataframe tbody tr th {\n",
       "        vertical-align: top;\n",
       "    }\n",
       "\n",
       "    .dataframe thead th {\n",
       "        text-align: right;\n",
       "    }\n",
       "</style>\n",
       "<table border=\"1\" class=\"dataframe\">\n",
       "  <thead>\n",
       "    <tr style=\"text-align: right;\">\n",
       "      <th></th>\n",
       "      <th>상품명</th>\n",
       "      <th>상품가격</th>\n",
       "    </tr>\n",
       "  </thead>\n",
       "  <tbody>\n",
       "    <tr>\n",
       "      <th>0</th>\n",
       "      <td>진짜진짜 촉촉한 올리브 토너 2개 + 로션 1개/+사은품</td>\n",
       "      <td>10,500원</td>\n",
       "    </tr>\n",
       "    <tr>\n",
       "      <th>1</th>\n",
       "      <td>제스프리 제스프리 썬골드키위 특대과 3.2kg(23~25과 개당 130g~140g내...</td>\n",
       "      <td>27,740원</td>\n",
       "    </tr>\n",
       "    <tr>\n",
       "      <th>2</th>\n",
       "      <td>완도 전복 쿠폰가 26340 초복 선물용 횟감용 14-16미 1KG 더큰 전복 국내산</td>\n",
       "      <td>30,000원</td>\n",
       "    </tr>\n",
       "  </tbody>\n",
       "</table>\n",
       "</div>"
      ],
      "text/plain": [
       "                                                 상품명     상품가격\n",
       "0                    진짜진짜 촉촉한 올리브 토너 2개 + 로션 1개/+사은품  10,500원\n",
       "1  제스프리 제스프리 썬골드키위 특대과 3.2kg(23~25과 개당 130g~140g내...  27,740원\n",
       "2    완도 전복 쿠폰가 26340 초복 선물용 횟감용 14-16미 1KG 더큰 전복 국내산  30,000원"
      ]
     },
     "execution_count": 165,
     "metadata": {},
     "output_type": "execute_result"
    }
   ],
   "source": [
    "dic = {\"상품명\":itemName, \"상품가격\":itemPrice}\n",
    "import pandas as pd\n",
    "pd.DataFrame(dic)"
   ]
  },
  {
   "cell_type": "code",
   "execution_count": null,
   "id": "74c4587f",
   "metadata": {},
   "outputs": [],
   "source": []
  },
  {
   "cell_type": "code",
   "execution_count": null,
   "id": "85acfb8d",
   "metadata": {},
   "outputs": [],
   "source": []
  },
  {
   "cell_type": "code",
   "execution_count": null,
   "id": "792fa92e",
   "metadata": {},
   "outputs": [],
   "source": []
  },
  {
   "cell_type": "code",
   "execution_count": null,
   "id": "34d1f1ed",
   "metadata": {},
   "outputs": [],
   "source": []
  },
  {
   "cell_type": "code",
   "execution_count": null,
   "id": "062df237",
   "metadata": {},
   "outputs": [],
   "source": []
  },
  {
   "cell_type": "code",
   "execution_count": null,
   "id": "12ca3c0d",
   "metadata": {},
   "outputs": [],
   "source": []
  },
  {
   "cell_type": "code",
   "execution_count": null,
   "id": "7ec47a85",
   "metadata": {},
   "outputs": [],
   "source": []
  },
  {
   "cell_type": "code",
   "execution_count": null,
   "id": "b105f24e",
   "metadata": {},
   "outputs": [],
   "source": []
  },
  {
   "cell_type": "code",
   "execution_count": null,
   "id": "43efea09",
   "metadata": {},
   "outputs": [],
   "source": []
  },
  {
   "cell_type": "code",
   "execution_count": null,
   "id": "2c3f3702",
   "metadata": {},
   "outputs": [],
   "source": []
  },
  {
   "cell_type": "code",
   "execution_count": null,
   "id": "34c8d86c",
   "metadata": {},
   "outputs": [],
   "source": []
  },
  {
   "cell_type": "code",
   "execution_count": null,
   "id": "fc3ce1ea",
   "metadata": {},
   "outputs": [],
   "source": []
  },
  {
   "cell_type": "code",
   "execution_count": null,
   "id": "4f633990",
   "metadata": {},
   "outputs": [],
   "source": []
  },
  {
   "cell_type": "code",
   "execution_count": null,
   "id": "5defb287",
   "metadata": {},
   "outputs": [],
   "source": []
  },
  {
   "cell_type": "code",
   "execution_count": null,
   "id": "d8994a55",
   "metadata": {},
   "outputs": [],
   "source": []
  },
  {
   "cell_type": "code",
   "execution_count": null,
   "id": "d7a13c05",
   "metadata": {},
   "outputs": [],
   "source": []
  },
  {
   "cell_type": "code",
   "execution_count": null,
   "id": "763be9ca",
   "metadata": {},
   "outputs": [],
   "source": []
  },
  {
   "cell_type": "code",
   "execution_count": null,
   "id": "b96f9fb0",
   "metadata": {},
   "outputs": [],
   "source": []
  },
  {
   "cell_type": "code",
   "execution_count": null,
   "id": "39501158",
   "metadata": {},
   "outputs": [],
   "source": []
  },
  {
   "cell_type": "code",
   "execution_count": null,
   "id": "2d002bb6",
   "metadata": {},
   "outputs": [],
   "source": []
  },
  {
   "cell_type": "code",
   "execution_count": null,
   "id": "bc5e6ac8",
   "metadata": {},
   "outputs": [],
   "source": []
  },
  {
   "cell_type": "code",
   "execution_count": null,
   "id": "203a0ca5",
   "metadata": {},
   "outputs": [],
   "source": []
  },
  {
   "cell_type": "code",
   "execution_count": null,
   "id": "7152e62c",
   "metadata": {},
   "outputs": [],
   "source": []
  },
  {
   "cell_type": "code",
   "execution_count": null,
   "id": "d3540dde",
   "metadata": {},
   "outputs": [],
   "source": []
  }
 ],
 "metadata": {
  "kernelspec": {
   "display_name": "Python 3 (ipykernel)",
   "language": "python",
   "name": "python3"
  },
  "language_info": {
   "codemirror_mode": {
    "name": "ipython",
    "version": 3
   },
   "file_extension": ".py",
   "mimetype": "text/x-python",
   "name": "python",
   "nbconvert_exporter": "python",
   "pygments_lexer": "ipython3",
   "version": "3.9.12"
  },
  "toc": {
   "base_numbering": 1,
   "nav_menu": {},
   "number_sections": true,
   "sideBar": true,
   "skip_h1_title": false,
   "title_cell": "Table of Contents",
   "title_sidebar": "Contents",
   "toc_cell": false,
   "toc_position": {},
   "toc_section_display": true,
   "toc_window_display": false
  }
 },
 "nbformat": 4,
 "nbformat_minor": 5
}
