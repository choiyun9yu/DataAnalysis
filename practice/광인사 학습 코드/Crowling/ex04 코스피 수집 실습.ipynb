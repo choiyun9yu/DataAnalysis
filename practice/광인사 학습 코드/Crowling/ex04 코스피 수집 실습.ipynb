{
 "cells": [
  {
   "cell_type": "markdown",
   "id": "53217a48",
   "metadata": {},
   "source": [
    "# 종목명, 현재가격, 거래량\n",
    "## 데이터프레임 제작, csv저장"
   ]
  },
  {
   "cell_type": "code",
   "execution_count": 3,
   "id": "94077ee5",
   "metadata": {},
   "outputs": [],
   "source": [
    "import pandas as pd\n",
    "import requests as req\n",
    "from bs4 import BeautifulSoup as bs"
   ]
  },
  {
   "cell_type": "code",
   "execution_count": 5,
   "id": "f35f68b3",
   "metadata": {},
   "outputs": [],
   "source": [
    "res = req.get(\"https://finance.naver.com/sise/sise_quant.naver\")"
   ]
  },
  {
   "cell_type": "code",
   "execution_count": 11,
   "id": "1bcb382f",
   "metadata": {},
   "outputs": [],
   "source": [
    "soup = bs(res.text, \"lxml\")"
   ]
  },
  {
   "cell_type": "code",
   "execution_count": 12,
   "id": "75ecad00",
   "metadata": {},
   "outputs": [],
   "source": [
    "title = soup.select(\"a.tltle\")"
   ]
  },
  {
   "cell_type": "code",
   "execution_count": 15,
   "id": "32ab4dbf",
   "metadata": {},
   "outputs": [],
   "source": [
    "titleName = []\n",
    "\n",
    "for i in range(len(title)):\n",
    "    titleName.append(title[i].text)"
   ]
  },
  {
   "cell_type": "code",
   "execution_count": 55,
   "id": "b75b7996",
   "metadata": {},
   "outputs": [],
   "source": [
    "price = soup.select(\"table.type_2>tr>td.number:nth-child(3)\")   # 눈에 보이기엔 첫번째인데 3번째 자식임ㅈㅈㅈ\n",
    "price\n",
    "\n",
    "priceList = []\n",
    "for i in range(len(price)):\n",
    "    priceList.append(price[i].text)"
   ]
  },
  {
   "cell_type": "code",
   "execution_count": 56,
   "id": "3ed26bed",
   "metadata": {},
   "outputs": [],
   "source": [
    "tradeAmount = soup.select(\"table.type_2>tr>td.number:nth-child(6)\")\n",
    "tradeAmount\n",
    "\n",
    "taList = []\n",
    "for i in range(len(tradeAmount)):\n",
    "    taList.append(tradeAmount[i].text)"
   ]
  },
  {
   "cell_type": "code",
   "execution_count": 57,
   "id": "2b5b1577",
   "metadata": {},
   "outputs": [],
   "source": [
    "dic = {\"종목명\":titleName, \"가격정보\":priceList, \"거래량\":taList}"
   ]
  },
  {
   "cell_type": "code",
   "execution_count": 60,
   "id": "38ac4845",
   "metadata": {},
   "outputs": [],
   "source": [
    "stock = pd.DataFrame(dic)"
   ]
  },
  {
   "cell_type": "code",
   "execution_count": 61,
   "id": "c47bed3e",
   "metadata": {},
   "outputs": [],
   "source": [
    "stock.to_csv(\"주식 정보.csv\", encoding=\"euc-kr\")"
   ]
  },
  {
   "cell_type": "code",
   "execution_count": null,
   "id": "fcc773e4",
   "metadata": {},
   "outputs": [],
   "source": []
  },
  {
   "cell_type": "code",
   "execution_count": null,
   "id": "d2c6c2ce",
   "metadata": {},
   "outputs": [],
   "source": []
  },
  {
   "cell_type": "code",
   "execution_count": null,
   "id": "35e68d06",
   "metadata": {},
   "outputs": [],
   "source": []
  },
  {
   "cell_type": "code",
   "execution_count": null,
   "id": "3e1eeacb",
   "metadata": {},
   "outputs": [],
   "source": []
  },
  {
   "cell_type": "code",
   "execution_count": null,
   "id": "c5a4d787",
   "metadata": {},
   "outputs": [],
   "source": []
  },
  {
   "cell_type": "code",
   "execution_count": null,
   "id": "3c9e66f5",
   "metadata": {},
   "outputs": [],
   "source": []
  },
  {
   "cell_type": "code",
   "execution_count": null,
   "id": "ea92fba5",
   "metadata": {},
   "outputs": [],
   "source": []
  },
  {
   "cell_type": "code",
   "execution_count": null,
   "id": "8650abc4",
   "metadata": {},
   "outputs": [],
   "source": []
  },
  {
   "cell_type": "code",
   "execution_count": null,
   "id": "2f9ab9c1",
   "metadata": {},
   "outputs": [],
   "source": []
  },
  {
   "cell_type": "code",
   "execution_count": null,
   "id": "0a687c2e",
   "metadata": {},
   "outputs": [],
   "source": []
  },
  {
   "cell_type": "code",
   "execution_count": null,
   "id": "8dbe302c",
   "metadata": {},
   "outputs": [],
   "source": []
  },
  {
   "cell_type": "code",
   "execution_count": null,
   "id": "9b6dea3b",
   "metadata": {},
   "outputs": [],
   "source": []
  },
  {
   "cell_type": "code",
   "execution_count": null,
   "id": "2a3df1b2",
   "metadata": {},
   "outputs": [],
   "source": []
  },
  {
   "cell_type": "code",
   "execution_count": null,
   "id": "3c7376f5",
   "metadata": {},
   "outputs": [],
   "source": []
  },
  {
   "cell_type": "code",
   "execution_count": null,
   "id": "2b5d5534",
   "metadata": {},
   "outputs": [],
   "source": []
  },
  {
   "cell_type": "code",
   "execution_count": null,
   "id": "50ea2413",
   "metadata": {},
   "outputs": [],
   "source": []
  }
 ],
 "metadata": {
  "kernelspec": {
   "display_name": "Python 3 (ipykernel)",
   "language": "python",
   "name": "python3"
  },
  "language_info": {
   "codemirror_mode": {
    "name": "ipython",
    "version": 3
   },
   "file_extension": ".py",
   "mimetype": "text/x-python",
   "name": "python",
   "nbconvert_exporter": "python",
   "pygments_lexer": "ipython3",
   "version": "3.9.12"
  },
  "toc": {
   "base_numbering": 1,
   "nav_menu": {},
   "number_sections": true,
   "sideBar": true,
   "skip_h1_title": false,
   "title_cell": "Table of Contents",
   "title_sidebar": "Contents",
   "toc_cell": false,
   "toc_position": {},
   "toc_section_display": true,
   "toc_window_display": true
  }
 },
 "nbformat": 4,
 "nbformat_minor": 5
}
