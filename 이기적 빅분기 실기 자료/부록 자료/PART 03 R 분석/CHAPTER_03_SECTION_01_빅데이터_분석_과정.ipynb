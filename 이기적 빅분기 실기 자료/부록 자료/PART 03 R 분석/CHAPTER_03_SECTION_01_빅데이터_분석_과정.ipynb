{
  "nbformat": 4,
  "nbformat_minor": 0,
  "metadata": {
    "colab": {
      "name": "CHAPTER 03-SECTION 01 빅데이터 분석 과정.ipynb",
      "provenance": []
    },
    "kernelspec": {
      "name": "ir",
      "display_name": "R"
    },
    "language_info": {
      "name": "R"
    }
  },
  "cells": [
    {
      "cell_type": "markdown",
      "source": [
        "PART 03 R 분석\n",
        "\n",
        "> CHAPTER 03 제2유형: 데이터 분석\n",
        "> >SECTION 01 빅데이터 분석 과정\n",
        "> > >**01 빅데이터 분석 과정 이해**"
      ],
      "metadata": {
        "id": "5a909xmKhqx9"
      }
    },
    {
      "cell_type": "code",
      "execution_count": 11,
      "metadata": {
        "colab": {
          "base_uri": "https://localhost:8080/"
        },
        "id": "aL2XSy0ThSHx",
        "outputId": "f8ee29d2-6534-4fab-d762-f38ab83e816b"
      },
      "outputs": [
        {
          "output_type": "stream",
          "name": "stderr",
          "text": [
            "\n",
            "Attaching package: ‘dplyr’\n",
            "\n",
            "\n",
            "The following objects are masked from ‘package:stats’:\n",
            "\n",
            "    filter, lag\n",
            "\n",
            "\n",
            "The following objects are masked from ‘package:base’:\n",
            "\n",
            "    intersect, setdiff, setequal, union\n",
            "\n",
            "\n"
          ]
        }
      ],
      "source": [
        "library(dplyr)      # dplyr 패키지 임포트\n",
        "library(ggplot2)    # ggplot2 패키지 임포트\n",
        "\n",
        "# 의사결정나무 분류모델을 위한 패키지 임포트\n",
        "library(rpart)      # rpart() 함수 포함 패키지"
      ]
    },
    {
      "cell_type": "code",
      "source": [
        "# 깃허브에 있는 csv 파일을 읽어와서 데이터프레임 df로 넣는다.\n",
        "df <- read.csv(\"https://raw.githubusercontent.com/mwaskom/seaborn-data/master/iris.csv\")"
      ],
      "metadata": {
        "id": "miAcBv2fh09e"
      },
      "execution_count": 12,
      "outputs": []
    },
    {
      "cell_type": "code",
      "source": [
        "head(df, 5)      # 데이터프레임 상위 5개 레코드 출력"
      ],
      "metadata": {
        "colab": {
          "base_uri": "https://localhost:8080/",
          "height": 255
        },
        "id": "VCKbDoJCh5LL",
        "outputId": "b8fb0ed8-3271-4e81-d38e-01157b686a2b"
      },
      "execution_count": 13,
      "outputs": [
        {
          "output_type": "display_data",
          "data": {
            "text/html": [
              "<table class=\"dataframe\">\n",
              "<caption>A data.frame: 5 × 5</caption>\n",
              "<thead>\n",
              "\t<tr><th></th><th scope=col>sepal_length</th><th scope=col>sepal_width</th><th scope=col>petal_length</th><th scope=col>petal_width</th><th scope=col>species</th></tr>\n",
              "\t<tr><th></th><th scope=col>&lt;dbl&gt;</th><th scope=col>&lt;dbl&gt;</th><th scope=col>&lt;dbl&gt;</th><th scope=col>&lt;dbl&gt;</th><th scope=col>&lt;chr&gt;</th></tr>\n",
              "</thead>\n",
              "<tbody>\n",
              "\t<tr><th scope=row>1</th><td>5.1</td><td>3.5</td><td>1.4</td><td>0.2</td><td>setosa</td></tr>\n",
              "\t<tr><th scope=row>2</th><td>4.9</td><td>3.0</td><td>1.4</td><td>0.2</td><td>setosa</td></tr>\n",
              "\t<tr><th scope=row>3</th><td>4.7</td><td>3.2</td><td>1.3</td><td>0.2</td><td>setosa</td></tr>\n",
              "\t<tr><th scope=row>4</th><td>4.6</td><td>3.1</td><td>1.5</td><td>0.2</td><td>setosa</td></tr>\n",
              "\t<tr><th scope=row>5</th><td>5.0</td><td>3.6</td><td>1.4</td><td>0.2</td><td>setosa</td></tr>\n",
              "</tbody>\n",
              "</table>\n"
            ],
            "text/markdown": "\nA data.frame: 5 × 5\n\n| <!--/--> | sepal_length &lt;dbl&gt; | sepal_width &lt;dbl&gt; | petal_length &lt;dbl&gt; | petal_width &lt;dbl&gt; | species &lt;chr&gt; |\n|---|---|---|---|---|---|\n| 1 | 5.1 | 3.5 | 1.4 | 0.2 | setosa |\n| 2 | 4.9 | 3.0 | 1.4 | 0.2 | setosa |\n| 3 | 4.7 | 3.2 | 1.3 | 0.2 | setosa |\n| 4 | 4.6 | 3.1 | 1.5 | 0.2 | setosa |\n| 5 | 5.0 | 3.6 | 1.4 | 0.2 | setosa |\n\n",
            "text/latex": "A data.frame: 5 × 5\n\\begin{tabular}{r|lllll}\n  & sepal\\_length & sepal\\_width & petal\\_length & petal\\_width & species\\\\\n  & <dbl> & <dbl> & <dbl> & <dbl> & <chr>\\\\\n\\hline\n\t1 & 5.1 & 3.5 & 1.4 & 0.2 & setosa\\\\\n\t2 & 4.9 & 3.0 & 1.4 & 0.2 & setosa\\\\\n\t3 & 4.7 & 3.2 & 1.3 & 0.2 & setosa\\\\\n\t4 & 4.6 & 3.1 & 1.5 & 0.2 & setosa\\\\\n\t5 & 5.0 & 3.6 & 1.4 & 0.2 & setosa\\\\\n\\end{tabular}\n",
            "text/plain": [
              "  sepal_length sepal_width petal_length petal_width species\n",
              "1 5.1          3.5         1.4          0.2         setosa \n",
              "2 4.9          3.0         1.4          0.2         setosa \n",
              "3 4.7          3.2         1.3          0.2         setosa \n",
              "4 4.6          3.1         1.5          0.2         setosa \n",
              "5 5.0          3.6         1.4          0.2         setosa "
            ]
          },
          "metadata": {}
        }
      ]
    },
    {
      "cell_type": "code",
      "source": [
        "str(df)        # 데이터프레임의 구조정보 출력"
      ],
      "metadata": {
        "colab": {
          "base_uri": "https://localhost:8080/"
        },
        "id": "4Y6-07bMh88c",
        "outputId": "be2eab9f-e456-48be-ab50-337a15e0e0c2"
      },
      "execution_count": 14,
      "outputs": [
        {
          "output_type": "stream",
          "name": "stdout",
          "text": [
            "'data.frame':\t150 obs. of  5 variables:\n",
            " $ sepal_length: num  5.1 4.9 4.7 4.6 5 5.4 4.6 5 4.4 4.9 ...\n",
            " $ sepal_width : num  3.5 3 3.2 3.1 3.6 3.9 3.4 3.4 2.9 3.1 ...\n",
            " $ petal_length: num  1.4 1.4 1.3 1.5 1.4 1.7 1.4 1.5 1.4 1.5 ...\n",
            " $ petal_width : num  0.2 0.2 0.2 0.2 0.2 0.4 0.3 0.2 0.2 0.1 ...\n",
            " $ species     : chr  \"setosa\" \"setosa\" \"setosa\" \"setosa\" ...\n"
          ]
        }
      ]
    },
    {
      "cell_type": "code",
      "source": [
        "summary(df)      # 데이터프레임의 기술통계 보여주기"
      ],
      "metadata": {
        "colab": {
          "base_uri": "https://localhost:8080/",
          "height": 274
        },
        "id": "Q-YIme7Mh_Oa",
        "outputId": "e041ef88-b506-40f3-e591-38e0a87e8131"
      },
      "execution_count": 15,
      "outputs": [
        {
          "output_type": "display_data",
          "data": {
            "text/plain": [
              "  sepal_length    sepal_width     petal_length    petal_width   \n",
              " Min.   :4.300   Min.   :2.000   Min.   :1.000   Min.   :0.100  \n",
              " 1st Qu.:5.100   1st Qu.:2.800   1st Qu.:1.600   1st Qu.:0.300  \n",
              " Median :5.800   Median :3.000   Median :4.350   Median :1.300  \n",
              " Mean   :5.843   Mean   :3.057   Mean   :3.758   Mean   :1.199  \n",
              " 3rd Qu.:6.400   3rd Qu.:3.300   3rd Qu.:5.100   3rd Qu.:1.800  \n",
              " Max.   :7.900   Max.   :4.400   Max.   :6.900   Max.   :2.500  \n",
              "   species         \n",
              " Length:150        \n",
              " Class :character  \n",
              " Mode  :character  \n",
              "                   \n",
              "                   \n",
              "                   "
            ]
          },
          "metadata": {}
        }
      ]
    },
    {
      "cell_type": "code",
      "source": [
        "# species 컬럼은 레이블 인코딩을 수행\n",
        "# 'setosa':1, 'versicolor':2, 'virginica':3\n",
        "df$species <- as.numeric(factor(df$species), level=c(\"setosa\",\"versicolor\",\"virginica\"))\n",
        "df$species"
      ],
      "metadata": {
        "colab": {
          "base_uri": "https://localhost:8080/",
          "height": 52
        },
        "id": "cFGZ0VsNiA6Z",
        "outputId": "4a059c05-34e8-4b3b-8903-6fc2a732304e"
      },
      "execution_count": 16,
      "outputs": [
        {
          "output_type": "display_data",
          "data": {
            "text/html": [
              "<style>\n",
              ".list-inline {list-style: none; margin:0; padding: 0}\n",
              ".list-inline>li {display: inline-block}\n",
              ".list-inline>li:not(:last-child)::after {content: \"\\00b7\"; padding: 0 .5ex}\n",
              "</style>\n",
              "<ol class=list-inline><li>1</li><li>1</li><li>1</li><li>1</li><li>1</li><li>1</li><li>1</li><li>1</li><li>1</li><li>1</li><li>1</li><li>1</li><li>1</li><li>1</li><li>1</li><li>1</li><li>1</li><li>1</li><li>1</li><li>1</li><li>1</li><li>1</li><li>1</li><li>1</li><li>1</li><li>1</li><li>1</li><li>1</li><li>1</li><li>1</li><li>1</li><li>1</li><li>1</li><li>1</li><li>1</li><li>1</li><li>1</li><li>1</li><li>1</li><li>1</li><li>1</li><li>1</li><li>1</li><li>1</li><li>1</li><li>1</li><li>1</li><li>1</li><li>1</li><li>1</li><li>2</li><li>2</li><li>2</li><li>2</li><li>2</li><li>2</li><li>2</li><li>2</li><li>2</li><li>2</li><li>2</li><li>2</li><li>2</li><li>2</li><li>2</li><li>2</li><li>2</li><li>2</li><li>2</li><li>2</li><li>2</li><li>2</li><li>2</li><li>2</li><li>2</li><li>2</li><li>2</li><li>2</li><li>2</li><li>2</li><li>2</li><li>2</li><li>2</li><li>2</li><li>2</li><li>2</li><li>2</li><li>2</li><li>2</li><li>2</li><li>2</li><li>2</li><li>2</li><li>2</li><li>2</li><li>2</li><li>2</li><li>2</li><li>2</li><li>2</li><li>3</li><li>3</li><li>3</li><li>3</li><li>3</li><li>3</li><li>3</li><li>3</li><li>3</li><li>3</li><li>3</li><li>3</li><li>3</li><li>3</li><li>3</li><li>3</li><li>3</li><li>3</li><li>3</li><li>3</li><li>3</li><li>3</li><li>3</li><li>3</li><li>3</li><li>3</li><li>3</li><li>3</li><li>3</li><li>3</li><li>3</li><li>3</li><li>3</li><li>3</li><li>3</li><li>3</li><li>3</li><li>3</li><li>3</li><li>3</li><li>3</li><li>3</li><li>3</li><li>3</li><li>3</li><li>3</li><li>3</li><li>3</li><li>3</li><li>3</li></ol>\n"
            ],
            "text/markdown": "1. 1\n2. 1\n3. 1\n4. 1\n5. 1\n6. 1\n7. 1\n8. 1\n9. 1\n10. 1\n11. 1\n12. 1\n13. 1\n14. 1\n15. 1\n16. 1\n17. 1\n18. 1\n19. 1\n20. 1\n21. 1\n22. 1\n23. 1\n24. 1\n25. 1\n26. 1\n27. 1\n28. 1\n29. 1\n30. 1\n31. 1\n32. 1\n33. 1\n34. 1\n35. 1\n36. 1\n37. 1\n38. 1\n39. 1\n40. 1\n41. 1\n42. 1\n43. 1\n44. 1\n45. 1\n46. 1\n47. 1\n48. 1\n49. 1\n50. 1\n51. 2\n52. 2\n53. 2\n54. 2\n55. 2\n56. 2\n57. 2\n58. 2\n59. 2\n60. 2\n61. 2\n62. 2\n63. 2\n64. 2\n65. 2\n66. 2\n67. 2\n68. 2\n69. 2\n70. 2\n71. 2\n72. 2\n73. 2\n74. 2\n75. 2\n76. 2\n77. 2\n78. 2\n79. 2\n80. 2\n81. 2\n82. 2\n83. 2\n84. 2\n85. 2\n86. 2\n87. 2\n88. 2\n89. 2\n90. 2\n91. 2\n92. 2\n93. 2\n94. 2\n95. 2\n96. 2\n97. 2\n98. 2\n99. 2\n100. 2\n101. 3\n102. 3\n103. 3\n104. 3\n105. 3\n106. 3\n107. 3\n108. 3\n109. 3\n110. 3\n111. 3\n112. 3\n113. 3\n114. 3\n115. 3\n116. 3\n117. 3\n118. 3\n119. 3\n120. 3\n121. 3\n122. 3\n123. 3\n124. 3\n125. 3\n126. 3\n127. 3\n128. 3\n129. 3\n130. 3\n131. 3\n132. 3\n133. 3\n134. 3\n135. 3\n136. 3\n137. 3\n138. 3\n139. 3\n140. 3\n141. 3\n142. 3\n143. 3\n144. 3\n145. 3\n146. 3\n147. 3\n148. 3\n149. 3\n150. 3\n\n\n",
            "text/latex": "\\begin{enumerate*}\n\\item 1\n\\item 1\n\\item 1\n\\item 1\n\\item 1\n\\item 1\n\\item 1\n\\item 1\n\\item 1\n\\item 1\n\\item 1\n\\item 1\n\\item 1\n\\item 1\n\\item 1\n\\item 1\n\\item 1\n\\item 1\n\\item 1\n\\item 1\n\\item 1\n\\item 1\n\\item 1\n\\item 1\n\\item 1\n\\item 1\n\\item 1\n\\item 1\n\\item 1\n\\item 1\n\\item 1\n\\item 1\n\\item 1\n\\item 1\n\\item 1\n\\item 1\n\\item 1\n\\item 1\n\\item 1\n\\item 1\n\\item 1\n\\item 1\n\\item 1\n\\item 1\n\\item 1\n\\item 1\n\\item 1\n\\item 1\n\\item 1\n\\item 1\n\\item 2\n\\item 2\n\\item 2\n\\item 2\n\\item 2\n\\item 2\n\\item 2\n\\item 2\n\\item 2\n\\item 2\n\\item 2\n\\item 2\n\\item 2\n\\item 2\n\\item 2\n\\item 2\n\\item 2\n\\item 2\n\\item 2\n\\item 2\n\\item 2\n\\item 2\n\\item 2\n\\item 2\n\\item 2\n\\item 2\n\\item 2\n\\item 2\n\\item 2\n\\item 2\n\\item 2\n\\item 2\n\\item 2\n\\item 2\n\\item 2\n\\item 2\n\\item 2\n\\item 2\n\\item 2\n\\item 2\n\\item 2\n\\item 2\n\\item 2\n\\item 2\n\\item 2\n\\item 2\n\\item 2\n\\item 2\n\\item 2\n\\item 2\n\\item 3\n\\item 3\n\\item 3\n\\item 3\n\\item 3\n\\item 3\n\\item 3\n\\item 3\n\\item 3\n\\item 3\n\\item 3\n\\item 3\n\\item 3\n\\item 3\n\\item 3\n\\item 3\n\\item 3\n\\item 3\n\\item 3\n\\item 3\n\\item 3\n\\item 3\n\\item 3\n\\item 3\n\\item 3\n\\item 3\n\\item 3\n\\item 3\n\\item 3\n\\item 3\n\\item 3\n\\item 3\n\\item 3\n\\item 3\n\\item 3\n\\item 3\n\\item 3\n\\item 3\n\\item 3\n\\item 3\n\\item 3\n\\item 3\n\\item 3\n\\item 3\n\\item 3\n\\item 3\n\\item 3\n\\item 3\n\\item 3\n\\item 3\n\\end{enumerate*}\n",
            "text/plain": [
              "  [1] 1 1 1 1 1 1 1 1 1 1 1 1 1 1 1 1 1 1 1 1 1 1 1 1 1 1 1 1 1 1 1 1 1 1 1 1 1\n",
              " [38] 1 1 1 1 1 1 1 1 1 1 1 1 1 2 2 2 2 2 2 2 2 2 2 2 2 2 2 2 2 2 2 2 2 2 2 2 2\n",
              " [75] 2 2 2 2 2 2 2 2 2 2 2 2 2 2 2 2 2 2 2 2 2 2 2 2 2 2 3 3 3 3 3 3 3 3 3 3 3\n",
              "[112] 3 3 3 3 3 3 3 3 3 3 3 3 3 3 3 3 3 3 3 3 3 3 3 3 3 3 3 3 3 3 3 3 3 3 3 3 3\n",
              "[149] 3 3"
            ]
          },
          "metadata": {}
        }
      ]
    },
    {
      "cell_type": "code",
      "source": [
        "# 난수(random) 발생을 위한 seed 값 부여\n",
        "set.seed(123)\n",
        "\n",
        "# 전체 행의 80%에 해당하는 인덱스를 임의 선정\n",
        "idx <-sample(1:nrow(df), 0.8*nrow(df))\n",
        "\n",
        "# 인덱스에 해당하는 행을 학습 데이터로 선정\n",
        "df_train <- df[idx, ]         # 독립변수 + 종속변수\n",
        "\n",
        "# 인덱스에 해당하지 않는 행(-idx)을 테스트 데이터로 선정\n",
        "df_test <- df[-idx, ]         # 독립변수 + 종속변수"
      ],
      "metadata": {
        "id": "E2nhMiUQiLj4"
      },
      "execution_count": 17,
      "outputs": []
    },
    {
      "cell_type": "code",
      "source": [
        "print(dim(df_train))    # 학습 데이터 셋\n",
        "print(dim(df_test))     # 테스트 데이터 셋"
      ],
      "metadata": {
        "colab": {
          "base_uri": "https://localhost:8080/"
        },
        "id": "_ixKtMz5iUnU",
        "outputId": "9e2ffef4-d6f0-4e03-f006-e0d73919d86a"
      },
      "execution_count": 18,
      "outputs": [
        {
          "output_type": "stream",
          "name": "stdout",
          "text": [
            "[1] 120   5\n",
            "[1] 30  5\n"
          ]
        }
      ]
    },
    {
      "cell_type": "code",
      "source": [
        "# rpart()를 사용하여 의사결정나무 학습\n",
        "model <- rpart(species~., method = \"class\", data=df_train)"
      ],
      "metadata": {
        "id": "3wfAKLNviYw5"
      },
      "execution_count": 19,
      "outputs": []
    },
    {
      "cell_type": "code",
      "source": [
        "# 학습된 모델을 기반으로 예측 수행\n",
        "pred <- predict(model, df_test, type = \"class\")"
      ],
      "metadata": {
        "id": "ZfgJy-Bhi4vn"
      },
      "execution_count": 20,
      "outputs": []
    },
    {
      "cell_type": "code",
      "source": [
        "# 학습된 모델을 기반으로 예측 수행\n",
        "pred <- predict(model, df_test, type = \"class\")\n",
        "\n",
        "# 예측결과와 실제값을 비교\n",
        "cm <- table(df_test$species, pred)\n",
        "print(cm)\n",
        "\n",
        "# 모델평가 - 정확도\n",
        "acc <- (cm[1,1] + cm[2,2] + cm[3,3])/nrow(df_test)\n",
        "print(acc)"
      ],
      "metadata": {
        "colab": {
          "base_uri": "https://localhost:8080/"
        },
        "id": "JuqYPZbajGFA",
        "outputId": "7cf971c1-d293-44f9-b6ba-7da6bb12a7a0"
      },
      "execution_count": 21,
      "outputs": [
        {
          "output_type": "stream",
          "name": "stdout",
          "text": [
            "   pred\n",
            "     1  2  3\n",
            "  1 10  0  0\n",
            "  2  0 13  2\n",
            "  3  0  0  5\n",
            "[1] 0.9333333\n"
          ]
        }
      ]
    },
    {
      "cell_type": "markdown",
      "source": [
        ">>>**02 분석모델 성능 평가 방법**"
      ],
      "metadata": {
        "id": "mvVW1K3UkICY"
      }
    },
    {
      "cell_type": "code",
      "source": [
        "# 모델평가 – 오차행렬, caret 패키지 사용\n",
        "install.packages(\"caret\")\n",
        "library(caret)\n",
        "\n",
        "confusionMatrix(data=pred, reference=factor(df_test$species), mode=\"prec_recall\")"
      ],
      "metadata": {
        "colab": {
          "base_uri": "https://localhost:8080/",
          "height": 753
        },
        "id": "Rs95KlWAkLSV",
        "outputId": "75252a1c-5c24-47e0-abeb-ae9f1e2438f9"
      },
      "execution_count": 22,
      "outputs": [
        {
          "output_type": "stream",
          "name": "stderr",
          "text": [
            "Installing package into ‘/usr/local/lib/R/site-library’\n",
            "(as ‘lib’ is unspecified)\n",
            "\n",
            "also installing the dependencies ‘listenv’, ‘parallelly’, ‘future’, ‘globals’, ‘future.apply’, ‘progressr’, ‘numDeriv’, ‘SQUAREM’, ‘lava’, ‘prodlim’, ‘proxy’, ‘iterators’, ‘Rcpp’, ‘gower’, ‘hardhat’, ‘ipred’, ‘timeDate’, ‘e1071’, ‘foreach’, ‘ModelMetrics’, ‘plyr’, ‘pROC’, ‘recipes’, ‘reshape2’\n",
            "\n",
            "\n",
            "Loading required package: lattice\n",
            "\n",
            "Warning message in system(\"timedatectl\", intern = TRUE):\n",
            "“running command 'timedatectl' had status 1”\n"
          ]
        },
        {
          "output_type": "display_data",
          "data": {
            "text/plain": [
              "Confusion Matrix and Statistics\n",
              "\n",
              "          Reference\n",
              "Prediction  1  2  3\n",
              "         1 10  0  0\n",
              "         2  0 13  0\n",
              "         3  0  2  5\n",
              "\n",
              "Overall Statistics\n",
              "                                          \n",
              "               Accuracy : 0.9333          \n",
              "                 95% CI : (0.7793, 0.9918)\n",
              "    No Information Rate : 0.5             \n",
              "    P-Value [Acc > NIR] : 4.34e-07        \n",
              "                                          \n",
              "                  Kappa : 0.8947          \n",
              "                                          \n",
              " Mcnemar's Test P-Value : NA              \n",
              "\n",
              "Statistics by Class:\n",
              "\n",
              "                     Class: 1 Class: 2 Class: 3\n",
              "Precision              1.0000   1.0000   0.7143\n",
              "Recall                 1.0000   0.8667   1.0000\n",
              "F1                     1.0000   0.9286   0.8333\n",
              "Prevalence             0.3333   0.5000   0.1667\n",
              "Detection Rate         0.3333   0.4333   0.1667\n",
              "Detection Prevalence   0.3333   0.4333   0.2333\n",
              "Balanced Accuracy      1.0000   0.9333   0.9600"
            ]
          },
          "metadata": {}
        }
      ]
    }
  ]
}