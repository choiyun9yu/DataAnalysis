{
 "cells": [
  {
   "attachments": {},
   "cell_type": "markdown",
   "id": "607d593d",
   "metadata": {},
   "source": [
    "# 선형모델의 학습 원리\n",
    "선형모델은 최적의 가중치(w)와 절편(b)를 선택하기 위해 MSE(평균제곱오차)를 이용해 각 가설의 적합성을 판단한다.   \n",
    "최적의 가중치(w)와 절편 (b)를 만들기 위해서 2가지 방식을 활용한다.\n",
    "- 해석적 방법(Ordinary Least Squares) -> LinearRegression Class로 구현됨    전통적 방식\n",
    "- 경사 하강법(Gradient Descent Algorithm) -> SGDRegresso Class로 구현됨     오늘날 방식\n",
    "    - 초기 가중치로부터 기울기 값을 조금씩 수정해서 찾아가는 방식\n",
    "    - 기울기가 낮아지는 방향으로 계속 업데이트하는 공식"
   ]
  },
  {
   "cell_type": "markdown",
   "id": "79ac6919",
   "metadata": {},
   "source": [
    "## 선형모델의 장점\n",
    "- 결과예측(추론) 속도가 빠르다.\n",
    "- 대용량 데이터에도 충분히 활용 가능하다.\n",
    "- 특성이 많은 데이터 세트라면 훌륭한 성능을 낼 수 있다."
   ]
  },
  {
   "cell_type": "markdown",
   "id": "ab6ce85a",
   "metadata": {},
   "source": [
    "## 해석적 방법을 활용한 고전적 선형모델의 단점\n",
    "- 특성이 적은 저차원 데이터에서는 다른 모델의 일반화 성능이 더 좋을 수 있다. -> 특성확장을 하기도 한다.\n",
    "- LinearRegression Model은 복잡도를 제어할 방법이 없어 과대적합 되기 쉽다. -> 모델 정규화를 통해 과대적합을 제어한다."
   ]
  },
  {
   "attachments": {},
   "cell_type": "markdown",
   "id": "adeb6073",
   "metadata": {},
   "source": [
    "# (실습1) LinearRegression로 보스턴 집값 예측 - 회귀\n"
   ]
  },
  {
   "cell_type": "markdown",
   "id": "4e156339",
   "metadata": {},
   "source": [
    "## 1. 문제정의\n",
    "- 보스턴 집값 데이터를 이용해서 집값을 예측하는 회귀 모델을 만들자"
   ]
  },
  {
   "cell_type": "markdown",
   "id": "702649bf",
   "metadata": {},
   "source": [
    "## 2. 데이터 수집"
   ]
  },
  {
   "cell_type": "code",
   "execution_count": 4,
   "id": "b6c69578",
   "metadata": {},
   "outputs": [
    {
     "name": "stderr",
     "output_type": "stream",
     "text": [
      "/opt/homebrew/Caskroom/miniforge/base/envs/ml/lib/python3.11/site-packages/sklearn/utils/deprecation.py:87: FutureWarning: Function load_boston is deprecated; `load_boston` is deprecated in 1.0 and will be removed in 1.2.\n",
      "\n",
      "    The Boston housing prices dataset has an ethical problem. You can refer to\n",
      "    the documentation of this function for further details.\n",
      "\n",
      "    The scikit-learn maintainers therefore strongly discourage the use of this\n",
      "    dataset unless the purpose of the code is to study and educate about\n",
      "    ethical issues in data science and machine learning.\n",
      "\n",
      "    In this special case, you can fetch the dataset from the original\n",
      "    source::\n",
      "\n",
      "        import pandas as pd\n",
      "        import numpy as np\n",
      "\n",
      "        data_url = \"http://lib.stat.cmu.edu/datasets/boston\"\n",
      "        raw_df = pd.read_csv(data_url, sep=\"\\s+\", skiprows=22, header=None)\n",
      "        data = np.hstack([raw_df.values[::2, :], raw_df.values[1::2, :2]])\n",
      "        target = raw_df.values[1::2, 2]\n",
      "\n",
      "    Alternative datasets include the California housing dataset (i.e.\n",
      "    :func:`~sklearn.datasets.fetch_california_housing`) and the Ames housing\n",
      "    dataset. You can load the datasets as follows::\n",
      "\n",
      "        from sklearn.datasets import fetch_california_housing\n",
      "        housing = fetch_california_housing()\n",
      "\n",
      "    for the California housing dataset and::\n",
      "\n",
      "        from sklearn.datasets import fetch_openml\n",
      "        housing = fetch_openml(name=\"house_prices\", as_frame=True)\n",
      "\n",
      "    for the Ames housing dataset.\n",
      "  warnings.warn(msg, category=FutureWarning)\n"
     ]
    }
   ],
   "source": [
    "import numpy as np\n",
    "import pandas as pd \n",
    "import matplotlib.pyplot as plt\n",
    "\n",
    "from sklearn.datasets import load_boston\n",
    "data = load_boston()"
   ]
  },
  {
   "cell_type": "markdown",
   "id": "2d60e98a",
   "metadata": {},
   "source": [
    "## 3. 데이터 분석"
   ]
  },
  {
   "cell_type": "code",
   "execution_count": 5,
   "id": "0d4c3de8",
   "metadata": {},
   "outputs": [
    {
     "data": {
      "text/plain": [
       "dict_keys(['data', 'target', 'feature_names', 'DESCR', 'filename', 'data_module'])"
      ]
     },
     "execution_count": 5,
     "metadata": {},
     "output_type": "execute_result"
    }
   ],
   "source": [
    "data.keys()"
   ]
  },
  {
   "cell_type": "code",
   "execution_count": 6,
   "id": "a1ea7f1c",
   "metadata": {},
   "outputs": [
    {
     "name": "stdout",
     "output_type": "stream",
     "text": [
      ".. _boston_dataset:\n",
      "\n",
      "Boston house prices dataset\n",
      "---------------------------\n",
      "\n",
      "**Data Set Characteristics:**  \n",
      "\n",
      "    :Number of Instances: 506 \n",
      "\n",
      "    :Number of Attributes: 13 numeric/categorical predictive. Median Value (attribute 14) is usually the target.\n",
      "\n",
      "    :Attribute Information (in order):\n",
      "        - CRIM     per capita crime rate by town\n",
      "        - ZN       proportion of residential land zoned for lots over 25,000 sq.ft.\n",
      "        - INDUS    proportion of non-retail business acres per town\n",
      "        - CHAS     Charles River dummy variable (= 1 if tract bounds river; 0 otherwise)\n",
      "        - NOX      nitric oxides concentration (parts per 10 million)\n",
      "        - RM       average number of rooms per dwelling\n",
      "        - AGE      proportion of owner-occupied units built prior to 1940\n",
      "        - DIS      weighted distances to five Boston employment centres\n",
      "        - RAD      index of accessibility to radial highways\n",
      "        - TAX      full-value property-tax rate per $10,000\n",
      "        - PTRATIO  pupil-teacher ratio by town\n",
      "        - B        1000(Bk - 0.63)^2 where Bk is the proportion of black people by town\n",
      "        - LSTAT    % lower status of the population\n",
      "        - MEDV     Median value of owner-occupied homes in $1000's\n",
      "\n",
      "    :Missing Attribute Values: None\n",
      "\n",
      "    :Creator: Harrison, D. and Rubinfeld, D.L.\n",
      "\n",
      "This is a copy of UCI ML housing dataset.\n",
      "https://archive.ics.uci.edu/ml/machine-learning-databases/housing/\n",
      "\n",
      "\n",
      "This dataset was taken from the StatLib library which is maintained at Carnegie Mellon University.\n",
      "\n",
      "The Boston house-price data of Harrison, D. and Rubinfeld, D.L. 'Hedonic\n",
      "prices and the demand for clean air', J. Environ. Economics & Management,\n",
      "vol.5, 81-102, 1978.   Used in Belsley, Kuh & Welsch, 'Regression diagnostics\n",
      "...', Wiley, 1980.   N.B. Various transformations are used in the table on\n",
      "pages 244-261 of the latter.\n",
      "\n",
      "The Boston house-price data has been used in many machine learning papers that address regression\n",
      "problems.   \n",
      "     \n",
      ".. topic:: References\n",
      "\n",
      "   - Belsley, Kuh & Welsch, 'Regression diagnostics: Identifying Influential Data and Sources of Collinearity', Wiley, 1980. 244-261.\n",
      "   - Quinlan,R. (1993). Combining Instance-Based and Model-Based Learning. In Proceedings on the Tenth International Conference of Machine Learning, 236-243, University of Massachusetts, Amherst. Morgan Kaufmann.\n",
      "\n"
     ]
    }
   ],
   "source": [
    "print(data.DESCR)"
   ]
  },
  {
   "attachments": {},
   "cell_type": "markdown",
   "id": "3cb0d954",
   "metadata": {},
   "source": [
    "## 4. 모델학습"
   ]
  },
  {
   "cell_type": "code",
   "execution_count": 7,
   "id": "c48ac8db",
   "metadata": {},
   "outputs": [],
   "source": [
    "X = data.data\n",
    "y = data.target"
   ]
  },
  {
   "cell_type": "code",
   "execution_count": 8,
   "id": "efb97867",
   "metadata": {},
   "outputs": [],
   "source": [
    "from sklearn.model_selection import train_test_split\n",
    "X_train,X_test,y_train,y_test = train_test_split(X,y,test_size=0.2,\n",
    "                                                random_state=722)"
   ]
  },
  {
   "cell_type": "code",
   "execution_count": 9,
   "id": "054110e2",
   "metadata": {},
   "outputs": [
    {
     "data": {
      "text/plain": [
       "((404, 13), (404,))"
      ]
     },
     "execution_count": 9,
     "metadata": {},
     "output_type": "execute_result"
    }
   ],
   "source": [
    "X_train.shape, y_train.shape"
   ]
  },
  {
   "cell_type": "code",
   "execution_count": 10,
   "id": "88279775",
   "metadata": {},
   "outputs": [
    {
     "data": {
      "text/plain": [
       "((102, 13), (102,))"
      ]
     },
     "execution_count": 10,
     "metadata": {},
     "output_type": "execute_result"
    }
   ],
   "source": [
    "X_test.shape, y_test.shape"
   ]
  },
  {
   "cell_type": "code",
   "execution_count": 12,
   "id": "7ec229d6",
   "metadata": {},
   "outputs": [
    {
     "data": {
      "text/html": [
       "<style>#sk-container-id-1 {color: black;background-color: white;}#sk-container-id-1 pre{padding: 0;}#sk-container-id-1 div.sk-toggleable {background-color: white;}#sk-container-id-1 label.sk-toggleable__label {cursor: pointer;display: block;width: 100%;margin-bottom: 0;padding: 0.3em;box-sizing: border-box;text-align: center;}#sk-container-id-1 label.sk-toggleable__label-arrow:before {content: \"▸\";float: left;margin-right: 0.25em;color: #696969;}#sk-container-id-1 label.sk-toggleable__label-arrow:hover:before {color: black;}#sk-container-id-1 div.sk-estimator:hover label.sk-toggleable__label-arrow:before {color: black;}#sk-container-id-1 div.sk-toggleable__content {max-height: 0;max-width: 0;overflow: hidden;text-align: left;background-color: #f0f8ff;}#sk-container-id-1 div.sk-toggleable__content pre {margin: 0.2em;color: black;border-radius: 0.25em;background-color: #f0f8ff;}#sk-container-id-1 input.sk-toggleable__control:checked~div.sk-toggleable__content {max-height: 200px;max-width: 100%;overflow: auto;}#sk-container-id-1 input.sk-toggleable__control:checked~label.sk-toggleable__label-arrow:before {content: \"▾\";}#sk-container-id-1 div.sk-estimator input.sk-toggleable__control:checked~label.sk-toggleable__label {background-color: #d4ebff;}#sk-container-id-1 div.sk-label input.sk-toggleable__control:checked~label.sk-toggleable__label {background-color: #d4ebff;}#sk-container-id-1 input.sk-hidden--visually {border: 0;clip: rect(1px 1px 1px 1px);clip: rect(1px, 1px, 1px, 1px);height: 1px;margin: -1px;overflow: hidden;padding: 0;position: absolute;width: 1px;}#sk-container-id-1 div.sk-estimator {font-family: monospace;background-color: #f0f8ff;border: 1px dotted black;border-radius: 0.25em;box-sizing: border-box;margin-bottom: 0.5em;}#sk-container-id-1 div.sk-estimator:hover {background-color: #d4ebff;}#sk-container-id-1 div.sk-parallel-item::after {content: \"\";width: 100%;border-bottom: 1px solid gray;flex-grow: 1;}#sk-container-id-1 div.sk-label:hover label.sk-toggleable__label {background-color: #d4ebff;}#sk-container-id-1 div.sk-serial::before {content: \"\";position: absolute;border-left: 1px solid gray;box-sizing: border-box;top: 0;bottom: 0;left: 50%;z-index: 0;}#sk-container-id-1 div.sk-serial {display: flex;flex-direction: column;align-items: center;background-color: white;padding-right: 0.2em;padding-left: 0.2em;position: relative;}#sk-container-id-1 div.sk-item {position: relative;z-index: 1;}#sk-container-id-1 div.sk-parallel {display: flex;align-items: stretch;justify-content: center;background-color: white;position: relative;}#sk-container-id-1 div.sk-item::before, #sk-container-id-1 div.sk-parallel-item::before {content: \"\";position: absolute;border-left: 1px solid gray;box-sizing: border-box;top: 0;bottom: 0;left: 50%;z-index: -1;}#sk-container-id-1 div.sk-parallel-item {display: flex;flex-direction: column;z-index: 1;position: relative;background-color: white;}#sk-container-id-1 div.sk-parallel-item:first-child::after {align-self: flex-end;width: 50%;}#sk-container-id-1 div.sk-parallel-item:last-child::after {align-self: flex-start;width: 50%;}#sk-container-id-1 div.sk-parallel-item:only-child::after {width: 0;}#sk-container-id-1 div.sk-dashed-wrapped {border: 1px dashed gray;margin: 0 0.4em 0.5em 0.4em;box-sizing: border-box;padding-bottom: 0.4em;background-color: white;}#sk-container-id-1 div.sk-label label {font-family: monospace;font-weight: bold;display: inline-block;line-height: 1.2em;}#sk-container-id-1 div.sk-label-container {text-align: center;}#sk-container-id-1 div.sk-container {/* jupyter's `normalize.less` sets `[hidden] { display: none; }` but bootstrap.min.css set `[hidden] { display: none !important; }` so we also need the `!important` here to be able to override the default hidden behavior on the sphinx rendered scikit-learn.org. See: https://github.com/scikit-learn/scikit-learn/issues/21755 */display: inline-block !important;position: relative;}#sk-container-id-1 div.sk-text-repr-fallback {display: none;}</style><div id=\"sk-container-id-1\" class=\"sk-top-container\"><div class=\"sk-text-repr-fallback\"><pre>LinearRegression()</pre><b>In a Jupyter environment, please rerun this cell to show the HTML representation or trust the notebook. <br />On GitHub, the HTML representation is unable to render, please try loading this page with nbviewer.org.</b></div><div class=\"sk-container\" hidden><div class=\"sk-item\"><div class=\"sk-estimator sk-toggleable\"><input class=\"sk-toggleable__control sk-hidden--visually\" id=\"sk-estimator-id-1\" type=\"checkbox\" checked><label for=\"sk-estimator-id-1\" class=\"sk-toggleable__label sk-toggleable__label-arrow\">LinearRegression</label><div class=\"sk-toggleable__content\"><pre>LinearRegression()</pre></div></div></div></div></div>"
      ],
      "text/plain": [
       "LinearRegression()"
      ]
     },
     "execution_count": 12,
     "metadata": {},
     "output_type": "execute_result"
    }
   ],
   "source": [
    "# 선형모델\n",
    "from sklearn.linear_model import LinearRegression\n",
    "\n",
    "model = LinearRegression()\n",
    "model.fit(X_train,y_train)"
   ]
  },
  {
   "cell_type": "code",
   "execution_count": 13,
   "id": "abb6b1c6",
   "metadata": {},
   "outputs": [
    {
     "name": "stdout",
     "output_type": "stream",
     "text": [
      "가중치 : [-1.18313515e-01  5.20521053e-02  1.76355388e-02  4.11554414e+00\n",
      " -2.01952839e+01  2.93408084e+00  1.01479948e-02 -1.56497280e+00\n",
      "  3.16556945e-01 -1.25687293e-02 -1.01868234e+00  6.75071633e-03\n",
      " -5.73138231e-01]\n",
      "절편 : 45.724826962953\n"
     ]
    }
   ],
   "source": [
    "# 학습된 가중치와 절편 확인\n",
    "print(\"가중치 :\",model.coef_)\n",
    "print(\"절편 :\",model.intercept_)"
   ]
  },
  {
   "cell_type": "code",
   "execution_count": 14,
   "id": "db1811a9",
   "metadata": {},
   "outputs": [
    {
     "data": {
      "text/plain": [
       "0.745453655743962"
      ]
     },
     "execution_count": 14,
     "metadata": {},
     "output_type": "execute_result"
    }
   ],
   "source": [
    "# 모델평가\n",
    "model.score(X_test,y_test)"
   ]
  },
  {
   "cell_type": "code",
   "execution_count": 16,
   "id": "77ee6399",
   "metadata": {},
   "outputs": [
    {
     "name": "stdout",
     "output_type": "stream",
     "text": [
      "MAE : 3.0285684574480047\n",
      "MSE : 17.925235768942013\n"
     ]
    }
   ],
   "source": [
    "# 다른 평가지표 사용\n",
    "from sklearn.metrics import mean_absolute_error #MAE\n",
    "from sklearn.metrics import mean_squared_error #MSE\n",
    "\n",
    "pre = model.predict(X_test) # 예측값 생성\n",
    "print(\"MAE :\", mean_absolute_error(y_test,pre))\n",
    "print(\"MSE :\", mean_squared_error(y_test,pre))"
   ]
  },
  {
   "attachments": {},
   "cell_type": "markdown",
   "id": "9ca55a3e",
   "metadata": {},
   "source": [
    "- 평균 제곱 오차 공식\n",
    "    - 오차의 제곱을 평균내주는 것\n",
    "    - 그 오차가 가장 적은 것이 가장 이상적인 함수"
   ]
  },
  {
   "cell_type": "markdown",
   "id": "6a0e99ff",
   "metadata": {},
   "source": [
    "# 다항회귀\n",
    "- y = (w1x1) + (w2x2) + (w3x3) ... +b\n",
    "- 다항회귀 : y = (w1x1) + (w2x2^2) + (w2x2^3) ... + b (항의 차수가 높은 것도 포함\n",
    "- 선형 모델의 수식에서 입력특성에 2차이상의 항이 포함된 경우\n",
    "- 고차항이 포함되면 데이터의 특성을 더 fit하게 맞출 수 있어 성능 개선의 여지가 있다.\n",
    "- 데이터에 너무 딱 맞게 가기 때문에 과대적합이 발생할 수 있다."
   ]
  },
  {
   "cell_type": "code",
   "execution_count": 31,
   "id": "22a0b654",
   "metadata": {},
   "outputs": [
    {
     "name": "stderr",
     "output_type": "stream",
     "text": [
      "C:\\Users\\AI\\Anaconda3\\lib\\site-packages\\sklearn\\utils\\deprecation.py:87: FutureWarning: Function load_boston is deprecated; `load_boston` is deprecated in 1.0 and will be removed in 1.2.\n",
      "\n",
      "    The Boston housing prices dataset has an ethical problem. You can refer to\n",
      "    the documentation of this function for further details.\n",
      "\n",
      "    The scikit-learn maintainers therefore strongly discourage the use of this\n",
      "    dataset unless the purpose of the code is to study and educate about\n",
      "    ethical issues in data science and machine learning.\n",
      "\n",
      "    In this special case, you can fetch the dataset from the original\n",
      "    source::\n",
      "\n",
      "        import pandas as pd\n",
      "        import numpy as np\n",
      "\n",
      "\n",
      "        data_url = \"http://lib.stat.cmu.edu/datasets/boston\"\n",
      "        raw_df = pd.read_csv(data_url, sep=\"\\s+\", skiprows=22, header=None)\n",
      "        data = np.hstack([raw_df.values[::2, :], raw_df.values[1::2, :2]])\n",
      "        target = raw_df.values[1::2, 2]\n",
      "\n",
      "    Alternative datasets include the California housing dataset (i.e.\n",
      "    :func:`~sklearn.datasets.fetch_california_housing`) and the Ames housing\n",
      "    dataset. You can load the datasets as follows::\n",
      "\n",
      "        from sklearn.datasets import fetch_california_housing\n",
      "        housing = fetch_california_housing()\n",
      "\n",
      "    for the California housing dataset and::\n",
      "\n",
      "        from sklearn.datasets import fetch_openml\n",
      "        housing = fetch_openml(name=\"house_prices\", as_frame=True)\n",
      "\n",
      "    for the Ames housing dataset.\n",
      "    \n",
      "  warnings.warn(msg, category=FutureWarning)\n"
     ]
    }
   ],
   "source": [
    "boston = load_boston()\n",
    "data = pd.DataFrame(boston.data, columns=boston.feature_names)"
   ]
  },
  {
   "cell_type": "code",
   "execution_count": 32,
   "id": "add20fb4",
   "metadata": {},
   "outputs": [],
   "source": [
    "X_train, X_test, y_train, y_test = train_test_split(data, boston.target, random_state=726)"
   ]
  },
  {
   "cell_type": "code",
   "execution_count": 33,
   "id": "3cf7ca83",
   "metadata": {
    "scrolled": true
   },
   "outputs": [
    {
     "data": {
      "image/png": "[encoded data removed]",
      "text/plain": [
       "<Figure size 720x720 with 1 Axes>"
      ]
     },
     "metadata": {
      "needs_background": "light"
     },
     "output_type": "display_data"
    }
   ],
   "source": [
    "plt.figure(figsize=(10, 10)) #가로, 세로 크기 설정\n",
    "plt.scatter(X_train['LSTAT'], y_train, label='original')\n",
    "\n",
    "# 선형모델 학습\n",
    "LSTAT_model = LinearRegression()\n",
    "LSTAT_model.fit(X_train[['LSTAT']], y_train)\n",
    "# 선형모델의 예측결과 확인\n",
    "pre = LSTAT_model.predict(X_train[['LSTAT']])\n",
    "plt.scatter(X_train[['LSTAT']], pre, label='predict')\n",
    "\n",
    "plt.legend()\n",
    "plt.xlabel('LSTAT')\n",
    "plt.ylabel('PRICE')\n",
    "plt.show()"
   ]
  },
  {
   "cell_type": "code",
   "execution_count": null,
   "id": "b74e2fc8",
   "metadata": {},
   "outputs": [],
   "source": []
  },
  {
   "cell_type": "markdown",
   "id": "805b3c9e",
   "metadata": {},
   "source": [
    "#### 다항회귀 구현하기\n",
    "1. 특성확장을 통해서 다항식을 만들어준다.\n",
    "2. sklearn의 PolynomialFeatures를 이용한다."
   ]
  },
  {
   "cell_type": "code",
   "execution_count": 34,
   "id": "1e33395a",
   "metadata": {},
   "outputs": [],
   "source": [
    "# 특성 확장\n",
    "X_train['LSTAT x LSTAT' ] = X_train['LSTAT']**2  #서로 다른 특성끼리 곱해서 다항회귀를 유도하기도 한다"
   ]
  },
  {
   "cell_type": "code",
   "execution_count": 35,
   "id": "266a3bd8",
   "metadata": {},
   "outputs": [],
   "source": [
    "# 모델학습\n",
    "LSTAT_model2 = LinearRegression()\n",
    "LSTAT_model2.fit(X_train[[\"LSTAT\", 'LSTAT x LSTAT']], y_train)\n",
    "# 모델예측\n",
    "pre2 = LSTAT_model2.predict(X_train[[\"LSTAT\", 'LSTAT x LSTAT']])"
   ]
  },
  {
   "cell_type": "code",
   "execution_count": 36,
   "id": "bb7f37a5",
   "metadata": {},
   "outputs": [
    {
     "data": {
      "image/png": "[encoded data removed]",
      "text/plain": [
       "<Figure size 360x360 with 1 Axes>"
      ]
     },
     "metadata": {
      "needs_background": "light"
     },
     "output_type": "display_data"
    }
   ],
   "source": [
    "plt.figure(figsize=(5,5))\n",
    "plt.scatter(X_train['LSTAT'], y_train, label='original')  #오리지날 데이터\n",
    "plt.scatter(X_train['LSTAT'], pre2, label='predcit2')  #다항회귀 결과\n",
    "\n",
    "plt.legend()\n",
    "plt.xlabel('LSTAT')\n",
    "plt.ylabel(\"PRICE\")\n",
    "plt.show()"
   ]
  },
  {
   "attachments": {},
   "cell_type": "markdown",
   "id": "b285653c",
   "metadata": {},
   "source": [
    "# 경사하강법"
   ]
  },
  {
   "cell_type": "markdown",
   "id": "f5e707c1",
   "metadata": {},
   "source": [
    "## 가중치 변화에 따른 MSE 변화 그래프"
   ]
  },
  {
   "cell_type": "code",
   "execution_count": 22,
   "id": "5784bfa2",
   "metadata": {},
   "outputs": [
    {
     "data": {
      "text/html": [
       "<div>\n",
       "<style scoped>\n",
       "    .dataframe tbody tr th:only-of-type {\n",
       "        vertical-align: middle;\n",
       "    }\n",
       "\n",
       "    .dataframe tbody tr th {\n",
       "        vertical-align: top;\n",
       "    }\n",
       "\n",
       "    .dataframe thead th {\n",
       "        text-align: right;\n",
       "    }\n",
       "</style>\n",
       "<table border=\"1\" class=\"dataframe\">\n",
       "  <thead>\n",
       "    <tr style=\"text-align: right;\">\n",
       "      <th></th>\n",
       "      <th>공부시간</th>\n",
       "      <th>성적점수</th>\n",
       "    </tr>\n",
       "  </thead>\n",
       "  <tbody>\n",
       "    <tr>\n",
       "      <th>해도</th>\n",
       "      <td>2</td>\n",
       "      <td>20</td>\n",
       "    </tr>\n",
       "    <tr>\n",
       "      <th>예호</th>\n",
       "      <td>4</td>\n",
       "      <td>40</td>\n",
       "    </tr>\n",
       "    <tr>\n",
       "      <th>형</th>\n",
       "      <td>8</td>\n",
       "      <td>80</td>\n",
       "    </tr>\n",
       "    <tr>\n",
       "      <th>병관</th>\n",
       "      <td>9</td>\n",
       "      <td>90</td>\n",
       "    </tr>\n",
       "  </tbody>\n",
       "</table>\n",
       "</div>"
      ],
      "text/plain": [
       "    공부시간  성적점수\n",
       "해도     2    20\n",
       "예호     4    40\n",
       "형      8    80\n",
       "병관     9    90"
      ]
     },
     "execution_count": 22,
     "metadata": {},
     "output_type": "execute_result"
    }
   ],
   "source": [
    "import pandas as pd\n",
    "# 성적데이터 생성\n",
    "data = pd.DataFrame([[2,20], [4,40], [8,80], [9,90]],\n",
    "                   index=['해도', '예호', '형', '병관'],\n",
    "                   columns=['공부시간','성적점수'])\n",
    "data"
   ]
  },
  {
   "cell_type": "code",
   "execution_count": 23,
   "id": "dd3b3dd5",
   "metadata": {},
   "outputs": [],
   "source": [
    "# MSE 함수 생성\n",
    "#문제, 정답, 가중치를 매개변수로 받는다\n",
    "def MSE(X,y,w):\n",
    "    #예측값 생성\n",
    "    y_pre = (w*X)+0\n",
    "    # 오차\n",
    "    error = y-y_pre\n",
    "    return (error**2).mean() #평균제곱오차"
   ]
  },
  {
   "cell_type": "code",
   "execution_count": 24,
   "id": "59b021d0",
   "metadata": {},
   "outputs": [
    {
     "data": {
      "text/plain": [
       "41.25"
      ]
     },
     "execution_count": 24,
     "metadata": {},
     "output_type": "execute_result"
    }
   ],
   "source": [
    "# 결과값이 0이 나와야함.\n",
    "MSE(data['공부시간'],data['성적점수'], 9)    "
   ]
  },
  {
   "cell_type": "code",
   "execution_count": 25,
   "id": "589d2c02",
   "metadata": {},
   "outputs": [
    {
     "data": {
      "text/plain": [
       "array([ 0.        ,  0.40816327,  0.81632653,  1.2244898 ,  1.63265306,\n",
       "        2.04081633,  2.44897959,  2.85714286,  3.26530612,  3.67346939,\n",
       "        4.08163265,  4.48979592,  4.89795918,  5.30612245,  5.71428571,\n",
       "        6.12244898,  6.53061224,  6.93877551,  7.34693878,  7.75510204,\n",
       "        8.16326531,  8.57142857,  8.97959184,  9.3877551 ,  9.79591837,\n",
       "       10.20408163, 10.6122449 , 11.02040816, 11.42857143, 11.83673469,\n",
       "       12.24489796, 12.65306122, 13.06122449, 13.46938776, 13.87755102,\n",
       "       14.28571429, 14.69387755, 15.10204082, 15.51020408, 15.91836735,\n",
       "       16.32653061, 16.73469388, 17.14285714, 17.55102041, 17.95918367,\n",
       "       18.36734694, 18.7755102 , 19.18367347, 19.59183673, 20.        ])"
      ]
     },
     "execution_count": 25,
     "metadata": {},
     "output_type": "execute_result"
    }
   ],
   "source": [
    "# 그래프 그리기\n",
    "# 변화하는 가중치(w) 생성\n",
    "weights = np.linspace(0,20) #linsapce 생성하는 숫자들 간격 일정하게 만들어줌 (디폴트는 num = 50 50개로 쪼개줌)\n",
    "weights"
   ]
  },
  {
   "cell_type": "code",
   "execution_count": 26,
   "id": "da927ab7",
   "metadata": {},
   "outputs": [
    {
     "data": {
      "text/plain": [
       "[4125.0,\n",
       " 3795.1374427321953,\n",
       " 3479.019158683882,\n",
       " 3176.6451478550603,\n",
       " 2888.015410245731,\n",
       " 2613.1299458558933,\n",
       " 2351.9887546855475,\n",
       " 2104.5918367346935,\n",
       " 1870.939192003332,\n",
       " 1651.0308204914622,\n",
       " 1444.8667221990836,\n",
       " 1252.4468971261972,\n",
       " 1073.771345272803,\n",
       " 908.8400666389006,\n",
       " 757.6530612244896,\n",
       " 620.2103290295709,\n",
       " 496.5118700541441,\n",
       " 386.5576842982092,\n",
       " 290.3477717617659,\n",
       " 207.88213244481454,\n",
       " 139.1607663473552,\n",
       " 84.1836734693878,\n",
       " 42.950853810912015,\n",
       " 15.46230737192834,\n",
       " 1.718034152436478,\n",
       " 1.718034152436478,\n",
       " 15.46230737192834,\n",
       " 42.95085381091215,\n",
       " 84.1836734693878,\n",
       " 139.1607663473552,\n",
       " 207.88213244481489,\n",
       " 290.347771761766,\n",
       " 386.5576842982092,\n",
       " 496.5118700541442,\n",
       " 620.2103290295709,\n",
       " 757.6530612244901,\n",
       " 908.8400666389006,\n",
       " 1073.7713452728026,\n",
       " 1252.4468971261979,\n",
       " 1444.8667221990838,\n",
       " 1651.0308204914627,\n",
       " 1870.939192003332,\n",
       " 2104.5918367346935,\n",
       " 2351.988754685547,\n",
       " 2613.129945855895,\n",
       " 2888.015410245732,\n",
       " 3176.6451478550607,\n",
       " 3479.019158683883,\n",
       " 3795.1374427321957,\n",
       " 4125.0]"
      ]
     },
     "execution_count": 26,
     "metadata": {},
     "output_type": "execute_result"
    }
   ],
   "source": [
    "mse_list = []\n",
    "for w in weights :\n",
    "    mse_list.append(MSE(data['공부시간'], data['성적점수'], w))\n",
    "    \n",
    "mse_list"
   ]
  },
  {
   "cell_type": "code",
   "execution_count": 27,
   "id": "fed63feb",
   "metadata": {},
   "outputs": [
    {
     "data": {
      "image/png": "[encoded data removed]",
      "text/plain": [
       "<Figure size 700x500 with 1 Axes>"
      ]
     },
     "metadata": {},
     "output_type": "display_data"
    }
   ],
   "source": [
    "import matplotlib.pyplot as plt\n",
    "plt. figure(figsize=(7,5))\n",
    "plt.plot(mse_list, marker='*')\n",
    "plt.ylabel('MSE')\n",
    "plt.xlabel('W')\n",
    "plt.show()"
   ]
  },
  {
   "cell_type": "markdown",
   "id": "022b1d37",
   "metadata": {},
   "source": [
    "## 경사하강법"
   ]
  },
  {
   "attachments": {},
   "cell_type": "markdown",
   "id": "d5c69cf9",
   "metadata": {},
   "source": [
    "### 사용할 데이터셋 생성\n",
    "#### 문제 생성(공부한 시간)"
   ]
  },
  {
   "cell_type": "code",
   "execution_count": 8,
   "id": "1d3dd2d2",
   "metadata": {},
   "outputs": [
    {
     "name": "stdout",
     "output_type": "stream",
     "text": [
      "(100,)\n",
      "[0.51112219 0.0334511  0.43156388 0.14129517 0.17822623 0.31464507\n",
      " 0.93706543 0.80445978 0.00610973 0.05391878 0.95171291 0.05693247\n",
      " 0.21680819 0.64290687 0.83750003 0.11567591 0.11642114 0.05083476\n",
      " 0.89178761 0.94892517 0.13335594 0.84709426 0.92269516 0.80864244\n",
      " 0.4239006  0.32451374 0.34811856 0.59456441 0.21428331 0.77050323\n",
      " 0.10328065 0.47935962 0.74419065 0.12417787 0.72310768 0.95048677\n",
      " 0.69984551 0.87898603 0.35031704 0.32461748 0.90057143 0.02969889\n",
      " 0.2734943  0.19053753 0.66422335 0.0122893  0.73246828 0.3509023\n",
      " 0.83826866 0.87208243 0.53869905 0.8934343  0.44198391 0.96294052\n",
      " 0.74615957 0.32639478 0.49583189 0.59626457 0.72754776 0.80851873\n",
      " 0.58266648 0.94229687 0.22533596 0.54667405 0.87106142 0.94682282\n",
      " 0.02015241 0.05183034 0.61190686 0.46252453 0.55746277 0.23207829\n",
      " 0.92661491 0.7309599  0.86414167 0.49225061 0.39119152 0.42909093\n",
      " 0.12531956 0.71727112 0.3903253  0.40223539 0.09846948 0.81107677\n",
      " 0.76360469 0.92370519 0.50577719 0.23738278 0.53672615 0.95184495\n",
      " 0.26446551 0.84402478 0.27043728 0.36089265 0.01356464 0.75787241\n",
      " 0.42993181 0.00992077 0.48223836 0.63035697]\n"
     ]
    }
   ],
   "source": [
    "import numpy as np\n",
    "#0.0 ~ 1.0 사이의 균등분포를 가진 100개 데이터가 랜덤하게 추출\n",
    "x = np.random.uniform(low=0.0, high=1.0, size=100)\n",
    "print(x.shape)\n",
    "print(x)"
   ]
  },
  {
   "cell_type": "markdown",
   "id": "baeec274",
   "metadata": {},
   "source": [
    "#### 정답 생성(성적)"
   ]
  },
  {
   "cell_type": "code",
   "execution_count": 9,
   "id": "d8b9eaeb",
   "metadata": {},
   "outputs": [
    {
     "name": "stdout",
     "output_type": "stream",
     "text": [
      "(100,)\n",
      "[10.11122189  5.33451095  9.31563876  6.41295167  6.78226227  8.14645072\n",
      " 14.37065427 13.04459785  5.06109729  5.53918778 14.51712914  5.56932474\n",
      "  7.16808194 11.42906871 13.37500032  6.15675914  6.16421144  5.50834762\n",
      " 13.91787609 14.48925168  6.33355938 13.47094256 14.22695165 13.08642445\n",
      "  9.23900604  8.24513735  8.48118555 10.9456441   7.14283314 12.70503227\n",
      "  6.0328065   9.7935962  12.44190654  6.24177868 12.23107676 14.50486773\n",
      " 11.99845511 13.78986032  8.50317041  8.24617483 14.00571429  5.29698891\n",
      "  7.73494301  6.90537526 11.64223355  5.12289301 12.3246828   8.50902303\n",
      " 13.38268657 13.72082427 10.38699046 13.93434297  9.41983912 14.62940523\n",
      " 12.46159565  8.26394779  9.95831894 10.96264569 12.27547758 13.08518728\n",
      " 10.82666482 14.42296866  7.25335958 10.46674046 13.7106142  14.46822821\n",
      "  5.20152409  5.51830343 11.11906861  9.62524525 10.57462774  7.3207829\n",
      " 14.26614913 12.30959905 13.6414167   9.92250615  8.91191522  9.2909093\n",
      "  6.25319561 12.17271118  8.90325303  9.02235391  5.9846948  13.1107677\n",
      " 12.63604692 14.23705191 10.05777192  7.37382778 10.36726154 14.51844945\n",
      "  7.64465514 13.44024783  7.7043728   8.6089265   5.13564638 12.5787241\n",
      "  9.29931813  5.0992077   9.82238358 11.3035697 ]\n"
     ]
    }
   ],
   "source": [
    "y = 10*x+5\n",
    "print(y.shape)\n",
    "print(y)"
   ]
  },
  {
   "cell_type": "markdown",
   "id": "f3a9813e",
   "metadata": {},
   "source": [
    "### 경사하강법을 이용한 학습"
   ]
  },
  {
   "cell_type": "code",
   "execution_count": 10,
   "id": "9707ac94",
   "metadata": {},
   "outputs": [
    {
     "name": "stdout",
     "output_type": "stream",
     "text": [
      "초기 가중치 : 0.48772895915985004\n",
      "초기 절편 : 0.5517044837071239\n"
     ]
    }
   ],
   "source": [
    "num_epoch = 500 #epoch 경사하강법 돌리는 최대 반복 횟수\n",
    "learning_rate = 1.0   #학습률\n",
    "#초기 가중치와 절편을 셋팅\n",
    "w= np.random.uniform(low=0.0, high=1.0)\n",
    "b= np.random.uniform(low=0.0, high=1.0)\n",
    "\n",
    "print(\"초기 가중치 :\", w)\n",
    "print(\"초기 절편 :\", b)"
   ]
  },
  {
   "cell_type": "code",
   "execution_count": 11,
   "id": "b7dc5843",
   "metadata": {},
   "outputs": [
    {
     "name": "stdout",
     "output_type": "stream",
     "text": [
      "MSE : 94.62214466388902\n",
      "epoch : 1  w : 6.0941930212155535  b : 9.834347413711331\n",
      "MSE : 9.544124199670684\n",
      "epoch : 2  w : 5.011055835515608  b : 6.985017855911993\n",
      "MSE : 2.628682341244394\n",
      "epoch : 3  w : 5.7569819636472666  b : 7.535492230527861\n",
      "MSE : 1.825918288149681\n",
      "epoch : 4  w : 5.9607809449714315  b : 7.156396004939813\n",
      "MSE : 1.5352150998143494\n",
      "epoch : 5  w : 6.285563038200747  b : 7.052820836186583\n",
      "MSE : 1.3164295007142963\n",
      "epoch : 6  w : 6.548749055120091  b : 6.88775936288733\n",
      "MSE : 1.1308573731689064\n",
      "epoch : 7  w : 6.8032528270186425  b : 6.754002383638488\n",
      "MSE : 0.971602902686388\n",
      "epoch : 8  w : 7.036218512005694  b : 6.62465791414481\n",
      "MSE : 0.8347879414904944\n",
      "epoch : 9  w : 7.25297914416884  b : 6.50625957878775\n",
      "MSE : 0.7172393500757677\n",
      "epoch : 10  w : 7.453671441879584  b : 6.396097011195502\n",
      "MSE : 0.6162431458164701\n",
      "epoch : 11  w : 7.63976150408306  b : 6.294100728055106\n",
      "MSE : 0.5294684666315982\n",
      "epoch : 12  w : 7.812235073186585  b : 6.199525625320092\n",
      "MSE : 0.45491273912847996\n",
      "epoch : 13  w : 7.9721098558419214  b : 6.11187072680539\n",
      "MSE : 0.39085538286406574\n",
      "epoch : 14  w : 8.120300208992543  b : 6.030618811386963\n",
      "MSE : 0.3358180969117569\n",
      "epoch : 15  w : 8.2576617470009  b : 5.955305182557964\n",
      "MSE : 0.2885307434866191\n",
      "epoch : 16  w : 8.384985308940056  b : 5.885494998095909\n",
      "MSE : 0.24790203596092122\n",
      "epoch : 17  w : 8.503004569330377  b : 5.820786336019065\n",
      "MSE : 0.21299435440029768\n",
      "epoch : 18  w : 8.612399413772389  b : 5.760806326641023\n",
      "MSE : 0.18300210738709344\n",
      "epoch : 19  w : 8.713800093047455  b : 5.705209436999106\n",
      "MSE : 0.15723314076755865\n",
      "epoch : 20  w : 8.807790787992419  b : 5.653675359648142\n",
      "MSE : 0.13509276427804948\n",
      "epoch : 21  w : 8.894912993466376  b : 5.605907200911994\n",
      "MSE : 0.11607002742039033\n",
      "epoch : 22  w : 8.97566863284905  b : 5.561629761076485\n",
      "MSE : 0.09972592786421502\n",
      "epoch : 23  w : 9.050522951123954  b : 5.5205879515321525\n",
      "MSE : 0.08568328025251697\n",
      "epoch : 24  w : 9.11990719482354  b : 5.482545324445126\n",
      "MSE : 0.07361801160504208\n",
      "epoch : 25  w : 9.18422109661387  b : 5.447282710749481\n",
      "MSE : 0.06325168243685306\n",
      "epoch : 26  w : 9.243835178181357  b : 5.414596957426129\n",
      "MSE : 0.05434506099616665\n",
      "epoch : 27  w : 9.299092884870406  b : 5.384299757124623\n",
      "MSE : 0.04669260232920399\n",
      "epoch : 28  w : 9.350312564319301  b : 5.356216563292897\n",
      "MSE : 0.04011770476119203\n",
      "epoch : 29  w : 9.39778930050765  b : 5.330185584590568\n",
      "MSE : 0.03446863432367635\n",
      "epoch : 30  w : 9.441796613777674  b : 5.306056852785284\n",
      "MSE : 0.02961502307302023\n",
      "epoch : 31  w : 9.482588036624497  b : 5.283691358764149\n",
      "MSE : 0.02544486048909348\n",
      "epoch : 32  w : 9.520398574333505  b : 5.262960251682099\n",
      "MSE : 0.021861908522342446\n",
      "epoch : 33  w : 9.555446058879774  b : 5.243744096633553\n",
      "MSE : 0.0187834806342967\n",
      "epoch : 34  w : 9.587932403889573  b : 5.225932186570656\n",
      "MSE : 0.016138533576719807\n",
      "epoch : 35  w : 9.618044767893972  b : 5.2094219045039685\n",
      "MSE : 0.013866027871924506\n",
      "epoch : 36  w : 9.64595663257619  b : 5.194118132311146\n",
      "MSE : 0.011913519157796072\n",
      "epoch : 37  w : 9.671828802224667  b : 5.179932702747689\n",
      "MSE : 0.010235947888908636\n",
      "epoch : 38  w : 9.695810330149813  b : 5.166783891502697\n",
      "MSE : 0.008794599462736448\n",
      "epoch : 39  w : 9.718039377401691  b : 5.154595946373293\n",
      "MSE : 0.007556210772992794\n",
      "epoch : 40  w : 9.738644008735799  b : 5.1432986508452325\n",
      "MSE : 0.006492202571341065\n",
      "epoch : 41  w : 9.757742930412642  b : 5.13282691956541\n",
      "MSE : 0.005578019922098274\n",
      "epoch : 42  w : 9.775446174081669  b : 5.123120423375729\n",
      "MSE : 0.004792565529097198\n",
      "epoch : 43  w : 9.791855730689516  b : 5.114123241748102\n",
      "MSE : 0.004117712857154936\n",
      "epoch : 44  w : 9.80706613806459  b : 5.105783540618193\n",
      "MSE : 0.003537887812078207\n",
      "epoch : 45  w : 9.821165025563175  b : 5.098053273761889\n",
      "MSE : 0.0030397093253121464\n",
      "epoch : 46  w : 9.834233618914825  b : 5.090887905994049\n",
      "MSE : 0.0026116805487288856\n",
      "epoch : 47  w : 9.846347208175532  b : 5.084246156594864\n",
      "MSE : 0.0022439235330201767\n",
      "epoch : 48  w : 9.85757558148463  b : 5.078089761485659\n",
      "MSE : 0.001927951266663294\n",
      "epoch : 49  w : 9.867983427124354  b : 5.0723832527840065\n",
      "MSE : 0.0016564718146280736\n",
      "epoch : 50  w : 9.87763070619839  b : 5.067093754468128\n",
      "MSE : 0.0014232200367834662\n",
      "epoch : 51  w : 9.886572998076463  b : 5.0621907929733725\n",
      "MSE : 0.0012228130024395905\n",
      "epoch : 52  w : 9.894861820595121  b : 5.057646121629609\n",
      "MSE : 0.001050625764315892\n",
      "epoch : 53  w : 9.902544926859441  b : 5.053433557928076\n",
      "MSE : 0.0009026846250752796\n"
     ]
    }
   ],
   "source": [
    "for epoch in range(num_epoch):\n",
    "    #MSE 구하기\n",
    "    pre_y = w*x+b\n",
    "    mse = ((y-pre_y)**2).mean()\n",
    "    print(\"MSE :\", mse)\n",
    "    \n",
    "    #MSE가 일정 수준이하로 떨어지면 반복을 멈춤\n",
    "    if mse < 0.001:\n",
    "        break\n",
    "        \n",
    "    #경사하강법을 이용해 w,b 업데이트\n",
    "    w = w - learning_rate * ((pre_y-y)*x).mean()\n",
    "    b = b - learning_rate * ((pre_y-y)*1).mean()\n",
    "    \n",
    "    #중간결과 출력\n",
    "    print('epoch :', (epoch+1), \" w :\", w, ' b :',  b)"
   ]
  },
  {
   "cell_type": "markdown",
   "id": "4ef99af2",
   "metadata": {},
   "source": [
    "### 입력특성이 2개인 경우 구현\n",
    "#### 문제 생성(x1:공부한 시간, x2:잠자는 시간)"
   ]
  },
  {
   "cell_type": "code",
   "execution_count": 12,
   "id": "3d3abc62",
   "metadata": {},
   "outputs": [
    {
     "name": "stdout",
     "output_type": "stream",
     "text": [
      "초기 가중치(w1) : 0.09176627440957852\n",
      "초기 가중치(w2) : 0.786243729020346\n",
      "초기 절편 : 0.6232913861622068\n"
     ]
    }
   ],
   "source": [
    "x1 = np.random.uniform(low=0.0, high=1.0, size=100)\n",
    "x2 = np.random.uniform(low=0.0, high=1.0, size=100)\n",
    "y0 = (10*x1)+(5*x2)+3\n",
    "\n",
    "w1 = np.random.uniform(low=0.0, high=1.0)\n",
    "w2 = np.random.uniform(low=0.0, high=1.0)\n",
    "b0 = np.random.uniform(low=0.0, high=1.0)\n",
    "\n",
    "print(\"초기 가중치(w1) :\", w1)\n",
    "print(\"초기 가중치(w2) :\", w2)\n",
    "print(\"초기 절편 :\", b0)"
   ]
  },
  {
   "cell_type": "code",
   "execution_count": 13,
   "id": "d0bfe908",
   "metadata": {},
   "outputs": [
    {
     "name": "stdout",
     "output_type": "stream",
     "text": [
      "MSE : 75.15496104754682\n",
      "epoch : 1  w1 : 0.14363615179996952 w2 : 0.8325131141099773 b : 0.7099736138769016\n",
      "-----------------------------------------------------------------------------------\n",
      "MSE : 72.5969693942845\n",
      "epoch : 2  w1 : 0.19465612399444351 w2 : 0.877966896985482 b : 0.7950641321495614\n",
      "-----------------------------------------------------------------------------------\n",
      "MSE : 70.13434927017234\n",
      "epoch : 3  w1 : 0.24484127379632753 w2 : 0.9226196254950791 b : 0.878591310221418\n",
      "-----------------------------------------------------------------------------------\n",
      "MSE : 67.76364441343436\n",
      "epoch : 4  w1 : 0.2942064153527165 w2 : 0.9664855883011114 b : 0.9605830119218306\n",
      "-----------------------------------------------------------------------------------\n",
      "MSE : 65.48152218500424\n",
      "epoch : 5  w1 : 0.34276609894058413 w2 : 1.009578819497488 b : 1.041066604672274\n",
      "-----------------------------------------------------------------------------------\n",
      "MSE : 63.28476917511238\n",
      "epoch : 6  w1 : 0.3905346156676284 w2 : 1.0519131031448663 b : 1.120068968329921\n",
      "-----------------------------------------------------------------------------------\n",
      "MSE : 61.17028696551336\n",
      "epoch : 7  w1 : 0.4375260020893713 w2 : 1.093501977725039 b : 1.1976165038736721\n",
      "-----------------------------------------------------------------------------------\n",
      "MSE : 59.135088041848924\n",
      "epoch : 8  w1 : 0.4837540447440039 w2 : 1.1343587405159656 b : 1.2737351419354463\n",
      "-----------------------------------------------------------------------------------\n",
      "MSE : 57.17629185083617\n",
      "epoch : 9  w1 : 0.5292322846064429 w2 : 1.1744964518888625 b : 1.3484503511794832\n",
      "-----------------------------------------------------------------------------------\n",
      "MSE : 55.29112099715822\n",
      "epoch : 10  w1 : 0.5739740214630376 w2 : 1.2139279395287395 b : 1.4217871465323668\n",
      "-----------------------------------------------------------------------------------\n",
      "MSE : 53.47689757511557\n",
      "epoch : 11  w1 : 0.6179923182083401 w2 : 1.2526658025797466 b : 1.4937700972664316\n",
      "-----------------------------------------------------------------------------------\n",
      "MSE : 51.73103963027148\n",
      "epoch : 12  w1 : 0.6613000050653297 w2 : 1.2907224157166715 b : 1.5644233349391607\n",
      "-----------------------------------------------------------------------------------\n",
      "MSE : 50.051057746492305\n",
      "epoch : 13  w1 : 0.7039096837304516 w2 : 1.3281099331439026 b : 1.6337705611911428\n",
      "-----------------------------------------------------------------------------------\n",
      "MSE : 48.43455175394752\n",
      "epoch : 14  w1 : 0.7458337314448122 w2 : 1.3648402925231493 b : 1.7018350554051076\n",
      "-----------------------------------------------------------------------------------\n",
      "MSE : 46.87920755378949\n",
      "epoch : 15  w1 : 0.7870843049928458 w2 : 1.4009252188311907 b : 1.768639682228514\n",
      "-----------------------------------------------------------------------------------\n",
      "MSE : 45.38279405538564\n",
      "epoch : 16  w1 : 0.8276733446297433 w2 : 1.4363762281488965 b : 1.834206898962123\n",
      "-----------------------------------------------------------------------------------\n",
      "MSE : 43.94316022212056\n",
      "epoch : 17  w1 : 0.8676125779389148 w2 : 1.4712046313827476 b : 1.8985587628169418\n",
      "-----------------------------------------------------------------------------------\n",
      "MSE : 42.55823222192696\n",
      "epoch : 18  w1 : 0.9069135236207297 w2 : 1.5054215379200555 b : 1.9617169380418846\n",
      "-----------------------------------------------------------------------------------\n",
      "MSE : 41.22601067884001\n",
      "epoch : 19  w1 : 0.9455874952137612 w2 : 1.5390378592190648 b : 2.023702702924453\n",
      "-----------------------------------------------------------------------------------\n",
      "MSE : 39.94456802200031\n",
      "epoch : 20  w1 : 0.9836456047497346 w2 : 1.5720643123350972 b : 2.084536956666698\n",
      "-----------------------------------------------------------------------------------\n",
      "MSE : 38.71204592865744\n",
      "epoch : 21  w1 : 1.0210987663433642 w2 : 1.6045114233838766 b : 2.144240226138687\n",
      "-----------------------------------------------------------------------------------\n",
      "MSE : 37.526652857847864\n",
      "epoch : 22  w1 : 1.0579576997182354 w2 : 1.6363895309431544 b : 2.202832672511655\n",
      "-----------------------------------------------------------------------------------\n",
      "MSE : 36.386661671538384\n",
      "epoch : 23  w1 : 1.0942329336698735 w2 : 1.6677087893937352 b : 2.260334097772989\n",
      "-----------------------------------------------------------------------------------\n",
      "MSE : 35.29040734013974\n",
      "epoch : 24  w1 : 1.1299348094671169 w2 : 1.6984791722009804 b : 2.3167639511251403\n",
      "-----------------------------------------------------------------------------------\n",
      "MSE : 34.23628472940491\n",
      "epoch : 25  w1 : 1.1650734841928947 w2 : 1.7287104751378528 b : 2.372141335270547\n",
      "-----------------------------------------------------------------------------------\n",
      "MSE : 33.22274646583125\n",
      "epoch : 26  w1 : 1.1996589340254884 w2 : 1.7584123194505408 b : 2.426485012584584\n",
      "-----------------------------------------------------------------------------------\n",
      "MSE : 32.24830087778848\n",
      "epoch : 27  w1 : 1.2337009574613367 w2 : 1.7875941549676877 b : 2.4798134111785455\n",
      "-----------------------------------------------------------------------------------\n",
      "MSE : 31.311510009691904\n",
      "epoch : 28  w1 : 1.2672091784804258 w2 : 1.816265263154229 b : 2.5321446308546105\n",
      "-----------------------------------------------------------------------------------\n",
      "MSE : 30.41098770663568\n",
      "epoch : 29  w1 : 1.300193049655289 w2 : 1.8444347601108257 b : 2.583496448954722\n",
      "-----------------------------------------------------------------------------------\n",
      "MSE : 29.54539776699171\n",
      "epoch : 30  w1 : 1.3326618552046166 w2 : 1.8721115995198614 b : 2.633886326105268\n",
      "-----------------------------------------------------------------------------------\n",
      "MSE : 28.713452160568618\n",
      "epoch : 31  w1 : 1.3646247139924683 w2 : 1.899304575538957 b : 2.6833314118594194\n",
      "-----------------------------------------------------------------------------------\n",
      "MSE : 27.91390931000965\n",
      "epoch : 32  w1 : 1.3960905824740524 w2 : 1.9260223256429367 b : 2.7318485502389485\n",
      "-----------------------------------------------------------------------------------\n",
      "MSE : 27.14557243319088\n",
      "epoch : 33  w1 : 1.4270682575890252 w2 : 1.9522733334151636 b : 2.7794542851773203\n",
      "-----------------------------------------------------------------------------------\n",
      "MSE : 26.407287944460048\n",
      "epoch : 34  w1 : 1.4575663796032483 w2 : 1.9780659312891478 b : 2.8261648658658136\n",
      "-----------------------------------------------------------------------------------\n",
      "MSE : 25.697943912632812\n",
      "epoch : 35  w1 : 1.4875934348999165 w2 : 2.0034083032413124 b : 2.871996252004401\n",
      "-----------------------------------------------------------------------------------\n",
      "MSE : 25.016468573736677\n",
      "epoch : 36  w1 : 1.5171577587209641 w2 : 2.028308487435787 b : 2.9169641189590827\n",
      "-----------------------------------------------------------------------------------\n",
      "MSE : 24.361828896564237\n",
      "epoch : 37  w1 : 1.5462675378596311 w2 : 2.0527743788220834 b : 2.961083862827342\n",
      "-----------------------------------------------------------------------------------\n",
      "MSE : 23.73302919916555\n",
      "epoch : 38  w1 : 1.5749308133050612 w2 : 2.0768137316864963 b : 3.0043706054133597\n",
      "-----------------------------------------------------------------------------------\n",
      "MSE : 23.129109814475928\n",
      "epoch : 39  w1 : 1.6031554828397871 w2 : 2.1004341621580456 b : 3.0468391991145944\n",
      "-----------------------------------------------------------------------------------\n",
      "MSE : 22.549145803338998\n",
      "epoch : 40  w1 : 1.6309493035909397 w2 : 2.1236431506697793 b : 3.088504231721307\n",
      "-----------------------------------------------------------------------------------\n",
      "MSE : 21.99224571324644\n",
      "epoch : 41  w1 : 1.6583198945360078 w2 : 2.1464480443762257 b : 3.1293800311305806\n",
      "-----------------------------------------------------------------------------------\n",
      "MSE : 21.457550381175334\n",
      "epoch : 42  w1 : 1.685274738963958 w2 : 2.1688560595277786 b : 3.1694806699763607\n",
      "-----------------------------------------------------------------------------------\n",
      "MSE : 20.944231778961058\n",
      "epoch : 43  w1 : 1.7118211868925086 w2 : 2.190874283802783 b : 3.20881997017701\n",
      "-----------------------------------------------------------------------------------\n",
      "MSE : 20.4514918996992\n",
      "epoch : 44  w1 : 1.7379664574423404 w2 : 2.212509678598075 b : 3.247411507401848\n",
      "-----------------------------------------------------------------------------------\n",
      "MSE : 19.978561683722948\n",
      "epoch : 45  w1 : 1.7637176411690088 w2 : 2.233769081278713 b : 3.285268615458119\n",
      "-----------------------------------------------------------------------------------\n",
      "MSE : 19.524699982754115\n",
      "epoch : 46  w1 : 1.7890817023533148 w2 : 2.254659207387633 b : 3.322404390599804\n",
      "-----------------------------------------------------------------------------------\n",
      "MSE : 19.08919256087525\n",
      "epoch : 47  w1 : 1.8140654812508719 w2 : 2.2751866528159352 b : 3.3588316957596738\n",
      "-----------------------------------------------------------------------------------\n",
      "MSE : 18.67135113101837\n",
      "epoch : 48  w1 : 1.8386756963015958 w2 : 2.2953578959345093 b : 3.394563164705942\n",
      "-----------------------------------------------------------------------------------\n",
      "MSE : 18.27051242571186\n",
      "epoch : 49  w1 : 1.8629189462998332 w2 : 2.3151792996876828 b : 3.4296112061248745\n",
      "-----------------------------------------------------------------------------------\n",
      "MSE : 17.88603730087165\n",
      "epoch : 50  w1 : 1.886801712525829 w2 : 2.334657113649572 b : 3.463988007630659\n",
      "-----------------------------------------------------------------------------------\n",
      "MSE : 17.517309871465635\n",
      "epoch : 51  w1 : 1.9103303608392201 w2 : 2.3537974760437983 b : 3.4977055397038423\n",
      "-----------------------------------------------------------------------------------\n",
      "MSE : 17.163736677921875\n",
      "epoch : 52  w1 : 1.933511143735235 w2 : 2.3726064157272226 b : 3.5307755595596046\n",
      "-----------------------------------------------------------------------------------\n",
      "MSE : 16.824745882190967\n",
      "epoch : 53  w1 : 1.9563502023642612 w2 : 2.3910898541383387 b : 3.563209614947116\n",
      "-----------------------------------------------------------------------------------\n",
      "MSE : 16.499786492411477\n",
      "epoch : 54  w1 : 1.9788535685154334 w2 : 2.4092536072109585 b : 3.5950190478812107\n",
      "-----------------------------------------------------------------------------------\n",
      "MSE : 16.188327615164713\n",
      "epoch : 55  w1 : 2.001027166564884 w2 : 2.4271033872538013 b : 3.6262149983075798\n",
      "-----------------------------------------------------------------------------------\n",
      "MSE : 15.889857734340701\n",
      "epoch : 56  w1 : 2.0228768153892873 w2 : 2.444644804796599 b : 3.656808407702666\n",
      "-----------------------------------------------------------------------------------\n",
      "MSE : 15.603884015672106\n",
      "epoch : 57  w1 : 2.0444082302453084 w2 : 2.461883370403315 b : 3.6868100226094302\n",
      "-----------------------------------------------------------------------------------\n",
      "MSE : 15.329931636025993\n",
      "epoch : 58  w1 : 2.0656270246155763 w2 : 2.478824496453056 b : 3.716230398110123\n",
      "-----------------------------------------------------------------------------------\n",
      "MSE : 15.067543136575702\n",
      "epoch : 59  w1 : 2.086538712021766 w2 : 2.495473498889261 b : 3.7450799012371925\n",
      "-----------------------------------------------------------------------------------\n",
      "MSE : 14.816277799006025\n",
      "epoch : 60  w1 : 2.107148707805382 w2 : 2.5118355989377257 b : 3.773368714323423\n",
      "-----------------------------------------------------------------------------------\n",
      "MSE : 14.575711043934934\n",
      "epoch : 61  w1 : 2.1274623308768157 w2 : 2.5279159247940197 b : 3.8011068382923936\n",
      "-----------------------------------------------------------------------------------\n",
      "MSE : 14.345433850763996\n",
      "epoch : 62  w1 : 2.147484805433246 w2 : 2.543719513280845 b : 3.8283040958903127\n",
      "-----------------------------------------------------------------------------------\n",
      "MSE : 14.12505219819744\n",
      "epoch : 63  w1 : 2.167221262645931 w2 : 2.5592513114758635 b : 3.854970134860282\n",
      "-----------------------------------------------------------------------------------\n",
      "MSE : 13.914186524696778\n",
      "epoch : 64  w1 : 2.1866767423174456 w2 : 2.574516178310531 b : 3.881114431060006\n",
      "-----------------------------------------------------------------------------------\n",
      "MSE : 13.712471208163851\n",
      "epoch : 65  w1 : 2.2058561945093906 w2 : 2.589518886140441 b : 3.9067462915239632\n",
      "-----------------------------------------------------------------------------------\n",
      "MSE : 13.519554064170142\n",
      "epoch : 66  w1 : 2.2247644811411056 w2 : 2.6042641222876988 b : 3.9318748574710196\n",
      "-----------------------------------------------------------------------------------\n",
      "MSE : 13.33509586207441\n",
      "epoch : 67  w1 : 2.2434063775599022 w2 : 2.618756490555813 b : 3.9565091072584657\n",
      "-----------------------------------------------------------------------------------\n",
      "MSE : 13.158769858393871\n",
      "epoch : 68  w1 : 2.2617865740833207 w2 : 2.633000512717602 b : 3.980657859283424\n",
      "-----------------------------------------------------------------------------------\n",
      "MSE : 12.990261346816805\n",
      "epoch : 69  w1 : 2.279909677513913 w2 : 2.647000629976592 b : 4.004329774832568\n",
      "-----------------------------------------------------------------------------------\n",
      "MSE : 12.829267224265953\n",
      "epoch : 70  w1 : 2.297780212627039 w2 : 2.6607612044023803 b : 4.027533360881075\n",
      "-----------------------------------------------------------------------------------\n",
      "MSE : 12.675495572443031\n",
      "epoch : 71  w1 : 2.315402623632158 w2 : 2.6742865203404267 b : 4.050276972841714\n",
      "-----------------------------------------------------------------------------------\n",
      "MSE : 12.528665254305015\n",
      "epoch : 72  w1 : 2.332781275608087 w2 : 2.6875807857967313 b : 4.072568817264954\n",
      "-----------------------------------------------------------------------------------\n",
      "MSE : 12.388505524941975\n",
      "epoch : 73  w1 : 2.349920455912688 w2 : 2.7006481337978423 b : 4.0944169544909785\n",
      "-----------------------------------------------------------------------------------\n",
      "MSE : 12.254755656345337\n",
      "epoch : 74  w1 : 2.366824375567445 w2 : 2.7134926237266344 b : 4.115829301254446\n",
      "-----------------------------------------------------------------------------------\n",
      "MSE : 12.127164575573367\n",
      "epoch : 75  w1 : 2.3834971706173715 w2 : 2.7261182426342923 b : 4.136813633242849\n",
      "-----------------------------------------------------------------------------------\n",
      "MSE : 12.005490515838146\n",
      "epoch : 76  w1 : 2.399942903466693 w2 : 2.7385289065289196 b : 4.157377587609299\n",
      "-----------------------------------------------------------------------------------\n",
      "MSE : 11.889500680055228\n",
      "epoch : 77  w1 : 2.416165564190732 w2 : 2.7507284616411916 b : 4.177528665440539\n",
      "-----------------------------------------------------------------------------------\n",
      "MSE : 11.778970916413307\n",
      "epoch : 78  w1 : 2.432169071824424 w2 : 2.7627206856674595 b : 4.197274234180991\n",
      "-----------------------------------------------------------------------------------\n",
      "MSE : 11.673685405537077\n",
      "epoch : 79  w1 : 2.447957275627879 w2 : 2.7745092889907097 b : 4.216621530013624\n",
      "-----------------------------------------------------------------------------------\n",
      "MSE : 11.573436358831337\n",
      "epoch : 80  w1 : 2.4635339563293916 w2 : 2.7860979158797696 b : 4.235577660198398\n",
      "-----------------------------------------------------------------------------------\n",
      "MSE : 11.478023727609186\n",
      "epoch : 81  w1 : 2.478902827346314 w2 : 2.797490145667152 b : 4.254149605369055\n",
      "-----------------------------------------------------------------------------------\n",
      "MSE : 11.38725492262117\n",
      "epoch : 82  w1 : 2.494067535984173 w2 : 2.8086894939059137 b : 4.272344221788987\n",
      "-----------------------------------------------------------------------------------\n",
      "MSE : 11.300944543615719\n",
      "epoch : 83  w1 : 2.5090316646144295 w2 : 2.8196994135059064 b : 4.290168243566917\n",
      "-----------------------------------------------------------------------------------\n",
      "MSE : 11.218914118574494\n",
      "epoch : 84  w1 : 2.5237987318312514 w2 : 2.830523295849783 b : 4.307628284833114\n",
      "-----------------------------------------------------------------------------------\n",
      "MSE : 11.140991852278635\n",
      "epoch : 85  w1 : 2.5383721935876817 w2 : 2.8411644718891242 b : 4.324730841876827\n",
      "-----------------------------------------------------------------------------------\n",
      "MSE : 11.067012383874342\n",
      "epoch : 86  w1 : 2.552755444311565 w2 : 2.8516262132210373 b : 4.3414822952456475\n",
      "-----------------------------------------------------------------------------------\n",
      "MSE : 10.996816553117842\n",
      "epoch : 87  w1 : 2.5669518180015936 w2 : 2.861911733145572 b : 4.357888911807473\n",
      "-----------------------------------------------------------------------------------\n",
      "MSE : 10.930251174991081\n",
      "epoch : 88  w1 : 2.5809645893038247 w2 : 2.872024187704303 b : 4.373956846775729\n",
      "-----------------------------------------------------------------------------------\n",
      "MSE : 10.867168822390559\n",
      "epoch : 89  w1 : 2.5947969745690243 w2 : 2.8819666767004066 b : 4.38969214569852\n",
      "-----------------------------------------------------------------------------------\n",
      "MSE : 10.807427616602133\n",
      "epoch : 90  w1 : 2.6084521328911716 w2 : 2.8917422447005663 b : 4.405100746412336\n",
      "-----------------------------------------------------------------------------------\n",
      "MSE : 10.750891025284885\n",
      "epoch : 91  w1 : 2.621933167127462 w2 : 2.901353882019028 b : 4.4201884809609595\n",
      "-----------------------------------------------------------------------------------\n",
      "MSE : 10.69742766769697\n",
      "epoch : 92  w1 : 2.6352431249001382 w2 : 2.910804525684125 b : 4.434961077480181\n",
      "-----------------------------------------------------------------------------------\n",
      "MSE : 10.646911126905648\n",
      "epoch : 93  w1 : 2.648384999580477 w2 : 2.9200970603875844 b : 4.4494241620489445\n",
      "-----------------------------------------------------------------------------------\n",
      "MSE : 10.599219768733173\n",
      "epoch : 94  w1 : 2.6613617312552416 w2 : 2.9292343194169215 b : 4.4635832605075105\n",
      "-----------------------------------------------------------------------------------\n",
      "MSE : 10.554236567198652\n",
      "epoch : 95  w1 : 2.67417620767592 w2 : 2.938219085571221 b : 4.477443800243228\n",
      "-----------------------------------------------------------------------------------\n",
      "MSE : 10.511848936224776\n",
      "epoch : 96  w1 : 2.686831265191051 w2 : 2.947054092060607 b : 4.491011111944494\n",
      "-----------------------------------------------------------------------------------\n",
      "MSE : 10.47194856738633\n",
      "epoch : 97  w1 : 2.699329689661941 w2 : 2.9557420233896883 b : 4.504290431323467\n",
      "-----------------------------------------------------------------------------------\n",
      "MSE : 10.434431273485432\n",
      "epoch : 98  w1 : 2.711674217362067 w2 : 2.964285516225261 b : 4.517286900808086\n",
      "-----------------------------------------------------------------------------------\n",
      "MSE : 10.399196837745954\n",
      "epoch : 99  w1 : 2.723867535860457 w2 : 2.972687160248559 b : 4.530005571203953\n",
      "-----------------------------------------------------------------------------------\n",
      "MSE : 10.366148868427082\n",
      "epoch : 100  w1 : 2.7359122848893342 w2 : 2.9809494989923158 b : 4.542451403326599\n",
      "-----------------------------------------------------------------------------------\n",
      "MSE : 10.335194658662875\n",
      "epoch : 101  w1 : 2.7478110571962993 w2 : 2.989075030662918 b : 4.554629269604682\n",
      "-----------------------------------------------------------------------------------\n",
      "MSE : 10.306245051341747\n",
      "epoch : 102  w1 : 2.7595663993813377 w2 : 2.9970662089479103 b : 4.566543955654616\n",
      "-----------------------------------------------------------------------------------\n",
      "MSE : 10.27921430884624\n",
      "epoch : 103  w1 : 2.7711808127189106 w2 : 3.004925443809114 b : 4.578200161827151\n",
      "-----------------------------------------------------------------------------------\n",
      "MSE : 10.254019987479873\n",
      "epoch : 104  w1 : 2.782656753965402 w2 : 3.012655102261618 b : 4.589602504726395\n",
      "-----------------------------------------------------------------------------------\n",
      "MSE : 10.230582816414033\n",
      "epoch : 105  w1 : 2.7939966361521797 w2 : 3.0202575091388897 b : 4.600755518701788\n",
      "-----------------------------------------------------------------------------------\n",
      "MSE : 10.20882658099374\n",
      "epoch : 106  w1 : 2.805202829364532 w2 : 3.027734947844258 b : 4.611663657313478\n",
      "-----------------------------------------------------------------------------------\n",
      "MSE : 10.188678010246893\n",
      "epoch : 107  w1 : 2.8162776615067213 w2 : 3.035089661089005 b : 4.622331294771608\n",
      "-----------------------------------------------------------------------------------\n",
      "MSE : 10.170066668447072\n",
      "epoch : 108  w1 : 2.827223419053413 w2 : 3.042323851617312 b : 4.632762727349948\n",
      "-----------------------------------------------------------------------------------\n",
      "MSE : 10.152924850585316\n",
      "epoch : 109  w1 : 2.8380423477877152 w2 : 3.049439682918288 b : 4.642962174774353\n",
      "-----------------------------------------------------------------------------------\n",
      "MSE : 10.13718748161143\n",
      "epoch : 110  w1 : 2.848736653526073 w2 : 3.0564392799253155 b : 4.652933781586482\n",
      "-----------------------------------------------------------------------------------\n",
      "MSE : 10.122792019310289\n",
      "epoch : 111  w1 : 2.859308502830244 w2 : 3.0633247297029342 b : 4.6626816184832185\n",
      "-----------------------------------------------------------------------------------\n",
      "MSE : 10.109678360683473\n",
      "epoch : 112  w1 : 2.8697600237065943 w2 : 3.0700980821214916 b : 4.672209683632236\n",
      "-----------------------------------------------------------------------------------\n",
      "MSE : 10.097788751711022\n",
      "epoch : 113  w1 : 2.8800933062929346 w2 : 3.0767613505197713 b : 4.6815219039641205\n",
      "-----------------------------------------------------------------------------------\n",
      "MSE : 10.087067700372689\n",
      "epoch : 114  w1 : 2.89031040353312 w2 : 3.083316512355818 b : 4.690622136441478\n",
      "-----------------------------------------------------------------------------------\n",
      "MSE : 10.077461892812295\n",
      "epoch : 115  w1 : 2.9004133318396326 w2 : 3.0897655098461696 b : 4.699514169305429\n",
      "-----------------------------------------------------------------------------------\n",
      "MSE : 10.06892011253286\n",
      "epoch : 116  w1 : 2.910404071744359 w2 : 3.0961102505936964 b : 4.708201723299899\n",
      "-----------------------------------------------------------------------------------\n",
      "MSE : 10.061393162514333\n",
      "epoch : 117  w1 : 2.920284568537776 w2 : 3.1023526082042605 b : 4.716688452874098\n",
      "-----------------------------------------------------------------------------------\n",
      "MSE : 10.054833790149381\n",
      "epoch : 118  w1 : 2.930056732896747 w2 : 3.108494422892387 b : 4.724977947363574\n",
      "-----------------------------------------------------------------------------------\n",
      "MSE : 10.049196614896612\n",
      "epoch : 119  w1 : 2.9397224415011345 w2 : 3.114537502076145 b : 4.733073732150235\n",
      "-----------------------------------------------------------------------------------\n",
      "MSE : 10.044438058554022\n",
      "epoch : 120  w1 : 2.949283537639431 w2 : 3.1204836209614304 b : 4.740979269801691\n",
      "-----------------------------------------------------------------------------------\n",
      "MSE : 10.040516278058993\n",
      "epoch : 121  w1 : 2.958741831803595 w2 : 3.1263345231158404 b : 4.748697961190313\n",
      "-----------------------------------------------------------------------------------\n",
      "MSE : 10.037391100724504\n",
      "epoch : 122  w1 : 2.968099102273294 w2 : 3.132091921032325 b : 4.756233146592347\n",
      "-----------------------------------------------------------------------------------\n",
      "MSE : 10.035023961824365\n",
      "epoch : 123  w1 : 2.977357095689736 w2 : 3.1377574966827955 b : 4.763588106767448\n",
      "-----------------------------------------------------------------------------------\n",
      "MSE : 10.033377844443454\n",
      "epoch : 124  w1 : 2.986517527619284 w2 : 3.14333290206187 b : 4.770766064018983\n",
      "-----------------------------------------------------------------------------------\n",
      "MSE : 10.032417221511858\n",
      "epoch : 125  w1 : 2.995582083107021 w2 : 3.1488197597209346 b : 4.777770183235448\n",
      "-----------------------------------------------------------------------------------\n",
      "MSE : 10.032107999944769\n",
      "epoch : 126  w1 : 3.004552417220461 w2 : 3.154219663292687 b : 4.784603572913327\n",
      "-----------------------------------------------------------------------------------\n",
      "MSE : 10.032417466812696\n",
      "epoch : 127  w1 : 3.0134301555835696 w2 : 3.159534178006338 b : 4.79126928616173\n",
      "-----------------------------------------------------------------------------------\n",
      "MSE : 10.033314237469298\n",
      "epoch : 128  w1 : 3.0222168949012715 w2 : 3.1647648411936333 b : 4.797770321689132\n",
      "-----------------------------------------------------------------------------------\n",
      "MSE : 10.034768205566685\n",
      "epoch : 129  w1 : 3.030914203474615 w2 : 3.16991316278586 b : 4.804109624772541\n",
      "-----------------------------------------------------------------------------------\n",
      "MSE : 10.03675049489056\n",
      "epoch : 130  w1 : 3.039523621706758 w2 : 3.1749806258020006 b : 4.810290088209387\n",
      "-----------------------------------------------------------------------------------\n",
      "MSE : 10.039233412949928\n",
      "epoch : 131  w1 : 3.0480466625999396 w2 : 3.179968686828187 b : 4.816314553252462\n",
      "-----------------------------------------------------------------------------------\n",
      "MSE : 10.042190406258522\n",
      "epoch : 132  w1 : 3.056484812243599 w2 : 3.1848787764886177 b : 4.822185810528205\n",
      "-----------------------------------------------------------------------------------\n",
      "MSE : 10.045596017247203\n",
      "epoch : 133  w1 : 3.0648395302937965 w2 : 3.189712299908082 b : 4.82790660093862\n",
      "-----------------------------------------------------------------------------------\n",
      "MSE : 10.049425842748862\n",
      "epoch : 134  w1 : 3.0731122504440975 w2 : 3.194470637166246 b : 4.833479616547135\n",
      "-----------------------------------------------------------------------------------\n",
      "MSE : 10.053656493999364\n",
      "epoch : 135  w1 : 3.0813043808880636 w2 : 3.1991551437438437 b : 4.838907501448669\n",
      "-----------------------------------------------------------------------------------\n",
      "MSE : 10.058265558100127\n",
      "epoch : 136  w1 : 3.0894173047735056 w2 : 3.2037671509609216 b : 4.844192852624211\n",
      "-----------------------------------------------------------------------------------\n",
      "MSE : 10.063231560889843\n",
      "epoch : 137  w1 : 3.0974523806486456 w2 : 3.208307966407273 b : 4.849338220780163\n",
      "-----------------------------------------------------------------------------------\n",
      "MSE : 10.068533931174706\n",
      "epoch : 138  w1 : 3.105410942900328 w2 : 3.2127788743652066 b : 4.85434611117274\n",
      "-----------------------------------------------------------------------------------\n",
      "MSE : 10.07415296626836\n",
      "epoch : 139  w1 : 3.1132943021844275 w2 : 3.2171811362247826 b : 4.859218984417673\n",
      "-----------------------------------------------------------------------------------\n",
      "MSE : 10.080069798794465\n",
      "epoch : 140  w1 : 3.121103745848584 w2 : 3.2215159908916506 b : 4.863959257285497\n",
      "-----------------------------------------------------------------------------------\n",
      "MSE : 10.086266364706493\n",
      "epoch : 141  w1 : 3.128840538347412 w2 : 3.225784655187622 b : 4.868569303482663\n",
      "-----------------------------------------------------------------------------------\n",
      "MSE : 10.092725372480976\n",
      "epoch : 142  w1 : 3.136505921650308 w2 : 3.229988324244107 b : 4.873051454418738\n",
      "-----------------------------------------------------------------------------------\n",
      "MSE : 10.099430273441977\n",
      "epoch : 143  w1 : 3.1441011156419987 w2 : 3.234128171888542 b : 4.87740799995994\n",
      "-----------------------------------------------------------------------------------\n",
      "MSE : 10.106365233176048\n",
      "epoch : 144  w1 : 3.1516273185159465 w2 : 3.2382053510239324 b : 4.881641189169239\n",
      "-----------------------------------------------------------------------------------\n",
      "MSE : 10.11351510399846\n",
      "epoch : 145  w1 : 3.1590857071607514 w2 : 3.2422209940016335 b : 4.885753231033286\n",
      "-----------------------------------------------------------------------------------\n",
      "MSE : 10.120865398432798\n",
      "epoch : 146  w1 : 3.166477437539668 w2 : 3.2461762129874923 b : 4.889746295176383\n",
      "-----------------------------------------------------------------------------------\n",
      "MSE : 10.12840226366739\n",
      "epoch : 147  w1 : 3.173803645063361 w2 : 3.2500721003214625 b : 4.893622512561732\n",
      "-----------------------------------------------------------------------------------\n",
      "MSE : 10.136112456953427\n",
      "epoch : 148  w1 : 3.1810654449560185 w2 : 3.253909728870818 b : 4.897383976180201\n",
      "-----------------------------------------------------------------------------------\n",
      "MSE : 10.143983321910754\n",
      "epoch : 149  w1 : 3.1882639326149467 w2 : 3.2576901523770694 b : 4.901032741726807\n",
      "-----------------------------------------------------------------------------------\n",
      "MSE : 10.15200276570859\n",
      "epoch : 150  w1 : 3.1954001839637542 w2 : 3.261414405796702 b : 4.904570828265159\n",
      "-----------------------------------------------------------------------------------\n",
      "MSE : 10.160159237089648\n",
      "epoch : 151  w1 : 3.2024752557992486 w2 : 3.265083505635844 b : 4.908000218880055\n",
      "-----------------------------------------------------------------------------------\n",
      "MSE : 10.168441705207158\n",
      "epoch : 152  w1 : 3.209490186132148 w2 : 3.268698450278972 b : 4.911322861318458\n",
      "-----------------------------------------------------------------------------------\n",
      "MSE : 10.17683963924545\n",
      "epoch : 153  w1 : 3.2164459945217287 w2 : 3.2722602203117592 b : 4.91454066861905\n",
      "-----------------------------------------------------------------------------------\n",
      "MSE : 10.185342988795801\n",
      "epoch : 154  w1 : 3.223343682404505 w2 : 3.275769778838175 b : 4.917655519730573\n",
      "-----------------------------------------------------------------------------------\n",
      "MSE : 10.193942164960184\n",
      "epoch : 155  w1 : 3.2301842334170585 w2 : 3.2792280717919335 b : 4.920669260119153\n",
      "-----------------------------------------------------------------------------------\n",
      "MSE : 10.202628022156677\n",
      "epoch : 156  w1 : 3.2369686137131133 w2 : 3.282636028242391 b : 4.9235837023648035\n",
      "-----------------------------------------------------------------------------------\n",
      "MSE : 10.211391840601069\n",
      "epoch : 157  w1 : 3.2436977722749636 w2 : 3.285994560695001 b : 4.926400626747303\n",
      "-----------------------------------------------------------------------------------\n",
      "MSE : 10.220225309440243\n",
      "epoch : 158  w1 : 3.250372641219353 w2 : 3.2893045653864084 b : 4.929121781821636\n",
      "-----------------------------------------------------------------------------------\n",
      "MSE : 10.229120510513678\n",
      "epoch : 159  w1 : 3.256994136097905 w2 : 3.2925669225742915 b : 4.931748884983181\n",
      "-----------------------------------------------------------------------------------\n",
      "MSE : 10.238069902720369\n",
      "epoch : 160  w1 : 3.2635631561922 w2 : 3.2957824968220404 b : 4.934283623022827\n",
      "-----------------------------------------------------------------------------------\n",
      "MSE : 10.247066306969153\n",
      "epoch : 161  w1 : 3.2700805848035968 w2 : 3.298952137278361 b : 4.93672765267221\n",
      "-----------------------------------------------------------------------------------\n",
      "MSE : 10.256102891691349\n",
      "epoch : 162  w1 : 3.2765472895378895 w2 : 3.3020766779519 b : 4.939082601139225\n",
      "-----------------------------------------------------------------------------------\n",
      "MSE : 10.265173158895248\n",
      "epoch : 163  w1 : 3.2829641225848967 w2 : 3.305156937980977 b : 4.941350066634001\n",
      "-----------------------------------------------------------------------------------\n",
      "MSE : 10.274270930742816\n",
      "epoch : 164  w1 : 3.2893319209930643 w2 : 3.308193721898511 b : 4.943531618885514\n",
      "-----------------------------------------------------------------------------------\n",
      "MSE : 10.283390336629653\n",
      "epoch : 165  w1 : 3.2956515069391807 w2 : 3.3111878198922264 b : 4.94562879964898\n",
      "-----------------------------------------------------------------------------------\n",
      "MSE : 10.292525800749841\n",
      "epoch : 166  w1 : 3.3019236879932863 w2 : 3.3141400080602264 b : 4.947643123204228\n",
      "-----------------------------------------------------------------------------------\n",
      "MSE : 10.301672030128163\n",
      "epoch : 167  w1 : 3.3081492573788607 w2 : 3.3170510486620093 b : 4.949576076845177\n",
      "-----------------------------------------------------------------------------------\n",
      "MSE : 10.310824003102589\n",
      "epoch : 168  w1 : 3.3143289942283785 w2 : 3.3199216903650153 b : 4.951429121360604\n",
      "-----------------------------------------------------------------------------------\n",
      "MSE : 10.319976958240694\n",
      "epoch : 169  w1 : 3.32046366383431 w2 : 3.3227526684867805 b : 4.953203691506344\n",
      "-----------------------------------------------------------------------------------\n",
      "MSE : 10.329126383674147\n",
      "epoch : 170  w1 : 3.3265540178956514 w2 : 3.325544705232778 b : 4.954901196469074\n",
      "-----------------------------------------------------------------------------------\n",
      "MSE : 10.33826800683614\n",
      "epoch : 171  w1 : 3.3326007947600624 w2 : 3.328298509930018 b : 4.956523020321844\n",
      "-----------------------------------------------------------------------------------\n",
      "MSE : 10.347397784586917\n",
      "epoch : 172  w1 : 3.3386047196616904 w2 : 3.331014779256493 b : 4.9580705224714805\n",
      "-----------------------------------------------------------------------------------\n",
      "MSE : 10.356511893713334\n",
      "epoch : 173  w1 : 3.3445665049547575 w2 : 3.333694197466527 b : 4.959545038098027\n",
      "-----------------------------------------------------------------------------------\n",
      "MSE : 10.365606721788808\n",
      "epoch : 174  w1 : 3.350486850342987 w2 : 3.336337436612119 b : 4.960947878586358\n",
      "-----------------------------------------------------------------------------------\n",
      "MSE : 10.3746788583804\n",
      "epoch : 175  w1 : 3.3563664431049425 w2 : 3.338945156760334 b : 4.962280331950096\n",
      "-----------------------------------------------------------------------------------\n",
      "MSE : 10.38372508659042\n",
      "epoch : 176  w1 : 3.36220595831535 w2 : 3.34151800620683 b : 4.963543663247979\n",
      "-----------------------------------------------------------------------------------\n",
      "MSE : 10.392742374920259\n",
      "epoch : 177  w1 : 3.368006059062482 w2 : 3.3440566216855747 b : 4.964739114992819\n",
      "-----------------------------------------------------------------------------------\n",
      "MSE : 10.401727869444715\n",
      "epoch : 178  w1 : 3.3737673966616644 w2 : 3.346561628574828 b : 4.965867907553159\n",
      "-----------------------------------------------------------------------------------\n",
      "MSE : 10.410678886285364\n",
      "epoch : 179  w1 : 3.379490610864983 w2 : 3.3490336410994566 b : 4.966931239547789\n",
      "-----------------------------------------------------------------------------------\n",
      "MSE : 10.419592904372042\n",
      "epoch : 180  w1 : 3.385176330067252 w2 : 3.3514732625296406 b : 4.967930288233226\n",
      "-----------------------------------------------------------------------------------\n",
      "MSE : 10.428467558481916\n",
      "epoch : 181  w1 : 3.3908251715083133 w2 : 3.3538810853760443 b : 4.968866209884291\n",
      "-----------------------------------------------------------------------------------\n",
      "MSE : 10.43730063254586\n",
      "epoch : 182  w1 : 3.396437741471733 w2 : 3.3562576915815074 b : 4.969740140167908\n",
      "-----------------------------------------------------------------------------------\n",
      "MSE : 10.44609005321237\n",
      "epoch : 183  w1 : 3.4020146354799574 w2 : 3.3586036527093213 b : 4.970553194510248\n",
      "-----------------------------------------------------------------------------------\n",
      "MSE : 10.454833883659555\n",
      "epoch : 184  w1 : 3.4075564384859924 w2 : 3.3609195301281516 b : 4.9713064684573185\n",
      "-----------------------------------------------------------------------------------\n",
      "MSE : 10.46353031764606\n",
      "epoch : 185  w1 : 3.4130637250616687 w2 : 3.3632058751936675 b : 4.972001038029148\n",
      "-----------------------------------------------------------------------------------\n",
      "MSE : 10.472177673792087\n",
      "epoch : 186  w1 : 3.4185370595825506 w2 : 3.3654632294269335 b : 4.972637960067644\n",
      "-----------------------------------------------------------------------------------\n",
      "MSE : 10.480774390082095\n",
      "epoch : 187  w1 : 3.4239769964095554 w2 : 3.367692124689624 b : 4.973218272578262\n",
      "-----------------------------------------------------------------------------------\n",
      "MSE : 10.489319018580959\n",
      "epoch : 188  w1 : 3.4293840800673316 w2 : 3.3698930833561143 b : 4.97374299506559\n",
      "-----------------------------------------------------------------------------------\n",
      "MSE : 10.497810220355715\n",
      "epoch : 189  w1 : 3.4347588454194637 w2 : 3.372066618482511 b : 4.974213128862944\n",
      "-----------------------------------------------------------------------------------\n",
      "MSE : 10.506246760595292\n",
      "epoch : 190  w1 : 3.4401018178405534 w2 : 3.3742132339726663 b : 4.974629657456106\n",
      "-----------------------------------------------------------------------------------\n",
      "MSE : 10.514627503920932\n",
      "epoch : 191  w1 : 3.4454135133852364 w2 : 3.376333424741234 b : 4.97499354680128\n",
      "-----------------------------------------------------------------------------------\n",
      "MSE : 10.522951409880188\n",
      "epoch : 192  w1 : 3.4506944389541876 w2 : 3.3784276768738257 b : 4.975305745637398\n",
      "-----------------------------------------------------------------------------------\n",
      "MSE : 10.531217528617738\n",
      "epoch : 193  w1 : 3.4559450924571684 w2 : 3.3804964677843103 b : 4.975567185792847\n",
      "-----------------------------------------------------------------------------------\n",
      "MSE : 10.539424996716482\n",
      "epoch : 194  w1 : 3.461165962973171 w2 : 3.3825402663693107 b : 4.975778782486744\n",
      "-----------------------------------------------------------------------------------\n",
      "MSE : 10.547573033202486\n",
      "epoch : 195  w1 : 3.466357530907706 w2 : 3.38455953315995 b : 4.97594143462484\n",
      "-----------------------------------------------------------------------------------\n",
      "MSE : 10.55566093570784\n",
      "epoch : 196  w1 : 3.4715202681472945 w2 : 3.386554720470893 b : 4.976056025090148\n",
      "-----------------------------------------------------------------------------------\n",
      "MSE : 10.563688076785441\n",
      "epoch : 197  w1 : 3.4766546382112002 w2 : 3.3885262725467338 b : 4.976123421028401\n",
      "-----------------------------------------------------------------------------------\n",
      "MSE : 10.571653900370062\n",
      "epoch : 198  w1 : 3.4817610964004646 w2 : 3.3904746257057736 b : 4.976144474128417\n",
      "-----------------------------------------------------------------------------------\n",
      "MSE : 10.579557918380342\n",
      "epoch : 199  w1 : 3.486840089944284 w2 : 3.392400208481239 b : 4.976120020897475\n",
      "-----------------------------------------------------------------------------------\n",
      "MSE : 10.587399707456273\n",
      "epoch : 200  w1 : 3.4918920581437787 w2 : 3.394303441759982 b : 4.976050882931781\n",
      "-----------------------------------------------------------------------------------\n",
      "MSE : 10.595178905827288\n",
      "epoch : 201  w1 : 3.496917432513203 w2 : 3.3961847389187145 b : 4.975937867182121\n",
      "-----------------------------------------------------------------------------------\n",
      "MSE : 10.602895210305975\n",
      "epoch : 202  w1 : 3.5019166369186374 w2 : 3.398044505957807 b : 4.975781766214773\n",
      "-----------------------------------------------------------------------------------\n",
      "MSE : 10.61054837340273\n",
      "epoch : 203  w1 : 3.5068900877142113 w2 : 3.3998831416327113 b : 4.975583358467781\n",
      "-----------------------------------------------------------------------------------\n",
      "MSE : 10.618138200556816\n",
      "epoch : 204  w1 : 3.511838193875899 w2 : 3.401701037583039 b : 4.9753434085026536\n",
      "-----------------------------------------------------------------------------------\n",
      "MSE : 10.62566454747948\n",
      "epoch : 205  w1 : 3.5167613571329297 w2 : 3.4034985784593403 b : 4.975062667251586\n",
      "-----------------------------------------------------------------------------------\n",
      "MSE : 10.633127317604867\n",
      "epoch : 206  w1 : 3.5216599720968613 w2 : 3.405276142047624 b : 4.974741872260273\n",
      "-----------------------------------------------------------------------------------\n",
      "MSE : 10.640526459644754\n",
      "epoch : 207  w1 : 3.52653442638835 w2 : 3.4070340993916606 b : 4.974381747926399\n",
      "-----------------------------------------------------------------------------------\n",
      "MSE : 10.647861965243107\n",
      "epoch : 208  w1 : 3.5313851007616623 w2 : 3.4087728149131045 b : 4.973983005733879\n",
      "-----------------------------------------------------------------------------------\n",
      "MSE : 10.655133866726757\n",
      "epoch : 209  w1 : 3.536212369226973 w2 : 3.4104926465294776 b : 4.973546344482923\n",
      "-----------------------------------------------------------------------------------\n",
      "MSE : 10.662342234948538\n",
      "epoch : 210  w1 : 3.5410165991704776 w2 : 3.412193945770051 b : 4.973072450516008\n",
      "-----------------------------------------------------------------------------------\n",
      "MSE : 10.669487177219397\n",
      "epoch : 211  w1 : 3.5457981514723724 w2 : 3.4138770578896622 b : 4.9725619979398195\n",
      "-----------------------------------------------------------------------------------\n",
      "MSE : 10.676568835326123\n",
      "epoch : 212  w1 : 3.550557380622726 w2 : 3.4155423219805034 b : 4.972015648843239\n",
      "-----------------------------------------------------------------------------------\n",
      "MSE : 10.683587383631389\n",
      "epoch : 213  w1 : 3.555294634835292 w2 : 3.4171900710819196 b : 4.971434053511453\n",
      "-----------------------------------------------------------------------------------\n",
      "MSE : 10.690543027253067\n",
      "epoch : 214  w1 : 3.5600102561592886 w2 : 3.418820632288251 b : 4.970817850636241\n",
      "-----------------------------------------------------------------------------------\n",
      "MSE : 10.697436000319737\n",
      "epoch : 215  w1 : 3.564704580589193 w2 : 3.420434326854752 b : 4.97016766752252\n",
      "-----------------------------------------------------------------------------------\n",
      "MSE : 10.704266564299504\n",
      "epoch : 216  w1 : 3.5693779381725763 w2 : 3.422031470301626 b : 4.969484120291213\n",
      "-----------------------------------------------------------------------------------\n",
      "MSE : 10.711035006399339\n",
      "epoch : 217  w1 : 3.574030653116016 w2 : 3.4236123725162044 b : 4.968767814078498\n",
      "-----------------------------------------------------------------------------------\n",
      "MSE : 10.717741638032226\n",
      "epoch : 218  w1 : 3.5786630438891254 w2 : 3.425177337853307 b : 4.968019343231507\n",
      "-----------------------------------------------------------------------------------\n",
      "MSE : 10.72438679334956\n",
      "epoch : 219  w1 : 3.583275423326727 w2 : 3.426726665233813 b : 4.967239291500546\n",
      "-----------------------------------------------------------------------------------\n",
      "MSE : 10.730970827836227\n",
      "epoch : 220  w1 : 3.5878680987292064 w2 : 3.4282606482414772 b : 4.966428232227881\n",
      "-----------------------------------------------------------------------------------\n",
      "MSE : 10.737494116966042\n",
      "epoch : 221  w1 : 3.5924413719610797 w2 : 3.4297795752180216 b : 4.965586728533168\n",
      "-----------------------------------------------------------------------------------\n",
      "MSE : 10.743957054915159\n",
      "epoch : 222  w1 : 3.5969955395478017 w2 : 3.4312837293565304 b : 4.964715333495577\n",
      "-----------------------------------------------------------------------------------\n",
      "MSE : 10.750360053331237\n",
      "epoch : 223  w1 : 3.601530892770854 w2 : 3.4327733887931844 b : 4.963814590332668\n",
      "-----------------------------------------------------------------------------------\n",
      "MSE : 10.75670354015622\n",
      "epoch : 224  w1 : 3.6060477177611343 w2 : 3.4342488266973596 b : 4.962885032576088\n",
      "-----------------------------------------------------------------------------------\n",
      "MSE : 10.762987958500664\n",
      "epoch : 225  w1 : 3.610546295590686 w2 : 3.4357103113601197 b : 4.961927184244129\n",
      "-----------------------------------------------------------------------------------\n",
      "MSE : 10.769213765567578\n",
      "epoch : 226  w1 : 3.615026902362791 w2 : 3.4371581062811347 b : 4.9609415600112206\n",
      "-----------------------------------------------------------------------------------\n",
      "MSE : 10.775381431623902\n",
      "epoch : 227  w1 : 3.6194898093004593 w2 : 3.438592470254048 b : 4.959928665374396\n",
      "-----------------------------------------------------------------------------------\n",
      "MSE : 10.78149143901772\n",
      "epoch : 228  w1 : 3.6239352828333407 w2 : 3.4400136574503253 b : 4.958888996816796\n",
      "-----------------------------------------------------------------------------------\n",
      "MSE : 10.787544281239473\n",
      "epoch : 229  w1 : 3.6283635846830893 w2 : 3.4414219175016076 b : 4.9578230419682585\n",
      "-----------------------------------------------------------------------------------\n",
      "MSE : 10.793540462025435\n",
      "epoch : 230  w1 : 3.6327749719472067 w2 : 3.4428174955805986 b : 4.95673127976305\n",
      "-----------------------------------------------------------------------------------\n",
      "MSE : 10.799480494501765\n",
      "epoch : 231  w1 : 3.6371696971813914 w2 : 3.4442006324805106 b : 4.955614180594782\n",
      "-----------------------------------------------------------------------------------\n",
      "MSE : 10.805364900367609\n",
      "epoch : 232  w1 : 3.6415480084804215 w2 : 3.4455715646930942 b : 4.954472206468575\n",
      "-----------------------------------------------------------------------------------\n",
      "MSE : 10.811194209115653\n",
      "epoch : 233  w1 : 3.6459101495575963 w2 : 3.4469305244852797 b : 4.9533058111505\n",
      "-----------------------------------------------------------------------------------\n",
      "MSE : 10.816968957288704\n",
      "epoch : 234  w1 : 3.6502563598227633 w2 : 3.4482777399744515 b : 4.9521154403143735\n",
      "-----------------------------------------------------------------------------------\n",
      "MSE : 10.822689687770815\n",
      "epoch : 235  w1 : 3.6545868744589534 w2 : 3.4496134352023815 b : 4.950901531685921\n",
      "-----------------------------------------------------------------------------------\n",
      "MSE : 10.828356949111665\n",
      "epoch : 236  w1 : 3.6589019244976533 w2 : 3.4509378302078466 b : 4.949664515184386\n",
      "-----------------------------------------------------------------------------------\n",
      "MSE : 10.833971294882788\n",
      "epoch : 237  w1 : 3.663201736892735 w2 : 3.452251141097952 b : 4.948404813061606\n",
      "-----------------------------------------------------------------------------------\n",
      "MSE : 10.83953328306447\n",
      "epoch : 238  w1 : 3.66748653459307 w2 : 3.453553580118182 b : 4.947122840038614\n",
      "-----------------------------------------------------------------------------------\n",
      "MSE : 10.84504347546201\n",
      "epoch : 239  w1 : 3.671756536613847 w2 : 3.4548453557212064 b : 4.945819003439814\n",
      "-----------------------------------------------------------------------------------\n",
      "MSE : 10.850502437150215\n",
      "epoch : 240  w1 : 3.676011958106622 w2 : 3.456126672634459 b : 4.944493703324753\n",
      "-----------------------------------------------------------------------------------\n",
      "MSE : 10.855910735945033\n",
      "epoch : 241  w1 : 3.6802530104281197 w2 : 3.4573977319265103 b : 4.943147332617553\n",
      "-----------------------------------------------------------------------------------\n",
      "MSE : 10.861268941901107\n",
      "epoch : 242  w1 : 3.684479901207809 w2 : 3.4586587310722625 b : 4.941780277234038\n",
      "-----------------------------------------------------------------------------------\n",
      "MSE : 10.866577626834367\n",
      "epoch : 243  w1 : 3.6886928344142733 w2 : 3.459909864016978 b : 4.940392916206594\n",
      "-----------------------------------------------------------------------------------\n",
      "MSE : 10.871837363868519\n",
      "epoch : 244  w1 : 3.692892010420401 w2 : 3.461151321239172 b : 4.938985621806805\n",
      "-----------------------------------------------------------------------------------\n",
      "MSE : 10.877048727004524\n",
      "epoch : 245  w1 : 3.697077626067413 w2 : 3.4623832898123785 b : 4.937558759665902\n",
      "-----------------------------------------------------------------------------------\n",
      "MSE : 10.882212290712108\n",
      "epoch : 246  w1 : 3.70124987472775 w2 : 3.463605953465824 b : 4.93611268889307\n",
      "-----------------------------------------------------------------------------------\n",
      "MSE : 10.88732862954244\n",
      "epoch : 247  w1 : 3.7054089463668385 w2 : 3.464819492644012 b : 4.934647762191647\n",
      "-----------------------------------------------------------------------------------\n",
      "MSE : 10.892398317761035\n",
      "epoch : 248  w1 : 3.7095550276037588 w2 : 3.4660240845652535 b : 4.933164325973247\n",
      "-----------------------------------------------------------------------------------\n",
      "MSE : 10.897421929000142\n",
      "epoch : 249  w1 : 3.71368830177083 w2 : 3.467219903279148 b : 4.931662720469861\n",
      "-----------------------------------------------------------------------------------\n",
      "MSE : 10.90240003592975\n",
      "epoch : 250  w1 : 3.7178089489721344 w2 : 3.468407119723045 b : 4.930143279843947\n",
      "-----------------------------------------------------------------------------------\n",
      "MSE : 10.907333209946469\n",
      "epoch : 251  w1 : 3.721917146140999 w2 : 3.4695859017774984 b : 4.928606332296574\n",
      "-----------------------------------------------------------------------------------\n",
      "MSE : 10.912222020879533\n",
      "epoch : 252  w1 : 3.7260130670964537 w2 : 3.4707564143207326 b : 4.927052200173622\n",
      "-----------------------------------------------------------------------------------\n",
      "MSE : 10.917067036713199\n",
      "epoch : 253  w1 : 3.7300968825986818 w2 : 3.471918819282138 b : 4.92548120007011\n",
      "-----------------------------------------------------------------------------------\n",
      "MSE : 10.921868823324921\n",
      "epoch : 254  w1 : 3.734168760403486 w2 : 3.473073275694815 b : 4.923893642932646\n",
      "-----------------------------------------------------------------------------------\n",
      "MSE : 10.926627944238517\n",
      "epoch : 255  w1 : 3.7382288653157802 w2 : 3.474219939747179 b : 4.922289834160066\n",
      "-----------------------------------------------------------------------------------\n",
      "MSE : 10.931344960391833\n",
      "epoch : 256  w1 : 3.7422773592421326 w2 : 3.4753589648336503 b : 4.920670073702271\n",
      "-----------------------------------------------------------------------------------\n",
      "MSE : 10.936020429918178\n",
      "epoch : 257  w1 : 3.746314401242368 w2 : 3.4764905016044367 b : 4.9190346561573115\n",
      "-----------------------------------------------------------------------------------\n",
      "MSE : 10.940654907941019\n",
      "epoch : 258  w1 : 3.7503401475802556 w2 : 3.4776146980144316 b : 4.917383870866733\n",
      "-----------------------------------------------------------------------------------\n",
      "MSE : 10.945248946381309\n",
      "epoch : 259  w1 : 3.7543547517732887 w2 : 3.4787316993712403 b : 4.915718002009231\n",
      "-----------------------------------------------------------------------------------\n",
      "MSE : 10.949803093776977\n",
      "epoch : 260  w1 : 3.7583583646415835 w2 : 3.4798416483823518 b : 4.914037328692634\n",
      "-----------------------------------------------------------------------------------\n",
      "MSE : 10.954317895113975\n",
      "epoch : 261  w1 : 3.7623511343559013 w2 : 3.480944685201467 b : 4.912342125044248\n",
      "-----------------------------------------------------------------------------------\n",
      "MSE : 10.95879389166847\n",
      "epoch : 262  w1 : 3.7663332064848185 w2 : 3.4820409474740064 b : 4.910632660299588\n",
      "-----------------------------------------------------------------------------------\n",
      "MSE : 10.963231620859595\n",
      "epoch : 263  w1 : 3.7703047240410563 w2 : 3.4831305703818027 b : 4.90890919888954\n",
      "-----------------------------------------------------------------------------------\n",
      "MSE : 10.9676316161124\n",
      "epoch : 264  w1 : 3.774265827526982 w2 : 3.4842136866869993 b : 4.907172000525955\n",
      "-----------------------------------------------------------------------------------\n",
      "MSE : 10.971994406730445\n",
      "epoch : 265  w1 : 3.7782166549793033 w2 : 3.4852904267751663 b : 4.90542132028573\n",
      "-----------------------------------------------------------------------------------\n",
      "MSE : 10.97632051777775\n",
      "epoch : 266  w1 : 3.7821573420129653 w2 : 3.4863609186976494 b : 4.903657408693385\n",
      "-----------------------------------------------------------------------------------\n",
      "MSE : 10.980610469969536\n",
      "epoch : 267  w1 : 3.7860880218642636 w2 : 3.4874252882131622 b : 4.901880511802171\n",
      "-----------------------------------------------------------------------------------\n",
      "MSE : 10.984864779571446\n",
      "epoch : 268  w1 : 3.790008825433192 w2 : 3.488483658828639 b : 4.900090871273733\n",
      "-----------------------------------------------------------------------------------\n",
      "MSE : 10.989083958306878\n",
      "epoch : 269  w1 : 3.793919881325034 w2 : 3.4895361518393604 b : 4.8982887244563535\n",
      "-----------------------------------------------------------------------------------\n",
      "MSE : 10.993268513272003\n",
      "epoch : 270  w1 : 3.7978213158912153 w2 : 3.4905828863683612 b : 4.896474304461802\n",
      "-----------------------------------------------------------------------------------\n",
      "MSE : 10.997418946858174\n",
      "epoch : 271  w1 : 3.801713253269425 w2 : 3.49162397940514 b : 4.894647840240815\n",
      "-----------------------------------------------------------------------------------\n",
      "MSE : 11.001535756681351\n",
      "epoch : 272  w1 : 3.805595815423026 w2 : 3.4926595458436767 b : 4.89280955665723\n",
      "-----------------------------------------------------------------------------------\n",
      "MSE : 11.005619435518222\n",
      "epoch : 273  w1 : 3.809469122179762 w2 : 3.4936896985197734 b : 4.890959674560806\n",
      "-----------------------------------------------------------------------------------\n",
      "MSE : 11.009670471248757\n",
      "epoch : 274  w1 : 3.813333291269773 w2 : 3.4947145482477304 b : 4.889098410858735\n",
      "-----------------------------------------------------------------------------------\n",
      "MSE : 11.013689346804794\n",
      "epoch : 275  w1 : 3.8171884383629364 w2 : 3.495734203856368 b : 4.8872259785858905\n",
      "-----------------------------------------------------------------------------------\n",
      "MSE : 11.01767654012448\n",
      "epoch : 276  w1 : 3.821034677105541 w2 : 3.496748772224406 b : 4.885342586973815\n",
      "-----------------------------------------------------------------------------------\n",
      "MSE : 11.021632524112222\n",
      "epoch : 277  w1 : 3.824872119156309 w2 : 3.4977583583152163 b : 4.883448441518489\n",
      "-----------------------------------------------------------------------------------\n",
      "MSE : 11.025557766603914\n",
      "epoch : 278  w1 : 3.8287008742217745 w2 : 3.498763065210952 b : 4.881543744046882\n",
      "-----------------------------------------------------------------------------------\n",
      "MSE : 11.029452730337162\n",
      "epoch : 279  w1 : 3.8325210500910343 w2 : 3.4997629941460717 b : 4.879628692782324\n",
      "-----------------------------------------------------------------------------------\n",
      "MSE : 11.033317872926279\n",
      "epoch : 280  w1 : 3.8363327526698763 w2 : 3.500758244540264 b : 4.877703482408714\n",
      "-----------------------------------------------------------------------------------\n",
      "MSE : 11.037153646841816\n",
      "epoch : 281  w1 : 3.8401360860143035 w2 : 3.501748914030787 b : 4.875768304133579\n",
      "-----------------------------------------------------------------------------------\n",
      "MSE : 11.040960499394414\n",
      "epoch : 282  w1 : 3.8439311523634587 w2 : 3.502735098504233 b : 4.87382334575001\n",
      "-----------------------------------------------------------------------------------\n",
      "MSE : 11.044738872722698\n",
      "epoch : 283  w1 : 3.8477180521719627 w2 : 3.503716892127724 b : 4.871868791697503\n",
      "-----------------------------------------------------------------------------------\n",
      "MSE : 11.048489203785127\n",
      "epoch : 284  w1 : 3.851496884141677 w2 : 3.5046943873795535 b : 4.869904823121708\n",
      "-----------------------------------------------------------------------------------\n",
      "MSE : 11.052211924355479\n",
      "epoch : 285  w1 : 3.8552677452528994 w2 : 3.5056676750792826 b : 4.8679316179331105\n",
      "-----------------------------------------------------------------------------------\n",
      "MSE : 11.055907461021825\n",
      "epoch : 286  w1 : 3.8590307307950074 w2 : 3.506636844417298 b : 4.86594935086468\n",
      "-----------------------------------------------------------------------------------\n",
      "MSE : 11.059576235188867\n",
      "epoch : 287  w1 : 3.86278593439655 w2 : 3.5076019829838474 b : 4.86395819352848\n",
      "-----------------------------------------------------------------------------------\n",
      "MSE : 11.063218663083365\n",
      "epoch : 288  w1 : 3.86653344805481 w2 : 3.508563176797552 b : 4.861958314471274\n",
      "-----------------------------------------------------------------------------------\n",
      "MSE : 11.066835155762544\n",
      "epoch : 289  w1 : 3.8702733621648333 w2 : 3.5095205103334153 b : 4.859949879229143\n",
      "-----------------------------------------------------------------------------------\n",
      "MSE : 11.070426119125331\n",
      "epoch : 290  w1 : 3.8740057655479463 w2 : 3.510474066550333 b : 4.857933050381124\n",
      "-----------------------------------------------------------------------------------\n",
      "MSE : 11.073991953926225\n",
      "epoch : 291  w1 : 3.877730745479761 w2 : 3.5114239269181096 b : 4.855907987601899\n",
      "-----------------------------------------------------------------------------------\n",
      "MSE : 11.077533055791656\n",
      "epoch : 292  w1 : 3.881448387717686 w2 : 3.5123701714439957 b : 4.853874847713542\n",
      "-----------------------------------------------------------------------------------\n",
      "MSE : 11.081049815238764\n",
      "epoch : 293  w1 : 3.885158776527942 w2 : 3.5133128786987533 b : 4.851833784736344\n",
      "-----------------------------------------------------------------------------------\n",
      "MSE : 11.08454261769635\n",
      "epoch : 294  w1 : 3.8888619947120997 w2 : 3.514252125842256 b : 4.849784949938735\n",
      "-----------------------------------------------------------------------------------\n",
      "MSE : 11.088011843527964\n",
      "epoch : 295  w1 : 3.892558123633145 w2 : 3.5151879886486315 b : 4.847728491886315\n",
      "-----------------------------------------------------------------------------------\n",
      "MSE : 11.091457868056914\n",
      "epoch : 296  w1 : 3.8962472432410764 w2 : 3.516120541530958 b : 4.845664556490008\n",
      "-----------------------------------------------------------------------------------\n",
      "MSE : 11.094881061593219\n",
      "epoch : 297  w1 : 3.8999294320980518 w2 : 3.5170498575655222 b : 4.843593287053367\n",
      "-----------------------------------------------------------------------------------\n",
      "MSE : 11.098281789462208\n",
      "epoch : 298  w1 : 3.903604767403082 w2 : 3.51797600851564 b : 4.841514824319028\n",
      "-----------------------------------------------------------------------------------\n",
      "MSE : 11.101660412034798\n",
      "epoch : 299  w1 : 3.907273325016288 w2 : 3.518899064855059 b : 4.839429306514339\n",
      "-----------------------------------------------------------------------------------\n",
      "MSE : 11.105017284759308\n",
      "epoch : 300  w1 : 3.9109351794827245 w2 : 3.5198190957909383 b : 4.837336869396178\n",
      "-----------------------------------------------------------------------------------\n",
      "MSE : 11.108352758194663\n",
      "epoch : 301  w1 : 3.9145904040557786 w2 : 3.5207361692864243 b : 4.835237646294969\n",
      "-----------------------------------------------------------------------------------\n",
      "MSE : 11.111667178044963\n",
      "epoch : 302  w1 : 3.918239070720153 w2 : 3.5216503520828195 b : 4.8331317681579185\n",
      "-----------------------------------------------------------------------------------\n",
      "MSE : 11.114960885195265\n",
      "epoch : 303  w1 : 3.92188125021444 w2 : 3.5225617097213604 b : 4.831019363591477\n",
      "-----------------------------------------------------------------------------------\n",
      "MSE : 11.118234215748533\n",
      "epoch : 304  w1 : 3.9255170120532905 w2 : 3.523470306564604 b : 4.8289005589030465\n",
      "-----------------------------------------------------------------------------------\n",
      "MSE : 11.121487501063653\n",
      "epoch : 305  w1 : 3.929146424549193 w2 : 3.5243762058174353 b : 4.826775478141945\n",
      "-----------------------------------------------------------------------------------\n",
      "MSE : 11.124721067794422\n",
      "epoch : 306  w1 : 3.932769554833859 w2 : 3.5252794695477006 b : 4.82464424313964\n",
      "-----------------------------------------------------------------------------------\n",
      "MSE : 11.127935237929496\n",
      "epoch : 307  w1 : 3.936386468879231 w2 : 3.5261801587064716 b : 4.822506973549268\n",
      "-----------------------------------------------------------------------------------\n",
      "MSE : 11.131130328833091\n",
      "epoch : 308  w1 : 3.9399972315181175 w2 : 3.5270783331479514 b : 4.820363786884444\n",
      "-----------------------------------------------------------------------------------\n",
      "MSE : 11.134306653286544\n",
      "epoch : 309  w1 : 3.9436019064644547 w2 : 3.5279740516490223 b : 4.81821479855739\n",
      "-----------------------------------------------------------------------------------\n",
      "MSE : 11.137464519530527\n",
      "epoch : 310  w1 : 3.947200556333214 w2 : 3.5288673719284476 b : 4.816060121916371\n",
      "-----------------------------------------------------------------------------------\n",
      "MSE : 11.140604231307893\n",
      "epoch : 311  w1 : 3.950793242659951 w2 : 3.529758350665731 b : 4.813899868282474\n",
      "-----------------------------------------------------------------------------------\n",
      "MSE : 11.143726087907158\n",
      "epoch : 312  w1 : 3.954380025920005 w2 : 3.530647043519639 b : 4.811734146985729\n",
      "-----------------------------------------------------------------------------------\n",
      "MSE : 11.146830384206417\n",
      "epoch : 313  w1 : 3.9579609655473615 w2 : 3.5315335051463963 b : 4.809563065400586\n",
      "-----------------------------------------------------------------------------------\n",
      "MSE : 11.149917410717809\n",
      "epoch : 314  w1 : 3.9615361199531747 w2 : 3.532417789217552 b : 4.8073867289807595\n",
      "-----------------------------------------------------------------------------------\n",
      "MSE : 11.152987453632358\n",
      "epoch : 315  w1 : 3.96510554654396 w2 : 3.533299948437532 b : 4.805205241293453\n",
      "-----------------------------------------------------------------------------------\n",
      "MSE : 11.156040794865174\n",
      "epoch : 316  w1 : 3.9686693017394647 w2 : 3.5341800345608774 b : 4.803018704052972\n",
      "-----------------------------------------------------------------------------------\n",
      "MSE : 11.15907771210097\n",
      "epoch : 317  w1 : 3.9722274409902183 w2 : 3.535058098409174 b : 4.800827217153745\n",
      "-----------------------------------------------------------------------------------\n",
      "MSE : 11.162098478839885\n",
      "epoch : 318  w1 : 3.975780018794772 w2 : 3.535934189887683 b : 4.798630878702743\n",
      "-----------------------------------------------------------------------------------\n",
      "MSE : 11.165103364443475\n",
      "epoch : 319  w1 : 3.9793270887166283 w2 : 3.536808358001673 b : 4.7964297850513375\n",
      "-----------------------------------------------------------------------------------\n",
      "MSE : 11.168092634180978\n",
      "epoch : 320  w1 : 3.9828687034008734 w2 : 3.537680650872463 b : 4.794224030826578\n",
      "-----------------------------------------------------------------------------------\n",
      "MSE : 11.171066549275615\n",
      "epoch : 321  w1 : 3.986404914590508 w2 : 3.538551115753178 b : 4.792013708961918\n",
      "-----------------------------------------------------------------------------------\n",
      "MSE : 11.17402536695111\n",
      "epoch : 322  w1 : 3.989935773142492 w2 : 3.539419799044225 b : 4.789798910727394\n",
      "-----------------------------------------------------------------------------------\n",
      "MSE : 11.176969340478212\n",
      "epoch : 323  w1 : 3.9934613290434995 w2 : 3.540286746308493 b : 4.787579725759264\n",
      "-----------------------------------------------------------------------------------\n",
      "MSE : 11.179898719221315\n",
      "epoch : 324  w1 : 3.9969816314253968 w2 : 3.5411520022862804 b : 4.785356242089122\n",
      "-----------------------------------------------------------------------------------\n",
      "MSE : 11.182813748685051\n",
      "epoch : 325  w1 : 4.000496728580441 w2 : 3.542015610909961 b : 4.783128546172489\n",
      "-----------------------------------------------------------------------------------\n",
      "MSE : 11.185714670560866\n",
      "epoch : 326  w1 : 4.0040066679762125 w2 : 3.5428776153183836 b : 4.780896722916897\n",
      "-----------------------------------------------------------------------------------\n",
      "MSE : 11.188601722773587\n",
      "epoch : 327  w1 : 4.007511496270274 w2 : 3.5437380578710185 b : 4.778660855709475\n",
      "-----------------------------------------------------------------------------------\n",
      "MSE : 11.191475139527872\n",
      "epoch : 328  w1 : 4.011011259324577 w2 : 3.5445969801618498 b : 4.77642102644404\n",
      "-----------------------------------------------------------------------------------\n",
      "MSE : 11.194335151354592\n",
      "epoch : 329  w1 : 4.014506002219607 w2 : 3.545454423033022 b : 4.774177315547706\n",
      "-----------------------------------------------------------------------------------\n",
      "MSE : 11.197181985157075\n",
      "epoch : 330  w1 : 4.017995769268276 w2 : 3.5463104265882417 b : 4.771929802007021\n",
      "-----------------------------------------------------------------------------------\n",
      "MSE : 11.200015864257214\n",
      "epoch : 331  w1 : 4.02148060402957 w2 : 3.547165030205943 b : 4.769678563393636\n",
      "-----------------------------------------------------------------------------------\n",
      "MSE : 11.202837008441398\n",
      "epoch : 332  w1 : 4.0249605493219525 w2 : 3.5480182725522162 b : 4.767423675889518\n",
      "-----------------------------------------------------------------------------------\n",
      "MSE : 11.205645634006265\n",
      "epoch : 333  w1 : 4.028435647236528 w2 : 3.548870191593505 b : 4.765165214311714\n",
      "-----------------------------------------------------------------------------------\n",
      "MSE : 11.20844195380426\n",
      "epoch : 334  w1 : 4.031905939149975 w2 : 3.5497208246090826 b : 4.762903252136671\n",
      "-----------------------------------------------------------------------------------\n",
      "MSE : 11.21122617728892\n",
      "epoch : 335  w1 : 4.0353714657372395 w2 : 3.550570208203299 b : 4.76063786152413\n",
      "-----------------------------------------------------------------------------------\n",
      "MSE : 11.213998510560023\n",
      "epoch : 336  w1 : 4.038832266984016 w2 : 3.5514183783176163 b : 4.758369113340583\n",
      "-----------------------------------------------------------------------------------\n",
      "MSE : 11.216759156408335\n",
      "epoch : 337  w1 : 4.042288382198995 w2 : 3.5522653702424245 b : 4.756097077182323\n",
      "-----------------------------------------------------------------------------------\n",
      "MSE : 11.219508314360228\n",
      "epoch : 338  w1 : 4.045739850025895 w2 : 3.5531112186286493 b : 4.753821821398078\n",
      "-----------------------------------------------------------------------------------\n",
      "MSE : 11.222246180721932\n",
      "epoch : 339  w1 : 4.049186708455284 w2 : 3.5539559574991535 b : 4.751543413111241\n",
      "-----------------------------------------------------------------------------------\n",
      "MSE : 11.224972948623504\n",
      "epoch : 340  w1 : 4.052628994836187 w2 : 3.5547996202599337 b : 4.749261918241707\n",
      "-----------------------------------------------------------------------------------\n",
      "MSE : 11.2276888080625\n",
      "epoch : 341  w1 : 4.0560667458874855 w2 : 3.5556422397111187 b : 4.746977401527321\n",
      "-----------------------------------------------------------------------------------\n",
      "MSE : 11.230393945947323\n",
      "epoch : 342  w1 : 4.059499997709117 w2 : 3.5564838480577716 b : 4.744689926544937\n",
      "-----------------------------------------------------------------------------------\n",
      "MSE : 11.23308854614024\n",
      "epoch : 343  w1 : 4.062928785793075 w2 : 3.557324476920499 b : 4.742399555731113\n",
      "-----------------------------------------------------------------------------------\n",
      "MSE : 11.235772789500036\n",
      "epoch : 344  w1 : 4.066353145034212 w2 : 3.5581641573458724 b : 4.7401063504024314\n",
      "-----------------------------------------------------------------------------------\n",
      "MSE : 11.238446853924376\n",
      "epoch : 345  w1 : 4.069773109740845 w2 : 3.559002919816662 b : 4.737810370775452\n",
      "-----------------------------------------------------------------------------------\n",
      "MSE : 11.241110914391754\n",
      "epoch : 346  w1 : 4.0731887136451865 w2 : 3.55984079426189 b : 4.735511675986319\n",
      "-----------------------------------------------------------------------------------\n",
      "MSE : 11.243765143003078\n",
      "epoch : 347  w1 : 4.076599989913571 w2 : 3.5606778100667045 b : 4.733210324110018\n",
      "-----------------------------------------------------------------------------------\n",
      "MSE : 11.246409709022927\n",
      "epoch : 348  w1 : 4.080006971156514 w2 : 3.5615139960820765 b : 4.730906372179279\n",
      "-----------------------------------------------------------------------------------\n",
      "MSE : 11.249044778920409\n",
      "epoch : 349  w1 : 4.083409689438584 w2 : 3.562349380634325 b : 4.728599876203156\n",
      "-----------------------------------------------------------------------------------\n",
      "MSE : 11.251670516409593\n",
      "epoch : 350  w1 : 4.086808176288102 w2 : 3.563183991534472 b : 4.72629089118527\n",
      "-----------------------------------------------------------------------------------\n",
      "MSE : 11.254287082489627\n",
      "epoch : 351  w1 : 4.090202462706667 w2 : 3.5640178560874305 b : 4.723979471141723\n",
      "-----------------------------------------------------------------------------------\n",
      "MSE : 11.256894635484386\n",
      "epoch : 352  w1 : 4.093592579178514 w2 : 3.5648510011010304 b : 4.721665669118699\n",
      "-----------------------------------------------------------------------------------\n",
      "MSE : 11.2594933310818\n",
      "epoch : 353  w1 : 4.096978555679699 w2 : 3.565683452894882 b : 4.719349537209751\n",
      "-----------------------------------------------------------------------------------\n",
      "MSE : 11.262083322372687\n",
      "epoch : 354  w1 : 4.100360421687128 w2 : 3.5665152373090816 b : 4.717031126572776\n",
      "-----------------------------------------------------------------------------------\n",
      "MSE : 11.264664759889284\n",
      "epoch : 355  w1 : 4.1037382061874235 w2 : 3.5673463797127627 b : 4.714710487446689\n",
      "-----------------------------------------------------------------------------------\n",
      "MSE : 11.26723779164327\n",
      "epoch : 356  w1 : 4.1071119376856275 w2 : 3.568176905012495 b : 4.712387669167805\n",
      "-----------------------------------------------------------------------------------\n",
      "MSE : 11.269802563163456\n",
      "epoch : 357  w1 : 4.110481644213756 w2 : 3.5690068376605333 b : 4.7100627201859195\n",
      "-----------------------------------------------------------------------------------\n",
      "MSE : 11.272359217533019\n",
      "epoch : 358  w1 : 4.1138473533391995 w2 : 3.5698362016629193 b : 4.707735688080112\n",
      "-----------------------------------------------------------------------------------\n",
      "MSE : 11.274907895426322\n",
      "epoch : 359  w1 : 4.117209092172969 w2 : 3.570665020587439 b : 4.70540661957426\n",
      "-----------------------------------------------------------------------------------\n",
      "MSE : 11.277448735145354\n",
      "epoch : 360  w1 : 4.120566887377803 w2 : 3.571493317571439 b : 4.7030755605522865\n",
      "-----------------------------------------------------------------------------------\n",
      "MSE : 11.279981872655702\n",
      "epoch : 361  w1 : 4.123920765176126 w2 : 3.572321115329504 b : 4.700742556073123\n",
      "-----------------------------------------------------------------------------------\n",
      "MSE : 11.282507441622144\n",
      "epoch : 362  w1 : 4.127270751357863 w2 : 3.573148436160994 b : 4.698407650385417\n",
      "-----------------------------------------------------------------------------------\n",
      "MSE : 11.285025573443818\n",
      "epoch : 363  w1 : 4.13061687128812 w2 : 3.573975301957454 b : 4.696070886941974\n",
      "-----------------------------------------------------------------------------------\n",
      "MSE : 11.28753639728894\n",
      "epoch : 364  w1 : 4.1339591499147215 w2 : 3.5748017342098835 b : 4.693732308413937\n",
      "-----------------------------------------------------------------------------------\n",
      "MSE : 11.290040040129146\n",
      "epoch : 365  w1 : 4.1372976117756215 w2 : 3.5756277540158825 b : 4.691391956704723\n",
      "-----------------------------------------------------------------------------------\n",
      "MSE : 11.29253662677341\n",
      "epoch : 366  w1 : 4.140632281006175 w2 : 3.5764533820866693 b : 4.689049872963702\n",
      "-----------------------------------------------------------------------------------\n",
      "MSE : 11.295026279901503\n",
      "epoch : 367  w1 : 4.143963181346284 w2 : 3.5772786387539695 b : 4.686706097599639\n",
      "-----------------------------------------------------------------------------------\n",
      "MSE : 11.297509120097093\n",
      "epoch : 368  w1 : 4.1472903361474165 w2 : 3.5781035439767876 b : 4.684360670293891\n",
      "-----------------------------------------------------------------------------------\n",
      "MSE : 11.299985265880371\n",
      "epoch : 369  w1 : 4.150613768379497 w2 : 3.5789281173480543 b : 4.682013630013378\n",
      "-----------------------------------------------------------------------------------\n",
      "MSE : 11.302454833740356\n",
      "epoch : 370  w1 : 4.153933500637679 w2 : 3.5797523781011558 b : 4.679665015023308\n",
      "-----------------------------------------------------------------------------------\n",
      "MSE : 11.30491793816665\n",
      "epoch : 371  w1 : 4.157249555148994 w2 : 3.580576345116348 b : 4.67731486289969\n",
      "-----------------------------------------------------------------------------------\n",
      "MSE : 11.307374691680907\n",
      "epoch : 372  w1 : 4.16056195377888 w2 : 3.5814000369270564 b : 4.674963210541619\n",
      "-----------------------------------------------------------------------------------\n",
      "MSE : 11.30982520486783\n",
      "epoch : 373  w1 : 4.163870718037601 w2 : 3.582223471726062 b : 4.672610094183335\n",
      "-----------------------------------------------------------------------------------\n",
      "MSE : 11.312269586405776\n",
      "epoch : 374  w1 : 4.167175869086543 w2 : 3.5830466673715793 b : 4.670255549406078\n",
      "-----------------------------------------------------------------------------------\n",
      "MSE : 11.314707943096955\n",
      "epoch : 375  w1 : 4.170477427744403 w2 : 3.5838696413932234 b : 4.667899611149728\n",
      "-----------------------------------------------------------------------------------\n",
      "MSE : 11.317140379897223\n",
      "epoch : 376  w1 : 4.173775414493273 w2 : 3.584692410997874 b : 4.6655423137242344\n",
      "-----------------------------------------------------------------------------------\n",
      "MSE : 11.319566999945483\n",
      "epoch : 377  w1 : 4.177069849484599 w2 : 3.585514993075432 b : 4.663183690820843\n",
      "-----------------------------------------------------------------------------------\n",
      "MSE : 11.321987904592682\n",
      "epoch : 378  w1 : 4.180360752545052 w2 : 3.5863374042044756 b : 4.660823775523129\n",
      "-----------------------------------------------------------------------------------\n",
      "MSE : 11.32440319343041\n",
      "epoch : 379  w1 : 4.183648143182288 w2 : 3.587159660657814 b : 4.658462600317823\n",
      "-----------------------------------------------------------------------------------\n",
      "MSE : 11.326812964319119\n",
      "epoch : 380  w1 : 4.186932040590599 w2 : 3.587981778407943 b : 4.656100197105455\n",
      "-----------------------------------------------------------------------------------\n",
      "MSE : 11.329217313415933\n",
      "epoch : 381  w1 : 4.190212463656472 w2 : 3.588803773132404 b : 4.6537365972107985\n",
      "-----------------------------------------------------------------------------------\n",
      "MSE : 11.331616335202096\n",
      "epoch : 382  w1 : 4.193489430964045 w2 : 3.589625660219045 b : 4.651371831393137\n",
      "-----------------------------------------------------------------------------------\n",
      "MSE : 11.334010122510016\n",
      "epoch : 383  w1 : 4.196762960800468 w2 : 3.5904474547711933 b : 4.649005929856343\n",
      "-----------------------------------------------------------------------------------\n",
      "MSE : 11.336398766549923\n",
      "epoch : 384  w1 : 4.200033071161164 w2 : 3.5912691716127285 b : 4.646638922258778\n",
      "-----------------------------------------------------------------------------------\n",
      "MSE : 11.338782356936195\n",
      "epoch : 385  w1 : 4.203299779755002 w2 : 3.5920908252930714 b : 4.644270837723019\n",
      "-----------------------------------------------------------------------------------\n",
      "MSE : 11.341160981713255\n",
      "epoch : 386  w1 : 4.206563104009374 w2 : 3.592912430092081 b : 4.641901704845406\n",
      "-----------------------------------------------------------------------------------\n",
      "MSE : 11.343534727381122\n",
      "epoch : 387  w1 : 4.2098230610751814 w2 : 3.593734000024865 b : 4.639531551705425\n",
      "-----------------------------------------------------------------------------------\n",
      "MSE : 11.345903678920587\n",
      "epoch : 388  w1 : 4.213079667831739 w2 : 3.5945555488465044 b : 4.637160405874922\n",
      "-----------------------------------------------------------------------------------\n",
      "MSE : 11.34826791981807\n",
      "epoch : 389  w1 : 4.216332940891581 w2 : 3.5953770900566946 b : 4.63478829442715\n",
      "-----------------------------------------------------------------------------------\n",
      "MSE : 11.350627532090016\n",
      "epoch : 390  w1 : 4.21958289660519 w2 : 3.5961986369043024 b : 4.63241524394566\n",
      "-----------------------------------------------------------------------------------\n",
      "MSE : 11.352982596307061\n",
      "epoch : 391  w1 : 4.2228295510656375 w2 : 3.597020202391843 b : 4.630041280533031\n",
      "-----------------------------------------------------------------------------------\n",
      "MSE : 11.355333191617728\n",
      "epoch : 392  w1 : 4.226072920113144 w2 : 3.5978417992798777 b : 4.627666429819441\n",
      "-----------------------------------------------------------------------------------\n",
      "MSE : 11.35767939577186\n",
      "epoch : 393  w1 : 4.229313019339558 w2 : 3.598663440091331 b : 4.625290716971094\n",
      "-----------------------------------------------------------------------------------\n",
      "MSE : 11.360021285143674\n",
      "epoch : 394  w1 : 4.232549864092749 w2 : 3.599485137115734 b : 4.622914166698485\n",
      "-----------------------------------------------------------------------------------\n",
      "MSE : 11.362358934754438\n",
      "epoch : 395  w1 : 4.235783469480935 w2 : 3.6003069024133882 b : 4.620536803264532\n",
      "-----------------------------------------------------------------------------------\n",
      "MSE : 11.364692418294885\n",
      "epoch : 396  w1 : 4.239013850376919 w2 : 3.6011287478194602 b : 4.618158650492547\n",
      "-----------------------------------------------------------------------------------\n",
      "MSE : 11.367021808147236\n",
      "epoch : 397  w1 : 4.24224102142226 w2 : 3.601950684947998 b : 4.615779731774082\n",
      "-----------------------------------------------------------------------------------\n",
      "MSE : 11.369347175406885\n",
      "epoch : 398  w1 : 4.245464997031366 w2 : 3.6027727251958788 b : 4.613400070076619\n",
      "-----------------------------------------------------------------------------------\n",
      "MSE : 11.371668589903813\n",
      "epoch : 399  w1 : 4.24868579139551 w2 : 3.603594879746688 b : 4.611019687951136\n",
      "-----------------------------------------------------------------------------------\n",
      "MSE : 11.373986120223636\n",
      "epoch : 400  w1 : 4.251903418486785 w2 : 3.604417159574525 b : 4.60863860753953\n",
      "-----------------------------------------------------------------------------------\n",
      "MSE : 11.376299833728314\n",
      "epoch : 401  w1 : 4.255117892061978 w2 : 3.6052395754477438 b : 4.606256850581912\n",
      "-----------------------------------------------------------------------------------\n",
      "MSE : 11.378609796576624\n",
      "epoch : 402  w1 : 4.2583292256663805 w2 : 3.6060621379326268 b : 4.6038744384237695\n",
      "-----------------------------------------------------------------------------------\n",
      "MSE : 11.380916073744197\n",
      "epoch : 403  w1 : 4.261537432637528 w2 : 3.6068848573969925 b : 4.6014913920230045\n",
      "-----------------------------------------------------------------------------------\n",
      "MSE : 11.383218729043387\n",
      "epoch : 404  w1 : 4.26474252610888 w2 : 3.6077077440137395 b : 4.599107731956842\n",
      "-----------------------------------------------------------------------------------\n",
      "MSE : 11.385517825142733\n",
      "epoch : 405  w1 : 4.267944519013423 w2 : 3.6085308077643266 b : 4.596723478428618\n",
      "-----------------------------------------------------------------------------------\n",
      "MSE : 11.387813423586135\n",
      "epoch : 406  w1 : 4.27114342408722 w2 : 3.6093540584421917 b : 4.594338651274448\n",
      "-----------------------------------------------------------------------------------\n",
      "MSE : 11.390105584811785\n",
      "epoch : 407  w1 : 4.274339253872889 w2 : 3.6101775056561096 b : 4.591953269969771\n",
      "-----------------------------------------------------------------------------------\n",
      "MSE : 11.392394368170757\n",
      "epoch : 408  w1 : 4.277532020723028 w2 : 3.6110011588334894 b : 4.589567353635785\n",
      "-----------------------------------------------------------------------------------\n",
      "MSE : 11.394679831945316\n",
      "epoch : 409  w1 : 4.280721736803566 w2 : 3.6118250272236136 b : 4.5871809210457615\n",
      "-----------------------------------------------------------------------------------\n",
      "MSE : 11.396962033366933\n",
      "epoch : 410  w1 : 4.283908414097071 w2 : 3.6126491199008197 b : 4.5847939906312485\n",
      "-----------------------------------------------------------------------------------\n",
      "MSE : 11.399241028634059\n",
      "epoch : 411  w1 : 4.287092064405983 w2 : 3.613473445767625 b : 4.582406580488167\n",
      "-----------------------------------------------------------------------------------\n",
      "MSE : 11.40151687292956\n",
      "epoch : 412  w1 : 4.2902726993558025 w2 : 3.614298013557795 b : 4.5800187083827915\n",
      "-----------------------------------------------------------------------------------\n",
      "MSE : 11.403789620437934\n",
      "epoch : 413  w1 : 4.293450330398212 w2 : 3.615122831839359 b : 4.577630391757635\n",
      "-----------------------------------------------------------------------------------\n",
      "MSE : 11.406059324362207\n",
      "epoch : 414  w1 : 4.296624968814149 w2 : 3.615947909017569 b : 4.575241647737218\n",
      "-----------------------------------------------------------------------------------\n",
      "MSE : 11.408326036940585\n",
      "epoch : 415  w1 : 4.299796625716823 w2 : 3.6167732533378083 b : 4.572852493133737\n",
      "-----------------------------------------------------------------------------------\n",
      "MSE : 11.41058980946287\n",
      "epoch : 416  w1 : 4.302965312054671 w2 : 3.617598872888448 b : 4.57046294445264\n",
      "-----------------------------------------------------------------------------------\n",
      "MSE : 11.412850692286538\n",
      "epoch : 417  w1 : 4.306131038614275 w2 : 3.618424775603651 b : 4.568073017898093\n",
      "-----------------------------------------------------------------------------------\n",
      "MSE : 11.41510873485266\n",
      "epoch : 418  w1 : 4.309293816023214 w2 : 3.61925096926613 b : 4.565682729378357\n",
      "-----------------------------------------------------------------------------------\n",
      "MSE : 11.417363985701463\n",
      "epoch : 419  w1 : 4.312453654752872 w2 : 3.6200774615098497 b : 4.563292094511059\n",
      "-----------------------------------------------------------------------------------\n",
      "MSE : 11.419616492487746\n",
      "epoch : 420  w1 : 4.315610565121196 w2 : 3.620904259822687 b : 4.560901128628382\n",
      "-----------------------------------------------------------------------------------\n",
      "MSE : 11.42186630199595\n",
      "epoch : 421  w1 : 4.318764557295399 w2 : 3.621731371549041 b : 4.558509846782151\n",
      "-----------------------------------------------------------------------------------\n",
      "MSE : 11.42411346015507\n",
      "epoch : 422  w1 : 4.321915641294626 w2 : 3.6225588038923973 b : 4.556118263748837\n",
      "-----------------------------------------------------------------------------------\n",
      "MSE : 11.426358012053278\n",
      "epoch : 423  w1 : 4.325063826992561 w2 : 3.6233865639178466 b : 4.553726394034464\n",
      "-----------------------------------------------------------------------------------\n",
      "MSE : 11.428600001952306\n",
      "epoch : 424  w1 : 4.328209124119992 w2 : 3.624214658554557 b : 4.551334251879437\n",
      "-----------------------------------------------------------------------------------\n",
      "MSE : 11.430839473301642\n",
      "epoch : 425  w1 : 4.331351542267335 w2 : 3.6250430945982037 b : 4.548941851263278\n",
      "-----------------------------------------------------------------------------------\n",
      "MSE : 11.433076468752434\n",
      "epoch : 426  w1 : 4.334491090887104 w2 : 3.625871878713357 b : 4.546549205909278\n",
      "-----------------------------------------------------------------------------------\n",
      "MSE : 11.435311030171219\n",
      "epoch : 427  w1 : 4.337627779296345 w2 : 3.626701017435822 b : 4.544156329289068\n",
      "-----------------------------------------------------------------------------------\n",
      "MSE : 11.437543198653406\n",
      "epoch : 428  w1 : 4.340761616679023 w2 : 3.627530517174945 b : 4.541763234627111\n",
      "-----------------------------------------------------------------------------------\n",
      "MSE : 11.439773014536527\n",
      "epoch : 429  w1 : 4.343892612088365 w2 : 3.6283603842158705 b : 4.539369934905107\n",
      "-----------------------------------------------------------------------------------\n",
      "MSE : 11.442000517413314\n",
      "epoch : 430  w1 : 4.347020774449166 w2 : 3.6291906247217645 b : 4.536976442866324\n",
      "-----------------------------------------------------------------------------------\n",
      "MSE : 11.444225746144511\n",
      "epoch : 431  w1 : 4.350146112560048 w2 : 3.6300212447359934 b : 4.5345827710198545\n",
      "-----------------------------------------------------------------------------------\n",
      "MSE : 11.446448738871505\n",
      "epoch : 432  w1 : 4.353268635095686 w2 : 3.630852250184267 b : 4.532188931644789\n",
      "-----------------------------------------------------------------------------------\n",
      "MSE : 11.448669533028749\n",
      "epoch : 433  w1 : 4.356388350608986 w2 : 3.6316836468767426 b : 4.529794936794324\n",
      "-----------------------------------------------------------------------------------\n",
      "MSE : 11.450888165355973\n",
      "epoch : 434  w1 : 4.359505267533232 w2 : 3.6325154405100917 b : 4.527400798299784\n",
      "-----------------------------------------------------------------------------------\n",
      "MSE : 11.453104671910197\n",
      "epoch : 435  w1 : 4.362619394184191 w2 : 3.6333476366695283 b : 4.525006527774589\n",
      "-----------------------------------------------------------------------------------\n",
      "MSE : 11.45531908807754\n",
      "epoch : 436  w1 : 4.365730738762176 w2 : 3.6341802408308035 b : 4.522612136618137\n",
      "-----------------------------------------------------------------------------------\n",
      "MSE : 11.457531448584843\n",
      "epoch : 437  w1 : 4.368839309354084 w2 : 3.6350132583621635 b : 4.520217636019622\n",
      "-----------------------------------------------------------------------------------\n",
      "MSE : 11.459741787511106\n",
      "epoch : 438  w1 : 4.371945113935387 w2 : 3.635846694526272 b : 4.517823036961786\n",
      "-----------------------------------------------------------------------------------\n",
      "MSE : 11.461950138298702\n",
      "epoch : 439  w1 : 4.37504816037209 w2 : 3.6366805544820995 b : 4.515428350224605\n",
      "-----------------------------------------------------------------------------------\n",
      "MSE : 11.464156533764447\n",
      "epoch : 440  w1 : 4.378148456422662 w2 : 3.637514843286778 b : 4.5130335863889\n",
      "-----------------------------------------------------------------------------------\n",
      "MSE : 11.46636100611046\n",
      "epoch : 441  w1 : 4.381246009739917 w2 : 3.638349565897424 b : 4.510638755839898\n",
      "-----------------------------------------------------------------------------------\n",
      "MSE : 11.468563586934854\n",
      "epoch : 442  w1 : 4.384340827872879 w2 : 3.6391847271729265 b : 4.508243868770718\n",
      "-----------------------------------------------------------------------------------\n",
      "MSE : 11.470764307242233\n",
      "epoch : 443  w1 : 4.387432918268597 w2 : 3.6400203318757063 b : 4.505848935185798\n",
      "-----------------------------------------------------------------------------------\n",
      "MSE : 11.472963197454037\n",
      "epoch : 444  w1 : 4.390522288273945 w2 : 3.6408563846734414 b : 4.503453964904267\n",
      "-----------------------------------------------------------------------------------\n",
      "MSE : 11.475160287418694\n",
      "epoch : 445  w1 : 4.393608945137376 w2 : 3.6416928901407633 b : 4.501058967563247\n",
      "-----------------------------------------------------------------------------------\n",
      "MSE : 11.477355606421625\n",
      "epoch : 446  w1 : 4.396692896010649 w2 : 3.6425298527609216 b : 4.4986639526211025\n",
      "-----------------------------------------------------------------------------------\n",
      "MSE : 11.479549183195036\n",
      "epoch : 447  w1 : 4.399774147950528 w2 : 3.643367276927421 b : 4.496268929360632\n",
      "-----------------------------------------------------------------------------------\n",
      "MSE : 11.481741045927615\n",
      "epoch : 448  w1 : 4.402852707920451 w2 : 3.6442051669456266 b : 4.493873906892199\n",
      "-----------------------------------------------------------------------------------\n",
      "MSE : 11.483931222274002\n",
      "epoch : 449  w1 : 4.405928582792163 w2 : 3.6450435270343426 b : 4.4914788941568125\n",
      "-----------------------------------------------------------------------------------\n",
      "MSE : 11.486119739364126\n",
      "epoch : 450  w1 : 4.409001779347325 w2 : 3.6458823613273625 b : 4.489083899929146\n",
      "-----------------------------------------------------------------------------------\n",
      "MSE : 11.488306623812393\n",
      "epoch : 451  w1 : 4.4120723042790955 w2 : 3.6467216738749904 b : 4.48668893282051\n",
      "-----------------------------------------------------------------------------------\n",
      "MSE : 11.49049190172672\n",
      "epoch : 452  w1 : 4.415140164193679 w2 : 3.647561468645536 b : 4.484294001281764\n",
      "-----------------------------------------------------------------------------------\n",
      "MSE : 11.492675598717375\n",
      "epoch : 453  w1 : 4.418205365611852 w2 : 3.6484017495267853 b : 4.481899113606184\n",
      "-----------------------------------------------------------------------------------\n",
      "MSE : 11.494857739905742\n",
      "epoch : 454  w1 : 4.42126791497046 w2 : 3.6492425203274395 b : 4.479504277932275\n",
      "-----------------------------------------------------------------------------------\n",
      "MSE : 11.497038349932861\n",
      "epoch : 455  w1 : 4.424327818623882 w2 : 3.6500837847785346 b : 4.477109502246529\n",
      "-----------------------------------------------------------------------------------\n",
      "MSE : 11.499217452967873\n",
      "epoch : 456  w1 : 4.4273850828454835 w2 : 3.6509255465348307 b : 4.474714794386147\n",
      "-----------------------------------------------------------------------------------\n",
      "MSE : 11.501395072716312\n",
      "epoch : 457  w1 : 4.430439713829025 w2 : 3.6517678091761794 b : 4.472320162041696\n",
      "-----------------------------------------------------------------------------------\n",
      "MSE : 11.50357123242824\n",
      "epoch : 458  w1 : 4.43349171769006 w2 : 3.652610576208867 b : 4.4699256127597335\n",
      "-----------------------------------------------------------------------------------\n",
      "MSE : 11.505745954906265\n",
      "epoch : 459  w1 : 4.436541100467305 w2 : 3.6534538510669305 b : 4.467531153945373\n",
      "-----------------------------------------------------------------------------------\n",
      "MSE : 11.507919262513408\n",
      "epoch : 460  w1 : 4.439587868123975 w2 : 3.6542976371134546 b : 4.465136792864812\n",
      "-----------------------------------------------------------------------------------\n",
      "MSE : 11.510091177180858\n",
      "epoch : 461  w1 : 4.442632026549113 w2 : 3.655141937641842 b : 4.462742536647814\n",
      "-----------------------------------------------------------------------------------\n",
      "MSE : 11.512261720415543\n",
      "epoch : 462  w1 : 4.4456735815588795 w2 : 3.6559867558770636 b : 4.460348392290141\n",
      "-----------------------------------------------------------------------------------\n",
      "MSE : 11.514430913307654\n",
      "epoch : 463  w1 : 4.448712538897828 w2 : 3.656832094976884 b : 4.457954366655948\n",
      "-----------------------------------------------------------------------------------\n",
      "MSE : 11.516598776537954\n",
      "epoch : 464  w1 : 4.451748904240156 w2 : 3.6576779580330685 b : 4.455560466480136\n",
      "-----------------------------------------------------------------------------------\n",
      "MSE : 11.518765330385033\n",
      "epoch : 465  w1 : 4.454782683190931 w2 : 3.6585243480725635 b : 4.453166698370652\n",
      "-----------------------------------------------------------------------------------\n",
      "MSE : 11.520930594732397\n",
      "epoch : 466  w1 : 4.457813881287301 w2 : 3.659371268058662 b : 4.450773068810767\n",
      "-----------------------------------------------------------------------------------\n",
      "MSE : 11.523094589075438\n",
      "epoch : 467  w1 : 4.4608425039996735 w2 : 3.6602187208921433 b : 4.448379584161293\n",
      "-----------------------------------------------------------------------------------\n",
      "MSE : 11.525257332528312\n",
      "epoch : 468  w1 : 4.463868556732885 w2 : 3.661066709412395 b : 4.445986250662775\n",
      "-----------------------------------------------------------------------------------\n",
      "MSE : 11.52741884383069\n",
      "epoch : 469  w1 : 4.466892044827342 w2 : 3.6619152363985146 b : 4.44359307443764\n",
      "-----------------------------------------------------------------------------------\n",
      "MSE : 11.529579141354343\n",
      "epoch : 470  w1 : 4.469912973560142 w2 : 3.662764304570391 b : 4.441200061492302\n",
      "-----------------------------------------------------------------------------------\n",
      "MSE : 11.531738243109707\n",
      "epoch : 471  w1 : 4.472931348146178 w2 : 3.6636139165897657 b : 4.43880721771924\n",
      "-----------------------------------------------------------------------------------\n",
      "MSE : 11.533896166752259\n",
      "epoch : 472  w1 : 4.475947173739222 w2 : 3.664464075061279 b : 4.436414548899028\n",
      "-----------------------------------------------------------------------------------\n",
      "MSE : 11.536052929588818\n",
      "epoch : 473  w1 : 4.478960455432989 w2 : 3.6653147825334935 b : 4.434022060702338\n",
      "-----------------------------------------------------------------------------------\n",
      "MSE : 11.538208548583723\n",
      "epoch : 474  w1 : 4.48197119826218 w2 : 3.666166041499899 b : 4.431629758691901\n",
      "-----------------------------------------------------------------------------------\n",
      "MSE : 11.540363040364907\n",
      "epoch : 475  w1 : 4.48497940720351 w2 : 3.6670178543999046 b : 4.429237648324438\n",
      "-----------------------------------------------------------------------------------\n",
      "MSE : 11.542516421229905\n",
      "epoch : 476  w1 : 4.487985087176716 w2 : 3.6678702236198064 b : 4.42684573495255\n",
      "-----------------------------------------------------------------------------------\n",
      "MSE : 11.54466870715166\n",
      "epoch : 477  w1 : 4.490988243045546 w2 : 3.668723151493744 b : 4.424454023826581\n",
      "-----------------------------------------------------------------------------------\n",
      "MSE : 11.546819913784356\n",
      "epoch : 478  w1 : 4.493988879618733 w2 : 3.6695766403046366 b : 4.4220625200964445\n",
      "-----------------------------------------------------------------------------------\n",
      "MSE : 11.548970056469077\n",
      "epoch : 479  w1 : 4.49698700165095 w2 : 3.6704306922851018 b : 4.419671228813421\n",
      "-----------------------------------------------------------------------------------\n",
      "MSE : 11.551119150239328\n",
      "epoch : 480  w1 : 4.499982613843747 w2 : 3.6712853096183604 b : 4.417280154931914\n",
      "-----------------------------------------------------------------------------------\n",
      "MSE : 11.55326720982658\n",
      "epoch : 481  w1 : 4.5029757208464725 w2 : 3.672140494439124 b : 4.414889303311189\n",
      "-----------------------------------------------------------------------------------\n",
      "MSE : 11.555414249665617\n",
      "epoch : 482  w1 : 4.505966327257181 w2 : 3.6729962488344663 b : 4.412498678717067\n",
      "-----------------------------------------------------------------------------------\n",
      "MSE : 11.557560283899813\n",
      "epoch : 483  w1 : 4.508954437623521 w2 : 3.67385257484468 b : 4.4101082858236\n",
      "-----------------------------------------------------------------------------------\n",
      "MSE : 11.559705326386375\n",
      "epoch : 484  w1 : 4.5119400564436045 w2 : 3.674709474464117 b : 4.4077181292147065\n",
      "-----------------------------------------------------------------------------------\n",
      "MSE : 11.561849390701402\n",
      "epoch : 485  w1 : 4.514923188166871 w2 : 3.6755669496420147 b : 4.405328213385788\n",
      "-----------------------------------------------------------------------------------\n",
      "MSE : 11.56399249014492\n",
      "epoch : 486  w1 : 4.5179038371949245 w2 : 3.676425002283308 b : 4.402938542745306\n",
      "-----------------------------------------------------------------------------------\n",
      "MSE : 11.566134637745831\n",
      "epoch : 487  w1 : 4.520882007882364 w2 : 3.6772836342494246 b : 4.400549121616341\n",
      "-----------------------------------------------------------------------------------\n",
      "MSE : 11.56827584626674\n",
      "epoch : 488  w1 : 4.523857704537597 w2 : 3.678142847359069 b : 4.398159954238114\n",
      "-----------------------------------------------------------------------------------\n",
      "MSE : 11.570416128208727\n",
      "epoch : 489  w1 : 4.526830931423633 w2 : 3.6790026433889897 b : 4.395771044767491\n",
      "-----------------------------------------------------------------------------------\n",
      "MSE : 11.572555495816019\n",
      "epoch : 490  w1 : 4.5298016927588725 w2 : 3.679863024074736 b : 4.393382397280451\n",
      "-----------------------------------------------------------------------------------\n",
      "MSE : 11.574693961080609\n",
      "epoch : 491  w1 : 4.532769992717874 w2 : 3.6807239911113983 b : 4.390994015773536\n",
      "-----------------------------------------------------------------------------------\n",
      "MSE : 11.57683153574674\n",
      "epoch : 492  w1 : 4.535735835432113 w2 : 3.681585546154336 b : 4.38860590416527\n",
      "-----------------------------------------------------------------------------------\n",
      "MSE : 11.578968231315383\n",
      "epoch : 493  w1 : 4.538699224990722 w2 : 3.6824476908198944 b : 4.386218066297553\n",
      "-----------------------------------------------------------------------------------\n",
      "MSE : 11.581104059048569\n",
      "epoch : 494  w1 : 4.541660165441224 w2 : 3.6833104266861056 b : 4.383830505937032\n",
      "-----------------------------------------------------------------------------------\n",
      "MSE : 11.583239029973706\n",
      "epoch : 495  w1 : 4.544618660790243 w2 : 3.6841737552933793 b : 4.381443226776451\n",
      "-----------------------------------------------------------------------------------\n",
      "MSE : 11.585373154887773\n",
      "epoch : 496  w1 : 4.547574715004215 w2 : 3.685037678145181 b : 4.379056232435967\n",
      "-----------------------------------------------------------------------------------\n",
      "MSE : 11.587506444361443\n",
      "epoch : 497  w1 : 4.550528332010076 w2 : 3.685902196708696 b : 4.376669526464451\n",
      "-----------------------------------------------------------------------------------\n",
      "MSE : 11.5896389087432\n",
      "epoch : 498  w1 : 4.553479515695941 w2 : 3.6867673124154856 b : 4.374283112340765\n",
      "-----------------------------------------------------------------------------------\n",
      "MSE : 11.591770558163285\n",
      "epoch : 499  w1 : 4.556428269911772 w2 : 3.6876330266621267 b : 4.371896993475013\n",
      "-----------------------------------------------------------------------------------\n",
      "MSE : 11.593901402537652\n",
      "epoch : 500  w1 : 4.559374598470033 w2 : 3.6884993408108446 b : 4.369511173209769\n",
      "-----------------------------------------------------------------------------------\n"
     ]
    }
   ],
   "source": [
    "num_epoch = 500\n",
    "learning_rate = 0.01\n",
    "\n",
    "for epoch in range(num_epoch):\n",
    "    pre_y0 = (w1*x1)+(w2+x2)+b0\n",
    "    mse0 = ((y-pre_y0)**2).mean()\n",
    "    print(\"MSE :\", mse0)\n",
    "\n",
    "    if mse0 < 0.1:\n",
    "        break\n",
    "\n",
    "    w1 = w1 - learning_rate * ((pre_y0-y0)*x1).mean()\n",
    "    w2 = w2 - learning_rate * ((pre_y0-y0)*x2).mean()\n",
    "    b0 = b0 - learning_rate * ((pre_y0-y0)*1).mean()\n",
    "    \n",
    "    print('epoch :', (epoch+1), \" w1 :\", w1, \"w2 :\", w2, 'b :',  b0)\n",
    "    print('-'*83)"
   ]
  },
  {
   "cell_type": "markdown",
   "id": "f33a1db6",
   "metadata": {},
   "source": [
    "## SGDRegressor (경사하강법으로 구현된 모델)"
   ]
  },
  {
   "cell_type": "code",
   "execution_count": 28,
   "id": "1566f88c",
   "metadata": {},
   "outputs": [],
   "source": [
    "from sklearn.linear_model import SGDRegressor\n",
    "sgd_model = SGDRegressor()"
   ]
  },
  {
   "cell_type": "code",
   "execution_count": 29,
   "id": "05cc5fae",
   "metadata": {},
   "outputs": [
    {
     "data": {
      "text/html": [
       "<style>#sk-container-id-1 {color: black;background-color: white;}#sk-container-id-1 pre{padding: 0;}#sk-container-id-1 div.sk-toggleable {background-color: white;}#sk-container-id-1 label.sk-toggleable__label {cursor: pointer;display: block;width: 100%;margin-bottom: 0;padding: 0.3em;box-sizing: border-box;text-align: center;}#sk-container-id-1 label.sk-toggleable__label-arrow:before {content: \"▸\";float: left;margin-right: 0.25em;color: #696969;}#sk-container-id-1 label.sk-toggleable__label-arrow:hover:before {color: black;}#sk-container-id-1 div.sk-estimator:hover label.sk-toggleable__label-arrow:before {color: black;}#sk-container-id-1 div.sk-toggleable__content {max-height: 0;max-width: 0;overflow: hidden;text-align: left;background-color: #f0f8ff;}#sk-container-id-1 div.sk-toggleable__content pre {margin: 0.2em;color: black;border-radius: 0.25em;background-color: #f0f8ff;}#sk-container-id-1 input.sk-toggleable__control:checked~div.sk-toggleable__content {max-height: 200px;max-width: 100%;overflow: auto;}#sk-container-id-1 input.sk-toggleable__control:checked~label.sk-toggleable__label-arrow:before {content: \"▾\";}#sk-container-id-1 div.sk-estimator input.sk-toggleable__control:checked~label.sk-toggleable__label {background-color: #d4ebff;}#sk-container-id-1 div.sk-label input.sk-toggleable__control:checked~label.sk-toggleable__label {background-color: #d4ebff;}#sk-container-id-1 input.sk-hidden--visually {border: 0;clip: rect(1px 1px 1px 1px);clip: rect(1px, 1px, 1px, 1px);height: 1px;margin: -1px;overflow: hidden;padding: 0;position: absolute;width: 1px;}#sk-container-id-1 div.sk-estimator {font-family: monospace;background-color: #f0f8ff;border: 1px dotted black;border-radius: 0.25em;box-sizing: border-box;margin-bottom: 0.5em;}#sk-container-id-1 div.sk-estimator:hover {background-color: #d4ebff;}#sk-container-id-1 div.sk-parallel-item::after {content: \"\";width: 100%;border-bottom: 1px solid gray;flex-grow: 1;}#sk-container-id-1 div.sk-label:hover label.sk-toggleable__label {background-color: #d4ebff;}#sk-container-id-1 div.sk-serial::before {content: \"\";position: absolute;border-left: 1px solid gray;box-sizing: border-box;top: 0;bottom: 0;left: 50%;z-index: 0;}#sk-container-id-1 div.sk-serial {display: flex;flex-direction: column;align-items: center;background-color: white;padding-right: 0.2em;padding-left: 0.2em;position: relative;}#sk-container-id-1 div.sk-item {position: relative;z-index: 1;}#sk-container-id-1 div.sk-parallel {display: flex;align-items: stretch;justify-content: center;background-color: white;position: relative;}#sk-container-id-1 div.sk-item::before, #sk-container-id-1 div.sk-parallel-item::before {content: \"\";position: absolute;border-left: 1px solid gray;box-sizing: border-box;top: 0;bottom: 0;left: 50%;z-index: -1;}#sk-container-id-1 div.sk-parallel-item {display: flex;flex-direction: column;z-index: 1;position: relative;background-color: white;}#sk-container-id-1 div.sk-parallel-item:first-child::after {align-self: flex-end;width: 50%;}#sk-container-id-1 div.sk-parallel-item:last-child::after {align-self: flex-start;width: 50%;}#sk-container-id-1 div.sk-parallel-item:only-child::after {width: 0;}#sk-container-id-1 div.sk-dashed-wrapped {border: 1px dashed gray;margin: 0 0.4em 0.5em 0.4em;box-sizing: border-box;padding-bottom: 0.4em;background-color: white;}#sk-container-id-1 div.sk-label label {font-family: monospace;font-weight: bold;display: inline-block;line-height: 1.2em;}#sk-container-id-1 div.sk-label-container {text-align: center;}#sk-container-id-1 div.sk-container {/* jupyter's `normalize.less` sets `[hidden] { display: none; }` but bootstrap.min.css set `[hidden] { display: none !important; }` so we also need the `!important` here to be able to override the default hidden behavior on the sphinx rendered scikit-learn.org. See: https://github.com/scikit-learn/scikit-learn/issues/21755 */display: inline-block !important;position: relative;}#sk-container-id-1 div.sk-text-repr-fallback {display: none;}</style><div id=\"sk-container-id-1\" class=\"sk-top-container\"><div class=\"sk-text-repr-fallback\"><pre>SGDRegressor()</pre><b>In a Jupyter environment, please rerun this cell to show the HTML representation or trust the notebook. <br />On GitHub, the HTML representation is unable to render, please try loading this page with nbviewer.org.</b></div><div class=\"sk-container\" hidden><div class=\"sk-item\"><div class=\"sk-estimator sk-toggleable\"><input class=\"sk-toggleable__control sk-hidden--visually\" id=\"sk-estimator-id-1\" type=\"checkbox\" checked><label for=\"sk-estimator-id-1\" class=\"sk-toggleable__label sk-toggleable__label-arrow\">SGDRegressor</label><div class=\"sk-toggleable__content\"><pre>SGDRegressor()</pre></div></div></div></div></div>"
      ],
      "text/plain": [
       "SGDRegressor()"
      ]
     },
     "execution_count": 29,
     "metadata": {},
     "output_type": "execute_result"
    }
   ],
   "source": [
    "sgd_model.fit(data[['공부시간']], data['성적점수'])   \n",
    "#대괄호 두번은 2차원으로 나오라고 치는 것 일반적으로 모델은 특성이 여러개 들어가니까"
   ]
  },
  {
   "cell_type": "code",
   "execution_count": 30,
   "id": "cab9569a",
   "metadata": {},
   "outputs": [
    {
     "name": "stdout",
     "output_type": "stream",
     "text": [
      "가중치 : [9.85662451]\n",
      "절편 : [1.03520409]\n"
     ]
    }
   ],
   "source": [
    "print(\"가중치 :\", sgd_model.coef_)\n",
    "print(\"절편 :\", sgd_model.intercept_)"
   ]
  },
  {
   "cell_type": "code",
   "execution_count": 31,
   "id": "f34c1866",
   "metadata": {},
   "outputs": [
    {
     "name": "stderr",
     "output_type": "stream",
     "text": [
      "/opt/homebrew/Caskroom/miniforge/base/envs/ml/lib/python3.11/site-packages/sklearn/base.py:450: UserWarning: X does not have valid feature names, but SGDRegressor was fitted with feature names\n",
      "  warnings.warn(\n"
     ]
    },
    {
     "data": {
      "text/plain": [
       "array([70.03157567, 50.31832665])"
      ]
     },
     "execution_count": 31,
     "metadata": {},
     "output_type": "execute_result"
    }
   ],
   "source": [
    "sgd_model.predict([[7],[5]])"
   ]
  },
  {
   "cell_type": "markdown",
   "id": "d14b2319",
   "metadata": {},
   "source": [
    "- max_iter -> 최대 미분 수\n",
    "- eta0 -> learning rate 학습률 (너무커도 안되고 너무 작어도 안됨)"
   ]
  },
  {
   "cell_type": "code",
   "execution_count": 32,
   "id": "9e783b34",
   "metadata": {},
   "outputs": [],
   "source": [
    "sgd_model = SGDRegressor(eta0=0.1,   #학습률\n",
    "                         max_iter=6000,   #반복횟수(가중치 업데이트 횟수)\n",
    "                         epsilon=0.001,   #최소 오차 기준값\n",
    "                         n_iter_no_change=100,   #업데이트시 오차가 변경되지 않는걸 허용하는 횟수\n",
    "                         verbose=1)   #과정을 살펴볼 수 있게 해줌"
   ]
  },
  {
   "cell_type": "code",
   "execution_count": 33,
   "id": "3af908be",
   "metadata": {},
   "outputs": [
    {
     "name": "stdout",
     "output_type": "stream",
     "text": [
      "-- Epoch 1\n",
      "Norm: 33.60, NNZs: 1, Bias: 77.902602, T: 4, Avg. loss: 178824.598328\n",
      "Total training time: 0.00 seconds.\n",
      "-- Epoch 2\n",
      "Norm: 108.40, NNZs: 1, Bias: 52.722243, T: 8, Avg. loss: 12470.454079\n",
      "Total training time: 0.00 seconds.\n",
      "-- Epoch 3\n",
      "Norm: 125.43, NNZs: 1, Bias: 252.441213, T: 12, Avg. loss: 3078624.310566\n",
      "Total training time: 0.00 seconds.\n",
      "-- Epoch 4\n",
      "Norm: 304.49, NNZs: 1, Bias: 243.254777, T: 16, Avg. loss: 111047.725540\n",
      "Total training time: 0.00 seconds.\n",
      "-- Epoch 5\n",
      "Norm: 406.52, NNZs: 1, Bias: 531.665745, T: 20, Avg. loss: 10374897.849072\n",
      "Total training time: 0.00 seconds.\n",
      "-- Epoch 6\n",
      "Norm: 708.50, NNZs: 1, Bias: 540.115224, T: 24, Avg. loss: 869888.775770\n",
      "Total training time: 0.00 seconds.\n",
      "-- Epoch 7\n",
      "Norm: 915.14, NNZs: 1, Bias: 1005.887170, T: 28, Avg. loss: 36944378.797500\n",
      "Total training time: 0.00 seconds.\n",
      "-- Epoch 8\n",
      "Norm: 1373.68, NNZs: 1, Bias: 1050.914866, T: 32, Avg. loss: 4245551.797353\n",
      "Total training time: 0.00 seconds.\n",
      "-- Epoch 9\n",
      "Norm: 1680.74, NNZs: 1, Bias: 1743.806469, T: 36, Avg. loss: 103475305.322851\n",
      "Total training time: 0.00 seconds.\n",
      "-- Epoch 10\n",
      "Norm: 2287.86, NNZs: 1, Bias: 1848.164761, T: 40, Avg. loss: 14305817.916509\n",
      "Total training time: 0.00 seconds.\n",
      "-- Epoch 11\n",
      "Norm: 2648.26, NNZs: 1, Bias: 2779.532182, T: 44, Avg. loss: 226794301.379728\n",
      "Total training time: 0.00 seconds.\n",
      "-- Epoch 12\n",
      "Norm: 3348.41, NNZs: 1, Bias: 2960.541184, T: 48, Avg. loss: 35620947.604601\n",
      "Total training time: 0.00 seconds.\n",
      "-- Epoch 13\n",
      "Norm: 3682.13, NNZs: 1, Bias: 4092.755780, T: 52, Avg. loss: 396616176.618267\n",
      "Total training time: 0.00 seconds.\n",
      "-- Epoch 14\n",
      "Norm: 4390.27, NNZs: 1, Bias: 4353.021866, T: 56, Avg. loss: 68887504.056343\n",
      "Total training time: 0.00 seconds.\n",
      "-- Epoch 15\n",
      "Norm: 4615.24, NNZs: 1, Bias: 5605.849020, T: 60, Avg. loss: 567288809.265351\n",
      "Total training time: 0.00 seconds.\n",
      "-- Epoch 16\n",
      "Norm: 5249.13, NNZs: 1, Bias: 5929.622465, T: 64, Avg. loss: 107865650.582951\n",
      "Total training time: 0.00 seconds.\n",
      "-- Epoch 17\n",
      "Norm: 5313.67, NNZs: 1, Bias: 7202.231457, T: 68, Avg. loss: 681604043.609450\n",
      "Total training time: 0.00 seconds.\n",
      "-- Epoch 18\n",
      "Norm: 5820.59, NNZs: 1, Bias: 7559.710244, T: 72, Avg. loss: 142013841.124127\n",
      "Total training time: 0.00 seconds.\n",
      "-- Epoch 19\n",
      "Norm: 5718.65, NNZs: 1, Bias: 8757.358936, T: 76, Avg. loss: 707333870.102147\n",
      "Total training time: 0.00 seconds.\n",
      "-- Epoch 20\n",
      "Norm: 6083.58, NNZs: 1, Bias: 9114.210343, T: 80, Avg. loss: 162921832.718084\n",
      "Total training time: 0.00 seconds.\n",
      "-- Epoch 21\n",
      "Norm: 5848.11, NNZs: 1, Bias: 10167.911381, T: 84, Avg. loss: 652233992.384424\n",
      "Total training time: 0.00 seconds.\n",
      "-- Epoch 22\n",
      "Norm: 6084.73, NNZs: 1, Bias: 10494.758444, T: 88, Avg. loss: 168465348.103980\n",
      "Total training time: 0.00 seconds.\n",
      "-- Epoch 23\n",
      "Norm: 5768.23, NNZs: 1, Bias: 11368.369091, T: 92, Avg. loss: 549683761.822045\n",
      "Total training time: 0.00 seconds.\n",
      "-- Epoch 24\n",
      "Norm: 5902.92, NNZs: 1, Bias: 11646.277708, T: 96, Avg. loss: 161951600.277119\n",
      "Total training time: 0.00 seconds.\n",
      "-- Epoch 25\n",
      "Norm: 5558.02, NNZs: 1, Bias: 12332.661017, T: 100, Avg. loss: 434917326.747789\n",
      "Total training time: 0.00 seconds.\n",
      "-- Epoch 26\n",
      "Norm: 5616.80, NNZs: 1, Bias: 12553.814033, T: 104, Avg. loss: 148650664.256518\n",
      "Total training time: 0.00 seconds.\n",
      "-- Epoch 27\n",
      "Norm: 5284.50, NNZs: 1, Bias: 13065.494251, T: 108, Avg. loss: 330921547.124024\n",
      "Total training time: 0.00 seconds.\n",
      "-- Epoch 28\n",
      "Norm: 5286.67, NNZs: 1, Bias: 13230.655346, T: 112, Avg. loss: 133017457.880025\n",
      "Total training time: 0.00 seconds.\n",
      "-- Epoch 29\n",
      "Norm: 4993.14, NNZs: 1, Bias: 13590.122519, T: 116, Avg. loss: 247023536.792148\n",
      "Total training time: 0.00 seconds.\n",
      "-- Epoch 30\n",
      "Norm: 4950.64, NNZs: 1, Bias: 13705.100814, T: 120, Avg. loss: 117740851.922579\n",
      "Total training time: 0.00 seconds.\n",
      "-- Epoch 31\n",
      "Norm: 4709.37, NNZs: 1, Bias: 13937.594622, T: 124, Avg. loss: 183678127.423402\n",
      "Total training time: 0.00 seconds.\n",
      "-- Epoch 32\n",
      "Norm: 4628.78, NNZs: 1, Bias: 14010.238115, T: 128, Avg. loss: 104010077.359069\n",
      "Total training time: 0.00 seconds.\n",
      "-- Epoch 33\n",
      "Norm: 4444.51, NNZs: 1, Bias: 14139.579961, T: 132, Avg. loss: 137499502.028264\n",
      "Total training time: 0.00 seconds.\n",
      "-- Epoch 34\n",
      "Norm: 4329.51, NNZs: 1, Bias: 14177.849095, T: 136, Avg. loss: 92120454.660410\n",
      "Total training time: 0.00 seconds.\n",
      "-- Epoch 35\n",
      "Norm: 4201.81, NNZs: 1, Bias: 14224.654894, T: 140, Avg. loss: 104338249.968571\n",
      "Total training time: 0.00 seconds.\n",
      "-- Epoch 36\n",
      "Norm: 4054.91, NNZs: 1, Bias: 14235.673111, T: 144, Avg. loss: 81959314.487806\n",
      "Total training time: 0.00 seconds.\n",
      "-- Epoch 37\n",
      "Norm: 3980.70, NNZs: 1, Bias: 14216.990989, T: 148, Avg. loss: 80586445.096512\n",
      "Total training time: 0.00 seconds.\n",
      "-- Epoch 38\n",
      "Norm: 3804.10, NNZs: 1, Bias: 14206.735716, T: 152, Avg. loss: 73282036.707135\n",
      "Total training time: 0.00 seconds.\n",
      "-- Epoch 39\n",
      "Norm: 3779.12, NNZs: 1, Bias: 14136.352125, T: 156, Avg. loss: 63492835.707518\n",
      "Total training time: 0.00 seconds.\n",
      "-- Epoch 40\n",
      "Norm: 3575.10, NNZs: 1, Bias: 14109.675548, T: 160, Avg. loss: 65835448.164677\n",
      "Total training time: 0.00 seconds.\n",
      "-- Epoch 41\n",
      "Norm: 3594.71, NNZs: 1, Bias: 13998.639273, T: 164, Avg. loss: 51080022.390617\n",
      "Total training time: 0.00 seconds.\n",
      "-- Epoch 42\n",
      "Norm: 3365.69, NNZs: 1, Bias: 13959.417991, T: 168, Avg. loss: 59400031.574126\n",
      "Total training time: 0.00 seconds.\n",
      "-- Epoch 43\n",
      "Norm: 3425.28, NNZs: 1, Bias: 13816.568041, T: 172, Avg. loss: 41962270.590549\n",
      "Total training time: 0.00 seconds.\n",
      "-- Epoch 44\n",
      "Norm: 3173.75, NNZs: 1, Bias: 13767.878869, T: 176, Avg. loss: 53797296.547062\n",
      "Total training time: 0.00 seconds.\n",
      "-- Epoch 45\n",
      "Norm: 3268.90, NNZs: 1, Bias: 13600.298725, T: 180, Avg. loss: 35176215.722348\n",
      "Total training time: 0.00 seconds.\n",
      "-- Epoch 46\n",
      "Norm: 2997.37, NNZs: 1, Bias: 13544.578861, T: 184, Avg. loss: 48885234.054826\n",
      "Total training time: 0.00 seconds.\n",
      "-- Epoch 47\n",
      "Norm: 3123.96, NNZs: 1, Bias: 13357.963011, T: 188, Avg. loss: 30051737.385100\n",
      "Total training time: 0.00 seconds.\n",
      "-- Epoch 48\n",
      "Norm: 2834.86, NNZs: 1, Bias: 13297.142887, T: 192, Avg. loss: 44551211.721321\n",
      "Total training time: 0.00 seconds.\n",
      "-- Epoch 49\n",
      "Norm: 2989.09, NNZs: 1, Bias: 13096.084992, T: 196, Avg. loss: 26120590.978911\n",
      "Total training time: 0.00 seconds.\n",
      "-- Epoch 50\n",
      "Norm: 2684.75, NNZs: 1, Bias: 13031.694307, T: 200, Avg. loss: 40705439.220787\n",
      "Total training time: 0.00 seconds.\n",
      "-- Epoch 51\n",
      "Norm: 2863.15, NNZs: 1, Bias: 12819.911919, T: 204, Avg. loss: 23053599.693350\n",
      "Total training time: 0.00 seconds.\n",
      "-- Epoch 52\n",
      "Norm: 2545.77, NNZs: 1, Bias: 12753.163027, T: 208, Avg. loss: 37275723.274768\n",
      "Total training time: 0.00 seconds.\n",
      "-- Epoch 53\n",
      "Norm: 2745.17, NNZs: 1, Bias: 12533.672872, T: 212, Avg. loss: 20617837.553948\n",
      "Total training time: 0.00 seconds.\n",
      "-- Epoch 54\n",
      "Norm: 2416.78, NNZs: 1, Bias: 12465.526118, T: 216, Avg. loss: 34203452.019571\n",
      "Total training time: 0.00 seconds.\n",
      "-- Epoch 55\n",
      "Norm: 2634.33, NNZs: 1, Bias: 12240.781355, T: 220, Avg. loss: 18647411.128939\n",
      "Total training time: 0.00 seconds.\n",
      "-- Epoch 56\n",
      "Norm: 2296.83, NNZs: 1, Bias: 12171.996331, T: 224, Avg. loss: 31440565.947432\n",
      "Total training time: 0.00 seconds.\n",
      "-- Epoch 57\n",
      "Norm: 2529.95, NNZs: 1, Bias: 11943.994610, T: 228, Avg. loss: 17023420.608778\n",
      "Total training time: 0.00 seconds.\n",
      "-- Epoch 58\n",
      "Norm: 2185.04, NNZs: 1, Bias: 11875.170480, T: 232, Avg. loss: 28947276.235222\n",
      "Total training time: 0.00 seconds.\n",
      "-- Epoch 59\n",
      "Norm: 2431.41, NNZs: 1, Bias: 11645.539517, T: 236, Avg. loss: 15660126.162747\n",
      "Total training time: 0.00 seconds.\n",
      "-- Epoch 60\n",
      "Norm: 2080.68, NNZs: 1, Bias: 11577.146879, T: 240, Avg. loss: 26690338.347907\n",
      "Total training time: 0.00 seconds.\n",
      "-- Epoch 61\n",
      "Norm: 2338.21, NNZs: 1, Bias: 11347.212618, T: 244, Avg. loss: 14495331.435499\n",
      "Total training time: 0.00 seconds.\n",
      "-- Epoch 62\n",
      "Norm: 1983.06, NNZs: 1, Bias: 11279.618785, T: 248, Avg. loss: 24641736.456045\n",
      "Total training time: 0.00 seconds.\n",
      "-- Epoch 63\n",
      "Norm: 2249.90, NNZs: 1, Bias: 11050.460003, T: 252, Avg. loss: 13483652.587494\n",
      "Total training time: 0.00 seconds.\n",
      "-- Epoch 64\n",
      "Norm: 1891.62, NNZs: 1, Bias: 10983.949133, T: 256, Avg. loss: 22777672.527080\n",
      "Total training time: 0.00 seconds.\n",
      "-- Epoch 65\n",
      "Norm: 2166.07, NNZs: 1, Bias: 10756.441433, T: 260, Avg. loss: 12591776.069246\n",
      "Total training time: 0.00 seconds.\n",
      "-- Epoch 66\n",
      "Norm: 1805.81, NNZs: 1, Bias: 10691.230637, T: 264, Avg. loss: 21077782.617606\n",
      "Total training time: 0.00 seconds.\n",
      "-- Epoch 67\n",
      "Norm: 2086.39, NNZs: 1, Bias: 10466.082054, T: 268, Avg. loss: 11795096.931506\n",
      "Total training time: 0.00 seconds.\n",
      "-- Epoch 68\n",
      "Norm: 1725.18, NNZs: 1, Bias: 10402.334322, T: 272, Avg. loss: 19524523.784029\n",
      "Total training time: 0.00 seconds.\n",
      "-- Epoch 69\n",
      "Norm: 2010.54, NNZs: 1, Bias: 10180.114305, T: 276, Avg. loss: 11075322.142564\n",
      "Total training time: 0.00 seconds.\n",
      "-- Epoch 70\n",
      "Norm: 1649.31, NNZs: 1, Bias: 10117.948921, T: 280, Avg. loss: 18102690.119911\n",
      "Total training time: 0.00 seconds.\n",
      "-- Epoch 71\n",
      "Norm: 1938.26, NNZs: 1, Bias: 9899.112012, T: 284, Avg. loss: 10418752.906856\n",
      "Total training time: 0.00 seconds.\n",
      "-- Epoch 72\n",
      "Norm: 1577.82, NNZs: 1, Bias: 9838.612970, T: 288, Avg. loss: 16799027.318144\n",
      "Total training time: 0.00 seconds.\n",
      "-- Epoch 73\n",
      "Norm: 1869.31, NNZs: 1, Bias: 9623.518245, T: 292, Avg. loss: 9815047.703897\n",
      "Total training time: 0.00 seconds.\n",
      "-- Epoch 74\n",
      "Norm: 1510.38, NNZs: 1, Bias: 9564.741066, T: 296, Avg. loss: 15601923.035592\n",
      "Total training time: 0.00 seconds.\n",
      "-- Epoch 75\n",
      "Norm: 1803.45, NNZs: 1, Bias: 9353.668149, T: 300, Avg. loss: 9256327.630600\n",
      "Total training time: 0.00 seconds.\n",
      "-- Epoch 76\n",
      "Norm: 1446.69, NNZs: 1, Bias: 9296.645428, T: 304, Avg. loss: 14501156.065782\n",
      "Total training time: 0.00 seconds.\n",
      "-- Epoch 77\n",
      "Norm: 1740.50, NNZs: 1, Bias: 9089.807745, T: 308, Avg. loss: 8736526.784397\n",
      "Total training time: 0.00 seconds.\n",
      "-- Epoch 78\n",
      "Norm: 1386.46, NNZs: 1, Bias: 9034.553659, T: 312, Avg. loss: 13487691.513288\n",
      "Total training time: 0.00 seconds.\n",
      "-- Epoch 79\n",
      "Norm: 1680.28, NNZs: 1, Bias: 8832.109426, T: 316, Avg. loss: 8250918.919322\n",
      "Total training time: 0.00 seconds.\n",
      "-- Epoch 80\n",
      "Norm: 1329.46, NNZs: 1, Bias: 8778.623418, T: 320, Avg. loss: 12553512.245386\n",
      "Total training time: 0.00 seconds.\n",
      "-- Epoch 81\n",
      "Norm: 1622.63, NNZs: 1, Bias: 8580.684800, T: 324, Avg. loss: 7795771.471784\n",
      "Total training time: 0.00 seconds.\n",
      "-- Epoch 82\n",
      "Norm: 1275.46, NNZs: 1, Bias: 8528.954584, T: 328, Avg. loss: 11691479.179985\n",
      "Total training time: 0.00 seconds.\n",
      "-- Epoch 83\n",
      "Norm: 1567.38, NNZs: 1, Bias: 8335.595334, T: 332, Avg. loss: 7368091.991265\n",
      "Total training time: 0.00 seconds.\n",
      "-- Epoch 84\n",
      "Norm: 1224.25, NNZs: 1, Bias: 8285.599359, T: 336, Avg. loss: 10895214.672538\n",
      "Total training time: 0.00 seconds.\n",
      "-- Epoch 85\n",
      "Norm: 1514.42, NNZs: 1, Bias: 8096.861214, T: 340, Avg. loss: 6965441.851641\n",
      "Total training time: 0.00 seconds.\n",
      "-- Epoch 86\n",
      "Norm: 1175.64, NNZs: 1, Bias: 8048.570681, T: 344, Avg. loss: 10159004.544846\n",
      "Total training time: 0.00 seconds.\n",
      "-- Epoch 87\n",
      "Norm: 1463.61, NNZs: 1, Bias: 7864.468730, T: 348, Avg. loss: 6585799.106546\n",
      "Total training time: 0.00 seconds.\n",
      "-- Epoch 88\n",
      "Norm: 1129.46, NNZs: 1, Bias: 7817.849235, T: 352, Avg. loss: 9477715.267469\n",
      "Total training time: 0.00 seconds.\n",
      "-- Epoch 89\n",
      "Norm: 1414.84, NNZs: 1, Bias: 7638.376436, T: 356, Avg. loss: 6227457.341097\n",
      "Total training time: 0.00 seconds.\n",
      "-- Epoch 90\n",
      "Norm: 1085.56, NNZs: 1, Bias: 7593.389329, T: 360, Avg. loss: 8846723.545812\n",
      "Total training time: 0.00 seconds.\n",
      "-- Epoch 91\n",
      "Norm: 1368.00, NNZs: 1, Bias: 7418.520305, T: 364, Avg. loss: 5888950.952281\n",
      "Total training time: 0.00 seconds.\n",
      "-- Epoch 92\n",
      "Norm: 1043.79, NNZs: 1, Bias: 7375.123794, T: 368, Avg. loss: 8261856.126674\n",
      "Total training time: 0.00 seconds.\n",
      "-- Epoch 93\n",
      "Norm: 1323.00, NNZs: 1, Bias: 7204.818045, T: 372, Avg. loss: 5568999.871481\n",
      "Total training time: 0.00 seconds.\n",
      "-- Epoch 94\n",
      "Norm: 1004.02, NNZs: 1, Bias: 7162.968101, T: 376, Avg. loss: 7719338.079907\n",
      "Total training time: 0.00 seconds.\n",
      "-- Epoch 95\n",
      "Norm: 1279.74, NNZs: 1, Bias: 6997.172716, T: 380, Avg. loss: 5266468.611704\n",
      "Total training time: 0.00 seconds.\n",
      "-- Epoch 96\n",
      "Norm: 966.12, NNZs: 1, Bias: 6956.823812, T: 384, Avg. loss: 7215748.150588\n",
      "Total training time: 0.00 seconds.\n",
      "-- Epoch 97\n",
      "Norm: 1238.13, NNZs: 1, Bias: 6795.475760, T: 388, Avg. loss: 4980335.881088\n",
      "Total training time: 0.00 seconds.\n",
      "-- Epoch 98\n",
      "Norm: 929.98, NNZs: 1, Bias: 6756.581474, T: 392, Avg. loss: 6747980.043931\n",
      "Total training time: 0.00 seconds.\n",
      "-- Epoch 99\n",
      "Norm: 1198.09, NNZs: 1, Bias: 6599.609549, T: 396, Avg. loss: 4709671.996058\n",
      "Total training time: 0.00 seconds.\n",
      "-- Epoch 100\n",
      "Norm: 895.51, NNZs: 1, Bias: 6562.123050, T: 400, Avg. loss: 6313208.715542\n",
      "Total training time: 0.00 seconds.\n",
      "-- Epoch 101\n",
      "Norm: 1159.56, NNZs: 1, Bias: 6409.449514, T: 404, Avg. loss: 4453622.053617\n",
      "Total training time: 0.00 seconds.\n",
      "-- Epoch 102\n",
      "Norm: 862.59, NNZs: 1, Bias: 6373.323959, T: 408, Avg. loss: 5908860.906487\n",
      "Total training time: 0.00 seconds.\n",
      "Convergence after 102 epochs took 0.00 seconds\n"
     ]
    },
    {
     "data": {
      "text/html": [
       "<style>#sk-container-id-2 {color: black;background-color: white;}#sk-container-id-2 pre{padding: 0;}#sk-container-id-2 div.sk-toggleable {background-color: white;}#sk-container-id-2 label.sk-toggleable__label {cursor: pointer;display: block;width: 100%;margin-bottom: 0;padding: 0.3em;box-sizing: border-box;text-align: center;}#sk-container-id-2 label.sk-toggleable__label-arrow:before {content: \"▸\";float: left;margin-right: 0.25em;color: #696969;}#sk-container-id-2 label.sk-toggleable__label-arrow:hover:before {color: black;}#sk-container-id-2 div.sk-estimator:hover label.sk-toggleable__label-arrow:before {color: black;}#sk-container-id-2 div.sk-toggleable__content {max-height: 0;max-width: 0;overflow: hidden;text-align: left;background-color: #f0f8ff;}#sk-container-id-2 div.sk-toggleable__content pre {margin: 0.2em;color: black;border-radius: 0.25em;background-color: #f0f8ff;}#sk-container-id-2 input.sk-toggleable__control:checked~div.sk-toggleable__content {max-height: 200px;max-width: 100%;overflow: auto;}#sk-container-id-2 input.sk-toggleable__control:checked~label.sk-toggleable__label-arrow:before {content: \"▾\";}#sk-container-id-2 div.sk-estimator input.sk-toggleable__control:checked~label.sk-toggleable__label {background-color: #d4ebff;}#sk-container-id-2 div.sk-label input.sk-toggleable__control:checked~label.sk-toggleable__label {background-color: #d4ebff;}#sk-container-id-2 input.sk-hidden--visually {border: 0;clip: rect(1px 1px 1px 1px);clip: rect(1px, 1px, 1px, 1px);height: 1px;margin: -1px;overflow: hidden;padding: 0;position: absolute;width: 1px;}#sk-container-id-2 div.sk-estimator {font-family: monospace;background-color: #f0f8ff;border: 1px dotted black;border-radius: 0.25em;box-sizing: border-box;margin-bottom: 0.5em;}#sk-container-id-2 div.sk-estimator:hover {background-color: #d4ebff;}#sk-container-id-2 div.sk-parallel-item::after {content: \"\";width: 100%;border-bottom: 1px solid gray;flex-grow: 1;}#sk-container-id-2 div.sk-label:hover label.sk-toggleable__label {background-color: #d4ebff;}#sk-container-id-2 div.sk-serial::before {content: \"\";position: absolute;border-left: 1px solid gray;box-sizing: border-box;top: 0;bottom: 0;left: 50%;z-index: 0;}#sk-container-id-2 div.sk-serial {display: flex;flex-direction: column;align-items: center;background-color: white;padding-right: 0.2em;padding-left: 0.2em;position: relative;}#sk-container-id-2 div.sk-item {position: relative;z-index: 1;}#sk-container-id-2 div.sk-parallel {display: flex;align-items: stretch;justify-content: center;background-color: white;position: relative;}#sk-container-id-2 div.sk-item::before, #sk-container-id-2 div.sk-parallel-item::before {content: \"\";position: absolute;border-left: 1px solid gray;box-sizing: border-box;top: 0;bottom: 0;left: 50%;z-index: -1;}#sk-container-id-2 div.sk-parallel-item {display: flex;flex-direction: column;z-index: 1;position: relative;background-color: white;}#sk-container-id-2 div.sk-parallel-item:first-child::after {align-self: flex-end;width: 50%;}#sk-container-id-2 div.sk-parallel-item:last-child::after {align-self: flex-start;width: 50%;}#sk-container-id-2 div.sk-parallel-item:only-child::after {width: 0;}#sk-container-id-2 div.sk-dashed-wrapped {border: 1px dashed gray;margin: 0 0.4em 0.5em 0.4em;box-sizing: border-box;padding-bottom: 0.4em;background-color: white;}#sk-container-id-2 div.sk-label label {font-family: monospace;font-weight: bold;display: inline-block;line-height: 1.2em;}#sk-container-id-2 div.sk-label-container {text-align: center;}#sk-container-id-2 div.sk-container {/* jupyter's `normalize.less` sets `[hidden] { display: none; }` but bootstrap.min.css set `[hidden] { display: none !important; }` so we also need the `!important` here to be able to override the default hidden behavior on the sphinx rendered scikit-learn.org. See: https://github.com/scikit-learn/scikit-learn/issues/21755 */display: inline-block !important;position: relative;}#sk-container-id-2 div.sk-text-repr-fallback {display: none;}</style><div id=\"sk-container-id-2\" class=\"sk-top-container\"><div class=\"sk-text-repr-fallback\"><pre>SGDRegressor(epsilon=0.001, eta0=0.1, max_iter=6000, n_iter_no_change=100,\n",
       "             verbose=1)</pre><b>In a Jupyter environment, please rerun this cell to show the HTML representation or trust the notebook. <br />On GitHub, the HTML representation is unable to render, please try loading this page with nbviewer.org.</b></div><div class=\"sk-container\" hidden><div class=\"sk-item\"><div class=\"sk-estimator sk-toggleable\"><input class=\"sk-toggleable__control sk-hidden--visually\" id=\"sk-estimator-id-2\" type=\"checkbox\" checked><label for=\"sk-estimator-id-2\" class=\"sk-toggleable__label sk-toggleable__label-arrow\">SGDRegressor</label><div class=\"sk-toggleable__content\"><pre>SGDRegressor(epsilon=0.001, eta0=0.1, max_iter=6000, n_iter_no_change=100,\n",
       "             verbose=1)</pre></div></div></div></div></div>"
      ],
      "text/plain": [
       "SGDRegressor(epsilon=0.001, eta0=0.1, max_iter=6000, n_iter_no_change=100,\n",
       "             verbose=1)"
      ]
     },
     "execution_count": 33,
     "metadata": {},
     "output_type": "execute_result"
    }
   ],
   "source": [
    "sgd_model.fit(data[['공부시간']], data['성적점수'])   "
   ]
  },
  {
   "cell_type": "code",
   "execution_count": 34,
   "id": "7feb5f6b",
   "metadata": {},
   "outputs": [
    {
     "name": "stdout",
     "output_type": "stream",
     "text": [
      "가중치 : [-862.59469692]\n",
      "절편 : [6373.32395889]\n"
     ]
    }
   ],
   "source": [
    "print(\"가중치 :\", sgd_model.coef_)\n",
    "print(\"절편 :\", sgd_model.intercept_)"
   ]
  },
  {
   "cell_type": "markdown",
   "id": "c6fe9957",
   "metadata": {},
   "source": [
    "# (실습2) LinearRegression으로 손글씨 예측 - 분류"
   ]
  },
  {
   "attachments": {},
   "cell_type": "markdown",
   "id": "728b62a9",
   "metadata": {},
   "source": [
    "## 1. 문제정의(목표설정)\n",
    "- 손글씨를 분류하는 모델을 만들어보자.\n",
    "- 예측의 불확실성을 확인해보자.\n",
    "- 이미지 데이터에 형태를 이해해보자.\n",
    "- 다양한 분류평가지표를 이해해보자."
   ]
  },
  {
   "attachments": {},
   "cell_type": "markdown",
   "id": "4bb12f2e",
   "metadata": {},
   "source": [
    "## 2. 데이터 수집"
   ]
  },
  {
   "cell_type": "code",
   "execution_count": 37,
   "id": "cda0da98",
   "metadata": {},
   "outputs": [
    {
     "data": {
      "text/html": [
       "<div>\n",
       "<style scoped>\n",
       "    .dataframe tbody tr th:only-of-type {\n",
       "        vertical-align: middle;\n",
       "    }\n",
       "\n",
       "    .dataframe tbody tr th {\n",
       "        vertical-align: top;\n",
       "    }\n",
       "\n",
       "    .dataframe thead th {\n",
       "        text-align: right;\n",
       "    }\n",
       "</style>\n",
       "<table border=\"1\" class=\"dataframe\">\n",
       "  <thead>\n",
       "    <tr style=\"text-align: right;\">\n",
       "      <th></th>\n",
       "      <th>label</th>\n",
       "      <th>pixel0</th>\n",
       "      <th>pixel1</th>\n",
       "      <th>pixel2</th>\n",
       "      <th>pixel3</th>\n",
       "      <th>pixel4</th>\n",
       "      <th>pixel5</th>\n",
       "      <th>pixel6</th>\n",
       "      <th>pixel7</th>\n",
       "      <th>pixel8</th>\n",
       "      <th>...</th>\n",
       "      <th>pixel774</th>\n",
       "      <th>pixel775</th>\n",
       "      <th>pixel776</th>\n",
       "      <th>pixel777</th>\n",
       "      <th>pixel778</th>\n",
       "      <th>pixel779</th>\n",
       "      <th>pixel780</th>\n",
       "      <th>pixel781</th>\n",
       "      <th>pixel782</th>\n",
       "      <th>pixel783</th>\n",
       "    </tr>\n",
       "  </thead>\n",
       "  <tbody>\n",
       "    <tr>\n",
       "      <th>0</th>\n",
       "      <td>1</td>\n",
       "      <td>0</td>\n",
       "      <td>0</td>\n",
       "      <td>0</td>\n",
       "      <td>0</td>\n",
       "      <td>0</td>\n",
       "      <td>0</td>\n",
       "      <td>0</td>\n",
       "      <td>0</td>\n",
       "      <td>0</td>\n",
       "      <td>...</td>\n",
       "      <td>0</td>\n",
       "      <td>0</td>\n",
       "      <td>0</td>\n",
       "      <td>0</td>\n",
       "      <td>0</td>\n",
       "      <td>0</td>\n",
       "      <td>0</td>\n",
       "      <td>0</td>\n",
       "      <td>0</td>\n",
       "      <td>0</td>\n",
       "    </tr>\n",
       "    <tr>\n",
       "      <th>1</th>\n",
       "      <td>0</td>\n",
       "      <td>0</td>\n",
       "      <td>0</td>\n",
       "      <td>0</td>\n",
       "      <td>0</td>\n",
       "      <td>0</td>\n",
       "      <td>0</td>\n",
       "      <td>0</td>\n",
       "      <td>0</td>\n",
       "      <td>0</td>\n",
       "      <td>...</td>\n",
       "      <td>0</td>\n",
       "      <td>0</td>\n",
       "      <td>0</td>\n",
       "      <td>0</td>\n",
       "      <td>0</td>\n",
       "      <td>0</td>\n",
       "      <td>0</td>\n",
       "      <td>0</td>\n",
       "      <td>0</td>\n",
       "      <td>0</td>\n",
       "    </tr>\n",
       "    <tr>\n",
       "      <th>2</th>\n",
       "      <td>1</td>\n",
       "      <td>0</td>\n",
       "      <td>0</td>\n",
       "      <td>0</td>\n",
       "      <td>0</td>\n",
       "      <td>0</td>\n",
       "      <td>0</td>\n",
       "      <td>0</td>\n",
       "      <td>0</td>\n",
       "      <td>0</td>\n",
       "      <td>...</td>\n",
       "      <td>0</td>\n",
       "      <td>0</td>\n",
       "      <td>0</td>\n",
       "      <td>0</td>\n",
       "      <td>0</td>\n",
       "      <td>0</td>\n",
       "      <td>0</td>\n",
       "      <td>0</td>\n",
       "      <td>0</td>\n",
       "      <td>0</td>\n",
       "    </tr>\n",
       "    <tr>\n",
       "      <th>3</th>\n",
       "      <td>4</td>\n",
       "      <td>0</td>\n",
       "      <td>0</td>\n",
       "      <td>0</td>\n",
       "      <td>0</td>\n",
       "      <td>0</td>\n",
       "      <td>0</td>\n",
       "      <td>0</td>\n",
       "      <td>0</td>\n",
       "      <td>0</td>\n",
       "      <td>...</td>\n",
       "      <td>0</td>\n",
       "      <td>0</td>\n",
       "      <td>0</td>\n",
       "      <td>0</td>\n",
       "      <td>0</td>\n",
       "      <td>0</td>\n",
       "      <td>0</td>\n",
       "      <td>0</td>\n",
       "      <td>0</td>\n",
       "      <td>0</td>\n",
       "    </tr>\n",
       "    <tr>\n",
       "      <th>4</th>\n",
       "      <td>0</td>\n",
       "      <td>0</td>\n",
       "      <td>0</td>\n",
       "      <td>0</td>\n",
       "      <td>0</td>\n",
       "      <td>0</td>\n",
       "      <td>0</td>\n",
       "      <td>0</td>\n",
       "      <td>0</td>\n",
       "      <td>0</td>\n",
       "      <td>...</td>\n",
       "      <td>0</td>\n",
       "      <td>0</td>\n",
       "      <td>0</td>\n",
       "      <td>0</td>\n",
       "      <td>0</td>\n",
       "      <td>0</td>\n",
       "      <td>0</td>\n",
       "      <td>0</td>\n",
       "      <td>0</td>\n",
       "      <td>0</td>\n",
       "    </tr>\n",
       "  </tbody>\n",
       "</table>\n",
       "<p>5 rows × 785 columns</p>\n",
       "</div>"
      ],
      "text/plain": [
       "   label  pixel0  pixel1  pixel2  pixel3  pixel4  pixel5  pixel6  pixel7  \\\n",
       "0      1       0       0       0       0       0       0       0       0   \n",
       "1      0       0       0       0       0       0       0       0       0   \n",
       "2      1       0       0       0       0       0       0       0       0   \n",
       "3      4       0       0       0       0       0       0       0       0   \n",
       "4      0       0       0       0       0       0       0       0       0   \n",
       "\n",
       "   pixel8  ...  pixel774  pixel775  pixel776  pixel777  pixel778  pixel779  \\\n",
       "0       0  ...         0         0         0         0         0         0   \n",
       "1       0  ...         0         0         0         0         0         0   \n",
       "2       0  ...         0         0         0         0         0         0   \n",
       "3       0  ...         0         0         0         0         0         0   \n",
       "4       0  ...         0         0         0         0         0         0   \n",
       "\n",
       "   pixel780  pixel781  pixel782  pixel783  \n",
       "0         0         0         0         0  \n",
       "1         0         0         0         0  \n",
       "2         0         0         0         0  \n",
       "3         0         0         0         0  \n",
       "4         0         0         0         0  \n",
       "\n",
       "[5 rows x 785 columns]"
      ]
     },
     "execution_count": 37,
     "metadata": {},
     "output_type": "execute_result"
    }
   ],
   "source": [
    "import numpy as np\n",
    "import pandas as pd\n",
    "import matplotlib.pyplot as plt\n",
    "from sklearn.model_selection import train_test_split\n",
    "\n",
    "data = pd.read_csv(\"./data/digit_train.csv\")\n",
    "data.head()"
   ]
  },
  {
   "cell_type": "code",
   "execution_count": 38,
   "id": "852a29e5",
   "metadata": {},
   "outputs": [
    {
     "data": {
      "text/plain": [
       "(42000, 785)"
      ]
     },
     "execution_count": 38,
     "metadata": {},
     "output_type": "execute_result"
    }
   ],
   "source": [
    "data.shape"
   ]
  },
  {
   "attachments": {},
   "cell_type": "markdown",
   "id": "b0edafe4",
   "metadata": {},
   "source": [
    "- pixel: 하나의 픽셀 안에 RGB 데이터를 담고 있음 \n",
    "- 28x28 size의 이미지를 한줄로 세워서 1차원 데이터로 만듬"
   ]
  },
  {
   "cell_type": "code",
   "execution_count": 39,
   "id": "4cfd73da",
   "metadata": {},
   "outputs": [
    {
     "data": {
      "text/plain": [
       "<matplotlib.image.AxesImage at 0x17b0f9f50>"
      ]
     },
     "execution_count": 39,
     "metadata": {},
     "output_type": "execute_result"
    },
    {
     "data": {
      "image/png": "[encoded data removed]",
      "text/plain": [
       "<Figure size 640x480 with 1 Axes>"
      ]
     },
     "metadata": {},
     "output_type": "display_data"
    }
   ],
   "source": [
    "# 이미지 확인\n",
    "img = data.iloc[5,1:]\n",
    "img_reshape=img.values.reshape(28,28)\n",
    "#.values시리즈나 판다스에서 넘파이로 바꾸는 법)\n",
    "#.reshape모양 바꾸는 법\n",
    "\n",
    "plt.imshow(img_reshape, cmap='gray')  #흑백 데이터 "
   ]
  },
  {
   "cell_type": "code",
   "execution_count": 40,
   "id": "8eb6a683",
   "metadata": {},
   "outputs": [
    {
     "data": {
      "image/png": "[encoded data removed]",
      "text/plain": [
       "<Figure size 640x480 with 1 Axes>"
      ]
     },
     "metadata": {},
     "output_type": "display_data"
    }
   ],
   "source": [
    "# 데이터 분포 확인\n",
    "plt.hist(img)\n",
    "plt.show()"
   ]
  },
  {
   "cell_type": "code",
   "execution_count": 41,
   "id": "a9dfb387",
   "metadata": {},
   "outputs": [
    {
     "data": {
      "text/plain": [
       "1    4684\n",
       "7    4401\n",
       "3    4351\n",
       "9    4188\n",
       "2    4177\n",
       "6    4137\n",
       "0    4132\n",
       "4    4072\n",
       "8    4063\n",
       "5    3795\n",
       "Name: label, dtype: int64"
      ]
     },
     "execution_count": 41,
     "metadata": {},
     "output_type": "execute_result"
    }
   ],
   "source": [
    "# 손글씨 정답의 종류\n",
    "data[\"label\"].value_counts()"
   ]
  },
  {
   "cell_type": "code",
   "execution_count": 44,
   "id": "d8689cbb",
   "metadata": {},
   "outputs": [],
   "source": [
    "# 훈련용 데이터와 검증용 데이터 분리\n",
    "X=data.iloc[:,1:]\n",
    "y=data.iloc[:,0]\n",
    "\n",
    "X_train, X_test, y_train, y_test = train_test_split(X, y,random_state=728,test_size=0.3)"
   ]
  },
  {
   "attachments": {},
   "cell_type": "markdown",
   "id": "7164b816",
   "metadata": {},
   "source": [
    "## 3. 모델링\n",
    "- KNN\n",
    "- Decision Tree\n",
    "- Logistic Regression\n",
    "- SVM\n",
    "- SGD"
   ]
  },
  {
   "cell_type": "code",
   "execution_count": 42,
   "id": "aec45d86",
   "metadata": {},
   "outputs": [],
   "source": [
    "from sklearn.neighbors import KNeighborsClassifier\n",
    "from sklearn.tree import DecisionTreeClassifier\n",
    "from sklearn.linear_model import LogisticRegression\n",
    "from sklearn.svm import LinearSVC\n",
    "from sklearn.linear_model import SGDClassifier"
   ]
  },
  {
   "cell_type": "code",
   "execution_count": 45,
   "id": "9ef211eb",
   "metadata": {},
   "outputs": [
    {
     "name": "stderr",
     "output_type": "stream",
     "text": [
      "/opt/homebrew/Caskroom/miniforge/base/envs/ml/lib/python3.11/site-packages/sklearn/linear_model/_logistic.py:444: ConvergenceWarning: lbfgs failed to converge (status=1):\n",
      "STOP: TOTAL NO. of ITERATIONS REACHED LIMIT.\n",
      "\n",
      "Increase the number of iterations (max_iter) or scale the data as shown in:\n",
      "    https://scikit-learn.org/stable/modules/preprocessing.html\n",
      "Please also refer to the documentation for alternative solver options:\n",
      "    https://scikit-learn.org/stable/modules/linear_model.html#logistic-regression\n",
      "  n_iter_i = _check_optimize_result(\n",
      "/opt/homebrew/Caskroom/miniforge/base/envs/ml/lib/python3.11/site-packages/sklearn/svm/_base.py:1225: ConvergenceWarning: Liblinear failed to converge, increase the number of iterations.\n",
      "  warnings.warn(\n"
     ]
    },
    {
     "data": {
      "text/html": [
       "<style>#sk-container-id-3 {color: black;background-color: white;}#sk-container-id-3 pre{padding: 0;}#sk-container-id-3 div.sk-toggleable {background-color: white;}#sk-container-id-3 label.sk-toggleable__label {cursor: pointer;display: block;width: 100%;margin-bottom: 0;padding: 0.3em;box-sizing: border-box;text-align: center;}#sk-container-id-3 label.sk-toggleable__label-arrow:before {content: \"▸\";float: left;margin-right: 0.25em;color: #696969;}#sk-container-id-3 label.sk-toggleable__label-arrow:hover:before {color: black;}#sk-container-id-3 div.sk-estimator:hover label.sk-toggleable__label-arrow:before {color: black;}#sk-container-id-3 div.sk-toggleable__content {max-height: 0;max-width: 0;overflow: hidden;text-align: left;background-color: #f0f8ff;}#sk-container-id-3 div.sk-toggleable__content pre {margin: 0.2em;color: black;border-radius: 0.25em;background-color: #f0f8ff;}#sk-container-id-3 input.sk-toggleable__control:checked~div.sk-toggleable__content {max-height: 200px;max-width: 100%;overflow: auto;}#sk-container-id-3 input.sk-toggleable__control:checked~label.sk-toggleable__label-arrow:before {content: \"▾\";}#sk-container-id-3 div.sk-estimator input.sk-toggleable__control:checked~label.sk-toggleable__label {background-color: #d4ebff;}#sk-container-id-3 div.sk-label input.sk-toggleable__control:checked~label.sk-toggleable__label {background-color: #d4ebff;}#sk-container-id-3 input.sk-hidden--visually {border: 0;clip: rect(1px 1px 1px 1px);clip: rect(1px, 1px, 1px, 1px);height: 1px;margin: -1px;overflow: hidden;padding: 0;position: absolute;width: 1px;}#sk-container-id-3 div.sk-estimator {font-family: monospace;background-color: #f0f8ff;border: 1px dotted black;border-radius: 0.25em;box-sizing: border-box;margin-bottom: 0.5em;}#sk-container-id-3 div.sk-estimator:hover {background-color: #d4ebff;}#sk-container-id-3 div.sk-parallel-item::after {content: \"\";width: 100%;border-bottom: 1px solid gray;flex-grow: 1;}#sk-container-id-3 div.sk-label:hover label.sk-toggleable__label {background-color: #d4ebff;}#sk-container-id-3 div.sk-serial::before {content: \"\";position: absolute;border-left: 1px solid gray;box-sizing: border-box;top: 0;bottom: 0;left: 50%;z-index: 0;}#sk-container-id-3 div.sk-serial {display: flex;flex-direction: column;align-items: center;background-color: white;padding-right: 0.2em;padding-left: 0.2em;position: relative;}#sk-container-id-3 div.sk-item {position: relative;z-index: 1;}#sk-container-id-3 div.sk-parallel {display: flex;align-items: stretch;justify-content: center;background-color: white;position: relative;}#sk-container-id-3 div.sk-item::before, #sk-container-id-3 div.sk-parallel-item::before {content: \"\";position: absolute;border-left: 1px solid gray;box-sizing: border-box;top: 0;bottom: 0;left: 50%;z-index: -1;}#sk-container-id-3 div.sk-parallel-item {display: flex;flex-direction: column;z-index: 1;position: relative;background-color: white;}#sk-container-id-3 div.sk-parallel-item:first-child::after {align-self: flex-end;width: 50%;}#sk-container-id-3 div.sk-parallel-item:last-child::after {align-self: flex-start;width: 50%;}#sk-container-id-3 div.sk-parallel-item:only-child::after {width: 0;}#sk-container-id-3 div.sk-dashed-wrapped {border: 1px dashed gray;margin: 0 0.4em 0.5em 0.4em;box-sizing: border-box;padding-bottom: 0.4em;background-color: white;}#sk-container-id-3 div.sk-label label {font-family: monospace;font-weight: bold;display: inline-block;line-height: 1.2em;}#sk-container-id-3 div.sk-label-container {text-align: center;}#sk-container-id-3 div.sk-container {/* jupyter's `normalize.less` sets `[hidden] { display: none; }` but bootstrap.min.css set `[hidden] { display: none !important; }` so we also need the `!important` here to be able to override the default hidden behavior on the sphinx rendered scikit-learn.org. See: https://github.com/scikit-learn/scikit-learn/issues/21755 */display: inline-block !important;position: relative;}#sk-container-id-3 div.sk-text-repr-fallback {display: none;}</style><div id=\"sk-container-id-3\" class=\"sk-top-container\"><div class=\"sk-text-repr-fallback\"><pre>SGDClassifier()</pre><b>In a Jupyter environment, please rerun this cell to show the HTML representation or trust the notebook. <br />On GitHub, the HTML representation is unable to render, please try loading this page with nbviewer.org.</b></div><div class=\"sk-container\" hidden><div class=\"sk-item\"><div class=\"sk-estimator sk-toggleable\"><input class=\"sk-toggleable__control sk-hidden--visually\" id=\"sk-estimator-id-3\" type=\"checkbox\" checked><label for=\"sk-estimator-id-3\" class=\"sk-toggleable__label sk-toggleable__label-arrow\">SGDClassifier</label><div class=\"sk-toggleable__content\"><pre>SGDClassifier()</pre></div></div></div></div></div>"
      ],
      "text/plain": [
       "SGDClassifier()"
      ]
     },
     "execution_count": 45,
     "metadata": {},
     "output_type": "execute_result"
    }
   ],
   "source": [
    "knn_model=KNeighborsClassifier()\n",
    "knn_model.fit(X_train,y_train)\n",
    "\n",
    "tree_model=DecisionTreeClassifier()\n",
    "tree_model.fit(X_train,y_train)\n",
    "\n",
    "logi_model=LogisticRegression()\n",
    "logi_model.fit(X_train,y_train)\n",
    "\n",
    "svc_model=LinearSVC()\n",
    "svc_model.fit(X_train,y_train)\n",
    "\n",
    "sgd_model=SGDClassifier()\n",
    "sgd_model.fit(X_train,y_train)"
   ]
  },
  {
   "cell_type": "code",
   "execution_count": 47,
   "id": "c0001e7c",
   "metadata": {},
   "outputs": [
    {
     "name": "stderr",
     "output_type": "stream",
     "text": [
      "/opt/homebrew/Caskroom/miniforge/base/envs/ml/lib/python3.11/site-packages/sklearn/neighbors/_classification.py:237: FutureWarning: Unlike other reduction functions (e.g. `skew`, `kurtosis`), the default behavior of `mode` typically preserves the axis it acts along. In SciPy 1.11.0, this behavior will change: the default value of `keepdims` will become False, the `axis` over which the statistic is taken will be eliminated, and the value None will no longer be accepted. Set `keepdims` to True or False to avoid this warning.\n",
      "  mode, _ = stats.mode(_y[neigh_ind, k], axis=1)\n"
     ]
    },
    {
     "data": {
      "text/plain": [
       "0.9671428571428572"
      ]
     },
     "execution_count": 47,
     "metadata": {},
     "output_type": "execute_result"
    }
   ],
   "source": [
    "knn_model.score(X_test,y_test)"
   ]
  },
  {
   "cell_type": "code",
   "execution_count": 48,
   "id": "cc0a9324",
   "metadata": {},
   "outputs": [
    {
     "data": {
      "text/plain": [
       "0.8474603174603175"
      ]
     },
     "execution_count": 48,
     "metadata": {},
     "output_type": "execute_result"
    }
   ],
   "source": [
    "tree_model.score(X_test,y_test)"
   ]
  },
  {
   "cell_type": "code",
   "execution_count": 49,
   "id": "11d7b4b8",
   "metadata": {},
   "outputs": [
    {
     "data": {
      "text/plain": [
       "0.9137301587301587"
      ]
     },
     "execution_count": 49,
     "metadata": {},
     "output_type": "execute_result"
    }
   ],
   "source": [
    "logi_model.score(X_test,y_test)"
   ]
  },
  {
   "cell_type": "code",
   "execution_count": 50,
   "id": "f0edec48",
   "metadata": {},
   "outputs": [
    {
     "data": {
      "text/plain": [
       "0.8494444444444444"
      ]
     },
     "execution_count": 50,
     "metadata": {},
     "output_type": "execute_result"
    }
   ],
   "source": [
    "svc_model.score(X_test,y_test)  "
   ]
  },
  {
   "cell_type": "code",
   "execution_count": 51,
   "id": "e4e1ce46",
   "metadata": {},
   "outputs": [
    {
     "data": {
      "text/plain": [
       "0.8833333333333333"
      ]
     },
     "execution_count": 51,
     "metadata": {},
     "output_type": "execute_result"
    }
   ],
   "source": [
    "sgd_model.score(X_test,y_test)"
   ]
  },
  {
   "attachments": {},
   "cell_type": "markdown",
   "id": "e25bd96a",
   "metadata": {},
   "source": [
    "### 교차검증 활용 점수 확인\n",
    "- 반드시 평균을 내서 점수를 확인해야함"
   ]
  },
  {
   "cell_type": "code",
   "execution_count": 46,
   "id": "353351bb",
   "metadata": {},
   "outputs": [],
   "source": [
    "from sklearn.model_selection import cross_val_score \n",
    "\n",
    "X1 = data.iloc[:,1:]\n",
    "y1 = data.iloc[:,0]"
   ]
  },
  {
   "cell_type": "code",
   "execution_count": 52,
   "id": "f03df2d5",
   "metadata": {},
   "outputs": [
    {
     "name": "stderr",
     "output_type": "stream",
     "text": [
      "/opt/homebrew/Caskroom/miniforge/base/envs/ml/lib/python3.11/site-packages/sklearn/neighbors/_classification.py:237: FutureWarning: Unlike other reduction functions (e.g. `skew`, `kurtosis`), the default behavior of `mode` typically preserves the axis it acts along. In SciPy 1.11.0, this behavior will change: the default value of `keepdims` will become False, the `axis` over which the statistic is taken will be eliminated, and the value None will no longer be accepted. Set `keepdims` to True or False to avoid this warning.\n",
      "  mode, _ = stats.mode(_y[neigh_ind, k], axis=1)\n",
      "/opt/homebrew/Caskroom/miniforge/base/envs/ml/lib/python3.11/site-packages/sklearn/neighbors/_classification.py:237: FutureWarning: Unlike other reduction functions (e.g. `skew`, `kurtosis`), the default behavior of `mode` typically preserves the axis it acts along. In SciPy 1.11.0, this behavior will change: the default value of `keepdims` will become False, the `axis` over which the statistic is taken will be eliminated, and the value None will no longer be accepted. Set `keepdims` to True or False to avoid this warning.\n",
      "  mode, _ = stats.mode(_y[neigh_ind, k], axis=1)\n",
      "/opt/homebrew/Caskroom/miniforge/base/envs/ml/lib/python3.11/site-packages/sklearn/neighbors/_classification.py:237: FutureWarning: Unlike other reduction functions (e.g. `skew`, `kurtosis`), the default behavior of `mode` typically preserves the axis it acts along. In SciPy 1.11.0, this behavior will change: the default value of `keepdims` will become False, the `axis` over which the statistic is taken will be eliminated, and the value None will no longer be accepted. Set `keepdims` to True or False to avoid this warning.\n",
      "  mode, _ = stats.mode(_y[neigh_ind, k], axis=1)\n"
     ]
    },
    {
     "data": {
      "text/plain": [
       "0.9642142857142857"
      ]
     },
     "execution_count": 52,
     "metadata": {},
     "output_type": "execute_result"
    }
   ],
   "source": [
    "np.mean(cross_val_score(knn_model, X1, y1, cv=3))"
   ]
  },
  {
   "cell_type": "code",
   "execution_count": 53,
   "id": "98c2ebaf",
   "metadata": {},
   "outputs": [
    {
     "data": {
      "text/plain": [
       "0.8442619047619048"
      ]
     },
     "execution_count": 53,
     "metadata": {},
     "output_type": "execute_result"
    }
   ],
   "source": [
    "np.mean(cross_val_score(tree_model, X1, y1, cv=3))"
   ]
  },
  {
   "cell_type": "code",
   "execution_count": 54,
   "id": "9c96861f",
   "metadata": {},
   "outputs": [
    {
     "name": "stderr",
     "output_type": "stream",
     "text": [
      "/opt/homebrew/Caskroom/miniforge/base/envs/ml/lib/python3.11/site-packages/sklearn/linear_model/_logistic.py:444: ConvergenceWarning: lbfgs failed to converge (status=1):\n",
      "STOP: TOTAL NO. of ITERATIONS REACHED LIMIT.\n",
      "\n",
      "Increase the number of iterations (max_iter) or scale the data as shown in:\n",
      "    https://scikit-learn.org/stable/modules/preprocessing.html\n",
      "Please also refer to the documentation for alternative solver options:\n",
      "    https://scikit-learn.org/stable/modules/linear_model.html#logistic-regression\n",
      "  n_iter_i = _check_optimize_result(\n",
      "/opt/homebrew/Caskroom/miniforge/base/envs/ml/lib/python3.11/site-packages/sklearn/linear_model/_logistic.py:444: ConvergenceWarning: lbfgs failed to converge (status=1):\n",
      "STOP: TOTAL NO. of ITERATIONS REACHED LIMIT.\n",
      "\n",
      "Increase the number of iterations (max_iter) or scale the data as shown in:\n",
      "    https://scikit-learn.org/stable/modules/preprocessing.html\n",
      "Please also refer to the documentation for alternative solver options:\n",
      "    https://scikit-learn.org/stable/modules/linear_model.html#logistic-regression\n",
      "  n_iter_i = _check_optimize_result(\n",
      "/opt/homebrew/Caskroom/miniforge/base/envs/ml/lib/python3.11/site-packages/sklearn/linear_model/_logistic.py:444: ConvergenceWarning: lbfgs failed to converge (status=1):\n",
      "STOP: TOTAL NO. of ITERATIONS REACHED LIMIT.\n",
      "\n",
      "Increase the number of iterations (max_iter) or scale the data as shown in:\n",
      "    https://scikit-learn.org/stable/modules/preprocessing.html\n",
      "Please also refer to the documentation for alternative solver options:\n",
      "    https://scikit-learn.org/stable/modules/linear_model.html#logistic-regression\n",
      "  n_iter_i = _check_optimize_result(\n"
     ]
    },
    {
     "data": {
      "text/plain": [
       "0.9128095238095238"
      ]
     },
     "execution_count": 54,
     "metadata": {},
     "output_type": "execute_result"
    }
   ],
   "source": [
    "np.mean(cross_val_score(logi_model, X1, y1, cv=3))"
   ]
  },
  {
   "cell_type": "code",
   "execution_count": 55,
   "id": "a87a16a2",
   "metadata": {},
   "outputs": [
    {
     "name": "stderr",
     "output_type": "stream",
     "text": [
      "/opt/homebrew/Caskroom/miniforge/base/envs/ml/lib/python3.11/site-packages/sklearn/svm/_base.py:1225: ConvergenceWarning: Liblinear failed to converge, increase the number of iterations.\n",
      "  warnings.warn(\n",
      "/opt/homebrew/Caskroom/miniforge/base/envs/ml/lib/python3.11/site-packages/sklearn/svm/_base.py:1225: ConvergenceWarning: Liblinear failed to converge, increase the number of iterations.\n",
      "  warnings.warn(\n",
      "/opt/homebrew/Caskroom/miniforge/base/envs/ml/lib/python3.11/site-packages/sklearn/svm/_base.py:1225: ConvergenceWarning: Liblinear failed to converge, increase the number of iterations.\n",
      "  warnings.warn(\n"
     ]
    },
    {
     "data": {
      "text/plain": [
       "0.8559285714285713"
      ]
     },
     "execution_count": 55,
     "metadata": {},
     "output_type": "execute_result"
    }
   ],
   "source": [
    "np.mean(cross_val_score(svc_model, X1, y1, cv=3))"
   ]
  },
  {
   "cell_type": "code",
   "execution_count": 56,
   "id": "79612014",
   "metadata": {},
   "outputs": [
    {
     "data": {
      "text/plain": [
       "0.8759285714285715"
      ]
     },
     "execution_count": 56,
     "metadata": {},
     "output_type": "execute_result"
    }
   ],
   "source": [
    "np.mean(cross_val_score(sgd_model, X1, y1, cv=3))"
   ]
  },
  {
   "attachments": {},
   "cell_type": "markdown",
   "id": "f86d8a75",
   "metadata": {},
   "source": [
    "### 스케일링 추가"
   ]
  },
  {
   "cell_type": "code",
   "execution_count": 57,
   "id": "f30a5efd",
   "metadata": {},
   "outputs": [],
   "source": [
    "from sklearn.preprocessing import MinMaxScaler\n",
    "mM_scaler = MinMaxScaler()"
   ]
  },
  {
   "cell_type": "code",
   "execution_count": 58,
   "id": "e69080c5",
   "metadata": {},
   "outputs": [],
   "source": [
    "X2 = mM_scaler.fit(X1).transform(X1)"
   ]
  },
  {
   "cell_type": "code",
   "execution_count": 59,
   "id": "10b99a9f",
   "metadata": {},
   "outputs": [
    {
     "name": "stderr",
     "output_type": "stream",
     "text": [
      "/opt/homebrew/Caskroom/miniforge/base/envs/ml/lib/python3.11/site-packages/sklearn/neighbors/_classification.py:237: FutureWarning: Unlike other reduction functions (e.g. `skew`, `kurtosis`), the default behavior of `mode` typically preserves the axis it acts along. In SciPy 1.11.0, this behavior will change: the default value of `keepdims` will become False, the `axis` over which the statistic is taken will be eliminated, and the value None will no longer be accepted. Set `keepdims` to True or False to avoid this warning.\n",
      "  mode, _ = stats.mode(_y[neigh_ind, k], axis=1)\n",
      "/opt/homebrew/Caskroom/miniforge/base/envs/ml/lib/python3.11/site-packages/sklearn/neighbors/_classification.py:237: FutureWarning: Unlike other reduction functions (e.g. `skew`, `kurtosis`), the default behavior of `mode` typically preserves the axis it acts along. In SciPy 1.11.0, this behavior will change: the default value of `keepdims` will become False, the `axis` over which the statistic is taken will be eliminated, and the value None will no longer be accepted. Set `keepdims` to True or False to avoid this warning.\n",
      "  mode, _ = stats.mode(_y[neigh_ind, k], axis=1)\n",
      "/opt/homebrew/Caskroom/miniforge/base/envs/ml/lib/python3.11/site-packages/sklearn/neighbors/_classification.py:237: FutureWarning: Unlike other reduction functions (e.g. `skew`, `kurtosis`), the default behavior of `mode` typically preserves the axis it acts along. In SciPy 1.11.0, this behavior will change: the default value of `keepdims` will become False, the `axis` over which the statistic is taken will be eliminated, and the value None will no longer be accepted. Set `keepdims` to True or False to avoid this warning.\n",
      "  mode, _ = stats.mode(_y[neigh_ind, k], axis=1)\n"
     ]
    },
    {
     "data": {
      "text/plain": [
       "0.9641904761904762"
      ]
     },
     "execution_count": 59,
     "metadata": {},
     "output_type": "execute_result"
    }
   ],
   "source": [
    "np.mean(cross_val_score(knn_model, X2, y1, cv=3))"
   ]
  },
  {
   "cell_type": "code",
   "execution_count": 60,
   "id": "838b1fed",
   "metadata": {},
   "outputs": [
    {
     "data": {
      "text/plain": [
       "0.8453095238095237"
      ]
     },
     "execution_count": 60,
     "metadata": {},
     "output_type": "execute_result"
    }
   ],
   "source": [
    "np.mean(cross_val_score(tree_model, X2, y1, cv=3))  #Decision Tree 는 스케일링 영향 안받음"
   ]
  },
  {
   "cell_type": "code",
   "execution_count": 61,
   "id": "1df7e8c1",
   "metadata": {},
   "outputs": [
    {
     "name": "stderr",
     "output_type": "stream",
     "text": [
      "/opt/homebrew/Caskroom/miniforge/base/envs/ml/lib/python3.11/site-packages/sklearn/linear_model/_logistic.py:444: ConvergenceWarning: lbfgs failed to converge (status=1):\n",
      "STOP: TOTAL NO. of ITERATIONS REACHED LIMIT.\n",
      "\n",
      "Increase the number of iterations (max_iter) or scale the data as shown in:\n",
      "    https://scikit-learn.org/stable/modules/preprocessing.html\n",
      "Please also refer to the documentation for alternative solver options:\n",
      "    https://scikit-learn.org/stable/modules/linear_model.html#logistic-regression\n",
      "  n_iter_i = _check_optimize_result(\n",
      "/opt/homebrew/Caskroom/miniforge/base/envs/ml/lib/python3.11/site-packages/sklearn/linear_model/_logistic.py:444: ConvergenceWarning: lbfgs failed to converge (status=1):\n",
      "STOP: TOTAL NO. of ITERATIONS REACHED LIMIT.\n",
      "\n",
      "Increase the number of iterations (max_iter) or scale the data as shown in:\n",
      "    https://scikit-learn.org/stable/modules/preprocessing.html\n",
      "Please also refer to the documentation for alternative solver options:\n",
      "    https://scikit-learn.org/stable/modules/linear_model.html#logistic-regression\n",
      "  n_iter_i = _check_optimize_result(\n",
      "/opt/homebrew/Caskroom/miniforge/base/envs/ml/lib/python3.11/site-packages/sklearn/linear_model/_logistic.py:444: ConvergenceWarning: lbfgs failed to converge (status=1):\n",
      "STOP: TOTAL NO. of ITERATIONS REACHED LIMIT.\n",
      "\n",
      "Increase the number of iterations (max_iter) or scale the data as shown in:\n",
      "    https://scikit-learn.org/stable/modules/preprocessing.html\n",
      "Please also refer to the documentation for alternative solver options:\n",
      "    https://scikit-learn.org/stable/modules/linear_model.html#logistic-regression\n",
      "  n_iter_i = _check_optimize_result(\n"
     ]
    },
    {
     "data": {
      "text/plain": [
       "0.9162857142857144"
      ]
     },
     "execution_count": 61,
     "metadata": {},
     "output_type": "execute_result"
    }
   ],
   "source": [
    "np.mean(cross_val_score(logi_model, X2, y1, cv=3))  #logi 역시 스케일링 영향 많이 안받음"
   ]
  },
  {
   "cell_type": "code",
   "execution_count": 62,
   "id": "8c7976c1",
   "metadata": {},
   "outputs": [
    {
     "name": "stderr",
     "output_type": "stream",
     "text": [
      "/opt/homebrew/Caskroom/miniforge/base/envs/ml/lib/python3.11/site-packages/sklearn/svm/_base.py:1225: ConvergenceWarning: Liblinear failed to converge, increase the number of iterations.\n",
      "  warnings.warn(\n",
      "/opt/homebrew/Caskroom/miniforge/base/envs/ml/lib/python3.11/site-packages/sklearn/svm/_base.py:1225: ConvergenceWarning: Liblinear failed to converge, increase the number of iterations.\n",
      "  warnings.warn(\n",
      "/opt/homebrew/Caskroom/miniforge/base/envs/ml/lib/python3.11/site-packages/sklearn/svm/_base.py:1225: ConvergenceWarning: Liblinear failed to converge, increase the number of iterations.\n",
      "  warnings.warn(\n"
     ]
    },
    {
     "data": {
      "text/plain": [
       "0.9079047619047619"
      ]
     },
     "execution_count": 62,
     "metadata": {},
     "output_type": "execute_result"
    }
   ],
   "source": [
    "np.mean(cross_val_score(svc_model, X2, y1, cv=3))   # SVC 스케일링 영향 많이 받음 반드시 해주는 게 좋음"
   ]
  },
  {
   "cell_type": "code",
   "execution_count": 63,
   "id": "2d5e3d50",
   "metadata": {},
   "outputs": [
    {
     "data": {
      "text/plain": [
       "0.9038095238095237"
      ]
     },
     "execution_count": 63,
     "metadata": {},
     "output_type": "execute_result"
    }
   ],
   "source": [
    "np.mean(cross_val_score(sgd_model, X2, y1, cv=3))   # 경사하강법은 스케일링에 약간의 영향을 받음 (단, 스케일링 하면 속도가 빨라짐)"
   ]
  },
  {
   "attachments": {},
   "cell_type": "markdown",
   "id": "f96f6c64",
   "metadata": {},
   "source": [
    "### 예측의 불확실성 확인\n",
    "- 분류모델들은 예측 결과를 정하기전에 항상 확률을 계산한다.\n",
    "- 분류모델이 예측한 값이 같더라도 확신의 정도(불확실성)가 전부 다르다."
   ]
  },
  {
   "cell_type": "code",
   "execution_count": 64,
   "id": "3d76be36",
   "metadata": {},
   "outputs": [
    {
     "name": "stderr",
     "output_type": "stream",
     "text": [
      "/opt/homebrew/Caskroom/miniforge/base/envs/ml/lib/python3.11/site-packages/sklearn/linear_model/_logistic.py:444: ConvergenceWarning: lbfgs failed to converge (status=1):\n",
      "STOP: TOTAL NO. of ITERATIONS REACHED LIMIT.\n",
      "\n",
      "Increase the number of iterations (max_iter) or scale the data as shown in:\n",
      "    https://scikit-learn.org/stable/modules/preprocessing.html\n",
      "Please also refer to the documentation for alternative solver options:\n",
      "    https://scikit-learn.org/stable/modules/linear_model.html#logistic-regression\n",
      "  n_iter_i = _check_optimize_result(\n"
     ]
    },
    {
     "data": {
      "text/plain": [
       "array([7, 8, 0, ..., 1, 8, 6])"
      ]
     },
     "execution_count": 64,
     "metadata": {},
     "output_type": "execute_result"
    }
   ],
   "source": [
    "logi_model4= LogisticRegression()\n",
    "logi_model4.fit(X_train,y_train)\n",
    "pre = logi_model4.predict(X_test)\n",
    "pre"
   ]
  },
  {
   "cell_type": "code",
   "execution_count": 65,
   "id": "34ba85e7",
   "metadata": {},
   "outputs": [
    {
     "data": {
      "text/plain": [
       "array([3.11562560e-04, 6.24925272e-16, 1.44810538e-08, 3.34690943e-05,\n",
       "       2.29330978e-06, 3.77048721e-02, 2.90276125e-08, 6.88094715e-01,\n",
       "       3.56029609e-04, 2.73497015e-01])"
      ]
     },
     "execution_count": 65,
     "metadata": {},
     "output_type": "execute_result"
    }
   ],
   "source": [
    "pre_proba = logi_model4.predict_proba(X_test)\n",
    "pre_proba[0]\n",
    "#predict_proba : 확률에 대한 예측을 알아보는 함수 Q.\n",
    "#부동소수점 표기법(실수가 너무 크니까 조금 압축해서 표현하는 방법 Q.\n",
    "                # e-n이면 소수점을 왼쪽으로 (n번) 이동시켜라 / e+n이면 소수점을 오른쪽으로 n번 이동시켜라\n",
    "# logi 모델은 클래스별로 확률을 뽑음 그래서 숫자가 10개임"
   ]
  },
  {
   "cell_type": "markdown",
   "id": "2accc93c",
   "metadata": {},
   "source": [
    "## 4. 모델 평가하기 (145p)\n",
    "- 정확도(Accuracy): 전체 중에 정확히 맞춘 비율 (TP+TN)/(TP+TN+FP+FN)   \n",
    "- (정확도로만 보면 민감도와 특이도가 0인 경우도 정확도가 높게 나오는 경우가 있어서 정확하지 않음)\n",
    "- 오차행렬(Confusion Matrix):\n",
    "    - 민감도(재현율 Recall) : 참인 것 중에 맞춘 참의 비율 TP/(TP+FN) \n",
    "    - 정밀도(Precision): 예측 양성 중에서 실제 양성 비율 TP/(TP+FP)\n",
    "    - 특이도 : 거짓 중에 맞춘 거짓의 비율 TN/(TN+FP)\n",
    "    \n",
    "- F1 socre : 정밀도와 재현율의 조화평균( F = 2precision*recall / (precision+recall) )\\\n",
    "\n",
    "    - 낮은 재현율 보다 높은 정밀도를 선호하는 경우(깐깐함)\n",
    "        - 어린아이에게 안전한 동영상(양성)을 걸러내는 분류기를 훈련시킬 경우좋은 동영상이 많이 제외되더라도(낮은 재현율) 안전한 것들만 노출시키는(높은 정밀도) 분류기가 더 좋다.\n",
    "    - 낮은 정밀도 보다 높은 재현율을 선호하는 경우(털털한): \n",
    "        - 감시 카메라로 좀도둑(양성)을 잡아내는 분류기를 훈련시키는 경우 경비원이 잘못된 호출을 종종 받지만(낮은 정밀도) 거의 모든 좀도둑을 잡는(높은 재현율)분류기가 더 좋다.\n",
    "- ROC curve : 이진 분류일 때 활용하는 방법 (위양성률 != 특이도)  Q.\n",
    "    - x축:위음성, y축:재현율로 그려지는데 그래프가 왼쪽 상단으로 올라면 올라갈수록 좋은 그래프이다.\n",
    "    - FPR = FP/FP+TN (실제 거짓인 것 중에서 위양성) (특이도 + ROC = 1)\n",
    "- ROC AUC : 위에 커브 그래프의 아래 밑 면적을 계산해서 나타내주는 것"
   ]
  },
  {
   "attachments": {},
   "cell_type": "markdown",
   "id": "b33915df",
   "metadata": {},
   "source": [
    "### 오차행렬"
   ]
  },
  {
   "cell_type": "code",
   "execution_count": 66,
   "id": "5b4dd462",
   "metadata": {},
   "outputs": [],
   "source": [
    "num = [1, 2, 3, 4, 5, 6]\n",
    "ans = ['음치', '음치', '음치', '음치', '가수', '가수']\n",
    "pred = ['음치', '음치', '가수', '가수', '가수', '가수']\n",
    "#음치가 양성\n",
    "#진음성 : 2   #위양성 : 0\n",
    "#위음성 : 2   #진양성 : 2\n",
    "#정확도 : 66%\n",
    "#재현율 : 50%\n",
    "#정밀도 : 100%"
   ]
  },
  {
   "cell_type": "code",
   "execution_count": 67,
   "id": "863c2b2e",
   "metadata": {},
   "outputs": [
    {
     "data": {
      "text/plain": [
       "array([[1160,    1,    2,    4,    0,    7,   14,    4,    2,    1],\n",
       "       [   0, 1374,    1,    5,    1,    3,    2,    2,   19,    1],\n",
       "       [   9,   23, 1140,   29,   12,    4,   12,    9,   35,   12],\n",
       "       [   4,    2,   38, 1194,    0,   34,    2,   12,   32,   16],\n",
       "       [   4,    3,   11,    2, 1091,    2,   10,    5,   13,   50],\n",
       "       [  19,    3,    5,   43,    8,  939,   26,   10,   37,   16],\n",
       "       [  12,    2,   11,    1,   12,   16, 1198,    0,    6,    1],\n",
       "       [   3,    2,   18,    7,   12,    1,    3, 1275,    4,   47],\n",
       "       [  19,   28,   11,   31,   12,   36,    4,    9, 1074,   23],\n",
       "       [  10,    3,    2,   15,   36,    8,    0,   49,   12, 1068]])"
      ]
     },
     "execution_count": 67,
     "metadata": {},
     "output_type": "execute_result"
    }
   ],
   "source": [
    "from sklearn.metrics import confusion_matrix #오차행렬 \n",
    "from sklearn.metrics import classification_report #분류평가지표를 리포팅\n",
    "#confusion_matrix(실제값, 예측값) - 짝표\n",
    "confusion_matrix(y_test, pre)"
   ]
  },
  {
   "cell_type": "code",
   "execution_count": 68,
   "id": "e47fff23",
   "metadata": {},
   "outputs": [
    {
     "name": "stdout",
     "output_type": "stream",
     "text": [
      "              precision    recall  f1-score   support\n",
      "\n",
      "           0       0.94      0.97      0.95      1195\n",
      "           1       0.95      0.98      0.96      1408\n",
      "           2       0.92      0.89      0.90      1285\n",
      "           3       0.90      0.90      0.90      1334\n",
      "           4       0.92      0.92      0.92      1191\n",
      "           5       0.89      0.85      0.87      1106\n",
      "           6       0.94      0.95      0.95      1259\n",
      "           7       0.93      0.93      0.93      1372\n",
      "           8       0.87      0.86      0.87      1247\n",
      "           9       0.86      0.89      0.88      1203\n",
      "\n",
      "    accuracy                           0.91     12600\n",
      "   macro avg       0.91      0.91      0.91     12600\n",
      "weighted avg       0.91      0.91      0.91     12600\n",
      "\n"
     ]
    }
   ],
   "source": [
    "# classification_report(실제값, 예측값)\n",
    "print(classification_report(y_test, pre))   \n",
    "#정확도, 정밀도, 재현율, F1socre 한번에 볼 수 있음\n",
    "#support 데이터 개수를 의미"
   ]
  }
 ],
 "metadata": {
  "kernelspec": {
   "display_name": "ml",
   "language": "python",
   "name": "python3"
  },
  "language_info": {
   "codemirror_mode": {
    "name": "ipython",
    "version": 3
   },
   "file_extension": ".py",
   "mimetype": "text/x-python",
   "name": "python",
   "nbconvert_exporter": "python",
   "pygments_lexer": "ipython3",
   "version": "3.11.0"
  },
  "toc": {
   "base_numbering": 1,
   "nav_menu": {},
   "number_sections": true,
   "sideBar": true,
   "skip_h1_title": false,
   "title_cell": "Table of Contents",
   "title_sidebar": "Contents",
   "toc_cell": false,
   "toc_position": {
    "height": "calc(100% - 180px)",
    "left": "10px",
    "top": "150px",
    "width": "384px"
   },
   "toc_section_display": true,
   "toc_window_display": true
  },
  "vscode": {
   "interpreter": {
    "hash": "08eac26dc1f80337b7d87e94e7159a5bad95c2e85f47efef91c61359b3afbfe9"
   }
  }
 },
 "nbformat": 4,
 "nbformat_minor": 5
}
