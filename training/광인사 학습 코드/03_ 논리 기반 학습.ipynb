{
 "cells": [
  {
   "cell_type": "markdown",
   "id": "2686d7bb",
   "metadata": {},
   "source": [
    "# 결정 트리(Decision Tree))"
   ]
  },
  {
   "attachments": {},
   "cell_type": "markdown",
   "id": "fe7b78ea",
   "metadata": {},
   "source": [
    "- tree를 만들기 위해 예/아니오 질문을 반복하며 학습한다.\n",
    "- 분류와 회귀에 모두 사용 가능\n",
    "- 회귀는 마지막 잎사귀에 분류되어진 것들의 평균을 구하면 됨  \n",
    "- 상관관계가 매우 높아 보이는 특성은 마지막 leap 분류에 사용하는 것이 좋을 수 있다(?)\n",
    "- 지니 불순도 : 순도가 높으면 하나의 클래스만 / 순도가 낮으면 여러 클래서가 섞여 있음 \n",
    "- 불순도가 높은 경우 -> 과대적합 문제\n",
    "- 너무 많은 조건으로 쪼개면 복잡도가 높아지고 과대적합 \n",
    "- 너무 적은 조건으로 쪼개면 과소적합\n",
    "- 새로운 데이터 포인트가 들어오면 해당하는 노드를 찾아 분류라면 더 많은 클래스를 선택하고 회귀라면 평균을 구함\n",
    "- 의사결정 트리의 장점은 분산이 커도 상관이 없다는 것 (조건문으로 그냥 거르면 됨)\n",
    "- 과대적합을 해결하기 위해서 가지치기 한다 pruning\n",
    "- 사이킥 런에서는 사전 가지치기는 지원하는데 사후 가지치기는 지원하지 않는다\n",
    "- 가지치기한다고해서 자른 가지를 버리지 않고 위로 올려준다.\n",
    "- 트리의 최대 깊이나 리프 노드의 최대 개수를 제어 (max_depth, max_eaf_nodes)\n",
    "- 노드가 분할 하기 위한 데이터 포인트의 최소 개수를 지정 (min_sample_split)\n",
    "- 조건이 충돌되니까 위 방법들 중 한 가지만 사용한다"
   ]
  },
  {
   "attachments": {},
   "cell_type": "markdown",
   "id": "a82f64d4",
   "metadata": {},
   "source": [
    "# 데이터 전처리"
   ]
  },
  {
   "attachments": {},
   "cell_type": "markdown",
   "id": "bb1ab3c9",
   "metadata": {},
   "source": [
    "## 인코딩과 원핫인코딩\n",
    "- 인코딩(encoding) : 범주형 데이터를 수치형 데이터로 변환하는 것 (계산하기 위해)\n",
    " - 인코딩 방법\n",
    "   - label encoding : 범주형을 정수로 변환하는 것\n",
    "     - 순서가 존재하는 범주형 데이터 인코딩 할 때 사용\n",
    "     - 단점: 크기특성이 없는 데이터에 크기를 갖는 숫자를 부여하게 됨\n",
    "   - one hot encoding : 범주형을 이진수로 변환 \n",
    "     - 순서가 있는 범주형 데이터 인코딩 할 때 사용\n",
    "     - 인코딩: 범주형 데이터를 수치 데이터로 인코딩 해버리면 대소라는 수치 의미가 생기는 단점이 존재\n",
    "     - 그 단점을 극복하는 것이 one-hot Encoding\n",
    "     - 장점: 데이터에 크기가 없는 숫자를 부여할 수 있음\n",
    "     - 특성을 늘려주는 효과\n",
    "     \n",
    "    - one hot encoding 방법\n",
    "      - 과목 : 국어, 수학, 과학 -> 과학(001) 국어(100), 수학(010) \n",
    "        - 적은 순서대로 값 부여 후 df출력할때 칼럼만 오름차순 정렬 df는 이진수 할당 값이 아니라 그냥 특성을 0과 1로 보여주는 것 \n",
    "        \n",
    "      - 각 비트에 해당하는 새로운 컬럼을 생성 (이진수 아닌듯)\n",
    "      - 새로운 컬럼의 순서는 클래스 값을 오름차순 정렬을 한 후에 순서대로 생성\n",
    "      - 해당 클래스인 경우에만 1이고 그렇지 않으면 0을 할당\n",
    "      \n",
    "      - pandas에서 one-hot-encoding을 위한 함수 제공 : get_dummies()\n",
    "         - 원핫인코딩에 해당하는 컬럼을 생성하고 기존 컬럼은 삭제\n",
    "         \n",
    "      - 원핫 인코딩의 장점\n",
    "         - 새로운 특성을 늘려주는 효과 : 과소적합이 감소\n",
    "         - 크기를 갖지않는 범주형 데이터를 크기를 갖지 않는 수치형으로 변환"
   ]
  },
  {
   "cell_type": "code",
   "execution_count": 19,
   "id": "3cff70d6",
   "metadata": {},
   "outputs": [
    {
     "data": {
      "text/html": [
       "<div>\n",
       "<style scoped>\n",
       "    .dataframe tbody tr th:only-of-type {\n",
       "        vertical-align: middle;\n",
       "    }\n",
       "\n",
       "    .dataframe tbody tr th {\n",
       "        vertical-align: top;\n",
       "    }\n",
       "\n",
       "    .dataframe thead th {\n",
       "        text-align: right;\n",
       "    }\n",
       "</style>\n",
       "<table border=\"1\" class=\"dataframe\">\n",
       "  <thead>\n",
       "    <tr style=\"text-align: right;\">\n",
       "      <th></th>\n",
       "      <th>산이름</th>\n",
       "    </tr>\n",
       "  </thead>\n",
       "  <tbody>\n",
       "    <tr>\n",
       "      <th>0</th>\n",
       "      <td>국어</td>\n",
       "    </tr>\n",
       "    <tr>\n",
       "      <th>1</th>\n",
       "      <td>수학</td>\n",
       "    </tr>\n",
       "    <tr>\n",
       "      <th>2</th>\n",
       "      <td>과학</td>\n",
       "    </tr>\n",
       "  </tbody>\n",
       "</table>\n",
       "</div>"
      ],
      "text/plain": [
       "  산이름\n",
       "0  국어\n",
       "1  수학\n",
       "2  과학"
      ]
     },
     "execution_count": 19,
     "metadata": {},
     "output_type": "execute_result"
    }
   ],
   "source": [
    "import pandas as pd\n",
    "data = pd.DataFrame({\"산이름\": [\"국어\", \"수학\", \"과학\"]}) \n",
    "data"
   ]
  },
  {
   "cell_type": "code",
   "execution_count": 20,
   "id": "f8e82af6",
   "metadata": {},
   "outputs": [
    {
     "data": {
      "text/html": [
       "<div>\n",
       "<style scoped>\n",
       "    .dataframe tbody tr th:only-of-type {\n",
       "        vertical-align: middle;\n",
       "    }\n",
       "\n",
       "    .dataframe tbody tr th {\n",
       "        vertical-align: top;\n",
       "    }\n",
       "\n",
       "    .dataframe thead th {\n",
       "        text-align: right;\n",
       "    }\n",
       "</style>\n",
       "<table border=\"1\" class=\"dataframe\">\n",
       "  <thead>\n",
       "    <tr style=\"text-align: right;\">\n",
       "      <th></th>\n",
       "      <th>과학</th>\n",
       "      <th>국어</th>\n",
       "      <th>수학</th>\n",
       "    </tr>\n",
       "  </thead>\n",
       "  <tbody>\n",
       "    <tr>\n",
       "      <th>0</th>\n",
       "      <td>0</td>\n",
       "      <td>1</td>\n",
       "      <td>0</td>\n",
       "    </tr>\n",
       "    <tr>\n",
       "      <th>1</th>\n",
       "      <td>0</td>\n",
       "      <td>0</td>\n",
       "      <td>1</td>\n",
       "    </tr>\n",
       "    <tr>\n",
       "      <th>2</th>\n",
       "      <td>1</td>\n",
       "      <td>0</td>\n",
       "      <td>0</td>\n",
       "    </tr>\n",
       "  </tbody>\n",
       "</table>\n",
       "</div>"
      ],
      "text/plain": [
       "   과학  국어  수학\n",
       "0   0   1   0\n",
       "1   0   0   1\n",
       "2   1   0   0"
      ]
     },
     "execution_count": 20,
     "metadata": {},
     "output_type": "execute_result"
    }
   ],
   "source": [
    "one_hot = pd.get_dummies(data[\"산이름\"])\n",
    "one_hot\n",
    "#특성을 늘리는 효과"
   ]
  },
  {
   "attachments": {},
   "cell_type": "markdown",
   "id": "63339da9",
   "metadata": {},
   "source": [
    "## 교차검증\n",
    "- 훈련데이터와 테스트 데이터 셋을 여러개로 만들어 훈련시킨 후 정확도를 평균내는 방법\n",
    "- 정확도가 너무 높게 나와서 실제 점수에 가깝게 만들기 위해서 평균을 내는 것"
   ]
  },
  {
   "cell_type": "code",
   "execution_count": null,
   "id": "2c17f742",
   "metadata": {},
   "outputs": [],
   "source": [
    "from sklearn.model_selection import cross_val_score   #교차검증 정확도 구하는 법\n",
    "import numpy as np\n",
    "\n",
    "# cv=5 : 데이터셋의 갯수\n",
    "score = cross_val_score(model_dt, X_test, y_test, cv=5)\n",
    "print(\"교차검증점수 :\", score)\n",
    "print(\"최종점수계산 :\", np.mean(score))"
   ]
  },
  {
   "attachments": {},
   "cell_type": "markdown",
   "id": "cbdbf014",
   "metadata": {},
   "source": [
    "## 정규화\n",
    "- 편향된 데이터를 정규분포로 만드는 작업\n",
    "- 모델의 성능을 향상"
   ]
  },
  {
   "cell_type": "code",
   "execution_count": 28,
   "id": "c9974f7a",
   "metadata": {},
   "outputs": [
    {
     "data": {
      "text/html": [
       "<div>\n",
       "<style scoped>\n",
       "    .dataframe tbody tr th:only-of-type {\n",
       "        vertical-align: middle;\n",
       "    }\n",
       "\n",
       "    .dataframe tbody tr th {\n",
       "        vertical-align: top;\n",
       "    }\n",
       "\n",
       "    .dataframe thead th {\n",
       "        text-align: right;\n",
       "    }\n",
       "</style>\n",
       "<table border=\"1\" class=\"dataframe\">\n",
       "  <thead>\n",
       "    <tr style=\"text-align: right;\">\n",
       "      <th></th>\n",
       "      <th>0</th>\n",
       "      <th>1</th>\n",
       "      <th>2</th>\n",
       "      <th>y</th>\n",
       "    </tr>\n",
       "  </thead>\n",
       "  <tbody>\n",
       "    <tr>\n",
       "      <th>0</th>\n",
       "      <td>56</td>\n",
       "      <td>18</td>\n",
       "      <td>27</td>\n",
       "      <td>2.926144</td>\n",
       "    </tr>\n",
       "    <tr>\n",
       "      <th>1</th>\n",
       "      <td>81</td>\n",
       "      <td>57</td>\n",
       "      <td>3</td>\n",
       "      <td>4.744364</td>\n",
       "    </tr>\n",
       "    <tr>\n",
       "      <th>2</th>\n",
       "      <td>25</td>\n",
       "      <td>9</td>\n",
       "      <td>11</td>\n",
       "      <td>1.439488</td>\n",
       "    </tr>\n",
       "    <tr>\n",
       "      <th>3</th>\n",
       "      <td>20</td>\n",
       "      <td>13</td>\n",
       "      <td>30</td>\n",
       "      <td>0.569621</td>\n",
       "    </tr>\n",
       "    <tr>\n",
       "      <th>4</th>\n",
       "      <td>27</td>\n",
       "      <td>13</td>\n",
       "      <td>13</td>\n",
       "      <td>1.230924</td>\n",
       "    </tr>\n",
       "  </tbody>\n",
       "</table>\n",
       "</div>"
      ],
      "text/plain": [
       "    0   1   2         y\n",
       "0  56  18  27  2.926144\n",
       "1  81  57   3  4.744364\n",
       "2  25   9  11  1.439488\n",
       "3  20  13  30  0.569621\n",
       "4  27  13  13  1.230924"
      ]
     },
     "execution_count": 28,
     "metadata": {},
     "output_type": "execute_result"
    }
   ],
   "source": [
    "data = pd.read_csv(\"./data/data_skew.csv\")\n",
    "\n",
    "data.head()"
   ]
  },
  {
   "cell_type": "code",
   "execution_count": 29,
   "id": "50838cbe",
   "metadata": {},
   "outputs": [],
   "source": [
    "X = data.iloc[:, :-1]\n",
    "y = data.iloc[:, -1]"
   ]
  },
  {
   "cell_type": "code",
   "execution_count": 30,
   "id": "f3cf3b44",
   "metadata": {},
   "outputs": [
    {
     "data": {
      "text/plain": [
       "53.30571706922813"
      ]
     },
     "execution_count": 30,
     "metadata": {},
     "output_type": "execute_result"
    }
   ],
   "source": [
    "X_train.iloc[:, 1].skew() #스큐가 왼쪽으로 치우친 데이터 셋"
   ]
  },
  {
   "cell_type": "code",
   "execution_count": 32,
   "id": "dae9cb5d",
   "metadata": {},
   "outputs": [
    {
     "data": {
      "image/png": "[encoded data removed]",
      "text/plain": [
       "<Figure size 640x480 with 1 Axes>"
      ]
     },
     "metadata": {},
     "output_type": "display_data"
    }
   ],
   "source": [
    "import numpy as np\n",
    "import matplotlib.pyplot as plt\n",
    "\n",
    "plt.xlim(0,160)\n",
    "plt.ylim(0,70)\n",
    "\n",
    "# x데이터의 1번 인덱스의 값들의 개수를 저장\n",
    "bins = np.bincount(X.iloc[:,1])\n",
    "#  x : 값들의 종류를 표시, y축 : 값 (개수) \n",
    "plt.bar(range(len(bins)), bins)\n",
    "plt.show()\n",
    "\n",
    "#왼쪽으로 치우친 분포 : 포화선 분포"
   ]
  },
  {
   "cell_type": "code",
   "execution_count": 33,
   "id": "9f33f048",
   "metadata": {},
   "outputs": [],
   "source": [
    "from sklearn.model_selection import train_test_split\n",
    "\n",
    "X_train, X_test, y_train, y_test = train_test_split(X, y, random_state=555)"
   ]
  },
  {
   "cell_type": "code",
   "execution_count": 34,
   "id": "71cd6bb9",
   "metadata": {},
   "outputs": [
    {
     "name": "stdout",
     "output_type": "stream",
     "text": [
      "훈련오차 : 0.30630091472970655\n",
      "테스트 오차 : 0.5696582650296165\n"
     ]
    }
   ],
   "source": [
    "from sklearn.neighbors import KNeighborsRegressor\n",
    "from sklearn.metrics import mean_squared_error\n",
    "\n",
    "knn_model = KNeighborsRegressor(n_neighbors=3)\n",
    "knn_model.fit(X_train, y_train)\n",
    "\n",
    "pred_train = knn_model.predict(X_train)\n",
    "pred_test = knn_model.predict(X_test)\n",
    "\n",
    "print(\"훈련오차 :\", mean_squared_error(pred_train, y_train))\n",
    "print(\"테스트 오차 :\", mean_squared_error(pred_test, y_test))\n",
    "#편향된 데이터 결과"
   ]
  },
  {
   "cell_type": "code",
   "execution_count": 35,
   "id": "86dd03c4",
   "metadata": {},
   "outputs": [],
   "source": [
    "#정규분포로 만들기\n",
    "#왼쪽으로 편향되어 있으면 log를 사용\n",
    "#오른쪽으로 편향되어 있으면 exp() 지수함수를 사용\n",
    "X_train2 = np.log(X_train+1)\n",
    "X_test2 = np.log(X_test+1)\n",
    "\n",
    "# +1을 하는 이유 0에 가까워지면 무한대가 되어서 계산이 안되기 때문에 0으로 만들지 않기 위해 1을 넣음\n",
    "# y_train이 굉장히 작은 값이면 1이아니라 0.0001 등 더 작은 값을 더해서 무튼 0을 안만들게하면됨\n",
    "\n",
    "# 1을 더하는 이유 : 0이 되면 log가 무한대(inf)가 되기 때문에 이를 방지하기 위한 것"
   ]
  },
  {
   "cell_type": "code",
   "execution_count": 36,
   "id": "d0e97621",
   "metadata": {},
   "outputs": [
    {
     "data": {
      "text/plain": [
       "-0.10017324773414837"
      ]
     },
     "execution_count": 36,
     "metadata": {},
     "output_type": "execute_result"
    }
   ],
   "source": [
    "X_train2.iloc[:, 0].skew()  #0에 가까워진 형태로 바뀜"
   ]
  },
  {
   "cell_type": "code",
   "execution_count": 37,
   "id": "6f343d8f",
   "metadata": {},
   "outputs": [
    {
     "data": {
      "text/plain": [
       "(array([18.,  0.,  0., 28.,  0., 52.,  0., 32., 54., 81., 41., 52., 82.,\n",
       "        34., 73., 58., 40., 31., 14., 23., 13., 11.,  6.,  4.,  3.]),\n",
       " array([0.        , 0.1979504 , 0.39590079, 0.59385119, 0.79180158,\n",
       "        0.98975198, 1.18770237, 1.38565277, 1.58360316, 1.78155356,\n",
       "        1.97950396, 2.17745435, 2.37540475, 2.57335514, 2.77130554,\n",
       "        2.96925593, 3.16720633, 3.36515673, 3.56310712, 3.76105752,\n",
       "        3.95900791, 4.15695831, 4.3549087 , 4.5528591 , 4.75080949,\n",
       "        4.94875989]),\n",
       " <BarContainer object of 25 artists>)"
      ]
     },
     "execution_count": 37,
     "metadata": {},
     "output_type": "execute_result"
    },
    {
     "data": {
      "image/png": "[encoded data removed]",
      "text/plain": [
       "<Figure size 640x480 with 1 Axes>"
      ]
     },
     "metadata": {},
     "output_type": "display_data"
    }
   ],
   "source": [
    "plt.hist(X_train2.iloc[:, 0],bins=25)"
   ]
  },
  {
   "cell_type": "code",
   "execution_count": 38,
   "id": "fb07c3e0",
   "metadata": {},
   "outputs": [
    {
     "name": "stdout",
     "output_type": "stream",
     "text": [
      "훈련오차 : 6.739755108246763\n",
      "테스트 오차 : 6.631739464495578\n"
     ]
    }
   ],
   "source": [
    "knn_model = KNeighborsRegressor(n_neighbors=3)\n",
    "knn_model.fit(X_train, y_train)\n",
    "\n",
    "pred_train = knn_model.predict(X_train2)\n",
    "pred_test = knn_model.predict(X_test2)\n",
    "\n",
    "print(\"훈련오차 :\", mean_squared_error(pred_train, y_train))\n",
    "print(\"테스트 오차 :\", mean_squared_error(pred_test, y_test))\n",
    "#정규분포로 만들고 하니까 오차가 줄어든다.\n",
    "#KNN등 거리기반에서는 정규화하고 계산하는 것이 필수다"
   ]
  },
  {
   "attachments": {},
   "cell_type": "markdown",
   "id": "02362a42",
   "metadata": {},
   "source": [
    "# (실습1) DecisionTree로 버섯 예측 - 분류"
   ]
  },
  {
   "attachments": {},
   "cell_type": "markdown",
   "id": "d1e36d27",
   "metadata": {},
   "source": [
    "## 1. 문제정의\n",
    "- 버섯의 특성 데이터를 이용해서 독버섯인지 식용버섯인지 분류하는 모델을 만들자\n",
    "- 의사결정트리를 시각화\n",
    "- 라벨인코딩, 원핫인코딩"
   ]
  },
  {
   "attachments": {},
   "cell_type": "markdown",
   "id": "3be566d8",
   "metadata": {},
   "source": [
    "## 2. 데이터 수집"
   ]
  },
  {
   "cell_type": "code",
   "execution_count": 41,
   "id": "0d1388fc",
   "metadata": {},
   "outputs": [
    {
     "data": {
      "text/html": [
       "<div>\n",
       "<style scoped>\n",
       "    .dataframe tbody tr th:only-of-type {\n",
       "        vertical-align: middle;\n",
       "    }\n",
       "\n",
       "    .dataframe tbody tr th {\n",
       "        vertical-align: top;\n",
       "    }\n",
       "\n",
       "    .dataframe thead th {\n",
       "        text-align: right;\n",
       "    }\n",
       "</style>\n",
       "<table border=\"1\" class=\"dataframe\">\n",
       "  <thead>\n",
       "    <tr style=\"text-align: right;\">\n",
       "      <th></th>\n",
       "      <th>poisonous</th>\n",
       "      <th>cap-shape</th>\n",
       "      <th>cap-surface</th>\n",
       "      <th>cap-color</th>\n",
       "      <th>bruises</th>\n",
       "      <th>odor</th>\n",
       "      <th>gill-attachment</th>\n",
       "      <th>gill-spacing</th>\n",
       "      <th>gill-size</th>\n",
       "      <th>gill-color</th>\n",
       "      <th>...</th>\n",
       "      <th>stalk-surface-below-ring</th>\n",
       "      <th>stalk-color-above-ring</th>\n",
       "      <th>stalk-color-below-ring</th>\n",
       "      <th>veil-type</th>\n",
       "      <th>veil-color</th>\n",
       "      <th>ring-number</th>\n",
       "      <th>ring-type</th>\n",
       "      <th>spore-print-color</th>\n",
       "      <th>population</th>\n",
       "      <th>habitat</th>\n",
       "    </tr>\n",
       "  </thead>\n",
       "  <tbody>\n",
       "    <tr>\n",
       "      <th>0</th>\n",
       "      <td>p</td>\n",
       "      <td>x</td>\n",
       "      <td>s</td>\n",
       "      <td>n</td>\n",
       "      <td>t</td>\n",
       "      <td>p</td>\n",
       "      <td>f</td>\n",
       "      <td>c</td>\n",
       "      <td>n</td>\n",
       "      <td>k</td>\n",
       "      <td>...</td>\n",
       "      <td>s</td>\n",
       "      <td>w</td>\n",
       "      <td>w</td>\n",
       "      <td>p</td>\n",
       "      <td>w</td>\n",
       "      <td>o</td>\n",
       "      <td>p</td>\n",
       "      <td>k</td>\n",
       "      <td>s</td>\n",
       "      <td>u</td>\n",
       "    </tr>\n",
       "    <tr>\n",
       "      <th>1</th>\n",
       "      <td>e</td>\n",
       "      <td>x</td>\n",
       "      <td>s</td>\n",
       "      <td>y</td>\n",
       "      <td>t</td>\n",
       "      <td>a</td>\n",
       "      <td>f</td>\n",
       "      <td>c</td>\n",
       "      <td>b</td>\n",
       "      <td>k</td>\n",
       "      <td>...</td>\n",
       "      <td>s</td>\n",
       "      <td>w</td>\n",
       "      <td>w</td>\n",
       "      <td>p</td>\n",
       "      <td>w</td>\n",
       "      <td>o</td>\n",
       "      <td>p</td>\n",
       "      <td>n</td>\n",
       "      <td>n</td>\n",
       "      <td>g</td>\n",
       "    </tr>\n",
       "    <tr>\n",
       "      <th>2</th>\n",
       "      <td>e</td>\n",
       "      <td>b</td>\n",
       "      <td>s</td>\n",
       "      <td>w</td>\n",
       "      <td>t</td>\n",
       "      <td>l</td>\n",
       "      <td>f</td>\n",
       "      <td>c</td>\n",
       "      <td>b</td>\n",
       "      <td>n</td>\n",
       "      <td>...</td>\n",
       "      <td>s</td>\n",
       "      <td>w</td>\n",
       "      <td>w</td>\n",
       "      <td>p</td>\n",
       "      <td>w</td>\n",
       "      <td>o</td>\n",
       "      <td>p</td>\n",
       "      <td>n</td>\n",
       "      <td>n</td>\n",
       "      <td>m</td>\n",
       "    </tr>\n",
       "    <tr>\n",
       "      <th>3</th>\n",
       "      <td>p</td>\n",
       "      <td>x</td>\n",
       "      <td>y</td>\n",
       "      <td>w</td>\n",
       "      <td>t</td>\n",
       "      <td>p</td>\n",
       "      <td>f</td>\n",
       "      <td>c</td>\n",
       "      <td>n</td>\n",
       "      <td>n</td>\n",
       "      <td>...</td>\n",
       "      <td>s</td>\n",
       "      <td>w</td>\n",
       "      <td>w</td>\n",
       "      <td>p</td>\n",
       "      <td>w</td>\n",
       "      <td>o</td>\n",
       "      <td>p</td>\n",
       "      <td>k</td>\n",
       "      <td>s</td>\n",
       "      <td>u</td>\n",
       "    </tr>\n",
       "    <tr>\n",
       "      <th>4</th>\n",
       "      <td>e</td>\n",
       "      <td>x</td>\n",
       "      <td>s</td>\n",
       "      <td>g</td>\n",
       "      <td>f</td>\n",
       "      <td>n</td>\n",
       "      <td>f</td>\n",
       "      <td>w</td>\n",
       "      <td>b</td>\n",
       "      <td>k</td>\n",
       "      <td>...</td>\n",
       "      <td>s</td>\n",
       "      <td>w</td>\n",
       "      <td>w</td>\n",
       "      <td>p</td>\n",
       "      <td>w</td>\n",
       "      <td>o</td>\n",
       "      <td>e</td>\n",
       "      <td>n</td>\n",
       "      <td>a</td>\n",
       "      <td>g</td>\n",
       "    </tr>\n",
       "  </tbody>\n",
       "</table>\n",
       "<p>5 rows × 23 columns</p>\n",
       "</div>"
      ],
      "text/plain": [
       "  poisonous cap-shape cap-surface cap-color bruises odor gill-attachment  \\\n",
       "0         p         x           s         n       t    p               f   \n",
       "1         e         x           s         y       t    a               f   \n",
       "2         e         b           s         w       t    l               f   \n",
       "3         p         x           y         w       t    p               f   \n",
       "4         e         x           s         g       f    n               f   \n",
       "\n",
       "  gill-spacing gill-size gill-color  ... stalk-surface-below-ring  \\\n",
       "0            c         n          k  ...                        s   \n",
       "1            c         b          k  ...                        s   \n",
       "2            c         b          n  ...                        s   \n",
       "3            c         n          n  ...                        s   \n",
       "4            w         b          k  ...                        s   \n",
       "\n",
       "  stalk-color-above-ring stalk-color-below-ring veil-type veil-color  \\\n",
       "0                      w                      w         p          w   \n",
       "1                      w                      w         p          w   \n",
       "2                      w                      w         p          w   \n",
       "3                      w                      w         p          w   \n",
       "4                      w                      w         p          w   \n",
       "\n",
       "  ring-number ring-type spore-print-color population habitat  \n",
       "0           o         p                 k          s       u  \n",
       "1           o         p                 n          n       g  \n",
       "2           o         p                 n          n       m  \n",
       "3           o         p                 k          s       u  \n",
       "4           o         e                 n          a       g  \n",
       "\n",
       "[5 rows x 23 columns]"
      ]
     },
     "execution_count": 41,
     "metadata": {},
     "output_type": "execute_result"
    }
   ],
   "source": [
    "import pandas as pd\n",
    "mushroom = pd.read_csv('./data/mushroom.csv', encoding='euc-kr')\n",
    "mushroom.head()"
   ]
  },
  {
   "attachments": {},
   "cell_type": "markdown",
   "id": "35352064",
   "metadata": {},
   "source": [
    "## 3. 탐색적 데이터 분석"
   ]
  },
  {
   "cell_type": "code",
   "execution_count": 42,
   "id": "b964a4aa",
   "metadata": {},
   "outputs": [
    {
     "data": {
      "text/plain": [
       "(8124, 23)"
      ]
     },
     "execution_count": 42,
     "metadata": {},
     "output_type": "execute_result"
    }
   ],
   "source": [
    "#데이터의 형태\n",
    "mushroom.shape"
   ]
  },
  {
   "cell_type": "code",
   "execution_count": 43,
   "id": "d90972d7",
   "metadata": {
    "scrolled": true
   },
   "outputs": [
    {
     "name": "stdout",
     "output_type": "stream",
     "text": [
      "<class 'pandas.core.frame.DataFrame'>\n",
      "RangeIndex: 8124 entries, 0 to 8123\n",
      "Data columns (total 23 columns):\n",
      " #   Column                    Non-Null Count  Dtype \n",
      "---  ------                    --------------  ----- \n",
      " 0   poisonous                 8124 non-null   object\n",
      " 1   cap-shape                 8124 non-null   object\n",
      " 2   cap-surface               8124 non-null   object\n",
      " 3   cap-color                 8124 non-null   object\n",
      " 4   bruises                   8124 non-null   object\n",
      " 5   odor                      8124 non-null   object\n",
      " 6   gill-attachment           8124 non-null   object\n",
      " 7   gill-spacing              8124 non-null   object\n",
      " 8   gill-size                 8124 non-null   object\n",
      " 9   gill-color                8124 non-null   object\n",
      " 10  stalk-shape               8124 non-null   object\n",
      " 11  stalk-root                8124 non-null   object\n",
      " 12  stalk-surface-above-ring  8124 non-null   object\n",
      " 13  stalk-surface-below-ring  8124 non-null   object\n",
      " 14  stalk-color-above-ring    8124 non-null   object\n",
      " 15  stalk-color-below-ring    8124 non-null   object\n",
      " 16  veil-type                 8124 non-null   object\n",
      " 17  veil-color                8124 non-null   object\n",
      " 18  ring-number               8124 non-null   object\n",
      " 19  ring-type                 8124 non-null   object\n",
      " 20  spore-print-color         8124 non-null   object\n",
      " 21  population                8124 non-null   object\n",
      " 22  habitat                   8124 non-null   object\n",
      "dtypes: object(23)\n",
      "memory usage: 1.4+ MB\n"
     ]
    }
   ],
   "source": [
    "#결측치 확인 (결측치를 보여주지만 데이터 타입도 볼 수 있음)\n",
    "mushroom.info()"
   ]
  },
  {
   "cell_type": "code",
   "execution_count": 44,
   "id": "5dede0db",
   "metadata": {},
   "outputs": [
    {
     "data": {
      "text/plain": [
       "((8124, 22), (8124,))"
      ]
     },
     "execution_count": 44,
     "metadata": {},
     "output_type": "execute_result"
    }
   ],
   "source": [
    "#특성데이터와 라벨데이터 분리\n",
    "X = mushroom.iloc[:, 1:]\n",
    "y = mushroom[\"poisonous\"]\n",
    "\n",
    "X.shape, y.shape"
   ]
  },
  {
   "cell_type": "code",
   "execution_count": 45,
   "id": "de7e8e33",
   "metadata": {},
   "outputs": [
    {
     "data": {
      "text/plain": [
       "array(['p', 'e'], dtype=object)"
      ]
     },
     "execution_count": 45,
     "metadata": {},
     "output_type": "execute_result"
    }
   ],
   "source": [
    "#라벨데이터의 클래스 확인\n",
    "y.unique()"
   ]
  },
  {
   "cell_type": "code",
   "execution_count": 46,
   "id": "6a8c3acd",
   "metadata": {},
   "outputs": [
    {
     "data": {
      "text/plain": [
       "e    4208\n",
       "p    3916\n",
       "Name: poisonous, dtype: int64"
      ]
     },
     "execution_count": 46,
     "metadata": {},
     "output_type": "execute_result"
    }
   ],
   "source": [
    "#라벨데이터의 클래스의 데이터 수 확인\n",
    "y.value_counts()"
   ]
  },
  {
   "cell_type": "markdown",
   "id": "656df153",
   "metadata": {},
   "source": [
    "#### 데이터 시각화"
   ]
  },
  {
   "cell_type": "code",
   "execution_count": 47,
   "id": "119a84c6",
   "metadata": {
    "scrolled": true
   },
   "outputs": [
    {
     "data": {
      "text/plain": [
       "<AxesSubplot: xlabel='cap-shape', ylabel='count'>"
      ]
     },
     "execution_count": 47,
     "metadata": {},
     "output_type": "execute_result"
    },
    {
     "data": {
      "image/png": "[encoded data removed]",
      "text/plain": [
       "<Figure size 640x480 with 1 Axes>"
      ]
     },
     "metadata": {},
     "output_type": "display_data"
    }
   ],
   "source": [
    "#시각화 도구 countplot()\n",
    "import seaborn as sb\n",
    "\n",
    "#범주형 데이터에서 클래스의 갯수를 표현하는 경우에 주로 사용\n",
    "#X : x축값\n",
    "#hue 는 새로운 변수를 다른 색상을 이용하여 추가하는 파라미터?\n",
    "#col은 별도의 새로운 plot으로 분할하는 데 사용되는 파라미터?\n",
    "sb.countplot(data=mushroom, x=\"cap-shape\", hue=y)\n",
    "\n",
    "#범주형 데이터를 통합하려면 시각화를 해서 많은 쪽에 통합하는 것이 좋다(?)"
   ]
  },
  {
   "attachments": {},
   "cell_type": "markdown",
   "id": "bb418642",
   "metadata": {},
   "source": [
    "#### mushroom 데이터 원핫인코딩"
   ]
  },
  {
   "cell_type": "code",
   "execution_count": 21,
   "id": "b597cbe4",
   "metadata": {},
   "outputs": [
    {
     "data": {
      "text/html": [
       "<div>\n",
       "<style scoped>\n",
       "    .dataframe tbody tr th:only-of-type {\n",
       "        vertical-align: middle;\n",
       "    }\n",
       "\n",
       "    .dataframe tbody tr th {\n",
       "        vertical-align: top;\n",
       "    }\n",
       "\n",
       "    .dataframe thead th {\n",
       "        text-align: right;\n",
       "    }\n",
       "</style>\n",
       "<table border=\"1\" class=\"dataframe\">\n",
       "  <thead>\n",
       "    <tr style=\"text-align: right;\">\n",
       "      <th></th>\n",
       "      <th>cap-shape_b</th>\n",
       "      <th>cap-shape_c</th>\n",
       "      <th>cap-shape_f</th>\n",
       "      <th>cap-shape_k</th>\n",
       "      <th>cap-shape_s</th>\n",
       "      <th>cap-shape_x</th>\n",
       "      <th>cap-surface_f</th>\n",
       "      <th>cap-surface_g</th>\n",
       "      <th>cap-surface_s</th>\n",
       "      <th>cap-surface_y</th>\n",
       "      <th>...</th>\n",
       "      <th>population_s</th>\n",
       "      <th>population_v</th>\n",
       "      <th>population_y</th>\n",
       "      <th>habitat_d</th>\n",
       "      <th>habitat_g</th>\n",
       "      <th>habitat_l</th>\n",
       "      <th>habitat_m</th>\n",
       "      <th>habitat_p</th>\n",
       "      <th>habitat_u</th>\n",
       "      <th>habitat_w</th>\n",
       "    </tr>\n",
       "  </thead>\n",
       "  <tbody>\n",
       "    <tr>\n",
       "      <th>0</th>\n",
       "      <td>0</td>\n",
       "      <td>0</td>\n",
       "      <td>0</td>\n",
       "      <td>0</td>\n",
       "      <td>0</td>\n",
       "      <td>1</td>\n",
       "      <td>0</td>\n",
       "      <td>0</td>\n",
       "      <td>1</td>\n",
       "      <td>0</td>\n",
       "      <td>...</td>\n",
       "      <td>1</td>\n",
       "      <td>0</td>\n",
       "      <td>0</td>\n",
       "      <td>0</td>\n",
       "      <td>0</td>\n",
       "      <td>0</td>\n",
       "      <td>0</td>\n",
       "      <td>0</td>\n",
       "      <td>1</td>\n",
       "      <td>0</td>\n",
       "    </tr>\n",
       "    <tr>\n",
       "      <th>1</th>\n",
       "      <td>0</td>\n",
       "      <td>0</td>\n",
       "      <td>0</td>\n",
       "      <td>0</td>\n",
       "      <td>0</td>\n",
       "      <td>1</td>\n",
       "      <td>0</td>\n",
       "      <td>0</td>\n",
       "      <td>1</td>\n",
       "      <td>0</td>\n",
       "      <td>...</td>\n",
       "      <td>0</td>\n",
       "      <td>0</td>\n",
       "      <td>0</td>\n",
       "      <td>0</td>\n",
       "      <td>1</td>\n",
       "      <td>0</td>\n",
       "      <td>0</td>\n",
       "      <td>0</td>\n",
       "      <td>0</td>\n",
       "      <td>0</td>\n",
       "    </tr>\n",
       "    <tr>\n",
       "      <th>2</th>\n",
       "      <td>1</td>\n",
       "      <td>0</td>\n",
       "      <td>0</td>\n",
       "      <td>0</td>\n",
       "      <td>0</td>\n",
       "      <td>0</td>\n",
       "      <td>0</td>\n",
       "      <td>0</td>\n",
       "      <td>1</td>\n",
       "      <td>0</td>\n",
       "      <td>...</td>\n",
       "      <td>0</td>\n",
       "      <td>0</td>\n",
       "      <td>0</td>\n",
       "      <td>0</td>\n",
       "      <td>0</td>\n",
       "      <td>0</td>\n",
       "      <td>1</td>\n",
       "      <td>0</td>\n",
       "      <td>0</td>\n",
       "      <td>0</td>\n",
       "    </tr>\n",
       "    <tr>\n",
       "      <th>3</th>\n",
       "      <td>0</td>\n",
       "      <td>0</td>\n",
       "      <td>0</td>\n",
       "      <td>0</td>\n",
       "      <td>0</td>\n",
       "      <td>1</td>\n",
       "      <td>0</td>\n",
       "      <td>0</td>\n",
       "      <td>0</td>\n",
       "      <td>1</td>\n",
       "      <td>...</td>\n",
       "      <td>1</td>\n",
       "      <td>0</td>\n",
       "      <td>0</td>\n",
       "      <td>0</td>\n",
       "      <td>0</td>\n",
       "      <td>0</td>\n",
       "      <td>0</td>\n",
       "      <td>0</td>\n",
       "      <td>1</td>\n",
       "      <td>0</td>\n",
       "    </tr>\n",
       "    <tr>\n",
       "      <th>4</th>\n",
       "      <td>0</td>\n",
       "      <td>0</td>\n",
       "      <td>0</td>\n",
       "      <td>0</td>\n",
       "      <td>0</td>\n",
       "      <td>1</td>\n",
       "      <td>0</td>\n",
       "      <td>0</td>\n",
       "      <td>1</td>\n",
       "      <td>0</td>\n",
       "      <td>...</td>\n",
       "      <td>0</td>\n",
       "      <td>0</td>\n",
       "      <td>0</td>\n",
       "      <td>0</td>\n",
       "      <td>1</td>\n",
       "      <td>0</td>\n",
       "      <td>0</td>\n",
       "      <td>0</td>\n",
       "      <td>0</td>\n",
       "      <td>0</td>\n",
       "    </tr>\n",
       "    <tr>\n",
       "      <th>...</th>\n",
       "      <td>...</td>\n",
       "      <td>...</td>\n",
       "      <td>...</td>\n",
       "      <td>...</td>\n",
       "      <td>...</td>\n",
       "      <td>...</td>\n",
       "      <td>...</td>\n",
       "      <td>...</td>\n",
       "      <td>...</td>\n",
       "      <td>...</td>\n",
       "      <td>...</td>\n",
       "      <td>...</td>\n",
       "      <td>...</td>\n",
       "      <td>...</td>\n",
       "      <td>...</td>\n",
       "      <td>...</td>\n",
       "      <td>...</td>\n",
       "      <td>...</td>\n",
       "      <td>...</td>\n",
       "      <td>...</td>\n",
       "      <td>...</td>\n",
       "    </tr>\n",
       "    <tr>\n",
       "      <th>8119</th>\n",
       "      <td>0</td>\n",
       "      <td>0</td>\n",
       "      <td>0</td>\n",
       "      <td>1</td>\n",
       "      <td>0</td>\n",
       "      <td>0</td>\n",
       "      <td>0</td>\n",
       "      <td>0</td>\n",
       "      <td>1</td>\n",
       "      <td>0</td>\n",
       "      <td>...</td>\n",
       "      <td>0</td>\n",
       "      <td>0</td>\n",
       "      <td>0</td>\n",
       "      <td>0</td>\n",
       "      <td>0</td>\n",
       "      <td>1</td>\n",
       "      <td>0</td>\n",
       "      <td>0</td>\n",
       "      <td>0</td>\n",
       "      <td>0</td>\n",
       "    </tr>\n",
       "    <tr>\n",
       "      <th>8120</th>\n",
       "      <td>0</td>\n",
       "      <td>0</td>\n",
       "      <td>0</td>\n",
       "      <td>0</td>\n",
       "      <td>0</td>\n",
       "      <td>1</td>\n",
       "      <td>0</td>\n",
       "      <td>0</td>\n",
       "      <td>1</td>\n",
       "      <td>0</td>\n",
       "      <td>...</td>\n",
       "      <td>0</td>\n",
       "      <td>1</td>\n",
       "      <td>0</td>\n",
       "      <td>0</td>\n",
       "      <td>0</td>\n",
       "      <td>1</td>\n",
       "      <td>0</td>\n",
       "      <td>0</td>\n",
       "      <td>0</td>\n",
       "      <td>0</td>\n",
       "    </tr>\n",
       "    <tr>\n",
       "      <th>8121</th>\n",
       "      <td>0</td>\n",
       "      <td>0</td>\n",
       "      <td>1</td>\n",
       "      <td>0</td>\n",
       "      <td>0</td>\n",
       "      <td>0</td>\n",
       "      <td>0</td>\n",
       "      <td>0</td>\n",
       "      <td>1</td>\n",
       "      <td>0</td>\n",
       "      <td>...</td>\n",
       "      <td>0</td>\n",
       "      <td>0</td>\n",
       "      <td>0</td>\n",
       "      <td>0</td>\n",
       "      <td>0</td>\n",
       "      <td>1</td>\n",
       "      <td>0</td>\n",
       "      <td>0</td>\n",
       "      <td>0</td>\n",
       "      <td>0</td>\n",
       "    </tr>\n",
       "    <tr>\n",
       "      <th>8122</th>\n",
       "      <td>0</td>\n",
       "      <td>0</td>\n",
       "      <td>0</td>\n",
       "      <td>1</td>\n",
       "      <td>0</td>\n",
       "      <td>0</td>\n",
       "      <td>0</td>\n",
       "      <td>0</td>\n",
       "      <td>0</td>\n",
       "      <td>1</td>\n",
       "      <td>...</td>\n",
       "      <td>0</td>\n",
       "      <td>1</td>\n",
       "      <td>0</td>\n",
       "      <td>0</td>\n",
       "      <td>0</td>\n",
       "      <td>1</td>\n",
       "      <td>0</td>\n",
       "      <td>0</td>\n",
       "      <td>0</td>\n",
       "      <td>0</td>\n",
       "    </tr>\n",
       "    <tr>\n",
       "      <th>8123</th>\n",
       "      <td>0</td>\n",
       "      <td>0</td>\n",
       "      <td>0</td>\n",
       "      <td>0</td>\n",
       "      <td>0</td>\n",
       "      <td>1</td>\n",
       "      <td>0</td>\n",
       "      <td>0</td>\n",
       "      <td>1</td>\n",
       "      <td>0</td>\n",
       "      <td>...</td>\n",
       "      <td>0</td>\n",
       "      <td>0</td>\n",
       "      <td>0</td>\n",
       "      <td>0</td>\n",
       "      <td>0</td>\n",
       "      <td>1</td>\n",
       "      <td>0</td>\n",
       "      <td>0</td>\n",
       "      <td>0</td>\n",
       "      <td>0</td>\n",
       "    </tr>\n",
       "  </tbody>\n",
       "</table>\n",
       "<p>8124 rows × 117 columns</p>\n",
       "</div>"
      ],
      "text/plain": [
       "      cap-shape_b  cap-shape_c  cap-shape_f  cap-shape_k  cap-shape_s  \\\n",
       "0               0            0            0            0            0   \n",
       "1               0            0            0            0            0   \n",
       "2               1            0            0            0            0   \n",
       "3               0            0            0            0            0   \n",
       "4               0            0            0            0            0   \n",
       "...           ...          ...          ...          ...          ...   \n",
       "8119            0            0            0            1            0   \n",
       "8120            0            0            0            0            0   \n",
       "8121            0            0            1            0            0   \n",
       "8122            0            0            0            1            0   \n",
       "8123            0            0            0            0            0   \n",
       "\n",
       "      cap-shape_x  cap-surface_f  cap-surface_g  cap-surface_s  cap-surface_y  \\\n",
       "0               1              0              0              1              0   \n",
       "1               1              0              0              1              0   \n",
       "2               0              0              0              1              0   \n",
       "3               1              0              0              0              1   \n",
       "4               1              0              0              1              0   \n",
       "...           ...            ...            ...            ...            ...   \n",
       "8119            0              0              0              1              0   \n",
       "8120            1              0              0              1              0   \n",
       "8121            0              0              0              1              0   \n",
       "8122            0              0              0              0              1   \n",
       "8123            1              0              0              1              0   \n",
       "\n",
       "      ...  population_s  population_v  population_y  habitat_d  habitat_g  \\\n",
       "0     ...             1             0             0          0          0   \n",
       "1     ...             0             0             0          0          1   \n",
       "2     ...             0             0             0          0          0   \n",
       "3     ...             1             0             0          0          0   \n",
       "4     ...             0             0             0          0          1   \n",
       "...   ...           ...           ...           ...        ...        ...   \n",
       "8119  ...             0             0             0          0          0   \n",
       "8120  ...             0             1             0          0          0   \n",
       "8121  ...             0             0             0          0          0   \n",
       "8122  ...             0             1             0          0          0   \n",
       "8123  ...             0             0             0          0          0   \n",
       "\n",
       "      habitat_l  habitat_m  habitat_p  habitat_u  habitat_w  \n",
       "0             0          0          0          1          0  \n",
       "1             0          0          0          0          0  \n",
       "2             0          1          0          0          0  \n",
       "3             0          0          0          1          0  \n",
       "4             0          0          0          0          0  \n",
       "...         ...        ...        ...        ...        ...  \n",
       "8119          1          0          0          0          0  \n",
       "8120          1          0          0          0          0  \n",
       "8121          1          0          0          0          0  \n",
       "8122          1          0          0          0          0  \n",
       "8123          1          0          0          0          0  \n",
       "\n",
       "[8124 rows x 117 columns]"
      ]
     },
     "execution_count": 21,
     "metadata": {},
     "output_type": "execute_result"
    }
   ],
   "source": [
    "# mushroom  데이터를 원핫인코딩\n",
    "X2 = X.copy()\n",
    "one_hot_X = pd.get_dummies(X2)\n",
    "one_hot_X"
   ]
  },
  {
   "cell_type": "code",
   "execution_count": 22,
   "id": "5e4f5988",
   "metadata": {},
   "outputs": [
    {
     "data": {
      "text/plain": [
       "((5686, 117), (2438, 117), (5686,), (2438,))"
      ]
     },
     "execution_count": 22,
     "metadata": {},
     "output_type": "execute_result"
    }
   ],
   "source": [
    "# 훈련데이터와 테스트데이터로 분리\n",
    "from sklearn.model_selection import train_test_split\n",
    "\n",
    "#test_size=0.3 : 테스트 데이터 비율을 30% 로 설정\n",
    "X_train, X_test, y_train, y_test = train_test_split(one_hot_X, y,\n",
    "                                                    random_state=999, #어떤 랜덤 셋이 가장 효율이 좋은지 찾는 것도 중요\n",
    "                                                    test_size=0.3)\n",
    "\n",
    "X_train.shape, X_test.shape, y_train.shape, y_test.shape"
   ]
  },
  {
   "attachments": {},
   "cell_type": "markdown",
   "id": "dcc14132",
   "metadata": {},
   "source": [
    "## 4. 모델 학습"
   ]
  },
  {
   "cell_type": "code",
   "execution_count": 23,
   "id": "ec013130",
   "metadata": {},
   "outputs": [
    {
     "data": {
      "text/html": [
       "<style>#sk-container-id-1 {color: black;background-color: white;}#sk-container-id-1 pre{padding: 0;}#sk-container-id-1 div.sk-toggleable {background-color: white;}#sk-container-id-1 label.sk-toggleable__label {cursor: pointer;display: block;width: 100%;margin-bottom: 0;padding: 0.3em;box-sizing: border-box;text-align: center;}#sk-container-id-1 label.sk-toggleable__label-arrow:before {content: \"▸\";float: left;margin-right: 0.25em;color: #696969;}#sk-container-id-1 label.sk-toggleable__label-arrow:hover:before {color: black;}#sk-container-id-1 div.sk-estimator:hover label.sk-toggleable__label-arrow:before {color: black;}#sk-container-id-1 div.sk-toggleable__content {max-height: 0;max-width: 0;overflow: hidden;text-align: left;background-color: #f0f8ff;}#sk-container-id-1 div.sk-toggleable__content pre {margin: 0.2em;color: black;border-radius: 0.25em;background-color: #f0f8ff;}#sk-container-id-1 input.sk-toggleable__control:checked~div.sk-toggleable__content {max-height: 200px;max-width: 100%;overflow: auto;}#sk-container-id-1 input.sk-toggleable__control:checked~label.sk-toggleable__label-arrow:before {content: \"▾\";}#sk-container-id-1 div.sk-estimator input.sk-toggleable__control:checked~label.sk-toggleable__label {background-color: #d4ebff;}#sk-container-id-1 div.sk-label input.sk-toggleable__control:checked~label.sk-toggleable__label {background-color: #d4ebff;}#sk-container-id-1 input.sk-hidden--visually {border: 0;clip: rect(1px 1px 1px 1px);clip: rect(1px, 1px, 1px, 1px);height: 1px;margin: -1px;overflow: hidden;padding: 0;position: absolute;width: 1px;}#sk-container-id-1 div.sk-estimator {font-family: monospace;background-color: #f0f8ff;border: 1px dotted black;border-radius: 0.25em;box-sizing: border-box;margin-bottom: 0.5em;}#sk-container-id-1 div.sk-estimator:hover {background-color: #d4ebff;}#sk-container-id-1 div.sk-parallel-item::after {content: \"\";width: 100%;border-bottom: 1px solid gray;flex-grow: 1;}#sk-container-id-1 div.sk-label:hover label.sk-toggleable__label {background-color: #d4ebff;}#sk-container-id-1 div.sk-serial::before {content: \"\";position: absolute;border-left: 1px solid gray;box-sizing: border-box;top: 0;bottom: 0;left: 50%;z-index: 0;}#sk-container-id-1 div.sk-serial {display: flex;flex-direction: column;align-items: center;background-color: white;padding-right: 0.2em;padding-left: 0.2em;position: relative;}#sk-container-id-1 div.sk-item {position: relative;z-index: 1;}#sk-container-id-1 div.sk-parallel {display: flex;align-items: stretch;justify-content: center;background-color: white;position: relative;}#sk-container-id-1 div.sk-item::before, #sk-container-id-1 div.sk-parallel-item::before {content: \"\";position: absolute;border-left: 1px solid gray;box-sizing: border-box;top: 0;bottom: 0;left: 50%;z-index: -1;}#sk-container-id-1 div.sk-parallel-item {display: flex;flex-direction: column;z-index: 1;position: relative;background-color: white;}#sk-container-id-1 div.sk-parallel-item:first-child::after {align-self: flex-end;width: 50%;}#sk-container-id-1 div.sk-parallel-item:last-child::after {align-self: flex-start;width: 50%;}#sk-container-id-1 div.sk-parallel-item:only-child::after {width: 0;}#sk-container-id-1 div.sk-dashed-wrapped {border: 1px dashed gray;margin: 0 0.4em 0.5em 0.4em;box-sizing: border-box;padding-bottom: 0.4em;background-color: white;}#sk-container-id-1 div.sk-label label {font-family: monospace;font-weight: bold;display: inline-block;line-height: 1.2em;}#sk-container-id-1 div.sk-label-container {text-align: center;}#sk-container-id-1 div.sk-container {/* jupyter's `normalize.less` sets `[hidden] { display: none; }` but bootstrap.min.css set `[hidden] { display: none !important; }` so we also need the `!important` here to be able to override the default hidden behavior on the sphinx rendered scikit-learn.org. See: https://github.com/scikit-learn/scikit-learn/issues/21755 */display: inline-block !important;position: relative;}#sk-container-id-1 div.sk-text-repr-fallback {display: none;}</style><div id=\"sk-container-id-1\" class=\"sk-top-container\"><div class=\"sk-text-repr-fallback\"><pre>DecisionTreeClassifier()</pre><b>In a Jupyter environment, please rerun this cell to show the HTML representation or trust the notebook. <br />On GitHub, the HTML representation is unable to render, please try loading this page with nbviewer.org.</b></div><div class=\"sk-container\" hidden><div class=\"sk-item\"><div class=\"sk-estimator sk-toggleable\"><input class=\"sk-toggleable__control sk-hidden--visually\" id=\"sk-estimator-id-1\" type=\"checkbox\" checked><label for=\"sk-estimator-id-1\" class=\"sk-toggleable__label sk-toggleable__label-arrow\">DecisionTreeClassifier</label><div class=\"sk-toggleable__content\"><pre>DecisionTreeClassifier()</pre></div></div></div></div></div>"
      ],
      "text/plain": [
       "DecisionTreeClassifier()"
      ]
     },
     "execution_count": 23,
     "metadata": {},
     "output_type": "execute_result"
    }
   ],
   "source": [
    "from sklearn.tree import DecisionTreeClassifier \n",
    "\n",
    "model_dt = DecisionTreeClassifier()\n",
    "model_dt.fit(X_train, y_train)"
   ]
  },
  {
   "cell_type": "code",
   "execution_count": 24,
   "id": "051c15a6",
   "metadata": {},
   "outputs": [
    {
     "name": "stdout",
     "output_type": "stream",
     "text": [
      "훈련정확도 : 1.0\n",
      "테스트정확도 : 1.0\n"
     ]
    }
   ],
   "source": [
    "print(\"훈련정확도 :\", model_dt.score(X_train, y_train))\n",
    "print(\"테스트정확도 :\", model_dt.score(X_test, y_test))"
   ]
  },
  {
   "cell_type": "markdown",
   "id": "a5ad13b7",
   "metadata": {},
   "source": [
    "# 트리 시각화하기"
   ]
  },
  {
   "cell_type": "code",
   "execution_count": 25,
   "id": "2d5eac09",
   "metadata": {},
   "outputs": [
    {
     "name": "stdout",
     "output_type": "stream",
     "text": [
      "Collecting graphviz\n",
      "  Downloading graphviz-0.20.1-py3-none-any.whl (47 kB)\n",
      "\u001b[2K     \u001b[90m━━━━━━━━━━━━━━━━━━━━━━━━━━━━━━━━━━━━━━━━\u001b[0m \u001b[32m47.0/47.0 kB\u001b[0m \u001b[31m1.4 MB/s\u001b[0m eta \u001b[36m0:00:00\u001b[0m\n",
      "\u001b[?25hInstalling collected packages: graphviz\n",
      "Successfully installed graphviz-0.20.1\n"
     ]
    }
   ],
   "source": [
    "!pip install graphviz"
   ]
  },
  {
   "cell_type": "markdown",
   "id": "560bd8f9",
   "metadata": {},
   "source": [
    "- 윈도우용 graphviz 패키지 설치\n",
    "    - https://www2.graphviz.org/Packages/development/windows/10/cmake/Release/x64/"
   ]
  },
  {
   "cell_type": "code",
   "execution_count": 45,
   "id": "957facb2",
   "metadata": {},
   "outputs": [],
   "source": [
    "#path 설정\n",
    "\n",
    "import os\n",
    "\n",
    "os.environ[\"PATH\"] += os.pathsep +\"C:/Program Files/Graphviz/bin\""
   ]
  },
  {
   "cell_type": "code",
   "execution_count": 49,
   "id": "f7c71650",
   "metadata": {},
   "outputs": [
    {
     "data": {
      "image/svg+xml": "<?xml version=\"1.0\" encoding=\"UTF-8\" standalone=\"no\"?>\n<!DOCTYPE svg PUBLIC \"-//W3C//DTD SVG 1.1//EN\"\n \"http://www.w3.org/Graphics/SVG/1.1/DTD/svg11.dtd\">\n<!-- Generated by graphviz version 2.44.2~dev.20201112.1525 (20201112.1525)\n -->\n<!-- Title: Tree Pages: 1 -->\n<svg width=\"1080pt\" height=\"790pt\"\n viewBox=\"0.00 0.00 1079.50 790.00\" xmlns=\"http://www.w3.org/2000/svg\" xmlns:xlink=\"http://www.w3.org/1999/xlink\">\n<g id=\"graph0\" class=\"graph\" transform=\"scale(1 1) rotate(0) translate(4 786)\">\n<title>Tree</title>\n<polygon fill=\"white\" stroke=\"transparent\" points=\"-4,4 -4,-786 1075.5,-786 1075.5,4 -4,4\"/>\n<!-- 0 -->\n<g id=\"node1\" class=\"node\">\n<title>0</title>\n<path fill=\"#fdf6f2\" stroke=\"black\" d=\"M706,-782C706,-782 584,-782 584,-782 578,-782 572,-776 572,-770 572,-770 572,-711 572,-711 572,-705 578,-699 584,-699 584,-699 706,-699 706,-699 712,-699 718,-705 718,-711 718,-711 718,-770 718,-770 718,-776 712,-782 706,-782\"/>\n<text text-anchor=\"middle\" x=\"645\" y=\"-766.8\" font-family=\"Helvetica,sans-Serif\" font-size=\"14.00\">odor_n &lt;= 0.5</text>\n<text text-anchor=\"middle\" x=\"645\" y=\"-751.8\" font-family=\"Helvetica,sans-Serif\" font-size=\"14.00\">gini = 0.499</text>\n<text text-anchor=\"middle\" x=\"645\" y=\"-736.8\" font-family=\"Helvetica,sans-Serif\" font-size=\"14.00\">samples = 5686</text>\n<text text-anchor=\"middle\" x=\"645\" y=\"-721.8\" font-family=\"Helvetica,sans-Serif\" font-size=\"14.00\">value = [2943, 2743]</text>\n<text text-anchor=\"middle\" x=\"645\" y=\"-706.8\" font-family=\"Helvetica,sans-Serif\" font-size=\"14.00\">class = 독</text>\n</g>\n<!-- 1 -->\n<g id=\"node2\" class=\"node\">\n<title>1</title>\n<path fill=\"#63b2ea\" stroke=\"black\" d=\"M598,-663C598,-663 484,-663 484,-663 478,-663 472,-657 472,-651 472,-651 472,-592 472,-592 472,-586 478,-580 484,-580 484,-580 598,-580 598,-580 604,-580 610,-586 610,-592 610,-592 610,-651 610,-651 610,-657 604,-663 598,-663\"/>\n<text text-anchor=\"middle\" x=\"541\" y=\"-647.8\" font-family=\"Helvetica,sans-Serif\" font-size=\"14.00\">stalk&#45;root_c &lt;= 0.5</text>\n<text text-anchor=\"middle\" x=\"541\" y=\"-632.8\" font-family=\"Helvetica,sans-Serif\" font-size=\"14.00\">gini = 0.287</text>\n<text text-anchor=\"middle\" x=\"541\" y=\"-617.8\" font-family=\"Helvetica,sans-Serif\" font-size=\"14.00\">samples = 3230</text>\n<text text-anchor=\"middle\" x=\"541\" y=\"-602.8\" font-family=\"Helvetica,sans-Serif\" font-size=\"14.00\">value = [560, 2670]</text>\n<text text-anchor=\"middle\" x=\"541\" y=\"-587.8\" font-family=\"Helvetica,sans-Serif\" font-size=\"14.00\">class = 식용</text>\n</g>\n<!-- 0&#45;&gt;1 -->\n<g id=\"edge1\" class=\"edge\">\n<title>0:&#45;&gt;1:</title>\n<path fill=\"none\" stroke=\"black\" d=\"M608.92,-698.91C600.85,-689.83 592.22,-680.12 583.91,-670.77\"/>\n<polygon fill=\"black\" stroke=\"black\" points=\"586.28,-668.17 577.02,-663.02 581.05,-672.82 586.28,-668.17\"/>\n<text text-anchor=\"middle\" x=\"575.55\" y=\"-684.28\" font-family=\"Helvetica,sans-Serif\" font-size=\"14.00\">True</text>\n</g>\n<!-- 12 -->\n<g id=\"node13\" class=\"node\">\n<title>12</title>\n<path fill=\"#e6853f\" stroke=\"black\" d=\"M826,-663C826,-663 672,-663 672,-663 666,-663 660,-657 660,-651 660,-651 660,-592 660,-592 660,-586 666,-580 672,-580 672,-580 826,-580 826,-580 832,-580 838,-586 838,-592 838,-592 838,-651 838,-651 838,-657 832,-663 826,-663\"/>\n<text text-anchor=\"middle\" x=\"749\" y=\"-647.8\" font-family=\"Helvetica,sans-Serif\" font-size=\"14.00\">spore&#45;print&#45;color_r &lt;= 0.5</text>\n<text text-anchor=\"middle\" x=\"749\" y=\"-632.8\" font-family=\"Helvetica,sans-Serif\" font-size=\"14.00\">gini = 0.058</text>\n<text text-anchor=\"middle\" x=\"749\" y=\"-617.8\" font-family=\"Helvetica,sans-Serif\" font-size=\"14.00\">samples = 2456</text>\n<text text-anchor=\"middle\" x=\"749\" y=\"-602.8\" font-family=\"Helvetica,sans-Serif\" font-size=\"14.00\">value = [2383, 73]</text>\n<text text-anchor=\"middle\" x=\"749\" y=\"-587.8\" font-family=\"Helvetica,sans-Serif\" font-size=\"14.00\">class = 독</text>\n</g>\n<!-- 0&#45;&gt;12 -->\n<g id=\"edge12\" class=\"edge\">\n<title>0:&#45;&gt;12:</title>\n<path fill=\"none\" stroke=\"black\" d=\"M681.08,-698.91C689.15,-689.83 697.78,-680.12 706.09,-670.77\"/>\n<polygon fill=\"black\" stroke=\"black\" points=\"708.95,-672.82 712.98,-663.02 703.72,-668.17 708.95,-672.82\"/>\n<text text-anchor=\"middle\" x=\"714.45\" y=\"-684.28\" font-family=\"Helvetica,sans-Serif\" font-size=\"14.00\">False</text>\n</g>\n<!-- 2 -->\n<g id=\"node3\" class=\"node\">\n<title>2</title>\n<path fill=\"#49a5e7\" stroke=\"black\" d=\"M434,-544C434,-544 232,-544 232,-544 226,-544 220,-538 220,-532 220,-532 220,-473 220,-473 220,-467 226,-461 232,-461 232,-461 434,-461 434,-461 440,-461 446,-467 446,-473 446,-473 446,-532 446,-532 446,-538 440,-544 434,-544\"/>\n<text text-anchor=\"middle\" x=\"333\" y=\"-528.8\" font-family=\"Helvetica,sans-Serif\" font-size=\"14.00\">stalk&#45;surface&#45;below&#45;ring_y &lt;= 0.5</text>\n<text text-anchor=\"middle\" x=\"333\" y=\"-513.8\" font-family=\"Helvetica,sans-Serif\" font-size=\"14.00\">gini = 0.136</text>\n<text text-anchor=\"middle\" x=\"333\" y=\"-498.8\" font-family=\"Helvetica,sans-Serif\" font-size=\"14.00\">samples = 2851</text>\n<text text-anchor=\"middle\" x=\"333\" y=\"-483.8\" font-family=\"Helvetica,sans-Serif\" font-size=\"14.00\">value = [209, 2642]</text>\n<text text-anchor=\"middle\" x=\"333\" y=\"-468.8\" font-family=\"Helvetica,sans-Serif\" font-size=\"14.00\">class = 식용</text>\n</g>\n<!-- 1&#45;&gt;2 -->\n<g id=\"edge2\" class=\"edge\">\n<title>1:&#45;&gt;2:</title>\n<path fill=\"none\" stroke=\"black\" d=\"M471.74,-581.54C453.27,-571.15 433.16,-559.84 414.12,-549.13\"/>\n<polygon fill=\"black\" stroke=\"black\" points=\"415.59,-545.94 405.16,-544.09 412.16,-552.04 415.59,-545.94\"/>\n</g>\n<!-- 9 -->\n<g id=\"node10\" class=\"node\">\n<title>9</title>\n<path fill=\"#e78b49\" stroke=\"black\" d=\"M605.5,-544C605.5,-544 476.5,-544 476.5,-544 470.5,-544 464.5,-538 464.5,-532 464.5,-532 464.5,-473 464.5,-473 464.5,-467 470.5,-461 476.5,-461 476.5,-461 605.5,-461 605.5,-461 611.5,-461 617.5,-467 617.5,-473 617.5,-473 617.5,-532 617.5,-532 617.5,-538 611.5,-544 605.5,-544\"/>\n<text text-anchor=\"middle\" x=\"541\" y=\"-528.8\" font-family=\"Helvetica,sans-Serif\" font-size=\"14.00\">ring&#45;number_o &lt;= 0.5</text>\n<text text-anchor=\"middle\" x=\"541\" y=\"-513.8\" font-family=\"Helvetica,sans-Serif\" font-size=\"14.00\">gini = 0.137</text>\n<text text-anchor=\"middle\" x=\"541\" y=\"-498.8\" font-family=\"Helvetica,sans-Serif\" font-size=\"14.00\">samples = 379</text>\n<text text-anchor=\"middle\" x=\"541\" y=\"-483.8\" font-family=\"Helvetica,sans-Serif\" font-size=\"14.00\">value = [351, 28]</text>\n<text text-anchor=\"middle\" x=\"541\" y=\"-468.8\" font-family=\"Helvetica,sans-Serif\" font-size=\"14.00\">class = 독</text>\n</g>\n<!-- 1&#45;&gt;9 -->\n<g id=\"edge9\" class=\"edge\">\n<title>1:&#45;&gt;9:</title>\n<path fill=\"none\" stroke=\"black\" d=\"M541,-579.91C541,-571.65 541,-562.86 541,-554.3\"/>\n<polygon fill=\"black\" stroke=\"black\" points=\"544.5,-554.02 541,-544.02 537.5,-554.02 544.5,-554.02\"/>\n</g>\n<!-- 3 -->\n<g id=\"node4\" class=\"node\">\n<title>3</title>\n<path fill=\"#3fa0e6\" stroke=\"black\" d=\"M248,-425C248,-425 142,-425 142,-425 136,-425 130,-419 130,-413 130,-413 130,-354 130,-354 130,-348 136,-342 142,-342 142,-342 248,-342 248,-342 254,-342 260,-348 260,-354 260,-354 260,-413 260,-413 260,-419 254,-425 248,-425\"/>\n<text text-anchor=\"middle\" x=\"195\" y=\"-409.8\" font-family=\"Helvetica,sans-Serif\" font-size=\"14.00\">odor_a &lt;= 0.5</text>\n<text text-anchor=\"middle\" x=\"195\" y=\"-394.8\" font-family=\"Helvetica,sans-Serif\" font-size=\"14.00\">gini = 0.054</text>\n<text text-anchor=\"middle\" x=\"195\" y=\"-379.8\" font-family=\"Helvetica,sans-Serif\" font-size=\"14.00\">samples = 2717</text>\n<text text-anchor=\"middle\" x=\"195\" y=\"-364.8\" font-family=\"Helvetica,sans-Serif\" font-size=\"14.00\">value = [75, 2642]</text>\n<text text-anchor=\"middle\" x=\"195\" y=\"-349.8\" font-family=\"Helvetica,sans-Serif\" font-size=\"14.00\">class = 식용</text>\n</g>\n<!-- 2&#45;&gt;3 -->\n<g id=\"edge3\" class=\"edge\">\n<title>2:&#45;&gt;3:</title>\n<path fill=\"none\" stroke=\"black\" d=\"M285.12,-460.91C273.99,-451.47 262.05,-441.34 250.61,-431.65\"/>\n<polygon fill=\"black\" stroke=\"black\" points=\"252.68,-428.82 242.79,-425.02 248.16,-434.16 252.68,-428.82\"/>\n</g>\n<!-- 8 -->\n<g id=\"node9\" class=\"node\">\n<title>8</title>\n<path fill=\"#e58139\" stroke=\"black\" d=\"M379.5,-417.5C379.5,-417.5 290.5,-417.5 290.5,-417.5 284.5,-417.5 278.5,-411.5 278.5,-405.5 278.5,-405.5 278.5,-361.5 278.5,-361.5 278.5,-355.5 284.5,-349.5 290.5,-349.5 290.5,-349.5 379.5,-349.5 379.5,-349.5 385.5,-349.5 391.5,-355.5 391.5,-361.5 391.5,-361.5 391.5,-405.5 391.5,-405.5 391.5,-411.5 385.5,-417.5 379.5,-417.5\"/>\n<text text-anchor=\"middle\" x=\"335\" y=\"-402.3\" font-family=\"Helvetica,sans-Serif\" font-size=\"14.00\">gini = 0.0</text>\n<text text-anchor=\"middle\" x=\"335\" y=\"-387.3\" font-family=\"Helvetica,sans-Serif\" font-size=\"14.00\">samples = 134</text>\n<text text-anchor=\"middle\" x=\"335\" y=\"-372.3\" font-family=\"Helvetica,sans-Serif\" font-size=\"14.00\">value = [134, 0]</text>\n<text text-anchor=\"middle\" x=\"335\" y=\"-357.3\" font-family=\"Helvetica,sans-Serif\" font-size=\"14.00\">class = 독</text>\n</g>\n<!-- 2&#45;&gt;8 -->\n<g id=\"edge8\" class=\"edge\">\n<title>2:&#45;&gt;8:</title>\n<path fill=\"none\" stroke=\"black\" d=\"M333.69,-460.91C333.88,-450.2 334.07,-438.62 334.26,-427.78\"/>\n<polygon fill=\"black\" stroke=\"black\" points=\"337.76,-427.73 334.43,-417.67 330.76,-427.61 337.76,-427.73\"/>\n</g>\n<!-- 4 -->\n<g id=\"node5\" class=\"node\">\n<title>4</title>\n<path fill=\"#3c9ee5\" stroke=\"black\" d=\"M180,-306C180,-306 74,-306 74,-306 68,-306 62,-300 62,-294 62,-294 62,-235 62,-235 62,-229 68,-223 74,-223 74,-223 180,-223 180,-223 186,-223 192,-229 192,-235 192,-235 192,-294 192,-294 192,-300 186,-306 180,-306\"/>\n<text text-anchor=\"middle\" x=\"127\" y=\"-290.8\" font-family=\"Helvetica,sans-Serif\" font-size=\"14.00\">odor_l &lt;= 0.5</text>\n<text text-anchor=\"middle\" x=\"127\" y=\"-275.8\" font-family=\"Helvetica,sans-Serif\" font-size=\"14.00\">gini = 0.026</text>\n<text text-anchor=\"middle\" x=\"127\" y=\"-260.8\" font-family=\"Helvetica,sans-Serif\" font-size=\"14.00\">samples = 2677</text>\n<text text-anchor=\"middle\" x=\"127\" y=\"-245.8\" font-family=\"Helvetica,sans-Serif\" font-size=\"14.00\">value = [35, 2642]</text>\n<text text-anchor=\"middle\" x=\"127\" y=\"-230.8\" font-family=\"Helvetica,sans-Serif\" font-size=\"14.00\">class = 식용</text>\n</g>\n<!-- 3&#45;&gt;4 -->\n<g id=\"edge4\" class=\"edge\">\n<title>3:&#45;&gt;4:</title>\n<path fill=\"none\" stroke=\"black\" d=\"M171.41,-341.91C166.34,-333.2 160.94,-323.9 155.71,-314.89\"/>\n<polygon fill=\"black\" stroke=\"black\" points=\"158.6,-312.91 150.55,-306.02 152.55,-316.43 158.6,-312.91\"/>\n</g>\n<!-- 7 -->\n<g id=\"node8\" class=\"node\">\n<title>7</title>\n<path fill=\"#e58139\" stroke=\"black\" d=\"M303.5,-298.5C303.5,-298.5 222.5,-298.5 222.5,-298.5 216.5,-298.5 210.5,-292.5 210.5,-286.5 210.5,-286.5 210.5,-242.5 210.5,-242.5 210.5,-236.5 216.5,-230.5 222.5,-230.5 222.5,-230.5 303.5,-230.5 303.5,-230.5 309.5,-230.5 315.5,-236.5 315.5,-242.5 315.5,-242.5 315.5,-286.5 315.5,-286.5 315.5,-292.5 309.5,-298.5 303.5,-298.5\"/>\n<text text-anchor=\"middle\" x=\"263\" y=\"-283.3\" font-family=\"Helvetica,sans-Serif\" font-size=\"14.00\">gini = 0.0</text>\n<text text-anchor=\"middle\" x=\"263\" y=\"-268.3\" font-family=\"Helvetica,sans-Serif\" font-size=\"14.00\">samples = 40</text>\n<text text-anchor=\"middle\" x=\"263\" y=\"-253.3\" font-family=\"Helvetica,sans-Serif\" font-size=\"14.00\">value = [40, 0]</text>\n<text text-anchor=\"middle\" x=\"263\" y=\"-238.3\" font-family=\"Helvetica,sans-Serif\" font-size=\"14.00\">class = 독</text>\n</g>\n<!-- 3&#45;&gt;7 -->\n<g id=\"edge7\" class=\"edge\">\n<title>3:&#45;&gt;7:</title>\n<path fill=\"none\" stroke=\"black\" d=\"M218.59,-341.91C225.07,-330.76 232.1,-318.66 238.63,-307.44\"/>\n<polygon fill=\"black\" stroke=\"black\" points=\"241.72,-309.07 243.72,-298.67 235.67,-305.55 241.72,-309.07\"/>\n</g>\n<!-- 5 -->\n<g id=\"node6\" class=\"node\">\n<title>5</title>\n<path fill=\"#399de5\" stroke=\"black\" d=\"M110,-179.5C110,-179.5 12,-179.5 12,-179.5 6,-179.5 0,-173.5 0,-167.5 0,-167.5 0,-123.5 0,-123.5 0,-117.5 6,-111.5 12,-111.5 12,-111.5 110,-111.5 110,-111.5 116,-111.5 122,-117.5 122,-123.5 122,-123.5 122,-167.5 122,-167.5 122,-173.5 116,-179.5 110,-179.5\"/>\n<text text-anchor=\"middle\" x=\"61\" y=\"-164.3\" font-family=\"Helvetica,sans-Serif\" font-size=\"14.00\">gini = 0.0</text>\n<text text-anchor=\"middle\" x=\"61\" y=\"-149.3\" font-family=\"Helvetica,sans-Serif\" font-size=\"14.00\">samples = 2642</text>\n<text text-anchor=\"middle\" x=\"61\" y=\"-134.3\" font-family=\"Helvetica,sans-Serif\" font-size=\"14.00\">value = [0, 2642]</text>\n<text text-anchor=\"middle\" x=\"61\" y=\"-119.3\" font-family=\"Helvetica,sans-Serif\" font-size=\"14.00\">class = 식용</text>\n</g>\n<!-- 4&#45;&gt;5 -->\n<g id=\"edge5\" class=\"edge\">\n<title>4:&#45;&gt;5:</title>\n<path fill=\"none\" stroke=\"black\" d=\"M104.1,-222.91C97.81,-211.76 90.99,-199.66 84.66,-188.44\"/>\n<polygon fill=\"black\" stroke=\"black\" points=\"87.67,-186.66 79.71,-179.67 81.57,-190.1 87.67,-186.66\"/>\n</g>\n<!-- 6 -->\n<g id=\"node7\" class=\"node\">\n<title>6</title>\n<path fill=\"#e58139\" stroke=\"black\" d=\"M233.5,-179.5C233.5,-179.5 152.5,-179.5 152.5,-179.5 146.5,-179.5 140.5,-173.5 140.5,-167.5 140.5,-167.5 140.5,-123.5 140.5,-123.5 140.5,-117.5 146.5,-111.5 152.5,-111.5 152.5,-111.5 233.5,-111.5 233.5,-111.5 239.5,-111.5 245.5,-117.5 245.5,-123.5 245.5,-123.5 245.5,-167.5 245.5,-167.5 245.5,-173.5 239.5,-179.5 233.5,-179.5\"/>\n<text text-anchor=\"middle\" x=\"193\" y=\"-164.3\" font-family=\"Helvetica,sans-Serif\" font-size=\"14.00\">gini = 0.0</text>\n<text text-anchor=\"middle\" x=\"193\" y=\"-149.3\" font-family=\"Helvetica,sans-Serif\" font-size=\"14.00\">samples = 35</text>\n<text text-anchor=\"middle\" x=\"193\" y=\"-134.3\" font-family=\"Helvetica,sans-Serif\" font-size=\"14.00\">value = [35, 0]</text>\n<text text-anchor=\"middle\" x=\"193\" y=\"-119.3\" font-family=\"Helvetica,sans-Serif\" font-size=\"14.00\">class = 독</text>\n</g>\n<!-- 4&#45;&gt;6 -->\n<g id=\"edge6\" class=\"edge\">\n<title>4:&#45;&gt;6:</title>\n<path fill=\"none\" stroke=\"black\" d=\"M149.9,-222.91C156.19,-211.76 163.01,-199.66 169.34,-188.44\"/>\n<polygon fill=\"black\" stroke=\"black\" points=\"172.43,-190.1 174.29,-179.67 166.33,-186.66 172.43,-190.1\"/>\n</g>\n<!-- 10 -->\n<g id=\"node11\" class=\"node\">\n<title>10</title>\n<path fill=\"#399de5\" stroke=\"black\" d=\"M507.5,-417.5C507.5,-417.5 426.5,-417.5 426.5,-417.5 420.5,-417.5 414.5,-411.5 414.5,-405.5 414.5,-405.5 414.5,-361.5 414.5,-361.5 414.5,-355.5 420.5,-349.5 426.5,-349.5 426.5,-349.5 507.5,-349.5 507.5,-349.5 513.5,-349.5 519.5,-355.5 519.5,-361.5 519.5,-361.5 519.5,-405.5 519.5,-405.5 519.5,-411.5 513.5,-417.5 507.5,-417.5\"/>\n<text text-anchor=\"middle\" x=\"467\" y=\"-402.3\" font-family=\"Helvetica,sans-Serif\" font-size=\"14.00\">gini = 0.0</text>\n<text text-anchor=\"middle\" x=\"467\" y=\"-387.3\" font-family=\"Helvetica,sans-Serif\" font-size=\"14.00\">samples = 28</text>\n<text text-anchor=\"middle\" x=\"467\" y=\"-372.3\" font-family=\"Helvetica,sans-Serif\" font-size=\"14.00\">value = [0, 28]</text>\n<text text-anchor=\"middle\" x=\"467\" y=\"-357.3\" font-family=\"Helvetica,sans-Serif\" font-size=\"14.00\">class = 식용</text>\n</g>\n<!-- 9&#45;&gt;10 -->\n<g id=\"edge10\" class=\"edge\">\n<title>9:&#45;&gt;10:</title>\n<path fill=\"none\" stroke=\"black\" d=\"M515.33,-460.91C508.28,-449.76 500.62,-437.66 493.53,-426.44\"/>\n<polygon fill=\"black\" stroke=\"black\" points=\"496.28,-424.25 487.98,-417.67 490.36,-427.99 496.28,-424.25\"/>\n</g>\n<!-- 11 -->\n<g id=\"node12\" class=\"node\">\n<title>11</title>\n<path fill=\"#e58139\" stroke=\"black\" d=\"M638.5,-417.5C638.5,-417.5 549.5,-417.5 549.5,-417.5 543.5,-417.5 537.5,-411.5 537.5,-405.5 537.5,-405.5 537.5,-361.5 537.5,-361.5 537.5,-355.5 543.5,-349.5 549.5,-349.5 549.5,-349.5 638.5,-349.5 638.5,-349.5 644.5,-349.5 650.5,-355.5 650.5,-361.5 650.5,-361.5 650.5,-405.5 650.5,-405.5 650.5,-411.5 644.5,-417.5 638.5,-417.5\"/>\n<text text-anchor=\"middle\" x=\"594\" y=\"-402.3\" font-family=\"Helvetica,sans-Serif\" font-size=\"14.00\">gini = 0.0</text>\n<text text-anchor=\"middle\" x=\"594\" y=\"-387.3\" font-family=\"Helvetica,sans-Serif\" font-size=\"14.00\">samples = 351</text>\n<text text-anchor=\"middle\" x=\"594\" y=\"-372.3\" font-family=\"Helvetica,sans-Serif\" font-size=\"14.00\">value = [351, 0]</text>\n<text text-anchor=\"middle\" x=\"594\" y=\"-357.3\" font-family=\"Helvetica,sans-Serif\" font-size=\"14.00\">class = 독</text>\n</g>\n<!-- 9&#45;&gt;11 -->\n<g id=\"edge11\" class=\"edge\">\n<title>9:&#45;&gt;11:</title>\n<path fill=\"none\" stroke=\"black\" d=\"M559.39,-460.91C564.34,-449.98 569.7,-438.14 574.7,-427.11\"/>\n<polygon fill=\"black\" stroke=\"black\" points=\"578.04,-428.22 578.98,-417.67 571.66,-425.33 578.04,-428.22\"/>\n</g>\n<!-- 13 -->\n<g id=\"node14\" class=\"node\">\n<title>13</title>\n<path fill=\"#e5823b\" stroke=\"black\" d=\"M850,-544C850,-544 648,-544 648,-544 642,-544 636,-538 636,-532 636,-532 636,-473 636,-473 636,-467 642,-461 648,-461 648,-461 850,-461 850,-461 856,-461 862,-467 862,-473 862,-473 862,-532 862,-532 862,-538 856,-544 850,-544\"/>\n<text text-anchor=\"middle\" x=\"749\" y=\"-528.8\" font-family=\"Helvetica,sans-Serif\" font-size=\"14.00\">stalk&#45;surface&#45;below&#45;ring_y &lt;= 0.5</text>\n<text text-anchor=\"middle\" x=\"749\" y=\"-513.8\" font-family=\"Helvetica,sans-Serif\" font-size=\"14.00\">gini = 0.023</text>\n<text text-anchor=\"middle\" x=\"749\" y=\"-498.8\" font-family=\"Helvetica,sans-Serif\" font-size=\"14.00\">samples = 2411</text>\n<text text-anchor=\"middle\" x=\"749\" y=\"-483.8\" font-family=\"Helvetica,sans-Serif\" font-size=\"14.00\">value = [2383, 28]</text>\n<text text-anchor=\"middle\" x=\"749\" y=\"-468.8\" font-family=\"Helvetica,sans-Serif\" font-size=\"14.00\">class = 독</text>\n</g>\n<!-- 12&#45;&gt;13 -->\n<g id=\"edge13\" class=\"edge\">\n<title>12:&#45;&gt;13:</title>\n<path fill=\"none\" stroke=\"black\" d=\"M749,-579.91C749,-571.65 749,-562.86 749,-554.3\"/>\n<polygon fill=\"black\" stroke=\"black\" points=\"752.5,-554.02 749,-544.02 745.5,-554.02 752.5,-554.02\"/>\n</g>\n<!-- 24 -->\n<g id=\"node25\" class=\"node\">\n<title>24</title>\n<path fill=\"#399de5\" stroke=\"black\" d=\"M973.5,-536.5C973.5,-536.5 892.5,-536.5 892.5,-536.5 886.5,-536.5 880.5,-530.5 880.5,-524.5 880.5,-524.5 880.5,-480.5 880.5,-480.5 880.5,-474.5 886.5,-468.5 892.5,-468.5 892.5,-468.5 973.5,-468.5 973.5,-468.5 979.5,-468.5 985.5,-474.5 985.5,-480.5 985.5,-480.5 985.5,-524.5 985.5,-524.5 985.5,-530.5 979.5,-536.5 973.5,-536.5\"/>\n<text text-anchor=\"middle\" x=\"933\" y=\"-521.3\" font-family=\"Helvetica,sans-Serif\" font-size=\"14.00\">gini = 0.0</text>\n<text text-anchor=\"middle\" x=\"933\" y=\"-506.3\" font-family=\"Helvetica,sans-Serif\" font-size=\"14.00\">samples = 45</text>\n<text text-anchor=\"middle\" x=\"933\" y=\"-491.3\" font-family=\"Helvetica,sans-Serif\" font-size=\"14.00\">value = [0, 45]</text>\n<text text-anchor=\"middle\" x=\"933\" y=\"-476.3\" font-family=\"Helvetica,sans-Serif\" font-size=\"14.00\">class = 식용</text>\n</g>\n<!-- 12&#45;&gt;24 -->\n<g id=\"edge24\" class=\"edge\">\n<title>12:&#45;&gt;24:</title>\n<path fill=\"none\" stroke=\"black\" d=\"M814.36,-579.83C832.72,-568.32 852.68,-555.73 871,-544 872.07,-543.32 873.14,-542.63 874.22,-541.93\"/>\n<polygon fill=\"black\" stroke=\"black\" points=\"876.12,-544.87 882.63,-536.51 872.33,-538.99 876.12,-544.87\"/>\n</g>\n<!-- 14 -->\n<g id=\"node15\" class=\"node\">\n<title>14</title>\n<path fill=\"#e58139\" stroke=\"black\" d=\"M812,-425C812,-425 684,-425 684,-425 678,-425 672,-419 672,-413 672,-413 672,-354 672,-354 672,-348 678,-342 684,-342 684,-342 812,-342 812,-342 818,-342 824,-348 824,-354 824,-354 824,-413 824,-413 824,-419 818,-425 812,-425\"/>\n<text text-anchor=\"middle\" x=\"748\" y=\"-409.8\" font-family=\"Helvetica,sans-Serif\" font-size=\"14.00\">cap&#45;surface_g &lt;= 0.5</text>\n<text text-anchor=\"middle\" x=\"748\" y=\"-394.8\" font-family=\"Helvetica,sans-Serif\" font-size=\"14.00\">gini = 0.003</text>\n<text text-anchor=\"middle\" x=\"748\" y=\"-379.8\" font-family=\"Helvetica,sans-Serif\" font-size=\"14.00\">samples = 2377</text>\n<text text-anchor=\"middle\" x=\"748\" y=\"-364.8\" font-family=\"Helvetica,sans-Serif\" font-size=\"14.00\">value = [2373, 4]</text>\n<text text-anchor=\"middle\" x=\"748\" y=\"-349.8\" font-family=\"Helvetica,sans-Serif\" font-size=\"14.00\">class = 독</text>\n</g>\n<!-- 13&#45;&gt;14 -->\n<g id=\"edge14\" class=\"edge\">\n<title>13:&#45;&gt;14:</title>\n<path fill=\"none\" stroke=\"black\" d=\"M748.65,-460.91C748.58,-452.65 748.51,-443.86 748.43,-435.3\"/>\n<polygon fill=\"black\" stroke=\"black\" points=\"751.93,-434.99 748.35,-425.02 744.93,-435.05 751.93,-434.99\"/>\n</g>\n<!-- 21 -->\n<g id=\"node22\" class=\"node\">\n<title>21</title>\n<path fill=\"#8bc6f0\" stroke=\"black\" d=\"M955.5,-425C955.5,-425 854.5,-425 854.5,-425 848.5,-425 842.5,-419 842.5,-413 842.5,-413 842.5,-354 842.5,-354 842.5,-348 848.5,-342 854.5,-342 854.5,-342 955.5,-342 955.5,-342 961.5,-342 967.5,-348 967.5,-354 967.5,-354 967.5,-413 967.5,-413 967.5,-419 961.5,-425 955.5,-425\"/>\n<text text-anchor=\"middle\" x=\"905\" y=\"-409.8\" font-family=\"Helvetica,sans-Serif\" font-size=\"14.00\">gill&#45;size_b &lt;= 0.5</text>\n<text text-anchor=\"middle\" x=\"905\" y=\"-394.8\" font-family=\"Helvetica,sans-Serif\" font-size=\"14.00\">gini = 0.415</text>\n<text text-anchor=\"middle\" x=\"905\" y=\"-379.8\" font-family=\"Helvetica,sans-Serif\" font-size=\"14.00\">samples = 34</text>\n<text text-anchor=\"middle\" x=\"905\" y=\"-364.8\" font-family=\"Helvetica,sans-Serif\" font-size=\"14.00\">value = [10, 24]</text>\n<text text-anchor=\"middle\" x=\"905\" y=\"-349.8\" font-family=\"Helvetica,sans-Serif\" font-size=\"14.00\">class = 식용</text>\n</g>\n<!-- 13&#45;&gt;21 -->\n<g id=\"edge21\" class=\"edge\">\n<title>13:&#45;&gt;21:</title>\n<path fill=\"none\" stroke=\"black\" d=\"M803.12,-460.91C815.95,-451.29 829.73,-440.95 842.88,-431.09\"/>\n<polygon fill=\"black\" stroke=\"black\" points=\"845.07,-433.82 850.97,-425.02 840.87,-428.22 845.07,-433.82\"/>\n</g>\n<!-- 15 -->\n<g id=\"node16\" class=\"node\">\n<title>15</title>\n<path fill=\"#e58139\" stroke=\"black\" d=\"M677,-306C677,-306 577,-306 577,-306 571,-306 565,-300 565,-294 565,-294 565,-235 565,-235 565,-229 571,-223 577,-223 577,-223 677,-223 677,-223 683,-223 689,-229 689,-235 689,-235 689,-294 689,-294 689,-300 683,-306 677,-306\"/>\n<text text-anchor=\"middle\" x=\"627\" y=\"-290.8\" font-family=\"Helvetica,sans-Serif\" font-size=\"14.00\">gill&#45;size_n &lt;= 0.5</text>\n<text text-anchor=\"middle\" x=\"627\" y=\"-275.8\" font-family=\"Helvetica,sans-Serif\" font-size=\"14.00\">gini = 0.003</text>\n<text text-anchor=\"middle\" x=\"627\" y=\"-260.8\" font-family=\"Helvetica,sans-Serif\" font-size=\"14.00\">samples = 2376</text>\n<text text-anchor=\"middle\" x=\"627\" y=\"-245.8\" font-family=\"Helvetica,sans-Serif\" font-size=\"14.00\">value = [2373, 3]</text>\n<text text-anchor=\"middle\" x=\"627\" y=\"-230.8\" font-family=\"Helvetica,sans-Serif\" font-size=\"14.00\">class = 독</text>\n</g>\n<!-- 14&#45;&gt;15 -->\n<g id=\"edge15\" class=\"edge\">\n<title>14:&#45;&gt;15:</title>\n<path fill=\"none\" stroke=\"black\" d=\"M706.02,-341.91C696.45,-332.65 686.19,-322.73 676.34,-313.21\"/>\n<polygon fill=\"black\" stroke=\"black\" points=\"678.53,-310.46 668.91,-306.02 673.66,-315.49 678.53,-310.46\"/>\n</g>\n<!-- 20 -->\n<g id=\"node21\" class=\"node\">\n<title>20</title>\n<path fill=\"#399de5\" stroke=\"black\" d=\"M795,-298.5C795,-298.5 719,-298.5 719,-298.5 713,-298.5 707,-292.5 707,-286.5 707,-286.5 707,-242.5 707,-242.5 707,-236.5 713,-230.5 719,-230.5 719,-230.5 795,-230.5 795,-230.5 801,-230.5 807,-236.5 807,-242.5 807,-242.5 807,-286.5 807,-286.5 807,-292.5 801,-298.5 795,-298.5\"/>\n<text text-anchor=\"middle\" x=\"757\" y=\"-283.3\" font-family=\"Helvetica,sans-Serif\" font-size=\"14.00\">gini = 0.0</text>\n<text text-anchor=\"middle\" x=\"757\" y=\"-268.3\" font-family=\"Helvetica,sans-Serif\" font-size=\"14.00\">samples = 1</text>\n<text text-anchor=\"middle\" x=\"757\" y=\"-253.3\" font-family=\"Helvetica,sans-Serif\" font-size=\"14.00\">value = [0, 1]</text>\n<text text-anchor=\"middle\" x=\"757\" y=\"-238.3\" font-family=\"Helvetica,sans-Serif\" font-size=\"14.00\">class = 식용</text>\n</g>\n<!-- 14&#45;&gt;20 -->\n<g id=\"edge20\" class=\"edge\">\n<title>14:&#45;&gt;20:</title>\n<path fill=\"none\" stroke=\"black\" d=\"M751.12,-341.91C751.95,-331.2 752.84,-319.62 753.67,-308.78\"/>\n<polygon fill=\"black\" stroke=\"black\" points=\"757.17,-308.91 754.45,-298.67 750.19,-308.37 757.17,-308.91\"/>\n</g>\n<!-- 16 -->\n<g id=\"node17\" class=\"node\">\n<title>16</title>\n<path fill=\"#e58139\" stroke=\"black\" d=\"M606,-179.5C606,-179.5 508,-179.5 508,-179.5 502,-179.5 496,-173.5 496,-167.5 496,-167.5 496,-123.5 496,-123.5 496,-117.5 502,-111.5 508,-111.5 508,-111.5 606,-111.5 606,-111.5 612,-111.5 618,-117.5 618,-123.5 618,-123.5 618,-167.5 618,-167.5 618,-173.5 612,-179.5 606,-179.5\"/>\n<text text-anchor=\"middle\" x=\"557\" y=\"-164.3\" font-family=\"Helvetica,sans-Serif\" font-size=\"14.00\">gini = 0.0</text>\n<text text-anchor=\"middle\" x=\"557\" y=\"-149.3\" font-family=\"Helvetica,sans-Serif\" font-size=\"14.00\">samples = 2238</text>\n<text text-anchor=\"middle\" x=\"557\" y=\"-134.3\" font-family=\"Helvetica,sans-Serif\" font-size=\"14.00\">value = [2238, 0]</text>\n<text text-anchor=\"middle\" x=\"557\" y=\"-119.3\" font-family=\"Helvetica,sans-Serif\" font-size=\"14.00\">class = 독</text>\n</g>\n<!-- 15&#45;&gt;16 -->\n<g id=\"edge16\" class=\"edge\">\n<title>15:&#45;&gt;16:</title>\n<path fill=\"none\" stroke=\"black\" d=\"M602.71,-222.91C596.05,-211.76 588.8,-199.66 582.09,-188.44\"/>\n<polygon fill=\"black\" stroke=\"black\" points=\"584.98,-186.45 576.84,-179.67 578.97,-190.05 584.98,-186.45\"/>\n</g>\n<!-- 17 -->\n<g id=\"node18\" class=\"node\">\n<title>17</title>\n<path fill=\"#e6843d\" stroke=\"black\" d=\"M743.5,-187C743.5,-187 648.5,-187 648.5,-187 642.5,-187 636.5,-181 636.5,-175 636.5,-175 636.5,-116 636.5,-116 636.5,-110 642.5,-104 648.5,-104 648.5,-104 743.5,-104 743.5,-104 749.5,-104 755.5,-110 755.5,-116 755.5,-116 755.5,-175 755.5,-175 755.5,-181 749.5,-187 743.5,-187\"/>\n<text text-anchor=\"middle\" x=\"696\" y=\"-171.8\" font-family=\"Helvetica,sans-Serif\" font-size=\"14.00\">bruises_t &lt;= 0.5</text>\n<text text-anchor=\"middle\" x=\"696\" y=\"-156.8\" font-family=\"Helvetica,sans-Serif\" font-size=\"14.00\">gini = 0.043</text>\n<text text-anchor=\"middle\" x=\"696\" y=\"-141.8\" font-family=\"Helvetica,sans-Serif\" font-size=\"14.00\">samples = 138</text>\n<text text-anchor=\"middle\" x=\"696\" y=\"-126.8\" font-family=\"Helvetica,sans-Serif\" font-size=\"14.00\">value = [135, 3]</text>\n<text text-anchor=\"middle\" x=\"696\" y=\"-111.8\" font-family=\"Helvetica,sans-Serif\" font-size=\"14.00\">class = 독</text>\n</g>\n<!-- 15&#45;&gt;17 -->\n<g id=\"edge17\" class=\"edge\">\n<title>15:&#45;&gt;17:</title>\n<path fill=\"none\" stroke=\"black\" d=\"M650.94,-222.91C656.08,-214.2 661.56,-204.9 666.87,-195.89\"/>\n<polygon fill=\"black\" stroke=\"black\" points=\"670.04,-197.41 672.1,-187.02 664.01,-193.86 670.04,-197.41\"/>\n</g>\n<!-- 18 -->\n<g id=\"node19\" class=\"node\">\n<title>18</title>\n<path fill=\"#e58139\" stroke=\"black\" d=\"M678.5,-68C678.5,-68 589.5,-68 589.5,-68 583.5,-68 577.5,-62 577.5,-56 577.5,-56 577.5,-12 577.5,-12 577.5,-6 583.5,0 589.5,0 589.5,0 678.5,0 678.5,0 684.5,0 690.5,-6 690.5,-12 690.5,-12 690.5,-56 690.5,-56 690.5,-62 684.5,-68 678.5,-68\"/>\n<text text-anchor=\"middle\" x=\"634\" y=\"-52.8\" font-family=\"Helvetica,sans-Serif\" font-size=\"14.00\">gini = 0.0</text>\n<text text-anchor=\"middle\" x=\"634\" y=\"-37.8\" font-family=\"Helvetica,sans-Serif\" font-size=\"14.00\">samples = 135</text>\n<text text-anchor=\"middle\" x=\"634\" y=\"-22.8\" font-family=\"Helvetica,sans-Serif\" font-size=\"14.00\">value = [135, 0]</text>\n<text text-anchor=\"middle\" x=\"634\" y=\"-7.8\" font-family=\"Helvetica,sans-Serif\" font-size=\"14.00\">class = 독</text>\n</g>\n<!-- 17&#45;&gt;18 -->\n<g id=\"edge18\" class=\"edge\">\n<title>17:&#45;&gt;18:</title>\n<path fill=\"none\" stroke=\"black\" d=\"M672.91,-103.73C668.01,-95.06 662.82,-85.9 657.88,-77.18\"/>\n<polygon fill=\"black\" stroke=\"black\" points=\"660.83,-75.28 652.85,-68.3 654.74,-78.73 660.83,-75.28\"/>\n</g>\n<!-- 19 -->\n<g id=\"node20\" class=\"node\">\n<title>19</title>\n<path fill=\"#399de5\" stroke=\"black\" d=\"M797,-68C797,-68 721,-68 721,-68 715,-68 709,-62 709,-56 709,-56 709,-12 709,-12 709,-6 715,0 721,0 721,0 797,0 797,0 803,0 809,-6 809,-12 809,-12 809,-56 809,-56 809,-62 803,-68 797,-68\"/>\n<text text-anchor=\"middle\" x=\"759\" y=\"-52.8\" font-family=\"Helvetica,sans-Serif\" font-size=\"14.00\">gini = 0.0</text>\n<text text-anchor=\"middle\" x=\"759\" y=\"-37.8\" font-family=\"Helvetica,sans-Serif\" font-size=\"14.00\">samples = 3</text>\n<text text-anchor=\"middle\" x=\"759\" y=\"-22.8\" font-family=\"Helvetica,sans-Serif\" font-size=\"14.00\">value = [0, 3]</text>\n<text text-anchor=\"middle\" x=\"759\" y=\"-7.8\" font-family=\"Helvetica,sans-Serif\" font-size=\"14.00\">class = 식용</text>\n</g>\n<!-- 17&#45;&gt;19 -->\n<g id=\"edge19\" class=\"edge\">\n<title>17:&#45;&gt;19:</title>\n<path fill=\"none\" stroke=\"black\" d=\"M719.46,-103.73C724.44,-95.06 729.72,-85.9 734.73,-77.18\"/>\n<polygon fill=\"black\" stroke=\"black\" points=\"737.89,-78.71 739.84,-68.3 731.82,-75.22 737.89,-78.71\"/>\n</g>\n<!-- 22 -->\n<g id=\"node23\" class=\"node\">\n<title>22</title>\n<path fill=\"#399de5\" stroke=\"black\" d=\"M936.5,-298.5C936.5,-298.5 855.5,-298.5 855.5,-298.5 849.5,-298.5 843.5,-292.5 843.5,-286.5 843.5,-286.5 843.5,-242.5 843.5,-242.5 843.5,-236.5 849.5,-230.5 855.5,-230.5 855.5,-230.5 936.5,-230.5 936.5,-230.5 942.5,-230.5 948.5,-236.5 948.5,-242.5 948.5,-242.5 948.5,-286.5 948.5,-286.5 948.5,-292.5 942.5,-298.5 936.5,-298.5\"/>\n<text text-anchor=\"middle\" x=\"896\" y=\"-283.3\" font-family=\"Helvetica,sans-Serif\" font-size=\"14.00\">gini = 0.0</text>\n<text text-anchor=\"middle\" x=\"896\" y=\"-268.3\" font-family=\"Helvetica,sans-Serif\" font-size=\"14.00\">samples = 24</text>\n<text text-anchor=\"middle\" x=\"896\" y=\"-253.3\" font-family=\"Helvetica,sans-Serif\" font-size=\"14.00\">value = [0, 24]</text>\n<text text-anchor=\"middle\" x=\"896\" y=\"-238.3\" font-family=\"Helvetica,sans-Serif\" font-size=\"14.00\">class = 식용</text>\n</g>\n<!-- 21&#45;&gt;22 -->\n<g id=\"edge22\" class=\"edge\">\n<title>21:&#45;&gt;22:</title>\n<path fill=\"none\" stroke=\"black\" d=\"M901.88,-341.91C901.05,-331.2 900.16,-319.62 899.33,-308.78\"/>\n<polygon fill=\"black\" stroke=\"black\" points=\"902.81,-308.37 898.55,-298.67 895.83,-308.91 902.81,-308.37\"/>\n</g>\n<!-- 23 -->\n<g id=\"node24\" class=\"node\">\n<title>23</title>\n<path fill=\"#e58139\" stroke=\"black\" d=\"M1059.5,-298.5C1059.5,-298.5 978.5,-298.5 978.5,-298.5 972.5,-298.5 966.5,-292.5 966.5,-286.5 966.5,-286.5 966.5,-242.5 966.5,-242.5 966.5,-236.5 972.5,-230.5 978.5,-230.5 978.5,-230.5 1059.5,-230.5 1059.5,-230.5 1065.5,-230.5 1071.5,-236.5 1071.5,-242.5 1071.5,-242.5 1071.5,-286.5 1071.5,-286.5 1071.5,-292.5 1065.5,-298.5 1059.5,-298.5\"/>\n<text text-anchor=\"middle\" x=\"1019\" y=\"-283.3\" font-family=\"Helvetica,sans-Serif\" font-size=\"14.00\">gini = 0.0</text>\n<text text-anchor=\"middle\" x=\"1019\" y=\"-268.3\" font-family=\"Helvetica,sans-Serif\" font-size=\"14.00\">samples = 10</text>\n<text text-anchor=\"middle\" x=\"1019\" y=\"-253.3\" font-family=\"Helvetica,sans-Serif\" font-size=\"14.00\">value = [10, 0]</text>\n<text text-anchor=\"middle\" x=\"1019\" y=\"-238.3\" font-family=\"Helvetica,sans-Serif\" font-size=\"14.00\">class = 독</text>\n</g>\n<!-- 21&#45;&gt;23 -->\n<g id=\"edge23\" class=\"edge\">\n<title>21:&#45;&gt;23:</title>\n<path fill=\"none\" stroke=\"black\" d=\"M944.55,-341.91C955.84,-330.32 968.14,-317.7 979.43,-306.11\"/>\n<polygon fill=\"black\" stroke=\"black\" points=\"982.21,-308.27 986.68,-298.67 977.2,-303.39 982.21,-308.27\"/>\n</g>\n</g>\n</svg>\n",
      "text/plain": [
       "<graphviz.sources.Source at 0x1efde9b4190>"
      ]
     },
     "metadata": {},
     "output_type": "display_data"
    }
   ],
   "source": [
    "#만든 트리정보를 저장\n",
    "from sklearn.tree import export_graphviz\n",
    "\n",
    "#(사용할 모델, 저장할 파일명, 클래스명, 특성이름(컬럼명), \n",
    "#impurity(불순도 저장여부), filled(색칠여부), rounded(둥근사각형사용여부)\n",
    "export_graphviz(model_dt, out_file=\"tree.dot\", \n",
    "                class_names=[\"독\", \"식용\"], #클래스 네임은 라벨명\n",
    "                feature_names=one_hot_X.columns,\n",
    "                impurity=True,\n",
    "                filled=True,\n",
    "                rounded=True)\n",
    "\n",
    "import graphviz\n",
    "#with  : 파일을 열었으면 반드시 닫아줘야 하는데 이것을 자동으로 해줌\n",
    "#open() : 파일을 읽거나 쓰기 위해서 여는 것\n",
    "#encoding=\"UTF-8\" : 한글 인코딩\n",
    "with open(\"tree.dot\", encoding=\"UTF8\") as f :\n",
    "    #파일 읽기\n",
    "    dot_graph = f.read()\n",
    "\n",
    "#그래프출력\n",
    "display(graphviz.Source(dot_graph))"
   ]
  },
  {
   "attachments": {
    "image.png": {
     "image/png": "[encoded data removed]"
    }
   },
   "cell_type": "markdown",
   "id": "e333aa8b",
   "metadata": {},
   "source": [
    "![image.png](attachment:image.png)"
   ]
  },
  {
   "attachments": {},
   "cell_type": "markdown",
   "id": "fc607927",
   "metadata": {},
   "source": [
    "# 사전 가지치기 (pre_prunning)\n",
    "- 트리의 복잡도를 감소시켜서 과대적합을 줄여주는 방법\n",
    "- 종류\n",
    "    - max_depth : 트리의 층을 제한\n",
    "    - max_leaf_nodes : leaf node의 수를 제한\n",
    "    - min_samples_split : 노드를 분리하는 최소 데이터 sample 수를 설정"
   ]
  },
  {
   "attachments": {},
   "cell_type": "markdown",
   "id": "779c82c5",
   "metadata": {},
   "source": [
    "## max_depth를 이용한 사전 가지치기"
   ]
  },
  {
   "cell_type": "code",
   "execution_count": 55,
   "id": "6b5fcf5a",
   "metadata": {
    "scrolled": true
   },
   "outputs": [
    {
     "data": {
      "text/plain": [
       "DecisionTreeClassifier(max_depth=4)"
      ]
     },
     "execution_count": 55,
     "metadata": {},
     "output_type": "execute_result"
    }
   ],
   "source": [
    "model_dt2 = DecisionTreeClassifier(max_depth=4)\n",
    "model_dt2.fit(X_train, y_train)"
   ]
  },
  {
   "cell_type": "code",
   "execution_count": 56,
   "id": "d85e6ed7",
   "metadata": {},
   "outputs": [
    {
     "name": "stdout",
     "output_type": "stream",
     "text": [
      "훈련정확도 : 0.9933169187478016\n",
      "테스트정확도 : 0.9942575881870386\n"
     ]
    }
   ],
   "source": [
    "print(\"훈련정확도 :\", model_dt2.score(X_train, y_train))\n",
    "print(\"테스트정확도 :\", model_dt2.score(X_test, y_test))\n",
    "#과소 적합"
   ]
  },
  {
   "cell_type": "code",
   "execution_count": 57,
   "id": "a6fd029e",
   "metadata": {},
   "outputs": [
    {
     "data": {
      "image/svg+xml": "<?xml version=\"1.0\" encoding=\"UTF-8\" standalone=\"no\"?>\n<!DOCTYPE svg PUBLIC \"-//W3C//DTD SVG 1.1//EN\"\n \"http://www.w3.org/Graphics/SVG/1.1/DTD/svg11.dtd\">\n<!-- Generated by graphviz version 2.44.2~dev.20201112.1525 (20201112.1525)\n -->\n<!-- Title: Tree Pages: 1 -->\n<svg width=\"1012pt\" height=\"552pt\"\n viewBox=\"0.00 0.00 1011.50 552.00\" xmlns=\"http://www.w3.org/2000/svg\" xmlns:xlink=\"http://www.w3.org/1999/xlink\">\n<g id=\"graph0\" class=\"graph\" transform=\"scale(1 1) rotate(0) translate(4 548)\">\n<title>Tree</title>\n<polygon fill=\"white\" stroke=\"transparent\" points=\"-4,4 -4,-548 1007.5,-548 1007.5,4 -4,4\"/>\n<!-- 0 -->\n<g id=\"node1\" class=\"node\">\n<title>0</title>\n<path fill=\"#fdf6f2\" stroke=\"black\" d=\"M626,-544C626,-544 504,-544 504,-544 498,-544 492,-538 492,-532 492,-532 492,-473 492,-473 492,-467 498,-461 504,-461 504,-461 626,-461 626,-461 632,-461 638,-467 638,-473 638,-473 638,-532 638,-532 638,-538 632,-544 626,-544\"/>\n<text text-anchor=\"middle\" x=\"565\" y=\"-528.8\" font-family=\"Helvetica,sans-Serif\" font-size=\"14.00\">odor_n &lt;= 0.5</text>\n<text text-anchor=\"middle\" x=\"565\" y=\"-513.8\" font-family=\"Helvetica,sans-Serif\" font-size=\"14.00\">gini = 0.499</text>\n<text text-anchor=\"middle\" x=\"565\" y=\"-498.8\" font-family=\"Helvetica,sans-Serif\" font-size=\"14.00\">samples = 5686</text>\n<text text-anchor=\"middle\" x=\"565\" y=\"-483.8\" font-family=\"Helvetica,sans-Serif\" font-size=\"14.00\">value = [2943, 2743]</text>\n<text text-anchor=\"middle\" x=\"565\" y=\"-468.8\" font-family=\"Helvetica,sans-Serif\" font-size=\"14.00\">class = 독</text>\n</g>\n<!-- 1 -->\n<g id=\"node2\" class=\"node\">\n<title>1</title>\n<path fill=\"#63b2ea\" stroke=\"black\" d=\"M511,-425C511,-425 397,-425 397,-425 391,-425 385,-419 385,-413 385,-413 385,-354 385,-354 385,-348 391,-342 397,-342 397,-342 511,-342 511,-342 517,-342 523,-348 523,-354 523,-354 523,-413 523,-413 523,-419 517,-425 511,-425\"/>\n<text text-anchor=\"middle\" x=\"454\" y=\"-409.8\" font-family=\"Helvetica,sans-Serif\" font-size=\"14.00\">stalk&#45;root_c &lt;= 0.5</text>\n<text text-anchor=\"middle\" x=\"454\" y=\"-394.8\" font-family=\"Helvetica,sans-Serif\" font-size=\"14.00\">gini = 0.287</text>\n<text text-anchor=\"middle\" x=\"454\" y=\"-379.8\" font-family=\"Helvetica,sans-Serif\" font-size=\"14.00\">samples = 3230</text>\n<text text-anchor=\"middle\" x=\"454\" y=\"-364.8\" font-family=\"Helvetica,sans-Serif\" font-size=\"14.00\">value = [560, 2670]</text>\n<text text-anchor=\"middle\" x=\"454\" y=\"-349.8\" font-family=\"Helvetica,sans-Serif\" font-size=\"14.00\">class = 식용</text>\n</g>\n<!-- 0&#45;&gt;1 -->\n<g id=\"edge1\" class=\"edge\">\n<title>0:&#45;&gt;1:</title>\n<path fill=\"none\" stroke=\"black\" d=\"M526.49,-460.91C517.79,-451.74 508.48,-441.93 499.53,-432.49\"/>\n<polygon fill=\"black\" stroke=\"black\" points=\"501.86,-429.87 492.44,-425.02 496.79,-434.68 501.86,-429.87\"/>\n<text text-anchor=\"middle\" x=\"491.79\" y=\"-446.31\" font-family=\"Helvetica,sans-Serif\" font-size=\"14.00\">True</text>\n</g>\n<!-- 10 -->\n<g id=\"node11\" class=\"node\">\n<title>10</title>\n<path fill=\"#e6853f\" stroke=\"black\" d=\"M755,-425C755,-425 601,-425 601,-425 595,-425 589,-419 589,-413 589,-413 589,-354 589,-354 589,-348 595,-342 601,-342 601,-342 755,-342 755,-342 761,-342 767,-348 767,-354 767,-354 767,-413 767,-413 767,-419 761,-425 755,-425\"/>\n<text text-anchor=\"middle\" x=\"678\" y=\"-409.8\" font-family=\"Helvetica,sans-Serif\" font-size=\"14.00\">spore&#45;print&#45;color_r &lt;= 0.5</text>\n<text text-anchor=\"middle\" x=\"678\" y=\"-394.8\" font-family=\"Helvetica,sans-Serif\" font-size=\"14.00\">gini = 0.058</text>\n<text text-anchor=\"middle\" x=\"678\" y=\"-379.8\" font-family=\"Helvetica,sans-Serif\" font-size=\"14.00\">samples = 2456</text>\n<text text-anchor=\"middle\" x=\"678\" y=\"-364.8\" font-family=\"Helvetica,sans-Serif\" font-size=\"14.00\">value = [2383, 73]</text>\n<text text-anchor=\"middle\" x=\"678\" y=\"-349.8\" font-family=\"Helvetica,sans-Serif\" font-size=\"14.00\">class = 독</text>\n</g>\n<!-- 0&#45;&gt;10 -->\n<g id=\"edge10\" class=\"edge\">\n<title>0:&#45;&gt;10:</title>\n<path fill=\"none\" stroke=\"black\" d=\"M604.2,-460.91C613.06,-451.74 622.54,-441.93 631.65,-432.49\"/>\n<polygon fill=\"black\" stroke=\"black\" points=\"634.43,-434.65 638.86,-425.02 629.4,-429.78 634.43,-434.65\"/>\n<text text-anchor=\"middle\" x=\"639.3\" y=\"-446.32\" font-family=\"Helvetica,sans-Serif\" font-size=\"14.00\">False</text>\n</g>\n<!-- 2 -->\n<g id=\"node3\" class=\"node\">\n<title>2</title>\n<path fill=\"#49a5e7\" stroke=\"black\" d=\"M330,-306C330,-306 216,-306 216,-306 210,-306 204,-300 204,-294 204,-294 204,-235 204,-235 204,-229 210,-223 216,-223 216,-223 330,-223 330,-223 336,-223 342,-229 342,-235 342,-235 342,-294 342,-294 342,-300 336,-306 330,-306\"/>\n<text text-anchor=\"middle\" x=\"273\" y=\"-290.8\" font-family=\"Helvetica,sans-Serif\" font-size=\"14.00\">stalk&#45;root_r &lt;= 0.5</text>\n<text text-anchor=\"middle\" x=\"273\" y=\"-275.8\" font-family=\"Helvetica,sans-Serif\" font-size=\"14.00\">gini = 0.136</text>\n<text text-anchor=\"middle\" x=\"273\" y=\"-260.8\" font-family=\"Helvetica,sans-Serif\" font-size=\"14.00\">samples = 2851</text>\n<text text-anchor=\"middle\" x=\"273\" y=\"-245.8\" font-family=\"Helvetica,sans-Serif\" font-size=\"14.00\">value = [209, 2642]</text>\n<text text-anchor=\"middle\" x=\"273\" y=\"-230.8\" font-family=\"Helvetica,sans-Serif\" font-size=\"14.00\">class = 식용</text>\n</g>\n<!-- 1&#45;&gt;2 -->\n<g id=\"edge2\" class=\"edge\">\n<title>1:&#45;&gt;2:</title>\n<path fill=\"none\" stroke=\"black\" d=\"M391.2,-341.91C376.04,-332.11 359.73,-321.56 344.21,-311.53\"/>\n<polygon fill=\"black\" stroke=\"black\" points=\"345.98,-308.51 335.69,-306.02 342.18,-314.39 345.98,-308.51\"/>\n</g>\n<!-- 7 -->\n<g id=\"node8\" class=\"node\">\n<title>7</title>\n<path fill=\"#e78b49\" stroke=\"black\" d=\"M533.5,-306C533.5,-306 374.5,-306 374.5,-306 368.5,-306 362.5,-300 362.5,-294 362.5,-294 362.5,-235 362.5,-235 362.5,-229 368.5,-223 374.5,-223 374.5,-223 533.5,-223 533.5,-223 539.5,-223 545.5,-229 545.5,-235 545.5,-235 545.5,-294 545.5,-294 545.5,-300 539.5,-306 533.5,-306\"/>\n<text text-anchor=\"middle\" x=\"454\" y=\"-290.8\" font-family=\"Helvetica,sans-Serif\" font-size=\"14.00\">spore&#45;print&#45;color_w &lt;= 0.5</text>\n<text text-anchor=\"middle\" x=\"454\" y=\"-275.8\" font-family=\"Helvetica,sans-Serif\" font-size=\"14.00\">gini = 0.137</text>\n<text text-anchor=\"middle\" x=\"454\" y=\"-260.8\" font-family=\"Helvetica,sans-Serif\" font-size=\"14.00\">samples = 379</text>\n<text text-anchor=\"middle\" x=\"454\" y=\"-245.8\" font-family=\"Helvetica,sans-Serif\" font-size=\"14.00\">value = [351, 28]</text>\n<text text-anchor=\"middle\" x=\"454\" y=\"-230.8\" font-family=\"Helvetica,sans-Serif\" font-size=\"14.00\">class = 독</text>\n</g>\n<!-- 1&#45;&gt;7 -->\n<g id=\"edge7\" class=\"edge\">\n<title>1:&#45;&gt;7:</title>\n<path fill=\"none\" stroke=\"black\" d=\"M454,-341.91C454,-333.65 454,-324.86 454,-316.3\"/>\n<polygon fill=\"black\" stroke=\"black\" points=\"457.5,-316.02 454,-306.02 450.5,-316.02 457.5,-316.02\"/>\n</g>\n<!-- 3 -->\n<g id=\"node4\" class=\"node\">\n<title>3</title>\n<path fill=\"#3fa0e6\" stroke=\"black\" d=\"M186,-187C186,-187 80,-187 80,-187 74,-187 68,-181 68,-175 68,-175 68,-116 68,-116 68,-110 74,-104 80,-104 80,-104 186,-104 186,-104 192,-104 198,-110 198,-116 198,-116 198,-175 198,-175 198,-181 192,-187 186,-187\"/>\n<text text-anchor=\"middle\" x=\"133\" y=\"-171.8\" font-family=\"Helvetica,sans-Serif\" font-size=\"14.00\">odor_a &lt;= 0.5</text>\n<text text-anchor=\"middle\" x=\"133\" y=\"-156.8\" font-family=\"Helvetica,sans-Serif\" font-size=\"14.00\">gini = 0.054</text>\n<text text-anchor=\"middle\" x=\"133\" y=\"-141.8\" font-family=\"Helvetica,sans-Serif\" font-size=\"14.00\">samples = 2717</text>\n<text text-anchor=\"middle\" x=\"133\" y=\"-126.8\" font-family=\"Helvetica,sans-Serif\" font-size=\"14.00\">value = [75, 2642]</text>\n<text text-anchor=\"middle\" x=\"133\" y=\"-111.8\" font-family=\"Helvetica,sans-Serif\" font-size=\"14.00\">class = 식용</text>\n</g>\n<!-- 2&#45;&gt;3 -->\n<g id=\"edge3\" class=\"edge\">\n<title>2:&#45;&gt;3:</title>\n<path fill=\"none\" stroke=\"black\" d=\"M224.43,-222.91C213.13,-213.47 201.02,-203.34 189.42,-193.65\"/>\n<polygon fill=\"black\" stroke=\"black\" points=\"191.4,-190.75 181.49,-187.02 186.92,-196.12 191.4,-190.75\"/>\n</g>\n<!-- 6 -->\n<g id=\"node7\" class=\"node\">\n<title>6</title>\n<path fill=\"#e58139\" stroke=\"black\" d=\"M317.5,-179.5C317.5,-179.5 228.5,-179.5 228.5,-179.5 222.5,-179.5 216.5,-173.5 216.5,-167.5 216.5,-167.5 216.5,-123.5 216.5,-123.5 216.5,-117.5 222.5,-111.5 228.5,-111.5 228.5,-111.5 317.5,-111.5 317.5,-111.5 323.5,-111.5 329.5,-117.5 329.5,-123.5 329.5,-123.5 329.5,-167.5 329.5,-167.5 329.5,-173.5 323.5,-179.5 317.5,-179.5\"/>\n<text text-anchor=\"middle\" x=\"273\" y=\"-164.3\" font-family=\"Helvetica,sans-Serif\" font-size=\"14.00\">gini = 0.0</text>\n<text text-anchor=\"middle\" x=\"273\" y=\"-149.3\" font-family=\"Helvetica,sans-Serif\" font-size=\"14.00\">samples = 134</text>\n<text text-anchor=\"middle\" x=\"273\" y=\"-134.3\" font-family=\"Helvetica,sans-Serif\" font-size=\"14.00\">value = [134, 0]</text>\n<text text-anchor=\"middle\" x=\"273\" y=\"-119.3\" font-family=\"Helvetica,sans-Serif\" font-size=\"14.00\">class = 독</text>\n</g>\n<!-- 2&#45;&gt;6 -->\n<g id=\"edge6\" class=\"edge\">\n<title>2:&#45;&gt;6:</title>\n<path fill=\"none\" stroke=\"black\" d=\"M273,-222.91C273,-212.2 273,-200.62 273,-189.78\"/>\n<polygon fill=\"black\" stroke=\"black\" points=\"276.5,-189.67 273,-179.67 269.5,-189.67 276.5,-189.67\"/>\n</g>\n<!-- 4 -->\n<g id=\"node5\" class=\"node\">\n<title>4</title>\n<path fill=\"#3c9ee5\" stroke=\"black\" d=\"M118,-68C118,-68 12,-68 12,-68 6,-68 0,-62 0,-56 0,-56 0,-12 0,-12 0,-6 6,0 12,0 12,0 118,0 118,0 124,0 130,-6 130,-12 130,-12 130,-56 130,-56 130,-62 124,-68 118,-68\"/>\n<text text-anchor=\"middle\" x=\"65\" y=\"-52.8\" font-family=\"Helvetica,sans-Serif\" font-size=\"14.00\">gini = 0.026</text>\n<text text-anchor=\"middle\" x=\"65\" y=\"-37.8\" font-family=\"Helvetica,sans-Serif\" font-size=\"14.00\">samples = 2677</text>\n<text text-anchor=\"middle\" x=\"65\" y=\"-22.8\" font-family=\"Helvetica,sans-Serif\" font-size=\"14.00\">value = [35, 2642]</text>\n<text text-anchor=\"middle\" x=\"65\" y=\"-7.8\" font-family=\"Helvetica,sans-Serif\" font-size=\"14.00\">class = 식용</text>\n</g>\n<!-- 3&#45;&gt;4 -->\n<g id=\"edge4\" class=\"edge\">\n<title>3:&#45;&gt;4:</title>\n<path fill=\"none\" stroke=\"black\" d=\"M107.68,-103.73C102.24,-94.97 96.49,-85.7 91.02,-76.91\"/>\n<polygon fill=\"black\" stroke=\"black\" points=\"93.93,-74.95 85.68,-68.3 87.98,-78.64 93.93,-74.95\"/>\n</g>\n<!-- 5 -->\n<g id=\"node6\" class=\"node\">\n<title>5</title>\n<path fill=\"#e58139\" stroke=\"black\" d=\"M241.5,-68C241.5,-68 160.5,-68 160.5,-68 154.5,-68 148.5,-62 148.5,-56 148.5,-56 148.5,-12 148.5,-12 148.5,-6 154.5,0 160.5,0 160.5,0 241.5,0 241.5,0 247.5,0 253.5,-6 253.5,-12 253.5,-12 253.5,-56 253.5,-56 253.5,-62 247.5,-68 241.5,-68\"/>\n<text text-anchor=\"middle\" x=\"201\" y=\"-52.8\" font-family=\"Helvetica,sans-Serif\" font-size=\"14.00\">gini = 0.0</text>\n<text text-anchor=\"middle\" x=\"201\" y=\"-37.8\" font-family=\"Helvetica,sans-Serif\" font-size=\"14.00\">samples = 40</text>\n<text text-anchor=\"middle\" x=\"201\" y=\"-22.8\" font-family=\"Helvetica,sans-Serif\" font-size=\"14.00\">value = [40, 0]</text>\n<text text-anchor=\"middle\" x=\"201\" y=\"-7.8\" font-family=\"Helvetica,sans-Serif\" font-size=\"14.00\">class = 독</text>\n</g>\n<!-- 3&#45;&gt;5 -->\n<g id=\"edge5\" class=\"edge\">\n<title>3:&#45;&gt;5:</title>\n<path fill=\"none\" stroke=\"black\" d=\"M158.32,-103.73C163.76,-94.97 169.51,-85.7 174.98,-76.91\"/>\n<polygon fill=\"black\" stroke=\"black\" points=\"178.02,-78.64 180.32,-68.3 172.07,-74.95 178.02,-78.64\"/>\n</g>\n<!-- 8 -->\n<g id=\"node9\" class=\"node\">\n<title>8</title>\n<path fill=\"#e58139\" stroke=\"black\" d=\"M448.5,-179.5C448.5,-179.5 359.5,-179.5 359.5,-179.5 353.5,-179.5 347.5,-173.5 347.5,-167.5 347.5,-167.5 347.5,-123.5 347.5,-123.5 347.5,-117.5 353.5,-111.5 359.5,-111.5 359.5,-111.5 448.5,-111.5 448.5,-111.5 454.5,-111.5 460.5,-117.5 460.5,-123.5 460.5,-123.5 460.5,-167.5 460.5,-167.5 460.5,-173.5 454.5,-179.5 448.5,-179.5\"/>\n<text text-anchor=\"middle\" x=\"404\" y=\"-164.3\" font-family=\"Helvetica,sans-Serif\" font-size=\"14.00\">gini = 0.0</text>\n<text text-anchor=\"middle\" x=\"404\" y=\"-149.3\" font-family=\"Helvetica,sans-Serif\" font-size=\"14.00\">samples = 351</text>\n<text text-anchor=\"middle\" x=\"404\" y=\"-134.3\" font-family=\"Helvetica,sans-Serif\" font-size=\"14.00\">value = [351, 0]</text>\n<text text-anchor=\"middle\" x=\"404\" y=\"-119.3\" font-family=\"Helvetica,sans-Serif\" font-size=\"14.00\">class = 독</text>\n</g>\n<!-- 7&#45;&gt;8 -->\n<g id=\"edge8\" class=\"edge\">\n<title>7:&#45;&gt;8:</title>\n<path fill=\"none\" stroke=\"black\" d=\"M436.65,-222.91C431.98,-211.98 426.92,-200.14 422.21,-189.11\"/>\n<polygon fill=\"black\" stroke=\"black\" points=\"425.32,-187.49 418.17,-179.67 418.89,-190.24 425.32,-187.49\"/>\n</g>\n<!-- 9 -->\n<g id=\"node10\" class=\"node\">\n<title>9</title>\n<path fill=\"#399de5\" stroke=\"black\" d=\"M571.5,-179.5C571.5,-179.5 490.5,-179.5 490.5,-179.5 484.5,-179.5 478.5,-173.5 478.5,-167.5 478.5,-167.5 478.5,-123.5 478.5,-123.5 478.5,-117.5 484.5,-111.5 490.5,-111.5 490.5,-111.5 571.5,-111.5 571.5,-111.5 577.5,-111.5 583.5,-117.5 583.5,-123.5 583.5,-123.5 583.5,-167.5 583.5,-167.5 583.5,-173.5 577.5,-179.5 571.5,-179.5\"/>\n<text text-anchor=\"middle\" x=\"531\" y=\"-164.3\" font-family=\"Helvetica,sans-Serif\" font-size=\"14.00\">gini = 0.0</text>\n<text text-anchor=\"middle\" x=\"531\" y=\"-149.3\" font-family=\"Helvetica,sans-Serif\" font-size=\"14.00\">samples = 28</text>\n<text text-anchor=\"middle\" x=\"531\" y=\"-134.3\" font-family=\"Helvetica,sans-Serif\" font-size=\"14.00\">value = [0, 28]</text>\n<text text-anchor=\"middle\" x=\"531\" y=\"-119.3\" font-family=\"Helvetica,sans-Serif\" font-size=\"14.00\">class = 식용</text>\n</g>\n<!-- 7&#45;&gt;9 -->\n<g id=\"edge9\" class=\"edge\">\n<title>7:&#45;&gt;9:</title>\n<path fill=\"none\" stroke=\"black\" d=\"M480.71,-222.91C488.12,-211.65 496.17,-199.42 503.62,-188.11\"/>\n<polygon fill=\"black\" stroke=\"black\" points=\"506.6,-189.94 509.17,-179.67 500.75,-186.1 506.6,-189.94\"/>\n</g>\n<!-- 11 -->\n<g id=\"node12\" class=\"node\">\n<title>11</title>\n<path fill=\"#e5823b\" stroke=\"black\" d=\"M779,-306C779,-306 577,-306 577,-306 571,-306 565,-300 565,-294 565,-294 565,-235 565,-235 565,-229 571,-223 577,-223 577,-223 779,-223 779,-223 785,-223 791,-229 791,-235 791,-235 791,-294 791,-294 791,-300 785,-306 779,-306\"/>\n<text text-anchor=\"middle\" x=\"678\" y=\"-290.8\" font-family=\"Helvetica,sans-Serif\" font-size=\"14.00\">stalk&#45;surface&#45;below&#45;ring_y &lt;= 0.5</text>\n<text text-anchor=\"middle\" x=\"678\" y=\"-275.8\" font-family=\"Helvetica,sans-Serif\" font-size=\"14.00\">gini = 0.023</text>\n<text text-anchor=\"middle\" x=\"678\" y=\"-260.8\" font-family=\"Helvetica,sans-Serif\" font-size=\"14.00\">samples = 2411</text>\n<text text-anchor=\"middle\" x=\"678\" y=\"-245.8\" font-family=\"Helvetica,sans-Serif\" font-size=\"14.00\">value = [2383, 28]</text>\n<text text-anchor=\"middle\" x=\"678\" y=\"-230.8\" font-family=\"Helvetica,sans-Serif\" font-size=\"14.00\">class = 독</text>\n</g>\n<!-- 10&#45;&gt;11 -->\n<g id=\"edge11\" class=\"edge\">\n<title>10:&#45;&gt;11:</title>\n<path fill=\"none\" stroke=\"black\" d=\"M678,-341.91C678,-333.65 678,-324.86 678,-316.3\"/>\n<polygon fill=\"black\" stroke=\"black\" points=\"681.5,-316.02 678,-306.02 674.5,-316.02 681.5,-316.02\"/>\n</g>\n<!-- 18 -->\n<g id=\"node19\" class=\"node\">\n<title>18</title>\n<path fill=\"#399de5\" stroke=\"black\" d=\"M902.5,-298.5C902.5,-298.5 821.5,-298.5 821.5,-298.5 815.5,-298.5 809.5,-292.5 809.5,-286.5 809.5,-286.5 809.5,-242.5 809.5,-242.5 809.5,-236.5 815.5,-230.5 821.5,-230.5 821.5,-230.5 902.5,-230.5 902.5,-230.5 908.5,-230.5 914.5,-236.5 914.5,-242.5 914.5,-242.5 914.5,-286.5 914.5,-286.5 914.5,-292.5 908.5,-298.5 902.5,-298.5\"/>\n<text text-anchor=\"middle\" x=\"862\" y=\"-283.3\" font-family=\"Helvetica,sans-Serif\" font-size=\"14.00\">gini = 0.0</text>\n<text text-anchor=\"middle\" x=\"862\" y=\"-268.3\" font-family=\"Helvetica,sans-Serif\" font-size=\"14.00\">samples = 45</text>\n<text text-anchor=\"middle\" x=\"862\" y=\"-253.3\" font-family=\"Helvetica,sans-Serif\" font-size=\"14.00\">value = [0, 45]</text>\n<text text-anchor=\"middle\" x=\"862\" y=\"-238.3\" font-family=\"Helvetica,sans-Serif\" font-size=\"14.00\">class = 식용</text>\n</g>\n<!-- 10&#45;&gt;18 -->\n<g id=\"edge18\" class=\"edge\">\n<title>10:&#45;&gt;18:</title>\n<path fill=\"none\" stroke=\"black\" d=\"M743.36,-341.83C761.72,-330.32 781.68,-317.73 800,-306 801.07,-305.32 802.14,-304.63 803.22,-303.93\"/>\n<polygon fill=\"black\" stroke=\"black\" points=\"805.12,-306.87 811.63,-298.51 801.33,-300.99 805.12,-306.87\"/>\n</g>\n<!-- 12 -->\n<g id=\"node13\" class=\"node\">\n<title>12</title>\n<path fill=\"#e58139\" stroke=\"black\" d=\"M742,-187C742,-187 614,-187 614,-187 608,-187 602,-181 602,-175 602,-175 602,-116 602,-116 602,-110 608,-104 614,-104 614,-104 742,-104 742,-104 748,-104 754,-110 754,-116 754,-116 754,-175 754,-175 754,-181 748,-187 742,-187\"/>\n<text text-anchor=\"middle\" x=\"678\" y=\"-171.8\" font-family=\"Helvetica,sans-Serif\" font-size=\"14.00\">cap&#45;surface_g &lt;= 0.5</text>\n<text text-anchor=\"middle\" x=\"678\" y=\"-156.8\" font-family=\"Helvetica,sans-Serif\" font-size=\"14.00\">gini = 0.003</text>\n<text text-anchor=\"middle\" x=\"678\" y=\"-141.8\" font-family=\"Helvetica,sans-Serif\" font-size=\"14.00\">samples = 2377</text>\n<text text-anchor=\"middle\" x=\"678\" y=\"-126.8\" font-family=\"Helvetica,sans-Serif\" font-size=\"14.00\">value = [2373, 4]</text>\n<text text-anchor=\"middle\" x=\"678\" y=\"-111.8\" font-family=\"Helvetica,sans-Serif\" font-size=\"14.00\">class = 독</text>\n</g>\n<!-- 11&#45;&gt;12 -->\n<g id=\"edge12\" class=\"edge\">\n<title>11:&#45;&gt;12:</title>\n<path fill=\"none\" stroke=\"black\" d=\"M678,-222.91C678,-214.65 678,-205.86 678,-197.3\"/>\n<polygon fill=\"black\" stroke=\"black\" points=\"681.5,-197.02 678,-187.02 674.5,-197.02 681.5,-197.02\"/>\n</g>\n<!-- 15 -->\n<g id=\"node16\" class=\"node\">\n<title>15</title>\n<path fill=\"#8bc6f0\" stroke=\"black\" d=\"M892,-187C892,-187 784,-187 784,-187 778,-187 772,-181 772,-175 772,-175 772,-116 772,-116 772,-110 778,-104 784,-104 784,-104 892,-104 892,-104 898,-104 904,-110 904,-116 904,-116 904,-175 904,-175 904,-181 898,-187 892,-187\"/>\n<text text-anchor=\"middle\" x=\"838\" y=\"-171.8\" font-family=\"Helvetica,sans-Serif\" font-size=\"14.00\">ring&#45;type_p &lt;= 0.5</text>\n<text text-anchor=\"middle\" x=\"838\" y=\"-156.8\" font-family=\"Helvetica,sans-Serif\" font-size=\"14.00\">gini = 0.415</text>\n<text text-anchor=\"middle\" x=\"838\" y=\"-141.8\" font-family=\"Helvetica,sans-Serif\" font-size=\"14.00\">samples = 34</text>\n<text text-anchor=\"middle\" x=\"838\" y=\"-126.8\" font-family=\"Helvetica,sans-Serif\" font-size=\"14.00\">value = [10, 24]</text>\n<text text-anchor=\"middle\" x=\"838\" y=\"-111.8\" font-family=\"Helvetica,sans-Serif\" font-size=\"14.00\">class = 식용</text>\n</g>\n<!-- 11&#45;&gt;15 -->\n<g id=\"edge15\" class=\"edge\">\n<title>11:&#45;&gt;15:</title>\n<path fill=\"none\" stroke=\"black\" d=\"M733.51,-222.91C746.67,-213.29 760.8,-202.95 774.29,-193.09\"/>\n<polygon fill=\"black\" stroke=\"black\" points=\"776.58,-195.75 782.59,-187.02 772.45,-190.1 776.58,-195.75\"/>\n</g>\n<!-- 13 -->\n<g id=\"node14\" class=\"node\">\n<title>13</title>\n<path fill=\"#e58139\" stroke=\"black\" d=\"M608,-68C608,-68 510,-68 510,-68 504,-68 498,-62 498,-56 498,-56 498,-12 498,-12 498,-6 504,0 510,0 510,0 608,0 608,0 614,0 620,-6 620,-12 620,-12 620,-56 620,-56 620,-62 614,-68 608,-68\"/>\n<text text-anchor=\"middle\" x=\"559\" y=\"-52.8\" font-family=\"Helvetica,sans-Serif\" font-size=\"14.00\">gini = 0.003</text>\n<text text-anchor=\"middle\" x=\"559\" y=\"-37.8\" font-family=\"Helvetica,sans-Serif\" font-size=\"14.00\">samples = 2376</text>\n<text text-anchor=\"middle\" x=\"559\" y=\"-22.8\" font-family=\"Helvetica,sans-Serif\" font-size=\"14.00\">value = [2373, 3]</text>\n<text text-anchor=\"middle\" x=\"559\" y=\"-7.8\" font-family=\"Helvetica,sans-Serif\" font-size=\"14.00\">class = 독</text>\n</g>\n<!-- 12&#45;&gt;13 -->\n<g id=\"edge13\" class=\"edge\">\n<title>12:&#45;&gt;13:</title>\n<path fill=\"none\" stroke=\"black\" d=\"M633.69,-103.73C623.58,-94.42 612.84,-84.54 602.75,-75.26\"/>\n<polygon fill=\"black\" stroke=\"black\" points=\"604.92,-72.5 595.19,-68.3 600.18,-77.65 604.92,-72.5\"/>\n</g>\n<!-- 14 -->\n<g id=\"node15\" class=\"node\">\n<title>14</title>\n<path fill=\"#399de5\" stroke=\"black\" d=\"M726,-68C726,-68 650,-68 650,-68 644,-68 638,-62 638,-56 638,-56 638,-12 638,-12 638,-6 644,0 650,0 650,0 726,0 726,0 732,0 738,-6 738,-12 738,-12 738,-56 738,-56 738,-62 732,-68 726,-68\"/>\n<text text-anchor=\"middle\" x=\"688\" y=\"-52.8\" font-family=\"Helvetica,sans-Serif\" font-size=\"14.00\">gini = 0.0</text>\n<text text-anchor=\"middle\" x=\"688\" y=\"-37.8\" font-family=\"Helvetica,sans-Serif\" font-size=\"14.00\">samples = 1</text>\n<text text-anchor=\"middle\" x=\"688\" y=\"-22.8\" font-family=\"Helvetica,sans-Serif\" font-size=\"14.00\">value = [0, 1]</text>\n<text text-anchor=\"middle\" x=\"688\" y=\"-7.8\" font-family=\"Helvetica,sans-Serif\" font-size=\"14.00\">class = 식용</text>\n</g>\n<!-- 12&#45;&gt;14 -->\n<g id=\"edge14\" class=\"edge\">\n<title>12:&#45;&gt;14:</title>\n<path fill=\"none\" stroke=\"black\" d=\"M681.72,-103.73C682.48,-95.43 683.28,-86.67 684.05,-78.28\"/>\n<polygon fill=\"black\" stroke=\"black\" points=\"687.53,-78.58 684.96,-68.3 680.56,-77.94 687.53,-78.58\"/>\n</g>\n<!-- 16 -->\n<g id=\"node17\" class=\"node\">\n<title>16</title>\n<path fill=\"#399de5\" stroke=\"black\" d=\"M868.5,-68C868.5,-68 787.5,-68 787.5,-68 781.5,-68 775.5,-62 775.5,-56 775.5,-56 775.5,-12 775.5,-12 775.5,-6 781.5,0 787.5,0 787.5,0 868.5,0 868.5,0 874.5,0 880.5,-6 880.5,-12 880.5,-12 880.5,-56 880.5,-56 880.5,-62 874.5,-68 868.5,-68\"/>\n<text text-anchor=\"middle\" x=\"828\" y=\"-52.8\" font-family=\"Helvetica,sans-Serif\" font-size=\"14.00\">gini = 0.0</text>\n<text text-anchor=\"middle\" x=\"828\" y=\"-37.8\" font-family=\"Helvetica,sans-Serif\" font-size=\"14.00\">samples = 24</text>\n<text text-anchor=\"middle\" x=\"828\" y=\"-22.8\" font-family=\"Helvetica,sans-Serif\" font-size=\"14.00\">value = [0, 24]</text>\n<text text-anchor=\"middle\" x=\"828\" y=\"-7.8\" font-family=\"Helvetica,sans-Serif\" font-size=\"14.00\">class = 식용</text>\n</g>\n<!-- 15&#45;&gt;16 -->\n<g id=\"edge16\" class=\"edge\">\n<title>15:&#45;&gt;16:</title>\n<path fill=\"none\" stroke=\"black\" d=\"M834.28,-103.73C833.52,-95.43 832.72,-86.67 831.95,-78.28\"/>\n<polygon fill=\"black\" stroke=\"black\" points=\"835.44,-77.94 831.04,-68.3 828.47,-78.58 835.44,-77.94\"/>\n</g>\n<!-- 17 -->\n<g id=\"node18\" class=\"node\">\n<title>17</title>\n<path fill=\"#e58139\" stroke=\"black\" d=\"M991.5,-68C991.5,-68 910.5,-68 910.5,-68 904.5,-68 898.5,-62 898.5,-56 898.5,-56 898.5,-12 898.5,-12 898.5,-6 904.5,0 910.5,0 910.5,0 991.5,0 991.5,0 997.5,0 1003.5,-6 1003.5,-12 1003.5,-12 1003.5,-56 1003.5,-56 1003.5,-62 997.5,-68 991.5,-68\"/>\n<text text-anchor=\"middle\" x=\"951\" y=\"-52.8\" font-family=\"Helvetica,sans-Serif\" font-size=\"14.00\">gini = 0.0</text>\n<text text-anchor=\"middle\" x=\"951\" y=\"-37.8\" font-family=\"Helvetica,sans-Serif\" font-size=\"14.00\">samples = 10</text>\n<text text-anchor=\"middle\" x=\"951\" y=\"-22.8\" font-family=\"Helvetica,sans-Serif\" font-size=\"14.00\">value = [10, 0]</text>\n<text text-anchor=\"middle\" x=\"951\" y=\"-7.8\" font-family=\"Helvetica,sans-Serif\" font-size=\"14.00\">class = 독</text>\n</g>\n<!-- 15&#45;&gt;17 -->\n<g id=\"edge17\" class=\"edge\">\n<title>15:&#45;&gt;17:</title>\n<path fill=\"none\" stroke=\"black\" d=\"M880.08,-103.73C889.68,-94.42 899.87,-84.54 909.45,-75.26\"/>\n<polygon fill=\"black\" stroke=\"black\" points=\"911.89,-77.77 916.64,-68.3 907.02,-72.75 911.89,-77.77\"/>\n</g>\n</g>\n</svg>\n",
      "text/plain": [
       "<graphviz.sources.Source at 0x1efde9c3d00>"
      ]
     },
     "metadata": {},
     "output_type": "display_data"
    }
   ],
   "source": [
    "export_graphviz(model_dt2, out_file=\"tree.dot\", \n",
    "                class_names=[\"독\", \"식용\"],\n",
    "                feature_names=one_hot_X.columns,\n",
    "                impurity=True,\n",
    "                filled=True,\n",
    "                rounded=True)\n",
    "\n",
    "with open(\"tree.dot\", encoding=\"UTF8\") as f :\n",
    "    dot_graph = f.read()\n",
    "\n",
    "\n",
    "display(graphviz.Source(dot_graph))"
   ]
  },
  {
   "attachments": {},
   "cell_type": "markdown",
   "id": "cf1dee22",
   "metadata": {},
   "source": [
    "## max_leaf_nodes를 이용한 사전 가지치기"
   ]
  },
  {
   "cell_type": "code",
   "execution_count": 60,
   "id": "b49952de",
   "metadata": {},
   "outputs": [
    {
     "data": {
      "image/svg+xml": "<?xml version=\"1.0\" encoding=\"UTF-8\" standalone=\"no\"?>\n<!DOCTYPE svg PUBLIC \"-//W3C//DTD SVG 1.1//EN\"\n \"http://www.w3.org/Graphics/SVG/1.1/DTD/svg11.dtd\">\n<!-- Generated by graphviz version 2.44.2~dev.20201112.1525 (20201112.1525)\n -->\n<!-- Title: Tree Pages: 1 -->\n<svg width=\"814pt\" height=\"671pt\"\n viewBox=\"0.00 0.00 813.50 671.00\" xmlns=\"http://www.w3.org/2000/svg\" xmlns:xlink=\"http://www.w3.org/1999/xlink\">\n<g id=\"graph0\" class=\"graph\" transform=\"scale(1 1) rotate(0) translate(4 667)\">\n<title>Tree</title>\n<polygon fill=\"white\" stroke=\"transparent\" points=\"-4,4 -4,-667 809.5,-667 809.5,4 -4,4\"/>\n<!-- 0 -->\n<g id=\"node1\" class=\"node\">\n<title>0</title>\n<path fill=\"#fdf6f2\" stroke=\"black\" d=\"M598,-663C598,-663 476,-663 476,-663 470,-663 464,-657 464,-651 464,-651 464,-592 464,-592 464,-586 470,-580 476,-580 476,-580 598,-580 598,-580 604,-580 610,-586 610,-592 610,-592 610,-651 610,-651 610,-657 604,-663 598,-663\"/>\n<text text-anchor=\"middle\" x=\"537\" y=\"-647.8\" font-family=\"Helvetica,sans-Serif\" font-size=\"14.00\">odor_n &lt;= 0.5</text>\n<text text-anchor=\"middle\" x=\"537\" y=\"-632.8\" font-family=\"Helvetica,sans-Serif\" font-size=\"14.00\">gini = 0.499</text>\n<text text-anchor=\"middle\" x=\"537\" y=\"-617.8\" font-family=\"Helvetica,sans-Serif\" font-size=\"14.00\">samples = 5686</text>\n<text text-anchor=\"middle\" x=\"537\" y=\"-602.8\" font-family=\"Helvetica,sans-Serif\" font-size=\"14.00\">value = [2943, 2743]</text>\n<text text-anchor=\"middle\" x=\"537\" y=\"-587.8\" font-family=\"Helvetica,sans-Serif\" font-size=\"14.00\">class = 독</text>\n</g>\n<!-- 1 -->\n<g id=\"node2\" class=\"node\">\n<title>1</title>\n<path fill=\"#63b2ea\" stroke=\"black\" d=\"M506,-544C506,-544 392,-544 392,-544 386,-544 380,-538 380,-532 380,-532 380,-473 380,-473 380,-467 386,-461 392,-461 392,-461 506,-461 506,-461 512,-461 518,-467 518,-473 518,-473 518,-532 518,-532 518,-538 512,-544 506,-544\"/>\n<text text-anchor=\"middle\" x=\"449\" y=\"-528.8\" font-family=\"Helvetica,sans-Serif\" font-size=\"14.00\">stalk&#45;root_c &lt;= 0.5</text>\n<text text-anchor=\"middle\" x=\"449\" y=\"-513.8\" font-family=\"Helvetica,sans-Serif\" font-size=\"14.00\">gini = 0.287</text>\n<text text-anchor=\"middle\" x=\"449\" y=\"-498.8\" font-family=\"Helvetica,sans-Serif\" font-size=\"14.00\">samples = 3230</text>\n<text text-anchor=\"middle\" x=\"449\" y=\"-483.8\" font-family=\"Helvetica,sans-Serif\" font-size=\"14.00\">value = [560, 2670]</text>\n<text text-anchor=\"middle\" x=\"449\" y=\"-468.8\" font-family=\"Helvetica,sans-Serif\" font-size=\"14.00\">class = 식용</text>\n</g>\n<!-- 0&#45;&gt;1 -->\n<g id=\"edge1\" class=\"edge\">\n<title>0:&#45;&gt;1:</title>\n<path fill=\"none\" stroke=\"black\" d=\"M506.47,-579.91C499.71,-570.92 492.48,-561.32 485.52,-552.05\"/>\n<polygon fill=\"black\" stroke=\"black\" points=\"488.29,-549.91 479.48,-544.02 482.69,-554.12 488.29,-549.91\"/>\n<text text-anchor=\"middle\" x=\"475.98\" y=\"-565.07\" font-family=\"Helvetica,sans-Serif\" font-size=\"14.00\">True</text>\n</g>\n<!-- 2 -->\n<g id=\"node11\" class=\"node\">\n<title>2</title>\n<path fill=\"#e6853f\" stroke=\"black\" d=\"M702,-544C702,-544 548,-544 548,-544 542,-544 536,-538 536,-532 536,-532 536,-473 536,-473 536,-467 542,-461 548,-461 548,-461 702,-461 702,-461 708,-461 714,-467 714,-473 714,-473 714,-532 714,-532 714,-538 708,-544 702,-544\"/>\n<text text-anchor=\"middle\" x=\"625\" y=\"-528.8\" font-family=\"Helvetica,sans-Serif\" font-size=\"14.00\">spore&#45;print&#45;color_r &lt;= 0.5</text>\n<text text-anchor=\"middle\" x=\"625\" y=\"-513.8\" font-family=\"Helvetica,sans-Serif\" font-size=\"14.00\">gini = 0.058</text>\n<text text-anchor=\"middle\" x=\"625\" y=\"-498.8\" font-family=\"Helvetica,sans-Serif\" font-size=\"14.00\">samples = 2456</text>\n<text text-anchor=\"middle\" x=\"625\" y=\"-483.8\" font-family=\"Helvetica,sans-Serif\" font-size=\"14.00\">value = [2383, 73]</text>\n<text text-anchor=\"middle\" x=\"625\" y=\"-468.8\" font-family=\"Helvetica,sans-Serif\" font-size=\"14.00\">class = 독</text>\n</g>\n<!-- 0&#45;&gt;2 -->\n<g id=\"edge10\" class=\"edge\">\n<title>0:&#45;&gt;2:</title>\n<path fill=\"none\" stroke=\"black\" d=\"M567.53,-579.91C574.29,-570.92 581.52,-561.32 588.48,-552.05\"/>\n<polygon fill=\"black\" stroke=\"black\" points=\"591.31,-554.12 594.52,-544.02 585.71,-549.91 591.31,-554.12\"/>\n<text text-anchor=\"middle\" x=\"598.02\" y=\"-565.07\" font-family=\"Helvetica,sans-Serif\" font-size=\"14.00\">False</text>\n</g>\n<!-- 3 -->\n<g id=\"node3\" class=\"node\">\n<title>3</title>\n<path fill=\"#49a5e7\" stroke=\"black\" d=\"M366,-425C366,-425 164,-425 164,-425 158,-425 152,-419 152,-413 152,-413 152,-354 152,-354 152,-348 158,-342 164,-342 164,-342 366,-342 366,-342 372,-342 378,-348 378,-354 378,-354 378,-413 378,-413 378,-419 372,-425 366,-425\"/>\n<text text-anchor=\"middle\" x=\"265\" y=\"-409.8\" font-family=\"Helvetica,sans-Serif\" font-size=\"14.00\">stalk&#45;surface&#45;below&#45;ring_y &lt;= 0.5</text>\n<text text-anchor=\"middle\" x=\"265\" y=\"-394.8\" font-family=\"Helvetica,sans-Serif\" font-size=\"14.00\">gini = 0.136</text>\n<text text-anchor=\"middle\" x=\"265\" y=\"-379.8\" font-family=\"Helvetica,sans-Serif\" font-size=\"14.00\">samples = 2851</text>\n<text text-anchor=\"middle\" x=\"265\" y=\"-364.8\" font-family=\"Helvetica,sans-Serif\" font-size=\"14.00\">value = [209, 2642]</text>\n<text text-anchor=\"middle\" x=\"265\" y=\"-349.8\" font-family=\"Helvetica,sans-Serif\" font-size=\"14.00\">class = 식용</text>\n</g>\n<!-- 1&#45;&gt;3 -->\n<g id=\"edge2\" class=\"edge\">\n<title>1:&#45;&gt;3:</title>\n<path fill=\"none\" stroke=\"black\" d=\"M385.16,-460.91C369.75,-451.11 353.17,-440.56 337.39,-430.53\"/>\n<polygon fill=\"black\" stroke=\"black\" points=\"339.04,-427.43 328.73,-425.02 335.29,-433.34 339.04,-427.43\"/>\n</g>\n<!-- 4 -->\n<g id=\"node10\" class=\"node\">\n<title>4</title>\n<path fill=\"#e78b49\" stroke=\"black\" d=\"M506,-417.5C506,-417.5 408,-417.5 408,-417.5 402,-417.5 396,-411.5 396,-405.5 396,-405.5 396,-361.5 396,-361.5 396,-355.5 402,-349.5 408,-349.5 408,-349.5 506,-349.5 506,-349.5 512,-349.5 518,-355.5 518,-361.5 518,-361.5 518,-405.5 518,-405.5 518,-411.5 512,-417.5 506,-417.5\"/>\n<text text-anchor=\"middle\" x=\"457\" y=\"-402.3\" font-family=\"Helvetica,sans-Serif\" font-size=\"14.00\">gini = 0.137</text>\n<text text-anchor=\"middle\" x=\"457\" y=\"-387.3\" font-family=\"Helvetica,sans-Serif\" font-size=\"14.00\">samples = 379</text>\n<text text-anchor=\"middle\" x=\"457\" y=\"-372.3\" font-family=\"Helvetica,sans-Serif\" font-size=\"14.00\">value = [351, 28]</text>\n<text text-anchor=\"middle\" x=\"457\" y=\"-357.3\" font-family=\"Helvetica,sans-Serif\" font-size=\"14.00\">class = 독</text>\n</g>\n<!-- 1&#45;&gt;4 -->\n<g id=\"edge9\" class=\"edge\">\n<title>1:&#45;&gt;4:</title>\n<path fill=\"none\" stroke=\"black\" d=\"M451.78,-460.91C452.51,-450.2 453.3,-438.62 454.04,-427.78\"/>\n<polygon fill=\"black\" stroke=\"black\" points=\"457.54,-427.88 454.73,-417.67 450.56,-427.4 457.54,-427.88\"/>\n</g>\n<!-- 5 -->\n<g id=\"node4\" class=\"node\">\n<title>5</title>\n<path fill=\"#3fa0e6\" stroke=\"black\" d=\"M248,-306C248,-306 142,-306 142,-306 136,-306 130,-300 130,-294 130,-294 130,-235 130,-235 130,-229 136,-223 142,-223 142,-223 248,-223 248,-223 254,-223 260,-229 260,-235 260,-235 260,-294 260,-294 260,-300 254,-306 248,-306\"/>\n<text text-anchor=\"middle\" x=\"195\" y=\"-290.8\" font-family=\"Helvetica,sans-Serif\" font-size=\"14.00\">odor_a &lt;= 0.5</text>\n<text text-anchor=\"middle\" x=\"195\" y=\"-275.8\" font-family=\"Helvetica,sans-Serif\" font-size=\"14.00\">gini = 0.054</text>\n<text text-anchor=\"middle\" x=\"195\" y=\"-260.8\" font-family=\"Helvetica,sans-Serif\" font-size=\"14.00\">samples = 2717</text>\n<text text-anchor=\"middle\" x=\"195\" y=\"-245.8\" font-family=\"Helvetica,sans-Serif\" font-size=\"14.00\">value = [75, 2642]</text>\n<text text-anchor=\"middle\" x=\"195\" y=\"-230.8\" font-family=\"Helvetica,sans-Serif\" font-size=\"14.00\">class = 식용</text>\n</g>\n<!-- 3&#45;&gt;5 -->\n<g id=\"edge3\" class=\"edge\">\n<title>3:&#45;&gt;5:</title>\n<path fill=\"none\" stroke=\"black\" d=\"M240.71,-341.91C235.45,-333.1 229.82,-323.7 224.38,-314.61\"/>\n<polygon fill=\"black\" stroke=\"black\" points=\"227.38,-312.81 219.24,-306.02 221.37,-316.4 227.38,-312.81\"/>\n</g>\n<!-- 6 -->\n<g id=\"node9\" class=\"node\">\n<title>6</title>\n<path fill=\"#e58139\" stroke=\"black\" d=\"M379.5,-298.5C379.5,-298.5 290.5,-298.5 290.5,-298.5 284.5,-298.5 278.5,-292.5 278.5,-286.5 278.5,-286.5 278.5,-242.5 278.5,-242.5 278.5,-236.5 284.5,-230.5 290.5,-230.5 290.5,-230.5 379.5,-230.5 379.5,-230.5 385.5,-230.5 391.5,-236.5 391.5,-242.5 391.5,-242.5 391.5,-286.5 391.5,-286.5 391.5,-292.5 385.5,-298.5 379.5,-298.5\"/>\n<text text-anchor=\"middle\" x=\"335\" y=\"-283.3\" font-family=\"Helvetica,sans-Serif\" font-size=\"14.00\">gini = 0.0</text>\n<text text-anchor=\"middle\" x=\"335\" y=\"-268.3\" font-family=\"Helvetica,sans-Serif\" font-size=\"14.00\">samples = 134</text>\n<text text-anchor=\"middle\" x=\"335\" y=\"-253.3\" font-family=\"Helvetica,sans-Serif\" font-size=\"14.00\">value = [134, 0]</text>\n<text text-anchor=\"middle\" x=\"335\" y=\"-238.3\" font-family=\"Helvetica,sans-Serif\" font-size=\"14.00\">class = 독</text>\n</g>\n<!-- 3&#45;&gt;6 -->\n<g id=\"edge8\" class=\"edge\">\n<title>3:&#45;&gt;6:</title>\n<path fill=\"none\" stroke=\"black\" d=\"M289.29,-341.91C295.95,-330.76 303.2,-318.66 309.91,-307.44\"/>\n<polygon fill=\"black\" stroke=\"black\" points=\"313.03,-309.05 315.16,-298.67 307.02,-305.45 313.03,-309.05\"/>\n</g>\n<!-- 9 -->\n<g id=\"node5\" class=\"node\">\n<title>9</title>\n<path fill=\"#3c9ee5\" stroke=\"black\" d=\"M180,-187C180,-187 74,-187 74,-187 68,-187 62,-181 62,-175 62,-175 62,-116 62,-116 62,-110 68,-104 74,-104 74,-104 180,-104 180,-104 186,-104 192,-110 192,-116 192,-116 192,-175 192,-175 192,-181 186,-187 180,-187\"/>\n<text text-anchor=\"middle\" x=\"127\" y=\"-171.8\" font-family=\"Helvetica,sans-Serif\" font-size=\"14.00\">odor_l &lt;= 0.5</text>\n<text text-anchor=\"middle\" x=\"127\" y=\"-156.8\" font-family=\"Helvetica,sans-Serif\" font-size=\"14.00\">gini = 0.026</text>\n<text text-anchor=\"middle\" x=\"127\" y=\"-141.8\" font-family=\"Helvetica,sans-Serif\" font-size=\"14.00\">samples = 2677</text>\n<text text-anchor=\"middle\" x=\"127\" y=\"-126.8\" font-family=\"Helvetica,sans-Serif\" font-size=\"14.00\">value = [35, 2642]</text>\n<text text-anchor=\"middle\" x=\"127\" y=\"-111.8\" font-family=\"Helvetica,sans-Serif\" font-size=\"14.00\">class = 식용</text>\n</g>\n<!-- 5&#45;&gt;9 -->\n<g id=\"edge4\" class=\"edge\">\n<title>5:&#45;&gt;9:</title>\n<path fill=\"none\" stroke=\"black\" d=\"M171.41,-222.91C166.34,-214.2 160.94,-204.9 155.71,-195.89\"/>\n<polygon fill=\"black\" stroke=\"black\" points=\"158.6,-193.91 150.55,-187.02 152.55,-197.43 158.6,-193.91\"/>\n</g>\n<!-- 10 -->\n<g id=\"node8\" class=\"node\">\n<title>10</title>\n<path fill=\"#e58139\" stroke=\"black\" d=\"M303.5,-179.5C303.5,-179.5 222.5,-179.5 222.5,-179.5 216.5,-179.5 210.5,-173.5 210.5,-167.5 210.5,-167.5 210.5,-123.5 210.5,-123.5 210.5,-117.5 216.5,-111.5 222.5,-111.5 222.5,-111.5 303.5,-111.5 303.5,-111.5 309.5,-111.5 315.5,-117.5 315.5,-123.5 315.5,-123.5 315.5,-167.5 315.5,-167.5 315.5,-173.5 309.5,-179.5 303.5,-179.5\"/>\n<text text-anchor=\"middle\" x=\"263\" y=\"-164.3\" font-family=\"Helvetica,sans-Serif\" font-size=\"14.00\">gini = 0.0</text>\n<text text-anchor=\"middle\" x=\"263\" y=\"-149.3\" font-family=\"Helvetica,sans-Serif\" font-size=\"14.00\">samples = 40</text>\n<text text-anchor=\"middle\" x=\"263\" y=\"-134.3\" font-family=\"Helvetica,sans-Serif\" font-size=\"14.00\">value = [40, 0]</text>\n<text text-anchor=\"middle\" x=\"263\" y=\"-119.3\" font-family=\"Helvetica,sans-Serif\" font-size=\"14.00\">class = 독</text>\n</g>\n<!-- 5&#45;&gt;10 -->\n<g id=\"edge7\" class=\"edge\">\n<title>5:&#45;&gt;10:</title>\n<path fill=\"none\" stroke=\"black\" d=\"M218.59,-222.91C225.07,-211.76 232.1,-199.66 238.63,-188.44\"/>\n<polygon fill=\"black\" stroke=\"black\" points=\"241.72,-190.07 243.72,-179.67 235.67,-186.55 241.72,-190.07\"/>\n</g>\n<!-- 11 -->\n<g id=\"node6\" class=\"node\">\n<title>11</title>\n<path fill=\"#399de5\" stroke=\"black\" d=\"M110,-68C110,-68 12,-68 12,-68 6,-68 0,-62 0,-56 0,-56 0,-12 0,-12 0,-6 6,0 12,0 12,0 110,0 110,0 116,0 122,-6 122,-12 122,-12 122,-56 122,-56 122,-62 116,-68 110,-68\"/>\n<text text-anchor=\"middle\" x=\"61\" y=\"-52.8\" font-family=\"Helvetica,sans-Serif\" font-size=\"14.00\">gini = 0.0</text>\n<text text-anchor=\"middle\" x=\"61\" y=\"-37.8\" font-family=\"Helvetica,sans-Serif\" font-size=\"14.00\">samples = 2642</text>\n<text text-anchor=\"middle\" x=\"61\" y=\"-22.8\" font-family=\"Helvetica,sans-Serif\" font-size=\"14.00\">value = [0, 2642]</text>\n<text text-anchor=\"middle\" x=\"61\" y=\"-7.8\" font-family=\"Helvetica,sans-Serif\" font-size=\"14.00\">class = 식용</text>\n</g>\n<!-- 9&#45;&gt;11 -->\n<g id=\"edge5\" class=\"edge\">\n<title>9:&#45;&gt;11:</title>\n<path fill=\"none\" stroke=\"black\" d=\"M102.42,-103.73C97.15,-94.97 91.56,-85.7 86.26,-76.91\"/>\n<polygon fill=\"black\" stroke=\"black\" points=\"89.23,-75.06 81.07,-68.3 83.24,-78.67 89.23,-75.06\"/>\n</g>\n<!-- 12 -->\n<g id=\"node7\" class=\"node\">\n<title>12</title>\n<path fill=\"#e58139\" stroke=\"black\" d=\"M233.5,-68C233.5,-68 152.5,-68 152.5,-68 146.5,-68 140.5,-62 140.5,-56 140.5,-56 140.5,-12 140.5,-12 140.5,-6 146.5,0 152.5,0 152.5,0 233.5,0 233.5,0 239.5,0 245.5,-6 245.5,-12 245.5,-12 245.5,-56 245.5,-56 245.5,-62 239.5,-68 233.5,-68\"/>\n<text text-anchor=\"middle\" x=\"193\" y=\"-52.8\" font-family=\"Helvetica,sans-Serif\" font-size=\"14.00\">gini = 0.0</text>\n<text text-anchor=\"middle\" x=\"193\" y=\"-37.8\" font-family=\"Helvetica,sans-Serif\" font-size=\"14.00\">samples = 35</text>\n<text text-anchor=\"middle\" x=\"193\" y=\"-22.8\" font-family=\"Helvetica,sans-Serif\" font-size=\"14.00\">value = [35, 0]</text>\n<text text-anchor=\"middle\" x=\"193\" y=\"-7.8\" font-family=\"Helvetica,sans-Serif\" font-size=\"14.00\">class = 독</text>\n</g>\n<!-- 9&#45;&gt;12 -->\n<g id=\"edge6\" class=\"edge\">\n<title>9:&#45;&gt;12:</title>\n<path fill=\"none\" stroke=\"black\" d=\"M151.58,-103.73C156.85,-94.97 162.44,-85.7 167.74,-76.91\"/>\n<polygon fill=\"black\" stroke=\"black\" points=\"170.76,-78.67 172.93,-68.3 164.77,-75.06 170.76,-78.67\"/>\n</g>\n<!-- 7 -->\n<g id=\"node12\" class=\"node\">\n<title>7</title>\n<path fill=\"#e5823b\" stroke=\"black\" d=\"M670,-417.5C670,-417.5 564,-417.5 564,-417.5 558,-417.5 552,-411.5 552,-405.5 552,-405.5 552,-361.5 552,-361.5 552,-355.5 558,-349.5 564,-349.5 564,-349.5 670,-349.5 670,-349.5 676,-349.5 682,-355.5 682,-361.5 682,-361.5 682,-405.5 682,-405.5 682,-411.5 676,-417.5 670,-417.5\"/>\n<text text-anchor=\"middle\" x=\"617\" y=\"-402.3\" font-family=\"Helvetica,sans-Serif\" font-size=\"14.00\">gini = 0.023</text>\n<text text-anchor=\"middle\" x=\"617\" y=\"-387.3\" font-family=\"Helvetica,sans-Serif\" font-size=\"14.00\">samples = 2411</text>\n<text text-anchor=\"middle\" x=\"617\" y=\"-372.3\" font-family=\"Helvetica,sans-Serif\" font-size=\"14.00\">value = [2383, 28]</text>\n<text text-anchor=\"middle\" x=\"617\" y=\"-357.3\" font-family=\"Helvetica,sans-Serif\" font-size=\"14.00\">class = 독</text>\n</g>\n<!-- 2&#45;&gt;7 -->\n<g id=\"edge11\" class=\"edge\">\n<title>2:&#45;&gt;7:</title>\n<path fill=\"none\" stroke=\"black\" d=\"M622.22,-460.91C621.49,-450.2 620.7,-438.62 619.96,-427.78\"/>\n<polygon fill=\"black\" stroke=\"black\" points=\"623.44,-427.4 619.27,-417.67 616.46,-427.88 623.44,-427.4\"/>\n</g>\n<!-- 8 -->\n<g id=\"node13\" class=\"node\">\n<title>8</title>\n<path fill=\"#399de5\" stroke=\"black\" d=\"M793.5,-417.5C793.5,-417.5 712.5,-417.5 712.5,-417.5 706.5,-417.5 700.5,-411.5 700.5,-405.5 700.5,-405.5 700.5,-361.5 700.5,-361.5 700.5,-355.5 706.5,-349.5 712.5,-349.5 712.5,-349.5 793.5,-349.5 793.5,-349.5 799.5,-349.5 805.5,-355.5 805.5,-361.5 805.5,-361.5 805.5,-405.5 805.5,-405.5 805.5,-411.5 799.5,-417.5 793.5,-417.5\"/>\n<text text-anchor=\"middle\" x=\"753\" y=\"-402.3\" font-family=\"Helvetica,sans-Serif\" font-size=\"14.00\">gini = 0.0</text>\n<text text-anchor=\"middle\" x=\"753\" y=\"-387.3\" font-family=\"Helvetica,sans-Serif\" font-size=\"14.00\">samples = 45</text>\n<text text-anchor=\"middle\" x=\"753\" y=\"-372.3\" font-family=\"Helvetica,sans-Serif\" font-size=\"14.00\">value = [0, 45]</text>\n<text text-anchor=\"middle\" x=\"753\" y=\"-357.3\" font-family=\"Helvetica,sans-Serif\" font-size=\"14.00\">class = 식용</text>\n</g>\n<!-- 2&#45;&gt;8 -->\n<g id=\"edge12\" class=\"edge\">\n<title>2:&#45;&gt;8:</title>\n<path fill=\"none\" stroke=\"black\" d=\"M669.41,-460.91C682.33,-449.1 696.42,-436.22 709.29,-424.45\"/>\n<polygon fill=\"black\" stroke=\"black\" points=\"711.7,-427 716.71,-417.67 706.97,-421.83 711.7,-427\"/>\n</g>\n</g>\n</svg>\n",
      "text/plain": [
       "<graphviz.sources.Source at 0x1efde9ee2e0>"
      ]
     },
     "metadata": {},
     "output_type": "display_data"
    },
    {
     "name": "stdout",
     "output_type": "stream",
     "text": [
      "훈련정확도 : 0.9901512486809708\n",
      "테스트정확도 : 0.9885151763740772\n"
     ]
    }
   ],
   "source": [
    "model_dt3 = DecisionTreeClassifier(max_leaf_nodes=7)\n",
    "model_dt3.fit(X_train, y_train)\n",
    "\n",
    "export_graphviz(model_dt3, out_file=\"tree.dot\", \n",
    "                class_names=[\"독\", \"식용\"],\n",
    "                feature_names=one_hot_X.columns,\n",
    "                impurity=True,\n",
    "                filled=True,\n",
    "                rounded=True)\n",
    "\n",
    "with open(\"tree.dot\", encoding=\"UTF8\") as f :\n",
    "    dot_graph = f.read()\n",
    "\n",
    "\n",
    "display(graphviz.Source(dot_graph))\n",
    "\n",
    "print(\"훈련정확도 :\", model_dt3.score(X_train, y_train))\n",
    "print(\"테스트정확도 :\", model_dt3.score(X_test, y_test))"
   ]
  },
  {
   "attachments": {},
   "cell_type": "markdown",
   "id": "2a38f55b",
   "metadata": {},
   "source": [
    "## min_samples_split를 이용한 사전 가지치기"
   ]
  },
  {
   "cell_type": "code",
   "execution_count": 83,
   "id": "aa96b8ac",
   "metadata": {},
   "outputs": [
    {
     "data": {
      "image/svg+xml": "<?xml version=\"1.0\" encoding=\"UTF-8\" standalone=\"no\"?>\n<!DOCTYPE svg PUBLIC \"-//W3C//DTD SVG 1.1//EN\"\n \"http://www.w3.org/Graphics/SVG/1.1/DTD/svg11.dtd\">\n<!-- Generated by graphviz version 2.44.2~dev.20201112.1525 (20201112.1525)\n -->\n<!-- Title: Tree Pages: 1 -->\n<svg width=\"368pt\" height=\"314pt\"\n viewBox=\"0.00 0.00 368.00 314.00\" xmlns=\"http://www.w3.org/2000/svg\" xmlns:xlink=\"http://www.w3.org/1999/xlink\">\n<g id=\"graph0\" class=\"graph\" transform=\"scale(1 1) rotate(0) translate(4 310)\">\n<title>Tree</title>\n<polygon fill=\"white\" stroke=\"transparent\" points=\"-4,4 -4,-310 364,-310 364,4 -4,4\"/>\n<!-- 0 -->\n<g id=\"node1\" class=\"node\">\n<title>0</title>\n<path fill=\"#fdf6f2\" stroke=\"black\" d=\"M280,-306C280,-306 158,-306 158,-306 152,-306 146,-300 146,-294 146,-294 146,-235 146,-235 146,-229 152,-223 158,-223 158,-223 280,-223 280,-223 286,-223 292,-229 292,-235 292,-235 292,-294 292,-294 292,-300 286,-306 280,-306\"/>\n<text text-anchor=\"middle\" x=\"219\" y=\"-290.8\" font-family=\"Helvetica,sans-Serif\" font-size=\"14.00\">odor_n &lt;= 0.5</text>\n<text text-anchor=\"middle\" x=\"219\" y=\"-275.8\" font-family=\"Helvetica,sans-Serif\" font-size=\"14.00\">gini = 0.499</text>\n<text text-anchor=\"middle\" x=\"219\" y=\"-260.8\" font-family=\"Helvetica,sans-Serif\" font-size=\"14.00\">samples = 5686</text>\n<text text-anchor=\"middle\" x=\"219\" y=\"-245.8\" font-family=\"Helvetica,sans-Serif\" font-size=\"14.00\">value = [2943, 2743]</text>\n<text text-anchor=\"middle\" x=\"219\" y=\"-230.8\" font-family=\"Helvetica,sans-Serif\" font-size=\"14.00\">class = 독</text>\n</g>\n<!-- 1 -->\n<g id=\"node2\" class=\"node\">\n<title>1</title>\n<path fill=\"#63b2ea\" stroke=\"black\" d=\"M200,-187C200,-187 86,-187 86,-187 80,-187 74,-181 74,-175 74,-175 74,-116 74,-116 74,-110 80,-104 86,-104 86,-104 200,-104 200,-104 206,-104 212,-110 212,-116 212,-116 212,-175 212,-175 212,-181 206,-187 200,-187\"/>\n<text text-anchor=\"middle\" x=\"143\" y=\"-171.8\" font-family=\"Helvetica,sans-Serif\" font-size=\"14.00\">stalk&#45;root_c &lt;= 0.5</text>\n<text text-anchor=\"middle\" x=\"143\" y=\"-156.8\" font-family=\"Helvetica,sans-Serif\" font-size=\"14.00\">gini = 0.287</text>\n<text text-anchor=\"middle\" x=\"143\" y=\"-141.8\" font-family=\"Helvetica,sans-Serif\" font-size=\"14.00\">samples = 3230</text>\n<text text-anchor=\"middle\" x=\"143\" y=\"-126.8\" font-family=\"Helvetica,sans-Serif\" font-size=\"14.00\">value = [560, 2670]</text>\n<text text-anchor=\"middle\" x=\"143\" y=\"-111.8\" font-family=\"Helvetica,sans-Serif\" font-size=\"14.00\">class = 식용</text>\n</g>\n<!-- 0&#45;&gt;1 -->\n<g id=\"edge1\" class=\"edge\">\n<title>0:&#45;&gt;1:</title>\n<path fill=\"none\" stroke=\"black\" d=\"M192.63,-222.91C186.91,-214.1 180.81,-204.7 174.9,-195.61\"/>\n<polygon fill=\"black\" stroke=\"black\" points=\"177.7,-193.5 169.32,-187.02 171.83,-197.31 177.7,-193.5\"/>\n<text text-anchor=\"middle\" x=\"164.13\" y=\"-207.78\" font-family=\"Helvetica,sans-Serif\" font-size=\"14.00\">True</text>\n</g>\n<!-- 4 -->\n<g id=\"node5\" class=\"node\">\n<title>4</title>\n<path fill=\"#e6853f\" stroke=\"black\" d=\"M348,-179.5C348,-179.5 242,-179.5 242,-179.5 236,-179.5 230,-173.5 230,-167.5 230,-167.5 230,-123.5 230,-123.5 230,-117.5 236,-111.5 242,-111.5 242,-111.5 348,-111.5 348,-111.5 354,-111.5 360,-117.5 360,-123.5 360,-123.5 360,-167.5 360,-167.5 360,-173.5 354,-179.5 348,-179.5\"/>\n<text text-anchor=\"middle\" x=\"295\" y=\"-164.3\" font-family=\"Helvetica,sans-Serif\" font-size=\"14.00\">gini = 0.058</text>\n<text text-anchor=\"middle\" x=\"295\" y=\"-149.3\" font-family=\"Helvetica,sans-Serif\" font-size=\"14.00\">samples = 2456</text>\n<text text-anchor=\"middle\" x=\"295\" y=\"-134.3\" font-family=\"Helvetica,sans-Serif\" font-size=\"14.00\">value = [2383, 73]</text>\n<text text-anchor=\"middle\" x=\"295\" y=\"-119.3\" font-family=\"Helvetica,sans-Serif\" font-size=\"14.00\">class = 독</text>\n</g>\n<!-- 0&#45;&gt;4 -->\n<g id=\"edge4\" class=\"edge\">\n<title>0:&#45;&gt;4:</title>\n<path fill=\"none\" stroke=\"black\" d=\"M245.37,-222.91C252.68,-211.65 260.63,-199.42 267.97,-188.11\"/>\n<polygon fill=\"black\" stroke=\"black\" points=\"270.94,-189.96 273.46,-179.67 265.07,-186.15 270.94,-189.96\"/>\n<text text-anchor=\"middle\" x=\"278.65\" y=\"-200.42\" font-family=\"Helvetica,sans-Serif\" font-size=\"14.00\">False</text>\n</g>\n<!-- 2 -->\n<g id=\"node3\" class=\"node\">\n<title>2</title>\n<path fill=\"#49a5e7\" stroke=\"black\" d=\"M126,-68C126,-68 12,-68 12,-68 6,-68 0,-62 0,-56 0,-56 0,-12 0,-12 0,-6 6,0 12,0 12,0 126,0 126,0 132,0 138,-6 138,-12 138,-12 138,-56 138,-56 138,-62 132,-68 126,-68\"/>\n<text text-anchor=\"middle\" x=\"69\" y=\"-52.8\" font-family=\"Helvetica,sans-Serif\" font-size=\"14.00\">gini = 0.136</text>\n<text text-anchor=\"middle\" x=\"69\" y=\"-37.8\" font-family=\"Helvetica,sans-Serif\" font-size=\"14.00\">samples = 2851</text>\n<text text-anchor=\"middle\" x=\"69\" y=\"-22.8\" font-family=\"Helvetica,sans-Serif\" font-size=\"14.00\">value = [209, 2642]</text>\n<text text-anchor=\"middle\" x=\"69\" y=\"-7.8\" font-family=\"Helvetica,sans-Serif\" font-size=\"14.00\">class = 식용</text>\n</g>\n<!-- 1&#45;&gt;2 -->\n<g id=\"edge2\" class=\"edge\">\n<title>1:&#45;&gt;2:</title>\n<path fill=\"none\" stroke=\"black\" d=\"M115.45,-103.73C109.47,-94.88 103.13,-85.51 97.13,-76.63\"/>\n<polygon fill=\"black\" stroke=\"black\" points=\"100,-74.63 91.5,-68.3 94.2,-78.54 100,-74.63\"/>\n</g>\n<!-- 3 -->\n<g id=\"node4\" class=\"node\">\n<title>3</title>\n<path fill=\"#e78b49\" stroke=\"black\" d=\"M266,-68C266,-68 168,-68 168,-68 162,-68 156,-62 156,-56 156,-56 156,-12 156,-12 156,-6 162,0 168,0 168,0 266,0 266,0 272,0 278,-6 278,-12 278,-12 278,-56 278,-56 278,-62 272,-68 266,-68\"/>\n<text text-anchor=\"middle\" x=\"217\" y=\"-52.8\" font-family=\"Helvetica,sans-Serif\" font-size=\"14.00\">gini = 0.137</text>\n<text text-anchor=\"middle\" x=\"217\" y=\"-37.8\" font-family=\"Helvetica,sans-Serif\" font-size=\"14.00\">samples = 379</text>\n<text text-anchor=\"middle\" x=\"217\" y=\"-22.8\" font-family=\"Helvetica,sans-Serif\" font-size=\"14.00\">value = [351, 28]</text>\n<text text-anchor=\"middle\" x=\"217\" y=\"-7.8\" font-family=\"Helvetica,sans-Serif\" font-size=\"14.00\">class = 독</text>\n</g>\n<!-- 1&#45;&gt;3 -->\n<g id=\"edge3\" class=\"edge\">\n<title>1:&#45;&gt;3:</title>\n<path fill=\"none\" stroke=\"black\" d=\"M170.55,-103.73C176.53,-94.88 182.87,-85.51 188.87,-76.63\"/>\n<polygon fill=\"black\" stroke=\"black\" points=\"191.8,-78.54 194.5,-68.3 186,-74.63 191.8,-78.54\"/>\n</g>\n</g>\n</svg>\n",
      "text/plain": [
       "<graphviz.sources.Source at 0x1efdeedd6d0>"
      ]
     },
     "metadata": {},
     "output_type": "display_data"
    },
    {
     "name": "stdout",
     "output_type": "stream",
     "text": [
      "훈련정확도 : 0.9454801266268027\n",
      "테스트정확도 : 0.9450369155045119\n"
     ]
    }
   ],
   "source": [
    "model_dt4 = DecisionTreeClassifier(min_samples_split=3000)\n",
    "model_dt4.fit(X_train, y_train)\n",
    "\n",
    "export_graphviz(model_dt4, out_file=\"tree.dot\", \n",
    "                class_names=[\"독\", \"식용\"],\n",
    "                feature_names=one_hot_X.columns,\n",
    "                impurity=True,\n",
    "                filled=True,\n",
    "                rounded=True)\n",
    "\n",
    "with open(\"tree.dot\", encoding=\"UTF8\") as f :\n",
    "    dot_graph = f.read()\n",
    "\n",
    "\n",
    "display(graphviz.Source(dot_graph))\n",
    "\n",
    "print(\"훈련정확도 :\", model_dt4.score(X_train, y_train))\n",
    "print(\"테스트정확도 :\", model_dt4.score(X_test, y_test))"
   ]
  }
 ],
 "metadata": {
  "kernelspec": {
   "display_name": "ml",
   "language": "python",
   "name": "python3"
  },
  "language_info": {
   "codemirror_mode": {
    "name": "ipython",
    "version": 3
   },
   "file_extension": ".py",
   "mimetype": "text/x-python",
   "name": "python",
   "nbconvert_exporter": "python",
   "pygments_lexer": "ipython3",
   "version": "3.11.0"
  },
  "toc": {
   "base_numbering": 1,
   "nav_menu": {},
   "number_sections": true,
   "sideBar": true,
   "skip_h1_title": false,
   "title_cell": "Table of Contents",
   "title_sidebar": "Contents",
   "toc_cell": false,
   "toc_position": {
    "height": "calc(100% - 180px)",
    "left": "10px",
    "top": "150px",
    "width": "253.719px"
   },
   "toc_section_display": true,
   "toc_window_display": true
  },
  "vscode": {
   "interpreter": {
    "hash": "08eac26dc1f80337b7d87e94e7159a5bad95c2e85f47efef91c61359b3afbfe9"
   }
  }
 },
 "nbformat": 4,
 "nbformat_minor": 5
}
