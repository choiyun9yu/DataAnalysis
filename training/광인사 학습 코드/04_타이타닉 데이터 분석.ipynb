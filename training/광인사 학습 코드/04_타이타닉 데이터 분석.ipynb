{
 "cells": [
  {
   "attachments": {},
   "cell_type": "markdown",
   "id": "6a265ca3",
   "metadata": {},
   "source": [
    "# 타이타닉 데이터 분석"
   ]
  },
  {
   "attachments": {},
   "cell_type": "markdown",
   "id": "cc254c1b",
   "metadata": {},
   "source": [
    "## 1. 문제정의\n",
    "- 데이터 전처리 및 시각화 방법에 대해 학습\n",
    "- (굳이 인공지능과 머신러닝을 사용하지 않아도 더 효과적인 해결방법이 있을 수 있다 무리해서 사용할 필요는 없다)\n"
   ]
  },
  {
   "attachments": {},
   "cell_type": "markdown",
   "id": "bc5a24c9",
   "metadata": {},
   "source": [
    "## 2. 데이터 수집\n",
    "- 데이터를 어떻게 수집할 것인지, 어떤 방식으로 확보할 것인지 고민하는 단계가 필요\n",
    "- (학습 단계에서는 이미 모여진 데이터를 많이 활용한다)"
   ]
  },
  {
   "cell_type": "code",
   "execution_count": 1,
   "id": "837d68b3",
   "metadata": {},
   "outputs": [],
   "source": [
    "import pandas as pd\n",
    "\n",
    "#index_col : 인덱스 칼럼을 설정\n",
    "train = pd.read_csv(\"./data/titanic_train.csv\", index_col=\"PassengerId\") \n",
    "test = pd.read_csv(\"./data/titanic_test.csv\", index_col=\"PassengerId\")"
   ]
  },
  {
   "attachments": {},
   "cell_type": "markdown",
   "id": "d4f61083",
   "metadata": {},
   "source": [
    "## 3-1. 탐색적 데이터 분석(EDA) 및 전처리\n",
    "- 데이터 이해를 이해하자\n",
    "    - 결측치(컬럼에 값이 없는 데이터) \n",
    "    - 이상치(다른 값들과 차이가 큰 값)\n",
    "    - 오류가 있는지 확인\n",
    "    - 기술통계(전통적인 통계분석 방법론)\n",
    "    - 상관통(전체적인 양상 및 패턴 확인에 좋음)"
   ]
  },
  {
   "cell_type": "markdown",
   "id": "5e1f1e8c",
   "metadata": {},
   "source": [
    "- 분석 feature : Pclass, Age, Name, SibSp, Parch, Fare, Ticket, Cabin, Embarked\n",
    "- 예측 target label : Survived\n",
    "- feature\n",
    "<table border=0 align=left width=700>\n",
    "  <tr><th>feature<th width=200>의미<th width=300>설명<th> 타입\n",
    "  <tr><td>Survivied<td>생존여부<td>target 라벨 (0 : 사망, 1 : 생존)<td>integer\n",
    "  <tr><td>Pclass<td>티켓의 클래스<td>1 = 1등석, 2 = 2등석, 3 = 3등석<td>integer\n",
    "  <tr><td>Name<td>이름<td>호칭과 이름으로 구성<td>string\n",
    "  <tr><td>Sex<td>성별<td>male, female로 구분<td>string\n",
    "  <tr><td>Age<td>나이<td>0-80세<td>integer\n",
    "  <tr><td>SibSp<td>함께 탑승한 형제와 배우자의 수<td><td>integer\n",
    "  <tr><td>Parch<td>함께 탑승한 부모, 아이의 수<td><td>integer\n",
    "  <tr><td>Ticket<td>티켓 번호<td>alphabat + integer<td>string\n",
    "  <tr><td>Fare<td>탑승료<td><td>float\n",
    "  <tr><td>Cabin<td>객실 번호<td>alphabat + integer<td>string\n",
    "  <tr><td>Embarked<td>탑승 항구<td>C = Cherbourg, Q = Queenstown, S = Southampton<td>string\n",
    "</table>"
   ]
  },
  {
   "cell_type": "code",
   "execution_count": 2,
   "id": "5f66479f",
   "metadata": {},
   "outputs": [
    {
     "name": "stdout",
     "output_type": "stream",
     "text": [
      "(891, 11) (418, 10)\n"
     ]
    }
   ],
   "source": [
    "print(train.shape, test.shape)"
   ]
  },
  {
   "attachments": {},
   "cell_type": "markdown",
   "id": "cb625ca1",
   "metadata": {},
   "source": [
    "### 결측치 확인\n",
    "- info(), isnull()과 sum()함수, describe()함수의 counts 등을 이용\n",
    "- (isnull은 결측치를 1로 반환)\n",
    "- describe은 기술 통계를 살펴 볼 수 있으므로 이상치도 확인 가능\n",
    "- 범주형 데이터에 describe 함수를 쓰면 유니크한 값도 알 수 있다.(?)"
   ]
  },
  {
   "cell_type": "code",
   "execution_count": 3,
   "id": "204fccb7",
   "metadata": {
    "scrolled": true
   },
   "outputs": [
    {
     "name": "stdout",
     "output_type": "stream",
     "text": [
      "<class 'pandas.core.frame.DataFrame'>\n",
      "Int64Index: 891 entries, 1 to 891\n",
      "Data columns (total 11 columns):\n",
      " #   Column    Non-Null Count  Dtype  \n",
      "---  ------    --------------  -----  \n",
      " 0   Survived  891 non-null    int64  \n",
      " 1   Pclass    891 non-null    int64  \n",
      " 2   Name      891 non-null    object \n",
      " 3   Sex       891 non-null    object \n",
      " 4   Age       714 non-null    float64\n",
      " 5   SibSp     891 non-null    int64  \n",
      " 6   Parch     891 non-null    int64  \n",
      " 7   Ticket    891 non-null    object \n",
      " 8   Fare      891 non-null    float64\n",
      " 9   Cabin     204 non-null    object \n",
      " 10  Embarked  889 non-null    object \n",
      "dtypes: float64(2), int64(4), object(5)\n",
      "memory usage: 83.5+ KB\n"
     ]
    }
   ],
   "source": [
    "#훈련데이터의 결측치\n",
    "train.info()\n",
    "\n",
    "#Age, Cabin, Embarked에 결측치가 존재"
   ]
  },
  {
   "cell_type": "code",
   "execution_count": 4,
   "id": "4cd8f86e",
   "metadata": {
    "scrolled": true
   },
   "outputs": [
    {
     "name": "stdout",
     "output_type": "stream",
     "text": [
      "<class 'pandas.core.frame.DataFrame'>\n",
      "Int64Index: 418 entries, 892 to 1309\n",
      "Data columns (total 10 columns):\n",
      " #   Column    Non-Null Count  Dtype  \n",
      "---  ------    --------------  -----  \n",
      " 0   Pclass    418 non-null    int64  \n",
      " 1   Name      418 non-null    object \n",
      " 2   Sex       418 non-null    object \n",
      " 3   Age       332 non-null    float64\n",
      " 4   SibSp     418 non-null    int64  \n",
      " 5   Parch     418 non-null    int64  \n",
      " 6   Ticket    418 non-null    object \n",
      " 7   Fare      417 non-null    float64\n",
      " 8   Cabin     91 non-null     object \n",
      " 9   Embarked  418 non-null    object \n",
      "dtypes: float64(2), int64(3), object(5)\n",
      "memory usage: 35.9+ KB\n"
     ]
    }
   ],
   "source": [
    "#테스트 데이터의 결측치 확인\n",
    "test.info()\n",
    "\n",
    "#Age, Fare, Cabin에 결측치 존재"
   ]
  },
  {
   "cell_type": "code",
   "execution_count": 5,
   "id": "c1f418ee",
   "metadata": {},
   "outputs": [
    {
     "data": {
      "text/plain": [
       "Survived      0\n",
       "Pclass        0\n",
       "Name          0\n",
       "Sex           0\n",
       "Age         177\n",
       "SibSp         0\n",
       "Parch         0\n",
       "Ticket        0\n",
       "Fare          0\n",
       "Cabin       687\n",
       "Embarked      2\n",
       "dtype: int64"
      ]
     },
     "execution_count": 5,
     "metadata": {},
     "output_type": "execute_result"
    }
   ],
   "source": [
    "#결측치 개수 확인\n",
    "train.isnull().sum()"
   ]
  },
  {
   "cell_type": "code",
   "execution_count": 6,
   "id": "bbbff0f2",
   "metadata": {
    "scrolled": false
   },
   "outputs": [
    {
     "data": {
      "text/plain": [
       "Pclass        0\n",
       "Name          0\n",
       "Sex           0\n",
       "Age          86\n",
       "SibSp         0\n",
       "Parch         0\n",
       "Ticket        0\n",
       "Fare          1\n",
       "Cabin       327\n",
       "Embarked      0\n",
       "dtype: int64"
      ]
     },
     "execution_count": 6,
     "metadata": {},
     "output_type": "execute_result"
    }
   ],
   "source": [
    "#결측치 개수 확인\n",
    "test.isnull().sum()"
   ]
  },
  {
   "cell_type": "code",
   "execution_count": null,
   "id": "5203be63",
   "metadata": {},
   "outputs": [],
   "source": []
  },
  {
   "cell_type": "markdown",
   "id": "9838cac3",
   "metadata": {},
   "source": [
    "### 결측치 채우기\n",
    "- 다른 조사 방법으로 정확히 채울 수 있는 건 정확히 채운다\n",
    "- 수치형인 경우\n",
    "    - (기술통계)평균, 중간값\n",
    "    - (상관관계)결측치가 있는 데이터의 다른 컬럼과 같은 값을 갖는 데이터의 결측치 통계를 사용\n",
    "        - 결측치가 적은 경우 : 전체 평균이나 중간값을 대입\n",
    "        - 결측치가 많은 경우 : 결측치가 있는 데이터의 다른 칼럼과 같은 값을 갖는 데이터의 결측치 통계를 사용\n",
    "        - (다른 칼럼을 참고할 땐 범주형 데이터를 참고해주는게 좋음)\n",
    "    - (머신러닝)\n",
    "- 범주형인 경우\n",
    "    - 결측치가 적은 경우 : 데이터 수가 가장 많은 클래스로 할당, 결측치가 있는 데이터에 의해 영향을 적게 받기 위함\n",
    "    - 결측치가 많은 경우 : 편향을 막기 위해 기존의 데이터 수 비율을 살려서 결측치 데이터를 할당 "
   ]
  },
  {
   "cell_type": "markdown",
   "id": "7da25630",
   "metadata": {},
   "source": [
    "- (my)\n",
    "- Cabin 결측치가 많은 이유는 객실번호를 할당 받지 못한 사람들이 많았음\n",
    "  - 결측치를 '입석'이라는 새로운 칼럼을 만들어서 채울 수 있다.\n",
    "- Fare 기술 통계를 활용해서 나와 비슷한 컬럼 값을 가지고 있는 것의 값을 빌려옴 (피벗 테이블)\n",
    "- Age 나와 유사한 데이터를 가지고 있는 사람의 데이터를 빌려옴\n",
    "- Embarked는 제일 큰 클래스로 할당해주면 큰 영향을 받지 않음 \n",
    "  - 갯수가 적을 때 : 확률적으로도 가장 큰 클래스에 할당될 확률 이 높음.\n",
    "  - 갯수가 많을 때 : 기존 비율대로 녹여서 랜덤하게 채움\n",
    "\n",
    "- (결측치 채우는 방법 중 결측치를 라벨데이터로 두고 분류나 회귀 해서 결측치 채울수도 있는 거아님?)"
   ]
  },
  {
   "cell_type": "code",
   "execution_count": null,
   "id": "e70b7d81",
   "metadata": {},
   "outputs": [],
   "source": []
  },
  {
   "cell_type": "code",
   "execution_count": 7,
   "id": "edbd8831",
   "metadata": {},
   "outputs": [
    {
     "data": {
      "text/html": [
       "<div>\n",
       "<style scoped>\n",
       "    .dataframe tbody tr th:only-of-type {\n",
       "        vertical-align: middle;\n",
       "    }\n",
       "\n",
       "    .dataframe tbody tr th {\n",
       "        vertical-align: top;\n",
       "    }\n",
       "\n",
       "    .dataframe thead th {\n",
       "        text-align: right;\n",
       "    }\n",
       "</style>\n",
       "<table border=\"1\" class=\"dataframe\">\n",
       "  <thead>\n",
       "    <tr style=\"text-align: right;\">\n",
       "      <th></th>\n",
       "      <th>Survived</th>\n",
       "      <th>Age</th>\n",
       "      <th>SibSp</th>\n",
       "      <th>Parch</th>\n",
       "      <th>Fare</th>\n",
       "    </tr>\n",
       "    <tr>\n",
       "      <th>Pclass</th>\n",
       "      <th></th>\n",
       "      <th></th>\n",
       "      <th></th>\n",
       "      <th></th>\n",
       "      <th></th>\n",
       "    </tr>\n",
       "  </thead>\n",
       "  <tbody>\n",
       "    <tr>\n",
       "      <th>1</th>\n",
       "      <td>0.629630</td>\n",
       "      <td>38.233441</td>\n",
       "      <td>0.416667</td>\n",
       "      <td>0.356481</td>\n",
       "      <td>84.154687</td>\n",
       "    </tr>\n",
       "    <tr>\n",
       "      <th>2</th>\n",
       "      <td>0.472826</td>\n",
       "      <td>29.877630</td>\n",
       "      <td>0.402174</td>\n",
       "      <td>0.380435</td>\n",
       "      <td>20.662183</td>\n",
       "    </tr>\n",
       "    <tr>\n",
       "      <th>3</th>\n",
       "      <td>0.242363</td>\n",
       "      <td>25.140620</td>\n",
       "      <td>0.615071</td>\n",
       "      <td>0.393075</td>\n",
       "      <td>13.675550</td>\n",
       "    </tr>\n",
       "  </tbody>\n",
       "</table>\n",
       "</div>"
      ],
      "text/plain": [
       "        Survived        Age     SibSp     Parch       Fare\n",
       "Pclass                                                    \n",
       "1       0.629630  38.233441  0.416667  0.356481  84.154687\n",
       "2       0.472826  29.877630  0.402174  0.380435  20.662183\n",
       "3       0.242363  25.140620  0.615071  0.393075  13.675550"
      ]
     },
     "execution_count": 7,
     "metadata": {},
     "output_type": "execute_result"
    }
   ],
   "source": [
    "# 등급별 통계 (평균)\n",
    "# goroupby() : 원하는 컬럼을 중심으로 그룹핑해주는 함수\n",
    "# Pclass 컬럼의 클래스별로 각 컬럼의 평균을 계산\n",
    "train.groupby(\"Pclass\").mean()"
   ]
  },
  {
   "cell_type": "markdown",
   "id": "467e1d5d",
   "metadata": {},
   "source": [
    "- (pclass로 그룹바이한거니까 다른 정보는 분석의 중심이 될 수 없음)\n",
    "- 1등실의 생존율이 높았다.\n",
    "- 3등실에 나이가 적은 승객이 많앗다.\n",
    "- 1등실 일수록 가족 수가 적었다 -> 반대해석 3등실 일수록 가족 수가 많았다."
   ]
  },
  {
   "cell_type": "code",
   "execution_count": 8,
   "id": "f778c6b0",
   "metadata": {},
   "outputs": [
    {
     "data": {
      "text/html": [
       "<div>\n",
       "<style scoped>\n",
       "    .dataframe tbody tr th:only-of-type {\n",
       "        vertical-align: middle;\n",
       "    }\n",
       "\n",
       "    .dataframe tbody tr th {\n",
       "        vertical-align: top;\n",
       "    }\n",
       "\n",
       "    .dataframe thead th {\n",
       "        text-align: right;\n",
       "    }\n",
       "</style>\n",
       "<table border=\"1\" class=\"dataframe\">\n",
       "  <thead>\n",
       "    <tr style=\"text-align: right;\">\n",
       "      <th></th>\n",
       "      <th></th>\n",
       "      <th>Age</th>\n",
       "      <th>SibSp</th>\n",
       "      <th>Parch</th>\n",
       "      <th>Fare</th>\n",
       "    </tr>\n",
       "    <tr>\n",
       "      <th>Pclass</th>\n",
       "      <th>Survived</th>\n",
       "      <th></th>\n",
       "      <th></th>\n",
       "      <th></th>\n",
       "      <th></th>\n",
       "    </tr>\n",
       "  </thead>\n",
       "  <tbody>\n",
       "    <tr>\n",
       "      <th rowspan=\"2\" valign=\"top\">1</th>\n",
       "      <th>0</th>\n",
       "      <td>43.695312</td>\n",
       "      <td>0.287500</td>\n",
       "      <td>0.300000</td>\n",
       "      <td>64.684007</td>\n",
       "    </tr>\n",
       "    <tr>\n",
       "      <th>1</th>\n",
       "      <td>35.368197</td>\n",
       "      <td>0.492647</td>\n",
       "      <td>0.389706</td>\n",
       "      <td>95.608029</td>\n",
       "    </tr>\n",
       "    <tr>\n",
       "      <th rowspan=\"2\" valign=\"top\">2</th>\n",
       "      <th>0</th>\n",
       "      <td>33.544444</td>\n",
       "      <td>0.319588</td>\n",
       "      <td>0.144330</td>\n",
       "      <td>19.412328</td>\n",
       "    </tr>\n",
       "    <tr>\n",
       "      <th>1</th>\n",
       "      <td>25.901566</td>\n",
       "      <td>0.494253</td>\n",
       "      <td>0.643678</td>\n",
       "      <td>22.055700</td>\n",
       "    </tr>\n",
       "    <tr>\n",
       "      <th rowspan=\"2\" valign=\"top\">3</th>\n",
       "      <th>0</th>\n",
       "      <td>26.555556</td>\n",
       "      <td>0.672043</td>\n",
       "      <td>0.384409</td>\n",
       "      <td>13.669364</td>\n",
       "    </tr>\n",
       "    <tr>\n",
       "      <th>1</th>\n",
       "      <td>20.646118</td>\n",
       "      <td>0.436975</td>\n",
       "      <td>0.420168</td>\n",
       "      <td>13.694887</td>\n",
       "    </tr>\n",
       "  </tbody>\n",
       "</table>\n",
       "</div>"
      ],
      "text/plain": [
       "                       Age     SibSp     Parch       Fare\n",
       "Pclass Survived                                          \n",
       "1      0         43.695312  0.287500  0.300000  64.684007\n",
       "       1         35.368197  0.492647  0.389706  95.608029\n",
       "2      0         33.544444  0.319588  0.144330  19.412328\n",
       "       1         25.901566  0.494253  0.643678  22.055700\n",
       "3      0         26.555556  0.672043  0.384409  13.669364\n",
       "       1         20.646118  0.436975  0.420168  13.694887"
      ]
     },
     "execution_count": 8,
     "metadata": {},
     "output_type": "execute_result"
    }
   ],
   "source": [
    "train.groupby([\"Pclass\", \"Survived\"]).mean()"
   ]
  },
  {
   "cell_type": "markdown",
   "id": "bc11aee3",
   "metadata": {},
   "source": [
    "- 3등실 승객의 사망/생존자의 요금은 비슷하다\n",
    "- 1등실 승객의 사망/생존자의 요금은 생존자의 요금이 더 비쌌다\n",
    "- 같은 클래스에서는 나이가 어릴수록 생존이 높았다"
   ]
  },
  {
   "cell_type": "markdown",
   "id": "e58d5e5a",
   "metadata": {},
   "source": [
    "#### Age 결측치 채우기"
   ]
  },
  {
   "cell_type": "markdown",
   "id": "037f6389",
   "metadata": {},
   "source": [
    "\n",
    "   - 결측치가 있는 데이터의 다른 컬럼의 값과 같은 데이터의 평균값을 사용해서 결측치를 채움\n",
    "   - 그럼 어떤 칼럼을 참조할까요?\n",
    "        - 결측치가 있는 데이터와 가장 상관관계가 높은 컬럼 선택 (범주형)\n",
    "        - 수치형을 쓰면 피벗 테이블 구했을 때 구조가 다를 수가 있음\n",
    "    - 피벗 테이블 활용\n",
    "    - apply()을 이용하여 전체 데이터에 결측치를 채움 \n",
    "        - apply() : 데이터 프레임의 데이터를 분리해서 원하는 처리를 수행한 후 다시 병합하는 함수(재구조함수)"
   ]
  },
  {
   "cell_type": "code",
   "execution_count": 9,
   "id": "feaf8f84",
   "metadata": {},
   "outputs": [
    {
     "data": {
      "text/html": [
       "<div>\n",
       "<style scoped>\n",
       "    .dataframe tbody tr th:only-of-type {\n",
       "        vertical-align: middle;\n",
       "    }\n",
       "\n",
       "    .dataframe tbody tr th {\n",
       "        vertical-align: top;\n",
       "    }\n",
       "\n",
       "    .dataframe thead th {\n",
       "        text-align: right;\n",
       "    }\n",
       "</style>\n",
       "<table border=\"1\" class=\"dataframe\">\n",
       "  <thead>\n",
       "    <tr style=\"text-align: right;\">\n",
       "      <th></th>\n",
       "      <th>Survived</th>\n",
       "      <th>Pclass</th>\n",
       "      <th>Age</th>\n",
       "      <th>SibSp</th>\n",
       "      <th>Parch</th>\n",
       "      <th>Fare</th>\n",
       "    </tr>\n",
       "  </thead>\n",
       "  <tbody>\n",
       "    <tr>\n",
       "      <th>Survived</th>\n",
       "      <td>1.000000</td>\n",
       "      <td>-0.338481</td>\n",
       "      <td>-0.077221</td>\n",
       "      <td>-0.035322</td>\n",
       "      <td>0.081629</td>\n",
       "      <td>0.257307</td>\n",
       "    </tr>\n",
       "    <tr>\n",
       "      <th>Pclass</th>\n",
       "      <td>-0.338481</td>\n",
       "      <td>1.000000</td>\n",
       "      <td>-0.369226</td>\n",
       "      <td>0.083081</td>\n",
       "      <td>0.018443</td>\n",
       "      <td>-0.549500</td>\n",
       "    </tr>\n",
       "    <tr>\n",
       "      <th>Age</th>\n",
       "      <td>-0.077221</td>\n",
       "      <td>-0.369226</td>\n",
       "      <td>1.000000</td>\n",
       "      <td>-0.308247</td>\n",
       "      <td>-0.189119</td>\n",
       "      <td>0.096067</td>\n",
       "    </tr>\n",
       "    <tr>\n",
       "      <th>SibSp</th>\n",
       "      <td>-0.035322</td>\n",
       "      <td>0.083081</td>\n",
       "      <td>-0.308247</td>\n",
       "      <td>1.000000</td>\n",
       "      <td>0.414838</td>\n",
       "      <td>0.159651</td>\n",
       "    </tr>\n",
       "    <tr>\n",
       "      <th>Parch</th>\n",
       "      <td>0.081629</td>\n",
       "      <td>0.018443</td>\n",
       "      <td>-0.189119</td>\n",
       "      <td>0.414838</td>\n",
       "      <td>1.000000</td>\n",
       "      <td>0.216225</td>\n",
       "    </tr>\n",
       "    <tr>\n",
       "      <th>Fare</th>\n",
       "      <td>0.257307</td>\n",
       "      <td>-0.549500</td>\n",
       "      <td>0.096067</td>\n",
       "      <td>0.159651</td>\n",
       "      <td>0.216225</td>\n",
       "      <td>1.000000</td>\n",
       "    </tr>\n",
       "  </tbody>\n",
       "</table>\n",
       "</div>"
      ],
      "text/plain": [
       "          Survived    Pclass       Age     SibSp     Parch      Fare\n",
       "Survived  1.000000 -0.338481 -0.077221 -0.035322  0.081629  0.257307\n",
       "Pclass   -0.338481  1.000000 -0.369226  0.083081  0.018443 -0.549500\n",
       "Age      -0.077221 -0.369226  1.000000 -0.308247 -0.189119  0.096067\n",
       "SibSp    -0.035322  0.083081 -0.308247  1.000000  0.414838  0.159651\n",
       "Parch     0.081629  0.018443 -0.189119  0.414838  1.000000  0.216225\n",
       "Fare      0.257307 -0.549500  0.096067  0.159651  0.216225  1.000000"
      ]
     },
     "execution_count": 9,
     "metadata": {},
     "output_type": "execute_result"
    }
   ],
   "source": [
    "#Age 컬럼과 상관관계가 높은 컬럼 찾기 -> .corr\n",
    "train.corr()"
   ]
  },
  {
   "cell_type": "code",
   "execution_count": 10,
   "id": "76eeb27d",
   "metadata": {},
   "outputs": [
    {
     "data": {
      "text/html": [
       "<div>\n",
       "<style scoped>\n",
       "    .dataframe tbody tr th:only-of-type {\n",
       "        vertical-align: middle;\n",
       "    }\n",
       "\n",
       "    .dataframe tbody tr th {\n",
       "        vertical-align: top;\n",
       "    }\n",
       "\n",
       "    .dataframe thead th {\n",
       "        text-align: right;\n",
       "    }\n",
       "</style>\n",
       "<table border=\"1\" class=\"dataframe\">\n",
       "  <thead>\n",
       "    <tr style=\"text-align: right;\">\n",
       "      <th></th>\n",
       "      <th></th>\n",
       "      <th>Age</th>\n",
       "    </tr>\n",
       "    <tr>\n",
       "      <th>Pclass</th>\n",
       "      <th>Sex</th>\n",
       "      <th></th>\n",
       "    </tr>\n",
       "  </thead>\n",
       "  <tbody>\n",
       "    <tr>\n",
       "      <th rowspan=\"2\" valign=\"top\">1</th>\n",
       "      <th>female</th>\n",
       "      <td>34.611765</td>\n",
       "    </tr>\n",
       "    <tr>\n",
       "      <th>male</th>\n",
       "      <td>41.281386</td>\n",
       "    </tr>\n",
       "    <tr>\n",
       "      <th rowspan=\"2\" valign=\"top\">2</th>\n",
       "      <th>female</th>\n",
       "      <td>28.722973</td>\n",
       "    </tr>\n",
       "    <tr>\n",
       "      <th>male</th>\n",
       "      <td>30.740707</td>\n",
       "    </tr>\n",
       "    <tr>\n",
       "      <th rowspan=\"2\" valign=\"top\">3</th>\n",
       "      <th>female</th>\n",
       "      <td>21.750000</td>\n",
       "    </tr>\n",
       "    <tr>\n",
       "      <th>male</th>\n",
       "      <td>26.507589</td>\n",
       "    </tr>\n",
       "  </tbody>\n",
       "</table>\n",
       "</div>"
      ],
      "text/plain": [
       "                     Age\n",
       "Pclass Sex              \n",
       "1      female  34.611765\n",
       "       male    41.281386\n",
       "2      female  28.722973\n",
       "       male    30.740707\n",
       "3      female  21.750000\n",
       "       male    26.507589"
      ]
     },
     "execution_count": 10,
     "metadata": {},
     "output_type": "execute_result"
    }
   ],
   "source": [
    "#피벗 테이블 생성\n",
    "# values : 결측치를 채울 컬럼\n",
    "# index : 참고할 컬럼 목록 리스트\n",
    "# aggfunc : 사용할 수학 도구 (평균, 중간값)\n",
    "pt1 = train.pivot_table(values = \"Age\",\n",
    "                        index = [\"Pclass\", \"Sex\"],\n",
    "                        aggfunc = \"mean\")\n",
    "pt1"
   ]
  },
  {
   "cell_type": "code",
   "execution_count": 11,
   "id": "1ac2be15",
   "metadata": {},
   "outputs": [
    {
     "data": {
      "text/plain": [
       "Age    41.281386\n",
       "Name: (1, male), dtype: float64"
      ]
     },
     "execution_count": 11,
     "metadata": {},
     "output_type": "execute_result"
    }
   ],
   "source": [
    "#피벗 테이블에 접근하는 방법\n",
    "pt1.loc[1,\"male\"]"
   ]
  },
  {
   "cell_type": "code",
   "execution_count": 12,
   "id": "095e2e9b",
   "metadata": {},
   "outputs": [],
   "source": [
    "# Age 컬럼의 결측치를 채우는 함수\n",
    "import numpy as np\n",
    "\n",
    "def fill_age(row) :  #row는 한줄 데이터가 다 넘어옴\n",
    "    # 한줄 데이터에서 Age 컬럼이 결측치라면\n",
    "    if np.isnan(row[\"Age\"]): # 성별이 결측라면\n",
    "        #피벗 테이블을 참조 (같은 Pclass와 sex이 같은 값을 반환)\n",
    "        return pt1.loc[row[\"Pclass\"], row[\"Sex\"]] # 피클래스랑 성별을 반환\n",
    "    #결측치가 아닌 경우\n",
    "    else:\n",
    "        return row[\"Age\"]"
   ]
  },
  {
   "cell_type": "code",
   "execution_count": 13,
   "id": "73f421d3",
   "metadata": {},
   "outputs": [],
   "source": [
    "# apply : 사용자 정의 기능을 적용할 때 쓰는 함수(?)  Q.\n",
    "# axis=1 col방향으로 넘기겠다, 한줄씩\n",
    "# astype(\"int64\") : 나이는 실수가 없으니 정수로 변환\n",
    "train[\"Age\"] = train.apply(fill_age, axis=1).astype(\"int64\") #어플라이로 1줄 데이터가  함수의 row에 할당\n",
    "test[\"Age\"] = test.apply(fill_age, axis=1).astype(\"int64\")"
   ]
  },
  {
   "cell_type": "code",
   "execution_count": 14,
   "id": "d94f9857",
   "metadata": {},
   "outputs": [
    {
     "name": "stdout",
     "output_type": "stream",
     "text": [
      "<class 'pandas.core.frame.DataFrame'>\n",
      "Int64Index: 891 entries, 1 to 891\n",
      "Data columns (total 11 columns):\n",
      " #   Column    Non-Null Count  Dtype  \n",
      "---  ------    --------------  -----  \n",
      " 0   Survived  891 non-null    int64  \n",
      " 1   Pclass    891 non-null    int64  \n",
      " 2   Name      891 non-null    object \n",
      " 3   Sex       891 non-null    object \n",
      " 4   Age       891 non-null    int64  \n",
      " 5   SibSp     891 non-null    int64  \n",
      " 6   Parch     891 non-null    int64  \n",
      " 7   Ticket    891 non-null    object \n",
      " 8   Fare      891 non-null    float64\n",
      " 9   Cabin     204 non-null    object \n",
      " 10  Embarked  889 non-null    object \n",
      "dtypes: float64(1), int64(5), object(5)\n",
      "memory usage: 83.5+ KB\n"
     ]
    }
   ],
   "source": [
    "train.info()"
   ]
  },
  {
   "cell_type": "code",
   "execution_count": 15,
   "id": "2d250cc1",
   "metadata": {},
   "outputs": [
    {
     "name": "stdout",
     "output_type": "stream",
     "text": [
      "<class 'pandas.core.frame.DataFrame'>\n",
      "Int64Index: 418 entries, 892 to 1309\n",
      "Data columns (total 10 columns):\n",
      " #   Column    Non-Null Count  Dtype  \n",
      "---  ------    --------------  -----  \n",
      " 0   Pclass    418 non-null    int64  \n",
      " 1   Name      418 non-null    object \n",
      " 2   Sex       418 non-null    object \n",
      " 3   Age       418 non-null    int64  \n",
      " 4   SibSp     418 non-null    int64  \n",
      " 5   Parch     418 non-null    int64  \n",
      " 6   Ticket    418 non-null    object \n",
      " 7   Fare      417 non-null    float64\n",
      " 8   Cabin     91 non-null     object \n",
      " 9   Embarked  418 non-null    object \n",
      "dtypes: float64(1), int64(4), object(5)\n",
      "memory usage: 35.9+ KB\n"
     ]
    }
   ],
   "source": [
    "test.info()"
   ]
  },
  {
   "cell_type": "markdown",
   "id": "0add381a",
   "metadata": {},
   "source": [
    "#### Embarked 결측치 채우기"
   ]
  },
  {
   "cell_type": "code",
   "execution_count": 16,
   "id": "d90893ed",
   "metadata": {},
   "outputs": [
    {
     "data": {
      "text/plain": [
       "S    644\n",
       "C    168\n",
       "Q     77\n",
       "Name: Embarked, dtype: int64"
      ]
     },
     "execution_count": 16,
     "metadata": {},
     "output_type": "execute_result"
    }
   ],
   "source": [
    "#가장 많은 데이터수를 갖는 클래스로 결측치를 할당\n",
    "train[\"Embarked\"].value_counts()"
   ]
  },
  {
   "cell_type": "code",
   "execution_count": 17,
   "id": "0e17a223",
   "metadata": {},
   "outputs": [],
   "source": [
    "# Embarked 칼럼이 결측치인 값을 S로 채운다\n",
    "train[\"Embarked\"] = train[\"Embarked\"].fillna(\"S\")"
   ]
  },
  {
   "cell_type": "code",
   "execution_count": 18,
   "id": "7876fe4d",
   "metadata": {
    "scrolled": true
   },
   "outputs": [
    {
     "name": "stdout",
     "output_type": "stream",
     "text": [
      "<class 'pandas.core.frame.DataFrame'>\n",
      "Int64Index: 891 entries, 1 to 891\n",
      "Data columns (total 11 columns):\n",
      " #   Column    Non-Null Count  Dtype  \n",
      "---  ------    --------------  -----  \n",
      " 0   Survived  891 non-null    int64  \n",
      " 1   Pclass    891 non-null    int64  \n",
      " 2   Name      891 non-null    object \n",
      " 3   Sex       891 non-null    object \n",
      " 4   Age       891 non-null    int64  \n",
      " 5   SibSp     891 non-null    int64  \n",
      " 6   Parch     891 non-null    int64  \n",
      " 7   Ticket    891 non-null    object \n",
      " 8   Fare      891 non-null    float64\n",
      " 9   Cabin     204 non-null    object \n",
      " 10  Embarked  891 non-null    object \n",
      "dtypes: float64(1), int64(5), object(5)\n",
      "memory usage: 83.5+ KB\n"
     ]
    }
   ],
   "source": [
    "train.info()"
   ]
  },
  {
   "cell_type": "markdown",
   "id": "c9d4d35b",
   "metadata": {},
   "source": [
    "#### Fare 결측치 채우기"
   ]
  },
  {
   "cell_type": "code",
   "execution_count": 19,
   "id": "744220ca",
   "metadata": {},
   "outputs": [
    {
     "data": {
      "text/html": [
       "<div>\n",
       "<style scoped>\n",
       "    .dataframe tbody tr th:only-of-type {\n",
       "        vertical-align: middle;\n",
       "    }\n",
       "\n",
       "    .dataframe tbody tr th {\n",
       "        vertical-align: top;\n",
       "    }\n",
       "\n",
       "    .dataframe thead th {\n",
       "        text-align: right;\n",
       "    }\n",
       "</style>\n",
       "<table border=\"1\" class=\"dataframe\">\n",
       "  <thead>\n",
       "    <tr style=\"text-align: right;\">\n",
       "      <th></th>\n",
       "      <th>Pclass</th>\n",
       "      <th>Age</th>\n",
       "      <th>SibSp</th>\n",
       "      <th>Parch</th>\n",
       "      <th>Fare</th>\n",
       "    </tr>\n",
       "  </thead>\n",
       "  <tbody>\n",
       "    <tr>\n",
       "      <th>Pclass</th>\n",
       "      <td>1.000000</td>\n",
       "      <td>-0.520540</td>\n",
       "      <td>0.001087</td>\n",
       "      <td>0.018721</td>\n",
       "      <td>-0.577147</td>\n",
       "    </tr>\n",
       "    <tr>\n",
       "      <th>Age</th>\n",
       "      <td>-0.520540</td>\n",
       "      <td>1.000000</td>\n",
       "      <td>-0.084936</td>\n",
       "      <td>-0.062898</td>\n",
       "      <td>0.348593</td>\n",
       "    </tr>\n",
       "    <tr>\n",
       "      <th>SibSp</th>\n",
       "      <td>0.001087</td>\n",
       "      <td>-0.084936</td>\n",
       "      <td>1.000000</td>\n",
       "      <td>0.306895</td>\n",
       "      <td>0.171539</td>\n",
       "    </tr>\n",
       "    <tr>\n",
       "      <th>Parch</th>\n",
       "      <td>0.018721</td>\n",
       "      <td>-0.062898</td>\n",
       "      <td>0.306895</td>\n",
       "      <td>1.000000</td>\n",
       "      <td>0.230046</td>\n",
       "    </tr>\n",
       "    <tr>\n",
       "      <th>Fare</th>\n",
       "      <td>-0.577147</td>\n",
       "      <td>0.348593</td>\n",
       "      <td>0.171539</td>\n",
       "      <td>0.230046</td>\n",
       "      <td>1.000000</td>\n",
       "    </tr>\n",
       "  </tbody>\n",
       "</table>\n",
       "</div>"
      ],
      "text/plain": [
       "          Pclass       Age     SibSp     Parch      Fare\n",
       "Pclass  1.000000 -0.520540  0.001087  0.018721 -0.577147\n",
       "Age    -0.520540  1.000000 -0.084936 -0.062898  0.348593\n",
       "SibSp   0.001087 -0.084936  1.000000  0.306895  0.171539\n",
       "Parch   0.018721 -0.062898  0.306895  1.000000  0.230046\n",
       "Fare   -0.577147  0.348593  0.171539  0.230046  1.000000"
      ]
     },
     "execution_count": 19,
     "metadata": {},
     "output_type": "execute_result"
    }
   ],
   "source": [
    "#상관관계 파악\n",
    "test.corr()"
   ]
  },
  {
   "cell_type": "code",
   "execution_count": 20,
   "id": "3f13f159",
   "metadata": {},
   "outputs": [
    {
     "data": {
      "text/html": [
       "<div>\n",
       "<style scoped>\n",
       "    .dataframe tbody tr th:only-of-type {\n",
       "        vertical-align: middle;\n",
       "    }\n",
       "\n",
       "    .dataframe tbody tr th {\n",
       "        vertical-align: top;\n",
       "    }\n",
       "\n",
       "    .dataframe thead th {\n",
       "        text-align: right;\n",
       "    }\n",
       "</style>\n",
       "<table border=\"1\" class=\"dataframe\">\n",
       "  <thead>\n",
       "    <tr style=\"text-align: right;\">\n",
       "      <th></th>\n",
       "      <th></th>\n",
       "      <th>Fare</th>\n",
       "    </tr>\n",
       "    <tr>\n",
       "      <th>Pclass</th>\n",
       "      <th>Embarked</th>\n",
       "      <th></th>\n",
       "    </tr>\n",
       "  </thead>\n",
       "  <tbody>\n",
       "    <tr>\n",
       "      <th rowspan=\"3\" valign=\"top\">1</th>\n",
       "      <th>C</th>\n",
       "      <td>110.073511</td>\n",
       "    </tr>\n",
       "    <tr>\n",
       "      <th>Q</th>\n",
       "      <td>90.000000</td>\n",
       "    </tr>\n",
       "    <tr>\n",
       "      <th>S</th>\n",
       "      <td>76.677504</td>\n",
       "    </tr>\n",
       "    <tr>\n",
       "      <th rowspan=\"3\" valign=\"top\">2</th>\n",
       "      <th>C</th>\n",
       "      <td>20.120445</td>\n",
       "    </tr>\n",
       "    <tr>\n",
       "      <th>Q</th>\n",
       "      <td>11.273950</td>\n",
       "    </tr>\n",
       "    <tr>\n",
       "      <th>S</th>\n",
       "      <td>23.056090</td>\n",
       "    </tr>\n",
       "    <tr>\n",
       "      <th rowspan=\"3\" valign=\"top\">3</th>\n",
       "      <th>C</th>\n",
       "      <td>10.658700</td>\n",
       "    </tr>\n",
       "    <tr>\n",
       "      <th>Q</th>\n",
       "      <td>8.998985</td>\n",
       "    </tr>\n",
       "    <tr>\n",
       "      <th>S</th>\n",
       "      <td>13.913030</td>\n",
       "    </tr>\n",
       "  </tbody>\n",
       "</table>\n",
       "</div>"
      ],
      "text/plain": [
       "                       Fare\n",
       "Pclass Embarked            \n",
       "1      C         110.073511\n",
       "       Q          90.000000\n",
       "       S          76.677504\n",
       "2      C          20.120445\n",
       "       Q          11.273950\n",
       "       S          23.056090\n",
       "3      C          10.658700\n",
       "       Q           8.998985\n",
       "       S          13.913030"
      ]
     },
     "execution_count": 20,
     "metadata": {},
     "output_type": "execute_result"
    }
   ],
   "source": [
    "#피벗 테이블 만들기\n",
    "pt2 = test.pivot_table(values = \"Fare\",\n",
    "                       index = [\"Pclass\", \"Embarked\"],\n",
    "                       aggfunc = \"mean\")\n",
    "pt2"
   ]
  },
  {
   "cell_type": "code",
   "execution_count": 21,
   "id": "8674c17f",
   "metadata": {},
   "outputs": [],
   "source": [
    "#함수 만들기\n",
    "def fill_fare(row):\n",
    "    if np.isnan(row[\"Fare\"]):\n",
    "        return pt2.loc[row[\"Pclass\"], row[\"Embarked\"]]\n",
    "    else:\n",
    "        return row[\"Fare\"]"
   ]
  },
  {
   "cell_type": "code",
   "execution_count": 22,
   "id": "e90f0cde",
   "metadata": {},
   "outputs": [],
   "source": [
    "#어플라이 함수로 재구성(채워넣기)\n",
    "test[\"Fare\"] = test.apply(fill_fare, axis=1).astype(\"int64\")"
   ]
  },
  {
   "cell_type": "code",
   "execution_count": 23,
   "id": "efbbc24e",
   "metadata": {},
   "outputs": [
    {
     "name": "stdout",
     "output_type": "stream",
     "text": [
      "<class 'pandas.core.frame.DataFrame'>\n",
      "Int64Index: 418 entries, 892 to 1309\n",
      "Data columns (total 10 columns):\n",
      " #   Column    Non-Null Count  Dtype \n",
      "---  ------    --------------  ----- \n",
      " 0   Pclass    418 non-null    int64 \n",
      " 1   Name      418 non-null    object\n",
      " 2   Sex       418 non-null    object\n",
      " 3   Age       418 non-null    int64 \n",
      " 4   SibSp     418 non-null    int64 \n",
      " 5   Parch     418 non-null    int64 \n",
      " 6   Ticket    418 non-null    object\n",
      " 7   Fare      418 non-null    int64 \n",
      " 8   Cabin     91 non-null     object\n",
      " 9   Embarked  418 non-null    object\n",
      "dtypes: int64(5), object(5)\n",
      "memory usage: 35.9+ KB\n"
     ]
    }
   ],
   "source": [
    "test.info()"
   ]
  },
  {
   "cell_type": "code",
   "execution_count": 24,
   "id": "99250b49",
   "metadata": {},
   "outputs": [],
   "source": [
    "test[\"Fare\"] = test[\"Fare\"].fillna(13.380282)"
   ]
  },
  {
   "cell_type": "markdown",
   "id": "47ae70e9",
   "metadata": {},
   "source": [
    "#### Cabin 결측치 채우기\n",
    "    - 결측치가 실제 객실이 없는 승객이었을 가능성이 있으므로 원래값에 중복되지 않는 영문자로 채우기\n",
    "    - 원래 객실번호의 첫번째 영문자 추출(그룹핑)"
   ]
  },
  {
   "cell_type": "code",
   "execution_count": 25,
   "id": "57ba452d",
   "metadata": {},
   "outputs": [
    {
     "data": {
      "text/plain": [
       "<bound method Series.unique of PassengerId\n",
       "1       NaN\n",
       "2       C85\n",
       "3       NaN\n",
       "4      C123\n",
       "5       NaN\n",
       "       ... \n",
       "887     NaN\n",
       "888     B42\n",
       "889     NaN\n",
       "890    C148\n",
       "891     NaN\n",
       "Name: Cabin, Length: 891, dtype: object>"
      ]
     },
     "execution_count": 25,
     "metadata": {},
     "output_type": "execute_result"
    }
   ],
   "source": [
    "train[\"Cabin\"].unique"
   ]
  },
  {
   "cell_type": "code",
   "execution_count": 26,
   "id": "e156ef10",
   "metadata": {},
   "outputs": [
    {
     "data": {
      "text/plain": [
       "<bound method Series.unique of PassengerId\n",
       "892      NaN\n",
       "893      NaN\n",
       "894      NaN\n",
       "895      NaN\n",
       "896      NaN\n",
       "        ... \n",
       "1305     NaN\n",
       "1306    C105\n",
       "1307     NaN\n",
       "1308     NaN\n",
       "1309     NaN\n",
       "Name: Cabin, Length: 418, dtype: object>"
      ]
     },
     "execution_count": 26,
     "metadata": {},
     "output_type": "execute_result"
    }
   ],
   "source": [
    "test[\"Cabin\"].unique"
   ]
  },
  {
   "cell_type": "code",
   "execution_count": 27,
   "id": "15dd135e",
   "metadata": {},
   "outputs": [],
   "source": [
    "# NaN 값 --> 결측치인 이유는 객실이 없었기 때문에\n",
    "# 기존 데이터에 없는 알파벳으로 객실 없음으로 표현해주기"
   ]
  },
  {
   "cell_type": "code",
   "execution_count": 28,
   "id": "c3f3a800",
   "metadata": {},
   "outputs": [],
   "source": [
    "#결측치를 M으로 채움\n",
    "train[\"Cabin\"] = train[\"Cabin\"].fillna(\"M\")\n",
    "test[\"Cabin\"] = test[\"Cabin\"].fillna(\"M\")"
   ]
  },
  {
   "cell_type": "code",
   "execution_count": 29,
   "id": "be2b7bf7",
   "metadata": {},
   "outputs": [
    {
     "name": "stdout",
     "output_type": "stream",
     "text": [
      "<class 'pandas.core.frame.DataFrame'>\n",
      "Int64Index: 891 entries, 1 to 891\n",
      "Data columns (total 11 columns):\n",
      " #   Column    Non-Null Count  Dtype  \n",
      "---  ------    --------------  -----  \n",
      " 0   Survived  891 non-null    int64  \n",
      " 1   Pclass    891 non-null    int64  \n",
      " 2   Name      891 non-null    object \n",
      " 3   Sex       891 non-null    object \n",
      " 4   Age       891 non-null    int64  \n",
      " 5   SibSp     891 non-null    int64  \n",
      " 6   Parch     891 non-null    int64  \n",
      " 7   Ticket    891 non-null    object \n",
      " 8   Fare      891 non-null    float64\n",
      " 9   Cabin     891 non-null    object \n",
      " 10  Embarked  891 non-null    object \n",
      "dtypes: float64(1), int64(5), object(5)\n",
      "memory usage: 83.5+ KB\n"
     ]
    }
   ],
   "source": [
    "train.info()"
   ]
  },
  {
   "cell_type": "code",
   "execution_count": 30,
   "id": "aee63096",
   "metadata": {},
   "outputs": [
    {
     "name": "stdout",
     "output_type": "stream",
     "text": [
      "<class 'pandas.core.frame.DataFrame'>\n",
      "Int64Index: 418 entries, 892 to 1309\n",
      "Data columns (total 10 columns):\n",
      " #   Column    Non-Null Count  Dtype \n",
      "---  ------    --------------  ----- \n",
      " 0   Pclass    418 non-null    int64 \n",
      " 1   Name      418 non-null    object\n",
      " 2   Sex       418 non-null    object\n",
      " 3   Age       418 non-null    int64 \n",
      " 4   SibSp     418 non-null    int64 \n",
      " 5   Parch     418 non-null    int64 \n",
      " 6   Ticket    418 non-null    object\n",
      " 7   Fare      418 non-null    int64 \n",
      " 8   Cabin     418 non-null    object\n",
      " 9   Embarked  418 non-null    object\n",
      "dtypes: int64(5), object(5)\n",
      "memory usage: 35.9+ KB\n"
     ]
    }
   ],
   "source": [
    "test.info()"
   ]
  },
  {
   "cell_type": "code",
   "execution_count": 31,
   "id": "e0373ca2",
   "metadata": {},
   "outputs": [],
   "source": [
    "#원래 객실 번호에서 영문자 추출\n",
    "train[\"Cabin\"] = train[\"Cabin\"].str[0]\n",
    "test[\"Cabin\"] = test[\"Cabin\"].str[0]   "
   ]
  },
  {
   "cell_type": "code",
   "execution_count": 32,
   "id": "5051abac",
   "metadata": {},
   "outputs": [
    {
     "data": {
      "text/plain": [
       "array(['M', 'C', 'E', 'G', 'D', 'A', 'B', 'F', 'T'], dtype=object)"
      ]
     },
     "execution_count": 32,
     "metadata": {},
     "output_type": "execute_result"
    }
   ],
   "source": [
    "train[\"Cabin\"].unique()"
   ]
  },
  {
   "attachments": {},
   "cell_type": "markdown",
   "id": "b8143f46",
   "metadata": {},
   "source": [
    "### 이상치 확인\n",
    "- describe(), skew() 등을 활용\n",
    "- 편향이 있으면 정규 분포로 만들어야 함"
   ]
  },
  {
   "cell_type": "code",
   "execution_count": 33,
   "id": "87db059c",
   "metadata": {
    "scrolled": true
   },
   "outputs": [
    {
     "data": {
      "text/html": [
       "<div>\n",
       "<style scoped>\n",
       "    .dataframe tbody tr th:only-of-type {\n",
       "        vertical-align: middle;\n",
       "    }\n",
       "\n",
       "    .dataframe tbody tr th {\n",
       "        vertical-align: top;\n",
       "    }\n",
       "\n",
       "    .dataframe thead th {\n",
       "        text-align: right;\n",
       "    }\n",
       "</style>\n",
       "<table border=\"1\" class=\"dataframe\">\n",
       "  <thead>\n",
       "    <tr style=\"text-align: right;\">\n",
       "      <th></th>\n",
       "      <th>Survived</th>\n",
       "      <th>Pclass</th>\n",
       "      <th>Age</th>\n",
       "      <th>SibSp</th>\n",
       "      <th>Parch</th>\n",
       "      <th>Fare</th>\n",
       "    </tr>\n",
       "  </thead>\n",
       "  <tbody>\n",
       "    <tr>\n",
       "      <th>count</th>\n",
       "      <td>891.000000</td>\n",
       "      <td>891.000000</td>\n",
       "      <td>891.000000</td>\n",
       "      <td>891.000000</td>\n",
       "      <td>891.000000</td>\n",
       "      <td>891.000000</td>\n",
       "    </tr>\n",
       "    <tr>\n",
       "      <th>mean</th>\n",
       "      <td>0.383838</td>\n",
       "      <td>2.308642</td>\n",
       "      <td>29.191919</td>\n",
       "      <td>0.523008</td>\n",
       "      <td>0.381594</td>\n",
       "      <td>32.204208</td>\n",
       "    </tr>\n",
       "    <tr>\n",
       "      <th>std</th>\n",
       "      <td>0.486592</td>\n",
       "      <td>0.836071</td>\n",
       "      <td>13.313598</td>\n",
       "      <td>1.102743</td>\n",
       "      <td>0.806057</td>\n",
       "      <td>49.693429</td>\n",
       "    </tr>\n",
       "    <tr>\n",
       "      <th>min</th>\n",
       "      <td>0.000000</td>\n",
       "      <td>1.000000</td>\n",
       "      <td>0.000000</td>\n",
       "      <td>0.000000</td>\n",
       "      <td>0.000000</td>\n",
       "      <td>0.000000</td>\n",
       "    </tr>\n",
       "    <tr>\n",
       "      <th>25%</th>\n",
       "      <td>0.000000</td>\n",
       "      <td>2.000000</td>\n",
       "      <td>21.000000</td>\n",
       "      <td>0.000000</td>\n",
       "      <td>0.000000</td>\n",
       "      <td>7.910400</td>\n",
       "    </tr>\n",
       "    <tr>\n",
       "      <th>50%</th>\n",
       "      <td>0.000000</td>\n",
       "      <td>3.000000</td>\n",
       "      <td>26.000000</td>\n",
       "      <td>0.000000</td>\n",
       "      <td>0.000000</td>\n",
       "      <td>14.454200</td>\n",
       "    </tr>\n",
       "    <tr>\n",
       "      <th>75%</th>\n",
       "      <td>1.000000</td>\n",
       "      <td>3.000000</td>\n",
       "      <td>36.000000</td>\n",
       "      <td>1.000000</td>\n",
       "      <td>0.000000</td>\n",
       "      <td>31.000000</td>\n",
       "    </tr>\n",
       "    <tr>\n",
       "      <th>max</th>\n",
       "      <td>1.000000</td>\n",
       "      <td>3.000000</td>\n",
       "      <td>80.000000</td>\n",
       "      <td>8.000000</td>\n",
       "      <td>6.000000</td>\n",
       "      <td>512.329200</td>\n",
       "    </tr>\n",
       "  </tbody>\n",
       "</table>\n",
       "</div>"
      ],
      "text/plain": [
       "         Survived      Pclass         Age       SibSp       Parch        Fare\n",
       "count  891.000000  891.000000  891.000000  891.000000  891.000000  891.000000\n",
       "mean     0.383838    2.308642   29.191919    0.523008    0.381594   32.204208\n",
       "std      0.486592    0.836071   13.313598    1.102743    0.806057   49.693429\n",
       "min      0.000000    1.000000    0.000000    0.000000    0.000000    0.000000\n",
       "25%      0.000000    2.000000   21.000000    0.000000    0.000000    7.910400\n",
       "50%      0.000000    3.000000   26.000000    0.000000    0.000000   14.454200\n",
       "75%      1.000000    3.000000   36.000000    1.000000    0.000000   31.000000\n",
       "max      1.000000    3.000000   80.000000    8.000000    6.000000  512.329200"
      ]
     },
     "execution_count": 33,
     "metadata": {},
     "output_type": "execute_result"
    }
   ],
   "source": [
    "train.describe()"
   ]
  },
  {
   "cell_type": "code",
   "execution_count": 34,
   "id": "86598b9d",
   "metadata": {},
   "outputs": [
    {
     "data": {
      "text/html": [
       "<div>\n",
       "<style scoped>\n",
       "    .dataframe tbody tr th:only-of-type {\n",
       "        vertical-align: middle;\n",
       "    }\n",
       "\n",
       "    .dataframe tbody tr th {\n",
       "        vertical-align: top;\n",
       "    }\n",
       "\n",
       "    .dataframe thead th {\n",
       "        text-align: right;\n",
       "    }\n",
       "</style>\n",
       "<table border=\"1\" class=\"dataframe\">\n",
       "  <thead>\n",
       "    <tr style=\"text-align: right;\">\n",
       "      <th></th>\n",
       "      <th>Pclass</th>\n",
       "      <th>Age</th>\n",
       "      <th>SibSp</th>\n",
       "      <th>Parch</th>\n",
       "      <th>Fare</th>\n",
       "    </tr>\n",
       "  </thead>\n",
       "  <tbody>\n",
       "    <tr>\n",
       "      <th>count</th>\n",
       "      <td>418.000000</td>\n",
       "      <td>418.000000</td>\n",
       "      <td>418.000000</td>\n",
       "      <td>418.000000</td>\n",
       "      <td>418.000000</td>\n",
       "    </tr>\n",
       "    <tr>\n",
       "      <th>mean</th>\n",
       "      <td>2.265550</td>\n",
       "      <td>29.437799</td>\n",
       "      <td>0.447368</td>\n",
       "      <td>0.392344</td>\n",
       "      <td>35.131579</td>\n",
       "    </tr>\n",
       "    <tr>\n",
       "      <th>std</th>\n",
       "      <td>0.841838</td>\n",
       "      <td>12.967482</td>\n",
       "      <td>0.896760</td>\n",
       "      <td>0.981429</td>\n",
       "      <td>55.856783</td>\n",
       "    </tr>\n",
       "    <tr>\n",
       "      <th>min</th>\n",
       "      <td>1.000000</td>\n",
       "      <td>0.000000</td>\n",
       "      <td>0.000000</td>\n",
       "      <td>0.000000</td>\n",
       "      <td>0.000000</td>\n",
       "    </tr>\n",
       "    <tr>\n",
       "      <th>25%</th>\n",
       "      <td>1.000000</td>\n",
       "      <td>21.000000</td>\n",
       "      <td>0.000000</td>\n",
       "      <td>0.000000</td>\n",
       "      <td>7.000000</td>\n",
       "    </tr>\n",
       "    <tr>\n",
       "      <th>50%</th>\n",
       "      <td>3.000000</td>\n",
       "      <td>26.000000</td>\n",
       "      <td>0.000000</td>\n",
       "      <td>0.000000</td>\n",
       "      <td>14.000000</td>\n",
       "    </tr>\n",
       "    <tr>\n",
       "      <th>75%</th>\n",
       "      <td>3.000000</td>\n",
       "      <td>36.000000</td>\n",
       "      <td>1.000000</td>\n",
       "      <td>0.000000</td>\n",
       "      <td>31.000000</td>\n",
       "    </tr>\n",
       "    <tr>\n",
       "      <th>max</th>\n",
       "      <td>3.000000</td>\n",
       "      <td>76.000000</td>\n",
       "      <td>8.000000</td>\n",
       "      <td>9.000000</td>\n",
       "      <td>512.000000</td>\n",
       "    </tr>\n",
       "  </tbody>\n",
       "</table>\n",
       "</div>"
      ],
      "text/plain": [
       "           Pclass         Age       SibSp       Parch        Fare\n",
       "count  418.000000  418.000000  418.000000  418.000000  418.000000\n",
       "mean     2.265550   29.437799    0.447368    0.392344   35.131579\n",
       "std      0.841838   12.967482    0.896760    0.981429   55.856783\n",
       "min      1.000000    0.000000    0.000000    0.000000    0.000000\n",
       "25%      1.000000   21.000000    0.000000    0.000000    7.000000\n",
       "50%      3.000000   26.000000    0.000000    0.000000   14.000000\n",
       "75%      3.000000   36.000000    1.000000    0.000000   31.000000\n",
       "max      3.000000   76.000000    8.000000    9.000000  512.000000"
      ]
     },
     "execution_count": 34,
     "metadata": {},
     "output_type": "execute_result"
    }
   ],
   "source": [
    "test.describe()"
   ]
  },
  {
   "attachments": {},
   "cell_type": "markdown",
   "id": "3e190d8e",
   "metadata": {},
   "source": [
    "### 데이터 시각화 \n",
    "- test데이터를 활용하지 않고 train데이터를 이용해서 시각화/탐색하는게 좋다."
   ]
  },
  {
   "cell_type": "markdown",
   "id": "8116a10e",
   "metadata": {},
   "source": [
    "### 범주형 데이터 시각화\n",
    "- (특징)정해진 범위 안에서 등장하는 것\n",
    "- 범주형 데이터는 빈도 기반의 시각화를 많이 한다. -> bar chart\n",
    "    - x축에 보통 범주가 들어감\n",
    "    - y축에 해당 데이터에 대한 수치값, 통계값이 많이 들어감 (빈도수)"
   ]
  },
  {
   "cell_type": "code",
   "execution_count": 35,
   "id": "bf97db03",
   "metadata": {},
   "outputs": [],
   "source": [
    "#matplotlib 기반의 데이터 시각화 라이브러리\n",
    "import seaborn as sns"
   ]
  },
  {
   "cell_type": "markdown",
   "id": "8f9e9cd8",
   "metadata": {},
   "source": [
    "#### Cabin 시각화"
   ]
  },
  {
   "cell_type": "code",
   "execution_count": 36,
   "id": "3c2f8ba4",
   "metadata": {},
   "outputs": [
    {
     "data": {
      "text/plain": [
       "<AxesSubplot:xlabel='Cabin', ylabel='count'>"
      ]
     },
     "execution_count": 36,
     "metadata": {},
     "output_type": "execute_result"
    },
    {
     "data": {
      "image/png": "[encoded data removed]",
      "text/plain": [
       "<Figure size 432x288 with 1 Axes>"
      ]
     },
     "metadata": {
      "needs_background": "light"
     },
     "output_type": "display_data"
    }
   ],
   "source": [
    "sns.countplot(data=train,   # 사용할 데이터 지정\n",
    "             x = 'Cabin',   # x축에서 범주로 사용할 컬럼 지정\n",
    "             hue = 'Survived')   # 각 범주를 분리할 컬럼 지정"
   ]
  },
  {
   "cell_type": "markdown",
   "id": "ce8e2b29",
   "metadata": {},
   "source": [
    "- B,D 같은 경우는 살아남기에 괜찮은 객실일 수 있다.\n",
    "- M 같은 경우는 죽은 사람들의 비율이 높다.\n",
    "- 'Cabin' 어느정도 활용할 법 해보인다."
   ]
  },
  {
   "cell_type": "markdown",
   "id": "af5acb7f",
   "metadata": {},
   "source": [
    "#### Pclass 시각화"
   ]
  },
  {
   "cell_type": "code",
   "execution_count": 37,
   "id": "ee7f40e7",
   "metadata": {},
   "outputs": [
    {
     "data": {
      "text/plain": [
       "<AxesSubplot:xlabel='Pclass', ylabel='count'>"
      ]
     },
     "execution_count": 37,
     "metadata": {},
     "output_type": "execute_result"
    },
    {
     "data": {
      "image/png": "[encoded data removed]",
      "text/plain": [
       "<Figure size 432x288 with 1 Axes>"
      ]
     },
     "metadata": {
      "needs_background": "light"
     },
     "output_type": "display_data"
    }
   ],
   "source": [
    "sns.countplot(data=train,   # 사용할 데이터 지정\n",
    "             x = 'Pclass',   # x축에서 범주로 사용할 컬럼 지정\n",
    "             hue = 'Survived')   # 각 범주를 분리할 컬럼 지정"
   ]
  },
  {
   "cell_type": "markdown",
   "id": "d5d409f1",
   "metadata": {},
   "source": [
    "- 1등급은 산 사람의 비율이 좀 더 높고, 3등급은 죽은 사람의 비율이 좀 더 높다."
   ]
  },
  {
   "cell_type": "markdown",
   "id": "816cddbf",
   "metadata": {},
   "source": [
    "#### Cabin  & Pclass 시각화\n"
   ]
  },
  {
   "cell_type": "code",
   "execution_count": 38,
   "id": "a1f9afcb",
   "metadata": {},
   "outputs": [
    {
     "data": {
      "text/plain": [
       "<AxesSubplot:xlabel='Cabin', ylabel='count'>"
      ]
     },
     "execution_count": 38,
     "metadata": {},
     "output_type": "execute_result"
    },
    {
     "data": {
      "image/png": "[encoded data removed]",
      "text/plain": [
       "<Figure size 432x288 with 1 Axes>"
      ]
     },
     "metadata": {
      "needs_background": "light"
     },
     "output_type": "display_data"
    }
   ],
   "source": [
    "sns.countplot(data=train,   # 사용할 데이터 지정\n",
    "             x = 'Cabin',   # x축에서 범주로 사용할 컬럼 지정\n",
    "             hue = 'Pclass')   # 각 범주를 분리할 컬럼 지정"
   ]
  },
  {
   "cell_type": "markdown",
   "id": "47027c89",
   "metadata": {},
   "source": [
    "- M 자체가 생존에 영향을 주었다기보다는 M에 3등급이 많아서 죽은 사람이 더 많지 않았을까?\n",
    "- Cabin 보다는 Pclass가 생존과 더 높은 상관관계를 갖지 않았을까?"
   ]
  },
  {
   "cell_type": "markdown",
   "id": "b201b087",
   "metadata": {},
   "source": [
    "### 수치형 데이터 시각화\n",
    "- 수치형 데이터는 반대로 range가 없고(최대값과 최소값이 없고) 사잇값들이 얼마든지 많이 등장할 수 있다.\n",
    "- 수치형 데이터는 데이터 자체를 보기보다는 구간을 나눠서 보면 insight를 얻는데 도움이 된다.\n",
    "- histogram 자주 사용(수치형 데이터를 구간화 해서 구간을 종합해줌)\n",
    "- 커널밀도 추정 그래프 : (정규분포도 비슷)\n",
    "- 산포도 scatter도 씀"
   ]
  },
  {
   "cell_type": "markdown",
   "id": "7c91eb66",
   "metadata": {},
   "source": [
    "#### matplotlib 함수 "
   ]
  },
  {
   "cell_type": "code",
   "execution_count": 39,
   "id": "5eef8393",
   "metadata": {},
   "outputs": [],
   "source": [
    "import matplotlib.pyplot as plt"
   ]
  },
  {
   "cell_type": "code",
   "execution_count": 40,
   "id": "15207449",
   "metadata": {},
   "outputs": [
    {
     "data": {
      "text/plain": [
       "(array([ 50.,  33., 206., 286., 132.,  95.,  50.,  26.,  11.,   2.]),\n",
       " array([ 0.,  8., 16., 24., 32., 40., 48., 56., 64., 72., 80.]),\n",
       " <BarContainer object of 10 artists>)"
      ]
     },
     "execution_count": 40,
     "metadata": {},
     "output_type": "execute_result"
    },
    {
     "data": {
      "image/png": "[encoded data removed]",
      "text/plain": [
       "<Figure size 432x288 with 1 Axes>"
      ]
     },
     "metadata": {
      "needs_background": "light"
     },
     "output_type": "display_data"
    }
   ],
   "source": [
    "plt.hist(train['Age'], bins=10)   #(구간을, 10개로 구분해서)"
   ]
  },
  {
   "cell_type": "markdown",
   "id": "aa08fe29",
   "metadata": {},
   "source": [
    "#### seaborn histplot 함수"
   ]
  },
  {
   "cell_type": "code",
   "execution_count": 41,
   "id": "199ee68f",
   "metadata": {},
   "outputs": [
    {
     "data": {
      "text/plain": [
       "<AxesSubplot:xlabel='Age', ylabel='Count'>"
      ]
     },
     "execution_count": 41,
     "metadata": {},
     "output_type": "execute_result"
    },
    {
     "data": {
      "image/png": "[encoded data removed]",
      "text/plain": [
       "<Figure size 432x288 with 1 Axes>"
      ]
     },
     "metadata": {
      "needs_background": "light"
     },
     "output_type": "display_data"
    }
   ],
   "source": [
    "sns.histplot(data=train, x=train['Age'], bins=20, hue='Survived')"
   ]
  },
  {
   "cell_type": "markdown",
   "id": "941be4d2",
   "metadata": {},
   "source": [
    "- 20대 중~후반의 사람들이 죽은 비율이 높다. \n",
    "- 10살 미만의 사람들이 산 비율이 약간 높다."
   ]
  },
  {
   "cell_type": "markdown",
   "id": "0ff32093",
   "metadata": {},
   "source": [
    "#### 커널밀도 추정 그래프"
   ]
  },
  {
   "cell_type": "code",
   "execution_count": 42,
   "id": "2746b18a",
   "metadata": {},
   "outputs": [
    {
     "data": {
      "text/plain": [
       "<AxesSubplot:xlabel='Fare', ylabel='Density'>"
      ]
     },
     "execution_count": 42,
     "metadata": {},
     "output_type": "execute_result"
    },
    {
     "data": {
      "image/png": "[encoded data removed]",
      "text/plain": [
       "<Figure size 432x288 with 1 Axes>"
      ]
     },
     "metadata": {
      "needs_background": "light"
     },
     "output_type": "display_data"
    }
   ],
   "source": [
    "#요금 데이터 시각화\n",
    "sns.kdeplot(data=train, x=train['Fare'], hue=train['Survived'])\n",
    "\n",
    "#추정 그래프이기 때문에 0미만의 값이 있을 수 있다고 추정하는 것임(실제 존재하지 않더라도 보여짐)"
   ]
  },
  {
   "cell_type": "markdown",
   "id": "35c6e52d",
   "metadata": {},
   "source": [
    "- 0~40달러 사이의 사람은 죽은 사람의 밀도가 높다.\n",
    "- 200달러 이상의 사람은 산 사람의 밀도 아주 살짝 높다."
   ]
  },
  {
   "cell_type": "markdown",
   "id": "96ccf1c6",
   "metadata": {},
   "source": [
    "#### 바이올린 플롯 (커널밀도 추정그래프 + 박스 플롯) 시각화\n",
    "-  박스 플롯 : 중앙값과 이상치를 한눈에 보기 좋다"
   ]
  },
  {
   "cell_type": "code",
   "execution_count": 43,
   "id": "d08a271b",
   "metadata": {},
   "outputs": [
    {
     "data": {
      "text/plain": [
       "<AxesSubplot:xlabel='Sex', ylabel='Age'>"
      ]
     },
     "execution_count": 43,
     "metadata": {},
     "output_type": "execute_result"
    },
    {
     "data": {
      "image/png": "[encoded data removed]",
      "text/plain": [
       "<Figure size 1080x360 with 1 Axes>"
      ]
     },
     "metadata": {
      "needs_background": "light"
     },
     "output_type": "display_data"
    }
   ],
   "source": [
    "plt.figure(figsize=(15,5))   #그래프의 가로,세로 크시 설정\n",
    "sns.violinplot(data=train,   #사용할 데이터\n",
    "               x='Sex',\n",
    "               y='Age',\n",
    "               hue='Survived',\n",
    "               split=True)"
   ]
  },
  {
   "attachments": {},
   "cell_type": "markdown",
   "id": "b881b2b3",
   "metadata": {},
   "source": [
    "#### 기타 시각화 그래프\n",
    "- heatmap : 상관관계 계수 시각화 할 때\n",
    "- pairplot : 분포확인"
   ]
  },
  {
   "cell_type": "markdown",
   "id": "1c0e3815",
   "metadata": {},
   "source": [
    "### 텍스트 데이터\n",
    "- 비정형 데이터는 단어중심 시각화 \n",
    "- wordcloud (google에 wordcloud 생성기 검색하면 나오기도 함)\n",
    "- 빈도기반의 시각화 활용가능"
   ]
  },
  {
   "cell_type": "code",
   "execution_count": null,
   "id": "139b5bb0",
   "metadata": {},
   "outputs": [],
   "source": []
  },
  {
   "attachments": {},
   "cell_type": "markdown",
   "id": "11ed28ee",
   "metadata": {},
   "source": [
    "## 3-2.특성공학(Feature Engineering)\n",
    "- fearture에서 유의미한 컬럼을 추출하거나 병합하는 행위"
   ]
  },
  {
   "cell_type": "code",
   "execution_count": 44,
   "id": "ea71aedc",
   "metadata": {},
   "outputs": [
    {
     "data": {
      "text/plain": [
       "Index(['Survived', 'Pclass', 'Name', 'Sex', 'Age', 'SibSp', 'Parch', 'Ticket',\n",
       "       'Fare', 'Cabin', 'Embarked'],\n",
       "      dtype='object')"
      ]
     },
     "execution_count": 44,
     "metadata": {},
     "output_type": "execute_result"
    }
   ],
   "source": [
    "train.columns"
   ]
  },
  {
   "attachments": {},
   "cell_type": "markdown",
   "id": "e259afe5",
   "metadata": {},
   "source": [
    "### fearture 병합\n"
   ]
  },
  {
   "attachments": {},
   "cell_type": "markdown",
   "id": "50e9b3b3",
   "metadata": {},
   "source": [
    "### SibSP와 Parch 병합하기\n",
    "- SibSp : 형제나 배우자\n",
    "- Parch : 부모 자식\n",
    "- 가족이라는 개념으로 병합가능"
   ]
  },
  {
   "cell_type": "code",
   "execution_count": 46,
   "id": "9a107d09",
   "metadata": {},
   "outputs": [
    {
     "data": {
      "text/plain": [
       "<AxesSubplot:xlabel='SibSp', ylabel='count'>"
      ]
     },
     "execution_count": 46,
     "metadata": {},
     "output_type": "execute_result"
    },
    {
     "data": {
      "image/png": "[encoded data removed]",
      "text/plain": [
       "<Figure size 432x288 with 1 Axes>"
      ]
     },
     "metadata": {
      "needs_background": "light"
     },
     "output_type": "display_data"
    }
   ],
   "source": [
    "sns.countplot(data=train,\n",
    "             x='SibSp',\n",
    "             hue='Survived')"
   ]
  },
  {
   "cell_type": "code",
   "execution_count": 47,
   "id": "e699e411",
   "metadata": {},
   "outputs": [
    {
     "data": {
      "text/plain": [
       "<AxesSubplot:xlabel='Parch', ylabel='count'>"
      ]
     },
     "execution_count": 47,
     "metadata": {},
     "output_type": "execute_result"
    },
    {
     "data": {
      "image/png": "[encoded data removed]",
      "text/plain": [
       "<Figure size 432x288 with 1 Axes>"
      ]
     },
     "metadata": {
      "needs_background": "light"
     },
     "output_type": "display_data"
    }
   ],
   "source": [
    "sns.countplot(data=train,\n",
    "             x='Parch',\n",
    "             hue='Survived')"
   ]
  },
  {
   "cell_type": "code",
   "execution_count": 48,
   "id": "5e1e48e0",
   "metadata": {},
   "outputs": [],
   "source": [
    "#형제, 배우자, 부모, 자식을 모두 합쳐 가족이라는 새로운 칼럼생성\n",
    "train['Family'] = train['SibSp'] + train['Parch']"
   ]
  },
  {
   "cell_type": "code",
   "execution_count": 49,
   "id": "88d2ebe7",
   "metadata": {},
   "outputs": [
    {
     "data": {
      "text/plain": [
       "<AxesSubplot:xlabel='Family', ylabel='count'>"
      ]
     },
     "execution_count": 49,
     "metadata": {},
     "output_type": "execute_result"
    },
    {
     "data": {
      "image/png": "[encoded data removed]",
      "text/plain": [
       "<Figure size 432x288 with 1 Axes>"
      ]
     },
     "metadata": {
      "needs_background": "light"
     },
     "output_type": "display_data"
    }
   ],
   "source": [
    "sns.countplot(data=train,\n",
    "             x='Family',\n",
    "             hue='Survived')"
   ]
  },
  {
   "cell_type": "markdown",
   "id": "88b8cad8",
   "metadata": {},
   "source": [
    "- 1~3명을 기준으로 구간이 반전되는 것이 보인다. 0명이면 오히려 죽은 사람이 많고 4명이상은 가족이 많아도 죽은 사람의 비율이 높다"
   ]
  },
  {
   "cell_type": "markdown",
   "id": "71ac4cb2",
   "metadata": {},
   "source": [
    "- 모든 가족의 숫자를 범주형으로 바꾼다\n",
    "- 혼자온 사람 (가족0명)\n",
    "- 소규모 가족 (1~3명의 가족)\n",
    "- 대규모 가족 (4명이상의 가족)\n",
    "- 수치형 데이터를 이런 범주로 나누게 되면 나의 의도를 좀 더 노골적으로 주입할 수 있게 된다."
   ]
  },
  {
   "cell_type": "markdown",
   "id": "2784a755",
   "metadata": {},
   "source": [
    "#### cut 함수를 이용한 Binning(수치 -> 범주)\n",
    "- Binning은 수치데이터들의 사소한 관찰 오류를 어느정도 상쇄시켜준다 (모델의 단순화를 유도, 과대적합 방지?)"
   ]
  },
  {
   "cell_type": "code",
   "execution_count": 50,
   "id": "06ddc478",
   "metadata": {},
   "outputs": [],
   "source": [
    "#cut함수 사용하기 위해 구간정보 필요\n",
    "bins = [-1,0,3,20] #데이터를 잘라낼 구간 정보 설정  \n",
    "# [앞 두개로 첫번째 구간 설정, 두번째 구간에 대한 정보는 두번째 요소와 세번째 요소 사이, \n",
    "# 세번째 구간에 대한 정보는 세번째 요소와 네번째 요소 사이 이런 방식으로 쭉쭉쭉] \n",
    "# 주의! 오른쪽에 있는 값 까지 포함하는 [초과,이하] 관계 (시작값이 앞에 것 보다 +1로 설정되어있음!!)"
   ]
  },
  {
   "cell_type": "code",
   "execution_count": 51,
   "id": "71542a96",
   "metadata": {},
   "outputs": [],
   "source": [
    "#cut 함수를 사용하기 위해 각 구간별로 라벨링 될 범주를 넣어줘야함\n",
    "labels = ['Alone', 'Small', 'Large'] #구간별 범주 이름"
   ]
  },
  {
   "cell_type": "code",
   "execution_count": 52,
   "id": "57f16ff0",
   "metadata": {},
   "outputs": [],
   "source": [
    "cut_result = pd.cut(x=train['Family'],   #구간화할 데이터 설정\n",
    "                    bins=bins,   #위에서 정의한 구간 범위 설정\n",
    "                    labels=labels)   #위에서 정의한 구간 범주 이름 설정"
   ]
  },
  {
   "cell_type": "code",
   "execution_count": 53,
   "id": "65933c55",
   "metadata": {},
   "outputs": [
    {
     "data": {
      "text/plain": [
       "PassengerId\n",
       "1      Small\n",
       "2      Small\n",
       "3      Alone\n",
       "4      Small\n",
       "5      Alone\n",
       "       ...  \n",
       "887    Alone\n",
       "888    Alone\n",
       "889    Small\n",
       "890    Alone\n",
       "891    Alone\n",
       "Name: Family, Length: 891, dtype: category\n",
       "Categories (3, object): ['Alone' < 'Small' < 'Large']"
      ]
     },
     "execution_count": 53,
     "metadata": {},
     "output_type": "execute_result"
    }
   ],
   "source": [
    "cut_result"
   ]
  },
  {
   "cell_type": "code",
   "execution_count": 54,
   "id": "78216a94",
   "metadata": {},
   "outputs": [],
   "source": [
    "#열추가로 수치데이터를 범주화 한 값을 추가해주기\n",
    "train['Family_cat'] = cut_result"
   ]
  },
  {
   "cell_type": "code",
   "execution_count": 55,
   "id": "63047a34",
   "metadata": {},
   "outputs": [
    {
     "data": {
      "text/plain": [
       "<AxesSubplot:xlabel='Family_cat', ylabel='count'>"
      ]
     },
     "execution_count": 55,
     "metadata": {},
     "output_type": "execute_result"
    },
    {
     "data": {
      "image/png": "[encoded data removed]",
      "text/plain": [
       "<Figure size 432x288 with 1 Axes>"
      ]
     },
     "metadata": {
      "needs_background": "light"
     },
     "output_type": "display_data"
    }
   ],
   "source": [
    "sns.countplot(data=train,\n",
    "            x='Family_cat',\n",
    "            hue='Survived')"
   ]
  },
  {
   "cell_type": "code",
   "execution_count": 56,
   "id": "9f8766ce",
   "metadata": {},
   "outputs": [],
   "source": [
    "#테스트 데이터도 만듬\n",
    "test['Family'] = test['SibSp'] + test['Parch']\n",
    "bins = [-1,0,3,20]\n",
    "labels = ['Alone', 'Small', 'Large']\n",
    "cut_result = pd.cut(x=test['Family'],  \n",
    "                    bins=bins,   \n",
    "                    labels=labels)  "
   ]
  },
  {
   "cell_type": "code",
   "execution_count": 57,
   "id": "31977e4c",
   "metadata": {},
   "outputs": [],
   "source": [
    "test['Family_cat'] = cut_result"
   ]
  },
  {
   "cell_type": "markdown",
   "id": "5239f095",
   "metadata": {},
   "source": [
    "### 비정형 데이터 다루기(Name) \n",
    "- 비정형 데이터 : 틀이 없는 데이터, 정형화 되지 않는 데이터\n",
    "- (음성, 이미지, 리뷰와 같은 텍스트 데이터)\n",
    "- 학습시키기 위해서는 정해진 포멧으로 정형화 시켜줘야함\n",
    "- (타이타닉에서 비정형 데이터는 이름 데이터)\n",
    "- 병합하지 않고 새로운 데이터 뽑아내기"
   ]
  },
  {
   "cell_type": "code",
   "execution_count": 58,
   "id": "de2ce2c0",
   "metadata": {},
   "outputs": [
    {
     "data": {
      "text/plain": [
       "PassengerId\n",
       "1                                Braund, Mr. Owen Harris\n",
       "2      Cumings, Mrs. John Bradley (Florence Briggs Th...\n",
       "3                                 Heikkinen, Miss. Laina\n",
       "4           Futrelle, Mrs. Jacques Heath (Lily May Peel)\n",
       "5                               Allen, Mr. William Henry\n",
       "                             ...                        \n",
       "887                                Montvila, Rev. Juozas\n",
       "888                         Graham, Miss. Margaret Edith\n",
       "889             Johnston, Miss. Catherine Helen \"Carrie\"\n",
       "890                                Behr, Mr. Karl Howell\n",
       "891                                  Dooley, Mr. Patrick\n",
       "Name: Name, Length: 891, dtype: object"
      ]
     },
     "execution_count": 58,
     "metadata": {},
     "output_type": "execute_result"
    }
   ],
   "source": [
    "train['Name']\n",
    "#사람 이름 그 자체보다는 이름 안에 들어 있는 호칭으로 정형화 가능"
   ]
  },
  {
   "cell_type": "markdown",
   "id": "8b0bdfd0",
   "metadata": {},
   "source": [
    "- 이름 중간에 호칭을 추출해서 사용해보자.\n",
    "- apply 함수는 사용자 정의 함수를 데이터에 적용시킬 수 있음\n",
    "- 우리가 원하면 행방향, 열방향으로 적용시킬 수 있음 \n",
    "- Name은 지금 시리즈 데이터 타입임(1차원 데이터)-> 열방향이 없어서 apply 쉽게 적용 가능"
   ]
  },
  {
   "cell_type": "code",
   "execution_count": 59,
   "id": "8649ba2c",
   "metadata": {},
   "outputs": [],
   "source": [
    "#def split_title(row):\n",
    "#    if row[('Mr.' in row) or ('Miss.' in row)]:\n",
    "#        return row"
   ]
  },
  {
   "cell_type": "code",
   "execution_count": 60,
   "id": "7833ab3b",
   "metadata": {},
   "outputs": [],
   "source": [
    "def split_title(row):\n",
    "        return row.split(',')[1].split('.')[0].strip()\n",
    "    #공백이 들어갈 수 있으니 양쪽 공백을 없애주는 strip함수 넣어야함\n",
    "    #문자열 중간의 공백은 단어들의 의미를 살리기 위해 지우지 않음\n",
    "    #문자열 맨 우측 맨 좌측 공백은 의미가 없는 경우가 많기 때문에 지움"
   ]
  },
  {
   "cell_type": "code",
   "execution_count": 61,
   "id": "474972b3",
   "metadata": {},
   "outputs": [],
   "source": [
    "train['Title'] = train['Name'].apply(split_title)\n",
    "test['Title'] = test['Name'].apply(split_title)"
   ]
  },
  {
   "cell_type": "markdown",
   "id": "9f7a329b",
   "metadata": {},
   "source": [
    "#### countplot 시각화"
   ]
  },
  {
   "cell_type": "code",
   "execution_count": 62,
   "id": "ebf9abd1",
   "metadata": {},
   "outputs": [
    {
     "data": {
      "text/plain": [
       "<AxesSubplot:xlabel='Title', ylabel='count'>"
      ]
     },
     "execution_count": 62,
     "metadata": {},
     "output_type": "execute_result"
    },
    {
     "data": {
      "image/png": "[encoded data removed]",
      "text/plain": [
       "<Figure size 1080x360 with 1 Axes>"
      ]
     },
     "metadata": {
      "needs_background": "light"
     },
     "output_type": "display_data"
    }
   ],
   "source": [
    "plt.figure(figsize=(15,5))   #그림판의 가로,세로 크기 조정(inch단위)\n",
    "sns.countplot(data=train,\n",
    "             x='Title',\n",
    "             hue='Survived')"
   ]
  },
  {
   "cell_type": "code",
   "execution_count": 63,
   "id": "46b1f26d",
   "metadata": {},
   "outputs": [],
   "source": [
    "# 일부 수치가 적은 호칭을 Other로 통일하자.\n",
    "# (짜잘한 범주들이 많으면 복잡도가 높아져서 좋지 않기 때문)\n",
    "# Mr, Mrs, Miss, Master, Rev, Other"
   ]
  },
  {
   "cell_type": "code",
   "execution_count": 64,
   "id": "a2104354",
   "metadata": {},
   "outputs": [],
   "source": [
    "# map 함수 이용하기 (데이터 치환시 사용)\n",
    "#(맵 함수는 치환할 데이터를 딕셔너리 형태로 넣어주는 함수, 딕셔너리가 정의하지 않는 것은 결측치로 반환한다.)\n",
    "\n",
    "title_dic = {\n",
    "    \"Mr\":\"Mr\",\n",
    "    \"Mrs\":\"Mrs\",\n",
    "    \"Miss\":\"Miss\",\n",
    "    \"Master\":\"Master\",\n",
    "    \"Rev\":\"Rev\"}  #살릴 것만 표현하고, 나머지 결측치를 다 채우는 방법으로 나머지 Other로 채우기"
   ]
  },
  {
   "cell_type": "code",
   "execution_count": 65,
   "id": "c5ce3a8d",
   "metadata": {},
   "outputs": [
    {
     "data": {
      "text/plain": [
       "PassengerId\n",
       "31     NaN\n",
       "246    NaN\n",
       "318    NaN\n",
       "370    NaN\n",
       "399    NaN\n",
       "444    NaN\n",
       "450    NaN\n",
       "537    NaN\n",
       "557    NaN\n",
       "600    NaN\n",
       "633    NaN\n",
       "642    NaN\n",
       "648    NaN\n",
       "661    NaN\n",
       "695    NaN\n",
       "711    NaN\n",
       "746    NaN\n",
       "760    NaN\n",
       "767    NaN\n",
       "797    NaN\n",
       "823    NaN\n",
       "Name: Title, dtype: object"
      ]
     },
     "execution_count": 65,
     "metadata": {},
     "output_type": "execute_result"
    }
   ],
   "source": [
    "title_mapping = train['Title'].map(title_dic)\n",
    "title_mapping[title_mapping.isnull()]"
   ]
  },
  {
   "cell_type": "code",
   "execution_count": 66,
   "id": "af5636d7",
   "metadata": {},
   "outputs": [],
   "source": [
    "#결측치 채우기\n",
    "train['Title'] =  title_mapping.fillna(\"Other\")"
   ]
  },
  {
   "cell_type": "code",
   "execution_count": 67,
   "id": "9e8279c8",
   "metadata": {},
   "outputs": [
    {
     "data": {
      "text/plain": [
       "PassengerId\n",
       "980     NaN\n",
       "1023    NaN\n",
       "1094    NaN\n",
       "1185    NaN\n",
       "1306    NaN\n",
       "Name: Title, dtype: object"
      ]
     },
     "execution_count": 67,
     "metadata": {},
     "output_type": "execute_result"
    }
   ],
   "source": [
    "#test 적용\n",
    "title_mapping = test['Title'].map(title_dic)\n",
    "title_mapping[title_mapping.isnull()]"
   ]
  },
  {
   "cell_type": "code",
   "execution_count": 68,
   "id": "b62a0836",
   "metadata": {},
   "outputs": [],
   "source": [
    "test['Title'] =  title_mapping.fillna(\"Other\")"
   ]
  },
  {
   "cell_type": "code",
   "execution_count": 69,
   "id": "83d56e09",
   "metadata": {},
   "outputs": [
    {
     "name": "stdout",
     "output_type": "stream",
     "text": [
      "['Mr' 'Mrs' 'Miss' 'Master' 'Other' 'Rev']\n",
      "['Mr' 'Mrs' 'Miss' 'Master' 'Other' 'Rev']\n"
     ]
    }
   ],
   "source": [
    "print(train['Title'].unique())\n",
    "print(test['Title'].unique())"
   ]
  },
  {
   "cell_type": "markdown",
   "id": "1acb91f4",
   "metadata": {},
   "source": [
    "### drop 함수 활용하여 사용하지 않을 컬럼 정리\n",
    "- drop은 행 중심 작동이 디폴트"
   ]
  },
  {
   "cell_type": "code",
   "execution_count": 70,
   "id": "d28c70c1",
   "metadata": {
    "scrolled": true
   },
   "outputs": [
    {
     "data": {
      "text/plain": [
       "Index(['Survived', 'Pclass', 'Name', 'Sex', 'Age', 'SibSp', 'Parch', 'Ticket',\n",
       "       'Fare', 'Cabin', 'Embarked', 'Family', 'Family_cat', 'Title'],\n",
       "      dtype='object')"
      ]
     },
     "execution_count": 70,
     "metadata": {},
     "output_type": "execute_result"
    }
   ],
   "source": [
    "train.columns"
   ]
  },
  {
   "cell_type": "code",
   "execution_count": 71,
   "id": "00302b88",
   "metadata": {},
   "outputs": [
    {
     "data": {
      "text/plain": [
       "Index(['Pclass', 'Name', 'Sex', 'Age', 'SibSp', 'Parch', 'Ticket', 'Fare',\n",
       "       'Cabin', 'Embarked', 'Family', 'Family_cat', 'Title'],\n",
       "      dtype='object')"
      ]
     },
     "execution_count": 71,
     "metadata": {},
     "output_type": "execute_result"
    }
   ],
   "source": [
    "test.columns"
   ]
  },
  {
   "cell_type": "code",
   "execution_count": 72,
   "id": "1d89e885",
   "metadata": {},
   "outputs": [],
   "source": [
    "train.drop(['Name', \"SibSp\", 'Parch', 'Ticket'], axis=1, inplace=True)  #inplace=True는 원본 데이터에 변경된 내용 적용"
   ]
  },
  {
   "cell_type": "code",
   "execution_count": 73,
   "id": "95432062",
   "metadata": {},
   "outputs": [],
   "source": [
    "test.drop(['Name', \"SibSp\", 'Parch', 'Ticket'], axis=1, inplace=True)"
   ]
  },
  {
   "cell_type": "code",
   "execution_count": 74,
   "id": "d1d8c9fd",
   "metadata": {},
   "outputs": [
    {
     "name": "stdout",
     "output_type": "stream",
     "text": [
      "train columns : Index(['Survived', 'Pclass', 'Sex', 'Age', 'Fare', 'Cabin', 'Embarked',\n",
      "       'Family', 'Family_cat', 'Title'],\n",
      "      dtype='object')\n",
      "test columns : Index(['Pclass', 'Sex', 'Age', 'Fare', 'Cabin', 'Embarked', 'Family',\n",
      "       'Family_cat', 'Title'],\n",
      "      dtype='object')\n"
     ]
    }
   ],
   "source": [
    "print(\"train columns :\", train.columns)\n",
    "print(\"test columns :\", test.columns)"
   ]
  },
  {
   "attachments": {},
   "cell_type": "markdown",
   "id": "9ce8a360",
   "metadata": {},
   "source": [
    "### 인코딩"
   ]
  },
  {
   "cell_type": "code",
   "execution_count": 75,
   "id": "ade2d86b",
   "metadata": {},
   "outputs": [
    {
     "data": {
      "text/plain": [
       "Index(['Survived', 'Pclass', 'Sex', 'Age', 'Fare', 'Cabin', 'Embarked',\n",
       "       'Family', 'Family_cat', 'Title'],\n",
       "      dtype='object')"
      ]
     },
     "execution_count": 75,
     "metadata": {},
     "output_type": "execute_result"
    }
   ],
   "source": [
    "# 인코딩할 특성 탐색\n",
    "train.columns\n",
    "# 성별: 순서x\n",
    "#객실: 순서x\n",
    "#탑승항: 순서x \n",
    "#Family_cat: 순서x\n",
    "#호칭: 순서x"
   ]
  },
  {
   "cell_type": "code",
   "execution_count": 76,
   "id": "4dd51ed7",
   "metadata": {},
   "outputs": [],
   "source": [
    "# 인코딩할 컬럼명만 선택\n",
    "categorical_features = ['Sex','Cabin','Embarked','Family_cat','Title']"
   ]
  },
  {
   "cell_type": "code",
   "execution_count": 77,
   "id": "42691adf",
   "metadata": {},
   "outputs": [],
   "source": [
    "# 원핫인코딩 함수 pd.get_dummies()\n",
    "# 종류만큼 컬럼을 늘리고 해당 종류에 속하면 1 속하지 않으면 0을 매겨줌\n",
    "#pd.get_dummies(train['Sex'])"
   ]
  },
  {
   "cell_type": "code",
   "execution_count": 78,
   "id": "93a492ae",
   "metadata": {},
   "outputs": [],
   "source": [
    "# 반복문으로 인코딩하기\n",
    "# prefix=feature_name  <- 어느컬럼에서 나왔는지 알려주는 용도\n",
    "for feature_name in categorical_features:\n",
    "    one_hot = pd.get_dummies(train[feature_name], prefix=feature_name)\n",
    "    train = pd.concat([train,one_hot], axis=1)   # 기존 데이터 끝에 one_hot을 붙여서 다시 train에 담아주기\n",
    "    train.drop(feature_name, axis=1, inplace=True)   # 인코딩한 칼럼 삭제"
   ]
  },
  {
   "cell_type": "code",
   "execution_count": 79,
   "id": "e1f89bab",
   "metadata": {},
   "outputs": [
    {
     "data": {
      "text/html": [
       "<div>\n",
       "<style scoped>\n",
       "    .dataframe tbody tr th:only-of-type {\n",
       "        vertical-align: middle;\n",
       "    }\n",
       "\n",
       "    .dataframe tbody tr th {\n",
       "        vertical-align: top;\n",
       "    }\n",
       "\n",
       "    .dataframe thead th {\n",
       "        text-align: right;\n",
       "    }\n",
       "</style>\n",
       "<table border=\"1\" class=\"dataframe\">\n",
       "  <thead>\n",
       "    <tr style=\"text-align: right;\">\n",
       "      <th></th>\n",
       "      <th>Survived</th>\n",
       "      <th>Pclass</th>\n",
       "      <th>Age</th>\n",
       "      <th>Fare</th>\n",
       "      <th>Family</th>\n",
       "      <th>Sex_female</th>\n",
       "      <th>Sex_male</th>\n",
       "      <th>Cabin_A</th>\n",
       "      <th>Cabin_B</th>\n",
       "      <th>Cabin_C</th>\n",
       "      <th>...</th>\n",
       "      <th>Embarked_S</th>\n",
       "      <th>Family_cat_Alone</th>\n",
       "      <th>Family_cat_Small</th>\n",
       "      <th>Family_cat_Large</th>\n",
       "      <th>Title_Master</th>\n",
       "      <th>Title_Miss</th>\n",
       "      <th>Title_Mr</th>\n",
       "      <th>Title_Mrs</th>\n",
       "      <th>Title_Other</th>\n",
       "      <th>Title_Rev</th>\n",
       "    </tr>\n",
       "    <tr>\n",
       "      <th>PassengerId</th>\n",
       "      <th></th>\n",
       "      <th></th>\n",
       "      <th></th>\n",
       "      <th></th>\n",
       "      <th></th>\n",
       "      <th></th>\n",
       "      <th></th>\n",
       "      <th></th>\n",
       "      <th></th>\n",
       "      <th></th>\n",
       "      <th></th>\n",
       "      <th></th>\n",
       "      <th></th>\n",
       "      <th></th>\n",
       "      <th></th>\n",
       "      <th></th>\n",
       "      <th></th>\n",
       "      <th></th>\n",
       "      <th></th>\n",
       "      <th></th>\n",
       "      <th></th>\n",
       "    </tr>\n",
       "  </thead>\n",
       "  <tbody>\n",
       "    <tr>\n",
       "      <th>1</th>\n",
       "      <td>0</td>\n",
       "      <td>3</td>\n",
       "      <td>22</td>\n",
       "      <td>7.2500</td>\n",
       "      <td>1</td>\n",
       "      <td>0</td>\n",
       "      <td>1</td>\n",
       "      <td>0</td>\n",
       "      <td>0</td>\n",
       "      <td>0</td>\n",
       "      <td>...</td>\n",
       "      <td>1</td>\n",
       "      <td>0</td>\n",
       "      <td>1</td>\n",
       "      <td>0</td>\n",
       "      <td>0</td>\n",
       "      <td>0</td>\n",
       "      <td>1</td>\n",
       "      <td>0</td>\n",
       "      <td>0</td>\n",
       "      <td>0</td>\n",
       "    </tr>\n",
       "    <tr>\n",
       "      <th>2</th>\n",
       "      <td>1</td>\n",
       "      <td>1</td>\n",
       "      <td>38</td>\n",
       "      <td>71.2833</td>\n",
       "      <td>1</td>\n",
       "      <td>1</td>\n",
       "      <td>0</td>\n",
       "      <td>0</td>\n",
       "      <td>0</td>\n",
       "      <td>1</td>\n",
       "      <td>...</td>\n",
       "      <td>0</td>\n",
       "      <td>0</td>\n",
       "      <td>1</td>\n",
       "      <td>0</td>\n",
       "      <td>0</td>\n",
       "      <td>0</td>\n",
       "      <td>0</td>\n",
       "      <td>1</td>\n",
       "      <td>0</td>\n",
       "      <td>0</td>\n",
       "    </tr>\n",
       "    <tr>\n",
       "      <th>3</th>\n",
       "      <td>1</td>\n",
       "      <td>3</td>\n",
       "      <td>26</td>\n",
       "      <td>7.9250</td>\n",
       "      <td>0</td>\n",
       "      <td>1</td>\n",
       "      <td>0</td>\n",
       "      <td>0</td>\n",
       "      <td>0</td>\n",
       "      <td>0</td>\n",
       "      <td>...</td>\n",
       "      <td>1</td>\n",
       "      <td>1</td>\n",
       "      <td>0</td>\n",
       "      <td>0</td>\n",
       "      <td>0</td>\n",
       "      <td>1</td>\n",
       "      <td>0</td>\n",
       "      <td>0</td>\n",
       "      <td>0</td>\n",
       "      <td>0</td>\n",
       "    </tr>\n",
       "    <tr>\n",
       "      <th>4</th>\n",
       "      <td>1</td>\n",
       "      <td>1</td>\n",
       "      <td>35</td>\n",
       "      <td>53.1000</td>\n",
       "      <td>1</td>\n",
       "      <td>1</td>\n",
       "      <td>0</td>\n",
       "      <td>0</td>\n",
       "      <td>0</td>\n",
       "      <td>1</td>\n",
       "      <td>...</td>\n",
       "      <td>1</td>\n",
       "      <td>0</td>\n",
       "      <td>1</td>\n",
       "      <td>0</td>\n",
       "      <td>0</td>\n",
       "      <td>0</td>\n",
       "      <td>0</td>\n",
       "      <td>1</td>\n",
       "      <td>0</td>\n",
       "      <td>0</td>\n",
       "    </tr>\n",
       "    <tr>\n",
       "      <th>5</th>\n",
       "      <td>0</td>\n",
       "      <td>3</td>\n",
       "      <td>35</td>\n",
       "      <td>8.0500</td>\n",
       "      <td>0</td>\n",
       "      <td>0</td>\n",
       "      <td>1</td>\n",
       "      <td>0</td>\n",
       "      <td>0</td>\n",
       "      <td>0</td>\n",
       "      <td>...</td>\n",
       "      <td>1</td>\n",
       "      <td>1</td>\n",
       "      <td>0</td>\n",
       "      <td>0</td>\n",
       "      <td>0</td>\n",
       "      <td>0</td>\n",
       "      <td>1</td>\n",
       "      <td>0</td>\n",
       "      <td>0</td>\n",
       "      <td>0</td>\n",
       "    </tr>\n",
       "  </tbody>\n",
       "</table>\n",
       "<p>5 rows × 28 columns</p>\n",
       "</div>"
      ],
      "text/plain": [
       "             Survived  Pclass  Age     Fare  Family  Sex_female  Sex_male  \\\n",
       "PassengerId                                                                 \n",
       "1                   0       3   22   7.2500       1           0         1   \n",
       "2                   1       1   38  71.2833       1           1         0   \n",
       "3                   1       3   26   7.9250       0           1         0   \n",
       "4                   1       1   35  53.1000       1           1         0   \n",
       "5                   0       3   35   8.0500       0           0         1   \n",
       "\n",
       "             Cabin_A  Cabin_B  Cabin_C  ...  Embarked_S  Family_cat_Alone  \\\n",
       "PassengerId                             ...                                 \n",
       "1                  0        0        0  ...           1                 0   \n",
       "2                  0        0        1  ...           0                 0   \n",
       "3                  0        0        0  ...           1                 1   \n",
       "4                  0        0        1  ...           1                 0   \n",
       "5                  0        0        0  ...           1                 1   \n",
       "\n",
       "             Family_cat_Small  Family_cat_Large  Title_Master  Title_Miss  \\\n",
       "PassengerId                                                                 \n",
       "1                           1                 0             0           0   \n",
       "2                           1                 0             0           0   \n",
       "3                           0                 0             0           1   \n",
       "4                           1                 0             0           0   \n",
       "5                           0                 0             0           0   \n",
       "\n",
       "             Title_Mr  Title_Mrs  Title_Other  Title_Rev  \n",
       "PassengerId                                               \n",
       "1                   1          0            0          0  \n",
       "2                   0          1            0          0  \n",
       "3                   0          0            0          0  \n",
       "4                   0          1            0          0  \n",
       "5                   1          0            0          0  \n",
       "\n",
       "[5 rows x 28 columns]"
      ]
     },
     "execution_count": 79,
     "metadata": {},
     "output_type": "execute_result"
    }
   ],
   "source": [
    "train.head()"
   ]
  },
  {
   "cell_type": "code",
   "execution_count": 80,
   "id": "836182b9",
   "metadata": {},
   "outputs": [],
   "source": [
    "#테스트 데이터에도 적용\n",
    "for feature_name in categorical_features:\n",
    "    one_hot = pd.get_dummies(test[feature_name], prefix=feature_name)\n",
    "    test = pd.concat([test,one_hot], axis=1)   \n",
    "    test.drop(feature_name, axis=1, inplace=True) "
   ]
  },
  {
   "cell_type": "code",
   "execution_count": 81,
   "id": "c44d8eca",
   "metadata": {
    "scrolled": false
   },
   "outputs": [
    {
     "data": {
      "text/html": [
       "<div>\n",
       "<style scoped>\n",
       "    .dataframe tbody tr th:only-of-type {\n",
       "        vertical-align: middle;\n",
       "    }\n",
       "\n",
       "    .dataframe tbody tr th {\n",
       "        vertical-align: top;\n",
       "    }\n",
       "\n",
       "    .dataframe thead th {\n",
       "        text-align: right;\n",
       "    }\n",
       "</style>\n",
       "<table border=\"1\" class=\"dataframe\">\n",
       "  <thead>\n",
       "    <tr style=\"text-align: right;\">\n",
       "      <th></th>\n",
       "      <th>Pclass</th>\n",
       "      <th>Age</th>\n",
       "      <th>Fare</th>\n",
       "      <th>Family</th>\n",
       "      <th>Sex_female</th>\n",
       "      <th>Sex_male</th>\n",
       "      <th>Cabin_A</th>\n",
       "      <th>Cabin_B</th>\n",
       "      <th>Cabin_C</th>\n",
       "      <th>Cabin_D</th>\n",
       "      <th>...</th>\n",
       "      <th>Embarked_S</th>\n",
       "      <th>Family_cat_Alone</th>\n",
       "      <th>Family_cat_Small</th>\n",
       "      <th>Family_cat_Large</th>\n",
       "      <th>Title_Master</th>\n",
       "      <th>Title_Miss</th>\n",
       "      <th>Title_Mr</th>\n",
       "      <th>Title_Mrs</th>\n",
       "      <th>Title_Other</th>\n",
       "      <th>Title_Rev</th>\n",
       "    </tr>\n",
       "    <tr>\n",
       "      <th>PassengerId</th>\n",
       "      <th></th>\n",
       "      <th></th>\n",
       "      <th></th>\n",
       "      <th></th>\n",
       "      <th></th>\n",
       "      <th></th>\n",
       "      <th></th>\n",
       "      <th></th>\n",
       "      <th></th>\n",
       "      <th></th>\n",
       "      <th></th>\n",
       "      <th></th>\n",
       "      <th></th>\n",
       "      <th></th>\n",
       "      <th></th>\n",
       "      <th></th>\n",
       "      <th></th>\n",
       "      <th></th>\n",
       "      <th></th>\n",
       "      <th></th>\n",
       "      <th></th>\n",
       "    </tr>\n",
       "  </thead>\n",
       "  <tbody>\n",
       "    <tr>\n",
       "      <th>892</th>\n",
       "      <td>3</td>\n",
       "      <td>34</td>\n",
       "      <td>7</td>\n",
       "      <td>0</td>\n",
       "      <td>0</td>\n",
       "      <td>1</td>\n",
       "      <td>0</td>\n",
       "      <td>0</td>\n",
       "      <td>0</td>\n",
       "      <td>0</td>\n",
       "      <td>...</td>\n",
       "      <td>0</td>\n",
       "      <td>1</td>\n",
       "      <td>0</td>\n",
       "      <td>0</td>\n",
       "      <td>0</td>\n",
       "      <td>0</td>\n",
       "      <td>1</td>\n",
       "      <td>0</td>\n",
       "      <td>0</td>\n",
       "      <td>0</td>\n",
       "    </tr>\n",
       "    <tr>\n",
       "      <th>893</th>\n",
       "      <td>3</td>\n",
       "      <td>47</td>\n",
       "      <td>7</td>\n",
       "      <td>1</td>\n",
       "      <td>1</td>\n",
       "      <td>0</td>\n",
       "      <td>0</td>\n",
       "      <td>0</td>\n",
       "      <td>0</td>\n",
       "      <td>0</td>\n",
       "      <td>...</td>\n",
       "      <td>1</td>\n",
       "      <td>0</td>\n",
       "      <td>1</td>\n",
       "      <td>0</td>\n",
       "      <td>0</td>\n",
       "      <td>0</td>\n",
       "      <td>0</td>\n",
       "      <td>1</td>\n",
       "      <td>0</td>\n",
       "      <td>0</td>\n",
       "    </tr>\n",
       "    <tr>\n",
       "      <th>894</th>\n",
       "      <td>2</td>\n",
       "      <td>62</td>\n",
       "      <td>9</td>\n",
       "      <td>0</td>\n",
       "      <td>0</td>\n",
       "      <td>1</td>\n",
       "      <td>0</td>\n",
       "      <td>0</td>\n",
       "      <td>0</td>\n",
       "      <td>0</td>\n",
       "      <td>...</td>\n",
       "      <td>0</td>\n",
       "      <td>1</td>\n",
       "      <td>0</td>\n",
       "      <td>0</td>\n",
       "      <td>0</td>\n",
       "      <td>0</td>\n",
       "      <td>1</td>\n",
       "      <td>0</td>\n",
       "      <td>0</td>\n",
       "      <td>0</td>\n",
       "    </tr>\n",
       "    <tr>\n",
       "      <th>895</th>\n",
       "      <td>3</td>\n",
       "      <td>27</td>\n",
       "      <td>8</td>\n",
       "      <td>0</td>\n",
       "      <td>0</td>\n",
       "      <td>1</td>\n",
       "      <td>0</td>\n",
       "      <td>0</td>\n",
       "      <td>0</td>\n",
       "      <td>0</td>\n",
       "      <td>...</td>\n",
       "      <td>1</td>\n",
       "      <td>1</td>\n",
       "      <td>0</td>\n",
       "      <td>0</td>\n",
       "      <td>0</td>\n",
       "      <td>0</td>\n",
       "      <td>1</td>\n",
       "      <td>0</td>\n",
       "      <td>0</td>\n",
       "      <td>0</td>\n",
       "    </tr>\n",
       "    <tr>\n",
       "      <th>896</th>\n",
       "      <td>3</td>\n",
       "      <td>22</td>\n",
       "      <td>12</td>\n",
       "      <td>2</td>\n",
       "      <td>1</td>\n",
       "      <td>0</td>\n",
       "      <td>0</td>\n",
       "      <td>0</td>\n",
       "      <td>0</td>\n",
       "      <td>0</td>\n",
       "      <td>...</td>\n",
       "      <td>1</td>\n",
       "      <td>0</td>\n",
       "      <td>1</td>\n",
       "      <td>0</td>\n",
       "      <td>0</td>\n",
       "      <td>0</td>\n",
       "      <td>0</td>\n",
       "      <td>1</td>\n",
       "      <td>0</td>\n",
       "      <td>0</td>\n",
       "    </tr>\n",
       "  </tbody>\n",
       "</table>\n",
       "<p>5 rows × 26 columns</p>\n",
       "</div>"
      ],
      "text/plain": [
       "             Pclass  Age  Fare  Family  Sex_female  Sex_male  Cabin_A  \\\n",
       "PassengerId                                                             \n",
       "892               3   34     7       0           0         1        0   \n",
       "893               3   47     7       1           1         0        0   \n",
       "894               2   62     9       0           0         1        0   \n",
       "895               3   27     8       0           0         1        0   \n",
       "896               3   22    12       2           1         0        0   \n",
       "\n",
       "             Cabin_B  Cabin_C  Cabin_D  ...  Embarked_S  Family_cat_Alone  \\\n",
       "PassengerId                             ...                                 \n",
       "892                0        0        0  ...           0                 1   \n",
       "893                0        0        0  ...           1                 0   \n",
       "894                0        0        0  ...           0                 1   \n",
       "895                0        0        0  ...           1                 1   \n",
       "896                0        0        0  ...           1                 0   \n",
       "\n",
       "             Family_cat_Small  Family_cat_Large  Title_Master  Title_Miss  \\\n",
       "PassengerId                                                                 \n",
       "892                         0                 0             0           0   \n",
       "893                         1                 0             0           0   \n",
       "894                         0                 0             0           0   \n",
       "895                         0                 0             0           0   \n",
       "896                         1                 0             0           0   \n",
       "\n",
       "             Title_Mr  Title_Mrs  Title_Other  Title_Rev  \n",
       "PassengerId                                               \n",
       "892                 1          0            0          0  \n",
       "893                 0          1            0          0  \n",
       "894                 1          0            0          0  \n",
       "895                 1          0            0          0  \n",
       "896                 0          1            0          0  \n",
       "\n",
       "[5 rows x 26 columns]"
      ]
     },
     "execution_count": 81,
     "metadata": {},
     "output_type": "execute_result"
    }
   ],
   "source": [
    "test.head()"
   ]
  },
  {
   "cell_type": "code",
   "execution_count": 82,
   "id": "0856c4d0",
   "metadata": {},
   "outputs": [
    {
     "data": {
      "text/plain": [
       "((891, 28), (418, 26))"
      ]
     },
     "execution_count": 82,
     "metadata": {},
     "output_type": "execute_result"
    }
   ],
   "source": [
    "train.shape, test.shape\n",
    "#원래는 컬럼차이가 라벨데이터 1개여야 하는데 2개면 인코딩 과정에서 뭔가 달라졌다는 뜻\n",
    "#train컬럼과 test컬럼 차이 집합으로 알아볼 수 있다."
   ]
  },
  {
   "cell_type": "code",
   "execution_count": 83,
   "id": "fc9addbc",
   "metadata": {},
   "outputs": [
    {
     "data": {
      "text/plain": [
       "{'Cabin_T', 'Survived'}"
      ]
     },
     "execution_count": 83,
     "metadata": {},
     "output_type": "execute_result"
    }
   ],
   "source": [
    "#집합연산(set)으로 다른 컬럼을 확인해보자.  \n",
    "#집합은 중괄호로 시작하는데 딕셔너리와 다르게 세트가 아니라 단일요소\n",
    "set(train.columns) - set(test.columns)"
   ]
  },
  {
   "cell_type": "code",
   "execution_count": 84,
   "id": "2e79bd9a",
   "metadata": {},
   "outputs": [],
   "source": [
    "#train데이터와 test데이터가 가진 범주형 데이터의 가지수가 다른 경우 다르게 나올 수 있다.\n",
    "#훈련용 데이터에는 Cabin에 T가 존재했지만\n",
    "#테스트 데이터는 Cabin에 T가 없어서 one-hot 인코딩 시 칼럼이 안만들어졌다.\n",
    "#해결방법: 테스트 데이터 끝에 Cabin_T를 추가 + 컬럼 정렬 "
   ]
  },
  {
   "cell_type": "code",
   "execution_count": 85,
   "id": "cef29536",
   "metadata": {},
   "outputs": [],
   "source": [
    "test['Cabin_T'] = 0"
   ]
  },
  {
   "cell_type": "code",
   "execution_count": 86,
   "id": "7e0ec6aa",
   "metadata": {},
   "outputs": [
    {
     "data": {
      "text/plain": [
       "(418, 27)"
      ]
     },
     "execution_count": 86,
     "metadata": {},
     "output_type": "execute_result"
    }
   ],
   "source": [
    "test.shape"
   ]
  },
  {
   "cell_type": "code",
   "execution_count": 87,
   "id": "f2d36928",
   "metadata": {},
   "outputs": [],
   "source": [
    "# 훈련용 데이터와 테스트 데이터의 인덱스 순서가 다르기 때문에 컬럼 정렬해주기\n",
    "train.sort_index(axis=1, inplace=True)\n",
    "test.sort_index(axis=1, inplace=True)\n",
    "# 라벨 데이터는 나중에 따로 분리할 거라서 상관없음"
   ]
  },
  {
   "cell_type": "code",
   "execution_count": 88,
   "id": "76bc8598",
   "metadata": {},
   "outputs": [
    {
     "data": {
      "text/plain": [
       "Index(['Age', 'Cabin_A', 'Cabin_B', 'Cabin_C', 'Cabin_D', 'Cabin_E', 'Cabin_F',\n",
       "       'Cabin_G', 'Cabin_M', 'Cabin_T', 'Embarked_C', 'Embarked_Q',\n",
       "       'Embarked_S', 'Family', 'Family_cat_Alone', 'Family_cat_Large',\n",
       "       'Family_cat_Small', 'Fare', 'Pclass', 'Sex_female', 'Sex_male',\n",
       "       'Survived', 'Title_Master', 'Title_Miss', 'Title_Mr', 'Title_Mrs',\n",
       "       'Title_Other', 'Title_Rev'],\n",
       "      dtype='object')"
      ]
     },
     "execution_count": 88,
     "metadata": {},
     "output_type": "execute_result"
    }
   ],
   "source": [
    "train.columns"
   ]
  },
  {
   "cell_type": "code",
   "execution_count": 89,
   "id": "6af692b6",
   "metadata": {},
   "outputs": [
    {
     "data": {
      "text/plain": [
       "Index(['Age', 'Cabin_A', 'Cabin_B', 'Cabin_C', 'Cabin_D', 'Cabin_E', 'Cabin_F',\n",
       "       'Cabin_G', 'Cabin_M', 'Cabin_T', 'Embarked_C', 'Embarked_Q',\n",
       "       'Embarked_S', 'Family', 'Family_cat_Alone', 'Family_cat_Large',\n",
       "       'Family_cat_Small', 'Fare', 'Pclass', 'Sex_female', 'Sex_male',\n",
       "       'Title_Master', 'Title_Miss', 'Title_Mr', 'Title_Mrs', 'Title_Other',\n",
       "       'Title_Rev'],\n",
       "      dtype='object')"
      ]
     },
     "execution_count": 89,
     "metadata": {},
     "output_type": "execute_result"
    }
   ],
   "source": [
    "test.columns"
   ]
  },
  {
   "attachments": {},
   "cell_type": "markdown",
   "id": "a947aff9",
   "metadata": {},
   "source": [
    "## 3-3. 특성선택\n",
    "- 예측결과에 영향을 줄 특성들을 골라본다.\n",
    "- Family와 Family_cat이 비슷한 특성이기 때문에 선택해보자."
   ]
  },
  {
   "cell_type": "markdown",
   "id": "a1c643ef",
   "metadata": {},
   "source": [
    "### 문제와 답 만들기"
   ]
  },
  {
   "cell_type": "code",
   "execution_count": 90,
   "id": "e44f6845",
   "metadata": {},
   "outputs": [],
   "source": [
    "X_train = train.drop(['Survived', 'Family'], axis=1)\n",
    "y_train = train.Survived   #판다스에서 컬럼 하나만 가져올 땐 그냥 .컬럼이름 입력하면 가져와진다\n",
    "\n",
    "X_test = test.drop('Family', axis=1)"
   ]
  },
  {
   "cell_type": "code",
   "execution_count": 91,
   "id": "f3e5ed13",
   "metadata": {},
   "outputs": [
    {
     "data": {
      "text/plain": [
       "((891, 26), (891,))"
      ]
     },
     "execution_count": 91,
     "metadata": {},
     "output_type": "execute_result"
    }
   ],
   "source": [
    "X_train.shape, y_train.shape"
   ]
  },
  {
   "cell_type": "code",
   "execution_count": 92,
   "id": "d6716ee0",
   "metadata": {},
   "outputs": [
    {
     "data": {
      "text/plain": [
       "(418, 26)"
      ]
     },
     "execution_count": 92,
     "metadata": {},
     "output_type": "execute_result"
    }
   ],
   "source": [
    "X_test.shape"
   ]
  },
  {
   "attachments": {},
   "cell_type": "markdown",
   "id": "b931d4aa",
   "metadata": {},
   "source": [
    "## 4. 모델링\n",
    "- 인코딩이 필요함(문자형태 데이터는 학습에 쓸 수 없기 때문에 숫자형태로 변환)\n",
    "     1. label encoding : 순서가 있는 범주형 데이터를 정수로 전환\n",
    "     2. one-hot-encoding : 순서가 없는 범주형 데이터에 라벨링 (이진수로 뽑아주는 것 아님 그냥 0or1로 뽑아주는 것임) \n",
    "         - 0인 데이터는 더해도 곱해도 0, 1인 데이터만 가치 있게 되고 모든 범주형은 다 1이기 때문에 동등한 위상(?)\n",
    "- 특성 선택(feature selection)\n",
    "    - 상관계수 활용\n",
    "- 모델선택 및 하이퍼파라미터 튜닝\n",
    "- 모델 학습 및 평가\n",
    "\n",
    "### 학습\n",
    "- KNN모델과 DecisionTree모델 활용"
   ]
  },
  {
   "cell_type": "code",
   "execution_count": 93,
   "id": "b01cfe37",
   "metadata": {},
   "outputs": [],
   "source": [
    "from sklearn.neighbors import KNeighborsClassifier\n",
    "from sklearn.tree import DecisionTreeClassifier"
   ]
  },
  {
   "cell_type": "code",
   "execution_count": 94,
   "id": "e3bec82c",
   "metadata": {},
   "outputs": [],
   "source": [
    "# 모델 생성\n",
    "knn_model = KNeighborsClassifier()\n",
    "tree_model = DecisionTreeClassifier()"
   ]
  },
  {
   "cell_type": "code",
   "execution_count": 95,
   "id": "76fa00bc",
   "metadata": {},
   "outputs": [
    {
     "data": {
      "text/plain": [
       "DecisionTreeClassifier()"
      ]
     },
     "execution_count": 95,
     "metadata": {},
     "output_type": "execute_result"
    }
   ],
   "source": [
    "# 모델 학습\n",
    "knn_model.fit(X_train, y_train)\n",
    "tree_model.fit(X_train, y_train)"
   ]
  },
  {
   "cell_type": "code",
   "execution_count": 96,
   "id": "977502bd",
   "metadata": {},
   "outputs": [],
   "source": [
    "# 모델 예측\n",
    "knn_pre = knn_model.predict(X_test)\n",
    "tree_pre = tree_model.predict(X_test)"
   ]
  },
  {
   "cell_type": "code",
   "execution_count": 97,
   "id": "523cc48d",
   "metadata": {},
   "outputs": [],
   "source": [
    "# 정답파일 만들기\n",
    "submission = pd.read_csv('./data/gender_submission.csv')"
   ]
  },
  {
   "cell_type": "code",
   "execution_count": 98,
   "id": "7fbfba0b",
   "metadata": {},
   "outputs": [
    {
     "data": {
      "text/html": [
       "<div>\n",
       "<style scoped>\n",
       "    .dataframe tbody tr th:only-of-type {\n",
       "        vertical-align: middle;\n",
       "    }\n",
       "\n",
       "    .dataframe tbody tr th {\n",
       "        vertical-align: top;\n",
       "    }\n",
       "\n",
       "    .dataframe thead th {\n",
       "        text-align: right;\n",
       "    }\n",
       "</style>\n",
       "<table border=\"1\" class=\"dataframe\">\n",
       "  <thead>\n",
       "    <tr style=\"text-align: right;\">\n",
       "      <th></th>\n",
       "      <th>PassengerId</th>\n",
       "      <th>Survived</th>\n",
       "    </tr>\n",
       "  </thead>\n",
       "  <tbody>\n",
       "    <tr>\n",
       "      <th>0</th>\n",
       "      <td>892</td>\n",
       "      <td>0</td>\n",
       "    </tr>\n",
       "    <tr>\n",
       "      <th>1</th>\n",
       "      <td>893</td>\n",
       "      <td>1</td>\n",
       "    </tr>\n",
       "    <tr>\n",
       "      <th>2</th>\n",
       "      <td>894</td>\n",
       "      <td>0</td>\n",
       "    </tr>\n",
       "    <tr>\n",
       "      <th>3</th>\n",
       "      <td>895</td>\n",
       "      <td>0</td>\n",
       "    </tr>\n",
       "    <tr>\n",
       "      <th>4</th>\n",
       "      <td>896</td>\n",
       "      <td>1</td>\n",
       "    </tr>\n",
       "  </tbody>\n",
       "</table>\n",
       "</div>"
      ],
      "text/plain": [
       "   PassengerId  Survived\n",
       "0          892         0\n",
       "1          893         1\n",
       "2          894         0\n",
       "3          895         0\n",
       "4          896         1"
      ]
     },
     "execution_count": 98,
     "metadata": {},
     "output_type": "execute_result"
    }
   ],
   "source": [
    "submission.head()"
   ]
  },
  {
   "cell_type": "code",
   "execution_count": 99,
   "id": "06883327",
   "metadata": {},
   "outputs": [],
   "source": [
    "submission['Survived'] = knn_pre"
   ]
  },
  {
   "cell_type": "code",
   "execution_count": 100,
   "id": "82fc4dd6",
   "metadata": {},
   "outputs": [],
   "source": [
    "# 데이터 프레임을 csv파일로 저장\n",
    "submission.to_csv('./data/knn_pre.csv', index=False)  #index=False 하지 않으면 인덱스도 하나의 컬럼으로 저장됨"
   ]
  },
  {
   "cell_type": "code",
   "execution_count": 101,
   "id": "85c35d19",
   "metadata": {},
   "outputs": [],
   "source": [
    "submission['Survived'] = tree_pre\n",
    "submission.to_csv('./data/knn_tree.csv', index=False)"
   ]
  },
  {
   "attachments": {},
   "cell_type": "markdown",
   "id": "6a336ba0",
   "metadata": {},
   "source": [
    "# 데이터 스케일링(교재 122p)\n",
    "    - 특성들의 범위를 정규화해주는 작업\n",
    "    - 단위가 다른 두 데이터의 스케일을 어느 정도 맞춰주는 작업 \n",
    "    - knn, svm, Neural network모델, Clustering 모델 등이 스케일링의 영향을 많이 받음\n",
    "    \n",
    "- 데이터 스케일링 종류\n",
    "    - StandardScaler: 변수의 평균, 표준편차를 이용해서 정규분포 형태로 반환(평균0, 분산1), 이상치에 민감하게 반응\n",
    "    - RobustScaler: 변수의 사분위수를 이용해 반환, 이상치가 있는 데이터 변환시 사용 가능\n",
    "    - MinMaxScaler: 최대값과 최소값을 이용해 (0~1사이값으로 반환) 변환, 이상치에 민감하게 반응\n",
    "    - Normalizer: 특성 벡터의 길이가 1이 되도록 조정(행마다 정규화 진행)\n",
    "    - (하는 방법은 같고 그냥 글자만 바꿔주면 됨)\n",
    "        - 벡터 길이,크기는 상관없고 데이터의 방향(각도)만 중요할 때 사용 (추천 시스템에서 많이 사용)\n",
    "        \n",
    "- 데이터 스케일링 시 주의사항\n",
    "    - 훈련세트와 테스트세트에 같은 변환을 적용해야한다\n",
    "    - 훈련세트를 기준으로 스케일링해야한다. 기준을 맞추줘야하기 때문"
   ]
  },
  {
   "cell_type": "markdown",
   "id": "22aebd40",
   "metadata": {},
   "source": [
    "### 데이터 스케일링\n",
    "- 각 feature의 스케일이 다르면 예측결과가 안좋은 경우가 있다.\n",
    "- KNN, SVM, 신경망모델, Clustering 모델 등"
   ]
  },
  {
   "cell_type": "code",
   "execution_count": 102,
   "id": "092a03bc",
   "metadata": {},
   "outputs": [],
   "source": [
    "from sklearn.preprocessing import StandardScaler"
   ]
  },
  {
   "cell_type": "code",
   "execution_count": 103,
   "id": "bf36e79c",
   "metadata": {},
   "outputs": [],
   "source": [
    "# 스케일러 생성 (평균과 표준편차 이용 데이터 레인지 조정해 스케일 맞춤)\n",
    "std_scaler = StandardScaler()"
   ]
  },
  {
   "cell_type": "code",
   "execution_count": 104,
   "id": "4b1a773a",
   "metadata": {},
   "outputs": [
    {
     "data": {
      "text/plain": [
       "StandardScaler()"
      ]
     },
     "execution_count": 104,
     "metadata": {},
     "output_type": "execute_result"
    }
   ],
   "source": [
    "# 기준값 생성 (평균, 표준편차) \n",
    "std_scaler.fit(X_train[['Fare']])"
   ]
  },
  {
   "cell_type": "code",
   "execution_count": 105,
   "id": "e3da078d",
   "metadata": {},
   "outputs": [],
   "source": [
    "# 데이터 변형\n",
    "scaled_fare = std_scaler.transform(X_train[['Fare']])\n",
    "#스케일러에 들어갈 땐 대괄호 두번 쳐서 2차원 으로 만들어 줘야한다."
   ]
  },
  {
   "cell_type": "code",
   "execution_count": 106,
   "id": "c6e945b2",
   "metadata": {},
   "outputs": [
    {
     "data": {
      "text/plain": [
       "<AxesSubplot:xlabel='Fare', ylabel='Density'>"
      ]
     },
     "execution_count": 106,
     "metadata": {},
     "output_type": "execute_result"
    },
    {
     "data": {
      "image/png": "[encoded data removed]",
      "text/plain": [
       "<Figure size 432x288 with 1 Axes>"
      ]
     },
     "metadata": {
      "needs_background": "light"
     },
     "output_type": "display_data"
    }
   ],
   "source": [
    "X_train['Fare'] = scaled_fare\n",
    "sns.kdeplot(data=X_train, x='Fare')"
   ]
  },
  {
   "cell_type": "code",
   "execution_count": 107,
   "id": "cb7db1f9",
   "metadata": {},
   "outputs": [],
   "source": [
    "scaled_fare = std_scaler.transform(X_test[['Fare']])\n",
    "X_test['Fare'] = scaled_fare"
   ]
  },
  {
   "cell_type": "code",
   "execution_count": 108,
   "id": "5828a093",
   "metadata": {},
   "outputs": [],
   "source": [
    "knn_model2 = KNeighborsClassifier()\n",
    "knn_model2.fit(X_train, y_train)\n",
    "knn_pre2 = knn_model2.predict(X_test)\n",
    "submission['Survived'] = knn_pre\n",
    "submission.to_csv('./data/knn_pre2.csv', index=False)"
   ]
  },
  {
   "attachments": {},
   "cell_type": "markdown",
   "id": "ac205e0d",
   "metadata": {},
   "source": [
    "# 하이퍼파라미터 튜닝\n",
    "- KNN모델과 DecisionTree 모델을 최적화 해보자.\n",
    "- KNN : 이웃 숫자\n",
    "- Tree : 나무의 깊이, 리프노드의 갯수, 한 리프노드에 들어갈 샘플 수 등"
   ]
  },
  {
   "cell_type": "markdown",
   "id": "cce37ec2",
   "metadata": {},
   "source": [
    "- 실전에서 데이터 분류 (학습(train)/검증(validation)/평가(test))\n",
    "- 하이퍼 파라미터 튜닝 시 특정 테스트 데이터로만 평가하면 그 테스트 데이터에만 맞는 튜닝이 될 수 있어서 검증 데이터를 하나 더 나눈다\n",
    "    - train: 훈련시키는 데이터\n",
    "    - validation: 훈련데이터 검증하는 데이터\n",
    "    - test: 마지막에 평가받는 데이터\n",
    "- 데이터를 7:3으로 쪼갠다 이때 3이 평가용 데이터다 \n",
    "- 7에서 다시 7:3으로 쪼개서 훈련용과 검증용으로 나눈다\n",
    "- 튜닝할 때만 훈련용과 검증용을 나누지 나중에 다시 학습해서 올릴 때 "
   ]
  },
  {
   "cell_type": "markdown",
   "id": "d2253a96",
   "metadata": {},
   "source": [
    "### 모델 최적화를 위해 검증데이터 셋을 만들자"
   ]
  },
  {
   "attachments": {},
   "cell_type": "markdown",
   "id": "9abfbab7",
   "metadata": {},
   "source": [
    "## KNN  튜닝\n",
    "- KNN 이웃수 반복문으로 찾기"
   ]
  },
  {
   "cell_type": "code",
   "execution_count": 109,
   "id": "5ac7b107",
   "metadata": {},
   "outputs": [],
   "source": [
    "from sklearn.model_selection import train_test_split\n",
    "X_train2, X_val, y_train2,y_val = train_test_split(X_train,y_train,\n",
    "                                                  test_size =0.3,\n",
    "                                                  random_state=719)"
   ]
  },
  {
   "cell_type": "code",
   "execution_count": 110,
   "id": "c00d7755",
   "metadata": {},
   "outputs": [
    {
     "data": {
      "text/plain": [
       "((623, 26), (623,))"
      ]
     },
     "execution_count": 110,
     "metadata": {},
     "output_type": "execute_result"
    }
   ],
   "source": [
    "X_train2.shape, y_train2.shape"
   ]
  },
  {
   "cell_type": "code",
   "execution_count": 111,
   "id": "5d5b53fc",
   "metadata": {},
   "outputs": [
    {
     "data": {
      "text/plain": [
       "((268, 26), (268,))"
      ]
     },
     "execution_count": 111,
     "metadata": {},
     "output_type": "execute_result"
    }
   ],
   "source": [
    "X_val.shape, y_val.shape"
   ]
  },
  {
   "cell_type": "code",
   "execution_count": 112,
   "id": "348ae6dd",
   "metadata": {},
   "outputs": [],
   "source": [
    "knn_model3 = KNeighborsClassifier()"
   ]
  },
  {
   "cell_type": "code",
   "execution_count": 113,
   "id": "b8a748e8",
   "metadata": {},
   "outputs": [],
   "source": [
    "# 이웃의 수마다의 정확도\n",
    "train_acc = []\n",
    "val_acc = []\n",
    "\n",
    "#사용할 이웃의 범위 값들을 정의\n",
    "neighbor = range(1,20)\n",
    "\n",
    "for n in neighbor :\n",
    "    knn_model3 = KNeighborsClassifier(n_neighbors=n)\n",
    "    knn_model3.fit(X_train2, y_train2)\n",
    "    \n",
    "    train_acc.append(knn_model3.score(X_train2, y_train2))  #모델에 한번 학습시키고 나면 기존에 공부했던 자료\n",
    "    val_acc.append(knn_model3.score(X_val, y_val))"
   ]
  },
  {
   "cell_type": "code",
   "execution_count": 114,
   "id": "340b60e0",
   "metadata": {
    "scrolled": true
   },
   "outputs": [
    {
     "data": {
      "image/png": "[encoded data removed]",
      "text/plain": [
       "<Figure size 1080x360 with 1 Axes>"
      ]
     },
     "metadata": {
      "needs_background": "light"
     },
     "output_type": "display_data"
    }
   ],
   "source": [
    "x = train_acc\n",
    "y = val_acc\n",
    "\n",
    "plt.figure(figsize=(15,5))\n",
    "plt.plot(x, label=\"train2\")\n",
    "plt.plot(y, label=\"val\")\n",
    "plt.xlabel(\"n_neighbor\")\n",
    "plt.ylabel(\"accuracy\")\n",
    "plt.legend()\n",
    "plt.grid()"
   ]
  },
  {
   "cell_type": "code",
   "execution_count": 115,
   "id": "7d928353",
   "metadata": {},
   "outputs": [],
   "source": [
    "#test 데이터의 하락 시점을 일반화 시점으로 기준 잡는다\n",
    "#knn은 유일하게 복잡도 그림이 반대로 나오게 된다.\n",
    "#이웃의 수가 적으면 물어볼 사람이 적어서 그 이웃의 특성에 과대적함 (복잡도 높음) 되기 때문이다\n",
    "#이웃의 수가 많으면 물어볼 사람이 많고 복잡도는 낮아지게 된다."
   ]
  },
  {
   "cell_type": "markdown",
   "id": "f3fe29b4",
   "metadata": {},
   "source": [
    "- tree max depth 이용"
   ]
  },
  {
   "cell_type": "code",
   "execution_count": 116,
   "id": "b5e26a49",
   "metadata": {},
   "outputs": [],
   "source": [
    "tree_model2 = DecisionTreeClassifier()"
   ]
  },
  {
   "cell_type": "code",
   "execution_count": 117,
   "id": "0a83d2d7",
   "metadata": {},
   "outputs": [],
   "source": [
    "train_score = []   #훈련데이터의 점수가 들어갈 리스트\n",
    "test_score = []   #검증데이터의 점수가 들어갈 리스트\n",
    "\n",
    "for n in range(1,20):\n",
    "    #이웃을 1~19개까지 변경하면서 모델 생성\n",
    "    model = KNeighborsClassifier(n_neighbors=n)\n",
    "    #모델 학습\n",
    "    model.fit(X_train2, y_train2)\n",
    "    #훈련데이터에 대한 점수 누적\n",
    "    train_score.append(model.score(X_train2, y_train2))\n",
    "    #검증데이터에 대한 점수 누적\n",
    "    test_score.append(model.score(X_val,y_val))"
   ]
  },
  {
   "attachments": {},
   "cell_type": "markdown",
   "id": "097233a5",
   "metadata": {},
   "source": [
    "### 교차검증\n",
    "- 학습-평가데이터 나누기를 여러 번 반복하여 일반화 에러를 평가하는 방법\n",
    "- K-fold cross-validation\n",
    "    - 가지고 있는 훈련 데이터를 여러개로 쪼갠다\n",
    "    - 쪼갠 것 중 1개를 검증 데이터 나머지를 훈련 데이터로 사용\n",
    "    - 쪼갠 수만큼 검증 데이터를 바꿔가며 평가"
   ]
  },
  {
   "attachments": {},
   "cell_type": "markdown",
   "id": "34fc2035",
   "metadata": {},
   "source": [
    "## Decision Tree 튜닝"
   ]
  },
  {
   "cell_type": "code",
   "execution_count": 118,
   "id": "526539ee",
   "metadata": {},
   "outputs": [],
   "source": [
    "# 교차검증함수 (데이터 셋을 여러개 쓴 것과 같은 효과를 누릴 수 있음)\n",
    "from sklearn.model_selection import cross_val_score"
   ]
  },
  {
   "cell_type": "code",
   "execution_count": 119,
   "id": "56ddd246",
   "metadata": {},
   "outputs": [
    {
     "data": {
      "text/plain": [
       "Text(0.5, 0, 'max_depth')"
      ]
     },
     "execution_count": 119,
     "metadata": {},
     "output_type": "execute_result"
    },
    {
     "data": {
      "image/png": "[encoded data removed]",
      "text/plain": [
       "<Figure size 1080x360 with 1 Axes>"
      ]
     },
     "metadata": {
      "needs_background": "light"
     },
     "output_type": "display_data"
    }
   ],
   "source": [
    "test_score = []\n",
    "for d in range(1,30):\n",
    "    model = DecisionTreeClassifier(max_depth=d, random_state=720)\n",
    "    result = cross_val_score(model, X_train, y_train, cv=5)   # cv = 몇번 쪼개서 평가할거냐\n",
    "    test_score.append(result.mean())\n",
    "    \n",
    "plt.figure(figsize=(15,5))\n",
    "plt.plot(range(1,30), test_score, label='test')\n",
    "plt.xticks(range(1,30))\n",
    "plt.grid()\n",
    "plt.legend()\n",
    "plt.ylabel('accuracy')\n",
    "plt.xlabel('max_depth')\n",
    "    "
   ]
  },
  {
   "cell_type": "markdown",
   "id": "e74ece8a",
   "metadata": {},
   "source": [
    "# 앙상블(210p~250p) (파라미터가 많다)\n",
    "- 보팅(voting): 서로다른 알고리즘 모델 여러개를 이용해서 투표로 예측 결과를 만들어 낸다\n",
    "    - 하드보팅: 모델의 최종 예측결과로 투표\n",
    "    - 소프트보팅: 모델의 확률 결과로 투표\n",
    "- 배깅(bagging): 같은 알고리즘 모델 여러개 이용해서 투표 진행 (데이터의 다양성 노림)\n",
    "    - 여러개의 모델들이 학습할 때 다른 의견이 나올 수 있도록 부트 스트래핑 작업을 한다.\n",
    "    - 매번 모델이 학습할 때 마다 랜덤하게 데이터를 추출하되, 중복된 추출을 허용한다.\n",
    "    - DecisionTree의 배깅 모델 : RandomForest 많이 이용 \n",
    "- 부스팅(boosting): 같은 알고리즘 모델 여러개 이용해서 투표 진행\n",
    "    - 이전 모델이 잘못 학슨한 결과를 다음 모델이 반영해서 학습하도록 하는 기법\n",
    "    - 학습 진행이 순차적으로 일어나기 때문에 상대적으로 속도가 느리다 (그래서 모델 간단하게 만듬)"
   ]
  },
  {
   "cell_type": "markdown",
   "id": "6016c20b",
   "metadata": {},
   "source": [
    "## Random Forest(랜덤 포레스트)"
   ]
  },
  {
   "cell_type": "code",
   "execution_count": 120,
   "id": "a5b10602",
   "metadata": {},
   "outputs": [],
   "source": [
    "from sklearn.ensemble import RandomForestClassifier"
   ]
  },
  {
   "cell_type": "code",
   "execution_count": 121,
   "id": "23854348",
   "metadata": {},
   "outputs": [],
   "source": [
    "rf_model = RandomForestClassifier(n_estimators=100,   # 배깅할 모델 갯수 \n",
    "                                  max_features=0.6,   # 각 모델이 랜덤하게 사용할 특성\n",
    "                                  max_depth=8,   # 각 모델의 최대 깊이\n",
    "                                  min_samples_leaf=10,   # 리프노드의 최소 샘플 수\n",
    "                                  random_state=721   # 난수고정\n",
    "                                  )"
   ]
  },
  {
   "cell_type": "code",
   "execution_count": 122,
   "id": "e25f3031",
   "metadata": {},
   "outputs": [
    {
     "data": {
      "text/plain": [
       "array([0.81564246, 0.80898876, 0.84831461, 0.79775281, 0.83707865])"
      ]
     },
     "execution_count": 122,
     "metadata": {},
     "output_type": "execute_result"
    }
   ],
   "source": [
    "rf_rs = cross_val_score(rf_model,X_train,y_train,cv=5)\n",
    "rf_rs"
   ]
  },
  {
   "attachments": {},
   "cell_type": "markdown",
   "id": "c46a19d7",
   "metadata": {},
   "source": [
    "## 그리드 서치 \n",
    "- 앙상블 모델의 경우 하이퍼 파라미터 수가 엄청 많다.\n",
    "- 각 파라미터를 독립적으로 튜닝하는 건 불가능하다.(서로 영향을 받는 관계이기 때문에)\n",
    "- 많은 양의 파라미터를 동시에 튜닝하기 위한 함수로 그리드서치를 지원한다."
   ]
  },
  {
   "cell_type": "code",
   "execution_count": 123,
   "id": "cf73fb83",
   "metadata": {},
   "outputs": [],
   "source": [
    "from sklearn.model_selection import GridSearchCV"
   ]
  },
  {
   "cell_type": "code",
   "execution_count": 124,
   "id": "bc6babfd",
   "metadata": {},
   "outputs": [],
   "source": [
    "# 탐색하고 싶은 하이퍼파라미터 조합을 딕셔너리로 생성\n",
    "param_grid = {\n",
    "    'max_depth' : [5, 10, 15, 20],    # 키값으로 설정하고 싶은 파라미터 : 밸류값은 리스트로\n",
    "    'n_estimators' : [100, 150, 200, 250],\n",
    "    'max_features' : [0.5, 0.7],\n",
    "    'min_samples_leaf' : [10, 20, 25]\n",
    "}"
   ]
  },
  {
   "cell_type": "code",
   "execution_count": 125,
   "id": "31b7b27f",
   "metadata": {},
   "outputs": [],
   "source": [
    "# 튜닝할 모델, 사용할 파라미터, 교차검증 횟수 3가지를 파라미터로 넣어주면 됨\n",
    "model = RandomForestClassifier(random_state=721)\n",
    "grid = GridSearchCV(model, param_grid, cv=3, n_jobs=-1) "
   ]
  },
  {
   "cell_type": "code",
   "execution_count": 126,
   "id": "94d4841a",
   "metadata": {},
   "outputs": [
    {
     "data": {
      "text/plain": [
       "GridSearchCV(cv=3, estimator=RandomForestClassifier(random_state=721),\n",
       "             n_jobs=-1,\n",
       "             param_grid={'max_depth': [5, 10, 15, 20],\n",
       "                         'max_features': [0.5, 0.7],\n",
       "                         'min_samples_leaf': [10, 20, 25],\n",
       "                         'n_estimators': [100, 150, 200, 250]})"
      ]
     },
     "execution_count": 126,
     "metadata": {},
     "output_type": "execute_result"
    }
   ],
   "source": [
    "grid.fit(X_train, y_train)"
   ]
  },
  {
   "cell_type": "code",
   "execution_count": 127,
   "id": "e3e1301c",
   "metadata": {},
   "outputs": [
    {
     "data": {
      "text/plain": [
       "RandomForestClassifier(max_depth=5, max_features=0.7, min_samples_leaf=10,\n",
       "                       random_state=721)"
      ]
     },
     "execution_count": 127,
     "metadata": {},
     "output_type": "execute_result"
    }
   ],
   "source": [
    "#최고의 조합 확인\n",
    "grid.best_estimator_"
   ]
  },
  {
   "cell_type": "code",
   "execution_count": 128,
   "id": "b3b598da",
   "metadata": {},
   "outputs": [
    {
     "data": {
      "text/plain": [
       "0.8338945005611672"
      ]
     },
     "execution_count": 128,
     "metadata": {},
     "output_type": "execute_result"
    }
   ],
   "source": [
    "# 최고 점수 확인\n",
    "grid.best_sco4"
   ]
  },
  {
   "cell_type": "code",
   "execution_count": 129,
   "id": "fc5d04da",
   "metadata": {},
   "outputs": [],
   "source": [
    "# 최고 조합으로 학습완료된 모델\n",
    "best_model = grid.best_estimator_"
   ]
  },
  {
   "cell_type": "code",
   "execution_count": 130,
   "id": "6ffbd6c3",
   "metadata": {},
   "outputs": [],
   "source": [
    "pre = best_model.predict(X_test)"
   ]
  },
  {
   "cell_type": "code",
   "execution_count": 131,
   "id": "627bec28",
   "metadata": {},
   "outputs": [],
   "source": [
    "submission['Survivied'] = pre\n",
    "submission.to_csv(\"./data/rf_pre.csv\", index=False)"
   ]
  },
  {
   "attachments": {},
   "cell_type": "markdown",
   "id": "c7a01517",
   "metadata": {},
   "source": [
    "## 모델 평가\n",
    "- KNN이웃 수 : 7\n",
    "- DecisionTree의 최대 깊이 : 4\n"
   ]
  },
  {
   "cell_type": "code",
   "execution_count": 132,
   "id": "2ee9692d",
   "metadata": {},
   "outputs": [],
   "source": [
    "final_knn = KNeighborsClassifier(n_neighbors=7)\n",
    "final_tree = DecisionTreeClassifier(max_depth=4, random_state=720)"
   ]
  },
  {
   "cell_type": "code",
   "execution_count": 133,
   "id": "fa45adac",
   "metadata": {},
   "outputs": [
    {
     "data": {
      "text/plain": [
       "DecisionTreeClassifier(max_depth=4, random_state=720)"
      ]
     },
     "execution_count": 133,
     "metadata": {},
     "output_type": "execute_result"
    }
   ],
   "source": [
    "final_knn.fit(X_train,y_train)\n",
    "final_tree.fit(X_train,y_train)"
   ]
  },
  {
   "cell_type": "code",
   "execution_count": 134,
   "id": "e94601bb",
   "metadata": {},
   "outputs": [],
   "source": [
    "knn_pre = final_knn.predict(X_test)\n",
    "tree_pre = final_tree.predict(X_test)"
   ]
  },
  {
   "attachments": {},
   "cell_type": "markdown",
   "id": "f35ba35a",
   "metadata": {},
   "source": [
    "# 성능개선을 위해 고려해볼 사항\n",
    "1. 특성(feature)선택\n",
    "2. 추가 데이터 확보\n",
    "3. 전처리 작업 변경(결측치, 특성공학, 스케일링 등)\n",
    "4. 모델변경 - 앙상블(모델을 여러개 엮어서 쓰는 기법)"
   ]
  },
  {
   "cell_type": "code",
   "execution_count": 135,
   "id": "b84d512e",
   "metadata": {},
   "outputs": [
    {
     "name": "stdout",
     "output_type": "stream",
     "text": [
      "Requirement already satisfied: xgboost in c:\\users\\ai\\anaconda3\\lib\\site-packages (1.6.1)\n",
      "Requirement already satisfied: scipy in c:\\users\\ai\\anaconda3\\lib\\site-packages (from xgboost) (1.7.3)\n",
      "Requirement already satisfied: numpy in c:\\users\\ai\\anaconda3\\lib\\site-packages (from xgboost) (1.21.5)\n"
     ]
    }
   ],
   "source": [
    "!pip install xgboost"
   ]
  },
  {
   "cell_type": "code",
   "execution_count": 136,
   "id": "74b6bda8",
   "metadata": {},
   "outputs": [
    {
     "name": "stdout",
     "output_type": "stream",
     "text": [
      "Requirement already satisfied: lightgbm in c:\\users\\ai\\anaconda3\\lib\\site-packages (3.3.2)\n",
      "Requirement already satisfied: scikit-learn!=0.22.0 in c:\\users\\ai\\anaconda3\\lib\\site-packages (from lightgbm) (1.0.2)\n",
      "Requirement already satisfied: scipy in c:\\users\\ai\\anaconda3\\lib\\site-packages (from lightgbm) (1.7.3)\n",
      "Requirement already satisfied: wheel in c:\\users\\ai\\anaconda3\\lib\\site-packages (from lightgbm) (0.37.1)\n",
      "Requirement already satisfied: numpy in c:\\users\\ai\\anaconda3\\lib\\site-packages (from lightgbm) (1.21.5)\n",
      "Requirement already satisfied: threadpoolctl>=2.0.0 in c:\\users\\ai\\anaconda3\\lib\\site-packages (from scikit-learn!=0.22.0->lightgbm) (2.2.0)\n",
      "Requirement already satisfied: joblib>=0.11 in c:\\users\\ai\\anaconda3\\lib\\site-packages (from scikit-learn!=0.22.0->lightgbm) (1.1.0)\n"
     ]
    }
   ],
   "source": [
    "!pip install lightgbm"
   ]
  },
  {
   "cell_type": "code",
   "execution_count": 137,
   "id": "fabe17aa",
   "metadata": {},
   "outputs": [],
   "source": [
    "from xgboost import XGBClassifier"
   ]
  },
  {
   "cell_type": "code",
   "execution_count": 138,
   "id": "983c3068",
   "metadata": {},
   "outputs": [],
   "source": [
    "xgb_model = XGBClassifier(booster='gbtree',   # 모델의 종류 선택\n",
    "                         n_estimators=100,   # 앙상블 모델 갯수\n",
    "                         learning_rate=0.1,   # 학습률\n",
    "                         max_depth = 4,   # 부스팅 할 땐 최대깊이 일반적으로 깊게 설정x\n",
    "                         gamma = 0.2,   # 값을 키우면 모데 단순, 작아지면 모델 복잡\n",
    "                         #lamda, alpha 선형 모델 베이스 GB리니어 일때 쓰는 것\n",
    "                         )"
   ]
  }
 ],
 "metadata": {
  "kernelspec": {
   "display_name": "Python 3",
   "language": "python",
   "name": "python3"
  },
  "language_info": {
   "codemirror_mode": {
    "name": "ipython",
    "version": 3
   },
   "file_extension": ".py",
   "mimetype": "text/x-python",
   "name": "python",
   "nbconvert_exporter": "python",
   "pygments_lexer": "ipython3",
   "version": "3.8.9 (default, Apr 13 2022, 08:48:06) \n[Clang 13.1.6 (clang-1316.0.21.2.5)]"
  },
  "toc": {
   "base_numbering": 1,
   "nav_menu": {},
   "number_sections": true,
   "sideBar": true,
   "skip_h1_title": false,
   "title_cell": "Table of Contents",
   "title_sidebar": "Contents",
   "toc_cell": false,
   "toc_position": {
    "height": "calc(100% - 180px)",
    "left": "10px",
    "top": "150px",
    "width": "309.641px"
   },
   "toc_section_display": true,
   "toc_window_display": true
  },
  "vscode": {
   "interpreter": {
    "hash": "31f2aee4e71d21fbe5cf8b01ff0e069b9275f58929596ceb00d14d90e3e16cd6"
   }
  }
 },
 "nbformat": 4,
 "nbformat_minor": 5
}
