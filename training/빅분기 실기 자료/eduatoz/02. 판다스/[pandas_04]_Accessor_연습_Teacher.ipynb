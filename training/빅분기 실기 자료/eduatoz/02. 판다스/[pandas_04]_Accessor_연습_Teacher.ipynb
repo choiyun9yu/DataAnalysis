{
  "nbformat": 4,
  "nbformat_minor": 0,
  "metadata": {
    "colab": {
      "provenance": []
    },
    "kernelspec": {
      "name": "python3",
      "display_name": "Python 3"
    },
    "language_info": {
      "name": "python"
    }
  },
  "cells": [
    {
      "cell_type": "markdown",
      "metadata": {
        "id": "JbOnc7BpmYd3"
      },
      "source": [
        "### 1.Accessor - str\n",
        "- str.strip('제거할 문자들') : 문자열의 앞/뒤에 불필요한 것을 제거함\n",
        "   - 제거할 문자들을 지정하지 않을 경우 whitespace를 제거함\n",
        "- str.split('구분자')\n",
        "   - 구분자를 지정하지 않을 경우 whitespace를 기준으로 분리함\n",
        "   - 각 구분된 내용은 str[0], str[1], .. 등으로 접근\n",
        "- str.join('구분자')\n",
        "   - 구분자 지정을 생략할 수 없음\n",
        "   - 분리된 문자열을 구분자를 사이에 넣어 하나의 문자열로 만듦\n",
        "- str.replace(전, 후)\n",
        "   - 문자열의 일부 내용을 변경 가능함\n",
        "   - 변경전 내용을 찾아 변경후 내용으로 바꿈\n"
      ]
    },
    {
      "cell_type": "code",
      "metadata": {
        "id": "044cQzInmcXP"
      },
      "source": [
        "import pandas as pd"
      ],
      "execution_count": null,
      "outputs": []
    },
    {
      "cell_type": "code",
      "metadata": {
        "colab": {
          "base_uri": "https://localhost:8080/"
        },
        "id": "odS0YHbumQqr",
        "outputId": "de4b1f80-991e-428d-caa7-10024c9fe396"
      },
      "source": [
        "data = {'A': ['    김   수민 ', '  이  나라     ', '  황   소  라  '],\n",
        "        'B': ['  d2021-10-29.   ', '   \\n\\t\\r2021-10-30c    \\n', '2021-11-01c   '],\n",
        "        'C': ['*7', '6', '*7']}\n",
        "temp = pd.DataFrame(data)\n",
        "print(temp)"
      ],
      "execution_count": null,
      "outputs": [
        {
          "output_type": "stream",
          "name": "stdout",
          "text": [
            "              A                           B   C\n",
            "0       김   수민              d2021-10-29.     *7\n",
            "1    이  나라          \\n\\t\\r2021-10-30c    \\n   6\n",
            "2    황   소  라                2021-11-01c     *7\n"
          ]
        }
      ]
    },
    {
      "cell_type": "code",
      "metadata": {
        "id": "V0eDNd9KmiIx"
      },
      "source": [
        "# [1] 'A' 컬럼의 데이터를 빈칸 없는 이름으로 만들어 temp의 'A'컬럼 뒤에 'A-01'컬럼으로 추가해 보세요.\n",
        "temp.insert(1, 'A-01', temp['A'].str.split().str.join(''))"
      ],
      "execution_count": null,
      "outputs": []
    },
    {
      "cell_type": "code",
      "metadata": {
        "colab": {
          "base_uri": "https://localhost:8080/"
        },
        "id": "EaabxrvezfTY",
        "outputId": "8b221855-ea27-4a2e-8dd3-a8d3513fedb2"
      },
      "source": [
        "print(temp)"
      ],
      "execution_count": null,
      "outputs": [
        {
          "output_type": "stream",
          "name": "stdout",
          "text": [
            "              A A-01                           B   C\n",
            "0       김   수민   김수민             d2021-10-29.     *7\n",
            "1    이  나라       이나라     \\n\\t\\r2021-10-30c    \\n   6\n",
            "2    황   소  라    황소라              2021-11-01c     *7\n"
          ]
        }
      ]
    },
    {
      "cell_type": "code",
      "metadata": {
        "colab": {
          "base_uri": "https://localhost:8080/"
        },
        "id": "8uVbTsOqr6sB",
        "outputId": "f61011da-d505-4f0a-c91b-cc16f535eec7"
      },
      "source": [
        "# [2] 'B' 컬럼의 데이티를 2021-10-29 처럼 앞/뒤에 공백이나 다른 문자('.dc')가 없도록 만들어\n",
        "# temp에 'B-01' 컬럼으로 추가해 보세요.\n",
        "temp['B-01'] = temp['B'].str.strip().str.strip('d.c')\n",
        "print(temp)"
      ],
      "execution_count": null,
      "outputs": [
        {
          "output_type": "stream",
          "name": "stdout",
          "text": [
            "              A                           B   C        B-01\n",
            "0       김   수민              d2021-10-29.     *7  2021-10-29\n",
            "1    이  나라          \\n\\t\\r2021-10-30c    \\n   6  2021-10-30\n",
            "2    황   소  라                2021-11-01c     *7  2021-11-01\n"
          ]
        }
      ]
    },
    {
      "cell_type": "code",
      "metadata": {
        "colab": {
          "base_uri": "https://localhost:8080/"
        },
        "id": "i2MK6YY6soem",
        "outputId": "323e8063-aab9-4508-f5a2-b5c37095e45e"
      },
      "source": [
        "# [3] 'B-01' 컬럼의 데이터에서 '-'를 '/'로 수정해 temp에 'B-02' 컬럼으로 추가해 보세요.\n",
        "#temp['B-01'].replace('-', '/', regex=True)\n",
        "#temp['B-01'].str.split('-').str.join('/')\n",
        "temp['B-02'] = temp['B-01'].str.replace('-','/')\n",
        "print(temp)"
      ],
      "execution_count": null,
      "outputs": [
        {
          "output_type": "stream",
          "name": "stdout",
          "text": [
            "              A                           B   C        B-01        B-02\n",
            "0       김   수민              d2021-10-29.     *7  2021-10-29  2021/10/29\n",
            "1    이  나라          \\n\\t\\r2021-10-30c    \\n   6  2021-10-30  2021/10/30\n",
            "2    황   소  라                2021-11-01c     *7  2021-11-01  2021/11/01\n"
          ]
        }
      ]
    },
    {
      "cell_type": "code",
      "metadata": {
        "colab": {
          "base_uri": "https://localhost:8080/"
        },
        "id": "ytRlgBPbuT52",
        "outputId": "af7df33f-b023-4032-d4b5-bc66bbefae4c"
      },
      "source": [
        "# [4] 'C' 컬럼에서 *을 제거하고 숫자로 변경해 'C-01'컬럼으로 추가해 보세요.\n",
        "temp['C-01'] = temp['C'].str.replace('*', '').astype('int')\n",
        "print(temp)"
      ],
      "execution_count": null,
      "outputs": [
        {
          "output_type": "stream",
          "name": "stdout",
          "text": [
            "              A A-01                           B  ...        B-01        B-02 C-01\n",
            "0       김   수민   김수민             d2021-10-29.     ...  2021-10-29  2021/10/29    7\n",
            "1    이  나라       이나라     \\n\\t\\r2021-10-30c    \\n  ...  2021-10-30  2021/10/30    6\n",
            "2    황   소  라    황소라              2021-11-01c     ...  2021-11-01  2021/11/01    7\n",
            "\n",
            "[3 rows x 7 columns]\n"
          ]
        }
      ]
    }
  ]
}