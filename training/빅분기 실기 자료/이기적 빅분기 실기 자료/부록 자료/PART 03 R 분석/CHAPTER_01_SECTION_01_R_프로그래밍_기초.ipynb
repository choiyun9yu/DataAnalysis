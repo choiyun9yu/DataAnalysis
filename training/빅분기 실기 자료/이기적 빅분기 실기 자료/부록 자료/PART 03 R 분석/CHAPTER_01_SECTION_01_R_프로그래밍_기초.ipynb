{
  "nbformat": 4,
  "nbformat_minor": 0,
  "metadata": {
    "colab": {
      "name": "CHAPTER_01_SECTION_01_R_프로그래밍_기초.R",
      "provenance": []
    },
    "kernelspec": {
      "name": "ir",
      "display_name": "R"
    },
    "language_info": {
      "name": "R"
    }
  },
  "cells": [
    {
      "cell_type": "markdown",
      "source": [
        "PART 03 R 분석\n",
        "\n",
        "> CHAPTER 01 R 프로그래밍\n",
        "> >SECTION 01 R 프로그래밍 기초\n",
        "> > >**02 변수, 데이터타입, 연산자**"
      ],
      "metadata": {
        "id": "2VzCXIheoP-b"
      }
    },
    {
      "cell_type": "code",
      "source": [
        "a <- 1    # 변수 a의 값은 1\n",
        "a         # a를 그대로 실행하면 a의 값인 1이 출력"
      ],
      "metadata": {
        "colab": {
          "base_uri": "https://localhost:8080/",
          "height": 34
        },
        "id": "Yk1i8CVjoJJV",
        "outputId": "93c7185e-3ee7-4eca-e3dd-1ac4ce4d4188"
      },
      "execution_count": 1,
      "outputs": [
        {
          "output_type": "display_data",
          "data": {
            "text/html": [
              "1"
            ],
            "text/markdown": "1",
            "text/latex": "1",
            "text/plain": [
              "[1] 1"
            ]
          },
          "metadata": {}
        }
      ]
    },
    {
      "cell_type": "code",
      "source": [
        "b <- 5    # 변수 b의 값은 5\n",
        "a <- b    # 변수 a에 변수 b의 값을 할당\n",
        "a         # a의 실행 결과로 5가 출력"
      ],
      "metadata": {
        "colab": {
          "base_uri": "https://localhost:8080/",
          "height": 34
        },
        "id": "Tmz-nsN0omg8",
        "outputId": "55429015-eaa4-4318-8466-835d4fb45101"
      },
      "execution_count": null,
      "outputs": [
        {
          "output_type": "display_data",
          "data": {
            "text/html": [
              "5"
            ],
            "text/markdown": "5",
            "text/latex": "5",
            "text/plain": [
              "[1] 5"
            ]
          },
          "metadata": {}
        }
      ]
    },
    {
      "cell_type": "code",
      "source": [
        "a <- 1        # a, b는 숫자형 변수\n",
        "b <- 1.5\n",
        "a             # a에는 정수 1\n",
        "b             # b에는 실수 1.5"
      ],
      "metadata": {
        "colab": {
          "base_uri": "https://localhost:8080/",
          "height": 52
        },
        "id": "JQ1TICiqoreC",
        "outputId": "b248f79f-63b6-4701-fc79-cb3e2da1ebb1"
      },
      "execution_count": null,
      "outputs": [
        {
          "output_type": "display_data",
          "data": {
            "text/html": [
              "1"
            ],
            "text/markdown": "1",
            "text/latex": "1",
            "text/plain": [
              "[1] 1"
            ]
          },
          "metadata": {}
        },
        {
          "output_type": "display_data",
          "data": {
            "text/html": [
              "1.5"
            ],
            "text/markdown": "1.5",
            "text/latex": "1.5",
            "text/plain": [
              "[1] 1.5"
            ]
          },
          "metadata": {}
        }
      ]
    },
    {
      "cell_type": "code",
      "source": [
        "a <- 1            # a에 1을 할당\n",
        "b <- a            # b에는 a의 값을 할당\n",
        "x <- c(b, 2, 7)   # b값과 2, 7을 결합하여 변수 x에 할당\n",
        "a\n",
        "b\n",
        "x"
      ],
      "metadata": {
        "colab": {
          "base_uri": "https://localhost:8080/",
          "height": 69
        },
        "id": "0xwabK_povK4",
        "outputId": "684cf6b5-ccbc-448f-f020-114dda8fc026"
      },
      "execution_count": null,
      "outputs": [
        {
          "output_type": "display_data",
          "data": {
            "text/html": [
              "1"
            ],
            "text/markdown": "1",
            "text/latex": "1",
            "text/plain": [
              "[1] 1"
            ]
          },
          "metadata": {}
        },
        {
          "output_type": "display_data",
          "data": {
            "text/html": [
              "1"
            ],
            "text/markdown": "1",
            "text/latex": "1",
            "text/plain": [
              "[1] 1"
            ]
          },
          "metadata": {}
        },
        {
          "output_type": "display_data",
          "data": {
            "text/html": [
              "<style>\n",
              ".list-inline {list-style: none; margin:0; padding: 0}\n",
              ".list-inline>li {display: inline-block}\n",
              ".list-inline>li:not(:last-child)::after {content: \"\\00b7\"; padding: 0 .5ex}\n",
              "</style>\n",
              "<ol class=list-inline><li>1</li><li>2</li><li>7</li></ol>\n"
            ],
            "text/markdown": "1. 1\n2. 2\n3. 7\n\n\n",
            "text/latex": "\\begin{enumerate*}\n\\item 1\n\\item 2\n\\item 7\n\\end{enumerate*}\n",
            "text/plain": [
              "[1] 1 2 7"
            ]
          },
          "metadata": {}
        }
      ]
    },
    {
      "cell_type": "code",
      "source": [
        "a = 10\n",
        "b = 5\n",
        "c = 3\n",
        "\n",
        "# ;을 사용해서 2개 이상의 문장을 한 줄에 적을 수 있다.\n",
        "a+b; a-b; a*b; a/b\n",
        "a^c; a%/%c; a%%c      # 10^3 → 1000, 10%/%3 → 3(몫), 10%%3 → 1(나머지)"
      ],
      "metadata": {
        "colab": {
          "base_uri": "https://localhost:8080/",
          "height": 139
        },
        "id": "Wo618ouDozxF",
        "outputId": "4b58d0ca-8b7d-4ca2-a4fc-7832b642dbd7"
      },
      "execution_count": null,
      "outputs": [
        {
          "output_type": "display_data",
          "data": {
            "text/html": [
              "15"
            ],
            "text/markdown": "15",
            "text/latex": "15",
            "text/plain": [
              "[1] 15"
            ]
          },
          "metadata": {}
        },
        {
          "output_type": "display_data",
          "data": {
            "text/html": [
              "5"
            ],
            "text/markdown": "5",
            "text/latex": "5",
            "text/plain": [
              "[1] 5"
            ]
          },
          "metadata": {}
        },
        {
          "output_type": "display_data",
          "data": {
            "text/html": [
              "50"
            ],
            "text/markdown": "50",
            "text/latex": "50",
            "text/plain": [
              "[1] 50"
            ]
          },
          "metadata": {}
        },
        {
          "output_type": "display_data",
          "data": {
            "text/html": [
              "2"
            ],
            "text/markdown": "2",
            "text/latex": "2",
            "text/plain": [
              "[1] 2"
            ]
          },
          "metadata": {}
        },
        {
          "output_type": "display_data",
          "data": {
            "text/html": [
              "1000"
            ],
            "text/markdown": "1000",
            "text/latex": "1000",
            "text/plain": [
              "[1] 1000"
            ]
          },
          "metadata": {}
        },
        {
          "output_type": "display_data",
          "data": {
            "text/html": [
              "3"
            ],
            "text/markdown": "3",
            "text/latex": "3",
            "text/plain": [
              "[1] 3"
            ]
          },
          "metadata": {}
        },
        {
          "output_type": "display_data",
          "data": {
            "text/html": [
              "1"
            ],
            "text/markdown": "1",
            "text/latex": "1",
            "text/plain": [
              "[1] 1"
            ]
          },
          "metadata": {}
        }
      ]
    },
    {
      "cell_type": "code",
      "source": [
        "str1 <- \"R\" # 문자열 str1에 R\n",
        "str2 <- \"Programming\" # 문자열 str2에 Programming\n",
        "str1\n",
        "str2"
      ],
      "metadata": {
        "colab": {
          "base_uri": "https://localhost:8080/",
          "height": 52
        },
        "id": "k7glCe7Co560",
        "outputId": "8556a29c-5855-456d-8e52-ac889ae56f1b"
      },
      "execution_count": null,
      "outputs": [
        {
          "output_type": "display_data",
          "data": {
            "text/html": [
              "'R'"
            ],
            "text/markdown": "'R'",
            "text/latex": "'R'",
            "text/plain": [
              "[1] \"R\""
            ]
          },
          "metadata": {}
        },
        {
          "output_type": "display_data",
          "data": {
            "text/html": [
              "'Programming'"
            ],
            "text/markdown": "'Programming'",
            "text/latex": "'Programming'",
            "text/plain": [
              "[1] \"Programming\""
            ]
          },
          "metadata": {}
        }
      ]
    },
    {
      "cell_type": "code",
      "source": [
        "# 여러 개의 문자로 구성된 변수 생성\n",
        "str3 <- c('a','b','c')\n",
        "str3\n",
        "str4 <- c(\"R\",\"Programming\")\n",
        "str4"
      ],
      "metadata": {
        "colab": {
          "base_uri": "https://localhost:8080/",
          "height": 52
        },
        "id": "ZCtMR3TMo-a1",
        "outputId": "05dd4d3a-4edc-44e2-9531-f77275f56095"
      },
      "execution_count": null,
      "outputs": [
        {
          "output_type": "display_data",
          "data": {
            "text/html": [
              "<style>\n",
              ".list-inline {list-style: none; margin:0; padding: 0}\n",
              ".list-inline>li {display: inline-block}\n",
              ".list-inline>li:not(:last-child)::after {content: \"\\00b7\"; padding: 0 .5ex}\n",
              "</style>\n",
              "<ol class=list-inline><li>'a'</li><li>'b'</li><li>'c'</li></ol>\n"
            ],
            "text/markdown": "1. 'a'\n2. 'b'\n3. 'c'\n\n\n",
            "text/latex": "\\begin{enumerate*}\n\\item 'a'\n\\item 'b'\n\\item 'c'\n\\end{enumerate*}\n",
            "text/plain": [
              "[1] \"a\" \"b\" \"c\""
            ]
          },
          "metadata": {}
        },
        {
          "output_type": "display_data",
          "data": {
            "text/html": [
              "<style>\n",
              ".list-inline {list-style: none; margin:0; padding: 0}\n",
              ".list-inline>li {display: inline-block}\n",
              ".list-inline>li:not(:last-child)::after {content: \"\\00b7\"; padding: 0 .5ex}\n",
              "</style>\n",
              "<ol class=list-inline><li>'R'</li><li>'Programming'</li></ol>\n"
            ],
            "text/markdown": "1. 'R'\n2. 'Programming'\n\n\n",
            "text/latex": "\\begin{enumerate*}\n\\item 'R'\n\\item 'Programming'\n\\end{enumerate*}\n",
            "text/plain": [
              "[1] \"R\"           \"Programming\""
            ]
          },
          "metadata": {}
        }
      ]
    },
    {
      "cell_type": "code",
      "source": [
        "str1 <- \"R\"\n",
        "str2 <- \"Programming\"\n",
        "str3 <- paste(str1, str2)             # str1과 str2를 합쳐서 str3에 저장\n",
        "str3\n",
        "str4 <- c(\"a\",\"b\",\"c\")\n",
        "str5 <- paste(str4, collapse=\" \")   # str4에 포함된 3개 문자(열)를 공백과 함께 str5에 저장\n",
        "str5"
      ],
      "metadata": {
        "colab": {
          "base_uri": "https://localhost:8080/",
          "height": 52
        },
        "id": "0rYabQ0RpK49",
        "outputId": "daceb36a-9682-44c3-cbc2-f1780ff3f1e4"
      },
      "execution_count": null,
      "outputs": [
        {
          "output_type": "display_data",
          "data": {
            "text/html": [
              "'R Programming'"
            ],
            "text/markdown": "'R Programming'",
            "text/latex": "'R Programming'",
            "text/plain": [
              "[1] \"R Programming\""
            ]
          },
          "metadata": {}
        },
        {
          "output_type": "display_data",
          "data": {
            "text/html": [
              "'a b c'"
            ],
            "text/markdown": "'a b c'",
            "text/latex": "'a b c'",
            "text/plain": [
              "[1] \"a b c\""
            ]
          },
          "metadata": {}
        }
      ]
    },
    {
      "cell_type": "code",
      "source": [
        "str1 <- '2022-04-09'    # 문자형\n",
        "str2 <- '2022-06-25'    # 문자형\n",
        "x <- as.Date(str1)        # 날짜형으로 변환\n",
        "y <- as.Date(str2)        # 날짜형으로 변환\n",
        "y - x                     # 날짜 연산 (날짜형은 산술연산이 가능)"
      ],
      "metadata": {
        "colab": {
          "base_uri": "https://localhost:8080/",
          "height": 35
        },
        "id": "-ghZS1AlpV7J",
        "outputId": "a26a4be3-22a4-4bf1-db50-9f4f7cd3b900"
      },
      "execution_count": null,
      "outputs": [
        {
          "output_type": "display_data",
          "data": {
            "text/plain": [
              "Time difference of 77 days"
            ]
          },
          "metadata": {}
        }
      ]
    },
    {
      "cell_type": "code",
      "source": [
        "x <- TRUE\n",
        "y <- FALSE\n",
        "\n",
        "x & y         # 논리곱 TRUE & FALSE → FALSE\n",
        "x | y         # 논리합 TRUE | FALSE → TRUE\n",
        "!y            # 부정 !FALSE → TRUE"
      ],
      "metadata": {
        "colab": {
          "base_uri": "https://localhost:8080/",
          "height": 69
        },
        "id": "NJETjxHMpdKk",
        "outputId": "d67d8939-d700-450d-96f2-f9763152bc38"
      },
      "execution_count": null,
      "outputs": [
        {
          "output_type": "display_data",
          "data": {
            "text/html": [
              "FALSE"
            ],
            "text/markdown": "FALSE",
            "text/latex": "FALSE",
            "text/plain": [
              "[1] FALSE"
            ]
          },
          "metadata": {}
        },
        {
          "output_type": "display_data",
          "data": {
            "text/html": [
              "TRUE"
            ],
            "text/markdown": "TRUE",
            "text/latex": "TRUE",
            "text/plain": [
              "[1] TRUE"
            ]
          },
          "metadata": {}
        },
        {
          "output_type": "display_data",
          "data": {
            "text/html": [
              "TRUE"
            ],
            "text/markdown": "TRUE",
            "text/latex": "TRUE",
            "text/plain": [
              "[1] TRUE"
            ]
          },
          "metadata": {}
        }
      ]
    },
    {
      "cell_type": "markdown",
      "source": [
        ">>>**03 벡터, 행렬, 배열**"
      ],
      "metadata": {
        "id": "_FT70nMBpw6j"
      }
    },
    {
      "cell_type": "code",
      "source": [
        "x1 <- c(1,2,3)    # 벡터 x1 생성\n",
        "x1                # x1 값 출력 : 숫자형\n",
        "x2 <- c(\"a\",\"b\",\"c\",\"d\")  # 벡터 x2 생성\n",
        "x2                                # x2 값 출력 : 문자형\n",
        "x3 <- c(1,2,\"a\",\"b\")    # 벡터 x3 생성\n",
        "x3                          # x3 값 출력 : 문자형"
      ],
      "metadata": {
        "colab": {
          "base_uri": "https://localhost:8080/",
          "height": 69
        },
        "id": "YWArbuLIpivY",
        "outputId": "382826f0-a58d-4138-dd61-b991d9c89ac6"
      },
      "execution_count": null,
      "outputs": [
        {
          "output_type": "display_data",
          "data": {
            "text/html": [
              "<style>\n",
              ".list-inline {list-style: none; margin:0; padding: 0}\n",
              ".list-inline>li {display: inline-block}\n",
              ".list-inline>li:not(:last-child)::after {content: \"\\00b7\"; padding: 0 .5ex}\n",
              "</style>\n",
              "<ol class=list-inline><li>1</li><li>2</li><li>3</li></ol>\n"
            ],
            "text/markdown": "1. 1\n2. 2\n3. 3\n\n\n",
            "text/latex": "\\begin{enumerate*}\n\\item 1\n\\item 2\n\\item 3\n\\end{enumerate*}\n",
            "text/plain": [
              "[1] 1 2 3"
            ]
          },
          "metadata": {}
        },
        {
          "output_type": "display_data",
          "data": {
            "text/html": [
              "<style>\n",
              ".list-inline {list-style: none; margin:0; padding: 0}\n",
              ".list-inline>li {display: inline-block}\n",
              ".list-inline>li:not(:last-child)::after {content: \"\\00b7\"; padding: 0 .5ex}\n",
              "</style>\n",
              "<ol class=list-inline><li>'a'</li><li>'b'</li><li>'c'</li><li>'d'</li></ol>\n"
            ],
            "text/markdown": "1. 'a'\n2. 'b'\n3. 'c'\n4. 'd'\n\n\n",
            "text/latex": "\\begin{enumerate*}\n\\item 'a'\n\\item 'b'\n\\item 'c'\n\\item 'd'\n\\end{enumerate*}\n",
            "text/plain": [
              "[1] \"a\" \"b\" \"c\" \"d\""
            ]
          },
          "metadata": {}
        },
        {
          "output_type": "display_data",
          "data": {
            "text/html": [
              "<style>\n",
              ".list-inline {list-style: none; margin:0; padding: 0}\n",
              ".list-inline>li {display: inline-block}\n",
              ".list-inline>li:not(:last-child)::after {content: \"\\00b7\"; padding: 0 .5ex}\n",
              "</style>\n",
              "<ol class=list-inline><li>'1'</li><li>'2'</li><li>'a'</li><li>'b'</li></ol>\n"
            ],
            "text/markdown": "1. '1'\n2. '2'\n3. 'a'\n4. 'b'\n\n\n",
            "text/latex": "\\begin{enumerate*}\n\\item '1'\n\\item '2'\n\\item 'a'\n\\item 'b'\n\\end{enumerate*}\n",
            "text/plain": [
              "[1] \"1\" \"2\" \"a\" \"b\""
            ]
          },
          "metadata": {}
        }
      ]
    },
    {
      "cell_type": "code",
      "source": [
        "x1 <- c(1,2,3)      # 벡터 x1 생성\n",
        "x2 <- rep(x1, 3)    # x1을 3회 반복\n",
        "x2\n",
        "x3 <- seq(1,10,2)    # 1부터 10까지 2씩 증가하는 수열 생성\n",
        "x3"
      ],
      "metadata": {
        "colab": {
          "base_uri": "https://localhost:8080/",
          "height": 52
        },
        "id": "xGWgRvT7pzzB",
        "outputId": "e51b1582-bd73-4b47-c545-9f9b3171c5e4"
      },
      "execution_count": null,
      "outputs": [
        {
          "output_type": "display_data",
          "data": {
            "text/html": [
              "<style>\n",
              ".list-inline {list-style: none; margin:0; padding: 0}\n",
              ".list-inline>li {display: inline-block}\n",
              ".list-inline>li:not(:last-child)::after {content: \"\\00b7\"; padding: 0 .5ex}\n",
              "</style>\n",
              "<ol class=list-inline><li>1</li><li>2</li><li>3</li><li>1</li><li>2</li><li>3</li><li>1</li><li>2</li><li>3</li></ol>\n"
            ],
            "text/markdown": "1. 1\n2. 2\n3. 3\n4. 1\n5. 2\n6. 3\n7. 1\n8. 2\n9. 3\n\n\n",
            "text/latex": "\\begin{enumerate*}\n\\item 1\n\\item 2\n\\item 3\n\\item 1\n\\item 2\n\\item 3\n\\item 1\n\\item 2\n\\item 3\n\\end{enumerate*}\n",
            "text/plain": [
              "[1] 1 2 3 1 2 3 1 2 3"
            ]
          },
          "metadata": {}
        },
        {
          "output_type": "display_data",
          "data": {
            "text/html": [
              "<style>\n",
              ".list-inline {list-style: none; margin:0; padding: 0}\n",
              ".list-inline>li {display: inline-block}\n",
              ".list-inline>li:not(:last-child)::after {content: \"\\00b7\"; padding: 0 .5ex}\n",
              "</style>\n",
              "<ol class=list-inline><li>1</li><li>3</li><li>5</li><li>7</li><li>9</li></ol>\n"
            ],
            "text/markdown": "1. 1\n2. 3\n3. 5\n4. 7\n5. 9\n\n\n",
            "text/latex": "\\begin{enumerate*}\n\\item 1\n\\item 3\n\\item 5\n\\item 7\n\\item 9\n\\end{enumerate*}\n",
            "text/plain": [
              "[1] 1 3 5 7 9"
            ]
          },
          "metadata": {}
        }
      ]
    },
    {
      "cell_type": "code",
      "source": [
        "x <- c(1:5)    # 1부터 5까지 숫자로 구성된 벡터 생성\n",
        "x[3]           # 벡터 x의 3번째 원소 출력 => 3\n",
        "x[c(3,5)]      # 벡터 x의 3번째, 5번째 원소 출력\n",
        "x[1:3]         # 벡터 x의 1~3번째 원소 출력\n",
        "x[-2]          # 벡터 x의 원소 중 2번째 원소를 제외하고 출력\n",
        "x[x >= 4]      # 벡터 x의 원소 중 4보다 큰 값만 출력"
      ],
      "metadata": {
        "colab": {
          "base_uri": "https://localhost:8080/",
          "height": 104
        },
        "id": "DQKRNVRvp6hl",
        "outputId": "6b4d6ff6-48ed-42f9-8353-9bf31b96f7f4"
      },
      "execution_count": null,
      "outputs": [
        {
          "output_type": "display_data",
          "data": {
            "text/html": [
              "3"
            ],
            "text/markdown": "3",
            "text/latex": "3",
            "text/plain": [
              "[1] 3"
            ]
          },
          "metadata": {}
        },
        {
          "output_type": "display_data",
          "data": {
            "text/html": [
              "<style>\n",
              ".list-inline {list-style: none; margin:0; padding: 0}\n",
              ".list-inline>li {display: inline-block}\n",
              ".list-inline>li:not(:last-child)::after {content: \"\\00b7\"; padding: 0 .5ex}\n",
              "</style>\n",
              "<ol class=list-inline><li>3</li><li>5</li></ol>\n"
            ],
            "text/markdown": "1. 3\n2. 5\n\n\n",
            "text/latex": "\\begin{enumerate*}\n\\item 3\n\\item 5\n\\end{enumerate*}\n",
            "text/plain": [
              "[1] 3 5"
            ]
          },
          "metadata": {}
        },
        {
          "output_type": "display_data",
          "data": {
            "text/html": [
              "<style>\n",
              ".list-inline {list-style: none; margin:0; padding: 0}\n",
              ".list-inline>li {display: inline-block}\n",
              ".list-inline>li:not(:last-child)::after {content: \"\\00b7\"; padding: 0 .5ex}\n",
              "</style>\n",
              "<ol class=list-inline><li>1</li><li>2</li><li>3</li></ol>\n"
            ],
            "text/markdown": "1. 1\n2. 2\n3. 3\n\n\n",
            "text/latex": "\\begin{enumerate*}\n\\item 1\n\\item 2\n\\item 3\n\\end{enumerate*}\n",
            "text/plain": [
              "[1] 1 2 3"
            ]
          },
          "metadata": {}
        },
        {
          "output_type": "display_data",
          "data": {
            "text/html": [
              "<style>\n",
              ".list-inline {list-style: none; margin:0; padding: 0}\n",
              ".list-inline>li {display: inline-block}\n",
              ".list-inline>li:not(:last-child)::after {content: \"\\00b7\"; padding: 0 .5ex}\n",
              "</style>\n",
              "<ol class=list-inline><li>1</li><li>3</li><li>4</li><li>5</li></ol>\n"
            ],
            "text/markdown": "1. 1\n2. 3\n3. 4\n4. 5\n\n\n",
            "text/latex": "\\begin{enumerate*}\n\\item 1\n\\item 3\n\\item 4\n\\item 5\n\\end{enumerate*}\n",
            "text/plain": [
              "[1] 1 3 4 5"
            ]
          },
          "metadata": {}
        },
        {
          "output_type": "display_data",
          "data": {
            "text/html": [
              "<style>\n",
              ".list-inline {list-style: none; margin:0; padding: 0}\n",
              ".list-inline>li {display: inline-block}\n",
              ".list-inline>li:not(:last-child)::after {content: \"\\00b7\"; padding: 0 .5ex}\n",
              "</style>\n",
              "<ol class=list-inline><li>4</li><li>5</li></ol>\n"
            ],
            "text/markdown": "1. 4\n2. 5\n\n\n",
            "text/latex": "\\begin{enumerate*}\n\\item 4\n\\item 5\n\\end{enumerate*}\n",
            "text/plain": [
              "[1] 4 5"
            ]
          },
          "metadata": {}
        }
      ]
    },
    {
      "cell_type": "code",
      "source": [
        "x <- c(100, 200, 300)\n",
        "names(x) <- c(\"aaa\",\"bbb\",\"ccc\")    # 벡터 x의 각 원소 위치에 이름을 부여\n",
        "\n",
        "x[\"bbb\"]                            # 이름을 이용하여 벡터 x의 값을 출력\n",
        "names(x)                            # 벡터 x에 부여된 이름 전체 출력"
      ],
      "metadata": {
        "colab": {
          "base_uri": "https://localhost:8080/",
          "height": 52
        },
        "id": "RzWHywAJqCmT",
        "outputId": "66e5cbf8-b08d-4f9b-a363-c9a5c05a7678"
      },
      "execution_count": null,
      "outputs": [
        {
          "output_type": "display_data",
          "data": {
            "text/html": [
              "<strong>bbb:</strong> 200"
            ],
            "text/markdown": "**bbb:** 200",
            "text/latex": "\\textbf{bbb:} 200",
            "text/plain": [
              "bbb \n",
              "200 "
            ]
          },
          "metadata": {}
        },
        {
          "output_type": "display_data",
          "data": {
            "text/html": [
              "<style>\n",
              ".list-inline {list-style: none; margin:0; padding: 0}\n",
              ".list-inline>li {display: inline-block}\n",
              ".list-inline>li:not(:last-child)::after {content: \"\\00b7\"; padding: 0 .5ex}\n",
              "</style>\n",
              "<ol class=list-inline><li>'aaa'</li><li>'bbb'</li><li>'ccc'</li></ol>\n"
            ],
            "text/markdown": "1. 'aaa'\n2. 'bbb'\n3. 'ccc'\n\n\n",
            "text/latex": "\\begin{enumerate*}\n\\item 'aaa'\n\\item 'bbb'\n\\item 'ccc'\n\\end{enumerate*}\n",
            "text/plain": [
              "[1] \"aaa\" \"bbb\" \"ccc\""
            ]
          },
          "metadata": {}
        }
      ]
    },
    {
      "cell_type": "code",
      "source": [
        "x1 <- c(100,200,300,400)    # 벡터 x1(100,200,300,400) 생성\n",
        "x2 <- c(10,20,30,40)        # 벡터 x2(10,20,30,40) 생성\n",
        "x3 <- c(10,20)              # 벡터 x2(10,20) 생성\n",
        "\n",
        "x1+x2       # x1과 x2의 대응되는 원소를 더함 => (110,220,330,440)\n",
        "x1-x2       # x1에서 x2의 대응되는 원소를 뺌 => (90,180,290,380)\n",
        "x1*x2       # x1과 x2의 대응되는 원소를 곱합\n",
        "\n",
        "x1+x3       # 원소수가 작은 벡터는 기존의 원소가 반복되어 채워짐\n",
        "x1/x3       # 즉, x3가 (10,20)에서 (10,20,10,20)으로 확장됨"
      ],
      "metadata": {
        "colab": {
          "base_uri": "https://localhost:8080/",
          "height": 104
        },
        "id": "MXvhgjeTqRwZ",
        "outputId": "f50b034f-6d47-499c-b6a5-bb3f4b1c7d4d"
      },
      "execution_count": null,
      "outputs": [
        {
          "output_type": "display_data",
          "data": {
            "text/html": [
              "<style>\n",
              ".list-inline {list-style: none; margin:0; padding: 0}\n",
              ".list-inline>li {display: inline-block}\n",
              ".list-inline>li:not(:last-child)::after {content: \"\\00b7\"; padding: 0 .5ex}\n",
              "</style>\n",
              "<ol class=list-inline><li>110</li><li>220</li><li>330</li><li>440</li></ol>\n"
            ],
            "text/markdown": "1. 110\n2. 220\n3. 330\n4. 440\n\n\n",
            "text/latex": "\\begin{enumerate*}\n\\item 110\n\\item 220\n\\item 330\n\\item 440\n\\end{enumerate*}\n",
            "text/plain": [
              "[1] 110 220 330 440"
            ]
          },
          "metadata": {}
        },
        {
          "output_type": "display_data",
          "data": {
            "text/html": [
              "<style>\n",
              ".list-inline {list-style: none; margin:0; padding: 0}\n",
              ".list-inline>li {display: inline-block}\n",
              ".list-inline>li:not(:last-child)::after {content: \"\\00b7\"; padding: 0 .5ex}\n",
              "</style>\n",
              "<ol class=list-inline><li>90</li><li>180</li><li>270</li><li>360</li></ol>\n"
            ],
            "text/markdown": "1. 90\n2. 180\n3. 270\n4. 360\n\n\n",
            "text/latex": "\\begin{enumerate*}\n\\item 90\n\\item 180\n\\item 270\n\\item 360\n\\end{enumerate*}\n",
            "text/plain": [
              "[1]  90 180 270 360"
            ]
          },
          "metadata": {}
        },
        {
          "output_type": "display_data",
          "data": {
            "text/html": [
              "<style>\n",
              ".list-inline {list-style: none; margin:0; padding: 0}\n",
              ".list-inline>li {display: inline-block}\n",
              ".list-inline>li:not(:last-child)::after {content: \"\\00b7\"; padding: 0 .5ex}\n",
              "</style>\n",
              "<ol class=list-inline><li>1000</li><li>4000</li><li>9000</li><li>16000</li></ol>\n"
            ],
            "text/markdown": "1. 1000\n2. 4000\n3. 9000\n4. 16000\n\n\n",
            "text/latex": "\\begin{enumerate*}\n\\item 1000\n\\item 4000\n\\item 9000\n\\item 16000\n\\end{enumerate*}\n",
            "text/plain": [
              "[1]  1000  4000  9000 16000"
            ]
          },
          "metadata": {}
        },
        {
          "output_type": "display_data",
          "data": {
            "text/html": [
              "<style>\n",
              ".list-inline {list-style: none; margin:0; padding: 0}\n",
              ".list-inline>li {display: inline-block}\n",
              ".list-inline>li:not(:last-child)::after {content: \"\\00b7\"; padding: 0 .5ex}\n",
              "</style>\n",
              "<ol class=list-inline><li>110</li><li>220</li><li>310</li><li>420</li></ol>\n"
            ],
            "text/markdown": "1. 110\n2. 220\n3. 310\n4. 420\n\n\n",
            "text/latex": "\\begin{enumerate*}\n\\item 110\n\\item 220\n\\item 310\n\\item 420\n\\end{enumerate*}\n",
            "text/plain": [
              "[1] 110 220 310 420"
            ]
          },
          "metadata": {}
        },
        {
          "output_type": "display_data",
          "data": {
            "text/html": [
              "<style>\n",
              ".list-inline {list-style: none; margin:0; padding: 0}\n",
              ".list-inline>li {display: inline-block}\n",
              ".list-inline>li:not(:last-child)::after {content: \"\\00b7\"; padding: 0 .5ex}\n",
              "</style>\n",
              "<ol class=list-inline><li>10</li><li>10</li><li>30</li><li>20</li></ol>\n"
            ],
            "text/markdown": "1. 10\n2. 10\n3. 30\n4. 20\n\n\n",
            "text/latex": "\\begin{enumerate*}\n\\item 10\n\\item 10\n\\item 30\n\\item 20\n\\end{enumerate*}\n",
            "text/plain": [
              "[1] 10 10 30 20"
            ]
          },
          "metadata": {}
        }
      ]
    },
    {
      "cell_type": "code",
      "source": [
        "x1 <- c(10,20,30,40)    # 벡터 x1(10,20,30) 생성\n",
        "x2 <- c(30,40,50,60)    # 벡터 x2(40,50,60) 생성\n",
        "x3 <- c(40,30,20,10)    # 벡터 x3(40,50,60) 생성\n",
        "\n",
        "union(x1,x2)      # 합집합\n",
        "intersect(x1,x2)  # 교집합\n",
        "setdiff(x1,x2)    # 차집합 x1-x2\n",
        "setequal(x1,x2)   # x1과 x2가 동일하면 TRUE, 아니면 FALSE 반환\n",
        "setequal(x1,x3)   # x1과 x3는 동일집합(원소의 순서는 무관함)"
      ],
      "metadata": {
        "colab": {
          "base_uri": "https://localhost:8080/",
          "height": 104
        },
        "id": "x3Ts2Zwcqbbh",
        "outputId": "4c87ae97-ab2f-4d9c-c526-f4fad937ed9e"
      },
      "execution_count": null,
      "outputs": [
        {
          "output_type": "display_data",
          "data": {
            "text/html": [
              "<style>\n",
              ".list-inline {list-style: none; margin:0; padding: 0}\n",
              ".list-inline>li {display: inline-block}\n",
              ".list-inline>li:not(:last-child)::after {content: \"\\00b7\"; padding: 0 .5ex}\n",
              "</style>\n",
              "<ol class=list-inline><li>10</li><li>20</li><li>30</li><li>40</li><li>50</li><li>60</li></ol>\n"
            ],
            "text/markdown": "1. 10\n2. 20\n3. 30\n4. 40\n5. 50\n6. 60\n\n\n",
            "text/latex": "\\begin{enumerate*}\n\\item 10\n\\item 20\n\\item 30\n\\item 40\n\\item 50\n\\item 60\n\\end{enumerate*}\n",
            "text/plain": [
              "[1] 10 20 30 40 50 60"
            ]
          },
          "metadata": {}
        },
        {
          "output_type": "display_data",
          "data": {
            "text/html": [
              "<style>\n",
              ".list-inline {list-style: none; margin:0; padding: 0}\n",
              ".list-inline>li {display: inline-block}\n",
              ".list-inline>li:not(:last-child)::after {content: \"\\00b7\"; padding: 0 .5ex}\n",
              "</style>\n",
              "<ol class=list-inline><li>30</li><li>40</li></ol>\n"
            ],
            "text/markdown": "1. 30\n2. 40\n\n\n",
            "text/latex": "\\begin{enumerate*}\n\\item 30\n\\item 40\n\\end{enumerate*}\n",
            "text/plain": [
              "[1] 30 40"
            ]
          },
          "metadata": {}
        },
        {
          "output_type": "display_data",
          "data": {
            "text/html": [
              "<style>\n",
              ".list-inline {list-style: none; margin:0; padding: 0}\n",
              ".list-inline>li {display: inline-block}\n",
              ".list-inline>li:not(:last-child)::after {content: \"\\00b7\"; padding: 0 .5ex}\n",
              "</style>\n",
              "<ol class=list-inline><li>10</li><li>20</li></ol>\n"
            ],
            "text/markdown": "1. 10\n2. 20\n\n\n",
            "text/latex": "\\begin{enumerate*}\n\\item 10\n\\item 20\n\\end{enumerate*}\n",
            "text/plain": [
              "[1] 10 20"
            ]
          },
          "metadata": {}
        },
        {
          "output_type": "display_data",
          "data": {
            "text/html": [
              "FALSE"
            ],
            "text/markdown": "FALSE",
            "text/latex": "FALSE",
            "text/plain": [
              "[1] FALSE"
            ]
          },
          "metadata": {}
        },
        {
          "output_type": "display_data",
          "data": {
            "text/html": [
              "TRUE"
            ],
            "text/markdown": "TRUE",
            "text/latex": "TRUE",
            "text/plain": [
              "[1] TRUE"
            ]
          },
          "metadata": {}
        }
      ]
    },
    {
      "cell_type": "code",
      "source": [
        "x <- c(10,20,30,40,50)    # 벡터 x 생성\n",
        "\n",
        "sum(x)        # x의 합계\n",
        "mean(x)       # x의 평균\n",
        "sd(x)         # x의 표준편차\n",
        "var(x)        # x의 분산"
      ],
      "metadata": {
        "colab": {
          "base_uri": "https://localhost:8080/",
          "height": 86
        },
        "id": "wfK9ThP4qhoW",
        "outputId": "6b3e0962-e659-44d9-80fd-b772d28afd71"
      },
      "execution_count": null,
      "outputs": [
        {
          "output_type": "display_data",
          "data": {
            "text/html": [
              "150"
            ],
            "text/markdown": "150",
            "text/latex": "150",
            "text/plain": [
              "[1] 150"
            ]
          },
          "metadata": {}
        },
        {
          "output_type": "display_data",
          "data": {
            "text/html": [
              "30"
            ],
            "text/markdown": "30",
            "text/latex": "30",
            "text/plain": [
              "[1] 30"
            ]
          },
          "metadata": {}
        },
        {
          "output_type": "display_data",
          "data": {
            "text/html": [
              "15.8113883008419"
            ],
            "text/markdown": "15.8113883008419",
            "text/latex": "15.8113883008419",
            "text/plain": [
              "[1] 15.81139"
            ]
          },
          "metadata": {}
        },
        {
          "output_type": "display_data",
          "data": {
            "text/html": [
              "250"
            ],
            "text/markdown": "250",
            "text/latex": "250",
            "text/plain": [
              "[1] 250"
            ]
          },
          "metadata": {}
        }
      ]
    },
    {
      "cell_type": "code",
      "source": [
        "x <- c(1:20)            # 1부터 20까지 원소를 갖는 벡터생성\n",
        "x <- matrix(x, 5, 4)    # 벡터 x를 5X4 행렬로 변환\n",
        "x                       # 행렬 x출력"
      ],
      "metadata": {
        "colab": {
          "base_uri": "https://localhost:8080/",
          "height": 209
        },
        "id": "kLVOeu9kqoN0",
        "outputId": "f2966c2f-5a5e-4257-d452-a1fd093e0006"
      },
      "execution_count": null,
      "outputs": [
        {
          "output_type": "display_data",
          "data": {
            "text/html": [
              "<table class=\"dataframe\">\n",
              "<caption>A matrix: 5 × 4 of type int</caption>\n",
              "<tbody>\n",
              "\t<tr><td>1</td><td> 6</td><td>11</td><td>16</td></tr>\n",
              "\t<tr><td>2</td><td> 7</td><td>12</td><td>17</td></tr>\n",
              "\t<tr><td>3</td><td> 8</td><td>13</td><td>18</td></tr>\n",
              "\t<tr><td>4</td><td> 9</td><td>14</td><td>19</td></tr>\n",
              "\t<tr><td>5</td><td>10</td><td>15</td><td>20</td></tr>\n",
              "</tbody>\n",
              "</table>\n"
            ],
            "text/markdown": "\nA matrix: 5 × 4 of type int\n\n| 1 |  6 | 11 | 16 |\n| 2 |  7 | 12 | 17 |\n| 3 |  8 | 13 | 18 |\n| 4 |  9 | 14 | 19 |\n| 5 | 10 | 15 | 20 |\n\n",
            "text/latex": "A matrix: 5 × 4 of type int\n\\begin{tabular}{llll}\n\t 1 &  6 & 11 & 16\\\\\n\t 2 &  7 & 12 & 17\\\\\n\t 3 &  8 & 13 & 18\\\\\n\t 4 &  9 & 14 & 19\\\\\n\t 5 & 10 & 15 & 20\\\\\n\\end{tabular}\n",
            "text/plain": [
              "     [,1] [,2] [,3] [,4]\n",
              "[1,] 1     6   11   16  \n",
              "[2,] 2     7   12   17  \n",
              "[3,] 3     8   13   18  \n",
              "[4,] 4     9   14   19  \n",
              "[5,] 5    10   15   20  "
            ]
          },
          "metadata": {}
        }
      ]
    },
    {
      "cell_type": "code",
      "source": [
        "x <- matrix(1:20, 5,4)    # 5X4 행렬 생성\n",
        "x[1,3]                    # 1행 3열의 데이터 선택"
      ],
      "metadata": {
        "colab": {
          "base_uri": "https://localhost:8080/",
          "height": 34
        },
        "id": "AO-MYcu-qsex",
        "outputId": "3332613d-c509-4a1e-ad53-b2b055aace94"
      },
      "execution_count": null,
      "outputs": [
        {
          "output_type": "display_data",
          "data": {
            "text/html": [
              "11"
            ],
            "text/markdown": "11",
            "text/latex": "11",
            "text/plain": [
              "[1] 11"
            ]
          },
          "metadata": {}
        }
      ]
    },
    {
      "cell_type": "code",
      "source": [
        "x[2:4, 3:4]       # 2~4행, 3~4열에 해당하는 데이터 선택"
      ],
      "metadata": {
        "colab": {
          "base_uri": "https://localhost:8080/",
          "height": 163
        },
        "id": "O_Ygvs8dqwmb",
        "outputId": "0c266a1e-e071-4e62-e65f-8a23b620e170"
      },
      "execution_count": null,
      "outputs": [
        {
          "output_type": "display_data",
          "data": {
            "text/html": [
              "<table class=\"dataframe\">\n",
              "<caption>A matrix: 3 × 2 of type int</caption>\n",
              "<tbody>\n",
              "\t<tr><td>12</td><td>17</td></tr>\n",
              "\t<tr><td>13</td><td>18</td></tr>\n",
              "\t<tr><td>14</td><td>19</td></tr>\n",
              "</tbody>\n",
              "</table>\n"
            ],
            "text/markdown": "\nA matrix: 3 × 2 of type int\n\n| 12 | 17 |\n| 13 | 18 |\n| 14 | 19 |\n\n",
            "text/latex": "A matrix: 3 × 2 of type int\n\\begin{tabular}{ll}\n\t 12 & 17\\\\\n\t 13 & 18\\\\\n\t 14 & 19\\\\\n\\end{tabular}\n",
            "text/plain": [
              "     [,1] [,2]\n",
              "[1,] 12   17  \n",
              "[2,] 13   18  \n",
              "[3,] 14   19  "
            ]
          },
          "metadata": {}
        }
      ]
    },
    {
      "cell_type": "code",
      "source": [
        "x[-3,]            # 3행을 제외한 나머지 데이터 선택"
      ],
      "metadata": {
        "colab": {
          "base_uri": "https://localhost:8080/",
          "height": 177
        },
        "id": "T2mQrm3Vqzbz",
        "outputId": "a7b0c8b6-b605-4749-8068-bd39a7e6319c"
      },
      "execution_count": null,
      "outputs": [
        {
          "output_type": "display_data",
          "data": {
            "text/html": [
              "<table class=\"dataframe\">\n",
              "<caption>A matrix: 4 × 4 of type int</caption>\n",
              "<tbody>\n",
              "\t<tr><td>1</td><td> 6</td><td>11</td><td>16</td></tr>\n",
              "\t<tr><td>2</td><td> 7</td><td>12</td><td>17</td></tr>\n",
              "\t<tr><td>4</td><td> 9</td><td>14</td><td>19</td></tr>\n",
              "\t<tr><td>5</td><td>10</td><td>15</td><td>20</td></tr>\n",
              "</tbody>\n",
              "</table>\n"
            ],
            "text/markdown": "\nA matrix: 4 × 4 of type int\n\n| 1 |  6 | 11 | 16 |\n| 2 |  7 | 12 | 17 |\n| 4 |  9 | 14 | 19 |\n| 5 | 10 | 15 | 20 |\n\n",
            "text/latex": "A matrix: 4 × 4 of type int\n\\begin{tabular}{llll}\n\t 1 &  6 & 11 & 16\\\\\n\t 2 &  7 & 12 & 17\\\\\n\t 4 &  9 & 14 & 19\\\\\n\t 5 & 10 & 15 & 20\\\\\n\\end{tabular}\n",
            "text/plain": [
              "     [,1] [,2] [,3] [,4]\n",
              "[1,] 1     6   11   16  \n",
              "[2,] 2     7   12   17  \n",
              "[3,] 4     9   14   19  \n",
              "[4,] 5    10   15   20  "
            ]
          },
          "metadata": {}
        }
      ]
    },
    {
      "cell_type": "markdown",
      "source": [
        ">>>**04 데이터프레임과 리스트**"
      ],
      "metadata": {
        "id": "DMVB1lfeq2se"
      }
    },
    {
      "cell_type": "code",
      "source": [
        "# 벡터(열) 생성\n",
        "x1 <- c(\"01\",\"02\",\"03\",\"04\",\"05\")\n",
        "x2 <- c(\"사과\",\"배\",\"감\",\"귤\",\"바나나\")\n",
        "x3 <- c(100,200,150,50,200)\n",
        "x4 <- c(10,25,30,20,15)\n",
        "\n",
        "# 데이터프레임 생성과 출력\n",
        "df = data.frame(과일번호=x1, 과일명=x2, 가격=x3, 수량=x4)\n",
        "df"
      ],
      "metadata": {
        "colab": {
          "base_uri": "https://localhost:8080/",
          "height": 255
        },
        "id": "iE6FTI0Zq6R3",
        "outputId": "57992940-bf84-4bf7-d11c-2176f8443c94"
      },
      "execution_count": null,
      "outputs": [
        {
          "output_type": "display_data",
          "data": {
            "text/html": [
              "<table class=\"dataframe\">\n",
              "<caption>A data.frame: 5 × 4</caption>\n",
              "<thead>\n",
              "\t<tr><th scope=col>과일번호</th><th scope=col>과일명</th><th scope=col>가격</th><th scope=col>수량</th></tr>\n",
              "\t<tr><th scope=col>&lt;chr&gt;</th><th scope=col>&lt;chr&gt;</th><th scope=col>&lt;dbl&gt;</th><th scope=col>&lt;dbl&gt;</th></tr>\n",
              "</thead>\n",
              "<tbody>\n",
              "\t<tr><td>01</td><td>사과  </td><td>100</td><td>10</td></tr>\n",
              "\t<tr><td>02</td><td>배    </td><td>200</td><td>25</td></tr>\n",
              "\t<tr><td>03</td><td>감    </td><td>150</td><td>30</td></tr>\n",
              "\t<tr><td>04</td><td>귤    </td><td> 50</td><td>20</td></tr>\n",
              "\t<tr><td>05</td><td>바나나</td><td>200</td><td>15</td></tr>\n",
              "</tbody>\n",
              "</table>\n"
            ],
            "text/markdown": "\nA data.frame: 5 × 4\n\n| 과일번호 &lt;chr&gt; | 과일명 &lt;chr&gt; | 가격 &lt;dbl&gt; | 수량 &lt;dbl&gt; |\n|---|---|---|---|\n| 01 | 사과   | 100 | 10 |\n| 02 | 배     | 200 | 25 |\n| 03 | 감     | 150 | 30 |\n| 04 | 귤     |  50 | 20 |\n| 05 | 바나나 | 200 | 15 |\n\n",
            "text/latex": "A data.frame: 5 × 4\n\\begin{tabular}{llll}\n 과일번호 & 과일명 & 가격 & 수량\\\\\n <chr> & <chr> & <dbl> & <dbl>\\\\\n\\hline\n\t 01 & 사과   & 100 & 10\\\\\n\t 02 & 배     & 200 & 25\\\\\n\t 03 & 감     & 150 & 30\\\\\n\t 04 & 귤     &  50 & 20\\\\\n\t 05 & 바나나 & 200 & 15\\\\\n\\end{tabular}\n",
            "text/plain": [
              "  과일번호 과일명 가격 수량\n",
              "1 01       사과   100  10  \n",
              "2 02       배     200  25  \n",
              "3 03       감     150  30  \n",
              "4 04       귤      50  20  \n",
              "5 05       바나나 200  15  "
            ]
          },
          "metadata": {}
        }
      ]
    },
    {
      "cell_type": "code",
      "source": [
        "str(df)"
      ],
      "metadata": {
        "colab": {
          "base_uri": "https://localhost:8080/"
        },
        "id": "RMGeiCxIrIDp",
        "outputId": "762a57eb-9640-41a3-e775-a578ae6b2944"
      },
      "execution_count": null,
      "outputs": [
        {
          "output_type": "stream",
          "name": "stdout",
          "text": [
            "'data.frame':\t5 obs. of  4 variables:\n",
            " $ 과일번호: chr  \"01\" \"02\" \"03\" \"04\" ...\n",
            " $ 과일명  : chr  \"사과\" \"배\" \"감\" \"귤\" ...\n",
            " $ 가격    : num  100 200 150 50 200\n",
            " $ 수량    : num  10 25 30 20 15\n"
          ]
        }
      ]
    },
    {
      "cell_type": "code",
      "source": [
        "df[2, ]"
      ],
      "metadata": {
        "colab": {
          "base_uri": "https://localhost:8080/",
          "height": 129
        },
        "id": "cdsquY-brKqu",
        "outputId": "4156cdef-f379-4a4c-b7b6-035d78ebe569"
      },
      "execution_count": null,
      "outputs": [
        {
          "output_type": "display_data",
          "data": {
            "text/html": [
              "<table class=\"dataframe\">\n",
              "<caption>A data.frame: 1 × 4</caption>\n",
              "<thead>\n",
              "\t<tr><th></th><th scope=col>과일번호</th><th scope=col>과일명</th><th scope=col>가격</th><th scope=col>수량</th></tr>\n",
              "\t<tr><th></th><th scope=col>&lt;chr&gt;</th><th scope=col>&lt;chr&gt;</th><th scope=col>&lt;dbl&gt;</th><th scope=col>&lt;dbl&gt;</th></tr>\n",
              "</thead>\n",
              "<tbody>\n",
              "\t<tr><th scope=row>2</th><td>02</td><td>배</td><td>200</td><td>25</td></tr>\n",
              "</tbody>\n",
              "</table>\n"
            ],
            "text/markdown": "\nA data.frame: 1 × 4\n\n| <!--/--> | 과일번호 &lt;chr&gt; | 과일명 &lt;chr&gt; | 가격 &lt;dbl&gt; | 수량 &lt;dbl&gt; |\n|---|---|---|---|---|\n| 2 | 02 | 배 | 200 | 25 |\n\n",
            "text/latex": "A data.frame: 1 × 4\n\\begin{tabular}{r|llll}\n  & 과일번호 & 과일명 & 가격 & 수량\\\\\n  & <chr> & <chr> & <dbl> & <dbl>\\\\\n\\hline\n\t2 & 02 & 배 & 200 & 25\\\\\n\\end{tabular}\n",
            "text/plain": [
              "  과일번호 과일명 가격 수량\n",
              "2 02       배     200  25  "
            ]
          },
          "metadata": {}
        }
      ]
    },
    {
      "cell_type": "code",
      "source": [
        "df[ , \"과일명\"]"
      ],
      "metadata": {
        "colab": {
          "base_uri": "https://localhost:8080/",
          "height": 34
        },
        "id": "2ixEc9SArOHm",
        "outputId": "088c9290-253e-4037-cac9-ca6948021c78"
      },
      "execution_count": null,
      "outputs": [
        {
          "output_type": "display_data",
          "data": {
            "text/html": [
              "<style>\n",
              ".list-inline {list-style: none; margin:0; padding: 0}\n",
              ".list-inline>li {display: inline-block}\n",
              ".list-inline>li:not(:last-child)::after {content: \"\\00b7\"; padding: 0 .5ex}\n",
              "</style>\n",
              "<ol class=list-inline><li>'사과'</li><li>'배'</li><li>'감'</li><li>'귤'</li><li>'바나나'</li></ol>\n"
            ],
            "text/markdown": "1. '사과'\n2. '배'\n3. '감'\n4. '귤'\n5. '바나나'\n\n\n",
            "text/latex": "\\begin{enumerate*}\n\\item '사과'\n\\item '배'\n\\item '감'\n\\item '귤'\n\\item '바나나'\n\\end{enumerate*}\n",
            "text/plain": [
              "[1] \"사과\"   \"배\"     \"감\"     \"귤\"     \"바나나\""
            ]
          },
          "metadata": {}
        }
      ]
    },
    {
      "cell_type": "code",
      "source": [
        "df$과일명 # df[ , \"과일명\"]과 동일"
      ],
      "metadata": {
        "colab": {
          "base_uri": "https://localhost:8080/",
          "height": 34
        },
        "id": "celO0yp1rRh-",
        "outputId": "fbc76d54-acf4-4725-ff1f-021f6edf61ab"
      },
      "execution_count": null,
      "outputs": [
        {
          "output_type": "display_data",
          "data": {
            "text/html": [
              "<style>\n",
              ".list-inline {list-style: none; margin:0; padding: 0}\n",
              ".list-inline>li {display: inline-block}\n",
              ".list-inline>li:not(:last-child)::after {content: \"\\00b7\"; padding: 0 .5ex}\n",
              "</style>\n",
              "<ol class=list-inline><li>'사과'</li><li>'배'</li><li>'감'</li><li>'귤'</li><li>'바나나'</li></ol>\n"
            ],
            "text/markdown": "1. '사과'\n2. '배'\n3. '감'\n4. '귤'\n5. '바나나'\n\n\n",
            "text/latex": "\\begin{enumerate*}\n\\item '사과'\n\\item '배'\n\\item '감'\n\\item '귤'\n\\item '바나나'\n\\end{enumerate*}\n",
            "text/plain": [
              "[1] \"사과\"   \"배\"     \"감\"     \"귤\"     \"바나나\""
            ]
          },
          "metadata": {}
        }
      ]
    },
    {
      "cell_type": "code",
      "source": [
        "head(df, n=2)   # 상위 2개 행 선택"
      ],
      "metadata": {
        "colab": {
          "base_uri": "https://localhost:8080/",
          "height": 161
        },
        "id": "387-cyImuyi2",
        "outputId": "5949cafa-3327-4f54-b69f-188a9e33f716"
      },
      "execution_count": null,
      "outputs": [
        {
          "output_type": "display_data",
          "data": {
            "text/html": [
              "<table class=\"dataframe\">\n",
              "<caption>A data.frame: 2 × 4</caption>\n",
              "<thead>\n",
              "\t<tr><th></th><th scope=col>과일번호</th><th scope=col>과일명</th><th scope=col>가격</th><th scope=col>수량</th></tr>\n",
              "\t<tr><th></th><th scope=col>&lt;chr&gt;</th><th scope=col>&lt;chr&gt;</th><th scope=col>&lt;dbl&gt;</th><th scope=col>&lt;dbl&gt;</th></tr>\n",
              "</thead>\n",
              "<tbody>\n",
              "\t<tr><th scope=row>1</th><td>01</td><td>사과</td><td>100</td><td>10</td></tr>\n",
              "\t<tr><th scope=row>2</th><td>02</td><td>배  </td><td>200</td><td>25</td></tr>\n",
              "</tbody>\n",
              "</table>\n"
            ],
            "text/markdown": "\nA data.frame: 2 × 4\n\n| <!--/--> | 과일번호 &lt;chr&gt; | 과일명 &lt;chr&gt; | 가격 &lt;dbl&gt; | 수량 &lt;dbl&gt; |\n|---|---|---|---|---|\n| 1 | 01 | 사과 | 100 | 10 |\n| 2 | 02 | 배   | 200 | 25 |\n\n",
            "text/latex": "A data.frame: 2 × 4\n\\begin{tabular}{r|llll}\n  & 과일번호 & 과일명 & 가격 & 수량\\\\\n  & <chr> & <chr> & <dbl> & <dbl>\\\\\n\\hline\n\t1 & 01 & 사과 & 100 & 10\\\\\n\t2 & 02 & 배   & 200 & 25\\\\\n\\end{tabular}\n",
            "text/plain": [
              "  과일번호 과일명 가격 수량\n",
              "1 01       사과   100  10  \n",
              "2 02       배     200  25  "
            ]
          },
          "metadata": {}
        }
      ]
    },
    {
      "cell_type": "code",
      "source": [
        "tail(df, n=2)   # 하위 2개 행 선택"
      ],
      "metadata": {
        "colab": {
          "base_uri": "https://localhost:8080/",
          "height": 161
        },
        "id": "r2CY9FKzu2Va",
        "outputId": "e41f158f-259b-4796-ef9a-c47a5fbc003e"
      },
      "execution_count": null,
      "outputs": [
        {
          "output_type": "display_data",
          "data": {
            "text/html": [
              "<table class=\"dataframe\">\n",
              "<caption>A data.frame: 2 × 4</caption>\n",
              "<thead>\n",
              "\t<tr><th></th><th scope=col>과일번호</th><th scope=col>과일명</th><th scope=col>가격</th><th scope=col>수량</th></tr>\n",
              "\t<tr><th></th><th scope=col>&lt;chr&gt;</th><th scope=col>&lt;chr&gt;</th><th scope=col>&lt;dbl&gt;</th><th scope=col>&lt;dbl&gt;</th></tr>\n",
              "</thead>\n",
              "<tbody>\n",
              "\t<tr><th scope=row>4</th><td>04</td><td>귤    </td><td> 50</td><td>20</td></tr>\n",
              "\t<tr><th scope=row>5</th><td>05</td><td>바나나</td><td>200</td><td>15</td></tr>\n",
              "</tbody>\n",
              "</table>\n"
            ],
            "text/markdown": "\nA data.frame: 2 × 4\n\n| <!--/--> | 과일번호 &lt;chr&gt; | 과일명 &lt;chr&gt; | 가격 &lt;dbl&gt; | 수량 &lt;dbl&gt; |\n|---|---|---|---|---|\n| 4 | 04 | 귤     |  50 | 20 |\n| 5 | 05 | 바나나 | 200 | 15 |\n\n",
            "text/latex": "A data.frame: 2 × 4\n\\begin{tabular}{r|llll}\n  & 과일번호 & 과일명 & 가격 & 수량\\\\\n  & <chr> & <chr> & <dbl> & <dbl>\\\\\n\\hline\n\t4 & 04 & 귤     &  50 & 20\\\\\n\t5 & 05 & 바나나 & 200 & 15\\\\\n\\end{tabular}\n",
            "text/plain": [
              "  과일번호 과일명 가격 수량\n",
              "4 04       귤      50  20  \n",
              "5 05       바나나 200  15  "
            ]
          },
          "metadata": {}
        }
      ]
    },
    {
      "cell_type": "code",
      "source": [
        "subset(df, 가격 >= 150)    # 가격이 150 이상인 행 선택"
      ],
      "metadata": {
        "colab": {
          "base_uri": "https://localhost:8080/",
          "height": 192
        },
        "id": "ZzELoBuju4uT",
        "outputId": "dd6dc7d5-2cd7-46c3-b455-11c4ecbcadc5"
      },
      "execution_count": null,
      "outputs": [
        {
          "output_type": "display_data",
          "data": {
            "text/html": [
              "<table class=\"dataframe\">\n",
              "<caption>A data.frame: 3 × 4</caption>\n",
              "<thead>\n",
              "\t<tr><th></th><th scope=col>과일번호</th><th scope=col>과일명</th><th scope=col>가격</th><th scope=col>수량</th></tr>\n",
              "\t<tr><th></th><th scope=col>&lt;chr&gt;</th><th scope=col>&lt;chr&gt;</th><th scope=col>&lt;dbl&gt;</th><th scope=col>&lt;dbl&gt;</th></tr>\n",
              "</thead>\n",
              "<tbody>\n",
              "\t<tr><th scope=row>2</th><td>02</td><td>배    </td><td>200</td><td>25</td></tr>\n",
              "\t<tr><th scope=row>3</th><td>03</td><td>감    </td><td>150</td><td>30</td></tr>\n",
              "\t<tr><th scope=row>5</th><td>05</td><td>바나나</td><td>200</td><td>15</td></tr>\n",
              "</tbody>\n",
              "</table>\n"
            ],
            "text/markdown": "\nA data.frame: 3 × 4\n\n| <!--/--> | 과일번호 &lt;chr&gt; | 과일명 &lt;chr&gt; | 가격 &lt;dbl&gt; | 수량 &lt;dbl&gt; |\n|---|---|---|---|---|\n| 2 | 02 | 배     | 200 | 25 |\n| 3 | 03 | 감     | 150 | 30 |\n| 5 | 05 | 바나나 | 200 | 15 |\n\n",
            "text/latex": "A data.frame: 3 × 4\n\\begin{tabular}{r|llll}\n  & 과일번호 & 과일명 & 가격 & 수량\\\\\n  & <chr> & <chr> & <dbl> & <dbl>\\\\\n\\hline\n\t2 & 02 & 배     & 200 & 25\\\\\n\t3 & 03 & 감     & 150 & 30\\\\\n\t5 & 05 & 바나나 & 200 & 15\\\\\n\\end{tabular}\n",
            "text/plain": [
              "  과일번호 과일명 가격 수량\n",
              "2 02       배     200  25  \n",
              "3 03       감     150  30  \n",
              "5 05       바나나 200  15  "
            ]
          },
          "metadata": {}
        }
      ]
    },
    {
      "cell_type": "code",
      "source": [
        "subset(df, 가격 >= 150, select=c(\"과일번호\", \"과일명\"))"
      ],
      "metadata": {
        "colab": {
          "base_uri": "https://localhost:8080/",
          "height": 192
        },
        "id": "wd76mxY-u7Mz",
        "outputId": "bf401ee8-b133-4db7-908e-e0cff67245a9"
      },
      "execution_count": null,
      "outputs": [
        {
          "output_type": "display_data",
          "data": {
            "text/html": [
              "<table class=\"dataframe\">\n",
              "<caption>A data.frame: 3 × 2</caption>\n",
              "<thead>\n",
              "\t<tr><th></th><th scope=col>과일번호</th><th scope=col>과일명</th></tr>\n",
              "\t<tr><th></th><th scope=col>&lt;chr&gt;</th><th scope=col>&lt;chr&gt;</th></tr>\n",
              "</thead>\n",
              "<tbody>\n",
              "\t<tr><th scope=row>2</th><td>02</td><td>배    </td></tr>\n",
              "\t<tr><th scope=row>3</th><td>03</td><td>감    </td></tr>\n",
              "\t<tr><th scope=row>5</th><td>05</td><td>바나나</td></tr>\n",
              "</tbody>\n",
              "</table>\n"
            ],
            "text/markdown": "\nA data.frame: 3 × 2\n\n| <!--/--> | 과일번호 &lt;chr&gt; | 과일명 &lt;chr&gt; |\n|---|---|---|\n| 2 | 02 | 배     |\n| 3 | 03 | 감     |\n| 5 | 05 | 바나나 |\n\n",
            "text/latex": "A data.frame: 3 × 2\n\\begin{tabular}{r|ll}\n  & 과일번호 & 과일명\\\\\n  & <chr> & <chr>\\\\\n\\hline\n\t2 & 02 & 배    \\\\\n\t3 & 03 & 감    \\\\\n\t5 & 05 & 바나나\\\\\n\\end{tabular}\n",
            "text/plain": [
              "  과일번호 과일명\n",
              "2 02       배    \n",
              "3 03       감    \n",
              "5 05       바나나"
            ]
          },
          "metadata": {}
        }
      ]
    },
    {
      "cell_type": "code",
      "source": [
        "df1 <- head(df, n=2)    # 상위 2개 행 선택\n",
        "df2 <- tail(df, n=2)    # 하위 2개 행 선택\n",
        "rbind(df1,df2)          # 행 결합"
      ],
      "metadata": {
        "colab": {
          "base_uri": "https://localhost:8080/",
          "height": 224
        },
        "id": "2mXVY6hevAuB",
        "outputId": "75744bbf-f103-46be-87f6-176d82ee151c"
      },
      "execution_count": null,
      "outputs": [
        {
          "output_type": "display_data",
          "data": {
            "text/html": [
              "<table class=\"dataframe\">\n",
              "<caption>A data.frame: 4 × 4</caption>\n",
              "<thead>\n",
              "\t<tr><th></th><th scope=col>과일번호</th><th scope=col>과일명</th><th scope=col>가격</th><th scope=col>수량</th></tr>\n",
              "\t<tr><th></th><th scope=col>&lt;chr&gt;</th><th scope=col>&lt;chr&gt;</th><th scope=col>&lt;dbl&gt;</th><th scope=col>&lt;dbl&gt;</th></tr>\n",
              "</thead>\n",
              "<tbody>\n",
              "\t<tr><th scope=row>1</th><td>01</td><td>사과  </td><td>100</td><td>10</td></tr>\n",
              "\t<tr><th scope=row>2</th><td>02</td><td>배    </td><td>200</td><td>25</td></tr>\n",
              "\t<tr><th scope=row>4</th><td>04</td><td>귤    </td><td> 50</td><td>20</td></tr>\n",
              "\t<tr><th scope=row>5</th><td>05</td><td>바나나</td><td>200</td><td>15</td></tr>\n",
              "</tbody>\n",
              "</table>\n"
            ],
            "text/markdown": "\nA data.frame: 4 × 4\n\n| <!--/--> | 과일번호 &lt;chr&gt; | 과일명 &lt;chr&gt; | 가격 &lt;dbl&gt; | 수량 &lt;dbl&gt; |\n|---|---|---|---|---|\n| 1 | 01 | 사과   | 100 | 10 |\n| 2 | 02 | 배     | 200 | 25 |\n| 4 | 04 | 귤     |  50 | 20 |\n| 5 | 05 | 바나나 | 200 | 15 |\n\n",
            "text/latex": "A data.frame: 4 × 4\n\\begin{tabular}{r|llll}\n  & 과일번호 & 과일명 & 가격 & 수량\\\\\n  & <chr> & <chr> & <dbl> & <dbl>\\\\\n\\hline\n\t1 & 01 & 사과   & 100 & 10\\\\\n\t2 & 02 & 배     & 200 & 25\\\\\n\t4 & 04 & 귤     &  50 & 20\\\\\n\t5 & 05 & 바나나 & 200 & 15\\\\\n\\end{tabular}\n",
            "text/plain": [
              "  과일번호 과일명 가격 수량\n",
              "1 01       사과   100  10  \n",
              "2 02       배     200  25  \n",
              "4 04       귤      50  20  \n",
              "5 05       바나나 200  15  "
            ]
          },
          "metadata": {}
        }
      ]
    },
    {
      "cell_type": "code",
      "source": [
        "cbind(df1,df2)       # 열 결합"
      ],
      "metadata": {
        "colab": {
          "base_uri": "https://localhost:8080/",
          "height": 161
        },
        "id": "fyn7FXxLvEth",
        "outputId": "26523e62-5e37-4d3e-ea0d-9ea0f7a0b226"
      },
      "execution_count": null,
      "outputs": [
        {
          "output_type": "display_data",
          "data": {
            "text/html": [
              "<table class=\"dataframe\">\n",
              "<caption>A data.frame: 2 × 8</caption>\n",
              "<thead>\n",
              "\t<tr><th></th><th scope=col>과일번호</th><th scope=col>과일명</th><th scope=col>가격</th><th scope=col>수량</th><th scope=col>과일번호</th><th scope=col>과일명</th><th scope=col>가격</th><th scope=col>수량</th></tr>\n",
              "\t<tr><th></th><th scope=col>&lt;chr&gt;</th><th scope=col>&lt;chr&gt;</th><th scope=col>&lt;dbl&gt;</th><th scope=col>&lt;dbl&gt;</th><th scope=col>&lt;chr&gt;</th><th scope=col>&lt;chr&gt;</th><th scope=col>&lt;dbl&gt;</th><th scope=col>&lt;dbl&gt;</th></tr>\n",
              "</thead>\n",
              "<tbody>\n",
              "\t<tr><th scope=row>1</th><td>01</td><td>사과</td><td>100</td><td>10</td><td>04</td><td>귤    </td><td> 50</td><td>20</td></tr>\n",
              "\t<tr><th scope=row>2</th><td>02</td><td>배  </td><td>200</td><td>25</td><td>05</td><td>바나나</td><td>200</td><td>15</td></tr>\n",
              "</tbody>\n",
              "</table>\n"
            ],
            "text/markdown": "\nA data.frame: 2 × 8\n\n| <!--/--> | 과일번호 &lt;chr&gt; | 과일명 &lt;chr&gt; | 가격 &lt;dbl&gt; | 수량 &lt;dbl&gt; | 과일번호 &lt;chr&gt; | 과일명 &lt;chr&gt; | 가격 &lt;dbl&gt; | 수량 &lt;dbl&gt; |\n|---|---|---|---|---|---|---|---|---|\n| 1 | 01 | 사과 | 100 | 10 | 04 | 귤     |  50 | 20 |\n| 2 | 02 | 배   | 200 | 25 | 05 | 바나나 | 200 | 15 |\n\n",
            "text/latex": "A data.frame: 2 × 8\n\\begin{tabular}{r|llllllll}\n  & 과일번호 & 과일명 & 가격 & 수량 & 과일번호 & 과일명 & 가격 & 수량\\\\\n  & <chr> & <chr> & <dbl> & <dbl> & <chr> & <chr> & <dbl> & <dbl>\\\\\n\\hline\n\t1 & 01 & 사과 & 100 & 10 & 04 & 귤     &  50 & 20\\\\\n\t2 & 02 & 배   & 200 & 25 & 05 & 바나나 & 200 & 15\\\\\n\\end{tabular}\n",
            "text/plain": [
              "  과일번호 과일명 가격 수량 과일번호 과일명 가격 수량\n",
              "1 01       사과   100  10   04       귤      50  20  \n",
              "2 02       배     200  25   05       바나나 200  15  "
            ]
          },
          "metadata": {}
        }
      ]
    },
    {
      "cell_type": "code",
      "source": [
        "x <- c(\"사과\",\"배\",\"감\",\"귤\",\"바나나\")      # 벡터 x 생성\n",
        "\n",
        "y1 <- c(10,20,30,40,50)\n",
        "y2 <- c(10,20,30,40,50)\n",
        "df = data.frame(y1, y2)       # 데이터프레임 생성\n",
        "\n",
        "lst1 <- list(x, df)           # 리스트 생성\n",
        "lst1                          # x와 df의 값이 각각 출력된다."
      ],
      "metadata": {
        "colab": {
          "base_uri": "https://localhost:8080/",
          "height": 318
        },
        "id": "EzZrPs0l4wtN",
        "outputId": "89c8a1c5-6d92-4197-b3d7-e27832f91101"
      },
      "execution_count": null,
      "outputs": [
        {
          "output_type": "display_data",
          "data": {
            "text/html": [
              "<ol>\n",
              "\t<li><style>\n",
              ".list-inline {list-style: none; margin:0; padding: 0}\n",
              ".list-inline>li {display: inline-block}\n",
              ".list-inline>li:not(:last-child)::after {content: \"\\00b7\"; padding: 0 .5ex}\n",
              "</style>\n",
              "<ol class=list-inline><li>'사과'</li><li>'배'</li><li>'감'</li><li>'귤'</li><li>'바나나'</li></ol>\n",
              "</li>\n",
              "\t<li><table class=\"dataframe\">\n",
              "<caption>A data.frame: 5 × 2</caption>\n",
              "<thead>\n",
              "\t<tr><th scope=col>y1</th><th scope=col>y2</th></tr>\n",
              "\t<tr><th scope=col>&lt;dbl&gt;</th><th scope=col>&lt;dbl&gt;</th></tr>\n",
              "</thead>\n",
              "<tbody>\n",
              "\t<tr><td>10</td><td>10</td></tr>\n",
              "\t<tr><td>20</td><td>20</td></tr>\n",
              "\t<tr><td>30</td><td>30</td></tr>\n",
              "\t<tr><td>40</td><td>40</td></tr>\n",
              "\t<tr><td>50</td><td>50</td></tr>\n",
              "</tbody>\n",
              "</table>\n",
              "</li>\n",
              "</ol>\n"
            ],
            "text/markdown": "1. 1. '사과'\n2. '배'\n3. '감'\n4. '귤'\n5. '바나나'\n\n\n\n2. \nA data.frame: 5 × 2\n\n| y1 &lt;dbl&gt; | y2 &lt;dbl&gt; |\n|---|---|\n| 10 | 10 |\n| 20 | 20 |\n| 30 | 30 |\n| 40 | 40 |\n| 50 | 50 |\n\n\n\n\n",
            "text/latex": "\\begin{enumerate}\n\\item \\begin{enumerate*}\n\\item '사과'\n\\item '배'\n\\item '감'\n\\item '귤'\n\\item '바나나'\n\\end{enumerate*}\n\n\\item A data.frame: 5 × 2\n\\begin{tabular}{ll}\n y1 & y2\\\\\n <dbl> & <dbl>\\\\\n\\hline\n\t 10 & 10\\\\\n\t 20 & 20\\\\\n\t 30 & 30\\\\\n\t 40 & 40\\\\\n\t 50 & 50\\\\\n\\end{tabular}\n\n\\end{enumerate}\n",
            "text/plain": [
              "[[1]]\n",
              "[1] \"사과\"   \"배\"     \"감\"     \"귤\"     \"바나나\"\n",
              "\n",
              "[[2]]\n",
              "  y1 y2\n",
              "1 10 10\n",
              "2 20 20\n",
              "3 30 30\n",
              "4 40 40\n",
              "5 50 50\n"
            ]
          },
          "metadata": {}
        }
      ]
    },
    {
      "cell_type": "code",
      "source": [
        "x <- c(\"사과\",\"배\",\"감\",\"귤\",\"바나나\")    # 벡터 x 생성\n",
        "y <- c(10:20)                             # 벡터 y 생성\n",
        "\n",
        "lst1 <- list(\"과일\"=x, \"숫자\"=y)      # 리스트 생성\n",
        "lst1[1]                             # lst1의 첫번째 객체 x 출력\n",
        "lst1$숫자                           # lst1의 \"숫자\" 객체인 y 출력"
      ],
      "metadata": {
        "colab": {
          "base_uri": "https://localhost:8080/",
          "height": 69
        },
        "id": "lfbf1Da95yAg",
        "outputId": "6b365fcd-77dc-4d94-d976-59689f20dd34"
      },
      "execution_count": null,
      "outputs": [
        {
          "output_type": "display_data",
          "data": {
            "text/html": [
              "<strong>$과일</strong> = <style>\n",
              ".list-inline {list-style: none; margin:0; padding: 0}\n",
              ".list-inline>li {display: inline-block}\n",
              ".list-inline>li:not(:last-child)::after {content: \"\\00b7\"; padding: 0 .5ex}\n",
              "</style>\n",
              "<ol class=list-inline><li>'사과'</li><li>'배'</li><li>'감'</li><li>'귤'</li><li>'바나나'</li></ol>\n"
            ],
            "text/markdown": "**$과일** = 1. '사과'\n2. '배'\n3. '감'\n4. '귤'\n5. '바나나'\n\n\n",
            "text/latex": "\\textbf{\\$과일} = \\begin{enumerate*}\n\\item '사과'\n\\item '배'\n\\item '감'\n\\item '귤'\n\\item '바나나'\n\\end{enumerate*}\n",
            "text/plain": [
              "$과일\n",
              "[1] \"사과\"   \"배\"     \"감\"     \"귤\"     \"바나나\"\n"
            ]
          },
          "metadata": {}
        },
        {
          "output_type": "display_data",
          "data": {
            "text/html": [
              "<style>\n",
              ".list-inline {list-style: none; margin:0; padding: 0}\n",
              ".list-inline>li {display: inline-block}\n",
              ".list-inline>li:not(:last-child)::after {content: \"\\00b7\"; padding: 0 .5ex}\n",
              "</style>\n",
              "<ol class=list-inline><li>10</li><li>11</li><li>12</li><li>13</li><li>14</li><li>15</li><li>16</li><li>17</li><li>18</li><li>19</li><li>20</li></ol>\n"
            ],
            "text/markdown": "1. 10\n2. 11\n3. 12\n4. 13\n5. 14\n6. 15\n7. 16\n8. 17\n9. 18\n10. 19\n11. 20\n\n\n",
            "text/latex": "\\begin{enumerate*}\n\\item 10\n\\item 11\n\\item 12\n\\item 13\n\\item 14\n\\item 15\n\\item 16\n\\item 17\n\\item 18\n\\item 19\n\\item 20\n\\end{enumerate*}\n",
            "text/plain": [
              " [1] 10 11 12 13 14 15 16 17 18 19 20"
            ]
          },
          "metadata": {}
        }
      ]
    },
    {
      "cell_type": "markdown",
      "source": [
        ">>>**05 조건문과 반복문**"
      ],
      "metadata": {
        "id": "1LtaepRE6B_y"
      }
    },
    {
      "cell_type": "code",
      "source": [
        "a <- 10\n",
        "\n",
        "if (a > 0){                     # a>0는 참이기 때문에 if문 내의 문장을 실행\n",
        "    print(\"a는 양의 정수입니다.\")\n",
        "}"
      ],
      "metadata": {
        "colab": {
          "base_uri": "https://localhost:8080/"
        },
        "id": "MRr0DN_R6AkR",
        "outputId": "36b354e1-da03-48af-9e68-d037e53c002b"
      },
      "execution_count": null,
      "outputs": [
        {
          "output_type": "stream",
          "name": "stdout",
          "text": [
            "[1] \"a는 양의 정수입니다.\"\n"
          ]
        }
      ]
    },
    {
      "cell_type": "code",
      "source": [
        "a <- -10\n",
        "\n",
        "if (a >= 0){                     # a>0는 거짓이기 때문에 else문 내의 문장을 실행\n",
        "    print(\"a는 0보다 크거나 같습니다.\")\n",
        "} else {\n",
        "    print(\"a는 0보다 작습니다.\")\n",
        "}"
      ],
      "metadata": {
        "colab": {
          "base_uri": "https://localhost:8080/"
        },
        "id": "roMaqfCW6Qw7",
        "outputId": "6bd2157d-9bd2-4f9c-943e-40f5dc9d6820"
      },
      "execution_count": null,
      "outputs": [
        {
          "output_type": "stream",
          "name": "stdout",
          "text": [
            "[1] \"a는 0보다 작습니다.\"\n"
          ]
        }
      ]
    },
    {
      "cell_type": "code",
      "source": [
        "x <- c(10,20,30,40,50)\n",
        "\n",
        "# x의 각 원소에 대해서 30이상이면 \"30이상\", 아니면 \"30미만\"을 출력\n",
        "ifelse(x >= 30, \"30이상\", \"30미만\")"
      ],
      "metadata": {
        "colab": {
          "base_uri": "https://localhost:8080/",
          "height": 34
        },
        "id": "f6lxD3hW6dYJ",
        "outputId": "bbc55c84-0345-4410-f2b2-61e2c25d0819"
      },
      "execution_count": null,
      "outputs": [
        {
          "output_type": "display_data",
          "data": {
            "text/html": [
              "<style>\n",
              ".list-inline {list-style: none; margin:0; padding: 0}\n",
              ".list-inline>li {display: inline-block}\n",
              ".list-inline>li:not(:last-child)::after {content: \"\\00b7\"; padding: 0 .5ex}\n",
              "</style>\n",
              "<ol class=list-inline><li>'30미만'</li><li>'30미만'</li><li>'30이상'</li><li>'30이상'</li><li>'30이상'</li></ol>\n"
            ],
            "text/markdown": "1. '30미만'\n2. '30미만'\n3. '30이상'\n4. '30이상'\n5. '30이상'\n\n\n",
            "text/latex": "\\begin{enumerate*}\n\\item '30미만'\n\\item '30미만'\n\\item '30이상'\n\\item '30이상'\n\\item '30이상'\n\\end{enumerate*}\n",
            "text/plain": [
              "[1] \"30미만\" \"30미만\" \"30이상\" \"30이상\" \"30이상\""
            ]
          },
          "metadata": {}
        }
      ]
    },
    {
      "cell_type": "code",
      "source": [
        "for(i in 1:4){\n",
        "    print(i)\n",
        "}"
      ],
      "metadata": {
        "colab": {
          "base_uri": "https://localhost:8080/"
        },
        "id": "KSKCH5ae6myi",
        "outputId": "de9aea9e-c51d-4b40-cb2b-1643993a4e08"
      },
      "execution_count": null,
      "outputs": [
        {
          "output_type": "stream",
          "name": "stdout",
          "text": [
            "[1] 1\n",
            "[1] 2\n",
            "[1] 3\n",
            "[1] 4\n"
          ]
        }
      ]
    },
    {
      "cell_type": "code",
      "source": [
        "x = c(\"a\", \"b\", \"c\", \"d\", \"e\")\n",
        "for(i in x){\n",
        "    print(i)\n",
        "}"
      ],
      "metadata": {
        "colab": {
          "base_uri": "https://localhost:8080/"
        },
        "id": "NadDJUAC6qe1",
        "outputId": "47df1a42-91ce-47e5-8a31-d8503a0d6cf6"
      },
      "execution_count": null,
      "outputs": [
        {
          "output_type": "stream",
          "name": "stdout",
          "text": [
            "[1] \"a\"\n",
            "[1] \"b\"\n",
            "[1] \"c\"\n",
            "[1] \"d\"\n",
            "[1] \"e\"\n"
          ]
        }
      ]
    },
    {
      "cell_type": "code",
      "source": [
        "for(i in 2:9){                            # i는 2부터 9까지 반복\n",
        "    for (j in 1:9){                       # j는 1부터 9까지 반복\n",
        "        cat(i, \"*\", j, \"=\", i*j, \" \")     # 2*1=2 형태로 반복해서 출력\n",
        "    }\n",
        "    cat(\"\\n\")                             # 줄바꿈\n",
        "}"
      ],
      "metadata": {
        "colab": {
          "base_uri": "https://localhost:8080/"
        },
        "id": "MeGGWU5s6y16",
        "outputId": "3976c1d4-23f7-49d1-a344-1c4a3cf9c411"
      },
      "execution_count": null,
      "outputs": [
        {
          "output_type": "stream",
          "name": "stdout",
          "text": [
            "2 * 1 = 2  2 * 2 = 4  2 * 3 = 6  2 * 4 = 8  2 * 5 = 10  2 * 6 = 12  2 * 7 = 14  2 * 8 = 16  2 * 9 = 18  \n",
            "3 * 1 = 3  3 * 2 = 6  3 * 3 = 9  3 * 4 = 12  3 * 5 = 15  3 * 6 = 18  3 * 7 = 21  3 * 8 = 24  3 * 9 = 27  \n",
            "4 * 1 = 4  4 * 2 = 8  4 * 3 = 12  4 * 4 = 16  4 * 5 = 20  4 * 6 = 24  4 * 7 = 28  4 * 8 = 32  4 * 9 = 36  \n",
            "5 * 1 = 5  5 * 2 = 10  5 * 3 = 15  5 * 4 = 20  5 * 5 = 25  5 * 6 = 30  5 * 7 = 35  5 * 8 = 40  5 * 9 = 45  \n",
            "6 * 1 = 6  6 * 2 = 12  6 * 3 = 18  6 * 4 = 24  6 * 5 = 30  6 * 6 = 36  6 * 7 = 42  6 * 8 = 48  6 * 9 = 54  \n",
            "7 * 1 = 7  7 * 2 = 14  7 * 3 = 21  7 * 4 = 28  7 * 5 = 35  7 * 6 = 42  7 * 7 = 49  7 * 8 = 56  7 * 9 = 63  \n",
            "8 * 1 = 8  8 * 2 = 16  8 * 3 = 24  8 * 4 = 32  8 * 5 = 40  8 * 6 = 48  8 * 7 = 56  8 * 8 = 64  8 * 9 = 72  \n",
            "9 * 1 = 9  9 * 2 = 18  9 * 3 = 27  9 * 4 = 36  9 * 5 = 45  9 * 6 = 54  9 * 7 = 63  9 * 8 = 72  9 * 9 = 81  \n"
          ]
        }
      ]
    },
    {
      "cell_type": "code",
      "source": [
        "i <- 1\n",
        "while (i <= 4) {\n",
        "    print(i)\n",
        "    i = i+1\n",
        "}"
      ],
      "metadata": {
        "colab": {
          "base_uri": "https://localhost:8080/"
        },
        "id": "0Nk9ioPx7GNp",
        "outputId": "90f21aad-8cb1-41db-fbb5-90108ce06163"
      },
      "execution_count": null,
      "outputs": [
        {
          "output_type": "stream",
          "name": "stdout",
          "text": [
            "[1] 1\n",
            "[1] 2\n",
            "[1] 3\n",
            "[1] 4\n"
          ]
        }
      ]
    },
    {
      "cell_type": "code",
      "source": [
        "sum <- 0\n",
        "i <- 1\n",
        "\n",
        "while (i <= 10) {\n",
        "    sum = sum + i\n",
        "    i = i+1\n",
        "}\n",
        "print(sum)"
      ],
      "metadata": {
        "colab": {
          "base_uri": "https://localhost:8080/"
        },
        "id": "inTtBXgr7KvE",
        "outputId": "26cdb071-bfa9-431e-c331-f7e8f79e8d5f"
      },
      "execution_count": null,
      "outputs": [
        {
          "output_type": "stream",
          "name": "stdout",
          "text": [
            "[1] 55\n"
          ]
        }
      ]
    },
    {
      "cell_type": "code",
      "source": [
        "x <- c(70, 60, 55, 95, 80, 70, 85, 47, 83, 78)\n",
        "sum = 0\n",
        "avg = 0\n",
        "\n",
        "for (i in 1:10) {\n",
        "    sum = sum + x[i]\n",
        "    i = i+1\n",
        "}\n",
        "avg = sum/10\n",
        "cat(\"평균은 \", avg, \"입니다.\")"
      ],
      "metadata": {
        "colab": {
          "base_uri": "https://localhost:8080/"
        },
        "id": "JORJfpvU7Ofb",
        "outputId": "3fcb05d9-c970-456a-9c42-35fb8eea8e46"
      },
      "execution_count": null,
      "outputs": [
        {
          "output_type": "stream",
          "name": "stdout",
          "text": [
            "평균은  72.3 입니다."
          ]
        }
      ]
    },
    {
      "cell_type": "code",
      "source": [
        "x <- c(70, 60, 55, 95, 80, 70, 85, 47, 83, 78)\n",
        "sum = 0\n",
        "avg = 0\n",
        "\n",
        "i <- 1\n",
        "while (i <= 10) {\n",
        "    sum = sum + x[i]\n",
        "    i = i+1\n",
        "}\n",
        "avg = sum/10\n",
        "cat(\"평균은 \", avg, \"입니다.\")"
      ],
      "metadata": {
        "colab": {
          "base_uri": "https://localhost:8080/"
        },
        "id": "gFtUjpww7VxW",
        "outputId": "1337e4bb-58b2-4751-c1b0-b651583a5978"
      },
      "execution_count": null,
      "outputs": [
        {
          "output_type": "stream",
          "name": "stdout",
          "text": [
            "평균은  72.3 입니다."
          ]
        }
      ]
    },
    {
      "cell_type": "markdown",
      "source": [
        ">>>**06 함수와 라이브러리(모듈, 패키지)**"
      ],
      "metadata": {
        "id": "m1y39Pel7eh5"
      }
    },
    {
      "cell_type": "code",
      "source": [
        "sum <- function(x, y){      # sum은 함수이름, x,y는 매개변수\n",
        "    return(x+y)             # 함수가 호출되면 x,y 2개의 값을 더한 결과를 반환\n",
        "}"
      ],
      "metadata": {
        "id": "uy1kQW3x7id0"
      },
      "execution_count": null,
      "outputs": []
    },
    {
      "cell_type": "code",
      "source": [
        "f1 <- function(x){\n",
        "    if(x %/% 2 == 0) {      # 2로 나눈 나머지가 0이면(짝수이면)\n",
        "        return(\"짝수\")      # \"짝수\"를 반환\n",
        "    }else{\n",
        "        return(\"홀수\")      # \"홀수\"를 반환\n",
        "    }\n",
        "}\n",
        "\n",
        "f1(12)                      # 12를 인수로 함수 f1 호출"
      ],
      "metadata": {
        "colab": {
          "base_uri": "https://localhost:8080/",
          "height": 34
        },
        "id": "TzRucXxn7noe",
        "outputId": "6f65ca6d-2230-44b3-c311-4dfa7766d3e2"
      },
      "execution_count": null,
      "outputs": [
        {
          "output_type": "display_data",
          "data": {
            "text/html": [
              "'홀수'"
            ],
            "text/markdown": "'홀수'",
            "text/latex": "'홀수'",
            "text/plain": [
              "[1] \"홀수\""
            ]
          },
          "metadata": {}
        }
      ]
    },
    {
      "cell_type": "code",
      "source": [
        "f2 <- function(x, y){\n",
        "    return(x*y)\n",
        "}\n",
        "\n",
        "f2(2,8)                     # 2, 8을 인수로 함수 f2 호출"
      ],
      "metadata": {
        "colab": {
          "base_uri": "https://localhost:8080/",
          "height": 34
        },
        "id": "Fglwn-E073ku",
        "outputId": "1ddf6a99-d5f3-4293-efd8-dddc56ac44ed"
      },
      "execution_count": null,
      "outputs": [
        {
          "output_type": "display_data",
          "data": {
            "text/html": [
              "16"
            ],
            "text/markdown": "16",
            "text/latex": "16",
            "text/plain": [
              "[1] 16"
            ]
          },
          "metadata": {}
        }
      ]
    }
  ]
}