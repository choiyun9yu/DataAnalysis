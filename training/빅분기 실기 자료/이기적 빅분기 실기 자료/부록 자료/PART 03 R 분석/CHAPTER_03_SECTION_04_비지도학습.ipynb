{
  "nbformat": 4,
  "nbformat_minor": 0,
  "metadata": {
    "colab": {
      "name": "CHAPTER 03-SECTION 04 비지도학습.ipynb",
      "provenance": []
    },
    "kernelspec": {
      "name": "ir",
      "display_name": "R"
    },
    "language_info": {
      "name": "R"
    }
  },
  "cells": [
    {
      "cell_type": "markdown",
      "source": [
        "PART 03 R 분석\n",
        "\n",
        "> CHAPTER 03 제2유형: 데이터 분석\n",
        "> >SECTION 04 비지도학습\n",
        "> > >**01 군집분석을 이용한 문제 해결**"
      ],
      "metadata": {
        "id": "e4bt296ja3jX"
      }
    },
    {
      "cell_type": "code",
      "execution_count": 1,
      "metadata": {
        "colab": {
          "base_uri": "https://localhost:8080/"
        },
        "id": "z_zjPMX7awVU",
        "outputId": "0437e844-f944-4681-85a7-8b62d5b327bb"
      },
      "outputs": [
        {
          "output_type": "stream",
          "name": "stderr",
          "text": [
            "\n",
            "Attaching package: ‘dplyr’\n",
            "\n",
            "\n",
            "The following objects are masked from ‘package:stats’:\n",
            "\n",
            "    filter, lag\n",
            "\n",
            "\n",
            "The following objects are masked from ‘package:base’:\n",
            "\n",
            "    intersect, setdiff, setequal, union\n",
            "\n",
            "\n"
          ]
        }
      ],
      "source": [
        "library(dplyr)        # dplyr 패키지 임포트\n",
        "library(ggplot2)      # ggplot2 패키지 임포트"
      ]
    },
    {
      "cell_type": "code",
      "source": [
        "# R에서 제공하는 iris 데이터셋을 불러온다.\n",
        "df <- iris\n",
        "df"
      ],
      "metadata": {
        "colab": {
          "base_uri": "https://localhost:8080/",
          "height": 1000
        },
        "id": "NjnH7nFsbC4s",
        "outputId": "7be7e1cd-9763-49bc-9b24-643a4614e97d"
      },
      "execution_count": 3,
      "outputs": [
        {
          "output_type": "display_data",
          "data": {
            "text/html": [
              "<table class=\"dataframe\">\n",
              "<caption>A data.frame: 150 × 5</caption>\n",
              "<thead>\n",
              "\t<tr><th scope=col>Sepal.Length</th><th scope=col>Sepal.Width</th><th scope=col>Petal.Length</th><th scope=col>Petal.Width</th><th scope=col>Species</th></tr>\n",
              "\t<tr><th scope=col>&lt;dbl&gt;</th><th scope=col>&lt;dbl&gt;</th><th scope=col>&lt;dbl&gt;</th><th scope=col>&lt;dbl&gt;</th><th scope=col>&lt;fct&gt;</th></tr>\n",
              "</thead>\n",
              "<tbody>\n",
              "\t<tr><td>5.1</td><td>3.5</td><td>1.4</td><td>0.2</td><td>setosa</td></tr>\n",
              "\t<tr><td>4.9</td><td>3.0</td><td>1.4</td><td>0.2</td><td>setosa</td></tr>\n",
              "\t<tr><td>4.7</td><td>3.2</td><td>1.3</td><td>0.2</td><td>setosa</td></tr>\n",
              "\t<tr><td>4.6</td><td>3.1</td><td>1.5</td><td>0.2</td><td>setosa</td></tr>\n",
              "\t<tr><td>5.0</td><td>3.6</td><td>1.4</td><td>0.2</td><td>setosa</td></tr>\n",
              "\t<tr><td>5.4</td><td>3.9</td><td>1.7</td><td>0.4</td><td>setosa</td></tr>\n",
              "\t<tr><td>4.6</td><td>3.4</td><td>1.4</td><td>0.3</td><td>setosa</td></tr>\n",
              "\t<tr><td>5.0</td><td>3.4</td><td>1.5</td><td>0.2</td><td>setosa</td></tr>\n",
              "\t<tr><td>4.4</td><td>2.9</td><td>1.4</td><td>0.2</td><td>setosa</td></tr>\n",
              "\t<tr><td>4.9</td><td>3.1</td><td>1.5</td><td>0.1</td><td>setosa</td></tr>\n",
              "\t<tr><td>5.4</td><td>3.7</td><td>1.5</td><td>0.2</td><td>setosa</td></tr>\n",
              "\t<tr><td>4.8</td><td>3.4</td><td>1.6</td><td>0.2</td><td>setosa</td></tr>\n",
              "\t<tr><td>4.8</td><td>3.0</td><td>1.4</td><td>0.1</td><td>setosa</td></tr>\n",
              "\t<tr><td>4.3</td><td>3.0</td><td>1.1</td><td>0.1</td><td>setosa</td></tr>\n",
              "\t<tr><td>5.8</td><td>4.0</td><td>1.2</td><td>0.2</td><td>setosa</td></tr>\n",
              "\t<tr><td>5.7</td><td>4.4</td><td>1.5</td><td>0.4</td><td>setosa</td></tr>\n",
              "\t<tr><td>5.4</td><td>3.9</td><td>1.3</td><td>0.4</td><td>setosa</td></tr>\n",
              "\t<tr><td>5.1</td><td>3.5</td><td>1.4</td><td>0.3</td><td>setosa</td></tr>\n",
              "\t<tr><td>5.7</td><td>3.8</td><td>1.7</td><td>0.3</td><td>setosa</td></tr>\n",
              "\t<tr><td>5.1</td><td>3.8</td><td>1.5</td><td>0.3</td><td>setosa</td></tr>\n",
              "\t<tr><td>5.4</td><td>3.4</td><td>1.7</td><td>0.2</td><td>setosa</td></tr>\n",
              "\t<tr><td>5.1</td><td>3.7</td><td>1.5</td><td>0.4</td><td>setosa</td></tr>\n",
              "\t<tr><td>4.6</td><td>3.6</td><td>1.0</td><td>0.2</td><td>setosa</td></tr>\n",
              "\t<tr><td>5.1</td><td>3.3</td><td>1.7</td><td>0.5</td><td>setosa</td></tr>\n",
              "\t<tr><td>4.8</td><td>3.4</td><td>1.9</td><td>0.2</td><td>setosa</td></tr>\n",
              "\t<tr><td>5.0</td><td>3.0</td><td>1.6</td><td>0.2</td><td>setosa</td></tr>\n",
              "\t<tr><td>5.0</td><td>3.4</td><td>1.6</td><td>0.4</td><td>setosa</td></tr>\n",
              "\t<tr><td>5.2</td><td>3.5</td><td>1.5</td><td>0.2</td><td>setosa</td></tr>\n",
              "\t<tr><td>5.2</td><td>3.4</td><td>1.4</td><td>0.2</td><td>setosa</td></tr>\n",
              "\t<tr><td>4.7</td><td>3.2</td><td>1.6</td><td>0.2</td><td>setosa</td></tr>\n",
              "\t<tr><td>⋮</td><td>⋮</td><td>⋮</td><td>⋮</td><td>⋮</td></tr>\n",
              "\t<tr><td>6.9</td><td>3.2</td><td>5.7</td><td>2.3</td><td>virginica</td></tr>\n",
              "\t<tr><td>5.6</td><td>2.8</td><td>4.9</td><td>2.0</td><td>virginica</td></tr>\n",
              "\t<tr><td>7.7</td><td>2.8</td><td>6.7</td><td>2.0</td><td>virginica</td></tr>\n",
              "\t<tr><td>6.3</td><td>2.7</td><td>4.9</td><td>1.8</td><td>virginica</td></tr>\n",
              "\t<tr><td>6.7</td><td>3.3</td><td>5.7</td><td>2.1</td><td>virginica</td></tr>\n",
              "\t<tr><td>7.2</td><td>3.2</td><td>6.0</td><td>1.8</td><td>virginica</td></tr>\n",
              "\t<tr><td>6.2</td><td>2.8</td><td>4.8</td><td>1.8</td><td>virginica</td></tr>\n",
              "\t<tr><td>6.1</td><td>3.0</td><td>4.9</td><td>1.8</td><td>virginica</td></tr>\n",
              "\t<tr><td>6.4</td><td>2.8</td><td>5.6</td><td>2.1</td><td>virginica</td></tr>\n",
              "\t<tr><td>7.2</td><td>3.0</td><td>5.8</td><td>1.6</td><td>virginica</td></tr>\n",
              "\t<tr><td>7.4</td><td>2.8</td><td>6.1</td><td>1.9</td><td>virginica</td></tr>\n",
              "\t<tr><td>7.9</td><td>3.8</td><td>6.4</td><td>2.0</td><td>virginica</td></tr>\n",
              "\t<tr><td>6.4</td><td>2.8</td><td>5.6</td><td>2.2</td><td>virginica</td></tr>\n",
              "\t<tr><td>6.3</td><td>2.8</td><td>5.1</td><td>1.5</td><td>virginica</td></tr>\n",
              "\t<tr><td>6.1</td><td>2.6</td><td>5.6</td><td>1.4</td><td>virginica</td></tr>\n",
              "\t<tr><td>7.7</td><td>3.0</td><td>6.1</td><td>2.3</td><td>virginica</td></tr>\n",
              "\t<tr><td>6.3</td><td>3.4</td><td>5.6</td><td>2.4</td><td>virginica</td></tr>\n",
              "\t<tr><td>6.4</td><td>3.1</td><td>5.5</td><td>1.8</td><td>virginica</td></tr>\n",
              "\t<tr><td>6.0</td><td>3.0</td><td>4.8</td><td>1.8</td><td>virginica</td></tr>\n",
              "\t<tr><td>6.9</td><td>3.1</td><td>5.4</td><td>2.1</td><td>virginica</td></tr>\n",
              "\t<tr><td>6.7</td><td>3.1</td><td>5.6</td><td>2.4</td><td>virginica</td></tr>\n",
              "\t<tr><td>6.9</td><td>3.1</td><td>5.1</td><td>2.3</td><td>virginica</td></tr>\n",
              "\t<tr><td>5.8</td><td>2.7</td><td>5.1</td><td>1.9</td><td>virginica</td></tr>\n",
              "\t<tr><td>6.8</td><td>3.2</td><td>5.9</td><td>2.3</td><td>virginica</td></tr>\n",
              "\t<tr><td>6.7</td><td>3.3</td><td>5.7</td><td>2.5</td><td>virginica</td></tr>\n",
              "\t<tr><td>6.7</td><td>3.0</td><td>5.2</td><td>2.3</td><td>virginica</td></tr>\n",
              "\t<tr><td>6.3</td><td>2.5</td><td>5.0</td><td>1.9</td><td>virginica</td></tr>\n",
              "\t<tr><td>6.5</td><td>3.0</td><td>5.2</td><td>2.0</td><td>virginica</td></tr>\n",
              "\t<tr><td>6.2</td><td>3.4</td><td>5.4</td><td>2.3</td><td>virginica</td></tr>\n",
              "\t<tr><td>5.9</td><td>3.0</td><td>5.1</td><td>1.8</td><td>virginica</td></tr>\n",
              "</tbody>\n",
              "</table>\n"
            ],
            "text/markdown": "\nA data.frame: 150 × 5\n\n| Sepal.Length &lt;dbl&gt; | Sepal.Width &lt;dbl&gt; | Petal.Length &lt;dbl&gt; | Petal.Width &lt;dbl&gt; | Species &lt;fct&gt; |\n|---|---|---|---|---|\n| 5.1 | 3.5 | 1.4 | 0.2 | setosa |\n| 4.9 | 3.0 | 1.4 | 0.2 | setosa |\n| 4.7 | 3.2 | 1.3 | 0.2 | setosa |\n| 4.6 | 3.1 | 1.5 | 0.2 | setosa |\n| 5.0 | 3.6 | 1.4 | 0.2 | setosa |\n| 5.4 | 3.9 | 1.7 | 0.4 | setosa |\n| 4.6 | 3.4 | 1.4 | 0.3 | setosa |\n| 5.0 | 3.4 | 1.5 | 0.2 | setosa |\n| 4.4 | 2.9 | 1.4 | 0.2 | setosa |\n| 4.9 | 3.1 | 1.5 | 0.1 | setosa |\n| 5.4 | 3.7 | 1.5 | 0.2 | setosa |\n| 4.8 | 3.4 | 1.6 | 0.2 | setosa |\n| 4.8 | 3.0 | 1.4 | 0.1 | setosa |\n| 4.3 | 3.0 | 1.1 | 0.1 | setosa |\n| 5.8 | 4.0 | 1.2 | 0.2 | setosa |\n| 5.7 | 4.4 | 1.5 | 0.4 | setosa |\n| 5.4 | 3.9 | 1.3 | 0.4 | setosa |\n| 5.1 | 3.5 | 1.4 | 0.3 | setosa |\n| 5.7 | 3.8 | 1.7 | 0.3 | setosa |\n| 5.1 | 3.8 | 1.5 | 0.3 | setosa |\n| 5.4 | 3.4 | 1.7 | 0.2 | setosa |\n| 5.1 | 3.7 | 1.5 | 0.4 | setosa |\n| 4.6 | 3.6 | 1.0 | 0.2 | setosa |\n| 5.1 | 3.3 | 1.7 | 0.5 | setosa |\n| 4.8 | 3.4 | 1.9 | 0.2 | setosa |\n| 5.0 | 3.0 | 1.6 | 0.2 | setosa |\n| 5.0 | 3.4 | 1.6 | 0.4 | setosa |\n| 5.2 | 3.5 | 1.5 | 0.2 | setosa |\n| 5.2 | 3.4 | 1.4 | 0.2 | setosa |\n| 4.7 | 3.2 | 1.6 | 0.2 | setosa |\n| ⋮ | ⋮ | ⋮ | ⋮ | ⋮ |\n| 6.9 | 3.2 | 5.7 | 2.3 | virginica |\n| 5.6 | 2.8 | 4.9 | 2.0 | virginica |\n| 7.7 | 2.8 | 6.7 | 2.0 | virginica |\n| 6.3 | 2.7 | 4.9 | 1.8 | virginica |\n| 6.7 | 3.3 | 5.7 | 2.1 | virginica |\n| 7.2 | 3.2 | 6.0 | 1.8 | virginica |\n| 6.2 | 2.8 | 4.8 | 1.8 | virginica |\n| 6.1 | 3.0 | 4.9 | 1.8 | virginica |\n| 6.4 | 2.8 | 5.6 | 2.1 | virginica |\n| 7.2 | 3.0 | 5.8 | 1.6 | virginica |\n| 7.4 | 2.8 | 6.1 | 1.9 | virginica |\n| 7.9 | 3.8 | 6.4 | 2.0 | virginica |\n| 6.4 | 2.8 | 5.6 | 2.2 | virginica |\n| 6.3 | 2.8 | 5.1 | 1.5 | virginica |\n| 6.1 | 2.6 | 5.6 | 1.4 | virginica |\n| 7.7 | 3.0 | 6.1 | 2.3 | virginica |\n| 6.3 | 3.4 | 5.6 | 2.4 | virginica |\n| 6.4 | 3.1 | 5.5 | 1.8 | virginica |\n| 6.0 | 3.0 | 4.8 | 1.8 | virginica |\n| 6.9 | 3.1 | 5.4 | 2.1 | virginica |\n| 6.7 | 3.1 | 5.6 | 2.4 | virginica |\n| 6.9 | 3.1 | 5.1 | 2.3 | virginica |\n| 5.8 | 2.7 | 5.1 | 1.9 | virginica |\n| 6.8 | 3.2 | 5.9 | 2.3 | virginica |\n| 6.7 | 3.3 | 5.7 | 2.5 | virginica |\n| 6.7 | 3.0 | 5.2 | 2.3 | virginica |\n| 6.3 | 2.5 | 5.0 | 1.9 | virginica |\n| 6.5 | 3.0 | 5.2 | 2.0 | virginica |\n| 6.2 | 3.4 | 5.4 | 2.3 | virginica |\n| 5.9 | 3.0 | 5.1 | 1.8 | virginica |\n\n",
            "text/latex": "A data.frame: 150 × 5\n\\begin{tabular}{lllll}\n Sepal.Length & Sepal.Width & Petal.Length & Petal.Width & Species\\\\\n <dbl> & <dbl> & <dbl> & <dbl> & <fct>\\\\\n\\hline\n\t 5.1 & 3.5 & 1.4 & 0.2 & setosa\\\\\n\t 4.9 & 3.0 & 1.4 & 0.2 & setosa\\\\\n\t 4.7 & 3.2 & 1.3 & 0.2 & setosa\\\\\n\t 4.6 & 3.1 & 1.5 & 0.2 & setosa\\\\\n\t 5.0 & 3.6 & 1.4 & 0.2 & setosa\\\\\n\t 5.4 & 3.9 & 1.7 & 0.4 & setosa\\\\\n\t 4.6 & 3.4 & 1.4 & 0.3 & setosa\\\\\n\t 5.0 & 3.4 & 1.5 & 0.2 & setosa\\\\\n\t 4.4 & 2.9 & 1.4 & 0.2 & setosa\\\\\n\t 4.9 & 3.1 & 1.5 & 0.1 & setosa\\\\\n\t 5.4 & 3.7 & 1.5 & 0.2 & setosa\\\\\n\t 4.8 & 3.4 & 1.6 & 0.2 & setosa\\\\\n\t 4.8 & 3.0 & 1.4 & 0.1 & setosa\\\\\n\t 4.3 & 3.0 & 1.1 & 0.1 & setosa\\\\\n\t 5.8 & 4.0 & 1.2 & 0.2 & setosa\\\\\n\t 5.7 & 4.4 & 1.5 & 0.4 & setosa\\\\\n\t 5.4 & 3.9 & 1.3 & 0.4 & setosa\\\\\n\t 5.1 & 3.5 & 1.4 & 0.3 & setosa\\\\\n\t 5.7 & 3.8 & 1.7 & 0.3 & setosa\\\\\n\t 5.1 & 3.8 & 1.5 & 0.3 & setosa\\\\\n\t 5.4 & 3.4 & 1.7 & 0.2 & setosa\\\\\n\t 5.1 & 3.7 & 1.5 & 0.4 & setosa\\\\\n\t 4.6 & 3.6 & 1.0 & 0.2 & setosa\\\\\n\t 5.1 & 3.3 & 1.7 & 0.5 & setosa\\\\\n\t 4.8 & 3.4 & 1.9 & 0.2 & setosa\\\\\n\t 5.0 & 3.0 & 1.6 & 0.2 & setosa\\\\\n\t 5.0 & 3.4 & 1.6 & 0.4 & setosa\\\\\n\t 5.2 & 3.5 & 1.5 & 0.2 & setosa\\\\\n\t 5.2 & 3.4 & 1.4 & 0.2 & setosa\\\\\n\t 4.7 & 3.2 & 1.6 & 0.2 & setosa\\\\\n\t ⋮ & ⋮ & ⋮ & ⋮ & ⋮\\\\\n\t 6.9 & 3.2 & 5.7 & 2.3 & virginica\\\\\n\t 5.6 & 2.8 & 4.9 & 2.0 & virginica\\\\\n\t 7.7 & 2.8 & 6.7 & 2.0 & virginica\\\\\n\t 6.3 & 2.7 & 4.9 & 1.8 & virginica\\\\\n\t 6.7 & 3.3 & 5.7 & 2.1 & virginica\\\\\n\t 7.2 & 3.2 & 6.0 & 1.8 & virginica\\\\\n\t 6.2 & 2.8 & 4.8 & 1.8 & virginica\\\\\n\t 6.1 & 3.0 & 4.9 & 1.8 & virginica\\\\\n\t 6.4 & 2.8 & 5.6 & 2.1 & virginica\\\\\n\t 7.2 & 3.0 & 5.8 & 1.6 & virginica\\\\\n\t 7.4 & 2.8 & 6.1 & 1.9 & virginica\\\\\n\t 7.9 & 3.8 & 6.4 & 2.0 & virginica\\\\\n\t 6.4 & 2.8 & 5.6 & 2.2 & virginica\\\\\n\t 6.3 & 2.8 & 5.1 & 1.5 & virginica\\\\\n\t 6.1 & 2.6 & 5.6 & 1.4 & virginica\\\\\n\t 7.7 & 3.0 & 6.1 & 2.3 & virginica\\\\\n\t 6.3 & 3.4 & 5.6 & 2.4 & virginica\\\\\n\t 6.4 & 3.1 & 5.5 & 1.8 & virginica\\\\\n\t 6.0 & 3.0 & 4.8 & 1.8 & virginica\\\\\n\t 6.9 & 3.1 & 5.4 & 2.1 & virginica\\\\\n\t 6.7 & 3.1 & 5.6 & 2.4 & virginica\\\\\n\t 6.9 & 3.1 & 5.1 & 2.3 & virginica\\\\\n\t 5.8 & 2.7 & 5.1 & 1.9 & virginica\\\\\n\t 6.8 & 3.2 & 5.9 & 2.3 & virginica\\\\\n\t 6.7 & 3.3 & 5.7 & 2.5 & virginica\\\\\n\t 6.7 & 3.0 & 5.2 & 2.3 & virginica\\\\\n\t 6.3 & 2.5 & 5.0 & 1.9 & virginica\\\\\n\t 6.5 & 3.0 & 5.2 & 2.0 & virginica\\\\\n\t 6.2 & 3.4 & 5.4 & 2.3 & virginica\\\\\n\t 5.9 & 3.0 & 5.1 & 1.8 & virginica\\\\\n\\end{tabular}\n",
            "text/plain": [
              "    Sepal.Length Sepal.Width Petal.Length Petal.Width Species  \n",
              "1   5.1          3.5         1.4          0.2         setosa   \n",
              "2   4.9          3.0         1.4          0.2         setosa   \n",
              "3   4.7          3.2         1.3          0.2         setosa   \n",
              "4   4.6          3.1         1.5          0.2         setosa   \n",
              "5   5.0          3.6         1.4          0.2         setosa   \n",
              "6   5.4          3.9         1.7          0.4         setosa   \n",
              "7   4.6          3.4         1.4          0.3         setosa   \n",
              "8   5.0          3.4         1.5          0.2         setosa   \n",
              "9   4.4          2.9         1.4          0.2         setosa   \n",
              "10  4.9          3.1         1.5          0.1         setosa   \n",
              "11  5.4          3.7         1.5          0.2         setosa   \n",
              "12  4.8          3.4         1.6          0.2         setosa   \n",
              "13  4.8          3.0         1.4          0.1         setosa   \n",
              "14  4.3          3.0         1.1          0.1         setosa   \n",
              "15  5.8          4.0         1.2          0.2         setosa   \n",
              "16  5.7          4.4         1.5          0.4         setosa   \n",
              "17  5.4          3.9         1.3          0.4         setosa   \n",
              "18  5.1          3.5         1.4          0.3         setosa   \n",
              "19  5.7          3.8         1.7          0.3         setosa   \n",
              "20  5.1          3.8         1.5          0.3         setosa   \n",
              "21  5.4          3.4         1.7          0.2         setosa   \n",
              "22  5.1          3.7         1.5          0.4         setosa   \n",
              "23  4.6          3.6         1.0          0.2         setosa   \n",
              "24  5.1          3.3         1.7          0.5         setosa   \n",
              "25  4.8          3.4         1.9          0.2         setosa   \n",
              "26  5.0          3.0         1.6          0.2         setosa   \n",
              "27  5.0          3.4         1.6          0.4         setosa   \n",
              "28  5.2          3.5         1.5          0.2         setosa   \n",
              "29  5.2          3.4         1.4          0.2         setosa   \n",
              "30  4.7          3.2         1.6          0.2         setosa   \n",
              "⋮   ⋮            ⋮           ⋮            ⋮           ⋮        \n",
              "121 6.9          3.2         5.7          2.3         virginica\n",
              "122 5.6          2.8         4.9          2.0         virginica\n",
              "123 7.7          2.8         6.7          2.0         virginica\n",
              "124 6.3          2.7         4.9          1.8         virginica\n",
              "125 6.7          3.3         5.7          2.1         virginica\n",
              "126 7.2          3.2         6.0          1.8         virginica\n",
              "127 6.2          2.8         4.8          1.8         virginica\n",
              "128 6.1          3.0         4.9          1.8         virginica\n",
              "129 6.4          2.8         5.6          2.1         virginica\n",
              "130 7.2          3.0         5.8          1.6         virginica\n",
              "131 7.4          2.8         6.1          1.9         virginica\n",
              "132 7.9          3.8         6.4          2.0         virginica\n",
              "133 6.4          2.8         5.6          2.2         virginica\n",
              "134 6.3          2.8         5.1          1.5         virginica\n",
              "135 6.1          2.6         5.6          1.4         virginica\n",
              "136 7.7          3.0         6.1          2.3         virginica\n",
              "137 6.3          3.4         5.6          2.4         virginica\n",
              "138 6.4          3.1         5.5          1.8         virginica\n",
              "139 6.0          3.0         4.8          1.8         virginica\n",
              "140 6.9          3.1         5.4          2.1         virginica\n",
              "141 6.7          3.1         5.6          2.4         virginica\n",
              "142 6.9          3.1         5.1          2.3         virginica\n",
              "143 5.8          2.7         5.1          1.9         virginica\n",
              "144 6.8          3.2         5.9          2.3         virginica\n",
              "145 6.7          3.3         5.7          2.5         virginica\n",
              "146 6.7          3.0         5.2          2.3         virginica\n",
              "147 6.3          2.5         5.0          1.9         virginica\n",
              "148 6.5          3.0         5.2          2.0         virginica\n",
              "149 6.2          3.4         5.4          2.3         virginica\n",
              "150 5.9          3.0         5.1          1.8         virginica"
            ]
          },
          "metadata": {}
        }
      ]
    },
    {
      "cell_type": "code",
      "source": [
        "str(df)      # 데이터프레임 구조"
      ],
      "metadata": {
        "colab": {
          "base_uri": "https://localhost:8080/"
        },
        "id": "O2DoADTObI5N",
        "outputId": "4f49adec-2093-40d2-f66c-2ea07b89cd62"
      },
      "execution_count": 4,
      "outputs": [
        {
          "output_type": "stream",
          "name": "stdout",
          "text": [
            "'data.frame':\t150 obs. of  5 variables:\n",
            " $ Sepal.Length: num  5.1 4.9 4.7 4.6 5 5.4 4.6 5 4.4 4.9 ...\n",
            " $ Sepal.Width : num  3.5 3 3.2 3.1 3.6 3.9 3.4 3.4 2.9 3.1 ...\n",
            " $ Petal.Length: num  1.4 1.4 1.3 1.5 1.4 1.7 1.4 1.5 1.4 1.5 ...\n",
            " $ Petal.Width : num  0.2 0.2 0.2 0.2 0.2 0.4 0.3 0.2 0.2 0.1 ...\n",
            " $ Species     : Factor w/ 3 levels \"setosa\",\"versicolor\",..: 1 1 1 1 1 1 1 1 1 1 ...\n"
          ]
        }
      ]
    },
    {
      "cell_type": "code",
      "source": [
        "sum(is.na(df))     # 결측치 개수를 출력"
      ],
      "metadata": {
        "colab": {
          "base_uri": "https://localhost:8080/",
          "height": 34
        },
        "id": "jnOtx5MibMZX",
        "outputId": "c4e97875-4b5c-4c81-9ae1-dbd507c4f23d"
      },
      "execution_count": 5,
      "outputs": [
        {
          "output_type": "display_data",
          "data": {
            "text/html": [
              "0"
            ],
            "text/markdown": "0",
            "text/latex": "0",
            "text/plain": [
              "[1] 0"
            ]
          },
          "metadata": {}
        }
      ]
    },
    {
      "cell_type": "code",
      "source": [
        "# Species 컬럼은 레이블 인코딩을 수행\n",
        "# 'setosa':1, 'versicolor':2, 'virginica':3\n",
        "df$Species <- as.numeric(factor(df$Species), level=c(\"setosa\",\"versicolor\",\"virginica\"))\n",
        "df"
      ],
      "metadata": {
        "colab": {
          "base_uri": "https://localhost:8080/",
          "height": 1000
        },
        "id": "sLtAttOdbO6R",
        "outputId": "ffc11777-eb46-4fd3-f19a-2886e6251767"
      },
      "execution_count": 6,
      "outputs": [
        {
          "output_type": "display_data",
          "data": {
            "text/html": [
              "<table class=\"dataframe\">\n",
              "<caption>A data.frame: 150 × 5</caption>\n",
              "<thead>\n",
              "\t<tr><th scope=col>Sepal.Length</th><th scope=col>Sepal.Width</th><th scope=col>Petal.Length</th><th scope=col>Petal.Width</th><th scope=col>Species</th></tr>\n",
              "\t<tr><th scope=col>&lt;dbl&gt;</th><th scope=col>&lt;dbl&gt;</th><th scope=col>&lt;dbl&gt;</th><th scope=col>&lt;dbl&gt;</th><th scope=col>&lt;dbl&gt;</th></tr>\n",
              "</thead>\n",
              "<tbody>\n",
              "\t<tr><td>5.1</td><td>3.5</td><td>1.4</td><td>0.2</td><td>1</td></tr>\n",
              "\t<tr><td>4.9</td><td>3.0</td><td>1.4</td><td>0.2</td><td>1</td></tr>\n",
              "\t<tr><td>4.7</td><td>3.2</td><td>1.3</td><td>0.2</td><td>1</td></tr>\n",
              "\t<tr><td>4.6</td><td>3.1</td><td>1.5</td><td>0.2</td><td>1</td></tr>\n",
              "\t<tr><td>5.0</td><td>3.6</td><td>1.4</td><td>0.2</td><td>1</td></tr>\n",
              "\t<tr><td>5.4</td><td>3.9</td><td>1.7</td><td>0.4</td><td>1</td></tr>\n",
              "\t<tr><td>4.6</td><td>3.4</td><td>1.4</td><td>0.3</td><td>1</td></tr>\n",
              "\t<tr><td>5.0</td><td>3.4</td><td>1.5</td><td>0.2</td><td>1</td></tr>\n",
              "\t<tr><td>4.4</td><td>2.9</td><td>1.4</td><td>0.2</td><td>1</td></tr>\n",
              "\t<tr><td>4.9</td><td>3.1</td><td>1.5</td><td>0.1</td><td>1</td></tr>\n",
              "\t<tr><td>5.4</td><td>3.7</td><td>1.5</td><td>0.2</td><td>1</td></tr>\n",
              "\t<tr><td>4.8</td><td>3.4</td><td>1.6</td><td>0.2</td><td>1</td></tr>\n",
              "\t<tr><td>4.8</td><td>3.0</td><td>1.4</td><td>0.1</td><td>1</td></tr>\n",
              "\t<tr><td>4.3</td><td>3.0</td><td>1.1</td><td>0.1</td><td>1</td></tr>\n",
              "\t<tr><td>5.8</td><td>4.0</td><td>1.2</td><td>0.2</td><td>1</td></tr>\n",
              "\t<tr><td>5.7</td><td>4.4</td><td>1.5</td><td>0.4</td><td>1</td></tr>\n",
              "\t<tr><td>5.4</td><td>3.9</td><td>1.3</td><td>0.4</td><td>1</td></tr>\n",
              "\t<tr><td>5.1</td><td>3.5</td><td>1.4</td><td>0.3</td><td>1</td></tr>\n",
              "\t<tr><td>5.7</td><td>3.8</td><td>1.7</td><td>0.3</td><td>1</td></tr>\n",
              "\t<tr><td>5.1</td><td>3.8</td><td>1.5</td><td>0.3</td><td>1</td></tr>\n",
              "\t<tr><td>5.4</td><td>3.4</td><td>1.7</td><td>0.2</td><td>1</td></tr>\n",
              "\t<tr><td>5.1</td><td>3.7</td><td>1.5</td><td>0.4</td><td>1</td></tr>\n",
              "\t<tr><td>4.6</td><td>3.6</td><td>1.0</td><td>0.2</td><td>1</td></tr>\n",
              "\t<tr><td>5.1</td><td>3.3</td><td>1.7</td><td>0.5</td><td>1</td></tr>\n",
              "\t<tr><td>4.8</td><td>3.4</td><td>1.9</td><td>0.2</td><td>1</td></tr>\n",
              "\t<tr><td>5.0</td><td>3.0</td><td>1.6</td><td>0.2</td><td>1</td></tr>\n",
              "\t<tr><td>5.0</td><td>3.4</td><td>1.6</td><td>0.4</td><td>1</td></tr>\n",
              "\t<tr><td>5.2</td><td>3.5</td><td>1.5</td><td>0.2</td><td>1</td></tr>\n",
              "\t<tr><td>5.2</td><td>3.4</td><td>1.4</td><td>0.2</td><td>1</td></tr>\n",
              "\t<tr><td>4.7</td><td>3.2</td><td>1.6</td><td>0.2</td><td>1</td></tr>\n",
              "\t<tr><td>⋮</td><td>⋮</td><td>⋮</td><td>⋮</td><td>⋮</td></tr>\n",
              "\t<tr><td>6.9</td><td>3.2</td><td>5.7</td><td>2.3</td><td>3</td></tr>\n",
              "\t<tr><td>5.6</td><td>2.8</td><td>4.9</td><td>2.0</td><td>3</td></tr>\n",
              "\t<tr><td>7.7</td><td>2.8</td><td>6.7</td><td>2.0</td><td>3</td></tr>\n",
              "\t<tr><td>6.3</td><td>2.7</td><td>4.9</td><td>1.8</td><td>3</td></tr>\n",
              "\t<tr><td>6.7</td><td>3.3</td><td>5.7</td><td>2.1</td><td>3</td></tr>\n",
              "\t<tr><td>7.2</td><td>3.2</td><td>6.0</td><td>1.8</td><td>3</td></tr>\n",
              "\t<tr><td>6.2</td><td>2.8</td><td>4.8</td><td>1.8</td><td>3</td></tr>\n",
              "\t<tr><td>6.1</td><td>3.0</td><td>4.9</td><td>1.8</td><td>3</td></tr>\n",
              "\t<tr><td>6.4</td><td>2.8</td><td>5.6</td><td>2.1</td><td>3</td></tr>\n",
              "\t<tr><td>7.2</td><td>3.0</td><td>5.8</td><td>1.6</td><td>3</td></tr>\n",
              "\t<tr><td>7.4</td><td>2.8</td><td>6.1</td><td>1.9</td><td>3</td></tr>\n",
              "\t<tr><td>7.9</td><td>3.8</td><td>6.4</td><td>2.0</td><td>3</td></tr>\n",
              "\t<tr><td>6.4</td><td>2.8</td><td>5.6</td><td>2.2</td><td>3</td></tr>\n",
              "\t<tr><td>6.3</td><td>2.8</td><td>5.1</td><td>1.5</td><td>3</td></tr>\n",
              "\t<tr><td>6.1</td><td>2.6</td><td>5.6</td><td>1.4</td><td>3</td></tr>\n",
              "\t<tr><td>7.7</td><td>3.0</td><td>6.1</td><td>2.3</td><td>3</td></tr>\n",
              "\t<tr><td>6.3</td><td>3.4</td><td>5.6</td><td>2.4</td><td>3</td></tr>\n",
              "\t<tr><td>6.4</td><td>3.1</td><td>5.5</td><td>1.8</td><td>3</td></tr>\n",
              "\t<tr><td>6.0</td><td>3.0</td><td>4.8</td><td>1.8</td><td>3</td></tr>\n",
              "\t<tr><td>6.9</td><td>3.1</td><td>5.4</td><td>2.1</td><td>3</td></tr>\n",
              "\t<tr><td>6.7</td><td>3.1</td><td>5.6</td><td>2.4</td><td>3</td></tr>\n",
              "\t<tr><td>6.9</td><td>3.1</td><td>5.1</td><td>2.3</td><td>3</td></tr>\n",
              "\t<tr><td>5.8</td><td>2.7</td><td>5.1</td><td>1.9</td><td>3</td></tr>\n",
              "\t<tr><td>6.8</td><td>3.2</td><td>5.9</td><td>2.3</td><td>3</td></tr>\n",
              "\t<tr><td>6.7</td><td>3.3</td><td>5.7</td><td>2.5</td><td>3</td></tr>\n",
              "\t<tr><td>6.7</td><td>3.0</td><td>5.2</td><td>2.3</td><td>3</td></tr>\n",
              "\t<tr><td>6.3</td><td>2.5</td><td>5.0</td><td>1.9</td><td>3</td></tr>\n",
              "\t<tr><td>6.5</td><td>3.0</td><td>5.2</td><td>2.0</td><td>3</td></tr>\n",
              "\t<tr><td>6.2</td><td>3.4</td><td>5.4</td><td>2.3</td><td>3</td></tr>\n",
              "\t<tr><td>5.9</td><td>3.0</td><td>5.1</td><td>1.8</td><td>3</td></tr>\n",
              "</tbody>\n",
              "</table>\n"
            ],
            "text/markdown": "\nA data.frame: 150 × 5\n\n| Sepal.Length &lt;dbl&gt; | Sepal.Width &lt;dbl&gt; | Petal.Length &lt;dbl&gt; | Petal.Width &lt;dbl&gt; | Species &lt;dbl&gt; |\n|---|---|---|---|---|\n| 5.1 | 3.5 | 1.4 | 0.2 | 1 |\n| 4.9 | 3.0 | 1.4 | 0.2 | 1 |\n| 4.7 | 3.2 | 1.3 | 0.2 | 1 |\n| 4.6 | 3.1 | 1.5 | 0.2 | 1 |\n| 5.0 | 3.6 | 1.4 | 0.2 | 1 |\n| 5.4 | 3.9 | 1.7 | 0.4 | 1 |\n| 4.6 | 3.4 | 1.4 | 0.3 | 1 |\n| 5.0 | 3.4 | 1.5 | 0.2 | 1 |\n| 4.4 | 2.9 | 1.4 | 0.2 | 1 |\n| 4.9 | 3.1 | 1.5 | 0.1 | 1 |\n| 5.4 | 3.7 | 1.5 | 0.2 | 1 |\n| 4.8 | 3.4 | 1.6 | 0.2 | 1 |\n| 4.8 | 3.0 | 1.4 | 0.1 | 1 |\n| 4.3 | 3.0 | 1.1 | 0.1 | 1 |\n| 5.8 | 4.0 | 1.2 | 0.2 | 1 |\n| 5.7 | 4.4 | 1.5 | 0.4 | 1 |\n| 5.4 | 3.9 | 1.3 | 0.4 | 1 |\n| 5.1 | 3.5 | 1.4 | 0.3 | 1 |\n| 5.7 | 3.8 | 1.7 | 0.3 | 1 |\n| 5.1 | 3.8 | 1.5 | 0.3 | 1 |\n| 5.4 | 3.4 | 1.7 | 0.2 | 1 |\n| 5.1 | 3.7 | 1.5 | 0.4 | 1 |\n| 4.6 | 3.6 | 1.0 | 0.2 | 1 |\n| 5.1 | 3.3 | 1.7 | 0.5 | 1 |\n| 4.8 | 3.4 | 1.9 | 0.2 | 1 |\n| 5.0 | 3.0 | 1.6 | 0.2 | 1 |\n| 5.0 | 3.4 | 1.6 | 0.4 | 1 |\n| 5.2 | 3.5 | 1.5 | 0.2 | 1 |\n| 5.2 | 3.4 | 1.4 | 0.2 | 1 |\n| 4.7 | 3.2 | 1.6 | 0.2 | 1 |\n| ⋮ | ⋮ | ⋮ | ⋮ | ⋮ |\n| 6.9 | 3.2 | 5.7 | 2.3 | 3 |\n| 5.6 | 2.8 | 4.9 | 2.0 | 3 |\n| 7.7 | 2.8 | 6.7 | 2.0 | 3 |\n| 6.3 | 2.7 | 4.9 | 1.8 | 3 |\n| 6.7 | 3.3 | 5.7 | 2.1 | 3 |\n| 7.2 | 3.2 | 6.0 | 1.8 | 3 |\n| 6.2 | 2.8 | 4.8 | 1.8 | 3 |\n| 6.1 | 3.0 | 4.9 | 1.8 | 3 |\n| 6.4 | 2.8 | 5.6 | 2.1 | 3 |\n| 7.2 | 3.0 | 5.8 | 1.6 | 3 |\n| 7.4 | 2.8 | 6.1 | 1.9 | 3 |\n| 7.9 | 3.8 | 6.4 | 2.0 | 3 |\n| 6.4 | 2.8 | 5.6 | 2.2 | 3 |\n| 6.3 | 2.8 | 5.1 | 1.5 | 3 |\n| 6.1 | 2.6 | 5.6 | 1.4 | 3 |\n| 7.7 | 3.0 | 6.1 | 2.3 | 3 |\n| 6.3 | 3.4 | 5.6 | 2.4 | 3 |\n| 6.4 | 3.1 | 5.5 | 1.8 | 3 |\n| 6.0 | 3.0 | 4.8 | 1.8 | 3 |\n| 6.9 | 3.1 | 5.4 | 2.1 | 3 |\n| 6.7 | 3.1 | 5.6 | 2.4 | 3 |\n| 6.9 | 3.1 | 5.1 | 2.3 | 3 |\n| 5.8 | 2.7 | 5.1 | 1.9 | 3 |\n| 6.8 | 3.2 | 5.9 | 2.3 | 3 |\n| 6.7 | 3.3 | 5.7 | 2.5 | 3 |\n| 6.7 | 3.0 | 5.2 | 2.3 | 3 |\n| 6.3 | 2.5 | 5.0 | 1.9 | 3 |\n| 6.5 | 3.0 | 5.2 | 2.0 | 3 |\n| 6.2 | 3.4 | 5.4 | 2.3 | 3 |\n| 5.9 | 3.0 | 5.1 | 1.8 | 3 |\n\n",
            "text/latex": "A data.frame: 150 × 5\n\\begin{tabular}{lllll}\n Sepal.Length & Sepal.Width & Petal.Length & Petal.Width & Species\\\\\n <dbl> & <dbl> & <dbl> & <dbl> & <dbl>\\\\\n\\hline\n\t 5.1 & 3.5 & 1.4 & 0.2 & 1\\\\\n\t 4.9 & 3.0 & 1.4 & 0.2 & 1\\\\\n\t 4.7 & 3.2 & 1.3 & 0.2 & 1\\\\\n\t 4.6 & 3.1 & 1.5 & 0.2 & 1\\\\\n\t 5.0 & 3.6 & 1.4 & 0.2 & 1\\\\\n\t 5.4 & 3.9 & 1.7 & 0.4 & 1\\\\\n\t 4.6 & 3.4 & 1.4 & 0.3 & 1\\\\\n\t 5.0 & 3.4 & 1.5 & 0.2 & 1\\\\\n\t 4.4 & 2.9 & 1.4 & 0.2 & 1\\\\\n\t 4.9 & 3.1 & 1.5 & 0.1 & 1\\\\\n\t 5.4 & 3.7 & 1.5 & 0.2 & 1\\\\\n\t 4.8 & 3.4 & 1.6 & 0.2 & 1\\\\\n\t 4.8 & 3.0 & 1.4 & 0.1 & 1\\\\\n\t 4.3 & 3.0 & 1.1 & 0.1 & 1\\\\\n\t 5.8 & 4.0 & 1.2 & 0.2 & 1\\\\\n\t 5.7 & 4.4 & 1.5 & 0.4 & 1\\\\\n\t 5.4 & 3.9 & 1.3 & 0.4 & 1\\\\\n\t 5.1 & 3.5 & 1.4 & 0.3 & 1\\\\\n\t 5.7 & 3.8 & 1.7 & 0.3 & 1\\\\\n\t 5.1 & 3.8 & 1.5 & 0.3 & 1\\\\\n\t 5.4 & 3.4 & 1.7 & 0.2 & 1\\\\\n\t 5.1 & 3.7 & 1.5 & 0.4 & 1\\\\\n\t 4.6 & 3.6 & 1.0 & 0.2 & 1\\\\\n\t 5.1 & 3.3 & 1.7 & 0.5 & 1\\\\\n\t 4.8 & 3.4 & 1.9 & 0.2 & 1\\\\\n\t 5.0 & 3.0 & 1.6 & 0.2 & 1\\\\\n\t 5.0 & 3.4 & 1.6 & 0.4 & 1\\\\\n\t 5.2 & 3.5 & 1.5 & 0.2 & 1\\\\\n\t 5.2 & 3.4 & 1.4 & 0.2 & 1\\\\\n\t 4.7 & 3.2 & 1.6 & 0.2 & 1\\\\\n\t ⋮ & ⋮ & ⋮ & ⋮ & ⋮\\\\\n\t 6.9 & 3.2 & 5.7 & 2.3 & 3\\\\\n\t 5.6 & 2.8 & 4.9 & 2.0 & 3\\\\\n\t 7.7 & 2.8 & 6.7 & 2.0 & 3\\\\\n\t 6.3 & 2.7 & 4.9 & 1.8 & 3\\\\\n\t 6.7 & 3.3 & 5.7 & 2.1 & 3\\\\\n\t 7.2 & 3.2 & 6.0 & 1.8 & 3\\\\\n\t 6.2 & 2.8 & 4.8 & 1.8 & 3\\\\\n\t 6.1 & 3.0 & 4.9 & 1.8 & 3\\\\\n\t 6.4 & 2.8 & 5.6 & 2.1 & 3\\\\\n\t 7.2 & 3.0 & 5.8 & 1.6 & 3\\\\\n\t 7.4 & 2.8 & 6.1 & 1.9 & 3\\\\\n\t 7.9 & 3.8 & 6.4 & 2.0 & 3\\\\\n\t 6.4 & 2.8 & 5.6 & 2.2 & 3\\\\\n\t 6.3 & 2.8 & 5.1 & 1.5 & 3\\\\\n\t 6.1 & 2.6 & 5.6 & 1.4 & 3\\\\\n\t 7.7 & 3.0 & 6.1 & 2.3 & 3\\\\\n\t 6.3 & 3.4 & 5.6 & 2.4 & 3\\\\\n\t 6.4 & 3.1 & 5.5 & 1.8 & 3\\\\\n\t 6.0 & 3.0 & 4.8 & 1.8 & 3\\\\\n\t 6.9 & 3.1 & 5.4 & 2.1 & 3\\\\\n\t 6.7 & 3.1 & 5.6 & 2.4 & 3\\\\\n\t 6.9 & 3.1 & 5.1 & 2.3 & 3\\\\\n\t 5.8 & 2.7 & 5.1 & 1.9 & 3\\\\\n\t 6.8 & 3.2 & 5.9 & 2.3 & 3\\\\\n\t 6.7 & 3.3 & 5.7 & 2.5 & 3\\\\\n\t 6.7 & 3.0 & 5.2 & 2.3 & 3\\\\\n\t 6.3 & 2.5 & 5.0 & 1.9 & 3\\\\\n\t 6.5 & 3.0 & 5.2 & 2.0 & 3\\\\\n\t 6.2 & 3.4 & 5.4 & 2.3 & 3\\\\\n\t 5.9 & 3.0 & 5.1 & 1.8 & 3\\\\\n\\end{tabular}\n",
            "text/plain": [
              "    Sepal.Length Sepal.Width Petal.Length Petal.Width Species\n",
              "1   5.1          3.5         1.4          0.2         1      \n",
              "2   4.9          3.0         1.4          0.2         1      \n",
              "3   4.7          3.2         1.3          0.2         1      \n",
              "4   4.6          3.1         1.5          0.2         1      \n",
              "5   5.0          3.6         1.4          0.2         1      \n",
              "6   5.4          3.9         1.7          0.4         1      \n",
              "7   4.6          3.4         1.4          0.3         1      \n",
              "8   5.0          3.4         1.5          0.2         1      \n",
              "9   4.4          2.9         1.4          0.2         1      \n",
              "10  4.9          3.1         1.5          0.1         1      \n",
              "11  5.4          3.7         1.5          0.2         1      \n",
              "12  4.8          3.4         1.6          0.2         1      \n",
              "13  4.8          3.0         1.4          0.1         1      \n",
              "14  4.3          3.0         1.1          0.1         1      \n",
              "15  5.8          4.0         1.2          0.2         1      \n",
              "16  5.7          4.4         1.5          0.4         1      \n",
              "17  5.4          3.9         1.3          0.4         1      \n",
              "18  5.1          3.5         1.4          0.3         1      \n",
              "19  5.7          3.8         1.7          0.3         1      \n",
              "20  5.1          3.8         1.5          0.3         1      \n",
              "21  5.4          3.4         1.7          0.2         1      \n",
              "22  5.1          3.7         1.5          0.4         1      \n",
              "23  4.6          3.6         1.0          0.2         1      \n",
              "24  5.1          3.3         1.7          0.5         1      \n",
              "25  4.8          3.4         1.9          0.2         1      \n",
              "26  5.0          3.0         1.6          0.2         1      \n",
              "27  5.0          3.4         1.6          0.4         1      \n",
              "28  5.2          3.5         1.5          0.2         1      \n",
              "29  5.2          3.4         1.4          0.2         1      \n",
              "30  4.7          3.2         1.6          0.2         1      \n",
              "⋮   ⋮            ⋮           ⋮            ⋮           ⋮      \n",
              "121 6.9          3.2         5.7          2.3         3      \n",
              "122 5.6          2.8         4.9          2.0         3      \n",
              "123 7.7          2.8         6.7          2.0         3      \n",
              "124 6.3          2.7         4.9          1.8         3      \n",
              "125 6.7          3.3         5.7          2.1         3      \n",
              "126 7.2          3.2         6.0          1.8         3      \n",
              "127 6.2          2.8         4.8          1.8         3      \n",
              "128 6.1          3.0         4.9          1.8         3      \n",
              "129 6.4          2.8         5.6          2.1         3      \n",
              "130 7.2          3.0         5.8          1.6         3      \n",
              "131 7.4          2.8         6.1          1.9         3      \n",
              "132 7.9          3.8         6.4          2.0         3      \n",
              "133 6.4          2.8         5.6          2.2         3      \n",
              "134 6.3          2.8         5.1          1.5         3      \n",
              "135 6.1          2.6         5.6          1.4         3      \n",
              "136 7.7          3.0         6.1          2.3         3      \n",
              "137 6.3          3.4         5.6          2.4         3      \n",
              "138 6.4          3.1         5.5          1.8         3      \n",
              "139 6.0          3.0         4.8          1.8         3      \n",
              "140 6.9          3.1         5.4          2.1         3      \n",
              "141 6.7          3.1         5.6          2.4         3      \n",
              "142 6.9          3.1         5.1          2.3         3      \n",
              "143 5.8          2.7         5.1          1.9         3      \n",
              "144 6.8          3.2         5.9          2.3         3      \n",
              "145 6.7          3.3         5.7          2.5         3      \n",
              "146 6.7          3.0         5.2          2.3         3      \n",
              "147 6.3          2.5         5.0          1.9         3      \n",
              "148 6.5          3.0         5.2          2.0         3      \n",
              "149 6.2          3.4         5.4          2.3         3      \n",
              "150 5.9          3.0         5.1          1.8         3      "
            ]
          },
          "metadata": {}
        }
      ]
    },
    {
      "cell_type": "code",
      "source": [
        "# Min-Max 정규화 함수 정의\n",
        "normal <- function(x) (\n",
        "    return ((x-min(x))/(max(x)-min(x)))\n",
        ")\n",
        "# 정규화 함수 적용\n",
        "df[1:4] <- as.data.frame(lapply(df[1:4], normal))\n",
        "df"
      ],
      "metadata": {
        "colab": {
          "base_uri": "https://localhost:8080/",
          "height": 1000
        },
        "id": "SaT_XqGIbXfZ",
        "outputId": "c25f9598-75e6-4e56-b65f-d2f15efa75f7"
      },
      "execution_count": 7,
      "outputs": [
        {
          "output_type": "display_data",
          "data": {
            "text/html": [
              "<table class=\"dataframe\">\n",
              "<caption>A data.frame: 150 × 5</caption>\n",
              "<thead>\n",
              "\t<tr><th scope=col>Sepal.Length</th><th scope=col>Sepal.Width</th><th scope=col>Petal.Length</th><th scope=col>Petal.Width</th><th scope=col>Species</th></tr>\n",
              "\t<tr><th scope=col>&lt;dbl&gt;</th><th scope=col>&lt;dbl&gt;</th><th scope=col>&lt;dbl&gt;</th><th scope=col>&lt;dbl&gt;</th><th scope=col>&lt;dbl&gt;</th></tr>\n",
              "</thead>\n",
              "<tbody>\n",
              "\t<tr><td>0.22222222</td><td>0.6250000</td><td>0.06779661</td><td>0.04166667</td><td>1</td></tr>\n",
              "\t<tr><td>0.16666667</td><td>0.4166667</td><td>0.06779661</td><td>0.04166667</td><td>1</td></tr>\n",
              "\t<tr><td>0.11111111</td><td>0.5000000</td><td>0.05084746</td><td>0.04166667</td><td>1</td></tr>\n",
              "\t<tr><td>0.08333333</td><td>0.4583333</td><td>0.08474576</td><td>0.04166667</td><td>1</td></tr>\n",
              "\t<tr><td>0.19444444</td><td>0.6666667</td><td>0.06779661</td><td>0.04166667</td><td>1</td></tr>\n",
              "\t<tr><td>0.30555556</td><td>0.7916667</td><td>0.11864407</td><td>0.12500000</td><td>1</td></tr>\n",
              "\t<tr><td>0.08333333</td><td>0.5833333</td><td>0.06779661</td><td>0.08333333</td><td>1</td></tr>\n",
              "\t<tr><td>0.19444444</td><td>0.5833333</td><td>0.08474576</td><td>0.04166667</td><td>1</td></tr>\n",
              "\t<tr><td>0.02777778</td><td>0.3750000</td><td>0.06779661</td><td>0.04166667</td><td>1</td></tr>\n",
              "\t<tr><td>0.16666667</td><td>0.4583333</td><td>0.08474576</td><td>0.00000000</td><td>1</td></tr>\n",
              "\t<tr><td>0.30555556</td><td>0.7083333</td><td>0.08474576</td><td>0.04166667</td><td>1</td></tr>\n",
              "\t<tr><td>0.13888889</td><td>0.5833333</td><td>0.10169492</td><td>0.04166667</td><td>1</td></tr>\n",
              "\t<tr><td>0.13888889</td><td>0.4166667</td><td>0.06779661</td><td>0.00000000</td><td>1</td></tr>\n",
              "\t<tr><td>0.00000000</td><td>0.4166667</td><td>0.01694915</td><td>0.00000000</td><td>1</td></tr>\n",
              "\t<tr><td>0.41666667</td><td>0.8333333</td><td>0.03389831</td><td>0.04166667</td><td>1</td></tr>\n",
              "\t<tr><td>0.38888889</td><td>1.0000000</td><td>0.08474576</td><td>0.12500000</td><td>1</td></tr>\n",
              "\t<tr><td>0.30555556</td><td>0.7916667</td><td>0.05084746</td><td>0.12500000</td><td>1</td></tr>\n",
              "\t<tr><td>0.22222222</td><td>0.6250000</td><td>0.06779661</td><td>0.08333333</td><td>1</td></tr>\n",
              "\t<tr><td>0.38888889</td><td>0.7500000</td><td>0.11864407</td><td>0.08333333</td><td>1</td></tr>\n",
              "\t<tr><td>0.22222222</td><td>0.7500000</td><td>0.08474576</td><td>0.08333333</td><td>1</td></tr>\n",
              "\t<tr><td>0.30555556</td><td>0.5833333</td><td>0.11864407</td><td>0.04166667</td><td>1</td></tr>\n",
              "\t<tr><td>0.22222222</td><td>0.7083333</td><td>0.08474576</td><td>0.12500000</td><td>1</td></tr>\n",
              "\t<tr><td>0.08333333</td><td>0.6666667</td><td>0.00000000</td><td>0.04166667</td><td>1</td></tr>\n",
              "\t<tr><td>0.22222222</td><td>0.5416667</td><td>0.11864407</td><td>0.16666667</td><td>1</td></tr>\n",
              "\t<tr><td>0.13888889</td><td>0.5833333</td><td>0.15254237</td><td>0.04166667</td><td>1</td></tr>\n",
              "\t<tr><td>0.19444444</td><td>0.4166667</td><td>0.10169492</td><td>0.04166667</td><td>1</td></tr>\n",
              "\t<tr><td>0.19444444</td><td>0.5833333</td><td>0.10169492</td><td>0.12500000</td><td>1</td></tr>\n",
              "\t<tr><td>0.25000000</td><td>0.6250000</td><td>0.08474576</td><td>0.04166667</td><td>1</td></tr>\n",
              "\t<tr><td>0.25000000</td><td>0.5833333</td><td>0.06779661</td><td>0.04166667</td><td>1</td></tr>\n",
              "\t<tr><td>0.11111111</td><td>0.5000000</td><td>0.10169492</td><td>0.04166667</td><td>1</td></tr>\n",
              "\t<tr><td>⋮</td><td>⋮</td><td>⋮</td><td>⋮</td><td>⋮</td></tr>\n",
              "\t<tr><td>0.7222222</td><td>0.5000000</td><td>0.7966102</td><td>0.9166667</td><td>3</td></tr>\n",
              "\t<tr><td>0.3611111</td><td>0.3333333</td><td>0.6610169</td><td>0.7916667</td><td>3</td></tr>\n",
              "\t<tr><td>0.9444444</td><td>0.3333333</td><td>0.9661017</td><td>0.7916667</td><td>3</td></tr>\n",
              "\t<tr><td>0.5555556</td><td>0.2916667</td><td>0.6610169</td><td>0.7083333</td><td>3</td></tr>\n",
              "\t<tr><td>0.6666667</td><td>0.5416667</td><td>0.7966102</td><td>0.8333333</td><td>3</td></tr>\n",
              "\t<tr><td>0.8055556</td><td>0.5000000</td><td>0.8474576</td><td>0.7083333</td><td>3</td></tr>\n",
              "\t<tr><td>0.5277778</td><td>0.3333333</td><td>0.6440678</td><td>0.7083333</td><td>3</td></tr>\n",
              "\t<tr><td>0.5000000</td><td>0.4166667</td><td>0.6610169</td><td>0.7083333</td><td>3</td></tr>\n",
              "\t<tr><td>0.5833333</td><td>0.3333333</td><td>0.7796610</td><td>0.8333333</td><td>3</td></tr>\n",
              "\t<tr><td>0.8055556</td><td>0.4166667</td><td>0.8135593</td><td>0.6250000</td><td>3</td></tr>\n",
              "\t<tr><td>0.8611111</td><td>0.3333333</td><td>0.8644068</td><td>0.7500000</td><td>3</td></tr>\n",
              "\t<tr><td>1.0000000</td><td>0.7500000</td><td>0.9152542</td><td>0.7916667</td><td>3</td></tr>\n",
              "\t<tr><td>0.5833333</td><td>0.3333333</td><td>0.7796610</td><td>0.8750000</td><td>3</td></tr>\n",
              "\t<tr><td>0.5555556</td><td>0.3333333</td><td>0.6949153</td><td>0.5833333</td><td>3</td></tr>\n",
              "\t<tr><td>0.5000000</td><td>0.2500000</td><td>0.7796610</td><td>0.5416667</td><td>3</td></tr>\n",
              "\t<tr><td>0.9444444</td><td>0.4166667</td><td>0.8644068</td><td>0.9166667</td><td>3</td></tr>\n",
              "\t<tr><td>0.5555556</td><td>0.5833333</td><td>0.7796610</td><td>0.9583333</td><td>3</td></tr>\n",
              "\t<tr><td>0.5833333</td><td>0.4583333</td><td>0.7627119</td><td>0.7083333</td><td>3</td></tr>\n",
              "\t<tr><td>0.4722222</td><td>0.4166667</td><td>0.6440678</td><td>0.7083333</td><td>3</td></tr>\n",
              "\t<tr><td>0.7222222</td><td>0.4583333</td><td>0.7457627</td><td>0.8333333</td><td>3</td></tr>\n",
              "\t<tr><td>0.6666667</td><td>0.4583333</td><td>0.7796610</td><td>0.9583333</td><td>3</td></tr>\n",
              "\t<tr><td>0.7222222</td><td>0.4583333</td><td>0.6949153</td><td>0.9166667</td><td>3</td></tr>\n",
              "\t<tr><td>0.4166667</td><td>0.2916667</td><td>0.6949153</td><td>0.7500000</td><td>3</td></tr>\n",
              "\t<tr><td>0.6944444</td><td>0.5000000</td><td>0.8305085</td><td>0.9166667</td><td>3</td></tr>\n",
              "\t<tr><td>0.6666667</td><td>0.5416667</td><td>0.7966102</td><td>1.0000000</td><td>3</td></tr>\n",
              "\t<tr><td>0.6666667</td><td>0.4166667</td><td>0.7118644</td><td>0.9166667</td><td>3</td></tr>\n",
              "\t<tr><td>0.5555556</td><td>0.2083333</td><td>0.6779661</td><td>0.7500000</td><td>3</td></tr>\n",
              "\t<tr><td>0.6111111</td><td>0.4166667</td><td>0.7118644</td><td>0.7916667</td><td>3</td></tr>\n",
              "\t<tr><td>0.5277778</td><td>0.5833333</td><td>0.7457627</td><td>0.9166667</td><td>3</td></tr>\n",
              "\t<tr><td>0.4444444</td><td>0.4166667</td><td>0.6949153</td><td>0.7083333</td><td>3</td></tr>\n",
              "</tbody>\n",
              "</table>\n"
            ],
            "text/markdown": "\nA data.frame: 150 × 5\n\n| Sepal.Length &lt;dbl&gt; | Sepal.Width &lt;dbl&gt; | Petal.Length &lt;dbl&gt; | Petal.Width &lt;dbl&gt; | Species &lt;dbl&gt; |\n|---|---|---|---|---|\n| 0.22222222 | 0.6250000 | 0.06779661 | 0.04166667 | 1 |\n| 0.16666667 | 0.4166667 | 0.06779661 | 0.04166667 | 1 |\n| 0.11111111 | 0.5000000 | 0.05084746 | 0.04166667 | 1 |\n| 0.08333333 | 0.4583333 | 0.08474576 | 0.04166667 | 1 |\n| 0.19444444 | 0.6666667 | 0.06779661 | 0.04166667 | 1 |\n| 0.30555556 | 0.7916667 | 0.11864407 | 0.12500000 | 1 |\n| 0.08333333 | 0.5833333 | 0.06779661 | 0.08333333 | 1 |\n| 0.19444444 | 0.5833333 | 0.08474576 | 0.04166667 | 1 |\n| 0.02777778 | 0.3750000 | 0.06779661 | 0.04166667 | 1 |\n| 0.16666667 | 0.4583333 | 0.08474576 | 0.00000000 | 1 |\n| 0.30555556 | 0.7083333 | 0.08474576 | 0.04166667 | 1 |\n| 0.13888889 | 0.5833333 | 0.10169492 | 0.04166667 | 1 |\n| 0.13888889 | 0.4166667 | 0.06779661 | 0.00000000 | 1 |\n| 0.00000000 | 0.4166667 | 0.01694915 | 0.00000000 | 1 |\n| 0.41666667 | 0.8333333 | 0.03389831 | 0.04166667 | 1 |\n| 0.38888889 | 1.0000000 | 0.08474576 | 0.12500000 | 1 |\n| 0.30555556 | 0.7916667 | 0.05084746 | 0.12500000 | 1 |\n| 0.22222222 | 0.6250000 | 0.06779661 | 0.08333333 | 1 |\n| 0.38888889 | 0.7500000 | 0.11864407 | 0.08333333 | 1 |\n| 0.22222222 | 0.7500000 | 0.08474576 | 0.08333333 | 1 |\n| 0.30555556 | 0.5833333 | 0.11864407 | 0.04166667 | 1 |\n| 0.22222222 | 0.7083333 | 0.08474576 | 0.12500000 | 1 |\n| 0.08333333 | 0.6666667 | 0.00000000 | 0.04166667 | 1 |\n| 0.22222222 | 0.5416667 | 0.11864407 | 0.16666667 | 1 |\n| 0.13888889 | 0.5833333 | 0.15254237 | 0.04166667 | 1 |\n| 0.19444444 | 0.4166667 | 0.10169492 | 0.04166667 | 1 |\n| 0.19444444 | 0.5833333 | 0.10169492 | 0.12500000 | 1 |\n| 0.25000000 | 0.6250000 | 0.08474576 | 0.04166667 | 1 |\n| 0.25000000 | 0.5833333 | 0.06779661 | 0.04166667 | 1 |\n| 0.11111111 | 0.5000000 | 0.10169492 | 0.04166667 | 1 |\n| ⋮ | ⋮ | ⋮ | ⋮ | ⋮ |\n| 0.7222222 | 0.5000000 | 0.7966102 | 0.9166667 | 3 |\n| 0.3611111 | 0.3333333 | 0.6610169 | 0.7916667 | 3 |\n| 0.9444444 | 0.3333333 | 0.9661017 | 0.7916667 | 3 |\n| 0.5555556 | 0.2916667 | 0.6610169 | 0.7083333 | 3 |\n| 0.6666667 | 0.5416667 | 0.7966102 | 0.8333333 | 3 |\n| 0.8055556 | 0.5000000 | 0.8474576 | 0.7083333 | 3 |\n| 0.5277778 | 0.3333333 | 0.6440678 | 0.7083333 | 3 |\n| 0.5000000 | 0.4166667 | 0.6610169 | 0.7083333 | 3 |\n| 0.5833333 | 0.3333333 | 0.7796610 | 0.8333333 | 3 |\n| 0.8055556 | 0.4166667 | 0.8135593 | 0.6250000 | 3 |\n| 0.8611111 | 0.3333333 | 0.8644068 | 0.7500000 | 3 |\n| 1.0000000 | 0.7500000 | 0.9152542 | 0.7916667 | 3 |\n| 0.5833333 | 0.3333333 | 0.7796610 | 0.8750000 | 3 |\n| 0.5555556 | 0.3333333 | 0.6949153 | 0.5833333 | 3 |\n| 0.5000000 | 0.2500000 | 0.7796610 | 0.5416667 | 3 |\n| 0.9444444 | 0.4166667 | 0.8644068 | 0.9166667 | 3 |\n| 0.5555556 | 0.5833333 | 0.7796610 | 0.9583333 | 3 |\n| 0.5833333 | 0.4583333 | 0.7627119 | 0.7083333 | 3 |\n| 0.4722222 | 0.4166667 | 0.6440678 | 0.7083333 | 3 |\n| 0.7222222 | 0.4583333 | 0.7457627 | 0.8333333 | 3 |\n| 0.6666667 | 0.4583333 | 0.7796610 | 0.9583333 | 3 |\n| 0.7222222 | 0.4583333 | 0.6949153 | 0.9166667 | 3 |\n| 0.4166667 | 0.2916667 | 0.6949153 | 0.7500000 | 3 |\n| 0.6944444 | 0.5000000 | 0.8305085 | 0.9166667 | 3 |\n| 0.6666667 | 0.5416667 | 0.7966102 | 1.0000000 | 3 |\n| 0.6666667 | 0.4166667 | 0.7118644 | 0.9166667 | 3 |\n| 0.5555556 | 0.2083333 | 0.6779661 | 0.7500000 | 3 |\n| 0.6111111 | 0.4166667 | 0.7118644 | 0.7916667 | 3 |\n| 0.5277778 | 0.5833333 | 0.7457627 | 0.9166667 | 3 |\n| 0.4444444 | 0.4166667 | 0.6949153 | 0.7083333 | 3 |\n\n",
            "text/latex": "A data.frame: 150 × 5\n\\begin{tabular}{lllll}\n Sepal.Length & Sepal.Width & Petal.Length & Petal.Width & Species\\\\\n <dbl> & <dbl> & <dbl> & <dbl> & <dbl>\\\\\n\\hline\n\t 0.22222222 & 0.6250000 & 0.06779661 & 0.04166667 & 1\\\\\n\t 0.16666667 & 0.4166667 & 0.06779661 & 0.04166667 & 1\\\\\n\t 0.11111111 & 0.5000000 & 0.05084746 & 0.04166667 & 1\\\\\n\t 0.08333333 & 0.4583333 & 0.08474576 & 0.04166667 & 1\\\\\n\t 0.19444444 & 0.6666667 & 0.06779661 & 0.04166667 & 1\\\\\n\t 0.30555556 & 0.7916667 & 0.11864407 & 0.12500000 & 1\\\\\n\t 0.08333333 & 0.5833333 & 0.06779661 & 0.08333333 & 1\\\\\n\t 0.19444444 & 0.5833333 & 0.08474576 & 0.04166667 & 1\\\\\n\t 0.02777778 & 0.3750000 & 0.06779661 & 0.04166667 & 1\\\\\n\t 0.16666667 & 0.4583333 & 0.08474576 & 0.00000000 & 1\\\\\n\t 0.30555556 & 0.7083333 & 0.08474576 & 0.04166667 & 1\\\\\n\t 0.13888889 & 0.5833333 & 0.10169492 & 0.04166667 & 1\\\\\n\t 0.13888889 & 0.4166667 & 0.06779661 & 0.00000000 & 1\\\\\n\t 0.00000000 & 0.4166667 & 0.01694915 & 0.00000000 & 1\\\\\n\t 0.41666667 & 0.8333333 & 0.03389831 & 0.04166667 & 1\\\\\n\t 0.38888889 & 1.0000000 & 0.08474576 & 0.12500000 & 1\\\\\n\t 0.30555556 & 0.7916667 & 0.05084746 & 0.12500000 & 1\\\\\n\t 0.22222222 & 0.6250000 & 0.06779661 & 0.08333333 & 1\\\\\n\t 0.38888889 & 0.7500000 & 0.11864407 & 0.08333333 & 1\\\\\n\t 0.22222222 & 0.7500000 & 0.08474576 & 0.08333333 & 1\\\\\n\t 0.30555556 & 0.5833333 & 0.11864407 & 0.04166667 & 1\\\\\n\t 0.22222222 & 0.7083333 & 0.08474576 & 0.12500000 & 1\\\\\n\t 0.08333333 & 0.6666667 & 0.00000000 & 0.04166667 & 1\\\\\n\t 0.22222222 & 0.5416667 & 0.11864407 & 0.16666667 & 1\\\\\n\t 0.13888889 & 0.5833333 & 0.15254237 & 0.04166667 & 1\\\\\n\t 0.19444444 & 0.4166667 & 0.10169492 & 0.04166667 & 1\\\\\n\t 0.19444444 & 0.5833333 & 0.10169492 & 0.12500000 & 1\\\\\n\t 0.25000000 & 0.6250000 & 0.08474576 & 0.04166667 & 1\\\\\n\t 0.25000000 & 0.5833333 & 0.06779661 & 0.04166667 & 1\\\\\n\t 0.11111111 & 0.5000000 & 0.10169492 & 0.04166667 & 1\\\\\n\t ⋮ & ⋮ & ⋮ & ⋮ & ⋮\\\\\n\t 0.7222222 & 0.5000000 & 0.7966102 & 0.9166667 & 3\\\\\n\t 0.3611111 & 0.3333333 & 0.6610169 & 0.7916667 & 3\\\\\n\t 0.9444444 & 0.3333333 & 0.9661017 & 0.7916667 & 3\\\\\n\t 0.5555556 & 0.2916667 & 0.6610169 & 0.7083333 & 3\\\\\n\t 0.6666667 & 0.5416667 & 0.7966102 & 0.8333333 & 3\\\\\n\t 0.8055556 & 0.5000000 & 0.8474576 & 0.7083333 & 3\\\\\n\t 0.5277778 & 0.3333333 & 0.6440678 & 0.7083333 & 3\\\\\n\t 0.5000000 & 0.4166667 & 0.6610169 & 0.7083333 & 3\\\\\n\t 0.5833333 & 0.3333333 & 0.7796610 & 0.8333333 & 3\\\\\n\t 0.8055556 & 0.4166667 & 0.8135593 & 0.6250000 & 3\\\\\n\t 0.8611111 & 0.3333333 & 0.8644068 & 0.7500000 & 3\\\\\n\t 1.0000000 & 0.7500000 & 0.9152542 & 0.7916667 & 3\\\\\n\t 0.5833333 & 0.3333333 & 0.7796610 & 0.8750000 & 3\\\\\n\t 0.5555556 & 0.3333333 & 0.6949153 & 0.5833333 & 3\\\\\n\t 0.5000000 & 0.2500000 & 0.7796610 & 0.5416667 & 3\\\\\n\t 0.9444444 & 0.4166667 & 0.8644068 & 0.9166667 & 3\\\\\n\t 0.5555556 & 0.5833333 & 0.7796610 & 0.9583333 & 3\\\\\n\t 0.5833333 & 0.4583333 & 0.7627119 & 0.7083333 & 3\\\\\n\t 0.4722222 & 0.4166667 & 0.6440678 & 0.7083333 & 3\\\\\n\t 0.7222222 & 0.4583333 & 0.7457627 & 0.8333333 & 3\\\\\n\t 0.6666667 & 0.4583333 & 0.7796610 & 0.9583333 & 3\\\\\n\t 0.7222222 & 0.4583333 & 0.6949153 & 0.9166667 & 3\\\\\n\t 0.4166667 & 0.2916667 & 0.6949153 & 0.7500000 & 3\\\\\n\t 0.6944444 & 0.5000000 & 0.8305085 & 0.9166667 & 3\\\\\n\t 0.6666667 & 0.5416667 & 0.7966102 & 1.0000000 & 3\\\\\n\t 0.6666667 & 0.4166667 & 0.7118644 & 0.9166667 & 3\\\\\n\t 0.5555556 & 0.2083333 & 0.6779661 & 0.7500000 & 3\\\\\n\t 0.6111111 & 0.4166667 & 0.7118644 & 0.7916667 & 3\\\\\n\t 0.5277778 & 0.5833333 & 0.7457627 & 0.9166667 & 3\\\\\n\t 0.4444444 & 0.4166667 & 0.6949153 & 0.7083333 & 3\\\\\n\\end{tabular}\n",
            "text/plain": [
              "    Sepal.Length Sepal.Width Petal.Length Petal.Width Species\n",
              "1   0.22222222   0.6250000   0.06779661   0.04166667  1      \n",
              "2   0.16666667   0.4166667   0.06779661   0.04166667  1      \n",
              "3   0.11111111   0.5000000   0.05084746   0.04166667  1      \n",
              "4   0.08333333   0.4583333   0.08474576   0.04166667  1      \n",
              "5   0.19444444   0.6666667   0.06779661   0.04166667  1      \n",
              "6   0.30555556   0.7916667   0.11864407   0.12500000  1      \n",
              "7   0.08333333   0.5833333   0.06779661   0.08333333  1      \n",
              "8   0.19444444   0.5833333   0.08474576   0.04166667  1      \n",
              "9   0.02777778   0.3750000   0.06779661   0.04166667  1      \n",
              "10  0.16666667   0.4583333   0.08474576   0.00000000  1      \n",
              "11  0.30555556   0.7083333   0.08474576   0.04166667  1      \n",
              "12  0.13888889   0.5833333   0.10169492   0.04166667  1      \n",
              "13  0.13888889   0.4166667   0.06779661   0.00000000  1      \n",
              "14  0.00000000   0.4166667   0.01694915   0.00000000  1      \n",
              "15  0.41666667   0.8333333   0.03389831   0.04166667  1      \n",
              "16  0.38888889   1.0000000   0.08474576   0.12500000  1      \n",
              "17  0.30555556   0.7916667   0.05084746   0.12500000  1      \n",
              "18  0.22222222   0.6250000   0.06779661   0.08333333  1      \n",
              "19  0.38888889   0.7500000   0.11864407   0.08333333  1      \n",
              "20  0.22222222   0.7500000   0.08474576   0.08333333  1      \n",
              "21  0.30555556   0.5833333   0.11864407   0.04166667  1      \n",
              "22  0.22222222   0.7083333   0.08474576   0.12500000  1      \n",
              "23  0.08333333   0.6666667   0.00000000   0.04166667  1      \n",
              "24  0.22222222   0.5416667   0.11864407   0.16666667  1      \n",
              "25  0.13888889   0.5833333   0.15254237   0.04166667  1      \n",
              "26  0.19444444   0.4166667   0.10169492   0.04166667  1      \n",
              "27  0.19444444   0.5833333   0.10169492   0.12500000  1      \n",
              "28  0.25000000   0.6250000   0.08474576   0.04166667  1      \n",
              "29  0.25000000   0.5833333   0.06779661   0.04166667  1      \n",
              "30  0.11111111   0.5000000   0.10169492   0.04166667  1      \n",
              "⋮   ⋮            ⋮           ⋮            ⋮           ⋮      \n",
              "121 0.7222222    0.5000000   0.7966102    0.9166667   3      \n",
              "122 0.3611111    0.3333333   0.6610169    0.7916667   3      \n",
              "123 0.9444444    0.3333333   0.9661017    0.7916667   3      \n",
              "124 0.5555556    0.2916667   0.6610169    0.7083333   3      \n",
              "125 0.6666667    0.5416667   0.7966102    0.8333333   3      \n",
              "126 0.8055556    0.5000000   0.8474576    0.7083333   3      \n",
              "127 0.5277778    0.3333333   0.6440678    0.7083333   3      \n",
              "128 0.5000000    0.4166667   0.6610169    0.7083333   3      \n",
              "129 0.5833333    0.3333333   0.7796610    0.8333333   3      \n",
              "130 0.8055556    0.4166667   0.8135593    0.6250000   3      \n",
              "131 0.8611111    0.3333333   0.8644068    0.7500000   3      \n",
              "132 1.0000000    0.7500000   0.9152542    0.7916667   3      \n",
              "133 0.5833333    0.3333333   0.7796610    0.8750000   3      \n",
              "134 0.5555556    0.3333333   0.6949153    0.5833333   3      \n",
              "135 0.5000000    0.2500000   0.7796610    0.5416667   3      \n",
              "136 0.9444444    0.4166667   0.8644068    0.9166667   3      \n",
              "137 0.5555556    0.5833333   0.7796610    0.9583333   3      \n",
              "138 0.5833333    0.4583333   0.7627119    0.7083333   3      \n",
              "139 0.4722222    0.4166667   0.6440678    0.7083333   3      \n",
              "140 0.7222222    0.4583333   0.7457627    0.8333333   3      \n",
              "141 0.6666667    0.4583333   0.7796610    0.9583333   3      \n",
              "142 0.7222222    0.4583333   0.6949153    0.9166667   3      \n",
              "143 0.4166667    0.2916667   0.6949153    0.7500000   3      \n",
              "144 0.6944444    0.5000000   0.8305085    0.9166667   3      \n",
              "145 0.6666667    0.5416667   0.7966102    1.0000000   3      \n",
              "146 0.6666667    0.4166667   0.7118644    0.9166667   3      \n",
              "147 0.5555556    0.2083333   0.6779661    0.7500000   3      \n",
              "148 0.6111111    0.4166667   0.7118644    0.7916667   3      \n",
              "149 0.5277778    0.5833333   0.7457627    0.9166667   3      \n",
              "150 0.4444444    0.4166667   0.6949153    0.7083333   3      "
            ]
          },
          "metadata": {}
        }
      ]
    },
    {
      "cell_type": "code",
      "source": [
        "# 변수간 상관관계 시각화\n",
        "pairs(df[,-5])"
      ],
      "metadata": {
        "colab": {
          "base_uri": "https://localhost:8080/",
          "height": 437
        },
        "id": "a3Ylb7qlbal8",
        "outputId": "7e4baca5-2007-4e81-aefc-b01c13754fce"
      },
      "execution_count": 8,
      "outputs": [
        {
          "output_type": "display_data",
          "data": {
            "text/plain": [
              "plot without title"
            ],
            "image/png": "[encoded data removed]"
          },
          "metadata": {
            "image/png": {
              "width": 420,
              "height": 420
            }
          }
        }
      ]
    },
    {
      "cell_type": "code",
      "source": [
        "# K-means 클러스터링\n",
        "cluster1 <- kmeans(df[,-5],centers = 2, iter.max=1000)\n",
        "cluster1"
      ],
      "metadata": {
        "colab": {
          "base_uri": "https://localhost:8080/",
          "height": 421
        },
        "id": "eqAAngHjbcsH",
        "outputId": "4f5b0b4e-4876-4e91-a4ad-18f2b2fe468b"
      },
      "execution_count": 9,
      "outputs": [
        {
          "output_type": "display_data",
          "data": {
            "text/plain": [
              "K-means clustering with 2 clusters of sizes 50, 100\n",
              "\n",
              "Cluster means:\n",
              "  Sepal.Length Sepal.Width Petal.Length Petal.Width\n",
              "1    0.1961111   0.5950000   0.07830508  0.06083333\n",
              "2    0.5450000   0.3633333   0.66203390  0.65666667\n",
              "\n",
              "Clustering vector:\n",
              "  [1] 1 1 1 1 1 1 1 1 1 1 1 1 1 1 1 1 1 1 1 1 1 1 1 1 1 1 1 1 1 1 1 1 1 1 1 1 1\n",
              " [38] 1 1 1 1 1 1 1 1 1 1 1 1 1 2 2 2 2 2 2 2 2 2 2 2 2 2 2 2 2 2 2 2 2 2 2 2 2\n",
              " [75] 2 2 2 2 2 2 2 2 2 2 2 2 2 2 2 2 2 2 2 2 2 2 2 2 2 2 2 2 2 2 2 2 2 2 2 2 2\n",
              "[112] 2 2 2 2 2 2 2 2 2 2 2 2 2 2 2 2 2 2 2 2 2 2 2 2 2 2 2 2 2 2 2 2 2 2 2 2 2\n",
              "[149] 2 2\n",
              "\n",
              "Within cluster sum of squares by cluster:\n",
              "[1]  1.829062 10.298729\n",
              " (between_SS / total_SS =  70.5 %)\n",
              "\n",
              "Available components:\n",
              "\n",
              "[1] \"cluster\"      \"centers\"      \"totss\"        \"withinss\"     \"tot.withinss\"\n",
              "[6] \"betweenss\"    \"size\"         \"iter\"         \"ifault\"      "
            ]
          },
          "metadata": {}
        }
      ]
    },
    {
      "cell_type": "code",
      "source": [
        "# 군집내 분산을 계산하여 최적의 k값을 찾는다.\n",
        "# total within-cluster sum of squares\n",
        "tot_withinss <- c()\n",
        "\n",
        "for (i in 1:10){\n",
        "    cluster1 <- kmeans(df[,-5], centers = i, iter.max=1000)\n",
        "    tot_withinss[i] <- cluster1$tot.withinss\n",
        "}\n",
        "\n",
        "plot(c(1:10), tot_withinss, type = \"b\")"
      ],
      "metadata": {
        "colab": {
          "base_uri": "https://localhost:8080/",
          "height": 437
        },
        "id": "kVhaK4i7bevN",
        "outputId": "948f6e94-f248-4d56-dd77-6bab38f8f5e0"
      },
      "execution_count": 10,
      "outputs": [
        {
          "output_type": "display_data",
          "data": {
            "text/plain": [
              "plot without title"
            ],
            "image/png": "[encoded data removed]"
          },
          "metadata": {
            "image/png": {
              "width": 420,
              "height": 420
            }
          }
        }
      ]
    },
    {
      "cell_type": "markdown",
      "source": [
        ">>>**02 연관분석을 이용한 문제 해결**"
      ],
      "metadata": {
        "id": "Dvwob7M_bmij"
      }
    },
    {
      "cell_type": "code",
      "source": [
        "library(dplyr)      # dplyr 패키지 임포트\n",
        "library(ggplot2)    # ggplot2 패키지 임포트\n",
        "\n",
        "# 연관분석을 위한 arules 패키지 설치\n",
        "install.packages(\"arules\")\n",
        "library(arules)"
      ],
      "metadata": {
        "colab": {
          "base_uri": "https://localhost:8080/"
        },
        "id": "K8hLkvURbqM8",
        "outputId": "a6ff83bf-03e5-45f4-9841-25e7c98aafa2"
      },
      "execution_count": 11,
      "outputs": [
        {
          "output_type": "stream",
          "name": "stderr",
          "text": [
            "Installing package into ‘/usr/local/lib/R/site-library’\n",
            "(as ‘lib’ is unspecified)\n",
            "\n",
            "Loading required package: Matrix\n",
            "\n",
            "\n",
            "Attaching package: ‘arules’\n",
            "\n",
            "\n",
            "The following object is masked from ‘package:dplyr’:\n",
            "\n",
            "    recode\n",
            "\n",
            "\n",
            "The following objects are masked from ‘package:base’:\n",
            "\n",
            "    abbreviate, write\n",
            "\n",
            "\n"
          ]
        }
      ]
    },
    {
      "cell_type": "code",
      "source": [
        "# csv 파일을 트랜잭션 형태로 읽어온다.\n",
        "tr <- read.transactions(\"sample_data/retail_dataset.csv\", format=\"basket\", sep=\",\")"
      ],
      "metadata": {
        "id": "HNHfdt9_bwMJ"
      },
      "execution_count": 13,
      "outputs": []
    },
    {
      "cell_type": "code",
      "source": [
        "inspect(tr)"
      ],
      "metadata": {
        "colab": {
          "base_uri": "https://localhost:8080/"
        },
        "id": "bs9KdXJvcDyy",
        "outputId": "d8ce5fa8-47b1-4079-d4e4-dad4e0d17baf"
      },
      "execution_count": 14,
      "outputs": [
        {
          "output_type": "stream",
          "name": "stdout",
          "text": [
            "      items                                             \n",
            "[1]   {0, 1, 2, 3, 4, 5, 6}                             \n",
            "[2]   {Bread, Cheese, Diaper, Eggs, Meat, Pencil, Wine} \n",
            "[3]   {Bread, Cheese, Diaper, Meat, Milk, Pencil, Wine} \n",
            "[4]   {Cheese, Eggs, Meat, Milk, Wine}                  \n",
            "[5]   {Cheese, Eggs, Meat, Milk, Wine}                  \n",
            "[6]   {Meat, Pencil, Wine}                              \n",
            "[7]   {Bagel, Bread, Diaper, Eggs, Milk, Pencil, Wine}  \n",
            "[8]   {Cheese, Eggs, Pencil, Wine}                      \n",
            "[9]   {Bagel, Bread, Diaper, Milk, Pencil}              \n",
            "[10]  {Bread, Cheese, Diaper, Eggs, Milk, Wine}         \n",
            "[11]  {Bagel, Cheese, Diaper, Eggs, Meat, Pencil, Wine} \n",
            "[12]  {Cheese, Eggs, Meat, Milk, Wine}                  \n",
            "[13]  {Bagel, Bread, Diaper, Eggs, Meat, Milk, Wine}    \n",
            "[14]  {Bagel, Bread, Diaper, Meat, Pencil}              \n",
            "[15]  {Bagel, Cheese, Meat, Milk}                       \n",
            "[16]  {Bread}                                           \n",
            "[17]  {Bagel, Diaper, Pencil}                           \n",
            "[18]  {Bagel, Bread, Meat}                              \n",
            "[19]  {Bagel, Bread, Milk}                              \n",
            "[20]  {Diaper}                                          \n",
            "[21]  {Bagel, Bread, Cheese, Diaper, Eggs, Meat}        \n",
            "[22]  {Bread, Cheese, Meat, Pencil}                     \n",
            "[23]  {Bread, Cheese, Eggs, Meat, Milk, Pencil, Wine}   \n",
            "[24]  {Bagel, Cheese, Diaper, Eggs, Meat}               \n",
            "[25]  {Diaper, Eggs, Meat, Pencil, Wine}                \n",
            "[26]  {Bagel, Bread, Cheese, Diaper, Meat, Milk}        \n",
            "[27]  {Pencil}                                          \n",
            "[28]  {Cheese, Eggs, Meat, Milk, Wine}                  \n",
            "[29]  {Bread, Cheese, Diaper, Meat, Milk, Pencil, Wine} \n",
            "[30]  {Bagel, Bread}                                    \n",
            "[31]  {Bread, Cheese, Diaper, Eggs, Meat, Milk}         \n",
            "[32]  {Diaper, Meat}                                    \n",
            "[33]  {Bagel, Bread, Cheese, Diaper, Wine}              \n",
            "[34]  {Bread, Cheese, Milk}                             \n",
            "[35]  {Bagel, Bread, Milk}                              \n",
            "[36]  {Bagel, Bread, Diaper, Meat, Wine}                \n",
            "[37]  {Bread, Cheese, Diaper, Milk, Wine}               \n",
            "[38]  {Bagel, Bread, Milk}                              \n",
            "[39]  {Bagel, Bread, Milk}                              \n",
            "[40]  {Eggs}                                            \n",
            "[41]  {Bagel, Bread, Milk}                              \n",
            "[42]  {Bagel, Bread, Milk}                              \n",
            "[43]  {Meat}                                            \n",
            "[44]  {Bagel, Bread, Cheese, Eggs, Milk, Pencil, Wine}  \n",
            "[45]  {Bagel, Eggs}                                     \n",
            "[46]  {Diaper, Meat, Wine}                              \n",
            "[47]  {Bagel, Bread, Cheese, Diaper, Eggs, Milk, Wine}  \n",
            "[48]  {Cheese, Eggs, Meat, Milk}                        \n",
            "[49]  {Eggs, Wine}                                      \n",
            "[50]  {Cheese, Eggs, Meat, Milk, Wine}                  \n",
            "[51]  {Milk, Wine}                                      \n",
            "[52]  {Diaper}                                          \n",
            "[53]  {Bagel, Bread, Diaper, Milk, Wine}                \n",
            "[54]  {Cheese, Eggs, Meat, Milk, Wine}                  \n",
            "[55]  {Cheese, Eggs, Meat, Milk}                        \n",
            "[56]  {Bread, Cheese, Diaper, Meat, Wine}               \n",
            "[57]  {Cheese, Diaper, Eggs, Milk, Pencil, Wine}        \n",
            "[58]  {Bread, Cheese, Diaper, Eggs, Meat, Milk, Wine}   \n",
            "[59]  {Diaper, Eggs}                                    \n",
            "[60]  {Cheese, Eggs, Meat, Milk, Wine}                  \n",
            "[61]  {Bagel, Bread, Cheese, Diaper, Meat, Pencil, Wine}\n",
            "[62]  {Bagel, Cheese, Milk, Pencil}                     \n",
            "[63]  {Cheese, Diaper, Meat, Wine}                      \n",
            "[64]  {Bagel, Bread, Milk}                              \n",
            "[65]  {Bread, Diaper, Meat, Milk, Pencil, Wine}         \n",
            "[66]  {Cheese, Diaper, Eggs, Pencil, Wine}              \n",
            "[67]  {Bread, Cheese, Diaper, Eggs, Milk, Pencil}       \n",
            "[68]  {Cheese, Milk, Pencil}                            \n",
            "[69]  {Bagel, Bread, Eggs}                              \n",
            "[70]  {Bagel, Bread, Cheese, Diaper, Meat, Pencil}      \n",
            "[71]  {Bagel, Bread, Diaper, Milk}                      \n",
            "[72]  {Bread, Eggs}                                     \n",
            "[73]  {Diaper, Eggs, Milk, Pencil}                      \n",
            "[74]  {Cheese, Meat, Milk, Pencil}                      \n",
            "[75]  {Bagel, Bread, Cheese, Diaper, Meat}              \n",
            "[76]  {Cheese, Eggs, Meat, Milk}                        \n",
            "[77]  {Cheese, Eggs, Meat, Milk}                        \n",
            "[78]  {Bagel, Bread, Cheese, Diaper, Eggs, Pencil, Wine}\n",
            "[79]  {Diaper}                                          \n",
            "[80]  {Cheese, Eggs, Meat, Milk}                        \n",
            "[81]  {Milk}                                            \n",
            "[82]  {Bread, Pencil}                                   \n",
            "[83]  {Cheese, Milk, Wine}                              \n",
            "[84]  {Bagel, Cheese}                                   \n",
            "[85]  {Diaper, Pencil, Wine}                            \n",
            "[86]  {Cheese, Eggs, Meat}                              \n",
            "[87]  {Bagel, Meat, Pencil}                             \n",
            "[88]  {Bagel, Cheese, Eggs, Meat, Wine}                 \n",
            "[89]  {Bagel, Bread, Cheese, Meat, Milk, Wine}          \n",
            "[90]  {Bread, Cheese, Meat, Pencil, Wine}               \n",
            "[91]  {Bagel, Bread, Cheese, Meat, Milk, Pencil, Wine}  \n",
            "[92]  {Bagel, Cheese, Diaper, Milk, Pencil, Wine}       \n",
            "[93]  {Bagel, Bread, Milk}                              \n",
            "[94]  {Cheese, Eggs, Meat, Milk}                        \n",
            "[95]  {Bagel, Cheese, Diaper, Eggs, Meat, Pencil, Wine} \n",
            "[96]  {Bagel, Cheese, Diaper, Eggs, Meat, Milk, Wine}   \n",
            "[97]  {Meat}                                            \n",
            "[98]  {Bagel, Bread, Milk}                              \n",
            "[99]  {Pencil}                                          \n",
            "[100] {Bread, Cheese, Diaper, Wine}                     \n",
            "[101] {Bagel, Meat, Pencil, Wine}                       \n",
            "[102] {Bread, Wine}                                     \n",
            "[103] {Bread, Cheese, Eggs, Milk, Pencil, Wine}         \n",
            "[104] {Bagel, Cheese, Eggs, Meat, Milk}                 \n",
            "[105] {Cheese, Eggs, Meat, Milk}                        \n",
            "[106] {Diaper, Eggs, Meat, Wine}                        \n",
            "[107] {Diaper, Meat}                                    \n",
            "[108] {Bread, Milk, Pencil, Wine}                       \n",
            "[109] {Bagel, Bread, Eggs, Meat, Milk, Pencil, Wine}    \n",
            "[110] {Bagel, Bread, Cheese, Diaper, Meat, Milk, Wine}  \n",
            "[111] {Bagel, Cheese, Diaper, Milk, Wine}               \n",
            "[112] {Bagel, Bread, Milk}                              \n",
            "[113] {Diaper}                                          \n",
            "[114] {Bagel, Bread, Cheese, Eggs, Pencil}              \n",
            "[115] {Bread, Cheese, Eggs}                             \n",
            "[116] {Meat, Milk, Pencil}                              \n",
            "[117] {Bread, Cheese, Diaper, Eggs, Meat, Pencil, Wine} \n",
            "[118] {Cheese, Meat}                                    \n",
            "[119] {Bagel, Bread, Eggs, Meat, Wine}                  \n",
            "[120] {Bagel, Cheese}                                   \n",
            "[121] {Bagel, Diaper, Meat, Pencil, Wine}               \n",
            "[122] {Milk, Pencil}                                    \n",
            "[123] {Bagel, Diaper, Eggs, Pencil, Wine}               \n",
            "[124] {Bread, Cheese, Eggs, Meat, Milk, Pencil, Wine}   \n",
            "[125] {Bagel, Bread, Milk}                              \n",
            "[126] {Bread, Pencil}                                   \n",
            "[127] {Bagel, Eggs, Milk, Wine}                         \n",
            "[128] {Bagel, Cheese, Eggs, Meat, Milk, Pencil, Wine}   \n",
            "[129] {Cheese, Milk}                                    \n",
            "[130] {Bread, Diaper, Milk, Pencil}                     \n",
            "[131] {Bagel, Bread, Milk}                              \n",
            "[132] {Cheese, Eggs, Meat, Milk}                        \n",
            "[133] {Bagel, Bread, Milk}                              \n",
            "[134] {Diaper}                                          \n",
            "[135] {Bagel, Bread, Diaper, Meat, Wine}                \n",
            "[136] {Bagel}                                           \n",
            "[137] {Diaper, Wine}                                    \n",
            "[138] {Bagel, Cheese, Diaper, Eggs, Meat}               \n",
            "[139] {Bagel, Bread, Eggs, Pencil}                      \n",
            "[140] {Bread, Cheese, Eggs, Meat, Milk, Pencil, Wine}   \n",
            "[141] {Eggs, Meat, Pencil}                              \n",
            "[142] {Bagel, Pencil}                                   \n",
            "[143] {Bagel, Bread, Cheese, Eggs, Meat, Pencil}        \n",
            "[144] {Bread, Cheese, Eggs, Milk}                       \n",
            "[145] {Milk}                                            \n",
            "[146] {Bagel, Bread, Cheese, Meat, Pencil}              \n",
            "[147] {Bread, Diaper, Eggs, Wine}                       \n",
            "[148] {Bagel, Bread, Cheese, Eggs, Meat, Wine}          \n",
            "[149] {Bread, Cheese, Meat, Milk}                       \n",
            "[150] {Bread, Cheese, Eggs, Meat, Milk, Pencil}         \n",
            "[151] {Bread}                                           \n",
            "[152] {Bagel, Bread, Diaper, Eggs, Meat, Milk, Pencil}  \n",
            "[153] {Diaper, Milk}                                    \n",
            "[154] {Bagel, Bread, Cheese, Diaper, Eggs, Meat, Wine}  \n",
            "[155] {Bagel, Bread, Cheese, Diaper, Milk, Pencil}      \n",
            "[156] {Diaper}                                          \n",
            "[157] {Cheese, Eggs, Meat, Milk}                        \n",
            "[158] {Bagel, Cheese, Meat, Wine}                       \n",
            "[159] {Cheese, Diaper, Eggs, Milk}                      \n",
            "[160] {Cheese, Eggs, Meat, Pencil, Wine}                \n",
            "[161] {Bagel, Cheese, Eggs, Pencil, Wine}               \n",
            "[162] {Bagel, Diaper}                                   \n",
            "[163] {Meat}                                            \n",
            "[164] {Bread, Eggs, Wine}                               \n",
            "[165] {Bagel, Bread, Eggs, Milk, Pencil, Wine}          \n",
            "[166] {Bagel, Bread, Milk}                              \n",
            "[167] {Bagel, Eggs}                                     \n",
            "[168] {Bread, Cheese, Eggs, Meat, Milk, Wine}           \n",
            "[169] {Meat, Wine}                                      \n",
            "[170] {Bread, Wine}                                     \n",
            "[171] {Eggs, Meat}                                      \n",
            "[172] {Bagel, Cheese, Milk, Pencil, Wine}               \n",
            "[173] {Cheese, Eggs, Meat, Milk}                        \n",
            "[174] {Bagel, Bread, Cheese, Diaper, Pencil}            \n",
            "[175] {Bread, Cheese, Diaper, Pencil}                   \n",
            "[176] {Cheese, Eggs, Meat, Milk}                        \n",
            "[177] {Bagel, Bread, Diaper, Eggs, Meat, Milk, Pencil}  \n",
            "[178] {Bagel, Bread, Milk}                              \n",
            "[179] {Bread, Diaper, Meat, Pencil, Wine}               \n",
            "[180] {Cheese, Eggs}                                    \n",
            "[181] {Cheese, Pencil, Wine}                            \n",
            "[182] {Eggs}                                            \n",
            "[183] {Eggs, Milk, Pencil}                              \n",
            "[184] {Bagel, Bread, Cheese, Eggs, Meat, Milk, Pencil}  \n",
            "[185] {Bagel, Diaper, Meat, Milk, Pencil}               \n",
            "[186] {Cheese, Eggs, Meat, Milk}                        \n",
            "[187] {Bread, Cheese, Wine}                             \n",
            "[188] {Bread, Cheese, Diaper, Milk, Pencil}             \n",
            "[189] {Bagel, Eggs, Meat, Milk, Pencil, Wine}           \n",
            "[190] {Bread, Eggs, Meat, Milk, Wine}                   \n",
            "[191] {Bread}                                           \n",
            "[192] {Bread, Diaper, Meat, Pencil, Wine}               \n",
            "[193] {Cheese, Pencil}                                  \n",
            "[194] {Bread, Diaper}                                   \n",
            "[195] {Bagel, Bread, Diaper, Wine}                      \n",
            "[196] {Bread, Diaper, Wine}                             \n",
            "[197] {Bagel, Bread, Milk}                              \n",
            "[198] {Bagel, Diaper}                                   \n",
            "[199] {Bread, Cheese, Eggs, Meat, Milk, Pencil, Wine}   \n",
            "[200] {Bread, Diaper, Eggs, Pencil, Wine}               \n",
            "[201] {Bread, Diaper, Eggs, Pencil, Wine}               \n",
            "[202] {Bread, Diaper, Wine}                             \n",
            "[203] {Bread, Diaper, Eggs, Wine}                       \n",
            "[204] {Bread, Diaper, Eggs, Milk, Pencil, Wine}         \n",
            "[205] {Cheese, Eggs, Pencil, Wine}                      \n",
            "[206] {Bagel, Bread, Diaper, Milk, Pencil}              \n",
            "[207] {Bread, Cheese, Diaper, Eggs, Milk, Wine}         \n",
            "[208] {Bagel, Cheese, Diaper, Eggs, Meat, Pencil, Wine} \n",
            "[209] {Cheese, Eggs, Meat, Milk, Wine}                  \n",
            "[210] {Bagel, Bread, Diaper, Eggs, Meat, Milk, Wine}    \n",
            "[211] {Bagel, Bread, Diaper, Meat, Pencil}              \n",
            "[212] {Bagel, Cheese, Meat, Milk}                       \n",
            "[213] {Bread}                                           \n",
            "[214] {Bagel, Diaper, Pencil}                           \n",
            "[215] {Bagel, Bread, Meat}                              \n",
            "[216] {Bagel, Bread, Milk}                              \n",
            "[217] {Diaper}                                          \n",
            "[218] {Bagel, Bread, Cheese, Diaper, Eggs, Meat}        \n",
            "[219] {Bread, Cheese, Meat, Pencil}                     \n",
            "[220] {Bread, Cheese, Eggs, Meat, Milk, Pencil, Wine}   \n",
            "[221] {Bagel, Cheese, Diaper, Eggs, Meat}               \n",
            "[222] {Diaper, Eggs, Meat, Pencil, Wine}                \n",
            "[223] {Bagel, Bread, Cheese, Diaper, Meat, Milk}        \n",
            "[224] {Pencil}                                          \n",
            "[225] {Cheese, Eggs, Meat, Milk, Wine}                  \n",
            "[226] {Bread, Cheese, Diaper, Meat, Milk, Pencil, Wine} \n",
            "[227] {Bagel, Bread}                                    \n",
            "[228] {Bread, Cheese, Diaper, Eggs, Meat, Milk}         \n",
            "[229] {Diaper, Meat}                                    \n",
            "[230] {Bagel, Bread, Cheese, Diaper, Wine}              \n",
            "[231] {Bread, Cheese, Milk}                             \n",
            "[232] {Bagel, Bread, Milk}                              \n",
            "[233] {Bagel, Bread, Diaper, Meat, Wine}                \n",
            "[234] {Bread, Cheese, Diaper, Milk, Wine}               \n",
            "[235] {Bagel, Bread, Milk}                              \n",
            "[236] {Bagel, Bread, Milk}                              \n",
            "[237] {Eggs}                                            \n",
            "[238] {Bagel, Bread, Milk}                              \n",
            "[239] {Bagel, Bread, Milk}                              \n",
            "[240] {Meat}                                            \n",
            "[241] {Bagel, Bread, Cheese, Eggs, Milk, Pencil, Wine}  \n",
            "[242] {Bagel, Eggs}                                     \n",
            "[243] {Diaper, Meat, Wine}                              \n",
            "[244] {Bagel, Bread, Cheese, Diaper, Eggs, Milk, Wine}  \n",
            "[245] {Cheese, Eggs, Meat, Milk}                        \n",
            "[246] {Eggs, Wine}                                      \n",
            "[247] {Cheese, Eggs, Meat, Milk, Wine}                  \n",
            "[248] {Milk, Wine}                                      \n",
            "[249] {Diaper}                                          \n",
            "[250] {Bagel, Bread, Diaper, Milk, Wine}                \n",
            "[251] {Cheese, Eggs, Meat, Milk, Wine}                  \n",
            "[252] {Cheese, Eggs, Meat, Milk}                        \n",
            "[253] {Bread, Cheese, Diaper, Meat, Wine}               \n",
            "[254] {Cheese, Diaper, Eggs, Milk, Pencil, Wine}        \n",
            "[255] {Bread, Cheese, Diaper, Eggs, Meat, Milk, Wine}   \n",
            "[256] {Diaper, Eggs}                                    \n",
            "[257] {Cheese, Eggs, Meat, Milk, Wine}                  \n",
            "[258] {Bagel, Bread, Cheese, Diaper, Meat, Pencil, Wine}\n",
            "[259] {Bagel, Cheese, Milk, Pencil}                     \n",
            "[260] {Cheese, Diaper, Meat, Wine}                      \n",
            "[261] {Bagel, Bread, Milk}                              \n",
            "[262] {Bread, Diaper, Meat, Milk, Pencil, Wine}         \n",
            "[263] {Cheese, Diaper, Eggs, Pencil, Wine}              \n",
            "[264] {Bread, Cheese, Diaper, Eggs, Milk, Pencil}       \n",
            "[265] {Cheese, Milk, Pencil}                            \n",
            "[266] {Bagel, Bread, Eggs}                              \n",
            "[267] {Bagel, Bread, Cheese, Diaper, Meat, Pencil}      \n",
            "[268] {Bagel, Bread, Diaper, Milk}                      \n",
            "[269] {Bread, Eggs}                                     \n",
            "[270] {Diaper, Eggs, Milk, Pencil}                      \n",
            "[271] {Cheese, Meat, Milk, Pencil}                      \n",
            "[272] {Bagel, Bread, Cheese, Diaper, Meat}              \n",
            "[273] {Cheese, Eggs, Meat, Milk}                        \n",
            "[274] {Cheese, Eggs, Meat, Milk}                        \n",
            "[275] {Bagel, Bread, Cheese, Diaper, Eggs, Pencil, Wine}\n",
            "[276] {Diaper}                                          \n",
            "[277] {Cheese, Eggs, Meat, Milk}                        \n",
            "[278] {Milk}                                            \n",
            "[279] {Bread, Pencil}                                   \n",
            "[280] {Cheese, Milk, Wine}                              \n",
            "[281] {Bagel, Cheese}                                   \n",
            "[282] {Diaper, Pencil, Wine}                            \n",
            "[283] {Cheese, Eggs, Meat}                              \n",
            "[284] {Bagel, Meat, Pencil}                             \n",
            "[285] {Bagel, Cheese, Eggs, Meat, Wine}                 \n",
            "[286] {Bagel, Bread, Cheese, Meat, Milk, Wine}          \n",
            "[287] {Bread, Cheese, Meat, Pencil, Wine}               \n",
            "[288] {Bagel, Bread, Cheese, Meat, Milk, Pencil, Wine}  \n",
            "[289] {Bagel, Cheese, Diaper, Milk, Pencil, Wine}       \n",
            "[290] {Bagel, Bread, Milk}                              \n",
            "[291] {Cheese, Eggs, Meat, Milk}                        \n",
            "[292] {Bagel, Cheese, Diaper, Eggs, Meat, Pencil, Wine} \n",
            "[293] {Bagel, Cheese, Diaper, Eggs, Meat, Milk, Wine}   \n",
            "[294] {Meat}                                            \n",
            "[295] {Bagel, Bread, Milk}                              \n",
            "[296] {Pencil}                                          \n",
            "[297] {Bread, Cheese, Diaper, Wine}                     \n",
            "[298] {Bagel, Meat, Pencil, Wine}                       \n",
            "[299] {Bread, Wine}                                     \n",
            "[300] {Bread, Cheese, Eggs, Milk, Pencil, Wine}         \n",
            "[301] {Bagel, Cheese, Eggs, Meat, Milk}                 \n",
            "[302] {Cheese, Eggs, Meat, Milk}                        \n",
            "[303] {Diaper, Eggs, Meat, Wine}                        \n",
            "[304] {Diaper, Meat}                                    \n",
            "[305] {Bread, Milk, Pencil, Wine}                       \n",
            "[306] {Bagel, Bread, Eggs, Meat, Milk, Pencil, Wine}    \n",
            "[307] {Bagel, Bread, Cheese, Diaper, Meat, Milk, Wine}  \n",
            "[308] {Bagel, Cheese, Diaper, Milk, Wine}               \n",
            "[309] {Bagel, Bread, Milk}                              \n",
            "[310] {Diaper}                                          \n",
            "[311] {Bagel, Bread, Cheese, Eggs, Pencil}              \n",
            "[312] {Bread, Cheese, Eggs}                             \n",
            "[313] {Meat, Milk, Pencil}                              \n",
            "[314] {Bread, Cheese, Diaper, Eggs, Meat, Pencil, Wine} \n",
            "[315] {Cheese, Meat}                                    \n",
            "[316] {Bagel, Bread, Eggs, Meat, Wine}                  \n"
          ]
        }
      ]
    },
    {
      "cell_type": "code",
      "source": [
        "tr <- tr[-1]\n",
        "inspect(tr[1:5])"
      ],
      "metadata": {
        "colab": {
          "base_uri": "https://localhost:8080/"
        },
        "id": "sDrUQS6ScFMD",
        "outputId": "0a02a663-63c3-4ada-88e2-1771a988b15e"
      },
      "execution_count": 15,
      "outputs": [
        {
          "output_type": "stream",
          "name": "stdout",
          "text": [
            "    items                                            \n",
            "[1] {Bread, Cheese, Diaper, Eggs, Meat, Pencil, Wine}\n",
            "[2] {Bread, Cheese, Diaper, Meat, Milk, Pencil, Wine}\n",
            "[3] {Cheese, Eggs, Meat, Milk, Wine}                 \n",
            "[4] {Cheese, Eggs, Meat, Milk, Wine}                 \n",
            "[5] {Meat, Pencil, Wine}                             \n"
          ]
        }
      ]
    },
    {
      "cell_type": "code",
      "source": [
        "# 트랜잭션 특징 확인\n",
        "summary(tr)"
      ],
      "metadata": {
        "colab": {
          "base_uri": "https://localhost:8080/",
          "height": 403
        },
        "id": "p0x8UnaucGre",
        "outputId": "5173247f-56ae-42ac-c109-01fd55323ded"
      },
      "execution_count": 16,
      "outputs": [
        {
          "output_type": "display_data",
          "data": {
            "text/plain": [
              "transactions as itemMatrix in sparse format with\n",
              " 315 rows (elements/itemsets/transactions) and\n",
              " 16 columns (items) and a density of 0.253373 \n",
              "\n",
              "most frequent items:\n",
              "  Bread  Cheese    Milk    Meat    Eggs (Other) \n",
              "    159     158     158     150     138     514 \n",
              "\n",
              "element (itemset/transaction) length distribution:\n",
              "sizes\n",
              " 1  2  3  4  5  6  7 \n",
              "30 40 58 54 62 30 41 \n",
              "\n",
              "   Min. 1st Qu.  Median    Mean 3rd Qu.    Max. \n",
              "  1.000   3.000   4.000   4.054   5.000   7.000 \n",
              "\n",
              "includes extended item information - examples:\n",
              "  labels\n",
              "1      0\n",
              "2      1\n",
              "3      2"
            ]
          },
          "metadata": {}
        }
      ]
    },
    {
      "cell_type": "code",
      "source": [
        "# apriori 함수 적용\n",
        "rules <- apriori(tr, parameter = list(support=0.2, confidence=0.5))\n",
        "rules"
      ],
      "metadata": {
        "colab": {
          "base_uri": "https://localhost:8080/",
          "height": 421
        },
        "id": "1eQdfYeXcJMw",
        "outputId": "02095bab-e5bf-4f65-e9d2-5ec5dd8d7697"
      },
      "execution_count": 17,
      "outputs": [
        {
          "output_type": "stream",
          "name": "stdout",
          "text": [
            "Apriori\n",
            "\n",
            "Parameter specification:\n",
            " confidence minval smax arem  aval originalSupport maxtime support minlen\n",
            "        0.5    0.1    1 none FALSE            TRUE       5     0.2      1\n",
            " maxlen target  ext\n",
            "     10  rules TRUE\n",
            "\n",
            "Algorithmic control:\n",
            " filter tree heap memopt load sort verbose\n",
            "    0.1 TRUE TRUE  FALSE TRUE    2    TRUE\n",
            "\n",
            "Absolute minimum support count: 63 \n",
            "\n",
            "set item appearances ...[0 item(s)] done [0.00s].\n",
            "set transactions ...[9 item(s), 315 transaction(s)] done [0.00s].\n",
            "sorting and recoding items ... [9 item(s)] done [0.00s].\n",
            "creating transaction tree ... done [0.00s].\n",
            "checking subsets of size 1 2 3 done [0.00s].\n",
            "writing ... [38 rule(s)] done [0.00s].\n",
            "creating S4 object  ... done [0.00s].\n"
          ]
        },
        {
          "output_type": "display_data",
          "data": {
            "text/plain": [
              "set of 38 rules "
            ]
          },
          "metadata": {}
        }
      ]
    },
    {
      "cell_type": "code",
      "source": [
        "# 도출된 규칙 출력\n",
        "inspect(sort(rules, by=c(\"confidence\"), decresing=T))"
      ],
      "metadata": {
        "colab": {
          "base_uri": "https://localhost:8080/"
        },
        "id": "KOsHWNV4cKyI",
        "outputId": "de1bc384-04ce-47df-aabd-df7cf8f7492c"
      },
      "execution_count": 18,
      "outputs": [
        {
          "output_type": "stream",
          "name": "stdout",
          "text": [
            "     lhs               rhs      support   confidence coverage  lift      count\n",
            "[1]  {Meat, Milk}   => {Cheese} 0.2031746 0.8311688  0.2444444 1.6570771  64  \n",
            "[2]  {Eggs, Meat}   => {Cheese} 0.2158730 0.8095238  0.2666667 1.6139241  68  \n",
            "[3]  {Cheese, Eggs} => {Meat}   0.2158730 0.7234043  0.2984127 1.5191489  68  \n",
            "[4]  {Eggs}         => {Cheese} 0.2984127 0.6811594  0.4380952 1.3580077  94  \n",
            "[5]  {Meat}         => {Cheese} 0.3238095 0.6800000  0.4761905 1.3556962 102  \n",
            "[6]  {Cheese, Meat} => {Eggs}   0.2158730 0.6666667  0.3238095 1.5217391  68  \n",
            "[7]  {Cheese, Milk} => {Meat}   0.2031746 0.6666667  0.3047619 1.4000000  64  \n",
            "[8]  {Bagel}        => {Bread}  0.2793651 0.6567164  0.4253968 1.3010420  88  \n",
            "[9]  {Cheese}       => {Meat}   0.3238095 0.6455696  0.5015873 1.3556962 102  \n",
            "[10] {Cheese, Meat} => {Milk}   0.2031746 0.6274510  0.3238095 1.2509308  64  \n",
            "[11] {Wine}         => {Cheese} 0.2698413 0.6159420  0.4380952 1.2279857  85  \n",
            "[12] {Eggs}         => {Meat}   0.2666667 0.6086957  0.4380952 1.2782609  84  \n",
            "[13] {Milk}         => {Cheese} 0.3047619 0.6075949  0.5015873 1.2113443  96  \n",
            "[14] {Cheese}       => {Milk}   0.3047619 0.6075949  0.5015873 1.2113443  96  \n",
            "[15] {Cheese}       => {Eggs}   0.2984127 0.5949367  0.5015873 1.3580077  94  \n",
            "[16] {Diaper}       => {Wine}   0.2349206 0.5781250  0.4063492 1.3196332  74  \n",
            "[17] {Wine}         => {Meat}   0.2507937 0.5724638  0.4380952 1.2021739  79  \n",
            "[18] {Diaper}       => {Bread}  0.2317460 0.5703125  0.4063492 1.1298644  73  \n",
            "[19] {Meat}         => {Eggs}   0.2666667 0.5600000  0.4761905 1.2782609  84  \n",
            "[20] {Eggs}         => {Milk}   0.2444444 0.5579710  0.4380952 1.1124106  77  \n",
            "[21] {Wine}         => {Bread}  0.2444444 0.5579710  0.4380952 1.1054143  77  \n",
            "[22] {Milk}         => {Bread}  0.2793651 0.5569620  0.5015873 1.1034153  88  \n",
            "[23] {Bread}        => {Bagel}  0.2793651 0.5534591  0.5047619 1.3010420  88  \n",
            "[24] {Bread}        => {Milk}   0.2793651 0.5534591  0.5047619 1.1034153  88  \n",
            "[25] {Pencil}       => {Wine}   0.2000000 0.5526316  0.3619048 1.2614416  63  \n",
            "[26] {Pencil}       => {Bread}  0.2000000 0.5526316  0.3619048 1.0948361  63  \n",
            "[27] {Pencil}       => {Cheese} 0.2000000 0.5526316  0.3619048 1.1017655  63  \n",
            "[28] {Eggs}         => {Wine}   0.2412698 0.5507246  0.4380952 1.2570888  76  \n",
            "[29] {Wine}         => {Eggs}   0.2412698 0.5507246  0.4380952 1.2570888  76  \n",
            "[30] {Cheese}       => {Wine}   0.2698413 0.5379747  0.5015873 1.2279857  85  \n",
            "[31] {Wine}         => {Diaper} 0.2349206 0.5362319  0.4380952 1.3196332  74  \n",
            "[32] {Bagel}        => {Milk}   0.2253968 0.5298507  0.4253968 1.0563480  71  \n",
            "[33] {Meat}         => {Wine}   0.2507937 0.5266667  0.4761905 1.2021739  79  \n",
            "[34] {Meat}         => {Milk}   0.2444444 0.5133333  0.4761905 1.0234177  77  \n",
            "[35] {}             => {Bread}  0.5047619 0.5047619  1.0000000 1.0000000 159  \n",
            "[36] {}             => {Milk}   0.5015873 0.5015873  1.0000000 1.0000000 158  \n",
            "[37] {}             => {Cheese} 0.5015873 0.5015873  1.0000000 1.0000000 158  \n",
            "[38] {Wine}         => {Milk}   0.2190476 0.5000000  0.4380952 0.9968354  69  \n"
          ]
        }
      ]
    }
  ]
}