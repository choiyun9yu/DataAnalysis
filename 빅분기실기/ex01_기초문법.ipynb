{
 "cells": [
  {
   "attachments": {},
   "cell_type": "markdown",
   "metadata": {},
   "source": [
    "# 1.내장함수"
   ]
  },
  {
   "attachments": {},
   "cell_type": "markdown",
   "metadata": {},
   "source": [
    "## 1)문자열 내장함수"
   ]
  },
  {
   "cell_type": "code",
   "execution_count": 1,
   "metadata": {},
   "outputs": [
    {
     "data": {
      "text/plain": [
       "2"
      ]
     },
     "execution_count": 1,
     "metadata": {},
     "output_type": "execute_result"
    }
   ],
   "source": [
    "# count() : 문자열 내의 특정 문자 개수 세기\n",
    "str = \"python programming\"\n",
    "str.count('p')"
   ]
  },
  {
   "cell_type": "code",
   "execution_count": 2,
   "metadata": {},
   "outputs": [
    {
     "data": {
      "text/plain": [
       "'p/y/t/h/o/n/ /p/r/o/g/m/r/a/m/i/n/g'"
      ]
     },
     "execution_count": 2,
     "metadata": {},
     "output_type": "execute_result"
    }
   ],
   "source": [
    "# join() : 문자열 삽입\n",
    "\"/\".join(\"python progmraming\")"
   ]
  },
  {
   "cell_type": "code",
   "execution_count": 3,
   "metadata": {},
   "outputs": [
    {
     "data": {
      "text/plain": [
       "13"
      ]
     },
     "execution_count": 3,
     "metadata": {},
     "output_type": "execute_result"
    }
   ],
   "source": [
    "# firnd() : 찾는 문자열이 처음 나온 인덱스 반환\n",
    "str = \"python programming\"\n",
    "str.find('m')"
   ]
  },
  {
   "cell_type": "code",
   "execution_count": 6,
   "metadata": {},
   "outputs": [
    {
     "name": "stdout",
     "output_type": "stream",
     "text": [
      "PYTHON PROGRAMMING\n",
      "python programming\n"
     ]
    }
   ],
   "source": [
    "# upper() : 소문자를 대문자로 변환\n",
    "str = \"python programming\"\n",
    "str = str.upper()\n",
    "print(str)\n",
    "\n",
    "# lower() : 대분자를 소문자로 변환\n",
    "str = str.lower()\n",
    "print(str)"
   ]
  },
  {
   "cell_type": "code",
   "execution_count": 8,
   "metadata": {},
   "outputs": [
    {
     "data": {
      "text/plain": [
       "'Java Programming'"
      ]
     },
     "execution_count": 8,
     "metadata": {},
     "output_type": "execute_result"
    }
   ],
   "source": [
    "# repace() : 문자열 내의 특정 값을 다른 값으로 치환\n",
    "str=\"Python Programming\"\n",
    "str.replace(\"Python\", \"Java\") "
   ]
  },
  {
   "cell_type": "code",
   "execution_count": 9,
   "metadata": {},
   "outputs": [
    {
     "data": {
      "text/plain": [
       "['Python', 'Programming']"
      ]
     },
     "execution_count": 9,
     "metadata": {},
     "output_type": "execute_result"
    }
   ],
   "source": [
    "# split() : 공백 또는 특정 문자를 구분자로 문자열 분리\n",
    "str = \"Python Programming\"\n",
    "str.split()"
   ]
  },
  {
   "attachments": {},
   "cell_type": "markdown",
   "metadata": {},
   "source": [
    "## 2) 시퀀스 자료형의 내장함수"
   ]
  },
  {
   "attachments": {},
   "cell_type": "markdown",
   "metadata": {},
   "source": [
    "### (1)리스트 내장함수\n"
   ]
  },
  {
   "cell_type": "code",
   "execution_count": 18,
   "metadata": {},
   "outputs": [
    {
     "name": "stdout",
     "output_type": "stream",
     "text": [
      "['a', 'b', 'c', 'd']\n",
      "['a', 'a', 'b', 'c', 'd']\n",
      "['a', 'f', 'b', 'c', 'd']\n",
      "['a', 'b', 'c', 'd']\n",
      "['a', 'c', 'd']\n"
     ]
    }
   ],
   "source": [
    "arr = ['a', 'b', 'c']\n",
    "\n",
    "# append() : 리스트 맨 뒤에 추가\n",
    "arr.append('d')\n",
    "print(arr)\n",
    "\n",
    "# insert() : 원하는 인덱스에 추가\n",
    "arr.insert(1, 'a')\n",
    "print(arr)\n",
    "\n",
    "# 리스트 원소 수정\n",
    "arr[1] = 'f'\n",
    "print(arr)\n",
    "\n",
    "# 인덱스 번호로 리스트 원소 삭제\n",
    "del arr[1]\n",
    "print(arr)\n",
    "\n",
    "# 요소로 리스트 원소 삭제(가장 앞에 있는 것 하나만 삭제)\n",
    "arr.remove('b')\n",
    "print(arr)\n",
    "\n",
    "# index() : 해당 원소가 위치한 인덱스 값 반환\n",
    "# sort() : 정렬\n",
    "# reverse() : 역순으로 배열\n",
    "# count() : 해당 원소 포함된 갯수 반환"
   ]
  },
  {
   "attachments": {},
   "cell_type": "markdown",
   "metadata": {},
   "source": [
    "### (2)튜플과 딕셔너리의 내장함수"
   ]
  },
  {
   "cell_type": "code",
   "execution_count": 19,
   "metadata": {},
   "outputs": [
    {
     "name": "stdout",
     "output_type": "stream",
     "text": [
      "dict_keys([1, 2, 3])\n",
      "dict_values(['python', 30, 'programming'])\n",
      "dict_items([(1, 'a'), (2, 'b'), (3, 'c')])\n",
      "30\n"
     ]
    }
   ],
   "source": [
    "dic1 = {1:'a', 2:'b', 3:'c'}\n",
    "dic2 = {'name':'python', 'age':30, 'job':'programming'}\n",
    "\n",
    "# keys() : key만 모아서 dict_keys 객체로 반환\n",
    "print(dic1.keys())\n",
    "\n",
    "# values() : value만 모아서 dict_values 객체로 반환\n",
    "print(dic2.values())\n",
    "\n",
    "# items() : key와 value를 튜플로 묶은 값들을 모아서 dict_items 객체로 반환\n",
    "print(dic1.items())\n",
    "\n",
    "# in : key가 딕셔너리 안에 있는지 조사\n",
    "if 'age' in dic2:\n",
    "# get() : key에 대응되는 value를 반환\n",
    "    print(dic2.get('age'))\n",
    "\n",
    "  "
   ]
  },
  {
   "attachments": {},
   "cell_type": "markdown",
   "metadata": {},
   "source": [
    "# 2.넘파이"
   ]
  },
  {
   "cell_type": "code",
   "execution_count": 34,
   "metadata": {},
   "outputs": [
    {
     "name": "stdout",
     "output_type": "stream",
     "text": [
      "[1 2 3 4 5]\n",
      "[[ 1.04392537  1.50300345  0.082844  ]\n",
      " [ 1.21109755  1.34862366 -1.33074978]]\n",
      "[[0. 0. 0.]\n",
      " [0. 0. 0.]]\n",
      "[ 1  2  3  4  5  6  7  8  9 10 11 12 13 14 15 16 17 18 19 20]\n",
      "[[ 1  2  3  4  5  6  7  8  9 10]\n",
      " [11 12 13 14 15 16 17 18 19 20]]\n",
      "[[False  True  True]\n",
      " [False False  True]\n",
      " [ True  True  True]]\n",
      "2\n",
      "[[ 5  7  9]\n",
      " [ 0  0 19]\n",
      " [ 6  9 11]]\n"
     ]
    }
   ],
   "source": [
    "import numpy as np\n",
    "\n",
    "# array() : 리스트, 튜플 등 데이터를 이용하여 ndarray객체 생성\n",
    "arr1 = np.array([1,2,3,4,5])\n",
    "print(arr1)\n",
    "\n",
    "# random.randn(행,열) : 가우시안 정규분포를 갖는 난수 생성, 숫자 하나만 적으면 1행 n열 \n",
    "arr2 = np.random.randn(2,3)\n",
    "print(arr2)\n",
    "\n",
    "# zeros((행,열)) : narray 객체 생성후 0으로 초기화\n",
    "# ones() : narray 객체 생성 후 1로 초기화\n",
    "arr0 = np.zeros((2,3))\n",
    "print(arr0)\n",
    "\n",
    "# arange(이상,미만,간격) : 내장함수 range()와 동일한 기능\n",
    "arr3 = np.arange(1,21,1)\n",
    "print(arr3)\n",
    "\n",
    "# reshape(행,열) : narray의 차원을 재구성\n",
    "arr4=arr3.reshape(2,10)\n",
    "print(arr4)\n",
    "\n",
    "# where : 조건식에 따라 배열의 요소 값을 특정 값으로 변경\n",
    "arr5 = np.array([[5,7,9],\n",
    "               [-7,-6,19],\n",
    "               [6,9,11]])\n",
    "print(arr5>5)\n",
    "\n",
    "m_count = (arr5<0).sum()\n",
    "print(m_count)\n",
    "\n",
    "arr6 = np.where(arr5<0, 0, arr5)    # arr5의 원소가 0보다 작으면 0으로 변경, 그렇지 않으면 arr5값 대입\n",
    "print(arr6)\n",
    "# sort() : 배열 오름차순 정렬\n",
    "# sum(), mean(), max(), min() : 집계 함수\n",
    "# argmax() : 열 또는 행의 요소 중 최대값을 가지는 요소의 인덱스 반환\n",
    "# argmin() : 열 또는 행의 요소 중 최소값을 가지는 요소의 인덱스 반환"
   ]
  },
  {
   "attachments": {},
   "cell_type": "markdown",
   "metadata": {},
   "source": [
    "# 3. 판다스"
   ]
  },
  {
   "attachments": {},
   "cell_type": "markdown",
   "metadata": {},
   "source": [
    "## 1) 시리즈"
   ]
  },
  {
   "cell_type": "code",
   "execution_count": 40,
   "metadata": {},
   "outputs": [
    {
     "name": "stdout",
     "output_type": "stream",
     "text": [
      "0    10\n",
      "1    30\n",
      "2    20\n",
      "3    40\n",
      "4    60\n",
      "dtype: int64\n",
      "[10 30 20 40 60]\n",
      "RangeIndex(start=0, stop=5, step=1)\n",
      "20\n",
      "a    10\n",
      "b    30\n",
      "c    20\n",
      "d    40\n",
      "e    60\n",
      "dtype: int64\n",
      "10 10\n",
      "b    30\n",
      "c    20\n",
      "dtype: int64\n",
      "a    10\n",
      "c    20\n",
      "dtype: int64\n"
     ]
    }
   ],
   "source": [
    "import pandas as pd\n",
    "\n",
    "# 시리즈 객체 생성\n",
    "sr1 = pd.Series([10, 30, 20, 40, 60])\n",
    "print(sr1)\n",
    "\n",
    "# 시리즈 객체의 값과 인덱스 확인\n",
    "print(sr1.values)\n",
    "print(sr1.index)\n",
    "print(sr1[2])\n",
    "\n",
    "# 시리즈 객체 인덱스 설정하기\n",
    "sr1 = pd.Series([10, 30, 20, 40, 60], index=['a', 'b', 'c', 'd', 'e'])\n",
    "print(sr1)\n",
    "print(sr1[0], sr1['a'])\n",
    "\n",
    "# 원소 선택\n",
    "print(sr1[[1,2]])\n",
    "print(sr1[['a','c']])\n"
   ]
  },
  {
   "attachments": {},
   "cell_type": "markdown",
   "metadata": {},
   "source": [
    "## 2) 데이터프레임"
   ]
  },
  {
   "cell_type": "code",
   "execution_count": 45,
   "metadata": {},
   "outputs": [
    {
     "name": "stdout",
     "output_type": "stream",
     "text": [
      "    0   1   2\n",
      "0  10  20  30\n",
      "1  40  50  60\n",
      "  fruit  price  qty\n",
      "0    사과    100   10\n",
      "1     배    200   25\n",
      "2     감     10   30\n",
      "3     귤     50   20\n",
      "4   바나나    200   15\n",
      "  fruit  price  qty\n",
      "a    사과    100   10\n",
      "b     배    200   25\n",
      "c     감     10   30\n",
      "d     귤     50   20\n",
      "e   바나나    200   15\n",
      "     과일   가격  수량\n",
      "01   사과  100  10\n",
      "02    배  200  25\n",
      "03    감   10  30\n",
      "04    귤   50  20\n",
      "05  바나나  200  15\n"
     ]
    }
   ],
   "source": [
    "# 데이터프레임 객체 생성\n",
    "df1 = pd.DataFrame([[10, 20, 30],\n",
    "                    [40, 50, 60]])\n",
    "print(df1)\n",
    "\n",
    "# 딕셔너리를 이용한 데이터프레임 생성\n",
    "dic1 = {\n",
    "    'fruit' : ['사과', '배', '감', '귤', '바나나'],\n",
    "    'price' : [100, 200, 10, 50, 200],\n",
    "    'qty' : [10, 25, 30, 20, 15]\n",
    "}\n",
    "df2 = pd.DataFrame(dic1)\n",
    "print(df2)\n",
    "\n",
    "# 데이터프레임 객체의 인덱스/열이름 정하기\n",
    "df3 = pd.DataFrame(dic1, index=['a', 'b', 'c', 'd', 'e'])\n",
    "print(df3)\n",
    "\n",
    "# rename() : 생성된 데이터프레임의 인덱스와 칼럼명을 변경할 때 사용, inplace=Ture 옵션 있음\n",
    "df3.rename(columns = {'fruit':'과일', 'price':'가격', 'qty':'수량'}, inplace=True)\n",
    "df3.rename(index = {'a':'01', 'b':'02', 'c':'03', 'd':'04', 'e':'05'}, inplace=True)\n",
    "print(df3)"
   ]
  },
  {
   "attachments": {},
   "cell_type": "markdown",
   "metadata": {},
   "source": [
    "## 3) 데이터 살펴보기"
   ]
  },
  {
   "cell_type": "code",
   "execution_count": 47,
   "metadata": {},
   "outputs": [
    {
     "data": {
      "text/html": [
       "<div>\n",
       "<style scoped>\n",
       "    .dataframe tbody tr th:only-of-type {\n",
       "        vertical-align: middle;\n",
       "    }\n",
       "\n",
       "    .dataframe tbody tr th {\n",
       "        vertical-align: top;\n",
       "    }\n",
       "\n",
       "    .dataframe thead th {\n",
       "        text-align: right;\n",
       "    }\n",
       "</style>\n",
       "<table border=\"1\" class=\"dataframe\">\n",
       "  <thead>\n",
       "    <tr style=\"text-align: right;\">\n",
       "      <th></th>\n",
       "      <th>학번</th>\n",
       "      <th>중간</th>\n",
       "      <th>기말</th>\n",
       "      <th>리포트</th>\n",
       "      <th>퀴즈</th>\n",
       "    </tr>\n",
       "  </thead>\n",
       "  <tbody>\n",
       "    <tr>\n",
       "      <th>0</th>\n",
       "      <td>S01</td>\n",
       "      <td>90</td>\n",
       "      <td>95</td>\n",
       "      <td>20</td>\n",
       "      <td>20</td>\n",
       "    </tr>\n",
       "    <tr>\n",
       "      <th>1</th>\n",
       "      <td>S02</td>\n",
       "      <td>82</td>\n",
       "      <td>83</td>\n",
       "      <td>18</td>\n",
       "      <td>18</td>\n",
       "    </tr>\n",
       "    <tr>\n",
       "      <th>2</th>\n",
       "      <td>S03</td>\n",
       "      <td>80</td>\n",
       "      <td>78</td>\n",
       "      <td>18</td>\n",
       "      <td>18</td>\n",
       "    </tr>\n",
       "    <tr>\n",
       "      <th>3</th>\n",
       "      <td>S04</td>\n",
       "      <td>78</td>\n",
       "      <td>75</td>\n",
       "      <td>10</td>\n",
       "      <td>10</td>\n",
       "    </tr>\n",
       "    <tr>\n",
       "      <th>4</th>\n",
       "      <td>S05</td>\n",
       "      <td>93</td>\n",
       "      <td>91</td>\n",
       "      <td>12</td>\n",
       "      <td>12</td>\n",
       "    </tr>\n",
       "    <tr>\n",
       "      <th>5</th>\n",
       "      <td>S06</td>\n",
       "      <td>71</td>\n",
       "      <td>75</td>\n",
       "      <td>16</td>\n",
       "      <td>16</td>\n",
       "    </tr>\n",
       "    <tr>\n",
       "      <th>6</th>\n",
       "      <td>S07</td>\n",
       "      <td>60</td>\n",
       "      <td>80</td>\n",
       "      <td>18</td>\n",
       "      <td>18</td>\n",
       "    </tr>\n",
       "    <tr>\n",
       "      <th>7</th>\n",
       "      <td>S08</td>\n",
       "      <td>72</td>\n",
       "      <td>65</td>\n",
       "      <td>14</td>\n",
       "      <td>14</td>\n",
       "    </tr>\n",
       "    <tr>\n",
       "      <th>8</th>\n",
       "      <td>S09</td>\n",
       "      <td>65</td>\n",
       "      <td>65</td>\n",
       "      <td>14</td>\n",
       "      <td>14</td>\n",
       "    </tr>\n",
       "    <tr>\n",
       "      <th>9</th>\n",
       "      <td>S10</td>\n",
       "      <td>85</td>\n",
       "      <td>78</td>\n",
       "      <td>10</td>\n",
       "      <td>10</td>\n",
       "    </tr>\n",
       "  </tbody>\n",
       "</table>\n",
       "</div>"
      ],
      "text/plain": [
       "    학번  중간  기말  리포트  퀴즈\n",
       "0  S01  90  95   20  20\n",
       "1  S02  82  83   18  18\n",
       "2  S03  80  78   18  18\n",
       "3  S04  78  75   10  10\n",
       "4  S05  93  91   12  12\n",
       "5  S06  71  75   16  16\n",
       "6  S07  60  80   18  18\n",
       "7  S08  72  65   14  14\n",
       "8  S09  65  65   14  14\n",
       "9  S10  85  78   10  10"
      ]
     },
     "execution_count": 47,
     "metadata": {},
     "output_type": "execute_result"
    }
   ],
   "source": [
    "# CSV 파일 로드\n",
    "df1 = pd.read_csv('./csv/df_sample.csv')\n",
    "df1"
   ]
  },
  {
   "cell_type": "code",
   "execution_count": 60,
   "metadata": {},
   "outputs": [
    {
     "name": "stdout",
     "output_type": "stream",
     "text": [
      "    학번  중간  기말  리포트  퀴즈\n",
      "0  S01  90  95   20  20\n",
      "1  S02  82  83   18  18\n",
      "2  S03  80  78   18  18\n",
      "3  S04  78  75   10  10\n",
      "4  S05  93  91   12  12\n",
      "    학번  중간  기말  리포트  퀴즈\n",
      "5  S06  71  75   16  16\n",
      "6  S07  60  80   18  18\n",
      "7  S08  72  65   14  14\n",
      "8  S09  65  65   14  14\n",
      "9  S10  85  78   10  10\n",
      "(10, 5)\n"
     ]
    }
   ],
   "source": [
    "# 데이터 셋 일부분만 보기\n",
    "print(df1.head(5))  \n",
    "print(df1.tail(5))\n",
    "\n"
   ]
  },
  {
   "cell_type": "code",
   "execution_count": 62,
   "metadata": {},
   "outputs": [
    {
     "name": "stdout",
     "output_type": "stream",
     "text": [
      "(10, 5)\n",
      "학번     10\n",
      "중간     10\n",
      "기말     10\n",
      "리포트    10\n",
      "퀴즈     10\n",
      "dtype: int64\n"
     ]
    }
   ],
   "source": [
    "# 데이터 요약 정보 확인하기\n",
    "print(df1.shape)\n",
    "\n",
    "# 데이터 개수 세기\n",
    "print(df1.count())"
   ]
  },
  {
   "cell_type": "code",
   "execution_count": 65,
   "metadata": {},
   "outputs": [
    {
     "name": "stdout",
     "output_type": "stream",
     "text": [
      "<bound method DataFrame.info of     학번  중간  기말  리포트  퀴즈\n",
      "0  S01  90  95   20  20\n",
      "1  S02  82  83   18  18\n",
      "2  S03  80  78   18  18\n",
      "3  S04  78  75   10  10\n",
      "4  S05  93  91   12  12\n",
      "5  S06  71  75   16  16\n",
      "6  S07  60  80   18  18\n",
      "7  S08  72  65   14  14\n",
      "8  S09  65  65   14  14\n",
      "9  S10  85  78   10  10>\n",
      "         학번         중간         기말        리포트         퀴즈\n",
      "count    10  10.000000  10.000000  10.000000  10.000000\n",
      "unique   10        NaN        NaN        NaN        NaN\n",
      "top     S01        NaN        NaN        NaN        NaN\n",
      "freq      1        NaN        NaN        NaN        NaN\n",
      "mean    NaN  77.600000  78.500000  15.000000  15.000000\n",
      "std     NaN  10.616549   9.663793   3.559026   3.559026\n",
      "min     NaN  60.000000  65.000000  10.000000  10.000000\n",
      "25%     NaN  71.250000  75.000000  12.500000  12.500000\n",
      "50%     NaN  79.000000  78.000000  15.000000  15.000000\n",
      "75%     NaN  84.250000  82.250000  18.000000  18.000000\n",
      "max     NaN  93.000000  95.000000  20.000000  20.000000\n",
      "           중간        기말       리포트        퀴즈\n",
      "중간   1.000000  0.707196 -0.129388 -0.129388\n",
      "기말   0.707196  1.000000  0.339210  0.339210\n",
      "리포트 -0.129388  0.339210  1.000000  1.000000\n",
      "퀴즈  -0.129388  0.339210  1.000000  1.000000\n"
     ]
    },
    {
     "name": "stderr",
     "output_type": "stream",
     "text": [
      "/var/folders/12/gbtc492d66jfrlnvrtjqzy780000gn/T/ipykernel_2261/2337984125.py:8: FutureWarning: The default value of numeric_only in DataFrame.corr is deprecated. In a future version, it will default to False. Select only valid columns or specify the value of numeric_only to silence this warning.\n",
      "  print(df1.corr())\n"
     ]
    }
   ],
   "source": [
    "# 데이터프레임 기본 정보 확인하기\n",
    "print(df1.info)\n",
    "\n",
    "# describe(include='all) : 데이터프레임 기술 통계 확인하기\n",
    "print(df1.describe(include='all'))\n",
    "\n",
    "# corr() : 데이터프레임 상관계수 확인하기\n",
    "print(df1.corr())"
   ]
  },
  {
   "cell_type": "code",
   "execution_count": 71,
   "metadata": {},
   "outputs": [
    {
     "name": "stdout",
     "output_type": "stream",
     "text": [
      "평균 :\n",
      "77.6\n",
      "중간    77.6\n",
      "기말    78.5\n",
      "dtype: float64\n",
      "표준편차 :\n",
      "중간    10.616549\n",
      "기말     9.663793\n",
      "dtype: float64\n",
      "분산 :\n",
      "중간    112.711111\n",
      "기말     93.388889\n",
      "dtype: float64\n"
     ]
    }
   ],
   "source": [
    "# 데이터프레임에 통계함수 적용하기\n",
    "print(\"평균 :\")\n",
    "print(df1['중간'].mean())\n",
    "print(df1[['중간','기말']].mean())\n",
    "\n",
    "# 열의 표준편차와 분산\n",
    "print('표준편차 :')\n",
    "# std() : 표준편차 구하는 메소드\n",
    "print(df1[['중간','기말']].std())   \n",
    "print('분산 :')\n",
    "# var() : 분산 구하는 메소드\n",
    "print(df1[['중간','기말']].var())   \n"
   ]
  },
  {
   "cell_type": "code",
   "execution_count": 72,
   "metadata": {},
   "outputs": [
    {
     "data": {
      "text/plain": [
       "18    3\n",
       "10    2\n",
       "14    2\n",
       "20    1\n",
       "12    1\n",
       "16    1\n",
       "Name: 퀴즈, dtype: int64"
      ]
     },
     "execution_count": 72,
     "metadata": {},
     "output_type": "execute_result"
    }
   ],
   "source": [
    "# value_counts() : 지정 열에 퐇마되어 있는 고유한 값의 개수 세기\n",
    "df1['퀴즈'].value_counts()"
   ]
  },
  {
   "cell_type": "code",
   "execution_count": 84,
   "metadata": {},
   "outputs": [
    {
     "name": "stdout",
     "output_type": "stream",
     "text": [
      "      학번  중간  기말  리포트  퀴즈\n",
      "학번                       \n",
      "S01  S01  90  95   20  20\n",
      "S02  S02  82  83   18  18\n",
      "S03  S03  80  78   18  18\n",
      "S04  S04  78  75   10  10\n",
      "S05  S05  93  91   12  12\n",
      "S06  S06  71  75   16  16\n",
      "S07  S07  60  80   18  18\n",
      "S08  S08  72  65   14  14\n",
      "S09  S09  65  65   14  14\n",
      "S10  S10  85  78   10  10\n",
      "     중간  기말  리포트  퀴즈\n",
      "학번                  \n",
      "S01  90  95   20  20\n",
      "S02  82  83   18  18\n",
      "S03  80  78   18  18\n",
      "S04  78  75   10  10\n",
      "S05  93  91   12  12\n",
      "S06  71  75   16  16\n",
      "S07  60  80   18  18\n",
      "S08  72  65   14  14\n",
      "S09  65  65   14  14\n",
      "S10  85  78   10  10\n",
      "     중간  기말  리포트  퀴즈\n",
      "학번                  \n",
      "S10  85  78   10  10\n",
      "S09  65  65   14  14\n",
      "S08  72  65   14  14\n",
      "S07  60  80   18  18\n",
      "S06  71  75   16  16\n",
      "S05  93  91   12  12\n",
      "S04  78  75   10  10\n",
      "S03  80  78   18  18\n",
      "S02  82  83   18  18\n",
      "S01  90  95   20  20\n"
     ]
    }
   ],
   "source": [
    "# 열값 읽어와서 인덱스 적용 (컬럼에 남아있음)\n",
    "df1 = pd.read_csv('./csv/df_sample.csv')\n",
    "df1.index = df1['학번']\n",
    "print(df1)\n",
    "\n",
    "# set_index() : 칼럼에 남지 않음\n",
    "df1 = pd.read_csv('./csv/df_sample.csv')\n",
    "df1.set_index('학번', inplace=True)\n",
    "print(df1)\n",
    "\n",
    "# sort_index(ascending=False) : 내림차순 정렬\n",
    "df2 = df1.sort_index(ascending=False)\n",
    "print(df2)"
   ]
  },
  {
   "cell_type": "code",
   "execution_count": 86,
   "metadata": {},
   "outputs": [
    {
     "data": {
      "text/html": [
       "<div>\n",
       "<style scoped>\n",
       "    .dataframe tbody tr th:only-of-type {\n",
       "        vertical-align: middle;\n",
       "    }\n",
       "\n",
       "    .dataframe tbody tr th {\n",
       "        vertical-align: top;\n",
       "    }\n",
       "\n",
       "    .dataframe thead th {\n",
       "        text-align: right;\n",
       "    }\n",
       "</style>\n",
       "<table border=\"1\" class=\"dataframe\">\n",
       "  <thead>\n",
       "    <tr style=\"text-align: right;\">\n",
       "      <th></th>\n",
       "      <th>중간</th>\n",
       "      <th>기말</th>\n",
       "      <th>리포트</th>\n",
       "      <th>퀴즈</th>\n",
       "    </tr>\n",
       "    <tr>\n",
       "      <th>학번</th>\n",
       "      <th></th>\n",
       "      <th></th>\n",
       "      <th></th>\n",
       "      <th></th>\n",
       "    </tr>\n",
       "  </thead>\n",
       "  <tbody>\n",
       "    <tr>\n",
       "      <th>S08</th>\n",
       "      <td>72</td>\n",
       "      <td>65</td>\n",
       "      <td>14</td>\n",
       "      <td>14</td>\n",
       "    </tr>\n",
       "    <tr>\n",
       "      <th>S09</th>\n",
       "      <td>65</td>\n",
       "      <td>65</td>\n",
       "      <td>14</td>\n",
       "      <td>14</td>\n",
       "    </tr>\n",
       "    <tr>\n",
       "      <th>S04</th>\n",
       "      <td>78</td>\n",
       "      <td>75</td>\n",
       "      <td>10</td>\n",
       "      <td>10</td>\n",
       "    </tr>\n",
       "    <tr>\n",
       "      <th>S06</th>\n",
       "      <td>71</td>\n",
       "      <td>75</td>\n",
       "      <td>16</td>\n",
       "      <td>16</td>\n",
       "    </tr>\n",
       "    <tr>\n",
       "      <th>S03</th>\n",
       "      <td>80</td>\n",
       "      <td>78</td>\n",
       "      <td>18</td>\n",
       "      <td>18</td>\n",
       "    </tr>\n",
       "    <tr>\n",
       "      <th>S10</th>\n",
       "      <td>85</td>\n",
       "      <td>78</td>\n",
       "      <td>10</td>\n",
       "      <td>10</td>\n",
       "    </tr>\n",
       "    <tr>\n",
       "      <th>S07</th>\n",
       "      <td>60</td>\n",
       "      <td>80</td>\n",
       "      <td>18</td>\n",
       "      <td>18</td>\n",
       "    </tr>\n",
       "    <tr>\n",
       "      <th>S02</th>\n",
       "      <td>82</td>\n",
       "      <td>83</td>\n",
       "      <td>18</td>\n",
       "      <td>18</td>\n",
       "    </tr>\n",
       "    <tr>\n",
       "      <th>S05</th>\n",
       "      <td>93</td>\n",
       "      <td>91</td>\n",
       "      <td>12</td>\n",
       "      <td>12</td>\n",
       "    </tr>\n",
       "    <tr>\n",
       "      <th>S01</th>\n",
       "      <td>90</td>\n",
       "      <td>95</td>\n",
       "      <td>20</td>\n",
       "      <td>20</td>\n",
       "    </tr>\n",
       "  </tbody>\n",
       "</table>\n",
       "</div>"
      ],
      "text/plain": [
       "     중간  기말  리포트  퀴즈\n",
       "학번                  \n",
       "S08  72  65   14  14\n",
       "S09  65  65   14  14\n",
       "S04  78  75   10  10\n",
       "S06  71  75   16  16\n",
       "S03  80  78   18  18\n",
       "S10  85  78   10  10\n",
       "S07  60  80   18  18\n",
       "S02  82  83   18  18\n",
       "S05  93  91   12  12\n",
       "S01  90  95   20  20"
      ]
     },
     "execution_count": 86,
     "metadata": {},
     "output_type": "execute_result"
    }
   ],
   "source": [
    "# sort_values() :  데이터프레임 정렬(특정 열 기준)\n",
    "df3 = df1.sort_values(by='기말', ascending=True)\n",
    "df3"
   ]
  },
  {
   "attachments": {},
   "cell_type": "markdown",
   "metadata": {},
   "source": [
    "## 4) 데이터 전처리"
   ]
  },
  {
   "cell_type": "code",
   "execution_count": 122,
   "metadata": {},
   "outputs": [
    {
     "data": {
      "text/html": [
       "<div>\n",
       "<style scoped>\n",
       "    .dataframe tbody tr th:only-of-type {\n",
       "        vertical-align: middle;\n",
       "    }\n",
       "\n",
       "    .dataframe tbody tr th {\n",
       "        vertical-align: top;\n",
       "    }\n",
       "\n",
       "    .dataframe thead th {\n",
       "        text-align: right;\n",
       "    }\n",
       "</style>\n",
       "<table border=\"1\" class=\"dataframe\">\n",
       "  <thead>\n",
       "    <tr style=\"text-align: right;\">\n",
       "      <th></th>\n",
       "      <th>학번</th>\n",
       "      <th>중간</th>\n",
       "      <th>기말</th>\n",
       "      <th>리포트</th>\n",
       "      <th>퀴즈</th>\n",
       "      <th>합계</th>\n",
       "    </tr>\n",
       "    <tr>\n",
       "      <th>학번</th>\n",
       "      <th></th>\n",
       "      <th></th>\n",
       "      <th></th>\n",
       "      <th></th>\n",
       "      <th></th>\n",
       "      <th></th>\n",
       "    </tr>\n",
       "  </thead>\n",
       "  <tbody>\n",
       "    <tr>\n",
       "      <th>S01</th>\n",
       "      <td>S01</td>\n",
       "      <td>90</td>\n",
       "      <td>95</td>\n",
       "      <td>20</td>\n",
       "      <td>20</td>\n",
       "      <td>185</td>\n",
       "    </tr>\n",
       "    <tr>\n",
       "      <th>S02</th>\n",
       "      <td>S02</td>\n",
       "      <td>82</td>\n",
       "      <td>83</td>\n",
       "      <td>18</td>\n",
       "      <td>18</td>\n",
       "      <td>165</td>\n",
       "    </tr>\n",
       "    <tr>\n",
       "      <th>S03</th>\n",
       "      <td>S03</td>\n",
       "      <td>80</td>\n",
       "      <td>78</td>\n",
       "      <td>18</td>\n",
       "      <td>18</td>\n",
       "      <td>158</td>\n",
       "    </tr>\n",
       "    <tr>\n",
       "      <th>S04</th>\n",
       "      <td>S04</td>\n",
       "      <td>78</td>\n",
       "      <td>75</td>\n",
       "      <td>10</td>\n",
       "      <td>10</td>\n",
       "      <td>153</td>\n",
       "    </tr>\n",
       "    <tr>\n",
       "      <th>S05</th>\n",
       "      <td>S05</td>\n",
       "      <td>93</td>\n",
       "      <td>91</td>\n",
       "      <td>12</td>\n",
       "      <td>12</td>\n",
       "      <td>184</td>\n",
       "    </tr>\n",
       "    <tr>\n",
       "      <th>S06</th>\n",
       "      <td>S06</td>\n",
       "      <td>71</td>\n",
       "      <td>75</td>\n",
       "      <td>16</td>\n",
       "      <td>16</td>\n",
       "      <td>146</td>\n",
       "    </tr>\n",
       "    <tr>\n",
       "      <th>S07</th>\n",
       "      <td>S07</td>\n",
       "      <td>60</td>\n",
       "      <td>80</td>\n",
       "      <td>18</td>\n",
       "      <td>18</td>\n",
       "      <td>140</td>\n",
       "    </tr>\n",
       "    <tr>\n",
       "      <th>S08</th>\n",
       "      <td>S08</td>\n",
       "      <td>72</td>\n",
       "      <td>65</td>\n",
       "      <td>14</td>\n",
       "      <td>14</td>\n",
       "      <td>137</td>\n",
       "    </tr>\n",
       "    <tr>\n",
       "      <th>S09</th>\n",
       "      <td>S09</td>\n",
       "      <td>65</td>\n",
       "      <td>65</td>\n",
       "      <td>14</td>\n",
       "      <td>14</td>\n",
       "      <td>130</td>\n",
       "    </tr>\n",
       "    <tr>\n",
       "      <th>S10</th>\n",
       "      <td>S10</td>\n",
       "      <td>85</td>\n",
       "      <td>78</td>\n",
       "      <td>10</td>\n",
       "      <td>10</td>\n",
       "      <td>163</td>\n",
       "    </tr>\n",
       "  </tbody>\n",
       "</table>\n",
       "</div>"
      ],
      "text/plain": [
       "      학번  중간  기말  리포트  퀴즈   합계\n",
       "학번                            \n",
       "S01  S01  90  95   20  20  185\n",
       "S02  S02  82  83   18  18  165\n",
       "S03  S03  80  78   18  18  158\n",
       "S04  S04  78  75   10  10  153\n",
       "S05  S05  93  91   12  12  184\n",
       "S06  S06  71  75   16  16  146\n",
       "S07  S07  60  80   18  18  140\n",
       "S08  S08  72  65   14  14  137\n",
       "S09  S09  65  65   14  14  130\n",
       "S10  S10  85  78   10  10  163"
      ]
     },
     "execution_count": 122,
     "metadata": {},
     "output_type": "execute_result"
    }
   ],
   "source": [
    "df = pd.read_csv('./csv/df_sample.csv')\n",
    "df.index = df1['학번']\n",
    "\n",
    "df[\"합계\"] = df[\"중간\"] + df[\"기말\"]\n",
    "df"
   ]
  },
  {
   "attachments": {},
   "cell_type": "markdown",
   "metadata": {},
   "source": [
    "### (1) 표준화"
   ]
  },
  {
   "cell_type": "code",
   "execution_count": 123,
   "metadata": {},
   "outputs": [
    {
     "data": {
      "text/html": [
       "<div>\n",
       "<style scoped>\n",
       "    .dataframe tbody tr th:only-of-type {\n",
       "        vertical-align: middle;\n",
       "    }\n",
       "\n",
       "    .dataframe tbody tr th {\n",
       "        vertical-align: top;\n",
       "    }\n",
       "\n",
       "    .dataframe thead th {\n",
       "        text-align: right;\n",
       "    }\n",
       "</style>\n",
       "<table border=\"1\" class=\"dataframe\">\n",
       "  <thead>\n",
       "    <tr style=\"text-align: right;\">\n",
       "      <th></th>\n",
       "      <th>학번</th>\n",
       "      <th>중간</th>\n",
       "      <th>기말</th>\n",
       "      <th>리포트</th>\n",
       "      <th>퀴즈</th>\n",
       "      <th>합계</th>\n",
       "      <th>중간_Z점수</th>\n",
       "    </tr>\n",
       "    <tr>\n",
       "      <th>학번</th>\n",
       "      <th></th>\n",
       "      <th></th>\n",
       "      <th></th>\n",
       "      <th></th>\n",
       "      <th></th>\n",
       "      <th></th>\n",
       "      <th></th>\n",
       "    </tr>\n",
       "  </thead>\n",
       "  <tbody>\n",
       "    <tr>\n",
       "      <th>S01</th>\n",
       "      <td>S01</td>\n",
       "      <td>90</td>\n",
       "      <td>95</td>\n",
       "      <td>20</td>\n",
       "      <td>20</td>\n",
       "      <td>185</td>\n",
       "      <td>1.231167</td>\n",
       "    </tr>\n",
       "    <tr>\n",
       "      <th>S02</th>\n",
       "      <td>S02</td>\n",
       "      <td>82</td>\n",
       "      <td>83</td>\n",
       "      <td>18</td>\n",
       "      <td>18</td>\n",
       "      <td>165</td>\n",
       "      <td>0.436866</td>\n",
       "    </tr>\n",
       "    <tr>\n",
       "      <th>S03</th>\n",
       "      <td>S03</td>\n",
       "      <td>80</td>\n",
       "      <td>78</td>\n",
       "      <td>18</td>\n",
       "      <td>18</td>\n",
       "      <td>158</td>\n",
       "      <td>0.238290</td>\n",
       "    </tr>\n",
       "    <tr>\n",
       "      <th>S04</th>\n",
       "      <td>S04</td>\n",
       "      <td>78</td>\n",
       "      <td>75</td>\n",
       "      <td>10</td>\n",
       "      <td>10</td>\n",
       "      <td>153</td>\n",
       "      <td>0.039715</td>\n",
       "    </tr>\n",
       "    <tr>\n",
       "      <th>S05</th>\n",
       "      <td>S05</td>\n",
       "      <td>93</td>\n",
       "      <td>91</td>\n",
       "      <td>12</td>\n",
       "      <td>12</td>\n",
       "      <td>184</td>\n",
       "      <td>1.529030</td>\n",
       "    </tr>\n",
       "  </tbody>\n",
       "</table>\n",
       "</div>"
      ],
      "text/plain": [
       "      학번  중간  기말  리포트  퀴즈   합계    중간_Z점수\n",
       "학번                                      \n",
       "S01  S01  90  95   20  20  185  1.231167\n",
       "S02  S02  82  83   18  18  165  0.436866\n",
       "S03  S03  80  78   18  18  158  0.238290\n",
       "S04  S04  78  75   10  10  153  0.039715\n",
       "S05  S05  93  91   12  12  184  1.529030"
      ]
     },
     "execution_count": 123,
     "metadata": {},
     "output_type": "execute_result"
    }
   ],
   "source": [
    "# 표준화 : 각 데이터 값들이 평균을 기준으로 얼마나 떨어져 있는지 표현하는 값\n",
    "## Z-score구하기  z = (x - mean()) / std()\n",
    "import numpy as np\n",
    "mid_avg = np.mean(df[\"중간\"]) \n",
    "mid_std = np.std(df[\"중간\"])\n",
    "df['중간_Z점수'] = (df[\"중간\"] - mid_avg) / mid_std\n",
    "df.head()\n"
   ]
  },
  {
   "attachments": {},
   "cell_type": "markdown",
   "metadata": {},
   "source": [
    "### (2) 정규화"
   ]
  },
  {
   "cell_type": "code",
   "execution_count": 124,
   "metadata": {},
   "outputs": [
    {
     "data": {
      "text/html": [
       "<div>\n",
       "<style scoped>\n",
       "    .dataframe tbody tr th:only-of-type {\n",
       "        vertical-align: middle;\n",
       "    }\n",
       "\n",
       "    .dataframe tbody tr th {\n",
       "        vertical-align: top;\n",
       "    }\n",
       "\n",
       "    .dataframe thead th {\n",
       "        text-align: right;\n",
       "    }\n",
       "</style>\n",
       "<table border=\"1\" class=\"dataframe\">\n",
       "  <thead>\n",
       "    <tr style=\"text-align: right;\">\n",
       "      <th></th>\n",
       "      <th>학번</th>\n",
       "      <th>중간</th>\n",
       "      <th>기말</th>\n",
       "      <th>리포트</th>\n",
       "      <th>퀴즈</th>\n",
       "      <th>합계</th>\n",
       "      <th>중간_Z점수</th>\n",
       "      <th>기말_정규화</th>\n",
       "    </tr>\n",
       "    <tr>\n",
       "      <th>학번</th>\n",
       "      <th></th>\n",
       "      <th></th>\n",
       "      <th></th>\n",
       "      <th></th>\n",
       "      <th></th>\n",
       "      <th></th>\n",
       "      <th></th>\n",
       "      <th></th>\n",
       "    </tr>\n",
       "  </thead>\n",
       "  <tbody>\n",
       "    <tr>\n",
       "      <th>S01</th>\n",
       "      <td>S01</td>\n",
       "      <td>90</td>\n",
       "      <td>95</td>\n",
       "      <td>20</td>\n",
       "      <td>20</td>\n",
       "      <td>185</td>\n",
       "      <td>1.231167</td>\n",
       "      <td>1.000000</td>\n",
       "    </tr>\n",
       "    <tr>\n",
       "      <th>S02</th>\n",
       "      <td>S02</td>\n",
       "      <td>82</td>\n",
       "      <td>83</td>\n",
       "      <td>18</td>\n",
       "      <td>18</td>\n",
       "      <td>165</td>\n",
       "      <td>0.436866</td>\n",
       "      <td>0.600000</td>\n",
       "    </tr>\n",
       "    <tr>\n",
       "      <th>S03</th>\n",
       "      <td>S03</td>\n",
       "      <td>80</td>\n",
       "      <td>78</td>\n",
       "      <td>18</td>\n",
       "      <td>18</td>\n",
       "      <td>158</td>\n",
       "      <td>0.238290</td>\n",
       "      <td>0.433333</td>\n",
       "    </tr>\n",
       "    <tr>\n",
       "      <th>S04</th>\n",
       "      <td>S04</td>\n",
       "      <td>78</td>\n",
       "      <td>75</td>\n",
       "      <td>10</td>\n",
       "      <td>10</td>\n",
       "      <td>153</td>\n",
       "      <td>0.039715</td>\n",
       "      <td>0.333333</td>\n",
       "    </tr>\n",
       "    <tr>\n",
       "      <th>S05</th>\n",
       "      <td>S05</td>\n",
       "      <td>93</td>\n",
       "      <td>91</td>\n",
       "      <td>12</td>\n",
       "      <td>12</td>\n",
       "      <td>184</td>\n",
       "      <td>1.529030</td>\n",
       "      <td>0.866667</td>\n",
       "    </tr>\n",
       "  </tbody>\n",
       "</table>\n",
       "</div>"
      ],
      "text/plain": [
       "      학번  중간  기말  리포트  퀴즈   합계    중간_Z점수    기말_정규화\n",
       "학번                                                \n",
       "S01  S01  90  95   20  20  185  1.231167  1.000000\n",
       "S02  S02  82  83   18  18  165  0.436866  0.600000\n",
       "S03  S03  80  78   18  18  158  0.238290  0.433333\n",
       "S04  S04  78  75   10  10  153  0.039715  0.333333\n",
       "S05  S05  93  91   12  12  184  1.529030  0.866667"
      ]
     },
     "execution_count": 124,
     "metadata": {},
     "output_type": "execute_result"
    }
   ],
   "source": [
    "# 정규화 : 정규화는 데이터의 범위를 0과 1사이로 변환하여 데이터의 분포를 조정하는 것\n",
    "## (x - min()) / (max() - min()), MinMaxScaler(), minmax_scale()\n",
    "fin_min = np.min(df[\"기말\"])\n",
    "fin_max = np.max(df[\"기말\"])\n",
    "df[\"기말_정규화\"] = (df['기말'] - fin_min) / (fin_max - fin_min)\n",
    "df.head()"
   ]
  },
  {
   "cell_type": "code",
   "execution_count": 125,
   "metadata": {},
   "outputs": [],
   "source": [
    "x = [\"1반\", '1반', '1반', '2반', '2반', '2반', '3반', '3반', '3반', '3반']\n",
    "df['cls'] = x"
   ]
  },
  {
   "attachments": {},
   "cell_type": "markdown",
   "metadata": {},
   "source": [
    "### (3) 데이터 요약"
   ]
  },
  {
   "cell_type": "code",
   "execution_count": 126,
   "metadata": {},
   "outputs": [
    {
     "name": "stderr",
     "output_type": "stream",
     "text": [
      "/var/folders/12/gbtc492d66jfrlnvrtjqzy780000gn/T/ipykernel_2261/2451922337.py:4: FutureWarning: The default value of numeric_only in DataFrameGroupBy.mean is deprecated. In a future version, numeric_only will default to False. Either specify numeric_only or select only columns which should be valid for the function.\n",
      "  df_cls_grp.mean()\n"
     ]
    },
    {
     "data": {
      "text/html": [
       "<div>\n",
       "<style scoped>\n",
       "    .dataframe tbody tr th:only-of-type {\n",
       "        vertical-align: middle;\n",
       "    }\n",
       "\n",
       "    .dataframe tbody tr th {\n",
       "        vertical-align: top;\n",
       "    }\n",
       "\n",
       "    .dataframe thead th {\n",
       "        text-align: right;\n",
       "    }\n",
       "</style>\n",
       "<table border=\"1\" class=\"dataframe\">\n",
       "  <thead>\n",
       "    <tr style=\"text-align: right;\">\n",
       "      <th></th>\n",
       "      <th>중간</th>\n",
       "      <th>기말</th>\n",
       "      <th>리포트</th>\n",
       "      <th>퀴즈</th>\n",
       "      <th>합계</th>\n",
       "      <th>중간_Z점수</th>\n",
       "      <th>기말_정규화</th>\n",
       "    </tr>\n",
       "    <tr>\n",
       "      <th>cls</th>\n",
       "      <th></th>\n",
       "      <th></th>\n",
       "      <th></th>\n",
       "      <th></th>\n",
       "      <th></th>\n",
       "      <th></th>\n",
       "      <th></th>\n",
       "    </tr>\n",
       "  </thead>\n",
       "  <tbody>\n",
       "    <tr>\n",
       "      <th>1반</th>\n",
       "      <td>84.000000</td>\n",
       "      <td>85.333333</td>\n",
       "      <td>18.666667</td>\n",
       "      <td>18.666667</td>\n",
       "      <td>169.333333</td>\n",
       "      <td>0.635441</td>\n",
       "      <td>0.677778</td>\n",
       "    </tr>\n",
       "    <tr>\n",
       "      <th>2반</th>\n",
       "      <td>80.666667</td>\n",
       "      <td>80.333333</td>\n",
       "      <td>12.666667</td>\n",
       "      <td>12.666667</td>\n",
       "      <td>161.000000</td>\n",
       "      <td>0.304482</td>\n",
       "      <td>0.511111</td>\n",
       "    </tr>\n",
       "    <tr>\n",
       "      <th>3반</th>\n",
       "      <td>70.500000</td>\n",
       "      <td>72.000000</td>\n",
       "      <td>14.000000</td>\n",
       "      <td>14.000000</td>\n",
       "      <td>142.500000</td>\n",
       "      <td>-0.704943</td>\n",
       "      <td>0.233333</td>\n",
       "    </tr>\n",
       "  </tbody>\n",
       "</table>\n",
       "</div>"
      ],
      "text/plain": [
       "            중간         기말        리포트         퀴즈          합계    중간_Z점수  \\\n",
       "cls                                                                     \n",
       "1반   84.000000  85.333333  18.666667  18.666667  169.333333  0.635441   \n",
       "2반   80.666667  80.333333  12.666667  12.666667  161.000000  0.304482   \n",
       "3반   70.500000  72.000000  14.000000  14.000000  142.500000 -0.704943   \n",
       "\n",
       "       기말_정규화  \n",
       "cls            \n",
       "1반   0.677778  \n",
       "2반   0.511111  \n",
       "3반   0.233333  "
      ]
     },
     "execution_count": 126,
     "metadata": {},
     "output_type": "execute_result"
    }
   ],
   "source": [
    "# 데이터 요약\n",
    "# groupby() : 특정 열을 기준으로 데이터를 그룹화하고 집계함수를 적용\n",
    "df_cls_grp = df.groupby(df['cls'])\n",
    "df_cls_grp.mean()"
   ]
  },
  {
   "cell_type": "code",
   "execution_count": 127,
   "metadata": {},
   "outputs": [
    {
     "data": {
      "text/plain": [
       "cls\n",
       "1반    3\n",
       "2반    3\n",
       "3반    4\n",
       "Name: 중간, dtype: int64"
      ]
     },
     "execution_count": 127,
     "metadata": {},
     "output_type": "execute_result"
    }
   ],
   "source": [
    "# groupby.count() : 각 범주별 빈도수 계산\n",
    "df['중간'].groupby(df['cls']).count()"
   ]
  },
  {
   "cell_type": "code",
   "execution_count": 128,
   "metadata": {},
   "outputs": [
    {
     "data": {
      "text/plain": [
       "학번\n",
       "S01    4.472136\n",
       "S02    4.242641\n",
       "S03    4.242641\n",
       "S04    3.162278\n",
       "S05    3.464102\n",
       "S06    4.000000\n",
       "S07    4.242641\n",
       "S08    3.741657\n",
       "S09    3.741657\n",
       "S10    3.162278\n",
       "Name: 퀴즈, dtype: float64"
      ]
     },
     "execution_count": 128,
     "metadata": {},
     "output_type": "execute_result"
    }
   ],
   "source": [
    "# apply() : 데이터의 행 또는 열 방향으로 중진 함수를 한 번에 적용\n",
    "df[\"퀴즈\"].apply(np.sqrt)"
   ]
  },
  {
   "attachments": {},
   "cell_type": "markdown",
   "metadata": {},
   "source": [
    "### (4) 결측값 처리"
   ]
  },
  {
   "cell_type": "code",
   "execution_count": 129,
   "metadata": {},
   "outputs": [
    {
     "name": "stdout",
     "output_type": "stream",
     "text": [
      "<class 'pandas.core.frame.DataFrame'>\n",
      "Index: 10 entries, S01 to S10\n",
      "Data columns (total 10 columns):\n",
      " #   Column  Non-Null Count  Dtype  \n",
      "---  ------  --------------  -----  \n",
      " 0   학번      10 non-null     object \n",
      " 1   중간      10 non-null     int64  \n",
      " 2   기말      10 non-null     int64  \n",
      " 3   리포트     10 non-null     int64  \n",
      " 4   퀴즈      10 non-null     int64  \n",
      " 5   합계      10 non-null     int64  \n",
      " 6   중간_Z점수  10 non-null     float64\n",
      " 7   기말_정규화  10 non-null     float64\n",
      " 8   cls     10 non-null     object \n",
      " 9   토론      8 non-null      float64\n",
      "dtypes: float64(3), int64(5), object(2)\n",
      "memory usage: 1.2+ KB\n"
     ]
    }
   ],
   "source": [
    "# 결측값 식별\n",
    "## info() : 정보로 결측치 파악\n",
    "x = [14, 15, 13, 14, None, None, 19, 11, 12, 18]\n",
    "df['토론'] = x\n",
    "\n",
    "df.info()"
   ]
  },
  {
   "cell_type": "code",
   "execution_count": 130,
   "metadata": {},
   "outputs": [
    {
     "data": {
      "text/html": [
       "<div>\n",
       "<style scoped>\n",
       "    .dataframe tbody tr th:only-of-type {\n",
       "        vertical-align: middle;\n",
       "    }\n",
       "\n",
       "    .dataframe tbody tr th {\n",
       "        vertical-align: top;\n",
       "    }\n",
       "\n",
       "    .dataframe thead th {\n",
       "        text-align: right;\n",
       "    }\n",
       "</style>\n",
       "<table border=\"1\" class=\"dataframe\">\n",
       "  <thead>\n",
       "    <tr style=\"text-align: right;\">\n",
       "      <th></th>\n",
       "      <th>학번</th>\n",
       "      <th>중간</th>\n",
       "      <th>기말</th>\n",
       "      <th>리포트</th>\n",
       "      <th>퀴즈</th>\n",
       "      <th>합계</th>\n",
       "      <th>중간_Z점수</th>\n",
       "      <th>기말_정규화</th>\n",
       "      <th>cls</th>\n",
       "      <th>토론</th>\n",
       "    </tr>\n",
       "    <tr>\n",
       "      <th>학번</th>\n",
       "      <th></th>\n",
       "      <th></th>\n",
       "      <th></th>\n",
       "      <th></th>\n",
       "      <th></th>\n",
       "      <th></th>\n",
       "      <th></th>\n",
       "      <th></th>\n",
       "      <th></th>\n",
       "      <th></th>\n",
       "    </tr>\n",
       "  </thead>\n",
       "  <tbody>\n",
       "    <tr>\n",
       "      <th>S01</th>\n",
       "      <td>False</td>\n",
       "      <td>False</td>\n",
       "      <td>False</td>\n",
       "      <td>False</td>\n",
       "      <td>False</td>\n",
       "      <td>False</td>\n",
       "      <td>False</td>\n",
       "      <td>False</td>\n",
       "      <td>False</td>\n",
       "      <td>False</td>\n",
       "    </tr>\n",
       "    <tr>\n",
       "      <th>S02</th>\n",
       "      <td>False</td>\n",
       "      <td>False</td>\n",
       "      <td>False</td>\n",
       "      <td>False</td>\n",
       "      <td>False</td>\n",
       "      <td>False</td>\n",
       "      <td>False</td>\n",
       "      <td>False</td>\n",
       "      <td>False</td>\n",
       "      <td>False</td>\n",
       "    </tr>\n",
       "    <tr>\n",
       "      <th>S03</th>\n",
       "      <td>False</td>\n",
       "      <td>False</td>\n",
       "      <td>False</td>\n",
       "      <td>False</td>\n",
       "      <td>False</td>\n",
       "      <td>False</td>\n",
       "      <td>False</td>\n",
       "      <td>False</td>\n",
       "      <td>False</td>\n",
       "      <td>False</td>\n",
       "    </tr>\n",
       "    <tr>\n",
       "      <th>S04</th>\n",
       "      <td>False</td>\n",
       "      <td>False</td>\n",
       "      <td>False</td>\n",
       "      <td>False</td>\n",
       "      <td>False</td>\n",
       "      <td>False</td>\n",
       "      <td>False</td>\n",
       "      <td>False</td>\n",
       "      <td>False</td>\n",
       "      <td>False</td>\n",
       "    </tr>\n",
       "    <tr>\n",
       "      <th>S05</th>\n",
       "      <td>False</td>\n",
       "      <td>False</td>\n",
       "      <td>False</td>\n",
       "      <td>False</td>\n",
       "      <td>False</td>\n",
       "      <td>False</td>\n",
       "      <td>False</td>\n",
       "      <td>False</td>\n",
       "      <td>False</td>\n",
       "      <td>True</td>\n",
       "    </tr>\n",
       "    <tr>\n",
       "      <th>S06</th>\n",
       "      <td>False</td>\n",
       "      <td>False</td>\n",
       "      <td>False</td>\n",
       "      <td>False</td>\n",
       "      <td>False</td>\n",
       "      <td>False</td>\n",
       "      <td>False</td>\n",
       "      <td>False</td>\n",
       "      <td>False</td>\n",
       "      <td>True</td>\n",
       "    </tr>\n",
       "    <tr>\n",
       "      <th>S07</th>\n",
       "      <td>False</td>\n",
       "      <td>False</td>\n",
       "      <td>False</td>\n",
       "      <td>False</td>\n",
       "      <td>False</td>\n",
       "      <td>False</td>\n",
       "      <td>False</td>\n",
       "      <td>False</td>\n",
       "      <td>False</td>\n",
       "      <td>False</td>\n",
       "    </tr>\n",
       "    <tr>\n",
       "      <th>S08</th>\n",
       "      <td>False</td>\n",
       "      <td>False</td>\n",
       "      <td>False</td>\n",
       "      <td>False</td>\n",
       "      <td>False</td>\n",
       "      <td>False</td>\n",
       "      <td>False</td>\n",
       "      <td>False</td>\n",
       "      <td>False</td>\n",
       "      <td>False</td>\n",
       "    </tr>\n",
       "    <tr>\n",
       "      <th>S09</th>\n",
       "      <td>False</td>\n",
       "      <td>False</td>\n",
       "      <td>False</td>\n",
       "      <td>False</td>\n",
       "      <td>False</td>\n",
       "      <td>False</td>\n",
       "      <td>False</td>\n",
       "      <td>False</td>\n",
       "      <td>False</td>\n",
       "      <td>False</td>\n",
       "    </tr>\n",
       "    <tr>\n",
       "      <th>S10</th>\n",
       "      <td>False</td>\n",
       "      <td>False</td>\n",
       "      <td>False</td>\n",
       "      <td>False</td>\n",
       "      <td>False</td>\n",
       "      <td>False</td>\n",
       "      <td>False</td>\n",
       "      <td>False</td>\n",
       "      <td>False</td>\n",
       "      <td>False</td>\n",
       "    </tr>\n",
       "  </tbody>\n",
       "</table>\n",
       "</div>"
      ],
      "text/plain": [
       "        학번     중간     기말    리포트     퀴즈     합계  중간_Z점수  기말_정규화    cls     토론\n",
       "학번                                                                         \n",
       "S01  False  False  False  False  False  False   False   False  False  False\n",
       "S02  False  False  False  False  False  False   False   False  False  False\n",
       "S03  False  False  False  False  False  False   False   False  False  False\n",
       "S04  False  False  False  False  False  False   False   False  False  False\n",
       "S05  False  False  False  False  False  False   False   False  False   True\n",
       "S06  False  False  False  False  False  False   False   False  False   True\n",
       "S07  False  False  False  False  False  False   False   False  False  False\n",
       "S08  False  False  False  False  False  False   False   False  False  False\n",
       "S09  False  False  False  False  False  False   False   False  False  False\n",
       "S10  False  False  False  False  False  False   False   False  False  False"
      ]
     },
     "execution_count": 130,
     "metadata": {},
     "output_type": "execute_result"
    }
   ],
   "source": [
    "## isnull() : 데이터가 없으면 Ture, 있으면 False\n",
    "df.isnull()"
   ]
  },
  {
   "cell_type": "code",
   "execution_count": 131,
   "metadata": {},
   "outputs": [
    {
     "data": {
      "text/html": [
       "<div>\n",
       "<style scoped>\n",
       "    .dataframe tbody tr th:only-of-type {\n",
       "        vertical-align: middle;\n",
       "    }\n",
       "\n",
       "    .dataframe tbody tr th {\n",
       "        vertical-align: top;\n",
       "    }\n",
       "\n",
       "    .dataframe thead th {\n",
       "        text-align: right;\n",
       "    }\n",
       "</style>\n",
       "<table border=\"1\" class=\"dataframe\">\n",
       "  <thead>\n",
       "    <tr style=\"text-align: right;\">\n",
       "      <th></th>\n",
       "      <th>학번</th>\n",
       "      <th>중간</th>\n",
       "      <th>기말</th>\n",
       "      <th>리포트</th>\n",
       "      <th>퀴즈</th>\n",
       "      <th>합계</th>\n",
       "      <th>중간_Z점수</th>\n",
       "      <th>기말_정규화</th>\n",
       "      <th>cls</th>\n",
       "      <th>토론</th>\n",
       "    </tr>\n",
       "    <tr>\n",
       "      <th>학번</th>\n",
       "      <th></th>\n",
       "      <th></th>\n",
       "      <th></th>\n",
       "      <th></th>\n",
       "      <th></th>\n",
       "      <th></th>\n",
       "      <th></th>\n",
       "      <th></th>\n",
       "      <th></th>\n",
       "      <th></th>\n",
       "    </tr>\n",
       "  </thead>\n",
       "  <tbody>\n",
       "    <tr>\n",
       "      <th>S01</th>\n",
       "      <td>True</td>\n",
       "      <td>True</td>\n",
       "      <td>True</td>\n",
       "      <td>True</td>\n",
       "      <td>True</td>\n",
       "      <td>True</td>\n",
       "      <td>True</td>\n",
       "      <td>True</td>\n",
       "      <td>True</td>\n",
       "      <td>True</td>\n",
       "    </tr>\n",
       "    <tr>\n",
       "      <th>S02</th>\n",
       "      <td>True</td>\n",
       "      <td>True</td>\n",
       "      <td>True</td>\n",
       "      <td>True</td>\n",
       "      <td>True</td>\n",
       "      <td>True</td>\n",
       "      <td>True</td>\n",
       "      <td>True</td>\n",
       "      <td>True</td>\n",
       "      <td>True</td>\n",
       "    </tr>\n",
       "    <tr>\n",
       "      <th>S03</th>\n",
       "      <td>True</td>\n",
       "      <td>True</td>\n",
       "      <td>True</td>\n",
       "      <td>True</td>\n",
       "      <td>True</td>\n",
       "      <td>True</td>\n",
       "      <td>True</td>\n",
       "      <td>True</td>\n",
       "      <td>True</td>\n",
       "      <td>True</td>\n",
       "    </tr>\n",
       "    <tr>\n",
       "      <th>S04</th>\n",
       "      <td>True</td>\n",
       "      <td>True</td>\n",
       "      <td>True</td>\n",
       "      <td>True</td>\n",
       "      <td>True</td>\n",
       "      <td>True</td>\n",
       "      <td>True</td>\n",
       "      <td>True</td>\n",
       "      <td>True</td>\n",
       "      <td>True</td>\n",
       "    </tr>\n",
       "    <tr>\n",
       "      <th>S05</th>\n",
       "      <td>True</td>\n",
       "      <td>True</td>\n",
       "      <td>True</td>\n",
       "      <td>True</td>\n",
       "      <td>True</td>\n",
       "      <td>True</td>\n",
       "      <td>True</td>\n",
       "      <td>True</td>\n",
       "      <td>True</td>\n",
       "      <td>False</td>\n",
       "    </tr>\n",
       "    <tr>\n",
       "      <th>S06</th>\n",
       "      <td>True</td>\n",
       "      <td>True</td>\n",
       "      <td>True</td>\n",
       "      <td>True</td>\n",
       "      <td>True</td>\n",
       "      <td>True</td>\n",
       "      <td>True</td>\n",
       "      <td>True</td>\n",
       "      <td>True</td>\n",
       "      <td>False</td>\n",
       "    </tr>\n",
       "    <tr>\n",
       "      <th>S07</th>\n",
       "      <td>True</td>\n",
       "      <td>True</td>\n",
       "      <td>True</td>\n",
       "      <td>True</td>\n",
       "      <td>True</td>\n",
       "      <td>True</td>\n",
       "      <td>True</td>\n",
       "      <td>True</td>\n",
       "      <td>True</td>\n",
       "      <td>True</td>\n",
       "    </tr>\n",
       "    <tr>\n",
       "      <th>S08</th>\n",
       "      <td>True</td>\n",
       "      <td>True</td>\n",
       "      <td>True</td>\n",
       "      <td>True</td>\n",
       "      <td>True</td>\n",
       "      <td>True</td>\n",
       "      <td>True</td>\n",
       "      <td>True</td>\n",
       "      <td>True</td>\n",
       "      <td>True</td>\n",
       "    </tr>\n",
       "    <tr>\n",
       "      <th>S09</th>\n",
       "      <td>True</td>\n",
       "      <td>True</td>\n",
       "      <td>True</td>\n",
       "      <td>True</td>\n",
       "      <td>True</td>\n",
       "      <td>True</td>\n",
       "      <td>True</td>\n",
       "      <td>True</td>\n",
       "      <td>True</td>\n",
       "      <td>True</td>\n",
       "    </tr>\n",
       "    <tr>\n",
       "      <th>S10</th>\n",
       "      <td>True</td>\n",
       "      <td>True</td>\n",
       "      <td>True</td>\n",
       "      <td>True</td>\n",
       "      <td>True</td>\n",
       "      <td>True</td>\n",
       "      <td>True</td>\n",
       "      <td>True</td>\n",
       "      <td>True</td>\n",
       "      <td>True</td>\n",
       "    </tr>\n",
       "  </tbody>\n",
       "</table>\n",
       "</div>"
      ],
      "text/plain": [
       "       학번    중간    기말   리포트    퀴즈    합계  중간_Z점수  기말_정규화   cls     토론\n",
       "학번                                                                  \n",
       "S01  True  True  True  True  True  True    True    True  True   True\n",
       "S02  True  True  True  True  True  True    True    True  True   True\n",
       "S03  True  True  True  True  True  True    True    True  True   True\n",
       "S04  True  True  True  True  True  True    True    True  True   True\n",
       "S05  True  True  True  True  True  True    True    True  True  False\n",
       "S06  True  True  True  True  True  True    True    True  True  False\n",
       "S07  True  True  True  True  True  True    True    True  True   True\n",
       "S08  True  True  True  True  True  True    True    True  True   True\n",
       "S09  True  True  True  True  True  True    True    True  True   True\n",
       "S10  True  True  True  True  True  True    True    True  True   True"
      ]
     },
     "execution_count": 131,
     "metadata": {},
     "output_type": "execute_result"
    }
   ],
   "source": [
    "## notnull() : 데이터가 있으면 True, 없으면 False\n",
    "df.notnull()"
   ]
  },
  {
   "cell_type": "code",
   "execution_count": 132,
   "metadata": {},
   "outputs": [
    {
     "data": {
      "text/plain": [
       "학번\n",
       "S01    14.0\n",
       "S02    15.0\n",
       "S03    13.0\n",
       "S04    14.0\n",
       "S07    19.0\n",
       "S08    11.0\n",
       "S09    12.0\n",
       "S10    18.0\n",
       "Name: 토론, dtype: float64"
      ]
     },
     "execution_count": 132,
     "metadata": {},
     "output_type": "execute_result"
    }
   ],
   "source": [
    "# 결측값 대치\n",
    "## dropna() : 결측값이 있는 행 제거(완전분석법)\n",
    "df_new = df.dropna(axis=0)      # axis=1이면 열을 제거\n",
    "df_new = df[\"토론\"].dropna()     # '토론'열에서 결측값 제거\n",
    "df_new\n"
   ]
  },
  {
   "cell_type": "code",
   "execution_count": 118,
   "metadata": {},
   "outputs": [
    {
     "data": {
      "text/plain": [
       "학번\n",
       "S01    14.0\n",
       "S02    15.0\n",
       "S03    13.0\n",
       "S04    14.0\n",
       "S05    14.5\n",
       "S06    14.5\n",
       "S07    19.0\n",
       "S08    11.0\n",
       "S09    12.0\n",
       "S10    18.0\n",
       "Name: 토론, dtype: float64"
      ]
     },
     "execution_count": 118,
     "metadata": {},
     "output_type": "execute_result"
    }
   ],
   "source": [
    "## fillna() : 결측값을 지정한 겂으로 대체(평균대치법)\n",
    "d_mean = df['토론'].mean()\n",
    "df['토론'].fillna(d_mean, inplace=True)\n",
    "df[\"토론\"]"
   ]
  },
  {
   "attachments": {},
   "cell_type": "markdown",
   "metadata": {},
   "source": [
    "### (5) 이상값 처리"
   ]
  },
  {
   "cell_type": "code",
   "execution_count": 133,
   "metadata": {},
   "outputs": [
    {
     "name": "stdout",
     "output_type": "stream",
     "text": [
      "75.0\n",
      "82.25\n",
      "7.25\n"
     ]
    }
   ],
   "source": [
    "# 이상값 식별\n",
    "## quantile(p) : 사분위수 함수 \n",
    "## p의 값 : 0은 최소값, 1은 최대값, 0,25는 1사분위수, 0.5는 2사분위수, 0.75는 3사분위수\n",
    "## 사분위범위 : 3사분위수 - 1사분위수\n",
    "\n",
    "# 이상값 판별 : (1사분위수 - 1.5*사분위범위)보다 작거나 (3사분위수 + 1.5사분위범위)보다 큰 수\n",
    "df_1QR = df['기말'].quantile(0.25)  # 1사분위수\n",
    "print(df_1QR)\n",
    "df_3QR = df['기말'].quantile(0.75)  # 3사분위수\n",
    "print(df_3QR)\n",
    "df_IQR = df_3QR - df_1QR           # 사분위범위\n",
    "print(df_IQR)\n",
    "\n",
    "# 이상값 제거"
   ]
  }
 ],
 "metadata": {
  "kernelspec": {
   "display_name": "ml",
   "language": "python",
   "name": "python3"
  },
  "language_info": {
   "codemirror_mode": {
    "name": "ipython",
    "version": 3
   },
   "file_extension": ".py",
   "mimetype": "text/x-python",
   "name": "python",
   "nbconvert_exporter": "python",
   "pygments_lexer": "ipython3",
   "version": "3.11.0"
  },
  "orig_nbformat": 4
 },
 "nbformat": 4,
 "nbformat_minor": 2
}
