{
 "cells": [
  {
   "attachments": {},
   "cell_type": "markdown",
   "metadata": {},
   "source": [
    "# 1.내장함수"
   ]
  },
  {
   "attachments": {},
   "cell_type": "markdown",
   "metadata": {},
   "source": [
    "## 1)문자열 내장함수"
   ]
  },
  {
   "cell_type": "code",
   "execution_count": 1,
   "metadata": {},
   "outputs": [
    {
     "data": {
      "text/plain": [
       "2"
      ]
     },
     "execution_count": 1,
     "metadata": {},
     "output_type": "execute_result"
    }
   ],
   "source": [
    "# count() : 문자열 내의 특정 문자 개수 세기\n",
    "str = \"python programming\"\n",
    "str.count('p')"
   ]
  },
  {
   "cell_type": "code",
   "execution_count": 2,
   "metadata": {},
   "outputs": [
    {
     "data": {
      "text/plain": [
       "'p/y/t/h/o/n/ /p/r/o/g/m/r/a/m/i/n/g'"
      ]
     },
     "execution_count": 2,
     "metadata": {},
     "output_type": "execute_result"
    }
   ],
   "source": [
    "# join() : 문자열 삽입\n",
    "\"/\".join(\"python progmraming\")"
   ]
  },
  {
   "cell_type": "code",
   "execution_count": 3,
   "metadata": {},
   "outputs": [
    {
     "data": {
      "text/plain": [
       "13"
      ]
     },
     "execution_count": 3,
     "metadata": {},
     "output_type": "execute_result"
    }
   ],
   "source": [
    "# firnd() : 찾는 문자열이 처음 나온 인덱스 반환\n",
    "str = \"python programming\"\n",
    "str.find('m')"
   ]
  },
  {
   "cell_type": "code",
   "execution_count": 6,
   "metadata": {},
   "outputs": [
    {
     "name": "stdout",
     "output_type": "stream",
     "text": [
      "PYTHON PROGRAMMING\n",
      "python programming\n"
     ]
    }
   ],
   "source": [
    "# upper() : 소문자를 대문자로 변환\n",
    "str = \"python programming\"\n",
    "str = str.upper()\n",
    "print(str)\n",
    "\n",
    "# lower() : 대분자를 소문자로 변환\n",
    "str = str.lower()\n",
    "print(str)"
   ]
  },
  {
   "cell_type": "code",
   "execution_count": 8,
   "metadata": {},
   "outputs": [
    {
     "data": {
      "text/plain": [
       "'Java Programming'"
      ]
     },
     "execution_count": 8,
     "metadata": {},
     "output_type": "execute_result"
    }
   ],
   "source": [
    "# repace() : 문자열 내의 특정 값을 다른 값으로 치환\n",
    "str=\"Python Programming\"\n",
    "str.replace(\"Python\", \"Java\") "
   ]
  },
  {
   "cell_type": "code",
   "execution_count": 9,
   "metadata": {},
   "outputs": [
    {
     "data": {
      "text/plain": [
       "['Python', 'Programming']"
      ]
     },
     "execution_count": 9,
     "metadata": {},
     "output_type": "execute_result"
    }
   ],
   "source": [
    "# split() : 공백 또는 특정 문자를 구분자로 문자열 분리\n",
    "str = \"Python Programming\"\n",
    "str.split()"
   ]
  },
  {
   "attachments": {},
   "cell_type": "markdown",
   "metadata": {},
   "source": [
    "## 2) 시퀀스 자료형의 내장함수"
   ]
  },
  {
   "attachments": {},
   "cell_type": "markdown",
   "metadata": {},
   "source": [
    "### (1)리스트 내장함수\n"
   ]
  },
  {
   "cell_type": "code",
   "execution_count": 18,
   "metadata": {},
   "outputs": [
    {
     "name": "stdout",
     "output_type": "stream",
     "text": [
      "['a', 'b', 'c', 'd']\n",
      "['a', 'a', 'b', 'c', 'd']\n",
      "['a', 'f', 'b', 'c', 'd']\n",
      "['a', 'b', 'c', 'd']\n",
      "['a', 'c', 'd']\n"
     ]
    }
   ],
   "source": [
    "arr = ['a', 'b', 'c']\n",
    "\n",
    "# append() : 리스트 맨 뒤에 추가\n",
    "arr.append('d')\n",
    "print(arr)\n",
    "\n",
    "# insert() : 원하는 인덱스에 추가\n",
    "arr.insert(1, 'a')\n",
    "print(arr)\n",
    "\n",
    "# 리스트 원소 수정\n",
    "arr[1] = 'f'\n",
    "print(arr)\n",
    "\n",
    "# 인덱스 번호로 리스트 원소 삭제\n",
    "del arr[1]\n",
    "print(arr)\n",
    "\n",
    "# 요소로 리스트 원소 삭제(가장 앞에 있는 것 하나만 삭제)\n",
    "arr.remove('b')\n",
    "print(arr)\n",
    "\n",
    "# index() : 해당 원소가 위치한 인덱스 값 반환\n",
    "# sort() : 정렬\n",
    "# reverse() : 역순으로 배열\n",
    "# count() : 해당 원소 포함된 갯수 반환"
   ]
  },
  {
   "attachments": {},
   "cell_type": "markdown",
   "metadata": {},
   "source": [
    "### (2)튜플과 딕셔너리의 내장함수"
   ]
  },
  {
   "cell_type": "code",
   "execution_count": 19,
   "metadata": {},
   "outputs": [
    {
     "name": "stdout",
     "output_type": "stream",
     "text": [
      "dict_keys([1, 2, 3])\n",
      "dict_values(['python', 30, 'programming'])\n",
      "dict_items([(1, 'a'), (2, 'b'), (3, 'c')])\n",
      "30\n"
     ]
    }
   ],
   "source": [
    "dic1 = {1:'a', 2:'b', 3:'c'}\n",
    "dic2 = {'name':'python', 'age':30, 'job':'programming'}\n",
    "\n",
    "# keys() : key만 모아서 dict_keys 객체로 반환\n",
    "print(dic1.keys())\n",
    "\n",
    "# values() : value만 모아서 dict_values 객체로 반환\n",
    "print(dic2.values())\n",
    "\n",
    "# items() : key와 value를 튜플로 묶은 값들을 모아서 dict_items 객체로 반환\n",
    "print(dic1.items())\n",
    "\n",
    "# in : key가 딕셔너리 안에 있는지 조사\n",
    "if 'age' in dic2:\n",
    "# get() : key에 대응되는 value를 반환\n",
    "    print(dic2.get('age'))\n",
    "\n",
    "  "
   ]
  },
  {
   "attachments": {},
   "cell_type": "markdown",
   "metadata": {},
   "source": [
    "# 2.넘파이"
   ]
  },
  {
   "cell_type": "code",
   "execution_count": null,
   "metadata": {},
   "outputs": [],
   "source": []
  },
  {
   "cell_type": "code",
   "execution_count": null,
   "metadata": {},
   "outputs": [],
   "source": []
  },
  {
   "cell_type": "code",
   "execution_count": null,
   "metadata": {},
   "outputs": [],
   "source": []
  },
  {
   "attachments": {},
   "cell_type": "markdown",
   "metadata": {},
   "source": [
    "# 3. 판다스"
   ]
  },
  {
   "cell_type": "code",
   "execution_count": null,
   "metadata": {},
   "outputs": [],
   "source": []
  },
  {
   "cell_type": "code",
   "execution_count": null,
   "metadata": {},
   "outputs": [],
   "source": []
  },
  {
   "cell_type": "code",
   "execution_count": null,
   "metadata": {},
   "outputs": [],
   "source": []
  }
 ],
 "metadata": {
  "kernelspec": {
   "display_name": "ml",
   "language": "python",
   "name": "python3"
  },
  "language_info": {
   "codemirror_mode": {
    "name": "ipython",
    "version": 3
   },
   "file_extension": ".py",
   "mimetype": "text/x-python",
   "name": "python",
   "nbconvert_exporter": "python",
   "pygments_lexer": "ipython3",
   "version": "3.11.0"
  },
  "orig_nbformat": 4
 },
 "nbformat": 4,
 "nbformat_minor": 2
}
