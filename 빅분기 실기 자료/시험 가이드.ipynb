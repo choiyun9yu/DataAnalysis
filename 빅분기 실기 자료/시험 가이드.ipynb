{
 "cells": [
  {
   "attachments": {},
   "cell_type": "markdown",
   "metadata": {},
   "source": [
    "# 1유형"
   ]
  },
  {
   "cell_type": "code",
   "execution_count": null,
   "metadata": {},
   "outputs": [],
   "source": []
  },
  {
   "attachments": {},
   "cell_type": "markdown",
   "metadata": {},
   "source": [
    "# 2유형"
   ]
  },
  {
   "cell_type": "code",
   "execution_count": null,
   "metadata": {},
   "outputs": [],
   "source": []
  },
  {
   "attachments": {},
   "cell_type": "markdown",
   "metadata": {},
   "source": [
    "# 3유형"
   ]
  },
  {
   "attachments": {},
   "cell_type": "markdown",
   "metadata": {},
   "source": [
    "### 1) 정규성 검정"
   ]
  },
  {
   "cell_type": "code",
   "execution_count": 9,
   "metadata": {},
   "outputs": [
    {
     "name": "stdout",
     "output_type": "stream",
     "text": [
      "ShapiroResult(statistic=0.9872668981552124, pvalue=0.4558176100254059)\n",
      "KstestResult(statistic=1.0, pvalue=0.0)\n",
      "NormaltestResult(statistic=array([2.10749347]), pvalue=array([0.34862908]))\n"
     ]
    }
   ],
   "source": [
    "import pandas as pd\n",
    "df = pd.read_csv('https://raw.githubusercontent.com/Datamanim/datarepo/main/scipy/height1.csv')\n",
    "\n",
    "# 정규성 검정\n",
    "gA = df\n",
    "from scipy.stats import shapiro, kstest, normaltest, anderson\n",
    "print(shapiro(gA))\n",
    "print(kstest(gA, \"norm\"))\n",
    "print(normaltest(gA))"
   ]
  },
  {
   "attachments": {},
   "cell_type": "markdown",
   "metadata": {},
   "source": [
    "### 2) 등분산 검정"
   ]
  },
  {
   "cell_type": "code",
   "execution_count": 22,
   "metadata": {},
   "outputs": [
    {
     "name": "stdout",
     "output_type": "stream",
     "text": [
      "BartlettResult(statistic=0.26035880448930865, pvalue=0.609873758447687)\n",
      "LeveneResult(statistic=0.3145466542912649, pvalue=0.5751662820554713)\n"
     ]
    }
   ],
   "source": [
    "import pandas as pd \n",
    "df = pd.read_csv('https://raw.githubusercontent.com/Datamanim/datarepo/main/scipy/scipy2.csv')\n",
    "# df.info() # class, score\n",
    "# print(df['class'].value_counts())\n",
    "\n",
    "# 그룹나누기\n",
    "gA = df.loc[df['class']=='A', 'score']\n",
    "gB = df.loc[df['class']=='B', 'score']\n",
    "# print(gA.shape, gB.shape)\n",
    "\n",
    "# 등분산 검정\n",
    "from scipy.stats import bartlett, levene\n",
    "print(bartlett(gA, gB))\n",
    "print(levene(gA, gB, center='median'))"
   ]
  },
  {
   "attachments": {},
   "cell_type": "markdown",
   "metadata": {},
   "source": [
    "### 3) 모수 검정"
   ]
  },
  {
   "cell_type": "code",
   "execution_count": 4,
   "metadata": {},
   "outputs": [
    {
     "name": "stdout",
     "output_type": "stream",
     "text": [
      "[3.2017885] [0.00183672]\n"
     ]
    }
   ],
   "source": [
    "# 단일표본 t검정\n",
    "# 그리고 평균키는 165라 판단할수 있는지 귀무가설과 대립가설을 설정한 후 유의수준 5%로 검정하라.\n",
    "import pandas as pd\n",
    "df = pd.read_csv('https://raw.githubusercontent.com/Datamanim/datarepo/main/scipy/height1.csv')\n",
    "\n",
    "# 그룹 나누기\n",
    "gA = df\n",
    "n = 165\n",
    "\n",
    "# 검정\n",
    "from scipy.stats import ttest_1samp\n",
    "s, p = ttest_1samp(gA, n, alternative='two-sided')\n",
    "print(s, p)"
   ]
  },
  {
   "cell_type": "code",
   "execution_count": 32,
   "metadata": {},
   "outputs": [
    {
     "name": "stdout",
     "output_type": "stream",
     "text": [
      "Ttest_indResult(statistic=array([2.76719074]), pvalue=array([0.00619015]))\n"
     ]
    }
   ],
   "source": [
    "#  독립표본 t검정\n",
    "# 두개 학급의 시험성적에 대한 데이터이다. 두 학습의 시험 평균(비모수검정의 경우 중위값)은 동일하다 말할 수 있는지 확인 하라\n",
    "import pandas as pd \n",
    "df1 = pd.read_csv('https://raw.githubusercontent.com/Datamanim/datarepo/main/scipy/ind1.csv')\n",
    "df2 = pd.read_csv('https://raw.githubusercontent.com/Datamanim/datarepo/main/scipy/ind2.csv')\n",
    "\n",
    "# 그룹 나누기\n",
    "gA = df1\n",
    "gB = df2\n",
    "\n",
    "from scipy.stats import ttest_ind\n",
    "print(ttest_ind(gA, gB, alternative='two-sided', equal_var=True))"
   ]
  },
  {
   "cell_type": "code",
   "execution_count": 26,
   "metadata": {},
   "outputs": [
    {
     "name": "stdout",
     "output_type": "stream",
     "text": [
      "Ttest_relResult(statistic=2.5535473487670672, pvalue=0.9940366276377267)\n"
     ]
    }
   ],
   "source": [
    "# 대응표본 t검정 \n",
    "# 특정 질병 집단의 투약 전후의 혈류량 변화를 나타낸 데이터이다. 투약 전후의 변화가 있는지 검정하라\n",
    "import pandas as pd \n",
    "df = pd.read_csv('https://raw.githubusercontent.com/Datamanim/datarepo/main/scipy/rel2.csv')\n",
    "\n",
    "# 그룹 나누기 \n",
    "gA = df['after']\n",
    "gB = df['before']\n",
    "\n",
    "# 검정\n",
    "from scipy.stats import ttest_rel\n",
    "print(ttest_rel(gA, gB, alternative='less'))"
   ]
  },
  {
   "cell_type": "code",
   "execution_count": null,
   "metadata": {},
   "outputs": [],
   "source": [
    "# one way ANOVA\n",
    "\n",
    "\n",
    "# 그룹나누기\n",
    "gA = \n",
    "gB = \n",
    "gC = \n",
    "\n",
    "# 검정\n",
    "from scipy.stats import f_oneway\n",
    "print(f_oneway(gA, gB, gC)) # 반환값 F-statistics, P-value"
   ]
  },
  {
   "attachments": {},
   "cell_type": "markdown",
   "metadata": {},
   "source": [
    "### 4) 비모수 검정 - 범주형"
   ]
  },
  {
   "cell_type": "code",
   "execution_count": 48,
   "metadata": {},
   "outputs": [],
   "source": [
    "# 카이제곱 적합성 검정\n",
    "\n",
    "\n",
    "# 그룹나누기\n",
    "obs = \n",
    "exp = \n",
    "\n",
    "# 검정\n",
    "from scipy.stats import chisquare\n",
    "print(chisquare(exp, obs))"
   ]
  },
  {
   "cell_type": "code",
   "execution_count": 36,
   "metadata": {},
   "outputs": [],
   "source": [
    "# 카이제곱 동질성 검정\n",
    "\n",
    "\n",
    "# 그룹나누기\n",
    "crstab = pd.crosstab(index= , columns=)\n",
    "\n",
    "# 검정\n",
    "from scipy.stats import chi2_contingency\n",
    "print(chi2_contingency(crstab))"
   ]
  },
  {
   "cell_type": "code",
   "execution_count": 37,
   "metadata": {},
   "outputs": [],
   "source": [
    "# 카이제곱 독립성 검정\n",
    "\n",
    "\n",
    "# 그룹나누기\n",
    "crstab = pd.crosstab(index= , columns=)\n",
    "\n",
    "# 검정\n",
    "from scipy.stats import chi2_contingency\n",
    "print(chi2_contingency(crstab))"
   ]
  },
  {
   "cell_type": "code",
   "execution_count": 51,
   "metadata": {},
   "outputs": [
    {
     "name": "stdout",
     "output_type": "stream",
     "text": [
      "['ConstantInputWarning', 'DegenerateDataWarning', 'FitError', 'NearConstantInputWarning', 'NumericalInverseHermite', 'alexandergovern', 'alpha', 'anderson', 'anderson_ksamp', 'anglit', 'ansari', 'arcsine', 'argus', 'barnard_exact', 'bartlett', 'bayes_mvs', 'bernoulli', 'beta', 'betabinom', 'betaprime', 'biasedurn', 'binned_statistic', 'binned_statistic_2d', 'binned_statistic_dd', 'binom', 'binom_test', 'binomtest', 'boltzmann', 'bootstrap', 'boschloo_exact', 'boxcox', 'boxcox_llf', 'boxcox_normmax', 'boxcox_normplot', 'bradford', 'brunnermunzel', 'burr', 'burr12', 'cauchy', 'chi', 'chi2', 'chi2_contingency', 'chisquare', 'circmean', 'circstd', 'circvar', 'combine_pvalues', 'contingency', 'cosine', 'cramervonmises', 'cramervonmises_2samp', 'crystalball', 'cumfreq', 'describe', 'dgamma', 'differential_entropy', 'dirichlet', 'distributions', 'dlaplace', 'dweibull', 'energy_distance', 'entropy', 'epps_singleton_2samp', 'erlang', 'expon', 'exponnorm', 'exponpow', 'exponweib', 'f', 'f_oneway', 'fatiguelife', 'find_repeats', 'fisher_exact', 'fisk', 'fit', 'fligner', 'foldcauchy', 'foldnorm', 'friedmanchisquare', 'gamma', 'gausshyper', 'gaussian_kde', 'genexpon', 'genextreme', 'gengamma', 'genhalflogistic', 'genhyperbolic', 'geninvgauss', 'genlogistic', 'gennorm', 'genpareto', 'geom', 'gibrat', 'gilbrat', 'gmean', 'gompertz', 'gstd', 'gumbel_l', 'gumbel_r', 'gzscore', 'halfcauchy', 'halfgennorm', 'halflogistic', 'halfnorm', 'hmean', 'hypergeom', 'hypsecant', 'invgamma', 'invgauss', 'invweibull', 'invwishart', 'iqr', 'jarque_bera', 'johnsonsb', 'johnsonsu', 'kappa3', 'kappa4', 'kde', 'kendalltau', 'kruskal', 'ks_1samp', 'ks_2samp', 'ksone', 'kstat', 'kstatvar', 'kstest', 'kstwo', 'kstwobign', 'kurtosis', 'kurtosistest', 'laplace', 'laplace_asymmetric', 'levene', 'levy', 'levy_l', 'levy_stable', 'linregress', 'loggamma', 'logistic', 'loglaplace', 'lognorm', 'logser', 'loguniform', 'lomax', 'mannwhitneyu', 'matrix_normal', 'maxwell', 'median_abs_deviation', 'median_test', 'mielke', 'mode', 'moment', 'monte_carlo_test', 'mood', 'morestats', 'moyal', 'mstats', 'mstats_basic', 'mstats_extras', 'multinomial', 'multiscale_graphcorr', 'multivariate_hypergeom', 'multivariate_normal', 'multivariate_t', 'mvn', 'mvsdist', 'nakagami', 'nbinom', 'ncf', 'nchypergeom_fisher', 'nchypergeom_wallenius', 'nct', 'ncx2', 'nhypergeom', 'norm', 'normaltest', 'norminvgauss', 'obrientransform', 'ortho_group', 'page_trend_test', 'pareto', 'pearson3', 'pearsonr', 'percentileofscore', 'permutation_test', 'planck', 'pmean', 'pointbiserialr', 'poisson', 'power_divergence', 'powerlaw', 'powerlognorm', 'powernorm', 'ppcc_max', 'ppcc_plot', 'probplot', 'qmc', 'randint', 'random_correlation', 'rankdata', 'ranksums', 'rayleigh', 'rdist', 'recipinvgauss', 'reciprocal', 'relfreq', 'rice', 'rv_continuous', 'rv_discrete', 'rv_histogram', 'rvs_ratio_uniforms', 'scoreatpercentile', 'sem', 'semicircular', 'shapiro', 'siegelslopes', 'sigmaclip', 'skellam', 'skew', 'skewcauchy', 'skewnorm', 'skewtest', 'somersd', 'spearmanr', 'special_ortho_group', 'statlib', 'stats', 'studentized_range', 't', 'theilslopes', 'tiecorrect', 'tmax', 'tmean', 'tmin', 'trapezoid', 'trapz', 'triang', 'trim1', 'trim_mean', 'trimboth', 'truncexpon', 'truncnorm', 'truncweibull_min', 'tsem', 'tstd', 'ttest_1samp', 'ttest_ind', 'ttest_ind_from_stats', 'ttest_rel', 'tukey_hsd', 'tukeylambda', 'tvar', 'uniform', 'unitary_group', 'variation', 'vonmises', 'vonmises_line', 'wald', 'wasserstein_distance', 'weibull_max', 'weibull_min', 'weightedtau', 'wilcoxon', 'wishart', 'wrapcauchy', 'yeojohnson', 'yeojohnson_llf', 'yeojohnson_normmax', 'yeojohnson_normplot', 'yulesimon', 'zipf', 'zipfian', 'zmap', 'zscore']\n"
     ]
    }
   ],
   "source": [
    "# 피셔의 정확성 검정\n",
    "\n",
    "# 그룹나누기\n",
    "# metrics = \n",
    "\n",
    "# 검정\n",
    "from scipy.stats import fisher_exact\n",
    "print(fisher_exact(metrics)) # 반환값 odd, p-value"
   ]
  },
  {
   "attachments": {},
   "cell_type": "markdown",
   "metadata": {},
   "source": [
    "### 5) 비모수 검정 - 순서형"
   ]
  },
  {
   "cell_type": "code",
   "execution_count": 38,
   "metadata": {},
   "outputs": [],
   "source": [
    "# 단일표본 검정\n",
    "\n",
    "\n",
    "# 그룹나누기\n",
    "gA = \n",
    "n\n",
    "\n",
    "# 검정\n",
    "from scipy.stats import wilcoxon\n",
    "print(wilcoxon(gA-n))"
   ]
  },
  {
   "cell_type": "code",
   "execution_count": 41,
   "metadata": {},
   "outputs": [],
   "source": [
    "# 쌍체 3표본 검정\n",
    "\n",
    "\n",
    "# 그룹나누기\n",
    "gA = \n",
    "gB = \n",
    "\n",
    "# 검정\n",
    "from scipy.stats import wilcoxon\n",
    "print(wilcoxon(gA-gB))"
   ]
  },
  {
   "cell_type": "code",
   "execution_count": 40,
   "metadata": {},
   "outputs": [],
   "source": [
    "# 독립 2표본 검정\n",
    "\n",
    "# 그룹나누기\n",
    "gA = \n",
    "gB =\n",
    "\n",
    "# 검정1\n",
    "from scipy.stats import ransksums\n",
    "print(ransksums(gA-gB))\n",
    "\n",
    "# 검정2\n",
    "from scipy.stats import mannwhitneyu\n",
    "print(mannwhitneyu(gA, gB))"
   ]
  },
  {
   "cell_type": "code",
   "execution_count": 42,
   "metadata": {},
   "outputs": [],
   "source": [
    "# kruskal 검정검정\n",
    "\n",
    "\n",
    "# 그룹나누기\n",
    "gA = \n",
    "gB = \n",
    "gC = \n",
    "\n",
    "# 검정\n",
    "from scipy.stats import kruskal\n",
    "print(kruskal(gA, gB, gC))  # 반환값 : H-statistics, P-value"
   ]
  },
  {
   "cell_type": "code",
   "execution_count": null,
   "metadata": {},
   "outputs": [],
   "source": []
  },
  {
   "cell_type": "code",
   "execution_count": null,
   "metadata": {},
   "outputs": [],
   "source": []
  }
 ],
 "metadata": {
  "kernelspec": {
   "display_name": "ml",
   "language": "python",
   "name": "ml"
  },
  "language_info": {
   "codemirror_mode": {
    "name": "ipython",
    "version": 3
   },
   "file_extension": ".py",
   "mimetype": "text/x-python",
   "name": "python",
   "nbconvert_exporter": "python",
   "pygments_lexer": "ipython3",
   "version": "3.11.0"
  },
  "orig_nbformat": 4
 },
 "nbformat": 4,
 "nbformat_minor": 2
}
