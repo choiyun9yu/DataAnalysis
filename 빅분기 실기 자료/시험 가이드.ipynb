{
 "cells": [
  {
   "attachments": {},
   "cell_type": "markdown",
   "metadata": {},
   "source": [
    "# 유형1 : 데이터 전처리 작업 3문제 * 10 [30점]"
   ]
  },
  {
   "attachments": {},
   "cell_type": "markdown",
   "metadata": {},
   "source": [
    "### 1. 데이터 불러오기"
   ]
  },
  {
   "cell_type": "code",
   "execution_count": null,
   "metadata": {},
   "outputs": [],
   "source": [
    "import pandas as pd\n",
    "\n",
    "# csv 파일 불러오기 \n",
    "df = pd.read_csv('파일경로.csv')\n",
    "## 불러오면서 인덱스 컬럼 설정\n",
    "df_csv1 = pd.read_csv('파일경로.csv', index_col='인덱스로 삼을 칼럼명')\n",
    "## 불러오면서 구분자 지정\n",
    "df_csv2 = pd.read_csv('파일경로.csv', sep='\\t')\n",
    "## 불러올 때 언어 설정\n",
    "df_csv3 = pd.read_csv('파일경로.csv', encoding='euc-kr')  # 한글지원 : euc-kr, cp949\n",
    "\n",
    "# excel 파일 불러오기 (엑셀은 엔진 설정해주기!!)\n",
    "df_excel = pd.read_excel('파일경로.xlsx', engine='openpyxl')"
   ]
  },
  {
   "attachments": {},
   "cell_type": "markdown",
   "metadata": {},
   "source": [
    "### 2. 데이터 구조 확인 "
   ]
  },
  {
   "cell_type": "code",
   "execution_count": null,
   "metadata": {},
   "outputs": [],
   "source": [
    "# 처음부터 n개 행의 데이터 확인\n",
    "df.head()\n",
    "# 끝부터 n개 행의 데이터 확인\n",
    "df.tail()\n",
    "\n",
    "# 데이터프레임 row개수, colum개수, Not null,dtype 등 정보 확인\n",
    "df.info()\n",
    "# 데이터프레임 통계 정보 확인\n",
    "df.describe()\n",
    "\n",
    "# 데이터프레임의 행, 열의 수를 (행, 열)형태의 튜블로 반환\n",
    "df.shape\n",
    "# 데이터프레임의 (행 x 열)의 전체 데이터 수를 반환\n",
    "df.size\n",
    "\n",
    "#데이터프레임의 인덱스 확인 (보통 0으로 시작해서 몇으로 끝나고 스텝이 몇인지 등을 보여줌)\n",
    "df.index\n",
    "# 데이터프레임의 컬럼 확인\n",
    "df.columns          # 타입 index\n",
    "df.columns.values   # 타입 array\n",
    "# 데이터프레임의 구성요소 2차원으로 보기\n",
    "df.values           # 타입 array\n",
    "\n"
   ]
  },
  {
   "attachments": {},
   "cell_type": "markdown",
   "metadata": {},
   "source": [
    "### 3. 데이터 타입 변경"
   ]
  },
  {
   "cell_type": "code",
   "execution_count": null,
   "metadata": {},
   "outputs": [],
   "source": []
  },
  {
   "attachments": {},
   "cell_type": "markdown",
   "metadata": {},
   "source": [
    "### 4. 데이터 정렬"
   ]
  },
  {
   "cell_type": "code",
   "execution_count": null,
   "metadata": {},
   "outputs": [],
   "source": []
  },
  {
   "attachments": {},
   "cell_type": "markdown",
   "metadata": {},
   "source": [
    "### 5. 데이터 통계 확인"
   ]
  },
  {
   "cell_type": "code",
   "execution_count": null,
   "metadata": {},
   "outputs": [],
   "source": []
  },
  {
   "attachments": {},
   "cell_type": "markdown",
   "metadata": {},
   "source": [
    "### 6. 시각화"
   ]
  },
  {
   "cell_type": "code",
   "execution_count": null,
   "metadata": {},
   "outputs": [],
   "source": []
  },
  {
   "cell_type": "code",
   "execution_count": null,
   "metadata": {},
   "outputs": [],
   "source": []
  },
  {
   "attachments": {},
   "cell_type": "markdown",
   "metadata": {},
   "source": [
    "### 7. 데이터 정제하기"
   ]
  },
  {
   "attachments": {},
   "cell_type": "markdown",
   "metadata": {},
   "source": [
    "#### 1) 결측치"
   ]
  },
  {
   "cell_type": "code",
   "execution_count": null,
   "metadata": {},
   "outputs": [],
   "source": []
  },
  {
   "attachments": {},
   "cell_type": "markdown",
   "metadata": {},
   "source": [
    "#### 2) 이상치"
   ]
  },
  {
   "cell_type": "code",
   "execution_count": null,
   "metadata": {},
   "outputs": [],
   "source": []
  },
  {
   "attachments": {},
   "cell_type": "markdown",
   "metadata": {},
   "source": [
    "### 3) 파생 변수"
   ]
  },
  {
   "cell_type": "code",
   "execution_count": null,
   "metadata": {},
   "outputs": [],
   "source": []
  },
  {
   "attachments": {},
   "cell_type": "markdown",
   "metadata": {},
   "source": [
    "유형2 : 데이터 전처리 및 모델링 1문제(40*1)\n",
    "    1. 데이터 불러오기 : pd.read_csv('.csv', index_col=0)\n",
    "    2. 데이터 정제하기\n",
    "        1) 결측치 제거 or 대체\n",
    "        2) 이상치 제거 or 대체\n",
    "    3. 데이터 변환하기\n",
    "        1) 불리언 인덱싱\n",
    "        2) np.where(조건식)\n",
    "    4. 범주형 데이터 라벨링\n",
    "        1) LabelEncoding\n",
    "        2) one-hot-encoding(getdummys()?)\n",
    "    5. 뉴메리컬 데이터 스케일링\n",
    "        1) StandardScaler\n",
    "        2) MinMaxScaler\n",
    "    6. 모델링\n",
    "        1) 지도학습 분류 : RandomforestClassifier\n",
    "        2) 지도학습 회귀 : RandomforestRegressor\n",
    "        3) 비지도학습 군집화\n",
    "    7. 모델 적용\n",
    "        1) train_test_split(층화 추출 옵션stratify = y)\n",
    "        2) new - fit - predict\n",
    "    8. 모델 성능 확인 : 문제에서 요구하는 평가지표에 맞게 수행\n",
    "        1) 지도 학습\n",
    "            - 정확도(accuracy)\n",
    "            - 정밀도(precision)\n",
    "            - 재현율(recall)\n",
    "            - 특이도(Specificity)\n",
    "            - f1_score : \n",
    "            - ROC(Receiver Operating Characteristic) 곡선: \n",
    "            - AUC(Are Under Curve) : \n",
    "        2) 회귀 학습\n",
    "            - SSE(Sum Squared Error) : \n",
    "            - MSE(Mean Squared Error) : \n",
    "            - RMSE(Root Mean Squared Error) :\n",
    "            - MAE(Mean Absolute Error) : \n",
    "            - 결정계수(R2) :\n",
    "            - Adjusted R2 : \n",
    "            - MSPE(Mean Squared Percentage Error) : \n",
    "            - MAPE(Mean Absolute Percentage Error) :\n",
    "            - RMSLE(Root Mean Squared Logarithmic Error) : \n",
    "            - AIC(Akaike Information Criterion) : \n",
    "            - BIC(Bayes Information Criteria) : \n",
    "        3) 비지도 학습\n",
    "            - 실루엣 계수(Silhouette) : \n",
    "            - Dunn lndex : \n",
    "            - 군집 분석\n",
    "            - 연관 분석\n",
    "    9. 예측 값 저장 \n",
    "        submission.columns([''])\n",
    "        to_csv('.csv', index=False)\n",
    "\n",
    "\n",
    "\n",
    "유형3 : 데이터 검증 2문제(15*2)\n",
    "    1. 데이터 불러오기 : pd.read_csv('.csv', index_col=0)\n",
    "    2. 데이터 파악하기 : data.describe()\n",
    "    3. 데이터 검증하기\n",
    "    귀무가설(h0) 대신 대립가설(h1)을 선택할 시 오류를 범할 최대의 확률 값으로 0.05 이하이면 유의하여 대립가설 채택, 일반적으로 채택/기각은 귀무가설 기준\n",
    "        01) t-검정\n",
    "            (1)\n",
    "            (2)\n",
    "            (3)\n",
    "        02) 정규성 검정\n",
    "            (1)\n",
    "            (2)\n",
    "        03) One-way ANOVA\n",
    "        04) Two-way ANOVA\n",
    "        05) 카이제곱 검정\n",
    "            (1) 독립성 검정\n",
    "            (2) 동질성 검정\n",
    "            (3) 적합성 검정\n",
    "        06) 순위 검정\n",
    "            (1) 윌콕슨 순위합 검정\n",
    "            (2) 크루스칼 - 왈리스 검정\n",
    "        07) 부호검정\n",
    "            (1) 부호검정\n",
    "            (2) 맥네마 검정\n",
    "        08) 다변량 추론\n",
    "            (1) 다중 회귀 분석\n",
    "\n",
    "    4. 결과값 입력하기\n",
    "\n",
    "\n",
    "\n",
    "t-검정 이해하기\n"
   ]
  }
 ],
 "metadata": {
  "kernelspec": {
   "display_name": "ml",
   "language": "python",
   "name": "ml"
  },
  "language_info": {
   "name": "python",
   "version": "3.11.0"
  },
  "orig_nbformat": 4
 },
 "nbformat": 4,
 "nbformat_minor": 2
}
