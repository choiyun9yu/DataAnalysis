{
  "nbformat": 4,
  "nbformat_minor": 0,
  "metadata": {
    "colab": {
      "name": "CHAPTER 02-SECTION 02 데이터 전처리 개요.ipynb",
      "provenance": []
    },
    "kernelspec": {
      "name": "ir",
      "display_name": "R"
    },
    "language_info": {
      "name": "R"
    }
  },
  "cells": [
    {
      "cell_type": "markdown",
      "source": [
        "PART 03 R 분석\n",
        "\n",
        "> CHAPTER 02 제1유형: 데이터 전처리\n",
        "> >SECTION 02 데이터 전처리 개요\n",
        "> > >**02 데이터 변환**"
      ],
      "metadata": {
        "id": "F1Cglb_NTO_0"
      }
    },
    {
      "cell_type": "code",
      "execution_count": 21,
      "metadata": {
        "colab": {
          "base_uri": "https://localhost:8080/",
          "height": 286
        },
        "id": "6APsiw3KTGZj",
        "outputId": "e4b17d1b-1000-4016-fa56-0fda912a856e"
      },
      "outputs": [
        {
          "output_type": "display_data",
          "data": {
            "text/html": [
              "<table class=\"dataframe\">\n",
              "<caption>A data.frame: 6 × 2</caption>\n",
              "<thead>\n",
              "\t<tr><th></th><th scope=col>meat_consumption_korean</th><th scope=col>meat_consumption_japan</th></tr>\n",
              "\t<tr><th></th><th scope=col>&lt;dbl&gt;</th><th scope=col>&lt;dbl&gt;</th></tr>\n",
              "</thead>\n",
              "<tbody>\n",
              "\t<tr><th scope=row>1</th><td>55.52176</td><td>36.49680</td></tr>\n",
              "\t<tr><th scope=row>2</th><td>55.69091</td><td>33.01312</td></tr>\n",
              "\t<tr><th scope=row>3</th><td>57.63996</td><td>36.79460</td></tr>\n",
              "\t<tr><th scope=row>4</th><td>50.13948</td><td>32.06239</td></tr>\n",
              "\t<tr><th scope=row>5</th><td>52.22709</td><td>31.03956</td></tr>\n",
              "\t<tr><th scope=row>6</th><td>43.93626</td><td>34.82307</td></tr>\n",
              "</tbody>\n",
              "</table>\n"
            ],
            "text/markdown": "\nA data.frame: 6 × 2\n\n| <!--/--> | meat_consumption_korean &lt;dbl&gt; | meat_consumption_japan &lt;dbl&gt; |\n|---|---|---|\n| 1 | 55.52176 | 36.49680 |\n| 2 | 55.69091 | 33.01312 |\n| 3 | 57.63996 | 36.79460 |\n| 4 | 50.13948 | 32.06239 |\n| 5 | 52.22709 | 31.03956 |\n| 6 | 43.93626 | 34.82307 |\n\n",
            "text/latex": "A data.frame: 6 × 2\n\\begin{tabular}{r|ll}\n  & meat\\_consumption\\_korean & meat\\_consumption\\_japan\\\\\n  & <dbl> & <dbl>\\\\\n\\hline\n\t1 & 55.52176 & 36.49680\\\\\n\t2 & 55.69091 & 33.01312\\\\\n\t3 & 57.63996 & 36.79460\\\\\n\t4 & 50.13948 & 32.06239\\\\\n\t5 & 52.22709 & 31.03956\\\\\n\t6 & 43.93626 & 34.82307\\\\\n\\end{tabular}\n",
            "text/plain": [
              "  meat_consumption_korean meat_consumption_japan\n",
              "1 55.52176                36.49680              \n",
              "2 55.69091                33.01312              \n",
              "3 57.63996                36.79460              \n",
              "4 50.13948                32.06239              \n",
              "5 52.22709                31.03956              \n",
              "6 43.93626                34.82307              "
            ]
          },
          "metadata": {}
        }
      ],
      "source": [
        "# 한국인, 일본인 각 성인 1000명 육류소비량 데이터 생성\n",
        "meat_consumption_korean <- rnorm(n=1000, mean=53.9, sd=5)\n",
        "meat_consumption_japan <- rnorm(n=1000, mean=32.9, sd=4)\n",
        "\n",
        "# 데이터 프레임 생성\n",
        "meat_consumption <- data.frame(meat_consumption_korean, meat_consumption_japan)\n",
        "\n",
        "# 상위 6개 데이터 확인\n",
        "head(meat_consumption)"
      ]
    },
    {
      "cell_type": "code",
      "source": [
        "# 한국인 육류소비량 히스토그램\n",
        "hist(meat_consumption_korean, freq = TRUE, main = \"Histogram of Korean Meat Eat\")\n",
        "\n",
        "# 일본인 육류소비량 히스토그램\n",
        "hist(meat_consumption_japan, freq = TRUE, main = \"Histogram of Japan Meat Eat\")"
      ],
      "metadata": {
        "colab": {
          "base_uri": "https://localhost:8080/",
          "height": 857
        },
        "id": "wjhzi8pzTphu",
        "outputId": "53390fbe-f42a-404b-894d-2479fa9a7a2e"
      },
      "execution_count": 22,
      "outputs": [
        {
          "output_type": "display_data",
          "data": {
            "text/plain": [
              "Plot with title “Histogram of Korean Meat Eat”"
            ],
            "image/png": "[encoded data removed]"
          },
          "metadata": {
            "image/png": {
              "width": 420,
              "height": 420
            }
          }
        },
        {
          "output_type": "display_data",
          "data": {
            "text/plain": [
              "Plot with title “Histogram of Japan Meat Eat”"
            ],
            "image/png": "[encoded data removed]"
          },
          "metadata": {
            "image/png": {
              "width": 420,
              "height": 420
            }
          }
        }
      ]
    },
    {
      "cell_type": "code",
      "source": [
        "# 표준정규화함수에 의한 변환 scale() 함수 이용\n",
        "# 기존 데이터프레임에 새로운 Z-표준화된 컬럼을 추가\n",
        "S1 <- scale(meat_consumption_korean)\n",
        "S2 <- scale(meat_consumption_japan)\n",
        "meat_consumption <- transform(meat_consumption, z_korean = S1, z_japan = S2)\n",
        "\n",
        "head(meat_consumption)"
      ],
      "metadata": {
        "colab": {
          "base_uri": "https://localhost:8080/",
          "height": 286
        },
        "id": "mrC6mtHmUDxW",
        "outputId": "7d390b81-e681-4f84-aa6c-33bd6275dca1"
      },
      "execution_count": 23,
      "outputs": [
        {
          "output_type": "display_data",
          "data": {
            "text/html": [
              "<table class=\"dataframe\">\n",
              "<caption>A data.frame: 6 × 4</caption>\n",
              "<thead>\n",
              "\t<tr><th></th><th scope=col>meat_consumption_korean</th><th scope=col>meat_consumption_japan</th><th scope=col>z_korean</th><th scope=col>z_japan</th></tr>\n",
              "\t<tr><th></th><th scope=col>&lt;dbl&gt;</th><th scope=col>&lt;dbl&gt;</th><th scope=col>&lt;dbl&gt;</th><th scope=col>&lt;dbl&gt;</th></tr>\n",
              "</thead>\n",
              "<tbody>\n",
              "\t<tr><th scope=row>1</th><td>55.52176</td><td>36.49680</td><td> 0.3143009</td><td> 0.93713844</td></tr>\n",
              "\t<tr><th scope=row>2</th><td>55.69091</td><td>33.01312</td><td> 0.3477935</td><td> 0.07203865</td></tr>\n",
              "\t<tr><th scope=row>3</th><td>57.63996</td><td>36.79460</td><td> 0.7337173</td><td> 1.01109138</td></tr>\n",
              "\t<tr><th scope=row>4</th><td>50.13948</td><td>32.06239</td><td>-0.7514239</td><td>-0.16405652</td></tr>\n",
              "\t<tr><th scope=row>5</th><td>52.22709</td><td>31.03956</td><td>-0.3380648</td><td>-0.41805643</td></tr>\n",
              "\t<tr><th scope=row>6</th><td>43.93626</td><td>34.82307</td><td>-1.9797009</td><td> 0.52150298</td></tr>\n",
              "</tbody>\n",
              "</table>\n"
            ],
            "text/markdown": "\nA data.frame: 6 × 4\n\n| <!--/--> | meat_consumption_korean &lt;dbl&gt; | meat_consumption_japan &lt;dbl&gt; | z_korean &lt;dbl&gt; | z_japan &lt;dbl&gt; |\n|---|---|---|---|---|\n| 1 | 55.52176 | 36.49680 |  0.3143009 |  0.93713844 |\n| 2 | 55.69091 | 33.01312 |  0.3477935 |  0.07203865 |\n| 3 | 57.63996 | 36.79460 |  0.7337173 |  1.01109138 |\n| 4 | 50.13948 | 32.06239 | -0.7514239 | -0.16405652 |\n| 5 | 52.22709 | 31.03956 | -0.3380648 | -0.41805643 |\n| 6 | 43.93626 | 34.82307 | -1.9797009 |  0.52150298 |\n\n",
            "text/latex": "A data.frame: 6 × 4\n\\begin{tabular}{r|llll}\n  & meat\\_consumption\\_korean & meat\\_consumption\\_japan & z\\_korean & z\\_japan\\\\\n  & <dbl> & <dbl> & <dbl> & <dbl>\\\\\n\\hline\n\t1 & 55.52176 & 36.49680 &  0.3143009 &  0.93713844\\\\\n\t2 & 55.69091 & 33.01312 &  0.3477935 &  0.07203865\\\\\n\t3 & 57.63996 & 36.79460 &  0.7337173 &  1.01109138\\\\\n\t4 & 50.13948 & 32.06239 & -0.7514239 & -0.16405652\\\\\n\t5 & 52.22709 & 31.03956 & -0.3380648 & -0.41805643\\\\\n\t6 & 43.93626 & 34.82307 & -1.9797009 &  0.52150298\\\\\n\\end{tabular}\n",
            "text/plain": [
              "  meat_consumption_korean meat_consumption_japan z_korean   z_japan    \n",
              "1 55.52176                36.49680                0.3143009  0.93713844\n",
              "2 55.69091                33.01312                0.3477935  0.07203865\n",
              "3 57.63996                36.79460                0.7337173  1.01109138\n",
              "4 50.13948                32.06239               -0.7514239 -0.16405652\n",
              "5 52.22709                31.03956               -0.3380648 -0.41805643\n",
              "6 43.93626                34.82307               -1.9797009  0.52150298"
            ]
          },
          "metadata": {}
        }
      ]
    },
    {
      "cell_type": "code",
      "source": [
        "# 표준정규화 수식을 직접 입력\n",
        "# 기존 데이터프레임에 새로운 Z-표준화된 컬럼을 추가\n",
        "S1 <- (meat_consumption_korean - mean(meat_consumption_korean))/sd(meat_consumption_korean)\n",
        "S2 <- (meat_consumption_japan - mean(meat_consumption_japan))/sd(meat_consumption_japan)\n",
        "meat_consumption <- transform(meat_consumption, z2_korean = S1, z2_japan = S2)\n",
        "\n",
        "head(meat_consumption)"
      ],
      "metadata": {
        "colab": {
          "base_uri": "https://localhost:8080/",
          "height": 286
        },
        "id": "Je_15Ll9UGju",
        "outputId": "6477ee1e-0b8a-4664-d8db-9ffa0bd3a24a"
      },
      "execution_count": 24,
      "outputs": [
        {
          "output_type": "display_data",
          "data": {
            "text/html": [
              "<table class=\"dataframe\">\n",
              "<caption>A data.frame: 6 × 6</caption>\n",
              "<thead>\n",
              "\t<tr><th></th><th scope=col>meat_consumption_korean</th><th scope=col>meat_consumption_japan</th><th scope=col>z_korean</th><th scope=col>z_japan</th><th scope=col>z2_korean</th><th scope=col>z2_japan</th></tr>\n",
              "\t<tr><th></th><th scope=col>&lt;dbl&gt;</th><th scope=col>&lt;dbl&gt;</th><th scope=col>&lt;dbl&gt;</th><th scope=col>&lt;dbl&gt;</th><th scope=col>&lt;dbl&gt;</th><th scope=col>&lt;dbl&gt;</th></tr>\n",
              "</thead>\n",
              "<tbody>\n",
              "\t<tr><th scope=row>1</th><td>55.52176</td><td>36.49680</td><td> 0.3143009</td><td> 0.93713844</td><td> 0.3143009</td><td> 0.93713844</td></tr>\n",
              "\t<tr><th scope=row>2</th><td>55.69091</td><td>33.01312</td><td> 0.3477935</td><td> 0.07203865</td><td> 0.3477935</td><td> 0.07203865</td></tr>\n",
              "\t<tr><th scope=row>3</th><td>57.63996</td><td>36.79460</td><td> 0.7337173</td><td> 1.01109138</td><td> 0.7337173</td><td> 1.01109138</td></tr>\n",
              "\t<tr><th scope=row>4</th><td>50.13948</td><td>32.06239</td><td>-0.7514239</td><td>-0.16405652</td><td>-0.7514239</td><td>-0.16405652</td></tr>\n",
              "\t<tr><th scope=row>5</th><td>52.22709</td><td>31.03956</td><td>-0.3380648</td><td>-0.41805643</td><td>-0.3380648</td><td>-0.41805643</td></tr>\n",
              "\t<tr><th scope=row>6</th><td>43.93626</td><td>34.82307</td><td>-1.9797009</td><td> 0.52150298</td><td>-1.9797009</td><td> 0.52150298</td></tr>\n",
              "</tbody>\n",
              "</table>\n"
            ],
            "text/markdown": "\nA data.frame: 6 × 6\n\n| <!--/--> | meat_consumption_korean &lt;dbl&gt; | meat_consumption_japan &lt;dbl&gt; | z_korean &lt;dbl&gt; | z_japan &lt;dbl&gt; | z2_korean &lt;dbl&gt; | z2_japan &lt;dbl&gt; |\n|---|---|---|---|---|---|---|\n| 1 | 55.52176 | 36.49680 |  0.3143009 |  0.93713844 |  0.3143009 |  0.93713844 |\n| 2 | 55.69091 | 33.01312 |  0.3477935 |  0.07203865 |  0.3477935 |  0.07203865 |\n| 3 | 57.63996 | 36.79460 |  0.7337173 |  1.01109138 |  0.7337173 |  1.01109138 |\n| 4 | 50.13948 | 32.06239 | -0.7514239 | -0.16405652 | -0.7514239 | -0.16405652 |\n| 5 | 52.22709 | 31.03956 | -0.3380648 | -0.41805643 | -0.3380648 | -0.41805643 |\n| 6 | 43.93626 | 34.82307 | -1.9797009 |  0.52150298 | -1.9797009 |  0.52150298 |\n\n",
            "text/latex": "A data.frame: 6 × 6\n\\begin{tabular}{r|llllll}\n  & meat\\_consumption\\_korean & meat\\_consumption\\_japan & z\\_korean & z\\_japan & z2\\_korean & z2\\_japan\\\\\n  & <dbl> & <dbl> & <dbl> & <dbl> & <dbl> & <dbl>\\\\\n\\hline\n\t1 & 55.52176 & 36.49680 &  0.3143009 &  0.93713844 &  0.3143009 &  0.93713844\\\\\n\t2 & 55.69091 & 33.01312 &  0.3477935 &  0.07203865 &  0.3477935 &  0.07203865\\\\\n\t3 & 57.63996 & 36.79460 &  0.7337173 &  1.01109138 &  0.7337173 &  1.01109138\\\\\n\t4 & 50.13948 & 32.06239 & -0.7514239 & -0.16405652 & -0.7514239 & -0.16405652\\\\\n\t5 & 52.22709 & 31.03956 & -0.3380648 & -0.41805643 & -0.3380648 & -0.41805643\\\\\n\t6 & 43.93626 & 34.82307 & -1.9797009 &  0.52150298 & -1.9797009 &  0.52150298\\\\\n\\end{tabular}\n",
            "text/plain": [
              "  meat_consumption_korean meat_consumption_japan z_korean   z_japan    \n",
              "1 55.52176                36.49680                0.3143009  0.93713844\n",
              "2 55.69091                33.01312                0.3477935  0.07203865\n",
              "3 57.63996                36.79460                0.7337173  1.01109138\n",
              "4 50.13948                32.06239               -0.7514239 -0.16405652\n",
              "5 52.22709                31.03956               -0.3380648 -0.41805643\n",
              "6 43.93626                34.82307               -1.9797009  0.52150298\n",
              "  z2_korean  z2_japan   \n",
              "1  0.3143009  0.93713844\n",
              "2  0.3477935  0.07203865\n",
              "3  0.7337173  1.01109138\n",
              "4 -0.7514239 -0.16405652\n",
              "5 -0.3380648 -0.41805643\n",
              "6 -1.9797009  0.52150298"
            ]
          },
          "metadata": {}
        }
      ]
    },
    {
      "cell_type": "code",
      "source": [
        "# 표준화된 데이터에 대한 히스토그램\n",
        "hist(meat_consumption$z_korean)\n",
        "hist(meat_consumption$z_japan)"
      ],
      "metadata": {
        "colab": {
          "base_uri": "https://localhost:8080/",
          "height": 857
        },
        "id": "V4jSGyvCUJjg",
        "outputId": "92fe85d9-a191-495a-8387-11e9ac7f0383"
      },
      "execution_count": 25,
      "outputs": [
        {
          "output_type": "display_data",
          "data": {
            "text/plain": [
              "Plot with title “Histogram of meat_consumption$z_korean”"
            ],
            "image/png": "[encoded data removed]"
          },
          "metadata": {
            "image/png": {
              "width": 420,
              "height": 420
            }
          }
        },
        {
          "output_type": "display_data",
          "data": {
            "text/plain": [
              "Plot with title “Histogram of meat_consumption$z_japan”"
            ],
            "image/png": "[encoded data removed]"
          },
          "metadata": {
            "image/png": {
              "width": 420,
              "height": 420
            }
          }
        }
      ]
    },
    {
      "cell_type": "code",
      "source": [
        "# Min-Max변환 scale() 함수이용\n",
        "# 기존 데이터프레임에 새로운 표준화된 컬럼을 추가\n",
        "Min <- min(meat_consumption_korean)\n",
        "Max <- max(meat_consumption_korean)\n",
        "S1 <- scale(meat_consumption_korean, center = Min, scale=(Max-Min))\n",
        "\n",
        "Min <- min(meat_consumption_japan)\n",
        "Max <- max(meat_consumption_japan)\n",
        "S2 <- scale(meat_consumption_japan, center = Min, scale=(Max-Min))\n",
        "meat_consumption <- transform(meat_consumption, mm_korean = S1, mm_japan = S2)\n",
        "\n",
        "head(meat_consumption)"
      ],
      "metadata": {
        "colab": {
          "base_uri": "https://localhost:8080/",
          "height": 286
        },
        "id": "B_xvCOoHUNTl",
        "outputId": "691da9df-fd0e-4d3a-b21e-9bfd6b057a8b"
      },
      "execution_count": 26,
      "outputs": [
        {
          "output_type": "display_data",
          "data": {
            "text/html": [
              "<table class=\"dataframe\">\n",
              "<caption>A data.frame: 6 × 8</caption>\n",
              "<thead>\n",
              "\t<tr><th></th><th scope=col>meat_consumption_korean</th><th scope=col>meat_consumption_japan</th><th scope=col>z_korean</th><th scope=col>z_japan</th><th scope=col>z2_korean</th><th scope=col>z2_japan</th><th scope=col>mm_korean</th><th scope=col>mm_japan</th></tr>\n",
              "\t<tr><th></th><th scope=col>&lt;dbl&gt;</th><th scope=col>&lt;dbl&gt;</th><th scope=col>&lt;dbl&gt;</th><th scope=col>&lt;dbl&gt;</th><th scope=col>&lt;dbl&gt;</th><th scope=col>&lt;dbl&gt;</th><th scope=col>&lt;dbl&gt;</th><th scope=col>&lt;dbl&gt;</th></tr>\n",
              "</thead>\n",
              "<tbody>\n",
              "\t<tr><th scope=row>1</th><td>55.52176</td><td>36.49680</td><td> 0.3143009</td><td> 0.93713844</td><td> 0.3143009</td><td> 0.93713844</td><td>0.5597599</td><td>0.6887962</td></tr>\n",
              "\t<tr><th scope=row>2</th><td>55.69091</td><td>33.01312</td><td> 0.3477935</td><td> 0.07203865</td><td> 0.3477935</td><td> 0.07203865</td><td>0.5646711</td><td>0.5506866</td></tr>\n",
              "\t<tr><th scope=row>3</th><td>57.63996</td><td>36.79460</td><td> 0.7337173</td><td> 1.01109138</td><td> 0.7337173</td><td> 1.01109138</td><td>0.6212617</td><td>0.7006025</td></tr>\n",
              "\t<tr><th scope=row>4</th><td>50.13948</td><td>32.06239</td><td>-0.7514239</td><td>-0.16405652</td><td>-0.7514239</td><td>-0.16405652</td><td>0.4034855</td><td>0.5129949</td></tr>\n",
              "\t<tr><th scope=row>5</th><td>52.22709</td><td>31.03956</td><td>-0.3380648</td><td>-0.41805643</td><td>-0.3380648</td><td>-0.41805643</td><td>0.4640991</td><td>0.4724449</td></tr>\n",
              "\t<tr><th scope=row>6</th><td>43.93626</td><td>34.82307</td><td>-1.9797009</td><td> 0.52150298</td><td>-1.9797009</td><td> 0.52150298</td><td>0.2233750</td><td>0.6224417</td></tr>\n",
              "</tbody>\n",
              "</table>\n"
            ],
            "text/markdown": "\nA data.frame: 6 × 8\n\n| <!--/--> | meat_consumption_korean &lt;dbl&gt; | meat_consumption_japan &lt;dbl&gt; | z_korean &lt;dbl&gt; | z_japan &lt;dbl&gt; | z2_korean &lt;dbl&gt; | z2_japan &lt;dbl&gt; | mm_korean &lt;dbl&gt; | mm_japan &lt;dbl&gt; |\n|---|---|---|---|---|---|---|---|---|\n| 1 | 55.52176 | 36.49680 |  0.3143009 |  0.93713844 |  0.3143009 |  0.93713844 | 0.5597599 | 0.6887962 |\n| 2 | 55.69091 | 33.01312 |  0.3477935 |  0.07203865 |  0.3477935 |  0.07203865 | 0.5646711 | 0.5506866 |\n| 3 | 57.63996 | 36.79460 |  0.7337173 |  1.01109138 |  0.7337173 |  1.01109138 | 0.6212617 | 0.7006025 |\n| 4 | 50.13948 | 32.06239 | -0.7514239 | -0.16405652 | -0.7514239 | -0.16405652 | 0.4034855 | 0.5129949 |\n| 5 | 52.22709 | 31.03956 | -0.3380648 | -0.41805643 | -0.3380648 | -0.41805643 | 0.4640991 | 0.4724449 |\n| 6 | 43.93626 | 34.82307 | -1.9797009 |  0.52150298 | -1.9797009 |  0.52150298 | 0.2233750 | 0.6224417 |\n\n",
            "text/latex": "A data.frame: 6 × 8\n\\begin{tabular}{r|llllllll}\n  & meat\\_consumption\\_korean & meat\\_consumption\\_japan & z\\_korean & z\\_japan & z2\\_korean & z2\\_japan & mm\\_korean & mm\\_japan\\\\\n  & <dbl> & <dbl> & <dbl> & <dbl> & <dbl> & <dbl> & <dbl> & <dbl>\\\\\n\\hline\n\t1 & 55.52176 & 36.49680 &  0.3143009 &  0.93713844 &  0.3143009 &  0.93713844 & 0.5597599 & 0.6887962\\\\\n\t2 & 55.69091 & 33.01312 &  0.3477935 &  0.07203865 &  0.3477935 &  0.07203865 & 0.5646711 & 0.5506866\\\\\n\t3 & 57.63996 & 36.79460 &  0.7337173 &  1.01109138 &  0.7337173 &  1.01109138 & 0.6212617 & 0.7006025\\\\\n\t4 & 50.13948 & 32.06239 & -0.7514239 & -0.16405652 & -0.7514239 & -0.16405652 & 0.4034855 & 0.5129949\\\\\n\t5 & 52.22709 & 31.03956 & -0.3380648 & -0.41805643 & -0.3380648 & -0.41805643 & 0.4640991 & 0.4724449\\\\\n\t6 & 43.93626 & 34.82307 & -1.9797009 &  0.52150298 & -1.9797009 &  0.52150298 & 0.2233750 & 0.6224417\\\\\n\\end{tabular}\n",
            "text/plain": [
              "  meat_consumption_korean meat_consumption_japan z_korean   z_japan    \n",
              "1 55.52176                36.49680                0.3143009  0.93713844\n",
              "2 55.69091                33.01312                0.3477935  0.07203865\n",
              "3 57.63996                36.79460                0.7337173  1.01109138\n",
              "4 50.13948                32.06239               -0.7514239 -0.16405652\n",
              "5 52.22709                31.03956               -0.3380648 -0.41805643\n",
              "6 43.93626                34.82307               -1.9797009  0.52150298\n",
              "  z2_korean  z2_japan    mm_korean mm_japan \n",
              "1  0.3143009  0.93713844 0.5597599 0.6887962\n",
              "2  0.3477935  0.07203865 0.5646711 0.5506866\n",
              "3  0.7337173  1.01109138 0.6212617 0.7006025\n",
              "4 -0.7514239 -0.16405652 0.4034855 0.5129949\n",
              "5 -0.3380648 -0.41805643 0.4640991 0.4724449\n",
              "6 -1.9797009  0.52150298 0.2233750 0.6224417"
            ]
          },
          "metadata": {}
        }
      ]
    },
    {
      "cell_type": "code",
      "source": [
        "# Min-Max변환 수식이용\n",
        "Min <- min(meat_consumption_korean)\n",
        "Max <- max(meat_consumption_korean)\n",
        "S1 <- (meat_consumption$meat_consumption_korean - Min) / (Max - Min)\n",
        "\n",
        "Min <- min(meat_consumption_japan)\n",
        "Max <- max(meat_consumption_japan)\n",
        "S2 <- (meat_consumption$meat_consumption_japan - Min) / (Max - Min)\n",
        "\n",
        "meat_consumption <- transform(meat_consumption, mm2_korean = S1, mm2_japan = S2)\n",
        "\n",
        "head(meat_consumption)"
      ],
      "metadata": {
        "colab": {
          "base_uri": "https://localhost:8080/",
          "height": 286
        },
        "id": "OzUTdWV2UUfW",
        "outputId": "bd87bc61-12ee-49ff-afef-99b17a087bd9"
      },
      "execution_count": 27,
      "outputs": [
        {
          "output_type": "display_data",
          "data": {
            "text/html": [
              "<table class=\"dataframe\">\n",
              "<caption>A data.frame: 6 × 10</caption>\n",
              "<thead>\n",
              "\t<tr><th></th><th scope=col>meat_consumption_korean</th><th scope=col>meat_consumption_japan</th><th scope=col>z_korean</th><th scope=col>z_japan</th><th scope=col>z2_korean</th><th scope=col>z2_japan</th><th scope=col>mm_korean</th><th scope=col>mm_japan</th><th scope=col>mm2_korean</th><th scope=col>mm2_japan</th></tr>\n",
              "\t<tr><th></th><th scope=col>&lt;dbl&gt;</th><th scope=col>&lt;dbl&gt;</th><th scope=col>&lt;dbl&gt;</th><th scope=col>&lt;dbl&gt;</th><th scope=col>&lt;dbl&gt;</th><th scope=col>&lt;dbl&gt;</th><th scope=col>&lt;dbl&gt;</th><th scope=col>&lt;dbl&gt;</th><th scope=col>&lt;dbl&gt;</th><th scope=col>&lt;dbl&gt;</th></tr>\n",
              "</thead>\n",
              "<tbody>\n",
              "\t<tr><th scope=row>1</th><td>55.52176</td><td>36.49680</td><td> 0.3143009</td><td> 0.93713844</td><td> 0.3143009</td><td> 0.93713844</td><td>0.5597599</td><td>0.6887962</td><td>0.5597599</td><td>0.6887962</td></tr>\n",
              "\t<tr><th scope=row>2</th><td>55.69091</td><td>33.01312</td><td> 0.3477935</td><td> 0.07203865</td><td> 0.3477935</td><td> 0.07203865</td><td>0.5646711</td><td>0.5506866</td><td>0.5646711</td><td>0.5506866</td></tr>\n",
              "\t<tr><th scope=row>3</th><td>57.63996</td><td>36.79460</td><td> 0.7337173</td><td> 1.01109138</td><td> 0.7337173</td><td> 1.01109138</td><td>0.6212617</td><td>0.7006025</td><td>0.6212617</td><td>0.7006025</td></tr>\n",
              "\t<tr><th scope=row>4</th><td>50.13948</td><td>32.06239</td><td>-0.7514239</td><td>-0.16405652</td><td>-0.7514239</td><td>-0.16405652</td><td>0.4034855</td><td>0.5129949</td><td>0.4034855</td><td>0.5129949</td></tr>\n",
              "\t<tr><th scope=row>5</th><td>52.22709</td><td>31.03956</td><td>-0.3380648</td><td>-0.41805643</td><td>-0.3380648</td><td>-0.41805643</td><td>0.4640991</td><td>0.4724449</td><td>0.4640991</td><td>0.4724449</td></tr>\n",
              "\t<tr><th scope=row>6</th><td>43.93626</td><td>34.82307</td><td>-1.9797009</td><td> 0.52150298</td><td>-1.9797009</td><td> 0.52150298</td><td>0.2233750</td><td>0.6224417</td><td>0.2233750</td><td>0.6224417</td></tr>\n",
              "</tbody>\n",
              "</table>\n"
            ],
            "text/markdown": "\nA data.frame: 6 × 10\n\n| <!--/--> | meat_consumption_korean &lt;dbl&gt; | meat_consumption_japan &lt;dbl&gt; | z_korean &lt;dbl&gt; | z_japan &lt;dbl&gt; | z2_korean &lt;dbl&gt; | z2_japan &lt;dbl&gt; | mm_korean &lt;dbl&gt; | mm_japan &lt;dbl&gt; | mm2_korean &lt;dbl&gt; | mm2_japan &lt;dbl&gt; |\n|---|---|---|---|---|---|---|---|---|---|---|\n| 1 | 55.52176 | 36.49680 |  0.3143009 |  0.93713844 |  0.3143009 |  0.93713844 | 0.5597599 | 0.6887962 | 0.5597599 | 0.6887962 |\n| 2 | 55.69091 | 33.01312 |  0.3477935 |  0.07203865 |  0.3477935 |  0.07203865 | 0.5646711 | 0.5506866 | 0.5646711 | 0.5506866 |\n| 3 | 57.63996 | 36.79460 |  0.7337173 |  1.01109138 |  0.7337173 |  1.01109138 | 0.6212617 | 0.7006025 | 0.6212617 | 0.7006025 |\n| 4 | 50.13948 | 32.06239 | -0.7514239 | -0.16405652 | -0.7514239 | -0.16405652 | 0.4034855 | 0.5129949 | 0.4034855 | 0.5129949 |\n| 5 | 52.22709 | 31.03956 | -0.3380648 | -0.41805643 | -0.3380648 | -0.41805643 | 0.4640991 | 0.4724449 | 0.4640991 | 0.4724449 |\n| 6 | 43.93626 | 34.82307 | -1.9797009 |  0.52150298 | -1.9797009 |  0.52150298 | 0.2233750 | 0.6224417 | 0.2233750 | 0.6224417 |\n\n",
            "text/latex": "A data.frame: 6 × 10\n\\begin{tabular}{r|llllllllll}\n  & meat\\_consumption\\_korean & meat\\_consumption\\_japan & z\\_korean & z\\_japan & z2\\_korean & z2\\_japan & mm\\_korean & mm\\_japan & mm2\\_korean & mm2\\_japan\\\\\n  & <dbl> & <dbl> & <dbl> & <dbl> & <dbl> & <dbl> & <dbl> & <dbl> & <dbl> & <dbl>\\\\\n\\hline\n\t1 & 55.52176 & 36.49680 &  0.3143009 &  0.93713844 &  0.3143009 &  0.93713844 & 0.5597599 & 0.6887962 & 0.5597599 & 0.6887962\\\\\n\t2 & 55.69091 & 33.01312 &  0.3477935 &  0.07203865 &  0.3477935 &  0.07203865 & 0.5646711 & 0.5506866 & 0.5646711 & 0.5506866\\\\\n\t3 & 57.63996 & 36.79460 &  0.7337173 &  1.01109138 &  0.7337173 &  1.01109138 & 0.6212617 & 0.7006025 & 0.6212617 & 0.7006025\\\\\n\t4 & 50.13948 & 32.06239 & -0.7514239 & -0.16405652 & -0.7514239 & -0.16405652 & 0.4034855 & 0.5129949 & 0.4034855 & 0.5129949\\\\\n\t5 & 52.22709 & 31.03956 & -0.3380648 & -0.41805643 & -0.3380648 & -0.41805643 & 0.4640991 & 0.4724449 & 0.4640991 & 0.4724449\\\\\n\t6 & 43.93626 & 34.82307 & -1.9797009 &  0.52150298 & -1.9797009 &  0.52150298 & 0.2233750 & 0.6224417 & 0.2233750 & 0.6224417\\\\\n\\end{tabular}\n",
            "text/plain": [
              "  meat_consumption_korean meat_consumption_japan z_korean   z_japan    \n",
              "1 55.52176                36.49680                0.3143009  0.93713844\n",
              "2 55.69091                33.01312                0.3477935  0.07203865\n",
              "3 57.63996                36.79460                0.7337173  1.01109138\n",
              "4 50.13948                32.06239               -0.7514239 -0.16405652\n",
              "5 52.22709                31.03956               -0.3380648 -0.41805643\n",
              "6 43.93626                34.82307               -1.9797009  0.52150298\n",
              "  z2_korean  z2_japan    mm_korean mm_japan  mm2_korean mm2_japan\n",
              "1  0.3143009  0.93713844 0.5597599 0.6887962 0.5597599  0.6887962\n",
              "2  0.3477935  0.07203865 0.5646711 0.5506866 0.5646711  0.5506866\n",
              "3  0.7337173  1.01109138 0.6212617 0.7006025 0.6212617  0.7006025\n",
              "4 -0.7514239 -0.16405652 0.4034855 0.5129949 0.4034855  0.5129949\n",
              "5 -0.3380648 -0.41805643 0.4640991 0.4724449 0.4640991  0.4724449\n",
              "6 -1.9797009  0.52150298 0.2233750 0.6224417 0.2233750  0.6224417"
            ]
          },
          "metadata": {}
        }
      ]
    },
    {
      "cell_type": "code",
      "source": [
        "# R의 USJudgeRatings 데이터셋 불러오기\n",
        "data(USJudgeRatings)\n",
        "df <- USJudgeRatings\n",
        "\n",
        "head(df)"
      ],
      "metadata": {
        "colab": {
          "base_uri": "https://localhost:8080/",
          "height": 286
        },
        "id": "eZxdM34wUcfg",
        "outputId": "c157d919-67c3-46a9-e237-9ea6586c06a2"
      },
      "execution_count": 28,
      "outputs": [
        {
          "output_type": "display_data",
          "data": {
            "text/html": [
              "<table class=\"dataframe\">\n",
              "<caption>A data.frame: 6 × 12</caption>\n",
              "<thead>\n",
              "\t<tr><th></th><th scope=col>CONT</th><th scope=col>INTG</th><th scope=col>DMNR</th><th scope=col>DILG</th><th scope=col>CFMG</th><th scope=col>DECI</th><th scope=col>PREP</th><th scope=col>FAMI</th><th scope=col>ORAL</th><th scope=col>WRIT</th><th scope=col>PHYS</th><th scope=col>RTEN</th></tr>\n",
              "\t<tr><th></th><th scope=col>&lt;dbl&gt;</th><th scope=col>&lt;dbl&gt;</th><th scope=col>&lt;dbl&gt;</th><th scope=col>&lt;dbl&gt;</th><th scope=col>&lt;dbl&gt;</th><th scope=col>&lt;dbl&gt;</th><th scope=col>&lt;dbl&gt;</th><th scope=col>&lt;dbl&gt;</th><th scope=col>&lt;dbl&gt;</th><th scope=col>&lt;dbl&gt;</th><th scope=col>&lt;dbl&gt;</th><th scope=col>&lt;dbl&gt;</th></tr>\n",
              "</thead>\n",
              "<tbody>\n",
              "\t<tr><th scope=row>AARONSON,L.H.</th><td>5.7</td><td>7.9</td><td>7.7</td><td>7.3</td><td>7.1</td><td>7.4</td><td>7.1</td><td>7.1</td><td>7.1</td><td>7.0</td><td>8.3</td><td>7.8</td></tr>\n",
              "\t<tr><th scope=row>ALEXANDER,J.M.</th><td>6.8</td><td>8.9</td><td>8.8</td><td>8.5</td><td>7.8</td><td>8.1</td><td>8.0</td><td>8.0</td><td>7.8</td><td>7.9</td><td>8.5</td><td>8.7</td></tr>\n",
              "\t<tr><th scope=row>ARMENTANO,A.J.</th><td>7.2</td><td>8.1</td><td>7.8</td><td>7.8</td><td>7.5</td><td>7.6</td><td>7.5</td><td>7.5</td><td>7.3</td><td>7.4</td><td>7.9</td><td>7.8</td></tr>\n",
              "\t<tr><th scope=row>BERDON,R.I.</th><td>6.8</td><td>8.8</td><td>8.5</td><td>8.8</td><td>8.3</td><td>8.5</td><td>8.7</td><td>8.7</td><td>8.4</td><td>8.5</td><td>8.8</td><td>8.7</td></tr>\n",
              "\t<tr><th scope=row>BRACKEN,J.J.</th><td>7.3</td><td>6.4</td><td>4.3</td><td>6.5</td><td>6.0</td><td>6.2</td><td>5.7</td><td>5.7</td><td>5.1</td><td>5.3</td><td>5.5</td><td>4.8</td></tr>\n",
              "\t<tr><th scope=row>BURNS,E.B.</th><td>6.2</td><td>8.8</td><td>8.7</td><td>8.5</td><td>7.9</td><td>8.0</td><td>8.1</td><td>8.0</td><td>8.0</td><td>8.0</td><td>8.6</td><td>8.6</td></tr>\n",
              "</tbody>\n",
              "</table>\n"
            ],
            "text/markdown": "\nA data.frame: 6 × 12\n\n| <!--/--> | CONT &lt;dbl&gt; | INTG &lt;dbl&gt; | DMNR &lt;dbl&gt; | DILG &lt;dbl&gt; | CFMG &lt;dbl&gt; | DECI &lt;dbl&gt; | PREP &lt;dbl&gt; | FAMI &lt;dbl&gt; | ORAL &lt;dbl&gt; | WRIT &lt;dbl&gt; | PHYS &lt;dbl&gt; | RTEN &lt;dbl&gt; |\n|---|---|---|---|---|---|---|---|---|---|---|---|---|\n| AARONSON,L.H. | 5.7 | 7.9 | 7.7 | 7.3 | 7.1 | 7.4 | 7.1 | 7.1 | 7.1 | 7.0 | 8.3 | 7.8 |\n| ALEXANDER,J.M. | 6.8 | 8.9 | 8.8 | 8.5 | 7.8 | 8.1 | 8.0 | 8.0 | 7.8 | 7.9 | 8.5 | 8.7 |\n| ARMENTANO,A.J. | 7.2 | 8.1 | 7.8 | 7.8 | 7.5 | 7.6 | 7.5 | 7.5 | 7.3 | 7.4 | 7.9 | 7.8 |\n| BERDON,R.I. | 6.8 | 8.8 | 8.5 | 8.8 | 8.3 | 8.5 | 8.7 | 8.7 | 8.4 | 8.5 | 8.8 | 8.7 |\n| BRACKEN,J.J. | 7.3 | 6.4 | 4.3 | 6.5 | 6.0 | 6.2 | 5.7 | 5.7 | 5.1 | 5.3 | 5.5 | 4.8 |\n| BURNS,E.B. | 6.2 | 8.8 | 8.7 | 8.5 | 7.9 | 8.0 | 8.1 | 8.0 | 8.0 | 8.0 | 8.6 | 8.6 |\n\n",
            "text/latex": "A data.frame: 6 × 12\n\\begin{tabular}{r|llllllllllll}\n  & CONT & INTG & DMNR & DILG & CFMG & DECI & PREP & FAMI & ORAL & WRIT & PHYS & RTEN\\\\\n  & <dbl> & <dbl> & <dbl> & <dbl> & <dbl> & <dbl> & <dbl> & <dbl> & <dbl> & <dbl> & <dbl> & <dbl>\\\\\n\\hline\n\tAARONSON,L.H. & 5.7 & 7.9 & 7.7 & 7.3 & 7.1 & 7.4 & 7.1 & 7.1 & 7.1 & 7.0 & 8.3 & 7.8\\\\\n\tALEXANDER,J.M. & 6.8 & 8.9 & 8.8 & 8.5 & 7.8 & 8.1 & 8.0 & 8.0 & 7.8 & 7.9 & 8.5 & 8.7\\\\\n\tARMENTANO,A.J. & 7.2 & 8.1 & 7.8 & 7.8 & 7.5 & 7.6 & 7.5 & 7.5 & 7.3 & 7.4 & 7.9 & 7.8\\\\\n\tBERDON,R.I. & 6.8 & 8.8 & 8.5 & 8.8 & 8.3 & 8.5 & 8.7 & 8.7 & 8.4 & 8.5 & 8.8 & 8.7\\\\\n\tBRACKEN,J.J. & 7.3 & 6.4 & 4.3 & 6.5 & 6.0 & 6.2 & 5.7 & 5.7 & 5.1 & 5.3 & 5.5 & 4.8\\\\\n\tBURNS,E.B. & 6.2 & 8.8 & 8.7 & 8.5 & 7.9 & 8.0 & 8.1 & 8.0 & 8.0 & 8.0 & 8.6 & 8.6\\\\\n\\end{tabular}\n",
            "text/plain": [
              "               CONT INTG DMNR DILG CFMG DECI PREP FAMI ORAL WRIT PHYS RTEN\n",
              "AARONSON,L.H.  5.7  7.9  7.7  7.3  7.1  7.4  7.1  7.1  7.1  7.0  8.3  7.8 \n",
              "ALEXANDER,J.M. 6.8  8.9  8.8  8.5  7.8  8.1  8.0  8.0  7.8  7.9  8.5  8.7 \n",
              "ARMENTANO,A.J. 7.2  8.1  7.8  7.8  7.5  7.6  7.5  7.5  7.3  7.4  7.9  7.8 \n",
              "BERDON,R.I.    6.8  8.8  8.5  8.8  8.3  8.5  8.7  8.7  8.4  8.5  8.8  8.7 \n",
              "BRACKEN,J.J.   7.3  6.4  4.3  6.5  6.0  6.2  5.7  5.7  5.1  5.3  5.5  4.8 \n",
              "BURNS,E.B.     6.2  8.8  8.7  8.5  7.9  8.0  8.1  8.0  8.0  8.0  8.6  8.6 "
            ]
          },
          "metadata": {}
        }
      ]
    },
    {
      "cell_type": "code",
      "source": [
        "# moments 패키지 설치와 불러오기\n",
        "install.packages(\"moments\")\n",
        "library(moments)\n",
        "\n",
        "# 왜도계산\n",
        "skewness(df$CONT, na.rm = TRUE)\n",
        "skewness(df$PHYS, na.rm = TRUE)"
      ],
      "metadata": {
        "colab": {
          "base_uri": "https://localhost:8080/",
          "height": 107
        },
        "id": "Rg5yqMzDUfJB",
        "outputId": "464638b1-958e-425a-950f-7efcd11f3975"
      },
      "execution_count": 30,
      "outputs": [
        {
          "output_type": "stream",
          "name": "stderr",
          "text": [
            "Installing package into ‘/usr/local/lib/R/site-library’\n",
            "(as ‘lib’ is unspecified)\n",
            "\n"
          ]
        },
        {
          "output_type": "display_data",
          "data": {
            "text/html": [
              "1.08597247962763"
            ],
            "text/markdown": "1.08597247962763",
            "text/latex": "1.08597247962763",
            "text/plain": [
              "[1] 1.085972"
            ]
          },
          "metadata": {}
        },
        {
          "output_type": "display_data",
          "data": {
            "text/html": [
              "-1.55821546422931"
            ],
            "text/markdown": "-1.55821546422931",
            "text/latex": "-1.55821546422931",
            "text/plain": [
              "[1] -1.558215"
            ]
          },
          "metadata": {}
        }
      ]
    },
    {
      "cell_type": "code",
      "source": [
        "# 변수변환 - 로그변환\n",
        "df$CONT1 <- log(df$CONT)\n",
        "df$PHYS1 <- log(max(df$PHYS+1) - df$PHYS)\n",
        "\n",
        "# 왜도 계산\n",
        "skewness(df$CONT1, na.rm = TRUE)\n",
        "skewness(df$PHYS1, na.rm = TRUE)"
      ],
      "metadata": {
        "colab": {
          "base_uri": "https://localhost:8080/",
          "height": 52
        },
        "id": "lDT6sGvqUnzl",
        "outputId": "f494338d-f350-4251-b08f-01bbb06ecf1e"
      },
      "execution_count": 31,
      "outputs": [
        {
          "output_type": "display_data",
          "data": {
            "text/html": [
              "0.655557188669261"
            ],
            "text/markdown": "0.655557188669261",
            "text/latex": "0.655557188669261",
            "text/plain": [
              "[1] 0.6555572"
            ]
          },
          "metadata": {}
        },
        {
          "output_type": "display_data",
          "data": {
            "text/html": [
              "0.582435774875044"
            ],
            "text/markdown": "0.582435774875044",
            "text/latex": "0.582435774875044",
            "text/plain": [
              "[1] 0.5824358"
            ]
          },
          "metadata": {}
        }
      ]
    },
    {
      "cell_type": "code",
      "source": [
        "# 변수변환 - 로그변환\n",
        "df$CONT2 <- log10(df$CONT)\n",
        "df$PHYS2 <- log10(max(df$PHYS+1) - df$PHYS)\n",
        "\n",
        "# 왜도 계산\n",
        "skewness(df$CONT2, na.rm = TRUE)\n",
        "skewness(df$PHYS2, na.rm = TRUE)"
      ],
      "metadata": {
        "colab": {
          "base_uri": "https://localhost:8080/",
          "height": 52
        },
        "id": "3yWoMRylUrOV",
        "outputId": "4cce8c81-6a23-49f2-d5a8-69fd600d4ca5"
      },
      "execution_count": 32,
      "outputs": [
        {
          "output_type": "display_data",
          "data": {
            "text/html": [
              "0.655557188669257"
            ],
            "text/markdown": "0.655557188669257",
            "text/latex": "0.655557188669257",
            "text/plain": [
              "[1] 0.6555572"
            ]
          },
          "metadata": {}
        },
        {
          "output_type": "display_data",
          "data": {
            "text/html": [
              "0.582435774875045"
            ],
            "text/markdown": "0.582435774875045",
            "text/latex": "0.582435774875045",
            "text/plain": [
              "[1] 0.5824358"
            ]
          },
          "metadata": {}
        }
      ]
    },
    {
      "cell_type": "code",
      "source": [
        "# 수학 점수(Math _score)\n",
        "student_Name <- c(\"철수\", \"영희\", \"미영\", \"시완\", \"미경\", \"영환\", \"숙경\", \"부영\", \"민섭\", \"보연\")\n",
        "Math_score <- c(52, 92, 84, 71, 65, 81, 66, 77, 73, 74)\n",
        "mean(Math_score)\n",
        "hist(Math_score)\n",
        "\n",
        "# 데이터 프레임 생성\n",
        "score <- data.frame(student_Name, Math_score)\n",
        "score"
      ],
      "metadata": {
        "colab": {
          "base_uri": "https://localhost:8080/",
          "height": 849
        },
        "id": "SnJ4EJAgUsjz",
        "outputId": "1e098f06-2876-4f4f-efa6-bb6b98e3a85a"
      },
      "execution_count": 33,
      "outputs": [
        {
          "output_type": "display_data",
          "data": {
            "text/html": [
              "73.5"
            ],
            "text/markdown": "73.5",
            "text/latex": "73.5",
            "text/plain": [
              "[1] 73.5"
            ]
          },
          "metadata": {}
        },
        {
          "output_type": "display_data",
          "data": {
            "text/html": [
              "<table class=\"dataframe\">\n",
              "<caption>A data.frame: 10 × 2</caption>\n",
              "<thead>\n",
              "\t<tr><th scope=col>student_Name</th><th scope=col>Math_score</th></tr>\n",
              "\t<tr><th scope=col>&lt;chr&gt;</th><th scope=col>&lt;dbl&gt;</th></tr>\n",
              "</thead>\n",
              "<tbody>\n",
              "\t<tr><td>철수</td><td>52</td></tr>\n",
              "\t<tr><td>영희</td><td>92</td></tr>\n",
              "\t<tr><td>미영</td><td>84</td></tr>\n",
              "\t<tr><td>시완</td><td>71</td></tr>\n",
              "\t<tr><td>미경</td><td>65</td></tr>\n",
              "\t<tr><td>영환</td><td>81</td></tr>\n",
              "\t<tr><td>숙경</td><td>66</td></tr>\n",
              "\t<tr><td>부영</td><td>77</td></tr>\n",
              "\t<tr><td>민섭</td><td>73</td></tr>\n",
              "\t<tr><td>보연</td><td>74</td></tr>\n",
              "</tbody>\n",
              "</table>\n"
            ],
            "text/markdown": "\nA data.frame: 10 × 2\n\n| student_Name &lt;chr&gt; | Math_score &lt;dbl&gt; |\n|---|---|\n| 철수 | 52 |\n| 영희 | 92 |\n| 미영 | 84 |\n| 시완 | 71 |\n| 미경 | 65 |\n| 영환 | 81 |\n| 숙경 | 66 |\n| 부영 | 77 |\n| 민섭 | 73 |\n| 보연 | 74 |\n\n",
            "text/latex": "A data.frame: 10 × 2\n\\begin{tabular}{ll}\n student\\_Name & Math\\_score\\\\\n <chr> & <dbl>\\\\\n\\hline\n\t 철수 & 52\\\\\n\t 영희 & 92\\\\\n\t 미영 & 84\\\\\n\t 시완 & 71\\\\\n\t 미경 & 65\\\\\n\t 영환 & 81\\\\\n\t 숙경 & 66\\\\\n\t 부영 & 77\\\\\n\t 민섭 & 73\\\\\n\t 보연 & 74\\\\\n\\end{tabular}\n",
            "text/plain": [
              "   student_Name Math_score\n",
              "1  철수         52        \n",
              "2  영희         92        \n",
              "3  미영         84        \n",
              "4  시완         71        \n",
              "5  미경         65        \n",
              "6  영환         81        \n",
              "7  숙경         66        \n",
              "8  부영         77        \n",
              "9  민섭         73        \n",
              "10 보연         74        "
            ]
          },
          "metadata": {}
        },
        {
          "output_type": "display_data",
          "data": {
            "text/plain": [
              "Plot with title “Histogram of Math_score”"
            ],
            "image/png": "[encoded data removed]"
          },
          "metadata": {
            "image/png": {
              "width": 420,
              "height": 420
            }
          }
        }
      ]
    },
    {
      "cell_type": "code",
      "source": [
        "# cut() 함수 사용\n",
        "score <- transform(score, Math_grade_cut = cut(Math_score, breaks = c(0, 60, 70, 80, 90, 100), include.lowest = TRUE, right = FALSE, labels = c(\"F\", \"D\", \"C\", \"B\", \"A\")))\n",
        "score"
      ],
      "metadata": {
        "colab": {
          "base_uri": "https://localhost:8080/",
          "height": 412
        },
        "id": "L9NyLmmVU6rG",
        "outputId": "7dde3133-13b7-4063-c841-01705d183e03"
      },
      "execution_count": 34,
      "outputs": [
        {
          "output_type": "display_data",
          "data": {
            "text/html": [
              "<table class=\"dataframe\">\n",
              "<caption>A data.frame: 10 × 3</caption>\n",
              "<thead>\n",
              "\t<tr><th scope=col>student_Name</th><th scope=col>Math_score</th><th scope=col>Math_grade_cut</th></tr>\n",
              "\t<tr><th scope=col>&lt;chr&gt;</th><th scope=col>&lt;dbl&gt;</th><th scope=col>&lt;fct&gt;</th></tr>\n",
              "</thead>\n",
              "<tbody>\n",
              "\t<tr><td>철수</td><td>52</td><td>F</td></tr>\n",
              "\t<tr><td>영희</td><td>92</td><td>A</td></tr>\n",
              "\t<tr><td>미영</td><td>84</td><td>B</td></tr>\n",
              "\t<tr><td>시완</td><td>71</td><td>C</td></tr>\n",
              "\t<tr><td>미경</td><td>65</td><td>D</td></tr>\n",
              "\t<tr><td>영환</td><td>81</td><td>B</td></tr>\n",
              "\t<tr><td>숙경</td><td>66</td><td>D</td></tr>\n",
              "\t<tr><td>부영</td><td>77</td><td>C</td></tr>\n",
              "\t<tr><td>민섭</td><td>73</td><td>C</td></tr>\n",
              "\t<tr><td>보연</td><td>74</td><td>C</td></tr>\n",
              "</tbody>\n",
              "</table>\n"
            ],
            "text/markdown": "\nA data.frame: 10 × 3\n\n| student_Name &lt;chr&gt; | Math_score &lt;dbl&gt; | Math_grade_cut &lt;fct&gt; |\n|---|---|---|\n| 철수 | 52 | F |\n| 영희 | 92 | A |\n| 미영 | 84 | B |\n| 시완 | 71 | C |\n| 미경 | 65 | D |\n| 영환 | 81 | B |\n| 숙경 | 66 | D |\n| 부영 | 77 | C |\n| 민섭 | 73 | C |\n| 보연 | 74 | C |\n\n",
            "text/latex": "A data.frame: 10 × 3\n\\begin{tabular}{lll}\n student\\_Name & Math\\_score & Math\\_grade\\_cut\\\\\n <chr> & <dbl> & <fct>\\\\\n\\hline\n\t 철수 & 52 & F\\\\\n\t 영희 & 92 & A\\\\\n\t 미영 & 84 & B\\\\\n\t 시완 & 71 & C\\\\\n\t 미경 & 65 & D\\\\\n\t 영환 & 81 & B\\\\\n\t 숙경 & 66 & D\\\\\n\t 부영 & 77 & C\\\\\n\t 민섭 & 73 & C\\\\\n\t 보연 & 74 & C\\\\\n\\end{tabular}\n",
            "text/plain": [
              "   student_Name Math_score Math_grade_cut\n",
              "1  철수         52         F             \n",
              "2  영희         92         A             \n",
              "3  미영         84         B             \n",
              "4  시완         71         C             \n",
              "5  미경         65         D             \n",
              "6  영환         81         B             \n",
              "7  숙경         66         D             \n",
              "8  부영         77         C             \n",
              "9  민섭         73         C             \n",
              "10 보연         74         C             "
            ]
          },
          "metadata": {}
        }
      ]
    },
    {
      "cell_type": "code",
      "source": [
        "# ifelse() 사용\n",
        "score <- transform(score, Math_grade_ifelse = ifelse(Math_score < 60, \"F\", ifelse(Math_score >= 60 & Math_score < 70, \"D\", ifelse(Math_score >= 70 & Math_score < 80, \"C\", ifelse(Math_score >= 80 & Math_score < 90, \"B\", \"A\")))))"
      ],
      "metadata": {
        "id": "DPpSPXVCVFiN"
      },
      "execution_count": 35,
      "outputs": []
    },
    {
      "cell_type": "code",
      "source": [
        "# within() 사용\n",
        "score<- within( score, {Math_grade_within = character(0)\n",
        "Math_grade_within[ Math_score < 60 ] = \"F\"\n",
        "Math_grade_within[ Math_score >=60 & Math_score < 70 ] = \"D\"\n",
        "Math_grade_within[ Math_score >=70 & Math_score < 80 ] = \"C\"\n",
        "Math_grade_within[ Math_score >=80 & Math_score < 90 ] = \"B\"\n",
        "Math_grade_within[ Math_score >=90 ] = \"A\"\n",
        "Math_grade_within = factor(Math_grade_within, level = c(\"A\", \"B\", \"C\", \"D\", \"F\"))})"
      ],
      "metadata": {
        "id": "m6DLmuYNVSTk"
      },
      "execution_count": 36,
      "outputs": []
    },
    {
      "cell_type": "markdown",
      "source": [
        ">>>**03 차원축소 : PCA(Principal Component Analysis, 주성분분석)**"
      ],
      "metadata": {
        "id": "WL1E9cb7VcSm"
      }
    },
    {
      "cell_type": "code",
      "source": [
        "# 연속형 변수와 범주형 변수 분리\n",
        "df <- iris[, -5]          # 5번째 열만 빼고 할당\n",
        "df_species <- iris[, 5]   # 5번째 열만 할당\n",
        "\n",
        "head(df)"
      ],
      "metadata": {
        "colab": {
          "base_uri": "https://localhost:8080/",
          "height": 286
        },
        "id": "xUQS3UtrVkGb",
        "outputId": "29abe789-21c8-4eb4-959c-55d88cea55f2"
      },
      "execution_count": 37,
      "outputs": [
        {
          "output_type": "display_data",
          "data": {
            "text/html": [
              "<table class=\"dataframe\">\n",
              "<caption>A data.frame: 6 × 4</caption>\n",
              "<thead>\n",
              "\t<tr><th></th><th scope=col>Sepal.Length</th><th scope=col>Sepal.Width</th><th scope=col>Petal.Length</th><th scope=col>Petal.Width</th></tr>\n",
              "\t<tr><th></th><th scope=col>&lt;dbl&gt;</th><th scope=col>&lt;dbl&gt;</th><th scope=col>&lt;dbl&gt;</th><th scope=col>&lt;dbl&gt;</th></tr>\n",
              "</thead>\n",
              "<tbody>\n",
              "\t<tr><th scope=row>1</th><td>5.1</td><td>3.5</td><td>1.4</td><td>0.2</td></tr>\n",
              "\t<tr><th scope=row>2</th><td>4.9</td><td>3.0</td><td>1.4</td><td>0.2</td></tr>\n",
              "\t<tr><th scope=row>3</th><td>4.7</td><td>3.2</td><td>1.3</td><td>0.2</td></tr>\n",
              "\t<tr><th scope=row>4</th><td>4.6</td><td>3.1</td><td>1.5</td><td>0.2</td></tr>\n",
              "\t<tr><th scope=row>5</th><td>5.0</td><td>3.6</td><td>1.4</td><td>0.2</td></tr>\n",
              "\t<tr><th scope=row>6</th><td>5.4</td><td>3.9</td><td>1.7</td><td>0.4</td></tr>\n",
              "</tbody>\n",
              "</table>\n"
            ],
            "text/markdown": "\nA data.frame: 6 × 4\n\n| <!--/--> | Sepal.Length &lt;dbl&gt; | Sepal.Width &lt;dbl&gt; | Petal.Length &lt;dbl&gt; | Petal.Width &lt;dbl&gt; |\n|---|---|---|---|---|\n| 1 | 5.1 | 3.5 | 1.4 | 0.2 |\n| 2 | 4.9 | 3.0 | 1.4 | 0.2 |\n| 3 | 4.7 | 3.2 | 1.3 | 0.2 |\n| 4 | 4.6 | 3.1 | 1.5 | 0.2 |\n| 5 | 5.0 | 3.6 | 1.4 | 0.2 |\n| 6 | 5.4 | 3.9 | 1.7 | 0.4 |\n\n",
            "text/latex": "A data.frame: 6 × 4\n\\begin{tabular}{r|llll}\n  & Sepal.Length & Sepal.Width & Petal.Length & Petal.Width\\\\\n  & <dbl> & <dbl> & <dbl> & <dbl>\\\\\n\\hline\n\t1 & 5.1 & 3.5 & 1.4 & 0.2\\\\\n\t2 & 4.9 & 3.0 & 1.4 & 0.2\\\\\n\t3 & 4.7 & 3.2 & 1.3 & 0.2\\\\\n\t4 & 4.6 & 3.1 & 1.5 & 0.2\\\\\n\t5 & 5.0 & 3.6 & 1.4 & 0.2\\\\\n\t6 & 5.4 & 3.9 & 1.7 & 0.4\\\\\n\\end{tabular}\n",
            "text/plain": [
              "  Sepal.Length Sepal.Width Petal.Length Petal.Width\n",
              "1 5.1          3.5         1.4          0.2        \n",
              "2 4.9          3.0         1.4          0.2        \n",
              "3 4.7          3.2         1.3          0.2        \n",
              "4 4.6          3.1         1.5          0.2        \n",
              "5 5.0          3.6         1.4          0.2        \n",
              "6 5.4          3.9         1.7          0.4        "
            ]
          },
          "metadata": {}
        }
      ]
    },
    {
      "cell_type": "code",
      "source": [
        "# PCA 수행\n",
        "pca_df <- prcomp(df, center = TRUE, scale. = TRUE)\n",
        "pca_df"
      ],
      "metadata": {
        "colab": {
          "base_uri": "https://localhost:8080/",
          "height": 182
        },
        "id": "8bfylbIVVpWc",
        "outputId": "a49db569-e0a7-4dbd-9927-edf2f49a3fe0"
      },
      "execution_count": 38,
      "outputs": [
        {
          "output_type": "display_data",
          "data": {
            "text/plain": [
              "Standard deviations (1, .., p=4):\n",
              "[1] 1.7083611 0.9560494 0.3830886 0.1439265\n",
              "\n",
              "Rotation (n x k) = (4 x 4):\n",
              "                    PC1         PC2        PC3        PC4\n",
              "Sepal.Length  0.5210659 -0.37741762  0.7195664  0.2612863\n",
              "Sepal.Width  -0.2693474 -0.92329566 -0.2443818 -0.1235096\n",
              "Petal.Length  0.5804131 -0.02449161 -0.1421264 -0.8014492\n",
              "Petal.Width   0.5648565 -0.06694199 -0.6342727  0.5235971"
            ]
          },
          "metadata": {}
        }
      ]
    },
    {
      "cell_type": "code",
      "source": [
        "# Proportion of variance 출력\n",
        "plot(pca_df, type = \"l\")"
      ],
      "metadata": {
        "colab": {
          "base_uri": "https://localhost:8080/",
          "height": 437
        },
        "id": "Ab56l2GwVszh",
        "outputId": "393dfbe6-0cb5-4f88-9222-d3954650c663"
      },
      "execution_count": 39,
      "outputs": [
        {
          "output_type": "display_data",
          "data": {
            "text/plain": [
              "Plot with title “pca_df”"
            ],
            "image/png": "[encoded data removed]"
          },
          "metadata": {
            "image/png": {
              "width": 420,
              "height": 420
            }
          }
        }
      ]
    },
    {
      "cell_type": "code",
      "source": [
        "summary(pca_df)"
      ],
      "metadata": {
        "colab": {
          "base_uri": "https://localhost:8080/",
          "height": 109
        },
        "id": "_GOlga96Vvn7",
        "outputId": "d2b815b8-2c5a-433b-fe23-da590d22be1f"
      },
      "execution_count": 40,
      "outputs": [
        {
          "output_type": "display_data",
          "data": {
            "text/plain": [
              "Importance of components:\n",
              "                          PC1    PC2     PC3     PC4\n",
              "Standard deviation     1.7084 0.9560 0.38309 0.14393\n",
              "Proportion of Variance 0.7296 0.2285 0.03669 0.00518\n",
              "Cumulative Proportion  0.7296 0.9581 0.99482 1.00000"
            ]
          },
          "metadata": {}
        }
      ]
    },
    {
      "cell_type": "markdown",
      "source": [
        ">>>**04 결측치 처리**"
      ],
      "metadata": {
        "id": "y3VCz4I3cYGs"
      }
    },
    {
      "cell_type": "code",
      "source": [
        "# is.na() 사용\n",
        "x <- c(1, 2, 3, 4, NA, 6, 7, 8, 9, NA)\n",
        "is.na(x)"
      ],
      "metadata": {
        "colab": {
          "base_uri": "https://localhost:8080/",
          "height": 34
        },
        "id": "AWCD1EDSV0kA",
        "outputId": "281b8a01-8d4a-483c-bc55-06b266fcc2cb"
      },
      "execution_count": 41,
      "outputs": [
        {
          "output_type": "display_data",
          "data": {
            "text/html": [
              "<style>\n",
              ".list-inline {list-style: none; margin:0; padding: 0}\n",
              ".list-inline>li {display: inline-block}\n",
              ".list-inline>li:not(:last-child)::after {content: \"\\00b7\"; padding: 0 .5ex}\n",
              "</style>\n",
              "<ol class=list-inline><li>FALSE</li><li>FALSE</li><li>FALSE</li><li>FALSE</li><li>TRUE</li><li>FALSE</li><li>FALSE</li><li>FALSE</li><li>FALSE</li><li>TRUE</li></ol>\n"
            ],
            "text/markdown": "1. FALSE\n2. FALSE\n3. FALSE\n4. FALSE\n5. TRUE\n6. FALSE\n7. FALSE\n8. FALSE\n9. FALSE\n10. TRUE\n\n\n",
            "text/latex": "\\begin{enumerate*}\n\\item FALSE\n\\item FALSE\n\\item FALSE\n\\item FALSE\n\\item TRUE\n\\item FALSE\n\\item FALSE\n\\item FALSE\n\\item FALSE\n\\item TRUE\n\\end{enumerate*}\n",
            "text/plain": [
              " [1] FALSE FALSE FALSE FALSE  TRUE FALSE FALSE FALSE FALSE  TRUE"
            ]
          },
          "metadata": {}
        }
      ]
    },
    {
      "cell_type": "code",
      "source": [
        "# 깃허브에 있는 csv 파일을 읽어와서 데이터프레임 df로 넣는다.\n",
        "df = read.csv(\"https://raw.githubusercontent.com/datasciencedojo/datasets/master/titanic.csv\")\n",
        "\n",
        "# summary() 사용\n",
        "sum(is.na(df))\n",
        "summary(df)"
      ],
      "metadata": {
        "colab": {
          "base_uri": "https://localhost:8080/",
          "height": 475
        },
        "id": "hO6XQE9dclHY",
        "outputId": "f8aff285-a8c4-43f1-e57e-7f12342c3bed"
      },
      "execution_count": 43,
      "outputs": [
        {
          "output_type": "display_data",
          "data": {
            "text/html": [
              "177"
            ],
            "text/markdown": "177",
            "text/latex": "177",
            "text/plain": [
              "[1] 177"
            ]
          },
          "metadata": {}
        },
        {
          "output_type": "display_data",
          "data": {
            "text/plain": [
              "  PassengerId       Survived          Pclass          Name          \n",
              " Min.   :  1.0   Min.   :0.0000   Min.   :1.000   Length:891        \n",
              " 1st Qu.:223.5   1st Qu.:0.0000   1st Qu.:2.000   Class :character  \n",
              " Median :446.0   Median :0.0000   Median :3.000   Mode  :character  \n",
              " Mean   :446.0   Mean   :0.3838   Mean   :2.309                     \n",
              " 3rd Qu.:668.5   3rd Qu.:1.0000   3rd Qu.:3.000                     \n",
              " Max.   :891.0   Max.   :1.0000   Max.   :3.000                     \n",
              "                                                                    \n",
              "     Sex                 Age            SibSp           Parch       \n",
              " Length:891         Min.   : 0.42   Min.   :0.000   Min.   :0.0000  \n",
              " Class :character   1st Qu.:20.12   1st Qu.:0.000   1st Qu.:0.0000  \n",
              " Mode  :character   Median :28.00   Median :0.000   Median :0.0000  \n",
              "                    Mean   :29.70   Mean   :0.523   Mean   :0.3816  \n",
              "                    3rd Qu.:38.00   3rd Qu.:1.000   3rd Qu.:0.0000  \n",
              "                    Max.   :80.00   Max.   :8.000   Max.   :6.0000  \n",
              "                    NA's   :177                                     \n",
              "    Ticket               Fare           Cabin             Embarked        \n",
              " Length:891         Min.   :  0.00   Length:891         Length:891        \n",
              " Class :character   1st Qu.:  7.91   Class :character   Class :character  \n",
              " Mode  :character   Median : 14.45   Mode  :character   Mode  :character  \n",
              "                    Mean   : 32.20                                        \n",
              "                    3rd Qu.: 31.00                                        \n",
              "                    Max.   :512.33                                        \n",
              "                                                                          "
            ]
          },
          "metadata": {}
        }
      ]
    },
    {
      "cell_type": "code",
      "source": [
        "sum(df$Age)  # 오류\n",
        "mean(df$Age) # 오류\n",
        "\n",
        "sum(df$Age, na.rm = TRUE)\n",
        "mean(df$Age, na.rm = TRUE)"
      ],
      "metadata": {
        "colab": {
          "base_uri": "https://localhost:8080/",
          "height": 86
        },
        "id": "IJlkg269e61i",
        "outputId": "386dce0a-8bfe-4f3c-9894-9e82c9706a0c"
      },
      "execution_count": 44,
      "outputs": [
        {
          "output_type": "display_data",
          "data": {
            "text/html": [
              "&lt;NA&gt;"
            ],
            "text/markdown": "&lt;NA&gt;",
            "text/latex": "<NA>",
            "text/plain": [
              "[1] NA"
            ]
          },
          "metadata": {}
        },
        {
          "output_type": "display_data",
          "data": {
            "text/html": [
              "&lt;NA&gt;"
            ],
            "text/markdown": "&lt;NA&gt;",
            "text/latex": "<NA>",
            "text/plain": [
              "[1] NA"
            ]
          },
          "metadata": {}
        },
        {
          "output_type": "display_data",
          "data": {
            "text/html": [
              "21205.17"
            ],
            "text/markdown": "21205.17",
            "text/latex": "21205.17",
            "text/plain": [
              "[1] 21205.17"
            ]
          },
          "metadata": {}
        },
        {
          "output_type": "display_data",
          "data": {
            "text/html": [
              "29.6991176470588"
            ],
            "text/markdown": "29.6991176470588",
            "text/latex": "29.6991176470588",
            "text/plain": [
              "[1] 29.69912"
            ]
          },
          "metadata": {}
        }
      ]
    },
    {
      "cell_type": "code",
      "source": [
        "# na.omit 이용\n",
        "df_1 <- na.omit(df)\n",
        "dim(df_1)     # 변경된 데이터 프레임의 크기\n",
        "dim(df)       # 기존 데이터 프레임의 크기"
      ],
      "metadata": {
        "colab": {
          "base_uri": "https://localhost:8080/",
          "height": 52
        },
        "id": "ry0WtMU2e-5k",
        "outputId": "9dbca773-7bc9-42bd-ed9c-9f8bf3ac10fc"
      },
      "execution_count": 46,
      "outputs": [
        {
          "output_type": "display_data",
          "data": {
            "text/html": [
              "<style>\n",
              ".list-inline {list-style: none; margin:0; padding: 0}\n",
              ".list-inline>li {display: inline-block}\n",
              ".list-inline>li:not(:last-child)::after {content: \"\\00b7\"; padding: 0 .5ex}\n",
              "</style>\n",
              "<ol class=list-inline><li>714</li><li>12</li></ol>\n"
            ],
            "text/markdown": "1. 714\n2. 12\n\n\n",
            "text/latex": "\\begin{enumerate*}\n\\item 714\n\\item 12\n\\end{enumerate*}\n",
            "text/plain": [
              "[1] 714  12"
            ]
          },
          "metadata": {}
        },
        {
          "output_type": "display_data",
          "data": {
            "text/html": [
              "<style>\n",
              ".list-inline {list-style: none; margin:0; padding: 0}\n",
              ".list-inline>li {display: inline-block}\n",
              ".list-inline>li:not(:last-child)::after {content: \"\\00b7\"; padding: 0 .5ex}\n",
              "</style>\n",
              "<ol class=list-inline><li>891</li><li>12</li></ol>\n"
            ],
            "text/markdown": "1. 891\n2. 12\n\n\n",
            "text/latex": "\\begin{enumerate*}\n\\item 891\n\\item 12\n\\end{enumerate*}\n",
            "text/plain": [
              "[1] 891  12"
            ]
          },
          "metadata": {}
        }
      ]
    },
    {
      "cell_type": "code",
      "source": [
        "# \"Age\" 컬럼 내 결측값이 있는 행 전체 삭제\n",
        "df_2 <- df[ complete.cases(df[ , c(\"Age\")]), ]\n",
        "\n",
        "dim(df)       # 관측값이 891개\n",
        "dim(df_2)     # 관측값이 714개로서 177개 줄어듬"
      ],
      "metadata": {
        "colab": {
          "base_uri": "https://localhost:8080/",
          "height": 52
        },
        "id": "7HR_NwpwfHs5",
        "outputId": "816afc9e-8f75-4d27-995b-a072a812ea4d"
      },
      "execution_count": 48,
      "outputs": [
        {
          "output_type": "display_data",
          "data": {
            "text/html": [
              "<style>\n",
              ".list-inline {list-style: none; margin:0; padding: 0}\n",
              ".list-inline>li {display: inline-block}\n",
              ".list-inline>li:not(:last-child)::after {content: \"\\00b7\"; padding: 0 .5ex}\n",
              "</style>\n",
              "<ol class=list-inline><li>891</li><li>12</li></ol>\n"
            ],
            "text/markdown": "1. 891\n2. 12\n\n\n",
            "text/latex": "\\begin{enumerate*}\n\\item 891\n\\item 12\n\\end{enumerate*}\n",
            "text/plain": [
              "[1] 891  12"
            ]
          },
          "metadata": {}
        },
        {
          "output_type": "display_data",
          "data": {
            "text/html": [
              "<style>\n",
              ".list-inline {list-style: none; margin:0; padding: 0}\n",
              ".list-inline>li {display: inline-block}\n",
              ".list-inline>li:not(:last-child)::after {content: \"\\00b7\"; padding: 0 .5ex}\n",
              "</style>\n",
              "<ol class=list-inline><li>714</li><li>12</li></ol>\n"
            ],
            "text/markdown": "1. 714\n2. 12\n\n\n",
            "text/latex": "\\begin{enumerate*}\n\\item 714\n\\item 12\n\\end{enumerate*}\n",
            "text/plain": [
              "[1] 714  12"
            ]
          },
          "metadata": {}
        }
      ]
    },
    {
      "cell_type": "code",
      "source": [
        "# Age 변수의 데이터값과 결측치 개수 출력\n",
        "head(df$Age, 20)\n",
        "sum(is.na(df$Age))\n",
        "\n",
        "# Age 변수 내 결측값을 '0'으로 대체\n",
        "df_3 <- df\n",
        "df_3$Age[is.na(df_3$Age)] <- 0\n",
        "head(df_3$Age, 20)"
      ],
      "metadata": {
        "colab": {
          "base_uri": "https://localhost:8080/",
          "height": 69
        },
        "id": "Vofq8-69fP-0",
        "outputId": "9974c8fc-0b31-460a-efe8-41be90b3ace2"
      },
      "execution_count": 49,
      "outputs": [
        {
          "output_type": "display_data",
          "data": {
            "text/html": [
              "<style>\n",
              ".list-inline {list-style: none; margin:0; padding: 0}\n",
              ".list-inline>li {display: inline-block}\n",
              ".list-inline>li:not(:last-child)::after {content: \"\\00b7\"; padding: 0 .5ex}\n",
              "</style>\n",
              "<ol class=list-inline><li>22</li><li>38</li><li>26</li><li>35</li><li>35</li><li>&lt;NA&gt;</li><li>54</li><li>2</li><li>27</li><li>14</li><li>4</li><li>58</li><li>20</li><li>39</li><li>14</li><li>55</li><li>2</li><li>&lt;NA&gt;</li><li>31</li><li>&lt;NA&gt;</li></ol>\n"
            ],
            "text/markdown": "1. 22\n2. 38\n3. 26\n4. 35\n5. 35\n6. &lt;NA&gt;\n7. 54\n8. 2\n9. 27\n10. 14\n11. 4\n12. 58\n13. 20\n14. 39\n15. 14\n16. 55\n17. 2\n18. &lt;NA&gt;\n19. 31\n20. &lt;NA&gt;\n\n\n",
            "text/latex": "\\begin{enumerate*}\n\\item 22\n\\item 38\n\\item 26\n\\item 35\n\\item 35\n\\item <NA>\n\\item 54\n\\item 2\n\\item 27\n\\item 14\n\\item 4\n\\item 58\n\\item 20\n\\item 39\n\\item 14\n\\item 55\n\\item 2\n\\item <NA>\n\\item 31\n\\item <NA>\n\\end{enumerate*}\n",
            "text/plain": [
              " [1] 22 38 26 35 35 NA 54  2 27 14  4 58 20 39 14 55  2 NA 31 NA"
            ]
          },
          "metadata": {}
        },
        {
          "output_type": "display_data",
          "data": {
            "text/html": [
              "177"
            ],
            "text/markdown": "177",
            "text/latex": "177",
            "text/plain": [
              "[1] 177"
            ]
          },
          "metadata": {}
        },
        {
          "output_type": "display_data",
          "data": {
            "text/html": [
              "<style>\n",
              ".list-inline {list-style: none; margin:0; padding: 0}\n",
              ".list-inline>li {display: inline-block}\n",
              ".list-inline>li:not(:last-child)::after {content: \"\\00b7\"; padding: 0 .5ex}\n",
              "</style>\n",
              "<ol class=list-inline><li>22</li><li>38</li><li>26</li><li>35</li><li>35</li><li>0</li><li>54</li><li>2</li><li>27</li><li>14</li><li>4</li><li>58</li><li>20</li><li>39</li><li>14</li><li>55</li><li>2</li><li>0</li><li>31</li><li>0</li></ol>\n"
            ],
            "text/markdown": "1. 22\n2. 38\n3. 26\n4. 35\n5. 35\n6. 0\n7. 54\n8. 2\n9. 27\n10. 14\n11. 4\n12. 58\n13. 20\n14. 39\n15. 14\n16. 55\n17. 2\n18. 0\n19. 31\n20. 0\n\n\n",
            "text/latex": "\\begin{enumerate*}\n\\item 22\n\\item 38\n\\item 26\n\\item 35\n\\item 35\n\\item 0\n\\item 54\n\\item 2\n\\item 27\n\\item 14\n\\item 4\n\\item 58\n\\item 20\n\\item 39\n\\item 14\n\\item 55\n\\item 2\n\\item 0\n\\item 31\n\\item 0\n\\end{enumerate*}\n",
            "text/plain": [
              " [1] 22 38 26 35 35  0 54  2 27 14  4 58 20 39 14 55  2  0 31  0"
            ]
          },
          "metadata": {}
        }
      ]
    },
    {
      "cell_type": "code",
      "source": [
        "# Age 변수 내 결측값을 평균값으로 대체\n",
        "df_4 <- df\n",
        "df_4$Age[is.na(df_4$Age)] <- mean(df$Age, na.rm = TRUE)\n",
        "head(df_4$Age, 20)\n",
        "sum(is.na(df_4))"
      ],
      "metadata": {
        "colab": {
          "base_uri": "https://localhost:8080/",
          "height": 52
        },
        "id": "MFv6s9anfVrv",
        "outputId": "60595881-6d8c-402f-991a-2fecbb044ddb"
      },
      "execution_count": 50,
      "outputs": [
        {
          "output_type": "display_data",
          "data": {
            "text/html": [
              "<style>\n",
              ".list-inline {list-style: none; margin:0; padding: 0}\n",
              ".list-inline>li {display: inline-block}\n",
              ".list-inline>li:not(:last-child)::after {content: \"\\00b7\"; padding: 0 .5ex}\n",
              "</style>\n",
              "<ol class=list-inline><li>22</li><li>38</li><li>26</li><li>35</li><li>35</li><li>29.6991176470588</li><li>54</li><li>2</li><li>27</li><li>14</li><li>4</li><li>58</li><li>20</li><li>39</li><li>14</li><li>55</li><li>2</li><li>29.6991176470588</li><li>31</li><li>29.6991176470588</li></ol>\n"
            ],
            "text/markdown": "1. 22\n2. 38\n3. 26\n4. 35\n5. 35\n6. 29.6991176470588\n7. 54\n8. 2\n9. 27\n10. 14\n11. 4\n12. 58\n13. 20\n14. 39\n15. 14\n16. 55\n17. 2\n18. 29.6991176470588\n19. 31\n20. 29.6991176470588\n\n\n",
            "text/latex": "\\begin{enumerate*}\n\\item 22\n\\item 38\n\\item 26\n\\item 35\n\\item 35\n\\item 29.6991176470588\n\\item 54\n\\item 2\n\\item 27\n\\item 14\n\\item 4\n\\item 58\n\\item 20\n\\item 39\n\\item 14\n\\item 55\n\\item 2\n\\item 29.6991176470588\n\\item 31\n\\item 29.6991176470588\n\\end{enumerate*}\n",
            "text/plain": [
              " [1] 22.00000 38.00000 26.00000 35.00000 35.00000 29.69912 54.00000  2.00000\n",
              " [9] 27.00000 14.00000  4.00000 58.00000 20.00000 39.00000 14.00000 55.00000\n",
              "[17]  2.00000 29.69912 31.00000 29.69912"
            ]
          },
          "metadata": {}
        },
        {
          "output_type": "display_data",
          "data": {
            "text/html": [
              "0"
            ],
            "text/markdown": "0",
            "text/latex": "0",
            "text/plain": [
              "[1] 0"
            ]
          },
          "metadata": {}
        }
      ]
    },
    {
      "cell_type": "code",
      "source": [
        "library(dplyr)\n",
        "df = read.csv(\"https://raw.githubusercontent.com/datasciencedojo/datasets/master/titanic.csv\")\n",
        "\n",
        "df %>% group_by(Sex) %>% summarise(Age = mean(Age, na.rm=TRUE))\n",
        "df %>% group_by(Pclass) %>% summarise(Age = mean(Age, na.rm=TRUE))"
      ],
      "metadata": {
        "colab": {
          "base_uri": "https://localhost:8080/",
          "height": 593
        },
        "id": "gzXpP8Lufbqb",
        "outputId": "3ca049e8-e2c5-4592-cfcc-5647e27de4f2"
      },
      "execution_count": 51,
      "outputs": [
        {
          "output_type": "stream",
          "name": "stderr",
          "text": [
            "\n",
            "Attaching package: ‘dplyr’\n",
            "\n",
            "\n",
            "The following objects are masked from ‘package:stats’:\n",
            "\n",
            "    filter, lag\n",
            "\n",
            "\n",
            "The following objects are masked from ‘package:base’:\n",
            "\n",
            "    intersect, setdiff, setequal, union\n",
            "\n",
            "\n"
          ]
        },
        {
          "output_type": "display_data",
          "data": {
            "text/html": [
              "<table class=\"dataframe\">\n",
              "<caption>A tibble: 2 × 2</caption>\n",
              "<thead>\n",
              "\t<tr><th scope=col>Sex</th><th scope=col>Age</th></tr>\n",
              "\t<tr><th scope=col>&lt;chr&gt;</th><th scope=col>&lt;dbl&gt;</th></tr>\n",
              "</thead>\n",
              "<tbody>\n",
              "\t<tr><td>female</td><td>27.91571</td></tr>\n",
              "\t<tr><td>male  </td><td>30.72664</td></tr>\n",
              "</tbody>\n",
              "</table>\n"
            ],
            "text/markdown": "\nA tibble: 2 × 2\n\n| Sex &lt;chr&gt; | Age &lt;dbl&gt; |\n|---|---|\n| female | 27.91571 |\n| male   | 30.72664 |\n\n",
            "text/latex": "A tibble: 2 × 2\n\\begin{tabular}{ll}\n Sex & Age\\\\\n <chr> & <dbl>\\\\\n\\hline\n\t female & 27.91571\\\\\n\t male   & 30.72664\\\\\n\\end{tabular}\n",
            "text/plain": [
              "  Sex    Age     \n",
              "1 female 27.91571\n",
              "2 male   30.72664"
            ]
          },
          "metadata": {}
        },
        {
          "output_type": "display_data",
          "data": {
            "text/html": [
              "<table class=\"dataframe\">\n",
              "<caption>A tibble: 3 × 2</caption>\n",
              "<thead>\n",
              "\t<tr><th scope=col>Pclass</th><th scope=col>Age</th></tr>\n",
              "\t<tr><th scope=col>&lt;int&gt;</th><th scope=col>&lt;dbl&gt;</th></tr>\n",
              "</thead>\n",
              "<tbody>\n",
              "\t<tr><td>1</td><td>38.23344</td></tr>\n",
              "\t<tr><td>2</td><td>29.87763</td></tr>\n",
              "\t<tr><td>3</td><td>25.14062</td></tr>\n",
              "</tbody>\n",
              "</table>\n"
            ],
            "text/markdown": "\nA tibble: 3 × 2\n\n| Pclass &lt;int&gt; | Age &lt;dbl&gt; |\n|---|---|\n| 1 | 38.23344 |\n| 2 | 29.87763 |\n| 3 | 25.14062 |\n\n",
            "text/latex": "A tibble: 3 × 2\n\\begin{tabular}{ll}\n Pclass & Age\\\\\n <int> & <dbl>\\\\\n\\hline\n\t 1 & 38.23344\\\\\n\t 2 & 29.87763\\\\\n\t 3 & 25.14062\\\\\n\\end{tabular}\n",
            "text/plain": [
              "  Pclass Age     \n",
              "1 1      38.23344\n",
              "2 2      29.87763\n",
              "3 3      25.14062"
            ]
          },
          "metadata": {}
        }
      ]
    },
    {
      "cell_type": "code",
      "source": [
        "tail(df, 5)"
      ],
      "metadata": {
        "colab": {
          "base_uri": "https://localhost:8080/",
          "height": 255
        },
        "id": "sH-qt490fhtF",
        "outputId": "5b1b89bb-14cc-42fe-8460-a99aa8e6e657"
      },
      "execution_count": 52,
      "outputs": [
        {
          "output_type": "display_data",
          "data": {
            "text/html": [
              "<table class=\"dataframe\">\n",
              "<caption>A data.frame: 5 × 12</caption>\n",
              "<thead>\n",
              "\t<tr><th></th><th scope=col>PassengerId</th><th scope=col>Survived</th><th scope=col>Pclass</th><th scope=col>Name</th><th scope=col>Sex</th><th scope=col>Age</th><th scope=col>SibSp</th><th scope=col>Parch</th><th scope=col>Ticket</th><th scope=col>Fare</th><th scope=col>Cabin</th><th scope=col>Embarked</th></tr>\n",
              "\t<tr><th></th><th scope=col>&lt;int&gt;</th><th scope=col>&lt;int&gt;</th><th scope=col>&lt;int&gt;</th><th scope=col>&lt;chr&gt;</th><th scope=col>&lt;chr&gt;</th><th scope=col>&lt;dbl&gt;</th><th scope=col>&lt;int&gt;</th><th scope=col>&lt;int&gt;</th><th scope=col>&lt;chr&gt;</th><th scope=col>&lt;dbl&gt;</th><th scope=col>&lt;chr&gt;</th><th scope=col>&lt;chr&gt;</th></tr>\n",
              "</thead>\n",
              "<tbody>\n",
              "\t<tr><th scope=row>887</th><td>887</td><td>0</td><td>2</td><td>Montvila, Rev. Juozas                   </td><td>male  </td><td>27</td><td>0</td><td>0</td><td>211536    </td><td>13.00</td><td>    </td><td>S</td></tr>\n",
              "\t<tr><th scope=row>888</th><td>888</td><td>1</td><td>1</td><td>Graham, Miss. Margaret Edith            </td><td>female</td><td>19</td><td>0</td><td>0</td><td>112053    </td><td>30.00</td><td>B42 </td><td>S</td></tr>\n",
              "\t<tr><th scope=row>889</th><td>889</td><td>0</td><td>3</td><td>Johnston, Miss. Catherine Helen \"Carrie\"</td><td>female</td><td>NA</td><td>1</td><td>2</td><td>W./C. 6607</td><td>23.45</td><td>    </td><td>S</td></tr>\n",
              "\t<tr><th scope=row>890</th><td>890</td><td>1</td><td>1</td><td>Behr, Mr. Karl Howell                   </td><td>male  </td><td>26</td><td>0</td><td>0</td><td>111369    </td><td>30.00</td><td>C148</td><td>C</td></tr>\n",
              "\t<tr><th scope=row>891</th><td>891</td><td>0</td><td>3</td><td>Dooley, Mr. Patrick                     </td><td>male  </td><td>32</td><td>0</td><td>0</td><td>370376    </td><td> 7.75</td><td>    </td><td>Q</td></tr>\n",
              "</tbody>\n",
              "</table>\n"
            ],
            "text/markdown": "\nA data.frame: 5 × 12\n\n| <!--/--> | PassengerId &lt;int&gt; | Survived &lt;int&gt; | Pclass &lt;int&gt; | Name &lt;chr&gt; | Sex &lt;chr&gt; | Age &lt;dbl&gt; | SibSp &lt;int&gt; | Parch &lt;int&gt; | Ticket &lt;chr&gt; | Fare &lt;dbl&gt; | Cabin &lt;chr&gt; | Embarked &lt;chr&gt; |\n|---|---|---|---|---|---|---|---|---|---|---|---|---|\n| 887 | 887 | 0 | 2 | Montvila, Rev. Juozas                    | male   | 27 | 0 | 0 | 211536     | 13.00 | <!----> | S |\n| 888 | 888 | 1 | 1 | Graham, Miss. Margaret Edith             | female | 19 | 0 | 0 | 112053     | 30.00 | B42  | S |\n| 889 | 889 | 0 | 3 | Johnston, Miss. Catherine Helen \"Carrie\" | female | NA | 1 | 2 | W./C. 6607 | 23.45 | <!----> | S |\n| 890 | 890 | 1 | 1 | Behr, Mr. Karl Howell                    | male   | 26 | 0 | 0 | 111369     | 30.00 | C148 | C |\n| 891 | 891 | 0 | 3 | Dooley, Mr. Patrick                      | male   | 32 | 0 | 0 | 370376     |  7.75 | <!----> | Q |\n\n",
            "text/latex": "A data.frame: 5 × 12\n\\begin{tabular}{r|llllllllllll}\n  & PassengerId & Survived & Pclass & Name & Sex & Age & SibSp & Parch & Ticket & Fare & Cabin & Embarked\\\\\n  & <int> & <int> & <int> & <chr> & <chr> & <dbl> & <int> & <int> & <chr> & <dbl> & <chr> & <chr>\\\\\n\\hline\n\t887 & 887 & 0 & 2 & Montvila, Rev. Juozas                    & male   & 27 & 0 & 0 & 211536     & 13.00 &      & S\\\\\n\t888 & 888 & 1 & 1 & Graham, Miss. Margaret Edith             & female & 19 & 0 & 0 & 112053     & 30.00 & B42  & S\\\\\n\t889 & 889 & 0 & 3 & Johnston, Miss. Catherine Helen \"Carrie\" & female & NA & 1 & 2 & W./C. 6607 & 23.45 &      & S\\\\\n\t890 & 890 & 1 & 1 & Behr, Mr. Karl Howell                    & male   & 26 & 0 & 0 & 111369     & 30.00 & C148 & C\\\\\n\t891 & 891 & 0 & 3 & Dooley, Mr. Patrick                      & male   & 32 & 0 & 0 & 370376     &  7.75 &      & Q\\\\\n\\end{tabular}\n",
            "text/plain": [
              "    PassengerId Survived Pclass Name                                     Sex   \n",
              "887 887         0        2      Montvila, Rev. Juozas                    male  \n",
              "888 888         1        1      Graham, Miss. Margaret Edith             female\n",
              "889 889         0        3      Johnston, Miss. Catherine Helen \"Carrie\" female\n",
              "890 890         1        1      Behr, Mr. Karl Howell                    male  \n",
              "891 891         0        3      Dooley, Mr. Patrick                      male  \n",
              "    Age SibSp Parch Ticket     Fare  Cabin Embarked\n",
              "887 27  0     0     211536     13.00       S       \n",
              "888 19  0     0     112053     30.00 B42   S       \n",
              "889 NA  1     2     W./C. 6607 23.45       S       \n",
              "890 26  0     0     111369     30.00 C148  C       \n",
              "891 32  0     0     370376      7.75       Q       "
            ]
          },
          "metadata": {}
        }
      ]
    },
    {
      "cell_type": "code",
      "source": [
        "df <- df %>% group_by(Pclass) %>% mutate(Age = ifelse(is.na(Age), mean(Age, na.rm=TRUE), Age))\n",
        "tail(df, 5)"
      ],
      "metadata": {
        "colab": {
          "base_uri": "https://localhost:8080/",
          "height": 255
        },
        "id": "bsZ_NHt8fjtA",
        "outputId": "afe8f4d2-c407-4db3-d55b-4fca4f2d57f3"
      },
      "execution_count": 53,
      "outputs": [
        {
          "output_type": "display_data",
          "data": {
            "text/html": [
              "<table class=\"dataframe\">\n",
              "<caption>A grouped_df: 5 × 12</caption>\n",
              "<thead>\n",
              "\t<tr><th scope=col>PassengerId</th><th scope=col>Survived</th><th scope=col>Pclass</th><th scope=col>Name</th><th scope=col>Sex</th><th scope=col>Age</th><th scope=col>SibSp</th><th scope=col>Parch</th><th scope=col>Ticket</th><th scope=col>Fare</th><th scope=col>Cabin</th><th scope=col>Embarked</th></tr>\n",
              "\t<tr><th scope=col>&lt;int&gt;</th><th scope=col>&lt;int&gt;</th><th scope=col>&lt;int&gt;</th><th scope=col>&lt;chr&gt;</th><th scope=col>&lt;chr&gt;</th><th scope=col>&lt;dbl&gt;</th><th scope=col>&lt;int&gt;</th><th scope=col>&lt;int&gt;</th><th scope=col>&lt;chr&gt;</th><th scope=col>&lt;dbl&gt;</th><th scope=col>&lt;chr&gt;</th><th scope=col>&lt;chr&gt;</th></tr>\n",
              "</thead>\n",
              "<tbody>\n",
              "\t<tr><td>887</td><td>0</td><td>2</td><td>Montvila, Rev. Juozas                   </td><td>male  </td><td>27.00000</td><td>0</td><td>0</td><td>211536    </td><td>13.00</td><td>    </td><td>S</td></tr>\n",
              "\t<tr><td>888</td><td>1</td><td>1</td><td>Graham, Miss. Margaret Edith            </td><td>female</td><td>19.00000</td><td>0</td><td>0</td><td>112053    </td><td>30.00</td><td>B42 </td><td>S</td></tr>\n",
              "\t<tr><td>889</td><td>0</td><td>3</td><td>Johnston, Miss. Catherine Helen \"Carrie\"</td><td>female</td><td>25.14062</td><td>1</td><td>2</td><td>W./C. 6607</td><td>23.45</td><td>    </td><td>S</td></tr>\n",
              "\t<tr><td>890</td><td>1</td><td>1</td><td>Behr, Mr. Karl Howell                   </td><td>male  </td><td>26.00000</td><td>0</td><td>0</td><td>111369    </td><td>30.00</td><td>C148</td><td>C</td></tr>\n",
              "\t<tr><td>891</td><td>0</td><td>3</td><td>Dooley, Mr. Patrick                     </td><td>male  </td><td>32.00000</td><td>0</td><td>0</td><td>370376    </td><td> 7.75</td><td>    </td><td>Q</td></tr>\n",
              "</tbody>\n",
              "</table>\n"
            ],
            "text/markdown": "\nA grouped_df: 5 × 12\n\n| PassengerId &lt;int&gt; | Survived &lt;int&gt; | Pclass &lt;int&gt; | Name &lt;chr&gt; | Sex &lt;chr&gt; | Age &lt;dbl&gt; | SibSp &lt;int&gt; | Parch &lt;int&gt; | Ticket &lt;chr&gt; | Fare &lt;dbl&gt; | Cabin &lt;chr&gt; | Embarked &lt;chr&gt; |\n|---|---|---|---|---|---|---|---|---|---|---|---|\n| 887 | 0 | 2 | Montvila, Rev. Juozas                    | male   | 27.00000 | 0 | 0 | 211536     | 13.00 | <!----> | S |\n| 888 | 1 | 1 | Graham, Miss. Margaret Edith             | female | 19.00000 | 0 | 0 | 112053     | 30.00 | B42  | S |\n| 889 | 0 | 3 | Johnston, Miss. Catherine Helen \"Carrie\" | female | 25.14062 | 1 | 2 | W./C. 6607 | 23.45 | <!----> | S |\n| 890 | 1 | 1 | Behr, Mr. Karl Howell                    | male   | 26.00000 | 0 | 0 | 111369     | 30.00 | C148 | C |\n| 891 | 0 | 3 | Dooley, Mr. Patrick                      | male   | 32.00000 | 0 | 0 | 370376     |  7.75 | <!----> | Q |\n\n",
            "text/latex": "A grouped\\_df: 5 × 12\n\\begin{tabular}{llllllllllll}\n PassengerId & Survived & Pclass & Name & Sex & Age & SibSp & Parch & Ticket & Fare & Cabin & Embarked\\\\\n <int> & <int> & <int> & <chr> & <chr> & <dbl> & <int> & <int> & <chr> & <dbl> & <chr> & <chr>\\\\\n\\hline\n\t 887 & 0 & 2 & Montvila, Rev. Juozas                    & male   & 27.00000 & 0 & 0 & 211536     & 13.00 &      & S\\\\\n\t 888 & 1 & 1 & Graham, Miss. Margaret Edith             & female & 19.00000 & 0 & 0 & 112053     & 30.00 & B42  & S\\\\\n\t 889 & 0 & 3 & Johnston, Miss. Catherine Helen \"Carrie\" & female & 25.14062 & 1 & 2 & W./C. 6607 & 23.45 &      & S\\\\\n\t 890 & 1 & 1 & Behr, Mr. Karl Howell                    & male   & 26.00000 & 0 & 0 & 111369     & 30.00 & C148 & C\\\\\n\t 891 & 0 & 3 & Dooley, Mr. Patrick                      & male   & 32.00000 & 0 & 0 & 370376     &  7.75 &      & Q\\\\\n\\end{tabular}\n",
            "text/plain": [
              "  PassengerId Survived Pclass Name                                     Sex   \n",
              "1 887         0        2      Montvila, Rev. Juozas                    male  \n",
              "2 888         1        1      Graham, Miss. Margaret Edith             female\n",
              "3 889         0        3      Johnston, Miss. Catherine Helen \"Carrie\" female\n",
              "4 890         1        1      Behr, Mr. Karl Howell                    male  \n",
              "5 891         0        3      Dooley, Mr. Patrick                      male  \n",
              "  Age      SibSp Parch Ticket     Fare  Cabin Embarked\n",
              "1 27.00000 0     0     211536     13.00       S       \n",
              "2 19.00000 0     0     112053     30.00 B42   S       \n",
              "3 25.14062 1     2     W./C. 6607 23.45       S       \n",
              "4 26.00000 0     0     111369     30.00 C148  C       \n",
              "5 32.00000 0     0     370376      7.75       Q       "
            ]
          },
          "metadata": {}
        }
      ]
    },
    {
      "cell_type": "markdown",
      "source": [
        ">>>**05 이상치 처리**"
      ],
      "metadata": {
        "id": "X_OxqVxZfnp_"
      }
    },
    {
      "cell_type": "code",
      "source": [
        "# 정규분포, 평균 50, 표준편차 10을 가지는 데이터 200개 생성\n",
        "data <- rnorm(200, mean=50, sd=10)\n",
        "\n",
        "# 임의의 이상치 삽입\n",
        "data[201] = 2\n",
        "data[202] = 100\n",
        "data[203] = 10\n",
        "data[204] = 110\n",
        "\n",
        "# 분포 시각화\n",
        "hist(data, breaks=20)"
      ],
      "metadata": {
        "colab": {
          "base_uri": "https://localhost:8080/",
          "height": 437
        },
        "id": "gCsTp62CfqeR",
        "outputId": "4c0d74d8-3306-4ecf-b76c-9d37af1fb71b"
      },
      "execution_count": 66,
      "outputs": [
        {
          "output_type": "display_data",
          "data": {
            "text/plain": [
              "Plot with title “Histogram of data”"
            ],
            "image/png": "[encoded data removed]"
          },
          "metadata": {
            "image/png": {
              "width": 420,
              "height": 420
            }
          }
        }
      ]
    },
    {
      "cell_type": "code",
      "source": [
        "# 박스플롯 & fivenum() 함수\n",
        "boxplot(data)\n",
        "text(0.7, median(data), \"median\")\n",
        "text(0.7, quantile(data)[2], \"Q1\")\n",
        "text(0.7, quantile(data)[4], \"Q3\")\n",
        "text(0.7, fivenum(data)[4] + 1.5*IQR(data), \"Q3+1.5*IQR----\")\n",
        "text(0.7, fivenum(data)[2] - 1.5*IQR(data), \"Q1-1.5*IQR----\")"
      ],
      "metadata": {
        "colab": {
          "base_uri": "https://localhost:8080/",
          "height": 437
        },
        "id": "9AAk7F8ifu4b",
        "outputId": "5e4d4cee-14ef-4b06-8834-a722150e7a9b"
      },
      "execution_count": 67,
      "outputs": [
        {
          "output_type": "display_data",
          "data": {
            "text/plain": [
              "plot without title"
            ],
            "image/png": "[encoded data removed]"
          },
          "metadata": {
            "image/png": {
              "width": 420,
              "height": 420
            }
          }
        }
      ]
    },
    {
      "cell_type": "code",
      "source": [
        "summary(data)"
      ],
      "metadata": {
        "colab": {
          "base_uri": "https://localhost:8080/",
          "height": 54
        },
        "id": "Y41o2rW6gNhs",
        "outputId": "96b5aaa9-3008-48f4-a47f-6d48fcb7b90d"
      },
      "execution_count": 68,
      "outputs": [
        {
          "output_type": "display_data",
          "data": {
            "text/plain": [
              "   Min. 1st Qu.  Median    Mean 3rd Qu.    Max. \n",
              "   2.00   43.48   50.87   50.18   57.27  110.00 "
            ]
          },
          "metadata": {}
        }
      ]
    },
    {
      "cell_type": "code",
      "source": [
        "quantile(data)"
      ],
      "metadata": {
        "colab": {
          "base_uri": "https://localhost:8080/",
          "height": 34
        },
        "id": "oCrx_a3KgQFo",
        "outputId": "ccf75755-86ac-445c-a7b9-283130909271"
      },
      "execution_count": 69,
      "outputs": [
        {
          "output_type": "display_data",
          "data": {
            "text/html": [
              "<style>\n",
              ".dl-inline {width: auto; margin:0; padding: 0}\n",
              ".dl-inline>dt, .dl-inline>dd {float: none; width: auto; display: inline-block}\n",
              ".dl-inline>dt::after {content: \":\\0020\"; padding-right: .5ex}\n",
              ".dl-inline>dt:not(:first-of-type) {padding-left: .5ex}\n",
              "</style><dl class=dl-inline><dt>0%</dt><dd>2</dd><dt>25%</dt><dd>43.482553299294</dd><dt>50%</dt><dd>50.8654490882147</dd><dt>75%</dt><dd>57.2671725924315</dd><dt>100%</dt><dd>110</dd></dl>\n"
            ],
            "text/markdown": "0%\n:   225%\n:   43.48255329929450%\n:   50.865449088214775%\n:   57.2671725924315100%\n:   110\n\n",
            "text/latex": "\\begin{description*}\n\\item[0\\textbackslash{}\\%] 2\n\\item[25\\textbackslash{}\\%] 43.482553299294\n\\item[50\\textbackslash{}\\%] 50.8654490882147\n\\item[75\\textbackslash{}\\%] 57.2671725924315\n\\item[100\\textbackslash{}\\%] 110\n\\end{description*}\n",
            "text/plain": [
              "       0%       25%       50%       75%      100% \n",
              "  2.00000  43.48255  50.86545  57.26717 110.00000 "
            ]
          },
          "metadata": {}
        }
      ]
    },
    {
      "cell_type": "code",
      "source": [
        "fivenum(data)"
      ],
      "metadata": {
        "colab": {
          "base_uri": "https://localhost:8080/",
          "height": 34
        },
        "id": "o6B2xb2mgRVf",
        "outputId": "e69e04f2-4cc5-4725-fbd5-bab42dddf962"
      },
      "execution_count": 70,
      "outputs": [
        {
          "output_type": "display_data",
          "data": {
            "text/html": [
              "<style>\n",
              ".list-inline {list-style: none; margin:0; padding: 0}\n",
              ".list-inline>li {display: inline-block}\n",
              ".list-inline>li:not(:last-child)::after {content: \"\\00b7\"; padding: 0 .5ex}\n",
              "</style>\n",
              "<ol class=list-inline><li>2</li><li>43.384034272917</li><li>50.8654490882147</li><li>57.27739091461</li><li>110</li></ol>\n"
            ],
            "text/markdown": "1. 2\n2. 43.384034272917\n3. 50.8654490882147\n4. 57.27739091461\n5. 110\n\n\n",
            "text/latex": "\\begin{enumerate*}\n\\item 2\n\\item 43.384034272917\n\\item 50.8654490882147\n\\item 57.27739091461\n\\item 110\n\\end{enumerate*}\n",
            "text/plain": [
              "[1]   2.00000  43.38403  50.86545  57.27739 110.00000"
            ]
          },
          "metadata": {}
        }
      ]
    },
    {
      "cell_type": "code",
      "source": [
        "UpperQ = fivenum(data)[4]\n",
        "LowerQ = fivenum(data)[2]\n",
        "IQR = UpperQ - LowerQ\n",
        "\n",
        "IQR"
      ],
      "metadata": {
        "colab": {
          "base_uri": "https://localhost:8080/",
          "height": 34
        },
        "id": "8_FPzJ6ggTBT",
        "outputId": "6f3c63c0-dedd-4bd9-b39d-21f5947c715e"
      },
      "execution_count": 71,
      "outputs": [
        {
          "output_type": "display_data",
          "data": {
            "text/html": [
              "13.8933566416929"
            ],
            "text/markdown": "13.8933566416929",
            "text/latex": "13.8933566416929",
            "text/plain": [
              "[1] 13.89336"
            ]
          },
          "metadata": {}
        }
      ]
    },
    {
      "cell_type": "code",
      "source": [
        "upperOutlier = data[ which(data > UpperQ+IQR*1.5) ]\n",
        "lowerOutlier = data[ which(data < LowerQ-IQR*1.5) ]\n",
        "\n",
        "lowerOutlier\n",
        "upperOutlier"
      ],
      "metadata": {
        "colab": {
          "base_uri": "https://localhost:8080/",
          "height": 52
        },
        "id": "Q4oQqjeOgbPi",
        "outputId": "3eadbd1d-139b-4f27-cdcf-6121b179fc05"
      },
      "execution_count": 72,
      "outputs": [
        {
          "output_type": "display_data",
          "data": {
            "text/html": [
              "<style>\n",
              ".list-inline {list-style: none; margin:0; padding: 0}\n",
              ".list-inline>li {display: inline-block}\n",
              ".list-inline>li:not(:last-child)::after {content: \"\\00b7\"; padding: 0 .5ex}\n",
              "</style>\n",
              "<ol class=list-inline><li>19.2226231864353</li><li>20.9171068849519</li><li>2</li><li>10</li></ol>\n"
            ],
            "text/markdown": "1. 19.2226231864353\n2. 20.9171068849519\n3. 2\n4. 10\n\n\n",
            "text/latex": "\\begin{enumerate*}\n\\item 19.2226231864353\n\\item 20.9171068849519\n\\item 2\n\\item 10\n\\end{enumerate*}\n",
            "text/plain": [
              "[1] 19.22262 20.91711  2.00000 10.00000"
            ]
          },
          "metadata": {}
        },
        {
          "output_type": "display_data",
          "data": {
            "text/html": [
              "<style>\n",
              ".list-inline {list-style: none; margin:0; padding: 0}\n",
              ".list-inline>li {display: inline-block}\n",
              ".list-inline>li:not(:last-child)::after {content: \"\\00b7\"; padding: 0 .5ex}\n",
              "</style>\n",
              "<ol class=list-inline><li>100</li><li>110</li></ol>\n"
            ],
            "text/markdown": "1. 100\n2. 110\n\n\n",
            "text/latex": "\\begin{enumerate*}\n\\item 100\n\\item 110\n\\end{enumerate*}\n",
            "text/plain": [
              "[1] 100 110"
            ]
          },
          "metadata": {}
        }
      ]
    },
    {
      "cell_type": "markdown",
      "source": [
        ">>>**06 평활화(smoothing)**"
      ],
      "metadata": {
        "id": "yyAJzMaBgtFg"
      }
    },
    {
      "cell_type": "code",
      "source": [
        "# lynx 데이터 로드 및 요약정보 출력\n",
        "data(lynx)\n",
        "head(lynx, 10)\n",
        "str(lynx)\n",
        "summary(lynx)"
      ],
      "metadata": {
        "colab": {
          "base_uri": "https://localhost:8080/",
          "height": 89
        },
        "id": "aqbmRJdKg0Hh",
        "outputId": "5fa73db1-7815-4a59-9f5b-98c4886bbbd1"
      },
      "execution_count": 73,
      "outputs": [
        {
          "output_type": "display_data",
          "data": {
            "text/html": [
              "<style>\n",
              ".list-inline {list-style: none; margin:0; padding: 0}\n",
              ".list-inline>li {display: inline-block}\n",
              ".list-inline>li:not(:last-child)::after {content: \"\\00b7\"; padding: 0 .5ex}\n",
              "</style>\n",
              "<ol class=list-inline><li>269</li><li>321</li><li>585</li><li>871</li><li>1475</li><li>2821</li><li>3928</li><li>5943</li><li>4950</li><li>2577</li></ol>\n"
            ],
            "text/markdown": "1. 269\n2. 321\n3. 585\n4. 871\n5. 1475\n6. 2821\n7. 3928\n8. 5943\n9. 4950\n10. 2577\n\n\n",
            "text/latex": "\\begin{enumerate*}\n\\item 269\n\\item 321\n\\item 585\n\\item 871\n\\item 1475\n\\item 2821\n\\item 3928\n\\item 5943\n\\item 4950\n\\item 2577\n\\end{enumerate*}\n",
            "text/plain": [
              " [1]  269  321  585  871 1475 2821 3928 5943 4950 2577"
            ]
          },
          "metadata": {}
        },
        {
          "output_type": "stream",
          "name": "stdout",
          "text": [
            " Time-Series [1:114] from 1821 to 1934: 269 321 585 871 1475 ...\n"
          ]
        },
        {
          "output_type": "display_data",
          "data": {
            "text/plain": [
              "   Min. 1st Qu.  Median    Mean 3rd Qu.    Max. \n",
              "   39.0   348.2   771.0  1538.0  2566.8  6991.0 "
            ]
          },
          "metadata": {}
        }
      ]
    },
    {
      "cell_type": "code",
      "source": [
        "install.packages(\"TTR\")\n",
        "library(TTR)\n",
        "\n",
        "# 원시데이터\n",
        "ts.plot(lynx)\n",
        "\n",
        "# 10년 단순이동 평균 그림\n",
        "ts.plot(SMA(lynx, n=10))"
      ],
      "metadata": {
        "colab": {
          "base_uri": "https://localhost:8080/",
          "height": 967
        },
        "id": "LPvIQR5ug4k8",
        "outputId": "71a2b57a-8ec5-4133-b175-65056a50aec1"
      },
      "execution_count": 74,
      "outputs": [
        {
          "output_type": "stream",
          "name": "stderr",
          "text": [
            "Installing package into ‘/usr/local/lib/R/site-library’\n",
            "(as ‘lib’ is unspecified)\n",
            "\n",
            "also installing the dependencies ‘xts’, ‘zoo’\n",
            "\n",
            "\n"
          ]
        },
        {
          "output_type": "display_data",
          "data": {
            "text/plain": [
              "plot without title"
            ],
            "image/png": "[encoded data removed]"
          },
          "metadata": {
            "image/png": {
              "width": 420,
              "height": 420
            }
          }
        },
        {
          "output_type": "display_data",
          "data": {
            "text/plain": [
              "plot without title"
            ],
            "image/png": "[encoded data removed]"
          },
          "metadata": {
            "image/png": {
              "width": 420,
              "height": 420
            }
          }
        }
      ]
    },
    {
      "cell_type": "code",
      "source": [
        "install.packages(\"TTR\")\n",
        "library(TTR)\n",
        "\n",
        "# 원시데이터\n",
        "ts.plot(lynx)\n",
        "\n",
        "# 10년 단순이동 평균 그림\n",
        "ts.plot(EMA(lynx, n=10, wilder=FALSE))"
      ],
      "metadata": {
        "colab": {
          "base_uri": "https://localhost:8080/",
          "height": 912
        },
        "id": "v8JYkf_lg9ew",
        "outputId": "aec054a9-ce3e-45fd-d4a8-d20e8fdaf0fe"
      },
      "execution_count": 75,
      "outputs": [
        {
          "output_type": "stream",
          "name": "stderr",
          "text": [
            "Installing package into ‘/usr/local/lib/R/site-library’\n",
            "(as ‘lib’ is unspecified)\n",
            "\n"
          ]
        },
        {
          "output_type": "display_data",
          "data": {
            "text/plain": [
              "plot without title"
            ],
            "image/png": "[encoded data removed]"
          },
          "metadata": {
            "image/png": {
              "width": 420,
              "height": 420
            }
          }
        },
        {
          "output_type": "display_data",
          "data": {
            "text/plain": [
              "plot without title"
            ],
            "image/png": "[encoded data removed]"
          },
          "metadata": {
            "image/png": {
              "width": 420,
              "height": 420
            }
          }
        }
      ]
    }
  ]
}