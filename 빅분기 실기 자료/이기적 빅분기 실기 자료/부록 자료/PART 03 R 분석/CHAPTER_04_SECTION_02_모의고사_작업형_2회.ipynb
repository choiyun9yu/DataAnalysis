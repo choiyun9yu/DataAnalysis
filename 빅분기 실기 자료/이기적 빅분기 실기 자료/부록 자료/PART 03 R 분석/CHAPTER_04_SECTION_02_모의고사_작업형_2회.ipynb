{
  "nbformat": 4,
  "nbformat_minor": 0,
  "metadata": {
    "colab": {
      "name": "CHAPTER 04-SECTION 02 모의고사 작업형 2회.ipynb",
      "provenance": []
    },
    "kernelspec": {
      "name": "ir",
      "display_name": "R"
    },
    "language_info": {
      "name": "R"
    }
  },
  "cells": [
    {
      "cell_type": "markdown",
      "source": [
        "PART 03 R 분석\n",
        "\n",
        "> CHAPTER 04 모의고사\n",
        "> >SECTION 02 모의고사 작업형 2회\n",
        "> > >**01 제1유형**"
      ],
      "metadata": {
        "id": "0YNI15bWdmWw"
      }
    },
    {
      "cell_type": "code",
      "execution_count": 1,
      "metadata": {
        "colab": {
          "base_uri": "https://localhost:8080/"
        },
        "id": "inpDUTYfdg9s",
        "outputId": "755ea19d-9ebd-46b4-b3a7-badb683f41e4"
      },
      "outputs": [
        {
          "output_type": "stream",
          "name": "stderr",
          "text": [
            "\n",
            "Attaching package: ‘dplyr’\n",
            "\n",
            "\n",
            "The following objects are masked from ‘package:stats’:\n",
            "\n",
            "    filter, lag\n",
            "\n",
            "\n",
            "The following objects are masked from ‘package:base’:\n",
            "\n",
            "    intersect, setdiff, setequal, union\n",
            "\n",
            "\n"
          ]
        }
      ],
      "source": [
        "# 본 도서는 구글 코랩 환경을 기준으로 하고 있습니다.\n",
        "library(dplyr)\n",
        "\n",
        "# 제공된 파일 불러오기(업로드 방법에 대한 내용은 CHAPTER01-SECTION02 참고)\n",
        "df = read.csv(file = \"./sample_data/HR-Employee-Attrition.csv\")"
      ]
    },
    {
      "cell_type": "code",
      "source": [
        "df"
      ],
      "metadata": {
        "colab": {
          "base_uri": "https://localhost:8080/",
          "height": 1000
        },
        "id": "b4z3cOMkd2VS",
        "outputId": "4f0b14e2-a028-4cf6-fb7a-5ce49e9a6e5b"
      },
      "execution_count": 2,
      "outputs": [
        {
          "output_type": "display_data",
          "data": {
            "text/html": [
              "<table class=\"dataframe\">\n",
              "<caption>A data.frame: 1470 × 35</caption>\n",
              "<thead>\n",
              "\t<tr><th scope=col>Age</th><th scope=col>Attrition</th><th scope=col>BusinessTravel</th><th scope=col>DailyRate</th><th scope=col>Department</th><th scope=col>DistanceFromHome</th><th scope=col>Education</th><th scope=col>EducationField</th><th scope=col>EmployeeCount</th><th scope=col>EmployeeNumber</th><th scope=col>⋯</th><th scope=col>RelationshipSatisfaction</th><th scope=col>StandardHours</th><th scope=col>StockOptionLevel</th><th scope=col>TotalWorkingYears</th><th scope=col>TrainingTimesLastYear</th><th scope=col>WorkLifeBalance</th><th scope=col>YearsAtCompany</th><th scope=col>YearsInCurrentRole</th><th scope=col>YearsSinceLastPromotion</th><th scope=col>YearsWithCurrManager</th></tr>\n",
              "\t<tr><th scope=col>&lt;int&gt;</th><th scope=col>&lt;chr&gt;</th><th scope=col>&lt;chr&gt;</th><th scope=col>&lt;int&gt;</th><th scope=col>&lt;chr&gt;</th><th scope=col>&lt;int&gt;</th><th scope=col>&lt;int&gt;</th><th scope=col>&lt;chr&gt;</th><th scope=col>&lt;int&gt;</th><th scope=col>&lt;int&gt;</th><th scope=col>⋯</th><th scope=col>&lt;int&gt;</th><th scope=col>&lt;int&gt;</th><th scope=col>&lt;int&gt;</th><th scope=col>&lt;int&gt;</th><th scope=col>&lt;int&gt;</th><th scope=col>&lt;int&gt;</th><th scope=col>&lt;int&gt;</th><th scope=col>&lt;int&gt;</th><th scope=col>&lt;int&gt;</th><th scope=col>&lt;int&gt;</th></tr>\n",
              "</thead>\n",
              "<tbody>\n",
              "\t<tr><td>41</td><td>Yes</td><td>Travel_Rarely    </td><td>1102</td><td>Sales                 </td><td> 1</td><td>2</td><td>Life Sciences</td><td>1</td><td> 1</td><td>⋯</td><td>1</td><td>80</td><td>0</td><td> 8</td><td>0</td><td>1</td><td> 6</td><td> 4</td><td>0</td><td> 5</td></tr>\n",
              "\t<tr><td>49</td><td>No </td><td>Travel_Frequently</td><td> 279</td><td>Research &amp; Development</td><td> 8</td><td>1</td><td>Life Sciences</td><td>1</td><td> 2</td><td>⋯</td><td>4</td><td>80</td><td>1</td><td>10</td><td>3</td><td>3</td><td>10</td><td> 7</td><td>1</td><td> 7</td></tr>\n",
              "\t<tr><td>37</td><td>Yes</td><td><span style=white-space:pre-wrap>Travel_Rarely    </span></td><td>1373</td><td>Research &amp; Development</td><td> 2</td><td>2</td><td><span style=white-space:pre-wrap>Other        </span></td><td>1</td><td> 4</td><td>⋯</td><td>2</td><td>80</td><td>0</td><td> 7</td><td>3</td><td>3</td><td> 0</td><td> 0</td><td>0</td><td> 0</td></tr>\n",
              "\t<tr><td>33</td><td>No </td><td>Travel_Frequently</td><td>1392</td><td>Research &amp; Development</td><td> 3</td><td>4</td><td>Life Sciences</td><td>1</td><td> 5</td><td>⋯</td><td>3</td><td>80</td><td>0</td><td> 8</td><td>3</td><td>3</td><td> 8</td><td> 7</td><td>3</td><td> 0</td></tr>\n",
              "\t<tr><td>27</td><td>No </td><td><span style=white-space:pre-wrap>Travel_Rarely    </span></td><td> 591</td><td>Research &amp; Development</td><td> 2</td><td>1</td><td><span style=white-space:pre-wrap>Medical      </span></td><td>1</td><td> 7</td><td>⋯</td><td>4</td><td>80</td><td>1</td><td> 6</td><td>3</td><td>3</td><td> 2</td><td> 2</td><td>2</td><td> 2</td></tr>\n",
              "\t<tr><td>32</td><td>No </td><td>Travel_Frequently</td><td>1005</td><td>Research &amp; Development</td><td> 2</td><td>2</td><td>Life Sciences</td><td>1</td><td> 8</td><td>⋯</td><td>3</td><td>80</td><td>0</td><td> 8</td><td>2</td><td>2</td><td> 7</td><td> 7</td><td>3</td><td> 6</td></tr>\n",
              "\t<tr><td>59</td><td>No </td><td><span style=white-space:pre-wrap>Travel_Rarely    </span></td><td>1324</td><td>Research &amp; Development</td><td> 3</td><td>3</td><td><span style=white-space:pre-wrap>Medical      </span></td><td>1</td><td>10</td><td>⋯</td><td>1</td><td>80</td><td>3</td><td>12</td><td>3</td><td>2</td><td> 1</td><td> 0</td><td>0</td><td> 0</td></tr>\n",
              "\t<tr><td>30</td><td>No </td><td><span style=white-space:pre-wrap>Travel_Rarely    </span></td><td>1358</td><td>Research &amp; Development</td><td>24</td><td>1</td><td>Life Sciences</td><td>1</td><td>11</td><td>⋯</td><td>2</td><td>80</td><td>1</td><td> 1</td><td>2</td><td>3</td><td> 1</td><td> 0</td><td>0</td><td> 0</td></tr>\n",
              "\t<tr><td>38</td><td>No </td><td>Travel_Frequently</td><td> 216</td><td>Research &amp; Development</td><td>23</td><td>3</td><td>Life Sciences</td><td>1</td><td>12</td><td>⋯</td><td>2</td><td>80</td><td>0</td><td>10</td><td>2</td><td>3</td><td> 9</td><td> 7</td><td>1</td><td> 8</td></tr>\n",
              "\t<tr><td>36</td><td>No </td><td><span style=white-space:pre-wrap>Travel_Rarely    </span></td><td>1299</td><td>Research &amp; Development</td><td>27</td><td>3</td><td><span style=white-space:pre-wrap>Medical      </span></td><td>1</td><td>13</td><td>⋯</td><td>2</td><td>80</td><td>2</td><td>17</td><td>3</td><td>2</td><td> 7</td><td> 7</td><td>7</td><td> 7</td></tr>\n",
              "\t<tr><td>35</td><td>No </td><td><span style=white-space:pre-wrap>Travel_Rarely    </span></td><td> 809</td><td>Research &amp; Development</td><td>16</td><td>3</td><td><span style=white-space:pre-wrap>Medical      </span></td><td>1</td><td>14</td><td>⋯</td><td>3</td><td>80</td><td>1</td><td> 6</td><td>5</td><td>3</td><td> 5</td><td> 4</td><td>0</td><td> 3</td></tr>\n",
              "\t<tr><td>29</td><td>No </td><td><span style=white-space:pre-wrap>Travel_Rarely    </span></td><td> 153</td><td>Research &amp; Development</td><td>15</td><td>2</td><td>Life Sciences</td><td>1</td><td>15</td><td>⋯</td><td>4</td><td>80</td><td>0</td><td>10</td><td>3</td><td>3</td><td> 9</td><td> 5</td><td>0</td><td> 8</td></tr>\n",
              "\t<tr><td>31</td><td>No </td><td><span style=white-space:pre-wrap>Travel_Rarely    </span></td><td> 670</td><td>Research &amp; Development</td><td>26</td><td>1</td><td>Life Sciences</td><td>1</td><td>16</td><td>⋯</td><td>4</td><td>80</td><td>1</td><td> 5</td><td>1</td><td>2</td><td> 5</td><td> 2</td><td>4</td><td> 3</td></tr>\n",
              "\t<tr><td>34</td><td>No </td><td><span style=white-space:pre-wrap>Travel_Rarely    </span></td><td>1346</td><td>Research &amp; Development</td><td>19</td><td>2</td><td><span style=white-space:pre-wrap>Medical      </span></td><td>1</td><td>18</td><td>⋯</td><td>3</td><td>80</td><td>1</td><td> 3</td><td>2</td><td>3</td><td> 2</td><td> 2</td><td>1</td><td> 2</td></tr>\n",
              "\t<tr><td>28</td><td>Yes</td><td><span style=white-space:pre-wrap>Travel_Rarely    </span></td><td> 103</td><td>Research &amp; Development</td><td>24</td><td>3</td><td>Life Sciences</td><td>1</td><td>19</td><td>⋯</td><td>2</td><td>80</td><td>0</td><td> 6</td><td>4</td><td>3</td><td> 4</td><td> 2</td><td>0</td><td> 3</td></tr>\n",
              "\t<tr><td>29</td><td>No </td><td><span style=white-space:pre-wrap>Travel_Rarely    </span></td><td>1389</td><td>Research &amp; Development</td><td>21</td><td>4</td><td>Life Sciences</td><td>1</td><td>20</td><td>⋯</td><td>3</td><td>80</td><td>1</td><td>10</td><td>1</td><td>3</td><td>10</td><td> 9</td><td>8</td><td> 8</td></tr>\n",
              "\t<tr><td>32</td><td>No </td><td><span style=white-space:pre-wrap>Travel_Rarely    </span></td><td> 334</td><td>Research &amp; Development</td><td> 5</td><td>2</td><td>Life Sciences</td><td>1</td><td>21</td><td>⋯</td><td>4</td><td>80</td><td>2</td><td> 7</td><td>5</td><td>2</td><td> 6</td><td> 2</td><td>0</td><td> 5</td></tr>\n",
              "\t<tr><td>22</td><td>No </td><td><span style=white-space:pre-wrap>Non-Travel       </span></td><td>1123</td><td>Research &amp; Development</td><td>16</td><td>2</td><td><span style=white-space:pre-wrap>Medical      </span></td><td>1</td><td>22</td><td>⋯</td><td>2</td><td>80</td><td>2</td><td> 1</td><td>2</td><td>2</td><td> 1</td><td> 0</td><td>0</td><td> 0</td></tr>\n",
              "\t<tr><td>53</td><td>No </td><td>Travel_Rarely    </td><td>1219</td><td>Sales                 </td><td> 2</td><td>4</td><td>Life Sciences</td><td>1</td><td>23</td><td>⋯</td><td>3</td><td>80</td><td>0</td><td>31</td><td>3</td><td>3</td><td>25</td><td> 8</td><td>3</td><td> 7</td></tr>\n",
              "\t<tr><td>38</td><td>No </td><td><span style=white-space:pre-wrap>Travel_Rarely    </span></td><td> 371</td><td>Research &amp; Development</td><td> 2</td><td>3</td><td>Life Sciences</td><td>1</td><td>24</td><td>⋯</td><td>3</td><td>80</td><td>0</td><td> 6</td><td>3</td><td>3</td><td> 3</td><td> 2</td><td>1</td><td> 2</td></tr>\n",
              "\t<tr><td>24</td><td>No </td><td><span style=white-space:pre-wrap>Non-Travel       </span></td><td> 673</td><td>Research &amp; Development</td><td>11</td><td>2</td><td><span style=white-space:pre-wrap>Other        </span></td><td>1</td><td>26</td><td>⋯</td><td>4</td><td>80</td><td>1</td><td> 5</td><td>5</td><td>2</td><td> 4</td><td> 2</td><td>1</td><td> 3</td></tr>\n",
              "\t<tr><td>36</td><td>Yes</td><td>Travel_Rarely    </td><td>1218</td><td>Sales                 </td><td> 9</td><td>4</td><td>Life Sciences</td><td>1</td><td>27</td><td>⋯</td><td>2</td><td>80</td><td>0</td><td>10</td><td>4</td><td>3</td><td> 5</td><td> 3</td><td>0</td><td> 3</td></tr>\n",
              "\t<tr><td>34</td><td>No </td><td><span style=white-space:pre-wrap>Travel_Rarely    </span></td><td> 419</td><td>Research &amp; Development</td><td> 7</td><td>4</td><td>Life Sciences</td><td>1</td><td>28</td><td>⋯</td><td>3</td><td>80</td><td>0</td><td>13</td><td>4</td><td>3</td><td>12</td><td> 6</td><td>2</td><td>11</td></tr>\n",
              "\t<tr><td>21</td><td>No </td><td><span style=white-space:pre-wrap>Travel_Rarely    </span></td><td> 391</td><td>Research &amp; Development</td><td>15</td><td>2</td><td>Life Sciences</td><td>1</td><td>30</td><td>⋯</td><td>4</td><td>80</td><td>0</td><td> 0</td><td>6</td><td>3</td><td> 0</td><td> 0</td><td>0</td><td> 0</td></tr>\n",
              "\t<tr><td>34</td><td>Yes</td><td><span style=white-space:pre-wrap>Travel_Rarely    </span></td><td> 699</td><td>Research &amp; Development</td><td> 6</td><td>1</td><td><span style=white-space:pre-wrap>Medical      </span></td><td>1</td><td>31</td><td>⋯</td><td>3</td><td>80</td><td>0</td><td> 8</td><td>2</td><td>3</td><td> 4</td><td> 2</td><td>1</td><td> 3</td></tr>\n",
              "\t<tr><td>53</td><td>No </td><td><span style=white-space:pre-wrap>Travel_Rarely    </span></td><td>1282</td><td>Research &amp; Development</td><td> 5</td><td>3</td><td><span style=white-space:pre-wrap>Other        </span></td><td>1</td><td>32</td><td>⋯</td><td>4</td><td>80</td><td>1</td><td>26</td><td>3</td><td>2</td><td>14</td><td>13</td><td>4</td><td> 8</td></tr>\n",
              "\t<tr><td>32</td><td>Yes</td><td>Travel_Frequently</td><td>1125</td><td>Research &amp; Development</td><td>16</td><td>1</td><td>Life Sciences</td><td>1</td><td>33</td><td>⋯</td><td>2</td><td>80</td><td>0</td><td>10</td><td>5</td><td>3</td><td>10</td><td> 2</td><td>6</td><td> 7</td></tr>\n",
              "\t<tr><td>42</td><td>No </td><td>Travel_Rarely    </td><td> 691</td><td>Sales                 </td><td> 8</td><td>4</td><td>Marketing    </td><td>1</td><td>35</td><td>⋯</td><td>4</td><td>80</td><td>1</td><td>10</td><td>2</td><td>3</td><td> 9</td><td> 7</td><td>4</td><td> 2</td></tr>\n",
              "\t<tr><td>44</td><td>No </td><td><span style=white-space:pre-wrap>Travel_Rarely    </span></td><td> 477</td><td>Research &amp; Development</td><td> 7</td><td>4</td><td><span style=white-space:pre-wrap>Medical      </span></td><td>1</td><td>36</td><td>⋯</td><td>4</td><td>80</td><td>1</td><td>24</td><td>4</td><td>3</td><td>22</td><td> 6</td><td>5</td><td>17</td></tr>\n",
              "\t<tr><td>46</td><td>No </td><td>Travel_Rarely    </td><td> 705</td><td>Sales                 </td><td> 2</td><td>4</td><td>Marketing    </td><td>1</td><td>38</td><td>⋯</td><td>4</td><td>80</td><td>0</td><td>22</td><td>2</td><td>2</td><td> 2</td><td> 2</td><td>2</td><td> 1</td></tr>\n",
              "\t<tr><td>⋮</td><td>⋮</td><td>⋮</td><td>⋮</td><td>⋮</td><td>⋮</td><td>⋮</td><td>⋮</td><td>⋮</td><td>⋮</td><td>⋱</td><td>⋮</td><td>⋮</td><td>⋮</td><td>⋮</td><td>⋮</td><td>⋮</td><td>⋮</td><td>⋮</td><td>⋮</td><td>⋮</td></tr>\n",
              "\t<tr><td>36</td><td>No </td><td>Travel_Frequently</td><td> 688</td><td>Research &amp; Development</td><td> 4</td><td>2</td><td><span style=white-space:pre-wrap>Life Sciences   </span></td><td>1</td><td>2025</td><td>⋯</td><td>2</td><td>80</td><td>3</td><td>18</td><td>3</td><td>3</td><td> 4</td><td> 2</td><td> 0</td><td> 2</td></tr>\n",
              "\t<tr><td>56</td><td>No </td><td><span style=white-space:pre-wrap>Non-Travel       </span></td><td> 667</td><td>Research &amp; Development</td><td> 1</td><td>4</td><td><span style=white-space:pre-wrap>Life Sciences   </span></td><td>1</td><td>2026</td><td>⋯</td><td>1</td><td>80</td><td>1</td><td>13</td><td>2</td><td>2</td><td>13</td><td>12</td><td> 1</td><td> 9</td></tr>\n",
              "\t<tr><td>29</td><td>Yes</td><td><span style=white-space:pre-wrap>Travel_Rarely    </span></td><td>1092</td><td>Research &amp; Development</td><td> 1</td><td>4</td><td><span style=white-space:pre-wrap>Medical         </span></td><td>1</td><td>2027</td><td>⋯</td><td>2</td><td>80</td><td>3</td><td> 4</td><td>3</td><td>4</td><td> 2</td><td> 2</td><td> 2</td><td> 2</td></tr>\n",
              "\t<tr><td>42</td><td>No </td><td><span style=white-space:pre-wrap>Travel_Rarely    </span></td><td> 300</td><td>Research &amp; Development</td><td> 2</td><td>3</td><td><span style=white-space:pre-wrap>Life Sciences   </span></td><td>1</td><td>2031</td><td>⋯</td><td>1</td><td>80</td><td>0</td><td>24</td><td>2</td><td>2</td><td>22</td><td> 6</td><td> 4</td><td>14</td></tr>\n",
              "\t<tr><td>56</td><td>Yes</td><td><span style=white-space:pre-wrap>Travel_Rarely    </span></td><td> 310</td><td>Research &amp; Development</td><td> 7</td><td>2</td><td>Technical Degree</td><td>1</td><td>2032</td><td>⋯</td><td>4</td><td>80</td><td>1</td><td>14</td><td>4</td><td>1</td><td>10</td><td> 9</td><td> 9</td><td> 8</td></tr>\n",
              "\t<tr><td>41</td><td>No </td><td><span style=white-space:pre-wrap>Travel_Rarely    </span></td><td> 582</td><td>Research &amp; Development</td><td>28</td><td>4</td><td><span style=white-space:pre-wrap>Life Sciences   </span></td><td>1</td><td>2034</td><td>⋯</td><td>3</td><td>80</td><td>1</td><td>21</td><td>3</td><td>3</td><td>20</td><td> 7</td><td> 0</td><td>10</td></tr>\n",
              "\t<tr><td>34</td><td>No </td><td>Travel_Rarely    </td><td> 704</td><td>Sales                 </td><td>28</td><td>3</td><td>Marketing       </td><td>1</td><td>2035</td><td>⋯</td><td>4</td><td>80</td><td>2</td><td> 8</td><td>2</td><td>3</td><td> 8</td><td> 7</td><td> 1</td><td> 7</td></tr>\n",
              "\t<tr><td>36</td><td>No </td><td>Non-Travel       </td><td> 301</td><td>Sales                 </td><td>15</td><td>4</td><td>Marketing       </td><td>1</td><td>2036</td><td>⋯</td><td>1</td><td>80</td><td>1</td><td>15</td><td>4</td><td>2</td><td>15</td><td>12</td><td>11</td><td>11</td></tr>\n",
              "\t<tr><td>41</td><td>No </td><td>Travel_Rarely    </td><td> 930</td><td>Sales                 </td><td> 3</td><td>3</td><td>Life Sciences   </td><td>1</td><td>2037</td><td>⋯</td><td>3</td><td>80</td><td>1</td><td>14</td><td>5</td><td>3</td><td> 5</td><td> 4</td><td> 0</td><td> 4</td></tr>\n",
              "\t<tr><td>32</td><td>No </td><td><span style=white-space:pre-wrap>Travel_Rarely    </span></td><td> 529</td><td>Research &amp; Development</td><td> 2</td><td>3</td><td>Technical Degree</td><td>1</td><td>2038</td><td>⋯</td><td>4</td><td>80</td><td>0</td><td> 4</td><td>4</td><td>3</td><td> 4</td><td> 2</td><td> 1</td><td> 2</td></tr>\n",
              "\t<tr><td>35</td><td>No </td><td>Travel_Rarely    </td><td>1146</td><td>Human Resources       </td><td>26</td><td>4</td><td>Life Sciences   </td><td>1</td><td>2040</td><td>⋯</td><td>3</td><td>80</td><td>0</td><td> 9</td><td>2</td><td>3</td><td> 9</td><td> 0</td><td> 1</td><td> 7</td></tr>\n",
              "\t<tr><td>38</td><td>No </td><td>Travel_Rarely    </td><td> 345</td><td>Sales                 </td><td>10</td><td>2</td><td>Life Sciences   </td><td>1</td><td>2041</td><td>⋯</td><td>3</td><td>80</td><td>1</td><td>10</td><td>1</td><td>3</td><td>10</td><td> 7</td><td> 1</td><td> 9</td></tr>\n",
              "\t<tr><td>50</td><td>Yes</td><td>Travel_Frequently</td><td> 878</td><td>Sales                 </td><td> 1</td><td>4</td><td>Life Sciences   </td><td>1</td><td>2044</td><td>⋯</td><td>4</td><td>80</td><td>2</td><td>12</td><td>3</td><td>3</td><td> 6</td><td> 3</td><td> 0</td><td> 1</td></tr>\n",
              "\t<tr><td>36</td><td>No </td><td>Travel_Rarely    </td><td>1120</td><td>Sales                 </td><td>11</td><td>4</td><td>Marketing       </td><td>1</td><td>2045</td><td>⋯</td><td>1</td><td>80</td><td>1</td><td> 8</td><td>2</td><td>2</td><td> 6</td><td> 3</td><td> 0</td><td> 0</td></tr>\n",
              "\t<tr><td>45</td><td>No </td><td>Travel_Rarely    </td><td> 374</td><td>Sales                 </td><td>20</td><td>3</td><td>Life Sciences   </td><td>1</td><td>2046</td><td>⋯</td><td>3</td><td>80</td><td>0</td><td> 8</td><td>3</td><td>3</td><td> 5</td><td> 3</td><td> 0</td><td> 1</td></tr>\n",
              "\t<tr><td>40</td><td>No </td><td><span style=white-space:pre-wrap>Travel_Rarely    </span></td><td>1322</td><td>Research &amp; Development</td><td> 2</td><td>4</td><td><span style=white-space:pre-wrap>Life Sciences   </span></td><td>1</td><td>2048</td><td>⋯</td><td>4</td><td>80</td><td>0</td><td> 8</td><td>2</td><td>3</td><td> 2</td><td> 2</td><td> 2</td><td> 2</td></tr>\n",
              "\t<tr><td>35</td><td>No </td><td>Travel_Frequently</td><td>1199</td><td>Research &amp; Development</td><td>18</td><td>4</td><td><span style=white-space:pre-wrap>Life Sciences   </span></td><td>1</td><td>2049</td><td>⋯</td><td>4</td><td>80</td><td>2</td><td>10</td><td>2</td><td>4</td><td>10</td><td> 2</td><td> 0</td><td> 2</td></tr>\n",
              "\t<tr><td>40</td><td>No </td><td><span style=white-space:pre-wrap>Travel_Rarely    </span></td><td>1194</td><td>Research &amp; Development</td><td> 2</td><td>4</td><td><span style=white-space:pre-wrap>Medical         </span></td><td>1</td><td>2051</td><td>⋯</td><td>2</td><td>80</td><td>3</td><td>20</td><td>2</td><td>3</td><td> 5</td><td> 3</td><td> 0</td><td> 2</td></tr>\n",
              "\t<tr><td>35</td><td>No </td><td><span style=white-space:pre-wrap>Travel_Rarely    </span></td><td> 287</td><td>Research &amp; Development</td><td> 1</td><td>4</td><td><span style=white-space:pre-wrap>Life Sciences   </span></td><td>1</td><td>2052</td><td>⋯</td><td>4</td><td>80</td><td>1</td><td> 4</td><td>5</td><td>3</td><td> 4</td><td> 3</td><td> 1</td><td> 1</td></tr>\n",
              "\t<tr><td>29</td><td>No </td><td><span style=white-space:pre-wrap>Travel_Rarely    </span></td><td>1378</td><td>Research &amp; Development</td><td>13</td><td>2</td><td><span style=white-space:pre-wrap>Other           </span></td><td>1</td><td>2053</td><td>⋯</td><td>1</td><td>80</td><td>1</td><td>10</td><td>2</td><td>3</td><td> 4</td><td> 3</td><td> 0</td><td> 3</td></tr>\n",
              "\t<tr><td>29</td><td>No </td><td><span style=white-space:pre-wrap>Travel_Rarely    </span></td><td> 468</td><td>Research &amp; Development</td><td>28</td><td>4</td><td><span style=white-space:pre-wrap>Medical         </span></td><td>1</td><td>2054</td><td>⋯</td><td>2</td><td>80</td><td>0</td><td> 5</td><td>3</td><td>1</td><td> 5</td><td> 4</td><td> 0</td><td> 4</td></tr>\n",
              "\t<tr><td>50</td><td>Yes</td><td>Travel_Rarely    </td><td> 410</td><td>Sales                 </td><td>28</td><td>3</td><td>Marketing       </td><td>1</td><td>2055</td><td>⋯</td><td>2</td><td>80</td><td>1</td><td>20</td><td>3</td><td>3</td><td> 3</td><td> 2</td><td> 2</td><td> 0</td></tr>\n",
              "\t<tr><td>39</td><td>No </td><td>Travel_Rarely    </td><td> 722</td><td>Sales                 </td><td>24</td><td>1</td><td>Marketing       </td><td>1</td><td>2056</td><td>⋯</td><td>1</td><td>80</td><td>1</td><td>21</td><td>2</td><td>2</td><td>20</td><td> 9</td><td> 9</td><td> 6</td></tr>\n",
              "\t<tr><td>31</td><td>No </td><td><span style=white-space:pre-wrap>Non-Travel       </span></td><td> 325</td><td>Research &amp; Development</td><td> 5</td><td>3</td><td><span style=white-space:pre-wrap>Medical         </span></td><td>1</td><td>2057</td><td>⋯</td><td>2</td><td>80</td><td>0</td><td>10</td><td>2</td><td>3</td><td> 9</td><td> 4</td><td> 1</td><td> 7</td></tr>\n",
              "\t<tr><td>26</td><td>No </td><td>Travel_Rarely    </td><td>1167</td><td>Sales                 </td><td> 5</td><td>3</td><td>Other           </td><td>1</td><td>2060</td><td>⋯</td><td>4</td><td>80</td><td>0</td><td> 5</td><td>2</td><td>3</td><td> 4</td><td> 2</td><td> 0</td><td> 0</td></tr>\n",
              "\t<tr><td>36</td><td>No </td><td>Travel_Frequently</td><td> 884</td><td>Research &amp; Development</td><td>23</td><td>2</td><td><span style=white-space:pre-wrap>Medical         </span></td><td>1</td><td>2061</td><td>⋯</td><td>3</td><td>80</td><td>1</td><td>17</td><td>3</td><td>3</td><td> 5</td><td> 2</td><td> 0</td><td> 3</td></tr>\n",
              "\t<tr><td>39</td><td>No </td><td><span style=white-space:pre-wrap>Travel_Rarely    </span></td><td> 613</td><td>Research &amp; Development</td><td> 6</td><td>1</td><td><span style=white-space:pre-wrap>Medical         </span></td><td>1</td><td>2062</td><td>⋯</td><td>1</td><td>80</td><td>1</td><td> 9</td><td>5</td><td>3</td><td> 7</td><td> 7</td><td> 1</td><td> 7</td></tr>\n",
              "\t<tr><td>27</td><td>No </td><td><span style=white-space:pre-wrap>Travel_Rarely    </span></td><td> 155</td><td>Research &amp; Development</td><td> 4</td><td>3</td><td><span style=white-space:pre-wrap>Life Sciences   </span></td><td>1</td><td>2064</td><td>⋯</td><td>2</td><td>80</td><td>1</td><td> 6</td><td>0</td><td>3</td><td> 6</td><td> 2</td><td> 0</td><td> 3</td></tr>\n",
              "\t<tr><td>49</td><td>No </td><td>Travel_Frequently</td><td>1023</td><td>Sales                 </td><td> 2</td><td>3</td><td>Medical         </td><td>1</td><td>2065</td><td>⋯</td><td>4</td><td>80</td><td>0</td><td>17</td><td>3</td><td>2</td><td> 9</td><td> 6</td><td> 0</td><td> 8</td></tr>\n",
              "\t<tr><td>34</td><td>No </td><td><span style=white-space:pre-wrap>Travel_Rarely    </span></td><td> 628</td><td>Research &amp; Development</td><td> 8</td><td>3</td><td><span style=white-space:pre-wrap>Medical         </span></td><td>1</td><td>2068</td><td>⋯</td><td>1</td><td>80</td><td>0</td><td> 6</td><td>3</td><td>4</td><td> 4</td><td> 3</td><td> 1</td><td> 2</td></tr>\n",
              "</tbody>\n",
              "</table>\n"
            ],
            "text/markdown": "\nA data.frame: 1470 × 35\n\n| Age &lt;int&gt; | Attrition &lt;chr&gt; | BusinessTravel &lt;chr&gt; | DailyRate &lt;int&gt; | Department &lt;chr&gt; | DistanceFromHome &lt;int&gt; | Education &lt;int&gt; | EducationField &lt;chr&gt; | EmployeeCount &lt;int&gt; | EmployeeNumber &lt;int&gt; | ⋯ ⋯ | RelationshipSatisfaction &lt;int&gt; | StandardHours &lt;int&gt; | StockOptionLevel &lt;int&gt; | TotalWorkingYears &lt;int&gt; | TrainingTimesLastYear &lt;int&gt; | WorkLifeBalance &lt;int&gt; | YearsAtCompany &lt;int&gt; | YearsInCurrentRole &lt;int&gt; | YearsSinceLastPromotion &lt;int&gt; | YearsWithCurrManager &lt;int&gt; |\n|---|---|---|---|---|---|---|---|---|---|---|---|---|---|---|---|---|---|---|---|---|\n| 41 | Yes | Travel_Rarely     | 1102 | Sales                  |  1 | 2 | Life Sciences | 1 |  1 | ⋯ | 1 | 80 | 0 |  8 | 0 | 1 |  6 |  4 | 0 |  5 |\n| 49 | No  | Travel_Frequently |  279 | Research &amp; Development |  8 | 1 | Life Sciences | 1 |  2 | ⋯ | 4 | 80 | 1 | 10 | 3 | 3 | 10 |  7 | 1 |  7 |\n| 37 | Yes | Travel_Rarely     | 1373 | Research &amp; Development |  2 | 2 | Other         | 1 |  4 | ⋯ | 2 | 80 | 0 |  7 | 3 | 3 |  0 |  0 | 0 |  0 |\n| 33 | No  | Travel_Frequently | 1392 | Research &amp; Development |  3 | 4 | Life Sciences | 1 |  5 | ⋯ | 3 | 80 | 0 |  8 | 3 | 3 |  8 |  7 | 3 |  0 |\n| 27 | No  | Travel_Rarely     |  591 | Research &amp; Development |  2 | 1 | Medical       | 1 |  7 | ⋯ | 4 | 80 | 1 |  6 | 3 | 3 |  2 |  2 | 2 |  2 |\n| 32 | No  | Travel_Frequently | 1005 | Research &amp; Development |  2 | 2 | Life Sciences | 1 |  8 | ⋯ | 3 | 80 | 0 |  8 | 2 | 2 |  7 |  7 | 3 |  6 |\n| 59 | No  | Travel_Rarely     | 1324 | Research &amp; Development |  3 | 3 | Medical       | 1 | 10 | ⋯ | 1 | 80 | 3 | 12 | 3 | 2 |  1 |  0 | 0 |  0 |\n| 30 | No  | Travel_Rarely     | 1358 | Research &amp; Development | 24 | 1 | Life Sciences | 1 | 11 | ⋯ | 2 | 80 | 1 |  1 | 2 | 3 |  1 |  0 | 0 |  0 |\n| 38 | No  | Travel_Frequently |  216 | Research &amp; Development | 23 | 3 | Life Sciences | 1 | 12 | ⋯ | 2 | 80 | 0 | 10 | 2 | 3 |  9 |  7 | 1 |  8 |\n| 36 | No  | Travel_Rarely     | 1299 | Research &amp; Development | 27 | 3 | Medical       | 1 | 13 | ⋯ | 2 | 80 | 2 | 17 | 3 | 2 |  7 |  7 | 7 |  7 |\n| 35 | No  | Travel_Rarely     |  809 | Research &amp; Development | 16 | 3 | Medical       | 1 | 14 | ⋯ | 3 | 80 | 1 |  6 | 5 | 3 |  5 |  4 | 0 |  3 |\n| 29 | No  | Travel_Rarely     |  153 | Research &amp; Development | 15 | 2 | Life Sciences | 1 | 15 | ⋯ | 4 | 80 | 0 | 10 | 3 | 3 |  9 |  5 | 0 |  8 |\n| 31 | No  | Travel_Rarely     |  670 | Research &amp; Development | 26 | 1 | Life Sciences | 1 | 16 | ⋯ | 4 | 80 | 1 |  5 | 1 | 2 |  5 |  2 | 4 |  3 |\n| 34 | No  | Travel_Rarely     | 1346 | Research &amp; Development | 19 | 2 | Medical       | 1 | 18 | ⋯ | 3 | 80 | 1 |  3 | 2 | 3 |  2 |  2 | 1 |  2 |\n| 28 | Yes | Travel_Rarely     |  103 | Research &amp; Development | 24 | 3 | Life Sciences | 1 | 19 | ⋯ | 2 | 80 | 0 |  6 | 4 | 3 |  4 |  2 | 0 |  3 |\n| 29 | No  | Travel_Rarely     | 1389 | Research &amp; Development | 21 | 4 | Life Sciences | 1 | 20 | ⋯ | 3 | 80 | 1 | 10 | 1 | 3 | 10 |  9 | 8 |  8 |\n| 32 | No  | Travel_Rarely     |  334 | Research &amp; Development |  5 | 2 | Life Sciences | 1 | 21 | ⋯ | 4 | 80 | 2 |  7 | 5 | 2 |  6 |  2 | 0 |  5 |\n| 22 | No  | Non-Travel        | 1123 | Research &amp; Development | 16 | 2 | Medical       | 1 | 22 | ⋯ | 2 | 80 | 2 |  1 | 2 | 2 |  1 |  0 | 0 |  0 |\n| 53 | No  | Travel_Rarely     | 1219 | Sales                  |  2 | 4 | Life Sciences | 1 | 23 | ⋯ | 3 | 80 | 0 | 31 | 3 | 3 | 25 |  8 | 3 |  7 |\n| 38 | No  | Travel_Rarely     |  371 | Research &amp; Development |  2 | 3 | Life Sciences | 1 | 24 | ⋯ | 3 | 80 | 0 |  6 | 3 | 3 |  3 |  2 | 1 |  2 |\n| 24 | No  | Non-Travel        |  673 | Research &amp; Development | 11 | 2 | Other         | 1 | 26 | ⋯ | 4 | 80 | 1 |  5 | 5 | 2 |  4 |  2 | 1 |  3 |\n| 36 | Yes | Travel_Rarely     | 1218 | Sales                  |  9 | 4 | Life Sciences | 1 | 27 | ⋯ | 2 | 80 | 0 | 10 | 4 | 3 |  5 |  3 | 0 |  3 |\n| 34 | No  | Travel_Rarely     |  419 | Research &amp; Development |  7 | 4 | Life Sciences | 1 | 28 | ⋯ | 3 | 80 | 0 | 13 | 4 | 3 | 12 |  6 | 2 | 11 |\n| 21 | No  | Travel_Rarely     |  391 | Research &amp; Development | 15 | 2 | Life Sciences | 1 | 30 | ⋯ | 4 | 80 | 0 |  0 | 6 | 3 |  0 |  0 | 0 |  0 |\n| 34 | Yes | Travel_Rarely     |  699 | Research &amp; Development |  6 | 1 | Medical       | 1 | 31 | ⋯ | 3 | 80 | 0 |  8 | 2 | 3 |  4 |  2 | 1 |  3 |\n| 53 | No  | Travel_Rarely     | 1282 | Research &amp; Development |  5 | 3 | Other         | 1 | 32 | ⋯ | 4 | 80 | 1 | 26 | 3 | 2 | 14 | 13 | 4 |  8 |\n| 32 | Yes | Travel_Frequently | 1125 | Research &amp; Development | 16 | 1 | Life Sciences | 1 | 33 | ⋯ | 2 | 80 | 0 | 10 | 5 | 3 | 10 |  2 | 6 |  7 |\n| 42 | No  | Travel_Rarely     |  691 | Sales                  |  8 | 4 | Marketing     | 1 | 35 | ⋯ | 4 | 80 | 1 | 10 | 2 | 3 |  9 |  7 | 4 |  2 |\n| 44 | No  | Travel_Rarely     |  477 | Research &amp; Development |  7 | 4 | Medical       | 1 | 36 | ⋯ | 4 | 80 | 1 | 24 | 4 | 3 | 22 |  6 | 5 | 17 |\n| 46 | No  | Travel_Rarely     |  705 | Sales                  |  2 | 4 | Marketing     | 1 | 38 | ⋯ | 4 | 80 | 0 | 22 | 2 | 2 |  2 |  2 | 2 |  1 |\n| ⋮ | ⋮ | ⋮ | ⋮ | ⋮ | ⋮ | ⋮ | ⋮ | ⋮ | ⋮ | ⋱ | ⋮ | ⋮ | ⋮ | ⋮ | ⋮ | ⋮ | ⋮ | ⋮ | ⋮ | ⋮ |\n| 36 | No  | Travel_Frequently |  688 | Research &amp; Development |  4 | 2 | Life Sciences    | 1 | 2025 | ⋯ | 2 | 80 | 3 | 18 | 3 | 3 |  4 |  2 |  0 |  2 |\n| 56 | No  | Non-Travel        |  667 | Research &amp; Development |  1 | 4 | Life Sciences    | 1 | 2026 | ⋯ | 1 | 80 | 1 | 13 | 2 | 2 | 13 | 12 |  1 |  9 |\n| 29 | Yes | Travel_Rarely     | 1092 | Research &amp; Development |  1 | 4 | Medical          | 1 | 2027 | ⋯ | 2 | 80 | 3 |  4 | 3 | 4 |  2 |  2 |  2 |  2 |\n| 42 | No  | Travel_Rarely     |  300 | Research &amp; Development |  2 | 3 | Life Sciences    | 1 | 2031 | ⋯ | 1 | 80 | 0 | 24 | 2 | 2 | 22 |  6 |  4 | 14 |\n| 56 | Yes | Travel_Rarely     |  310 | Research &amp; Development |  7 | 2 | Technical Degree | 1 | 2032 | ⋯ | 4 | 80 | 1 | 14 | 4 | 1 | 10 |  9 |  9 |  8 |\n| 41 | No  | Travel_Rarely     |  582 | Research &amp; Development | 28 | 4 | Life Sciences    | 1 | 2034 | ⋯ | 3 | 80 | 1 | 21 | 3 | 3 | 20 |  7 |  0 | 10 |\n| 34 | No  | Travel_Rarely     |  704 | Sales                  | 28 | 3 | Marketing        | 1 | 2035 | ⋯ | 4 | 80 | 2 |  8 | 2 | 3 |  8 |  7 |  1 |  7 |\n| 36 | No  | Non-Travel        |  301 | Sales                  | 15 | 4 | Marketing        | 1 | 2036 | ⋯ | 1 | 80 | 1 | 15 | 4 | 2 | 15 | 12 | 11 | 11 |\n| 41 | No  | Travel_Rarely     |  930 | Sales                  |  3 | 3 | Life Sciences    | 1 | 2037 | ⋯ | 3 | 80 | 1 | 14 | 5 | 3 |  5 |  4 |  0 |  4 |\n| 32 | No  | Travel_Rarely     |  529 | Research &amp; Development |  2 | 3 | Technical Degree | 1 | 2038 | ⋯ | 4 | 80 | 0 |  4 | 4 | 3 |  4 |  2 |  1 |  2 |\n| 35 | No  | Travel_Rarely     | 1146 | Human Resources        | 26 | 4 | Life Sciences    | 1 | 2040 | ⋯ | 3 | 80 | 0 |  9 | 2 | 3 |  9 |  0 |  1 |  7 |\n| 38 | No  | Travel_Rarely     |  345 | Sales                  | 10 | 2 | Life Sciences    | 1 | 2041 | ⋯ | 3 | 80 | 1 | 10 | 1 | 3 | 10 |  7 |  1 |  9 |\n| 50 | Yes | Travel_Frequently |  878 | Sales                  |  1 | 4 | Life Sciences    | 1 | 2044 | ⋯ | 4 | 80 | 2 | 12 | 3 | 3 |  6 |  3 |  0 |  1 |\n| 36 | No  | Travel_Rarely     | 1120 | Sales                  | 11 | 4 | Marketing        | 1 | 2045 | ⋯ | 1 | 80 | 1 |  8 | 2 | 2 |  6 |  3 |  0 |  0 |\n| 45 | No  | Travel_Rarely     |  374 | Sales                  | 20 | 3 | Life Sciences    | 1 | 2046 | ⋯ | 3 | 80 | 0 |  8 | 3 | 3 |  5 |  3 |  0 |  1 |\n| 40 | No  | Travel_Rarely     | 1322 | Research &amp; Development |  2 | 4 | Life Sciences    | 1 | 2048 | ⋯ | 4 | 80 | 0 |  8 | 2 | 3 |  2 |  2 |  2 |  2 |\n| 35 | No  | Travel_Frequently | 1199 | Research &amp; Development | 18 | 4 | Life Sciences    | 1 | 2049 | ⋯ | 4 | 80 | 2 | 10 | 2 | 4 | 10 |  2 |  0 |  2 |\n| 40 | No  | Travel_Rarely     | 1194 | Research &amp; Development |  2 | 4 | Medical          | 1 | 2051 | ⋯ | 2 | 80 | 3 | 20 | 2 | 3 |  5 |  3 |  0 |  2 |\n| 35 | No  | Travel_Rarely     |  287 | Research &amp; Development |  1 | 4 | Life Sciences    | 1 | 2052 | ⋯ | 4 | 80 | 1 |  4 | 5 | 3 |  4 |  3 |  1 |  1 |\n| 29 | No  | Travel_Rarely     | 1378 | Research &amp; Development | 13 | 2 | Other            | 1 | 2053 | ⋯ | 1 | 80 | 1 | 10 | 2 | 3 |  4 |  3 |  0 |  3 |\n| 29 | No  | Travel_Rarely     |  468 | Research &amp; Development | 28 | 4 | Medical          | 1 | 2054 | ⋯ | 2 | 80 | 0 |  5 | 3 | 1 |  5 |  4 |  0 |  4 |\n| 50 | Yes | Travel_Rarely     |  410 | Sales                  | 28 | 3 | Marketing        | 1 | 2055 | ⋯ | 2 | 80 | 1 | 20 | 3 | 3 |  3 |  2 |  2 |  0 |\n| 39 | No  | Travel_Rarely     |  722 | Sales                  | 24 | 1 | Marketing        | 1 | 2056 | ⋯ | 1 | 80 | 1 | 21 | 2 | 2 | 20 |  9 |  9 |  6 |\n| 31 | No  | Non-Travel        |  325 | Research &amp; Development |  5 | 3 | Medical          | 1 | 2057 | ⋯ | 2 | 80 | 0 | 10 | 2 | 3 |  9 |  4 |  1 |  7 |\n| 26 | No  | Travel_Rarely     | 1167 | Sales                  |  5 | 3 | Other            | 1 | 2060 | ⋯ | 4 | 80 | 0 |  5 | 2 | 3 |  4 |  2 |  0 |  0 |\n| 36 | No  | Travel_Frequently |  884 | Research &amp; Development | 23 | 2 | Medical          | 1 | 2061 | ⋯ | 3 | 80 | 1 | 17 | 3 | 3 |  5 |  2 |  0 |  3 |\n| 39 | No  | Travel_Rarely     |  613 | Research &amp; Development |  6 | 1 | Medical          | 1 | 2062 | ⋯ | 1 | 80 | 1 |  9 | 5 | 3 |  7 |  7 |  1 |  7 |\n| 27 | No  | Travel_Rarely     |  155 | Research &amp; Development |  4 | 3 | Life Sciences    | 1 | 2064 | ⋯ | 2 | 80 | 1 |  6 | 0 | 3 |  6 |  2 |  0 |  3 |\n| 49 | No  | Travel_Frequently | 1023 | Sales                  |  2 | 3 | Medical          | 1 | 2065 | ⋯ | 4 | 80 | 0 | 17 | 3 | 2 |  9 |  6 |  0 |  8 |\n| 34 | No  | Travel_Rarely     |  628 | Research &amp; Development |  8 | 3 | Medical          | 1 | 2068 | ⋯ | 1 | 80 | 0 |  6 | 3 | 4 |  4 |  3 |  1 |  2 |\n\n",
            "text/latex": "A data.frame: 1470 × 35\n\\begin{tabular}{lllllllllllllllllllll}\n Age & Attrition & BusinessTravel & DailyRate & Department & DistanceFromHome & Education & EducationField & EmployeeCount & EmployeeNumber & ⋯ & RelationshipSatisfaction & StandardHours & StockOptionLevel & TotalWorkingYears & TrainingTimesLastYear & WorkLifeBalance & YearsAtCompany & YearsInCurrentRole & YearsSinceLastPromotion & YearsWithCurrManager\\\\\n <int> & <chr> & <chr> & <int> & <chr> & <int> & <int> & <chr> & <int> & <int> & ⋯ & <int> & <int> & <int> & <int> & <int> & <int> & <int> & <int> & <int> & <int>\\\\\n\\hline\n\t 41 & Yes & Travel\\_Rarely     & 1102 & Sales                  &  1 & 2 & Life Sciences & 1 &  1 & ⋯ & 1 & 80 & 0 &  8 & 0 & 1 &  6 &  4 & 0 &  5\\\\\n\t 49 & No  & Travel\\_Frequently &  279 & Research \\& Development &  8 & 1 & Life Sciences & 1 &  2 & ⋯ & 4 & 80 & 1 & 10 & 3 & 3 & 10 &  7 & 1 &  7\\\\\n\t 37 & Yes & Travel\\_Rarely     & 1373 & Research \\& Development &  2 & 2 & Other         & 1 &  4 & ⋯ & 2 & 80 & 0 &  7 & 3 & 3 &  0 &  0 & 0 &  0\\\\\n\t 33 & No  & Travel\\_Frequently & 1392 & Research \\& Development &  3 & 4 & Life Sciences & 1 &  5 & ⋯ & 3 & 80 & 0 &  8 & 3 & 3 &  8 &  7 & 3 &  0\\\\\n\t 27 & No  & Travel\\_Rarely     &  591 & Research \\& Development &  2 & 1 & Medical       & 1 &  7 & ⋯ & 4 & 80 & 1 &  6 & 3 & 3 &  2 &  2 & 2 &  2\\\\\n\t 32 & No  & Travel\\_Frequently & 1005 & Research \\& Development &  2 & 2 & Life Sciences & 1 &  8 & ⋯ & 3 & 80 & 0 &  8 & 2 & 2 &  7 &  7 & 3 &  6\\\\\n\t 59 & No  & Travel\\_Rarely     & 1324 & Research \\& Development &  3 & 3 & Medical       & 1 & 10 & ⋯ & 1 & 80 & 3 & 12 & 3 & 2 &  1 &  0 & 0 &  0\\\\\n\t 30 & No  & Travel\\_Rarely     & 1358 & Research \\& Development & 24 & 1 & Life Sciences & 1 & 11 & ⋯ & 2 & 80 & 1 &  1 & 2 & 3 &  1 &  0 & 0 &  0\\\\\n\t 38 & No  & Travel\\_Frequently &  216 & Research \\& Development & 23 & 3 & Life Sciences & 1 & 12 & ⋯ & 2 & 80 & 0 & 10 & 2 & 3 &  9 &  7 & 1 &  8\\\\\n\t 36 & No  & Travel\\_Rarely     & 1299 & Research \\& Development & 27 & 3 & Medical       & 1 & 13 & ⋯ & 2 & 80 & 2 & 17 & 3 & 2 &  7 &  7 & 7 &  7\\\\\n\t 35 & No  & Travel\\_Rarely     &  809 & Research \\& Development & 16 & 3 & Medical       & 1 & 14 & ⋯ & 3 & 80 & 1 &  6 & 5 & 3 &  5 &  4 & 0 &  3\\\\\n\t 29 & No  & Travel\\_Rarely     &  153 & Research \\& Development & 15 & 2 & Life Sciences & 1 & 15 & ⋯ & 4 & 80 & 0 & 10 & 3 & 3 &  9 &  5 & 0 &  8\\\\\n\t 31 & No  & Travel\\_Rarely     &  670 & Research \\& Development & 26 & 1 & Life Sciences & 1 & 16 & ⋯ & 4 & 80 & 1 &  5 & 1 & 2 &  5 &  2 & 4 &  3\\\\\n\t 34 & No  & Travel\\_Rarely     & 1346 & Research \\& Development & 19 & 2 & Medical       & 1 & 18 & ⋯ & 3 & 80 & 1 &  3 & 2 & 3 &  2 &  2 & 1 &  2\\\\\n\t 28 & Yes & Travel\\_Rarely     &  103 & Research \\& Development & 24 & 3 & Life Sciences & 1 & 19 & ⋯ & 2 & 80 & 0 &  6 & 4 & 3 &  4 &  2 & 0 &  3\\\\\n\t 29 & No  & Travel\\_Rarely     & 1389 & Research \\& Development & 21 & 4 & Life Sciences & 1 & 20 & ⋯ & 3 & 80 & 1 & 10 & 1 & 3 & 10 &  9 & 8 &  8\\\\\n\t 32 & No  & Travel\\_Rarely     &  334 & Research \\& Development &  5 & 2 & Life Sciences & 1 & 21 & ⋯ & 4 & 80 & 2 &  7 & 5 & 2 &  6 &  2 & 0 &  5\\\\\n\t 22 & No  & Non-Travel        & 1123 & Research \\& Development & 16 & 2 & Medical       & 1 & 22 & ⋯ & 2 & 80 & 2 &  1 & 2 & 2 &  1 &  0 & 0 &  0\\\\\n\t 53 & No  & Travel\\_Rarely     & 1219 & Sales                  &  2 & 4 & Life Sciences & 1 & 23 & ⋯ & 3 & 80 & 0 & 31 & 3 & 3 & 25 &  8 & 3 &  7\\\\\n\t 38 & No  & Travel\\_Rarely     &  371 & Research \\& Development &  2 & 3 & Life Sciences & 1 & 24 & ⋯ & 3 & 80 & 0 &  6 & 3 & 3 &  3 &  2 & 1 &  2\\\\\n\t 24 & No  & Non-Travel        &  673 & Research \\& Development & 11 & 2 & Other         & 1 & 26 & ⋯ & 4 & 80 & 1 &  5 & 5 & 2 &  4 &  2 & 1 &  3\\\\\n\t 36 & Yes & Travel\\_Rarely     & 1218 & Sales                  &  9 & 4 & Life Sciences & 1 & 27 & ⋯ & 2 & 80 & 0 & 10 & 4 & 3 &  5 &  3 & 0 &  3\\\\\n\t 34 & No  & Travel\\_Rarely     &  419 & Research \\& Development &  7 & 4 & Life Sciences & 1 & 28 & ⋯ & 3 & 80 & 0 & 13 & 4 & 3 & 12 &  6 & 2 & 11\\\\\n\t 21 & No  & Travel\\_Rarely     &  391 & Research \\& Development & 15 & 2 & Life Sciences & 1 & 30 & ⋯ & 4 & 80 & 0 &  0 & 6 & 3 &  0 &  0 & 0 &  0\\\\\n\t 34 & Yes & Travel\\_Rarely     &  699 & Research \\& Development &  6 & 1 & Medical       & 1 & 31 & ⋯ & 3 & 80 & 0 &  8 & 2 & 3 &  4 &  2 & 1 &  3\\\\\n\t 53 & No  & Travel\\_Rarely     & 1282 & Research \\& Development &  5 & 3 & Other         & 1 & 32 & ⋯ & 4 & 80 & 1 & 26 & 3 & 2 & 14 & 13 & 4 &  8\\\\\n\t 32 & Yes & Travel\\_Frequently & 1125 & Research \\& Development & 16 & 1 & Life Sciences & 1 & 33 & ⋯ & 2 & 80 & 0 & 10 & 5 & 3 & 10 &  2 & 6 &  7\\\\\n\t 42 & No  & Travel\\_Rarely     &  691 & Sales                  &  8 & 4 & Marketing     & 1 & 35 & ⋯ & 4 & 80 & 1 & 10 & 2 & 3 &  9 &  7 & 4 &  2\\\\\n\t 44 & No  & Travel\\_Rarely     &  477 & Research \\& Development &  7 & 4 & Medical       & 1 & 36 & ⋯ & 4 & 80 & 1 & 24 & 4 & 3 & 22 &  6 & 5 & 17\\\\\n\t 46 & No  & Travel\\_Rarely     &  705 & Sales                  &  2 & 4 & Marketing     & 1 & 38 & ⋯ & 4 & 80 & 0 & 22 & 2 & 2 &  2 &  2 & 2 &  1\\\\\n\t ⋮ & ⋮ & ⋮ & ⋮ & ⋮ & ⋮ & ⋮ & ⋮ & ⋮ & ⋮ & ⋱ & ⋮ & ⋮ & ⋮ & ⋮ & ⋮ & ⋮ & ⋮ & ⋮ & ⋮ & ⋮\\\\\n\t 36 & No  & Travel\\_Frequently &  688 & Research \\& Development &  4 & 2 & Life Sciences    & 1 & 2025 & ⋯ & 2 & 80 & 3 & 18 & 3 & 3 &  4 &  2 &  0 &  2\\\\\n\t 56 & No  & Non-Travel        &  667 & Research \\& Development &  1 & 4 & Life Sciences    & 1 & 2026 & ⋯ & 1 & 80 & 1 & 13 & 2 & 2 & 13 & 12 &  1 &  9\\\\\n\t 29 & Yes & Travel\\_Rarely     & 1092 & Research \\& Development &  1 & 4 & Medical          & 1 & 2027 & ⋯ & 2 & 80 & 3 &  4 & 3 & 4 &  2 &  2 &  2 &  2\\\\\n\t 42 & No  & Travel\\_Rarely     &  300 & Research \\& Development &  2 & 3 & Life Sciences    & 1 & 2031 & ⋯ & 1 & 80 & 0 & 24 & 2 & 2 & 22 &  6 &  4 & 14\\\\\n\t 56 & Yes & Travel\\_Rarely     &  310 & Research \\& Development &  7 & 2 & Technical Degree & 1 & 2032 & ⋯ & 4 & 80 & 1 & 14 & 4 & 1 & 10 &  9 &  9 &  8\\\\\n\t 41 & No  & Travel\\_Rarely     &  582 & Research \\& Development & 28 & 4 & Life Sciences    & 1 & 2034 & ⋯ & 3 & 80 & 1 & 21 & 3 & 3 & 20 &  7 &  0 & 10\\\\\n\t 34 & No  & Travel\\_Rarely     &  704 & Sales                  & 28 & 3 & Marketing        & 1 & 2035 & ⋯ & 4 & 80 & 2 &  8 & 2 & 3 &  8 &  7 &  1 &  7\\\\\n\t 36 & No  & Non-Travel        &  301 & Sales                  & 15 & 4 & Marketing        & 1 & 2036 & ⋯ & 1 & 80 & 1 & 15 & 4 & 2 & 15 & 12 & 11 & 11\\\\\n\t 41 & No  & Travel\\_Rarely     &  930 & Sales                  &  3 & 3 & Life Sciences    & 1 & 2037 & ⋯ & 3 & 80 & 1 & 14 & 5 & 3 &  5 &  4 &  0 &  4\\\\\n\t 32 & No  & Travel\\_Rarely     &  529 & Research \\& Development &  2 & 3 & Technical Degree & 1 & 2038 & ⋯ & 4 & 80 & 0 &  4 & 4 & 3 &  4 &  2 &  1 &  2\\\\\n\t 35 & No  & Travel\\_Rarely     & 1146 & Human Resources        & 26 & 4 & Life Sciences    & 1 & 2040 & ⋯ & 3 & 80 & 0 &  9 & 2 & 3 &  9 &  0 &  1 &  7\\\\\n\t 38 & No  & Travel\\_Rarely     &  345 & Sales                  & 10 & 2 & Life Sciences    & 1 & 2041 & ⋯ & 3 & 80 & 1 & 10 & 1 & 3 & 10 &  7 &  1 &  9\\\\\n\t 50 & Yes & Travel\\_Frequently &  878 & Sales                  &  1 & 4 & Life Sciences    & 1 & 2044 & ⋯ & 4 & 80 & 2 & 12 & 3 & 3 &  6 &  3 &  0 &  1\\\\\n\t 36 & No  & Travel\\_Rarely     & 1120 & Sales                  & 11 & 4 & Marketing        & 1 & 2045 & ⋯ & 1 & 80 & 1 &  8 & 2 & 2 &  6 &  3 &  0 &  0\\\\\n\t 45 & No  & Travel\\_Rarely     &  374 & Sales                  & 20 & 3 & Life Sciences    & 1 & 2046 & ⋯ & 3 & 80 & 0 &  8 & 3 & 3 &  5 &  3 &  0 &  1\\\\\n\t 40 & No  & Travel\\_Rarely     & 1322 & Research \\& Development &  2 & 4 & Life Sciences    & 1 & 2048 & ⋯ & 4 & 80 & 0 &  8 & 2 & 3 &  2 &  2 &  2 &  2\\\\\n\t 35 & No  & Travel\\_Frequently & 1199 & Research \\& Development & 18 & 4 & Life Sciences    & 1 & 2049 & ⋯ & 4 & 80 & 2 & 10 & 2 & 4 & 10 &  2 &  0 &  2\\\\\n\t 40 & No  & Travel\\_Rarely     & 1194 & Research \\& Development &  2 & 4 & Medical          & 1 & 2051 & ⋯ & 2 & 80 & 3 & 20 & 2 & 3 &  5 &  3 &  0 &  2\\\\\n\t 35 & No  & Travel\\_Rarely     &  287 & Research \\& Development &  1 & 4 & Life Sciences    & 1 & 2052 & ⋯ & 4 & 80 & 1 &  4 & 5 & 3 &  4 &  3 &  1 &  1\\\\\n\t 29 & No  & Travel\\_Rarely     & 1378 & Research \\& Development & 13 & 2 & Other            & 1 & 2053 & ⋯ & 1 & 80 & 1 & 10 & 2 & 3 &  4 &  3 &  0 &  3\\\\\n\t 29 & No  & Travel\\_Rarely     &  468 & Research \\& Development & 28 & 4 & Medical          & 1 & 2054 & ⋯ & 2 & 80 & 0 &  5 & 3 & 1 &  5 &  4 &  0 &  4\\\\\n\t 50 & Yes & Travel\\_Rarely     &  410 & Sales                  & 28 & 3 & Marketing        & 1 & 2055 & ⋯ & 2 & 80 & 1 & 20 & 3 & 3 &  3 &  2 &  2 &  0\\\\\n\t 39 & No  & Travel\\_Rarely     &  722 & Sales                  & 24 & 1 & Marketing        & 1 & 2056 & ⋯ & 1 & 80 & 1 & 21 & 2 & 2 & 20 &  9 &  9 &  6\\\\\n\t 31 & No  & Non-Travel        &  325 & Research \\& Development &  5 & 3 & Medical          & 1 & 2057 & ⋯ & 2 & 80 & 0 & 10 & 2 & 3 &  9 &  4 &  1 &  7\\\\\n\t 26 & No  & Travel\\_Rarely     & 1167 & Sales                  &  5 & 3 & Other            & 1 & 2060 & ⋯ & 4 & 80 & 0 &  5 & 2 & 3 &  4 &  2 &  0 &  0\\\\\n\t 36 & No  & Travel\\_Frequently &  884 & Research \\& Development & 23 & 2 & Medical          & 1 & 2061 & ⋯ & 3 & 80 & 1 & 17 & 3 & 3 &  5 &  2 &  0 &  3\\\\\n\t 39 & No  & Travel\\_Rarely     &  613 & Research \\& Development &  6 & 1 & Medical          & 1 & 2062 & ⋯ & 1 & 80 & 1 &  9 & 5 & 3 &  7 &  7 &  1 &  7\\\\\n\t 27 & No  & Travel\\_Rarely     &  155 & Research \\& Development &  4 & 3 & Life Sciences    & 1 & 2064 & ⋯ & 2 & 80 & 1 &  6 & 0 & 3 &  6 &  2 &  0 &  3\\\\\n\t 49 & No  & Travel\\_Frequently & 1023 & Sales                  &  2 & 3 & Medical          & 1 & 2065 & ⋯ & 4 & 80 & 0 & 17 & 3 & 2 &  9 &  6 &  0 &  8\\\\\n\t 34 & No  & Travel\\_Rarely     &  628 & Research \\& Development &  8 & 3 & Medical          & 1 & 2068 & ⋯ & 1 & 80 & 0 &  6 & 3 & 4 &  4 &  3 &  1 &  2\\\\\n\\end{tabular}\n",
            "text/plain": [
              "     Age Attrition BusinessTravel    DailyRate Department            \n",
              "1    41  Yes       Travel_Rarely     1102      Sales                 \n",
              "2    49  No        Travel_Frequently  279      Research & Development\n",
              "3    37  Yes       Travel_Rarely     1373      Research & Development\n",
              "4    33  No        Travel_Frequently 1392      Research & Development\n",
              "5    27  No        Travel_Rarely      591      Research & Development\n",
              "6    32  No        Travel_Frequently 1005      Research & Development\n",
              "7    59  No        Travel_Rarely     1324      Research & Development\n",
              "8    30  No        Travel_Rarely     1358      Research & Development\n",
              "9    38  No        Travel_Frequently  216      Research & Development\n",
              "10   36  No        Travel_Rarely     1299      Research & Development\n",
              "11   35  No        Travel_Rarely      809      Research & Development\n",
              "12   29  No        Travel_Rarely      153      Research & Development\n",
              "13   31  No        Travel_Rarely      670      Research & Development\n",
              "14   34  No        Travel_Rarely     1346      Research & Development\n",
              "15   28  Yes       Travel_Rarely      103      Research & Development\n",
              "16   29  No        Travel_Rarely     1389      Research & Development\n",
              "17   32  No        Travel_Rarely      334      Research & Development\n",
              "18   22  No        Non-Travel        1123      Research & Development\n",
              "19   53  No        Travel_Rarely     1219      Sales                 \n",
              "20   38  No        Travel_Rarely      371      Research & Development\n",
              "21   24  No        Non-Travel         673      Research & Development\n",
              "22   36  Yes       Travel_Rarely     1218      Sales                 \n",
              "23   34  No        Travel_Rarely      419      Research & Development\n",
              "24   21  No        Travel_Rarely      391      Research & Development\n",
              "25   34  Yes       Travel_Rarely      699      Research & Development\n",
              "26   53  No        Travel_Rarely     1282      Research & Development\n",
              "27   32  Yes       Travel_Frequently 1125      Research & Development\n",
              "28   42  No        Travel_Rarely      691      Sales                 \n",
              "29   44  No        Travel_Rarely      477      Research & Development\n",
              "30   46  No        Travel_Rarely      705      Sales                 \n",
              "⋮    ⋮   ⋮         ⋮                 ⋮         ⋮                     \n",
              "1441 36  No        Travel_Frequently  688      Research & Development\n",
              "1442 56  No        Non-Travel         667      Research & Development\n",
              "1443 29  Yes       Travel_Rarely     1092      Research & Development\n",
              "1444 42  No        Travel_Rarely      300      Research & Development\n",
              "1445 56  Yes       Travel_Rarely      310      Research & Development\n",
              "1446 41  No        Travel_Rarely      582      Research & Development\n",
              "1447 34  No        Travel_Rarely      704      Sales                 \n",
              "1448 36  No        Non-Travel         301      Sales                 \n",
              "1449 41  No        Travel_Rarely      930      Sales                 \n",
              "1450 32  No        Travel_Rarely      529      Research & Development\n",
              "1451 35  No        Travel_Rarely     1146      Human Resources       \n",
              "1452 38  No        Travel_Rarely      345      Sales                 \n",
              "1453 50  Yes       Travel_Frequently  878      Sales                 \n",
              "1454 36  No        Travel_Rarely     1120      Sales                 \n",
              "1455 45  No        Travel_Rarely      374      Sales                 \n",
              "1456 40  No        Travel_Rarely     1322      Research & Development\n",
              "1457 35  No        Travel_Frequently 1199      Research & Development\n",
              "1458 40  No        Travel_Rarely     1194      Research & Development\n",
              "1459 35  No        Travel_Rarely      287      Research & Development\n",
              "1460 29  No        Travel_Rarely     1378      Research & Development\n",
              "1461 29  No        Travel_Rarely      468      Research & Development\n",
              "1462 50  Yes       Travel_Rarely      410      Sales                 \n",
              "1463 39  No        Travel_Rarely      722      Sales                 \n",
              "1464 31  No        Non-Travel         325      Research & Development\n",
              "1465 26  No        Travel_Rarely     1167      Sales                 \n",
              "1466 36  No        Travel_Frequently  884      Research & Development\n",
              "1467 39  No        Travel_Rarely      613      Research & Development\n",
              "1468 27  No        Travel_Rarely      155      Research & Development\n",
              "1469 49  No        Travel_Frequently 1023      Sales                 \n",
              "1470 34  No        Travel_Rarely      628      Research & Development\n",
              "     DistanceFromHome Education EducationField   EmployeeCount EmployeeNumber ⋯\n",
              "1     1               2         Life Sciences    1              1             ⋯\n",
              "2     8               1         Life Sciences    1              2             ⋯\n",
              "3     2               2         Other            1              4             ⋯\n",
              "4     3               4         Life Sciences    1              5             ⋯\n",
              "5     2               1         Medical          1              7             ⋯\n",
              "6     2               2         Life Sciences    1              8             ⋯\n",
              "7     3               3         Medical          1             10             ⋯\n",
              "8    24               1         Life Sciences    1             11             ⋯\n",
              "9    23               3         Life Sciences    1             12             ⋯\n",
              "10   27               3         Medical          1             13             ⋯\n",
              "11   16               3         Medical          1             14             ⋯\n",
              "12   15               2         Life Sciences    1             15             ⋯\n",
              "13   26               1         Life Sciences    1             16             ⋯\n",
              "14   19               2         Medical          1             18             ⋯\n",
              "15   24               3         Life Sciences    1             19             ⋯\n",
              "16   21               4         Life Sciences    1             20             ⋯\n",
              "17    5               2         Life Sciences    1             21             ⋯\n",
              "18   16               2         Medical          1             22             ⋯\n",
              "19    2               4         Life Sciences    1             23             ⋯\n",
              "20    2               3         Life Sciences    1             24             ⋯\n",
              "21   11               2         Other            1             26             ⋯\n",
              "22    9               4         Life Sciences    1             27             ⋯\n",
              "23    7               4         Life Sciences    1             28             ⋯\n",
              "24   15               2         Life Sciences    1             30             ⋯\n",
              "25    6               1         Medical          1             31             ⋯\n",
              "26    5               3         Other            1             32             ⋯\n",
              "27   16               1         Life Sciences    1             33             ⋯\n",
              "28    8               4         Marketing        1             35             ⋯\n",
              "29    7               4         Medical          1             36             ⋯\n",
              "30    2               4         Marketing        1             38             ⋯\n",
              "⋮    ⋮                ⋮         ⋮                ⋮             ⋮              ⋱\n",
              "1441  4               2         Life Sciences    1             2025           ⋯\n",
              "1442  1               4         Life Sciences    1             2026           ⋯\n",
              "1443  1               4         Medical          1             2027           ⋯\n",
              "1444  2               3         Life Sciences    1             2031           ⋯\n",
              "1445  7               2         Technical Degree 1             2032           ⋯\n",
              "1446 28               4         Life Sciences    1             2034           ⋯\n",
              "1447 28               3         Marketing        1             2035           ⋯\n",
              "1448 15               4         Marketing        1             2036           ⋯\n",
              "1449  3               3         Life Sciences    1             2037           ⋯\n",
              "1450  2               3         Technical Degree 1             2038           ⋯\n",
              "1451 26               4         Life Sciences    1             2040           ⋯\n",
              "1452 10               2         Life Sciences    1             2041           ⋯\n",
              "1453  1               4         Life Sciences    1             2044           ⋯\n",
              "1454 11               4         Marketing        1             2045           ⋯\n",
              "1455 20               3         Life Sciences    1             2046           ⋯\n",
              "1456  2               4         Life Sciences    1             2048           ⋯\n",
              "1457 18               4         Life Sciences    1             2049           ⋯\n",
              "1458  2               4         Medical          1             2051           ⋯\n",
              "1459  1               4         Life Sciences    1             2052           ⋯\n",
              "1460 13               2         Other            1             2053           ⋯\n",
              "1461 28               4         Medical          1             2054           ⋯\n",
              "1462 28               3         Marketing        1             2055           ⋯\n",
              "1463 24               1         Marketing        1             2056           ⋯\n",
              "1464  5               3         Medical          1             2057           ⋯\n",
              "1465  5               3         Other            1             2060           ⋯\n",
              "1466 23               2         Medical          1             2061           ⋯\n",
              "1467  6               1         Medical          1             2062           ⋯\n",
              "1468  4               3         Life Sciences    1             2064           ⋯\n",
              "1469  2               3         Medical          1             2065           ⋯\n",
              "1470  8               3         Medical          1             2068           ⋯\n",
              "     RelationshipSatisfaction StandardHours StockOptionLevel TotalWorkingYears\n",
              "1    1                        80            0                 8               \n",
              "2    4                        80            1                10               \n",
              "3    2                        80            0                 7               \n",
              "4    3                        80            0                 8               \n",
              "5    4                        80            1                 6               \n",
              "6    3                        80            0                 8               \n",
              "7    1                        80            3                12               \n",
              "8    2                        80            1                 1               \n",
              "9    2                        80            0                10               \n",
              "10   2                        80            2                17               \n",
              "11   3                        80            1                 6               \n",
              "12   4                        80            0                10               \n",
              "13   4                        80            1                 5               \n",
              "14   3                        80            1                 3               \n",
              "15   2                        80            0                 6               \n",
              "16   3                        80            1                10               \n",
              "17   4                        80            2                 7               \n",
              "18   2                        80            2                 1               \n",
              "19   3                        80            0                31               \n",
              "20   3                        80            0                 6               \n",
              "21   4                        80            1                 5               \n",
              "22   2                        80            0                10               \n",
              "23   3                        80            0                13               \n",
              "24   4                        80            0                 0               \n",
              "25   3                        80            0                 8               \n",
              "26   4                        80            1                26               \n",
              "27   2                        80            0                10               \n",
              "28   4                        80            1                10               \n",
              "29   4                        80            1                24               \n",
              "30   4                        80            0                22               \n",
              "⋮    ⋮                        ⋮             ⋮                ⋮                \n",
              "1441 2                        80            3                18               \n",
              "1442 1                        80            1                13               \n",
              "1443 2                        80            3                 4               \n",
              "1444 1                        80            0                24               \n",
              "1445 4                        80            1                14               \n",
              "1446 3                        80            1                21               \n",
              "1447 4                        80            2                 8               \n",
              "1448 1                        80            1                15               \n",
              "1449 3                        80            1                14               \n",
              "1450 4                        80            0                 4               \n",
              "1451 3                        80            0                 9               \n",
              "1452 3                        80            1                10               \n",
              "1453 4                        80            2                12               \n",
              "1454 1                        80            1                 8               \n",
              "1455 3                        80            0                 8               \n",
              "1456 4                        80            0                 8               \n",
              "1457 4                        80            2                10               \n",
              "1458 2                        80            3                20               \n",
              "1459 4                        80            1                 4               \n",
              "1460 1                        80            1                10               \n",
              "1461 2                        80            0                 5               \n",
              "1462 2                        80            1                20               \n",
              "1463 1                        80            1                21               \n",
              "1464 2                        80            0                10               \n",
              "1465 4                        80            0                 5               \n",
              "1466 3                        80            1                17               \n",
              "1467 1                        80            1                 9               \n",
              "1468 2                        80            1                 6               \n",
              "1469 4                        80            0                17               \n",
              "1470 1                        80            0                 6               \n",
              "     TrainingTimesLastYear WorkLifeBalance YearsAtCompany YearsInCurrentRole\n",
              "1    0                     1                6              4                \n",
              "2    3                     3               10              7                \n",
              "3    3                     3                0              0                \n",
              "4    3                     3                8              7                \n",
              "5    3                     3                2              2                \n",
              "6    2                     2                7              7                \n",
              "7    3                     2                1              0                \n",
              "8    2                     3                1              0                \n",
              "9    2                     3                9              7                \n",
              "10   3                     2                7              7                \n",
              "11   5                     3                5              4                \n",
              "12   3                     3                9              5                \n",
              "13   1                     2                5              2                \n",
              "14   2                     3                2              2                \n",
              "15   4                     3                4              2                \n",
              "16   1                     3               10              9                \n",
              "17   5                     2                6              2                \n",
              "18   2                     2                1              0                \n",
              "19   3                     3               25              8                \n",
              "20   3                     3                3              2                \n",
              "21   5                     2                4              2                \n",
              "22   4                     3                5              3                \n",
              "23   4                     3               12              6                \n",
              "24   6                     3                0              0                \n",
              "25   2                     3                4              2                \n",
              "26   3                     2               14             13                \n",
              "27   5                     3               10              2                \n",
              "28   2                     3                9              7                \n",
              "29   4                     3               22              6                \n",
              "30   2                     2                2              2                \n",
              "⋮    ⋮                     ⋮               ⋮              ⋮                 \n",
              "1441 3                     3                4              2                \n",
              "1442 2                     2               13             12                \n",
              "1443 3                     4                2              2                \n",
              "1444 2                     2               22              6                \n",
              "1445 4                     1               10              9                \n",
              "1446 3                     3               20              7                \n",
              "1447 2                     3                8              7                \n",
              "1448 4                     2               15             12                \n",
              "1449 5                     3                5              4                \n",
              "1450 4                     3                4              2                \n",
              "1451 2                     3                9              0                \n",
              "1452 1                     3               10              7                \n",
              "1453 3                     3                6              3                \n",
              "1454 2                     2                6              3                \n",
              "1455 3                     3                5              3                \n",
              "1456 2                     3                2              2                \n",
              "1457 2                     4               10              2                \n",
              "1458 2                     3                5              3                \n",
              "1459 5                     3                4              3                \n",
              "1460 2                     3                4              3                \n",
              "1461 3                     1                5              4                \n",
              "1462 3                     3                3              2                \n",
              "1463 2                     2               20              9                \n",
              "1464 2                     3                9              4                \n",
              "1465 2                     3                4              2                \n",
              "1466 3                     3                5              2                \n",
              "1467 5                     3                7              7                \n",
              "1468 0                     3                6              2                \n",
              "1469 3                     2                9              6                \n",
              "1470 3                     4                4              3                \n",
              "     YearsSinceLastPromotion YearsWithCurrManager\n",
              "1    0                        5                  \n",
              "2    1                        7                  \n",
              "3    0                        0                  \n",
              "4    3                        0                  \n",
              "5    2                        2                  \n",
              "6    3                        6                  \n",
              "7    0                        0                  \n",
              "8    0                        0                  \n",
              "9    1                        8                  \n",
              "10   7                        7                  \n",
              "11   0                        3                  \n",
              "12   0                        8                  \n",
              "13   4                        3                  \n",
              "14   1                        2                  \n",
              "15   0                        3                  \n",
              "16   8                        8                  \n",
              "17   0                        5                  \n",
              "18   0                        0                  \n",
              "19   3                        7                  \n",
              "20   1                        2                  \n",
              "21   1                        3                  \n",
              "22   0                        3                  \n",
              "23   2                       11                  \n",
              "24   0                        0                  \n",
              "25   1                        3                  \n",
              "26   4                        8                  \n",
              "27   6                        7                  \n",
              "28   4                        2                  \n",
              "29   5                       17                  \n",
              "30   2                        1                  \n",
              "⋮    ⋮                       ⋮                   \n",
              "1441  0                       2                  \n",
              "1442  1                       9                  \n",
              "1443  2                       2                  \n",
              "1444  4                      14                  \n",
              "1445  9                       8                  \n",
              "1446  0                      10                  \n",
              "1447  1                       7                  \n",
              "1448 11                      11                  \n",
              "1449  0                       4                  \n",
              "1450  1                       2                  \n",
              "1451  1                       7                  \n",
              "1452  1                       9                  \n",
              "1453  0                       1                  \n",
              "1454  0                       0                  \n",
              "1455  0                       1                  \n",
              "1456  2                       2                  \n",
              "1457  0                       2                  \n",
              "1458  0                       2                  \n",
              "1459  1                       1                  \n",
              "1460  0                       3                  \n",
              "1461  0                       4                  \n",
              "1462  2                       0                  \n",
              "1463  9                       6                  \n",
              "1464  1                       7                  \n",
              "1465  0                       0                  \n",
              "1466  0                       3                  \n",
              "1467  1                       7                  \n",
              "1468  0                       3                  \n",
              "1469  0                       8                  \n",
              "1470  1                       2                  "
            ]
          },
          "metadata": {}
        }
      ]
    },
    {
      "cell_type": "code",
      "source": [
        "# Attrition_numerical 변수에 0과 1로 변환된 값을 저장\n",
        "df$Attrition <- ifelse(df$Attrition == \"Yes\", 1, 0)\n",
        "table(df$Attrition)"
      ],
      "metadata": {
        "colab": {
          "base_uri": "https://localhost:8080/",
          "height": 72
        },
        "id": "lc1ikf9Pd5AB",
        "outputId": "c200c523-14de-41e7-9267-f3cd9f1bf41e"
      },
      "execution_count": 3,
      "outputs": [
        {
          "output_type": "display_data",
          "data": {
            "text/plain": [
              "\n",
              "   0    1 \n",
              "1233  237 "
            ]
          },
          "metadata": {}
        }
      ]
    },
    {
      "cell_type": "code",
      "source": [
        "str(df)"
      ],
      "metadata": {
        "colab": {
          "base_uri": "https://localhost:8080/"
        },
        "id": "Lljm1qvdd9xS",
        "outputId": "43ba1e2b-5852-4a8e-cc60-342b78664251"
      },
      "execution_count": 4,
      "outputs": [
        {
          "output_type": "stream",
          "name": "stdout",
          "text": [
            "'data.frame':\t1470 obs. of  35 variables:\n",
            " $ Age                     : int  41 49 37 33 27 32 59 30 38 36 ...\n",
            " $ Attrition               : num  1 0 1 0 0 0 0 0 0 0 ...\n",
            " $ BusinessTravel          : chr  \"Travel_Rarely\" \"Travel_Frequently\" \"Travel_Rarely\" \"Travel_Frequently\" ...\n",
            " $ DailyRate               : int  1102 279 1373 1392 591 1005 1324 1358 216 1299 ...\n",
            " $ Department              : chr  \"Sales\" \"Research & Development\" \"Research & Development\" \"Research & Development\" ...\n",
            " $ DistanceFromHome        : int  1 8 2 3 2 2 3 24 23 27 ...\n",
            " $ Education               : int  2 1 2 4 1 2 3 1 3 3 ...\n",
            " $ EducationField          : chr  \"Life Sciences\" \"Life Sciences\" \"Other\" \"Life Sciences\" ...\n",
            " $ EmployeeCount           : int  1 1 1 1 1 1 1 1 1 1 ...\n",
            " $ EmployeeNumber          : int  1 2 4 5 7 8 10 11 12 13 ...\n",
            " $ EnvironmentSatisfaction : int  2 3 4 4 1 4 3 4 4 3 ...\n",
            " $ Gender                  : chr  \"Female\" \"Male\" \"Male\" \"Female\" ...\n",
            " $ HourlyRate              : int  94 61 92 56 40 79 81 67 44 94 ...\n",
            " $ JobInvolvement          : int  3 2 2 3 3 3 4 3 2 3 ...\n",
            " $ JobLevel                : int  2 2 1 1 1 1 1 1 3 2 ...\n",
            " $ JobRole                 : chr  \"Sales Executive\" \"Research Scientist\" \"Laboratory Technician\" \"Research Scientist\" ...\n",
            " $ JobSatisfaction         : int  4 2 3 3 2 4 1 3 3 3 ...\n",
            " $ MaritalStatus           : chr  \"Single\" \"Married\" \"Single\" \"Married\" ...\n",
            " $ MonthlyIncome           : int  5993 5130 2090 2909 3468 3068 2670 2693 9526 5237 ...\n",
            " $ MonthlyRate             : int  19479 24907 2396 23159 16632 11864 9964 13335 8787 16577 ...\n",
            " $ NumCompaniesWorked      : int  8 1 6 1 9 0 4 1 0 6 ...\n",
            " $ Over18                  : chr  \"Y\" \"Y\" \"Y\" \"Y\" ...\n",
            " $ OverTime                : chr  \"Yes\" \"No\" \"Yes\" \"Yes\" ...\n",
            " $ PercentSalaryHike       : int  11 23 15 11 12 13 20 22 21 13 ...\n",
            " $ PerformanceRating       : int  3 4 3 3 3 3 4 4 4 3 ...\n",
            " $ RelationshipSatisfaction: int  1 4 2 3 4 3 1 2 2 2 ...\n",
            " $ StandardHours           : int  80 80 80 80 80 80 80 80 80 80 ...\n",
            " $ StockOptionLevel        : int  0 1 0 0 1 0 3 1 0 2 ...\n",
            " $ TotalWorkingYears       : int  8 10 7 8 6 8 12 1 10 17 ...\n",
            " $ TrainingTimesLastYear   : int  0 3 3 3 3 2 3 2 2 3 ...\n",
            " $ WorkLifeBalance         : int  1 3 3 3 3 2 2 3 3 2 ...\n",
            " $ YearsAtCompany          : int  6 10 0 8 2 7 1 1 9 7 ...\n",
            " $ YearsInCurrentRole      : int  4 7 0 7 2 7 0 0 7 7 ...\n",
            " $ YearsSinceLastPromotion : int  0 1 0 3 2 3 0 0 1 7 ...\n",
            " $ YearsWithCurrManager    : int  5 7 0 0 2 6 0 0 8 7 ...\n"
          ]
        }
      ]
    },
    {
      "cell_type": "code",
      "source": [
        "# 컬럼의 타입별 개수 구하기\n",
        "f <- c() # 빈 벡터 생성\n",
        "\n",
        "for (i in 1:ncol(df)){\n",
        "    if (mode(df[,i]) == \"character\"){\n",
        "        f <- append(f, \"chr\")\n",
        "    } else {\n",
        "        f <- append(f, \"int\")\n",
        "    }\n",
        "}\n",
        "\n",
        "table(f)"
      ],
      "metadata": {
        "colab": {
          "base_uri": "https://localhost:8080/",
          "height": 72
        },
        "id": "wDZRXa6od_wr",
        "outputId": "0232b1ba-7377-4720-cba8-24c87b51137b"
      },
      "execution_count": 5,
      "outputs": [
        {
          "output_type": "display_data",
          "data": {
            "text/plain": [
              "f\n",
              "chr int \n",
              "  8  27 "
            ]
          },
          "metadata": {}
        }
      ]
    },
    {
      "cell_type": "code",
      "source": [
        "table(df$EmployeeCount)\n",
        "table(df$Over18)"
      ],
      "metadata": {
        "colab": {
          "base_uri": "https://localhost:8080/",
          "height": 127
        },
        "id": "Z5Hg7_tVeJ43",
        "outputId": "32a76bae-1670-4a57-a7b0-7fd103bd2271"
      },
      "execution_count": 6,
      "outputs": [
        {
          "output_type": "display_data",
          "data": {
            "text/plain": [
              "\n",
              "   1 \n",
              "1470 "
            ]
          },
          "metadata": {}
        },
        {
          "output_type": "display_data",
          "data": {
            "text/plain": [
              "\n",
              "   Y \n",
              "1470 "
            ]
          },
          "metadata": {}
        }
      ]
    },
    {
      "cell_type": "code",
      "source": [
        "# Over18 컬럼 삭제 - 컬럼명으로 삭제\n",
        "df_new <- subset(df, select = -c(Over18))"
      ],
      "metadata": {
        "id": "KIhY-BCoeM1p"
      },
      "execution_count": 7,
      "outputs": []
    },
    {
      "cell_type": "code",
      "source": [
        "# 숫자(연속)형 자료형만 찾아서 데이터프레임 만들기\n",
        "n <- c()\n",
        "for (i in 1:ncol(df)){\n",
        "    if (mode(df[,i]) != \"character\"){\n",
        "        n <- append(n,i)\n",
        "    }\n",
        "}\n",
        "df_number <- df[,n]"
      ],
      "metadata": {
        "id": "_5gAzIO1ePKI"
      },
      "execution_count": 8,
      "outputs": []
    },
    {
      "cell_type": "code",
      "source": [
        "str(df_number)"
      ],
      "metadata": {
        "colab": {
          "base_uri": "https://localhost:8080/"
        },
        "id": "NhfaadpSeWeN",
        "outputId": "81f3276a-d443-4f7c-b8e7-ad5820d6b8a6"
      },
      "execution_count": 9,
      "outputs": [
        {
          "output_type": "stream",
          "name": "stdout",
          "text": [
            "'data.frame':\t1470 obs. of  27 variables:\n",
            " $ Age                     : int  41 49 37 33 27 32 59 30 38 36 ...\n",
            " $ Attrition               : num  1 0 1 0 0 0 0 0 0 0 ...\n",
            " $ DailyRate               : int  1102 279 1373 1392 591 1005 1324 1358 216 1299 ...\n",
            " $ DistanceFromHome        : int  1 8 2 3 2 2 3 24 23 27 ...\n",
            " $ Education               : int  2 1 2 4 1 2 3 1 3 3 ...\n",
            " $ EmployeeCount           : int  1 1 1 1 1 1 1 1 1 1 ...\n",
            " $ EmployeeNumber          : int  1 2 4 5 7 8 10 11 12 13 ...\n",
            " $ EnvironmentSatisfaction : int  2 3 4 4 1 4 3 4 4 3 ...\n",
            " $ HourlyRate              : int  94 61 92 56 40 79 81 67 44 94 ...\n",
            " $ JobInvolvement          : int  3 2 2 3 3 3 4 3 2 3 ...\n",
            " $ JobLevel                : int  2 2 1 1 1 1 1 1 3 2 ...\n",
            " $ JobSatisfaction         : int  4 2 3 3 2 4 1 3 3 3 ...\n",
            " $ MonthlyIncome           : int  5993 5130 2090 2909 3468 3068 2670 2693 9526 5237 ...\n",
            " $ MonthlyRate             : int  19479 24907 2396 23159 16632 11864 9964 13335 8787 16577 ...\n",
            " $ NumCompaniesWorked      : int  8 1 6 1 9 0 4 1 0 6 ...\n",
            " $ PercentSalaryHike       : int  11 23 15 11 12 13 20 22 21 13 ...\n",
            " $ PerformanceRating       : int  3 4 3 3 3 3 4 4 4 3 ...\n",
            " $ RelationshipSatisfaction: int  1 4 2 3 4 3 1 2 2 2 ...\n",
            " $ StandardHours           : int  80 80 80 80 80 80 80 80 80 80 ...\n",
            " $ StockOptionLevel        : int  0 1 0 0 1 0 3 1 0 2 ...\n",
            " $ TotalWorkingYears       : int  8 10 7 8 6 8 12 1 10 17 ...\n",
            " $ TrainingTimesLastYear   : int  0 3 3 3 3 2 3 2 2 3 ...\n",
            " $ WorkLifeBalance         : int  1 3 3 3 3 2 2 3 3 2 ...\n",
            " $ YearsAtCompany          : int  6 10 0 8 2 7 1 1 9 7 ...\n",
            " $ YearsInCurrentRole      : int  4 7 0 7 2 7 0 0 7 7 ...\n",
            " $ YearsSinceLastPromotion : int  0 1 0 3 2 3 0 0 1 7 ...\n",
            " $ YearsWithCurrManager    : int  5 7 0 0 2 6 0 0 8 7 ...\n"
          ]
        }
      ]
    },
    {
      "cell_type": "code",
      "source": [
        "# 각 컬럼의 상관계수를 구한다.\n",
        "# 널값은 0으로 치환한다.\n",
        "result <- cor(df_number, method = \"pearson\")\n",
        "result[is.na(result)] <- 0"
      ],
      "metadata": {
        "colab": {
          "base_uri": "https://localhost:8080/"
        },
        "id": "c5Kxnf4veY1R",
        "outputId": "01fbd6fe-5484-4e42-c90d-72201d355888"
      },
      "execution_count": 10,
      "outputs": [
        {
          "output_type": "stream",
          "name": "stderr",
          "text": [
            "Warning message in cor(df_number, method = \"pearson\"):\n",
            "“the standard deviation is zero”\n"
          ]
        }
      ]
    },
    {
      "cell_type": "code",
      "source": [
        "result"
      ],
      "metadata": {
        "colab": {
          "base_uri": "https://localhost:8080/",
          "height": 933
        },
        "id": "G_GLH5UPe2sR",
        "outputId": "3a31b1d7-c16a-4e35-e620-5f94d1f6deee"
      },
      "execution_count": 11,
      "outputs": [
        {
          "output_type": "display_data",
          "data": {
            "text/html": [
              "<table class=\"dataframe\">\n",
              "<caption>A matrix: 27 × 27 of type dbl</caption>\n",
              "<thead>\n",
              "\t<tr><th></th><th scope=col>Age</th><th scope=col>Attrition</th><th scope=col>DailyRate</th><th scope=col>DistanceFromHome</th><th scope=col>Education</th><th scope=col>EmployeeCount</th><th scope=col>EmployeeNumber</th><th scope=col>EnvironmentSatisfaction</th><th scope=col>HourlyRate</th><th scope=col>JobInvolvement</th><th scope=col>⋯</th><th scope=col>RelationshipSatisfaction</th><th scope=col>StandardHours</th><th scope=col>StockOptionLevel</th><th scope=col>TotalWorkingYears</th><th scope=col>TrainingTimesLastYear</th><th scope=col>WorkLifeBalance</th><th scope=col>YearsAtCompany</th><th scope=col>YearsInCurrentRole</th><th scope=col>YearsSinceLastPromotion</th><th scope=col>YearsWithCurrManager</th></tr>\n",
              "</thead>\n",
              "<tbody>\n",
              "\t<tr><th scope=row>Age</th><td> 1.000000000</td><td>-0.159205007</td><td> 0.0106609426</td><td>-0.001686120</td><td> 0.208033731</td><td>0</td><td>-0.010145467</td><td> 0.010146428</td><td> 0.024286543</td><td> 0.029819959</td><td>⋯</td><td> 0.0535347197</td><td>0</td><td> 0.037509712</td><td> 0.680380536</td><td>-0.019620819</td><td>-0.021490028</td><td> 0.311308770</td><td> 0.212901056</td><td> 0.216513368</td><td> 0.2020886024</td></tr>\n",
              "\t<tr><th scope=row>Attrition</th><td>-0.159205007</td><td> 1.000000000</td><td>-0.0566519919</td><td> 0.077923583</td><td>-0.031372820</td><td>0</td><td>-0.010577243</td><td>-0.103368978</td><td>-0.006845550</td><td>-0.130015957</td><td>⋯</td><td>-0.0458722789</td><td>0</td><td>-0.137144919</td><td>-0.171063246</td><td>-0.059477799</td><td>-0.063939047</td><td>-0.134392214</td><td>-0.160545004</td><td>-0.033018775</td><td>-0.1561993159</td></tr>\n",
              "\t<tr><th scope=row>DailyRate</th><td> 0.010660943</td><td>-0.056651992</td><td> 1.0000000000</td><td>-0.004985337</td><td>-0.016806433</td><td>0</td><td>-0.050990434</td><td> 0.018354854</td><td> 0.023381422</td><td> 0.046134874</td><td>⋯</td><td> 0.0078460310</td><td>0</td><td> 0.042142796</td><td> 0.014514739</td><td> 0.002452543</td><td>-0.037848051</td><td>-0.034054768</td><td> 0.009932015</td><td>-0.033228985</td><td>-0.0263631782</td></tr>\n",
              "\t<tr><th scope=row>DistanceFromHome</th><td>-0.001686120</td><td> 0.077923583</td><td>-0.0049853374</td><td> 1.000000000</td><td> 0.021041826</td><td>0</td><td> 0.032916407</td><td>-0.016075327</td><td> 0.031130586</td><td> 0.008783280</td><td>⋯</td><td> 0.0065574746</td><td>0</td><td> 0.044871999</td><td> 0.004628426</td><td>-0.036942234</td><td>-0.026556004</td><td> 0.009507720</td><td> 0.018844999</td><td> 0.010028836</td><td> 0.0144060484</td></tr>\n",
              "\t<tr><th scope=row>Education</th><td> 0.208033731</td><td>-0.031372820</td><td>-0.0168064332</td><td> 0.021041826</td><td> 1.000000000</td><td>0</td><td> 0.042070093</td><td>-0.027128313</td><td> 0.016774829</td><td> 0.042437634</td><td>⋯</td><td>-0.0091183767</td><td>0</td><td> 0.018422220</td><td> 0.148279697</td><td>-0.025100241</td><td> 0.009819189</td><td> 0.069113696</td><td> 0.060235554</td><td> 0.054254334</td><td> 0.0690653783</td></tr>\n",
              "\t<tr><th scope=row>EmployeeCount</th><td> 0.000000000</td><td> 0.000000000</td><td> 0.0000000000</td><td> 0.000000000</td><td> 0.000000000</td><td>1</td><td> 0.000000000</td><td> 0.000000000</td><td> 0.000000000</td><td> 0.000000000</td><td>⋯</td><td> 0.0000000000</td><td>0</td><td> 0.000000000</td><td> 0.000000000</td><td> 0.000000000</td><td> 0.000000000</td><td> 0.000000000</td><td> 0.000000000</td><td> 0.000000000</td><td> 0.0000000000</td></tr>\n",
              "\t<tr><th scope=row>EmployeeNumber</th><td>-0.010145467</td><td>-0.010577243</td><td>-0.0509904337</td><td> 0.032916407</td><td> 0.042070093</td><td>0</td><td> 1.000000000</td><td> 0.017620802</td><td> 0.035179212</td><td>-0.006887923</td><td>⋯</td><td>-0.0698614115</td><td>0</td><td> 0.062226693</td><td>-0.014365198</td><td> 0.023603170</td><td> 0.010308641</td><td>-0.011240464</td><td>-0.008416312</td><td>-0.009019064</td><td>-0.0091966453</td></tr>\n",
              "\t<tr><th scope=row>EnvironmentSatisfaction</th><td> 0.010146428</td><td>-0.103368978</td><td> 0.0183548543</td><td>-0.016075327</td><td>-0.027128313</td><td>0</td><td> 0.017620802</td><td> 1.000000000</td><td>-0.049856956</td><td>-0.008277598</td><td>⋯</td><td> 0.0076653835</td><td>0</td><td> 0.003432158</td><td>-0.002693070</td><td>-0.019359308</td><td> 0.027627295</td><td> 0.001457549</td><td> 0.018007460</td><td> 0.016193606</td><td>-0.0049987226</td></tr>\n",
              "\t<tr><th scope=row>HourlyRate</th><td> 0.024286543</td><td>-0.006845550</td><td> 0.0233814215</td><td> 0.031130586</td><td> 0.016774829</td><td>0</td><td> 0.035179212</td><td>-0.049856956</td><td> 1.000000000</td><td> 0.042860641</td><td>⋯</td><td> 0.0013304528</td><td>0</td><td> 0.050263399</td><td>-0.002333682</td><td>-0.008547685</td><td>-0.004607234</td><td>-0.019581616</td><td>-0.024106220</td><td>-0.026715586</td><td>-0.0201232002</td></tr>\n",
              "\t<tr><th scope=row>JobInvolvement</th><td> 0.029819959</td><td>-0.130015957</td><td> 0.0461348740</td><td> 0.008783280</td><td> 0.042437634</td><td>0</td><td>-0.006887923</td><td>-0.008277598</td><td> 0.042860641</td><td> 1.000000000</td><td>⋯</td><td> 0.0342968206</td><td>0</td><td> 0.021522640</td><td>-0.005533182</td><td>-0.015337826</td><td>-0.014616593</td><td>-0.021355427</td><td> 0.008716963</td><td>-0.024184292</td><td> 0.0259758079</td></tr>\n",
              "\t<tr><th scope=row>JobLevel</th><td> 0.509604228</td><td>-0.169104751</td><td> 0.0029663349</td><td> 0.005302731</td><td> 0.101588886</td><td>0</td><td>-0.018519194</td><td> 0.001211699</td><td>-0.027853486</td><td>-0.012629883</td><td>⋯</td><td> 0.0216415105</td><td>0</td><td> 0.013983911</td><td> 0.782207805</td><td>-0.018190550</td><td> 0.037817746</td><td> 0.534738687</td><td> 0.389446733</td><td> 0.353885347</td><td> 0.3752806078</td></tr>\n",
              "\t<tr><th scope=row>JobSatisfaction</th><td>-0.004891877</td><td>-0.103481126</td><td> 0.0305710078</td><td>-0.003668839</td><td>-0.011296117</td><td>0</td><td>-0.046246735</td><td>-0.006784353</td><td>-0.071334624</td><td>-0.021475910</td><td>⋯</td><td>-0.0124535932</td><td>0</td><td> 0.010690226</td><td>-0.020185073</td><td>-0.005779335</td><td>-0.019458710</td><td>-0.003802628</td><td>-0.002304785</td><td>-0.018213568</td><td>-0.0276562139</td></tr>\n",
              "\t<tr><th scope=row>MonthlyIncome</th><td> 0.497854567</td><td>-0.159839582</td><td> 0.0077070589</td><td>-0.017014445</td><td> 0.094960677</td><td>0</td><td>-0.014828516</td><td>-0.006259088</td><td>-0.015794304</td><td>-0.015271491</td><td>⋯</td><td> 0.0258734361</td><td>0</td><td> 0.005407677</td><td> 0.772893246</td><td>-0.021736277</td><td> 0.030683082</td><td> 0.514284826</td><td> 0.363817667</td><td> 0.344977638</td><td> 0.3440788833</td></tr>\n",
              "\t<tr><th scope=row>MonthlyRate</th><td> 0.028051167</td><td> 0.015170213</td><td>-0.0321816015</td><td> 0.027472864</td><td>-0.026084197</td><td>0</td><td> 0.012648229</td><td> 0.037599623</td><td>-0.015296750</td><td>-0.016322079</td><td>⋯</td><td>-0.0040853293</td><td>0</td><td>-0.034322830</td><td> 0.026442471</td><td> 0.001466881</td><td> 0.007963158</td><td>-0.023655107</td><td>-0.012814874</td><td> 0.001566800</td><td>-0.0367459053</td></tr>\n",
              "\t<tr><th scope=row>NumCompaniesWorked</th><td> 0.299634758</td><td> 0.043493739</td><td> 0.0381534343</td><td>-0.029250804</td><td> 0.126316560</td><td>0</td><td>-0.001251032</td><td> 0.012594323</td><td> 0.022156883</td><td> 0.015012413</td><td>⋯</td><td> 0.0527330486</td><td>0</td><td> 0.030075475</td><td> 0.237638590</td><td>-0.066054072</td><td>-0.008365685</td><td>-0.118421340</td><td>-0.090753934</td><td>-0.036813892</td><td>-0.1103191554</td></tr>\n",
              "\t<tr><th scope=row>PercentSalaryHike</th><td> 0.003633585</td><td>-0.013478202</td><td> 0.0227036775</td><td> 0.040235377</td><td>-0.011110941</td><td>0</td><td>-0.012943996</td><td>-0.031701195</td><td>-0.009061986</td><td>-0.017204572</td><td>⋯</td><td>-0.0404900811</td><td>0</td><td> 0.007527748</td><td>-0.020608488</td><td>-0.005221012</td><td>-0.003279636</td><td>-0.035991262</td><td>-0.001520027</td><td>-0.022154313</td><td>-0.0119852485</td></tr>\n",
              "\t<tr><th scope=row>PerformanceRating</th><td> 0.001903896</td><td> 0.002888752</td><td> 0.0004732963</td><td> 0.027109618</td><td>-0.024538791</td><td>0</td><td>-0.020358825</td><td>-0.029547952</td><td>-0.002171697</td><td>-0.029071333</td><td>⋯</td><td>-0.0313514554</td><td>0</td><td> 0.003506472</td><td> 0.006743668</td><td>-0.015578882</td><td> 0.002572361</td><td> 0.003435126</td><td> 0.034986260</td><td> 0.017896066</td><td> 0.0228271689</td></tr>\n",
              "\t<tr><th scope=row>RelationshipSatisfaction</th><td> 0.053534720</td><td>-0.045872279</td><td> 0.0078460310</td><td> 0.006557475</td><td>-0.009118377</td><td>0</td><td>-0.069861411</td><td> 0.007665384</td><td> 0.001330453</td><td> 0.034296821</td><td>⋯</td><td> 1.0000000000</td><td>0</td><td>-0.045952491</td><td> 0.024054292</td><td> 0.002496526</td><td> 0.019604406</td><td> 0.019366787</td><td>-0.015122915</td><td> 0.033492502</td><td>-0.0008674968</td></tr>\n",
              "\t<tr><th scope=row>StandardHours</th><td> 0.000000000</td><td> 0.000000000</td><td> 0.0000000000</td><td> 0.000000000</td><td> 0.000000000</td><td>0</td><td> 0.000000000</td><td> 0.000000000</td><td> 0.000000000</td><td> 0.000000000</td><td>⋯</td><td> 0.0000000000</td><td>1</td><td> 0.000000000</td><td> 0.000000000</td><td> 0.000000000</td><td> 0.000000000</td><td> 0.000000000</td><td> 0.000000000</td><td> 0.000000000</td><td> 0.0000000000</td></tr>\n",
              "\t<tr><th scope=row>StockOptionLevel</th><td> 0.037509712</td><td>-0.137144919</td><td> 0.0421427964</td><td> 0.044871999</td><td> 0.018422220</td><td>0</td><td> 0.062226693</td><td> 0.003432158</td><td> 0.050263399</td><td> 0.021522640</td><td>⋯</td><td>-0.0459524907</td><td>0</td><td> 1.000000000</td><td> 0.010135969</td><td> 0.011274070</td><td> 0.004128730</td><td> 0.015058008</td><td> 0.050817873</td><td> 0.014352185</td><td> 0.0246982266</td></tr>\n",
              "\t<tr><th scope=row>TotalWorkingYears</th><td> 0.680380536</td><td>-0.171063246</td><td> 0.0145147387</td><td> 0.004628426</td><td> 0.148279697</td><td>0</td><td>-0.014365198</td><td>-0.002693070</td><td>-0.002333682</td><td>-0.005533182</td><td>⋯</td><td> 0.0240542918</td><td>0</td><td> 0.010135969</td><td> 1.000000000</td><td>-0.035661571</td><td> 0.001007646</td><td> 0.628133155</td><td> 0.460364638</td><td> 0.404857759</td><td> 0.4591883971</td></tr>\n",
              "\t<tr><th scope=row>TrainingTimesLastYear</th><td>-0.019620819</td><td>-0.059477799</td><td> 0.0024525427</td><td>-0.036942234</td><td>-0.025100241</td><td>0</td><td> 0.023603170</td><td>-0.019359308</td><td>-0.008547685</td><td>-0.015337826</td><td>⋯</td><td> 0.0024965264</td><td>0</td><td> 0.011274070</td><td>-0.035661571</td><td> 1.000000000</td><td> 0.028072207</td><td> 0.003568666</td><td>-0.005737504</td><td>-0.002066536</td><td>-0.0040955260</td></tr>\n",
              "\t<tr><th scope=row>WorkLifeBalance</th><td>-0.021490028</td><td>-0.063939047</td><td>-0.0378480510</td><td>-0.026556004</td><td> 0.009819189</td><td>0</td><td> 0.010308641</td><td> 0.027627295</td><td>-0.004607234</td><td>-0.014616593</td><td>⋯</td><td> 0.0196044057</td><td>0</td><td> 0.004128730</td><td> 0.001007646</td><td> 0.028072207</td><td> 1.000000000</td><td> 0.012089185</td><td> 0.049856498</td><td> 0.008941249</td><td> 0.0027594402</td></tr>\n",
              "\t<tr><th scope=row>YearsAtCompany</th><td> 0.311308770</td><td>-0.134392214</td><td>-0.0340547676</td><td> 0.009507720</td><td> 0.069113696</td><td>0</td><td>-0.011240464</td><td> 0.001457549</td><td>-0.019581616</td><td>-0.021355427</td><td>⋯</td><td> 0.0193667869</td><td>0</td><td> 0.015058008</td><td> 0.628133155</td><td> 0.003568666</td><td> 0.012089185</td><td> 1.000000000</td><td> 0.758753737</td><td> 0.618408865</td><td> 0.7692124251</td></tr>\n",
              "\t<tr><th scope=row>YearsInCurrentRole</th><td> 0.212901056</td><td>-0.160545004</td><td> 0.0099320150</td><td> 0.018844999</td><td> 0.060235554</td><td>0</td><td>-0.008416312</td><td> 0.018007460</td><td>-0.024106220</td><td> 0.008716963</td><td>⋯</td><td>-0.0151229149</td><td>0</td><td> 0.050817873</td><td> 0.460364638</td><td>-0.005737504</td><td> 0.049856498</td><td> 0.758753737</td><td> 1.000000000</td><td> 0.548056248</td><td> 0.7143647616</td></tr>\n",
              "\t<tr><th scope=row>YearsSinceLastPromotion</th><td> 0.216513368</td><td>-0.033018775</td><td>-0.0332289848</td><td> 0.010028836</td><td> 0.054254334</td><td>0</td><td>-0.009019064</td><td> 0.016193606</td><td>-0.026715586</td><td>-0.024184292</td><td>⋯</td><td> 0.0334925021</td><td>0</td><td> 0.014352185</td><td> 0.404857759</td><td>-0.002066536</td><td> 0.008941249</td><td> 0.618408865</td><td> 0.548056248</td><td> 1.000000000</td><td> 0.5102236358</td></tr>\n",
              "\t<tr><th scope=row>YearsWithCurrManager</th><td> 0.202088602</td><td>-0.156199316</td><td>-0.0263631782</td><td> 0.014406048</td><td> 0.069065378</td><td>0</td><td>-0.009196645</td><td>-0.004998723</td><td>-0.020123200</td><td> 0.025975808</td><td>⋯</td><td>-0.0008674968</td><td>0</td><td> 0.024698227</td><td> 0.459188397</td><td>-0.004095526</td><td> 0.002759440</td><td> 0.769212425</td><td> 0.714364762</td><td> 0.510223636</td><td> 1.0000000000</td></tr>\n",
              "</tbody>\n",
              "</table>\n"
            ],
            "text/markdown": "\nA matrix: 27 × 27 of type dbl\n\n| <!--/--> | Age | Attrition | DailyRate | DistanceFromHome | Education | EmployeeCount | EmployeeNumber | EnvironmentSatisfaction | HourlyRate | JobInvolvement | ⋯ | RelationshipSatisfaction | StandardHours | StockOptionLevel | TotalWorkingYears | TrainingTimesLastYear | WorkLifeBalance | YearsAtCompany | YearsInCurrentRole | YearsSinceLastPromotion | YearsWithCurrManager |\n|---|---|---|---|---|---|---|---|---|---|---|---|---|---|---|---|---|---|---|---|---|---|\n| Age |  1.000000000 | -0.159205007 |  0.0106609426 | -0.001686120 |  0.208033731 | 0 | -0.010145467 |  0.010146428 |  0.024286543 |  0.029819959 | ⋯ |  0.0535347197 | 0 |  0.037509712 |  0.680380536 | -0.019620819 | -0.021490028 |  0.311308770 |  0.212901056 |  0.216513368 |  0.2020886024 |\n| Attrition | -0.159205007 |  1.000000000 | -0.0566519919 |  0.077923583 | -0.031372820 | 0 | -0.010577243 | -0.103368978 | -0.006845550 | -0.130015957 | ⋯ | -0.0458722789 | 0 | -0.137144919 | -0.171063246 | -0.059477799 | -0.063939047 | -0.134392214 | -0.160545004 | -0.033018775 | -0.1561993159 |\n| DailyRate |  0.010660943 | -0.056651992 |  1.0000000000 | -0.004985337 | -0.016806433 | 0 | -0.050990434 |  0.018354854 |  0.023381422 |  0.046134874 | ⋯ |  0.0078460310 | 0 |  0.042142796 |  0.014514739 |  0.002452543 | -0.037848051 | -0.034054768 |  0.009932015 | -0.033228985 | -0.0263631782 |\n| DistanceFromHome | -0.001686120 |  0.077923583 | -0.0049853374 |  1.000000000 |  0.021041826 | 0 |  0.032916407 | -0.016075327 |  0.031130586 |  0.008783280 | ⋯ |  0.0065574746 | 0 |  0.044871999 |  0.004628426 | -0.036942234 | -0.026556004 |  0.009507720 |  0.018844999 |  0.010028836 |  0.0144060484 |\n| Education |  0.208033731 | -0.031372820 | -0.0168064332 |  0.021041826 |  1.000000000 | 0 |  0.042070093 | -0.027128313 |  0.016774829 |  0.042437634 | ⋯ | -0.0091183767 | 0 |  0.018422220 |  0.148279697 | -0.025100241 |  0.009819189 |  0.069113696 |  0.060235554 |  0.054254334 |  0.0690653783 |\n| EmployeeCount |  0.000000000 |  0.000000000 |  0.0000000000 |  0.000000000 |  0.000000000 | 1 |  0.000000000 |  0.000000000 |  0.000000000 |  0.000000000 | ⋯ |  0.0000000000 | 0 |  0.000000000 |  0.000000000 |  0.000000000 |  0.000000000 |  0.000000000 |  0.000000000 |  0.000000000 |  0.0000000000 |\n| EmployeeNumber | -0.010145467 | -0.010577243 | -0.0509904337 |  0.032916407 |  0.042070093 | 0 |  1.000000000 |  0.017620802 |  0.035179212 | -0.006887923 | ⋯ | -0.0698614115 | 0 |  0.062226693 | -0.014365198 |  0.023603170 |  0.010308641 | -0.011240464 | -0.008416312 | -0.009019064 | -0.0091966453 |\n| EnvironmentSatisfaction |  0.010146428 | -0.103368978 |  0.0183548543 | -0.016075327 | -0.027128313 | 0 |  0.017620802 |  1.000000000 | -0.049856956 | -0.008277598 | ⋯ |  0.0076653835 | 0 |  0.003432158 | -0.002693070 | -0.019359308 |  0.027627295 |  0.001457549 |  0.018007460 |  0.016193606 | -0.0049987226 |\n| HourlyRate |  0.024286543 | -0.006845550 |  0.0233814215 |  0.031130586 |  0.016774829 | 0 |  0.035179212 | -0.049856956 |  1.000000000 |  0.042860641 | ⋯ |  0.0013304528 | 0 |  0.050263399 | -0.002333682 | -0.008547685 | -0.004607234 | -0.019581616 | -0.024106220 | -0.026715586 | -0.0201232002 |\n| JobInvolvement |  0.029819959 | -0.130015957 |  0.0461348740 |  0.008783280 |  0.042437634 | 0 | -0.006887923 | -0.008277598 |  0.042860641 |  1.000000000 | ⋯ |  0.0342968206 | 0 |  0.021522640 | -0.005533182 | -0.015337826 | -0.014616593 | -0.021355427 |  0.008716963 | -0.024184292 |  0.0259758079 |\n| JobLevel |  0.509604228 | -0.169104751 |  0.0029663349 |  0.005302731 |  0.101588886 | 0 | -0.018519194 |  0.001211699 | -0.027853486 | -0.012629883 | ⋯ |  0.0216415105 | 0 |  0.013983911 |  0.782207805 | -0.018190550 |  0.037817746 |  0.534738687 |  0.389446733 |  0.353885347 |  0.3752806078 |\n| JobSatisfaction | -0.004891877 | -0.103481126 |  0.0305710078 | -0.003668839 | -0.011296117 | 0 | -0.046246735 | -0.006784353 | -0.071334624 | -0.021475910 | ⋯ | -0.0124535932 | 0 |  0.010690226 | -0.020185073 | -0.005779335 | -0.019458710 | -0.003802628 | -0.002304785 | -0.018213568 | -0.0276562139 |\n| MonthlyIncome |  0.497854567 | -0.159839582 |  0.0077070589 | -0.017014445 |  0.094960677 | 0 | -0.014828516 | -0.006259088 | -0.015794304 | -0.015271491 | ⋯ |  0.0258734361 | 0 |  0.005407677 |  0.772893246 | -0.021736277 |  0.030683082 |  0.514284826 |  0.363817667 |  0.344977638 |  0.3440788833 |\n| MonthlyRate |  0.028051167 |  0.015170213 | -0.0321816015 |  0.027472864 | -0.026084197 | 0 |  0.012648229 |  0.037599623 | -0.015296750 | -0.016322079 | ⋯ | -0.0040853293 | 0 | -0.034322830 |  0.026442471 |  0.001466881 |  0.007963158 | -0.023655107 | -0.012814874 |  0.001566800 | -0.0367459053 |\n| NumCompaniesWorked |  0.299634758 |  0.043493739 |  0.0381534343 | -0.029250804 |  0.126316560 | 0 | -0.001251032 |  0.012594323 |  0.022156883 |  0.015012413 | ⋯ |  0.0527330486 | 0 |  0.030075475 |  0.237638590 | -0.066054072 | -0.008365685 | -0.118421340 | -0.090753934 | -0.036813892 | -0.1103191554 |\n| PercentSalaryHike |  0.003633585 | -0.013478202 |  0.0227036775 |  0.040235377 | -0.011110941 | 0 | -0.012943996 | -0.031701195 | -0.009061986 | -0.017204572 | ⋯ | -0.0404900811 | 0 |  0.007527748 | -0.020608488 | -0.005221012 | -0.003279636 | -0.035991262 | -0.001520027 | -0.022154313 | -0.0119852485 |\n| PerformanceRating |  0.001903896 |  0.002888752 |  0.0004732963 |  0.027109618 | -0.024538791 | 0 | -0.020358825 | -0.029547952 | -0.002171697 | -0.029071333 | ⋯ | -0.0313514554 | 0 |  0.003506472 |  0.006743668 | -0.015578882 |  0.002572361 |  0.003435126 |  0.034986260 |  0.017896066 |  0.0228271689 |\n| RelationshipSatisfaction |  0.053534720 | -0.045872279 |  0.0078460310 |  0.006557475 | -0.009118377 | 0 | -0.069861411 |  0.007665384 |  0.001330453 |  0.034296821 | ⋯ |  1.0000000000 | 0 | -0.045952491 |  0.024054292 |  0.002496526 |  0.019604406 |  0.019366787 | -0.015122915 |  0.033492502 | -0.0008674968 |\n| StandardHours |  0.000000000 |  0.000000000 |  0.0000000000 |  0.000000000 |  0.000000000 | 0 |  0.000000000 |  0.000000000 |  0.000000000 |  0.000000000 | ⋯ |  0.0000000000 | 1 |  0.000000000 |  0.000000000 |  0.000000000 |  0.000000000 |  0.000000000 |  0.000000000 |  0.000000000 |  0.0000000000 |\n| StockOptionLevel |  0.037509712 | -0.137144919 |  0.0421427964 |  0.044871999 |  0.018422220 | 0 |  0.062226693 |  0.003432158 |  0.050263399 |  0.021522640 | ⋯ | -0.0459524907 | 0 |  1.000000000 |  0.010135969 |  0.011274070 |  0.004128730 |  0.015058008 |  0.050817873 |  0.014352185 |  0.0246982266 |\n| TotalWorkingYears |  0.680380536 | -0.171063246 |  0.0145147387 |  0.004628426 |  0.148279697 | 0 | -0.014365198 | -0.002693070 | -0.002333682 | -0.005533182 | ⋯ |  0.0240542918 | 0 |  0.010135969 |  1.000000000 | -0.035661571 |  0.001007646 |  0.628133155 |  0.460364638 |  0.404857759 |  0.4591883971 |\n| TrainingTimesLastYear | -0.019620819 | -0.059477799 |  0.0024525427 | -0.036942234 | -0.025100241 | 0 |  0.023603170 | -0.019359308 | -0.008547685 | -0.015337826 | ⋯ |  0.0024965264 | 0 |  0.011274070 | -0.035661571 |  1.000000000 |  0.028072207 |  0.003568666 | -0.005737504 | -0.002066536 | -0.0040955260 |\n| WorkLifeBalance | -0.021490028 | -0.063939047 | -0.0378480510 | -0.026556004 |  0.009819189 | 0 |  0.010308641 |  0.027627295 | -0.004607234 | -0.014616593 | ⋯ |  0.0196044057 | 0 |  0.004128730 |  0.001007646 |  0.028072207 |  1.000000000 |  0.012089185 |  0.049856498 |  0.008941249 |  0.0027594402 |\n| YearsAtCompany |  0.311308770 | -0.134392214 | -0.0340547676 |  0.009507720 |  0.069113696 | 0 | -0.011240464 |  0.001457549 | -0.019581616 | -0.021355427 | ⋯ |  0.0193667869 | 0 |  0.015058008 |  0.628133155 |  0.003568666 |  0.012089185 |  1.000000000 |  0.758753737 |  0.618408865 |  0.7692124251 |\n| YearsInCurrentRole |  0.212901056 | -0.160545004 |  0.0099320150 |  0.018844999 |  0.060235554 | 0 | -0.008416312 |  0.018007460 | -0.024106220 |  0.008716963 | ⋯ | -0.0151229149 | 0 |  0.050817873 |  0.460364638 | -0.005737504 |  0.049856498 |  0.758753737 |  1.000000000 |  0.548056248 |  0.7143647616 |\n| YearsSinceLastPromotion |  0.216513368 | -0.033018775 | -0.0332289848 |  0.010028836 |  0.054254334 | 0 | -0.009019064 |  0.016193606 | -0.026715586 | -0.024184292 | ⋯ |  0.0334925021 | 0 |  0.014352185 |  0.404857759 | -0.002066536 |  0.008941249 |  0.618408865 |  0.548056248 |  1.000000000 |  0.5102236358 |\n| YearsWithCurrManager |  0.202088602 | -0.156199316 | -0.0263631782 |  0.014406048 |  0.069065378 | 0 | -0.009196645 | -0.004998723 | -0.020123200 |  0.025975808 | ⋯ | -0.0008674968 | 0 |  0.024698227 |  0.459188397 | -0.004095526 |  0.002759440 |  0.769212425 |  0.714364762 |  0.510223636 |  1.0000000000 |\n\n",
            "text/latex": "A matrix: 27 × 27 of type dbl\n\\begin{tabular}{r|lllllllllllllllllllll}\n  & Age & Attrition & DailyRate & DistanceFromHome & Education & EmployeeCount & EmployeeNumber & EnvironmentSatisfaction & HourlyRate & JobInvolvement & ⋯ & RelationshipSatisfaction & StandardHours & StockOptionLevel & TotalWorkingYears & TrainingTimesLastYear & WorkLifeBalance & YearsAtCompany & YearsInCurrentRole & YearsSinceLastPromotion & YearsWithCurrManager\\\\\n\\hline\n\tAge &  1.000000000 & -0.159205007 &  0.0106609426 & -0.001686120 &  0.208033731 & 0 & -0.010145467 &  0.010146428 &  0.024286543 &  0.029819959 & ⋯ &  0.0535347197 & 0 &  0.037509712 &  0.680380536 & -0.019620819 & -0.021490028 &  0.311308770 &  0.212901056 &  0.216513368 &  0.2020886024\\\\\n\tAttrition & -0.159205007 &  1.000000000 & -0.0566519919 &  0.077923583 & -0.031372820 & 0 & -0.010577243 & -0.103368978 & -0.006845550 & -0.130015957 & ⋯ & -0.0458722789 & 0 & -0.137144919 & -0.171063246 & -0.059477799 & -0.063939047 & -0.134392214 & -0.160545004 & -0.033018775 & -0.1561993159\\\\\n\tDailyRate &  0.010660943 & -0.056651992 &  1.0000000000 & -0.004985337 & -0.016806433 & 0 & -0.050990434 &  0.018354854 &  0.023381422 &  0.046134874 & ⋯ &  0.0078460310 & 0 &  0.042142796 &  0.014514739 &  0.002452543 & -0.037848051 & -0.034054768 &  0.009932015 & -0.033228985 & -0.0263631782\\\\\n\tDistanceFromHome & -0.001686120 &  0.077923583 & -0.0049853374 &  1.000000000 &  0.021041826 & 0 &  0.032916407 & -0.016075327 &  0.031130586 &  0.008783280 & ⋯ &  0.0065574746 & 0 &  0.044871999 &  0.004628426 & -0.036942234 & -0.026556004 &  0.009507720 &  0.018844999 &  0.010028836 &  0.0144060484\\\\\n\tEducation &  0.208033731 & -0.031372820 & -0.0168064332 &  0.021041826 &  1.000000000 & 0 &  0.042070093 & -0.027128313 &  0.016774829 &  0.042437634 & ⋯ & -0.0091183767 & 0 &  0.018422220 &  0.148279697 & -0.025100241 &  0.009819189 &  0.069113696 &  0.060235554 &  0.054254334 &  0.0690653783\\\\\n\tEmployeeCount &  0.000000000 &  0.000000000 &  0.0000000000 &  0.000000000 &  0.000000000 & 1 &  0.000000000 &  0.000000000 &  0.000000000 &  0.000000000 & ⋯ &  0.0000000000 & 0 &  0.000000000 &  0.000000000 &  0.000000000 &  0.000000000 &  0.000000000 &  0.000000000 &  0.000000000 &  0.0000000000\\\\\n\tEmployeeNumber & -0.010145467 & -0.010577243 & -0.0509904337 &  0.032916407 &  0.042070093 & 0 &  1.000000000 &  0.017620802 &  0.035179212 & -0.006887923 & ⋯ & -0.0698614115 & 0 &  0.062226693 & -0.014365198 &  0.023603170 &  0.010308641 & -0.011240464 & -0.008416312 & -0.009019064 & -0.0091966453\\\\\n\tEnvironmentSatisfaction &  0.010146428 & -0.103368978 &  0.0183548543 & -0.016075327 & -0.027128313 & 0 &  0.017620802 &  1.000000000 & -0.049856956 & -0.008277598 & ⋯ &  0.0076653835 & 0 &  0.003432158 & -0.002693070 & -0.019359308 &  0.027627295 &  0.001457549 &  0.018007460 &  0.016193606 & -0.0049987226\\\\\n\tHourlyRate &  0.024286543 & -0.006845550 &  0.0233814215 &  0.031130586 &  0.016774829 & 0 &  0.035179212 & -0.049856956 &  1.000000000 &  0.042860641 & ⋯ &  0.0013304528 & 0 &  0.050263399 & -0.002333682 & -0.008547685 & -0.004607234 & -0.019581616 & -0.024106220 & -0.026715586 & -0.0201232002\\\\\n\tJobInvolvement &  0.029819959 & -0.130015957 &  0.0461348740 &  0.008783280 &  0.042437634 & 0 & -0.006887923 & -0.008277598 &  0.042860641 &  1.000000000 & ⋯ &  0.0342968206 & 0 &  0.021522640 & -0.005533182 & -0.015337826 & -0.014616593 & -0.021355427 &  0.008716963 & -0.024184292 &  0.0259758079\\\\\n\tJobLevel &  0.509604228 & -0.169104751 &  0.0029663349 &  0.005302731 &  0.101588886 & 0 & -0.018519194 &  0.001211699 & -0.027853486 & -0.012629883 & ⋯ &  0.0216415105 & 0 &  0.013983911 &  0.782207805 & -0.018190550 &  0.037817746 &  0.534738687 &  0.389446733 &  0.353885347 &  0.3752806078\\\\\n\tJobSatisfaction & -0.004891877 & -0.103481126 &  0.0305710078 & -0.003668839 & -0.011296117 & 0 & -0.046246735 & -0.006784353 & -0.071334624 & -0.021475910 & ⋯ & -0.0124535932 & 0 &  0.010690226 & -0.020185073 & -0.005779335 & -0.019458710 & -0.003802628 & -0.002304785 & -0.018213568 & -0.0276562139\\\\\n\tMonthlyIncome &  0.497854567 & -0.159839582 &  0.0077070589 & -0.017014445 &  0.094960677 & 0 & -0.014828516 & -0.006259088 & -0.015794304 & -0.015271491 & ⋯ &  0.0258734361 & 0 &  0.005407677 &  0.772893246 & -0.021736277 &  0.030683082 &  0.514284826 &  0.363817667 &  0.344977638 &  0.3440788833\\\\\n\tMonthlyRate &  0.028051167 &  0.015170213 & -0.0321816015 &  0.027472864 & -0.026084197 & 0 &  0.012648229 &  0.037599623 & -0.015296750 & -0.016322079 & ⋯ & -0.0040853293 & 0 & -0.034322830 &  0.026442471 &  0.001466881 &  0.007963158 & -0.023655107 & -0.012814874 &  0.001566800 & -0.0367459053\\\\\n\tNumCompaniesWorked &  0.299634758 &  0.043493739 &  0.0381534343 & -0.029250804 &  0.126316560 & 0 & -0.001251032 &  0.012594323 &  0.022156883 &  0.015012413 & ⋯ &  0.0527330486 & 0 &  0.030075475 &  0.237638590 & -0.066054072 & -0.008365685 & -0.118421340 & -0.090753934 & -0.036813892 & -0.1103191554\\\\\n\tPercentSalaryHike &  0.003633585 & -0.013478202 &  0.0227036775 &  0.040235377 & -0.011110941 & 0 & -0.012943996 & -0.031701195 & -0.009061986 & -0.017204572 & ⋯ & -0.0404900811 & 0 &  0.007527748 & -0.020608488 & -0.005221012 & -0.003279636 & -0.035991262 & -0.001520027 & -0.022154313 & -0.0119852485\\\\\n\tPerformanceRating &  0.001903896 &  0.002888752 &  0.0004732963 &  0.027109618 & -0.024538791 & 0 & -0.020358825 & -0.029547952 & -0.002171697 & -0.029071333 & ⋯ & -0.0313514554 & 0 &  0.003506472 &  0.006743668 & -0.015578882 &  0.002572361 &  0.003435126 &  0.034986260 &  0.017896066 &  0.0228271689\\\\\n\tRelationshipSatisfaction &  0.053534720 & -0.045872279 &  0.0078460310 &  0.006557475 & -0.009118377 & 0 & -0.069861411 &  0.007665384 &  0.001330453 &  0.034296821 & ⋯ &  1.0000000000 & 0 & -0.045952491 &  0.024054292 &  0.002496526 &  0.019604406 &  0.019366787 & -0.015122915 &  0.033492502 & -0.0008674968\\\\\n\tStandardHours &  0.000000000 &  0.000000000 &  0.0000000000 &  0.000000000 &  0.000000000 & 0 &  0.000000000 &  0.000000000 &  0.000000000 &  0.000000000 & ⋯ &  0.0000000000 & 1 &  0.000000000 &  0.000000000 &  0.000000000 &  0.000000000 &  0.000000000 &  0.000000000 &  0.000000000 &  0.0000000000\\\\\n\tStockOptionLevel &  0.037509712 & -0.137144919 &  0.0421427964 &  0.044871999 &  0.018422220 & 0 &  0.062226693 &  0.003432158 &  0.050263399 &  0.021522640 & ⋯ & -0.0459524907 & 0 &  1.000000000 &  0.010135969 &  0.011274070 &  0.004128730 &  0.015058008 &  0.050817873 &  0.014352185 &  0.0246982266\\\\\n\tTotalWorkingYears &  0.680380536 & -0.171063246 &  0.0145147387 &  0.004628426 &  0.148279697 & 0 & -0.014365198 & -0.002693070 & -0.002333682 & -0.005533182 & ⋯ &  0.0240542918 & 0 &  0.010135969 &  1.000000000 & -0.035661571 &  0.001007646 &  0.628133155 &  0.460364638 &  0.404857759 &  0.4591883971\\\\\n\tTrainingTimesLastYear & -0.019620819 & -0.059477799 &  0.0024525427 & -0.036942234 & -0.025100241 & 0 &  0.023603170 & -0.019359308 & -0.008547685 & -0.015337826 & ⋯ &  0.0024965264 & 0 &  0.011274070 & -0.035661571 &  1.000000000 &  0.028072207 &  0.003568666 & -0.005737504 & -0.002066536 & -0.0040955260\\\\\n\tWorkLifeBalance & -0.021490028 & -0.063939047 & -0.0378480510 & -0.026556004 &  0.009819189 & 0 &  0.010308641 &  0.027627295 & -0.004607234 & -0.014616593 & ⋯ &  0.0196044057 & 0 &  0.004128730 &  0.001007646 &  0.028072207 &  1.000000000 &  0.012089185 &  0.049856498 &  0.008941249 &  0.0027594402\\\\\n\tYearsAtCompany &  0.311308770 & -0.134392214 & -0.0340547676 &  0.009507720 &  0.069113696 & 0 & -0.011240464 &  0.001457549 & -0.019581616 & -0.021355427 & ⋯ &  0.0193667869 & 0 &  0.015058008 &  0.628133155 &  0.003568666 &  0.012089185 &  1.000000000 &  0.758753737 &  0.618408865 &  0.7692124251\\\\\n\tYearsInCurrentRole &  0.212901056 & -0.160545004 &  0.0099320150 &  0.018844999 &  0.060235554 & 0 & -0.008416312 &  0.018007460 & -0.024106220 &  0.008716963 & ⋯ & -0.0151229149 & 0 &  0.050817873 &  0.460364638 & -0.005737504 &  0.049856498 &  0.758753737 &  1.000000000 &  0.548056248 &  0.7143647616\\\\\n\tYearsSinceLastPromotion &  0.216513368 & -0.033018775 & -0.0332289848 &  0.010028836 &  0.054254334 & 0 & -0.009019064 &  0.016193606 & -0.026715586 & -0.024184292 & ⋯ &  0.0334925021 & 0 &  0.014352185 &  0.404857759 & -0.002066536 &  0.008941249 &  0.618408865 &  0.548056248 &  1.000000000 &  0.5102236358\\\\\n\tYearsWithCurrManager &  0.202088602 & -0.156199316 & -0.0263631782 &  0.014406048 &  0.069065378 & 0 & -0.009196645 & -0.004998723 & -0.020123200 &  0.025975808 & ⋯ & -0.0008674968 & 0 &  0.024698227 &  0.459188397 & -0.004095526 &  0.002759440 &  0.769212425 &  0.714364762 &  0.510223636 &  1.0000000000\\\\\n\\end{tabular}\n",
            "text/plain": [
              "                         Age          Attrition    DailyRate    \n",
              "Age                       1.000000000 -0.159205007  0.0106609426\n",
              "Attrition                -0.159205007  1.000000000 -0.0566519919\n",
              "DailyRate                 0.010660943 -0.056651992  1.0000000000\n",
              "DistanceFromHome         -0.001686120  0.077923583 -0.0049853374\n",
              "Education                 0.208033731 -0.031372820 -0.0168064332\n",
              "EmployeeCount             0.000000000  0.000000000  0.0000000000\n",
              "EmployeeNumber           -0.010145467 -0.010577243 -0.0509904337\n",
              "EnvironmentSatisfaction   0.010146428 -0.103368978  0.0183548543\n",
              "HourlyRate                0.024286543 -0.006845550  0.0233814215\n",
              "JobInvolvement            0.029819959 -0.130015957  0.0461348740\n",
              "JobLevel                  0.509604228 -0.169104751  0.0029663349\n",
              "JobSatisfaction          -0.004891877 -0.103481126  0.0305710078\n",
              "MonthlyIncome             0.497854567 -0.159839582  0.0077070589\n",
              "MonthlyRate               0.028051167  0.015170213 -0.0321816015\n",
              "NumCompaniesWorked        0.299634758  0.043493739  0.0381534343\n",
              "PercentSalaryHike         0.003633585 -0.013478202  0.0227036775\n",
              "PerformanceRating         0.001903896  0.002888752  0.0004732963\n",
              "RelationshipSatisfaction  0.053534720 -0.045872279  0.0078460310\n",
              "StandardHours             0.000000000  0.000000000  0.0000000000\n",
              "StockOptionLevel          0.037509712 -0.137144919  0.0421427964\n",
              "TotalWorkingYears         0.680380536 -0.171063246  0.0145147387\n",
              "TrainingTimesLastYear    -0.019620819 -0.059477799  0.0024525427\n",
              "WorkLifeBalance          -0.021490028 -0.063939047 -0.0378480510\n",
              "YearsAtCompany            0.311308770 -0.134392214 -0.0340547676\n",
              "YearsInCurrentRole        0.212901056 -0.160545004  0.0099320150\n",
              "YearsSinceLastPromotion   0.216513368 -0.033018775 -0.0332289848\n",
              "YearsWithCurrManager      0.202088602 -0.156199316 -0.0263631782\n",
              "                         DistanceFromHome Education    EmployeeCount\n",
              "Age                      -0.001686120      0.208033731 0            \n",
              "Attrition                 0.077923583     -0.031372820 0            \n",
              "DailyRate                -0.004985337     -0.016806433 0            \n",
              "DistanceFromHome          1.000000000      0.021041826 0            \n",
              "Education                 0.021041826      1.000000000 0            \n",
              "EmployeeCount             0.000000000      0.000000000 1            \n",
              "EmployeeNumber            0.032916407      0.042070093 0            \n",
              "EnvironmentSatisfaction  -0.016075327     -0.027128313 0            \n",
              "HourlyRate                0.031130586      0.016774829 0            \n",
              "JobInvolvement            0.008783280      0.042437634 0            \n",
              "JobLevel                  0.005302731      0.101588886 0            \n",
              "JobSatisfaction          -0.003668839     -0.011296117 0            \n",
              "MonthlyIncome            -0.017014445      0.094960677 0            \n",
              "MonthlyRate               0.027472864     -0.026084197 0            \n",
              "NumCompaniesWorked       -0.029250804      0.126316560 0            \n",
              "PercentSalaryHike         0.040235377     -0.011110941 0            \n",
              "PerformanceRating         0.027109618     -0.024538791 0            \n",
              "RelationshipSatisfaction  0.006557475     -0.009118377 0            \n",
              "StandardHours             0.000000000      0.000000000 0            \n",
              "StockOptionLevel          0.044871999      0.018422220 0            \n",
              "TotalWorkingYears         0.004628426      0.148279697 0            \n",
              "TrainingTimesLastYear    -0.036942234     -0.025100241 0            \n",
              "WorkLifeBalance          -0.026556004      0.009819189 0            \n",
              "YearsAtCompany            0.009507720      0.069113696 0            \n",
              "YearsInCurrentRole        0.018844999      0.060235554 0            \n",
              "YearsSinceLastPromotion   0.010028836      0.054254334 0            \n",
              "YearsWithCurrManager      0.014406048      0.069065378 0            \n",
              "                         EmployeeNumber EnvironmentSatisfaction HourlyRate  \n",
              "Age                      -0.010145467    0.010146428             0.024286543\n",
              "Attrition                -0.010577243   -0.103368978            -0.006845550\n",
              "DailyRate                -0.050990434    0.018354854             0.023381422\n",
              "DistanceFromHome          0.032916407   -0.016075327             0.031130586\n",
              "Education                 0.042070093   -0.027128313             0.016774829\n",
              "EmployeeCount             0.000000000    0.000000000             0.000000000\n",
              "EmployeeNumber            1.000000000    0.017620802             0.035179212\n",
              "EnvironmentSatisfaction   0.017620802    1.000000000            -0.049856956\n",
              "HourlyRate                0.035179212   -0.049856956             1.000000000\n",
              "JobInvolvement           -0.006887923   -0.008277598             0.042860641\n",
              "JobLevel                 -0.018519194    0.001211699            -0.027853486\n",
              "JobSatisfaction          -0.046246735   -0.006784353            -0.071334624\n",
              "MonthlyIncome            -0.014828516   -0.006259088            -0.015794304\n",
              "MonthlyRate               0.012648229    0.037599623            -0.015296750\n",
              "NumCompaniesWorked       -0.001251032    0.012594323             0.022156883\n",
              "PercentSalaryHike        -0.012943996   -0.031701195            -0.009061986\n",
              "PerformanceRating        -0.020358825   -0.029547952            -0.002171697\n",
              "RelationshipSatisfaction -0.069861411    0.007665384             0.001330453\n",
              "StandardHours             0.000000000    0.000000000             0.000000000\n",
              "StockOptionLevel          0.062226693    0.003432158             0.050263399\n",
              "TotalWorkingYears        -0.014365198   -0.002693070            -0.002333682\n",
              "TrainingTimesLastYear     0.023603170   -0.019359308            -0.008547685\n",
              "WorkLifeBalance           0.010308641    0.027627295            -0.004607234\n",
              "YearsAtCompany           -0.011240464    0.001457549            -0.019581616\n",
              "YearsInCurrentRole       -0.008416312    0.018007460            -0.024106220\n",
              "YearsSinceLastPromotion  -0.009019064    0.016193606            -0.026715586\n",
              "YearsWithCurrManager     -0.009196645   -0.004998723            -0.020123200\n",
              "                         JobInvolvement ⋯ RelationshipSatisfaction\n",
              "Age                       0.029819959   ⋯  0.0535347197           \n",
              "Attrition                -0.130015957   ⋯ -0.0458722789           \n",
              "DailyRate                 0.046134874   ⋯  0.0078460310           \n",
              "DistanceFromHome          0.008783280   ⋯  0.0065574746           \n",
              "Education                 0.042437634   ⋯ -0.0091183767           \n",
              "EmployeeCount             0.000000000   ⋯  0.0000000000           \n",
              "EmployeeNumber           -0.006887923   ⋯ -0.0698614115           \n",
              "EnvironmentSatisfaction  -0.008277598   ⋯  0.0076653835           \n",
              "HourlyRate                0.042860641   ⋯  0.0013304528           \n",
              "JobInvolvement            1.000000000   ⋯  0.0342968206           \n",
              "JobLevel                 -0.012629883   ⋯  0.0216415105           \n",
              "JobSatisfaction          -0.021475910   ⋯ -0.0124535932           \n",
              "MonthlyIncome            -0.015271491   ⋯  0.0258734361           \n",
              "MonthlyRate              -0.016322079   ⋯ -0.0040853293           \n",
              "NumCompaniesWorked        0.015012413   ⋯  0.0527330486           \n",
              "PercentSalaryHike        -0.017204572   ⋯ -0.0404900811           \n",
              "PerformanceRating        -0.029071333   ⋯ -0.0313514554           \n",
              "RelationshipSatisfaction  0.034296821   ⋯  1.0000000000           \n",
              "StandardHours             0.000000000   ⋯  0.0000000000           \n",
              "StockOptionLevel          0.021522640   ⋯ -0.0459524907           \n",
              "TotalWorkingYears        -0.005533182   ⋯  0.0240542918           \n",
              "TrainingTimesLastYear    -0.015337826   ⋯  0.0024965264           \n",
              "WorkLifeBalance          -0.014616593   ⋯  0.0196044057           \n",
              "YearsAtCompany           -0.021355427   ⋯  0.0193667869           \n",
              "YearsInCurrentRole        0.008716963   ⋯ -0.0151229149           \n",
              "YearsSinceLastPromotion  -0.024184292   ⋯  0.0334925021           \n",
              "YearsWithCurrManager      0.025975808   ⋯ -0.0008674968           \n",
              "                         StandardHours StockOptionLevel TotalWorkingYears\n",
              "Age                      0              0.037509712      0.680380536     \n",
              "Attrition                0             -0.137144919     -0.171063246     \n",
              "DailyRate                0              0.042142796      0.014514739     \n",
              "DistanceFromHome         0              0.044871999      0.004628426     \n",
              "Education                0              0.018422220      0.148279697     \n",
              "EmployeeCount            0              0.000000000      0.000000000     \n",
              "EmployeeNumber           0              0.062226693     -0.014365198     \n",
              "EnvironmentSatisfaction  0              0.003432158     -0.002693070     \n",
              "HourlyRate               0              0.050263399     -0.002333682     \n",
              "JobInvolvement           0              0.021522640     -0.005533182     \n",
              "JobLevel                 0              0.013983911      0.782207805     \n",
              "JobSatisfaction          0              0.010690226     -0.020185073     \n",
              "MonthlyIncome            0              0.005407677      0.772893246     \n",
              "MonthlyRate              0             -0.034322830      0.026442471     \n",
              "NumCompaniesWorked       0              0.030075475      0.237638590     \n",
              "PercentSalaryHike        0              0.007527748     -0.020608488     \n",
              "PerformanceRating        0              0.003506472      0.006743668     \n",
              "RelationshipSatisfaction 0             -0.045952491      0.024054292     \n",
              "StandardHours            1              0.000000000      0.000000000     \n",
              "StockOptionLevel         0              1.000000000      0.010135969     \n",
              "TotalWorkingYears        0              0.010135969      1.000000000     \n",
              "TrainingTimesLastYear    0              0.011274070     -0.035661571     \n",
              "WorkLifeBalance          0              0.004128730      0.001007646     \n",
              "YearsAtCompany           0              0.015058008      0.628133155     \n",
              "YearsInCurrentRole       0              0.050817873      0.460364638     \n",
              "YearsSinceLastPromotion  0              0.014352185      0.404857759     \n",
              "YearsWithCurrManager     0              0.024698227      0.459188397     \n",
              "                         TrainingTimesLastYear WorkLifeBalance YearsAtCompany\n",
              "Age                      -0.019620819          -0.021490028     0.311308770  \n",
              "Attrition                -0.059477799          -0.063939047    -0.134392214  \n",
              "DailyRate                 0.002452543          -0.037848051    -0.034054768  \n",
              "DistanceFromHome         -0.036942234          -0.026556004     0.009507720  \n",
              "Education                -0.025100241           0.009819189     0.069113696  \n",
              "EmployeeCount             0.000000000           0.000000000     0.000000000  \n",
              "EmployeeNumber            0.023603170           0.010308641    -0.011240464  \n",
              "EnvironmentSatisfaction  -0.019359308           0.027627295     0.001457549  \n",
              "HourlyRate               -0.008547685          -0.004607234    -0.019581616  \n",
              "JobInvolvement           -0.015337826          -0.014616593    -0.021355427  \n",
              "JobLevel                 -0.018190550           0.037817746     0.534738687  \n",
              "JobSatisfaction          -0.005779335          -0.019458710    -0.003802628  \n",
              "MonthlyIncome            -0.021736277           0.030683082     0.514284826  \n",
              "MonthlyRate               0.001466881           0.007963158    -0.023655107  \n",
              "NumCompaniesWorked       -0.066054072          -0.008365685    -0.118421340  \n",
              "PercentSalaryHike        -0.005221012          -0.003279636    -0.035991262  \n",
              "PerformanceRating        -0.015578882           0.002572361     0.003435126  \n",
              "RelationshipSatisfaction  0.002496526           0.019604406     0.019366787  \n",
              "StandardHours             0.000000000           0.000000000     0.000000000  \n",
              "StockOptionLevel          0.011274070           0.004128730     0.015058008  \n",
              "TotalWorkingYears        -0.035661571           0.001007646     0.628133155  \n",
              "TrainingTimesLastYear     1.000000000           0.028072207     0.003568666  \n",
              "WorkLifeBalance           0.028072207           1.000000000     0.012089185  \n",
              "YearsAtCompany            0.003568666           0.012089185     1.000000000  \n",
              "YearsInCurrentRole       -0.005737504           0.049856498     0.758753737  \n",
              "YearsSinceLastPromotion  -0.002066536           0.008941249     0.618408865  \n",
              "YearsWithCurrManager     -0.004095526           0.002759440     0.769212425  \n",
              "                         YearsInCurrentRole YearsSinceLastPromotion\n",
              "Age                       0.212901056        0.216513368           \n",
              "Attrition                -0.160545004       -0.033018775           \n",
              "DailyRate                 0.009932015       -0.033228985           \n",
              "DistanceFromHome          0.018844999        0.010028836           \n",
              "Education                 0.060235554        0.054254334           \n",
              "EmployeeCount             0.000000000        0.000000000           \n",
              "EmployeeNumber           -0.008416312       -0.009019064           \n",
              "EnvironmentSatisfaction   0.018007460        0.016193606           \n",
              "HourlyRate               -0.024106220       -0.026715586           \n",
              "JobInvolvement            0.008716963       -0.024184292           \n",
              "JobLevel                  0.389446733        0.353885347           \n",
              "JobSatisfaction          -0.002304785       -0.018213568           \n",
              "MonthlyIncome             0.363817667        0.344977638           \n",
              "MonthlyRate              -0.012814874        0.001566800           \n",
              "NumCompaniesWorked       -0.090753934       -0.036813892           \n",
              "PercentSalaryHike        -0.001520027       -0.022154313           \n",
              "PerformanceRating         0.034986260        0.017896066           \n",
              "RelationshipSatisfaction -0.015122915        0.033492502           \n",
              "StandardHours             0.000000000        0.000000000           \n",
              "StockOptionLevel          0.050817873        0.014352185           \n",
              "TotalWorkingYears         0.460364638        0.404857759           \n",
              "TrainingTimesLastYear    -0.005737504       -0.002066536           \n",
              "WorkLifeBalance           0.049856498        0.008941249           \n",
              "YearsAtCompany            0.758753737        0.618408865           \n",
              "YearsInCurrentRole        1.000000000        0.548056248           \n",
              "YearsSinceLastPromotion   0.548056248        1.000000000           \n",
              "YearsWithCurrManager      0.714364762        0.510223636           \n",
              "                         YearsWithCurrManager\n",
              "Age                       0.2020886024       \n",
              "Attrition                -0.1561993159       \n",
              "DailyRate                -0.0263631782       \n",
              "DistanceFromHome          0.0144060484       \n",
              "Education                 0.0690653783       \n",
              "EmployeeCount             0.0000000000       \n",
              "EmployeeNumber           -0.0091966453       \n",
              "EnvironmentSatisfaction  -0.0049987226       \n",
              "HourlyRate               -0.0201232002       \n",
              "JobInvolvement            0.0259758079       \n",
              "JobLevel                  0.3752806078       \n",
              "JobSatisfaction          -0.0276562139       \n",
              "MonthlyIncome             0.3440788833       \n",
              "MonthlyRate              -0.0367459053       \n",
              "NumCompaniesWorked       -0.1103191554       \n",
              "PercentSalaryHike        -0.0119852485       \n",
              "PerformanceRating         0.0228271689       \n",
              "RelationshipSatisfaction -0.0008674968       \n",
              "StandardHours             0.0000000000       \n",
              "StockOptionLevel          0.0246982266       \n",
              "TotalWorkingYears         0.4591883971       \n",
              "TrainingTimesLastYear    -0.0040955260       \n",
              "WorkLifeBalance           0.0027594402       \n",
              "YearsAtCompany            0.7692124251       \n",
              "YearsInCurrentRole        0.7143647616       \n",
              "YearsSinceLastPromotion   0.5102236358       \n",
              "YearsWithCurrManager      1.0000000000       "
            ]
          },
          "metadata": {}
        }
      ]
    },
    {
      "cell_type": "code",
      "source": [
        "# 상관계수가 0.9보다 큰 컬럼의 조합을 출력한다.\n",
        "for(i in 1:27){\n",
        "    for(j in 1:27){\n",
        "        if((result[i,j] >= 0.9) & (i != j)){\n",
        "            cat(colnames(df_number[i]), \",\", colnames(df_number[j]), \":\", result[i,j], \"\\n\")\n",
        "        }\n",
        "    }\n",
        "}"
      ],
      "metadata": {
        "colab": {
          "base_uri": "https://localhost:8080/"
        },
        "id": "yCooStOYe5pT",
        "outputId": "466c2f08-4844-4a53-a16e-e43061cd9f01"
      },
      "execution_count": 12,
      "outputs": [
        {
          "output_type": "stream",
          "name": "stdout",
          "text": [
            "JobLevel , MonthlyIncome : 0.9502999 \n",
            "MonthlyIncome , JobLevel : 0.9502999 \n"
          ]
        }
      ]
    },
    {
      "cell_type": "code",
      "source": [
        "# df의 15번째 변수(jobLevel)을 제거한다.\n",
        "df_new <- df[,-15]"
      ],
      "metadata": {
        "id": "7hCL3aIqfFtr"
      },
      "execution_count": 13,
      "outputs": []
    },
    {
      "cell_type": "markdown",
      "source": [
        ">>>**02 제2유형**"
      ],
      "metadata": {
        "id": "PIiAW2vKfHl0"
      }
    },
    {
      "cell_type": "code",
      "source": [
        "data(iris)\n",
        "str(iris)\n",
        "summary(iris)"
      ],
      "metadata": {
        "colab": {
          "base_uri": "https://localhost:8080/",
          "height": 384
        },
        "id": "fyzt5gJDfKEO",
        "outputId": "728b4098-868d-4a27-e8de-fb469b2f491e"
      },
      "execution_count": 14,
      "outputs": [
        {
          "output_type": "stream",
          "name": "stdout",
          "text": [
            "'data.frame':\t150 obs. of  5 variables:\n",
            " $ Sepal.Length: num  5.1 4.9 4.7 4.6 5 5.4 4.6 5 4.4 4.9 ...\n",
            " $ Sepal.Width : num  3.5 3 3.2 3.1 3.6 3.9 3.4 3.4 2.9 3.1 ...\n",
            " $ Petal.Length: num  1.4 1.4 1.3 1.5 1.4 1.7 1.4 1.5 1.4 1.5 ...\n",
            " $ Petal.Width : num  0.2 0.2 0.2 0.2 0.2 0.4 0.3 0.2 0.2 0.1 ...\n",
            " $ Species     : Factor w/ 3 levels \"setosa\",\"versicolor\",..: 1 1 1 1 1 1 1 1 1 1 ...\n"
          ]
        },
        {
          "output_type": "display_data",
          "data": {
            "text/plain": [
              "  Sepal.Length    Sepal.Width     Petal.Length    Petal.Width   \n",
              " Min.   :4.300   Min.   :2.000   Min.   :1.000   Min.   :0.100  \n",
              " 1st Qu.:5.100   1st Qu.:2.800   1st Qu.:1.600   1st Qu.:0.300  \n",
              " Median :5.800   Median :3.000   Median :4.350   Median :1.300  \n",
              " Mean   :5.843   Mean   :3.057   Mean   :3.758   Mean   :1.199  \n",
              " 3rd Qu.:6.400   3rd Qu.:3.300   3rd Qu.:5.100   3rd Qu.:1.800  \n",
              " Max.   :7.900   Max.   :4.400   Max.   :6.900   Max.   :2.500  \n",
              "       Species  \n",
              " setosa    :50  \n",
              " versicolor:50  \n",
              " virginica :50  \n",
              "                \n",
              "                \n",
              "                "
            ]
          },
          "metadata": {}
        }
      ]
    },
    {
      "cell_type": "code",
      "source": [
        "head(iris)"
      ],
      "metadata": {
        "colab": {
          "base_uri": "https://localhost:8080/",
          "height": 286
        },
        "id": "v4oZBVTxfOUl",
        "outputId": "7f8308e5-9f67-463f-8e79-76814854523a"
      },
      "execution_count": 15,
      "outputs": [
        {
          "output_type": "display_data",
          "data": {
            "text/html": [
              "<table class=\"dataframe\">\n",
              "<caption>A data.frame: 6 × 5</caption>\n",
              "<thead>\n",
              "\t<tr><th></th><th scope=col>Sepal.Length</th><th scope=col>Sepal.Width</th><th scope=col>Petal.Length</th><th scope=col>Petal.Width</th><th scope=col>Species</th></tr>\n",
              "\t<tr><th></th><th scope=col>&lt;dbl&gt;</th><th scope=col>&lt;dbl&gt;</th><th scope=col>&lt;dbl&gt;</th><th scope=col>&lt;dbl&gt;</th><th scope=col>&lt;fct&gt;</th></tr>\n",
              "</thead>\n",
              "<tbody>\n",
              "\t<tr><th scope=row>1</th><td>5.1</td><td>3.5</td><td>1.4</td><td>0.2</td><td>setosa</td></tr>\n",
              "\t<tr><th scope=row>2</th><td>4.9</td><td>3.0</td><td>1.4</td><td>0.2</td><td>setosa</td></tr>\n",
              "\t<tr><th scope=row>3</th><td>4.7</td><td>3.2</td><td>1.3</td><td>0.2</td><td>setosa</td></tr>\n",
              "\t<tr><th scope=row>4</th><td>4.6</td><td>3.1</td><td>1.5</td><td>0.2</td><td>setosa</td></tr>\n",
              "\t<tr><th scope=row>5</th><td>5.0</td><td>3.6</td><td>1.4</td><td>0.2</td><td>setosa</td></tr>\n",
              "\t<tr><th scope=row>6</th><td>5.4</td><td>3.9</td><td>1.7</td><td>0.4</td><td>setosa</td></tr>\n",
              "</tbody>\n",
              "</table>\n"
            ],
            "text/markdown": "\nA data.frame: 6 × 5\n\n| <!--/--> | Sepal.Length &lt;dbl&gt; | Sepal.Width &lt;dbl&gt; | Petal.Length &lt;dbl&gt; | Petal.Width &lt;dbl&gt; | Species &lt;fct&gt; |\n|---|---|---|---|---|---|\n| 1 | 5.1 | 3.5 | 1.4 | 0.2 | setosa |\n| 2 | 4.9 | 3.0 | 1.4 | 0.2 | setosa |\n| 3 | 4.7 | 3.2 | 1.3 | 0.2 | setosa |\n| 4 | 4.6 | 3.1 | 1.5 | 0.2 | setosa |\n| 5 | 5.0 | 3.6 | 1.4 | 0.2 | setosa |\n| 6 | 5.4 | 3.9 | 1.7 | 0.4 | setosa |\n\n",
            "text/latex": "A data.frame: 6 × 5\n\\begin{tabular}{r|lllll}\n  & Sepal.Length & Sepal.Width & Petal.Length & Petal.Width & Species\\\\\n  & <dbl> & <dbl> & <dbl> & <dbl> & <fct>\\\\\n\\hline\n\t1 & 5.1 & 3.5 & 1.4 & 0.2 & setosa\\\\\n\t2 & 4.9 & 3.0 & 1.4 & 0.2 & setosa\\\\\n\t3 & 4.7 & 3.2 & 1.3 & 0.2 & setosa\\\\\n\t4 & 4.6 & 3.1 & 1.5 & 0.2 & setosa\\\\\n\t5 & 5.0 & 3.6 & 1.4 & 0.2 & setosa\\\\\n\t6 & 5.4 & 3.9 & 1.7 & 0.4 & setosa\\\\\n\\end{tabular}\n",
            "text/plain": [
              "  Sepal.Length Sepal.Width Petal.Length Petal.Width Species\n",
              "1 5.1          3.5         1.4          0.2         setosa \n",
              "2 4.9          3.0         1.4          0.2         setosa \n",
              "3 4.7          3.2         1.3          0.2         setosa \n",
              "4 4.6          3.1         1.5          0.2         setosa \n",
              "5 5.0          3.6         1.4          0.2         setosa \n",
              "6 5.4          3.9         1.7          0.4         setosa "
            ]
          },
          "metadata": {}
        }
      ]
    },
    {
      "cell_type": "code",
      "source": [
        "# 기존 데이터셋을 무작위화하여 새로운 데이터셋을 생성한다\n",
        "set.seed(1234)\n",
        "random <- runif(150)\n",
        "iris_random <- iris[order(random),]\n",
        "head(iris_random)"
      ],
      "metadata": {
        "colab": {
          "base_uri": "https://localhost:8080/",
          "height": 286
        },
        "id": "Iaegy4RdfQEe",
        "outputId": "74c557d9-aacf-43da-be3e-65570c0b3c08"
      },
      "execution_count": 16,
      "outputs": [
        {
          "output_type": "display_data",
          "data": {
            "text/html": [
              "<table class=\"dataframe\">\n",
              "<caption>A data.frame: 6 × 5</caption>\n",
              "<thead>\n",
              "\t<tr><th></th><th scope=col>Sepal.Length</th><th scope=col>Sepal.Width</th><th scope=col>Petal.Length</th><th scope=col>Petal.Width</th><th scope=col>Species</th></tr>\n",
              "\t<tr><th></th><th scope=col>&lt;dbl&gt;</th><th scope=col>&lt;dbl&gt;</th><th scope=col>&lt;dbl&gt;</th><th scope=col>&lt;dbl&gt;</th><th scope=col>&lt;fct&gt;</th></tr>\n",
              "</thead>\n",
              "<tbody>\n",
              "\t<tr><th scope=row>7</th><td>4.6</td><td>3.4</td><td>1.4</td><td>0.3</td><td>setosa    </td></tr>\n",
              "\t<tr><th scope=row>64</th><td>6.1</td><td>2.9</td><td>4.7</td><td>1.4</td><td>versicolor</td></tr>\n",
              "\t<tr><th scope=row>73</th><td>6.3</td><td>2.5</td><td>4.9</td><td>1.5</td><td>versicolor</td></tr>\n",
              "\t<tr><th scope=row>98</th><td>6.2</td><td>2.9</td><td>4.3</td><td>1.3</td><td>versicolor</td></tr>\n",
              "\t<tr><th scope=row>101</th><td>6.3</td><td>3.3</td><td>6.0</td><td>2.5</td><td>virginica </td></tr>\n",
              "\t<tr><th scope=row>110</th><td>7.2</td><td>3.6</td><td>6.1</td><td>2.5</td><td>virginica </td></tr>\n",
              "</tbody>\n",
              "</table>\n"
            ],
            "text/markdown": "\nA data.frame: 6 × 5\n\n| <!--/--> | Sepal.Length &lt;dbl&gt; | Sepal.Width &lt;dbl&gt; | Petal.Length &lt;dbl&gt; | Petal.Width &lt;dbl&gt; | Species &lt;fct&gt; |\n|---|---|---|---|---|---|\n| 7 | 4.6 | 3.4 | 1.4 | 0.3 | setosa     |\n| 64 | 6.1 | 2.9 | 4.7 | 1.4 | versicolor |\n| 73 | 6.3 | 2.5 | 4.9 | 1.5 | versicolor |\n| 98 | 6.2 | 2.9 | 4.3 | 1.3 | versicolor |\n| 101 | 6.3 | 3.3 | 6.0 | 2.5 | virginica  |\n| 110 | 7.2 | 3.6 | 6.1 | 2.5 | virginica  |\n\n",
            "text/latex": "A data.frame: 6 × 5\n\\begin{tabular}{r|lllll}\n  & Sepal.Length & Sepal.Width & Petal.Length & Petal.Width & Species\\\\\n  & <dbl> & <dbl> & <dbl> & <dbl> & <fct>\\\\\n\\hline\n\t7 & 4.6 & 3.4 & 1.4 & 0.3 & setosa    \\\\\n\t64 & 6.1 & 2.9 & 4.7 & 1.4 & versicolor\\\\\n\t73 & 6.3 & 2.5 & 4.9 & 1.5 & versicolor\\\\\n\t98 & 6.2 & 2.9 & 4.3 & 1.3 & versicolor\\\\\n\t101 & 6.3 & 3.3 & 6.0 & 2.5 & virginica \\\\\n\t110 & 7.2 & 3.6 & 6.1 & 2.5 & virginica \\\\\n\\end{tabular}\n",
            "text/plain": [
              "    Sepal.Length Sepal.Width Petal.Length Petal.Width Species   \n",
              "7   4.6          3.4         1.4          0.3         setosa    \n",
              "64  6.1          2.9         4.7          1.4         versicolor\n",
              "73  6.3          2.5         4.9          1.5         versicolor\n",
              "98  6.2          2.9         4.3          1.3         versicolor\n",
              "101 6.3          3.3         6.0          2.5         virginica \n",
              "110 7.2          3.6         6.1          2.5         virginica "
            ]
          },
          "metadata": {}
        }
      ]
    },
    {
      "cell_type": "code",
      "source": [
        "# Min-Max를 이용한 정규화 데이터를 생성\n",
        "normal <- function(x) (return( (x - min(x)) / (max(x)-min(x)) ))\n",
        "normal(1:5)\n",
        "\n",
        "iris_new <- as.data.frame(lapply(iris_random[,-5], normal))\n",
        "summary(iris_new)"
      ],
      "metadata": {
        "colab": {
          "base_uri": "https://localhost:8080/",
          "height": 163
        },
        "id": "ldkqzxHifSwo",
        "outputId": "aa92a6a4-82eb-4e2e-b103-3dc526ab80ca"
      },
      "execution_count": 17,
      "outputs": [
        {
          "output_type": "display_data",
          "data": {
            "text/html": [
              "<style>\n",
              ".list-inline {list-style: none; margin:0; padding: 0}\n",
              ".list-inline>li {display: inline-block}\n",
              ".list-inline>li:not(:last-child)::after {content: \"\\00b7\"; padding: 0 .5ex}\n",
              "</style>\n",
              "<ol class=list-inline><li>0</li><li>0.25</li><li>0.5</li><li>0.75</li><li>1</li></ol>\n"
            ],
            "text/markdown": "1. 0\n2. 0.25\n3. 0.5\n4. 0.75\n5. 1\n\n\n",
            "text/latex": "\\begin{enumerate*}\n\\item 0\n\\item 0.25\n\\item 0.5\n\\item 0.75\n\\item 1\n\\end{enumerate*}\n",
            "text/plain": [
              "[1] 0.00 0.25 0.50 0.75 1.00"
            ]
          },
          "metadata": {}
        },
        {
          "output_type": "display_data",
          "data": {
            "text/plain": [
              "  Sepal.Length     Sepal.Width      Petal.Length     Petal.Width     \n",
              " Min.   :0.0000   Min.   :0.0000   Min.   :0.0000   Min.   :0.00000  \n",
              " 1st Qu.:0.2222   1st Qu.:0.3333   1st Qu.:0.1017   1st Qu.:0.08333  \n",
              " Median :0.4167   Median :0.4167   Median :0.5678   Median :0.50000  \n",
              " Mean   :0.4287   Mean   :0.4406   Mean   :0.4675   Mean   :0.45806  \n",
              " 3rd Qu.:0.5833   3rd Qu.:0.5417   3rd Qu.:0.6949   3rd Qu.:0.70833  \n",
              " Max.   :1.0000   Max.   :1.0000   Max.   :1.0000   Max.   :1.00000  "
            ]
          },
          "metadata": {}
        }
      ]
    },
    {
      "cell_type": "code",
      "source": [
        "# 전체 데이터 셋 150개중 130개를 훈련세트로 나머지 20개를 테스트셋으로 생성\n",
        "train <- iris_new[1:130,]\n",
        "test <- iris_new[131:150,]\n",
        "train_sp <- iris_random[1:130,5]\n",
        "test_sp <- iris_random[131:150,5]"
      ],
      "metadata": {
        "id": "hc78lcEXfVP9"
      },
      "execution_count": 18,
      "outputs": []
    },
    {
      "cell_type": "code",
      "source": [
        "install.packages(\"caret\")\n",
        "library(caret)\n",
        "library(class)"
      ],
      "metadata": {
        "colab": {
          "base_uri": "https://localhost:8080/"
        },
        "id": "wBNDnYeZfWzE",
        "outputId": "c43491f8-6097-4e26-986d-322a3b4bf763"
      },
      "execution_count": 19,
      "outputs": [
        {
          "output_type": "stream",
          "name": "stderr",
          "text": [
            "Installing package into ‘/usr/local/lib/R/site-library’\n",
            "(as ‘lib’ is unspecified)\n",
            "\n",
            "also installing the dependencies ‘listenv’, ‘parallelly’, ‘future’, ‘globals’, ‘future.apply’, ‘progressr’, ‘numDeriv’, ‘SQUAREM’, ‘lava’, ‘prodlim’, ‘proxy’, ‘iterators’, ‘Rcpp’, ‘gower’, ‘hardhat’, ‘ipred’, ‘timeDate’, ‘e1071’, ‘foreach’, ‘ModelMetrics’, ‘plyr’, ‘pROC’, ‘recipes’, ‘reshape2’\n",
            "\n",
            "\n",
            "Loading required package: ggplot2\n",
            "\n",
            "Loading required package: lattice\n",
            "\n",
            "Warning message in system(\"timedatectl\", intern = TRUE):\n",
            "“running command 'timedatectl' had status 1”\n"
          ]
        }
      ]
    },
    {
      "cell_type": "code",
      "source": [
        "# Class library 이용, KNN 분석결과에 대한 Table에 의한 분석결과 검증(혼돈행렬)\n",
        "model <- knn(train=train, test=test, , cl=train_sp, k=10)                       # K=10\n",
        "table(factor(model))\n",
        "table(test_sp, model)\n",
        "CM = confusionMatrix(test_sp, model)\n",
        "accuracy = CM$overall[1]"
      ],
      "metadata": {
        "colab": {
          "base_uri": "https://localhost:8080/",
          "height": 164
        },
        "id": "Md3hnEhYfb4B",
        "outputId": "cc093b87-2c8f-451c-8ce0-24ce3ff926fe"
      },
      "execution_count": 20,
      "outputs": [
        {
          "output_type": "display_data",
          "data": {
            "text/plain": [
              "\n",
              "    setosa versicolor  virginica \n",
              "         3          6         11 "
            ]
          },
          "metadata": {}
        },
        {
          "output_type": "display_data",
          "data": {
            "text/plain": [
              "            model\n",
              "test_sp      setosa versicolor virginica\n",
              "  setosa          3          0         0\n",
              "  versicolor      0          5         0\n",
              "  virginica       0          1        11"
            ]
          },
          "metadata": {}
        }
      ]
    },
    {
      "cell_type": "code",
      "source": [
        "CM\n",
        "accuracy"
      ],
      "metadata": {
        "colab": {
          "base_uri": "https://localhost:8080/",
          "height": 585
        },
        "id": "_qsprIFrfkJd",
        "outputId": "876bc138-554b-442a-a83b-8f8b9d10b6f0"
      },
      "execution_count": 21,
      "outputs": [
        {
          "output_type": "display_data",
          "data": {
            "text/plain": [
              "Confusion Matrix and Statistics\n",
              "\n",
              "            Reference\n",
              "Prediction   setosa versicolor virginica\n",
              "  setosa          3          0         0\n",
              "  versicolor      0          5         0\n",
              "  virginica       0          1        11\n",
              "\n",
              "Overall Statistics\n",
              "                                          \n",
              "               Accuracy : 0.95            \n",
              "                 95% CI : (0.7513, 0.9987)\n",
              "    No Information Rate : 0.55            \n",
              "    P-Value [Acc > NIR] : 0.0001114       \n",
              "                                          \n",
              "                  Kappa : 0.9127          \n",
              "                                          \n",
              " Mcnemar's Test P-Value : NA              \n",
              "\n",
              "Statistics by Class:\n",
              "\n",
              "                     Class: setosa Class: versicolor Class: virginica\n",
              "Sensitivity                   1.00            0.8333           1.0000\n",
              "Specificity                   1.00            1.0000           0.8889\n",
              "Pos Pred Value                1.00            1.0000           0.9167\n",
              "Neg Pred Value                1.00            0.9333           1.0000\n",
              "Prevalence                    0.15            0.3000           0.5500\n",
              "Detection Rate                0.15            0.2500           0.5500\n",
              "Detection Prevalence          0.15            0.2500           0.6000\n",
              "Balanced Accuracy             1.00            0.9167           0.9444"
            ]
          },
          "metadata": {}
        },
        {
          "output_type": "display_data",
          "data": {
            "text/html": [
              "<strong>Accuracy:</strong> 0.95"
            ],
            "text/markdown": "**Accuracy:** 0.95",
            "text/latex": "\\textbf{Accuracy:} 0.95",
            "text/plain": [
              "Accuracy \n",
              "    0.95 "
            ]
          },
          "metadata": {}
        }
      ]
    }
  ]
}