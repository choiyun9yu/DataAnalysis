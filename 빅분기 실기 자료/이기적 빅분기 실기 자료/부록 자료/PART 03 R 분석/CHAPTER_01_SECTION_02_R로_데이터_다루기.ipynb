{
  "nbformat": 4,
  "nbformat_minor": 0,
  "metadata": {
    "colab": {
      "name": "CHAPTER 01-SECTION 02 R로 데이터 다루기.ipynb",
      "provenance": []
    },
    "kernelspec": {
      "name": "ir",
      "display_name": "R"
    },
    "language_info": {
      "name": "R"
    }
  },
  "cells": [
    {
      "cell_type": "markdown",
      "source": [
        "PART 03 R 분석\n",
        "\n",
        "> CHAPTER 01 R 프로그래밍\n",
        "> >SECTION 02 R로 데이터 다루기\n",
        "> > >**01 데이터 가져오기와 내보내기**"
      ],
      "metadata": {
        "id": "5VIYNNYY97KZ"
      }
    },
    {
      "cell_type": "code",
      "execution_count": 50,
      "metadata": {
        "colab": {
          "base_uri": "https://localhost:8080/",
          "height": 412
        },
        "id": "u0PF5n7L93A4",
        "outputId": "d52ba99c-4458-4af3-c3ed-0a835283a9d9"
      },
      "outputs": [
        {
          "output_type": "display_data",
          "data": {
            "text/html": [
              "<table class=\"dataframe\">\n",
              "<caption>A data.frame: 10 × 5</caption>\n",
              "<thead>\n",
              "\t<tr><th scope=col>학번</th><th scope=col>중간</th><th scope=col>기말</th><th scope=col>리포트</th><th scope=col>퀴즈</th></tr>\n",
              "\t<tr><th scope=col>&lt;chr&gt;</th><th scope=col>&lt;int&gt;</th><th scope=col>&lt;int&gt;</th><th scope=col>&lt;int&gt;</th><th scope=col>&lt;int&gt;</th></tr>\n",
              "</thead>\n",
              "<tbody>\n",
              "\t<tr><td>S01</td><td>90</td><td>95</td><td>20</td><td>20</td></tr>\n",
              "\t<tr><td>S02</td><td>82</td><td>83</td><td>18</td><td>18</td></tr>\n",
              "\t<tr><td>S03</td><td>80</td><td>78</td><td>18</td><td>18</td></tr>\n",
              "\t<tr><td>S04</td><td>78</td><td>75</td><td>10</td><td>10</td></tr>\n",
              "\t<tr><td>S05</td><td>93</td><td>91</td><td>12</td><td>12</td></tr>\n",
              "\t<tr><td>S06</td><td>71</td><td>75</td><td>16</td><td>16</td></tr>\n",
              "\t<tr><td>S07</td><td>60</td><td>80</td><td>18</td><td>18</td></tr>\n",
              "\t<tr><td>S08</td><td>72</td><td>65</td><td>14</td><td>14</td></tr>\n",
              "\t<tr><td>S09</td><td>65</td><td>65</td><td>14</td><td>14</td></tr>\n",
              "\t<tr><td>S10</td><td>85</td><td>78</td><td>10</td><td>10</td></tr>\n",
              "</tbody>\n",
              "</table>\n"
            ],
            "text/markdown": "\nA data.frame: 10 × 5\n\n| 학번 &lt;chr&gt; | 중간 &lt;int&gt; | 기말 &lt;int&gt; | 리포트 &lt;int&gt; | 퀴즈 &lt;int&gt; |\n|---|---|---|---|---|\n| S01 | 90 | 95 | 20 | 20 |\n| S02 | 82 | 83 | 18 | 18 |\n| S03 | 80 | 78 | 18 | 18 |\n| S04 | 78 | 75 | 10 | 10 |\n| S05 | 93 | 91 | 12 | 12 |\n| S06 | 71 | 75 | 16 | 16 |\n| S07 | 60 | 80 | 18 | 18 |\n| S08 | 72 | 65 | 14 | 14 |\n| S09 | 65 | 65 | 14 | 14 |\n| S10 | 85 | 78 | 10 | 10 |\n\n",
            "text/latex": "A data.frame: 10 × 5\n\\begin{tabular}{lllll}\n 학번 & 중간 & 기말 & 리포트 & 퀴즈\\\\\n <chr> & <int> & <int> & <int> & <int>\\\\\n\\hline\n\t S01 & 90 & 95 & 20 & 20\\\\\n\t S02 & 82 & 83 & 18 & 18\\\\\n\t S03 & 80 & 78 & 18 & 18\\\\\n\t S04 & 78 & 75 & 10 & 10\\\\\n\t S05 & 93 & 91 & 12 & 12\\\\\n\t S06 & 71 & 75 & 16 & 16\\\\\n\t S07 & 60 & 80 & 18 & 18\\\\\n\t S08 & 72 & 65 & 14 & 14\\\\\n\t S09 & 65 & 65 & 14 & 14\\\\\n\t S10 & 85 & 78 & 10 & 10\\\\\n\\end{tabular}\n",
            "text/plain": [
              "   학번 중간 기말 리포트 퀴즈\n",
              "1  S01  90   95   20     20  \n",
              "2  S02  82   83   18     18  \n",
              "3  S03  80   78   18     18  \n",
              "4  S04  78   75   10     10  \n",
              "5  S05  93   91   12     12  \n",
              "6  S06  71   75   16     16  \n",
              "7  S07  60   80   18     18  \n",
              "8  S08  72   65   14     14  \n",
              "9  S09  65   65   14     14  \n",
              "10 S10  85   78   10     10  "
            ]
          },
          "metadata": {}
        }
      ],
      "source": [
        "df <- read.csv(\"sample_data/df_sample.csv\")\n",
        "df # 데이터프레임 보기"
      ]
    },
    {
      "cell_type": "code",
      "source": [
        "head(df, 3)    # df의 앞 3개 행 출력 "
      ],
      "metadata": {
        "colab": {
          "base_uri": "https://localhost:8080/",
          "height": 192
        },
        "id": "a7zOqwm9-sm7",
        "outputId": "262f2605-209b-4b80-e161-1d27c17f0f0d"
      },
      "execution_count": 51,
      "outputs": [
        {
          "output_type": "display_data",
          "data": {
            "text/html": [
              "<table class=\"dataframe\">\n",
              "<caption>A data.frame: 3 × 5</caption>\n",
              "<thead>\n",
              "\t<tr><th></th><th scope=col>학번</th><th scope=col>중간</th><th scope=col>기말</th><th scope=col>리포트</th><th scope=col>퀴즈</th></tr>\n",
              "\t<tr><th></th><th scope=col>&lt;chr&gt;</th><th scope=col>&lt;int&gt;</th><th scope=col>&lt;int&gt;</th><th scope=col>&lt;int&gt;</th><th scope=col>&lt;int&gt;</th></tr>\n",
              "</thead>\n",
              "<tbody>\n",
              "\t<tr><th scope=row>1</th><td>S01</td><td>90</td><td>95</td><td>20</td><td>20</td></tr>\n",
              "\t<tr><th scope=row>2</th><td>S02</td><td>82</td><td>83</td><td>18</td><td>18</td></tr>\n",
              "\t<tr><th scope=row>3</th><td>S03</td><td>80</td><td>78</td><td>18</td><td>18</td></tr>\n",
              "</tbody>\n",
              "</table>\n"
            ],
            "text/markdown": "\nA data.frame: 3 × 5\n\n| <!--/--> | 학번 &lt;chr&gt; | 중간 &lt;int&gt; | 기말 &lt;int&gt; | 리포트 &lt;int&gt; | 퀴즈 &lt;int&gt; |\n|---|---|---|---|---|---|\n| 1 | S01 | 90 | 95 | 20 | 20 |\n| 2 | S02 | 82 | 83 | 18 | 18 |\n| 3 | S03 | 80 | 78 | 18 | 18 |\n\n",
            "text/latex": "A data.frame: 3 × 5\n\\begin{tabular}{r|lllll}\n  & 학번 & 중간 & 기말 & 리포트 & 퀴즈\\\\\n  & <chr> & <int> & <int> & <int> & <int>\\\\\n\\hline\n\t1 & S01 & 90 & 95 & 20 & 20\\\\\n\t2 & S02 & 82 & 83 & 18 & 18\\\\\n\t3 & S03 & 80 & 78 & 18 & 18\\\\\n\\end{tabular}\n",
            "text/plain": [
              "  학번 중간 기말 리포트 퀴즈\n",
              "1 S01  90   95   20     20  \n",
              "2 S02  82   83   18     18  \n",
              "3 S03  80   78   18     18  "
            ]
          },
          "metadata": {}
        }
      ]
    },
    {
      "cell_type": "code",
      "source": [
        "tail(df, 3)     # df의 뒤 3개 행 출력"
      ],
      "metadata": {
        "colab": {
          "base_uri": "https://localhost:8080/",
          "height": 192
        },
        "id": "Q3cmGPlO-vvl",
        "outputId": "88fa5324-9c3c-41d8-a002-9cd6be77f1c9"
      },
      "execution_count": 52,
      "outputs": [
        {
          "output_type": "display_data",
          "data": {
            "text/html": [
              "<table class=\"dataframe\">\n",
              "<caption>A data.frame: 3 × 5</caption>\n",
              "<thead>\n",
              "\t<tr><th></th><th scope=col>학번</th><th scope=col>중간</th><th scope=col>기말</th><th scope=col>리포트</th><th scope=col>퀴즈</th></tr>\n",
              "\t<tr><th></th><th scope=col>&lt;chr&gt;</th><th scope=col>&lt;int&gt;</th><th scope=col>&lt;int&gt;</th><th scope=col>&lt;int&gt;</th><th scope=col>&lt;int&gt;</th></tr>\n",
              "</thead>\n",
              "<tbody>\n",
              "\t<tr><th scope=row>8</th><td>S08</td><td>72</td><td>65</td><td>14</td><td>14</td></tr>\n",
              "\t<tr><th scope=row>9</th><td>S09</td><td>65</td><td>65</td><td>14</td><td>14</td></tr>\n",
              "\t<tr><th scope=row>10</th><td>S10</td><td>85</td><td>78</td><td>10</td><td>10</td></tr>\n",
              "</tbody>\n",
              "</table>\n"
            ],
            "text/markdown": "\nA data.frame: 3 × 5\n\n| <!--/--> | 학번 &lt;chr&gt; | 중간 &lt;int&gt; | 기말 &lt;int&gt; | 리포트 &lt;int&gt; | 퀴즈 &lt;int&gt; |\n|---|---|---|---|---|---|\n| 8 | S08 | 72 | 65 | 14 | 14 |\n| 9 | S09 | 65 | 65 | 14 | 14 |\n| 10 | S10 | 85 | 78 | 10 | 10 |\n\n",
            "text/latex": "A data.frame: 3 × 5\n\\begin{tabular}{r|lllll}\n  & 학번 & 중간 & 기말 & 리포트 & 퀴즈\\\\\n  & <chr> & <int> & <int> & <int> & <int>\\\\\n\\hline\n\t8 & S08 & 72 & 65 & 14 & 14\\\\\n\t9 & S09 & 65 & 65 & 14 & 14\\\\\n\t10 & S10 & 85 & 78 & 10 & 10\\\\\n\\end{tabular}\n",
            "text/plain": [
              "   학번 중간 기말 리포트 퀴즈\n",
              "8  S08  72   65   14     14  \n",
              "9  S09  65   65   14     14  \n",
              "10 S10  85   78   10     10  "
            ]
          },
          "metadata": {}
        }
      ]
    },
    {
      "cell_type": "code",
      "source": [
        "str(df)"
      ],
      "metadata": {
        "colab": {
          "base_uri": "https://localhost:8080/"
        },
        "id": "lmkeTC3x-yfV",
        "outputId": "b1938b06-612a-48ac-de39-be4f0a0aba2d"
      },
      "execution_count": 53,
      "outputs": [
        {
          "output_type": "stream",
          "name": "stdout",
          "text": [
            "'data.frame':\t10 obs. of  5 variables:\n",
            " $ 학번  : chr  \"S01\" \"S02\" \"S03\" \"S04\" ...\n",
            " $ 중간  : int  90 82 80 78 93 71 60 72 65 85\n",
            " $ 기말  : int  95 83 78 75 91 75 80 65 65 78\n",
            " $ 리포트: int  20 18 18 10 12 16 18 14 14 10\n",
            " $ 퀴즈  : int  20 18 18 10 12 16 18 14 14 10\n"
          ]
        }
      ]
    },
    {
      "cell_type": "code",
      "source": [
        "summary(df)"
      ],
      "metadata": {
        "colab": {
          "base_uri": "https://localhost:8080/",
          "height": 274
        },
        "id": "3AWQG7w--02t",
        "outputId": "7a373eba-9152-4107-e00c-3e016bd26d2c"
      },
      "execution_count": 54,
      "outputs": [
        {
          "output_type": "display_data",
          "data": {
            "text/plain": [
              "     학번                중간            기말           리포트    \n",
              " Length:10          Min.   :60.00   Min.   :65.00   Min.   :10.0  \n",
              " Class :character   1st Qu.:71.25   1st Qu.:75.00   1st Qu.:12.5  \n",
              " Mode  :character   Median :79.00   Median :78.00   Median :15.0  \n",
              "                    Mean   :77.60   Mean   :78.50   Mean   :15.0  \n",
              "                    3rd Qu.:84.25   3rd Qu.:82.25   3rd Qu.:18.0  \n",
              "                    Max.   :93.00   Max.   :95.00   Max.   :20.0  \n",
              "      퀴즈     \n",
              " Min.   :10.0  \n",
              " 1st Qu.:12.5  \n",
              " Median :15.0  \n",
              " Mean   :15.0  \n",
              " 3rd Qu.:18.0  \n",
              " Max.   :20.0  "
            ]
          },
          "metadata": {}
        }
      ]
    },
    {
      "cell_type": "code",
      "source": [
        "dim(df)       # df의 차원을 출력\n",
        "nrow(df)      # df의 행 개수를 출력\n",
        "ncol(df)      # df의 열 개수를 출력\n",
        "length(df)    # df의 길이를 출력"
      ],
      "metadata": {
        "colab": {
          "base_uri": "https://localhost:8080/",
          "height": 86
        },
        "id": "KSSdVxWd-38s",
        "outputId": "8f366c56-fdd2-4203-e2b6-c1ee2a8ca506"
      },
      "execution_count": 55,
      "outputs": [
        {
          "output_type": "display_data",
          "data": {
            "text/html": [
              "<style>\n",
              ".list-inline {list-style: none; margin:0; padding: 0}\n",
              ".list-inline>li {display: inline-block}\n",
              ".list-inline>li:not(:last-child)::after {content: \"\\00b7\"; padding: 0 .5ex}\n",
              "</style>\n",
              "<ol class=list-inline><li>10</li><li>5</li></ol>\n"
            ],
            "text/markdown": "1. 10\n2. 5\n\n\n",
            "text/latex": "\\begin{enumerate*}\n\\item 10\n\\item 5\n\\end{enumerate*}\n",
            "text/plain": [
              "[1] 10  5"
            ]
          },
          "metadata": {}
        },
        {
          "output_type": "display_data",
          "data": {
            "text/html": [
              "10"
            ],
            "text/markdown": "10",
            "text/latex": "10",
            "text/plain": [
              "[1] 10"
            ]
          },
          "metadata": {}
        },
        {
          "output_type": "display_data",
          "data": {
            "text/html": [
              "5"
            ],
            "text/markdown": "5",
            "text/latex": "5",
            "text/plain": [
              "[1] 5"
            ]
          },
          "metadata": {}
        },
        {
          "output_type": "display_data",
          "data": {
            "text/html": [
              "5"
            ],
            "text/markdown": "5",
            "text/latex": "5",
            "text/plain": [
              "[1] 5"
            ]
          },
          "metadata": {}
        }
      ]
    },
    {
      "cell_type": "markdown",
      "source": [
        ">>>**03 데이터 조작**"
      ],
      "metadata": {
        "id": "ffeUq5ek-74X"
      }
    },
    {
      "cell_type": "code",
      "source": [
        "df1 <- head(df, 3)    # 데이터프레임 df의 앞 3개 행으로 df1 생성\n",
        "df2 <- tail(df, 3)    # 데이터프레임 df의 뒤 3개 행으로 df2 생성\n",
        "rbind(df1, df2)       # 행으로 결합\n",
        "cbind(df1, df2)       # 열로 결합"
      ],
      "metadata": {
        "colab": {
          "base_uri": "https://localhost:8080/",
          "height": 461
        },
        "id": "6kU5Ejxp---D",
        "outputId": "b6b7e6e4-be01-4a26-948d-1ad1309aa15c"
      },
      "execution_count": 56,
      "outputs": [
        {
          "output_type": "display_data",
          "data": {
            "text/html": [
              "<table class=\"dataframe\">\n",
              "<caption>A data.frame: 6 × 5</caption>\n",
              "<thead>\n",
              "\t<tr><th></th><th scope=col>학번</th><th scope=col>중간</th><th scope=col>기말</th><th scope=col>리포트</th><th scope=col>퀴즈</th></tr>\n",
              "\t<tr><th></th><th scope=col>&lt;chr&gt;</th><th scope=col>&lt;int&gt;</th><th scope=col>&lt;int&gt;</th><th scope=col>&lt;int&gt;</th><th scope=col>&lt;int&gt;</th></tr>\n",
              "</thead>\n",
              "<tbody>\n",
              "\t<tr><th scope=row>1</th><td>S01</td><td>90</td><td>95</td><td>20</td><td>20</td></tr>\n",
              "\t<tr><th scope=row>2</th><td>S02</td><td>82</td><td>83</td><td>18</td><td>18</td></tr>\n",
              "\t<tr><th scope=row>3</th><td>S03</td><td>80</td><td>78</td><td>18</td><td>18</td></tr>\n",
              "\t<tr><th scope=row>8</th><td>S08</td><td>72</td><td>65</td><td>14</td><td>14</td></tr>\n",
              "\t<tr><th scope=row>9</th><td>S09</td><td>65</td><td>65</td><td>14</td><td>14</td></tr>\n",
              "\t<tr><th scope=row>10</th><td>S10</td><td>85</td><td>78</td><td>10</td><td>10</td></tr>\n",
              "</tbody>\n",
              "</table>\n"
            ],
            "text/markdown": "\nA data.frame: 6 × 5\n\n| <!--/--> | 학번 &lt;chr&gt; | 중간 &lt;int&gt; | 기말 &lt;int&gt; | 리포트 &lt;int&gt; | 퀴즈 &lt;int&gt; |\n|---|---|---|---|---|---|\n| 1 | S01 | 90 | 95 | 20 | 20 |\n| 2 | S02 | 82 | 83 | 18 | 18 |\n| 3 | S03 | 80 | 78 | 18 | 18 |\n| 8 | S08 | 72 | 65 | 14 | 14 |\n| 9 | S09 | 65 | 65 | 14 | 14 |\n| 10 | S10 | 85 | 78 | 10 | 10 |\n\n",
            "text/latex": "A data.frame: 6 × 5\n\\begin{tabular}{r|lllll}\n  & 학번 & 중간 & 기말 & 리포트 & 퀴즈\\\\\n  & <chr> & <int> & <int> & <int> & <int>\\\\\n\\hline\n\t1 & S01 & 90 & 95 & 20 & 20\\\\\n\t2 & S02 & 82 & 83 & 18 & 18\\\\\n\t3 & S03 & 80 & 78 & 18 & 18\\\\\n\t8 & S08 & 72 & 65 & 14 & 14\\\\\n\t9 & S09 & 65 & 65 & 14 & 14\\\\\n\t10 & S10 & 85 & 78 & 10 & 10\\\\\n\\end{tabular}\n",
            "text/plain": [
              "   학번 중간 기말 리포트 퀴즈\n",
              "1  S01  90   95   20     20  \n",
              "2  S02  82   83   18     18  \n",
              "3  S03  80   78   18     18  \n",
              "8  S08  72   65   14     14  \n",
              "9  S09  65   65   14     14  \n",
              "10 S10  85   78   10     10  "
            ]
          },
          "metadata": {}
        },
        {
          "output_type": "display_data",
          "data": {
            "text/html": [
              "<table class=\"dataframe\">\n",
              "<caption>A data.frame: 3 × 10</caption>\n",
              "<thead>\n",
              "\t<tr><th></th><th scope=col>학번</th><th scope=col>중간</th><th scope=col>기말</th><th scope=col>리포트</th><th scope=col>퀴즈</th><th scope=col>학번</th><th scope=col>중간</th><th scope=col>기말</th><th scope=col>리포트</th><th scope=col>퀴즈</th></tr>\n",
              "\t<tr><th></th><th scope=col>&lt;chr&gt;</th><th scope=col>&lt;int&gt;</th><th scope=col>&lt;int&gt;</th><th scope=col>&lt;int&gt;</th><th scope=col>&lt;int&gt;</th><th scope=col>&lt;chr&gt;</th><th scope=col>&lt;int&gt;</th><th scope=col>&lt;int&gt;</th><th scope=col>&lt;int&gt;</th><th scope=col>&lt;int&gt;</th></tr>\n",
              "</thead>\n",
              "<tbody>\n",
              "\t<tr><th scope=row>1</th><td>S01</td><td>90</td><td>95</td><td>20</td><td>20</td><td>S08</td><td>72</td><td>65</td><td>14</td><td>14</td></tr>\n",
              "\t<tr><th scope=row>2</th><td>S02</td><td>82</td><td>83</td><td>18</td><td>18</td><td>S09</td><td>65</td><td>65</td><td>14</td><td>14</td></tr>\n",
              "\t<tr><th scope=row>3</th><td>S03</td><td>80</td><td>78</td><td>18</td><td>18</td><td>S10</td><td>85</td><td>78</td><td>10</td><td>10</td></tr>\n",
              "</tbody>\n",
              "</table>\n"
            ],
            "text/markdown": "\nA data.frame: 3 × 10\n\n| <!--/--> | 학번 &lt;chr&gt; | 중간 &lt;int&gt; | 기말 &lt;int&gt; | 리포트 &lt;int&gt; | 퀴즈 &lt;int&gt; | 학번 &lt;chr&gt; | 중간 &lt;int&gt; | 기말 &lt;int&gt; | 리포트 &lt;int&gt; | 퀴즈 &lt;int&gt; |\n|---|---|---|---|---|---|---|---|---|---|---|\n| 1 | S01 | 90 | 95 | 20 | 20 | S08 | 72 | 65 | 14 | 14 |\n| 2 | S02 | 82 | 83 | 18 | 18 | S09 | 65 | 65 | 14 | 14 |\n| 3 | S03 | 80 | 78 | 18 | 18 | S10 | 85 | 78 | 10 | 10 |\n\n",
            "text/latex": "A data.frame: 3 × 10\n\\begin{tabular}{r|llllllllll}\n  & 학번 & 중간 & 기말 & 리포트 & 퀴즈 & 학번 & 중간 & 기말 & 리포트 & 퀴즈\\\\\n  & <chr> & <int> & <int> & <int> & <int> & <chr> & <int> & <int> & <int> & <int>\\\\\n\\hline\n\t1 & S01 & 90 & 95 & 20 & 20 & S08 & 72 & 65 & 14 & 14\\\\\n\t2 & S02 & 82 & 83 & 18 & 18 & S09 & 65 & 65 & 14 & 14\\\\\n\t3 & S03 & 80 & 78 & 18 & 18 & S10 & 85 & 78 & 10 & 10\\\\\n\\end{tabular}\n",
            "text/plain": [
              "  학번 중간 기말 리포트 퀴즈 학번 중간 기말 리포트 퀴즈\n",
              "1 S01  90   95   20     20   S08  72   65   14     14  \n",
              "2 S02  82   83   18     18   S09  65   65   14     14  \n",
              "3 S03  80   78   18     18   S10  85   78   10     10  "
            ]
          },
          "metadata": {}
        }
      ]
    },
    {
      "cell_type": "code",
      "source": [
        "split(df, df$퀴즈)      # 동일한 퀴즈 점수를 가진 행들로 데이터프레임을 분리"
      ],
      "metadata": {
        "colab": {
          "base_uri": "https://localhost:8080/",
          "height": 949
        },
        "id": "j7cJ4K-X_Fug",
        "outputId": "30bfa80e-3fe9-4e0d-b77e-eb7d4efad9e8"
      },
      "execution_count": 57,
      "outputs": [
        {
          "output_type": "display_data",
          "data": {
            "text/html": [
              "<dl>\n",
              "\t<dt>$`10`</dt>\n",
              "\t\t<dd><table class=\"dataframe\">\n",
              "<caption>A data.frame: 2 × 5</caption>\n",
              "<thead>\n",
              "\t<tr><th></th><th scope=col>학번</th><th scope=col>중간</th><th scope=col>기말</th><th scope=col>리포트</th><th scope=col>퀴즈</th></tr>\n",
              "\t<tr><th></th><th scope=col>&lt;chr&gt;</th><th scope=col>&lt;int&gt;</th><th scope=col>&lt;int&gt;</th><th scope=col>&lt;int&gt;</th><th scope=col>&lt;int&gt;</th></tr>\n",
              "</thead>\n",
              "<tbody>\n",
              "\t<tr><th scope=row>4</th><td>S04</td><td>78</td><td>75</td><td>10</td><td>10</td></tr>\n",
              "\t<tr><th scope=row>10</th><td>S10</td><td>85</td><td>78</td><td>10</td><td>10</td></tr>\n",
              "</tbody>\n",
              "</table>\n",
              "</dd>\n",
              "\t<dt>$`12`</dt>\n",
              "\t\t<dd><table class=\"dataframe\">\n",
              "<caption>A data.frame: 1 × 5</caption>\n",
              "<thead>\n",
              "\t<tr><th></th><th scope=col>학번</th><th scope=col>중간</th><th scope=col>기말</th><th scope=col>리포트</th><th scope=col>퀴즈</th></tr>\n",
              "\t<tr><th></th><th scope=col>&lt;chr&gt;</th><th scope=col>&lt;int&gt;</th><th scope=col>&lt;int&gt;</th><th scope=col>&lt;int&gt;</th><th scope=col>&lt;int&gt;</th></tr>\n",
              "</thead>\n",
              "<tbody>\n",
              "\t<tr><th scope=row>5</th><td>S05</td><td>93</td><td>91</td><td>12</td><td>12</td></tr>\n",
              "</tbody>\n",
              "</table>\n",
              "</dd>\n",
              "\t<dt>$`14`</dt>\n",
              "\t\t<dd><table class=\"dataframe\">\n",
              "<caption>A data.frame: 2 × 5</caption>\n",
              "<thead>\n",
              "\t<tr><th></th><th scope=col>학번</th><th scope=col>중간</th><th scope=col>기말</th><th scope=col>리포트</th><th scope=col>퀴즈</th></tr>\n",
              "\t<tr><th></th><th scope=col>&lt;chr&gt;</th><th scope=col>&lt;int&gt;</th><th scope=col>&lt;int&gt;</th><th scope=col>&lt;int&gt;</th><th scope=col>&lt;int&gt;</th></tr>\n",
              "</thead>\n",
              "<tbody>\n",
              "\t<tr><th scope=row>8</th><td>S08</td><td>72</td><td>65</td><td>14</td><td>14</td></tr>\n",
              "\t<tr><th scope=row>9</th><td>S09</td><td>65</td><td>65</td><td>14</td><td>14</td></tr>\n",
              "</tbody>\n",
              "</table>\n",
              "</dd>\n",
              "\t<dt>$`16`</dt>\n",
              "\t\t<dd><table class=\"dataframe\">\n",
              "<caption>A data.frame: 1 × 5</caption>\n",
              "<thead>\n",
              "\t<tr><th></th><th scope=col>학번</th><th scope=col>중간</th><th scope=col>기말</th><th scope=col>리포트</th><th scope=col>퀴즈</th></tr>\n",
              "\t<tr><th></th><th scope=col>&lt;chr&gt;</th><th scope=col>&lt;int&gt;</th><th scope=col>&lt;int&gt;</th><th scope=col>&lt;int&gt;</th><th scope=col>&lt;int&gt;</th></tr>\n",
              "</thead>\n",
              "<tbody>\n",
              "\t<tr><th scope=row>6</th><td>S06</td><td>71</td><td>75</td><td>16</td><td>16</td></tr>\n",
              "</tbody>\n",
              "</table>\n",
              "</dd>\n",
              "\t<dt>$`18`</dt>\n",
              "\t\t<dd><table class=\"dataframe\">\n",
              "<caption>A data.frame: 3 × 5</caption>\n",
              "<thead>\n",
              "\t<tr><th></th><th scope=col>학번</th><th scope=col>중간</th><th scope=col>기말</th><th scope=col>리포트</th><th scope=col>퀴즈</th></tr>\n",
              "\t<tr><th></th><th scope=col>&lt;chr&gt;</th><th scope=col>&lt;int&gt;</th><th scope=col>&lt;int&gt;</th><th scope=col>&lt;int&gt;</th><th scope=col>&lt;int&gt;</th></tr>\n",
              "</thead>\n",
              "<tbody>\n",
              "\t<tr><th scope=row>2</th><td>S02</td><td>82</td><td>83</td><td>18</td><td>18</td></tr>\n",
              "\t<tr><th scope=row>3</th><td>S03</td><td>80</td><td>78</td><td>18</td><td>18</td></tr>\n",
              "\t<tr><th scope=row>7</th><td>S07</td><td>60</td><td>80</td><td>18</td><td>18</td></tr>\n",
              "</tbody>\n",
              "</table>\n",
              "</dd>\n",
              "\t<dt>$`20`</dt>\n",
              "\t\t<dd><table class=\"dataframe\">\n",
              "<caption>A data.frame: 1 × 5</caption>\n",
              "<thead>\n",
              "\t<tr><th></th><th scope=col>학번</th><th scope=col>중간</th><th scope=col>기말</th><th scope=col>리포트</th><th scope=col>퀴즈</th></tr>\n",
              "\t<tr><th></th><th scope=col>&lt;chr&gt;</th><th scope=col>&lt;int&gt;</th><th scope=col>&lt;int&gt;</th><th scope=col>&lt;int&gt;</th><th scope=col>&lt;int&gt;</th></tr>\n",
              "</thead>\n",
              "<tbody>\n",
              "\t<tr><th scope=row>1</th><td>S01</td><td>90</td><td>95</td><td>20</td><td>20</td></tr>\n",
              "</tbody>\n",
              "</table>\n",
              "</dd>\n",
              "</dl>\n"
            ],
            "text/markdown": "$`10`\n:   \nA data.frame: 2 × 5\n\n| <!--/--> | 학번 &lt;chr&gt; | 중간 &lt;int&gt; | 기말 &lt;int&gt; | 리포트 &lt;int&gt; | 퀴즈 &lt;int&gt; |\n|---|---|---|---|---|---|\n| 4 | S04 | 78 | 75 | 10 | 10 |\n| 10 | S10 | 85 | 78 | 10 | 10 |\n\n\n$`12`\n:   \nA data.frame: 1 × 5\n\n| <!--/--> | 학번 &lt;chr&gt; | 중간 &lt;int&gt; | 기말 &lt;int&gt; | 리포트 &lt;int&gt; | 퀴즈 &lt;int&gt; |\n|---|---|---|---|---|---|\n| 5 | S05 | 93 | 91 | 12 | 12 |\n\n\n$`14`\n:   \nA data.frame: 2 × 5\n\n| <!--/--> | 학번 &lt;chr&gt; | 중간 &lt;int&gt; | 기말 &lt;int&gt; | 리포트 &lt;int&gt; | 퀴즈 &lt;int&gt; |\n|---|---|---|---|---|---|\n| 8 | S08 | 72 | 65 | 14 | 14 |\n| 9 | S09 | 65 | 65 | 14 | 14 |\n\n\n$`16`\n:   \nA data.frame: 1 × 5\n\n| <!--/--> | 학번 &lt;chr&gt; | 중간 &lt;int&gt; | 기말 &lt;int&gt; | 리포트 &lt;int&gt; | 퀴즈 &lt;int&gt; |\n|---|---|---|---|---|---|\n| 6 | S06 | 71 | 75 | 16 | 16 |\n\n\n$`18`\n:   \nA data.frame: 3 × 5\n\n| <!--/--> | 학번 &lt;chr&gt; | 중간 &lt;int&gt; | 기말 &lt;int&gt; | 리포트 &lt;int&gt; | 퀴즈 &lt;int&gt; |\n|---|---|---|---|---|---|\n| 2 | S02 | 82 | 83 | 18 | 18 |\n| 3 | S03 | 80 | 78 | 18 | 18 |\n| 7 | S07 | 60 | 80 | 18 | 18 |\n\n\n$`20`\n:   \nA data.frame: 1 × 5\n\n| <!--/--> | 학번 &lt;chr&gt; | 중간 &lt;int&gt; | 기말 &lt;int&gt; | 리포트 &lt;int&gt; | 퀴즈 &lt;int&gt; |\n|---|---|---|---|---|---|\n| 1 | S01 | 90 | 95 | 20 | 20 |\n\n\n\n\n",
            "text/latex": "\\begin{description}\n\\item[\\$`10`] A data.frame: 2 × 5\n\\begin{tabular}{r|lllll}\n  & 학번 & 중간 & 기말 & 리포트 & 퀴즈\\\\\n  & <chr> & <int> & <int> & <int> & <int>\\\\\n\\hline\n\t4 & S04 & 78 & 75 & 10 & 10\\\\\n\t10 & S10 & 85 & 78 & 10 & 10\\\\\n\\end{tabular}\n\n\\item[\\$`12`] A data.frame: 1 × 5\n\\begin{tabular}{r|lllll}\n  & 학번 & 중간 & 기말 & 리포트 & 퀴즈\\\\\n  & <chr> & <int> & <int> & <int> & <int>\\\\\n\\hline\n\t5 & S05 & 93 & 91 & 12 & 12\\\\\n\\end{tabular}\n\n\\item[\\$`14`] A data.frame: 2 × 5\n\\begin{tabular}{r|lllll}\n  & 학번 & 중간 & 기말 & 리포트 & 퀴즈\\\\\n  & <chr> & <int> & <int> & <int> & <int>\\\\\n\\hline\n\t8 & S08 & 72 & 65 & 14 & 14\\\\\n\t9 & S09 & 65 & 65 & 14 & 14\\\\\n\\end{tabular}\n\n\\item[\\$`16`] A data.frame: 1 × 5\n\\begin{tabular}{r|lllll}\n  & 학번 & 중간 & 기말 & 리포트 & 퀴즈\\\\\n  & <chr> & <int> & <int> & <int> & <int>\\\\\n\\hline\n\t6 & S06 & 71 & 75 & 16 & 16\\\\\n\\end{tabular}\n\n\\item[\\$`18`] A data.frame: 3 × 5\n\\begin{tabular}{r|lllll}\n  & 학번 & 중간 & 기말 & 리포트 & 퀴즈\\\\\n  & <chr> & <int> & <int> & <int> & <int>\\\\\n\\hline\n\t2 & S02 & 82 & 83 & 18 & 18\\\\\n\t3 & S03 & 80 & 78 & 18 & 18\\\\\n\t7 & S07 & 60 & 80 & 18 & 18\\\\\n\\end{tabular}\n\n\\item[\\$`20`] A data.frame: 1 × 5\n\\begin{tabular}{r|lllll}\n  & 학번 & 중간 & 기말 & 리포트 & 퀴즈\\\\\n  & <chr> & <int> & <int> & <int> & <int>\\\\\n\\hline\n\t1 & S01 & 90 & 95 & 20 & 20\\\\\n\\end{tabular}\n\n\\end{description}\n",
            "text/plain": [
              "$`10`\n",
              "   학번 중간 기말 리포트 퀴즈\n",
              "4   S04   78   75     10   10\n",
              "10  S10   85   78     10   10\n",
              "\n",
              "$`12`\n",
              "  학번 중간 기말 리포트 퀴즈\n",
              "5  S05   93   91     12   12\n",
              "\n",
              "$`14`\n",
              "  학번 중간 기말 리포트 퀴즈\n",
              "8  S08   72   65     14   14\n",
              "9  S09   65   65     14   14\n",
              "\n",
              "$`16`\n",
              "  학번 중간 기말 리포트 퀴즈\n",
              "6  S06   71   75     16   16\n",
              "\n",
              "$`18`\n",
              "  학번 중간 기말 리포트 퀴즈\n",
              "2  S02   82   83     18   18\n",
              "3  S03   80   78     18   18\n",
              "7  S07   60   80     18   18\n",
              "\n",
              "$`20`\n",
              "  학번 중간 기말 리포트 퀴즈\n",
              "1  S01   90   95     20   20\n"
            ]
          },
          "metadata": {}
        }
      ]
    },
    {
      "cell_type": "code",
      "source": [
        "# 데이터프레임 df에서 중간고사 점수가 90점 이상인 행을 선택\n",
        "subset(df, 중간 >= 90, select = c(\"학번\",\"중간\",\"기말\"))"
      ],
      "metadata": {
        "colab": {
          "base_uri": "https://localhost:8080/",
          "height": 161
        },
        "id": "-bnlrEkR_IgH",
        "outputId": "a9d9367d-f10e-4185-9a48-da1019ad3c15"
      },
      "execution_count": 58,
      "outputs": [
        {
          "output_type": "display_data",
          "data": {
            "text/html": [
              "<table class=\"dataframe\">\n",
              "<caption>A data.frame: 2 × 3</caption>\n",
              "<thead>\n",
              "\t<tr><th></th><th scope=col>학번</th><th scope=col>중간</th><th scope=col>기말</th></tr>\n",
              "\t<tr><th></th><th scope=col>&lt;chr&gt;</th><th scope=col>&lt;int&gt;</th><th scope=col>&lt;int&gt;</th></tr>\n",
              "</thead>\n",
              "<tbody>\n",
              "\t<tr><th scope=row>1</th><td>S01</td><td>90</td><td>95</td></tr>\n",
              "\t<tr><th scope=row>5</th><td>S05</td><td>93</td><td>91</td></tr>\n",
              "</tbody>\n",
              "</table>\n"
            ],
            "text/markdown": "\nA data.frame: 2 × 3\n\n| <!--/--> | 학번 &lt;chr&gt; | 중간 &lt;int&gt; | 기말 &lt;int&gt; |\n|---|---|---|---|\n| 1 | S01 | 90 | 95 |\n| 5 | S05 | 93 | 91 |\n\n",
            "text/latex": "A data.frame: 2 × 3\n\\begin{tabular}{r|lll}\n  & 학번 & 중간 & 기말\\\\\n  & <chr> & <int> & <int>\\\\\n\\hline\n\t1 & S01 & 90 & 95\\\\\n\t5 & S05 & 93 & 91\\\\\n\\end{tabular}\n",
            "text/plain": [
              "  학번 중간 기말\n",
              "1 S01  90   95  \n",
              "5 S05  93   91  "
            ]
          },
          "metadata": {}
        }
      ]
    },
    {
      "cell_type": "code",
      "source": [
        "substr(df$학번, 2, 3)       # 학번열 데이터값의 2번째 위치부터 3번째 위치까지 문자열 선택"
      ],
      "metadata": {
        "colab": {
          "base_uri": "https://localhost:8080/",
          "height": 34
        },
        "id": "pOH5MbCKGAbs",
        "outputId": "3001f4e8-2d1d-4b01-dee8-6d734f4bdfc8"
      },
      "execution_count": 59,
      "outputs": [
        {
          "output_type": "display_data",
          "data": {
            "text/html": [
              "<style>\n",
              ".list-inline {list-style: none; margin:0; padding: 0}\n",
              ".list-inline>li {display: inline-block}\n",
              ".list-inline>li:not(:last-child)::after {content: \"\\00b7\"; padding: 0 .5ex}\n",
              "</style>\n",
              "<ol class=list-inline><li>'01'</li><li>'02'</li><li>'03'</li><li>'04'</li><li>'05'</li><li>'06'</li><li>'07'</li><li>'08'</li><li>'09'</li><li>'10'</li></ol>\n"
            ],
            "text/markdown": "1. '01'\n2. '02'\n3. '03'\n4. '04'\n5. '05'\n6. '06'\n7. '07'\n8. '08'\n9. '09'\n10. '10'\n\n\n",
            "text/latex": "\\begin{enumerate*}\n\\item '01'\n\\item '02'\n\\item '03'\n\\item '04'\n\\item '05'\n\\item '06'\n\\item '07'\n\\item '08'\n\\item '09'\n\\item '10'\n\\end{enumerate*}\n",
            "text/plain": [
              " [1] \"01\" \"02\" \"03\" \"04\" \"05\" \"06\" \"07\" \"08\" \"09\" \"10\""
            ]
          },
          "metadata": {}
        }
      ]
    },
    {
      "cell_type": "code",
      "source": [
        "df1 = subset(df, TRUE, select = c(\"학번\", \"중간\"))    # 학번, 중간 열의 모든 데이터 선택\n",
        "df2 = subset(df, TRUE, select = c(\"학번\", \"기말\"))    # 학번, 기말 열의 모든 데이터 선택\n",
        "merge(df1, df2)             # 공통열(학번)을 기준으로 데이터 병합"
      ],
      "metadata": {
        "colab": {
          "base_uri": "https://localhost:8080/",
          "height": 412
        },
        "id": "e8029siVGEzU",
        "outputId": "45c7be16-04ec-4ce1-c5d0-427969420d96"
      },
      "execution_count": 60,
      "outputs": [
        {
          "output_type": "display_data",
          "data": {
            "text/html": [
              "<table class=\"dataframe\">\n",
              "<caption>A data.frame: 10 × 3</caption>\n",
              "<thead>\n",
              "\t<tr><th scope=col>학번</th><th scope=col>중간</th><th scope=col>기말</th></tr>\n",
              "\t<tr><th scope=col>&lt;chr&gt;</th><th scope=col>&lt;int&gt;</th><th scope=col>&lt;int&gt;</th></tr>\n",
              "</thead>\n",
              "<tbody>\n",
              "\t<tr><td>S01</td><td>90</td><td>95</td></tr>\n",
              "\t<tr><td>S02</td><td>82</td><td>83</td></tr>\n",
              "\t<tr><td>S03</td><td>80</td><td>78</td></tr>\n",
              "\t<tr><td>S04</td><td>78</td><td>75</td></tr>\n",
              "\t<tr><td>S05</td><td>93</td><td>91</td></tr>\n",
              "\t<tr><td>S06</td><td>71</td><td>75</td></tr>\n",
              "\t<tr><td>S07</td><td>60</td><td>80</td></tr>\n",
              "\t<tr><td>S08</td><td>72</td><td>65</td></tr>\n",
              "\t<tr><td>S09</td><td>65</td><td>65</td></tr>\n",
              "\t<tr><td>S10</td><td>85</td><td>78</td></tr>\n",
              "</tbody>\n",
              "</table>\n"
            ],
            "text/markdown": "\nA data.frame: 10 × 3\n\n| 학번 &lt;chr&gt; | 중간 &lt;int&gt; | 기말 &lt;int&gt; |\n|---|---|---|\n| S01 | 90 | 95 |\n| S02 | 82 | 83 |\n| S03 | 80 | 78 |\n| S04 | 78 | 75 |\n| S05 | 93 | 91 |\n| S06 | 71 | 75 |\n| S07 | 60 | 80 |\n| S08 | 72 | 65 |\n| S09 | 65 | 65 |\n| S10 | 85 | 78 |\n\n",
            "text/latex": "A data.frame: 10 × 3\n\\begin{tabular}{lll}\n 학번 & 중간 & 기말\\\\\n <chr> & <int> & <int>\\\\\n\\hline\n\t S01 & 90 & 95\\\\\n\t S02 & 82 & 83\\\\\n\t S03 & 80 & 78\\\\\n\t S04 & 78 & 75\\\\\n\t S05 & 93 & 91\\\\\n\t S06 & 71 & 75\\\\\n\t S07 & 60 & 80\\\\\n\t S08 & 72 & 65\\\\\n\t S09 & 65 & 65\\\\\n\t S10 & 85 & 78\\\\\n\\end{tabular}\n",
            "text/plain": [
              "   학번 중간 기말\n",
              "1  S01  90   95  \n",
              "2  S02  82   83  \n",
              "3  S03  80   78  \n",
              "4  S04  78   75  \n",
              "5  S05  93   91  \n",
              "6  S06  71   75  \n",
              "7  S07  60   80  \n",
              "8  S08  72   65  \n",
              "9  S09  65   65  \n",
              "10 S10  85   78  "
            ]
          },
          "metadata": {}
        }
      ]
    },
    {
      "cell_type": "code",
      "source": [
        "sort(df$중간, decreasing = TRUE)    # TRUE는 내림차순, FALSE는 오름차순(기본값)"
      ],
      "metadata": {
        "colab": {
          "base_uri": "https://localhost:8080/",
          "height": 34
        },
        "id": "VdQyLDC4GMhe",
        "outputId": "2bbf223c-74dd-4e2c-8264-7beea931f969"
      },
      "execution_count": 61,
      "outputs": [
        {
          "output_type": "display_data",
          "data": {
            "text/html": [
              "<style>\n",
              ".list-inline {list-style: none; margin:0; padding: 0}\n",
              ".list-inline>li {display: inline-block}\n",
              ".list-inline>li:not(:last-child)::after {content: \"\\00b7\"; padding: 0 .5ex}\n",
              "</style>\n",
              "<ol class=list-inline><li>93</li><li>90</li><li>85</li><li>82</li><li>80</li><li>78</li><li>72</li><li>71</li><li>65</li><li>60</li></ol>\n"
            ],
            "text/markdown": "1. 93\n2. 90\n3. 85\n4. 82\n5. 80\n6. 78\n7. 72\n8. 71\n9. 65\n10. 60\n\n\n",
            "text/latex": "\\begin{enumerate*}\n\\item 93\n\\item 90\n\\item 85\n\\item 82\n\\item 80\n\\item 78\n\\item 72\n\\item 71\n\\item 65\n\\item 60\n\\end{enumerate*}\n",
            "text/plain": [
              " [1] 93 90 85 82 80 78 72 71 65 60"
            ]
          },
          "metadata": {}
        }
      ]
    },
    {
      "cell_type": "code",
      "source": [
        "order(df$중간, decreasing = TRUE)         # 중간 점수로 정렬했을 때의 순서(위치)를 반환\n",
        "df[order(df$중간, decreasing = TRUE),]    # 중간 점수로 df를 정렬"
      ],
      "metadata": {
        "colab": {
          "base_uri": "https://localhost:8080/",
          "height": 429
        },
        "id": "KCo9FUonGP9X",
        "outputId": "b39c2726-0eb1-48a8-c4e8-ae344bcb527d"
      },
      "execution_count": 62,
      "outputs": [
        {
          "output_type": "display_data",
          "data": {
            "text/html": [
              "<style>\n",
              ".list-inline {list-style: none; margin:0; padding: 0}\n",
              ".list-inline>li {display: inline-block}\n",
              ".list-inline>li:not(:last-child)::after {content: \"\\00b7\"; padding: 0 .5ex}\n",
              "</style>\n",
              "<ol class=list-inline><li>5</li><li>1</li><li>10</li><li>2</li><li>3</li><li>4</li><li>8</li><li>6</li><li>9</li><li>7</li></ol>\n"
            ],
            "text/markdown": "1. 5\n2. 1\n3. 10\n4. 2\n5. 3\n6. 4\n7. 8\n8. 6\n9. 9\n10. 7\n\n\n",
            "text/latex": "\\begin{enumerate*}\n\\item 5\n\\item 1\n\\item 10\n\\item 2\n\\item 3\n\\item 4\n\\item 8\n\\item 6\n\\item 9\n\\item 7\n\\end{enumerate*}\n",
            "text/plain": [
              " [1]  5  1 10  2  3  4  8  6  9  7"
            ]
          },
          "metadata": {}
        },
        {
          "output_type": "display_data",
          "data": {
            "text/html": [
              "<table class=\"dataframe\">\n",
              "<caption>A data.frame: 10 × 5</caption>\n",
              "<thead>\n",
              "\t<tr><th></th><th scope=col>학번</th><th scope=col>중간</th><th scope=col>기말</th><th scope=col>리포트</th><th scope=col>퀴즈</th></tr>\n",
              "\t<tr><th></th><th scope=col>&lt;chr&gt;</th><th scope=col>&lt;int&gt;</th><th scope=col>&lt;int&gt;</th><th scope=col>&lt;int&gt;</th><th scope=col>&lt;int&gt;</th></tr>\n",
              "</thead>\n",
              "<tbody>\n",
              "\t<tr><th scope=row>5</th><td>S05</td><td>93</td><td>91</td><td>12</td><td>12</td></tr>\n",
              "\t<tr><th scope=row>1</th><td>S01</td><td>90</td><td>95</td><td>20</td><td>20</td></tr>\n",
              "\t<tr><th scope=row>10</th><td>S10</td><td>85</td><td>78</td><td>10</td><td>10</td></tr>\n",
              "\t<tr><th scope=row>2</th><td>S02</td><td>82</td><td>83</td><td>18</td><td>18</td></tr>\n",
              "\t<tr><th scope=row>3</th><td>S03</td><td>80</td><td>78</td><td>18</td><td>18</td></tr>\n",
              "\t<tr><th scope=row>4</th><td>S04</td><td>78</td><td>75</td><td>10</td><td>10</td></tr>\n",
              "\t<tr><th scope=row>8</th><td>S08</td><td>72</td><td>65</td><td>14</td><td>14</td></tr>\n",
              "\t<tr><th scope=row>6</th><td>S06</td><td>71</td><td>75</td><td>16</td><td>16</td></tr>\n",
              "\t<tr><th scope=row>9</th><td>S09</td><td>65</td><td>65</td><td>14</td><td>14</td></tr>\n",
              "\t<tr><th scope=row>7</th><td>S07</td><td>60</td><td>80</td><td>18</td><td>18</td></tr>\n",
              "</tbody>\n",
              "</table>\n"
            ],
            "text/markdown": "\nA data.frame: 10 × 5\n\n| <!--/--> | 학번 &lt;chr&gt; | 중간 &lt;int&gt; | 기말 &lt;int&gt; | 리포트 &lt;int&gt; | 퀴즈 &lt;int&gt; |\n|---|---|---|---|---|---|\n| 5 | S05 | 93 | 91 | 12 | 12 |\n| 1 | S01 | 90 | 95 | 20 | 20 |\n| 10 | S10 | 85 | 78 | 10 | 10 |\n| 2 | S02 | 82 | 83 | 18 | 18 |\n| 3 | S03 | 80 | 78 | 18 | 18 |\n| 4 | S04 | 78 | 75 | 10 | 10 |\n| 8 | S08 | 72 | 65 | 14 | 14 |\n| 6 | S06 | 71 | 75 | 16 | 16 |\n| 9 | S09 | 65 | 65 | 14 | 14 |\n| 7 | S07 | 60 | 80 | 18 | 18 |\n\n",
            "text/latex": "A data.frame: 10 × 5\n\\begin{tabular}{r|lllll}\n  & 학번 & 중간 & 기말 & 리포트 & 퀴즈\\\\\n  & <chr> & <int> & <int> & <int> & <int>\\\\\n\\hline\n\t5 & S05 & 93 & 91 & 12 & 12\\\\\n\t1 & S01 & 90 & 95 & 20 & 20\\\\\n\t10 & S10 & 85 & 78 & 10 & 10\\\\\n\t2 & S02 & 82 & 83 & 18 & 18\\\\\n\t3 & S03 & 80 & 78 & 18 & 18\\\\\n\t4 & S04 & 78 & 75 & 10 & 10\\\\\n\t8 & S08 & 72 & 65 & 14 & 14\\\\\n\t6 & S06 & 71 & 75 & 16 & 16\\\\\n\t9 & S09 & 65 & 65 & 14 & 14\\\\\n\t7 & S07 & 60 & 80 & 18 & 18\\\\\n\\end{tabular}\n",
            "text/plain": [
              "   학번 중간 기말 리포트 퀴즈\n",
              "5  S05  93   91   12     12  \n",
              "1  S01  90   95   20     20  \n",
              "10 S10  85   78   10     10  \n",
              "2  S02  82   83   18     18  \n",
              "3  S03  80   78   18     18  \n",
              "4  S04  78   75   10     10  \n",
              "8  S08  72   65   14     14  \n",
              "6  S06  71   75   16     16  \n",
              "9  S09  65   65   14     14  \n",
              "7  S07  60   80   18     18  "
            ]
          },
          "metadata": {}
        }
      ]
    },
    {
      "cell_type": "code",
      "source": [
        "tapply(df$중간, df$퀴즈, mean)      # 동일한 퀴즈 점수를 가진 그룹별 중간점수의 평균 출력"
      ],
      "metadata": {
        "colab": {
          "base_uri": "https://localhost:8080/",
          "height": 34
        },
        "id": "9VUXaJmmGlGr",
        "outputId": "0c2c2bac-005b-487e-bd04-ad537e59f533"
      },
      "execution_count": 63,
      "outputs": [
        {
          "output_type": "display_data",
          "data": {
            "text/html": [
              "<style>\n",
              ".dl-inline {width: auto; margin:0; padding: 0}\n",
              ".dl-inline>dt, .dl-inline>dd {float: none; width: auto; display: inline-block}\n",
              ".dl-inline>dt::after {content: \":\\0020\"; padding-right: .5ex}\n",
              ".dl-inline>dt:not(:first-of-type) {padding-left: .5ex}\n",
              "</style><dl class=dl-inline><dt>10</dt><dd>81.5</dd><dt>12</dt><dd>93</dd><dt>14</dt><dd>68.5</dd><dt>16</dt><dd>71</dd><dt>18</dt><dd>74</dd><dt>20</dt><dd>90</dd></dl>\n"
            ],
            "text/markdown": "10\n:   81.512\n:   9314\n:   68.516\n:   7118\n:   7420\n:   90\n\n",
            "text/latex": "\\begin{description*}\n\\item[10] 81.5\n\\item[12] 93\n\\item[14] 68.5\n\\item[16] 71\n\\item[18] 74\n\\item[20] 90\n\\end{description*}\n",
            "text/plain": [
              "  10   12   14   16   18   20 \n",
              "81.5 93.0 68.5 71.0 74.0 90.0 "
            ]
          },
          "metadata": {}
        }
      ]
    },
    {
      "cell_type": "markdown",
      "source": [
        ">>>**04 디플라이어(dplyr) 패키지**"
      ],
      "metadata": {
        "id": "egOzOsTYGrEF"
      }
    },
    {
      "cell_type": "code",
      "source": [
        "library(dplyr)      # dplyr 패키지를 로드"
      ],
      "metadata": {
        "id": "mZLedwxaGuRZ"
      },
      "execution_count": 64,
      "outputs": []
    },
    {
      "cell_type": "code",
      "source": [
        "df %>% count()      # df의 데이터를 count() 함수로 전달"
      ],
      "metadata": {
        "colab": {
          "base_uri": "https://localhost:8080/",
          "height": 164
        },
        "id": "ZD9CJ6mAGyWF",
        "outputId": "583a782a-3a59-4adb-c96d-a328c6ebb1d9"
      },
      "execution_count": 65,
      "outputs": [
        {
          "output_type": "display_data",
          "data": {
            "text/html": [
              "<table class=\"dataframe\">\n",
              "<caption>A data.frame: 1 × 1</caption>\n",
              "<thead>\n",
              "\t<tr><th scope=col>n</th></tr>\n",
              "\t<tr><th scope=col>&lt;int&gt;</th></tr>\n",
              "</thead>\n",
              "<tbody>\n",
              "\t<tr><td>10</td></tr>\n",
              "</tbody>\n",
              "</table>\n"
            ],
            "text/markdown": "\nA data.frame: 1 × 1\n\n| n &lt;int&gt; |\n|---|\n| 10 |\n\n",
            "text/latex": "A data.frame: 1 × 1\n\\begin{tabular}{l}\n n\\\\\n <int>\\\\\n\\hline\n\t 10\\\\\n\\end{tabular}\n",
            "text/plain": [
              "  n \n",
              "1 10"
            ]
          },
          "metadata": {}
        }
      ]
    },
    {
      "cell_type": "code",
      "source": [
        "summarise(df, mean(중간), max(기말), sum(퀴즈), n())"
      ],
      "metadata": {
        "colab": {
          "base_uri": "https://localhost:8080/",
          "height": 129
        },
        "id": "SKkUlrfiG3Be",
        "outputId": "16c57c64-a343-4509-98b7-83c4c1dfe195"
      },
      "execution_count": 66,
      "outputs": [
        {
          "output_type": "display_data",
          "data": {
            "text/html": [
              "<table class=\"dataframe\">\n",
              "<caption>A data.frame: 1 × 4</caption>\n",
              "<thead>\n",
              "\t<tr><th scope=col>mean(중간)</th><th scope=col>max(기말)</th><th scope=col>sum(퀴즈)</th><th scope=col>n()</th></tr>\n",
              "\t<tr><th scope=col>&lt;dbl&gt;</th><th scope=col>&lt;int&gt;</th><th scope=col>&lt;int&gt;</th><th scope=col>&lt;int&gt;</th></tr>\n",
              "</thead>\n",
              "<tbody>\n",
              "\t<tr><td>77.6</td><td>95</td><td>150</td><td>10</td></tr>\n",
              "</tbody>\n",
              "</table>\n"
            ],
            "text/markdown": "\nA data.frame: 1 × 4\n\n| mean(중간) &lt;dbl&gt; | max(기말) &lt;int&gt; | sum(퀴즈) &lt;int&gt; | n() &lt;int&gt; |\n|---|---|---|---|\n| 77.6 | 95 | 150 | 10 |\n\n",
            "text/latex": "A data.frame: 1 × 4\n\\begin{tabular}{llll}\n mean(중간) & max(기말) & sum(퀴즈) & n()\\\\\n <dbl> & <int> & <int> & <int>\\\\\n\\hline\n\t 77.6 & 95 & 150 & 10\\\\\n\\end{tabular}\n",
            "text/plain": [
              "  mean(중간) max(기말) sum(퀴즈) n()\n",
              "1 77.6       95        150       10 "
            ]
          },
          "metadata": {}
        }
      ]
    },
    {
      "cell_type": "code",
      "source": [
        "class = c(\"1반\",\"1반\",\"1반\",\"2반\",\"2반\",\"2반\",\"3반\",\"3반\",\"3반\",\"3반\")\n",
        "df = cbind(df, class)       # df에 class 열을 추가\n",
        "df"
      ],
      "metadata": {
        "colab": {
          "base_uri": "https://localhost:8080/",
          "height": 412
        },
        "id": "tY3MzCglG6D5",
        "outputId": "67420e64-4d13-40e0-b06f-b02b9315265f"
      },
      "execution_count": 67,
      "outputs": [
        {
          "output_type": "display_data",
          "data": {
            "text/html": [
              "<table class=\"dataframe\">\n",
              "<caption>A data.frame: 10 × 6</caption>\n",
              "<thead>\n",
              "\t<tr><th scope=col>학번</th><th scope=col>중간</th><th scope=col>기말</th><th scope=col>리포트</th><th scope=col>퀴즈</th><th scope=col>class</th></tr>\n",
              "\t<tr><th scope=col>&lt;chr&gt;</th><th scope=col>&lt;int&gt;</th><th scope=col>&lt;int&gt;</th><th scope=col>&lt;int&gt;</th><th scope=col>&lt;int&gt;</th><th scope=col>&lt;chr&gt;</th></tr>\n",
              "</thead>\n",
              "<tbody>\n",
              "\t<tr><td>S01</td><td>90</td><td>95</td><td>20</td><td>20</td><td>1반</td></tr>\n",
              "\t<tr><td>S02</td><td>82</td><td>83</td><td>18</td><td>18</td><td>1반</td></tr>\n",
              "\t<tr><td>S03</td><td>80</td><td>78</td><td>18</td><td>18</td><td>1반</td></tr>\n",
              "\t<tr><td>S04</td><td>78</td><td>75</td><td>10</td><td>10</td><td>2반</td></tr>\n",
              "\t<tr><td>S05</td><td>93</td><td>91</td><td>12</td><td>12</td><td>2반</td></tr>\n",
              "\t<tr><td>S06</td><td>71</td><td>75</td><td>16</td><td>16</td><td>2반</td></tr>\n",
              "\t<tr><td>S07</td><td>60</td><td>80</td><td>18</td><td>18</td><td>3반</td></tr>\n",
              "\t<tr><td>S08</td><td>72</td><td>65</td><td>14</td><td>14</td><td>3반</td></tr>\n",
              "\t<tr><td>S09</td><td>65</td><td>65</td><td>14</td><td>14</td><td>3반</td></tr>\n",
              "\t<tr><td>S10</td><td>85</td><td>78</td><td>10</td><td>10</td><td>3반</td></tr>\n",
              "</tbody>\n",
              "</table>\n"
            ],
            "text/markdown": "\nA data.frame: 10 × 6\n\n| 학번 &lt;chr&gt; | 중간 &lt;int&gt; | 기말 &lt;int&gt; | 리포트 &lt;int&gt; | 퀴즈 &lt;int&gt; | class &lt;chr&gt; |\n|---|---|---|---|---|---|\n| S01 | 90 | 95 | 20 | 20 | 1반 |\n| S02 | 82 | 83 | 18 | 18 | 1반 |\n| S03 | 80 | 78 | 18 | 18 | 1반 |\n| S04 | 78 | 75 | 10 | 10 | 2반 |\n| S05 | 93 | 91 | 12 | 12 | 2반 |\n| S06 | 71 | 75 | 16 | 16 | 2반 |\n| S07 | 60 | 80 | 18 | 18 | 3반 |\n| S08 | 72 | 65 | 14 | 14 | 3반 |\n| S09 | 65 | 65 | 14 | 14 | 3반 |\n| S10 | 85 | 78 | 10 | 10 | 3반 |\n\n",
            "text/latex": "A data.frame: 10 × 6\n\\begin{tabular}{llllll}\n 학번 & 중간 & 기말 & 리포트 & 퀴즈 & class\\\\\n <chr> & <int> & <int> & <int> & <int> & <chr>\\\\\n\\hline\n\t S01 & 90 & 95 & 20 & 20 & 1반\\\\\n\t S02 & 82 & 83 & 18 & 18 & 1반\\\\\n\t S03 & 80 & 78 & 18 & 18 & 1반\\\\\n\t S04 & 78 & 75 & 10 & 10 & 2반\\\\\n\t S05 & 93 & 91 & 12 & 12 & 2반\\\\\n\t S06 & 71 & 75 & 16 & 16 & 2반\\\\\n\t S07 & 60 & 80 & 18 & 18 & 3반\\\\\n\t S08 & 72 & 65 & 14 & 14 & 3반\\\\\n\t S09 & 65 & 65 & 14 & 14 & 3반\\\\\n\t S10 & 85 & 78 & 10 & 10 & 3반\\\\\n\\end{tabular}\n",
            "text/plain": [
              "   학번 중간 기말 리포트 퀴즈 class\n",
              "1  S01  90   95   20     20   1반  \n",
              "2  S02  82   83   18     18   1반  \n",
              "3  S03  80   78   18     18   1반  \n",
              "4  S04  78   75   10     10   2반  \n",
              "5  S05  93   91   12     12   2반  \n",
              "6  S06  71   75   16     16   2반  \n",
              "7  S07  60   80   18     18   3반  \n",
              "8  S08  72   65   14     14   3반  \n",
              "9  S09  65   65   14     14   3반  \n",
              "10 S10  85   78   10     10   3반  "
            ]
          },
          "metadata": {}
        }
      ]
    },
    {
      "cell_type": "code",
      "source": [
        "group_by(df, class) %>% summarise(sum(중간), mean(중간))    # 파이프 연산자 사용"
      ],
      "metadata": {
        "colab": {
          "base_uri": "https://localhost:8080/",
          "height": 192
        },
        "id": "7yBokJMoHDLh",
        "outputId": "91a5e8d7-3e68-4948-b9bc-940e3dc7d553"
      },
      "execution_count": 68,
      "outputs": [
        {
          "output_type": "display_data",
          "data": {
            "text/html": [
              "<table class=\"dataframe\">\n",
              "<caption>A tibble: 3 × 3</caption>\n",
              "<thead>\n",
              "\t<tr><th scope=col>class</th><th scope=col>sum(중간)</th><th scope=col>mean(중간)</th></tr>\n",
              "\t<tr><th scope=col>&lt;chr&gt;</th><th scope=col>&lt;int&gt;</th><th scope=col>&lt;dbl&gt;</th></tr>\n",
              "</thead>\n",
              "<tbody>\n",
              "\t<tr><td>1반</td><td>252</td><td>84.00000</td></tr>\n",
              "\t<tr><td>2반</td><td>242</td><td>80.66667</td></tr>\n",
              "\t<tr><td>3반</td><td>282</td><td>70.50000</td></tr>\n",
              "</tbody>\n",
              "</table>\n"
            ],
            "text/markdown": "\nA tibble: 3 × 3\n\n| class &lt;chr&gt; | sum(중간) &lt;int&gt; | mean(중간) &lt;dbl&gt; |\n|---|---|---|\n| 1반 | 252 | 84.00000 |\n| 2반 | 242 | 80.66667 |\n| 3반 | 282 | 70.50000 |\n\n",
            "text/latex": "A tibble: 3 × 3\n\\begin{tabular}{lll}\n class & sum(중간) & mean(중간)\\\\\n <chr> & <int> & <dbl>\\\\\n\\hline\n\t 1반 & 252 & 84.00000\\\\\n\t 2반 & 242 & 80.66667\\\\\n\t 3반 & 282 & 70.50000\\\\\n\\end{tabular}\n",
            "text/plain": [
              "  class sum(중간) mean(중간)\n",
              "1 1반   252       84.00000  \n",
              "2 2반   242       80.66667  \n",
              "3 3반   282       70.50000  "
            ]
          },
          "metadata": {}
        }
      ]
    },
    {
      "cell_type": "code",
      "source": [
        "filter(df, 중간 >= 90)      # 중간시험 점수가 90점 이상인 행 선택"
      ],
      "metadata": {
        "colab": {
          "base_uri": "https://localhost:8080/",
          "height": 161
        },
        "id": "ASEooh4pHHWR",
        "outputId": "0fcb37fc-9cad-4d70-da18-83d88be339ec"
      },
      "execution_count": 69,
      "outputs": [
        {
          "output_type": "display_data",
          "data": {
            "text/html": [
              "<table class=\"dataframe\">\n",
              "<caption>A data.frame: 2 × 6</caption>\n",
              "<thead>\n",
              "\t<tr><th scope=col>학번</th><th scope=col>중간</th><th scope=col>기말</th><th scope=col>리포트</th><th scope=col>퀴즈</th><th scope=col>class</th></tr>\n",
              "\t<tr><th scope=col>&lt;chr&gt;</th><th scope=col>&lt;int&gt;</th><th scope=col>&lt;int&gt;</th><th scope=col>&lt;int&gt;</th><th scope=col>&lt;int&gt;</th><th scope=col>&lt;chr&gt;</th></tr>\n",
              "</thead>\n",
              "<tbody>\n",
              "\t<tr><td>S01</td><td>90</td><td>95</td><td>20</td><td>20</td><td>1반</td></tr>\n",
              "\t<tr><td>S05</td><td>93</td><td>91</td><td>12</td><td>12</td><td>2반</td></tr>\n",
              "</tbody>\n",
              "</table>\n"
            ],
            "text/markdown": "\nA data.frame: 2 × 6\n\n| 학번 &lt;chr&gt; | 중간 &lt;int&gt; | 기말 &lt;int&gt; | 리포트 &lt;int&gt; | 퀴즈 &lt;int&gt; | class &lt;chr&gt; |\n|---|---|---|---|---|---|\n| S01 | 90 | 95 | 20 | 20 | 1반 |\n| S05 | 93 | 91 | 12 | 12 | 2반 |\n\n",
            "text/latex": "A data.frame: 2 × 6\n\\begin{tabular}{llllll}\n 학번 & 중간 & 기말 & 리포트 & 퀴즈 & class\\\\\n <chr> & <int> & <int> & <int> & <int> & <chr>\\\\\n\\hline\n\t S01 & 90 & 95 & 20 & 20 & 1반\\\\\n\t S05 & 93 & 91 & 12 & 12 & 2반\\\\\n\\end{tabular}\n",
            "text/plain": [
              "  학번 중간 기말 리포트 퀴즈 class\n",
              "1 S01  90   95   20     20   1반  \n",
              "2 S05  93   91   12     12   2반  "
            ]
          },
          "metadata": {}
        }
      ]
    },
    {
      "cell_type": "code",
      "source": [
        "filter(df, 중간 >= 90 & class == \"1반\")     # 1반에서 중간시험 점수가 90점 이상인 행 출력"
      ],
      "metadata": {
        "colab": {
          "base_uri": "https://localhost:8080/",
          "height": 129
        },
        "id": "ri7An1bGHJvm",
        "outputId": "c58a74fb-f973-4e90-c4b1-0f60a8286af7"
      },
      "execution_count": 70,
      "outputs": [
        {
          "output_type": "display_data",
          "data": {
            "text/html": [
              "<table class=\"dataframe\">\n",
              "<caption>A data.frame: 1 × 6</caption>\n",
              "<thead>\n",
              "\t<tr><th scope=col>학번</th><th scope=col>중간</th><th scope=col>기말</th><th scope=col>리포트</th><th scope=col>퀴즈</th><th scope=col>class</th></tr>\n",
              "\t<tr><th scope=col>&lt;chr&gt;</th><th scope=col>&lt;int&gt;</th><th scope=col>&lt;int&gt;</th><th scope=col>&lt;int&gt;</th><th scope=col>&lt;int&gt;</th><th scope=col>&lt;chr&gt;</th></tr>\n",
              "</thead>\n",
              "<tbody>\n",
              "\t<tr><td>S01</td><td>90</td><td>95</td><td>20</td><td>20</td><td>1반</td></tr>\n",
              "</tbody>\n",
              "</table>\n"
            ],
            "text/markdown": "\nA data.frame: 1 × 6\n\n| 학번 &lt;chr&gt; | 중간 &lt;int&gt; | 기말 &lt;int&gt; | 리포트 &lt;int&gt; | 퀴즈 &lt;int&gt; | class &lt;chr&gt; |\n|---|---|---|---|---|---|\n| S01 | 90 | 95 | 20 | 20 | 1반 |\n\n",
            "text/latex": "A data.frame: 1 × 6\n\\begin{tabular}{llllll}\n 학번 & 중간 & 기말 & 리포트 & 퀴즈 & class\\\\\n <chr> & <int> & <int> & <int> & <int> & <chr>\\\\\n\\hline\n\t S01 & 90 & 95 & 20 & 20 & 1반\\\\\n\\end{tabular}\n",
            "text/plain": [
              "  학번 중간 기말 리포트 퀴즈 class\n",
              "1 S01  90   95   20     20   1반  "
            ]
          },
          "metadata": {}
        }
      ]
    },
    {
      "cell_type": "code",
      "source": [
        "distinct(df, class)     # 중복된 값을 제외한 유일 값만 선택"
      ],
      "metadata": {
        "colab": {
          "base_uri": "https://localhost:8080/",
          "height": 227
        },
        "id": "VYIpSFF5HNJt",
        "outputId": "6fbf1d88-f119-4626-ff20-2628a3d70453"
      },
      "execution_count": 71,
      "outputs": [
        {
          "output_type": "display_data",
          "data": {
            "text/html": [
              "<table class=\"dataframe\">\n",
              "<caption>A data.frame: 3 × 1</caption>\n",
              "<thead>\n",
              "\t<tr><th scope=col>class</th></tr>\n",
              "\t<tr><th scope=col>&lt;chr&gt;</th></tr>\n",
              "</thead>\n",
              "<tbody>\n",
              "\t<tr><td>1반</td></tr>\n",
              "\t<tr><td>2반</td></tr>\n",
              "\t<tr><td>3반</td></tr>\n",
              "</tbody>\n",
              "</table>\n"
            ],
            "text/markdown": "\nA data.frame: 3 × 1\n\n| class &lt;chr&gt; |\n|---|\n| 1반 |\n| 2반 |\n| 3반 |\n\n",
            "text/latex": "A data.frame: 3 × 1\n\\begin{tabular}{l}\n class\\\\\n <chr>\\\\\n\\hline\n\t 1반\\\\\n\t 2반\\\\\n\t 3반\\\\\n\\end{tabular}\n",
            "text/plain": [
              "  class\n",
              "1 1반  \n",
              "2 2반  \n",
              "3 3반  "
            ]
          },
          "metadata": {}
        }
      ]
    },
    {
      "cell_type": "code",
      "source": [
        "slice(df, 3:5)"
      ],
      "metadata": {
        "colab": {
          "base_uri": "https://localhost:8080/",
          "height": 192
        },
        "id": "piPBpCsaHP4F",
        "outputId": "a1b62b14-dafa-4868-9a95-31fd692176d2"
      },
      "execution_count": 72,
      "outputs": [
        {
          "output_type": "display_data",
          "data": {
            "text/html": [
              "<table class=\"dataframe\">\n",
              "<caption>A data.frame: 3 × 6</caption>\n",
              "<thead>\n",
              "\t<tr><th scope=col>학번</th><th scope=col>중간</th><th scope=col>기말</th><th scope=col>리포트</th><th scope=col>퀴즈</th><th scope=col>class</th></tr>\n",
              "\t<tr><th scope=col>&lt;chr&gt;</th><th scope=col>&lt;int&gt;</th><th scope=col>&lt;int&gt;</th><th scope=col>&lt;int&gt;</th><th scope=col>&lt;int&gt;</th><th scope=col>&lt;chr&gt;</th></tr>\n",
              "</thead>\n",
              "<tbody>\n",
              "\t<tr><td>S03</td><td>80</td><td>78</td><td>18</td><td>18</td><td>1반</td></tr>\n",
              "\t<tr><td>S04</td><td>78</td><td>75</td><td>10</td><td>10</td><td>2반</td></tr>\n",
              "\t<tr><td>S05</td><td>93</td><td>91</td><td>12</td><td>12</td><td>2반</td></tr>\n",
              "</tbody>\n",
              "</table>\n"
            ],
            "text/markdown": "\nA data.frame: 3 × 6\n\n| 학번 &lt;chr&gt; | 중간 &lt;int&gt; | 기말 &lt;int&gt; | 리포트 &lt;int&gt; | 퀴즈 &lt;int&gt; | class &lt;chr&gt; |\n|---|---|---|---|---|---|\n| S03 | 80 | 78 | 18 | 18 | 1반 |\n| S04 | 78 | 75 | 10 | 10 | 2반 |\n| S05 | 93 | 91 | 12 | 12 | 2반 |\n\n",
            "text/latex": "A data.frame: 3 × 6\n\\begin{tabular}{llllll}\n 학번 & 중간 & 기말 & 리포트 & 퀴즈 & class\\\\\n <chr> & <int> & <int> & <int> & <int> & <chr>\\\\\n\\hline\n\t S03 & 80 & 78 & 18 & 18 & 1반\\\\\n\t S04 & 78 & 75 & 10 & 10 & 2반\\\\\n\t S05 & 93 & 91 & 12 & 12 & 2반\\\\\n\\end{tabular}\n",
            "text/plain": [
              "  학번 중간 기말 리포트 퀴즈 class\n",
              "1 S03  80   78   18     18   1반  \n",
              "2 S04  78   75   10     10   2반  \n",
              "3 S05  93   91   12     12   2반  "
            ]
          },
          "metadata": {}
        }
      ]
    },
    {
      "cell_type": "code",
      "source": [
        "arrange(df, 기말)       # 기말 점수를 기준으로 오름차순 정렬"
      ],
      "metadata": {
        "colab": {
          "base_uri": "https://localhost:8080/",
          "height": 412
        },
        "id": "DMUgjm7qHW43",
        "outputId": "ae0cd621-85b3-4a22-9242-e12c09dfd069"
      },
      "execution_count": 73,
      "outputs": [
        {
          "output_type": "display_data",
          "data": {
            "text/html": [
              "<table class=\"dataframe\">\n",
              "<caption>A data.frame: 10 × 6</caption>\n",
              "<thead>\n",
              "\t<tr><th scope=col>학번</th><th scope=col>중간</th><th scope=col>기말</th><th scope=col>리포트</th><th scope=col>퀴즈</th><th scope=col>class</th></tr>\n",
              "\t<tr><th scope=col>&lt;chr&gt;</th><th scope=col>&lt;int&gt;</th><th scope=col>&lt;int&gt;</th><th scope=col>&lt;int&gt;</th><th scope=col>&lt;int&gt;</th><th scope=col>&lt;chr&gt;</th></tr>\n",
              "</thead>\n",
              "<tbody>\n",
              "\t<tr><td>S08</td><td>72</td><td>65</td><td>14</td><td>14</td><td>3반</td></tr>\n",
              "\t<tr><td>S09</td><td>65</td><td>65</td><td>14</td><td>14</td><td>3반</td></tr>\n",
              "\t<tr><td>S04</td><td>78</td><td>75</td><td>10</td><td>10</td><td>2반</td></tr>\n",
              "\t<tr><td>S06</td><td>71</td><td>75</td><td>16</td><td>16</td><td>2반</td></tr>\n",
              "\t<tr><td>S03</td><td>80</td><td>78</td><td>18</td><td>18</td><td>1반</td></tr>\n",
              "\t<tr><td>S10</td><td>85</td><td>78</td><td>10</td><td>10</td><td>3반</td></tr>\n",
              "\t<tr><td>S07</td><td>60</td><td>80</td><td>18</td><td>18</td><td>3반</td></tr>\n",
              "\t<tr><td>S02</td><td>82</td><td>83</td><td>18</td><td>18</td><td>1반</td></tr>\n",
              "\t<tr><td>S05</td><td>93</td><td>91</td><td>12</td><td>12</td><td>2반</td></tr>\n",
              "\t<tr><td>S01</td><td>90</td><td>95</td><td>20</td><td>20</td><td>1반</td></tr>\n",
              "</tbody>\n",
              "</table>\n"
            ],
            "text/markdown": "\nA data.frame: 10 × 6\n\n| 학번 &lt;chr&gt; | 중간 &lt;int&gt; | 기말 &lt;int&gt; | 리포트 &lt;int&gt; | 퀴즈 &lt;int&gt; | class &lt;chr&gt; |\n|---|---|---|---|---|---|\n| S08 | 72 | 65 | 14 | 14 | 3반 |\n| S09 | 65 | 65 | 14 | 14 | 3반 |\n| S04 | 78 | 75 | 10 | 10 | 2반 |\n| S06 | 71 | 75 | 16 | 16 | 2반 |\n| S03 | 80 | 78 | 18 | 18 | 1반 |\n| S10 | 85 | 78 | 10 | 10 | 3반 |\n| S07 | 60 | 80 | 18 | 18 | 3반 |\n| S02 | 82 | 83 | 18 | 18 | 1반 |\n| S05 | 93 | 91 | 12 | 12 | 2반 |\n| S01 | 90 | 95 | 20 | 20 | 1반 |\n\n",
            "text/latex": "A data.frame: 10 × 6\n\\begin{tabular}{llllll}\n 학번 & 중간 & 기말 & 리포트 & 퀴즈 & class\\\\\n <chr> & <int> & <int> & <int> & <int> & <chr>\\\\\n\\hline\n\t S08 & 72 & 65 & 14 & 14 & 3반\\\\\n\t S09 & 65 & 65 & 14 & 14 & 3반\\\\\n\t S04 & 78 & 75 & 10 & 10 & 2반\\\\\n\t S06 & 71 & 75 & 16 & 16 & 2반\\\\\n\t S03 & 80 & 78 & 18 & 18 & 1반\\\\\n\t S10 & 85 & 78 & 10 & 10 & 3반\\\\\n\t S07 & 60 & 80 & 18 & 18 & 3반\\\\\n\t S02 & 82 & 83 & 18 & 18 & 1반\\\\\n\t S05 & 93 & 91 & 12 & 12 & 2반\\\\\n\t S01 & 90 & 95 & 20 & 20 & 1반\\\\\n\\end{tabular}\n",
            "text/plain": [
              "   학번 중간 기말 리포트 퀴즈 class\n",
              "1  S08  72   65   14     14   3반  \n",
              "2  S09  65   65   14     14   3반  \n",
              "3  S04  78   75   10     10   2반  \n",
              "4  S06  71   75   16     16   2반  \n",
              "5  S03  80   78   18     18   1반  \n",
              "6  S10  85   78   10     10   3반  \n",
              "7  S07  60   80   18     18   3반  \n",
              "8  S02  82   83   18     18   1반  \n",
              "9  S05  93   91   12     12   2반  \n",
              "10 S01  90   95   20     20   1반  "
            ]
          },
          "metadata": {}
        }
      ]
    },
    {
      "cell_type": "code",
      "source": [
        "add_row(df, 학번=\"S11\", 중간=50, 기말=55, 리포트=12, 퀴즈=10)"
      ],
      "metadata": {
        "colab": {
          "base_uri": "https://localhost:8080/",
          "height": 443
        },
        "id": "kOc9JU6nHZMZ",
        "outputId": "a37cf9ca-cd67-4d6b-e84f-433ebce1e1e7"
      },
      "execution_count": 74,
      "outputs": [
        {
          "output_type": "display_data",
          "data": {
            "text/html": [
              "<table class=\"dataframe\">\n",
              "<caption>A data.frame: 11 × 6</caption>\n",
              "<thead>\n",
              "\t<tr><th scope=col>학번</th><th scope=col>중간</th><th scope=col>기말</th><th scope=col>리포트</th><th scope=col>퀴즈</th><th scope=col>class</th></tr>\n",
              "\t<tr><th scope=col>&lt;chr&gt;</th><th scope=col>&lt;dbl&gt;</th><th scope=col>&lt;dbl&gt;</th><th scope=col>&lt;dbl&gt;</th><th scope=col>&lt;dbl&gt;</th><th scope=col>&lt;chr&gt;</th></tr>\n",
              "</thead>\n",
              "<tbody>\n",
              "\t<tr><td>S01</td><td>90</td><td>95</td><td>20</td><td>20</td><td>1반</td></tr>\n",
              "\t<tr><td>S02</td><td>82</td><td>83</td><td>18</td><td>18</td><td>1반</td></tr>\n",
              "\t<tr><td>S03</td><td>80</td><td>78</td><td>18</td><td>18</td><td>1반</td></tr>\n",
              "\t<tr><td>S04</td><td>78</td><td>75</td><td>10</td><td>10</td><td>2반</td></tr>\n",
              "\t<tr><td>S05</td><td>93</td><td>91</td><td>12</td><td>12</td><td>2반</td></tr>\n",
              "\t<tr><td>S06</td><td>71</td><td>75</td><td>16</td><td>16</td><td>2반</td></tr>\n",
              "\t<tr><td>S07</td><td>60</td><td>80</td><td>18</td><td>18</td><td>3반</td></tr>\n",
              "\t<tr><td>S08</td><td>72</td><td>65</td><td>14</td><td>14</td><td>3반</td></tr>\n",
              "\t<tr><td>S09</td><td>65</td><td>65</td><td>14</td><td>14</td><td>3반</td></tr>\n",
              "\t<tr><td>S10</td><td>85</td><td>78</td><td>10</td><td>10</td><td>3반</td></tr>\n",
              "\t<tr><td>S11</td><td>50</td><td>55</td><td>12</td><td>10</td><td>NA </td></tr>\n",
              "</tbody>\n",
              "</table>\n"
            ],
            "text/markdown": "\nA data.frame: 11 × 6\n\n| 학번 &lt;chr&gt; | 중간 &lt;dbl&gt; | 기말 &lt;dbl&gt; | 리포트 &lt;dbl&gt; | 퀴즈 &lt;dbl&gt; | class &lt;chr&gt; |\n|---|---|---|---|---|---|\n| S01 | 90 | 95 | 20 | 20 | 1반 |\n| S02 | 82 | 83 | 18 | 18 | 1반 |\n| S03 | 80 | 78 | 18 | 18 | 1반 |\n| S04 | 78 | 75 | 10 | 10 | 2반 |\n| S05 | 93 | 91 | 12 | 12 | 2반 |\n| S06 | 71 | 75 | 16 | 16 | 2반 |\n| S07 | 60 | 80 | 18 | 18 | 3반 |\n| S08 | 72 | 65 | 14 | 14 | 3반 |\n| S09 | 65 | 65 | 14 | 14 | 3반 |\n| S10 | 85 | 78 | 10 | 10 | 3반 |\n| S11 | 50 | 55 | 12 | 10 | NA  |\n\n",
            "text/latex": "A data.frame: 11 × 6\n\\begin{tabular}{llllll}\n 학번 & 중간 & 기말 & 리포트 & 퀴즈 & class\\\\\n <chr> & <dbl> & <dbl> & <dbl> & <dbl> & <chr>\\\\\n\\hline\n\t S01 & 90 & 95 & 20 & 20 & 1반\\\\\n\t S02 & 82 & 83 & 18 & 18 & 1반\\\\\n\t S03 & 80 & 78 & 18 & 18 & 1반\\\\\n\t S04 & 78 & 75 & 10 & 10 & 2반\\\\\n\t S05 & 93 & 91 & 12 & 12 & 2반\\\\\n\t S06 & 71 & 75 & 16 & 16 & 2반\\\\\n\t S07 & 60 & 80 & 18 & 18 & 3반\\\\\n\t S08 & 72 & 65 & 14 & 14 & 3반\\\\\n\t S09 & 65 & 65 & 14 & 14 & 3반\\\\\n\t S10 & 85 & 78 & 10 & 10 & 3반\\\\\n\t S11 & 50 & 55 & 12 & 10 & NA \\\\\n\\end{tabular}\n",
            "text/plain": [
              "   학번 중간 기말 리포트 퀴즈 class\n",
              "1  S01  90   95   20     20   1반  \n",
              "2  S02  82   83   18     18   1반  \n",
              "3  S03  80   78   18     18   1반  \n",
              "4  S04  78   75   10     10   2반  \n",
              "5  S05  93   91   12     12   2반  \n",
              "6  S06  71   75   16     16   2반  \n",
              "7  S07  60   80   18     18   3반  \n",
              "8  S08  72   65   14     14   3반  \n",
              "9  S09  65   65   14     14   3반  \n",
              "10 S10  85   78   10     10   3반  \n",
              "11 S11  50   55   12     10   NA   "
            ]
          },
          "metadata": {}
        }
      ]
    },
    {
      "cell_type": "code",
      "source": [
        "sample_frac(df, 0.2)    # 20% 추출\n",
        "sample_n(df, 4)         # 4개행 추출\n",
        "sample_frac(df, 0.2, replace=TRUE)    # 복원추출 방식(추출했던 샘플을 포함해서 추출)\n",
        "sample_n(df, 4, replace=FALSE)        # 비복원추출 방식(추출했던 샘플을 제외하고 추출)"
      ],
      "metadata": {
        "colab": {
          "base_uri": "https://localhost:8080/",
          "height": 718
        },
        "id": "A6f28eAHHjau",
        "outputId": "606a1046-015f-4fdc-a75f-cc02436ec9a2"
      },
      "execution_count": 75,
      "outputs": [
        {
          "output_type": "display_data",
          "data": {
            "text/html": [
              "<table class=\"dataframe\">\n",
              "<caption>A data.frame: 2 × 6</caption>\n",
              "<thead>\n",
              "\t<tr><th scope=col>학번</th><th scope=col>중간</th><th scope=col>기말</th><th scope=col>리포트</th><th scope=col>퀴즈</th><th scope=col>class</th></tr>\n",
              "\t<tr><th scope=col>&lt;chr&gt;</th><th scope=col>&lt;int&gt;</th><th scope=col>&lt;int&gt;</th><th scope=col>&lt;int&gt;</th><th scope=col>&lt;int&gt;</th><th scope=col>&lt;chr&gt;</th></tr>\n",
              "</thead>\n",
              "<tbody>\n",
              "\t<tr><td>S08</td><td>72</td><td>65</td><td>14</td><td>14</td><td>3반</td></tr>\n",
              "\t<tr><td>S10</td><td>85</td><td>78</td><td>10</td><td>10</td><td>3반</td></tr>\n",
              "</tbody>\n",
              "</table>\n"
            ],
            "text/markdown": "\nA data.frame: 2 × 6\n\n| 학번 &lt;chr&gt; | 중간 &lt;int&gt; | 기말 &lt;int&gt; | 리포트 &lt;int&gt; | 퀴즈 &lt;int&gt; | class &lt;chr&gt; |\n|---|---|---|---|---|---|\n| S08 | 72 | 65 | 14 | 14 | 3반 |\n| S10 | 85 | 78 | 10 | 10 | 3반 |\n\n",
            "text/latex": "A data.frame: 2 × 6\n\\begin{tabular}{llllll}\n 학번 & 중간 & 기말 & 리포트 & 퀴즈 & class\\\\\n <chr> & <int> & <int> & <int> & <int> & <chr>\\\\\n\\hline\n\t S08 & 72 & 65 & 14 & 14 & 3반\\\\\n\t S10 & 85 & 78 & 10 & 10 & 3반\\\\\n\\end{tabular}\n",
            "text/plain": [
              "  학번 중간 기말 리포트 퀴즈 class\n",
              "1 S08  72   65   14     14   3반  \n",
              "2 S10  85   78   10     10   3반  "
            ]
          },
          "metadata": {}
        },
        {
          "output_type": "display_data",
          "data": {
            "text/html": [
              "<table class=\"dataframe\">\n",
              "<caption>A data.frame: 4 × 6</caption>\n",
              "<thead>\n",
              "\t<tr><th scope=col>학번</th><th scope=col>중간</th><th scope=col>기말</th><th scope=col>리포트</th><th scope=col>퀴즈</th><th scope=col>class</th></tr>\n",
              "\t<tr><th scope=col>&lt;chr&gt;</th><th scope=col>&lt;int&gt;</th><th scope=col>&lt;int&gt;</th><th scope=col>&lt;int&gt;</th><th scope=col>&lt;int&gt;</th><th scope=col>&lt;chr&gt;</th></tr>\n",
              "</thead>\n",
              "<tbody>\n",
              "\t<tr><td>S03</td><td>80</td><td>78</td><td>18</td><td>18</td><td>1반</td></tr>\n",
              "\t<tr><td>S08</td><td>72</td><td>65</td><td>14</td><td>14</td><td>3반</td></tr>\n",
              "\t<tr><td>S04</td><td>78</td><td>75</td><td>10</td><td>10</td><td>2반</td></tr>\n",
              "\t<tr><td>S02</td><td>82</td><td>83</td><td>18</td><td>18</td><td>1반</td></tr>\n",
              "</tbody>\n",
              "</table>\n"
            ],
            "text/markdown": "\nA data.frame: 4 × 6\n\n| 학번 &lt;chr&gt; | 중간 &lt;int&gt; | 기말 &lt;int&gt; | 리포트 &lt;int&gt; | 퀴즈 &lt;int&gt; | class &lt;chr&gt; |\n|---|---|---|---|---|---|\n| S03 | 80 | 78 | 18 | 18 | 1반 |\n| S08 | 72 | 65 | 14 | 14 | 3반 |\n| S04 | 78 | 75 | 10 | 10 | 2반 |\n| S02 | 82 | 83 | 18 | 18 | 1반 |\n\n",
            "text/latex": "A data.frame: 4 × 6\n\\begin{tabular}{llllll}\n 학번 & 중간 & 기말 & 리포트 & 퀴즈 & class\\\\\n <chr> & <int> & <int> & <int> & <int> & <chr>\\\\\n\\hline\n\t S03 & 80 & 78 & 18 & 18 & 1반\\\\\n\t S08 & 72 & 65 & 14 & 14 & 3반\\\\\n\t S04 & 78 & 75 & 10 & 10 & 2반\\\\\n\t S02 & 82 & 83 & 18 & 18 & 1반\\\\\n\\end{tabular}\n",
            "text/plain": [
              "  학번 중간 기말 리포트 퀴즈 class\n",
              "1 S03  80   78   18     18   1반  \n",
              "2 S08  72   65   14     14   3반  \n",
              "3 S04  78   75   10     10   2반  \n",
              "4 S02  82   83   18     18   1반  "
            ]
          },
          "metadata": {}
        },
        {
          "output_type": "display_data",
          "data": {
            "text/html": [
              "<table class=\"dataframe\">\n",
              "<caption>A data.frame: 2 × 6</caption>\n",
              "<thead>\n",
              "\t<tr><th scope=col>학번</th><th scope=col>중간</th><th scope=col>기말</th><th scope=col>리포트</th><th scope=col>퀴즈</th><th scope=col>class</th></tr>\n",
              "\t<tr><th scope=col>&lt;chr&gt;</th><th scope=col>&lt;int&gt;</th><th scope=col>&lt;int&gt;</th><th scope=col>&lt;int&gt;</th><th scope=col>&lt;int&gt;</th><th scope=col>&lt;chr&gt;</th></tr>\n",
              "</thead>\n",
              "<tbody>\n",
              "\t<tr><td>S08</td><td>72</td><td>65</td><td>14</td><td>14</td><td>3반</td></tr>\n",
              "\t<tr><td>S10</td><td>85</td><td>78</td><td>10</td><td>10</td><td>3반</td></tr>\n",
              "</tbody>\n",
              "</table>\n"
            ],
            "text/markdown": "\nA data.frame: 2 × 6\n\n| 학번 &lt;chr&gt; | 중간 &lt;int&gt; | 기말 &lt;int&gt; | 리포트 &lt;int&gt; | 퀴즈 &lt;int&gt; | class &lt;chr&gt; |\n|---|---|---|---|---|---|\n| S08 | 72 | 65 | 14 | 14 | 3반 |\n| S10 | 85 | 78 | 10 | 10 | 3반 |\n\n",
            "text/latex": "A data.frame: 2 × 6\n\\begin{tabular}{llllll}\n 학번 & 중간 & 기말 & 리포트 & 퀴즈 & class\\\\\n <chr> & <int> & <int> & <int> & <int> & <chr>\\\\\n\\hline\n\t S08 & 72 & 65 & 14 & 14 & 3반\\\\\n\t S10 & 85 & 78 & 10 & 10 & 3반\\\\\n\\end{tabular}\n",
            "text/plain": [
              "  학번 중간 기말 리포트 퀴즈 class\n",
              "1 S08  72   65   14     14   3반  \n",
              "2 S10  85   78   10     10   3반  "
            ]
          },
          "metadata": {}
        },
        {
          "output_type": "display_data",
          "data": {
            "text/html": [
              "<table class=\"dataframe\">\n",
              "<caption>A data.frame: 4 × 6</caption>\n",
              "<thead>\n",
              "\t<tr><th scope=col>학번</th><th scope=col>중간</th><th scope=col>기말</th><th scope=col>리포트</th><th scope=col>퀴즈</th><th scope=col>class</th></tr>\n",
              "\t<tr><th scope=col>&lt;chr&gt;</th><th scope=col>&lt;int&gt;</th><th scope=col>&lt;int&gt;</th><th scope=col>&lt;int&gt;</th><th scope=col>&lt;int&gt;</th><th scope=col>&lt;chr&gt;</th></tr>\n",
              "</thead>\n",
              "<tbody>\n",
              "\t<tr><td>S01</td><td>90</td><td>95</td><td>20</td><td>20</td><td>1반</td></tr>\n",
              "\t<tr><td>S06</td><td>71</td><td>75</td><td>16</td><td>16</td><td>2반</td></tr>\n",
              "\t<tr><td>S08</td><td>72</td><td>65</td><td>14</td><td>14</td><td>3반</td></tr>\n",
              "\t<tr><td>S04</td><td>78</td><td>75</td><td>10</td><td>10</td><td>2반</td></tr>\n",
              "</tbody>\n",
              "</table>\n"
            ],
            "text/markdown": "\nA data.frame: 4 × 6\n\n| 학번 &lt;chr&gt; | 중간 &lt;int&gt; | 기말 &lt;int&gt; | 리포트 &lt;int&gt; | 퀴즈 &lt;int&gt; | class &lt;chr&gt; |\n|---|---|---|---|---|---|\n| S01 | 90 | 95 | 20 | 20 | 1반 |\n| S06 | 71 | 75 | 16 | 16 | 2반 |\n| S08 | 72 | 65 | 14 | 14 | 3반 |\n| S04 | 78 | 75 | 10 | 10 | 2반 |\n\n",
            "text/latex": "A data.frame: 4 × 6\n\\begin{tabular}{llllll}\n 학번 & 중간 & 기말 & 리포트 & 퀴즈 & class\\\\\n <chr> & <int> & <int> & <int> & <int> & <chr>\\\\\n\\hline\n\t S01 & 90 & 95 & 20 & 20 & 1반\\\\\n\t S06 & 71 & 75 & 16 & 16 & 2반\\\\\n\t S08 & 72 & 65 & 14 & 14 & 3반\\\\\n\t S04 & 78 & 75 & 10 & 10 & 2반\\\\\n\\end{tabular}\n",
            "text/plain": [
              "  학번 중간 기말 리포트 퀴즈 class\n",
              "1 S01  90   95   20     20   1반  \n",
              "2 S06  71   75   16     16   2반  \n",
              "3 S08  72   65   14     14   3반  \n",
              "4 S04  78   75   10     10   2반  "
            ]
          },
          "metadata": {}
        }
      ]
    },
    {
      "cell_type": "code",
      "source": [
        "select(df, 학번, 중간)   # df %>% select(학번, 중간)과 동일"
      ],
      "metadata": {
        "colab": {
          "base_uri": "https://localhost:8080/",
          "height": 429
        },
        "id": "R0P2aHAaHugx",
        "outputId": "7a4bfce8-9959-4285-955b-d28154d27e30"
      },
      "execution_count": 76,
      "outputs": [
        {
          "output_type": "display_data",
          "data": {
            "text/html": [
              "<table class=\"dataframe\">\n",
              "<caption>A data.frame: 10 × 2</caption>\n",
              "<thead>\n",
              "\t<tr><th scope=col>학번</th><th scope=col>중간</th></tr>\n",
              "\t<tr><th scope=col>&lt;chr&gt;</th><th scope=col>&lt;int&gt;</th></tr>\n",
              "</thead>\n",
              "<tbody>\n",
              "\t<tr><td>S01</td><td>90</td></tr>\n",
              "\t<tr><td>S02</td><td>82</td></tr>\n",
              "\t<tr><td>S03</td><td>80</td></tr>\n",
              "\t<tr><td>S04</td><td>78</td></tr>\n",
              "\t<tr><td>S05</td><td>93</td></tr>\n",
              "\t<tr><td>S06</td><td>71</td></tr>\n",
              "\t<tr><td>S07</td><td>60</td></tr>\n",
              "\t<tr><td>S08</td><td>72</td></tr>\n",
              "\t<tr><td>S09</td><td>65</td></tr>\n",
              "\t<tr><td>S10</td><td>85</td></tr>\n",
              "</tbody>\n",
              "</table>\n"
            ],
            "text/markdown": "\nA data.frame: 10 × 2\n\n| 학번 &lt;chr&gt; | 중간 &lt;int&gt; |\n|---|---|\n| S01 | 90 |\n| S02 | 82 |\n| S03 | 80 |\n| S04 | 78 |\n| S05 | 93 |\n| S06 | 71 |\n| S07 | 60 |\n| S08 | 72 |\n| S09 | 65 |\n| S10 | 85 |\n\n",
            "text/latex": "A data.frame: 10 × 2\n\\begin{tabular}{ll}\n 학번 & 중간\\\\\n <chr> & <int>\\\\\n\\hline\n\t S01 & 90\\\\\n\t S02 & 82\\\\\n\t S03 & 80\\\\\n\t S04 & 78\\\\\n\t S05 & 93\\\\\n\t S06 & 71\\\\\n\t S07 & 60\\\\\n\t S08 & 72\\\\\n\t S09 & 65\\\\\n\t S10 & 85\\\\\n\\end{tabular}\n",
            "text/plain": [
              "   학번 중간\n",
              "1  S01  90  \n",
              "2  S02  82  \n",
              "3  S03  80  \n",
              "4  S04  78  \n",
              "5  S05  93  \n",
              "6  S06  71  \n",
              "7  S07  60  \n",
              "8  S08  72  \n",
              "9  S09  65  \n",
              "10 S10  85  "
            ]
          },
          "metadata": {}
        }
      ]
    },
    {
      "cell_type": "code",
      "source": [
        "df <- read.csv(\"sample_data/df_sample.csv\")\n",
        "\n",
        "class <- c(\"1반\",\"1반\",\"1반\",\"2반\",\"2반\",\"2반\",\"3반\",\"3반\",\"3반\",\"3반\")\n",
        "df <- cbind(df, class)       # df에 class 열을 추가\n",
        "\n",
        "df %>% mutate(기말-중간)     # 기말-중간의 값으로 새 열을 추가"
      ],
      "metadata": {
        "colab": {
          "base_uri": "https://localhost:8080/",
          "height": 412
        },
        "id": "juLU8kq1HxGp",
        "outputId": "43086af9-1153-4602-c3f9-a6bec8ee7f0b"
      },
      "execution_count": 77,
      "outputs": [
        {
          "output_type": "display_data",
          "data": {
            "text/html": [
              "<table class=\"dataframe\">\n",
              "<caption>A data.frame: 10 × 7</caption>\n",
              "<thead>\n",
              "\t<tr><th scope=col>학번</th><th scope=col>중간</th><th scope=col>기말</th><th scope=col>리포트</th><th scope=col>퀴즈</th><th scope=col>class</th><th scope=col>기말 - 중간</th></tr>\n",
              "\t<tr><th scope=col>&lt;chr&gt;</th><th scope=col>&lt;int&gt;</th><th scope=col>&lt;int&gt;</th><th scope=col>&lt;int&gt;</th><th scope=col>&lt;int&gt;</th><th scope=col>&lt;chr&gt;</th><th scope=col>&lt;int&gt;</th></tr>\n",
              "</thead>\n",
              "<tbody>\n",
              "\t<tr><td>S01</td><td>90</td><td>95</td><td>20</td><td>20</td><td>1반</td><td> 5</td></tr>\n",
              "\t<tr><td>S02</td><td>82</td><td>83</td><td>18</td><td>18</td><td>1반</td><td> 1</td></tr>\n",
              "\t<tr><td>S03</td><td>80</td><td>78</td><td>18</td><td>18</td><td>1반</td><td>-2</td></tr>\n",
              "\t<tr><td>S04</td><td>78</td><td>75</td><td>10</td><td>10</td><td>2반</td><td>-3</td></tr>\n",
              "\t<tr><td>S05</td><td>93</td><td>91</td><td>12</td><td>12</td><td>2반</td><td>-2</td></tr>\n",
              "\t<tr><td>S06</td><td>71</td><td>75</td><td>16</td><td>16</td><td>2반</td><td> 4</td></tr>\n",
              "\t<tr><td>S07</td><td>60</td><td>80</td><td>18</td><td>18</td><td>3반</td><td>20</td></tr>\n",
              "\t<tr><td>S08</td><td>72</td><td>65</td><td>14</td><td>14</td><td>3반</td><td>-7</td></tr>\n",
              "\t<tr><td>S09</td><td>65</td><td>65</td><td>14</td><td>14</td><td>3반</td><td> 0</td></tr>\n",
              "\t<tr><td>S10</td><td>85</td><td>78</td><td>10</td><td>10</td><td>3반</td><td>-7</td></tr>\n",
              "</tbody>\n",
              "</table>\n"
            ],
            "text/markdown": "\nA data.frame: 10 × 7\n\n| 학번 &lt;chr&gt; | 중간 &lt;int&gt; | 기말 &lt;int&gt; | 리포트 &lt;int&gt; | 퀴즈 &lt;int&gt; | class &lt;chr&gt; | 기말 - 중간 &lt;int&gt; |\n|---|---|---|---|---|---|---|\n| S01 | 90 | 95 | 20 | 20 | 1반 |  5 |\n| S02 | 82 | 83 | 18 | 18 | 1반 |  1 |\n| S03 | 80 | 78 | 18 | 18 | 1반 | -2 |\n| S04 | 78 | 75 | 10 | 10 | 2반 | -3 |\n| S05 | 93 | 91 | 12 | 12 | 2반 | -2 |\n| S06 | 71 | 75 | 16 | 16 | 2반 |  4 |\n| S07 | 60 | 80 | 18 | 18 | 3반 | 20 |\n| S08 | 72 | 65 | 14 | 14 | 3반 | -7 |\n| S09 | 65 | 65 | 14 | 14 | 3반 |  0 |\n| S10 | 85 | 78 | 10 | 10 | 3반 | -7 |\n\n",
            "text/latex": "A data.frame: 10 × 7\n\\begin{tabular}{lllllll}\n 학번 & 중간 & 기말 & 리포트 & 퀴즈 & class & 기말 - 중간\\\\\n <chr> & <int> & <int> & <int> & <int> & <chr> & <int>\\\\\n\\hline\n\t S01 & 90 & 95 & 20 & 20 & 1반 &  5\\\\\n\t S02 & 82 & 83 & 18 & 18 & 1반 &  1\\\\\n\t S03 & 80 & 78 & 18 & 18 & 1반 & -2\\\\\n\t S04 & 78 & 75 & 10 & 10 & 2반 & -3\\\\\n\t S05 & 93 & 91 & 12 & 12 & 2반 & -2\\\\\n\t S06 & 71 & 75 & 16 & 16 & 2반 &  4\\\\\n\t S07 & 60 & 80 & 18 & 18 & 3반 & 20\\\\\n\t S08 & 72 & 65 & 14 & 14 & 3반 & -7\\\\\n\t S09 & 65 & 65 & 14 & 14 & 3반 &  0\\\\\n\t S10 & 85 & 78 & 10 & 10 & 3반 & -7\\\\\n\\end{tabular}\n",
            "text/plain": [
              "   학번 중간 기말 리포트 퀴즈 class 기말 - 중간\n",
              "1  S01  90   95   20     20   1반    5         \n",
              "2  S02  82   83   18     18   1반    1         \n",
              "3  S03  80   78   18     18   1반   -2         \n",
              "4  S04  78   75   10     10   2반   -3         \n",
              "5  S05  93   91   12     12   2반   -2         \n",
              "6  S06  71   75   16     16   2반    4         \n",
              "7  S07  60   80   18     18   3반   20         \n",
              "8  S08  72   65   14     14   3반   -7         \n",
              "9  S09  65   65   14     14   3반    0         \n",
              "10 S10  85   78   10     10   3반   -7         "
            ]
          },
          "metadata": {}
        }
      ]
    },
    {
      "cell_type": "markdown",
      "source": [
        ">>>**05 데이터 전처리**"
      ],
      "metadata": {
        "id": "LWYaLEMjQmYg"
      }
    },
    {
      "cell_type": "code",
      "source": [
        "library(dplyr)      # dplyr 패키지를 로드"
      ],
      "metadata": {
        "id": "j8vhbKKuMFfb"
      },
      "execution_count": 93,
      "outputs": []
    },
    {
      "cell_type": "code",
      "source": [
        "df <- read.csv(\"sample_data/df_sample.csv\")\n",
        "\n",
        "x <- c(\"1반\",\"1반\",\"1반\",\"2반\",\"2반\",\"2반\",\"3반\",\"3반\",\"3반\",\"3반\")       # 벡터 x정의\n",
        "df$class <- x               # 벡터 x를 값으로 df에 class 파생변수 생성\n",
        "head(df)"
      ],
      "metadata": {
        "colab": {
          "base_uri": "https://localhost:8080/",
          "height": 286
        },
        "id": "Js6HLPhyQo-a",
        "outputId": "fb2a4f8e-8e08-450e-cef0-5b77e52f6a98"
      },
      "execution_count": 94,
      "outputs": [
        {
          "output_type": "display_data",
          "data": {
            "text/html": [
              "<table class=\"dataframe\">\n",
              "<caption>A data.frame: 6 × 6</caption>\n",
              "<thead>\n",
              "\t<tr><th></th><th scope=col>학번</th><th scope=col>중간</th><th scope=col>기말</th><th scope=col>리포트</th><th scope=col>퀴즈</th><th scope=col>class</th></tr>\n",
              "\t<tr><th></th><th scope=col>&lt;chr&gt;</th><th scope=col>&lt;int&gt;</th><th scope=col>&lt;int&gt;</th><th scope=col>&lt;int&gt;</th><th scope=col>&lt;int&gt;</th><th scope=col>&lt;chr&gt;</th></tr>\n",
              "</thead>\n",
              "<tbody>\n",
              "\t<tr><th scope=row>1</th><td>S01</td><td>90</td><td>95</td><td>20</td><td>20</td><td>1반</td></tr>\n",
              "\t<tr><th scope=row>2</th><td>S02</td><td>82</td><td>83</td><td>18</td><td>18</td><td>1반</td></tr>\n",
              "\t<tr><th scope=row>3</th><td>S03</td><td>80</td><td>78</td><td>18</td><td>18</td><td>1반</td></tr>\n",
              "\t<tr><th scope=row>4</th><td>S04</td><td>78</td><td>75</td><td>10</td><td>10</td><td>2반</td></tr>\n",
              "\t<tr><th scope=row>5</th><td>S05</td><td>93</td><td>91</td><td>12</td><td>12</td><td>2반</td></tr>\n",
              "\t<tr><th scope=row>6</th><td>S06</td><td>71</td><td>75</td><td>16</td><td>16</td><td>2반</td></tr>\n",
              "</tbody>\n",
              "</table>\n"
            ],
            "text/markdown": "\nA data.frame: 6 × 6\n\n| <!--/--> | 학번 &lt;chr&gt; | 중간 &lt;int&gt; | 기말 &lt;int&gt; | 리포트 &lt;int&gt; | 퀴즈 &lt;int&gt; | class &lt;chr&gt; |\n|---|---|---|---|---|---|---|\n| 1 | S01 | 90 | 95 | 20 | 20 | 1반 |\n| 2 | S02 | 82 | 83 | 18 | 18 | 1반 |\n| 3 | S03 | 80 | 78 | 18 | 18 | 1반 |\n| 4 | S04 | 78 | 75 | 10 | 10 | 2반 |\n| 5 | S05 | 93 | 91 | 12 | 12 | 2반 |\n| 6 | S06 | 71 | 75 | 16 | 16 | 2반 |\n\n",
            "text/latex": "A data.frame: 6 × 6\n\\begin{tabular}{r|llllll}\n  & 학번 & 중간 & 기말 & 리포트 & 퀴즈 & class\\\\\n  & <chr> & <int> & <int> & <int> & <int> & <chr>\\\\\n\\hline\n\t1 & S01 & 90 & 95 & 20 & 20 & 1반\\\\\n\t2 & S02 & 82 & 83 & 18 & 18 & 1반\\\\\n\t3 & S03 & 80 & 78 & 18 & 18 & 1반\\\\\n\t4 & S04 & 78 & 75 & 10 & 10 & 2반\\\\\n\t5 & S05 & 93 & 91 & 12 & 12 & 2반\\\\\n\t6 & S06 & 71 & 75 & 16 & 16 & 2반\\\\\n\\end{tabular}\n",
            "text/plain": [
              "  학번 중간 기말 리포트 퀴즈 class\n",
              "1 S01  90   95   20     20   1반  \n",
              "2 S02  82   83   18     18   1반  \n",
              "3 S03  80   78   18     18   1반  \n",
              "4 S04  78   75   10     10   2반  \n",
              "5 S05  93   91   12     12   2반  \n",
              "6 S06  71   75   16     16   2반  "
            ]
          },
          "metadata": {}
        }
      ]
    },
    {
      "cell_type": "code",
      "source": [
        "df <- transform(df, 합계 = 중간+기말)     # 중간+기말을 값으로 df에 \"합계\" 파생변수 생성\n",
        "df <- transform(df, 평균 = 합계/2)        # 중간 시험의 평균값으로 df에 \"평균\" 파생변수 생성\n",
        "head(df)"
      ],
      "metadata": {
        "colab": {
          "base_uri": "https://localhost:8080/",
          "height": 286
        },
        "id": "ko28UVWm1Ppd",
        "outputId": "9139e368-d1a4-407d-f0ba-63b5bc534865"
      },
      "execution_count": 95,
      "outputs": [
        {
          "output_type": "display_data",
          "data": {
            "text/html": [
              "<table class=\"dataframe\">\n",
              "<caption>A data.frame: 6 × 8</caption>\n",
              "<thead>\n",
              "\t<tr><th></th><th scope=col>학번</th><th scope=col>중간</th><th scope=col>기말</th><th scope=col>리포트</th><th scope=col>퀴즈</th><th scope=col>class</th><th scope=col>합계</th><th scope=col>평균</th></tr>\n",
              "\t<tr><th></th><th scope=col>&lt;chr&gt;</th><th scope=col>&lt;int&gt;</th><th scope=col>&lt;int&gt;</th><th scope=col>&lt;int&gt;</th><th scope=col>&lt;int&gt;</th><th scope=col>&lt;chr&gt;</th><th scope=col>&lt;int&gt;</th><th scope=col>&lt;dbl&gt;</th></tr>\n",
              "</thead>\n",
              "<tbody>\n",
              "\t<tr><th scope=row>1</th><td>S01</td><td>90</td><td>95</td><td>20</td><td>20</td><td>1반</td><td>185</td><td>92.5</td></tr>\n",
              "\t<tr><th scope=row>2</th><td>S02</td><td>82</td><td>83</td><td>18</td><td>18</td><td>1반</td><td>165</td><td>82.5</td></tr>\n",
              "\t<tr><th scope=row>3</th><td>S03</td><td>80</td><td>78</td><td>18</td><td>18</td><td>1반</td><td>158</td><td>79.0</td></tr>\n",
              "\t<tr><th scope=row>4</th><td>S04</td><td>78</td><td>75</td><td>10</td><td>10</td><td>2반</td><td>153</td><td>76.5</td></tr>\n",
              "\t<tr><th scope=row>5</th><td>S05</td><td>93</td><td>91</td><td>12</td><td>12</td><td>2반</td><td>184</td><td>92.0</td></tr>\n",
              "\t<tr><th scope=row>6</th><td>S06</td><td>71</td><td>75</td><td>16</td><td>16</td><td>2반</td><td>146</td><td>73.0</td></tr>\n",
              "</tbody>\n",
              "</table>\n"
            ],
            "text/markdown": "\nA data.frame: 6 × 8\n\n| <!--/--> | 학번 &lt;chr&gt; | 중간 &lt;int&gt; | 기말 &lt;int&gt; | 리포트 &lt;int&gt; | 퀴즈 &lt;int&gt; | class &lt;chr&gt; | 합계 &lt;int&gt; | 평균 &lt;dbl&gt; |\n|---|---|---|---|---|---|---|---|---|\n| 1 | S01 | 90 | 95 | 20 | 20 | 1반 | 185 | 92.5 |\n| 2 | S02 | 82 | 83 | 18 | 18 | 1반 | 165 | 82.5 |\n| 3 | S03 | 80 | 78 | 18 | 18 | 1반 | 158 | 79.0 |\n| 4 | S04 | 78 | 75 | 10 | 10 | 2반 | 153 | 76.5 |\n| 5 | S05 | 93 | 91 | 12 | 12 | 2반 | 184 | 92.0 |\n| 6 | S06 | 71 | 75 | 16 | 16 | 2반 | 146 | 73.0 |\n\n",
            "text/latex": "A data.frame: 6 × 8\n\\begin{tabular}{r|llllllll}\n  & 학번 & 중간 & 기말 & 리포트 & 퀴즈 & class & 합계 & 평균\\\\\n  & <chr> & <int> & <int> & <int> & <int> & <chr> & <int> & <dbl>\\\\\n\\hline\n\t1 & S01 & 90 & 95 & 20 & 20 & 1반 & 185 & 92.5\\\\\n\t2 & S02 & 82 & 83 & 18 & 18 & 1반 & 165 & 82.5\\\\\n\t3 & S03 & 80 & 78 & 18 & 18 & 1반 & 158 & 79.0\\\\\n\t4 & S04 & 78 & 75 & 10 & 10 & 2반 & 153 & 76.5\\\\\n\t5 & S05 & 93 & 91 & 12 & 12 & 2반 & 184 & 92.0\\\\\n\t6 & S06 & 71 & 75 & 16 & 16 & 2반 & 146 & 73.0\\\\\n\\end{tabular}\n",
            "text/plain": [
              "  학번 중간 기말 리포트 퀴즈 class 합계 평균\n",
              "1 S01  90   95   20     20   1반   185  92.5\n",
              "2 S02  82   83   18     18   1반   165  82.5\n",
              "3 S03  80   78   18     18   1반   158  79.0\n",
              "4 S04  78   75   10     10   2반   153  76.5\n",
              "5 S05  93   91   12     12   2반   184  92.0\n",
              "6 S06  71   75   16     16   2반   146  73.0"
            ]
          },
          "metadata": {}
        }
      ]
    },
    {
      "cell_type": "code",
      "source": [
        "# 중간 시험 점수를 표준화(Z-Score)하여 변환\n",
        "df_z <- transform(df, 중간scale = scale(df$중간, center=TRUE, scale=TRUE))\n",
        "head(df_z)"
      ],
      "metadata": {
        "colab": {
          "base_uri": "https://localhost:8080/",
          "height": 286
        },
        "id": "6JZp_naP2HL9",
        "outputId": "53a7323d-3250-4541-9beb-c8a7a8385411"
      },
      "execution_count": 96,
      "outputs": [
        {
          "output_type": "display_data",
          "data": {
            "text/html": [
              "<table class=\"dataframe\">\n",
              "<caption>A data.frame: 6 × 9</caption>\n",
              "<thead>\n",
              "\t<tr><th></th><th scope=col>학번</th><th scope=col>중간</th><th scope=col>기말</th><th scope=col>리포트</th><th scope=col>퀴즈</th><th scope=col>class</th><th scope=col>합계</th><th scope=col>평균</th><th scope=col>중간scale</th></tr>\n",
              "\t<tr><th></th><th scope=col>&lt;chr&gt;</th><th scope=col>&lt;int&gt;</th><th scope=col>&lt;int&gt;</th><th scope=col>&lt;int&gt;</th><th scope=col>&lt;int&gt;</th><th scope=col>&lt;chr&gt;</th><th scope=col>&lt;int&gt;</th><th scope=col>&lt;dbl&gt;</th><th scope=col>&lt;dbl&gt;</th></tr>\n",
              "</thead>\n",
              "<tbody>\n",
              "\t<tr><th scope=row>1</th><td>S01</td><td>90</td><td>95</td><td>20</td><td>20</td><td>1반</td><td>185</td><td>92.5</td><td> 1.16798784</td></tr>\n",
              "\t<tr><th scope=row>2</th><td>S02</td><td>82</td><td>83</td><td>18</td><td>18</td><td>1반</td><td>165</td><td>82.5</td><td> 0.41444730</td></tr>\n",
              "\t<tr><th scope=row>3</th><td>S03</td><td>80</td><td>78</td><td>18</td><td>18</td><td>1반</td><td>158</td><td>79.0</td><td> 0.22606216</td></tr>\n",
              "\t<tr><th scope=row>4</th><td>S04</td><td>78</td><td>75</td><td>10</td><td>10</td><td>2반</td><td>153</td><td>76.5</td><td> 0.03767703</td></tr>\n",
              "\t<tr><th scope=row>5</th><td>S05</td><td>93</td><td>91</td><td>12</td><td>12</td><td>2반</td><td>184</td><td>92.0</td><td> 1.45056554</td></tr>\n",
              "\t<tr><th scope=row>6</th><td>S06</td><td>71</td><td>75</td><td>16</td><td>16</td><td>2반</td><td>146</td><td>73.0</td><td>-0.62167094</td></tr>\n",
              "</tbody>\n",
              "</table>\n"
            ],
            "text/markdown": "\nA data.frame: 6 × 9\n\n| <!--/--> | 학번 &lt;chr&gt; | 중간 &lt;int&gt; | 기말 &lt;int&gt; | 리포트 &lt;int&gt; | 퀴즈 &lt;int&gt; | class &lt;chr&gt; | 합계 &lt;int&gt; | 평균 &lt;dbl&gt; | 중간scale &lt;dbl&gt; |\n|---|---|---|---|---|---|---|---|---|---|\n| 1 | S01 | 90 | 95 | 20 | 20 | 1반 | 185 | 92.5 |  1.16798784 |\n| 2 | S02 | 82 | 83 | 18 | 18 | 1반 | 165 | 82.5 |  0.41444730 |\n| 3 | S03 | 80 | 78 | 18 | 18 | 1반 | 158 | 79.0 |  0.22606216 |\n| 4 | S04 | 78 | 75 | 10 | 10 | 2반 | 153 | 76.5 |  0.03767703 |\n| 5 | S05 | 93 | 91 | 12 | 12 | 2반 | 184 | 92.0 |  1.45056554 |\n| 6 | S06 | 71 | 75 | 16 | 16 | 2반 | 146 | 73.0 | -0.62167094 |\n\n",
            "text/latex": "A data.frame: 6 × 9\n\\begin{tabular}{r|lllllllll}\n  & 학번 & 중간 & 기말 & 리포트 & 퀴즈 & class & 합계 & 평균 & 중간scale\\\\\n  & <chr> & <int> & <int> & <int> & <int> & <chr> & <int> & <dbl> & <dbl>\\\\\n\\hline\n\t1 & S01 & 90 & 95 & 20 & 20 & 1반 & 185 & 92.5 &  1.16798784\\\\\n\t2 & S02 & 82 & 83 & 18 & 18 & 1반 & 165 & 82.5 &  0.41444730\\\\\n\t3 & S03 & 80 & 78 & 18 & 18 & 1반 & 158 & 79.0 &  0.22606216\\\\\n\t4 & S04 & 78 & 75 & 10 & 10 & 2반 & 153 & 76.5 &  0.03767703\\\\\n\t5 & S05 & 93 & 91 & 12 & 12 & 2반 & 184 & 92.0 &  1.45056554\\\\\n\t6 & S06 & 71 & 75 & 16 & 16 & 2반 & 146 & 73.0 & -0.62167094\\\\\n\\end{tabular}\n",
            "text/plain": [
              "  학번 중간 기말 리포트 퀴즈 class 합계 평균 중간scale  \n",
              "1 S01  90   95   20     20   1반   185  92.5  1.16798784\n",
              "2 S02  82   83   18     18   1반   165  82.5  0.41444730\n",
              "3 S03  80   78   18     18   1반   158  79.0  0.22606216\n",
              "4 S04  78   75   10     10   2반   153  76.5  0.03767703\n",
              "5 S05  93   91   12     12   2반   184  92.0  1.45056554\n",
              "6 S06  71   75   16     16   2반   146  73.0 -0.62167094"
            ]
          },
          "metadata": {}
        }
      ]
    },
    {
      "cell_type": "code",
      "source": [
        "fmin <- min(df$기말)    # 기말 점수의 최소값\n",
        "fmax <- max(df$기말)    # 기말 점수의 최대값\n",
        "df_z <- transform(df, 기말scale = scale(df$기말, center=fmin, scale=fmax-fmin))\n",
        "head(df_z)"
      ],
      "metadata": {
        "colab": {
          "base_uri": "https://localhost:8080/",
          "height": 286
        },
        "id": "-vMYf3KT2LQS",
        "outputId": "9cc3a90c-094a-4451-c51d-45d8b3828b89"
      },
      "execution_count": 97,
      "outputs": [
        {
          "output_type": "display_data",
          "data": {
            "text/html": [
              "<table class=\"dataframe\">\n",
              "<caption>A data.frame: 6 × 9</caption>\n",
              "<thead>\n",
              "\t<tr><th></th><th scope=col>학번</th><th scope=col>중간</th><th scope=col>기말</th><th scope=col>리포트</th><th scope=col>퀴즈</th><th scope=col>class</th><th scope=col>합계</th><th scope=col>평균</th><th scope=col>기말scale</th></tr>\n",
              "\t<tr><th></th><th scope=col>&lt;chr&gt;</th><th scope=col>&lt;int&gt;</th><th scope=col>&lt;int&gt;</th><th scope=col>&lt;int&gt;</th><th scope=col>&lt;int&gt;</th><th scope=col>&lt;chr&gt;</th><th scope=col>&lt;int&gt;</th><th scope=col>&lt;dbl&gt;</th><th scope=col>&lt;dbl&gt;</th></tr>\n",
              "</thead>\n",
              "<tbody>\n",
              "\t<tr><th scope=row>1</th><td>S01</td><td>90</td><td>95</td><td>20</td><td>20</td><td>1반</td><td>185</td><td>92.5</td><td>1.0000000</td></tr>\n",
              "\t<tr><th scope=row>2</th><td>S02</td><td>82</td><td>83</td><td>18</td><td>18</td><td>1반</td><td>165</td><td>82.5</td><td>0.6000000</td></tr>\n",
              "\t<tr><th scope=row>3</th><td>S03</td><td>80</td><td>78</td><td>18</td><td>18</td><td>1반</td><td>158</td><td>79.0</td><td>0.4333333</td></tr>\n",
              "\t<tr><th scope=row>4</th><td>S04</td><td>78</td><td>75</td><td>10</td><td>10</td><td>2반</td><td>153</td><td>76.5</td><td>0.3333333</td></tr>\n",
              "\t<tr><th scope=row>5</th><td>S05</td><td>93</td><td>91</td><td>12</td><td>12</td><td>2반</td><td>184</td><td>92.0</td><td>0.8666667</td></tr>\n",
              "\t<tr><th scope=row>6</th><td>S06</td><td>71</td><td>75</td><td>16</td><td>16</td><td>2반</td><td>146</td><td>73.0</td><td>0.3333333</td></tr>\n",
              "</tbody>\n",
              "</table>\n"
            ],
            "text/markdown": "\nA data.frame: 6 × 9\n\n| <!--/--> | 학번 &lt;chr&gt; | 중간 &lt;int&gt; | 기말 &lt;int&gt; | 리포트 &lt;int&gt; | 퀴즈 &lt;int&gt; | class &lt;chr&gt; | 합계 &lt;int&gt; | 평균 &lt;dbl&gt; | 기말scale &lt;dbl&gt; |\n|---|---|---|---|---|---|---|---|---|---|\n| 1 | S01 | 90 | 95 | 20 | 20 | 1반 | 185 | 92.5 | 1.0000000 |\n| 2 | S02 | 82 | 83 | 18 | 18 | 1반 | 165 | 82.5 | 0.6000000 |\n| 3 | S03 | 80 | 78 | 18 | 18 | 1반 | 158 | 79.0 | 0.4333333 |\n| 4 | S04 | 78 | 75 | 10 | 10 | 2반 | 153 | 76.5 | 0.3333333 |\n| 5 | S05 | 93 | 91 | 12 | 12 | 2반 | 184 | 92.0 | 0.8666667 |\n| 6 | S06 | 71 | 75 | 16 | 16 | 2반 | 146 | 73.0 | 0.3333333 |\n\n",
            "text/latex": "A data.frame: 6 × 9\n\\begin{tabular}{r|lllllllll}\n  & 학번 & 중간 & 기말 & 리포트 & 퀴즈 & class & 합계 & 평균 & 기말scale\\\\\n  & <chr> & <int> & <int> & <int> & <int> & <chr> & <int> & <dbl> & <dbl>\\\\\n\\hline\n\t1 & S01 & 90 & 95 & 20 & 20 & 1반 & 185 & 92.5 & 1.0000000\\\\\n\t2 & S02 & 82 & 83 & 18 & 18 & 1반 & 165 & 82.5 & 0.6000000\\\\\n\t3 & S03 & 80 & 78 & 18 & 18 & 1반 & 158 & 79.0 & 0.4333333\\\\\n\t4 & S04 & 78 & 75 & 10 & 10 & 2반 & 153 & 76.5 & 0.3333333\\\\\n\t5 & S05 & 93 & 91 & 12 & 12 & 2반 & 184 & 92.0 & 0.8666667\\\\\n\t6 & S06 & 71 & 75 & 16 & 16 & 2반 & 146 & 73.0 & 0.3333333\\\\\n\\end{tabular}\n",
            "text/plain": [
              "  학번 중간 기말 리포트 퀴즈 class 합계 평균 기말scale\n",
              "1 S01  90   95   20     20   1반   185  92.5 1.0000000\n",
              "2 S02  82   83   18     18   1반   165  82.5 0.6000000\n",
              "3 S03  80   78   18     18   1반   158  79.0 0.4333333\n",
              "4 S04  78   75   10     10   2반   153  76.5 0.3333333\n",
              "5 S05  93   91   12     12   2반   184  92.0 0.8666667\n",
              "6 S06  71   75   16     16   2반   146  73.0 0.3333333"
            ]
          },
          "metadata": {}
        }
      ]
    },
    {
      "cell_type": "code",
      "source": [
        "#class를 기준으로 그룹화 하고 그룹의 중간 시험 점수 평균을 구함\n",
        "aggregate(중간~class, df, mean)"
      ],
      "metadata": {
        "colab": {
          "base_uri": "https://localhost:8080/",
          "height": 192
        },
        "id": "PAAhTFQm2OYu",
        "outputId": "f2c255cf-445c-4e7e-ef62-4db16561997e"
      },
      "execution_count": 98,
      "outputs": [
        {
          "output_type": "display_data",
          "data": {
            "text/html": [
              "<table class=\"dataframe\">\n",
              "<caption>A data.frame: 3 × 2</caption>\n",
              "<thead>\n",
              "\t<tr><th scope=col>class</th><th scope=col>중간</th></tr>\n",
              "\t<tr><th scope=col>&lt;chr&gt;</th><th scope=col>&lt;dbl&gt;</th></tr>\n",
              "</thead>\n",
              "<tbody>\n",
              "\t<tr><td>1반</td><td>84.00000</td></tr>\n",
              "\t<tr><td>2반</td><td>80.66667</td></tr>\n",
              "\t<tr><td>3반</td><td>70.50000</td></tr>\n",
              "</tbody>\n",
              "</table>\n"
            ],
            "text/markdown": "\nA data.frame: 3 × 2\n\n| class &lt;chr&gt; | 중간 &lt;dbl&gt; |\n|---|---|\n| 1반 | 84.00000 |\n| 2반 | 80.66667 |\n| 3반 | 70.50000 |\n\n",
            "text/latex": "A data.frame: 3 × 2\n\\begin{tabular}{ll}\n class & 중간\\\\\n <chr> & <dbl>\\\\\n\\hline\n\t 1반 & 84.00000\\\\\n\t 2반 & 80.66667\\\\\n\t 3반 & 70.50000\\\\\n\\end{tabular}\n",
            "text/plain": [
              "  class 중간    \n",
              "1 1반   84.00000\n",
              "2 2반   80.66667\n",
              "3 3반   70.50000"
            ]
          },
          "metadata": {}
        }
      ]
    },
    {
      "cell_type": "code",
      "source": [
        "table(df$class)         # class를 기준으로 도수분포표를 작성\n",
        "prop.table(table(df$class))    # class를 기준으로 상대도수분포표를 작성"
      ],
      "metadata": {
        "colab": {
          "base_uri": "https://localhost:8080/",
          "height": 127
        },
        "id": "L2vMdum32Rbr",
        "outputId": "48fa0485-39f6-4d74-b288-406877c7da67"
      },
      "execution_count": 99,
      "outputs": [
        {
          "output_type": "display_data",
          "data": {
            "text/plain": [
              "\n",
              "1반 2반 3반 \n",
              "  3   3   4 "
            ]
          },
          "metadata": {}
        },
        {
          "output_type": "display_data",
          "data": {
            "text/plain": [
              "\n",
              "1반 2반 3반 \n",
              "0.3 0.3 0.4 "
            ]
          },
          "metadata": {}
        }
      ]
    },
    {
      "cell_type": "code",
      "source": [
        "apply(df[2:5], 2, mean)    # df의 2~5열의 평균을 구함 (1은 행방향, 2는 열방향)"
      ],
      "metadata": {
        "colab": {
          "base_uri": "https://localhost:8080/",
          "height": 34
        },
        "id": "FG6jcBb-O_Az",
        "outputId": "505f6f34-41de-459a-b54a-2395fda7e9fe"
      },
      "execution_count": 100,
      "outputs": [
        {
          "output_type": "display_data",
          "data": {
            "text/html": [
              "<style>\n",
              ".dl-inline {width: auto; margin:0; padding: 0}\n",
              ".dl-inline>dt, .dl-inline>dd {float: none; width: auto; display: inline-block}\n",
              ".dl-inline>dt::after {content: \":\\0020\"; padding-right: .5ex}\n",
              ".dl-inline>dt:not(:first-of-type) {padding-left: .5ex}\n",
              "</style><dl class=dl-inline><dt>중간</dt><dd>77.6</dd><dt>기말</dt><dd>78.5</dd><dt>리포트</dt><dd>15</dd><dt>퀴즈</dt><dd>15</dd></dl>\n"
            ],
            "text/markdown": "중간\n:   77.6기말\n:   78.5리포트\n:   15퀴즈\n:   15\n\n",
            "text/latex": "\\begin{description*}\n\\item[중간] 77.6\n\\item[기말] 78.5\n\\item[리포트] 15\n\\item[퀴즈] 15\n\\end{description*}\n",
            "text/plain": [
              "  중간   기말 리포트   퀴즈 \n",
              "  77.6   78.5   15.0   15.0 "
            ]
          },
          "metadata": {}
        }
      ]
    },
    {
      "cell_type": "code",
      "source": [
        "tapply(df$기말, df$class, mean)"
      ],
      "metadata": {
        "colab": {
          "base_uri": "https://localhost:8080/",
          "height": 34
        },
        "id": "wisC_WyxPDZM",
        "outputId": "193268cb-a818-4388-dbd2-052abe7567d0"
      },
      "execution_count": 101,
      "outputs": [
        {
          "output_type": "display_data",
          "data": {
            "text/html": [
              "<style>\n",
              ".dl-inline {width: auto; margin:0; padding: 0}\n",
              ".dl-inline>dt, .dl-inline>dd {float: none; width: auto; display: inline-block}\n",
              ".dl-inline>dt::after {content: \":\\0020\"; padding-right: .5ex}\n",
              ".dl-inline>dt:not(:first-of-type) {padding-left: .5ex}\n",
              "</style><dl class=dl-inline><dt>1반</dt><dd>85.3333333333333</dd><dt>2반</dt><dd>80.3333333333333</dd><dt>3반</dt><dd>72</dd></dl>\n"
            ],
            "text/markdown": "1반\n:   85.33333333333332반\n:   80.33333333333333반\n:   72\n\n",
            "text/latex": "\\begin{description*}\n\\item[1반] 85.3333333333333\n\\item[2반] 80.3333333333333\n\\item[3반] 72\n\\end{description*}\n",
            "text/plain": [
              "     1반      2반      3반 \n",
              "85.33333 80.33333 72.00000 "
            ]
          },
          "metadata": {}
        }
      ]
    },
    {
      "cell_type": "code",
      "source": [
        "x = c(14,15,13,14,NA,NA,19,11,12,18)    # 결측값이 있는 컬럼 \"토론\" 추가\n",
        "df$토론 <- x\n",
        "is.na(df$토론)          # 토론 열의 결측값이 있는 부분을 TRUE로 표시\n",
        "sum(is.na(df$토론))     # 토론 열의 NA의 개수 계산\n",
        "table(is.na(df$토론))   # 토론 열의 결측값의 개수와 결측값이 아닌 개수를 함께 계산"
      ],
      "metadata": {
        "colab": {
          "base_uri": "https://localhost:8080/",
          "height": 107
        },
        "id": "bJgSXaOQPGRo",
        "outputId": "cc67b792-8a55-4ad1-a56a-37daf54e6c2b"
      },
      "execution_count": 102,
      "outputs": [
        {
          "output_type": "display_data",
          "data": {
            "text/html": [
              "<style>\n",
              ".list-inline {list-style: none; margin:0; padding: 0}\n",
              ".list-inline>li {display: inline-block}\n",
              ".list-inline>li:not(:last-child)::after {content: \"\\00b7\"; padding: 0 .5ex}\n",
              "</style>\n",
              "<ol class=list-inline><li>FALSE</li><li>FALSE</li><li>FALSE</li><li>FALSE</li><li>TRUE</li><li>TRUE</li><li>FALSE</li><li>FALSE</li><li>FALSE</li><li>FALSE</li></ol>\n"
            ],
            "text/markdown": "1. FALSE\n2. FALSE\n3. FALSE\n4. FALSE\n5. TRUE\n6. TRUE\n7. FALSE\n8. FALSE\n9. FALSE\n10. FALSE\n\n\n",
            "text/latex": "\\begin{enumerate*}\n\\item FALSE\n\\item FALSE\n\\item FALSE\n\\item FALSE\n\\item TRUE\n\\item TRUE\n\\item FALSE\n\\item FALSE\n\\item FALSE\n\\item FALSE\n\\end{enumerate*}\n",
            "text/plain": [
              " [1] FALSE FALSE FALSE FALSE  TRUE  TRUE FALSE FALSE FALSE FALSE"
            ]
          },
          "metadata": {}
        },
        {
          "output_type": "display_data",
          "data": {
            "text/html": [
              "2"
            ],
            "text/markdown": "2",
            "text/latex": "2",
            "text/plain": [
              "[1] 2"
            ]
          },
          "metadata": {}
        },
        {
          "output_type": "display_data",
          "data": {
            "text/plain": [
              "\n",
              "FALSE  TRUE \n",
              "    8     2 "
            ]
          },
          "metadata": {}
        }
      ]
    },
    {
      "cell_type": "code",
      "source": [
        "# 결측치가 있는 행을 제거하는 다양한 방법\n",
        "df_new <- na.omit(df)                     # omit() 함수 사용\n",
        "df_new <- df[!is.na(df$토론),]            # 조건에 맞는 행 선택\n",
        "df_new <- filter(df, !is.na(df$토론))     # filter() 함수 사용"
      ],
      "metadata": {
        "id": "Xrb9RQudQGrL"
      },
      "execution_count": 103,
      "outputs": []
    },
    {
      "cell_type": "code",
      "source": [
        "d_mean <- mean(df$토론, na.rm=1) # 결측값을 제외한 평균을 구함\n",
        "# df$토론의 값이 NA이면 평균(d_mean)으로 대체 (평균=14.5)\n",
        "df$토론 <- ifelse(is.na(df$토론), d_mean, df$토론)"
      ],
      "metadata": {
        "id": "v8fxP28VQfVh"
      },
      "execution_count": 104,
      "outputs": []
    },
    {
      "cell_type": "code",
      "source": [
        "quantile(df$기말, prob=0.25)    # 1사분위수\n",
        "quantile(df$기말, prob=0.75)    # 3사분위수\n",
        "df_IQR <- IQR(df$기말)\n",
        "df_IQR"
      ],
      "metadata": {
        "colab": {
          "base_uri": "https://localhost:8080/",
          "height": 69
        },
        "id": "_xnaf63MQhH8",
        "outputId": "380d6c0b-714e-4dca-aa1e-93eafd2e6ed1"
      },
      "execution_count": 105,
      "outputs": [
        {
          "output_type": "display_data",
          "data": {
            "text/html": [
              "<strong>25%:</strong> 75"
            ],
            "text/markdown": "**25%:** 75",
            "text/latex": "\\textbf{25\\textbackslash{}\\%:} 75",
            "text/plain": [
              "25% \n",
              " 75 "
            ]
          },
          "metadata": {}
        },
        {
          "output_type": "display_data",
          "data": {
            "text/html": [
              "<strong>75%:</strong> 82.25"
            ],
            "text/markdown": "**75%:** 82.25",
            "text/latex": "\\textbf{75\\textbackslash{}\\%:} 82.25",
            "text/plain": [
              "  75% \n",
              "82.25 "
            ]
          },
          "metadata": {}
        },
        {
          "output_type": "display_data",
          "data": {
            "text/html": [
              "7.25"
            ],
            "text/markdown": "7.25",
            "text/latex": "7.25",
            "text/plain": [
              "[1] 7.25"
            ]
          },
          "metadata": {}
        }
      ]
    }
  ]
}