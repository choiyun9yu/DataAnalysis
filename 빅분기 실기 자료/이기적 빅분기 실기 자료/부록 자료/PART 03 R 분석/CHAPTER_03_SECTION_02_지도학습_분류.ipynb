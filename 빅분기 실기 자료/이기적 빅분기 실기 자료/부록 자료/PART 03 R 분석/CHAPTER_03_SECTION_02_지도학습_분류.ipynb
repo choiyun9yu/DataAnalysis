{
  "nbformat": 4,
  "nbformat_minor": 0,
  "metadata": {
    "colab": {
      "name": "CHAPTER 03-SECTION 02 지도학습-분류.ipynb",
      "provenance": []
    },
    "kernelspec": {
      "name": "ir",
      "display_name": "R"
    },
    "language_info": {
      "name": "R"
    }
  },
  "cells": [
    {
      "cell_type": "markdown",
      "source": [
        "PART 03 R 분석\n",
        "\n",
        "> CHAPTER 03 제2유형: 데이터 분석\n",
        "> >SECTION 02 지도학습-분류\n",
        "> > >**01 의사결정나무를 이용한 분류 문제 해결**"
      ],
      "metadata": {
        "id": "-7UzT7vpmE1i"
      }
    },
    {
      "cell_type": "code",
      "execution_count": 2,
      "metadata": {
        "colab": {
          "base_uri": "https://localhost:8080/"
        },
        "id": "z7ZtBbiGluv5",
        "outputId": "22bc8071-594f-49ef-ec4c-7d0949a2193c"
      },
      "outputs": [
        {
          "output_type": "stream",
          "name": "stderr",
          "text": [
            "\n",
            "Attaching package: ‘dplyr’\n",
            "\n",
            "\n",
            "The following objects are masked from ‘package:stats’:\n",
            "\n",
            "    filter, lag\n",
            "\n",
            "\n",
            "The following objects are masked from ‘package:base’:\n",
            "\n",
            "    intersect, setdiff, setequal, union\n",
            "\n",
            "\n"
          ]
        }
      ],
      "source": [
        "library(dplyr)        # dplyr 패키지 임포트\n",
        "library(ggplot2)      # ggplot2 패키지 임포트\n",
        "\n",
        "# 의사결정나무 분류모델을 위한 패키지 임포트\n",
        "library(class)"
      ]
    },
    {
      "cell_type": "code",
      "source": [
        "# 깃허브에 공개되어 있는 csv 파일을 읽어와서 데이터프레임 df로 넣는다.\n",
        "df <- read.csv(\"https://raw.githubusercontent.com/datasciencedojo/datasets/master/titanic.csv\", stringsAsFactors=TRUE)"
      ],
      "metadata": {
        "id": "Y2onEXV_maP2"
      },
      "execution_count": 3,
      "outputs": []
    },
    {
      "cell_type": "code",
      "source": [
        "df"
      ],
      "metadata": {
        "colab": {
          "base_uri": "https://localhost:8080/",
          "height": 1000
        },
        "id": "3-lwLaX0miMT",
        "outputId": "28c3c20b-058d-4898-ee75-040b200fabbb"
      },
      "execution_count": 4,
      "outputs": [
        {
          "output_type": "display_data",
          "data": {
            "text/html": [
              "<table class=\"dataframe\">\n",
              "<caption>A data.frame: 891 × 12</caption>\n",
              "<thead>\n",
              "\t<tr><th scope=col>PassengerId</th><th scope=col>Survived</th><th scope=col>Pclass</th><th scope=col>Name</th><th scope=col>Sex</th><th scope=col>Age</th><th scope=col>SibSp</th><th scope=col>Parch</th><th scope=col>Ticket</th><th scope=col>Fare</th><th scope=col>Cabin</th><th scope=col>Embarked</th></tr>\n",
              "\t<tr><th scope=col>&lt;int&gt;</th><th scope=col>&lt;int&gt;</th><th scope=col>&lt;int&gt;</th><th scope=col>&lt;fct&gt;</th><th scope=col>&lt;fct&gt;</th><th scope=col>&lt;dbl&gt;</th><th scope=col>&lt;int&gt;</th><th scope=col>&lt;int&gt;</th><th scope=col>&lt;fct&gt;</th><th scope=col>&lt;dbl&gt;</th><th scope=col>&lt;fct&gt;</th><th scope=col>&lt;fct&gt;</th></tr>\n",
              "</thead>\n",
              "<tbody>\n",
              "\t<tr><td> 1</td><td>0</td><td>3</td><td>Braund, Mr. Owen Harris                                  </td><td>male  </td><td>22</td><td>1</td><td>0</td><td>A/5 21171       </td><td>  7.2500</td><td>           </td><td>S</td></tr>\n",
              "\t<tr><td> 2</td><td>1</td><td>1</td><td>Cumings, Mrs. John Bradley (Florence Briggs Thayer)      </td><td>female</td><td>38</td><td>1</td><td>0</td><td>PC 17599        </td><td> 71.2833</td><td>C85        </td><td>C</td></tr>\n",
              "\t<tr><td> 3</td><td>1</td><td>3</td><td>Heikkinen, Miss. Laina                                   </td><td>female</td><td>26</td><td>0</td><td>0</td><td>STON/O2. 3101282</td><td>  7.9250</td><td>           </td><td>S</td></tr>\n",
              "\t<tr><td> 4</td><td>1</td><td>1</td><td>Futrelle, Mrs. Jacques Heath (Lily May Peel)             </td><td>female</td><td>35</td><td>1</td><td>0</td><td>113803          </td><td> 53.1000</td><td>C123       </td><td>S</td></tr>\n",
              "\t<tr><td> 5</td><td>0</td><td>3</td><td>Allen, Mr. William Henry                                 </td><td>male  </td><td>35</td><td>0</td><td>0</td><td>373450          </td><td>  8.0500</td><td>           </td><td>S</td></tr>\n",
              "\t<tr><td> 6</td><td>0</td><td>3</td><td>Moran, Mr. James                                         </td><td>male  </td><td>NA</td><td>0</td><td>0</td><td>330877          </td><td>  8.4583</td><td>           </td><td>Q</td></tr>\n",
              "\t<tr><td> 7</td><td>0</td><td>1</td><td>McCarthy, Mr. Timothy J                                  </td><td>male  </td><td>54</td><td>0</td><td>0</td><td>17463           </td><td> 51.8625</td><td>E46        </td><td>S</td></tr>\n",
              "\t<tr><td> 8</td><td>0</td><td>3</td><td>Palsson, Master. Gosta Leonard                           </td><td>male  </td><td> 2</td><td>3</td><td>1</td><td>349909          </td><td> 21.0750</td><td>           </td><td>S</td></tr>\n",
              "\t<tr><td> 9</td><td>1</td><td>3</td><td>Johnson, Mrs. Oscar W (Elisabeth Vilhelmina Berg)        </td><td>female</td><td>27</td><td>0</td><td>2</td><td>347742          </td><td> 11.1333</td><td>           </td><td>S</td></tr>\n",
              "\t<tr><td>10</td><td>1</td><td>2</td><td>Nasser, Mrs. Nicholas (Adele Achem)                      </td><td>female</td><td>14</td><td>1</td><td>0</td><td>237736          </td><td> 30.0708</td><td>           </td><td>C</td></tr>\n",
              "\t<tr><td>11</td><td>1</td><td>3</td><td>Sandstrom, Miss. Marguerite Rut                          </td><td>female</td><td> 4</td><td>1</td><td>1</td><td>PP 9549         </td><td> 16.7000</td><td>G6         </td><td>S</td></tr>\n",
              "\t<tr><td>12</td><td>1</td><td>1</td><td>Bonnell, Miss. Elizabeth                                 </td><td>female</td><td>58</td><td>0</td><td>0</td><td>113783          </td><td> 26.5500</td><td>C103       </td><td>S</td></tr>\n",
              "\t<tr><td>13</td><td>0</td><td>3</td><td>Saundercock, Mr. William Henry                           </td><td>male  </td><td>20</td><td>0</td><td>0</td><td>A/5. 2151       </td><td>  8.0500</td><td>           </td><td>S</td></tr>\n",
              "\t<tr><td>14</td><td>0</td><td>3</td><td>Andersson, Mr. Anders Johan                              </td><td>male  </td><td>39</td><td>1</td><td>5</td><td>347082          </td><td> 31.2750</td><td>           </td><td>S</td></tr>\n",
              "\t<tr><td>15</td><td>0</td><td>3</td><td>Vestrom, Miss. Hulda Amanda Adolfina                     </td><td>female</td><td>14</td><td>0</td><td>0</td><td>350406          </td><td>  7.8542</td><td>           </td><td>S</td></tr>\n",
              "\t<tr><td>16</td><td>1</td><td>2</td><td>Hewlett, Mrs. (Mary D Kingcome)                          </td><td>female</td><td>55</td><td>0</td><td>0</td><td>248706          </td><td> 16.0000</td><td>           </td><td>S</td></tr>\n",
              "\t<tr><td>17</td><td>0</td><td>3</td><td>Rice, Master. Eugene                                     </td><td>male  </td><td> 2</td><td>4</td><td>1</td><td>382652          </td><td> 29.1250</td><td>           </td><td>Q</td></tr>\n",
              "\t<tr><td>18</td><td>1</td><td>2</td><td>Williams, Mr. Charles Eugene                             </td><td>male  </td><td>NA</td><td>0</td><td>0</td><td>244373          </td><td> 13.0000</td><td>           </td><td>S</td></tr>\n",
              "\t<tr><td>19</td><td>0</td><td>3</td><td>Vander Planke, Mrs. Julius (Emelia Maria Vandemoortele)  </td><td>female</td><td>31</td><td>1</td><td>0</td><td>345763          </td><td> 18.0000</td><td>           </td><td>S</td></tr>\n",
              "\t<tr><td>20</td><td>1</td><td>3</td><td>Masselmani, Mrs. Fatima                                  </td><td>female</td><td>NA</td><td>0</td><td>0</td><td>2649            </td><td>  7.2250</td><td>           </td><td>C</td></tr>\n",
              "\t<tr><td>21</td><td>0</td><td>2</td><td>Fynney, Mr. Joseph J                                     </td><td>male  </td><td>35</td><td>0</td><td>0</td><td>239865          </td><td> 26.0000</td><td>           </td><td>S</td></tr>\n",
              "\t<tr><td>22</td><td>1</td><td>2</td><td>Beesley, Mr. Lawrence                                    </td><td>male  </td><td>34</td><td>0</td><td>0</td><td>248698          </td><td> 13.0000</td><td>D56        </td><td>S</td></tr>\n",
              "\t<tr><td>23</td><td>1</td><td>3</td><td>McGowan, Miss. Anna \"Annie\"                              </td><td>female</td><td>15</td><td>0</td><td>0</td><td>330923          </td><td>  8.0292</td><td>           </td><td>Q</td></tr>\n",
              "\t<tr><td>24</td><td>1</td><td>1</td><td>Sloper, Mr. William Thompson                             </td><td>male  </td><td>28</td><td>0</td><td>0</td><td>113788          </td><td> 35.5000</td><td>A6         </td><td>S</td></tr>\n",
              "\t<tr><td>25</td><td>0</td><td>3</td><td>Palsson, Miss. Torborg Danira                            </td><td>female</td><td> 8</td><td>3</td><td>1</td><td>349909          </td><td> 21.0750</td><td>           </td><td>S</td></tr>\n",
              "\t<tr><td>26</td><td>1</td><td>3</td><td>Asplund, Mrs. Carl Oscar (Selma Augusta Emilia Johansson)</td><td>female</td><td>38</td><td>1</td><td>5</td><td>347077          </td><td> 31.3875</td><td>           </td><td>S</td></tr>\n",
              "\t<tr><td>27</td><td>0</td><td>3</td><td>Emir, Mr. Farred Chehab                                  </td><td>male  </td><td>NA</td><td>0</td><td>0</td><td>2631            </td><td>  7.2250</td><td>           </td><td>C</td></tr>\n",
              "\t<tr><td>28</td><td>0</td><td>1</td><td>Fortune, Mr. Charles Alexander                           </td><td>male  </td><td>19</td><td>3</td><td>2</td><td>19950           </td><td>263.0000</td><td>C23 C25 C27</td><td>S</td></tr>\n",
              "\t<tr><td>29</td><td>1</td><td>3</td><td>O'Dwyer, Miss. Ellen \"Nellie\"                            </td><td>female</td><td>NA</td><td>0</td><td>0</td><td>330959          </td><td>  7.8792</td><td>           </td><td>Q</td></tr>\n",
              "\t<tr><td>30</td><td>0</td><td>3</td><td>Todoroff, Mr. Lalio                                      </td><td>male  </td><td>NA</td><td>0</td><td>0</td><td>349216          </td><td>  7.8958</td><td>           </td><td>S</td></tr>\n",
              "\t<tr><td>⋮</td><td>⋮</td><td>⋮</td><td>⋮</td><td>⋮</td><td>⋮</td><td>⋮</td><td>⋮</td><td>⋮</td><td>⋮</td><td>⋮</td><td>⋮</td></tr>\n",
              "\t<tr><td>862</td><td>0</td><td>2</td><td>Giles, Mr. Frederick Edward                        </td><td>male  </td><td>21</td><td>1</td><td>0</td><td>28134           </td><td>11.5000</td><td>           </td><td>S</td></tr>\n",
              "\t<tr><td>863</td><td>1</td><td>1</td><td>Swift, Mrs. Frederick Joel (Margaret Welles Barron)</td><td>female</td><td>48</td><td>0</td><td>0</td><td>17466           </td><td>25.9292</td><td>D17        </td><td>S</td></tr>\n",
              "\t<tr><td>864</td><td>0</td><td>3</td><td>Sage, Miss. Dorothy Edith \"Dolly\"                  </td><td>female</td><td>NA</td><td>8</td><td>2</td><td>CA. 2343        </td><td>69.5500</td><td>           </td><td>S</td></tr>\n",
              "\t<tr><td>865</td><td>0</td><td>2</td><td>Gill, Mr. John William                             </td><td>male  </td><td>24</td><td>0</td><td>0</td><td>233866          </td><td>13.0000</td><td>           </td><td>S</td></tr>\n",
              "\t<tr><td>866</td><td>1</td><td>2</td><td>Bystrom, Mrs. (Karolina)                           </td><td>female</td><td>42</td><td>0</td><td>0</td><td>236852          </td><td>13.0000</td><td>           </td><td>S</td></tr>\n",
              "\t<tr><td>867</td><td>1</td><td>2</td><td>Duran y More, Miss. Asuncion                       </td><td>female</td><td>27</td><td>1</td><td>0</td><td>SC/PARIS 2149   </td><td>13.8583</td><td>           </td><td>C</td></tr>\n",
              "\t<tr><td>868</td><td>0</td><td>1</td><td>Roebling, Mr. Washington Augustus II               </td><td>male  </td><td>31</td><td>0</td><td>0</td><td>PC 17590        </td><td>50.4958</td><td>A24        </td><td>S</td></tr>\n",
              "\t<tr><td>869</td><td>0</td><td>3</td><td>van Melkebeke, Mr. Philemon                        </td><td>male  </td><td>NA</td><td>0</td><td>0</td><td>345777          </td><td> 9.5000</td><td>           </td><td>S</td></tr>\n",
              "\t<tr><td>870</td><td>1</td><td>3</td><td>Johnson, Master. Harold Theodor                    </td><td>male  </td><td> 4</td><td>1</td><td>1</td><td>347742          </td><td>11.1333</td><td>           </td><td>S</td></tr>\n",
              "\t<tr><td>871</td><td>0</td><td>3</td><td>Balkic, Mr. Cerin                                  </td><td>male  </td><td>26</td><td>0</td><td>0</td><td>349248          </td><td> 7.8958</td><td>           </td><td>S</td></tr>\n",
              "\t<tr><td>872</td><td>1</td><td>1</td><td>Beckwith, Mrs. Richard Leonard (Sallie Monypeny)   </td><td>female</td><td>47</td><td>1</td><td>1</td><td>11751           </td><td>52.5542</td><td>D35        </td><td>S</td></tr>\n",
              "\t<tr><td>873</td><td>0</td><td>1</td><td>Carlsson, Mr. Frans Olof                           </td><td>male  </td><td>33</td><td>0</td><td>0</td><td>695             </td><td> 5.0000</td><td>B51 B53 B55</td><td>S</td></tr>\n",
              "\t<tr><td>874</td><td>0</td><td>3</td><td>Vander Cruyssen, Mr. Victor                        </td><td>male  </td><td>47</td><td>0</td><td>0</td><td>345765          </td><td> 9.0000</td><td>           </td><td>S</td></tr>\n",
              "\t<tr><td>875</td><td>1</td><td>2</td><td>Abelson, Mrs. Samuel (Hannah Wizosky)              </td><td>female</td><td>28</td><td>1</td><td>0</td><td>P/PP 3381       </td><td>24.0000</td><td>           </td><td>C</td></tr>\n",
              "\t<tr><td>876</td><td>1</td><td>3</td><td>Najib, Miss. Adele Kiamie \"Jane\"                   </td><td>female</td><td>15</td><td>0</td><td>0</td><td>2667            </td><td> 7.2250</td><td>           </td><td>C</td></tr>\n",
              "\t<tr><td>877</td><td>0</td><td>3</td><td>Gustafsson, Mr. Alfred Ossian                      </td><td>male  </td><td>20</td><td>0</td><td>0</td><td>7534            </td><td> 9.8458</td><td>           </td><td>S</td></tr>\n",
              "\t<tr><td>878</td><td>0</td><td>3</td><td>Petroff, Mr. Nedelio                               </td><td>male  </td><td>19</td><td>0</td><td>0</td><td>349212          </td><td> 7.8958</td><td>           </td><td>S</td></tr>\n",
              "\t<tr><td>879</td><td>0</td><td>3</td><td>Laleff, Mr. Kristo                                 </td><td>male  </td><td>NA</td><td>0</td><td>0</td><td>349217          </td><td> 7.8958</td><td>           </td><td>S</td></tr>\n",
              "\t<tr><td>880</td><td>1</td><td>1</td><td>Potter, Mrs. Thomas Jr (Lily Alexenia Wilson)      </td><td>female</td><td>56</td><td>0</td><td>1</td><td>11767           </td><td>83.1583</td><td>C50        </td><td>C</td></tr>\n",
              "\t<tr><td>881</td><td>1</td><td>2</td><td>Shelley, Mrs. William (Imanita Parrish Hall)       </td><td>female</td><td>25</td><td>0</td><td>1</td><td>230433          </td><td>26.0000</td><td>           </td><td>S</td></tr>\n",
              "\t<tr><td>882</td><td>0</td><td>3</td><td>Markun, Mr. Johann                                 </td><td>male  </td><td>33</td><td>0</td><td>0</td><td>349257          </td><td> 7.8958</td><td>           </td><td>S</td></tr>\n",
              "\t<tr><td>883</td><td>0</td><td>3</td><td>Dahlberg, Miss. Gerda Ulrika                       </td><td>female</td><td>22</td><td>0</td><td>0</td><td>7552            </td><td>10.5167</td><td>           </td><td>S</td></tr>\n",
              "\t<tr><td>884</td><td>0</td><td>2</td><td>Banfield, Mr. Frederick James                      </td><td>male  </td><td>28</td><td>0</td><td>0</td><td>C.A./SOTON 34068</td><td>10.5000</td><td>           </td><td>S</td></tr>\n",
              "\t<tr><td>885</td><td>0</td><td>3</td><td>Sutehall, Mr. Henry Jr                             </td><td>male  </td><td>25</td><td>0</td><td>0</td><td>SOTON/OQ 392076 </td><td> 7.0500</td><td>           </td><td>S</td></tr>\n",
              "\t<tr><td>886</td><td>0</td><td>3</td><td>Rice, Mrs. William (Margaret Norton)               </td><td>female</td><td>39</td><td>0</td><td>5</td><td>382652          </td><td>29.1250</td><td>           </td><td>Q</td></tr>\n",
              "\t<tr><td>887</td><td>0</td><td>2</td><td>Montvila, Rev. Juozas                              </td><td>male  </td><td>27</td><td>0</td><td>0</td><td>211536          </td><td>13.0000</td><td>           </td><td>S</td></tr>\n",
              "\t<tr><td>888</td><td>1</td><td>1</td><td>Graham, Miss. Margaret Edith                       </td><td>female</td><td>19</td><td>0</td><td>0</td><td>112053          </td><td>30.0000</td><td>B42        </td><td>S</td></tr>\n",
              "\t<tr><td>889</td><td>0</td><td>3</td><td>Johnston, Miss. Catherine Helen \"Carrie\"           </td><td>female</td><td>NA</td><td>1</td><td>2</td><td>W./C. 6607      </td><td>23.4500</td><td>           </td><td>S</td></tr>\n",
              "\t<tr><td>890</td><td>1</td><td>1</td><td>Behr, Mr. Karl Howell                              </td><td>male  </td><td>26</td><td>0</td><td>0</td><td>111369          </td><td>30.0000</td><td>C148       </td><td>C</td></tr>\n",
              "\t<tr><td>891</td><td>0</td><td>3</td><td>Dooley, Mr. Patrick                                </td><td>male  </td><td>32</td><td>0</td><td>0</td><td>370376          </td><td> 7.7500</td><td>           </td><td>Q</td></tr>\n",
              "</tbody>\n",
              "</table>\n"
            ],
            "text/markdown": "\nA data.frame: 891 × 12\n\n| PassengerId &lt;int&gt; | Survived &lt;int&gt; | Pclass &lt;int&gt; | Name &lt;fct&gt; | Sex &lt;fct&gt; | Age &lt;dbl&gt; | SibSp &lt;int&gt; | Parch &lt;int&gt; | Ticket &lt;fct&gt; | Fare &lt;dbl&gt; | Cabin &lt;fct&gt; | Embarked &lt;fct&gt; |\n|---|---|---|---|---|---|---|---|---|---|---|---|\n|  1 | 0 | 3 | Braund, Mr. Owen Harris                                   | male   | 22 | 1 | 0 | A/5 21171        |   7.2500 | <!----> | S |\n|  2 | 1 | 1 | Cumings, Mrs. John Bradley (Florence Briggs Thayer)       | female | 38 | 1 | 0 | PC 17599         |  71.2833 | C85         | C |\n|  3 | 1 | 3 | Heikkinen, Miss. Laina                                    | female | 26 | 0 | 0 | STON/O2. 3101282 |   7.9250 | <!----> | S |\n|  4 | 1 | 1 | Futrelle, Mrs. Jacques Heath (Lily May Peel)              | female | 35 | 1 | 0 | 113803           |  53.1000 | C123        | S |\n|  5 | 0 | 3 | Allen, Mr. William Henry                                  | male   | 35 | 0 | 0 | 373450           |   8.0500 | <!----> | S |\n|  6 | 0 | 3 | Moran, Mr. James                                          | male   | NA | 0 | 0 | 330877           |   8.4583 | <!----> | Q |\n|  7 | 0 | 1 | McCarthy, Mr. Timothy J                                   | male   | 54 | 0 | 0 | 17463            |  51.8625 | E46         | S |\n|  8 | 0 | 3 | Palsson, Master. Gosta Leonard                            | male   |  2 | 3 | 1 | 349909           |  21.0750 | <!----> | S |\n|  9 | 1 | 3 | Johnson, Mrs. Oscar W (Elisabeth Vilhelmina Berg)         | female | 27 | 0 | 2 | 347742           |  11.1333 | <!----> | S |\n| 10 | 1 | 2 | Nasser, Mrs. Nicholas (Adele Achem)                       | female | 14 | 1 | 0 | 237736           |  30.0708 | <!----> | C |\n| 11 | 1 | 3 | Sandstrom, Miss. Marguerite Rut                           | female |  4 | 1 | 1 | PP 9549          |  16.7000 | G6          | S |\n| 12 | 1 | 1 | Bonnell, Miss. Elizabeth                                  | female | 58 | 0 | 0 | 113783           |  26.5500 | C103        | S |\n| 13 | 0 | 3 | Saundercock, Mr. William Henry                            | male   | 20 | 0 | 0 | A/5. 2151        |   8.0500 | <!----> | S |\n| 14 | 0 | 3 | Andersson, Mr. Anders Johan                               | male   | 39 | 1 | 5 | 347082           |  31.2750 | <!----> | S |\n| 15 | 0 | 3 | Vestrom, Miss. Hulda Amanda Adolfina                      | female | 14 | 0 | 0 | 350406           |   7.8542 | <!----> | S |\n| 16 | 1 | 2 | Hewlett, Mrs. (Mary D Kingcome)                           | female | 55 | 0 | 0 | 248706           |  16.0000 | <!----> | S |\n| 17 | 0 | 3 | Rice, Master. Eugene                                      | male   |  2 | 4 | 1 | 382652           |  29.1250 | <!----> | Q |\n| 18 | 1 | 2 | Williams, Mr. Charles Eugene                              | male   | NA | 0 | 0 | 244373           |  13.0000 | <!----> | S |\n| 19 | 0 | 3 | Vander Planke, Mrs. Julius (Emelia Maria Vandemoortele)   | female | 31 | 1 | 0 | 345763           |  18.0000 | <!----> | S |\n| 20 | 1 | 3 | Masselmani, Mrs. Fatima                                   | female | NA | 0 | 0 | 2649             |   7.2250 | <!----> | C |\n| 21 | 0 | 2 | Fynney, Mr. Joseph J                                      | male   | 35 | 0 | 0 | 239865           |  26.0000 | <!----> | S |\n| 22 | 1 | 2 | Beesley, Mr. Lawrence                                     | male   | 34 | 0 | 0 | 248698           |  13.0000 | D56         | S |\n| 23 | 1 | 3 | McGowan, Miss. Anna \"Annie\"                               | female | 15 | 0 | 0 | 330923           |   8.0292 | <!----> | Q |\n| 24 | 1 | 1 | Sloper, Mr. William Thompson                              | male   | 28 | 0 | 0 | 113788           |  35.5000 | A6          | S |\n| 25 | 0 | 3 | Palsson, Miss. Torborg Danira                             | female |  8 | 3 | 1 | 349909           |  21.0750 | <!----> | S |\n| 26 | 1 | 3 | Asplund, Mrs. Carl Oscar (Selma Augusta Emilia Johansson) | female | 38 | 1 | 5 | 347077           |  31.3875 | <!----> | S |\n| 27 | 0 | 3 | Emir, Mr. Farred Chehab                                   | male   | NA | 0 | 0 | 2631             |   7.2250 | <!----> | C |\n| 28 | 0 | 1 | Fortune, Mr. Charles Alexander                            | male   | 19 | 3 | 2 | 19950            | 263.0000 | C23 C25 C27 | S |\n| 29 | 1 | 3 | O'Dwyer, Miss. Ellen \"Nellie\"                             | female | NA | 0 | 0 | 330959           |   7.8792 | <!----> | Q |\n| 30 | 0 | 3 | Todoroff, Mr. Lalio                                       | male   | NA | 0 | 0 | 349216           |   7.8958 | <!----> | S |\n| ⋮ | ⋮ | ⋮ | ⋮ | ⋮ | ⋮ | ⋮ | ⋮ | ⋮ | ⋮ | ⋮ | ⋮ |\n| 862 | 0 | 2 | Giles, Mr. Frederick Edward                         | male   | 21 | 1 | 0 | 28134            | 11.5000 | <!----> | S |\n| 863 | 1 | 1 | Swift, Mrs. Frederick Joel (Margaret Welles Barron) | female | 48 | 0 | 0 | 17466            | 25.9292 | D17         | S |\n| 864 | 0 | 3 | Sage, Miss. Dorothy Edith \"Dolly\"                   | female | NA | 8 | 2 | CA. 2343         | 69.5500 | <!----> | S |\n| 865 | 0 | 2 | Gill, Mr. John William                              | male   | 24 | 0 | 0 | 233866           | 13.0000 | <!----> | S |\n| 866 | 1 | 2 | Bystrom, Mrs. (Karolina)                            | female | 42 | 0 | 0 | 236852           | 13.0000 | <!----> | S |\n| 867 | 1 | 2 | Duran y More, Miss. Asuncion                        | female | 27 | 1 | 0 | SC/PARIS 2149    | 13.8583 | <!----> | C |\n| 868 | 0 | 1 | Roebling, Mr. Washington Augustus II                | male   | 31 | 0 | 0 | PC 17590         | 50.4958 | A24         | S |\n| 869 | 0 | 3 | van Melkebeke, Mr. Philemon                         | male   | NA | 0 | 0 | 345777           |  9.5000 | <!----> | S |\n| 870 | 1 | 3 | Johnson, Master. Harold Theodor                     | male   |  4 | 1 | 1 | 347742           | 11.1333 | <!----> | S |\n| 871 | 0 | 3 | Balkic, Mr. Cerin                                   | male   | 26 | 0 | 0 | 349248           |  7.8958 | <!----> | S |\n| 872 | 1 | 1 | Beckwith, Mrs. Richard Leonard (Sallie Monypeny)    | female | 47 | 1 | 1 | 11751            | 52.5542 | D35         | S |\n| 873 | 0 | 1 | Carlsson, Mr. Frans Olof                            | male   | 33 | 0 | 0 | 695              |  5.0000 | B51 B53 B55 | S |\n| 874 | 0 | 3 | Vander Cruyssen, Mr. Victor                         | male   | 47 | 0 | 0 | 345765           |  9.0000 | <!----> | S |\n| 875 | 1 | 2 | Abelson, Mrs. Samuel (Hannah Wizosky)               | female | 28 | 1 | 0 | P/PP 3381        | 24.0000 | <!----> | C |\n| 876 | 1 | 3 | Najib, Miss. Adele Kiamie \"Jane\"                    | female | 15 | 0 | 0 | 2667             |  7.2250 | <!----> | C |\n| 877 | 0 | 3 | Gustafsson, Mr. Alfred Ossian                       | male   | 20 | 0 | 0 | 7534             |  9.8458 | <!----> | S |\n| 878 | 0 | 3 | Petroff, Mr. Nedelio                                | male   | 19 | 0 | 0 | 349212           |  7.8958 | <!----> | S |\n| 879 | 0 | 3 | Laleff, Mr. Kristo                                  | male   | NA | 0 | 0 | 349217           |  7.8958 | <!----> | S |\n| 880 | 1 | 1 | Potter, Mrs. Thomas Jr (Lily Alexenia Wilson)       | female | 56 | 0 | 1 | 11767            | 83.1583 | C50         | C |\n| 881 | 1 | 2 | Shelley, Mrs. William (Imanita Parrish Hall)        | female | 25 | 0 | 1 | 230433           | 26.0000 | <!----> | S |\n| 882 | 0 | 3 | Markun, Mr. Johann                                  | male   | 33 | 0 | 0 | 349257           |  7.8958 | <!----> | S |\n| 883 | 0 | 3 | Dahlberg, Miss. Gerda Ulrika                        | female | 22 | 0 | 0 | 7552             | 10.5167 | <!----> | S |\n| 884 | 0 | 2 | Banfield, Mr. Frederick James                       | male   | 28 | 0 | 0 | C.A./SOTON 34068 | 10.5000 | <!----> | S |\n| 885 | 0 | 3 | Sutehall, Mr. Henry Jr                              | male   | 25 | 0 | 0 | SOTON/OQ 392076  |  7.0500 | <!----> | S |\n| 886 | 0 | 3 | Rice, Mrs. William (Margaret Norton)                | female | 39 | 0 | 5 | 382652           | 29.1250 | <!----> | Q |\n| 887 | 0 | 2 | Montvila, Rev. Juozas                               | male   | 27 | 0 | 0 | 211536           | 13.0000 | <!----> | S |\n| 888 | 1 | 1 | Graham, Miss. Margaret Edith                        | female | 19 | 0 | 0 | 112053           | 30.0000 | B42         | S |\n| 889 | 0 | 3 | Johnston, Miss. Catherine Helen \"Carrie\"            | female | NA | 1 | 2 | W./C. 6607       | 23.4500 | <!----> | S |\n| 890 | 1 | 1 | Behr, Mr. Karl Howell                               | male   | 26 | 0 | 0 | 111369           | 30.0000 | C148        | C |\n| 891 | 0 | 3 | Dooley, Mr. Patrick                                 | male   | 32 | 0 | 0 | 370376           |  7.7500 | <!----> | Q |\n\n",
            "text/latex": "A data.frame: 891 × 12\n\\begin{tabular}{llllllllllll}\n PassengerId & Survived & Pclass & Name & Sex & Age & SibSp & Parch & Ticket & Fare & Cabin & Embarked\\\\\n <int> & <int> & <int> & <fct> & <fct> & <dbl> & <int> & <int> & <fct> & <dbl> & <fct> & <fct>\\\\\n\\hline\n\t  1 & 0 & 3 & Braund, Mr. Owen Harris                                   & male   & 22 & 1 & 0 & A/5 21171        &   7.2500 &             & S\\\\\n\t  2 & 1 & 1 & Cumings, Mrs. John Bradley (Florence Briggs Thayer)       & female & 38 & 1 & 0 & PC 17599         &  71.2833 & C85         & C\\\\\n\t  3 & 1 & 3 & Heikkinen, Miss. Laina                                    & female & 26 & 0 & 0 & STON/O2. 3101282 &   7.9250 &             & S\\\\\n\t  4 & 1 & 1 & Futrelle, Mrs. Jacques Heath (Lily May Peel)              & female & 35 & 1 & 0 & 113803           &  53.1000 & C123        & S\\\\\n\t  5 & 0 & 3 & Allen, Mr. William Henry                                  & male   & 35 & 0 & 0 & 373450           &   8.0500 &             & S\\\\\n\t  6 & 0 & 3 & Moran, Mr. James                                          & male   & NA & 0 & 0 & 330877           &   8.4583 &             & Q\\\\\n\t  7 & 0 & 1 & McCarthy, Mr. Timothy J                                   & male   & 54 & 0 & 0 & 17463            &  51.8625 & E46         & S\\\\\n\t  8 & 0 & 3 & Palsson, Master. Gosta Leonard                            & male   &  2 & 3 & 1 & 349909           &  21.0750 &             & S\\\\\n\t  9 & 1 & 3 & Johnson, Mrs. Oscar W (Elisabeth Vilhelmina Berg)         & female & 27 & 0 & 2 & 347742           &  11.1333 &             & S\\\\\n\t 10 & 1 & 2 & Nasser, Mrs. Nicholas (Adele Achem)                       & female & 14 & 1 & 0 & 237736           &  30.0708 &             & C\\\\\n\t 11 & 1 & 3 & Sandstrom, Miss. Marguerite Rut                           & female &  4 & 1 & 1 & PP 9549          &  16.7000 & G6          & S\\\\\n\t 12 & 1 & 1 & Bonnell, Miss. Elizabeth                                  & female & 58 & 0 & 0 & 113783           &  26.5500 & C103        & S\\\\\n\t 13 & 0 & 3 & Saundercock, Mr. William Henry                            & male   & 20 & 0 & 0 & A/5. 2151        &   8.0500 &             & S\\\\\n\t 14 & 0 & 3 & Andersson, Mr. Anders Johan                               & male   & 39 & 1 & 5 & 347082           &  31.2750 &             & S\\\\\n\t 15 & 0 & 3 & Vestrom, Miss. Hulda Amanda Adolfina                      & female & 14 & 0 & 0 & 350406           &   7.8542 &             & S\\\\\n\t 16 & 1 & 2 & Hewlett, Mrs. (Mary D Kingcome)                           & female & 55 & 0 & 0 & 248706           &  16.0000 &             & S\\\\\n\t 17 & 0 & 3 & Rice, Master. Eugene                                      & male   &  2 & 4 & 1 & 382652           &  29.1250 &             & Q\\\\\n\t 18 & 1 & 2 & Williams, Mr. Charles Eugene                              & male   & NA & 0 & 0 & 244373           &  13.0000 &             & S\\\\\n\t 19 & 0 & 3 & Vander Planke, Mrs. Julius (Emelia Maria Vandemoortele)   & female & 31 & 1 & 0 & 345763           &  18.0000 &             & S\\\\\n\t 20 & 1 & 3 & Masselmani, Mrs. Fatima                                   & female & NA & 0 & 0 & 2649             &   7.2250 &             & C\\\\\n\t 21 & 0 & 2 & Fynney, Mr. Joseph J                                      & male   & 35 & 0 & 0 & 239865           &  26.0000 &             & S\\\\\n\t 22 & 1 & 2 & Beesley, Mr. Lawrence                                     & male   & 34 & 0 & 0 & 248698           &  13.0000 & D56         & S\\\\\n\t 23 & 1 & 3 & McGowan, Miss. Anna \"Annie\"                               & female & 15 & 0 & 0 & 330923           &   8.0292 &             & Q\\\\\n\t 24 & 1 & 1 & Sloper, Mr. William Thompson                              & male   & 28 & 0 & 0 & 113788           &  35.5000 & A6          & S\\\\\n\t 25 & 0 & 3 & Palsson, Miss. Torborg Danira                             & female &  8 & 3 & 1 & 349909           &  21.0750 &             & S\\\\\n\t 26 & 1 & 3 & Asplund, Mrs. Carl Oscar (Selma Augusta Emilia Johansson) & female & 38 & 1 & 5 & 347077           &  31.3875 &             & S\\\\\n\t 27 & 0 & 3 & Emir, Mr. Farred Chehab                                   & male   & NA & 0 & 0 & 2631             &   7.2250 &             & C\\\\\n\t 28 & 0 & 1 & Fortune, Mr. Charles Alexander                            & male   & 19 & 3 & 2 & 19950            & 263.0000 & C23 C25 C27 & S\\\\\n\t 29 & 1 & 3 & O'Dwyer, Miss. Ellen \"Nellie\"                             & female & NA & 0 & 0 & 330959           &   7.8792 &             & Q\\\\\n\t 30 & 0 & 3 & Todoroff, Mr. Lalio                                       & male   & NA & 0 & 0 & 349216           &   7.8958 &             & S\\\\\n\t ⋮ & ⋮ & ⋮ & ⋮ & ⋮ & ⋮ & ⋮ & ⋮ & ⋮ & ⋮ & ⋮ & ⋮\\\\\n\t 862 & 0 & 2 & Giles, Mr. Frederick Edward                         & male   & 21 & 1 & 0 & 28134            & 11.5000 &             & S\\\\\n\t 863 & 1 & 1 & Swift, Mrs. Frederick Joel (Margaret Welles Barron) & female & 48 & 0 & 0 & 17466            & 25.9292 & D17         & S\\\\\n\t 864 & 0 & 3 & Sage, Miss. Dorothy Edith \"Dolly\"                   & female & NA & 8 & 2 & CA. 2343         & 69.5500 &             & S\\\\\n\t 865 & 0 & 2 & Gill, Mr. John William                              & male   & 24 & 0 & 0 & 233866           & 13.0000 &             & S\\\\\n\t 866 & 1 & 2 & Bystrom, Mrs. (Karolina)                            & female & 42 & 0 & 0 & 236852           & 13.0000 &             & S\\\\\n\t 867 & 1 & 2 & Duran y More, Miss. Asuncion                        & female & 27 & 1 & 0 & SC/PARIS 2149    & 13.8583 &             & C\\\\\n\t 868 & 0 & 1 & Roebling, Mr. Washington Augustus II                & male   & 31 & 0 & 0 & PC 17590         & 50.4958 & A24         & S\\\\\n\t 869 & 0 & 3 & van Melkebeke, Mr. Philemon                         & male   & NA & 0 & 0 & 345777           &  9.5000 &             & S\\\\\n\t 870 & 1 & 3 & Johnson, Master. Harold Theodor                     & male   &  4 & 1 & 1 & 347742           & 11.1333 &             & S\\\\\n\t 871 & 0 & 3 & Balkic, Mr. Cerin                                   & male   & 26 & 0 & 0 & 349248           &  7.8958 &             & S\\\\\n\t 872 & 1 & 1 & Beckwith, Mrs. Richard Leonard (Sallie Monypeny)    & female & 47 & 1 & 1 & 11751            & 52.5542 & D35         & S\\\\\n\t 873 & 0 & 1 & Carlsson, Mr. Frans Olof                            & male   & 33 & 0 & 0 & 695              &  5.0000 & B51 B53 B55 & S\\\\\n\t 874 & 0 & 3 & Vander Cruyssen, Mr. Victor                         & male   & 47 & 0 & 0 & 345765           &  9.0000 &             & S\\\\\n\t 875 & 1 & 2 & Abelson, Mrs. Samuel (Hannah Wizosky)               & female & 28 & 1 & 0 & P/PP 3381        & 24.0000 &             & C\\\\\n\t 876 & 1 & 3 & Najib, Miss. Adele Kiamie \"Jane\"                    & female & 15 & 0 & 0 & 2667             &  7.2250 &             & C\\\\\n\t 877 & 0 & 3 & Gustafsson, Mr. Alfred Ossian                       & male   & 20 & 0 & 0 & 7534             &  9.8458 &             & S\\\\\n\t 878 & 0 & 3 & Petroff, Mr. Nedelio                                & male   & 19 & 0 & 0 & 349212           &  7.8958 &             & S\\\\\n\t 879 & 0 & 3 & Laleff, Mr. Kristo                                  & male   & NA & 0 & 0 & 349217           &  7.8958 &             & S\\\\\n\t 880 & 1 & 1 & Potter, Mrs. Thomas Jr (Lily Alexenia Wilson)       & female & 56 & 0 & 1 & 11767            & 83.1583 & C50         & C\\\\\n\t 881 & 1 & 2 & Shelley, Mrs. William (Imanita Parrish Hall)        & female & 25 & 0 & 1 & 230433           & 26.0000 &             & S\\\\\n\t 882 & 0 & 3 & Markun, Mr. Johann                                  & male   & 33 & 0 & 0 & 349257           &  7.8958 &             & S\\\\\n\t 883 & 0 & 3 & Dahlberg, Miss. Gerda Ulrika                        & female & 22 & 0 & 0 & 7552             & 10.5167 &             & S\\\\\n\t 884 & 0 & 2 & Banfield, Mr. Frederick James                       & male   & 28 & 0 & 0 & C.A./SOTON 34068 & 10.5000 &             & S\\\\\n\t 885 & 0 & 3 & Sutehall, Mr. Henry Jr                              & male   & 25 & 0 & 0 & SOTON/OQ 392076  &  7.0500 &             & S\\\\\n\t 886 & 0 & 3 & Rice, Mrs. William (Margaret Norton)                & female & 39 & 0 & 5 & 382652           & 29.1250 &             & Q\\\\\n\t 887 & 0 & 2 & Montvila, Rev. Juozas                               & male   & 27 & 0 & 0 & 211536           & 13.0000 &             & S\\\\\n\t 888 & 1 & 1 & Graham, Miss. Margaret Edith                        & female & 19 & 0 & 0 & 112053           & 30.0000 & B42         & S\\\\\n\t 889 & 0 & 3 & Johnston, Miss. Catherine Helen \"Carrie\"            & female & NA & 1 & 2 & W./C. 6607       & 23.4500 &             & S\\\\\n\t 890 & 1 & 1 & Behr, Mr. Karl Howell                               & male   & 26 & 0 & 0 & 111369           & 30.0000 & C148        & C\\\\\n\t 891 & 0 & 3 & Dooley, Mr. Patrick                                 & male   & 32 & 0 & 0 & 370376           &  7.7500 &             & Q\\\\\n\\end{tabular}\n",
            "text/plain": [
              "    PassengerId Survived Pclass\n",
              "1    1          0        3     \n",
              "2    2          1        1     \n",
              "3    3          1        3     \n",
              "4    4          1        1     \n",
              "5    5          0        3     \n",
              "6    6          0        3     \n",
              "7    7          0        1     \n",
              "8    8          0        3     \n",
              "9    9          1        3     \n",
              "10  10          1        2     \n",
              "11  11          1        3     \n",
              "12  12          1        1     \n",
              "13  13          0        3     \n",
              "14  14          0        3     \n",
              "15  15          0        3     \n",
              "16  16          1        2     \n",
              "17  17          0        3     \n",
              "18  18          1        2     \n",
              "19  19          0        3     \n",
              "20  20          1        3     \n",
              "21  21          0        2     \n",
              "22  22          1        2     \n",
              "23  23          1        3     \n",
              "24  24          1        1     \n",
              "25  25          0        3     \n",
              "26  26          1        3     \n",
              "27  27          0        3     \n",
              "28  28          0        1     \n",
              "29  29          1        3     \n",
              "30  30          0        3     \n",
              "⋮   ⋮           ⋮        ⋮     \n",
              "862 862         0        2     \n",
              "863 863         1        1     \n",
              "864 864         0        3     \n",
              "865 865         0        2     \n",
              "866 866         1        2     \n",
              "867 867         1        2     \n",
              "868 868         0        1     \n",
              "869 869         0        3     \n",
              "870 870         1        3     \n",
              "871 871         0        3     \n",
              "872 872         1        1     \n",
              "873 873         0        1     \n",
              "874 874         0        3     \n",
              "875 875         1        2     \n",
              "876 876         1        3     \n",
              "877 877         0        3     \n",
              "878 878         0        3     \n",
              "879 879         0        3     \n",
              "880 880         1        1     \n",
              "881 881         1        2     \n",
              "882 882         0        3     \n",
              "883 883         0        3     \n",
              "884 884         0        2     \n",
              "885 885         0        3     \n",
              "886 886         0        3     \n",
              "887 887         0        2     \n",
              "888 888         1        1     \n",
              "889 889         0        3     \n",
              "890 890         1        1     \n",
              "891 891         0        3     \n",
              "    Name                                                      Sex    Age SibSp\n",
              "1   Braund, Mr. Owen Harris                                   male   22  1    \n",
              "2   Cumings, Mrs. John Bradley (Florence Briggs Thayer)       female 38  1    \n",
              "3   Heikkinen, Miss. Laina                                    female 26  0    \n",
              "4   Futrelle, Mrs. Jacques Heath (Lily May Peel)              female 35  1    \n",
              "5   Allen, Mr. William Henry                                  male   35  0    \n",
              "6   Moran, Mr. James                                          male   NA  0    \n",
              "7   McCarthy, Mr. Timothy J                                   male   54  0    \n",
              "8   Palsson, Master. Gosta Leonard                            male    2  3    \n",
              "9   Johnson, Mrs. Oscar W (Elisabeth Vilhelmina Berg)         female 27  0    \n",
              "10  Nasser, Mrs. Nicholas (Adele Achem)                       female 14  1    \n",
              "11  Sandstrom, Miss. Marguerite Rut                           female  4  1    \n",
              "12  Bonnell, Miss. Elizabeth                                  female 58  0    \n",
              "13  Saundercock, Mr. William Henry                            male   20  0    \n",
              "14  Andersson, Mr. Anders Johan                               male   39  1    \n",
              "15  Vestrom, Miss. Hulda Amanda Adolfina                      female 14  0    \n",
              "16  Hewlett, Mrs. (Mary D Kingcome)                           female 55  0    \n",
              "17  Rice, Master. Eugene                                      male    2  4    \n",
              "18  Williams, Mr. Charles Eugene                              male   NA  0    \n",
              "19  Vander Planke, Mrs. Julius (Emelia Maria Vandemoortele)   female 31  1    \n",
              "20  Masselmani, Mrs. Fatima                                   female NA  0    \n",
              "21  Fynney, Mr. Joseph J                                      male   35  0    \n",
              "22  Beesley, Mr. Lawrence                                     male   34  0    \n",
              "23  McGowan, Miss. Anna \"Annie\"                               female 15  0    \n",
              "24  Sloper, Mr. William Thompson                              male   28  0    \n",
              "25  Palsson, Miss. Torborg Danira                             female  8  3    \n",
              "26  Asplund, Mrs. Carl Oscar (Selma Augusta Emilia Johansson) female 38  1    \n",
              "27  Emir, Mr. Farred Chehab                                   male   NA  0    \n",
              "28  Fortune, Mr. Charles Alexander                            male   19  3    \n",
              "29  O'Dwyer, Miss. Ellen \"Nellie\"                             female NA  0    \n",
              "30  Todoroff, Mr. Lalio                                       male   NA  0    \n",
              "⋮   ⋮                                                         ⋮      ⋮   ⋮    \n",
              "862 Giles, Mr. Frederick Edward                               male   21  1    \n",
              "863 Swift, Mrs. Frederick Joel (Margaret Welles Barron)       female 48  0    \n",
              "864 Sage, Miss. Dorothy Edith \"Dolly\"                         female NA  8    \n",
              "865 Gill, Mr. John William                                    male   24  0    \n",
              "866 Bystrom, Mrs. (Karolina)                                  female 42  0    \n",
              "867 Duran y More, Miss. Asuncion                              female 27  1    \n",
              "868 Roebling, Mr. Washington Augustus II                      male   31  0    \n",
              "869 van Melkebeke, Mr. Philemon                               male   NA  0    \n",
              "870 Johnson, Master. Harold Theodor                           male    4  1    \n",
              "871 Balkic, Mr. Cerin                                         male   26  0    \n",
              "872 Beckwith, Mrs. Richard Leonard (Sallie Monypeny)          female 47  1    \n",
              "873 Carlsson, Mr. Frans Olof                                  male   33  0    \n",
              "874 Vander Cruyssen, Mr. Victor                               male   47  0    \n",
              "875 Abelson, Mrs. Samuel (Hannah Wizosky)                     female 28  1    \n",
              "876 Najib, Miss. Adele Kiamie \"Jane\"                          female 15  0    \n",
              "877 Gustafsson, Mr. Alfred Ossian                             male   20  0    \n",
              "878 Petroff, Mr. Nedelio                                      male   19  0    \n",
              "879 Laleff, Mr. Kristo                                        male   NA  0    \n",
              "880 Potter, Mrs. Thomas Jr (Lily Alexenia Wilson)             female 56  0    \n",
              "881 Shelley, Mrs. William (Imanita Parrish Hall)              female 25  0    \n",
              "882 Markun, Mr. Johann                                        male   33  0    \n",
              "883 Dahlberg, Miss. Gerda Ulrika                              female 22  0    \n",
              "884 Banfield, Mr. Frederick James                             male   28  0    \n",
              "885 Sutehall, Mr. Henry Jr                                    male   25  0    \n",
              "886 Rice, Mrs. William (Margaret Norton)                      female 39  0    \n",
              "887 Montvila, Rev. Juozas                                     male   27  0    \n",
              "888 Graham, Miss. Margaret Edith                              female 19  0    \n",
              "889 Johnston, Miss. Catherine Helen \"Carrie\"                  female NA  1    \n",
              "890 Behr, Mr. Karl Howell                                     male   26  0    \n",
              "891 Dooley, Mr. Patrick                                       male   32  0    \n",
              "    Parch Ticket           Fare     Cabin       Embarked\n",
              "1   0     A/5 21171          7.2500             S       \n",
              "2   0     PC 17599          71.2833 C85         C       \n",
              "3   0     STON/O2. 3101282   7.9250             S       \n",
              "4   0     113803            53.1000 C123        S       \n",
              "5   0     373450             8.0500             S       \n",
              "6   0     330877             8.4583             Q       \n",
              "7   0     17463             51.8625 E46         S       \n",
              "8   1     349909            21.0750             S       \n",
              "9   2     347742            11.1333             S       \n",
              "10  0     237736            30.0708             C       \n",
              "11  1     PP 9549           16.7000 G6          S       \n",
              "12  0     113783            26.5500 C103        S       \n",
              "13  0     A/5. 2151          8.0500             S       \n",
              "14  5     347082            31.2750             S       \n",
              "15  0     350406             7.8542             S       \n",
              "16  0     248706            16.0000             S       \n",
              "17  1     382652            29.1250             Q       \n",
              "18  0     244373            13.0000             S       \n",
              "19  0     345763            18.0000             S       \n",
              "20  0     2649               7.2250             C       \n",
              "21  0     239865            26.0000             S       \n",
              "22  0     248698            13.0000 D56         S       \n",
              "23  0     330923             8.0292             Q       \n",
              "24  0     113788            35.5000 A6          S       \n",
              "25  1     349909            21.0750             S       \n",
              "26  5     347077            31.3875             S       \n",
              "27  0     2631               7.2250             C       \n",
              "28  2     19950            263.0000 C23 C25 C27 S       \n",
              "29  0     330959             7.8792             Q       \n",
              "30  0     349216             7.8958             S       \n",
              "⋮   ⋮     ⋮                ⋮        ⋮           ⋮       \n",
              "862 0     28134            11.5000              S       \n",
              "863 0     17466            25.9292  D17         S       \n",
              "864 2     CA. 2343         69.5500              S       \n",
              "865 0     233866           13.0000              S       \n",
              "866 0     236852           13.0000              S       \n",
              "867 0     SC/PARIS 2149    13.8583              C       \n",
              "868 0     PC 17590         50.4958  A24         S       \n",
              "869 0     345777            9.5000              S       \n",
              "870 1     347742           11.1333              S       \n",
              "871 0     349248            7.8958              S       \n",
              "872 1     11751            52.5542  D35         S       \n",
              "873 0     695               5.0000  B51 B53 B55 S       \n",
              "874 0     345765            9.0000              S       \n",
              "875 0     P/PP 3381        24.0000              C       \n",
              "876 0     2667              7.2250              C       \n",
              "877 0     7534              9.8458              S       \n",
              "878 0     349212            7.8958              S       \n",
              "879 0     349217            7.8958              S       \n",
              "880 1     11767            83.1583  C50         C       \n",
              "881 1     230433           26.0000              S       \n",
              "882 0     349257            7.8958              S       \n",
              "883 0     7552             10.5167              S       \n",
              "884 0     C.A./SOTON 34068 10.5000              S       \n",
              "885 0     SOTON/OQ 392076   7.0500              S       \n",
              "886 5     382652           29.1250              Q       \n",
              "887 0     211536           13.0000              S       \n",
              "888 0     112053           30.0000  B42         S       \n",
              "889 2     W./C. 6607       23.4500              S       \n",
              "890 0     111369           30.0000  C148        C       \n",
              "891 0     370376            7.7500              Q       "
            ]
          },
          "metadata": {}
        }
      ]
    },
    {
      "cell_type": "code",
      "source": [
        "summary(df)"
      ],
      "metadata": {
        "colab": {
          "base_uri": "https://localhost:8080/",
          "height": 605
        },
        "id": "PrVuMSh3IQZP",
        "outputId": "f533ccb6-db44-4f68-efed-6b754f1787e5"
      },
      "execution_count": 5,
      "outputs": [
        {
          "output_type": "display_data",
          "data": {
            "text/plain": [
              "  PassengerId       Survived          Pclass     \n",
              " Min.   :  1.0   Min.   :0.0000   Min.   :1.000  \n",
              " 1st Qu.:223.5   1st Qu.:0.0000   1st Qu.:2.000  \n",
              " Median :446.0   Median :0.0000   Median :3.000  \n",
              " Mean   :446.0   Mean   :0.3838   Mean   :2.309  \n",
              " 3rd Qu.:668.5   3rd Qu.:1.0000   3rd Qu.:3.000  \n",
              " Max.   :891.0   Max.   :1.0000   Max.   :3.000  \n",
              "                                                 \n",
              "                                    Name         Sex           Age       \n",
              " Abbing, Mr. Anthony                  :  1   female:314   Min.   : 0.42  \n",
              " Abbott, Mr. Rossmore Edward          :  1   male  :577   1st Qu.:20.12  \n",
              " Abbott, Mrs. Stanton (Rosa Hunt)     :  1                Median :28.00  \n",
              " Abelson, Mr. Samuel                  :  1                Mean   :29.70  \n",
              " Abelson, Mrs. Samuel (Hannah Wizosky):  1                3rd Qu.:38.00  \n",
              " Adahl, Mr. Mauritz Nils Martin       :  1                Max.   :80.00  \n",
              " (Other)                              :885                NA's   :177    \n",
              "     SibSp           Parch             Ticket         Fare       \n",
              " Min.   :0.000   Min.   :0.0000   1601    :  7   Min.   :  0.00  \n",
              " 1st Qu.:0.000   1st Qu.:0.0000   347082  :  7   1st Qu.:  7.91  \n",
              " Median :0.000   Median :0.0000   CA. 2343:  7   Median : 14.45  \n",
              " Mean   :0.523   Mean   :0.3816   3101295 :  6   Mean   : 32.20  \n",
              " 3rd Qu.:1.000   3rd Qu.:0.0000   347088  :  6   3rd Qu.: 31.00  \n",
              " Max.   :8.000   Max.   :6.0000   CA 2144 :  6   Max.   :512.33  \n",
              "                                  (Other) :852                   \n",
              "         Cabin     Embarked\n",
              "            :687    :  2   \n",
              " B96 B98    :  4   C:168   \n",
              " C23 C25 C27:  4   Q: 77   \n",
              " G6         :  4   S:644   \n",
              " C22 C26    :  3           \n",
              " D          :  3           \n",
              " (Other)    :186           "
            ]
          },
          "metadata": {}
        }
      ]
    },
    {
      "cell_type": "code",
      "source": [
        "# Age 컬럼의 결측값을 평균으로 대치한다.\n",
        "d_mean = mean(df$Age, na.rm=TRUE)                 # 결측치를 제외한 평균\n",
        "df$Age = ifelse(is.na(df$Age), d_mean, df$Age)    # 평균으로 대치\n",
        "\n",
        "# Embarked 컬럼의 결측값을 최빈값 S로 대치한다.\n",
        "df$Embarked = replace(df$Embarked, df$Embarked == \"\", \"S\")"
      ],
      "metadata": {
        "id": "b_SdtHMaIcbt"
      },
      "execution_count": 6,
      "outputs": []
    },
    {
      "cell_type": "code",
      "source": [
        "# Sex 컬럼은 레이블 인코딩을 수행\n",
        "# male: 1, female: 2\n",
        "df$Sex <- as.numeric(factor(df$Sex), level=c(\"male\",\"female\"))\n",
        "\n",
        "# Embarked 컬럼은 레이블 인코딩을 수행\n",
        "# C: 1, Q: 2, S: 3\n",
        "df$Embarked <- as.numeric(factor(df$Embarked), level=c(\"C\",\"Q\",\"S\"))\n",
        "str(df)"
      ],
      "metadata": {
        "colab": {
          "base_uri": "https://localhost:8080/"
        },
        "id": "Eu3L16s2IlEA",
        "outputId": "6cef4e57-2d32-4813-8ce0-311531c16c70"
      },
      "execution_count": 7,
      "outputs": [
        {
          "output_type": "stream",
          "name": "stdout",
          "text": [
            "'data.frame':\t891 obs. of  12 variables:\n",
            " $ PassengerId: int  1 2 3 4 5 6 7 8 9 10 ...\n",
            " $ Survived   : int  0 1 1 1 0 0 0 0 1 1 ...\n",
            " $ Pclass     : int  3 1 3 1 3 3 1 3 3 2 ...\n",
            " $ Name       : Factor w/ 891 levels \"Abbing, Mr. Anthony\",..: 109 191 358 277 16 559 520 629 417 581 ...\n",
            " $ Sex        : num  2 1 1 1 2 2 2 2 1 1 ...\n",
            " $ Age        : num  22 38 26 35 35 ...\n",
            " $ SibSp      : int  1 1 0 1 0 0 0 3 0 1 ...\n",
            " $ Parch      : int  0 0 0 0 0 0 0 1 2 0 ...\n",
            " $ Ticket     : Factor w/ 681 levels \"110152\",\"110413\",..: 524 597 670 50 473 276 86 396 345 133 ...\n",
            " $ Fare       : num  7.25 71.28 7.92 53.1 8.05 ...\n",
            " $ Cabin      : Factor w/ 148 levels \"\",\"A10\",\"A14\",..: 1 83 1 57 1 1 131 1 1 1 ...\n",
            " $ Embarked   : num  3 1 3 3 3 2 3 3 3 1 ...\n"
          ]
        }
      ]
    },
    {
      "cell_type": "code",
      "source": [
        "# Family_size 변수 생성, SibSp + Parch\n",
        "df$FamilySize <- df$SibSp + df$Parch"
      ],
      "metadata": {
        "id": "u-XShiHdIt3z"
      },
      "execution_count": 8,
      "outputs": []
    },
    {
      "cell_type": "code",
      "source": [
        "# 분석 결과에 영향이 없는 변수는 제외하고, 나머지 변수로 데이터셋 재구성\n",
        "# PassengerId, Name, Ticket, Cabin 제외\n",
        "df <- df[ , c(\"Survived\", \"Pclass\", \"Sex\", \"Age\", \"Fare\", \"Embarked\", \"FamilySize\")]\n",
        "df"
      ],
      "metadata": {
        "colab": {
          "base_uri": "https://localhost:8080/",
          "height": 1000
        },
        "id": "yc75-63cIwzs",
        "outputId": "727b0e11-71d3-4f69-ee85-e72409699403"
      },
      "execution_count": 9,
      "outputs": [
        {
          "output_type": "display_data",
          "data": {
            "text/html": [
              "<table class=\"dataframe\">\n",
              "<caption>A data.frame: 891 × 7</caption>\n",
              "<thead>\n",
              "\t<tr><th scope=col>Survived</th><th scope=col>Pclass</th><th scope=col>Sex</th><th scope=col>Age</th><th scope=col>Fare</th><th scope=col>Embarked</th><th scope=col>FamilySize</th></tr>\n",
              "\t<tr><th scope=col>&lt;int&gt;</th><th scope=col>&lt;int&gt;</th><th scope=col>&lt;dbl&gt;</th><th scope=col>&lt;dbl&gt;</th><th scope=col>&lt;dbl&gt;</th><th scope=col>&lt;dbl&gt;</th><th scope=col>&lt;int&gt;</th></tr>\n",
              "</thead>\n",
              "<tbody>\n",
              "\t<tr><td>0</td><td>3</td><td>2</td><td>22.00000</td><td>  7.2500</td><td>3</td><td>1</td></tr>\n",
              "\t<tr><td>1</td><td>1</td><td>1</td><td>38.00000</td><td> 71.2833</td><td>1</td><td>1</td></tr>\n",
              "\t<tr><td>1</td><td>3</td><td>1</td><td>26.00000</td><td>  7.9250</td><td>3</td><td>0</td></tr>\n",
              "\t<tr><td>1</td><td>1</td><td>1</td><td>35.00000</td><td> 53.1000</td><td>3</td><td>1</td></tr>\n",
              "\t<tr><td>0</td><td>3</td><td>2</td><td>35.00000</td><td>  8.0500</td><td>3</td><td>0</td></tr>\n",
              "\t<tr><td>0</td><td>3</td><td>2</td><td>29.69912</td><td>  8.4583</td><td>2</td><td>0</td></tr>\n",
              "\t<tr><td>0</td><td>1</td><td>2</td><td>54.00000</td><td> 51.8625</td><td>3</td><td>0</td></tr>\n",
              "\t<tr><td>0</td><td>3</td><td>2</td><td> 2.00000</td><td> 21.0750</td><td>3</td><td>4</td></tr>\n",
              "\t<tr><td>1</td><td>3</td><td>1</td><td>27.00000</td><td> 11.1333</td><td>3</td><td>2</td></tr>\n",
              "\t<tr><td>1</td><td>2</td><td>1</td><td>14.00000</td><td> 30.0708</td><td>1</td><td>1</td></tr>\n",
              "\t<tr><td>1</td><td>3</td><td>1</td><td> 4.00000</td><td> 16.7000</td><td>3</td><td>2</td></tr>\n",
              "\t<tr><td>1</td><td>1</td><td>1</td><td>58.00000</td><td> 26.5500</td><td>3</td><td>0</td></tr>\n",
              "\t<tr><td>0</td><td>3</td><td>2</td><td>20.00000</td><td>  8.0500</td><td>3</td><td>0</td></tr>\n",
              "\t<tr><td>0</td><td>3</td><td>2</td><td>39.00000</td><td> 31.2750</td><td>3</td><td>6</td></tr>\n",
              "\t<tr><td>0</td><td>3</td><td>1</td><td>14.00000</td><td>  7.8542</td><td>3</td><td>0</td></tr>\n",
              "\t<tr><td>1</td><td>2</td><td>1</td><td>55.00000</td><td> 16.0000</td><td>3</td><td>0</td></tr>\n",
              "\t<tr><td>0</td><td>3</td><td>2</td><td> 2.00000</td><td> 29.1250</td><td>2</td><td>5</td></tr>\n",
              "\t<tr><td>1</td><td>2</td><td>2</td><td>29.69912</td><td> 13.0000</td><td>3</td><td>0</td></tr>\n",
              "\t<tr><td>0</td><td>3</td><td>1</td><td>31.00000</td><td> 18.0000</td><td>3</td><td>1</td></tr>\n",
              "\t<tr><td>1</td><td>3</td><td>1</td><td>29.69912</td><td>  7.2250</td><td>1</td><td>0</td></tr>\n",
              "\t<tr><td>0</td><td>2</td><td>2</td><td>35.00000</td><td> 26.0000</td><td>3</td><td>0</td></tr>\n",
              "\t<tr><td>1</td><td>2</td><td>2</td><td>34.00000</td><td> 13.0000</td><td>3</td><td>0</td></tr>\n",
              "\t<tr><td>1</td><td>3</td><td>1</td><td>15.00000</td><td>  8.0292</td><td>2</td><td>0</td></tr>\n",
              "\t<tr><td>1</td><td>1</td><td>2</td><td>28.00000</td><td> 35.5000</td><td>3</td><td>0</td></tr>\n",
              "\t<tr><td>0</td><td>3</td><td>1</td><td> 8.00000</td><td> 21.0750</td><td>3</td><td>4</td></tr>\n",
              "\t<tr><td>1</td><td>3</td><td>1</td><td>38.00000</td><td> 31.3875</td><td>3</td><td>6</td></tr>\n",
              "\t<tr><td>0</td><td>3</td><td>2</td><td>29.69912</td><td>  7.2250</td><td>1</td><td>0</td></tr>\n",
              "\t<tr><td>0</td><td>1</td><td>2</td><td>19.00000</td><td>263.0000</td><td>3</td><td>5</td></tr>\n",
              "\t<tr><td>1</td><td>3</td><td>1</td><td>29.69912</td><td>  7.8792</td><td>2</td><td>0</td></tr>\n",
              "\t<tr><td>0</td><td>3</td><td>2</td><td>29.69912</td><td>  7.8958</td><td>3</td><td>0</td></tr>\n",
              "\t<tr><td>⋮</td><td>⋮</td><td>⋮</td><td>⋮</td><td>⋮</td><td>⋮</td><td>⋮</td></tr>\n",
              "\t<tr><td>0</td><td>2</td><td>2</td><td>21.00000</td><td>11.5000</td><td>3</td><td> 1</td></tr>\n",
              "\t<tr><td>1</td><td>1</td><td>1</td><td>48.00000</td><td>25.9292</td><td>3</td><td> 0</td></tr>\n",
              "\t<tr><td>0</td><td>3</td><td>1</td><td>29.69912</td><td>69.5500</td><td>3</td><td>10</td></tr>\n",
              "\t<tr><td>0</td><td>2</td><td>2</td><td>24.00000</td><td>13.0000</td><td>3</td><td> 0</td></tr>\n",
              "\t<tr><td>1</td><td>2</td><td>1</td><td>42.00000</td><td>13.0000</td><td>3</td><td> 0</td></tr>\n",
              "\t<tr><td>1</td><td>2</td><td>1</td><td>27.00000</td><td>13.8583</td><td>1</td><td> 1</td></tr>\n",
              "\t<tr><td>0</td><td>1</td><td>2</td><td>31.00000</td><td>50.4958</td><td>3</td><td> 0</td></tr>\n",
              "\t<tr><td>0</td><td>3</td><td>2</td><td>29.69912</td><td> 9.5000</td><td>3</td><td> 0</td></tr>\n",
              "\t<tr><td>1</td><td>3</td><td>2</td><td> 4.00000</td><td>11.1333</td><td>3</td><td> 2</td></tr>\n",
              "\t<tr><td>0</td><td>3</td><td>2</td><td>26.00000</td><td> 7.8958</td><td>3</td><td> 0</td></tr>\n",
              "\t<tr><td>1</td><td>1</td><td>1</td><td>47.00000</td><td>52.5542</td><td>3</td><td> 2</td></tr>\n",
              "\t<tr><td>0</td><td>1</td><td>2</td><td>33.00000</td><td> 5.0000</td><td>3</td><td> 0</td></tr>\n",
              "\t<tr><td>0</td><td>3</td><td>2</td><td>47.00000</td><td> 9.0000</td><td>3</td><td> 0</td></tr>\n",
              "\t<tr><td>1</td><td>2</td><td>1</td><td>28.00000</td><td>24.0000</td><td>1</td><td> 1</td></tr>\n",
              "\t<tr><td>1</td><td>3</td><td>1</td><td>15.00000</td><td> 7.2250</td><td>1</td><td> 0</td></tr>\n",
              "\t<tr><td>0</td><td>3</td><td>2</td><td>20.00000</td><td> 9.8458</td><td>3</td><td> 0</td></tr>\n",
              "\t<tr><td>0</td><td>3</td><td>2</td><td>19.00000</td><td> 7.8958</td><td>3</td><td> 0</td></tr>\n",
              "\t<tr><td>0</td><td>3</td><td>2</td><td>29.69912</td><td> 7.8958</td><td>3</td><td> 0</td></tr>\n",
              "\t<tr><td>1</td><td>1</td><td>1</td><td>56.00000</td><td>83.1583</td><td>1</td><td> 1</td></tr>\n",
              "\t<tr><td>1</td><td>2</td><td>1</td><td>25.00000</td><td>26.0000</td><td>3</td><td> 1</td></tr>\n",
              "\t<tr><td>0</td><td>3</td><td>2</td><td>33.00000</td><td> 7.8958</td><td>3</td><td> 0</td></tr>\n",
              "\t<tr><td>0</td><td>3</td><td>1</td><td>22.00000</td><td>10.5167</td><td>3</td><td> 0</td></tr>\n",
              "\t<tr><td>0</td><td>2</td><td>2</td><td>28.00000</td><td>10.5000</td><td>3</td><td> 0</td></tr>\n",
              "\t<tr><td>0</td><td>3</td><td>2</td><td>25.00000</td><td> 7.0500</td><td>3</td><td> 0</td></tr>\n",
              "\t<tr><td>0</td><td>3</td><td>1</td><td>39.00000</td><td>29.1250</td><td>2</td><td> 5</td></tr>\n",
              "\t<tr><td>0</td><td>2</td><td>2</td><td>27.00000</td><td>13.0000</td><td>3</td><td> 0</td></tr>\n",
              "\t<tr><td>1</td><td>1</td><td>1</td><td>19.00000</td><td>30.0000</td><td>3</td><td> 0</td></tr>\n",
              "\t<tr><td>0</td><td>3</td><td>1</td><td>29.69912</td><td>23.4500</td><td>3</td><td> 3</td></tr>\n",
              "\t<tr><td>1</td><td>1</td><td>2</td><td>26.00000</td><td>30.0000</td><td>1</td><td> 0</td></tr>\n",
              "\t<tr><td>0</td><td>3</td><td>2</td><td>32.00000</td><td> 7.7500</td><td>2</td><td> 0</td></tr>\n",
              "</tbody>\n",
              "</table>\n"
            ],
            "text/markdown": "\nA data.frame: 891 × 7\n\n| Survived &lt;int&gt; | Pclass &lt;int&gt; | Sex &lt;dbl&gt; | Age &lt;dbl&gt; | Fare &lt;dbl&gt; | Embarked &lt;dbl&gt; | FamilySize &lt;int&gt; |\n|---|---|---|---|---|---|---|\n| 0 | 3 | 2 | 22.00000 |   7.2500 | 3 | 1 |\n| 1 | 1 | 1 | 38.00000 |  71.2833 | 1 | 1 |\n| 1 | 3 | 1 | 26.00000 |   7.9250 | 3 | 0 |\n| 1 | 1 | 1 | 35.00000 |  53.1000 | 3 | 1 |\n| 0 | 3 | 2 | 35.00000 |   8.0500 | 3 | 0 |\n| 0 | 3 | 2 | 29.69912 |   8.4583 | 2 | 0 |\n| 0 | 1 | 2 | 54.00000 |  51.8625 | 3 | 0 |\n| 0 | 3 | 2 |  2.00000 |  21.0750 | 3 | 4 |\n| 1 | 3 | 1 | 27.00000 |  11.1333 | 3 | 2 |\n| 1 | 2 | 1 | 14.00000 |  30.0708 | 1 | 1 |\n| 1 | 3 | 1 |  4.00000 |  16.7000 | 3 | 2 |\n| 1 | 1 | 1 | 58.00000 |  26.5500 | 3 | 0 |\n| 0 | 3 | 2 | 20.00000 |   8.0500 | 3 | 0 |\n| 0 | 3 | 2 | 39.00000 |  31.2750 | 3 | 6 |\n| 0 | 3 | 1 | 14.00000 |   7.8542 | 3 | 0 |\n| 1 | 2 | 1 | 55.00000 |  16.0000 | 3 | 0 |\n| 0 | 3 | 2 |  2.00000 |  29.1250 | 2 | 5 |\n| 1 | 2 | 2 | 29.69912 |  13.0000 | 3 | 0 |\n| 0 | 3 | 1 | 31.00000 |  18.0000 | 3 | 1 |\n| 1 | 3 | 1 | 29.69912 |   7.2250 | 1 | 0 |\n| 0 | 2 | 2 | 35.00000 |  26.0000 | 3 | 0 |\n| 1 | 2 | 2 | 34.00000 |  13.0000 | 3 | 0 |\n| 1 | 3 | 1 | 15.00000 |   8.0292 | 2 | 0 |\n| 1 | 1 | 2 | 28.00000 |  35.5000 | 3 | 0 |\n| 0 | 3 | 1 |  8.00000 |  21.0750 | 3 | 4 |\n| 1 | 3 | 1 | 38.00000 |  31.3875 | 3 | 6 |\n| 0 | 3 | 2 | 29.69912 |   7.2250 | 1 | 0 |\n| 0 | 1 | 2 | 19.00000 | 263.0000 | 3 | 5 |\n| 1 | 3 | 1 | 29.69912 |   7.8792 | 2 | 0 |\n| 0 | 3 | 2 | 29.69912 |   7.8958 | 3 | 0 |\n| ⋮ | ⋮ | ⋮ | ⋮ | ⋮ | ⋮ | ⋮ |\n| 0 | 2 | 2 | 21.00000 | 11.5000 | 3 |  1 |\n| 1 | 1 | 1 | 48.00000 | 25.9292 | 3 |  0 |\n| 0 | 3 | 1 | 29.69912 | 69.5500 | 3 | 10 |\n| 0 | 2 | 2 | 24.00000 | 13.0000 | 3 |  0 |\n| 1 | 2 | 1 | 42.00000 | 13.0000 | 3 |  0 |\n| 1 | 2 | 1 | 27.00000 | 13.8583 | 1 |  1 |\n| 0 | 1 | 2 | 31.00000 | 50.4958 | 3 |  0 |\n| 0 | 3 | 2 | 29.69912 |  9.5000 | 3 |  0 |\n| 1 | 3 | 2 |  4.00000 | 11.1333 | 3 |  2 |\n| 0 | 3 | 2 | 26.00000 |  7.8958 | 3 |  0 |\n| 1 | 1 | 1 | 47.00000 | 52.5542 | 3 |  2 |\n| 0 | 1 | 2 | 33.00000 |  5.0000 | 3 |  0 |\n| 0 | 3 | 2 | 47.00000 |  9.0000 | 3 |  0 |\n| 1 | 2 | 1 | 28.00000 | 24.0000 | 1 |  1 |\n| 1 | 3 | 1 | 15.00000 |  7.2250 | 1 |  0 |\n| 0 | 3 | 2 | 20.00000 |  9.8458 | 3 |  0 |\n| 0 | 3 | 2 | 19.00000 |  7.8958 | 3 |  0 |\n| 0 | 3 | 2 | 29.69912 |  7.8958 | 3 |  0 |\n| 1 | 1 | 1 | 56.00000 | 83.1583 | 1 |  1 |\n| 1 | 2 | 1 | 25.00000 | 26.0000 | 3 |  1 |\n| 0 | 3 | 2 | 33.00000 |  7.8958 | 3 |  0 |\n| 0 | 3 | 1 | 22.00000 | 10.5167 | 3 |  0 |\n| 0 | 2 | 2 | 28.00000 | 10.5000 | 3 |  0 |\n| 0 | 3 | 2 | 25.00000 |  7.0500 | 3 |  0 |\n| 0 | 3 | 1 | 39.00000 | 29.1250 | 2 |  5 |\n| 0 | 2 | 2 | 27.00000 | 13.0000 | 3 |  0 |\n| 1 | 1 | 1 | 19.00000 | 30.0000 | 3 |  0 |\n| 0 | 3 | 1 | 29.69912 | 23.4500 | 3 |  3 |\n| 1 | 1 | 2 | 26.00000 | 30.0000 | 1 |  0 |\n| 0 | 3 | 2 | 32.00000 |  7.7500 | 2 |  0 |\n\n",
            "text/latex": "A data.frame: 891 × 7\n\\begin{tabular}{lllllll}\n Survived & Pclass & Sex & Age & Fare & Embarked & FamilySize\\\\\n <int> & <int> & <dbl> & <dbl> & <dbl> & <dbl> & <int>\\\\\n\\hline\n\t 0 & 3 & 2 & 22.00000 &   7.2500 & 3 & 1\\\\\n\t 1 & 1 & 1 & 38.00000 &  71.2833 & 1 & 1\\\\\n\t 1 & 3 & 1 & 26.00000 &   7.9250 & 3 & 0\\\\\n\t 1 & 1 & 1 & 35.00000 &  53.1000 & 3 & 1\\\\\n\t 0 & 3 & 2 & 35.00000 &   8.0500 & 3 & 0\\\\\n\t 0 & 3 & 2 & 29.69912 &   8.4583 & 2 & 0\\\\\n\t 0 & 1 & 2 & 54.00000 &  51.8625 & 3 & 0\\\\\n\t 0 & 3 & 2 &  2.00000 &  21.0750 & 3 & 4\\\\\n\t 1 & 3 & 1 & 27.00000 &  11.1333 & 3 & 2\\\\\n\t 1 & 2 & 1 & 14.00000 &  30.0708 & 1 & 1\\\\\n\t 1 & 3 & 1 &  4.00000 &  16.7000 & 3 & 2\\\\\n\t 1 & 1 & 1 & 58.00000 &  26.5500 & 3 & 0\\\\\n\t 0 & 3 & 2 & 20.00000 &   8.0500 & 3 & 0\\\\\n\t 0 & 3 & 2 & 39.00000 &  31.2750 & 3 & 6\\\\\n\t 0 & 3 & 1 & 14.00000 &   7.8542 & 3 & 0\\\\\n\t 1 & 2 & 1 & 55.00000 &  16.0000 & 3 & 0\\\\\n\t 0 & 3 & 2 &  2.00000 &  29.1250 & 2 & 5\\\\\n\t 1 & 2 & 2 & 29.69912 &  13.0000 & 3 & 0\\\\\n\t 0 & 3 & 1 & 31.00000 &  18.0000 & 3 & 1\\\\\n\t 1 & 3 & 1 & 29.69912 &   7.2250 & 1 & 0\\\\\n\t 0 & 2 & 2 & 35.00000 &  26.0000 & 3 & 0\\\\\n\t 1 & 2 & 2 & 34.00000 &  13.0000 & 3 & 0\\\\\n\t 1 & 3 & 1 & 15.00000 &   8.0292 & 2 & 0\\\\\n\t 1 & 1 & 2 & 28.00000 &  35.5000 & 3 & 0\\\\\n\t 0 & 3 & 1 &  8.00000 &  21.0750 & 3 & 4\\\\\n\t 1 & 3 & 1 & 38.00000 &  31.3875 & 3 & 6\\\\\n\t 0 & 3 & 2 & 29.69912 &   7.2250 & 1 & 0\\\\\n\t 0 & 1 & 2 & 19.00000 & 263.0000 & 3 & 5\\\\\n\t 1 & 3 & 1 & 29.69912 &   7.8792 & 2 & 0\\\\\n\t 0 & 3 & 2 & 29.69912 &   7.8958 & 3 & 0\\\\\n\t ⋮ & ⋮ & ⋮ & ⋮ & ⋮ & ⋮ & ⋮\\\\\n\t 0 & 2 & 2 & 21.00000 & 11.5000 & 3 &  1\\\\\n\t 1 & 1 & 1 & 48.00000 & 25.9292 & 3 &  0\\\\\n\t 0 & 3 & 1 & 29.69912 & 69.5500 & 3 & 10\\\\\n\t 0 & 2 & 2 & 24.00000 & 13.0000 & 3 &  0\\\\\n\t 1 & 2 & 1 & 42.00000 & 13.0000 & 3 &  0\\\\\n\t 1 & 2 & 1 & 27.00000 & 13.8583 & 1 &  1\\\\\n\t 0 & 1 & 2 & 31.00000 & 50.4958 & 3 &  0\\\\\n\t 0 & 3 & 2 & 29.69912 &  9.5000 & 3 &  0\\\\\n\t 1 & 3 & 2 &  4.00000 & 11.1333 & 3 &  2\\\\\n\t 0 & 3 & 2 & 26.00000 &  7.8958 & 3 &  0\\\\\n\t 1 & 1 & 1 & 47.00000 & 52.5542 & 3 &  2\\\\\n\t 0 & 1 & 2 & 33.00000 &  5.0000 & 3 &  0\\\\\n\t 0 & 3 & 2 & 47.00000 &  9.0000 & 3 &  0\\\\\n\t 1 & 2 & 1 & 28.00000 & 24.0000 & 1 &  1\\\\\n\t 1 & 3 & 1 & 15.00000 &  7.2250 & 1 &  0\\\\\n\t 0 & 3 & 2 & 20.00000 &  9.8458 & 3 &  0\\\\\n\t 0 & 3 & 2 & 19.00000 &  7.8958 & 3 &  0\\\\\n\t 0 & 3 & 2 & 29.69912 &  7.8958 & 3 &  0\\\\\n\t 1 & 1 & 1 & 56.00000 & 83.1583 & 1 &  1\\\\\n\t 1 & 2 & 1 & 25.00000 & 26.0000 & 3 &  1\\\\\n\t 0 & 3 & 2 & 33.00000 &  7.8958 & 3 &  0\\\\\n\t 0 & 3 & 1 & 22.00000 & 10.5167 & 3 &  0\\\\\n\t 0 & 2 & 2 & 28.00000 & 10.5000 & 3 &  0\\\\\n\t 0 & 3 & 2 & 25.00000 &  7.0500 & 3 &  0\\\\\n\t 0 & 3 & 1 & 39.00000 & 29.1250 & 2 &  5\\\\\n\t 0 & 2 & 2 & 27.00000 & 13.0000 & 3 &  0\\\\\n\t 1 & 1 & 1 & 19.00000 & 30.0000 & 3 &  0\\\\\n\t 0 & 3 & 1 & 29.69912 & 23.4500 & 3 &  3\\\\\n\t 1 & 1 & 2 & 26.00000 & 30.0000 & 1 &  0\\\\\n\t 0 & 3 & 2 & 32.00000 &  7.7500 & 2 &  0\\\\\n\\end{tabular}\n",
            "text/plain": [
              "    Survived Pclass Sex Age      Fare     Embarked FamilySize\n",
              "1   0        3      2   22.00000   7.2500 3        1         \n",
              "2   1        1      1   38.00000  71.2833 1        1         \n",
              "3   1        3      1   26.00000   7.9250 3        0         \n",
              "4   1        1      1   35.00000  53.1000 3        1         \n",
              "5   0        3      2   35.00000   8.0500 3        0         \n",
              "6   0        3      2   29.69912   8.4583 2        0         \n",
              "7   0        1      2   54.00000  51.8625 3        0         \n",
              "8   0        3      2    2.00000  21.0750 3        4         \n",
              "9   1        3      1   27.00000  11.1333 3        2         \n",
              "10  1        2      1   14.00000  30.0708 1        1         \n",
              "11  1        3      1    4.00000  16.7000 3        2         \n",
              "12  1        1      1   58.00000  26.5500 3        0         \n",
              "13  0        3      2   20.00000   8.0500 3        0         \n",
              "14  0        3      2   39.00000  31.2750 3        6         \n",
              "15  0        3      1   14.00000   7.8542 3        0         \n",
              "16  1        2      1   55.00000  16.0000 3        0         \n",
              "17  0        3      2    2.00000  29.1250 2        5         \n",
              "18  1        2      2   29.69912  13.0000 3        0         \n",
              "19  0        3      1   31.00000  18.0000 3        1         \n",
              "20  1        3      1   29.69912   7.2250 1        0         \n",
              "21  0        2      2   35.00000  26.0000 3        0         \n",
              "22  1        2      2   34.00000  13.0000 3        0         \n",
              "23  1        3      1   15.00000   8.0292 2        0         \n",
              "24  1        1      2   28.00000  35.5000 3        0         \n",
              "25  0        3      1    8.00000  21.0750 3        4         \n",
              "26  1        3      1   38.00000  31.3875 3        6         \n",
              "27  0        3      2   29.69912   7.2250 1        0         \n",
              "28  0        1      2   19.00000 263.0000 3        5         \n",
              "29  1        3      1   29.69912   7.8792 2        0         \n",
              "30  0        3      2   29.69912   7.8958 3        0         \n",
              "⋮   ⋮        ⋮      ⋮   ⋮        ⋮        ⋮        ⋮         \n",
              "862 0        2      2   21.00000 11.5000  3         1        \n",
              "863 1        1      1   48.00000 25.9292  3         0        \n",
              "864 0        3      1   29.69912 69.5500  3        10        \n",
              "865 0        2      2   24.00000 13.0000  3         0        \n",
              "866 1        2      1   42.00000 13.0000  3         0        \n",
              "867 1        2      1   27.00000 13.8583  1         1        \n",
              "868 0        1      2   31.00000 50.4958  3         0        \n",
              "869 0        3      2   29.69912  9.5000  3         0        \n",
              "870 1        3      2    4.00000 11.1333  3         2        \n",
              "871 0        3      2   26.00000  7.8958  3         0        \n",
              "872 1        1      1   47.00000 52.5542  3         2        \n",
              "873 0        1      2   33.00000  5.0000  3         0        \n",
              "874 0        3      2   47.00000  9.0000  3         0        \n",
              "875 1        2      1   28.00000 24.0000  1         1        \n",
              "876 1        3      1   15.00000  7.2250  1         0        \n",
              "877 0        3      2   20.00000  9.8458  3         0        \n",
              "878 0        3      2   19.00000  7.8958  3         0        \n",
              "879 0        3      2   29.69912  7.8958  3         0        \n",
              "880 1        1      1   56.00000 83.1583  1         1        \n",
              "881 1        2      1   25.00000 26.0000  3         1        \n",
              "882 0        3      2   33.00000  7.8958  3         0        \n",
              "883 0        3      1   22.00000 10.5167  3         0        \n",
              "884 0        2      2   28.00000 10.5000  3         0        \n",
              "885 0        3      2   25.00000  7.0500  3         0        \n",
              "886 0        3      1   39.00000 29.1250  2         5        \n",
              "887 0        2      2   27.00000 13.0000  3         0        \n",
              "888 1        1      1   19.00000 30.0000  3         0        \n",
              "889 0        3      1   29.69912 23.4500  3         3        \n",
              "890 1        1      2   26.00000 30.0000  1         0        \n",
              "891 0        3      2   32.00000  7.7500  2         0        "
            ]
          },
          "metadata": {}
        }
      ]
    },
    {
      "cell_type": "code",
      "source": [
        "# 난수(random) 발생을 위한 seed 값 부여\n",
        "set.seed(123)\n",
        "\n",
        "# 전체 행의 80%에 해당하는 인덱스를 임의 선정\n",
        "idx <- sample(1:nrow(df), 0.8*nrow(df))\n",
        "\n",
        "# 인덱스에 해당하는 행을 학습 데이터로 선정\n",
        "df_train <- df[idx, ]       # 독립변수 + 종속변수\n",
        "\n",
        "# 인덱스에 해당하지 않는 행(-idx)을 테스트 데이터로 선정\n",
        "df_test <- df[-idx, ]       # 독립변수 + 종속변수"
      ],
      "metadata": {
        "id": "kcUCob9qI9QH"
      },
      "execution_count": 10,
      "outputs": []
    },
    {
      "cell_type": "code",
      "source": [
        "print(dim(df_train))    # 학습 데이터셋\n",
        "print(dim(df_test))     # 테스트 데이터셋"
      ],
      "metadata": {
        "colab": {
          "base_uri": "https://localhost:8080/"
        },
        "id": "zuLykfAlJDC6",
        "outputId": "1ce6c9a6-7a6e-4d14-8bf7-c166de873e42"
      },
      "execution_count": 11,
      "outputs": [
        {
          "output_type": "stream",
          "name": "stdout",
          "text": [
            "[1] 712   7\n",
            "[1] 179   7\n"
          ]
        }
      ]
    },
    {
      "cell_type": "code",
      "source": [
        "# rpart()를 사용하여 의사결정나무 학습\n",
        "library(rpart)      # rpart() 함수 포함 패키지\n",
        "\n",
        "model <- rpart(Survived~., method=\"class\", data=df_train)"
      ],
      "metadata": {
        "id": "KndMtckAJFZ6"
      },
      "execution_count": 13,
      "outputs": []
    },
    {
      "cell_type": "code",
      "source": [
        "# 학습된 모델을 기반으로 예측 수행\n",
        "pred <- predict(model, df_test[,-1], type=\"class\")"
      ],
      "metadata": {
        "id": "IaMrRnOvJSQa"
      },
      "execution_count": 14,
      "outputs": []
    },
    {
      "cell_type": "code",
      "source": [
        "# 예측 결과와 실제값을 비교(오차행렬)\n",
        "cm <- table(df_test$Survived, pred)\n",
        "print(cm)\n",
        "\n",
        "# 모델평가 - 정확도\n",
        "acc <- (cm[1,1] + cm[2,2])/nrow(df_test)\n",
        "print(acc)"
      ],
      "metadata": {
        "colab": {
          "base_uri": "https://localhost:8080/"
        },
        "id": "or3J_JByJVaj",
        "outputId": "977d9cbb-686b-45ca-c7e0-d2b960454fc6"
      },
      "execution_count": 15,
      "outputs": [
        {
          "output_type": "stream",
          "name": "stdout",
          "text": [
            "   pred\n",
            "     0  1\n",
            "  0 95 15\n",
            "  1 20 49\n",
            "[1] 0.8044693\n"
          ]
        }
      ]
    },
    {
      "cell_type": "code",
      "source": [
        "# 모델 복잡도(cp) 출력\n",
        "printcp(model)"
      ],
      "metadata": {
        "colab": {
          "base_uri": "https://localhost:8080/"
        },
        "id": "09ZiahwuJaVj",
        "outputId": "12f34604-c1b2-4698-e21e-276255cd2450"
      },
      "execution_count": 16,
      "outputs": [
        {
          "output_type": "stream",
          "name": "stdout",
          "text": [
            "\n",
            "Classification tree:\n",
            "rpart(formula = Survived ~ ., data = df_train, method = \"class\")\n",
            "\n",
            "Variables actually used in tree construction:\n",
            "[1] Age    Fare   Pclass Sex   \n",
            "\n",
            "Root node error: 273/712 = 0.38343\n",
            "\n",
            "n= 712 \n",
            "\n",
            "        CP nsplit rel error  xerror     xstd\n",
            "1 0.450549      0   1.00000 1.00000 0.047524\n",
            "2 0.032967      1   0.54945 0.54945 0.039858\n",
            "3 0.025641      3   0.48352 0.52747 0.039260\n",
            "4 0.014652      4   0.45788 0.49451 0.038314\n",
            "5 0.010000      6   0.42857 0.50183 0.038529\n"
          ]
        }
      ]
    },
    {
      "cell_type": "code",
      "source": [
        "# 의사결정나무 가지치기(최적화)\n",
        "# 최적의 CP값보다 조금 큰 값으로 설정\n",
        "model_opt <- prune(model, cp=0.015)\n",
        "printcp(model_opt)\n",
        "\n",
        "# 의사결정나무 시각화\n",
        "plot(model); text(model);\n",
        "plot(model_opt); text(model_opt);"
      ],
      "metadata": {
        "colab": {
          "base_uri": "https://localhost:8080/",
          "height": 1000
        },
        "id": "1nUo-lwXJcoN",
        "outputId": "14bf7c05-fde3-458f-92c3-8fa90d81dfe3"
      },
      "execution_count": 17,
      "outputs": [
        {
          "output_type": "stream",
          "name": "stdout",
          "text": [
            "\n",
            "Classification tree:\n",
            "rpart(formula = Survived ~ ., data = df_train, method = \"class\")\n",
            "\n",
            "Variables actually used in tree construction:\n",
            "[1] Age    Fare   Pclass Sex   \n",
            "\n",
            "Root node error: 273/712 = 0.38343\n",
            "\n",
            "n= 712 \n",
            "\n",
            "        CP nsplit rel error  xerror     xstd\n",
            "1 0.450549      0   1.00000 1.00000 0.047524\n",
            "2 0.032967      1   0.54945 0.54945 0.039858\n",
            "3 0.025641      3   0.48352 0.52747 0.039260\n",
            "4 0.015000      4   0.45788 0.49451 0.038314\n"
          ]
        },
        {
          "output_type": "display_data",
          "data": {
            "text/plain": [
              "plot without title"
            ],
            "image/png": "[encoded data removed]"
          },
          "metadata": {
            "image/png": {
              "width": 420,
              "height": 420
            }
          }
        },
        {
          "output_type": "display_data",
          "data": {
            "text/plain": [
              "plot without title"
            ],
            "image/png": "[encoded data removed]"
          },
          "metadata": {
            "image/png": {
              "width": 420,
              "height": 420
            }
          }
        }
      ]
    },
    {
      "cell_type": "markdown",
      "source": [
        ">>>**02 KNN을 이용한 분류 문제 해결**"
      ],
      "metadata": {
        "id": "2zrN0IQJJj14"
      }
    },
    {
      "cell_type": "code",
      "source": [
        "library(dplyr)        # dplyr 패키지 임포트\n",
        "library(ggplot2)      # ggplot2 패키지 임포트\n",
        "\n",
        "# KNN 분류모델을 위한 패키지 임포트\n",
        "library(class)"
      ],
      "metadata": {
        "id": "Ve6kouwCJnTl"
      },
      "execution_count": 19,
      "outputs": []
    },
    {
      "cell_type": "code",
      "source": [
        "# 깃허브에 있는 csv 파일을 읽어와서 데이터프레임 df로 넣는다.\n",
        "df <- read.csv(\"https://raw.githubusercontent.com/mwaskom/seaborn-data/master/iris.csv\")"
      ],
      "metadata": {
        "id": "rvfm8olUJv-i"
      },
      "execution_count": 20,
      "outputs": []
    },
    {
      "cell_type": "code",
      "source": [
        "df"
      ],
      "metadata": {
        "colab": {
          "base_uri": "https://localhost:8080/",
          "height": 1000
        },
        "id": "_Iq2O30xJz6z",
        "outputId": "d34e382d-be00-488c-eb9a-ea5ef7327d77"
      },
      "execution_count": 21,
      "outputs": [
        {
          "output_type": "display_data",
          "data": {
            "text/html": [
              "<table class=\"dataframe\">\n",
              "<caption>A data.frame: 150 × 5</caption>\n",
              "<thead>\n",
              "\t<tr><th scope=col>sepal_length</th><th scope=col>sepal_width</th><th scope=col>petal_length</th><th scope=col>petal_width</th><th scope=col>species</th></tr>\n",
              "\t<tr><th scope=col>&lt;dbl&gt;</th><th scope=col>&lt;dbl&gt;</th><th scope=col>&lt;dbl&gt;</th><th scope=col>&lt;dbl&gt;</th><th scope=col>&lt;chr&gt;</th></tr>\n",
              "</thead>\n",
              "<tbody>\n",
              "\t<tr><td>5.1</td><td>3.5</td><td>1.4</td><td>0.2</td><td>setosa</td></tr>\n",
              "\t<tr><td>4.9</td><td>3.0</td><td>1.4</td><td>0.2</td><td>setosa</td></tr>\n",
              "\t<tr><td>4.7</td><td>3.2</td><td>1.3</td><td>0.2</td><td>setosa</td></tr>\n",
              "\t<tr><td>4.6</td><td>3.1</td><td>1.5</td><td>0.2</td><td>setosa</td></tr>\n",
              "\t<tr><td>5.0</td><td>3.6</td><td>1.4</td><td>0.2</td><td>setosa</td></tr>\n",
              "\t<tr><td>5.4</td><td>3.9</td><td>1.7</td><td>0.4</td><td>setosa</td></tr>\n",
              "\t<tr><td>4.6</td><td>3.4</td><td>1.4</td><td>0.3</td><td>setosa</td></tr>\n",
              "\t<tr><td>5.0</td><td>3.4</td><td>1.5</td><td>0.2</td><td>setosa</td></tr>\n",
              "\t<tr><td>4.4</td><td>2.9</td><td>1.4</td><td>0.2</td><td>setosa</td></tr>\n",
              "\t<tr><td>4.9</td><td>3.1</td><td>1.5</td><td>0.1</td><td>setosa</td></tr>\n",
              "\t<tr><td>5.4</td><td>3.7</td><td>1.5</td><td>0.2</td><td>setosa</td></tr>\n",
              "\t<tr><td>4.8</td><td>3.4</td><td>1.6</td><td>0.2</td><td>setosa</td></tr>\n",
              "\t<tr><td>4.8</td><td>3.0</td><td>1.4</td><td>0.1</td><td>setosa</td></tr>\n",
              "\t<tr><td>4.3</td><td>3.0</td><td>1.1</td><td>0.1</td><td>setosa</td></tr>\n",
              "\t<tr><td>5.8</td><td>4.0</td><td>1.2</td><td>0.2</td><td>setosa</td></tr>\n",
              "\t<tr><td>5.7</td><td>4.4</td><td>1.5</td><td>0.4</td><td>setosa</td></tr>\n",
              "\t<tr><td>5.4</td><td>3.9</td><td>1.3</td><td>0.4</td><td>setosa</td></tr>\n",
              "\t<tr><td>5.1</td><td>3.5</td><td>1.4</td><td>0.3</td><td>setosa</td></tr>\n",
              "\t<tr><td>5.7</td><td>3.8</td><td>1.7</td><td>0.3</td><td>setosa</td></tr>\n",
              "\t<tr><td>5.1</td><td>3.8</td><td>1.5</td><td>0.3</td><td>setosa</td></tr>\n",
              "\t<tr><td>5.4</td><td>3.4</td><td>1.7</td><td>0.2</td><td>setosa</td></tr>\n",
              "\t<tr><td>5.1</td><td>3.7</td><td>1.5</td><td>0.4</td><td>setosa</td></tr>\n",
              "\t<tr><td>4.6</td><td>3.6</td><td>1.0</td><td>0.2</td><td>setosa</td></tr>\n",
              "\t<tr><td>5.1</td><td>3.3</td><td>1.7</td><td>0.5</td><td>setosa</td></tr>\n",
              "\t<tr><td>4.8</td><td>3.4</td><td>1.9</td><td>0.2</td><td>setosa</td></tr>\n",
              "\t<tr><td>5.0</td><td>3.0</td><td>1.6</td><td>0.2</td><td>setosa</td></tr>\n",
              "\t<tr><td>5.0</td><td>3.4</td><td>1.6</td><td>0.4</td><td>setosa</td></tr>\n",
              "\t<tr><td>5.2</td><td>3.5</td><td>1.5</td><td>0.2</td><td>setosa</td></tr>\n",
              "\t<tr><td>5.2</td><td>3.4</td><td>1.4</td><td>0.2</td><td>setosa</td></tr>\n",
              "\t<tr><td>4.7</td><td>3.2</td><td>1.6</td><td>0.2</td><td>setosa</td></tr>\n",
              "\t<tr><td>⋮</td><td>⋮</td><td>⋮</td><td>⋮</td><td>⋮</td></tr>\n",
              "\t<tr><td>6.9</td><td>3.2</td><td>5.7</td><td>2.3</td><td>virginica</td></tr>\n",
              "\t<tr><td>5.6</td><td>2.8</td><td>4.9</td><td>2.0</td><td>virginica</td></tr>\n",
              "\t<tr><td>7.7</td><td>2.8</td><td>6.7</td><td>2.0</td><td>virginica</td></tr>\n",
              "\t<tr><td>6.3</td><td>2.7</td><td>4.9</td><td>1.8</td><td>virginica</td></tr>\n",
              "\t<tr><td>6.7</td><td>3.3</td><td>5.7</td><td>2.1</td><td>virginica</td></tr>\n",
              "\t<tr><td>7.2</td><td>3.2</td><td>6.0</td><td>1.8</td><td>virginica</td></tr>\n",
              "\t<tr><td>6.2</td><td>2.8</td><td>4.8</td><td>1.8</td><td>virginica</td></tr>\n",
              "\t<tr><td>6.1</td><td>3.0</td><td>4.9</td><td>1.8</td><td>virginica</td></tr>\n",
              "\t<tr><td>6.4</td><td>2.8</td><td>5.6</td><td>2.1</td><td>virginica</td></tr>\n",
              "\t<tr><td>7.2</td><td>3.0</td><td>5.8</td><td>1.6</td><td>virginica</td></tr>\n",
              "\t<tr><td>7.4</td><td>2.8</td><td>6.1</td><td>1.9</td><td>virginica</td></tr>\n",
              "\t<tr><td>7.9</td><td>3.8</td><td>6.4</td><td>2.0</td><td>virginica</td></tr>\n",
              "\t<tr><td>6.4</td><td>2.8</td><td>5.6</td><td>2.2</td><td>virginica</td></tr>\n",
              "\t<tr><td>6.3</td><td>2.8</td><td>5.1</td><td>1.5</td><td>virginica</td></tr>\n",
              "\t<tr><td>6.1</td><td>2.6</td><td>5.6</td><td>1.4</td><td>virginica</td></tr>\n",
              "\t<tr><td>7.7</td><td>3.0</td><td>6.1</td><td>2.3</td><td>virginica</td></tr>\n",
              "\t<tr><td>6.3</td><td>3.4</td><td>5.6</td><td>2.4</td><td>virginica</td></tr>\n",
              "\t<tr><td>6.4</td><td>3.1</td><td>5.5</td><td>1.8</td><td>virginica</td></tr>\n",
              "\t<tr><td>6.0</td><td>3.0</td><td>4.8</td><td>1.8</td><td>virginica</td></tr>\n",
              "\t<tr><td>6.9</td><td>3.1</td><td>5.4</td><td>2.1</td><td>virginica</td></tr>\n",
              "\t<tr><td>6.7</td><td>3.1</td><td>5.6</td><td>2.4</td><td>virginica</td></tr>\n",
              "\t<tr><td>6.9</td><td>3.1</td><td>5.1</td><td>2.3</td><td>virginica</td></tr>\n",
              "\t<tr><td>5.8</td><td>2.7</td><td>5.1</td><td>1.9</td><td>virginica</td></tr>\n",
              "\t<tr><td>6.8</td><td>3.2</td><td>5.9</td><td>2.3</td><td>virginica</td></tr>\n",
              "\t<tr><td>6.7</td><td>3.3</td><td>5.7</td><td>2.5</td><td>virginica</td></tr>\n",
              "\t<tr><td>6.7</td><td>3.0</td><td>5.2</td><td>2.3</td><td>virginica</td></tr>\n",
              "\t<tr><td>6.3</td><td>2.5</td><td>5.0</td><td>1.9</td><td>virginica</td></tr>\n",
              "\t<tr><td>6.5</td><td>3.0</td><td>5.2</td><td>2.0</td><td>virginica</td></tr>\n",
              "\t<tr><td>6.2</td><td>3.4</td><td>5.4</td><td>2.3</td><td>virginica</td></tr>\n",
              "\t<tr><td>5.9</td><td>3.0</td><td>5.1</td><td>1.8</td><td>virginica</td></tr>\n",
              "</tbody>\n",
              "</table>\n"
            ],
            "text/markdown": "\nA data.frame: 150 × 5\n\n| sepal_length &lt;dbl&gt; | sepal_width &lt;dbl&gt; | petal_length &lt;dbl&gt; | petal_width &lt;dbl&gt; | species &lt;chr&gt; |\n|---|---|---|---|---|\n| 5.1 | 3.5 | 1.4 | 0.2 | setosa |\n| 4.9 | 3.0 | 1.4 | 0.2 | setosa |\n| 4.7 | 3.2 | 1.3 | 0.2 | setosa |\n| 4.6 | 3.1 | 1.5 | 0.2 | setosa |\n| 5.0 | 3.6 | 1.4 | 0.2 | setosa |\n| 5.4 | 3.9 | 1.7 | 0.4 | setosa |\n| 4.6 | 3.4 | 1.4 | 0.3 | setosa |\n| 5.0 | 3.4 | 1.5 | 0.2 | setosa |\n| 4.4 | 2.9 | 1.4 | 0.2 | setosa |\n| 4.9 | 3.1 | 1.5 | 0.1 | setosa |\n| 5.4 | 3.7 | 1.5 | 0.2 | setosa |\n| 4.8 | 3.4 | 1.6 | 0.2 | setosa |\n| 4.8 | 3.0 | 1.4 | 0.1 | setosa |\n| 4.3 | 3.0 | 1.1 | 0.1 | setosa |\n| 5.8 | 4.0 | 1.2 | 0.2 | setosa |\n| 5.7 | 4.4 | 1.5 | 0.4 | setosa |\n| 5.4 | 3.9 | 1.3 | 0.4 | setosa |\n| 5.1 | 3.5 | 1.4 | 0.3 | setosa |\n| 5.7 | 3.8 | 1.7 | 0.3 | setosa |\n| 5.1 | 3.8 | 1.5 | 0.3 | setosa |\n| 5.4 | 3.4 | 1.7 | 0.2 | setosa |\n| 5.1 | 3.7 | 1.5 | 0.4 | setosa |\n| 4.6 | 3.6 | 1.0 | 0.2 | setosa |\n| 5.1 | 3.3 | 1.7 | 0.5 | setosa |\n| 4.8 | 3.4 | 1.9 | 0.2 | setosa |\n| 5.0 | 3.0 | 1.6 | 0.2 | setosa |\n| 5.0 | 3.4 | 1.6 | 0.4 | setosa |\n| 5.2 | 3.5 | 1.5 | 0.2 | setosa |\n| 5.2 | 3.4 | 1.4 | 0.2 | setosa |\n| 4.7 | 3.2 | 1.6 | 0.2 | setosa |\n| ⋮ | ⋮ | ⋮ | ⋮ | ⋮ |\n| 6.9 | 3.2 | 5.7 | 2.3 | virginica |\n| 5.6 | 2.8 | 4.9 | 2.0 | virginica |\n| 7.7 | 2.8 | 6.7 | 2.0 | virginica |\n| 6.3 | 2.7 | 4.9 | 1.8 | virginica |\n| 6.7 | 3.3 | 5.7 | 2.1 | virginica |\n| 7.2 | 3.2 | 6.0 | 1.8 | virginica |\n| 6.2 | 2.8 | 4.8 | 1.8 | virginica |\n| 6.1 | 3.0 | 4.9 | 1.8 | virginica |\n| 6.4 | 2.8 | 5.6 | 2.1 | virginica |\n| 7.2 | 3.0 | 5.8 | 1.6 | virginica |\n| 7.4 | 2.8 | 6.1 | 1.9 | virginica |\n| 7.9 | 3.8 | 6.4 | 2.0 | virginica |\n| 6.4 | 2.8 | 5.6 | 2.2 | virginica |\n| 6.3 | 2.8 | 5.1 | 1.5 | virginica |\n| 6.1 | 2.6 | 5.6 | 1.4 | virginica |\n| 7.7 | 3.0 | 6.1 | 2.3 | virginica |\n| 6.3 | 3.4 | 5.6 | 2.4 | virginica |\n| 6.4 | 3.1 | 5.5 | 1.8 | virginica |\n| 6.0 | 3.0 | 4.8 | 1.8 | virginica |\n| 6.9 | 3.1 | 5.4 | 2.1 | virginica |\n| 6.7 | 3.1 | 5.6 | 2.4 | virginica |\n| 6.9 | 3.1 | 5.1 | 2.3 | virginica |\n| 5.8 | 2.7 | 5.1 | 1.9 | virginica |\n| 6.8 | 3.2 | 5.9 | 2.3 | virginica |\n| 6.7 | 3.3 | 5.7 | 2.5 | virginica |\n| 6.7 | 3.0 | 5.2 | 2.3 | virginica |\n| 6.3 | 2.5 | 5.0 | 1.9 | virginica |\n| 6.5 | 3.0 | 5.2 | 2.0 | virginica |\n| 6.2 | 3.4 | 5.4 | 2.3 | virginica |\n| 5.9 | 3.0 | 5.1 | 1.8 | virginica |\n\n",
            "text/latex": "A data.frame: 150 × 5\n\\begin{tabular}{lllll}\n sepal\\_length & sepal\\_width & petal\\_length & petal\\_width & species\\\\\n <dbl> & <dbl> & <dbl> & <dbl> & <chr>\\\\\n\\hline\n\t 5.1 & 3.5 & 1.4 & 0.2 & setosa\\\\\n\t 4.9 & 3.0 & 1.4 & 0.2 & setosa\\\\\n\t 4.7 & 3.2 & 1.3 & 0.2 & setosa\\\\\n\t 4.6 & 3.1 & 1.5 & 0.2 & setosa\\\\\n\t 5.0 & 3.6 & 1.4 & 0.2 & setosa\\\\\n\t 5.4 & 3.9 & 1.7 & 0.4 & setosa\\\\\n\t 4.6 & 3.4 & 1.4 & 0.3 & setosa\\\\\n\t 5.0 & 3.4 & 1.5 & 0.2 & setosa\\\\\n\t 4.4 & 2.9 & 1.4 & 0.2 & setosa\\\\\n\t 4.9 & 3.1 & 1.5 & 0.1 & setosa\\\\\n\t 5.4 & 3.7 & 1.5 & 0.2 & setosa\\\\\n\t 4.8 & 3.4 & 1.6 & 0.2 & setosa\\\\\n\t 4.8 & 3.0 & 1.4 & 0.1 & setosa\\\\\n\t 4.3 & 3.0 & 1.1 & 0.1 & setosa\\\\\n\t 5.8 & 4.0 & 1.2 & 0.2 & setosa\\\\\n\t 5.7 & 4.4 & 1.5 & 0.4 & setosa\\\\\n\t 5.4 & 3.9 & 1.3 & 0.4 & setosa\\\\\n\t 5.1 & 3.5 & 1.4 & 0.3 & setosa\\\\\n\t 5.7 & 3.8 & 1.7 & 0.3 & setosa\\\\\n\t 5.1 & 3.8 & 1.5 & 0.3 & setosa\\\\\n\t 5.4 & 3.4 & 1.7 & 0.2 & setosa\\\\\n\t 5.1 & 3.7 & 1.5 & 0.4 & setosa\\\\\n\t 4.6 & 3.6 & 1.0 & 0.2 & setosa\\\\\n\t 5.1 & 3.3 & 1.7 & 0.5 & setosa\\\\\n\t 4.8 & 3.4 & 1.9 & 0.2 & setosa\\\\\n\t 5.0 & 3.0 & 1.6 & 0.2 & setosa\\\\\n\t 5.0 & 3.4 & 1.6 & 0.4 & setosa\\\\\n\t 5.2 & 3.5 & 1.5 & 0.2 & setosa\\\\\n\t 5.2 & 3.4 & 1.4 & 0.2 & setosa\\\\\n\t 4.7 & 3.2 & 1.6 & 0.2 & setosa\\\\\n\t ⋮ & ⋮ & ⋮ & ⋮ & ⋮\\\\\n\t 6.9 & 3.2 & 5.7 & 2.3 & virginica\\\\\n\t 5.6 & 2.8 & 4.9 & 2.0 & virginica\\\\\n\t 7.7 & 2.8 & 6.7 & 2.0 & virginica\\\\\n\t 6.3 & 2.7 & 4.9 & 1.8 & virginica\\\\\n\t 6.7 & 3.3 & 5.7 & 2.1 & virginica\\\\\n\t 7.2 & 3.2 & 6.0 & 1.8 & virginica\\\\\n\t 6.2 & 2.8 & 4.8 & 1.8 & virginica\\\\\n\t 6.1 & 3.0 & 4.9 & 1.8 & virginica\\\\\n\t 6.4 & 2.8 & 5.6 & 2.1 & virginica\\\\\n\t 7.2 & 3.0 & 5.8 & 1.6 & virginica\\\\\n\t 7.4 & 2.8 & 6.1 & 1.9 & virginica\\\\\n\t 7.9 & 3.8 & 6.4 & 2.0 & virginica\\\\\n\t 6.4 & 2.8 & 5.6 & 2.2 & virginica\\\\\n\t 6.3 & 2.8 & 5.1 & 1.5 & virginica\\\\\n\t 6.1 & 2.6 & 5.6 & 1.4 & virginica\\\\\n\t 7.7 & 3.0 & 6.1 & 2.3 & virginica\\\\\n\t 6.3 & 3.4 & 5.6 & 2.4 & virginica\\\\\n\t 6.4 & 3.1 & 5.5 & 1.8 & virginica\\\\\n\t 6.0 & 3.0 & 4.8 & 1.8 & virginica\\\\\n\t 6.9 & 3.1 & 5.4 & 2.1 & virginica\\\\\n\t 6.7 & 3.1 & 5.6 & 2.4 & virginica\\\\\n\t 6.9 & 3.1 & 5.1 & 2.3 & virginica\\\\\n\t 5.8 & 2.7 & 5.1 & 1.9 & virginica\\\\\n\t 6.8 & 3.2 & 5.9 & 2.3 & virginica\\\\\n\t 6.7 & 3.3 & 5.7 & 2.5 & virginica\\\\\n\t 6.7 & 3.0 & 5.2 & 2.3 & virginica\\\\\n\t 6.3 & 2.5 & 5.0 & 1.9 & virginica\\\\\n\t 6.5 & 3.0 & 5.2 & 2.0 & virginica\\\\\n\t 6.2 & 3.4 & 5.4 & 2.3 & virginica\\\\\n\t 5.9 & 3.0 & 5.1 & 1.8 & virginica\\\\\n\\end{tabular}\n",
            "text/plain": [
              "    sepal_length sepal_width petal_length petal_width species  \n",
              "1   5.1          3.5         1.4          0.2         setosa   \n",
              "2   4.9          3.0         1.4          0.2         setosa   \n",
              "3   4.7          3.2         1.3          0.2         setosa   \n",
              "4   4.6          3.1         1.5          0.2         setosa   \n",
              "5   5.0          3.6         1.4          0.2         setosa   \n",
              "6   5.4          3.9         1.7          0.4         setosa   \n",
              "7   4.6          3.4         1.4          0.3         setosa   \n",
              "8   5.0          3.4         1.5          0.2         setosa   \n",
              "9   4.4          2.9         1.4          0.2         setosa   \n",
              "10  4.9          3.1         1.5          0.1         setosa   \n",
              "11  5.4          3.7         1.5          0.2         setosa   \n",
              "12  4.8          3.4         1.6          0.2         setosa   \n",
              "13  4.8          3.0         1.4          0.1         setosa   \n",
              "14  4.3          3.0         1.1          0.1         setosa   \n",
              "15  5.8          4.0         1.2          0.2         setosa   \n",
              "16  5.7          4.4         1.5          0.4         setosa   \n",
              "17  5.4          3.9         1.3          0.4         setosa   \n",
              "18  5.1          3.5         1.4          0.3         setosa   \n",
              "19  5.7          3.8         1.7          0.3         setosa   \n",
              "20  5.1          3.8         1.5          0.3         setosa   \n",
              "21  5.4          3.4         1.7          0.2         setosa   \n",
              "22  5.1          3.7         1.5          0.4         setosa   \n",
              "23  4.6          3.6         1.0          0.2         setosa   \n",
              "24  5.1          3.3         1.7          0.5         setosa   \n",
              "25  4.8          3.4         1.9          0.2         setosa   \n",
              "26  5.0          3.0         1.6          0.2         setosa   \n",
              "27  5.0          3.4         1.6          0.4         setosa   \n",
              "28  5.2          3.5         1.5          0.2         setosa   \n",
              "29  5.2          3.4         1.4          0.2         setosa   \n",
              "30  4.7          3.2         1.6          0.2         setosa   \n",
              "⋮   ⋮            ⋮           ⋮            ⋮           ⋮        \n",
              "121 6.9          3.2         5.7          2.3         virginica\n",
              "122 5.6          2.8         4.9          2.0         virginica\n",
              "123 7.7          2.8         6.7          2.0         virginica\n",
              "124 6.3          2.7         4.9          1.8         virginica\n",
              "125 6.7          3.3         5.7          2.1         virginica\n",
              "126 7.2          3.2         6.0          1.8         virginica\n",
              "127 6.2          2.8         4.8          1.8         virginica\n",
              "128 6.1          3.0         4.9          1.8         virginica\n",
              "129 6.4          2.8         5.6          2.1         virginica\n",
              "130 7.2          3.0         5.8          1.6         virginica\n",
              "131 7.4          2.8         6.1          1.9         virginica\n",
              "132 7.9          3.8         6.4          2.0         virginica\n",
              "133 6.4          2.8         5.6          2.2         virginica\n",
              "134 6.3          2.8         5.1          1.5         virginica\n",
              "135 6.1          2.6         5.6          1.4         virginica\n",
              "136 7.7          3.0         6.1          2.3         virginica\n",
              "137 6.3          3.4         5.6          2.4         virginica\n",
              "138 6.4          3.1         5.5          1.8         virginica\n",
              "139 6.0          3.0         4.8          1.8         virginica\n",
              "140 6.9          3.1         5.4          2.1         virginica\n",
              "141 6.7          3.1         5.6          2.4         virginica\n",
              "142 6.9          3.1         5.1          2.3         virginica\n",
              "143 5.8          2.7         5.1          1.9         virginica\n",
              "144 6.8          3.2         5.9          2.3         virginica\n",
              "145 6.7          3.3         5.7          2.5         virginica\n",
              "146 6.7          3.0         5.2          2.3         virginica\n",
              "147 6.3          2.5         5.0          1.9         virginica\n",
              "148 6.5          3.0         5.2          2.0         virginica\n",
              "149 6.2          3.4         5.4          2.3         virginica\n",
              "150 5.9          3.0         5.1          1.8         virginica"
            ]
          },
          "metadata": {}
        }
      ]
    },
    {
      "cell_type": "code",
      "source": [
        "str(df)    # 데이터프레임 구조"
      ],
      "metadata": {
        "colab": {
          "base_uri": "https://localhost:8080/"
        },
        "id": "OMW3_k4MJ12n",
        "outputId": "d694c82e-02f2-4804-eefe-73556db7ac23"
      },
      "execution_count": 22,
      "outputs": [
        {
          "output_type": "stream",
          "name": "stdout",
          "text": [
            "'data.frame':\t150 obs. of  5 variables:\n",
            " $ sepal_length: num  5.1 4.9 4.7 4.6 5 5.4 4.6 5 4.4 4.9 ...\n",
            " $ sepal_width : num  3.5 3 3.2 3.1 3.6 3.9 3.4 3.4 2.9 3.1 ...\n",
            " $ petal_length: num  1.4 1.4 1.3 1.5 1.4 1.7 1.4 1.5 1.4 1.5 ...\n",
            " $ petal_width : num  0.2 0.2 0.2 0.2 0.2 0.4 0.3 0.2 0.2 0.1 ...\n",
            " $ species     : chr  \"setosa\" \"setosa\" \"setosa\" \"setosa\" ...\n"
          ]
        }
      ]
    },
    {
      "cell_type": "code",
      "source": [
        "summary(df)       # 데이터프레임의 기술통계 보여주기"
      ],
      "metadata": {
        "colab": {
          "base_uri": "https://localhost:8080/",
          "height": 274
        },
        "id": "nNoITRrwJ5g9",
        "outputId": "bb681983-0871-4100-be6a-fcd185baa44f"
      },
      "execution_count": 23,
      "outputs": [
        {
          "output_type": "display_data",
          "data": {
            "text/plain": [
              "  sepal_length    sepal_width     petal_length    petal_width   \n",
              " Min.   :4.300   Min.   :2.000   Min.   :1.000   Min.   :0.100  \n",
              " 1st Qu.:5.100   1st Qu.:2.800   1st Qu.:1.600   1st Qu.:0.300  \n",
              " Median :5.800   Median :3.000   Median :4.350   Median :1.300  \n",
              " Mean   :5.843   Mean   :3.057   Mean   :3.758   Mean   :1.199  \n",
              " 3rd Qu.:6.400   3rd Qu.:3.300   3rd Qu.:5.100   3rd Qu.:1.800  \n",
              " Max.   :7.900   Max.   :4.400   Max.   :6.900   Max.   :2.500  \n",
              "   species         \n",
              " Length:150        \n",
              " Class :character  \n",
              " Mode  :character  \n",
              "                   \n",
              "                   \n",
              "                   "
            ]
          },
          "metadata": {}
        }
      ]
    },
    {
      "cell_type": "code",
      "source": [
        "sum(is.na(df))      # 결측치 개수를 출력"
      ],
      "metadata": {
        "colab": {
          "base_uri": "https://localhost:8080/",
          "height": 34
        },
        "id": "EYMSxjZDJ7KO",
        "outputId": "4ba7d7c2-bccc-4425-be9a-f330d4aa1d88"
      },
      "execution_count": 24,
      "outputs": [
        {
          "output_type": "display_data",
          "data": {
            "text/html": [
              "0"
            ],
            "text/markdown": "0",
            "text/latex": "0",
            "text/plain": [
              "[1] 0"
            ]
          },
          "metadata": {}
        }
      ]
    },
    {
      "cell_type": "code",
      "source": [
        "table(df$species)"
      ],
      "metadata": {
        "colab": {
          "base_uri": "https://localhost:8080/",
          "height": 72
        },
        "id": "oiyMOCFjKCh1",
        "outputId": "66c630b3-ce46-472e-8582-936f35e1fd98"
      },
      "execution_count": 25,
      "outputs": [
        {
          "output_type": "display_data",
          "data": {
            "text/plain": [
              "\n",
              "    setosa versicolor  virginica \n",
              "        50         50         50 "
            ]
          },
          "metadata": {}
        }
      ]
    },
    {
      "cell_type": "code",
      "source": [
        "# Min-Max 정규화 함수 정의\n",
        "normal <- function(x) (\n",
        "    return ((x-min(x))/(max(x)-min(x)))\n",
        ")\n",
        "\n",
        "# 정규화 함수 적용\n",
        "df[1:4] <- as.data.frame(lapply(df[1:4], normal))\n",
        "summary(df)"
      ],
      "metadata": {
        "colab": {
          "base_uri": "https://localhost:8080/",
          "height": 274
        },
        "id": "Kcyyfz8-KFHR",
        "outputId": "7068b470-44e5-4dad-92b2-6b63a4165b2a"
      },
      "execution_count": 26,
      "outputs": [
        {
          "output_type": "display_data",
          "data": {
            "text/plain": [
              "  sepal_length     sepal_width      petal_length     petal_width     \n",
              " Min.   :0.0000   Min.   :0.0000   Min.   :0.0000   Min.   :0.00000  \n",
              " 1st Qu.:0.2222   1st Qu.:0.3333   1st Qu.:0.1017   1st Qu.:0.08333  \n",
              " Median :0.4167   Median :0.4167   Median :0.5678   Median :0.50000  \n",
              " Mean   :0.4287   Mean   :0.4406   Mean   :0.4675   Mean   :0.45806  \n",
              " 3rd Qu.:0.5833   3rd Qu.:0.5417   3rd Qu.:0.6949   3rd Qu.:0.70833  \n",
              " Max.   :1.0000   Max.   :1.0000   Max.   :1.0000   Max.   :1.00000  \n",
              "   species         \n",
              " Length:150        \n",
              " Class :character  \n",
              " Mode  :character  \n",
              "                   \n",
              "                   \n",
              "                   "
            ]
          },
          "metadata": {}
        }
      ]
    },
    {
      "cell_type": "code",
      "source": [
        "# 난수(random) 발생을 위한 seed 값 부여\n",
        "set.seed(123)\n",
        "\n",
        "# 행개수(150개)의 80%인 120개를 행 인덱스를 임의 선정\n",
        "idx <-sample(1:nrow(df),0.8*nrow(df))\n",
        "\n",
        "# 인덱스에 해당하는 행을 학습 데이터로 선정\n",
        "X_train <- df[idx, 1:4]     # 독립변수\n",
        "y_train <- df[idx, 5]       # 종속변수(목표변수)\n",
        "\n",
        "# 인덱스에 해당하지 않는 행(-idx)을 테스트 데이터로 선정\n",
        "X_test <- df[-idx, 1:4]     # 독립변수\n",
        "y_test <- df[-idx, 5]       # 종속변수(목표변수)"
      ],
      "metadata": {
        "id": "P4JhujAcQjJ-"
      },
      "execution_count": 27,
      "outputs": []
    },
    {
      "cell_type": "code",
      "source": [
        "print(dim(X_train))     # 학습 데이터(독립변수)\n",
        "print(dim(X_test))      # 테스트 데이터(독립변수)\n",
        "print(dim(data.frame(y_train)))   # 학습 데이터(종속변수)\n",
        "print(dim(data.frame(y_test)))    # 테스트 데이터(종속변수)"
      ],
      "metadata": {
        "colab": {
          "base_uri": "https://localhost:8080/"
        },
        "id": "15k3kWLMQpjL",
        "outputId": "5b7e3f3a-ddaf-4412-f6d0-661fc5537445"
      },
      "execution_count": 28,
      "outputs": [
        {
          "output_type": "stream",
          "name": "stdout",
          "text": [
            "[1] 120   4\n",
            "[1] 30  4\n",
            "[1] 120   1\n",
            "[1] 30  1\n"
          ]
        }
      ]
    },
    {
      "cell_type": "code",
      "source": [
        "# KNN 모델 학습\n",
        "# 독립변수 X_train, 종속변수 y_train으로 학습\n",
        "# X_test로 분류한 결과를 model에 저장\n",
        "model <- knn(train=X_train, test=X_test, cl=y_train, k=3)\n",
        "\n",
        "# 분류결과 출력\n",
        "table(factor(model))"
      ],
      "metadata": {
        "colab": {
          "base_uri": "https://localhost:8080/",
          "height": 72
        },
        "id": "hyo1TEdbQuRW",
        "outputId": "31de6abd-739d-413b-e3a8-317ed52b7cb5"
      },
      "execution_count": 29,
      "outputs": [
        {
          "output_type": "display_data",
          "data": {
            "text/plain": [
              "\n",
              "    setosa versicolor  virginica \n",
              "        10         14          6 "
            ]
          },
          "metadata": {}
        }
      ]
    },
    {
      "cell_type": "code",
      "source": [
        "# 모델 평가 - 오차행렬\n",
        "c_mat <- table(y_test,model)\n",
        "c_mat\n",
        "\n",
        "# 모델평가 - 정확도\n",
        "acc <- (c_mat[1,1] + c_mat[2,2] + c_mat[3,3])/nrow(X_test)\n",
        "acc"
      ],
      "metadata": {
        "colab": {
          "base_uri": "https://localhost:8080/",
          "height": 126
        },
        "id": "Rz4CKDgfQy2J",
        "outputId": "3f09e6e4-fd48-4bf0-a468-a20bdf442324"
      },
      "execution_count": 30,
      "outputs": [
        {
          "output_type": "display_data",
          "data": {
            "text/plain": [
              "            model\n",
              "y_test       setosa versicolor virginica\n",
              "  setosa         10          0         0\n",
              "  versicolor      0         14         1\n",
              "  virginica       0          0         5"
            ]
          },
          "metadata": {}
        },
        {
          "output_type": "display_data",
          "data": {
            "text/html": [
              "0.966666666666667"
            ],
            "text/markdown": "0.966666666666667",
            "text/latex": "0.966666666666667",
            "text/plain": [
              "[1] 0.9666667"
            ]
          },
          "metadata": {}
        }
      ]
    },
    {
      "cell_type": "markdown",
      "source": [
        ">>>**03 SVM을 이용한 분류 문제 해결**"
      ],
      "metadata": {
        "id": "a_ixleKhR_2w"
      }
    },
    {
      "cell_type": "code",
      "source": [
        "library(dplyr)    # dplyr 패키지 임포트\n",
        "library(ggplot2)  # ggplot2 패키지 임포트\n",
        "\n",
        "# SVM 분류모델을 위한 패키지 설치와 임포트\n",
        "install.packages(\"e1071\")\n",
        "library(e1071)"
      ],
      "metadata": {
        "colab": {
          "base_uri": "https://localhost:8080/"
        },
        "id": "JSciRXwtSDqw",
        "outputId": "b6dc8543-f7dc-4fa9-f4d1-0a71d053fee6"
      },
      "execution_count": 32,
      "outputs": [
        {
          "output_type": "stream",
          "name": "stderr",
          "text": [
            "Installing package into ‘/usr/local/lib/R/site-library’\n",
            "(as ‘lib’ is unspecified)\n",
            "\n"
          ]
        }
      ]
    },
    {
      "cell_type": "code",
      "source": [
        "# 깃허브에 있는 csv 파일을 읽어와서 데이터프레임 df로 넣는다.\n",
        "df = read.csv(\"https://raw.githubusercontent.com/datasciencedojo/datasets/master/titanic.csv\", stringsAsFactors=TRUE)"
      ],
      "metadata": {
        "id": "0UXt8xDYSKA0"
      },
      "execution_count": 33,
      "outputs": []
    },
    {
      "cell_type": "code",
      "source": [
        "# Age 컬럼의 결측값을 평균으로 대치한다.\n",
        "d_mean = mean(df$Age, na.rm=TRUE)                   # 결측치를 제외한 평균\n",
        "df$Age = ifelse(is.na(df$Age), d_mean, df$Age)      # 평균으로 대치\n",
        "\n",
        "# Embarked 컬럼의 결측값을 최빈값 S로 대치한다.\n",
        "df$Embarked = replace(df$Embarked, df$Embarked==\"\", \"S\")\n",
        "\n",
        "# FamilySize 변수 생성, SibSp + Parch\n",
        "df$FamilySize <- df$SibSp + df$Parch"
      ],
      "metadata": {
        "id": "loW_ZwxJSTH2"
      },
      "execution_count": 34,
      "outputs": []
    },
    {
      "cell_type": "code",
      "source": [
        "# Sex 컬럼은 원-핫 인코딩을 수행\n",
        "df <- mutate(df, Male = ifelse(df$Sex==\"male\", 1, 0))\n",
        "df <- mutate(df, Female = ifelse(df$Sex==\"female\", 1, 0))\n",
        "\n",
        "# Embarked 컬럼은 원-핫 인코딩을 수행\n",
        "df <- mutate(df, C = ifelse(df$Embarked==\"C\", 1, 0))\n",
        "df <- mutate(df, Q = ifelse(df$Embarked==\"Q\", 1, 0))\n",
        "df <- mutate(df, S = ifelse(df$Embarked==\"S\", 1, 0))"
      ],
      "metadata": {
        "id": "LqHkDogSSZoY"
      },
      "execution_count": 36,
      "outputs": []
    },
    {
      "cell_type": "code",
      "source": [
        "df"
      ],
      "metadata": {
        "colab": {
          "base_uri": "https://localhost:8080/",
          "height": 1000
        },
        "id": "-Q8jenNNSkxo",
        "outputId": "f170377e-9c0c-4fe4-c89f-a7a56dac826f"
      },
      "execution_count": 37,
      "outputs": [
        {
          "output_type": "display_data",
          "data": {
            "text/html": [
              "<table class=\"dataframe\">\n",
              "<caption>A data.frame: 891 × 18</caption>\n",
              "<thead>\n",
              "\t<tr><th scope=col>PassengerId</th><th scope=col>Survived</th><th scope=col>Pclass</th><th scope=col>Name</th><th scope=col>Sex</th><th scope=col>Age</th><th scope=col>SibSp</th><th scope=col>Parch</th><th scope=col>Ticket</th><th scope=col>Fare</th><th scope=col>Cabin</th><th scope=col>Embarked</th><th scope=col>FamilySize</th><th scope=col>Male</th><th scope=col>Female</th><th scope=col>C</th><th scope=col>Q</th><th scope=col>S</th></tr>\n",
              "\t<tr><th scope=col>&lt;int&gt;</th><th scope=col>&lt;int&gt;</th><th scope=col>&lt;int&gt;</th><th scope=col>&lt;fct&gt;</th><th scope=col>&lt;fct&gt;</th><th scope=col>&lt;dbl&gt;</th><th scope=col>&lt;int&gt;</th><th scope=col>&lt;int&gt;</th><th scope=col>&lt;fct&gt;</th><th scope=col>&lt;dbl&gt;</th><th scope=col>&lt;fct&gt;</th><th scope=col>&lt;fct&gt;</th><th scope=col>&lt;int&gt;</th><th scope=col>&lt;dbl&gt;</th><th scope=col>&lt;dbl&gt;</th><th scope=col>&lt;dbl&gt;</th><th scope=col>&lt;dbl&gt;</th><th scope=col>&lt;dbl&gt;</th></tr>\n",
              "</thead>\n",
              "<tbody>\n",
              "\t<tr><td> 1</td><td>0</td><td>3</td><td>Braund, Mr. Owen Harris                                  </td><td>male  </td><td>22.00000</td><td>1</td><td>0</td><td>A/5 21171       </td><td>  7.2500</td><td>           </td><td>S</td><td>1</td><td>1</td><td>0</td><td>0</td><td>0</td><td>1</td></tr>\n",
              "\t<tr><td> 2</td><td>1</td><td>1</td><td>Cumings, Mrs. John Bradley (Florence Briggs Thayer)      </td><td>female</td><td>38.00000</td><td>1</td><td>0</td><td>PC 17599        </td><td> 71.2833</td><td>C85        </td><td>C</td><td>1</td><td>0</td><td>1</td><td>1</td><td>0</td><td>0</td></tr>\n",
              "\t<tr><td> 3</td><td>1</td><td>3</td><td>Heikkinen, Miss. Laina                                   </td><td>female</td><td>26.00000</td><td>0</td><td>0</td><td>STON/O2. 3101282</td><td>  7.9250</td><td>           </td><td>S</td><td>0</td><td>0</td><td>1</td><td>0</td><td>0</td><td>1</td></tr>\n",
              "\t<tr><td> 4</td><td>1</td><td>1</td><td>Futrelle, Mrs. Jacques Heath (Lily May Peel)             </td><td>female</td><td>35.00000</td><td>1</td><td>0</td><td>113803          </td><td> 53.1000</td><td>C123       </td><td>S</td><td>1</td><td>0</td><td>1</td><td>0</td><td>0</td><td>1</td></tr>\n",
              "\t<tr><td> 5</td><td>0</td><td>3</td><td>Allen, Mr. William Henry                                 </td><td>male  </td><td>35.00000</td><td>0</td><td>0</td><td>373450          </td><td>  8.0500</td><td>           </td><td>S</td><td>0</td><td>1</td><td>0</td><td>0</td><td>0</td><td>1</td></tr>\n",
              "\t<tr><td> 6</td><td>0</td><td>3</td><td>Moran, Mr. James                                         </td><td>male  </td><td>29.69912</td><td>0</td><td>0</td><td>330877          </td><td>  8.4583</td><td>           </td><td>Q</td><td>0</td><td>1</td><td>0</td><td>0</td><td>1</td><td>0</td></tr>\n",
              "\t<tr><td> 7</td><td>0</td><td>1</td><td>McCarthy, Mr. Timothy J                                  </td><td>male  </td><td>54.00000</td><td>0</td><td>0</td><td>17463           </td><td> 51.8625</td><td>E46        </td><td>S</td><td>0</td><td>1</td><td>0</td><td>0</td><td>0</td><td>1</td></tr>\n",
              "\t<tr><td> 8</td><td>0</td><td>3</td><td>Palsson, Master. Gosta Leonard                           </td><td>male  </td><td> 2.00000</td><td>3</td><td>1</td><td>349909          </td><td> 21.0750</td><td>           </td><td>S</td><td>4</td><td>1</td><td>0</td><td>0</td><td>0</td><td>1</td></tr>\n",
              "\t<tr><td> 9</td><td>1</td><td>3</td><td>Johnson, Mrs. Oscar W (Elisabeth Vilhelmina Berg)        </td><td>female</td><td>27.00000</td><td>0</td><td>2</td><td>347742          </td><td> 11.1333</td><td>           </td><td>S</td><td>2</td><td>0</td><td>1</td><td>0</td><td>0</td><td>1</td></tr>\n",
              "\t<tr><td>10</td><td>1</td><td>2</td><td>Nasser, Mrs. Nicholas (Adele Achem)                      </td><td>female</td><td>14.00000</td><td>1</td><td>0</td><td>237736          </td><td> 30.0708</td><td>           </td><td>C</td><td>1</td><td>0</td><td>1</td><td>1</td><td>0</td><td>0</td></tr>\n",
              "\t<tr><td>11</td><td>1</td><td>3</td><td>Sandstrom, Miss. Marguerite Rut                          </td><td>female</td><td> 4.00000</td><td>1</td><td>1</td><td>PP 9549         </td><td> 16.7000</td><td>G6         </td><td>S</td><td>2</td><td>0</td><td>1</td><td>0</td><td>0</td><td>1</td></tr>\n",
              "\t<tr><td>12</td><td>1</td><td>1</td><td>Bonnell, Miss. Elizabeth                                 </td><td>female</td><td>58.00000</td><td>0</td><td>0</td><td>113783          </td><td> 26.5500</td><td>C103       </td><td>S</td><td>0</td><td>0</td><td>1</td><td>0</td><td>0</td><td>1</td></tr>\n",
              "\t<tr><td>13</td><td>0</td><td>3</td><td>Saundercock, Mr. William Henry                           </td><td>male  </td><td>20.00000</td><td>0</td><td>0</td><td>A/5. 2151       </td><td>  8.0500</td><td>           </td><td>S</td><td>0</td><td>1</td><td>0</td><td>0</td><td>0</td><td>1</td></tr>\n",
              "\t<tr><td>14</td><td>0</td><td>3</td><td>Andersson, Mr. Anders Johan                              </td><td>male  </td><td>39.00000</td><td>1</td><td>5</td><td>347082          </td><td> 31.2750</td><td>           </td><td>S</td><td>6</td><td>1</td><td>0</td><td>0</td><td>0</td><td>1</td></tr>\n",
              "\t<tr><td>15</td><td>0</td><td>3</td><td>Vestrom, Miss. Hulda Amanda Adolfina                     </td><td>female</td><td>14.00000</td><td>0</td><td>0</td><td>350406          </td><td>  7.8542</td><td>           </td><td>S</td><td>0</td><td>0</td><td>1</td><td>0</td><td>0</td><td>1</td></tr>\n",
              "\t<tr><td>16</td><td>1</td><td>2</td><td>Hewlett, Mrs. (Mary D Kingcome)                          </td><td>female</td><td>55.00000</td><td>0</td><td>0</td><td>248706          </td><td> 16.0000</td><td>           </td><td>S</td><td>0</td><td>0</td><td>1</td><td>0</td><td>0</td><td>1</td></tr>\n",
              "\t<tr><td>17</td><td>0</td><td>3</td><td>Rice, Master. Eugene                                     </td><td>male  </td><td> 2.00000</td><td>4</td><td>1</td><td>382652          </td><td> 29.1250</td><td>           </td><td>Q</td><td>5</td><td>1</td><td>0</td><td>0</td><td>1</td><td>0</td></tr>\n",
              "\t<tr><td>18</td><td>1</td><td>2</td><td>Williams, Mr. Charles Eugene                             </td><td>male  </td><td>29.69912</td><td>0</td><td>0</td><td>244373          </td><td> 13.0000</td><td>           </td><td>S</td><td>0</td><td>1</td><td>0</td><td>0</td><td>0</td><td>1</td></tr>\n",
              "\t<tr><td>19</td><td>0</td><td>3</td><td>Vander Planke, Mrs. Julius (Emelia Maria Vandemoortele)  </td><td>female</td><td>31.00000</td><td>1</td><td>0</td><td>345763          </td><td> 18.0000</td><td>           </td><td>S</td><td>1</td><td>0</td><td>1</td><td>0</td><td>0</td><td>1</td></tr>\n",
              "\t<tr><td>20</td><td>1</td><td>3</td><td>Masselmani, Mrs. Fatima                                  </td><td>female</td><td>29.69912</td><td>0</td><td>0</td><td>2649            </td><td>  7.2250</td><td>           </td><td>C</td><td>0</td><td>0</td><td>1</td><td>1</td><td>0</td><td>0</td></tr>\n",
              "\t<tr><td>21</td><td>0</td><td>2</td><td>Fynney, Mr. Joseph J                                     </td><td>male  </td><td>35.00000</td><td>0</td><td>0</td><td>239865          </td><td> 26.0000</td><td>           </td><td>S</td><td>0</td><td>1</td><td>0</td><td>0</td><td>0</td><td>1</td></tr>\n",
              "\t<tr><td>22</td><td>1</td><td>2</td><td>Beesley, Mr. Lawrence                                    </td><td>male  </td><td>34.00000</td><td>0</td><td>0</td><td>248698          </td><td> 13.0000</td><td>D56        </td><td>S</td><td>0</td><td>1</td><td>0</td><td>0</td><td>0</td><td>1</td></tr>\n",
              "\t<tr><td>23</td><td>1</td><td>3</td><td>McGowan, Miss. Anna \"Annie\"                              </td><td>female</td><td>15.00000</td><td>0</td><td>0</td><td>330923          </td><td>  8.0292</td><td>           </td><td>Q</td><td>0</td><td>0</td><td>1</td><td>0</td><td>1</td><td>0</td></tr>\n",
              "\t<tr><td>24</td><td>1</td><td>1</td><td>Sloper, Mr. William Thompson                             </td><td>male  </td><td>28.00000</td><td>0</td><td>0</td><td>113788          </td><td> 35.5000</td><td>A6         </td><td>S</td><td>0</td><td>1</td><td>0</td><td>0</td><td>0</td><td>1</td></tr>\n",
              "\t<tr><td>25</td><td>0</td><td>3</td><td>Palsson, Miss. Torborg Danira                            </td><td>female</td><td> 8.00000</td><td>3</td><td>1</td><td>349909          </td><td> 21.0750</td><td>           </td><td>S</td><td>4</td><td>0</td><td>1</td><td>0</td><td>0</td><td>1</td></tr>\n",
              "\t<tr><td>26</td><td>1</td><td>3</td><td>Asplund, Mrs. Carl Oscar (Selma Augusta Emilia Johansson)</td><td>female</td><td>38.00000</td><td>1</td><td>5</td><td>347077          </td><td> 31.3875</td><td>           </td><td>S</td><td>6</td><td>0</td><td>1</td><td>0</td><td>0</td><td>1</td></tr>\n",
              "\t<tr><td>27</td><td>0</td><td>3</td><td>Emir, Mr. Farred Chehab                                  </td><td>male  </td><td>29.69912</td><td>0</td><td>0</td><td>2631            </td><td>  7.2250</td><td>           </td><td>C</td><td>0</td><td>1</td><td>0</td><td>1</td><td>0</td><td>0</td></tr>\n",
              "\t<tr><td>28</td><td>0</td><td>1</td><td>Fortune, Mr. Charles Alexander                           </td><td>male  </td><td>19.00000</td><td>3</td><td>2</td><td>19950           </td><td>263.0000</td><td>C23 C25 C27</td><td>S</td><td>5</td><td>1</td><td>0</td><td>0</td><td>0</td><td>1</td></tr>\n",
              "\t<tr><td>29</td><td>1</td><td>3</td><td>O'Dwyer, Miss. Ellen \"Nellie\"                            </td><td>female</td><td>29.69912</td><td>0</td><td>0</td><td>330959          </td><td>  7.8792</td><td>           </td><td>Q</td><td>0</td><td>0</td><td>1</td><td>0</td><td>1</td><td>0</td></tr>\n",
              "\t<tr><td>30</td><td>0</td><td>3</td><td>Todoroff, Mr. Lalio                                      </td><td>male  </td><td>29.69912</td><td>0</td><td>0</td><td>349216          </td><td>  7.8958</td><td>           </td><td>S</td><td>0</td><td>1</td><td>0</td><td>0</td><td>0</td><td>1</td></tr>\n",
              "\t<tr><td>⋮</td><td>⋮</td><td>⋮</td><td>⋮</td><td>⋮</td><td>⋮</td><td>⋮</td><td>⋮</td><td>⋮</td><td>⋮</td><td>⋮</td><td>⋮</td><td>⋮</td><td>⋮</td><td>⋮</td><td>⋮</td><td>⋮</td><td>⋮</td></tr>\n",
              "\t<tr><td>862</td><td>0</td><td>2</td><td>Giles, Mr. Frederick Edward                        </td><td>male  </td><td>21.00000</td><td>1</td><td>0</td><td>28134           </td><td>11.5000</td><td>           </td><td>S</td><td> 1</td><td>1</td><td>0</td><td>0</td><td>0</td><td>1</td></tr>\n",
              "\t<tr><td>863</td><td>1</td><td>1</td><td>Swift, Mrs. Frederick Joel (Margaret Welles Barron)</td><td>female</td><td>48.00000</td><td>0</td><td>0</td><td>17466           </td><td>25.9292</td><td>D17        </td><td>S</td><td> 0</td><td>0</td><td>1</td><td>0</td><td>0</td><td>1</td></tr>\n",
              "\t<tr><td>864</td><td>0</td><td>3</td><td>Sage, Miss. Dorothy Edith \"Dolly\"                  </td><td>female</td><td>29.69912</td><td>8</td><td>2</td><td>CA. 2343        </td><td>69.5500</td><td>           </td><td>S</td><td>10</td><td>0</td><td>1</td><td>0</td><td>0</td><td>1</td></tr>\n",
              "\t<tr><td>865</td><td>0</td><td>2</td><td>Gill, Mr. John William                             </td><td>male  </td><td>24.00000</td><td>0</td><td>0</td><td>233866          </td><td>13.0000</td><td>           </td><td>S</td><td> 0</td><td>1</td><td>0</td><td>0</td><td>0</td><td>1</td></tr>\n",
              "\t<tr><td>866</td><td>1</td><td>2</td><td>Bystrom, Mrs. (Karolina)                           </td><td>female</td><td>42.00000</td><td>0</td><td>0</td><td>236852          </td><td>13.0000</td><td>           </td><td>S</td><td> 0</td><td>0</td><td>1</td><td>0</td><td>0</td><td>1</td></tr>\n",
              "\t<tr><td>867</td><td>1</td><td>2</td><td>Duran y More, Miss. Asuncion                       </td><td>female</td><td>27.00000</td><td>1</td><td>0</td><td>SC/PARIS 2149   </td><td>13.8583</td><td>           </td><td>C</td><td> 1</td><td>0</td><td>1</td><td>1</td><td>0</td><td>0</td></tr>\n",
              "\t<tr><td>868</td><td>0</td><td>1</td><td>Roebling, Mr. Washington Augustus II               </td><td>male  </td><td>31.00000</td><td>0</td><td>0</td><td>PC 17590        </td><td>50.4958</td><td>A24        </td><td>S</td><td> 0</td><td>1</td><td>0</td><td>0</td><td>0</td><td>1</td></tr>\n",
              "\t<tr><td>869</td><td>0</td><td>3</td><td>van Melkebeke, Mr. Philemon                        </td><td>male  </td><td>29.69912</td><td>0</td><td>0</td><td>345777          </td><td> 9.5000</td><td>           </td><td>S</td><td> 0</td><td>1</td><td>0</td><td>0</td><td>0</td><td>1</td></tr>\n",
              "\t<tr><td>870</td><td>1</td><td>3</td><td>Johnson, Master. Harold Theodor                    </td><td>male  </td><td> 4.00000</td><td>1</td><td>1</td><td>347742          </td><td>11.1333</td><td>           </td><td>S</td><td> 2</td><td>1</td><td>0</td><td>0</td><td>0</td><td>1</td></tr>\n",
              "\t<tr><td>871</td><td>0</td><td>3</td><td>Balkic, Mr. Cerin                                  </td><td>male  </td><td>26.00000</td><td>0</td><td>0</td><td>349248          </td><td> 7.8958</td><td>           </td><td>S</td><td> 0</td><td>1</td><td>0</td><td>0</td><td>0</td><td>1</td></tr>\n",
              "\t<tr><td>872</td><td>1</td><td>1</td><td>Beckwith, Mrs. Richard Leonard (Sallie Monypeny)   </td><td>female</td><td>47.00000</td><td>1</td><td>1</td><td>11751           </td><td>52.5542</td><td>D35        </td><td>S</td><td> 2</td><td>0</td><td>1</td><td>0</td><td>0</td><td>1</td></tr>\n",
              "\t<tr><td>873</td><td>0</td><td>1</td><td>Carlsson, Mr. Frans Olof                           </td><td>male  </td><td>33.00000</td><td>0</td><td>0</td><td>695             </td><td> 5.0000</td><td>B51 B53 B55</td><td>S</td><td> 0</td><td>1</td><td>0</td><td>0</td><td>0</td><td>1</td></tr>\n",
              "\t<tr><td>874</td><td>0</td><td>3</td><td>Vander Cruyssen, Mr. Victor                        </td><td>male  </td><td>47.00000</td><td>0</td><td>0</td><td>345765          </td><td> 9.0000</td><td>           </td><td>S</td><td> 0</td><td>1</td><td>0</td><td>0</td><td>0</td><td>1</td></tr>\n",
              "\t<tr><td>875</td><td>1</td><td>2</td><td>Abelson, Mrs. Samuel (Hannah Wizosky)              </td><td>female</td><td>28.00000</td><td>1</td><td>0</td><td>P/PP 3381       </td><td>24.0000</td><td>           </td><td>C</td><td> 1</td><td>0</td><td>1</td><td>1</td><td>0</td><td>0</td></tr>\n",
              "\t<tr><td>876</td><td>1</td><td>3</td><td>Najib, Miss. Adele Kiamie \"Jane\"                   </td><td>female</td><td>15.00000</td><td>0</td><td>0</td><td>2667            </td><td> 7.2250</td><td>           </td><td>C</td><td> 0</td><td>0</td><td>1</td><td>1</td><td>0</td><td>0</td></tr>\n",
              "\t<tr><td>877</td><td>0</td><td>3</td><td>Gustafsson, Mr. Alfred Ossian                      </td><td>male  </td><td>20.00000</td><td>0</td><td>0</td><td>7534            </td><td> 9.8458</td><td>           </td><td>S</td><td> 0</td><td>1</td><td>0</td><td>0</td><td>0</td><td>1</td></tr>\n",
              "\t<tr><td>878</td><td>0</td><td>3</td><td>Petroff, Mr. Nedelio                               </td><td>male  </td><td>19.00000</td><td>0</td><td>0</td><td>349212          </td><td> 7.8958</td><td>           </td><td>S</td><td> 0</td><td>1</td><td>0</td><td>0</td><td>0</td><td>1</td></tr>\n",
              "\t<tr><td>879</td><td>0</td><td>3</td><td>Laleff, Mr. Kristo                                 </td><td>male  </td><td>29.69912</td><td>0</td><td>0</td><td>349217          </td><td> 7.8958</td><td>           </td><td>S</td><td> 0</td><td>1</td><td>0</td><td>0</td><td>0</td><td>1</td></tr>\n",
              "\t<tr><td>880</td><td>1</td><td>1</td><td>Potter, Mrs. Thomas Jr (Lily Alexenia Wilson)      </td><td>female</td><td>56.00000</td><td>0</td><td>1</td><td>11767           </td><td>83.1583</td><td>C50        </td><td>C</td><td> 1</td><td>0</td><td>1</td><td>1</td><td>0</td><td>0</td></tr>\n",
              "\t<tr><td>881</td><td>1</td><td>2</td><td>Shelley, Mrs. William (Imanita Parrish Hall)       </td><td>female</td><td>25.00000</td><td>0</td><td>1</td><td>230433          </td><td>26.0000</td><td>           </td><td>S</td><td> 1</td><td>0</td><td>1</td><td>0</td><td>0</td><td>1</td></tr>\n",
              "\t<tr><td>882</td><td>0</td><td>3</td><td>Markun, Mr. Johann                                 </td><td>male  </td><td>33.00000</td><td>0</td><td>0</td><td>349257          </td><td> 7.8958</td><td>           </td><td>S</td><td> 0</td><td>1</td><td>0</td><td>0</td><td>0</td><td>1</td></tr>\n",
              "\t<tr><td>883</td><td>0</td><td>3</td><td>Dahlberg, Miss. Gerda Ulrika                       </td><td>female</td><td>22.00000</td><td>0</td><td>0</td><td>7552            </td><td>10.5167</td><td>           </td><td>S</td><td> 0</td><td>0</td><td>1</td><td>0</td><td>0</td><td>1</td></tr>\n",
              "\t<tr><td>884</td><td>0</td><td>2</td><td>Banfield, Mr. Frederick James                      </td><td>male  </td><td>28.00000</td><td>0</td><td>0</td><td>C.A./SOTON 34068</td><td>10.5000</td><td>           </td><td>S</td><td> 0</td><td>1</td><td>0</td><td>0</td><td>0</td><td>1</td></tr>\n",
              "\t<tr><td>885</td><td>0</td><td>3</td><td>Sutehall, Mr. Henry Jr                             </td><td>male  </td><td>25.00000</td><td>0</td><td>0</td><td>SOTON/OQ 392076 </td><td> 7.0500</td><td>           </td><td>S</td><td> 0</td><td>1</td><td>0</td><td>0</td><td>0</td><td>1</td></tr>\n",
              "\t<tr><td>886</td><td>0</td><td>3</td><td>Rice, Mrs. William (Margaret Norton)               </td><td>female</td><td>39.00000</td><td>0</td><td>5</td><td>382652          </td><td>29.1250</td><td>           </td><td>Q</td><td> 5</td><td>0</td><td>1</td><td>0</td><td>1</td><td>0</td></tr>\n",
              "\t<tr><td>887</td><td>0</td><td>2</td><td>Montvila, Rev. Juozas                              </td><td>male  </td><td>27.00000</td><td>0</td><td>0</td><td>211536          </td><td>13.0000</td><td>           </td><td>S</td><td> 0</td><td>1</td><td>0</td><td>0</td><td>0</td><td>1</td></tr>\n",
              "\t<tr><td>888</td><td>1</td><td>1</td><td>Graham, Miss. Margaret Edith                       </td><td>female</td><td>19.00000</td><td>0</td><td>0</td><td>112053          </td><td>30.0000</td><td>B42        </td><td>S</td><td> 0</td><td>0</td><td>1</td><td>0</td><td>0</td><td>1</td></tr>\n",
              "\t<tr><td>889</td><td>0</td><td>3</td><td>Johnston, Miss. Catherine Helen \"Carrie\"           </td><td>female</td><td>29.69912</td><td>1</td><td>2</td><td>W./C. 6607      </td><td>23.4500</td><td>           </td><td>S</td><td> 3</td><td>0</td><td>1</td><td>0</td><td>0</td><td>1</td></tr>\n",
              "\t<tr><td>890</td><td>1</td><td>1</td><td>Behr, Mr. Karl Howell                              </td><td>male  </td><td>26.00000</td><td>0</td><td>0</td><td>111369          </td><td>30.0000</td><td>C148       </td><td>C</td><td> 0</td><td>1</td><td>0</td><td>1</td><td>0</td><td>0</td></tr>\n",
              "\t<tr><td>891</td><td>0</td><td>3</td><td>Dooley, Mr. Patrick                                </td><td>male  </td><td>32.00000</td><td>0</td><td>0</td><td>370376          </td><td> 7.7500</td><td>           </td><td>Q</td><td> 0</td><td>1</td><td>0</td><td>0</td><td>1</td><td>0</td></tr>\n",
              "</tbody>\n",
              "</table>\n"
            ],
            "text/markdown": "\nA data.frame: 891 × 18\n\n| PassengerId &lt;int&gt; | Survived &lt;int&gt; | Pclass &lt;int&gt; | Name &lt;fct&gt; | Sex &lt;fct&gt; | Age &lt;dbl&gt; | SibSp &lt;int&gt; | Parch &lt;int&gt; | Ticket &lt;fct&gt; | Fare &lt;dbl&gt; | Cabin &lt;fct&gt; | Embarked &lt;fct&gt; | FamilySize &lt;int&gt; | Male &lt;dbl&gt; | Female &lt;dbl&gt; | C &lt;dbl&gt; | Q &lt;dbl&gt; | S &lt;dbl&gt; |\n|---|---|---|---|---|---|---|---|---|---|---|---|---|---|---|---|---|---|\n|  1 | 0 | 3 | Braund, Mr. Owen Harris                                   | male   | 22.00000 | 1 | 0 | A/5 21171        |   7.2500 | <!----> | S | 1 | 1 | 0 | 0 | 0 | 1 |\n|  2 | 1 | 1 | Cumings, Mrs. John Bradley (Florence Briggs Thayer)       | female | 38.00000 | 1 | 0 | PC 17599         |  71.2833 | C85         | C | 1 | 0 | 1 | 1 | 0 | 0 |\n|  3 | 1 | 3 | Heikkinen, Miss. Laina                                    | female | 26.00000 | 0 | 0 | STON/O2. 3101282 |   7.9250 | <!----> | S | 0 | 0 | 1 | 0 | 0 | 1 |\n|  4 | 1 | 1 | Futrelle, Mrs. Jacques Heath (Lily May Peel)              | female | 35.00000 | 1 | 0 | 113803           |  53.1000 | C123        | S | 1 | 0 | 1 | 0 | 0 | 1 |\n|  5 | 0 | 3 | Allen, Mr. William Henry                                  | male   | 35.00000 | 0 | 0 | 373450           |   8.0500 | <!----> | S | 0 | 1 | 0 | 0 | 0 | 1 |\n|  6 | 0 | 3 | Moran, Mr. James                                          | male   | 29.69912 | 0 | 0 | 330877           |   8.4583 | <!----> | Q | 0 | 1 | 0 | 0 | 1 | 0 |\n|  7 | 0 | 1 | McCarthy, Mr. Timothy J                                   | male   | 54.00000 | 0 | 0 | 17463            |  51.8625 | E46         | S | 0 | 1 | 0 | 0 | 0 | 1 |\n|  8 | 0 | 3 | Palsson, Master. Gosta Leonard                            | male   |  2.00000 | 3 | 1 | 349909           |  21.0750 | <!----> | S | 4 | 1 | 0 | 0 | 0 | 1 |\n|  9 | 1 | 3 | Johnson, Mrs. Oscar W (Elisabeth Vilhelmina Berg)         | female | 27.00000 | 0 | 2 | 347742           |  11.1333 | <!----> | S | 2 | 0 | 1 | 0 | 0 | 1 |\n| 10 | 1 | 2 | Nasser, Mrs. Nicholas (Adele Achem)                       | female | 14.00000 | 1 | 0 | 237736           |  30.0708 | <!----> | C | 1 | 0 | 1 | 1 | 0 | 0 |\n| 11 | 1 | 3 | Sandstrom, Miss. Marguerite Rut                           | female |  4.00000 | 1 | 1 | PP 9549          |  16.7000 | G6          | S | 2 | 0 | 1 | 0 | 0 | 1 |\n| 12 | 1 | 1 | Bonnell, Miss. Elizabeth                                  | female | 58.00000 | 0 | 0 | 113783           |  26.5500 | C103        | S | 0 | 0 | 1 | 0 | 0 | 1 |\n| 13 | 0 | 3 | Saundercock, Mr. William Henry                            | male   | 20.00000 | 0 | 0 | A/5. 2151        |   8.0500 | <!----> | S | 0 | 1 | 0 | 0 | 0 | 1 |\n| 14 | 0 | 3 | Andersson, Mr. Anders Johan                               | male   | 39.00000 | 1 | 5 | 347082           |  31.2750 | <!----> | S | 6 | 1 | 0 | 0 | 0 | 1 |\n| 15 | 0 | 3 | Vestrom, Miss. Hulda Amanda Adolfina                      | female | 14.00000 | 0 | 0 | 350406           |   7.8542 | <!----> | S | 0 | 0 | 1 | 0 | 0 | 1 |\n| 16 | 1 | 2 | Hewlett, Mrs. (Mary D Kingcome)                           | female | 55.00000 | 0 | 0 | 248706           |  16.0000 | <!----> | S | 0 | 0 | 1 | 0 | 0 | 1 |\n| 17 | 0 | 3 | Rice, Master. Eugene                                      | male   |  2.00000 | 4 | 1 | 382652           |  29.1250 | <!----> | Q | 5 | 1 | 0 | 0 | 1 | 0 |\n| 18 | 1 | 2 | Williams, Mr. Charles Eugene                              | male   | 29.69912 | 0 | 0 | 244373           |  13.0000 | <!----> | S | 0 | 1 | 0 | 0 | 0 | 1 |\n| 19 | 0 | 3 | Vander Planke, Mrs. Julius (Emelia Maria Vandemoortele)   | female | 31.00000 | 1 | 0 | 345763           |  18.0000 | <!----> | S | 1 | 0 | 1 | 0 | 0 | 1 |\n| 20 | 1 | 3 | Masselmani, Mrs. Fatima                                   | female | 29.69912 | 0 | 0 | 2649             |   7.2250 | <!----> | C | 0 | 0 | 1 | 1 | 0 | 0 |\n| 21 | 0 | 2 | Fynney, Mr. Joseph J                                      | male   | 35.00000 | 0 | 0 | 239865           |  26.0000 | <!----> | S | 0 | 1 | 0 | 0 | 0 | 1 |\n| 22 | 1 | 2 | Beesley, Mr. Lawrence                                     | male   | 34.00000 | 0 | 0 | 248698           |  13.0000 | D56         | S | 0 | 1 | 0 | 0 | 0 | 1 |\n| 23 | 1 | 3 | McGowan, Miss. Anna \"Annie\"                               | female | 15.00000 | 0 | 0 | 330923           |   8.0292 | <!----> | Q | 0 | 0 | 1 | 0 | 1 | 0 |\n| 24 | 1 | 1 | Sloper, Mr. William Thompson                              | male   | 28.00000 | 0 | 0 | 113788           |  35.5000 | A6          | S | 0 | 1 | 0 | 0 | 0 | 1 |\n| 25 | 0 | 3 | Palsson, Miss. Torborg Danira                             | female |  8.00000 | 3 | 1 | 349909           |  21.0750 | <!----> | S | 4 | 0 | 1 | 0 | 0 | 1 |\n| 26 | 1 | 3 | Asplund, Mrs. Carl Oscar (Selma Augusta Emilia Johansson) | female | 38.00000 | 1 | 5 | 347077           |  31.3875 | <!----> | S | 6 | 0 | 1 | 0 | 0 | 1 |\n| 27 | 0 | 3 | Emir, Mr. Farred Chehab                                   | male   | 29.69912 | 0 | 0 | 2631             |   7.2250 | <!----> | C | 0 | 1 | 0 | 1 | 0 | 0 |\n| 28 | 0 | 1 | Fortune, Mr. Charles Alexander                            | male   | 19.00000 | 3 | 2 | 19950            | 263.0000 | C23 C25 C27 | S | 5 | 1 | 0 | 0 | 0 | 1 |\n| 29 | 1 | 3 | O'Dwyer, Miss. Ellen \"Nellie\"                             | female | 29.69912 | 0 | 0 | 330959           |   7.8792 | <!----> | Q | 0 | 0 | 1 | 0 | 1 | 0 |\n| 30 | 0 | 3 | Todoroff, Mr. Lalio                                       | male   | 29.69912 | 0 | 0 | 349216           |   7.8958 | <!----> | S | 0 | 1 | 0 | 0 | 0 | 1 |\n| ⋮ | ⋮ | ⋮ | ⋮ | ⋮ | ⋮ | ⋮ | ⋮ | ⋮ | ⋮ | ⋮ | ⋮ | ⋮ | ⋮ | ⋮ | ⋮ | ⋮ | ⋮ |\n| 862 | 0 | 2 | Giles, Mr. Frederick Edward                         | male   | 21.00000 | 1 | 0 | 28134            | 11.5000 | <!----> | S |  1 | 1 | 0 | 0 | 0 | 1 |\n| 863 | 1 | 1 | Swift, Mrs. Frederick Joel (Margaret Welles Barron) | female | 48.00000 | 0 | 0 | 17466            | 25.9292 | D17         | S |  0 | 0 | 1 | 0 | 0 | 1 |\n| 864 | 0 | 3 | Sage, Miss. Dorothy Edith \"Dolly\"                   | female | 29.69912 | 8 | 2 | CA. 2343         | 69.5500 | <!----> | S | 10 | 0 | 1 | 0 | 0 | 1 |\n| 865 | 0 | 2 | Gill, Mr. John William                              | male   | 24.00000 | 0 | 0 | 233866           | 13.0000 | <!----> | S |  0 | 1 | 0 | 0 | 0 | 1 |\n| 866 | 1 | 2 | Bystrom, Mrs. (Karolina)                            | female | 42.00000 | 0 | 0 | 236852           | 13.0000 | <!----> | S |  0 | 0 | 1 | 0 | 0 | 1 |\n| 867 | 1 | 2 | Duran y More, Miss. Asuncion                        | female | 27.00000 | 1 | 0 | SC/PARIS 2149    | 13.8583 | <!----> | C |  1 | 0 | 1 | 1 | 0 | 0 |\n| 868 | 0 | 1 | Roebling, Mr. Washington Augustus II                | male   | 31.00000 | 0 | 0 | PC 17590         | 50.4958 | A24         | S |  0 | 1 | 0 | 0 | 0 | 1 |\n| 869 | 0 | 3 | van Melkebeke, Mr. Philemon                         | male   | 29.69912 | 0 | 0 | 345777           |  9.5000 | <!----> | S |  0 | 1 | 0 | 0 | 0 | 1 |\n| 870 | 1 | 3 | Johnson, Master. Harold Theodor                     | male   |  4.00000 | 1 | 1 | 347742           | 11.1333 | <!----> | S |  2 | 1 | 0 | 0 | 0 | 1 |\n| 871 | 0 | 3 | Balkic, Mr. Cerin                                   | male   | 26.00000 | 0 | 0 | 349248           |  7.8958 | <!----> | S |  0 | 1 | 0 | 0 | 0 | 1 |\n| 872 | 1 | 1 | Beckwith, Mrs. Richard Leonard (Sallie Monypeny)    | female | 47.00000 | 1 | 1 | 11751            | 52.5542 | D35         | S |  2 | 0 | 1 | 0 | 0 | 1 |\n| 873 | 0 | 1 | Carlsson, Mr. Frans Olof                            | male   | 33.00000 | 0 | 0 | 695              |  5.0000 | B51 B53 B55 | S |  0 | 1 | 0 | 0 | 0 | 1 |\n| 874 | 0 | 3 | Vander Cruyssen, Mr. Victor                         | male   | 47.00000 | 0 | 0 | 345765           |  9.0000 | <!----> | S |  0 | 1 | 0 | 0 | 0 | 1 |\n| 875 | 1 | 2 | Abelson, Mrs. Samuel (Hannah Wizosky)               | female | 28.00000 | 1 | 0 | P/PP 3381        | 24.0000 | <!----> | C |  1 | 0 | 1 | 1 | 0 | 0 |\n| 876 | 1 | 3 | Najib, Miss. Adele Kiamie \"Jane\"                    | female | 15.00000 | 0 | 0 | 2667             |  7.2250 | <!----> | C |  0 | 0 | 1 | 1 | 0 | 0 |\n| 877 | 0 | 3 | Gustafsson, Mr. Alfred Ossian                       | male   | 20.00000 | 0 | 0 | 7534             |  9.8458 | <!----> | S |  0 | 1 | 0 | 0 | 0 | 1 |\n| 878 | 0 | 3 | Petroff, Mr. Nedelio                                | male   | 19.00000 | 0 | 0 | 349212           |  7.8958 | <!----> | S |  0 | 1 | 0 | 0 | 0 | 1 |\n| 879 | 0 | 3 | Laleff, Mr. Kristo                                  | male   | 29.69912 | 0 | 0 | 349217           |  7.8958 | <!----> | S |  0 | 1 | 0 | 0 | 0 | 1 |\n| 880 | 1 | 1 | Potter, Mrs. Thomas Jr (Lily Alexenia Wilson)       | female | 56.00000 | 0 | 1 | 11767            | 83.1583 | C50         | C |  1 | 0 | 1 | 1 | 0 | 0 |\n| 881 | 1 | 2 | Shelley, Mrs. William (Imanita Parrish Hall)        | female | 25.00000 | 0 | 1 | 230433           | 26.0000 | <!----> | S |  1 | 0 | 1 | 0 | 0 | 1 |\n| 882 | 0 | 3 | Markun, Mr. Johann                                  | male   | 33.00000 | 0 | 0 | 349257           |  7.8958 | <!----> | S |  0 | 1 | 0 | 0 | 0 | 1 |\n| 883 | 0 | 3 | Dahlberg, Miss. Gerda Ulrika                        | female | 22.00000 | 0 | 0 | 7552             | 10.5167 | <!----> | S |  0 | 0 | 1 | 0 | 0 | 1 |\n| 884 | 0 | 2 | Banfield, Mr. Frederick James                       | male   | 28.00000 | 0 | 0 | C.A./SOTON 34068 | 10.5000 | <!----> | S |  0 | 1 | 0 | 0 | 0 | 1 |\n| 885 | 0 | 3 | Sutehall, Mr. Henry Jr                              | male   | 25.00000 | 0 | 0 | SOTON/OQ 392076  |  7.0500 | <!----> | S |  0 | 1 | 0 | 0 | 0 | 1 |\n| 886 | 0 | 3 | Rice, Mrs. William (Margaret Norton)                | female | 39.00000 | 0 | 5 | 382652           | 29.1250 | <!----> | Q |  5 | 0 | 1 | 0 | 1 | 0 |\n| 887 | 0 | 2 | Montvila, Rev. Juozas                               | male   | 27.00000 | 0 | 0 | 211536           | 13.0000 | <!----> | S |  0 | 1 | 0 | 0 | 0 | 1 |\n| 888 | 1 | 1 | Graham, Miss. Margaret Edith                        | female | 19.00000 | 0 | 0 | 112053           | 30.0000 | B42         | S |  0 | 0 | 1 | 0 | 0 | 1 |\n| 889 | 0 | 3 | Johnston, Miss. Catherine Helen \"Carrie\"            | female | 29.69912 | 1 | 2 | W./C. 6607       | 23.4500 | <!----> | S |  3 | 0 | 1 | 0 | 0 | 1 |\n| 890 | 1 | 1 | Behr, Mr. Karl Howell                               | male   | 26.00000 | 0 | 0 | 111369           | 30.0000 | C148        | C |  0 | 1 | 0 | 1 | 0 | 0 |\n| 891 | 0 | 3 | Dooley, Mr. Patrick                                 | male   | 32.00000 | 0 | 0 | 370376           |  7.7500 | <!----> | Q |  0 | 1 | 0 | 0 | 1 | 0 |\n\n",
            "text/latex": "A data.frame: 891 × 18\n\\begin{tabular}{llllllllllllllllll}\n PassengerId & Survived & Pclass & Name & Sex & Age & SibSp & Parch & Ticket & Fare & Cabin & Embarked & FamilySize & Male & Female & C & Q & S\\\\\n <int> & <int> & <int> & <fct> & <fct> & <dbl> & <int> & <int> & <fct> & <dbl> & <fct> & <fct> & <int> & <dbl> & <dbl> & <dbl> & <dbl> & <dbl>\\\\\n\\hline\n\t  1 & 0 & 3 & Braund, Mr. Owen Harris                                   & male   & 22.00000 & 1 & 0 & A/5 21171        &   7.2500 &             & S & 1 & 1 & 0 & 0 & 0 & 1\\\\\n\t  2 & 1 & 1 & Cumings, Mrs. John Bradley (Florence Briggs Thayer)       & female & 38.00000 & 1 & 0 & PC 17599         &  71.2833 & C85         & C & 1 & 0 & 1 & 1 & 0 & 0\\\\\n\t  3 & 1 & 3 & Heikkinen, Miss. Laina                                    & female & 26.00000 & 0 & 0 & STON/O2. 3101282 &   7.9250 &             & S & 0 & 0 & 1 & 0 & 0 & 1\\\\\n\t  4 & 1 & 1 & Futrelle, Mrs. Jacques Heath (Lily May Peel)              & female & 35.00000 & 1 & 0 & 113803           &  53.1000 & C123        & S & 1 & 0 & 1 & 0 & 0 & 1\\\\\n\t  5 & 0 & 3 & Allen, Mr. William Henry                                  & male   & 35.00000 & 0 & 0 & 373450           &   8.0500 &             & S & 0 & 1 & 0 & 0 & 0 & 1\\\\\n\t  6 & 0 & 3 & Moran, Mr. James                                          & male   & 29.69912 & 0 & 0 & 330877           &   8.4583 &             & Q & 0 & 1 & 0 & 0 & 1 & 0\\\\\n\t  7 & 0 & 1 & McCarthy, Mr. Timothy J                                   & male   & 54.00000 & 0 & 0 & 17463            &  51.8625 & E46         & S & 0 & 1 & 0 & 0 & 0 & 1\\\\\n\t  8 & 0 & 3 & Palsson, Master. Gosta Leonard                            & male   &  2.00000 & 3 & 1 & 349909           &  21.0750 &             & S & 4 & 1 & 0 & 0 & 0 & 1\\\\\n\t  9 & 1 & 3 & Johnson, Mrs. Oscar W (Elisabeth Vilhelmina Berg)         & female & 27.00000 & 0 & 2 & 347742           &  11.1333 &             & S & 2 & 0 & 1 & 0 & 0 & 1\\\\\n\t 10 & 1 & 2 & Nasser, Mrs. Nicholas (Adele Achem)                       & female & 14.00000 & 1 & 0 & 237736           &  30.0708 &             & C & 1 & 0 & 1 & 1 & 0 & 0\\\\\n\t 11 & 1 & 3 & Sandstrom, Miss. Marguerite Rut                           & female &  4.00000 & 1 & 1 & PP 9549          &  16.7000 & G6          & S & 2 & 0 & 1 & 0 & 0 & 1\\\\\n\t 12 & 1 & 1 & Bonnell, Miss. Elizabeth                                  & female & 58.00000 & 0 & 0 & 113783           &  26.5500 & C103        & S & 0 & 0 & 1 & 0 & 0 & 1\\\\\n\t 13 & 0 & 3 & Saundercock, Mr. William Henry                            & male   & 20.00000 & 0 & 0 & A/5. 2151        &   8.0500 &             & S & 0 & 1 & 0 & 0 & 0 & 1\\\\\n\t 14 & 0 & 3 & Andersson, Mr. Anders Johan                               & male   & 39.00000 & 1 & 5 & 347082           &  31.2750 &             & S & 6 & 1 & 0 & 0 & 0 & 1\\\\\n\t 15 & 0 & 3 & Vestrom, Miss. Hulda Amanda Adolfina                      & female & 14.00000 & 0 & 0 & 350406           &   7.8542 &             & S & 0 & 0 & 1 & 0 & 0 & 1\\\\\n\t 16 & 1 & 2 & Hewlett, Mrs. (Mary D Kingcome)                           & female & 55.00000 & 0 & 0 & 248706           &  16.0000 &             & S & 0 & 0 & 1 & 0 & 0 & 1\\\\\n\t 17 & 0 & 3 & Rice, Master. Eugene                                      & male   &  2.00000 & 4 & 1 & 382652           &  29.1250 &             & Q & 5 & 1 & 0 & 0 & 1 & 0\\\\\n\t 18 & 1 & 2 & Williams, Mr. Charles Eugene                              & male   & 29.69912 & 0 & 0 & 244373           &  13.0000 &             & S & 0 & 1 & 0 & 0 & 0 & 1\\\\\n\t 19 & 0 & 3 & Vander Planke, Mrs. Julius (Emelia Maria Vandemoortele)   & female & 31.00000 & 1 & 0 & 345763           &  18.0000 &             & S & 1 & 0 & 1 & 0 & 0 & 1\\\\\n\t 20 & 1 & 3 & Masselmani, Mrs. Fatima                                   & female & 29.69912 & 0 & 0 & 2649             &   7.2250 &             & C & 0 & 0 & 1 & 1 & 0 & 0\\\\\n\t 21 & 0 & 2 & Fynney, Mr. Joseph J                                      & male   & 35.00000 & 0 & 0 & 239865           &  26.0000 &             & S & 0 & 1 & 0 & 0 & 0 & 1\\\\\n\t 22 & 1 & 2 & Beesley, Mr. Lawrence                                     & male   & 34.00000 & 0 & 0 & 248698           &  13.0000 & D56         & S & 0 & 1 & 0 & 0 & 0 & 1\\\\\n\t 23 & 1 & 3 & McGowan, Miss. Anna \"Annie\"                               & female & 15.00000 & 0 & 0 & 330923           &   8.0292 &             & Q & 0 & 0 & 1 & 0 & 1 & 0\\\\\n\t 24 & 1 & 1 & Sloper, Mr. William Thompson                              & male   & 28.00000 & 0 & 0 & 113788           &  35.5000 & A6          & S & 0 & 1 & 0 & 0 & 0 & 1\\\\\n\t 25 & 0 & 3 & Palsson, Miss. Torborg Danira                             & female &  8.00000 & 3 & 1 & 349909           &  21.0750 &             & S & 4 & 0 & 1 & 0 & 0 & 1\\\\\n\t 26 & 1 & 3 & Asplund, Mrs. Carl Oscar (Selma Augusta Emilia Johansson) & female & 38.00000 & 1 & 5 & 347077           &  31.3875 &             & S & 6 & 0 & 1 & 0 & 0 & 1\\\\\n\t 27 & 0 & 3 & Emir, Mr. Farred Chehab                                   & male   & 29.69912 & 0 & 0 & 2631             &   7.2250 &             & C & 0 & 1 & 0 & 1 & 0 & 0\\\\\n\t 28 & 0 & 1 & Fortune, Mr. Charles Alexander                            & male   & 19.00000 & 3 & 2 & 19950            & 263.0000 & C23 C25 C27 & S & 5 & 1 & 0 & 0 & 0 & 1\\\\\n\t 29 & 1 & 3 & O'Dwyer, Miss. Ellen \"Nellie\"                             & female & 29.69912 & 0 & 0 & 330959           &   7.8792 &             & Q & 0 & 0 & 1 & 0 & 1 & 0\\\\\n\t 30 & 0 & 3 & Todoroff, Mr. Lalio                                       & male   & 29.69912 & 0 & 0 & 349216           &   7.8958 &             & S & 0 & 1 & 0 & 0 & 0 & 1\\\\\n\t ⋮ & ⋮ & ⋮ & ⋮ & ⋮ & ⋮ & ⋮ & ⋮ & ⋮ & ⋮ & ⋮ & ⋮ & ⋮ & ⋮ & ⋮ & ⋮ & ⋮ & ⋮\\\\\n\t 862 & 0 & 2 & Giles, Mr. Frederick Edward                         & male   & 21.00000 & 1 & 0 & 28134            & 11.5000 &             & S &  1 & 1 & 0 & 0 & 0 & 1\\\\\n\t 863 & 1 & 1 & Swift, Mrs. Frederick Joel (Margaret Welles Barron) & female & 48.00000 & 0 & 0 & 17466            & 25.9292 & D17         & S &  0 & 0 & 1 & 0 & 0 & 1\\\\\n\t 864 & 0 & 3 & Sage, Miss. Dorothy Edith \"Dolly\"                   & female & 29.69912 & 8 & 2 & CA. 2343         & 69.5500 &             & S & 10 & 0 & 1 & 0 & 0 & 1\\\\\n\t 865 & 0 & 2 & Gill, Mr. John William                              & male   & 24.00000 & 0 & 0 & 233866           & 13.0000 &             & S &  0 & 1 & 0 & 0 & 0 & 1\\\\\n\t 866 & 1 & 2 & Bystrom, Mrs. (Karolina)                            & female & 42.00000 & 0 & 0 & 236852           & 13.0000 &             & S &  0 & 0 & 1 & 0 & 0 & 1\\\\\n\t 867 & 1 & 2 & Duran y More, Miss. Asuncion                        & female & 27.00000 & 1 & 0 & SC/PARIS 2149    & 13.8583 &             & C &  1 & 0 & 1 & 1 & 0 & 0\\\\\n\t 868 & 0 & 1 & Roebling, Mr. Washington Augustus II                & male   & 31.00000 & 0 & 0 & PC 17590         & 50.4958 & A24         & S &  0 & 1 & 0 & 0 & 0 & 1\\\\\n\t 869 & 0 & 3 & van Melkebeke, Mr. Philemon                         & male   & 29.69912 & 0 & 0 & 345777           &  9.5000 &             & S &  0 & 1 & 0 & 0 & 0 & 1\\\\\n\t 870 & 1 & 3 & Johnson, Master. Harold Theodor                     & male   &  4.00000 & 1 & 1 & 347742           & 11.1333 &             & S &  2 & 1 & 0 & 0 & 0 & 1\\\\\n\t 871 & 0 & 3 & Balkic, Mr. Cerin                                   & male   & 26.00000 & 0 & 0 & 349248           &  7.8958 &             & S &  0 & 1 & 0 & 0 & 0 & 1\\\\\n\t 872 & 1 & 1 & Beckwith, Mrs. Richard Leonard (Sallie Monypeny)    & female & 47.00000 & 1 & 1 & 11751            & 52.5542 & D35         & S &  2 & 0 & 1 & 0 & 0 & 1\\\\\n\t 873 & 0 & 1 & Carlsson, Mr. Frans Olof                            & male   & 33.00000 & 0 & 0 & 695              &  5.0000 & B51 B53 B55 & S &  0 & 1 & 0 & 0 & 0 & 1\\\\\n\t 874 & 0 & 3 & Vander Cruyssen, Mr. Victor                         & male   & 47.00000 & 0 & 0 & 345765           &  9.0000 &             & S &  0 & 1 & 0 & 0 & 0 & 1\\\\\n\t 875 & 1 & 2 & Abelson, Mrs. Samuel (Hannah Wizosky)               & female & 28.00000 & 1 & 0 & P/PP 3381        & 24.0000 &             & C &  1 & 0 & 1 & 1 & 0 & 0\\\\\n\t 876 & 1 & 3 & Najib, Miss. Adele Kiamie \"Jane\"                    & female & 15.00000 & 0 & 0 & 2667             &  7.2250 &             & C &  0 & 0 & 1 & 1 & 0 & 0\\\\\n\t 877 & 0 & 3 & Gustafsson, Mr. Alfred Ossian                       & male   & 20.00000 & 0 & 0 & 7534             &  9.8458 &             & S &  0 & 1 & 0 & 0 & 0 & 1\\\\\n\t 878 & 0 & 3 & Petroff, Mr. Nedelio                                & male   & 19.00000 & 0 & 0 & 349212           &  7.8958 &             & S &  0 & 1 & 0 & 0 & 0 & 1\\\\\n\t 879 & 0 & 3 & Laleff, Mr. Kristo                                  & male   & 29.69912 & 0 & 0 & 349217           &  7.8958 &             & S &  0 & 1 & 0 & 0 & 0 & 1\\\\\n\t 880 & 1 & 1 & Potter, Mrs. Thomas Jr (Lily Alexenia Wilson)       & female & 56.00000 & 0 & 1 & 11767            & 83.1583 & C50         & C &  1 & 0 & 1 & 1 & 0 & 0\\\\\n\t 881 & 1 & 2 & Shelley, Mrs. William (Imanita Parrish Hall)        & female & 25.00000 & 0 & 1 & 230433           & 26.0000 &             & S &  1 & 0 & 1 & 0 & 0 & 1\\\\\n\t 882 & 0 & 3 & Markun, Mr. Johann                                  & male   & 33.00000 & 0 & 0 & 349257           &  7.8958 &             & S &  0 & 1 & 0 & 0 & 0 & 1\\\\\n\t 883 & 0 & 3 & Dahlberg, Miss. Gerda Ulrika                        & female & 22.00000 & 0 & 0 & 7552             & 10.5167 &             & S &  0 & 0 & 1 & 0 & 0 & 1\\\\\n\t 884 & 0 & 2 & Banfield, Mr. Frederick James                       & male   & 28.00000 & 0 & 0 & C.A./SOTON 34068 & 10.5000 &             & S &  0 & 1 & 0 & 0 & 0 & 1\\\\\n\t 885 & 0 & 3 & Sutehall, Mr. Henry Jr                              & male   & 25.00000 & 0 & 0 & SOTON/OQ 392076  &  7.0500 &             & S &  0 & 1 & 0 & 0 & 0 & 1\\\\\n\t 886 & 0 & 3 & Rice, Mrs. William (Margaret Norton)                & female & 39.00000 & 0 & 5 & 382652           & 29.1250 &             & Q &  5 & 0 & 1 & 0 & 1 & 0\\\\\n\t 887 & 0 & 2 & Montvila, Rev. Juozas                               & male   & 27.00000 & 0 & 0 & 211536           & 13.0000 &             & S &  0 & 1 & 0 & 0 & 0 & 1\\\\\n\t 888 & 1 & 1 & Graham, Miss. Margaret Edith                        & female & 19.00000 & 0 & 0 & 112053           & 30.0000 & B42         & S &  0 & 0 & 1 & 0 & 0 & 1\\\\\n\t 889 & 0 & 3 & Johnston, Miss. Catherine Helen \"Carrie\"            & female & 29.69912 & 1 & 2 & W./C. 6607       & 23.4500 &             & S &  3 & 0 & 1 & 0 & 0 & 1\\\\\n\t 890 & 1 & 1 & Behr, Mr. Karl Howell                               & male   & 26.00000 & 0 & 0 & 111369           & 30.0000 & C148        & C &  0 & 1 & 0 & 1 & 0 & 0\\\\\n\t 891 & 0 & 3 & Dooley, Mr. Patrick                                 & male   & 32.00000 & 0 & 0 & 370376           &  7.7500 &             & Q &  0 & 1 & 0 & 0 & 1 & 0\\\\\n\\end{tabular}\n",
            "text/plain": [
              "    PassengerId Survived Pclass\n",
              "1    1          0        3     \n",
              "2    2          1        1     \n",
              "3    3          1        3     \n",
              "4    4          1        1     \n",
              "5    5          0        3     \n",
              "6    6          0        3     \n",
              "7    7          0        1     \n",
              "8    8          0        3     \n",
              "9    9          1        3     \n",
              "10  10          1        2     \n",
              "11  11          1        3     \n",
              "12  12          1        1     \n",
              "13  13          0        3     \n",
              "14  14          0        3     \n",
              "15  15          0        3     \n",
              "16  16          1        2     \n",
              "17  17          0        3     \n",
              "18  18          1        2     \n",
              "19  19          0        3     \n",
              "20  20          1        3     \n",
              "21  21          0        2     \n",
              "22  22          1        2     \n",
              "23  23          1        3     \n",
              "24  24          1        1     \n",
              "25  25          0        3     \n",
              "26  26          1        3     \n",
              "27  27          0        3     \n",
              "28  28          0        1     \n",
              "29  29          1        3     \n",
              "30  30          0        3     \n",
              "⋮   ⋮           ⋮        ⋮     \n",
              "862 862         0        2     \n",
              "863 863         1        1     \n",
              "864 864         0        3     \n",
              "865 865         0        2     \n",
              "866 866         1        2     \n",
              "867 867         1        2     \n",
              "868 868         0        1     \n",
              "869 869         0        3     \n",
              "870 870         1        3     \n",
              "871 871         0        3     \n",
              "872 872         1        1     \n",
              "873 873         0        1     \n",
              "874 874         0        3     \n",
              "875 875         1        2     \n",
              "876 876         1        3     \n",
              "877 877         0        3     \n",
              "878 878         0        3     \n",
              "879 879         0        3     \n",
              "880 880         1        1     \n",
              "881 881         1        2     \n",
              "882 882         0        3     \n",
              "883 883         0        3     \n",
              "884 884         0        2     \n",
              "885 885         0        3     \n",
              "886 886         0        3     \n",
              "887 887         0        2     \n",
              "888 888         1        1     \n",
              "889 889         0        3     \n",
              "890 890         1        1     \n",
              "891 891         0        3     \n",
              "    Name                                                      Sex    Age     \n",
              "1   Braund, Mr. Owen Harris                                   male   22.00000\n",
              "2   Cumings, Mrs. John Bradley (Florence Briggs Thayer)       female 38.00000\n",
              "3   Heikkinen, Miss. Laina                                    female 26.00000\n",
              "4   Futrelle, Mrs. Jacques Heath (Lily May Peel)              female 35.00000\n",
              "5   Allen, Mr. William Henry                                  male   35.00000\n",
              "6   Moran, Mr. James                                          male   29.69912\n",
              "7   McCarthy, Mr. Timothy J                                   male   54.00000\n",
              "8   Palsson, Master. Gosta Leonard                            male    2.00000\n",
              "9   Johnson, Mrs. Oscar W (Elisabeth Vilhelmina Berg)         female 27.00000\n",
              "10  Nasser, Mrs. Nicholas (Adele Achem)                       female 14.00000\n",
              "11  Sandstrom, Miss. Marguerite Rut                           female  4.00000\n",
              "12  Bonnell, Miss. Elizabeth                                  female 58.00000\n",
              "13  Saundercock, Mr. William Henry                            male   20.00000\n",
              "14  Andersson, Mr. Anders Johan                               male   39.00000\n",
              "15  Vestrom, Miss. Hulda Amanda Adolfina                      female 14.00000\n",
              "16  Hewlett, Mrs. (Mary D Kingcome)                           female 55.00000\n",
              "17  Rice, Master. Eugene                                      male    2.00000\n",
              "18  Williams, Mr. Charles Eugene                              male   29.69912\n",
              "19  Vander Planke, Mrs. Julius (Emelia Maria Vandemoortele)   female 31.00000\n",
              "20  Masselmani, Mrs. Fatima                                   female 29.69912\n",
              "21  Fynney, Mr. Joseph J                                      male   35.00000\n",
              "22  Beesley, Mr. Lawrence                                     male   34.00000\n",
              "23  McGowan, Miss. Anna \"Annie\"                               female 15.00000\n",
              "24  Sloper, Mr. William Thompson                              male   28.00000\n",
              "25  Palsson, Miss. Torborg Danira                             female  8.00000\n",
              "26  Asplund, Mrs. Carl Oscar (Selma Augusta Emilia Johansson) female 38.00000\n",
              "27  Emir, Mr. Farred Chehab                                   male   29.69912\n",
              "28  Fortune, Mr. Charles Alexander                            male   19.00000\n",
              "29  O'Dwyer, Miss. Ellen \"Nellie\"                             female 29.69912\n",
              "30  Todoroff, Mr. Lalio                                       male   29.69912\n",
              "⋮   ⋮                                                         ⋮      ⋮       \n",
              "862 Giles, Mr. Frederick Edward                               male   21.00000\n",
              "863 Swift, Mrs. Frederick Joel (Margaret Welles Barron)       female 48.00000\n",
              "864 Sage, Miss. Dorothy Edith \"Dolly\"                         female 29.69912\n",
              "865 Gill, Mr. John William                                    male   24.00000\n",
              "866 Bystrom, Mrs. (Karolina)                                  female 42.00000\n",
              "867 Duran y More, Miss. Asuncion                              female 27.00000\n",
              "868 Roebling, Mr. Washington Augustus II                      male   31.00000\n",
              "869 van Melkebeke, Mr. Philemon                               male   29.69912\n",
              "870 Johnson, Master. Harold Theodor                           male    4.00000\n",
              "871 Balkic, Mr. Cerin                                         male   26.00000\n",
              "872 Beckwith, Mrs. Richard Leonard (Sallie Monypeny)          female 47.00000\n",
              "873 Carlsson, Mr. Frans Olof                                  male   33.00000\n",
              "874 Vander Cruyssen, Mr. Victor                               male   47.00000\n",
              "875 Abelson, Mrs. Samuel (Hannah Wizosky)                     female 28.00000\n",
              "876 Najib, Miss. Adele Kiamie \"Jane\"                          female 15.00000\n",
              "877 Gustafsson, Mr. Alfred Ossian                             male   20.00000\n",
              "878 Petroff, Mr. Nedelio                                      male   19.00000\n",
              "879 Laleff, Mr. Kristo                                        male   29.69912\n",
              "880 Potter, Mrs. Thomas Jr (Lily Alexenia Wilson)             female 56.00000\n",
              "881 Shelley, Mrs. William (Imanita Parrish Hall)              female 25.00000\n",
              "882 Markun, Mr. Johann                                        male   33.00000\n",
              "883 Dahlberg, Miss. Gerda Ulrika                              female 22.00000\n",
              "884 Banfield, Mr. Frederick James                             male   28.00000\n",
              "885 Sutehall, Mr. Henry Jr                                    male   25.00000\n",
              "886 Rice, Mrs. William (Margaret Norton)                      female 39.00000\n",
              "887 Montvila, Rev. Juozas                                     male   27.00000\n",
              "888 Graham, Miss. Margaret Edith                              female 19.00000\n",
              "889 Johnston, Miss. Catherine Helen \"Carrie\"                  female 29.69912\n",
              "890 Behr, Mr. Karl Howell                                     male   26.00000\n",
              "891 Dooley, Mr. Patrick                                       male   32.00000\n",
              "    SibSp Parch Ticket           Fare     Cabin       Embarked FamilySize Male\n",
              "1   1     0     A/5 21171          7.2500             S        1          1   \n",
              "2   1     0     PC 17599          71.2833 C85         C        1          0   \n",
              "3   0     0     STON/O2. 3101282   7.9250             S        0          0   \n",
              "4   1     0     113803            53.1000 C123        S        1          0   \n",
              "5   0     0     373450             8.0500             S        0          1   \n",
              "6   0     0     330877             8.4583             Q        0          1   \n",
              "7   0     0     17463             51.8625 E46         S        0          1   \n",
              "8   3     1     349909            21.0750             S        4          1   \n",
              "9   0     2     347742            11.1333             S        2          0   \n",
              "10  1     0     237736            30.0708             C        1          0   \n",
              "11  1     1     PP 9549           16.7000 G6          S        2          0   \n",
              "12  0     0     113783            26.5500 C103        S        0          0   \n",
              "13  0     0     A/5. 2151          8.0500             S        0          1   \n",
              "14  1     5     347082            31.2750             S        6          1   \n",
              "15  0     0     350406             7.8542             S        0          0   \n",
              "16  0     0     248706            16.0000             S        0          0   \n",
              "17  4     1     382652            29.1250             Q        5          1   \n",
              "18  0     0     244373            13.0000             S        0          1   \n",
              "19  1     0     345763            18.0000             S        1          0   \n",
              "20  0     0     2649               7.2250             C        0          0   \n",
              "21  0     0     239865            26.0000             S        0          1   \n",
              "22  0     0     248698            13.0000 D56         S        0          1   \n",
              "23  0     0     330923             8.0292             Q        0          0   \n",
              "24  0     0     113788            35.5000 A6          S        0          1   \n",
              "25  3     1     349909            21.0750             S        4          0   \n",
              "26  1     5     347077            31.3875             S        6          0   \n",
              "27  0     0     2631               7.2250             C        0          1   \n",
              "28  3     2     19950            263.0000 C23 C25 C27 S        5          1   \n",
              "29  0     0     330959             7.8792             Q        0          0   \n",
              "30  0     0     349216             7.8958             S        0          1   \n",
              "⋮   ⋮     ⋮     ⋮                ⋮        ⋮           ⋮        ⋮          ⋮   \n",
              "862 1     0     28134            11.5000              S         1         1   \n",
              "863 0     0     17466            25.9292  D17         S         0         0   \n",
              "864 8     2     CA. 2343         69.5500              S        10         0   \n",
              "865 0     0     233866           13.0000              S         0         1   \n",
              "866 0     0     236852           13.0000              S         0         0   \n",
              "867 1     0     SC/PARIS 2149    13.8583              C         1         0   \n",
              "868 0     0     PC 17590         50.4958  A24         S         0         1   \n",
              "869 0     0     345777            9.5000              S         0         1   \n",
              "870 1     1     347742           11.1333              S         2         1   \n",
              "871 0     0     349248            7.8958              S         0         1   \n",
              "872 1     1     11751            52.5542  D35         S         2         0   \n",
              "873 0     0     695               5.0000  B51 B53 B55 S         0         1   \n",
              "874 0     0     345765            9.0000              S         0         1   \n",
              "875 1     0     P/PP 3381        24.0000              C         1         0   \n",
              "876 0     0     2667              7.2250              C         0         0   \n",
              "877 0     0     7534              9.8458              S         0         1   \n",
              "878 0     0     349212            7.8958              S         0         1   \n",
              "879 0     0     349217            7.8958              S         0         1   \n",
              "880 0     1     11767            83.1583  C50         C         1         0   \n",
              "881 0     1     230433           26.0000              S         1         0   \n",
              "882 0     0     349257            7.8958              S         0         1   \n",
              "883 0     0     7552             10.5167              S         0         0   \n",
              "884 0     0     C.A./SOTON 34068 10.5000              S         0         1   \n",
              "885 0     0     SOTON/OQ 392076   7.0500              S         0         1   \n",
              "886 0     5     382652           29.1250              Q         5         0   \n",
              "887 0     0     211536           13.0000              S         0         1   \n",
              "888 0     0     112053           30.0000  B42         S         0         0   \n",
              "889 1     2     W./C. 6607       23.4500              S         3         0   \n",
              "890 0     0     111369           30.0000  C148        C         0         1   \n",
              "891 0     0     370376            7.7500              Q         0         1   \n",
              "    Female C Q S\n",
              "1   0      0 0 1\n",
              "2   1      1 0 0\n",
              "3   1      0 0 1\n",
              "4   1      0 0 1\n",
              "5   0      0 0 1\n",
              "6   0      0 1 0\n",
              "7   0      0 0 1\n",
              "8   0      0 0 1\n",
              "9   1      0 0 1\n",
              "10  1      1 0 0\n",
              "11  1      0 0 1\n",
              "12  1      0 0 1\n",
              "13  0      0 0 1\n",
              "14  0      0 0 1\n",
              "15  1      0 0 1\n",
              "16  1      0 0 1\n",
              "17  0      0 1 0\n",
              "18  0      0 0 1\n",
              "19  1      0 0 1\n",
              "20  1      1 0 0\n",
              "21  0      0 0 1\n",
              "22  0      0 0 1\n",
              "23  1      0 1 0\n",
              "24  0      0 0 1\n",
              "25  1      0 0 1\n",
              "26  1      0 0 1\n",
              "27  0      1 0 0\n",
              "28  0      0 0 1\n",
              "29  1      0 1 0\n",
              "30  0      0 0 1\n",
              "⋮   ⋮      ⋮ ⋮ ⋮\n",
              "862 0      0 0 1\n",
              "863 1      0 0 1\n",
              "864 1      0 0 1\n",
              "865 0      0 0 1\n",
              "866 1      0 0 1\n",
              "867 1      1 0 0\n",
              "868 0      0 0 1\n",
              "869 0      0 0 1\n",
              "870 0      0 0 1\n",
              "871 0      0 0 1\n",
              "872 1      0 0 1\n",
              "873 0      0 0 1\n",
              "874 0      0 0 1\n",
              "875 1      1 0 0\n",
              "876 1      1 0 0\n",
              "877 0      0 0 1\n",
              "878 0      0 0 1\n",
              "879 0      0 0 1\n",
              "880 1      1 0 0\n",
              "881 1      0 0 1\n",
              "882 0      0 0 1\n",
              "883 1      0 0 1\n",
              "884 0      0 0 1\n",
              "885 0      0 0 1\n",
              "886 1      0 1 0\n",
              "887 0      0 0 1\n",
              "888 1      0 0 1\n",
              "889 1      0 0 1\n",
              "890 0      1 0 0\n",
              "891 0      0 1 0"
            ]
          },
          "metadata": {}
        }
      ]
    },
    {
      "cell_type": "code",
      "source": [
        "# 분석 결과에 영향이 없는 변수는 제외하고, 나머지 변수로 데이터셋 재구성\n",
        "# PassengerId, Name, Ticket, Cabin 제외\n",
        "# Sex 대신 Male, Female 선택, Embarked 대신 C, Q, S 선택\n",
        "df <- df[ , c(\"Survived\", \"Pclass\", \"Male\", \"Female\", \"Age\", \"Fare\", \"C\", \"Q\", \"S\", \"FamilySize\")]"
      ],
      "metadata": {
        "id": "px0w_BIxSoT0"
      },
      "execution_count": 38,
      "outputs": []
    },
    {
      "cell_type": "code",
      "source": [
        "# 난수(random) 발생을 위한 seed 값 부여\n",
        "set.seed(123)\n",
        "\n",
        "# 전체 행의 70%에 해당하는 인덱스를 임의 선정\n",
        "idx <-sample(1:nrow(df), 0.7*nrow(df))\n",
        "\n",
        "# 인덱스에 해당하는 행을 학습 데이터로 선정\n",
        "df_train <- df[idx, ]     # 독립변수 + 종속변수\n",
        "\n",
        "# 인덱스에 해당하지 않는 행(-idx)을 테스트 데이터로 선정\n",
        "df_test <- df[-idx, ]     # 독립변수 + 종속변수\n",
        "print(dim(df_train))      # 학습 데이터셋\n",
        "print(dim(df_test))       # 테스트 데이터셋"
      ],
      "metadata": {
        "colab": {
          "base_uri": "https://localhost:8080/"
        },
        "id": "Czl6sX1nSzh2",
        "outputId": "96ad6f76-f194-4365-e850-2f8cf4baded9"
      },
      "execution_count": 39,
      "outputs": [
        {
          "output_type": "stream",
          "name": "stdout",
          "text": [
            "[1] 623  10\n",
            "[1] 268  10\n"
          ]
        }
      ]
    },
    {
      "cell_type": "code",
      "source": [
        "# SVM 모델 학습\n",
        "model <- svm(Survived~., data=df_train, type=\"C-classification\")"
      ],
      "metadata": {
        "id": "wO_KP_ssS6ro"
      },
      "execution_count": 40,
      "outputs": []
    },
    {
      "cell_type": "code",
      "source": [
        "# 학습된 모델을 기반으로 예측 수행\n",
        "pred <- predict(model, df_test, type=\"class\")"
      ],
      "metadata": {
        "id": "lumIL4c6S-tH"
      },
      "execution_count": 41,
      "outputs": []
    },
    {
      "cell_type": "code",
      "source": [
        "# Confusion Matrix 작성\n",
        "cm <- table(df_test$Survived, pred)\n",
        "print(cm)\n",
        "\n",
        "# 모델평가 - 정확도\n",
        "acc <- (cm[1,1] + cm[2,2])/nrow(df_test)\n",
        "print(acc)"
      ],
      "metadata": {
        "colab": {
          "base_uri": "https://localhost:8080/"
        },
        "id": "SHaffjMlTBeT",
        "outputId": "791dae1c-c35d-44eb-b788-4efe4912139e"
      },
      "execution_count": 42,
      "outputs": [
        {
          "output_type": "stream",
          "name": "stdout",
          "text": [
            "   pred\n",
            "      0   1\n",
            "  0 148  20\n",
            "  1  30  70\n",
            "[1] 0.8134328\n"
          ]
        }
      ]
    },
    {
      "cell_type": "markdown",
      "source": [
        ">>>**04 로지스틱 회귀를 이용한 분류 문제 해결**"
      ],
      "metadata": {
        "id": "KoOloYP7TJH9"
      }
    },
    {
      "cell_type": "code",
      "source": [
        "library(dplyr)        # dplyr 패키지 임포트\n",
        "library(ggplot2)      # ggplot2 패키지 임포트\n",
        "\n",
        "# 로지스틱 회귀 분류모델을 위한 패키지 임포트\n",
        "library(nnet)"
      ],
      "metadata": {
        "id": "FUNHGYWpTMPb"
      },
      "execution_count": 43,
      "outputs": []
    },
    {
      "cell_type": "code",
      "source": [
        "# 깃허브에 있는 csv 파일을 읽어와서 데이터프레임 df로 넣는다.\n",
        "df <- read.csv(\"https://raw.githubusercontent.com/mwaskom/seaborn-data/master/iris.csv\")"
      ],
      "metadata": {
        "id": "JmNjVdFUTSNc"
      },
      "execution_count": 44,
      "outputs": []
    },
    {
      "cell_type": "code",
      "source": [
        "str(df)  # 데이터프레임 구조"
      ],
      "metadata": {
        "colab": {
          "base_uri": "https://localhost:8080/"
        },
        "id": "-KgVO5rqTVIi",
        "outputId": "fd4fa21d-4db7-4aef-e576-b2815a4b87ef"
      },
      "execution_count": 45,
      "outputs": [
        {
          "output_type": "stream",
          "name": "stdout",
          "text": [
            "'data.frame':\t150 obs. of  5 variables:\n",
            " $ sepal_length: num  5.1 4.9 4.7 4.6 5 5.4 4.6 5 4.4 4.9 ...\n",
            " $ sepal_width : num  3.5 3 3.2 3.1 3.6 3.9 3.4 3.4 2.9 3.1 ...\n",
            " $ petal_length: num  1.4 1.4 1.3 1.5 1.4 1.7 1.4 1.5 1.4 1.5 ...\n",
            " $ petal_width : num  0.2 0.2 0.2 0.2 0.2 0.4 0.3 0.2 0.2 0.1 ...\n",
            " $ species     : chr  \"setosa\" \"setosa\" \"setosa\" \"setosa\" ...\n"
          ]
        }
      ]
    },
    {
      "cell_type": "code",
      "source": [
        "summary(df)"
      ],
      "metadata": {
        "colab": {
          "base_uri": "https://localhost:8080/",
          "height": 274
        },
        "id": "bdaP48oXTaX3",
        "outputId": "d664b16c-715e-4483-e931-d62070aee70e"
      },
      "execution_count": 46,
      "outputs": [
        {
          "output_type": "display_data",
          "data": {
            "text/plain": [
              "  sepal_length    sepal_width     petal_length    petal_width   \n",
              " Min.   :4.300   Min.   :2.000   Min.   :1.000   Min.   :0.100  \n",
              " 1st Qu.:5.100   1st Qu.:2.800   1st Qu.:1.600   1st Qu.:0.300  \n",
              " Median :5.800   Median :3.000   Median :4.350   Median :1.300  \n",
              " Mean   :5.843   Mean   :3.057   Mean   :3.758   Mean   :1.199  \n",
              " 3rd Qu.:6.400   3rd Qu.:3.300   3rd Qu.:5.100   3rd Qu.:1.800  \n",
              " Max.   :7.900   Max.   :4.400   Max.   :6.900   Max.   :2.500  \n",
              "   species         \n",
              " Length:150        \n",
              " Class :character  \n",
              " Mode  :character  \n",
              "                   \n",
              "                   \n",
              "                   "
            ]
          },
          "metadata": {}
        }
      ]
    },
    {
      "cell_type": "code",
      "source": [
        "sum(is.na(df))      # 결측치 개수를 출력"
      ],
      "metadata": {
        "colab": {
          "base_uri": "https://localhost:8080/",
          "height": 34
        },
        "id": "zNAiY3UXTcsT",
        "outputId": "34f2ad41-ee0e-41dc-fa24-d25a701fc49e"
      },
      "execution_count": 47,
      "outputs": [
        {
          "output_type": "display_data",
          "data": {
            "text/html": [
              "0"
            ],
            "text/markdown": "0",
            "text/latex": "0",
            "text/plain": [
              "[1] 0"
            ]
          },
          "metadata": {}
        }
      ]
    },
    {
      "cell_type": "code",
      "source": [
        "table(df$species)"
      ],
      "metadata": {
        "colab": {
          "base_uri": "https://localhost:8080/",
          "height": 72
        },
        "id": "rh48AK2aTfBq",
        "outputId": "356d8540-008a-45a5-aed3-a76cf8e00f54"
      },
      "execution_count": 48,
      "outputs": [
        {
          "output_type": "display_data",
          "data": {
            "text/plain": [
              "\n",
              "    setosa versicolor  virginica \n",
              "        50         50         50 "
            ]
          },
          "metadata": {}
        }
      ]
    },
    {
      "cell_type": "code",
      "source": [
        "# Min-Max 정규화 함수 정의\n",
        "normal <- function(x) (\n",
        "    return ((x - min(x))/(max(x) - min(x)))\n",
        ")\n",
        "# 정규화 함수 적용\n",
        "df[1:4] <- as.data.frame(lapply(df[1:4], normal))\n",
        "summary(df)"
      ],
      "metadata": {
        "colab": {
          "base_uri": "https://localhost:8080/",
          "height": 274
        },
        "id": "YWvNevOOThbH",
        "outputId": "a552b061-d862-4fc7-c699-7fd4d647dbc0"
      },
      "execution_count": 49,
      "outputs": [
        {
          "output_type": "display_data",
          "data": {
            "text/plain": [
              "  sepal_length     sepal_width      petal_length     petal_width     \n",
              " Min.   :0.0000   Min.   :0.0000   Min.   :0.0000   Min.   :0.00000  \n",
              " 1st Qu.:0.2222   1st Qu.:0.3333   1st Qu.:0.1017   1st Qu.:0.08333  \n",
              " Median :0.4167   Median :0.4167   Median :0.5678   Median :0.50000  \n",
              " Mean   :0.4287   Mean   :0.4406   Mean   :0.4675   Mean   :0.45806  \n",
              " 3rd Qu.:0.5833   3rd Qu.:0.5417   3rd Qu.:0.6949   3rd Qu.:0.70833  \n",
              " Max.   :1.0000   Max.   :1.0000   Max.   :1.0000   Max.   :1.00000  \n",
              "   species         \n",
              " Length:150        \n",
              " Class :character  \n",
              " Mode  :character  \n",
              "                   \n",
              "                   \n",
              "                   "
            ]
          },
          "metadata": {}
        }
      ]
    },
    {
      "cell_type": "code",
      "source": [
        "# 난수(random) 발생을 위한 seed 값 부여\n",
        "set.seed(123)\n",
        "\n",
        "# 150개 행의 80%인 120개 행 인덱스를 임의 선정\n",
        "idx <- sample(1:nrow(df), 0.8*nrow(df))\n",
        "\n",
        "# 인덱스에 해당하는 행을 학습 데이터로 선정\n",
        "train_dataset <- df[idx, 1:5]\n",
        "\n",
        "# 인덱스에 해당하지 않는 행(-idx)을 테스트 데이터로 선정\n",
        "test_dataset <- df[-idx, 1:5]"
      ],
      "metadata": {
        "id": "WE6iIJ-WTliu"
      },
      "execution_count": 50,
      "outputs": []
    },
    {
      "cell_type": "code",
      "source": [
        "print(dim(train_dataset))     # 학습 데이터\n",
        "print(dim(test_dataset))      # 테스트 데이터"
      ],
      "metadata": {
        "colab": {
          "base_uri": "https://localhost:8080/"
        },
        "id": "mK7EQUpbTpX1",
        "outputId": "6863639e-1640-43f7-808e-c68938c09ecb"
      },
      "execution_count": 51,
      "outputs": [
        {
          "output_type": "stream",
          "name": "stdout",
          "text": [
            "[1] 120   5\n",
            "[1] 30  5\n"
          ]
        }
      ]
    },
    {
      "cell_type": "code",
      "source": [
        "# 로지스틱 회귀 모델 학습\n",
        "# 독립변수 X_train, 종속변수 y_train으로 학습\n",
        "model <- multinom(formula = species ~ sepal_length + sepal_width + petal_length + petal_width, data = train_dataset)\n",
        "fitted(model)"
      ],
      "metadata": {
        "colab": {
          "base_uri": "https://localhost:8080/",
          "height": 1000
        },
        "id": "In0lnjGgTr__",
        "outputId": "582c94c8-66cc-46ed-e856-f457be8ab258"
      },
      "execution_count": 52,
      "outputs": [
        {
          "output_type": "stream",
          "name": "stdout",
          "text": [
            "# weights:  18 (10 variable)\n",
            "initial  value 131.833475 \n",
            "iter  10 value 13.518787\n",
            "iter  20 value 4.708637\n",
            "iter  30 value 3.368639\n",
            "iter  40 value 2.934471\n",
            "iter  50 value 2.692612\n",
            "iter  60 value 2.619843\n",
            "iter  70 value 2.404755\n",
            "iter  80 value 2.368683\n",
            "iter  90 value 2.253571\n",
            "iter 100 value 2.206298\n",
            "final  value 2.206298 \n",
            "stopped after 100 iterations\n"
          ]
        },
        {
          "output_type": "display_data",
          "data": {
            "text/html": [
              "<table class=\"dataframe\">\n",
              "<caption>A matrix: 120 × 3 of type dbl</caption>\n",
              "<thead>\n",
              "\t<tr><th></th><th scope=col>setosa</th><th scope=col>versicolor</th><th scope=col>virginica</th></tr>\n",
              "</thead>\n",
              "<tbody>\n",
              "\t<tr><th scope=row>14</th><td>1.000000e+00</td><td>3.281873e-08</td><td>1.587809e-52</td></tr>\n",
              "\t<tr><th scope=row>50</th><td>9.999973e-01</td><td>2.735069e-06</td><td>7.801278e-51</td></tr>\n",
              "\t<tr><th scope=row>118</th><td>9.626793e-24</td><td>1.199338e-12</td><td>1.000000e+00</td></tr>\n",
              "\t<tr><th scope=row>43</th><td>1.000000e+00</td><td>1.915765e-08</td><td>2.856899e-51</td></tr>\n",
              "\t<tr><th scope=row>150</th><td>2.488589e-10</td><td>2.447711e-04</td><td>9.997552e-01</td></tr>\n",
              "\t<tr><th scope=row>148</th><td>1.067095e-14</td><td>4.308072e-05</td><td>9.999569e-01</td></tr>\n",
              "\t<tr><th scope=row>90</th><td>1.027061e-05</td><td>9.999897e-01</td><td>2.676168e-08</td></tr>\n",
              "\t<tr><th scope=row>91</th><td>1.493468e-04</td><td>9.998464e-01</td><td>4.229918e-06</td></tr>\n",
              "\t<tr><th scope=row>143</th><td>9.162982e-15</td><td>3.665186e-07</td><td>9.999996e-01</td></tr>\n",
              "\t<tr><th scope=row>92</th><td>5.476620e-06</td><td>9.999924e-01</td><td>2.149935e-06</td></tr>\n",
              "\t<tr><th scope=row>137</th><td>1.004173e-19</td><td>1.757350e-11</td><td>1.000000e+00</td></tr>\n",
              "\t<tr><th scope=row>99</th><td>2.185638e-03</td><td>9.978144e-01</td><td>4.712331e-18</td></tr>\n",
              "\t<tr><th scope=row>72</th><td>7.644634e-07</td><td>9.999992e-01</td><td>6.373092e-12</td></tr>\n",
              "\t<tr><th scope=row>26</th><td>9.999097e-01</td><td>9.030503e-05</td><td>5.349455e-46</td></tr>\n",
              "\t<tr><th scope=row>7</th><td>1.000000e+00</td><td>3.508993e-08</td><td>8.501567e-51</td></tr>\n",
              "\t<tr><th scope=row>78</th><td>5.737482e-10</td><td>9.355118e-01</td><td>6.448818e-02</td></tr>\n",
              "\t<tr><th scope=row>81</th><td>2.084945e-05</td><td>9.999792e-01</td><td>1.254040e-11</td></tr>\n",
              "\t<tr><th scope=row>147</th><td>2.004312e-16</td><td>1.944226e-05</td><td>9.999806e-01</td></tr>\n",
              "\t<tr><th scope=row>103</th><td>6.924715e-23</td><td>2.227948e-10</td><td>1.000000e+00</td></tr>\n",
              "\t<tr><th scope=row>117</th><td>1.982645e-14</td><td>7.143388e-06</td><td>9.999929e-01</td></tr>\n",
              "\t<tr><th scope=row>76</th><td>2.399812e-08</td><td>1.000000e+00</td><td>5.046117e-10</td></tr>\n",
              "\t<tr><th scope=row>32</th><td>9.995963e-01</td><td>4.036602e-04</td><td>1.094087e-47</td></tr>\n",
              "\t<tr><th scope=row>106</th><td>1.594206e-29</td><td>4.944327e-15</td><td>1.000000e+00</td></tr>\n",
              "\t<tr><th scope=row>109</th><td>2.164224e-22</td><td>2.224297e-10</td><td>1.000000e+00</td></tr>\n",
              "\t<tr><th scope=row>136</th><td>3.924526e-28</td><td>4.709523e-12</td><td>1.000000e+00</td></tr>\n",
              "\t<tr><th scope=row>9</th><td>9.999993e-01</td><td>6.961620e-07</td><td>2.590000e-47</td></tr>\n",
              "\t<tr><th scope=row>41</th><td>9.999993e-01</td><td>7.463048e-07</td><td>2.592084e-52</td></tr>\n",
              "\t<tr><th scope=row>74</th><td>4.333022e-06</td><td>9.999939e-01</td><td>1.805273e-06</td></tr>\n",
              "\t<tr><th scope=row>23</th><td>1.000000e+00</td><td>1.517848e-09</td><td>8.115124e-58</td></tr>\n",
              "\t<tr><th scope=row>27</th><td>9.999944e-01</td><td>5.552261e-06</td><td>3.379595e-47</td></tr>\n",
              "\t<tr><th scope=row>⋮</th><td>⋮</td><td>⋮</td><td>⋮</td></tr>\n",
              "\t<tr><th scope=row>44</th><td>9.999863e-01</td><td>1.365031e-05</td><td>2.558634e-45</td></tr>\n",
              "\t<tr><th scope=row>85</th><td>2.620240e-03</td><td>9.965759e-01</td><td>8.038336e-04</td></tr>\n",
              "\t<tr><th scope=row>107</th><td>9.180685e-08</td><td>7.285591e-04</td><td>9.992713e-01</td></tr>\n",
              "\t<tr><th scope=row>139</th><td>6.514943e-08</td><td>2.435064e-01</td><td>7.564935e-01</td></tr>\n",
              "\t<tr><th scope=row>73</th><td>3.952428e-10</td><td>5.969113e-01</td><td>4.030887e-01</td></tr>\n",
              "\t<tr><th scope=row>20</th><td>1.000000e+00</td><td>4.393611e-08</td><td>1.548311e-53</td></tr>\n",
              "\t<tr><th scope=row>46</th><td>9.999610e-01</td><td>3.900961e-05</td><td>1.693903e-46</td></tr>\n",
              "\t<tr><th scope=row>17</th><td>9.999990e-01</td><td>1.045777e-06</td><td>1.414574e-54</td></tr>\n",
              "\t<tr><th scope=row>54</th><td>8.782747e-07</td><td>9.999989e-01</td><td>2.582061e-07</td></tr>\n",
              "\t<tr><th scope=row>108</th><td>2.901029e-23</td><td>7.257192e-11</td><td>1.000000e+00</td></tr>\n",
              "\t<tr><th scope=row>75</th><td>1.503150e-07</td><td>9.999998e-01</td><td>9.999280e-11</td></tr>\n",
              "\t<tr><th scope=row>80</th><td>6.524539e-05</td><td>9.999348e-01</td><td>4.435145e-17</td></tr>\n",
              "\t<tr><th scope=row>71</th><td>5.145112e-06</td><td>5.767553e-01</td><td>4.232396e-01</td></tr>\n",
              "\t<tr><th scope=row>15</th><td>9.999974e-01</td><td>2.645523e-06</td><td>5.363139e-59</td></tr>\n",
              "\t<tr><th scope=row>24</th><td>9.998574e-01</td><td>1.426173e-04</td><td>9.632826e-44</td></tr>\n",
              "\t<tr><th scope=row>68</th><td>1.389918e-04</td><td>9.998610e-01</td><td>2.084883e-12</td></tr>\n",
              "\t<tr><th scope=row>133</th><td>4.493903e-23</td><td>4.265356e-12</td><td>1.000000e+00</td></tr>\n",
              "\t<tr><th scope=row>145</th><td>1.798902e-23</td><td>1.874643e-12</td><td>1.000000e+00</td></tr>\n",
              "\t<tr><th scope=row>29</th><td>9.999935e-01</td><td>6.502013e-06</td><td>1.149537e-51</td></tr>\n",
              "\t<tr><th scope=row>104</th><td>3.862159e-16</td><td>5.318898e-08</td><td>9.999999e-01</td></tr>\n",
              "\t<tr><th scope=row>45</th><td>9.999999e-01</td><td>8.685718e-08</td><td>1.437617e-48</td></tr>\n",
              "\t<tr><th scope=row>140</th><td>2.851417e-17</td><td>5.326544e-06</td><td>9.999947e-01</td></tr>\n",
              "\t<tr><th scope=row>101</th><td>1.018156e-25</td><td>1.204573e-16</td><td>1.000000e+00</td></tr>\n",
              "\t<tr><th scope=row>135</th><td>3.261981e-13</td><td>3.126364e-06</td><td>9.999969e-01</td></tr>\n",
              "\t<tr><th scope=row>95</th><td>5.101391e-05</td><td>9.999489e-01</td><td>8.433817e-08</td></tr>\n",
              "\t<tr><th scope=row>116</th><td>8.731995e-18</td><td>2.342046e-08</td><td>1.000000e+00</td></tr>\n",
              "\t<tr><th scope=row>5</th><td>9.999999e-01</td><td>6.839344e-08</td><td>6.509361e-54</td></tr>\n",
              "\t<tr><th scope=row>111</th><td>9.076472e-12</td><td>3.448369e-03</td><td>9.965516e-01</td></tr>\n",
              "\t<tr><th scope=row>94</th><td>2.059617e-03</td><td>9.979404e-01</td><td>6.112666e-15</td></tr>\n",
              "\t<tr><th scope=row>49</th><td>9.999996e-01</td><td>4.212521e-07</td><td>9.077323e-54</td></tr>\n",
              "</tbody>\n",
              "</table>\n"
            ],
            "text/markdown": "\nA matrix: 120 × 3 of type dbl\n\n| <!--/--> | setosa | versicolor | virginica |\n|---|---|---|---|\n| 14 | 1.000000e+00 | 3.281873e-08 | 1.587809e-52 |\n| 50 | 9.999973e-01 | 2.735069e-06 | 7.801278e-51 |\n| 118 | 9.626793e-24 | 1.199338e-12 | 1.000000e+00 |\n| 43 | 1.000000e+00 | 1.915765e-08 | 2.856899e-51 |\n| 150 | 2.488589e-10 | 2.447711e-04 | 9.997552e-01 |\n| 148 | 1.067095e-14 | 4.308072e-05 | 9.999569e-01 |\n| 90 | 1.027061e-05 | 9.999897e-01 | 2.676168e-08 |\n| 91 | 1.493468e-04 | 9.998464e-01 | 4.229918e-06 |\n| 143 | 9.162982e-15 | 3.665186e-07 | 9.999996e-01 |\n| 92 | 5.476620e-06 | 9.999924e-01 | 2.149935e-06 |\n| 137 | 1.004173e-19 | 1.757350e-11 | 1.000000e+00 |\n| 99 | 2.185638e-03 | 9.978144e-01 | 4.712331e-18 |\n| 72 | 7.644634e-07 | 9.999992e-01 | 6.373092e-12 |\n| 26 | 9.999097e-01 | 9.030503e-05 | 5.349455e-46 |\n| 7 | 1.000000e+00 | 3.508993e-08 | 8.501567e-51 |\n| 78 | 5.737482e-10 | 9.355118e-01 | 6.448818e-02 |\n| 81 | 2.084945e-05 | 9.999792e-01 | 1.254040e-11 |\n| 147 | 2.004312e-16 | 1.944226e-05 | 9.999806e-01 |\n| 103 | 6.924715e-23 | 2.227948e-10 | 1.000000e+00 |\n| 117 | 1.982645e-14 | 7.143388e-06 | 9.999929e-01 |\n| 76 | 2.399812e-08 | 1.000000e+00 | 5.046117e-10 |\n| 32 | 9.995963e-01 | 4.036602e-04 | 1.094087e-47 |\n| 106 | 1.594206e-29 | 4.944327e-15 | 1.000000e+00 |\n| 109 | 2.164224e-22 | 2.224297e-10 | 1.000000e+00 |\n| 136 | 3.924526e-28 | 4.709523e-12 | 1.000000e+00 |\n| 9 | 9.999993e-01 | 6.961620e-07 | 2.590000e-47 |\n| 41 | 9.999993e-01 | 7.463048e-07 | 2.592084e-52 |\n| 74 | 4.333022e-06 | 9.999939e-01 | 1.805273e-06 |\n| 23 | 1.000000e+00 | 1.517848e-09 | 8.115124e-58 |\n| 27 | 9.999944e-01 | 5.552261e-06 | 3.379595e-47 |\n| ⋮ | ⋮ | ⋮ | ⋮ |\n| 44 | 9.999863e-01 | 1.365031e-05 | 2.558634e-45 |\n| 85 | 2.620240e-03 | 9.965759e-01 | 8.038336e-04 |\n| 107 | 9.180685e-08 | 7.285591e-04 | 9.992713e-01 |\n| 139 | 6.514943e-08 | 2.435064e-01 | 7.564935e-01 |\n| 73 | 3.952428e-10 | 5.969113e-01 | 4.030887e-01 |\n| 20 | 1.000000e+00 | 4.393611e-08 | 1.548311e-53 |\n| 46 | 9.999610e-01 | 3.900961e-05 | 1.693903e-46 |\n| 17 | 9.999990e-01 | 1.045777e-06 | 1.414574e-54 |\n| 54 | 8.782747e-07 | 9.999989e-01 | 2.582061e-07 |\n| 108 | 2.901029e-23 | 7.257192e-11 | 1.000000e+00 |\n| 75 | 1.503150e-07 | 9.999998e-01 | 9.999280e-11 |\n| 80 | 6.524539e-05 | 9.999348e-01 | 4.435145e-17 |\n| 71 | 5.145112e-06 | 5.767553e-01 | 4.232396e-01 |\n| 15 | 9.999974e-01 | 2.645523e-06 | 5.363139e-59 |\n| 24 | 9.998574e-01 | 1.426173e-04 | 9.632826e-44 |\n| 68 | 1.389918e-04 | 9.998610e-01 | 2.084883e-12 |\n| 133 | 4.493903e-23 | 4.265356e-12 | 1.000000e+00 |\n| 145 | 1.798902e-23 | 1.874643e-12 | 1.000000e+00 |\n| 29 | 9.999935e-01 | 6.502013e-06 | 1.149537e-51 |\n| 104 | 3.862159e-16 | 5.318898e-08 | 9.999999e-01 |\n| 45 | 9.999999e-01 | 8.685718e-08 | 1.437617e-48 |\n| 140 | 2.851417e-17 | 5.326544e-06 | 9.999947e-01 |\n| 101 | 1.018156e-25 | 1.204573e-16 | 1.000000e+00 |\n| 135 | 3.261981e-13 | 3.126364e-06 | 9.999969e-01 |\n| 95 | 5.101391e-05 | 9.999489e-01 | 8.433817e-08 |\n| 116 | 8.731995e-18 | 2.342046e-08 | 1.000000e+00 |\n| 5 | 9.999999e-01 | 6.839344e-08 | 6.509361e-54 |\n| 111 | 9.076472e-12 | 3.448369e-03 | 9.965516e-01 |\n| 94 | 2.059617e-03 | 9.979404e-01 | 6.112666e-15 |\n| 49 | 9.999996e-01 | 4.212521e-07 | 9.077323e-54 |\n\n",
            "text/latex": "A matrix: 120 × 3 of type dbl\n\\begin{tabular}{r|lll}\n  & setosa & versicolor & virginica\\\\\n\\hline\n\t14 & 1.000000e+00 & 3.281873e-08 & 1.587809e-52\\\\\n\t50 & 9.999973e-01 & 2.735069e-06 & 7.801278e-51\\\\\n\t118 & 9.626793e-24 & 1.199338e-12 & 1.000000e+00\\\\\n\t43 & 1.000000e+00 & 1.915765e-08 & 2.856899e-51\\\\\n\t150 & 2.488589e-10 & 2.447711e-04 & 9.997552e-01\\\\\n\t148 & 1.067095e-14 & 4.308072e-05 & 9.999569e-01\\\\\n\t90 & 1.027061e-05 & 9.999897e-01 & 2.676168e-08\\\\\n\t91 & 1.493468e-04 & 9.998464e-01 & 4.229918e-06\\\\\n\t143 & 9.162982e-15 & 3.665186e-07 & 9.999996e-01\\\\\n\t92 & 5.476620e-06 & 9.999924e-01 & 2.149935e-06\\\\\n\t137 & 1.004173e-19 & 1.757350e-11 & 1.000000e+00\\\\\n\t99 & 2.185638e-03 & 9.978144e-01 & 4.712331e-18\\\\\n\t72 & 7.644634e-07 & 9.999992e-01 & 6.373092e-12\\\\\n\t26 & 9.999097e-01 & 9.030503e-05 & 5.349455e-46\\\\\n\t7 & 1.000000e+00 & 3.508993e-08 & 8.501567e-51\\\\\n\t78 & 5.737482e-10 & 9.355118e-01 & 6.448818e-02\\\\\n\t81 & 2.084945e-05 & 9.999792e-01 & 1.254040e-11\\\\\n\t147 & 2.004312e-16 & 1.944226e-05 & 9.999806e-01\\\\\n\t103 & 6.924715e-23 & 2.227948e-10 & 1.000000e+00\\\\\n\t117 & 1.982645e-14 & 7.143388e-06 & 9.999929e-01\\\\\n\t76 & 2.399812e-08 & 1.000000e+00 & 5.046117e-10\\\\\n\t32 & 9.995963e-01 & 4.036602e-04 & 1.094087e-47\\\\\n\t106 & 1.594206e-29 & 4.944327e-15 & 1.000000e+00\\\\\n\t109 & 2.164224e-22 & 2.224297e-10 & 1.000000e+00\\\\\n\t136 & 3.924526e-28 & 4.709523e-12 & 1.000000e+00\\\\\n\t9 & 9.999993e-01 & 6.961620e-07 & 2.590000e-47\\\\\n\t41 & 9.999993e-01 & 7.463048e-07 & 2.592084e-52\\\\\n\t74 & 4.333022e-06 & 9.999939e-01 & 1.805273e-06\\\\\n\t23 & 1.000000e+00 & 1.517848e-09 & 8.115124e-58\\\\\n\t27 & 9.999944e-01 & 5.552261e-06 & 3.379595e-47\\\\\n\t⋮ & ⋮ & ⋮ & ⋮\\\\\n\t44 & 9.999863e-01 & 1.365031e-05 & 2.558634e-45\\\\\n\t85 & 2.620240e-03 & 9.965759e-01 & 8.038336e-04\\\\\n\t107 & 9.180685e-08 & 7.285591e-04 & 9.992713e-01\\\\\n\t139 & 6.514943e-08 & 2.435064e-01 & 7.564935e-01\\\\\n\t73 & 3.952428e-10 & 5.969113e-01 & 4.030887e-01\\\\\n\t20 & 1.000000e+00 & 4.393611e-08 & 1.548311e-53\\\\\n\t46 & 9.999610e-01 & 3.900961e-05 & 1.693903e-46\\\\\n\t17 & 9.999990e-01 & 1.045777e-06 & 1.414574e-54\\\\\n\t54 & 8.782747e-07 & 9.999989e-01 & 2.582061e-07\\\\\n\t108 & 2.901029e-23 & 7.257192e-11 & 1.000000e+00\\\\\n\t75 & 1.503150e-07 & 9.999998e-01 & 9.999280e-11\\\\\n\t80 & 6.524539e-05 & 9.999348e-01 & 4.435145e-17\\\\\n\t71 & 5.145112e-06 & 5.767553e-01 & 4.232396e-01\\\\\n\t15 & 9.999974e-01 & 2.645523e-06 & 5.363139e-59\\\\\n\t24 & 9.998574e-01 & 1.426173e-04 & 9.632826e-44\\\\\n\t68 & 1.389918e-04 & 9.998610e-01 & 2.084883e-12\\\\\n\t133 & 4.493903e-23 & 4.265356e-12 & 1.000000e+00\\\\\n\t145 & 1.798902e-23 & 1.874643e-12 & 1.000000e+00\\\\\n\t29 & 9.999935e-01 & 6.502013e-06 & 1.149537e-51\\\\\n\t104 & 3.862159e-16 & 5.318898e-08 & 9.999999e-01\\\\\n\t45 & 9.999999e-01 & 8.685718e-08 & 1.437617e-48\\\\\n\t140 & 2.851417e-17 & 5.326544e-06 & 9.999947e-01\\\\\n\t101 & 1.018156e-25 & 1.204573e-16 & 1.000000e+00\\\\\n\t135 & 3.261981e-13 & 3.126364e-06 & 9.999969e-01\\\\\n\t95 & 5.101391e-05 & 9.999489e-01 & 8.433817e-08\\\\\n\t116 & 8.731995e-18 & 2.342046e-08 & 1.000000e+00\\\\\n\t5 & 9.999999e-01 & 6.839344e-08 & 6.509361e-54\\\\\n\t111 & 9.076472e-12 & 3.448369e-03 & 9.965516e-01\\\\\n\t94 & 2.059617e-03 & 9.979404e-01 & 6.112666e-15\\\\\n\t49 & 9.999996e-01 & 4.212521e-07 & 9.077323e-54\\\\\n\\end{tabular}\n",
            "text/plain": [
              "    setosa       versicolor   virginica   \n",
              "14  1.000000e+00 3.281873e-08 1.587809e-52\n",
              "50  9.999973e-01 2.735069e-06 7.801278e-51\n",
              "118 9.626793e-24 1.199338e-12 1.000000e+00\n",
              "43  1.000000e+00 1.915765e-08 2.856899e-51\n",
              "150 2.488589e-10 2.447711e-04 9.997552e-01\n",
              "148 1.067095e-14 4.308072e-05 9.999569e-01\n",
              "90  1.027061e-05 9.999897e-01 2.676168e-08\n",
              "91  1.493468e-04 9.998464e-01 4.229918e-06\n",
              "143 9.162982e-15 3.665186e-07 9.999996e-01\n",
              "92  5.476620e-06 9.999924e-01 2.149935e-06\n",
              "137 1.004173e-19 1.757350e-11 1.000000e+00\n",
              "99  2.185638e-03 9.978144e-01 4.712331e-18\n",
              "72  7.644634e-07 9.999992e-01 6.373092e-12\n",
              "26  9.999097e-01 9.030503e-05 5.349455e-46\n",
              "7   1.000000e+00 3.508993e-08 8.501567e-51\n",
              "78  5.737482e-10 9.355118e-01 6.448818e-02\n",
              "81  2.084945e-05 9.999792e-01 1.254040e-11\n",
              "147 2.004312e-16 1.944226e-05 9.999806e-01\n",
              "103 6.924715e-23 2.227948e-10 1.000000e+00\n",
              "117 1.982645e-14 7.143388e-06 9.999929e-01\n",
              "76  2.399812e-08 1.000000e+00 5.046117e-10\n",
              "32  9.995963e-01 4.036602e-04 1.094087e-47\n",
              "106 1.594206e-29 4.944327e-15 1.000000e+00\n",
              "109 2.164224e-22 2.224297e-10 1.000000e+00\n",
              "136 3.924526e-28 4.709523e-12 1.000000e+00\n",
              "9   9.999993e-01 6.961620e-07 2.590000e-47\n",
              "41  9.999993e-01 7.463048e-07 2.592084e-52\n",
              "74  4.333022e-06 9.999939e-01 1.805273e-06\n",
              "23  1.000000e+00 1.517848e-09 8.115124e-58\n",
              "27  9.999944e-01 5.552261e-06 3.379595e-47\n",
              "⋮   ⋮            ⋮            ⋮           \n",
              "44  9.999863e-01 1.365031e-05 2.558634e-45\n",
              "85  2.620240e-03 9.965759e-01 8.038336e-04\n",
              "107 9.180685e-08 7.285591e-04 9.992713e-01\n",
              "139 6.514943e-08 2.435064e-01 7.564935e-01\n",
              "73  3.952428e-10 5.969113e-01 4.030887e-01\n",
              "20  1.000000e+00 4.393611e-08 1.548311e-53\n",
              "46  9.999610e-01 3.900961e-05 1.693903e-46\n",
              "17  9.999990e-01 1.045777e-06 1.414574e-54\n",
              "54  8.782747e-07 9.999989e-01 2.582061e-07\n",
              "108 2.901029e-23 7.257192e-11 1.000000e+00\n",
              "75  1.503150e-07 9.999998e-01 9.999280e-11\n",
              "80  6.524539e-05 9.999348e-01 4.435145e-17\n",
              "71  5.145112e-06 5.767553e-01 4.232396e-01\n",
              "15  9.999974e-01 2.645523e-06 5.363139e-59\n",
              "24  9.998574e-01 1.426173e-04 9.632826e-44\n",
              "68  1.389918e-04 9.998610e-01 2.084883e-12\n",
              "133 4.493903e-23 4.265356e-12 1.000000e+00\n",
              "145 1.798902e-23 1.874643e-12 1.000000e+00\n",
              "29  9.999935e-01 6.502013e-06 1.149537e-51\n",
              "104 3.862159e-16 5.318898e-08 9.999999e-01\n",
              "45  9.999999e-01 8.685718e-08 1.437617e-48\n",
              "140 2.851417e-17 5.326544e-06 9.999947e-01\n",
              "101 1.018156e-25 1.204573e-16 1.000000e+00\n",
              "135 3.261981e-13 3.126364e-06 9.999969e-01\n",
              "95  5.101391e-05 9.999489e-01 8.433817e-08\n",
              "116 8.731995e-18 2.342046e-08 1.000000e+00\n",
              "5   9.999999e-01 6.839344e-08 6.509361e-54\n",
              "111 9.076472e-12 3.448369e-03 9.965516e-01\n",
              "94  2.059617e-03 9.979404e-01 6.112666e-15\n",
              "49  9.999996e-01 4.212521e-07 9.077323e-54"
            ]
          },
          "metadata": {}
        }
      ]
    },
    {
      "cell_type": "code",
      "source": [
        "# 모델 평가 - 오차행렬\n",
        "result <- predict(model, newdata = test_dataset, type = \"class\")\n",
        "correct_model <- sum(result == test_dataset$species) / nrow(test_dataset)\n",
        "c_mat <- xtabs(~ result + test_dataset$species)\n",
        "c_mat\n",
        "\n",
        "# 모델평가 - 정확도\n",
        "acc <- (c_mat[1,1] + c_mat[2,2] + c_mat[3,3]) / nrow(test_dataset)\n",
        "acc"
      ],
      "metadata": {
        "colab": {
          "base_uri": "https://localhost:8080/",
          "height": 126
        },
        "id": "dFJQ5ykJTvUs",
        "outputId": "9552f2ad-10bf-439c-fec6-ec4377ac8350"
      },
      "execution_count": 53,
      "outputs": [
        {
          "output_type": "display_data",
          "data": {
            "text/plain": [
              "            test_dataset$species\n",
              "result       setosa versicolor virginica\n",
              "  setosa         10          0         0\n",
              "  versicolor      0         14         0\n",
              "  virginica       0          1         5"
            ]
          },
          "metadata": {}
        },
        {
          "output_type": "display_data",
          "data": {
            "text/html": [
              "0.966666666666667"
            ],
            "text/markdown": "0.966666666666667",
            "text/latex": "0.966666666666667",
            "text/plain": [
              "[1] 0.9666667"
            ]
          },
          "metadata": {}
        }
      ]
    },
    {
      "cell_type": "markdown",
      "source": [
        ">>>**05 랜덤 포레스트를 이용한 분류 문제 해결**"
      ],
      "metadata": {
        "id": "_2Qq031YT10d"
      }
    },
    {
      "cell_type": "code",
      "source": [
        "library(dplyr) # dplyr 패키지 임포트\n",
        "library(ggplot2) # ggplot2 패키지 임포트\n",
        "\n",
        "# 랜덤 포레스트 분류모델을 위한 패키지 임포트\n",
        "install.packages(\"randomForest\")\n",
        "library(randomForest)       # randomForest() 함수 포함 패키지"
      ],
      "metadata": {
        "colab": {
          "base_uri": "https://localhost:8080/"
        },
        "id": "03ynlXQxT5Zn",
        "outputId": "9ae258f8-3183-4418-f286-18425410b6af"
      },
      "execution_count": 54,
      "outputs": [
        {
          "output_type": "stream",
          "name": "stderr",
          "text": [
            "Installing package into ‘/usr/local/lib/R/site-library’\n",
            "(as ‘lib’ is unspecified)\n",
            "\n",
            "randomForest 4.7-1\n",
            "\n",
            "Type rfNews() to see new features/changes/bug fixes.\n",
            "\n",
            "\n",
            "Attaching package: ‘randomForest’\n",
            "\n",
            "\n",
            "The following object is masked from ‘package:ggplot2’:\n",
            "\n",
            "    margin\n",
            "\n",
            "\n",
            "The following object is masked from ‘package:dplyr’:\n",
            "\n",
            "    combine\n",
            "\n",
            "\n"
          ]
        }
      ]
    },
    {
      "cell_type": "code",
      "source": [
        "# 깃허브에 공개되어 있는 csv 파일을 읽어와서 데이터프레임 df로 넣는다.\n",
        "df = read.csv(\"https://raw.githubusercontent.com/datasciencedojo/datasets/master/titanic.csv\", stringsAsFactors=TRUE)"
      ],
      "metadata": {
        "id": "LRi63PnhT_z-"
      },
      "execution_count": 55,
      "outputs": []
    },
    {
      "cell_type": "code",
      "source": [
        "summary(df)     # 데이터프레임의 기술통계 및 결측치 확인"
      ],
      "metadata": {
        "colab": {
          "base_uri": "https://localhost:8080/",
          "height": 605
        },
        "id": "GIg00cvaUDKT",
        "outputId": "6a22cd1c-7087-4d7d-de2b-851300853492"
      },
      "execution_count": 56,
      "outputs": [
        {
          "output_type": "display_data",
          "data": {
            "text/plain": [
              "  PassengerId       Survived          Pclass     \n",
              " Min.   :  1.0   Min.   :0.0000   Min.   :1.000  \n",
              " 1st Qu.:223.5   1st Qu.:0.0000   1st Qu.:2.000  \n",
              " Median :446.0   Median :0.0000   Median :3.000  \n",
              " Mean   :446.0   Mean   :0.3838   Mean   :2.309  \n",
              " 3rd Qu.:668.5   3rd Qu.:1.0000   3rd Qu.:3.000  \n",
              " Max.   :891.0   Max.   :1.0000   Max.   :3.000  \n",
              "                                                 \n",
              "                                    Name         Sex           Age       \n",
              " Abbing, Mr. Anthony                  :  1   female:314   Min.   : 0.42  \n",
              " Abbott, Mr. Rossmore Edward          :  1   male  :577   1st Qu.:20.12  \n",
              " Abbott, Mrs. Stanton (Rosa Hunt)     :  1                Median :28.00  \n",
              " Abelson, Mr. Samuel                  :  1                Mean   :29.70  \n",
              " Abelson, Mrs. Samuel (Hannah Wizosky):  1                3rd Qu.:38.00  \n",
              " Adahl, Mr. Mauritz Nils Martin       :  1                Max.   :80.00  \n",
              " (Other)                              :885                NA's   :177    \n",
              "     SibSp           Parch             Ticket         Fare       \n",
              " Min.   :0.000   Min.   :0.0000   1601    :  7   Min.   :  0.00  \n",
              " 1st Qu.:0.000   1st Qu.:0.0000   347082  :  7   1st Qu.:  7.91  \n",
              " Median :0.000   Median :0.0000   CA. 2343:  7   Median : 14.45  \n",
              " Mean   :0.523   Mean   :0.3816   3101295 :  6   Mean   : 32.20  \n",
              " 3rd Qu.:1.000   3rd Qu.:0.0000   347088  :  6   3rd Qu.: 31.00  \n",
              " Max.   :8.000   Max.   :6.0000   CA 2144 :  6   Max.   :512.33  \n",
              "                                  (Other) :852                   \n",
              "         Cabin     Embarked\n",
              "            :687    :  2   \n",
              " B96 B98    :  4   C:168   \n",
              " C23 C25 C27:  4   Q: 77   \n",
              " G6         :  4   S:644   \n",
              " C22 C26    :  3           \n",
              " D          :  3           \n",
              " (Other)    :186           "
            ]
          },
          "metadata": {}
        }
      ]
    },
    {
      "cell_type": "code",
      "source": [
        "# Age 컬럼의 결측값을 평균으로 대치한다.\n",
        "d_mean = mean(df$Age, na.rm=TRUE)                 # 결측치를 제외한 평균\n",
        "df$Age = ifelse(is.na(df$Age), d_mean, df$Age)    # 평균으로 대치\n",
        "\n",
        "# Embarked 컬럼의 결측값을 최빈값 S로 대치한다.\n",
        "df$Embarked = replace(df$Embarked, df$Embarked==\"\", \"S\")"
      ],
      "metadata": {
        "id": "lVuiuT8lUHen"
      },
      "execution_count": 57,
      "outputs": []
    },
    {
      "cell_type": "code",
      "source": [
        "# Sex 컬럼은 레이블 인코딩을 수행\n",
        "# male: 1, female: 2\n",
        "df$Sex <- as.numeric(factor(df$Sex), level=c(\"male\", \"female\"))\n",
        "\n",
        "# Embarked 컬럼은 레이블 인코딩을 수행\n",
        "# C: 1, Q: 2, S: 3\n",
        "df$Embarked <- as.numeric(factor(df$Embarked), level=c(\"C\",\"Q\",\"S\"))"
      ],
      "metadata": {
        "id": "dK43X10FUM8c"
      },
      "execution_count": 59,
      "outputs": []
    },
    {
      "cell_type": "code",
      "source": [
        "str(df)"
      ],
      "metadata": {
        "colab": {
          "base_uri": "https://localhost:8080/"
        },
        "id": "57brpxTxUSDs",
        "outputId": "2b113e48-6f02-4de3-bb52-c507baf48286"
      },
      "execution_count": 60,
      "outputs": [
        {
          "output_type": "stream",
          "name": "stdout",
          "text": [
            "'data.frame':\t891 obs. of  12 variables:\n",
            " $ PassengerId: int  1 2 3 4 5 6 7 8 9 10 ...\n",
            " $ Survived   : int  0 1 1 1 0 0 0 0 1 1 ...\n",
            " $ Pclass     : int  3 1 3 1 3 3 1 3 3 2 ...\n",
            " $ Name       : Factor w/ 891 levels \"Abbing, Mr. Anthony\",..: 109 191 358 277 16 559 520 629 417 581 ...\n",
            " $ Sex        : num  2 1 1 1 2 2 2 2 1 1 ...\n",
            " $ Age        : num  22 38 26 35 35 ...\n",
            " $ SibSp      : int  1 1 0 1 0 0 0 3 0 1 ...\n",
            " $ Parch      : int  0 0 0 0 0 0 0 1 2 0 ...\n",
            " $ Ticket     : Factor w/ 681 levels \"110152\",\"110413\",..: 524 597 670 50 473 276 86 396 345 133 ...\n",
            " $ Fare       : num  7.25 71.28 7.92 53.1 8.05 ...\n",
            " $ Cabin      : Factor w/ 148 levels \"\",\"A10\",\"A14\",..: 1 83 1 57 1 1 131 1 1 1 ...\n",
            " $ Embarked   : num  3 1 3 3 3 2 3 3 3 1 ...\n"
          ]
        }
      ]
    },
    {
      "cell_type": "code",
      "source": [
        "# Family_size 변수 생성, SibSp + Parch\n",
        "df$FamilySize <- df$SibSp + df$Parch\n",
        "df"
      ],
      "metadata": {
        "colab": {
          "base_uri": "https://localhost:8080/",
          "height": 1000
        },
        "id": "4AYFbDaDUZnn",
        "outputId": "3b6cabe4-ad2e-4eda-b55d-b35e7499d4af"
      },
      "execution_count": 61,
      "outputs": [
        {
          "output_type": "display_data",
          "data": {
            "text/html": [
              "<table class=\"dataframe\">\n",
              "<caption>A data.frame: 891 × 13</caption>\n",
              "<thead>\n",
              "\t<tr><th scope=col>PassengerId</th><th scope=col>Survived</th><th scope=col>Pclass</th><th scope=col>Name</th><th scope=col>Sex</th><th scope=col>Age</th><th scope=col>SibSp</th><th scope=col>Parch</th><th scope=col>Ticket</th><th scope=col>Fare</th><th scope=col>Cabin</th><th scope=col>Embarked</th><th scope=col>FamilySize</th></tr>\n",
              "\t<tr><th scope=col>&lt;int&gt;</th><th scope=col>&lt;int&gt;</th><th scope=col>&lt;int&gt;</th><th scope=col>&lt;fct&gt;</th><th scope=col>&lt;dbl&gt;</th><th scope=col>&lt;dbl&gt;</th><th scope=col>&lt;int&gt;</th><th scope=col>&lt;int&gt;</th><th scope=col>&lt;fct&gt;</th><th scope=col>&lt;dbl&gt;</th><th scope=col>&lt;fct&gt;</th><th scope=col>&lt;dbl&gt;</th><th scope=col>&lt;int&gt;</th></tr>\n",
              "</thead>\n",
              "<tbody>\n",
              "\t<tr><td> 1</td><td>0</td><td>3</td><td>Braund, Mr. Owen Harris                                  </td><td>2</td><td>22.00000</td><td>1</td><td>0</td><td>A/5 21171       </td><td>  7.2500</td><td>           </td><td>3</td><td>1</td></tr>\n",
              "\t<tr><td> 2</td><td>1</td><td>1</td><td>Cumings, Mrs. John Bradley (Florence Briggs Thayer)      </td><td>1</td><td>38.00000</td><td>1</td><td>0</td><td>PC 17599        </td><td> 71.2833</td><td>C85        </td><td>1</td><td>1</td></tr>\n",
              "\t<tr><td> 3</td><td>1</td><td>3</td><td>Heikkinen, Miss. Laina                                   </td><td>1</td><td>26.00000</td><td>0</td><td>0</td><td>STON/O2. 3101282</td><td>  7.9250</td><td>           </td><td>3</td><td>0</td></tr>\n",
              "\t<tr><td> 4</td><td>1</td><td>1</td><td>Futrelle, Mrs. Jacques Heath (Lily May Peel)             </td><td>1</td><td>35.00000</td><td>1</td><td>0</td><td>113803          </td><td> 53.1000</td><td>C123       </td><td>3</td><td>1</td></tr>\n",
              "\t<tr><td> 5</td><td>0</td><td>3</td><td>Allen, Mr. William Henry                                 </td><td>2</td><td>35.00000</td><td>0</td><td>0</td><td>373450          </td><td>  8.0500</td><td>           </td><td>3</td><td>0</td></tr>\n",
              "\t<tr><td> 6</td><td>0</td><td>3</td><td>Moran, Mr. James                                         </td><td>2</td><td>29.69912</td><td>0</td><td>0</td><td>330877          </td><td>  8.4583</td><td>           </td><td>2</td><td>0</td></tr>\n",
              "\t<tr><td> 7</td><td>0</td><td>1</td><td>McCarthy, Mr. Timothy J                                  </td><td>2</td><td>54.00000</td><td>0</td><td>0</td><td>17463           </td><td> 51.8625</td><td>E46        </td><td>3</td><td>0</td></tr>\n",
              "\t<tr><td> 8</td><td>0</td><td>3</td><td>Palsson, Master. Gosta Leonard                           </td><td>2</td><td> 2.00000</td><td>3</td><td>1</td><td>349909          </td><td> 21.0750</td><td>           </td><td>3</td><td>4</td></tr>\n",
              "\t<tr><td> 9</td><td>1</td><td>3</td><td>Johnson, Mrs. Oscar W (Elisabeth Vilhelmina Berg)        </td><td>1</td><td>27.00000</td><td>0</td><td>2</td><td>347742          </td><td> 11.1333</td><td>           </td><td>3</td><td>2</td></tr>\n",
              "\t<tr><td>10</td><td>1</td><td>2</td><td>Nasser, Mrs. Nicholas (Adele Achem)                      </td><td>1</td><td>14.00000</td><td>1</td><td>0</td><td>237736          </td><td> 30.0708</td><td>           </td><td>1</td><td>1</td></tr>\n",
              "\t<tr><td>11</td><td>1</td><td>3</td><td>Sandstrom, Miss. Marguerite Rut                          </td><td>1</td><td> 4.00000</td><td>1</td><td>1</td><td>PP 9549         </td><td> 16.7000</td><td>G6         </td><td>3</td><td>2</td></tr>\n",
              "\t<tr><td>12</td><td>1</td><td>1</td><td>Bonnell, Miss. Elizabeth                                 </td><td>1</td><td>58.00000</td><td>0</td><td>0</td><td>113783          </td><td> 26.5500</td><td>C103       </td><td>3</td><td>0</td></tr>\n",
              "\t<tr><td>13</td><td>0</td><td>3</td><td>Saundercock, Mr. William Henry                           </td><td>2</td><td>20.00000</td><td>0</td><td>0</td><td>A/5. 2151       </td><td>  8.0500</td><td>           </td><td>3</td><td>0</td></tr>\n",
              "\t<tr><td>14</td><td>0</td><td>3</td><td>Andersson, Mr. Anders Johan                              </td><td>2</td><td>39.00000</td><td>1</td><td>5</td><td>347082          </td><td> 31.2750</td><td>           </td><td>3</td><td>6</td></tr>\n",
              "\t<tr><td>15</td><td>0</td><td>3</td><td>Vestrom, Miss. Hulda Amanda Adolfina                     </td><td>1</td><td>14.00000</td><td>0</td><td>0</td><td>350406          </td><td>  7.8542</td><td>           </td><td>3</td><td>0</td></tr>\n",
              "\t<tr><td>16</td><td>1</td><td>2</td><td>Hewlett, Mrs. (Mary D Kingcome)                          </td><td>1</td><td>55.00000</td><td>0</td><td>0</td><td>248706          </td><td> 16.0000</td><td>           </td><td>3</td><td>0</td></tr>\n",
              "\t<tr><td>17</td><td>0</td><td>3</td><td>Rice, Master. Eugene                                     </td><td>2</td><td> 2.00000</td><td>4</td><td>1</td><td>382652          </td><td> 29.1250</td><td>           </td><td>2</td><td>5</td></tr>\n",
              "\t<tr><td>18</td><td>1</td><td>2</td><td>Williams, Mr. Charles Eugene                             </td><td>2</td><td>29.69912</td><td>0</td><td>0</td><td>244373          </td><td> 13.0000</td><td>           </td><td>3</td><td>0</td></tr>\n",
              "\t<tr><td>19</td><td>0</td><td>3</td><td>Vander Planke, Mrs. Julius (Emelia Maria Vandemoortele)  </td><td>1</td><td>31.00000</td><td>1</td><td>0</td><td>345763          </td><td> 18.0000</td><td>           </td><td>3</td><td>1</td></tr>\n",
              "\t<tr><td>20</td><td>1</td><td>3</td><td>Masselmani, Mrs. Fatima                                  </td><td>1</td><td>29.69912</td><td>0</td><td>0</td><td>2649            </td><td>  7.2250</td><td>           </td><td>1</td><td>0</td></tr>\n",
              "\t<tr><td>21</td><td>0</td><td>2</td><td>Fynney, Mr. Joseph J                                     </td><td>2</td><td>35.00000</td><td>0</td><td>0</td><td>239865          </td><td> 26.0000</td><td>           </td><td>3</td><td>0</td></tr>\n",
              "\t<tr><td>22</td><td>1</td><td>2</td><td>Beesley, Mr. Lawrence                                    </td><td>2</td><td>34.00000</td><td>0</td><td>0</td><td>248698          </td><td> 13.0000</td><td>D56        </td><td>3</td><td>0</td></tr>\n",
              "\t<tr><td>23</td><td>1</td><td>3</td><td>McGowan, Miss. Anna \"Annie\"                              </td><td>1</td><td>15.00000</td><td>0</td><td>0</td><td>330923          </td><td>  8.0292</td><td>           </td><td>2</td><td>0</td></tr>\n",
              "\t<tr><td>24</td><td>1</td><td>1</td><td>Sloper, Mr. William Thompson                             </td><td>2</td><td>28.00000</td><td>0</td><td>0</td><td>113788          </td><td> 35.5000</td><td>A6         </td><td>3</td><td>0</td></tr>\n",
              "\t<tr><td>25</td><td>0</td><td>3</td><td>Palsson, Miss. Torborg Danira                            </td><td>1</td><td> 8.00000</td><td>3</td><td>1</td><td>349909          </td><td> 21.0750</td><td>           </td><td>3</td><td>4</td></tr>\n",
              "\t<tr><td>26</td><td>1</td><td>3</td><td>Asplund, Mrs. Carl Oscar (Selma Augusta Emilia Johansson)</td><td>1</td><td>38.00000</td><td>1</td><td>5</td><td>347077          </td><td> 31.3875</td><td>           </td><td>3</td><td>6</td></tr>\n",
              "\t<tr><td>27</td><td>0</td><td>3</td><td>Emir, Mr. Farred Chehab                                  </td><td>2</td><td>29.69912</td><td>0</td><td>0</td><td>2631            </td><td>  7.2250</td><td>           </td><td>1</td><td>0</td></tr>\n",
              "\t<tr><td>28</td><td>0</td><td>1</td><td>Fortune, Mr. Charles Alexander                           </td><td>2</td><td>19.00000</td><td>3</td><td>2</td><td>19950           </td><td>263.0000</td><td>C23 C25 C27</td><td>3</td><td>5</td></tr>\n",
              "\t<tr><td>29</td><td>1</td><td>3</td><td>O'Dwyer, Miss. Ellen \"Nellie\"                            </td><td>1</td><td>29.69912</td><td>0</td><td>0</td><td>330959          </td><td>  7.8792</td><td>           </td><td>2</td><td>0</td></tr>\n",
              "\t<tr><td>30</td><td>0</td><td>3</td><td>Todoroff, Mr. Lalio                                      </td><td>2</td><td>29.69912</td><td>0</td><td>0</td><td>349216          </td><td>  7.8958</td><td>           </td><td>3</td><td>0</td></tr>\n",
              "\t<tr><td>⋮</td><td>⋮</td><td>⋮</td><td>⋮</td><td>⋮</td><td>⋮</td><td>⋮</td><td>⋮</td><td>⋮</td><td>⋮</td><td>⋮</td><td>⋮</td><td>⋮</td></tr>\n",
              "\t<tr><td>862</td><td>0</td><td>2</td><td>Giles, Mr. Frederick Edward                        </td><td>2</td><td>21.00000</td><td>1</td><td>0</td><td>28134           </td><td>11.5000</td><td>           </td><td>3</td><td> 1</td></tr>\n",
              "\t<tr><td>863</td><td>1</td><td>1</td><td>Swift, Mrs. Frederick Joel (Margaret Welles Barron)</td><td>1</td><td>48.00000</td><td>0</td><td>0</td><td>17466           </td><td>25.9292</td><td>D17        </td><td>3</td><td> 0</td></tr>\n",
              "\t<tr><td>864</td><td>0</td><td>3</td><td>Sage, Miss. Dorothy Edith \"Dolly\"                  </td><td>1</td><td>29.69912</td><td>8</td><td>2</td><td>CA. 2343        </td><td>69.5500</td><td>           </td><td>3</td><td>10</td></tr>\n",
              "\t<tr><td>865</td><td>0</td><td>2</td><td>Gill, Mr. John William                             </td><td>2</td><td>24.00000</td><td>0</td><td>0</td><td>233866          </td><td>13.0000</td><td>           </td><td>3</td><td> 0</td></tr>\n",
              "\t<tr><td>866</td><td>1</td><td>2</td><td>Bystrom, Mrs. (Karolina)                           </td><td>1</td><td>42.00000</td><td>0</td><td>0</td><td>236852          </td><td>13.0000</td><td>           </td><td>3</td><td> 0</td></tr>\n",
              "\t<tr><td>867</td><td>1</td><td>2</td><td>Duran y More, Miss. Asuncion                       </td><td>1</td><td>27.00000</td><td>1</td><td>0</td><td>SC/PARIS 2149   </td><td>13.8583</td><td>           </td><td>1</td><td> 1</td></tr>\n",
              "\t<tr><td>868</td><td>0</td><td>1</td><td>Roebling, Mr. Washington Augustus II               </td><td>2</td><td>31.00000</td><td>0</td><td>0</td><td>PC 17590        </td><td>50.4958</td><td>A24        </td><td>3</td><td> 0</td></tr>\n",
              "\t<tr><td>869</td><td>0</td><td>3</td><td>van Melkebeke, Mr. Philemon                        </td><td>2</td><td>29.69912</td><td>0</td><td>0</td><td>345777          </td><td> 9.5000</td><td>           </td><td>3</td><td> 0</td></tr>\n",
              "\t<tr><td>870</td><td>1</td><td>3</td><td>Johnson, Master. Harold Theodor                    </td><td>2</td><td> 4.00000</td><td>1</td><td>1</td><td>347742          </td><td>11.1333</td><td>           </td><td>3</td><td> 2</td></tr>\n",
              "\t<tr><td>871</td><td>0</td><td>3</td><td>Balkic, Mr. Cerin                                  </td><td>2</td><td>26.00000</td><td>0</td><td>0</td><td>349248          </td><td> 7.8958</td><td>           </td><td>3</td><td> 0</td></tr>\n",
              "\t<tr><td>872</td><td>1</td><td>1</td><td>Beckwith, Mrs. Richard Leonard (Sallie Monypeny)   </td><td>1</td><td>47.00000</td><td>1</td><td>1</td><td>11751           </td><td>52.5542</td><td>D35        </td><td>3</td><td> 2</td></tr>\n",
              "\t<tr><td>873</td><td>0</td><td>1</td><td>Carlsson, Mr. Frans Olof                           </td><td>2</td><td>33.00000</td><td>0</td><td>0</td><td>695             </td><td> 5.0000</td><td>B51 B53 B55</td><td>3</td><td> 0</td></tr>\n",
              "\t<tr><td>874</td><td>0</td><td>3</td><td>Vander Cruyssen, Mr. Victor                        </td><td>2</td><td>47.00000</td><td>0</td><td>0</td><td>345765          </td><td> 9.0000</td><td>           </td><td>3</td><td> 0</td></tr>\n",
              "\t<tr><td>875</td><td>1</td><td>2</td><td>Abelson, Mrs. Samuel (Hannah Wizosky)              </td><td>1</td><td>28.00000</td><td>1</td><td>0</td><td>P/PP 3381       </td><td>24.0000</td><td>           </td><td>1</td><td> 1</td></tr>\n",
              "\t<tr><td>876</td><td>1</td><td>3</td><td>Najib, Miss. Adele Kiamie \"Jane\"                   </td><td>1</td><td>15.00000</td><td>0</td><td>0</td><td>2667            </td><td> 7.2250</td><td>           </td><td>1</td><td> 0</td></tr>\n",
              "\t<tr><td>877</td><td>0</td><td>3</td><td>Gustafsson, Mr. Alfred Ossian                      </td><td>2</td><td>20.00000</td><td>0</td><td>0</td><td>7534            </td><td> 9.8458</td><td>           </td><td>3</td><td> 0</td></tr>\n",
              "\t<tr><td>878</td><td>0</td><td>3</td><td>Petroff, Mr. Nedelio                               </td><td>2</td><td>19.00000</td><td>0</td><td>0</td><td>349212          </td><td> 7.8958</td><td>           </td><td>3</td><td> 0</td></tr>\n",
              "\t<tr><td>879</td><td>0</td><td>3</td><td>Laleff, Mr. Kristo                                 </td><td>2</td><td>29.69912</td><td>0</td><td>0</td><td>349217          </td><td> 7.8958</td><td>           </td><td>3</td><td> 0</td></tr>\n",
              "\t<tr><td>880</td><td>1</td><td>1</td><td>Potter, Mrs. Thomas Jr (Lily Alexenia Wilson)      </td><td>1</td><td>56.00000</td><td>0</td><td>1</td><td>11767           </td><td>83.1583</td><td>C50        </td><td>1</td><td> 1</td></tr>\n",
              "\t<tr><td>881</td><td>1</td><td>2</td><td>Shelley, Mrs. William (Imanita Parrish Hall)       </td><td>1</td><td>25.00000</td><td>0</td><td>1</td><td>230433          </td><td>26.0000</td><td>           </td><td>3</td><td> 1</td></tr>\n",
              "\t<tr><td>882</td><td>0</td><td>3</td><td>Markun, Mr. Johann                                 </td><td>2</td><td>33.00000</td><td>0</td><td>0</td><td>349257          </td><td> 7.8958</td><td>           </td><td>3</td><td> 0</td></tr>\n",
              "\t<tr><td>883</td><td>0</td><td>3</td><td>Dahlberg, Miss. Gerda Ulrika                       </td><td>1</td><td>22.00000</td><td>0</td><td>0</td><td>7552            </td><td>10.5167</td><td>           </td><td>3</td><td> 0</td></tr>\n",
              "\t<tr><td>884</td><td>0</td><td>2</td><td>Banfield, Mr. Frederick James                      </td><td>2</td><td>28.00000</td><td>0</td><td>0</td><td>C.A./SOTON 34068</td><td>10.5000</td><td>           </td><td>3</td><td> 0</td></tr>\n",
              "\t<tr><td>885</td><td>0</td><td>3</td><td>Sutehall, Mr. Henry Jr                             </td><td>2</td><td>25.00000</td><td>0</td><td>0</td><td>SOTON/OQ 392076 </td><td> 7.0500</td><td>           </td><td>3</td><td> 0</td></tr>\n",
              "\t<tr><td>886</td><td>0</td><td>3</td><td>Rice, Mrs. William (Margaret Norton)               </td><td>1</td><td>39.00000</td><td>0</td><td>5</td><td>382652          </td><td>29.1250</td><td>           </td><td>2</td><td> 5</td></tr>\n",
              "\t<tr><td>887</td><td>0</td><td>2</td><td>Montvila, Rev. Juozas                              </td><td>2</td><td>27.00000</td><td>0</td><td>0</td><td>211536          </td><td>13.0000</td><td>           </td><td>3</td><td> 0</td></tr>\n",
              "\t<tr><td>888</td><td>1</td><td>1</td><td>Graham, Miss. Margaret Edith                       </td><td>1</td><td>19.00000</td><td>0</td><td>0</td><td>112053          </td><td>30.0000</td><td>B42        </td><td>3</td><td> 0</td></tr>\n",
              "\t<tr><td>889</td><td>0</td><td>3</td><td>Johnston, Miss. Catherine Helen \"Carrie\"           </td><td>1</td><td>29.69912</td><td>1</td><td>2</td><td>W./C. 6607      </td><td>23.4500</td><td>           </td><td>3</td><td> 3</td></tr>\n",
              "\t<tr><td>890</td><td>1</td><td>1</td><td>Behr, Mr. Karl Howell                              </td><td>2</td><td>26.00000</td><td>0</td><td>0</td><td>111369          </td><td>30.0000</td><td>C148       </td><td>1</td><td> 0</td></tr>\n",
              "\t<tr><td>891</td><td>0</td><td>3</td><td>Dooley, Mr. Patrick                                </td><td>2</td><td>32.00000</td><td>0</td><td>0</td><td>370376          </td><td> 7.7500</td><td>           </td><td>2</td><td> 0</td></tr>\n",
              "</tbody>\n",
              "</table>\n"
            ],
            "text/markdown": "\nA data.frame: 891 × 13\n\n| PassengerId &lt;int&gt; | Survived &lt;int&gt; | Pclass &lt;int&gt; | Name &lt;fct&gt; | Sex &lt;dbl&gt; | Age &lt;dbl&gt; | SibSp &lt;int&gt; | Parch &lt;int&gt; | Ticket &lt;fct&gt; | Fare &lt;dbl&gt; | Cabin &lt;fct&gt; | Embarked &lt;dbl&gt; | FamilySize &lt;int&gt; |\n|---|---|---|---|---|---|---|---|---|---|---|---|---|\n|  1 | 0 | 3 | Braund, Mr. Owen Harris                                   | 2 | 22.00000 | 1 | 0 | A/5 21171        |   7.2500 | <!----> | 3 | 1 |\n|  2 | 1 | 1 | Cumings, Mrs. John Bradley (Florence Briggs Thayer)       | 1 | 38.00000 | 1 | 0 | PC 17599         |  71.2833 | C85         | 1 | 1 |\n|  3 | 1 | 3 | Heikkinen, Miss. Laina                                    | 1 | 26.00000 | 0 | 0 | STON/O2. 3101282 |   7.9250 | <!----> | 3 | 0 |\n|  4 | 1 | 1 | Futrelle, Mrs. Jacques Heath (Lily May Peel)              | 1 | 35.00000 | 1 | 0 | 113803           |  53.1000 | C123        | 3 | 1 |\n|  5 | 0 | 3 | Allen, Mr. William Henry                                  | 2 | 35.00000 | 0 | 0 | 373450           |   8.0500 | <!----> | 3 | 0 |\n|  6 | 0 | 3 | Moran, Mr. James                                          | 2 | 29.69912 | 0 | 0 | 330877           |   8.4583 | <!----> | 2 | 0 |\n|  7 | 0 | 1 | McCarthy, Mr. Timothy J                                   | 2 | 54.00000 | 0 | 0 | 17463            |  51.8625 | E46         | 3 | 0 |\n|  8 | 0 | 3 | Palsson, Master. Gosta Leonard                            | 2 |  2.00000 | 3 | 1 | 349909           |  21.0750 | <!----> | 3 | 4 |\n|  9 | 1 | 3 | Johnson, Mrs. Oscar W (Elisabeth Vilhelmina Berg)         | 1 | 27.00000 | 0 | 2 | 347742           |  11.1333 | <!----> | 3 | 2 |\n| 10 | 1 | 2 | Nasser, Mrs. Nicholas (Adele Achem)                       | 1 | 14.00000 | 1 | 0 | 237736           |  30.0708 | <!----> | 1 | 1 |\n| 11 | 1 | 3 | Sandstrom, Miss. Marguerite Rut                           | 1 |  4.00000 | 1 | 1 | PP 9549          |  16.7000 | G6          | 3 | 2 |\n| 12 | 1 | 1 | Bonnell, Miss. Elizabeth                                  | 1 | 58.00000 | 0 | 0 | 113783           |  26.5500 | C103        | 3 | 0 |\n| 13 | 0 | 3 | Saundercock, Mr. William Henry                            | 2 | 20.00000 | 0 | 0 | A/5. 2151        |   8.0500 | <!----> | 3 | 0 |\n| 14 | 0 | 3 | Andersson, Mr. Anders Johan                               | 2 | 39.00000 | 1 | 5 | 347082           |  31.2750 | <!----> | 3 | 6 |\n| 15 | 0 | 3 | Vestrom, Miss. Hulda Amanda Adolfina                      | 1 | 14.00000 | 0 | 0 | 350406           |   7.8542 | <!----> | 3 | 0 |\n| 16 | 1 | 2 | Hewlett, Mrs. (Mary D Kingcome)                           | 1 | 55.00000 | 0 | 0 | 248706           |  16.0000 | <!----> | 3 | 0 |\n| 17 | 0 | 3 | Rice, Master. Eugene                                      | 2 |  2.00000 | 4 | 1 | 382652           |  29.1250 | <!----> | 2 | 5 |\n| 18 | 1 | 2 | Williams, Mr. Charles Eugene                              | 2 | 29.69912 | 0 | 0 | 244373           |  13.0000 | <!----> | 3 | 0 |\n| 19 | 0 | 3 | Vander Planke, Mrs. Julius (Emelia Maria Vandemoortele)   | 1 | 31.00000 | 1 | 0 | 345763           |  18.0000 | <!----> | 3 | 1 |\n| 20 | 1 | 3 | Masselmani, Mrs. Fatima                                   | 1 | 29.69912 | 0 | 0 | 2649             |   7.2250 | <!----> | 1 | 0 |\n| 21 | 0 | 2 | Fynney, Mr. Joseph J                                      | 2 | 35.00000 | 0 | 0 | 239865           |  26.0000 | <!----> | 3 | 0 |\n| 22 | 1 | 2 | Beesley, Mr. Lawrence                                     | 2 | 34.00000 | 0 | 0 | 248698           |  13.0000 | D56         | 3 | 0 |\n| 23 | 1 | 3 | McGowan, Miss. Anna \"Annie\"                               | 1 | 15.00000 | 0 | 0 | 330923           |   8.0292 | <!----> | 2 | 0 |\n| 24 | 1 | 1 | Sloper, Mr. William Thompson                              | 2 | 28.00000 | 0 | 0 | 113788           |  35.5000 | A6          | 3 | 0 |\n| 25 | 0 | 3 | Palsson, Miss. Torborg Danira                             | 1 |  8.00000 | 3 | 1 | 349909           |  21.0750 | <!----> | 3 | 4 |\n| 26 | 1 | 3 | Asplund, Mrs. Carl Oscar (Selma Augusta Emilia Johansson) | 1 | 38.00000 | 1 | 5 | 347077           |  31.3875 | <!----> | 3 | 6 |\n| 27 | 0 | 3 | Emir, Mr. Farred Chehab                                   | 2 | 29.69912 | 0 | 0 | 2631             |   7.2250 | <!----> | 1 | 0 |\n| 28 | 0 | 1 | Fortune, Mr. Charles Alexander                            | 2 | 19.00000 | 3 | 2 | 19950            | 263.0000 | C23 C25 C27 | 3 | 5 |\n| 29 | 1 | 3 | O'Dwyer, Miss. Ellen \"Nellie\"                             | 1 | 29.69912 | 0 | 0 | 330959           |   7.8792 | <!----> | 2 | 0 |\n| 30 | 0 | 3 | Todoroff, Mr. Lalio                                       | 2 | 29.69912 | 0 | 0 | 349216           |   7.8958 | <!----> | 3 | 0 |\n| ⋮ | ⋮ | ⋮ | ⋮ | ⋮ | ⋮ | ⋮ | ⋮ | ⋮ | ⋮ | ⋮ | ⋮ | ⋮ |\n| 862 | 0 | 2 | Giles, Mr. Frederick Edward                         | 2 | 21.00000 | 1 | 0 | 28134            | 11.5000 | <!----> | 3 |  1 |\n| 863 | 1 | 1 | Swift, Mrs. Frederick Joel (Margaret Welles Barron) | 1 | 48.00000 | 0 | 0 | 17466            | 25.9292 | D17         | 3 |  0 |\n| 864 | 0 | 3 | Sage, Miss. Dorothy Edith \"Dolly\"                   | 1 | 29.69912 | 8 | 2 | CA. 2343         | 69.5500 | <!----> | 3 | 10 |\n| 865 | 0 | 2 | Gill, Mr. John William                              | 2 | 24.00000 | 0 | 0 | 233866           | 13.0000 | <!----> | 3 |  0 |\n| 866 | 1 | 2 | Bystrom, Mrs. (Karolina)                            | 1 | 42.00000 | 0 | 0 | 236852           | 13.0000 | <!----> | 3 |  0 |\n| 867 | 1 | 2 | Duran y More, Miss. Asuncion                        | 1 | 27.00000 | 1 | 0 | SC/PARIS 2149    | 13.8583 | <!----> | 1 |  1 |\n| 868 | 0 | 1 | Roebling, Mr. Washington Augustus II                | 2 | 31.00000 | 0 | 0 | PC 17590         | 50.4958 | A24         | 3 |  0 |\n| 869 | 0 | 3 | van Melkebeke, Mr. Philemon                         | 2 | 29.69912 | 0 | 0 | 345777           |  9.5000 | <!----> | 3 |  0 |\n| 870 | 1 | 3 | Johnson, Master. Harold Theodor                     | 2 |  4.00000 | 1 | 1 | 347742           | 11.1333 | <!----> | 3 |  2 |\n| 871 | 0 | 3 | Balkic, Mr. Cerin                                   | 2 | 26.00000 | 0 | 0 | 349248           |  7.8958 | <!----> | 3 |  0 |\n| 872 | 1 | 1 | Beckwith, Mrs. Richard Leonard (Sallie Monypeny)    | 1 | 47.00000 | 1 | 1 | 11751            | 52.5542 | D35         | 3 |  2 |\n| 873 | 0 | 1 | Carlsson, Mr. Frans Olof                            | 2 | 33.00000 | 0 | 0 | 695              |  5.0000 | B51 B53 B55 | 3 |  0 |\n| 874 | 0 | 3 | Vander Cruyssen, Mr. Victor                         | 2 | 47.00000 | 0 | 0 | 345765           |  9.0000 | <!----> | 3 |  0 |\n| 875 | 1 | 2 | Abelson, Mrs. Samuel (Hannah Wizosky)               | 1 | 28.00000 | 1 | 0 | P/PP 3381        | 24.0000 | <!----> | 1 |  1 |\n| 876 | 1 | 3 | Najib, Miss. Adele Kiamie \"Jane\"                    | 1 | 15.00000 | 0 | 0 | 2667             |  7.2250 | <!----> | 1 |  0 |\n| 877 | 0 | 3 | Gustafsson, Mr. Alfred Ossian                       | 2 | 20.00000 | 0 | 0 | 7534             |  9.8458 | <!----> | 3 |  0 |\n| 878 | 0 | 3 | Petroff, Mr. Nedelio                                | 2 | 19.00000 | 0 | 0 | 349212           |  7.8958 | <!----> | 3 |  0 |\n| 879 | 0 | 3 | Laleff, Mr. Kristo                                  | 2 | 29.69912 | 0 | 0 | 349217           |  7.8958 | <!----> | 3 |  0 |\n| 880 | 1 | 1 | Potter, Mrs. Thomas Jr (Lily Alexenia Wilson)       | 1 | 56.00000 | 0 | 1 | 11767            | 83.1583 | C50         | 1 |  1 |\n| 881 | 1 | 2 | Shelley, Mrs. William (Imanita Parrish Hall)        | 1 | 25.00000 | 0 | 1 | 230433           | 26.0000 | <!----> | 3 |  1 |\n| 882 | 0 | 3 | Markun, Mr. Johann                                  | 2 | 33.00000 | 0 | 0 | 349257           |  7.8958 | <!----> | 3 |  0 |\n| 883 | 0 | 3 | Dahlberg, Miss. Gerda Ulrika                        | 1 | 22.00000 | 0 | 0 | 7552             | 10.5167 | <!----> | 3 |  0 |\n| 884 | 0 | 2 | Banfield, Mr. Frederick James                       | 2 | 28.00000 | 0 | 0 | C.A./SOTON 34068 | 10.5000 | <!----> | 3 |  0 |\n| 885 | 0 | 3 | Sutehall, Mr. Henry Jr                              | 2 | 25.00000 | 0 | 0 | SOTON/OQ 392076  |  7.0500 | <!----> | 3 |  0 |\n| 886 | 0 | 3 | Rice, Mrs. William (Margaret Norton)                | 1 | 39.00000 | 0 | 5 | 382652           | 29.1250 | <!----> | 2 |  5 |\n| 887 | 0 | 2 | Montvila, Rev. Juozas                               | 2 | 27.00000 | 0 | 0 | 211536           | 13.0000 | <!----> | 3 |  0 |\n| 888 | 1 | 1 | Graham, Miss. Margaret Edith                        | 1 | 19.00000 | 0 | 0 | 112053           | 30.0000 | B42         | 3 |  0 |\n| 889 | 0 | 3 | Johnston, Miss. Catherine Helen \"Carrie\"            | 1 | 29.69912 | 1 | 2 | W./C. 6607       | 23.4500 | <!----> | 3 |  3 |\n| 890 | 1 | 1 | Behr, Mr. Karl Howell                               | 2 | 26.00000 | 0 | 0 | 111369           | 30.0000 | C148        | 1 |  0 |\n| 891 | 0 | 3 | Dooley, Mr. Patrick                                 | 2 | 32.00000 | 0 | 0 | 370376           |  7.7500 | <!----> | 2 |  0 |\n\n",
            "text/latex": "A data.frame: 891 × 13\n\\begin{tabular}{lllllllllllll}\n PassengerId & Survived & Pclass & Name & Sex & Age & SibSp & Parch & Ticket & Fare & Cabin & Embarked & FamilySize\\\\\n <int> & <int> & <int> & <fct> & <dbl> & <dbl> & <int> & <int> & <fct> & <dbl> & <fct> & <dbl> & <int>\\\\\n\\hline\n\t  1 & 0 & 3 & Braund, Mr. Owen Harris                                   & 2 & 22.00000 & 1 & 0 & A/5 21171        &   7.2500 &             & 3 & 1\\\\\n\t  2 & 1 & 1 & Cumings, Mrs. John Bradley (Florence Briggs Thayer)       & 1 & 38.00000 & 1 & 0 & PC 17599         &  71.2833 & C85         & 1 & 1\\\\\n\t  3 & 1 & 3 & Heikkinen, Miss. Laina                                    & 1 & 26.00000 & 0 & 0 & STON/O2. 3101282 &   7.9250 &             & 3 & 0\\\\\n\t  4 & 1 & 1 & Futrelle, Mrs. Jacques Heath (Lily May Peel)              & 1 & 35.00000 & 1 & 0 & 113803           &  53.1000 & C123        & 3 & 1\\\\\n\t  5 & 0 & 3 & Allen, Mr. William Henry                                  & 2 & 35.00000 & 0 & 0 & 373450           &   8.0500 &             & 3 & 0\\\\\n\t  6 & 0 & 3 & Moran, Mr. James                                          & 2 & 29.69912 & 0 & 0 & 330877           &   8.4583 &             & 2 & 0\\\\\n\t  7 & 0 & 1 & McCarthy, Mr. Timothy J                                   & 2 & 54.00000 & 0 & 0 & 17463            &  51.8625 & E46         & 3 & 0\\\\\n\t  8 & 0 & 3 & Palsson, Master. Gosta Leonard                            & 2 &  2.00000 & 3 & 1 & 349909           &  21.0750 &             & 3 & 4\\\\\n\t  9 & 1 & 3 & Johnson, Mrs. Oscar W (Elisabeth Vilhelmina Berg)         & 1 & 27.00000 & 0 & 2 & 347742           &  11.1333 &             & 3 & 2\\\\\n\t 10 & 1 & 2 & Nasser, Mrs. Nicholas (Adele Achem)                       & 1 & 14.00000 & 1 & 0 & 237736           &  30.0708 &             & 1 & 1\\\\\n\t 11 & 1 & 3 & Sandstrom, Miss. Marguerite Rut                           & 1 &  4.00000 & 1 & 1 & PP 9549          &  16.7000 & G6          & 3 & 2\\\\\n\t 12 & 1 & 1 & Bonnell, Miss. Elizabeth                                  & 1 & 58.00000 & 0 & 0 & 113783           &  26.5500 & C103        & 3 & 0\\\\\n\t 13 & 0 & 3 & Saundercock, Mr. William Henry                            & 2 & 20.00000 & 0 & 0 & A/5. 2151        &   8.0500 &             & 3 & 0\\\\\n\t 14 & 0 & 3 & Andersson, Mr. Anders Johan                               & 2 & 39.00000 & 1 & 5 & 347082           &  31.2750 &             & 3 & 6\\\\\n\t 15 & 0 & 3 & Vestrom, Miss. Hulda Amanda Adolfina                      & 1 & 14.00000 & 0 & 0 & 350406           &   7.8542 &             & 3 & 0\\\\\n\t 16 & 1 & 2 & Hewlett, Mrs. (Mary D Kingcome)                           & 1 & 55.00000 & 0 & 0 & 248706           &  16.0000 &             & 3 & 0\\\\\n\t 17 & 0 & 3 & Rice, Master. Eugene                                      & 2 &  2.00000 & 4 & 1 & 382652           &  29.1250 &             & 2 & 5\\\\\n\t 18 & 1 & 2 & Williams, Mr. Charles Eugene                              & 2 & 29.69912 & 0 & 0 & 244373           &  13.0000 &             & 3 & 0\\\\\n\t 19 & 0 & 3 & Vander Planke, Mrs. Julius (Emelia Maria Vandemoortele)   & 1 & 31.00000 & 1 & 0 & 345763           &  18.0000 &             & 3 & 1\\\\\n\t 20 & 1 & 3 & Masselmani, Mrs. Fatima                                   & 1 & 29.69912 & 0 & 0 & 2649             &   7.2250 &             & 1 & 0\\\\\n\t 21 & 0 & 2 & Fynney, Mr. Joseph J                                      & 2 & 35.00000 & 0 & 0 & 239865           &  26.0000 &             & 3 & 0\\\\\n\t 22 & 1 & 2 & Beesley, Mr. Lawrence                                     & 2 & 34.00000 & 0 & 0 & 248698           &  13.0000 & D56         & 3 & 0\\\\\n\t 23 & 1 & 3 & McGowan, Miss. Anna \"Annie\"                               & 1 & 15.00000 & 0 & 0 & 330923           &   8.0292 &             & 2 & 0\\\\\n\t 24 & 1 & 1 & Sloper, Mr. William Thompson                              & 2 & 28.00000 & 0 & 0 & 113788           &  35.5000 & A6          & 3 & 0\\\\\n\t 25 & 0 & 3 & Palsson, Miss. Torborg Danira                             & 1 &  8.00000 & 3 & 1 & 349909           &  21.0750 &             & 3 & 4\\\\\n\t 26 & 1 & 3 & Asplund, Mrs. Carl Oscar (Selma Augusta Emilia Johansson) & 1 & 38.00000 & 1 & 5 & 347077           &  31.3875 &             & 3 & 6\\\\\n\t 27 & 0 & 3 & Emir, Mr. Farred Chehab                                   & 2 & 29.69912 & 0 & 0 & 2631             &   7.2250 &             & 1 & 0\\\\\n\t 28 & 0 & 1 & Fortune, Mr. Charles Alexander                            & 2 & 19.00000 & 3 & 2 & 19950            & 263.0000 & C23 C25 C27 & 3 & 5\\\\\n\t 29 & 1 & 3 & O'Dwyer, Miss. Ellen \"Nellie\"                             & 1 & 29.69912 & 0 & 0 & 330959           &   7.8792 &             & 2 & 0\\\\\n\t 30 & 0 & 3 & Todoroff, Mr. Lalio                                       & 2 & 29.69912 & 0 & 0 & 349216           &   7.8958 &             & 3 & 0\\\\\n\t ⋮ & ⋮ & ⋮ & ⋮ & ⋮ & ⋮ & ⋮ & ⋮ & ⋮ & ⋮ & ⋮ & ⋮ & ⋮\\\\\n\t 862 & 0 & 2 & Giles, Mr. Frederick Edward                         & 2 & 21.00000 & 1 & 0 & 28134            & 11.5000 &             & 3 &  1\\\\\n\t 863 & 1 & 1 & Swift, Mrs. Frederick Joel (Margaret Welles Barron) & 1 & 48.00000 & 0 & 0 & 17466            & 25.9292 & D17         & 3 &  0\\\\\n\t 864 & 0 & 3 & Sage, Miss. Dorothy Edith \"Dolly\"                   & 1 & 29.69912 & 8 & 2 & CA. 2343         & 69.5500 &             & 3 & 10\\\\\n\t 865 & 0 & 2 & Gill, Mr. John William                              & 2 & 24.00000 & 0 & 0 & 233866           & 13.0000 &             & 3 &  0\\\\\n\t 866 & 1 & 2 & Bystrom, Mrs. (Karolina)                            & 1 & 42.00000 & 0 & 0 & 236852           & 13.0000 &             & 3 &  0\\\\\n\t 867 & 1 & 2 & Duran y More, Miss. Asuncion                        & 1 & 27.00000 & 1 & 0 & SC/PARIS 2149    & 13.8583 &             & 1 &  1\\\\\n\t 868 & 0 & 1 & Roebling, Mr. Washington Augustus II                & 2 & 31.00000 & 0 & 0 & PC 17590         & 50.4958 & A24         & 3 &  0\\\\\n\t 869 & 0 & 3 & van Melkebeke, Mr. Philemon                         & 2 & 29.69912 & 0 & 0 & 345777           &  9.5000 &             & 3 &  0\\\\\n\t 870 & 1 & 3 & Johnson, Master. Harold Theodor                     & 2 &  4.00000 & 1 & 1 & 347742           & 11.1333 &             & 3 &  2\\\\\n\t 871 & 0 & 3 & Balkic, Mr. Cerin                                   & 2 & 26.00000 & 0 & 0 & 349248           &  7.8958 &             & 3 &  0\\\\\n\t 872 & 1 & 1 & Beckwith, Mrs. Richard Leonard (Sallie Monypeny)    & 1 & 47.00000 & 1 & 1 & 11751            & 52.5542 & D35         & 3 &  2\\\\\n\t 873 & 0 & 1 & Carlsson, Mr. Frans Olof                            & 2 & 33.00000 & 0 & 0 & 695              &  5.0000 & B51 B53 B55 & 3 &  0\\\\\n\t 874 & 0 & 3 & Vander Cruyssen, Mr. Victor                         & 2 & 47.00000 & 0 & 0 & 345765           &  9.0000 &             & 3 &  0\\\\\n\t 875 & 1 & 2 & Abelson, Mrs. Samuel (Hannah Wizosky)               & 1 & 28.00000 & 1 & 0 & P/PP 3381        & 24.0000 &             & 1 &  1\\\\\n\t 876 & 1 & 3 & Najib, Miss. Adele Kiamie \"Jane\"                    & 1 & 15.00000 & 0 & 0 & 2667             &  7.2250 &             & 1 &  0\\\\\n\t 877 & 0 & 3 & Gustafsson, Mr. Alfred Ossian                       & 2 & 20.00000 & 0 & 0 & 7534             &  9.8458 &             & 3 &  0\\\\\n\t 878 & 0 & 3 & Petroff, Mr. Nedelio                                & 2 & 19.00000 & 0 & 0 & 349212           &  7.8958 &             & 3 &  0\\\\\n\t 879 & 0 & 3 & Laleff, Mr. Kristo                                  & 2 & 29.69912 & 0 & 0 & 349217           &  7.8958 &             & 3 &  0\\\\\n\t 880 & 1 & 1 & Potter, Mrs. Thomas Jr (Lily Alexenia Wilson)       & 1 & 56.00000 & 0 & 1 & 11767            & 83.1583 & C50         & 1 &  1\\\\\n\t 881 & 1 & 2 & Shelley, Mrs. William (Imanita Parrish Hall)        & 1 & 25.00000 & 0 & 1 & 230433           & 26.0000 &             & 3 &  1\\\\\n\t 882 & 0 & 3 & Markun, Mr. Johann                                  & 2 & 33.00000 & 0 & 0 & 349257           &  7.8958 &             & 3 &  0\\\\\n\t 883 & 0 & 3 & Dahlberg, Miss. Gerda Ulrika                        & 1 & 22.00000 & 0 & 0 & 7552             & 10.5167 &             & 3 &  0\\\\\n\t 884 & 0 & 2 & Banfield, Mr. Frederick James                       & 2 & 28.00000 & 0 & 0 & C.A./SOTON 34068 & 10.5000 &             & 3 &  0\\\\\n\t 885 & 0 & 3 & Sutehall, Mr. Henry Jr                              & 2 & 25.00000 & 0 & 0 & SOTON/OQ 392076  &  7.0500 &             & 3 &  0\\\\\n\t 886 & 0 & 3 & Rice, Mrs. William (Margaret Norton)                & 1 & 39.00000 & 0 & 5 & 382652           & 29.1250 &             & 2 &  5\\\\\n\t 887 & 0 & 2 & Montvila, Rev. Juozas                               & 2 & 27.00000 & 0 & 0 & 211536           & 13.0000 &             & 3 &  0\\\\\n\t 888 & 1 & 1 & Graham, Miss. Margaret Edith                        & 1 & 19.00000 & 0 & 0 & 112053           & 30.0000 & B42         & 3 &  0\\\\\n\t 889 & 0 & 3 & Johnston, Miss. Catherine Helen \"Carrie\"            & 1 & 29.69912 & 1 & 2 & W./C. 6607       & 23.4500 &             & 3 &  3\\\\\n\t 890 & 1 & 1 & Behr, Mr. Karl Howell                               & 2 & 26.00000 & 0 & 0 & 111369           & 30.0000 & C148        & 1 &  0\\\\\n\t 891 & 0 & 3 & Dooley, Mr. Patrick                                 & 2 & 32.00000 & 0 & 0 & 370376           &  7.7500 &             & 2 &  0\\\\\n\\end{tabular}\n",
            "text/plain": [
              "    PassengerId Survived Pclass\n",
              "1    1          0        3     \n",
              "2    2          1        1     \n",
              "3    3          1        3     \n",
              "4    4          1        1     \n",
              "5    5          0        3     \n",
              "6    6          0        3     \n",
              "7    7          0        1     \n",
              "8    8          0        3     \n",
              "9    9          1        3     \n",
              "10  10          1        2     \n",
              "11  11          1        3     \n",
              "12  12          1        1     \n",
              "13  13          0        3     \n",
              "14  14          0        3     \n",
              "15  15          0        3     \n",
              "16  16          1        2     \n",
              "17  17          0        3     \n",
              "18  18          1        2     \n",
              "19  19          0        3     \n",
              "20  20          1        3     \n",
              "21  21          0        2     \n",
              "22  22          1        2     \n",
              "23  23          1        3     \n",
              "24  24          1        1     \n",
              "25  25          0        3     \n",
              "26  26          1        3     \n",
              "27  27          0        3     \n",
              "28  28          0        1     \n",
              "29  29          1        3     \n",
              "30  30          0        3     \n",
              "⋮   ⋮           ⋮        ⋮     \n",
              "862 862         0        2     \n",
              "863 863         1        1     \n",
              "864 864         0        3     \n",
              "865 865         0        2     \n",
              "866 866         1        2     \n",
              "867 867         1        2     \n",
              "868 868         0        1     \n",
              "869 869         0        3     \n",
              "870 870         1        3     \n",
              "871 871         0        3     \n",
              "872 872         1        1     \n",
              "873 873         0        1     \n",
              "874 874         0        3     \n",
              "875 875         1        2     \n",
              "876 876         1        3     \n",
              "877 877         0        3     \n",
              "878 878         0        3     \n",
              "879 879         0        3     \n",
              "880 880         1        1     \n",
              "881 881         1        2     \n",
              "882 882         0        3     \n",
              "883 883         0        3     \n",
              "884 884         0        2     \n",
              "885 885         0        3     \n",
              "886 886         0        3     \n",
              "887 887         0        2     \n",
              "888 888         1        1     \n",
              "889 889         0        3     \n",
              "890 890         1        1     \n",
              "891 891         0        3     \n",
              "    Name                                                      Sex Age     \n",
              "1   Braund, Mr. Owen Harris                                   2   22.00000\n",
              "2   Cumings, Mrs. John Bradley (Florence Briggs Thayer)       1   38.00000\n",
              "3   Heikkinen, Miss. Laina                                    1   26.00000\n",
              "4   Futrelle, Mrs. Jacques Heath (Lily May Peel)              1   35.00000\n",
              "5   Allen, Mr. William Henry                                  2   35.00000\n",
              "6   Moran, Mr. James                                          2   29.69912\n",
              "7   McCarthy, Mr. Timothy J                                   2   54.00000\n",
              "8   Palsson, Master. Gosta Leonard                            2    2.00000\n",
              "9   Johnson, Mrs. Oscar W (Elisabeth Vilhelmina Berg)         1   27.00000\n",
              "10  Nasser, Mrs. Nicholas (Adele Achem)                       1   14.00000\n",
              "11  Sandstrom, Miss. Marguerite Rut                           1    4.00000\n",
              "12  Bonnell, Miss. Elizabeth                                  1   58.00000\n",
              "13  Saundercock, Mr. William Henry                            2   20.00000\n",
              "14  Andersson, Mr. Anders Johan                               2   39.00000\n",
              "15  Vestrom, Miss. Hulda Amanda Adolfina                      1   14.00000\n",
              "16  Hewlett, Mrs. (Mary D Kingcome)                           1   55.00000\n",
              "17  Rice, Master. Eugene                                      2    2.00000\n",
              "18  Williams, Mr. Charles Eugene                              2   29.69912\n",
              "19  Vander Planke, Mrs. Julius (Emelia Maria Vandemoortele)   1   31.00000\n",
              "20  Masselmani, Mrs. Fatima                                   1   29.69912\n",
              "21  Fynney, Mr. Joseph J                                      2   35.00000\n",
              "22  Beesley, Mr. Lawrence                                     2   34.00000\n",
              "23  McGowan, Miss. Anna \"Annie\"                               1   15.00000\n",
              "24  Sloper, Mr. William Thompson                              2   28.00000\n",
              "25  Palsson, Miss. Torborg Danira                             1    8.00000\n",
              "26  Asplund, Mrs. Carl Oscar (Selma Augusta Emilia Johansson) 1   38.00000\n",
              "27  Emir, Mr. Farred Chehab                                   2   29.69912\n",
              "28  Fortune, Mr. Charles Alexander                            2   19.00000\n",
              "29  O'Dwyer, Miss. Ellen \"Nellie\"                             1   29.69912\n",
              "30  Todoroff, Mr. Lalio                                       2   29.69912\n",
              "⋮   ⋮                                                         ⋮   ⋮       \n",
              "862 Giles, Mr. Frederick Edward                               2   21.00000\n",
              "863 Swift, Mrs. Frederick Joel (Margaret Welles Barron)       1   48.00000\n",
              "864 Sage, Miss. Dorothy Edith \"Dolly\"                         1   29.69912\n",
              "865 Gill, Mr. John William                                    2   24.00000\n",
              "866 Bystrom, Mrs. (Karolina)                                  1   42.00000\n",
              "867 Duran y More, Miss. Asuncion                              1   27.00000\n",
              "868 Roebling, Mr. Washington Augustus II                      2   31.00000\n",
              "869 van Melkebeke, Mr. Philemon                               2   29.69912\n",
              "870 Johnson, Master. Harold Theodor                           2    4.00000\n",
              "871 Balkic, Mr. Cerin                                         2   26.00000\n",
              "872 Beckwith, Mrs. Richard Leonard (Sallie Monypeny)          1   47.00000\n",
              "873 Carlsson, Mr. Frans Olof                                  2   33.00000\n",
              "874 Vander Cruyssen, Mr. Victor                               2   47.00000\n",
              "875 Abelson, Mrs. Samuel (Hannah Wizosky)                     1   28.00000\n",
              "876 Najib, Miss. Adele Kiamie \"Jane\"                          1   15.00000\n",
              "877 Gustafsson, Mr. Alfred Ossian                             2   20.00000\n",
              "878 Petroff, Mr. Nedelio                                      2   19.00000\n",
              "879 Laleff, Mr. Kristo                                        2   29.69912\n",
              "880 Potter, Mrs. Thomas Jr (Lily Alexenia Wilson)             1   56.00000\n",
              "881 Shelley, Mrs. William (Imanita Parrish Hall)              1   25.00000\n",
              "882 Markun, Mr. Johann                                        2   33.00000\n",
              "883 Dahlberg, Miss. Gerda Ulrika                              1   22.00000\n",
              "884 Banfield, Mr. Frederick James                             2   28.00000\n",
              "885 Sutehall, Mr. Henry Jr                                    2   25.00000\n",
              "886 Rice, Mrs. William (Margaret Norton)                      1   39.00000\n",
              "887 Montvila, Rev. Juozas                                     2   27.00000\n",
              "888 Graham, Miss. Margaret Edith                              1   19.00000\n",
              "889 Johnston, Miss. Catherine Helen \"Carrie\"                  1   29.69912\n",
              "890 Behr, Mr. Karl Howell                                     2   26.00000\n",
              "891 Dooley, Mr. Patrick                                       2   32.00000\n",
              "    SibSp Parch Ticket           Fare     Cabin       Embarked FamilySize\n",
              "1   1     0     A/5 21171          7.2500             3        1         \n",
              "2   1     0     PC 17599          71.2833 C85         1        1         \n",
              "3   0     0     STON/O2. 3101282   7.9250             3        0         \n",
              "4   1     0     113803            53.1000 C123        3        1         \n",
              "5   0     0     373450             8.0500             3        0         \n",
              "6   0     0     330877             8.4583             2        0         \n",
              "7   0     0     17463             51.8625 E46         3        0         \n",
              "8   3     1     349909            21.0750             3        4         \n",
              "9   0     2     347742            11.1333             3        2         \n",
              "10  1     0     237736            30.0708             1        1         \n",
              "11  1     1     PP 9549           16.7000 G6          3        2         \n",
              "12  0     0     113783            26.5500 C103        3        0         \n",
              "13  0     0     A/5. 2151          8.0500             3        0         \n",
              "14  1     5     347082            31.2750             3        6         \n",
              "15  0     0     350406             7.8542             3        0         \n",
              "16  0     0     248706            16.0000             3        0         \n",
              "17  4     1     382652            29.1250             2        5         \n",
              "18  0     0     244373            13.0000             3        0         \n",
              "19  1     0     345763            18.0000             3        1         \n",
              "20  0     0     2649               7.2250             1        0         \n",
              "21  0     0     239865            26.0000             3        0         \n",
              "22  0     0     248698            13.0000 D56         3        0         \n",
              "23  0     0     330923             8.0292             2        0         \n",
              "24  0     0     113788            35.5000 A6          3        0         \n",
              "25  3     1     349909            21.0750             3        4         \n",
              "26  1     5     347077            31.3875             3        6         \n",
              "27  0     0     2631               7.2250             1        0         \n",
              "28  3     2     19950            263.0000 C23 C25 C27 3        5         \n",
              "29  0     0     330959             7.8792             2        0         \n",
              "30  0     0     349216             7.8958             3        0         \n",
              "⋮   ⋮     ⋮     ⋮                ⋮        ⋮           ⋮        ⋮         \n",
              "862 1     0     28134            11.5000              3         1        \n",
              "863 0     0     17466            25.9292  D17         3         0        \n",
              "864 8     2     CA. 2343         69.5500              3        10        \n",
              "865 0     0     233866           13.0000              3         0        \n",
              "866 0     0     236852           13.0000              3         0        \n",
              "867 1     0     SC/PARIS 2149    13.8583              1         1        \n",
              "868 0     0     PC 17590         50.4958  A24         3         0        \n",
              "869 0     0     345777            9.5000              3         0        \n",
              "870 1     1     347742           11.1333              3         2        \n",
              "871 0     0     349248            7.8958              3         0        \n",
              "872 1     1     11751            52.5542  D35         3         2        \n",
              "873 0     0     695               5.0000  B51 B53 B55 3         0        \n",
              "874 0     0     345765            9.0000              3         0        \n",
              "875 1     0     P/PP 3381        24.0000              1         1        \n",
              "876 0     0     2667              7.2250              1         0        \n",
              "877 0     0     7534              9.8458              3         0        \n",
              "878 0     0     349212            7.8958              3         0        \n",
              "879 0     0     349217            7.8958              3         0        \n",
              "880 0     1     11767            83.1583  C50         1         1        \n",
              "881 0     1     230433           26.0000              3         1        \n",
              "882 0     0     349257            7.8958              3         0        \n",
              "883 0     0     7552             10.5167              3         0        \n",
              "884 0     0     C.A./SOTON 34068 10.5000              3         0        \n",
              "885 0     0     SOTON/OQ 392076   7.0500              3         0        \n",
              "886 0     5     382652           29.1250              2         5        \n",
              "887 0     0     211536           13.0000              3         0        \n",
              "888 0     0     112053           30.0000  B42         3         0        \n",
              "889 1     2     W./C. 6607       23.4500              3         3        \n",
              "890 0     0     111369           30.0000  C148        1         0        \n",
              "891 0     0     370376            7.7500              2         0        "
            ]
          },
          "metadata": {}
        }
      ]
    },
    {
      "cell_type": "code",
      "source": [
        "# 분석 결과에 영향이 없는 변수는 제외하고, 나머지 변수로 데이터셋 재구성\n",
        "# PassengerId, Name, Ticket, Cabin 제외\n",
        "df <- df[ , c(\"Survived\", \"Pclass\", \"Sex\", \"Age\", \"Fare\", \"Embarked\", \"FamilySize\")]\n",
        "df"
      ],
      "metadata": {
        "colab": {
          "base_uri": "https://localhost:8080/",
          "height": 1000
        },
        "id": "oyqU7h_xUeH_",
        "outputId": "3df7ec1c-da10-4eaf-c0c5-ffba7407aaa1"
      },
      "execution_count": 62,
      "outputs": [
        {
          "output_type": "display_data",
          "data": {
            "text/html": [
              "<table class=\"dataframe\">\n",
              "<caption>A data.frame: 891 × 7</caption>\n",
              "<thead>\n",
              "\t<tr><th scope=col>Survived</th><th scope=col>Pclass</th><th scope=col>Sex</th><th scope=col>Age</th><th scope=col>Fare</th><th scope=col>Embarked</th><th scope=col>FamilySize</th></tr>\n",
              "\t<tr><th scope=col>&lt;int&gt;</th><th scope=col>&lt;int&gt;</th><th scope=col>&lt;dbl&gt;</th><th scope=col>&lt;dbl&gt;</th><th scope=col>&lt;dbl&gt;</th><th scope=col>&lt;dbl&gt;</th><th scope=col>&lt;int&gt;</th></tr>\n",
              "</thead>\n",
              "<tbody>\n",
              "\t<tr><td>0</td><td>3</td><td>2</td><td>22.00000</td><td>  7.2500</td><td>3</td><td>1</td></tr>\n",
              "\t<tr><td>1</td><td>1</td><td>1</td><td>38.00000</td><td> 71.2833</td><td>1</td><td>1</td></tr>\n",
              "\t<tr><td>1</td><td>3</td><td>1</td><td>26.00000</td><td>  7.9250</td><td>3</td><td>0</td></tr>\n",
              "\t<tr><td>1</td><td>1</td><td>1</td><td>35.00000</td><td> 53.1000</td><td>3</td><td>1</td></tr>\n",
              "\t<tr><td>0</td><td>3</td><td>2</td><td>35.00000</td><td>  8.0500</td><td>3</td><td>0</td></tr>\n",
              "\t<tr><td>0</td><td>3</td><td>2</td><td>29.69912</td><td>  8.4583</td><td>2</td><td>0</td></tr>\n",
              "\t<tr><td>0</td><td>1</td><td>2</td><td>54.00000</td><td> 51.8625</td><td>3</td><td>0</td></tr>\n",
              "\t<tr><td>0</td><td>3</td><td>2</td><td> 2.00000</td><td> 21.0750</td><td>3</td><td>4</td></tr>\n",
              "\t<tr><td>1</td><td>3</td><td>1</td><td>27.00000</td><td> 11.1333</td><td>3</td><td>2</td></tr>\n",
              "\t<tr><td>1</td><td>2</td><td>1</td><td>14.00000</td><td> 30.0708</td><td>1</td><td>1</td></tr>\n",
              "\t<tr><td>1</td><td>3</td><td>1</td><td> 4.00000</td><td> 16.7000</td><td>3</td><td>2</td></tr>\n",
              "\t<tr><td>1</td><td>1</td><td>1</td><td>58.00000</td><td> 26.5500</td><td>3</td><td>0</td></tr>\n",
              "\t<tr><td>0</td><td>3</td><td>2</td><td>20.00000</td><td>  8.0500</td><td>3</td><td>0</td></tr>\n",
              "\t<tr><td>0</td><td>3</td><td>2</td><td>39.00000</td><td> 31.2750</td><td>3</td><td>6</td></tr>\n",
              "\t<tr><td>0</td><td>3</td><td>1</td><td>14.00000</td><td>  7.8542</td><td>3</td><td>0</td></tr>\n",
              "\t<tr><td>1</td><td>2</td><td>1</td><td>55.00000</td><td> 16.0000</td><td>3</td><td>0</td></tr>\n",
              "\t<tr><td>0</td><td>3</td><td>2</td><td> 2.00000</td><td> 29.1250</td><td>2</td><td>5</td></tr>\n",
              "\t<tr><td>1</td><td>2</td><td>2</td><td>29.69912</td><td> 13.0000</td><td>3</td><td>0</td></tr>\n",
              "\t<tr><td>0</td><td>3</td><td>1</td><td>31.00000</td><td> 18.0000</td><td>3</td><td>1</td></tr>\n",
              "\t<tr><td>1</td><td>3</td><td>1</td><td>29.69912</td><td>  7.2250</td><td>1</td><td>0</td></tr>\n",
              "\t<tr><td>0</td><td>2</td><td>2</td><td>35.00000</td><td> 26.0000</td><td>3</td><td>0</td></tr>\n",
              "\t<tr><td>1</td><td>2</td><td>2</td><td>34.00000</td><td> 13.0000</td><td>3</td><td>0</td></tr>\n",
              "\t<tr><td>1</td><td>3</td><td>1</td><td>15.00000</td><td>  8.0292</td><td>2</td><td>0</td></tr>\n",
              "\t<tr><td>1</td><td>1</td><td>2</td><td>28.00000</td><td> 35.5000</td><td>3</td><td>0</td></tr>\n",
              "\t<tr><td>0</td><td>3</td><td>1</td><td> 8.00000</td><td> 21.0750</td><td>3</td><td>4</td></tr>\n",
              "\t<tr><td>1</td><td>3</td><td>1</td><td>38.00000</td><td> 31.3875</td><td>3</td><td>6</td></tr>\n",
              "\t<tr><td>0</td><td>3</td><td>2</td><td>29.69912</td><td>  7.2250</td><td>1</td><td>0</td></tr>\n",
              "\t<tr><td>0</td><td>1</td><td>2</td><td>19.00000</td><td>263.0000</td><td>3</td><td>5</td></tr>\n",
              "\t<tr><td>1</td><td>3</td><td>1</td><td>29.69912</td><td>  7.8792</td><td>2</td><td>0</td></tr>\n",
              "\t<tr><td>0</td><td>3</td><td>2</td><td>29.69912</td><td>  7.8958</td><td>3</td><td>0</td></tr>\n",
              "\t<tr><td>⋮</td><td>⋮</td><td>⋮</td><td>⋮</td><td>⋮</td><td>⋮</td><td>⋮</td></tr>\n",
              "\t<tr><td>0</td><td>2</td><td>2</td><td>21.00000</td><td>11.5000</td><td>3</td><td> 1</td></tr>\n",
              "\t<tr><td>1</td><td>1</td><td>1</td><td>48.00000</td><td>25.9292</td><td>3</td><td> 0</td></tr>\n",
              "\t<tr><td>0</td><td>3</td><td>1</td><td>29.69912</td><td>69.5500</td><td>3</td><td>10</td></tr>\n",
              "\t<tr><td>0</td><td>2</td><td>2</td><td>24.00000</td><td>13.0000</td><td>3</td><td> 0</td></tr>\n",
              "\t<tr><td>1</td><td>2</td><td>1</td><td>42.00000</td><td>13.0000</td><td>3</td><td> 0</td></tr>\n",
              "\t<tr><td>1</td><td>2</td><td>1</td><td>27.00000</td><td>13.8583</td><td>1</td><td> 1</td></tr>\n",
              "\t<tr><td>0</td><td>1</td><td>2</td><td>31.00000</td><td>50.4958</td><td>3</td><td> 0</td></tr>\n",
              "\t<tr><td>0</td><td>3</td><td>2</td><td>29.69912</td><td> 9.5000</td><td>3</td><td> 0</td></tr>\n",
              "\t<tr><td>1</td><td>3</td><td>2</td><td> 4.00000</td><td>11.1333</td><td>3</td><td> 2</td></tr>\n",
              "\t<tr><td>0</td><td>3</td><td>2</td><td>26.00000</td><td> 7.8958</td><td>3</td><td> 0</td></tr>\n",
              "\t<tr><td>1</td><td>1</td><td>1</td><td>47.00000</td><td>52.5542</td><td>3</td><td> 2</td></tr>\n",
              "\t<tr><td>0</td><td>1</td><td>2</td><td>33.00000</td><td> 5.0000</td><td>3</td><td> 0</td></tr>\n",
              "\t<tr><td>0</td><td>3</td><td>2</td><td>47.00000</td><td> 9.0000</td><td>3</td><td> 0</td></tr>\n",
              "\t<tr><td>1</td><td>2</td><td>1</td><td>28.00000</td><td>24.0000</td><td>1</td><td> 1</td></tr>\n",
              "\t<tr><td>1</td><td>3</td><td>1</td><td>15.00000</td><td> 7.2250</td><td>1</td><td> 0</td></tr>\n",
              "\t<tr><td>0</td><td>3</td><td>2</td><td>20.00000</td><td> 9.8458</td><td>3</td><td> 0</td></tr>\n",
              "\t<tr><td>0</td><td>3</td><td>2</td><td>19.00000</td><td> 7.8958</td><td>3</td><td> 0</td></tr>\n",
              "\t<tr><td>0</td><td>3</td><td>2</td><td>29.69912</td><td> 7.8958</td><td>3</td><td> 0</td></tr>\n",
              "\t<tr><td>1</td><td>1</td><td>1</td><td>56.00000</td><td>83.1583</td><td>1</td><td> 1</td></tr>\n",
              "\t<tr><td>1</td><td>2</td><td>1</td><td>25.00000</td><td>26.0000</td><td>3</td><td> 1</td></tr>\n",
              "\t<tr><td>0</td><td>3</td><td>2</td><td>33.00000</td><td> 7.8958</td><td>3</td><td> 0</td></tr>\n",
              "\t<tr><td>0</td><td>3</td><td>1</td><td>22.00000</td><td>10.5167</td><td>3</td><td> 0</td></tr>\n",
              "\t<tr><td>0</td><td>2</td><td>2</td><td>28.00000</td><td>10.5000</td><td>3</td><td> 0</td></tr>\n",
              "\t<tr><td>0</td><td>3</td><td>2</td><td>25.00000</td><td> 7.0500</td><td>3</td><td> 0</td></tr>\n",
              "\t<tr><td>0</td><td>3</td><td>1</td><td>39.00000</td><td>29.1250</td><td>2</td><td> 5</td></tr>\n",
              "\t<tr><td>0</td><td>2</td><td>2</td><td>27.00000</td><td>13.0000</td><td>3</td><td> 0</td></tr>\n",
              "\t<tr><td>1</td><td>1</td><td>1</td><td>19.00000</td><td>30.0000</td><td>3</td><td> 0</td></tr>\n",
              "\t<tr><td>0</td><td>3</td><td>1</td><td>29.69912</td><td>23.4500</td><td>3</td><td> 3</td></tr>\n",
              "\t<tr><td>1</td><td>1</td><td>2</td><td>26.00000</td><td>30.0000</td><td>1</td><td> 0</td></tr>\n",
              "\t<tr><td>0</td><td>3</td><td>2</td><td>32.00000</td><td> 7.7500</td><td>2</td><td> 0</td></tr>\n",
              "</tbody>\n",
              "</table>\n"
            ],
            "text/markdown": "\nA data.frame: 891 × 7\n\n| Survived &lt;int&gt; | Pclass &lt;int&gt; | Sex &lt;dbl&gt; | Age &lt;dbl&gt; | Fare &lt;dbl&gt; | Embarked &lt;dbl&gt; | FamilySize &lt;int&gt; |\n|---|---|---|---|---|---|---|\n| 0 | 3 | 2 | 22.00000 |   7.2500 | 3 | 1 |\n| 1 | 1 | 1 | 38.00000 |  71.2833 | 1 | 1 |\n| 1 | 3 | 1 | 26.00000 |   7.9250 | 3 | 0 |\n| 1 | 1 | 1 | 35.00000 |  53.1000 | 3 | 1 |\n| 0 | 3 | 2 | 35.00000 |   8.0500 | 3 | 0 |\n| 0 | 3 | 2 | 29.69912 |   8.4583 | 2 | 0 |\n| 0 | 1 | 2 | 54.00000 |  51.8625 | 3 | 0 |\n| 0 | 3 | 2 |  2.00000 |  21.0750 | 3 | 4 |\n| 1 | 3 | 1 | 27.00000 |  11.1333 | 3 | 2 |\n| 1 | 2 | 1 | 14.00000 |  30.0708 | 1 | 1 |\n| 1 | 3 | 1 |  4.00000 |  16.7000 | 3 | 2 |\n| 1 | 1 | 1 | 58.00000 |  26.5500 | 3 | 0 |\n| 0 | 3 | 2 | 20.00000 |   8.0500 | 3 | 0 |\n| 0 | 3 | 2 | 39.00000 |  31.2750 | 3 | 6 |\n| 0 | 3 | 1 | 14.00000 |   7.8542 | 3 | 0 |\n| 1 | 2 | 1 | 55.00000 |  16.0000 | 3 | 0 |\n| 0 | 3 | 2 |  2.00000 |  29.1250 | 2 | 5 |\n| 1 | 2 | 2 | 29.69912 |  13.0000 | 3 | 0 |\n| 0 | 3 | 1 | 31.00000 |  18.0000 | 3 | 1 |\n| 1 | 3 | 1 | 29.69912 |   7.2250 | 1 | 0 |\n| 0 | 2 | 2 | 35.00000 |  26.0000 | 3 | 0 |\n| 1 | 2 | 2 | 34.00000 |  13.0000 | 3 | 0 |\n| 1 | 3 | 1 | 15.00000 |   8.0292 | 2 | 0 |\n| 1 | 1 | 2 | 28.00000 |  35.5000 | 3 | 0 |\n| 0 | 3 | 1 |  8.00000 |  21.0750 | 3 | 4 |\n| 1 | 3 | 1 | 38.00000 |  31.3875 | 3 | 6 |\n| 0 | 3 | 2 | 29.69912 |   7.2250 | 1 | 0 |\n| 0 | 1 | 2 | 19.00000 | 263.0000 | 3 | 5 |\n| 1 | 3 | 1 | 29.69912 |   7.8792 | 2 | 0 |\n| 0 | 3 | 2 | 29.69912 |   7.8958 | 3 | 0 |\n| ⋮ | ⋮ | ⋮ | ⋮ | ⋮ | ⋮ | ⋮ |\n| 0 | 2 | 2 | 21.00000 | 11.5000 | 3 |  1 |\n| 1 | 1 | 1 | 48.00000 | 25.9292 | 3 |  0 |\n| 0 | 3 | 1 | 29.69912 | 69.5500 | 3 | 10 |\n| 0 | 2 | 2 | 24.00000 | 13.0000 | 3 |  0 |\n| 1 | 2 | 1 | 42.00000 | 13.0000 | 3 |  0 |\n| 1 | 2 | 1 | 27.00000 | 13.8583 | 1 |  1 |\n| 0 | 1 | 2 | 31.00000 | 50.4958 | 3 |  0 |\n| 0 | 3 | 2 | 29.69912 |  9.5000 | 3 |  0 |\n| 1 | 3 | 2 |  4.00000 | 11.1333 | 3 |  2 |\n| 0 | 3 | 2 | 26.00000 |  7.8958 | 3 |  0 |\n| 1 | 1 | 1 | 47.00000 | 52.5542 | 3 |  2 |\n| 0 | 1 | 2 | 33.00000 |  5.0000 | 3 |  0 |\n| 0 | 3 | 2 | 47.00000 |  9.0000 | 3 |  0 |\n| 1 | 2 | 1 | 28.00000 | 24.0000 | 1 |  1 |\n| 1 | 3 | 1 | 15.00000 |  7.2250 | 1 |  0 |\n| 0 | 3 | 2 | 20.00000 |  9.8458 | 3 |  0 |\n| 0 | 3 | 2 | 19.00000 |  7.8958 | 3 |  0 |\n| 0 | 3 | 2 | 29.69912 |  7.8958 | 3 |  0 |\n| 1 | 1 | 1 | 56.00000 | 83.1583 | 1 |  1 |\n| 1 | 2 | 1 | 25.00000 | 26.0000 | 3 |  1 |\n| 0 | 3 | 2 | 33.00000 |  7.8958 | 3 |  0 |\n| 0 | 3 | 1 | 22.00000 | 10.5167 | 3 |  0 |\n| 0 | 2 | 2 | 28.00000 | 10.5000 | 3 |  0 |\n| 0 | 3 | 2 | 25.00000 |  7.0500 | 3 |  0 |\n| 0 | 3 | 1 | 39.00000 | 29.1250 | 2 |  5 |\n| 0 | 2 | 2 | 27.00000 | 13.0000 | 3 |  0 |\n| 1 | 1 | 1 | 19.00000 | 30.0000 | 3 |  0 |\n| 0 | 3 | 1 | 29.69912 | 23.4500 | 3 |  3 |\n| 1 | 1 | 2 | 26.00000 | 30.0000 | 1 |  0 |\n| 0 | 3 | 2 | 32.00000 |  7.7500 | 2 |  0 |\n\n",
            "text/latex": "A data.frame: 891 × 7\n\\begin{tabular}{lllllll}\n Survived & Pclass & Sex & Age & Fare & Embarked & FamilySize\\\\\n <int> & <int> & <dbl> & <dbl> & <dbl> & <dbl> & <int>\\\\\n\\hline\n\t 0 & 3 & 2 & 22.00000 &   7.2500 & 3 & 1\\\\\n\t 1 & 1 & 1 & 38.00000 &  71.2833 & 1 & 1\\\\\n\t 1 & 3 & 1 & 26.00000 &   7.9250 & 3 & 0\\\\\n\t 1 & 1 & 1 & 35.00000 &  53.1000 & 3 & 1\\\\\n\t 0 & 3 & 2 & 35.00000 &   8.0500 & 3 & 0\\\\\n\t 0 & 3 & 2 & 29.69912 &   8.4583 & 2 & 0\\\\\n\t 0 & 1 & 2 & 54.00000 &  51.8625 & 3 & 0\\\\\n\t 0 & 3 & 2 &  2.00000 &  21.0750 & 3 & 4\\\\\n\t 1 & 3 & 1 & 27.00000 &  11.1333 & 3 & 2\\\\\n\t 1 & 2 & 1 & 14.00000 &  30.0708 & 1 & 1\\\\\n\t 1 & 3 & 1 &  4.00000 &  16.7000 & 3 & 2\\\\\n\t 1 & 1 & 1 & 58.00000 &  26.5500 & 3 & 0\\\\\n\t 0 & 3 & 2 & 20.00000 &   8.0500 & 3 & 0\\\\\n\t 0 & 3 & 2 & 39.00000 &  31.2750 & 3 & 6\\\\\n\t 0 & 3 & 1 & 14.00000 &   7.8542 & 3 & 0\\\\\n\t 1 & 2 & 1 & 55.00000 &  16.0000 & 3 & 0\\\\\n\t 0 & 3 & 2 &  2.00000 &  29.1250 & 2 & 5\\\\\n\t 1 & 2 & 2 & 29.69912 &  13.0000 & 3 & 0\\\\\n\t 0 & 3 & 1 & 31.00000 &  18.0000 & 3 & 1\\\\\n\t 1 & 3 & 1 & 29.69912 &   7.2250 & 1 & 0\\\\\n\t 0 & 2 & 2 & 35.00000 &  26.0000 & 3 & 0\\\\\n\t 1 & 2 & 2 & 34.00000 &  13.0000 & 3 & 0\\\\\n\t 1 & 3 & 1 & 15.00000 &   8.0292 & 2 & 0\\\\\n\t 1 & 1 & 2 & 28.00000 &  35.5000 & 3 & 0\\\\\n\t 0 & 3 & 1 &  8.00000 &  21.0750 & 3 & 4\\\\\n\t 1 & 3 & 1 & 38.00000 &  31.3875 & 3 & 6\\\\\n\t 0 & 3 & 2 & 29.69912 &   7.2250 & 1 & 0\\\\\n\t 0 & 1 & 2 & 19.00000 & 263.0000 & 3 & 5\\\\\n\t 1 & 3 & 1 & 29.69912 &   7.8792 & 2 & 0\\\\\n\t 0 & 3 & 2 & 29.69912 &   7.8958 & 3 & 0\\\\\n\t ⋮ & ⋮ & ⋮ & ⋮ & ⋮ & ⋮ & ⋮\\\\\n\t 0 & 2 & 2 & 21.00000 & 11.5000 & 3 &  1\\\\\n\t 1 & 1 & 1 & 48.00000 & 25.9292 & 3 &  0\\\\\n\t 0 & 3 & 1 & 29.69912 & 69.5500 & 3 & 10\\\\\n\t 0 & 2 & 2 & 24.00000 & 13.0000 & 3 &  0\\\\\n\t 1 & 2 & 1 & 42.00000 & 13.0000 & 3 &  0\\\\\n\t 1 & 2 & 1 & 27.00000 & 13.8583 & 1 &  1\\\\\n\t 0 & 1 & 2 & 31.00000 & 50.4958 & 3 &  0\\\\\n\t 0 & 3 & 2 & 29.69912 &  9.5000 & 3 &  0\\\\\n\t 1 & 3 & 2 &  4.00000 & 11.1333 & 3 &  2\\\\\n\t 0 & 3 & 2 & 26.00000 &  7.8958 & 3 &  0\\\\\n\t 1 & 1 & 1 & 47.00000 & 52.5542 & 3 &  2\\\\\n\t 0 & 1 & 2 & 33.00000 &  5.0000 & 3 &  0\\\\\n\t 0 & 3 & 2 & 47.00000 &  9.0000 & 3 &  0\\\\\n\t 1 & 2 & 1 & 28.00000 & 24.0000 & 1 &  1\\\\\n\t 1 & 3 & 1 & 15.00000 &  7.2250 & 1 &  0\\\\\n\t 0 & 3 & 2 & 20.00000 &  9.8458 & 3 &  0\\\\\n\t 0 & 3 & 2 & 19.00000 &  7.8958 & 3 &  0\\\\\n\t 0 & 3 & 2 & 29.69912 &  7.8958 & 3 &  0\\\\\n\t 1 & 1 & 1 & 56.00000 & 83.1583 & 1 &  1\\\\\n\t 1 & 2 & 1 & 25.00000 & 26.0000 & 3 &  1\\\\\n\t 0 & 3 & 2 & 33.00000 &  7.8958 & 3 &  0\\\\\n\t 0 & 3 & 1 & 22.00000 & 10.5167 & 3 &  0\\\\\n\t 0 & 2 & 2 & 28.00000 & 10.5000 & 3 &  0\\\\\n\t 0 & 3 & 2 & 25.00000 &  7.0500 & 3 &  0\\\\\n\t 0 & 3 & 1 & 39.00000 & 29.1250 & 2 &  5\\\\\n\t 0 & 2 & 2 & 27.00000 & 13.0000 & 3 &  0\\\\\n\t 1 & 1 & 1 & 19.00000 & 30.0000 & 3 &  0\\\\\n\t 0 & 3 & 1 & 29.69912 & 23.4500 & 3 &  3\\\\\n\t 1 & 1 & 2 & 26.00000 & 30.0000 & 1 &  0\\\\\n\t 0 & 3 & 2 & 32.00000 &  7.7500 & 2 &  0\\\\\n\\end{tabular}\n",
            "text/plain": [
              "    Survived Pclass Sex Age      Fare     Embarked FamilySize\n",
              "1   0        3      2   22.00000   7.2500 3        1         \n",
              "2   1        1      1   38.00000  71.2833 1        1         \n",
              "3   1        3      1   26.00000   7.9250 3        0         \n",
              "4   1        1      1   35.00000  53.1000 3        1         \n",
              "5   0        3      2   35.00000   8.0500 3        0         \n",
              "6   0        3      2   29.69912   8.4583 2        0         \n",
              "7   0        1      2   54.00000  51.8625 3        0         \n",
              "8   0        3      2    2.00000  21.0750 3        4         \n",
              "9   1        3      1   27.00000  11.1333 3        2         \n",
              "10  1        2      1   14.00000  30.0708 1        1         \n",
              "11  1        3      1    4.00000  16.7000 3        2         \n",
              "12  1        1      1   58.00000  26.5500 3        0         \n",
              "13  0        3      2   20.00000   8.0500 3        0         \n",
              "14  0        3      2   39.00000  31.2750 3        6         \n",
              "15  0        3      1   14.00000   7.8542 3        0         \n",
              "16  1        2      1   55.00000  16.0000 3        0         \n",
              "17  0        3      2    2.00000  29.1250 2        5         \n",
              "18  1        2      2   29.69912  13.0000 3        0         \n",
              "19  0        3      1   31.00000  18.0000 3        1         \n",
              "20  1        3      1   29.69912   7.2250 1        0         \n",
              "21  0        2      2   35.00000  26.0000 3        0         \n",
              "22  1        2      2   34.00000  13.0000 3        0         \n",
              "23  1        3      1   15.00000   8.0292 2        0         \n",
              "24  1        1      2   28.00000  35.5000 3        0         \n",
              "25  0        3      1    8.00000  21.0750 3        4         \n",
              "26  1        3      1   38.00000  31.3875 3        6         \n",
              "27  0        3      2   29.69912   7.2250 1        0         \n",
              "28  0        1      2   19.00000 263.0000 3        5         \n",
              "29  1        3      1   29.69912   7.8792 2        0         \n",
              "30  0        3      2   29.69912   7.8958 3        0         \n",
              "⋮   ⋮        ⋮      ⋮   ⋮        ⋮        ⋮        ⋮         \n",
              "862 0        2      2   21.00000 11.5000  3         1        \n",
              "863 1        1      1   48.00000 25.9292  3         0        \n",
              "864 0        3      1   29.69912 69.5500  3        10        \n",
              "865 0        2      2   24.00000 13.0000  3         0        \n",
              "866 1        2      1   42.00000 13.0000  3         0        \n",
              "867 1        2      1   27.00000 13.8583  1         1        \n",
              "868 0        1      2   31.00000 50.4958  3         0        \n",
              "869 0        3      2   29.69912  9.5000  3         0        \n",
              "870 1        3      2    4.00000 11.1333  3         2        \n",
              "871 0        3      2   26.00000  7.8958  3         0        \n",
              "872 1        1      1   47.00000 52.5542  3         2        \n",
              "873 0        1      2   33.00000  5.0000  3         0        \n",
              "874 0        3      2   47.00000  9.0000  3         0        \n",
              "875 1        2      1   28.00000 24.0000  1         1        \n",
              "876 1        3      1   15.00000  7.2250  1         0        \n",
              "877 0        3      2   20.00000  9.8458  3         0        \n",
              "878 0        3      2   19.00000  7.8958  3         0        \n",
              "879 0        3      2   29.69912  7.8958  3         0        \n",
              "880 1        1      1   56.00000 83.1583  1         1        \n",
              "881 1        2      1   25.00000 26.0000  3         1        \n",
              "882 0        3      2   33.00000  7.8958  3         0        \n",
              "883 0        3      1   22.00000 10.5167  3         0        \n",
              "884 0        2      2   28.00000 10.5000  3         0        \n",
              "885 0        3      2   25.00000  7.0500  3         0        \n",
              "886 0        3      1   39.00000 29.1250  2         5        \n",
              "887 0        2      2   27.00000 13.0000  3         0        \n",
              "888 1        1      1   19.00000 30.0000  3         0        \n",
              "889 0        3      1   29.69912 23.4500  3         3        \n",
              "890 1        1      2   26.00000 30.0000  1         0        \n",
              "891 0        3      2   32.00000  7.7500  2         0        "
            ]
          },
          "metadata": {}
        }
      ]
    },
    {
      "cell_type": "code",
      "source": [
        "# 난수(random) 발생을 위한 seed 값 부여\n",
        "set.seed(123)\n",
        "\n",
        "# 전체 행의 80%에 해당하는 인덱스를 임의 선정\n",
        "idx <- sample(1:nrow(df), 0.8*nrow(df))\n",
        "\n",
        "# 인덱스에 해당하는 행을 학습 데이터로 선정\n",
        "df_train <- df[idx, ]       # 독립변수 + 종속변수\n",
        "\n",
        "# 인덱스에 해당하지 않는 행(-idx)을 테스트 데이터로 선정\n",
        "df_test <- df[-idx, ]       # 독립변수 + 종속변수"
      ],
      "metadata": {
        "id": "AC5YIB0hUobE"
      },
      "execution_count": 63,
      "outputs": []
    },
    {
      "cell_type": "code",
      "source": [
        "print(dim(df_train))     # 학습 데이터셋\n",
        "print(dim(df_test))      # 테스트 데이터셋"
      ],
      "metadata": {
        "colab": {
          "base_uri": "https://localhost:8080/"
        },
        "id": "XKqXSPEOUsw9",
        "outputId": "d82853d0-f23a-45fd-8dab-942e9f9f7011"
      },
      "execution_count": 64,
      "outputs": [
        {
          "output_type": "stream",
          "name": "stdout",
          "text": [
            "[1] 712   7\n",
            "[1] 179   7\n"
          ]
        }
      ]
    },
    {
      "cell_type": "code",
      "source": [
        "# randomForest()를 사용하여 랜덤 포레스트 학습\n",
        "df_train$Survived <- as.factor(df_train$Survived)\n",
        "model <- randomForest(Survived~., data=df_train)"
      ],
      "metadata": {
        "id": "hJLpFNTmUvLF"
      },
      "execution_count": 65,
      "outputs": []
    },
    {
      "cell_type": "code",
      "source": [
        "# 학습된 모델을 기반으로 예측 수행\n",
        "pred <- predict(model, newdata=df_test, type=\"class\")"
      ],
      "metadata": {
        "id": "vSKReGiRUynd"
      },
      "execution_count": 66,
      "outputs": []
    },
    {
      "cell_type": "code",
      "source": [
        "# 예측 결과와 실제값을 비교(오차행렬)\n",
        "cm <- table(df_test$Survived, pred)\n",
        "print(cm)\n",
        "\n",
        "# 모델평가 - 정확도\n",
        "acc <- (cm[1,1] + cm[2,2])/nrow(df_test)\n",
        "print(acc)"
      ],
      "metadata": {
        "colab": {
          "base_uri": "https://localhost:8080/"
        },
        "id": "xu_QgNSmU179",
        "outputId": "e1d483a0-0f84-4475-d543-17651895c901"
      },
      "execution_count": 67,
      "outputs": [
        {
          "output_type": "stream",
          "name": "stdout",
          "text": [
            "   pred\n",
            "     0  1\n",
            "  0 99 11\n",
            "  1 19 50\n",
            "[1] 0.8324022\n"
          ]
        }
      ]
    }
  ]
}