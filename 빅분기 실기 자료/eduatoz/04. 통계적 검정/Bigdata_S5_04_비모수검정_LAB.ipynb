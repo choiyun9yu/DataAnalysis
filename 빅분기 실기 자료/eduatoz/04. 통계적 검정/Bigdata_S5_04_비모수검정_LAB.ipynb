{
  "cells": [
    {
      "attachments": {},
      "cell_type": "markdown",
      "metadata": {
        "id": "1QBL63Yfh5D1"
      },
      "source": [
        "### 0.데이터 다운로드\n"
      ]
    },
    {
      "cell_type": "code",
      "execution_count": null,
      "metadata": {
        "colab": {
          "base_uri": "https://localhost:8080/"
        },
        "id": "Rxwkisfeh_Nl",
        "outputId": "5adbf73c-e2c3-4d78-9682-28719de4ec6e"
      },
      "outputs": [],
      "source": [
        "!git clone https://github.com/Soyoung-Yoon/data_02"
      ]
    },
    {
      "cell_type": "code",
      "execution_count": 1,
      "metadata": {
        "id": "cMlARWe_iB8p"
      },
      "outputs": [
        {
          "data": {
            "text/plain": [
              "'1.9.3'"
            ]
          },
          "execution_count": 1,
          "metadata": {},
          "output_type": "execute_result"
        }
      ],
      "source": [
        "import scipy\n",
        "scipy.__version__"
      ]
    },
    {
      "cell_type": "code",
      "execution_count": 2,
      "metadata": {
        "id": "qNc6dXIQiDfN"
      },
      "outputs": [
        {
          "name": "stdout",
          "output_type": "stream",
          "text": [
            "Collecting scipy==1.6.0\n",
            "  Using cached scipy-1.6.0.tar.gz (27.3 MB)\n",
            "  Installing build dependencies ... \u001b[?25ldone\n",
            "\u001b[?25h  Getting requirements to build wheel ... \u001b[?25ldone\n",
            "\u001b[?25h  Preparing metadata (pyproject.toml) ... \u001b[?25ldone\n",
            "\u001b[?25hRequirement already satisfied: numpy>=1.16.5 in /opt/homebrew/Caskroom/miniforge/base/envs/ml/lib/python3.11/site-packages (from scipy==1.6.0) (1.24.3)\n",
            "Building wheels for collected packages: scipy\n",
            "  Building wheel for scipy (pyproject.toml) ... \u001b[?25lerror\n",
            "  \u001b[1;31merror\u001b[0m: \u001b[1msubprocess-exited-with-error\u001b[0m\n",
            "  \n",
            "  \u001b[31m×\u001b[0m \u001b[32mBuilding wheel for scipy \u001b[0m\u001b[1;32m(\u001b[0m\u001b[32mpyproject.toml\u001b[0m\u001b[1;32m)\u001b[0m did not run successfully.\n",
            "  \u001b[31m│\u001b[0m exit code: \u001b[1;36m1\u001b[0m\n",
            "  \u001b[31m╰─>\u001b[0m \u001b[31m[893 lines of output]\u001b[0m\n",
            "  \u001b[31m   \u001b[0m setup.py:563: DeprecationWarning:\n",
            "  \u001b[31m   \u001b[0m \n",
            "  \u001b[31m   \u001b[0m   `numpy.distutils` is deprecated since NumPy 1.23.0, as a result\n",
            "  \u001b[31m   \u001b[0m   of the deprecation of `distutils` itself. It will be removed for\n",
            "  \u001b[31m   \u001b[0m   Python >= 3.12. For older Python versions it will remain present.\n",
            "  \u001b[31m   \u001b[0m   It is recommended to use `setuptools < 60.0` for those Python versions.\n",
            "  \u001b[31m   \u001b[0m   For more details, see:\n",
            "  \u001b[31m   \u001b[0m     https://numpy.org/devdocs/reference/distutils_status_migration.html\n",
            "  \u001b[31m   \u001b[0m \n",
            "  \u001b[31m   \u001b[0m \n",
            "  \u001b[31m   \u001b[0m   from numpy.distutils.core import setup\n",
            "  \u001b[31m   \u001b[0m Running from SciPy source directory.\n",
            "  \u001b[31m   \u001b[0m INFO: lapack_opt_info:\n",
            "  \u001b[31m   \u001b[0m INFO: lapack_armpl_info:\n",
            "  \u001b[31m   \u001b[0m INFO: customize UnixCCompiler\n",
            "  \u001b[31m   \u001b[0m INFO:   libraries armpl_lp64_mp not found in ['/opt/homebrew/Caskroom/miniforge/base/envs/ml/lib', '/usr/lib']\n",
            "  \u001b[31m   \u001b[0m INFO:   NOT AVAILABLE\n",
            "  \u001b[31m   \u001b[0m INFO:\n",
            "  \u001b[31m   \u001b[0m INFO: lapack_mkl_info:\n",
            "  \u001b[31m   \u001b[0m INFO:   libraries mkl_rt not found in ['/opt/homebrew/Caskroom/miniforge/base/envs/ml/lib', '/usr/lib']\n",
            "  \u001b[31m   \u001b[0m INFO:   NOT AVAILABLE\n",
            "  \u001b[31m   \u001b[0m INFO:\n",
            "  \u001b[31m   \u001b[0m INFO: lapack_ssl2_info:\n",
            "  \u001b[31m   \u001b[0m INFO:   libraries fjlapackexsve not found in ['/opt/homebrew/Caskroom/miniforge/base/envs/ml/lib', '/usr/lib']\n",
            "  \u001b[31m   \u001b[0m INFO:   NOT AVAILABLE\n",
            "  \u001b[31m   \u001b[0m INFO:\n",
            "  \u001b[31m   \u001b[0m INFO: openblas_lapack_info:\n",
            "  \u001b[31m   \u001b[0m INFO:   libraries openblas not found in ['/opt/homebrew/Caskroom/miniforge/base/envs/ml/lib', '/usr/lib']\n",
            "  \u001b[31m   \u001b[0m INFO:   NOT AVAILABLE\n",
            "  \u001b[31m   \u001b[0m INFO:\n",
            "  \u001b[31m   \u001b[0m INFO: openblas_clapack_info:\n",
            "  \u001b[31m   \u001b[0m INFO:   libraries openblas,lapack not found in ['/opt/homebrew/Caskroom/miniforge/base/envs/ml/lib', '/usr/lib']\n",
            "  \u001b[31m   \u001b[0m INFO:   NOT AVAILABLE\n",
            "  \u001b[31m   \u001b[0m INFO:\n",
            "  \u001b[31m   \u001b[0m INFO: flame_info:\n",
            "  \u001b[31m   \u001b[0m INFO:   libraries flame not found in ['/opt/homebrew/Caskroom/miniforge/base/envs/ml/lib', '/usr/lib']\n",
            "  \u001b[31m   \u001b[0m INFO:   NOT AVAILABLE\n",
            "  \u001b[31m   \u001b[0m INFO:\n",
            "  \u001b[31m   \u001b[0m INFO: accelerate_info:\n",
            "  \u001b[31m   \u001b[0m INFO:   NOT AVAILABLE\n",
            "  \u001b[31m   \u001b[0m INFO:\n",
            "  \u001b[31m   \u001b[0m INFO: atlas_3_10_threads_info:\n",
            "  \u001b[31m   \u001b[0m INFO: Setting PTATLAS=ATLAS\n",
            "  \u001b[31m   \u001b[0m INFO:   libraries tatlas,tatlas not found in /opt/homebrew/Caskroom/miniforge/base/envs/ml/lib\n",
            "  \u001b[31m   \u001b[0m INFO:   libraries tatlas,tatlas not found in /usr/lib\n",
            "  \u001b[31m   \u001b[0m INFO: <class 'numpy.distutils.system_info.atlas_3_10_threads_info'>\n",
            "  \u001b[31m   \u001b[0m INFO:   NOT AVAILABLE\n",
            "  \u001b[31m   \u001b[0m INFO:\n",
            "  \u001b[31m   \u001b[0m INFO: atlas_3_10_info:\n",
            "  \u001b[31m   \u001b[0m INFO:   libraries satlas,satlas not found in /opt/homebrew/Caskroom/miniforge/base/envs/ml/lib\n",
            "  \u001b[31m   \u001b[0m INFO:   libraries satlas,satlas not found in /usr/lib\n",
            "  \u001b[31m   \u001b[0m INFO: <class 'numpy.distutils.system_info.atlas_3_10_info'>\n",
            "  \u001b[31m   \u001b[0m INFO:   NOT AVAILABLE\n",
            "  \u001b[31m   \u001b[0m INFO:\n",
            "  \u001b[31m   \u001b[0m INFO: atlas_threads_info:\n",
            "  \u001b[31m   \u001b[0m INFO: Setting PTATLAS=ATLAS\n",
            "  \u001b[31m   \u001b[0m INFO:   libraries ptf77blas,ptcblas,atlas not found in /opt/homebrew/Caskroom/miniforge/base/envs/ml/lib\n",
            "  \u001b[31m   \u001b[0m INFO:   libraries ptf77blas,ptcblas,atlas not found in /usr/lib\n",
            "  \u001b[31m   \u001b[0m INFO: <class 'numpy.distutils.system_info.atlas_threads_info'>\n",
            "  \u001b[31m   \u001b[0m INFO:   NOT AVAILABLE\n",
            "  \u001b[31m   \u001b[0m INFO:\n",
            "  \u001b[31m   \u001b[0m INFO: atlas_info:\n",
            "  \u001b[31m   \u001b[0m INFO:   libraries f77blas,cblas,atlas not found in /opt/homebrew/Caskroom/miniforge/base/envs/ml/lib\n",
            "  \u001b[31m   \u001b[0m INFO:   libraries f77blas,cblas,atlas not found in /usr/lib\n",
            "  \u001b[31m   \u001b[0m INFO: <class 'numpy.distutils.system_info.atlas_info'>\n",
            "  \u001b[31m   \u001b[0m INFO:   NOT AVAILABLE\n",
            "  \u001b[31m   \u001b[0m INFO:\n",
            "  \u001b[31m   \u001b[0m INFO: lapack_info:\n",
            "  \u001b[31m   \u001b[0m INFO:   FOUND:\n",
            "  \u001b[31m   \u001b[0m INFO:     libraries = ['lapack', 'lapack']\n",
            "  \u001b[31m   \u001b[0m INFO:     library_dirs = ['/opt/homebrew/Caskroom/miniforge/base/envs/ml/lib']\n",
            "  \u001b[31m   \u001b[0m INFO:     language = f77\n",
            "  \u001b[31m   \u001b[0m INFO:\n",
            "  \u001b[31m   \u001b[0m INFO: blas_opt_info:\n",
            "  \u001b[31m   \u001b[0m INFO: blas_armpl_info:\n",
            "  \u001b[31m   \u001b[0m INFO:   libraries armpl_lp64_mp not found in ['/opt/homebrew/Caskroom/miniforge/base/envs/ml/lib', '/usr/lib']\n",
            "  \u001b[31m   \u001b[0m INFO:   NOT AVAILABLE\n",
            "  \u001b[31m   \u001b[0m INFO:\n",
            "  \u001b[31m   \u001b[0m INFO: blas_mkl_info:\n",
            "  \u001b[31m   \u001b[0m INFO:   libraries mkl_rt not found in ['/opt/homebrew/Caskroom/miniforge/base/envs/ml/lib', '/usr/lib']\n",
            "  \u001b[31m   \u001b[0m INFO:   NOT AVAILABLE\n",
            "  \u001b[31m   \u001b[0m INFO:\n",
            "  \u001b[31m   \u001b[0m INFO: blas_ssl2_info:\n",
            "  \u001b[31m   \u001b[0m INFO:   libraries fjlapackexsve not found in ['/opt/homebrew/Caskroom/miniforge/base/envs/ml/lib', '/usr/lib']\n",
            "  \u001b[31m   \u001b[0m INFO:   NOT AVAILABLE\n",
            "  \u001b[31m   \u001b[0m INFO:\n",
            "  \u001b[31m   \u001b[0m INFO: blis_info:\n",
            "  \u001b[31m   \u001b[0m INFO:   libraries blis not found in ['/opt/homebrew/Caskroom/miniforge/base/envs/ml/lib', '/usr/lib']\n",
            "  \u001b[31m   \u001b[0m INFO:   NOT AVAILABLE\n",
            "  \u001b[31m   \u001b[0m INFO:\n",
            "  \u001b[31m   \u001b[0m INFO: openblas_info:\n",
            "  \u001b[31m   \u001b[0m INFO:   libraries openblas not found in ['/opt/homebrew/Caskroom/miniforge/base/envs/ml/lib', '/usr/lib']\n",
            "  \u001b[31m   \u001b[0m INFO:   NOT AVAILABLE\n",
            "  \u001b[31m   \u001b[0m INFO:\n",
            "  \u001b[31m   \u001b[0m INFO: atlas_3_10_blas_threads_info:\n",
            "  \u001b[31m   \u001b[0m INFO: Setting PTATLAS=ATLAS\n",
            "  \u001b[31m   \u001b[0m INFO:   libraries tatlas not found in ['/opt/homebrew/Caskroom/miniforge/base/envs/ml/lib', '/usr/lib']\n",
            "  \u001b[31m   \u001b[0m INFO:   NOT AVAILABLE\n",
            "  \u001b[31m   \u001b[0m INFO:\n",
            "  \u001b[31m   \u001b[0m INFO: atlas_3_10_blas_info:\n",
            "  \u001b[31m   \u001b[0m INFO:   libraries satlas not found in ['/opt/homebrew/Caskroom/miniforge/base/envs/ml/lib', '/usr/lib']\n",
            "  \u001b[31m   \u001b[0m INFO:   NOT AVAILABLE\n",
            "  \u001b[31m   \u001b[0m INFO:\n",
            "  \u001b[31m   \u001b[0m INFO: atlas_blas_threads_info:\n",
            "  \u001b[31m   \u001b[0m INFO: Setting PTATLAS=ATLAS\n",
            "  \u001b[31m   \u001b[0m INFO:   libraries ptf77blas,ptcblas,atlas not found in ['/opt/homebrew/Caskroom/miniforge/base/envs/ml/lib', '/usr/lib']\n",
            "  \u001b[31m   \u001b[0m INFO:   NOT AVAILABLE\n",
            "  \u001b[31m   \u001b[0m INFO:\n",
            "  \u001b[31m   \u001b[0m INFO: atlas_blas_info:\n",
            "  \u001b[31m   \u001b[0m INFO:   libraries f77blas,cblas,atlas not found in ['/opt/homebrew/Caskroom/miniforge/base/envs/ml/lib', '/usr/lib']\n",
            "  \u001b[31m   \u001b[0m INFO:   NOT AVAILABLE\n",
            "  \u001b[31m   \u001b[0m INFO:\n",
            "  \u001b[31m   \u001b[0m /private/var/folders/ps/szc1qwh135x62ct9q9t4phnr0000gn/T/pip-build-env-wgeggg3r/overlay/lib/python3.11/site-packages/numpy/distutils/system_info.py:2154: UserWarning:\n",
            "  \u001b[31m   \u001b[0m     Optimized (vendor) Blas libraries are not found.\n",
            "  \u001b[31m   \u001b[0m     Falls back to netlib Blas library which has worse performance.\n",
            "  \u001b[31m   \u001b[0m     A better performance should be easily gained by switching\n",
            "  \u001b[31m   \u001b[0m     Blas library.\n",
            "  \u001b[31m   \u001b[0m   if self._calc_info(blas):\n",
            "  \u001b[31m   \u001b[0m INFO: blas_info:\n",
            "  \u001b[31m   \u001b[0m INFO: C compiler: clang -DNDEBUG -fwrapv -O2 -Wall -fPIC -O2 -isystem /opt/homebrew/Caskroom/miniforge/base/envs/ml/include -arch arm64 -fPIC -O2 -isystem /opt/homebrew/Caskroom/miniforge/base/envs/ml/include -arch arm64\n",
            "  \u001b[31m   \u001b[0m \n",
            "  \u001b[31m   \u001b[0m creating /var/folders/ps/szc1qwh135x62ct9q9t4phnr0000gn/T/tmpp75dibfv/var\n",
            "  \u001b[31m   \u001b[0m creating /var/folders/ps/szc1qwh135x62ct9q9t4phnr0000gn/T/tmpp75dibfv/var/folders\n",
            "  \u001b[31m   \u001b[0m creating /var/folders/ps/szc1qwh135x62ct9q9t4phnr0000gn/T/tmpp75dibfv/var/folders/ps\n",
            "  \u001b[31m   \u001b[0m creating /var/folders/ps/szc1qwh135x62ct9q9t4phnr0000gn/T/tmpp75dibfv/var/folders/ps/szc1qwh135x62ct9q9t4phnr0000gn\n",
            "  \u001b[31m   \u001b[0m creating /var/folders/ps/szc1qwh135x62ct9q9t4phnr0000gn/T/tmpp75dibfv/var/folders/ps/szc1qwh135x62ct9q9t4phnr0000gn/T\n",
            "  \u001b[31m   \u001b[0m creating /var/folders/ps/szc1qwh135x62ct9q9t4phnr0000gn/T/tmpp75dibfv/var/folders/ps/szc1qwh135x62ct9q9t4phnr0000gn/T/tmpp75dibfv\n",
            "  \u001b[31m   \u001b[0m INFO: compile options: '-I/opt/homebrew/Caskroom/miniforge/base/envs/ml/include -c'\n",
            "  \u001b[31m   \u001b[0m INFO: clang: /var/folders/ps/szc1qwh135x62ct9q9t4phnr0000gn/T/tmpp75dibfv/source.c\n",
            "  \u001b[31m   \u001b[0m /var/folders/ps/szc1qwh135x62ct9q9t4phnr0000gn/T/tmpp75dibfv/source.c:1:10: fatal error: 'cblas.h' file not found\n",
            "  \u001b[31m   \u001b[0m #include <cblas.h>\n",
            "  \u001b[31m   \u001b[0m          ^~~~~~~~~\n",
            "  \u001b[31m   \u001b[0m 1 error generated.\n",
            "  \u001b[31m   \u001b[0m INFO:   FOUND:\n",
            "  \u001b[31m   \u001b[0m INFO:     libraries = ['blas', 'blas']\n",
            "  \u001b[31m   \u001b[0m INFO:     library_dirs = ['/opt/homebrew/Caskroom/miniforge/base/envs/ml/lib']\n",
            "  \u001b[31m   \u001b[0m INFO:     include_dirs = ['/opt/homebrew/Caskroom/miniforge/base/envs/ml/include']\n",
            "  \u001b[31m   \u001b[0m INFO:\n",
            "  \u001b[31m   \u001b[0m INFO:   FOUND:\n",
            "  \u001b[31m   \u001b[0m INFO:     define_macros = [('NO_ATLAS_INFO', 1)]\n",
            "  \u001b[31m   \u001b[0m INFO:     libraries = ['blas', 'blas']\n",
            "  \u001b[31m   \u001b[0m INFO:     library_dirs = ['/opt/homebrew/Caskroom/miniforge/base/envs/ml/lib']\n",
            "  \u001b[31m   \u001b[0m INFO:     include_dirs = ['/opt/homebrew/Caskroom/miniforge/base/envs/ml/include']\n",
            "  \u001b[31m   \u001b[0m INFO:\n",
            "  \u001b[31m   \u001b[0m INFO:   FOUND:\n",
            "  \u001b[31m   \u001b[0m INFO:     libraries = ['lapack', 'lapack', 'blas', 'blas']\n",
            "  \u001b[31m   \u001b[0m INFO:     library_dirs = ['/opt/homebrew/Caskroom/miniforge/base/envs/ml/lib']\n",
            "  \u001b[31m   \u001b[0m INFO:     language = f77\n",
            "  \u001b[31m   \u001b[0m INFO:     define_macros = [('NO_ATLAS_INFO', 1)]\n",
            "  \u001b[31m   \u001b[0m INFO:     include_dirs = ['/opt/homebrew/Caskroom/miniforge/base/envs/ml/include']\n",
            "  \u001b[31m   \u001b[0m INFO:\n",
            "  \u001b[31m   \u001b[0m non-existing path in 'scipy/signal/windows': 'tests'\n",
            "  \u001b[31m   \u001b[0m [makenpz] /private/var/folders/ps/szc1qwh135x62ct9q9t4phnr0000gn/T/pip-install-ezt9kppg/scipy_4f02ecc8fd9849e29821fdf13bc7a34e/scipy/special/tests/data/boost.npz not rebuilt\n",
            "  \u001b[31m   \u001b[0m [makenpz] /private/var/folders/ps/szc1qwh135x62ct9q9t4phnr0000gn/T/pip-install-ezt9kppg/scipy_4f02ecc8fd9849e29821fdf13bc7a34e/scipy/special/tests/data/gsl.npz not rebuilt\n",
            "  \u001b[31m   \u001b[0m [makenpz] /private/var/folders/ps/szc1qwh135x62ct9q9t4phnr0000gn/T/pip-install-ezt9kppg/scipy_4f02ecc8fd9849e29821fdf13bc7a34e/scipy/special/tests/data/local.npz not rebuilt\n",
            "  \u001b[31m   \u001b[0m running bdist_wheel\n",
            "  \u001b[31m   \u001b[0m running build\n",
            "  \u001b[31m   \u001b[0m running config_cc\n",
            "  \u001b[31m   \u001b[0m INFO: unifing config_cc, config, build_clib, build_ext, build commands --compiler options\n",
            "  \u001b[31m   \u001b[0m running config_fc\n",
            "  \u001b[31m   \u001b[0m INFO: unifing config_fc, config, build_clib, build_ext, build commands --fcompiler options\n",
            "  \u001b[31m   \u001b[0m running build_src\n",
            "  \u001b[31m   \u001b[0m INFO: build_src\n",
            "  \u001b[31m   \u001b[0m INFO: building py_modules sources\n",
            "  \u001b[31m   \u001b[0m INFO: building library \"mach\" sources\n",
            "  \u001b[31m   \u001b[0m INFO: building library \"quadpack\" sources\n",
            "  \u001b[31m   \u001b[0m INFO: building library \"lsoda\" sources\n",
            "  \u001b[31m   \u001b[0m INFO: building library \"vode\" sources\n",
            "  \u001b[31m   \u001b[0m INFO: building library \"dop\" sources\n",
            "  \u001b[31m   \u001b[0m INFO: building library \"fitpack\" sources\n",
            "  \u001b[31m   \u001b[0m INFO: building library \"fwrappers\" sources\n",
            "  \u001b[31m   \u001b[0m INFO: building library \"odrpack\" sources\n",
            "  \u001b[31m   \u001b[0m INFO: building library \"minpack\" sources\n",
            "  \u001b[31m   \u001b[0m INFO: building library \"rectangular_lsap\" sources\n",
            "  \u001b[31m   \u001b[0m INFO: building library \"rootfind\" sources\n",
            "  \u001b[31m   \u001b[0m INFO: building library \"basiclu\" sources\n",
            "  \u001b[31m   \u001b[0m INFO: building library \"superlu_src\" sources\n",
            "  \u001b[31m   \u001b[0m INFO: building library \"arpack_scipy\" sources\n",
            "  \u001b[31m   \u001b[0m INFO: building library \"sc_cephes\" sources\n",
            "  \u001b[31m   \u001b[0m INFO: building library \"sc_mach\" sources\n",
            "  \u001b[31m   \u001b[0m INFO: building library \"sc_amos\" sources\n",
            "  \u001b[31m   \u001b[0m INFO: building library \"sc_cdf\" sources\n",
            "  \u001b[31m   \u001b[0m INFO: building library \"sc_specfun\" sources\n",
            "  \u001b[31m   \u001b[0m INFO: building library \"statlib\" sources\n",
            "  \u001b[31m   \u001b[0m INFO: building extension \"scipy.cluster._vq\" sources\n",
            "  \u001b[31m   \u001b[0m INFO: building extension \"scipy.cluster._hierarchy\" sources\n",
            "  \u001b[31m   \u001b[0m INFO: building extension \"scipy.cluster._optimal_leaf_ordering\" sources\n",
            "  \u001b[31m   \u001b[0m INFO: building extension \"scipy.fft._pocketfft.pypocketfft\" sources\n",
            "  \u001b[31m   \u001b[0m INFO: building extension \"scipy.fftpack.convolve\" sources\n",
            "  \u001b[31m   \u001b[0m INFO: building extension \"scipy.integrate._quadpack\" sources\n",
            "  \u001b[31m   \u001b[0m INFO: building extension \"scipy.integrate._odepack\" sources\n",
            "  \u001b[31m   \u001b[0m INFO: building extension \"scipy.integrate.vode\" sources\n",
            "  \u001b[31m   \u001b[0m INFO: f2py options: []\n",
            "  \u001b[31m   \u001b[0m INFO:   adding 'build/src.macosx-11.0-arm64-3.11/build/src.macosx-11.0-arm64-3.11/scipy/integrate/fortranobject.c' to sources.\n",
            "  \u001b[31m   \u001b[0m INFO:   adding 'build/src.macosx-11.0-arm64-3.11/build/src.macosx-11.0-arm64-3.11/scipy/integrate' to include_dirs.\n",
            "  \u001b[31m   \u001b[0m INFO:   adding 'build/src.macosx-11.0-arm64-3.11/scipy/integrate/vode-f2pywrappers.f' to sources.\n",
            "  \u001b[31m   \u001b[0m INFO: building extension \"scipy.integrate.lsoda\" sources\n",
            "  \u001b[31m   \u001b[0m INFO: f2py options: []\n",
            "  \u001b[31m   \u001b[0m INFO:   adding 'build/src.macosx-11.0-arm64-3.11/build/src.macosx-11.0-arm64-3.11/scipy/integrate/fortranobject.c' to sources.\n",
            "  \u001b[31m   \u001b[0m INFO:   adding 'build/src.macosx-11.0-arm64-3.11/build/src.macosx-11.0-arm64-3.11/scipy/integrate' to include_dirs.\n",
            "  \u001b[31m   \u001b[0m INFO:   adding 'build/src.macosx-11.0-arm64-3.11/scipy/integrate/lsoda-f2pywrappers.f' to sources.\n",
            "  \u001b[31m   \u001b[0m INFO: building extension \"scipy.integrate._dop\" sources\n",
            "  \u001b[31m   \u001b[0m INFO: f2py options: []\n",
            "  \u001b[31m   \u001b[0m INFO:   adding 'build/src.macosx-11.0-arm64-3.11/build/src.macosx-11.0-arm64-3.11/scipy/integrate/fortranobject.c' to sources.\n",
            "  \u001b[31m   \u001b[0m INFO:   adding 'build/src.macosx-11.0-arm64-3.11/build/src.macosx-11.0-arm64-3.11/scipy/integrate' to include_dirs.\n",
            "  \u001b[31m   \u001b[0m INFO:   adding 'build/src.macosx-11.0-arm64-3.11/scipy/integrate/_dop-f2pywrappers.f' to sources.\n",
            "  \u001b[31m   \u001b[0m INFO: building extension \"scipy.integrate._test_multivariate\" sources\n",
            "  \u001b[31m   \u001b[0m INFO: building extension \"scipy.integrate._test_odeint_banded\" sources\n",
            "  \u001b[31m   \u001b[0m INFO: f2py options: []\n",
            "  \u001b[31m   \u001b[0m INFO:   adding 'build/src.macosx-11.0-arm64-3.11/build/src.macosx-11.0-arm64-3.11/scipy/integrate/fortranobject.c' to sources.\n",
            "  \u001b[31m   \u001b[0m INFO:   adding 'build/src.macosx-11.0-arm64-3.11/build/src.macosx-11.0-arm64-3.11/scipy/integrate' to include_dirs.\n",
            "  \u001b[31m   \u001b[0m INFO:   adding 'build/src.macosx-11.0-arm64-3.11/scipy/integrate/_test_odeint_banded-f2pywrappers.f' to sources.\n",
            "  \u001b[31m   \u001b[0m INFO: building extension \"scipy.interpolate.interpnd\" sources\n",
            "  \u001b[31m   \u001b[0m INFO: building extension \"scipy.interpolate._ppoly\" sources\n",
            "  \u001b[31m   \u001b[0m INFO: building extension \"scipy.interpolate._bspl\" sources\n",
            "  \u001b[31m   \u001b[0m INFO: building extension \"scipy.interpolate._fitpack\" sources\n",
            "  \u001b[31m   \u001b[0m INFO: building extension \"scipy.interpolate.dfitpack\" sources\n",
            "  \u001b[31m   \u001b[0m INFO: f2py options: []\n",
            "  \u001b[31m   \u001b[0m INFO:   adding 'build/src.macosx-11.0-arm64-3.11/build/src.macosx-11.0-arm64-3.11/scipy/interpolate/src/fortranobject.c' to sources.\n",
            "  \u001b[31m   \u001b[0m INFO:   adding 'build/src.macosx-11.0-arm64-3.11/build/src.macosx-11.0-arm64-3.11/scipy/interpolate/src' to include_dirs.\n",
            "  \u001b[31m   \u001b[0m INFO:   adding 'build/src.macosx-11.0-arm64-3.11/scipy/interpolate/src/dfitpack-f2pywrappers.f' to sources.\n",
            "  \u001b[31m   \u001b[0m INFO: building extension \"scipy.io._test_fortran\" sources\n",
            "  \u001b[31m   \u001b[0m INFO: f2py options: []\n",
            "  \u001b[31m   \u001b[0m INFO:   adding 'build/src.macosx-11.0-arm64-3.11/build/src.macosx-11.0-arm64-3.11/scipy/io/fortranobject.c' to sources.\n",
            "  \u001b[31m   \u001b[0m INFO:   adding 'build/src.macosx-11.0-arm64-3.11/build/src.macosx-11.0-arm64-3.11/scipy/io' to include_dirs.\n",
            "  \u001b[31m   \u001b[0m INFO:   adding 'build/src.macosx-11.0-arm64-3.11/scipy/io/_test_fortran-f2pywrappers.f' to sources.\n",
            "  \u001b[31m   \u001b[0m INFO: building extension \"scipy.io.matlab.streams\" sources\n",
            "  \u001b[31m   \u001b[0m INFO: building extension \"scipy.io.matlab.mio_utils\" sources\n",
            "  \u001b[31m   \u001b[0m INFO: building extension \"scipy.io.matlab.mio5_utils\" sources\n",
            "  \u001b[31m   \u001b[0m INFO: building extension \"scipy.linalg._fblas\" sources\n",
            "  \u001b[31m   \u001b[0m INFO: f2py options: []\n",
            "  \u001b[31m   \u001b[0m INFO:   adding 'build/src.macosx-11.0-arm64-3.11/build/src.macosx-11.0-arm64-3.11/build/src.macosx-11.0-arm64-3.11/scipy/linalg/fortranobject.c' to sources.\n",
            "  \u001b[31m   \u001b[0m INFO:   adding 'build/src.macosx-11.0-arm64-3.11/build/src.macosx-11.0-arm64-3.11/build/src.macosx-11.0-arm64-3.11/scipy/linalg' to include_dirs.\n",
            "  \u001b[31m   \u001b[0m INFO:   adding 'build/src.macosx-11.0-arm64-3.11/build/src.macosx-11.0-arm64-3.11/scipy/linalg/_fblas-f2pywrappers.f' to sources.\n",
            "  \u001b[31m   \u001b[0m INFO: building extension \"scipy.linalg._flapack\" sources\n",
            "  \u001b[31m   \u001b[0m INFO: f2py options: []\n",
            "  \u001b[31m   \u001b[0m INFO:   adding 'build/src.macosx-11.0-arm64-3.11/build/src.macosx-11.0-arm64-3.11/build/src.macosx-11.0-arm64-3.11/scipy/linalg/fortranobject.c' to sources.\n",
            "  \u001b[31m   \u001b[0m INFO:   adding 'build/src.macosx-11.0-arm64-3.11/build/src.macosx-11.0-arm64-3.11/build/src.macosx-11.0-arm64-3.11/scipy/linalg' to include_dirs.\n",
            "  \u001b[31m   \u001b[0m INFO:   adding 'build/src.macosx-11.0-arm64-3.11/build/src.macosx-11.0-arm64-3.11/scipy/linalg/_flapack-f2pywrappers.f' to sources.\n",
            "  \u001b[31m   \u001b[0m INFO: building extension \"scipy.linalg._flinalg\" sources\n",
            "  \u001b[31m   \u001b[0m INFO: f2py options: []\n",
            "  \u001b[31m   \u001b[0m INFO:   adding 'build/src.macosx-11.0-arm64-3.11/build/src.macosx-11.0-arm64-3.11/scipy/linalg/fortranobject.c' to sources.\n",
            "  \u001b[31m   \u001b[0m INFO:   adding 'build/src.macosx-11.0-arm64-3.11/build/src.macosx-11.0-arm64-3.11/scipy/linalg' to include_dirs.\n",
            "  \u001b[31m   \u001b[0m INFO:   adding 'build/src.macosx-11.0-arm64-3.11/scipy/linalg/_flinalg-f2pywrappers.f' to sources.\n",
            "  \u001b[31m   \u001b[0m INFO: building extension \"scipy.linalg._interpolative\" sources\n",
            "  \u001b[31m   \u001b[0m INFO: f2py options: []\n",
            "  \u001b[31m   \u001b[0m INFO:   adding 'build/src.macosx-11.0-arm64-3.11/build/src.macosx-11.0-arm64-3.11/scipy/linalg/fortranobject.c' to sources.\n",
            "  \u001b[31m   \u001b[0m INFO:   adding 'build/src.macosx-11.0-arm64-3.11/build/src.macosx-11.0-arm64-3.11/scipy/linalg' to include_dirs.\n",
            "  \u001b[31m   \u001b[0m INFO:   adding 'build/src.macosx-11.0-arm64-3.11/scipy/linalg/_interpolative-f2pywrappers.f' to sources.\n",
            "  \u001b[31m   \u001b[0m INFO: building extension \"scipy.linalg._solve_toeplitz\" sources\n",
            "  \u001b[31m   \u001b[0m INFO: building extension \"scipy.linalg._matfuncs_sqrtm_triu\" sources\n",
            "  \u001b[31m   \u001b[0m INFO: building extension \"scipy.linalg.cython_blas\" sources\n",
            "  \u001b[31m   \u001b[0m INFO: building extension \"scipy.linalg.cython_lapack\" sources\n",
            "  \u001b[31m   \u001b[0m INFO: building extension \"scipy.linalg._decomp_update\" sources\n",
            "  \u001b[31m   \u001b[0m INFO: building extension \"scipy.odr.__odrpack\" sources\n",
            "  \u001b[31m   \u001b[0m INFO: building extension \"scipy.optimize._minpack\" sources\n",
            "  \u001b[31m   \u001b[0m INFO: building extension \"scipy.optimize._lsap_module\" sources\n",
            "  \u001b[31m   \u001b[0m INFO: building extension \"scipy.optimize._zeros\" sources\n",
            "  \u001b[31m   \u001b[0m INFO: building extension \"scipy.optimize._lbfgsb\" sources\n",
            "  \u001b[31m   \u001b[0m INFO: f2py options: []\n",
            "  \u001b[31m   \u001b[0m INFO:   adding 'build/src.macosx-11.0-arm64-3.11/build/src.macosx-11.0-arm64-3.11/scipy/optimize/lbfgsb_src/fortranobject.c' to sources.\n",
            "  \u001b[31m   \u001b[0m INFO:   adding 'build/src.macosx-11.0-arm64-3.11/build/src.macosx-11.0-arm64-3.11/scipy/optimize/lbfgsb_src' to include_dirs.\n",
            "  \u001b[31m   \u001b[0m INFO:   adding 'build/src.macosx-11.0-arm64-3.11/scipy/optimize/lbfgsb_src/_lbfgsb-f2pywrappers.f' to sources.\n",
            "  \u001b[31m   \u001b[0m INFO: building extension \"scipy.optimize.moduleTNC\" sources\n",
            "  \u001b[31m   \u001b[0m INFO: building extension \"scipy.optimize._cobyla\" sources\n",
            "  \u001b[31m   \u001b[0m INFO: f2py options: []\n",
            "  \u001b[31m   \u001b[0m INFO:   adding 'build/src.macosx-11.0-arm64-3.11/build/src.macosx-11.0-arm64-3.11/scipy/optimize/cobyla/fortranobject.c' to sources.\n",
            "  \u001b[31m   \u001b[0m INFO:   adding 'build/src.macosx-11.0-arm64-3.11/build/src.macosx-11.0-arm64-3.11/scipy/optimize/cobyla' to include_dirs.\n",
            "  \u001b[31m   \u001b[0m INFO:   adding 'build/src.macosx-11.0-arm64-3.11/scipy/optimize/cobyla/_cobyla-f2pywrappers.f' to sources.\n",
            "  \u001b[31m   \u001b[0m INFO: building extension \"scipy.optimize.minpack2\" sources\n",
            "  \u001b[31m   \u001b[0m INFO: f2py options: []\n",
            "  \u001b[31m   \u001b[0m INFO:   adding 'build/src.macosx-11.0-arm64-3.11/build/src.macosx-11.0-arm64-3.11/scipy/optimize/minpack2/fortranobject.c' to sources.\n",
            "  \u001b[31m   \u001b[0m INFO:   adding 'build/src.macosx-11.0-arm64-3.11/build/src.macosx-11.0-arm64-3.11/scipy/optimize/minpack2' to include_dirs.\n",
            "  \u001b[31m   \u001b[0m INFO:   adding 'build/src.macosx-11.0-arm64-3.11/scipy/optimize/minpack2/minpack2-f2pywrappers.f' to sources.\n",
            "  \u001b[31m   \u001b[0m INFO: building extension \"scipy.optimize._slsqp\" sources\n",
            "  \u001b[31m   \u001b[0m INFO: f2py options: []\n",
            "  \u001b[31m   \u001b[0m INFO:   adding 'build/src.macosx-11.0-arm64-3.11/build/src.macosx-11.0-arm64-3.11/scipy/optimize/slsqp/fortranobject.c' to sources.\n",
            "  \u001b[31m   \u001b[0m INFO:   adding 'build/src.macosx-11.0-arm64-3.11/build/src.macosx-11.0-arm64-3.11/scipy/optimize/slsqp' to include_dirs.\n",
            "  \u001b[31m   \u001b[0m INFO:   adding 'build/src.macosx-11.0-arm64-3.11/scipy/optimize/slsqp/_slsqp-f2pywrappers.f' to sources.\n",
            "  \u001b[31m   \u001b[0m INFO: building extension \"scipy.optimize.__nnls\" sources\n",
            "  \u001b[31m   \u001b[0m INFO: f2py options: []\n",
            "  \u001b[31m   \u001b[0m INFO:   adding 'build/src.macosx-11.0-arm64-3.11/build/src.macosx-11.0-arm64-3.11/scipy/optimize/__nnls/fortranobject.c' to sources.\n",
            "  \u001b[31m   \u001b[0m INFO:   adding 'build/src.macosx-11.0-arm64-3.11/build/src.macosx-11.0-arm64-3.11/scipy/optimize/__nnls' to include_dirs.\n",
            "  \u001b[31m   \u001b[0m INFO:   adding 'build/src.macosx-11.0-arm64-3.11/scipy/optimize/__nnls/__nnls-f2pywrappers.f' to sources.\n",
            "  \u001b[31m   \u001b[0m INFO: building extension \"scipy.optimize._group_columns\" sources\n",
            "  \u001b[31m   \u001b[0m INFO: building extension \"scipy.optimize._bglu_dense\" sources\n",
            "  \u001b[31m   \u001b[0m INFO: building extension \"scipy.optimize._lsq.givens_elimination\" sources\n",
            "  \u001b[31m   \u001b[0m INFO: building extension \"scipy.optimize._trlib._trlib\" sources\n",
            "  \u001b[31m   \u001b[0m INFO: building extension \"scipy.optimize.cython_optimize._zeros\" sources\n",
            "  \u001b[31m   \u001b[0m INFO: building extension \"scipy.optimize._highs.highs_wrapper\" sources\n",
            "  \u001b[31m   \u001b[0m INFO: building extension \"scipy.optimize._highs.mpswriter\" sources\n",
            "  \u001b[31m   \u001b[0m INFO: building extension \"scipy.optimize._highs.constants\" sources\n",
            "  \u001b[31m   \u001b[0m INFO: building extension \"scipy.signal.sigtools\" sources\n",
            "  \u001b[31m   \u001b[0m INFO: building extension \"scipy.signal._spectral\" sources\n",
            "  \u001b[31m   \u001b[0m INFO: building extension \"scipy.signal._max_len_seq_inner\" sources\n",
            "  \u001b[31m   \u001b[0m INFO: building extension \"scipy.signal._peak_finding_utils\" sources\n",
            "  \u001b[31m   \u001b[0m INFO: building extension \"scipy.signal._sosfilt\" sources\n",
            "  \u001b[31m   \u001b[0m INFO: building extension \"scipy.signal._upfirdn_apply\" sources\n",
            "  \u001b[31m   \u001b[0m INFO: building extension \"scipy.signal.spline\" sources\n",
            "  \u001b[31m   \u001b[0m INFO: building extension \"scipy.sparse.linalg.isolve._iterative\" sources\n",
            "  \u001b[31m   \u001b[0m INFO: f2py options: []\n",
            "  \u001b[31m   \u001b[0m INFO:   adding 'build/src.macosx-11.0-arm64-3.11/build/src.macosx-11.0-arm64-3.11/build/src.macosx-11.0-arm64-3.11/scipy/sparse/linalg/isolve/iterative/fortranobject.c' to sources.\n",
            "  \u001b[31m   \u001b[0m INFO:   adding 'build/src.macosx-11.0-arm64-3.11/build/src.macosx-11.0-arm64-3.11/build/src.macosx-11.0-arm64-3.11/scipy/sparse/linalg/isolve/iterative' to include_dirs.\n",
            "  \u001b[31m   \u001b[0m INFO:   adding 'build/src.macosx-11.0-arm64-3.11/build/src.macosx-11.0-arm64-3.11/scipy/sparse/linalg/isolve/iterative/_iterative-f2pywrappers.f' to sources.\n",
            "  \u001b[31m   \u001b[0m INFO: building extension \"scipy.sparse.linalg.dsolve._superlu\" sources\n",
            "  \u001b[31m   \u001b[0m INFO: building extension \"scipy.sparse.linalg.eigen.arpack._arpack\" sources\n",
            "  \u001b[31m   \u001b[0m INFO: f2py options: []\n",
            "  \u001b[31m   \u001b[0m INFO:   adding 'build/src.macosx-11.0-arm64-3.11/build/src.macosx-11.0-arm64-3.11/build/src.macosx-11.0-arm64-3.11/scipy/sparse/linalg/eigen/arpack/fortranobject.c' to sources.\n",
            "  \u001b[31m   \u001b[0m INFO:   adding 'build/src.macosx-11.0-arm64-3.11/build/src.macosx-11.0-arm64-3.11/build/src.macosx-11.0-arm64-3.11/scipy/sparse/linalg/eigen/arpack' to include_dirs.\n",
            "  \u001b[31m   \u001b[0m INFO:   adding 'build/src.macosx-11.0-arm64-3.11/build/src.macosx-11.0-arm64-3.11/scipy/sparse/linalg/eigen/arpack/_arpack-f2pywrappers.f' to sources.\n",
            "  \u001b[31m   \u001b[0m INFO: building extension \"scipy.sparse.csgraph._shortest_path\" sources\n",
            "  \u001b[31m   \u001b[0m INFO: building extension \"scipy.sparse.csgraph._traversal\" sources\n",
            "  \u001b[31m   \u001b[0m INFO: building extension \"scipy.sparse.csgraph._min_spanning_tree\" sources\n",
            "  \u001b[31m   \u001b[0m INFO: building extension \"scipy.sparse.csgraph._matching\" sources\n",
            "  \u001b[31m   \u001b[0m INFO: building extension \"scipy.sparse.csgraph._flow\" sources\n",
            "  \u001b[31m   \u001b[0m INFO: building extension \"scipy.sparse.csgraph._reordering\" sources\n",
            "  \u001b[31m   \u001b[0m INFO: building extension \"scipy.sparse.csgraph._tools\" sources\n",
            "  \u001b[31m   \u001b[0m INFO: building extension \"scipy.sparse._csparsetools\" sources\n",
            "  \u001b[31m   \u001b[0m INFO: building extension \"scipy.sparse._sparsetools\" sources\n",
            "  \u001b[31m   \u001b[0m [generate_sparsetools] '/private/var/folders/ps/szc1qwh135x62ct9q9t4phnr0000gn/T/pip-install-ezt9kppg/scipy_4f02ecc8fd9849e29821fdf13bc7a34e/scipy/sparse/sparsetools/bsr_impl.h' already up-to-date\n",
            "  \u001b[31m   \u001b[0m [generate_sparsetools] '/private/var/folders/ps/szc1qwh135x62ct9q9t4phnr0000gn/T/pip-install-ezt9kppg/scipy_4f02ecc8fd9849e29821fdf13bc7a34e/scipy/sparse/sparsetools/csr_impl.h' already up-to-date\n",
            "  \u001b[31m   \u001b[0m [generate_sparsetools] '/private/var/folders/ps/szc1qwh135x62ct9q9t4phnr0000gn/T/pip-install-ezt9kppg/scipy_4f02ecc8fd9849e29821fdf13bc7a34e/scipy/sparse/sparsetools/csc_impl.h' already up-to-date\n",
            "  \u001b[31m   \u001b[0m [generate_sparsetools] '/private/var/folders/ps/szc1qwh135x62ct9q9t4phnr0000gn/T/pip-install-ezt9kppg/scipy_4f02ecc8fd9849e29821fdf13bc7a34e/scipy/sparse/sparsetools/other_impl.h' already up-to-date\n",
            "  \u001b[31m   \u001b[0m [generate_sparsetools] '/private/var/folders/ps/szc1qwh135x62ct9q9t4phnr0000gn/T/pip-install-ezt9kppg/scipy_4f02ecc8fd9849e29821fdf13bc7a34e/scipy/sparse/sparsetools/sparsetools_impl.h' already up-to-date\n",
            "  \u001b[31m   \u001b[0m INFO: building extension \"scipy.spatial.transform.rotation\" sources\n",
            "  \u001b[31m   \u001b[0m INFO: building extension \"scipy.spatial.qhull\" sources\n",
            "  \u001b[31m   \u001b[0m INFO: building extension \"scipy.spatial.ckdtree\" sources\n",
            "  \u001b[31m   \u001b[0m INFO: building extension \"scipy.spatial._distance_wrap\" sources\n",
            "  \u001b[31m   \u001b[0m INFO: building extension \"scipy.spatial._voronoi\" sources\n",
            "  \u001b[31m   \u001b[0m INFO: building extension \"scipy.spatial._hausdorff\" sources\n",
            "  \u001b[31m   \u001b[0m INFO: building extension \"scipy.special.specfun\" sources\n",
            "  \u001b[31m   \u001b[0m INFO: f2py options: ['--no-wrap-functions']\n",
            "  \u001b[31m   \u001b[0m INFO:   adding 'build/src.macosx-11.0-arm64-3.11/build/src.macosx-11.0-arm64-3.11/scipy/special/fortranobject.c' to sources.\n",
            "  \u001b[31m   \u001b[0m INFO:   adding 'build/src.macosx-11.0-arm64-3.11/build/src.macosx-11.0-arm64-3.11/scipy/special' to include_dirs.\n",
            "  \u001b[31m   \u001b[0m INFO:   adding 'build/src.macosx-11.0-arm64-3.11/scipy/special/specfun-f2pywrappers.f' to sources.\n",
            "  \u001b[31m   \u001b[0m INFO: building extension \"scipy.special._ufuncs\" sources\n",
            "  \u001b[31m   \u001b[0m INFO: building extension \"scipy.special._ufuncs_cxx\" sources\n",
            "  \u001b[31m   \u001b[0m INFO: building extension \"scipy.special._ellip_harm_2\" sources\n",
            "  \u001b[31m   \u001b[0m INFO: building extension \"scipy.special.cython_special\" sources\n",
            "  \u001b[31m   \u001b[0m INFO: building extension \"scipy.special._comb\" sources\n",
            "  \u001b[31m   \u001b[0m INFO: building extension \"scipy.special._test_round\" sources\n",
            "  \u001b[31m   \u001b[0m INFO: building extension \"scipy.stats.statlib\" sources\n",
            "  \u001b[31m   \u001b[0m INFO: f2py options: ['--no-wrap-functions']\n",
            "  \u001b[31m   \u001b[0m INFO:   adding 'build/src.macosx-11.0-arm64-3.11/build/src.macosx-11.0-arm64-3.11/scipy/stats/fortranobject.c' to sources.\n",
            "  \u001b[31m   \u001b[0m INFO:   adding 'build/src.macosx-11.0-arm64-3.11/build/src.macosx-11.0-arm64-3.11/scipy/stats' to include_dirs.\n",
            "  \u001b[31m   \u001b[0m INFO:   adding 'build/src.macosx-11.0-arm64-3.11/scipy/stats/statlib-f2pywrappers.f' to sources.\n",
            "  \u001b[31m   \u001b[0m INFO: building extension \"scipy.stats._stats\" sources\n",
            "  \u001b[31m   \u001b[0m INFO: building extension \"scipy.stats.mvn\" sources\n",
            "  \u001b[31m   \u001b[0m INFO: f2py options: []\n",
            "  \u001b[31m   \u001b[0m INFO:   adding 'build/src.macosx-11.0-arm64-3.11/build/src.macosx-11.0-arm64-3.11/scipy/stats/fortranobject.c' to sources.\n",
            "  \u001b[31m   \u001b[0m INFO:   adding 'build/src.macosx-11.0-arm64-3.11/build/src.macosx-11.0-arm64-3.11/scipy/stats' to include_dirs.\n",
            "  \u001b[31m   \u001b[0m INFO:   adding 'build/src.macosx-11.0-arm64-3.11/scipy/stats/mvn-f2pywrappers.f' to sources.\n",
            "  \u001b[31m   \u001b[0m INFO: building extension \"scipy.ndimage._nd_image\" sources\n",
            "  \u001b[31m   \u001b[0m INFO: building extension \"scipy.ndimage._ni_label\" sources\n",
            "  \u001b[31m   \u001b[0m INFO: building extension \"scipy.ndimage._ctest\" sources\n",
            "  \u001b[31m   \u001b[0m INFO: building extension \"scipy.ndimage._cytest\" sources\n",
            "  \u001b[31m   \u001b[0m INFO: building extension \"scipy._lib._ccallback_c\" sources\n",
            "  \u001b[31m   \u001b[0m INFO: building extension \"scipy._lib._test_ccallback\" sources\n",
            "  \u001b[31m   \u001b[0m INFO: building extension \"scipy._lib._fpumode\" sources\n",
            "  \u001b[31m   \u001b[0m INFO: building extension \"scipy._lib.messagestream\" sources\n",
            "  \u001b[31m   \u001b[0m WARN: Could not locate executable gfortran\n",
            "  \u001b[31m   \u001b[0m WARN: Could not locate executable f95\n",
            "  \u001b[31m   \u001b[0m WARN: Could not locate executable nagfor\n",
            "  \u001b[31m   \u001b[0m WARN: Could not locate executable f90\n",
            "  \u001b[31m   \u001b[0m WARN: Could not locate executable f77\n",
            "  \u001b[31m   \u001b[0m WARN: Could not locate executable xlf90\n",
            "  \u001b[31m   \u001b[0m WARN: Could not locate executable xlf\n",
            "  \u001b[31m   \u001b[0m WARN: Could not locate executable ifort\n",
            "  \u001b[31m   \u001b[0m WARN: Could not locate executable ifc\n",
            "  \u001b[31m   \u001b[0m WARN: Could not locate executable g77\n",
            "  \u001b[31m   \u001b[0m WARN: Could not locate executable g95\n",
            "  \u001b[31m   \u001b[0m WARN: Could not locate executable pgfortran\n",
            "  \u001b[31m   \u001b[0m WARN: don't know how to compile Fortran code on platform 'posix'\n",
            "  \u001b[31m   \u001b[0m INFO: building extension \"scipy._lib._test_deprecation_call\" sources\n",
            "  \u001b[31m   \u001b[0m INFO: building extension \"scipy._lib._test_deprecation_def\" sources\n",
            "  \u001b[31m   \u001b[0m INFO: building extension \"scipy._lib._uarray._uarray\" sources\n",
            "  \u001b[31m   \u001b[0m INFO: building data_files sources\n",
            "  \u001b[31m   \u001b[0m INFO: build_src: building npy-pkg config files\n",
            "  \u001b[31m   \u001b[0m running build_py\n",
            "  \u001b[31m   \u001b[0m creating build/lib.macosx-11.0-arm64-3.11\n",
            "  \u001b[31m   \u001b[0m creating build/lib.macosx-11.0-arm64-3.11/scipy\n",
            "  \u001b[31m   \u001b[0m copying scipy/conftest.py -> build/lib.macosx-11.0-arm64-3.11/scipy\n",
            "  \u001b[31m   \u001b[0m copying scipy/version.py -> build/lib.macosx-11.0-arm64-3.11/scipy\n",
            "  \u001b[31m   \u001b[0m copying scipy/__init__.py -> build/lib.macosx-11.0-arm64-3.11/scipy\n",
            "  \u001b[31m   \u001b[0m copying scipy/_distributor_init.py -> build/lib.macosx-11.0-arm64-3.11/scipy\n",
            "  \u001b[31m   \u001b[0m copying scipy/setup.py -> build/lib.macosx-11.0-arm64-3.11/scipy\n",
            "  \u001b[31m   \u001b[0m copying build/src.macosx-11.0-arm64-3.11/scipy/__config__.py -> build/lib.macosx-11.0-arm64-3.11/scipy\n",
            "  \u001b[31m   \u001b[0m creating build/lib.macosx-11.0-arm64-3.11/scipy/cluster\n",
            "  \u001b[31m   \u001b[0m copying scipy/cluster/vq.py -> build/lib.macosx-11.0-arm64-3.11/scipy/cluster\n",
            "  \u001b[31m   \u001b[0m copying scipy/cluster/__init__.py -> build/lib.macosx-11.0-arm64-3.11/scipy/cluster\n",
            "  \u001b[31m   \u001b[0m copying scipy/cluster/hierarchy.py -> build/lib.macosx-11.0-arm64-3.11/scipy/cluster\n",
            "  \u001b[31m   \u001b[0m copying scipy/cluster/setup.py -> build/lib.macosx-11.0-arm64-3.11/scipy/cluster\n",
            "  \u001b[31m   \u001b[0m creating build/lib.macosx-11.0-arm64-3.11/scipy/constants\n",
            "  \u001b[31m   \u001b[0m copying scipy/constants/constants.py -> build/lib.macosx-11.0-arm64-3.11/scipy/constants\n",
            "  \u001b[31m   \u001b[0m copying scipy/constants/__init__.py -> build/lib.macosx-11.0-arm64-3.11/scipy/constants\n",
            "  \u001b[31m   \u001b[0m copying scipy/constants/codata.py -> build/lib.macosx-11.0-arm64-3.11/scipy/constants\n",
            "  \u001b[31m   \u001b[0m copying scipy/constants/setup.py -> build/lib.macosx-11.0-arm64-3.11/scipy/constants\n",
            "  \u001b[31m   \u001b[0m creating build/lib.macosx-11.0-arm64-3.11/scipy/fft\n",
            "  \u001b[31m   \u001b[0m copying scipy/fft/_backend.py -> build/lib.macosx-11.0-arm64-3.11/scipy/fft\n",
            "  \u001b[31m   \u001b[0m copying scipy/fft/_helper.py -> build/lib.macosx-11.0-arm64-3.11/scipy/fft\n",
            "  \u001b[31m   \u001b[0m copying scipy/fft/__init__.py -> build/lib.macosx-11.0-arm64-3.11/scipy/fft\n",
            "  \u001b[31m   \u001b[0m copying scipy/fft/setup.py -> build/lib.macosx-11.0-arm64-3.11/scipy/fft\n",
            "  \u001b[31m   \u001b[0m copying scipy/fft/_debug_backends.py -> build/lib.macosx-11.0-arm64-3.11/scipy/fft\n",
            "  \u001b[31m   \u001b[0m copying scipy/fft/_realtransforms.py -> build/lib.macosx-11.0-arm64-3.11/scipy/fft\n",
            "  \u001b[31m   \u001b[0m copying scipy/fft/_basic.py -> build/lib.macosx-11.0-arm64-3.11/scipy/fft\n",
            "  \u001b[31m   \u001b[0m creating build/lib.macosx-11.0-arm64-3.11/scipy/fft/_pocketfft\n",
            "  \u001b[31m   \u001b[0m copying scipy/fft/_pocketfft/__init__.py -> build/lib.macosx-11.0-arm64-3.11/scipy/fft/_pocketfft\n",
            "  \u001b[31m   \u001b[0m copying scipy/fft/_pocketfft/setup.py -> build/lib.macosx-11.0-arm64-3.11/scipy/fft/_pocketfft\n",
            "  \u001b[31m   \u001b[0m copying scipy/fft/_pocketfft/realtransforms.py -> build/lib.macosx-11.0-arm64-3.11/scipy/fft/_pocketfft\n",
            "  \u001b[31m   \u001b[0m copying scipy/fft/_pocketfft/basic.py -> build/lib.macosx-11.0-arm64-3.11/scipy/fft/_pocketfft\n",
            "  \u001b[31m   \u001b[0m copying scipy/fft/_pocketfft/helper.py -> build/lib.macosx-11.0-arm64-3.11/scipy/fft/_pocketfft\n",
            "  \u001b[31m   \u001b[0m creating build/lib.macosx-11.0-arm64-3.11/scipy/fftpack\n",
            "  \u001b[31m   \u001b[0m copying scipy/fftpack/__init__.py -> build/lib.macosx-11.0-arm64-3.11/scipy/fftpack\n",
            "  \u001b[31m   \u001b[0m copying scipy/fftpack/pseudo_diffs.py -> build/lib.macosx-11.0-arm64-3.11/scipy/fftpack\n",
            "  \u001b[31m   \u001b[0m copying scipy/fftpack/setup.py -> build/lib.macosx-11.0-arm64-3.11/scipy/fftpack\n",
            "  \u001b[31m   \u001b[0m copying scipy/fftpack/realtransforms.py -> build/lib.macosx-11.0-arm64-3.11/scipy/fftpack\n",
            "  \u001b[31m   \u001b[0m copying scipy/fftpack/basic.py -> build/lib.macosx-11.0-arm64-3.11/scipy/fftpack\n",
            "  \u001b[31m   \u001b[0m copying scipy/fftpack/helper.py -> build/lib.macosx-11.0-arm64-3.11/scipy/fftpack\n",
            "  \u001b[31m   \u001b[0m creating build/lib.macosx-11.0-arm64-3.11/scipy/integrate\n",
            "  \u001b[31m   \u001b[0m copying scipy/integrate/_ode.py -> build/lib.macosx-11.0-arm64-3.11/scipy/integrate\n",
            "  \u001b[31m   \u001b[0m copying scipy/integrate/_quadrature.py -> build/lib.macosx-11.0-arm64-3.11/scipy/integrate\n",
            "  \u001b[31m   \u001b[0m copying scipy/integrate/__init__.py -> build/lib.macosx-11.0-arm64-3.11/scipy/integrate\n",
            "  \u001b[31m   \u001b[0m copying scipy/integrate/quadpack.py -> build/lib.macosx-11.0-arm64-3.11/scipy/integrate\n",
            "  \u001b[31m   \u001b[0m copying scipy/integrate/_quad_vec.py -> build/lib.macosx-11.0-arm64-3.11/scipy/integrate\n",
            "  \u001b[31m   \u001b[0m copying scipy/integrate/setup.py -> build/lib.macosx-11.0-arm64-3.11/scipy/integrate\n",
            "  \u001b[31m   \u001b[0m copying scipy/integrate/_bvp.py -> build/lib.macosx-11.0-arm64-3.11/scipy/integrate\n",
            "  \u001b[31m   \u001b[0m copying scipy/integrate/odepack.py -> build/lib.macosx-11.0-arm64-3.11/scipy/integrate\n",
            "  \u001b[31m   \u001b[0m creating build/lib.macosx-11.0-arm64-3.11/scipy/integrate/_ivp\n",
            "  \u001b[31m   \u001b[0m copying scipy/integrate/_ivp/bdf.py -> build/lib.macosx-11.0-arm64-3.11/scipy/integrate/_ivp\n",
            "  \u001b[31m   \u001b[0m copying scipy/integrate/_ivp/ivp.py -> build/lib.macosx-11.0-arm64-3.11/scipy/integrate/_ivp\n",
            "  \u001b[31m   \u001b[0m copying scipy/integrate/_ivp/dop853_coefficients.py -> build/lib.macosx-11.0-arm64-3.11/scipy/integrate/_ivp\n",
            "  \u001b[31m   \u001b[0m copying scipy/integrate/_ivp/__init__.py -> build/lib.macosx-11.0-arm64-3.11/scipy/integrate/_ivp\n",
            "  \u001b[31m   \u001b[0m copying scipy/integrate/_ivp/setup.py -> build/lib.macosx-11.0-arm64-3.11/scipy/integrate/_ivp\n",
            "  \u001b[31m   \u001b[0m copying scipy/integrate/_ivp/common.py -> build/lib.macosx-11.0-arm64-3.11/scipy/integrate/_ivp\n",
            "  \u001b[31m   \u001b[0m copying scipy/integrate/_ivp/radau.py -> build/lib.macosx-11.0-arm64-3.11/scipy/integrate/_ivp\n",
            "  \u001b[31m   \u001b[0m copying scipy/integrate/_ivp/lsoda.py -> build/lib.macosx-11.0-arm64-3.11/scipy/integrate/_ivp\n",
            "  \u001b[31m   \u001b[0m copying scipy/integrate/_ivp/rk.py -> build/lib.macosx-11.0-arm64-3.11/scipy/integrate/_ivp\n",
            "  \u001b[31m   \u001b[0m copying scipy/integrate/_ivp/base.py -> build/lib.macosx-11.0-arm64-3.11/scipy/integrate/_ivp\n",
            "  \u001b[31m   \u001b[0m creating build/lib.macosx-11.0-arm64-3.11/scipy/interpolate\n",
            "  \u001b[31m   \u001b[0m copying scipy/interpolate/_cubic.py -> build/lib.macosx-11.0-arm64-3.11/scipy/interpolate\n",
            "  \u001b[31m   \u001b[0m copying scipy/interpolate/polyint.py -> build/lib.macosx-11.0-arm64-3.11/scipy/interpolate\n",
            "  \u001b[31m   \u001b[0m copying scipy/interpolate/ndgriddata.py -> build/lib.macosx-11.0-arm64-3.11/scipy/interpolate\n",
            "  \u001b[31m   \u001b[0m copying scipy/interpolate/_bsplines.py -> build/lib.macosx-11.0-arm64-3.11/scipy/interpolate\n",
            "  \u001b[31m   \u001b[0m copying scipy/interpolate/__init__.py -> build/lib.macosx-11.0-arm64-3.11/scipy/interpolate\n",
            "  \u001b[31m   \u001b[0m copying scipy/interpolate/fitpack.py -> build/lib.macosx-11.0-arm64-3.11/scipy/interpolate\n",
            "  \u001b[31m   \u001b[0m copying scipy/interpolate/rbf.py -> build/lib.macosx-11.0-arm64-3.11/scipy/interpolate\n",
            "  \u001b[31m   \u001b[0m copying scipy/interpolate/interpnd_info.py -> build/lib.macosx-11.0-arm64-3.11/scipy/interpolate\n",
            "  \u001b[31m   \u001b[0m copying scipy/interpolate/setup.py -> build/lib.macosx-11.0-arm64-3.11/scipy/interpolate\n",
            "  \u001b[31m   \u001b[0m copying scipy/interpolate/_pade.py -> build/lib.macosx-11.0-arm64-3.11/scipy/interpolate\n",
            "  \u001b[31m   \u001b[0m copying scipy/interpolate/interpolate.py -> build/lib.macosx-11.0-arm64-3.11/scipy/interpolate\n",
            "  \u001b[31m   \u001b[0m copying scipy/interpolate/_fitpack_impl.py -> build/lib.macosx-11.0-arm64-3.11/scipy/interpolate\n",
            "  \u001b[31m   \u001b[0m copying scipy/interpolate/fitpack2.py -> build/lib.macosx-11.0-arm64-3.11/scipy/interpolate\n",
            "  \u001b[31m   \u001b[0m creating build/lib.macosx-11.0-arm64-3.11/scipy/io\n",
            "  \u001b[31m   \u001b[0m copying scipy/io/wavfile.py -> build/lib.macosx-11.0-arm64-3.11/scipy/io\n",
            "  \u001b[31m   \u001b[0m copying scipy/io/idl.py -> build/lib.macosx-11.0-arm64-3.11/scipy/io\n",
            "  \u001b[31m   \u001b[0m copying scipy/io/__init__.py -> build/lib.macosx-11.0-arm64-3.11/scipy/io\n",
            "  \u001b[31m   \u001b[0m copying scipy/io/netcdf.py -> build/lib.macosx-11.0-arm64-3.11/scipy/io\n",
            "  \u001b[31m   \u001b[0m copying scipy/io/setup.py -> build/lib.macosx-11.0-arm64-3.11/scipy/io\n",
            "  \u001b[31m   \u001b[0m copying scipy/io/_fortran.py -> build/lib.macosx-11.0-arm64-3.11/scipy/io\n",
            "  \u001b[31m   \u001b[0m copying scipy/io/mmio.py -> build/lib.macosx-11.0-arm64-3.11/scipy/io\n",
            "  \u001b[31m   \u001b[0m creating build/lib.macosx-11.0-arm64-3.11/scipy/io/matlab\n",
            "  \u001b[31m   \u001b[0m copying scipy/io/matlab/miobase.py -> build/lib.macosx-11.0-arm64-3.11/scipy/io/matlab\n",
            "  \u001b[31m   \u001b[0m copying scipy/io/matlab/mio5_params.py -> build/lib.macosx-11.0-arm64-3.11/scipy/io/matlab\n",
            "  \u001b[31m   \u001b[0m copying scipy/io/matlab/__init__.py -> build/lib.macosx-11.0-arm64-3.11/scipy/io/matlab\n",
            "  \u001b[31m   \u001b[0m copying scipy/io/matlab/setup.py -> build/lib.macosx-11.0-arm64-3.11/scipy/io/matlab\n",
            "  \u001b[31m   \u001b[0m copying scipy/io/matlab/byteordercodes.py -> build/lib.macosx-11.0-arm64-3.11/scipy/io/matlab\n",
            "  \u001b[31m   \u001b[0m copying scipy/io/matlab/mio.py -> build/lib.macosx-11.0-arm64-3.11/scipy/io/matlab\n",
            "  \u001b[31m   \u001b[0m copying scipy/io/matlab/mio4.py -> build/lib.macosx-11.0-arm64-3.11/scipy/io/matlab\n",
            "  \u001b[31m   \u001b[0m copying scipy/io/matlab/mio5.py -> build/lib.macosx-11.0-arm64-3.11/scipy/io/matlab\n",
            "  \u001b[31m   \u001b[0m creating build/lib.macosx-11.0-arm64-3.11/scipy/io/arff\n",
            "  \u001b[31m   \u001b[0m copying scipy/io/arff/__init__.py -> build/lib.macosx-11.0-arm64-3.11/scipy/io/arff\n",
            "  \u001b[31m   \u001b[0m copying scipy/io/arff/setup.py -> build/lib.macosx-11.0-arm64-3.11/scipy/io/arff\n",
            "  \u001b[31m   \u001b[0m copying scipy/io/arff/arffread.py -> build/lib.macosx-11.0-arm64-3.11/scipy/io/arff\n",
            "  \u001b[31m   \u001b[0m creating build/lib.macosx-11.0-arm64-3.11/scipy/io/harwell_boeing\n",
            "  \u001b[31m   \u001b[0m copying scipy/io/harwell_boeing/__init__.py -> build/lib.macosx-11.0-arm64-3.11/scipy/io/harwell_boeing\n",
            "  \u001b[31m   \u001b[0m copying scipy/io/harwell_boeing/setup.py -> build/lib.macosx-11.0-arm64-3.11/scipy/io/harwell_boeing\n",
            "  \u001b[31m   \u001b[0m copying scipy/io/harwell_boeing/_fortran_format_parser.py -> build/lib.macosx-11.0-arm64-3.11/scipy/io/harwell_boeing\n",
            "  \u001b[31m   \u001b[0m copying scipy/io/harwell_boeing/hb.py -> build/lib.macosx-11.0-arm64-3.11/scipy/io/harwell_boeing\n",
            "  \u001b[31m   \u001b[0m creating build/lib.macosx-11.0-arm64-3.11/scipy/linalg\n",
            "  \u001b[31m   \u001b[0m copying scipy/linalg/decomp_qr.py -> build/lib.macosx-11.0-arm64-3.11/scipy/linalg\n",
            "  \u001b[31m   \u001b[0m copying scipy/linalg/_matfuncs_inv_ssq.py -> build/lib.macosx-11.0-arm64-3.11/scipy/linalg\n",
            "  \u001b[31m   \u001b[0m copying scipy/linalg/misc.py -> build/lib.macosx-11.0-arm64-3.11/scipy/linalg\n",
            "  \u001b[31m   \u001b[0m copying scipy/linalg/_sketches.py -> build/lib.macosx-11.0-arm64-3.11/scipy/linalg\n",
            "  \u001b[31m   \u001b[0m copying scipy/linalg/decomp_cholesky.py -> build/lib.macosx-11.0-arm64-3.11/scipy/linalg\n",
            "  \u001b[31m   \u001b[0m copying scipy/linalg/_testutils.py -> build/lib.macosx-11.0-arm64-3.11/scipy/linalg\n",
            "  \u001b[31m   \u001b[0m copying scipy/linalg/decomp_lu.py -> build/lib.macosx-11.0-arm64-3.11/scipy/linalg\n",
            "  \u001b[31m   \u001b[0m copying scipy/linalg/decomp_svd.py -> build/lib.macosx-11.0-arm64-3.11/scipy/linalg\n",
            "  \u001b[31m   \u001b[0m copying scipy/linalg/_procrustes.py -> build/lib.macosx-11.0-arm64-3.11/scipy/linalg\n",
            "  \u001b[31m   \u001b[0m copying scipy/linalg/_matfuncs_sqrtm.py -> build/lib.macosx-11.0-arm64-3.11/scipy/linalg\n",
            "  \u001b[31m   \u001b[0m copying scipy/linalg/matfuncs.py -> build/lib.macosx-11.0-arm64-3.11/scipy/linalg\n",
            "  \u001b[31m   \u001b[0m copying scipy/linalg/__init__.py -> build/lib.macosx-11.0-arm64-3.11/scipy/linalg\n",
            "  \u001b[31m   \u001b[0m copying scipy/linalg/_generate_pyx.py -> build/lib.macosx-11.0-arm64-3.11/scipy/linalg\n",
            "  \u001b[31m   \u001b[0m copying scipy/linalg/_solvers.py -> build/lib.macosx-11.0-arm64-3.11/scipy/linalg\n",
            "  \u001b[31m   \u001b[0m copying scipy/linalg/_interpolative_backend.py -> build/lib.macosx-11.0-arm64-3.11/scipy/linalg\n",
            "  \u001b[31m   \u001b[0m copying scipy/linalg/flinalg.py -> build/lib.macosx-11.0-arm64-3.11/scipy/linalg\n",
            "  \u001b[31m   \u001b[0m copying scipy/linalg/setup.py -> build/lib.macosx-11.0-arm64-3.11/scipy/linalg\n",
            "  \u001b[31m   \u001b[0m copying scipy/linalg/basic.py -> build/lib.macosx-11.0-arm64-3.11/scipy/linalg\n",
            "  \u001b[31m   \u001b[0m copying scipy/linalg/_decomp_polar.py -> build/lib.macosx-11.0-arm64-3.11/scipy/linalg\n",
            "  \u001b[31m   \u001b[0m copying scipy/linalg/decomp.py -> build/lib.macosx-11.0-arm64-3.11/scipy/linalg\n",
            "  \u001b[31m   \u001b[0m copying scipy/linalg/interpolative.py -> build/lib.macosx-11.0-arm64-3.11/scipy/linalg\n",
            "  \u001b[31m   \u001b[0m copying scipy/linalg/blas.py -> build/lib.macosx-11.0-arm64-3.11/scipy/linalg\n",
            "  \u001b[31m   \u001b[0m copying scipy/linalg/_cython_signature_generator.py -> build/lib.macosx-11.0-arm64-3.11/scipy/linalg\n",
            "  \u001b[31m   \u001b[0m copying scipy/linalg/special_matrices.py -> build/lib.macosx-11.0-arm64-3.11/scipy/linalg\n",
            "  \u001b[31m   \u001b[0m copying scipy/linalg/_decomp_ldl.py -> build/lib.macosx-11.0-arm64-3.11/scipy/linalg\n",
            "  \u001b[31m   \u001b[0m copying scipy/linalg/_decomp_cossin.py -> build/lib.macosx-11.0-arm64-3.11/scipy/linalg\n",
            "  \u001b[31m   \u001b[0m copying scipy/linalg/decomp_schur.py -> build/lib.macosx-11.0-arm64-3.11/scipy/linalg\n",
            "  \u001b[31m   \u001b[0m copying scipy/linalg/_decomp_qz.py -> build/lib.macosx-11.0-arm64-3.11/scipy/linalg\n",
            "  \u001b[31m   \u001b[0m copying scipy/linalg/_expm_frechet.py -> build/lib.macosx-11.0-arm64-3.11/scipy/linalg\n",
            "  \u001b[31m   \u001b[0m copying scipy/linalg/lapack.py -> build/lib.macosx-11.0-arm64-3.11/scipy/linalg\n",
            "  \u001b[31m   \u001b[0m creating build/lib.macosx-11.0-arm64-3.11/scipy/misc\n",
            "  \u001b[31m   \u001b[0m copying scipy/misc/__init__.py -> build/lib.macosx-11.0-arm64-3.11/scipy/misc\n",
            "  \u001b[31m   \u001b[0m copying scipy/misc/setup.py -> build/lib.macosx-11.0-arm64-3.11/scipy/misc\n",
            "  \u001b[31m   \u001b[0m copying scipy/misc/common.py -> build/lib.macosx-11.0-arm64-3.11/scipy/misc\n",
            "  \u001b[31m   \u001b[0m copying scipy/misc/doccer.py -> build/lib.macosx-11.0-arm64-3.11/scipy/misc\n",
            "  \u001b[31m   \u001b[0m creating build/lib.macosx-11.0-arm64-3.11/scipy/odr\n",
            "  \u001b[31m   \u001b[0m copying scipy/odr/_add_newdocs.py -> build/lib.macosx-11.0-arm64-3.11/scipy/odr\n",
            "  \u001b[31m   \u001b[0m copying scipy/odr/models.py -> build/lib.macosx-11.0-arm64-3.11/scipy/odr\n",
            "  \u001b[31m   \u001b[0m copying scipy/odr/odrpack.py -> build/lib.macosx-11.0-arm64-3.11/scipy/odr\n",
            "  \u001b[31m   \u001b[0m copying scipy/odr/__init__.py -> build/lib.macosx-11.0-arm64-3.11/scipy/odr\n",
            "  \u001b[31m   \u001b[0m copying scipy/odr/setup.py -> build/lib.macosx-11.0-arm64-3.11/scipy/odr\n",
            "  \u001b[31m   \u001b[0m creating build/lib.macosx-11.0-arm64-3.11/scipy/optimize\n",
            "  \u001b[31m   \u001b[0m copying scipy/optimize/tnc.py -> build/lib.macosx-11.0-arm64-3.11/scipy/optimize\n",
            "  \u001b[31m   \u001b[0m copying scipy/optimize/_lsap.py -> build/lib.macosx-11.0-arm64-3.11/scipy/optimize\n",
            "  \u001b[31m   \u001b[0m copying scipy/optimize/optimize.py -> build/lib.macosx-11.0-arm64-3.11/scipy/optimize\n",
            "  \u001b[31m   \u001b[0m copying scipy/optimize/_linprog_ip.py -> build/lib.macosx-11.0-arm64-3.11/scipy/optimize\n",
            "  \u001b[31m   \u001b[0m copying scipy/optimize/linesearch.py -> build/lib.macosx-11.0-arm64-3.11/scipy/optimize\n",
            "  \u001b[31m   \u001b[0m copying scipy/optimize/nonlin.py -> build/lib.macosx-11.0-arm64-3.11/scipy/optimize\n",
            "  \u001b[31m   \u001b[0m copying scipy/optimize/_linprog_rs.py -> build/lib.macosx-11.0-arm64-3.11/scipy/optimize\n",
            "  \u001b[31m   \u001b[0m copying scipy/optimize/_root.py -> build/lib.macosx-11.0-arm64-3.11/scipy/optimize\n",
            "  \u001b[31m   \u001b[0m copying scipy/optimize/lbfgsb.py -> build/lib.macosx-11.0-arm64-3.11/scipy/optimize\n",
            "  \u001b[31m   \u001b[0m copying scipy/optimize/zeros.py -> build/lib.macosx-11.0-arm64-3.11/scipy/optimize\n",
            "  \u001b[31m   \u001b[0m copying scipy/optimize/_shgo.py -> build/lib.macosx-11.0-arm64-3.11/scipy/optimize\n",
            "  \u001b[31m   \u001b[0m copying scipy/optimize/_linprog_simplex.py -> build/lib.macosx-11.0-arm64-3.11/scipy/optimize\n",
            "  \u001b[31m   \u001b[0m copying scipy/optimize/_linprog_doc.py -> build/lib.macosx-11.0-arm64-3.11/scipy/optimize\n",
            "  \u001b[31m   \u001b[0m copying scipy/optimize/slsqp.py -> build/lib.macosx-11.0-arm64-3.11/scipy/optimize\n",
            "  \u001b[31m   \u001b[0m copying scipy/optimize/_trustregion_ncg.py -> build/lib.macosx-11.0-arm64-3.11/scipy/optimize\n",
            "  \u001b[31m   \u001b[0m copying scipy/optimize/_minimize.py -> build/lib.macosx-11.0-arm64-3.11/scipy/optimize\n",
            "  \u001b[31m   \u001b[0m copying scipy/optimize/minpack.py -> build/lib.macosx-11.0-arm64-3.11/scipy/optimize\n",
            "  \u001b[31m   \u001b[0m copying scipy/optimize/_basinhopping.py -> build/lib.macosx-11.0-arm64-3.11/scipy/optimize\n",
            "  \u001b[31m   \u001b[0m copying scipy/optimize/_linprog.py -> build/lib.macosx-11.0-arm64-3.11/scipy/optimize\n",
            "  \u001b[31m   \u001b[0m copying scipy/optimize/_hessian_update_strategy.py -> build/lib.macosx-11.0-arm64-3.11/scipy/optimize\n",
            "  \u001b[31m   \u001b[0m copying scipy/optimize/__init__.py -> build/lib.macosx-11.0-arm64-3.11/scipy/optimize\n",
            "  \u001b[31m   \u001b[0m copying scipy/optimize/cobyla.py -> build/lib.macosx-11.0-arm64-3.11/scipy/optimize\n",
            "  \u001b[31m   \u001b[0m copying scipy/optimize/_tstutils.py -> build/lib.macosx-11.0-arm64-3.11/scipy/optimize\n",
            "  \u001b[31m   \u001b[0m copying scipy/optimize/_nnls.py -> build/lib.macosx-11.0-arm64-3.11/scipy/optimize\n",
            "  \u001b[31m   \u001b[0m copying scipy/optimize/_spectral.py -> build/lib.macosx-11.0-arm64-3.11/scipy/optimize\n",
            "  \u001b[31m   \u001b[0m copying scipy/optimize/_differentiable_functions.py -> build/lib.macosx-11.0-arm64-3.11/scipy/optimize\n",
            "  \u001b[31m   \u001b[0m copying scipy/optimize/_trustregion_krylov.py -> build/lib.macosx-11.0-arm64-3.11/scipy/optimize\n",
            "  \u001b[31m   \u001b[0m copying scipy/optimize/_trustregion.py -> build/lib.macosx-11.0-arm64-3.11/scipy/optimize\n",
            "  \u001b[31m   \u001b[0m copying scipy/optimize/setup.py -> build/lib.macosx-11.0-arm64-3.11/scipy/optimize\n",
            "  \u001b[31m   \u001b[0m copying scipy/optimize/_linprog_util.py -> build/lib.macosx-11.0-arm64-3.11/scipy/optimize\n",
            "  \u001b[31m   \u001b[0m copying scipy/optimize/_linprog_highs.py -> build/lib.macosx-11.0-arm64-3.11/scipy/optimize\n",
            "  \u001b[31m   \u001b[0m copying scipy/optimize/_dual_annealing.py -> build/lib.macosx-11.0-arm64-3.11/scipy/optimize\n",
            "  \u001b[31m   \u001b[0m copying scipy/optimize/_root_scalar.py -> build/lib.macosx-11.0-arm64-3.11/scipy/optimize\n",
            "  \u001b[31m   \u001b[0m copying scipy/optimize/_trustregion_dogleg.py -> build/lib.macosx-11.0-arm64-3.11/scipy/optimize\n",
            "  \u001b[31m   \u001b[0m copying scipy/optimize/_trustregion_exact.py -> build/lib.macosx-11.0-arm64-3.11/scipy/optimize\n",
            "  \u001b[31m   \u001b[0m copying scipy/optimize/_constraints.py -> build/lib.macosx-11.0-arm64-3.11/scipy/optimize\n",
            "  \u001b[31m   \u001b[0m copying scipy/optimize/_differentialevolution.py -> build/lib.macosx-11.0-arm64-3.11/scipy/optimize\n",
            "  \u001b[31m   \u001b[0m copying scipy/optimize/_remove_redundancy.py -> build/lib.macosx-11.0-arm64-3.11/scipy/optimize\n",
            "  \u001b[31m   \u001b[0m copying scipy/optimize/_qap.py -> build/lib.macosx-11.0-arm64-3.11/scipy/optimize\n",
            "  \u001b[31m   \u001b[0m copying scipy/optimize/_numdiff.py -> build/lib.macosx-11.0-arm64-3.11/scipy/optimize\n",
            "  \u001b[31m   \u001b[0m creating build/lib.macosx-11.0-arm64-3.11/scipy/optimize/_lsq\n",
            "  \u001b[31m   \u001b[0m copying scipy/optimize/_lsq/least_squares.py -> build/lib.macosx-11.0-arm64-3.11/scipy/optimize/_lsq\n",
            "  \u001b[31m   \u001b[0m copying scipy/optimize/_lsq/dogbox.py -> build/lib.macosx-11.0-arm64-3.11/scipy/optimize/_lsq\n",
            "  \u001b[31m   \u001b[0m copying scipy/optimize/_lsq/__init__.py -> build/lib.macosx-11.0-arm64-3.11/scipy/optimize/_lsq\n",
            "  \u001b[31m   \u001b[0m copying scipy/optimize/_lsq/trf_linear.py -> build/lib.macosx-11.0-arm64-3.11/scipy/optimize/_lsq\n",
            "  \u001b[31m   \u001b[0m copying scipy/optimize/_lsq/setup.py -> build/lib.macosx-11.0-arm64-3.11/scipy/optimize/_lsq\n",
            "  \u001b[31m   \u001b[0m copying scipy/optimize/_lsq/common.py -> build/lib.macosx-11.0-arm64-3.11/scipy/optimize/_lsq\n",
            "  \u001b[31m   \u001b[0m copying scipy/optimize/_lsq/lsq_linear.py -> build/lib.macosx-11.0-arm64-3.11/scipy/optimize/_lsq\n",
            "  \u001b[31m   \u001b[0m copying scipy/optimize/_lsq/bvls.py -> build/lib.macosx-11.0-arm64-3.11/scipy/optimize/_lsq\n",
            "  \u001b[31m   \u001b[0m copying scipy/optimize/_lsq/trf.py -> build/lib.macosx-11.0-arm64-3.11/scipy/optimize/_lsq\n",
            "  \u001b[31m   \u001b[0m creating build/lib.macosx-11.0-arm64-3.11/scipy/optimize/_trlib\n",
            "  \u001b[31m   \u001b[0m copying scipy/optimize/_trlib/__init__.py -> build/lib.macosx-11.0-arm64-3.11/scipy/optimize/_trlib\n",
            "  \u001b[31m   \u001b[0m copying scipy/optimize/_trlib/setup.py -> build/lib.macosx-11.0-arm64-3.11/scipy/optimize/_trlib\n",
            "  \u001b[31m   \u001b[0m creating build/lib.macosx-11.0-arm64-3.11/scipy/optimize/_trustregion_constr\n",
            "  \u001b[31m   \u001b[0m copying scipy/optimize/_trustregion_constr/equality_constrained_sqp.py -> build/lib.macosx-11.0-arm64-3.11/scipy/optimize/_trustregion_constr\n",
            "  \u001b[31m   \u001b[0m copying scipy/optimize/_trustregion_constr/__init__.py -> build/lib.macosx-11.0-arm64-3.11/scipy/optimize/_trustregion_constr\n",
            "  \u001b[31m   \u001b[0m copying scipy/optimize/_trustregion_constr/setup.py -> build/lib.macosx-11.0-arm64-3.11/scipy/optimize/_trustregion_constr\n",
            "  \u001b[31m   \u001b[0m copying scipy/optimize/_trustregion_constr/tr_interior_point.py -> build/lib.macosx-11.0-arm64-3.11/scipy/optimize/_trustregion_constr\n",
            "  \u001b[31m   \u001b[0m copying scipy/optimize/_trustregion_constr/qp_subproblem.py -> build/lib.macosx-11.0-arm64-3.11/scipy/optimize/_trustregion_constr\n",
            "  \u001b[31m   \u001b[0m copying scipy/optimize/_trustregion_constr/minimize_trustregion_constr.py -> build/lib.macosx-11.0-arm64-3.11/scipy/optimize/_trustregion_constr\n",
            "  \u001b[31m   \u001b[0m copying scipy/optimize/_trustregion_constr/projections.py -> build/lib.macosx-11.0-arm64-3.11/scipy/optimize/_trustregion_constr\n",
            "  \u001b[31m   \u001b[0m copying scipy/optimize/_trustregion_constr/report.py -> build/lib.macosx-11.0-arm64-3.11/scipy/optimize/_trustregion_constr\n",
            "  \u001b[31m   \u001b[0m copying scipy/optimize/_trustregion_constr/canonical_constraint.py -> build/lib.macosx-11.0-arm64-3.11/scipy/optimize/_trustregion_constr\n",
            "  \u001b[31m   \u001b[0m creating build/lib.macosx-11.0-arm64-3.11/scipy/optimize/cython_optimize\n",
            "  \u001b[31m   \u001b[0m copying scipy/optimize/cython_optimize/__init__.py -> build/lib.macosx-11.0-arm64-3.11/scipy/optimize/cython_optimize\n",
            "  \u001b[31m   \u001b[0m creating build/lib.macosx-11.0-arm64-3.11/scipy/optimize/_shgo_lib\n",
            "  \u001b[31m   \u001b[0m copying scipy/optimize/_shgo_lib/__init__.py -> build/lib.macosx-11.0-arm64-3.11/scipy/optimize/_shgo_lib\n",
            "  \u001b[31m   \u001b[0m copying scipy/optimize/_shgo_lib/sobol_seq.py -> build/lib.macosx-11.0-arm64-3.11/scipy/optimize/_shgo_lib\n",
            "  \u001b[31m   \u001b[0m copying scipy/optimize/_shgo_lib/triangulation.py -> build/lib.macosx-11.0-arm64-3.11/scipy/optimize/_shgo_lib\n",
            "  \u001b[31m   \u001b[0m creating build/lib.macosx-11.0-arm64-3.11/scipy/signal\n",
            "  \u001b[31m   \u001b[0m copying scipy/signal/waveforms.py -> build/lib.macosx-11.0-arm64-3.11/scipy/signal\n",
            "  \u001b[31m   \u001b[0m copying scipy/signal/_savitzky_golay.py -> build/lib.macosx-11.0-arm64-3.11/scipy/signal\n",
            "  \u001b[31m   \u001b[0m copying scipy/signal/signaltools.py -> build/lib.macosx-11.0-arm64-3.11/scipy/signal\n",
            "  \u001b[31m   \u001b[0m copying scipy/signal/bsplines.py -> build/lib.macosx-11.0-arm64-3.11/scipy/signal\n",
            "  \u001b[31m   \u001b[0m copying scipy/signal/__init__.py -> build/lib.macosx-11.0-arm64-3.11/scipy/signal\n",
            "  \u001b[31m   \u001b[0m copying scipy/signal/_arraytools.py -> build/lib.macosx-11.0-arm64-3.11/scipy/signal\n",
            "  \u001b[31m   \u001b[0m copying scipy/signal/_max_len_seq.py -> build/lib.macosx-11.0-arm64-3.11/scipy/signal\n",
            "  \u001b[31m   \u001b[0m copying scipy/signal/wavelets.py -> build/lib.macosx-11.0-arm64-3.11/scipy/signal\n",
            "  \u001b[31m   \u001b[0m copying scipy/signal/lti_conversion.py -> build/lib.macosx-11.0-arm64-3.11/scipy/signal\n",
            "  \u001b[31m   \u001b[0m copying scipy/signal/setup.py -> build/lib.macosx-11.0-arm64-3.11/scipy/signal\n",
            "  \u001b[31m   \u001b[0m copying scipy/signal/_peak_finding.py -> build/lib.macosx-11.0-arm64-3.11/scipy/signal\n",
            "  \u001b[31m   \u001b[0m copying scipy/signal/filter_design.py -> build/lib.macosx-11.0-arm64-3.11/scipy/signal\n",
            "  \u001b[31m   \u001b[0m copying scipy/signal/spectral.py -> build/lib.macosx-11.0-arm64-3.11/scipy/signal\n",
            "  \u001b[31m   \u001b[0m copying scipy/signal/_upfirdn.py -> build/lib.macosx-11.0-arm64-3.11/scipy/signal\n",
            "  \u001b[31m   \u001b[0m copying scipy/signal/ltisys.py -> build/lib.macosx-11.0-arm64-3.11/scipy/signal\n",
            "  \u001b[31m   \u001b[0m copying scipy/signal/fir_filter_design.py -> build/lib.macosx-11.0-arm64-3.11/scipy/signal\n",
            "  \u001b[31m   \u001b[0m creating build/lib.macosx-11.0-arm64-3.11/scipy/signal/windows\n",
            "  \u001b[31m   \u001b[0m copying scipy/signal/windows/__init__.py -> build/lib.macosx-11.0-arm64-3.11/scipy/signal/windows\n",
            "  \u001b[31m   \u001b[0m copying scipy/signal/windows/setup.py -> build/lib.macosx-11.0-arm64-3.11/scipy/signal/windows\n",
            "  \u001b[31m   \u001b[0m copying scipy/signal/windows/windows.py -> build/lib.macosx-11.0-arm64-3.11/scipy/signal/windows\n",
            "  \u001b[31m   \u001b[0m creating build/lib.macosx-11.0-arm64-3.11/scipy/sparse\n",
            "  \u001b[31m   \u001b[0m copying scipy/sparse/csc.py -> build/lib.macosx-11.0-arm64-3.11/scipy/sparse\n",
            "  \u001b[31m   \u001b[0m copying scipy/sparse/generate_sparsetools.py -> build/lib.macosx-11.0-arm64-3.11/scipy/sparse\n",
            "  \u001b[31m   \u001b[0m copying scipy/sparse/sparsetools.py -> build/lib.macosx-11.0-arm64-3.11/scipy/sparse\n",
            "  \u001b[31m   \u001b[0m copying scipy/sparse/dok.py -> build/lib.macosx-11.0-arm64-3.11/scipy/sparse\n",
            "  \u001b[31m   \u001b[0m copying scipy/sparse/coo.py -> build/lib.macosx-11.0-arm64-3.11/scipy/sparse\n",
            "  \u001b[31m   \u001b[0m copying scipy/sparse/compressed.py -> build/lib.macosx-11.0-arm64-3.11/scipy/sparse\n",
            "  \u001b[31m   \u001b[0m copying scipy/sparse/dia.py -> build/lib.macosx-11.0-arm64-3.11/scipy/sparse\n",
            "  \u001b[31m   \u001b[0m copying scipy/sparse/_index.py -> build/lib.macosx-11.0-arm64-3.11/scipy/sparse\n",
            "  \u001b[31m   \u001b[0m copying scipy/sparse/spfuncs.py -> build/lib.macosx-11.0-arm64-3.11/scipy/sparse\n",
            "  \u001b[31m   \u001b[0m copying scipy/sparse/__init__.py -> build/lib.macosx-11.0-arm64-3.11/scipy/sparse\n",
            "  \u001b[31m   \u001b[0m copying scipy/sparse/lil.py -> build/lib.macosx-11.0-arm64-3.11/scipy/sparse\n",
            "  \u001b[31m   \u001b[0m copying scipy/sparse/sputils.py -> build/lib.macosx-11.0-arm64-3.11/scipy/sparse\n",
            "  \u001b[31m   \u001b[0m copying scipy/sparse/bsr.py -> build/lib.macosx-11.0-arm64-3.11/scipy/sparse\n",
            "  \u001b[31m   \u001b[0m copying scipy/sparse/setup.py -> build/lib.macosx-11.0-arm64-3.11/scipy/sparse\n",
            "  \u001b[31m   \u001b[0m copying scipy/sparse/_matrix_io.py -> build/lib.macosx-11.0-arm64-3.11/scipy/sparse\n",
            "  \u001b[31m   \u001b[0m copying scipy/sparse/csr.py -> build/lib.macosx-11.0-arm64-3.11/scipy/sparse\n",
            "  \u001b[31m   \u001b[0m copying scipy/sparse/construct.py -> build/lib.macosx-11.0-arm64-3.11/scipy/sparse\n",
            "  \u001b[31m   \u001b[0m copying scipy/sparse/extract.py -> build/lib.macosx-11.0-arm64-3.11/scipy/sparse\n",
            "  \u001b[31m   \u001b[0m copying scipy/sparse/base.py -> build/lib.macosx-11.0-arm64-3.11/scipy/sparse\n",
            "  \u001b[31m   \u001b[0m copying scipy/sparse/data.py -> build/lib.macosx-11.0-arm64-3.11/scipy/sparse\n",
            "  \u001b[31m   \u001b[0m creating build/lib.macosx-11.0-arm64-3.11/scipy/sparse/linalg\n",
            "  \u001b[31m   \u001b[0m copying scipy/sparse/linalg/matfuncs.py -> build/lib.macosx-11.0-arm64-3.11/scipy/sparse/linalg\n",
            "  \u001b[31m   \u001b[0m copying scipy/sparse/linalg/interface.py -> build/lib.macosx-11.0-arm64-3.11/scipy/sparse/linalg\n",
            "  \u001b[31m   \u001b[0m copying scipy/sparse/linalg/_expm_multiply.py -> build/lib.macosx-11.0-arm64-3.11/scipy/sparse/linalg\n",
            "  \u001b[31m   \u001b[0m copying scipy/sparse/linalg/__init__.py -> build/lib.macosx-11.0-arm64-3.11/scipy/sparse/linalg\n",
            "  \u001b[31m   \u001b[0m copying scipy/sparse/linalg/setup.py -> build/lib.macosx-11.0-arm64-3.11/scipy/sparse/linalg\n",
            "  \u001b[31m   \u001b[0m copying scipy/sparse/linalg/_norm.py -> build/lib.macosx-11.0-arm64-3.11/scipy/sparse/linalg\n",
            "  \u001b[31m   \u001b[0m copying scipy/sparse/linalg/_onenormest.py -> build/lib.macosx-11.0-arm64-3.11/scipy/sparse/linalg\n",
            "  \u001b[31m   \u001b[0m creating build/lib.macosx-11.0-arm64-3.11/scipy/sparse/linalg/isolve\n",
            "  \u001b[31m   \u001b[0m copying scipy/sparse/linalg/isolve/lsqr.py -> build/lib.macosx-11.0-arm64-3.11/scipy/sparse/linalg/isolve\n",
            "  \u001b[31m   \u001b[0m copying scipy/sparse/linalg/isolve/__init__.py -> build/lib.macosx-11.0-arm64-3.11/scipy/sparse/linalg/isolve\n",
            "  \u001b[31m   \u001b[0m copying scipy/sparse/linalg/isolve/setup.py -> build/lib.macosx-11.0-arm64-3.11/scipy/sparse/linalg/isolve\n",
            "  \u001b[31m   \u001b[0m copying scipy/sparse/linalg/isolve/iterative.py -> build/lib.macosx-11.0-arm64-3.11/scipy/sparse/linalg/isolve\n",
            "  \u001b[31m   \u001b[0m copying scipy/sparse/linalg/isolve/utils.py -> build/lib.macosx-11.0-arm64-3.11/scipy/sparse/linalg/isolve\n",
            "  \u001b[31m   \u001b[0m copying scipy/sparse/linalg/isolve/_gcrotmk.py -> build/lib.macosx-11.0-arm64-3.11/scipy/sparse/linalg/isolve\n",
            "  \u001b[31m   \u001b[0m copying scipy/sparse/linalg/isolve/minres.py -> build/lib.macosx-11.0-arm64-3.11/scipy/sparse/linalg/isolve\n",
            "  \u001b[31m   \u001b[0m copying scipy/sparse/linalg/isolve/lsmr.py -> build/lib.macosx-11.0-arm64-3.11/scipy/sparse/linalg/isolve\n",
            "  \u001b[31m   \u001b[0m copying scipy/sparse/linalg/isolve/lgmres.py -> build/lib.macosx-11.0-arm64-3.11/scipy/sparse/linalg/isolve\n",
            "  \u001b[31m   \u001b[0m creating build/lib.macosx-11.0-arm64-3.11/scipy/sparse/linalg/dsolve\n",
            "  \u001b[31m   \u001b[0m copying scipy/sparse/linalg/dsolve/_add_newdocs.py -> build/lib.macosx-11.0-arm64-3.11/scipy/sparse/linalg/dsolve\n",
            "  \u001b[31m   \u001b[0m copying scipy/sparse/linalg/dsolve/linsolve.py -> build/lib.macosx-11.0-arm64-3.11/scipy/sparse/linalg/dsolve\n",
            "  \u001b[31m   \u001b[0m copying scipy/sparse/linalg/dsolve/__init__.py -> build/lib.macosx-11.0-arm64-3.11/scipy/sparse/linalg/dsolve\n",
            "  \u001b[31m   \u001b[0m copying scipy/sparse/linalg/dsolve/setup.py -> build/lib.macosx-11.0-arm64-3.11/scipy/sparse/linalg/dsolve\n",
            "  \u001b[31m   \u001b[0m creating build/lib.macosx-11.0-arm64-3.11/scipy/sparse/linalg/eigen\n",
            "  \u001b[31m   \u001b[0m copying scipy/sparse/linalg/eigen/__init__.py -> build/lib.macosx-11.0-arm64-3.11/scipy/sparse/linalg/eigen\n",
            "  \u001b[31m   \u001b[0m copying scipy/sparse/linalg/eigen/setup.py -> build/lib.macosx-11.0-arm64-3.11/scipy/sparse/linalg/eigen\n",
            "  \u001b[31m   \u001b[0m creating build/lib.macosx-11.0-arm64-3.11/scipy/sparse/linalg/eigen/arpack\n",
            "  \u001b[31m   \u001b[0m copying scipy/sparse/linalg/eigen/arpack/__init__.py -> build/lib.macosx-11.0-arm64-3.11/scipy/sparse/linalg/eigen/arpack\n",
            "  \u001b[31m   \u001b[0m copying scipy/sparse/linalg/eigen/arpack/setup.py -> build/lib.macosx-11.0-arm64-3.11/scipy/sparse/linalg/eigen/arpack\n",
            "  \u001b[31m   \u001b[0m copying scipy/sparse/linalg/eigen/arpack/arpack.py -> build/lib.macosx-11.0-arm64-3.11/scipy/sparse/linalg/eigen/arpack\n",
            "  \u001b[31m   \u001b[0m creating build/lib.macosx-11.0-arm64-3.11/scipy/sparse/linalg/eigen/lobpcg\n",
            "  \u001b[31m   \u001b[0m copying scipy/sparse/linalg/eigen/lobpcg/lobpcg.py -> build/lib.macosx-11.0-arm64-3.11/scipy/sparse/linalg/eigen/lobpcg\n",
            "  \u001b[31m   \u001b[0m copying scipy/sparse/linalg/eigen/lobpcg/__init__.py -> build/lib.macosx-11.0-arm64-3.11/scipy/sparse/linalg/eigen/lobpcg\n",
            "  \u001b[31m   \u001b[0m copying scipy/sparse/linalg/eigen/lobpcg/setup.py -> build/lib.macosx-11.0-arm64-3.11/scipy/sparse/linalg/eigen/lobpcg\n",
            "  \u001b[31m   \u001b[0m creating build/lib.macosx-11.0-arm64-3.11/scipy/sparse/csgraph\n",
            "  \u001b[31m   \u001b[0m copying scipy/sparse/csgraph/_laplacian.py -> build/lib.macosx-11.0-arm64-3.11/scipy/sparse/csgraph\n",
            "  \u001b[31m   \u001b[0m copying scipy/sparse/csgraph/__init__.py -> build/lib.macosx-11.0-arm64-3.11/scipy/sparse/csgraph\n",
            "  \u001b[31m   \u001b[0m copying scipy/sparse/csgraph/setup.py -> build/lib.macosx-11.0-arm64-3.11/scipy/sparse/csgraph\n",
            "  \u001b[31m   \u001b[0m copying scipy/sparse/csgraph/_validation.py -> build/lib.macosx-11.0-arm64-3.11/scipy/sparse/csgraph\n",
            "  \u001b[31m   \u001b[0m creating build/lib.macosx-11.0-arm64-3.11/scipy/spatial\n",
            "  \u001b[31m   \u001b[0m copying scipy/spatial/_spherical_voronoi.py -> build/lib.macosx-11.0-arm64-3.11/scipy/spatial\n",
            "  \u001b[31m   \u001b[0m copying scipy/spatial/_procrustes.py -> build/lib.macosx-11.0-arm64-3.11/scipy/spatial\n",
            "  \u001b[31m   \u001b[0m copying scipy/spatial/__init__.py -> build/lib.macosx-11.0-arm64-3.11/scipy/spatial\n",
            "  \u001b[31m   \u001b[0m copying scipy/spatial/distance.py -> build/lib.macosx-11.0-arm64-3.11/scipy/spatial\n",
            "  \u001b[31m   \u001b[0m copying scipy/spatial/kdtree.py -> build/lib.macosx-11.0-arm64-3.11/scipy/spatial\n",
            "  \u001b[31m   \u001b[0m copying scipy/spatial/setup.py -> build/lib.macosx-11.0-arm64-3.11/scipy/spatial\n",
            "  \u001b[31m   \u001b[0m copying scipy/spatial/_geometric_slerp.py -> build/lib.macosx-11.0-arm64-3.11/scipy/spatial\n",
            "  \u001b[31m   \u001b[0m copying scipy/spatial/_plotutils.py -> build/lib.macosx-11.0-arm64-3.11/scipy/spatial\n",
            "  \u001b[31m   \u001b[0m creating build/lib.macosx-11.0-arm64-3.11/scipy/spatial/transform\n",
            "  \u001b[31m   \u001b[0m copying scipy/spatial/transform/__init__.py -> build/lib.macosx-11.0-arm64-3.11/scipy/spatial/transform\n",
            "  \u001b[31m   \u001b[0m copying scipy/spatial/transform/setup.py -> build/lib.macosx-11.0-arm64-3.11/scipy/spatial/transform\n",
            "  \u001b[31m   \u001b[0m copying scipy/spatial/transform/_rotation_spline.py -> build/lib.macosx-11.0-arm64-3.11/scipy/spatial/transform\n",
            "  \u001b[31m   \u001b[0m copying scipy/spatial/transform/_rotation_groups.py -> build/lib.macosx-11.0-arm64-3.11/scipy/spatial/transform\n",
            "  \u001b[31m   \u001b[0m creating build/lib.macosx-11.0-arm64-3.11/scipy/special\n",
            "  \u001b[31m   \u001b[0m copying scipy/special/spfun_stats.py -> build/lib.macosx-11.0-arm64-3.11/scipy/special\n",
            "  \u001b[31m   \u001b[0m copying scipy/special/_testutils.py -> build/lib.macosx-11.0-arm64-3.11/scipy/special\n",
            "  \u001b[31m   \u001b[0m copying scipy/special/sf_error.py -> build/lib.macosx-11.0-arm64-3.11/scipy/special\n",
            "  \u001b[31m   \u001b[0m copying scipy/special/add_newdocs.py -> build/lib.macosx-11.0-arm64-3.11/scipy/special\n",
            "  \u001b[31m   \u001b[0m copying scipy/special/_spherical_bessel.py -> build/lib.macosx-11.0-arm64-3.11/scipy/special\n",
            "  \u001b[31m   \u001b[0m copying scipy/special/_mptestutils.py -> build/lib.macosx-11.0-arm64-3.11/scipy/special\n",
            "  \u001b[31m   \u001b[0m copying scipy/special/__init__.py -> build/lib.macosx-11.0-arm64-3.11/scipy/special\n",
            "  \u001b[31m   \u001b[0m copying scipy/special/_ellip_harm.py -> build/lib.macosx-11.0-arm64-3.11/scipy/special\n",
            "  \u001b[31m   \u001b[0m copying scipy/special/_generate_pyx.py -> build/lib.macosx-11.0-arm64-3.11/scipy/special\n",
            "  \u001b[31m   \u001b[0m copying scipy/special/setup.py -> build/lib.macosx-11.0-arm64-3.11/scipy/special\n",
            "  \u001b[31m   \u001b[0m copying scipy/special/_lambertw.py -> build/lib.macosx-11.0-arm64-3.11/scipy/special\n",
            "  \u001b[31m   \u001b[0m copying scipy/special/basic.py -> build/lib.macosx-11.0-arm64-3.11/scipy/special\n",
            "  \u001b[31m   \u001b[0m copying scipy/special/orthogonal.py -> build/lib.macosx-11.0-arm64-3.11/scipy/special\n",
            "  \u001b[31m   \u001b[0m copying scipy/special/_basic.py -> build/lib.macosx-11.0-arm64-3.11/scipy/special\n",
            "  \u001b[31m   \u001b[0m copying scipy/special/_logsumexp.py -> build/lib.macosx-11.0-arm64-3.11/scipy/special\n",
            "  \u001b[31m   \u001b[0m creating build/lib.macosx-11.0-arm64-3.11/scipy/special/_precompute\n",
            "  \u001b[31m   \u001b[0m copying scipy/special/_precompute/expn_asy.py -> build/lib.macosx-11.0-arm64-3.11/scipy/special/_precompute\n",
            "  \u001b[31m   \u001b[0m copying scipy/special/_precompute/zetac.py -> build/lib.macosx-11.0-arm64-3.11/scipy/special/_precompute\n",
            "  \u001b[31m   \u001b[0m copying scipy/special/_precompute/struve_convergence.py -> build/lib.macosx-11.0-arm64-3.11/scipy/special/_precompute\n",
            "  \u001b[31m   \u001b[0m copying scipy/special/_precompute/loggamma.py -> build/lib.macosx-11.0-arm64-3.11/scipy/special/_precompute\n",
            "  \u001b[31m   \u001b[0m copying scipy/special/_precompute/gammainc_asy.py -> build/lib.macosx-11.0-arm64-3.11/scipy/special/_precompute\n",
            "  \u001b[31m   \u001b[0m copying scipy/special/_precompute/wrightomega.py -> build/lib.macosx-11.0-arm64-3.11/scipy/special/_precompute\n",
            "  \u001b[31m   \u001b[0m copying scipy/special/_precompute/gammainc_data.py -> build/lib.macosx-11.0-arm64-3.11/scipy/special/_precompute\n",
            "  \u001b[31m   \u001b[0m copying scipy/special/_precompute/__init__.py -> build/lib.macosx-11.0-arm64-3.11/scipy/special/_precompute\n",
            "  \u001b[31m   \u001b[0m copying scipy/special/_precompute/setup.py -> build/lib.macosx-11.0-arm64-3.11/scipy/special/_precompute\n",
            "  \u001b[31m   \u001b[0m copying scipy/special/_precompute/utils.py -> build/lib.macosx-11.0-arm64-3.11/scipy/special/_precompute\n",
            "  \u001b[31m   \u001b[0m copying scipy/special/_precompute/lambertw.py -> build/lib.macosx-11.0-arm64-3.11/scipy/special/_precompute\n",
            "  \u001b[31m   \u001b[0m creating build/lib.macosx-11.0-arm64-3.11/scipy/stats\n",
            "  \u001b[31m   \u001b[0m copying scipy/stats/_multivariate.py -> build/lib.macosx-11.0-arm64-3.11/scipy/stats\n",
            "  \u001b[31m   \u001b[0m copying scipy/stats/_constants.py -> build/lib.macosx-11.0-arm64-3.11/scipy/stats\n",
            "  \u001b[31m   \u001b[0m copying scipy/stats/_binned_statistic.py -> build/lib.macosx-11.0-arm64-3.11/scipy/stats\n",
            "  \u001b[31m   \u001b[0m copying scipy/stats/_distr_params.py -> build/lib.macosx-11.0-arm64-3.11/scipy/stats\n",
            "  \u001b[31m   \u001b[0m copying scipy/stats/_tukeylambda_stats.py -> build/lib.macosx-11.0-arm64-3.11/scipy/stats\n",
            "  \u001b[31m   \u001b[0m copying scipy/stats/_rvs_sampling.py -> build/lib.macosx-11.0-arm64-3.11/scipy/stats\n",
            "  \u001b[31m   \u001b[0m copying scipy/stats/_stats_mstats_common.py -> build/lib.macosx-11.0-arm64-3.11/scipy/stats\n",
            "  \u001b[31m   \u001b[0m copying scipy/stats/_ksstats.py -> build/lib.macosx-11.0-arm64-3.11/scipy/stats\n",
            "  \u001b[31m   \u001b[0m copying scipy/stats/kde.py -> build/lib.macosx-11.0-arm64-3.11/scipy/stats\n",
            "  \u001b[31m   \u001b[0m copying scipy/stats/__init__.py -> build/lib.macosx-11.0-arm64-3.11/scipy/stats\n",
            "  \u001b[31m   \u001b[0m copying scipy/stats/mstats_extras.py -> build/lib.macosx-11.0-arm64-3.11/scipy/stats\n",
            "  \u001b[31m   \u001b[0m copying scipy/stats/_discrete_distns.py -> build/lib.macosx-11.0-arm64-3.11/scipy/stats\n",
            "  \u001b[31m   \u001b[0m copying scipy/stats/distributions.py -> build/lib.macosx-11.0-arm64-3.11/scipy/stats\n",
            "  \u001b[31m   \u001b[0m copying scipy/stats/_hypotests.py -> build/lib.macosx-11.0-arm64-3.11/scipy/stats\n",
            "  \u001b[31m   \u001b[0m copying scipy/stats/setup.py -> build/lib.macosx-11.0-arm64-3.11/scipy/stats\n",
            "  \u001b[31m   \u001b[0m copying scipy/stats/mstats.py -> build/lib.macosx-11.0-arm64-3.11/scipy/stats\n",
            "  \u001b[31m   \u001b[0m copying scipy/stats/_distn_infrastructure.py -> build/lib.macosx-11.0-arm64-3.11/scipy/stats\n",
            "  \u001b[31m   \u001b[0m copying scipy/stats/stats.py -> build/lib.macosx-11.0-arm64-3.11/scipy/stats\n",
            "  \u001b[31m   \u001b[0m copying scipy/stats/_continuous_distns.py -> build/lib.macosx-11.0-arm64-3.11/scipy/stats\n",
            "  \u001b[31m   \u001b[0m copying scipy/stats/morestats.py -> build/lib.macosx-11.0-arm64-3.11/scipy/stats\n",
            "  \u001b[31m   \u001b[0m copying scipy/stats/mstats_basic.py -> build/lib.macosx-11.0-arm64-3.11/scipy/stats\n",
            "  \u001b[31m   \u001b[0m copying scipy/stats/contingency.py -> build/lib.macosx-11.0-arm64-3.11/scipy/stats\n",
            "  \u001b[31m   \u001b[0m copying scipy/stats/_wilcoxon_data.py -> build/lib.macosx-11.0-arm64-3.11/scipy/stats\n",
            "  \u001b[31m   \u001b[0m creating build/lib.macosx-11.0-arm64-3.11/scipy/ndimage\n",
            "  \u001b[31m   \u001b[0m copying scipy/ndimage/_ni_support.py -> build/lib.macosx-11.0-arm64-3.11/scipy/ndimage\n",
            "  \u001b[31m   \u001b[0m copying scipy/ndimage/interpolation.py -> build/lib.macosx-11.0-arm64-3.11/scipy/ndimage\n",
            "  \u001b[31m   \u001b[0m copying scipy/ndimage/_ni_docstrings.py -> build/lib.macosx-11.0-arm64-3.11/scipy/ndimage\n",
            "  \u001b[31m   \u001b[0m copying scipy/ndimage/__init__.py -> build/lib.macosx-11.0-arm64-3.11/scipy/ndimage\n",
            "  \u001b[31m   \u001b[0m copying scipy/ndimage/morphology.py -> build/lib.macosx-11.0-arm64-3.11/scipy/ndimage\n",
            "  \u001b[31m   \u001b[0m copying scipy/ndimage/setup.py -> build/lib.macosx-11.0-arm64-3.11/scipy/ndimage\n",
            "  \u001b[31m   \u001b[0m copying scipy/ndimage/fourier.py -> build/lib.macosx-11.0-arm64-3.11/scipy/ndimage\n",
            "  \u001b[31m   \u001b[0m copying scipy/ndimage/filters.py -> build/lib.macosx-11.0-arm64-3.11/scipy/ndimage\n",
            "  \u001b[31m   \u001b[0m copying scipy/ndimage/measurements.py -> build/lib.macosx-11.0-arm64-3.11/scipy/ndimage\n",
            "  \u001b[31m   \u001b[0m creating build/lib.macosx-11.0-arm64-3.11/scipy/_build_utils\n",
            "  \u001b[31m   \u001b[0m copying scipy/_build_utils/system_info.py -> build/lib.macosx-11.0-arm64-3.11/scipy/_build_utils\n",
            "  \u001b[31m   \u001b[0m copying scipy/_build_utils/__init__.py -> build/lib.macosx-11.0-arm64-3.11/scipy/_build_utils\n",
            "  \u001b[31m   \u001b[0m copying scipy/_build_utils/setup.py -> build/lib.macosx-11.0-arm64-3.11/scipy/_build_utils\n",
            "  \u001b[31m   \u001b[0m copying scipy/_build_utils/_fortran.py -> build/lib.macosx-11.0-arm64-3.11/scipy/_build_utils\n",
            "  \u001b[31m   \u001b[0m copying scipy/_build_utils/compiler_helper.py -> build/lib.macosx-11.0-arm64-3.11/scipy/_build_utils\n",
            "  \u001b[31m   \u001b[0m creating build/lib.macosx-11.0-arm64-3.11/scipy/_lib\n",
            "  \u001b[31m   \u001b[0m copying scipy/_lib/uarray.py -> build/lib.macosx-11.0-arm64-3.11/scipy/_lib\n",
            "  \u001b[31m   \u001b[0m copying scipy/_lib/_testutils.py -> build/lib.macosx-11.0-arm64-3.11/scipy/_lib\n",
            "  \u001b[31m   \u001b[0m copying scipy/_lib/_pep440.py -> build/lib.macosx-11.0-arm64-3.11/scipy/_lib\n",
            "  \u001b[31m   \u001b[0m copying scipy/_lib/_disjoint_set.py -> build/lib.macosx-11.0-arm64-3.11/scipy/_lib\n",
            "  \u001b[31m   \u001b[0m copying scipy/_lib/deprecation.py -> build/lib.macosx-11.0-arm64-3.11/scipy/_lib\n",
            "  \u001b[31m   \u001b[0m copying scipy/_lib/decorator.py -> build/lib.macosx-11.0-arm64-3.11/scipy/_lib\n",
            "  \u001b[31m   \u001b[0m copying scipy/_lib/_bunch.py -> build/lib.macosx-11.0-arm64-3.11/scipy/_lib\n",
            "  \u001b[31m   \u001b[0m copying scipy/_lib/__init__.py -> build/lib.macosx-11.0-arm64-3.11/scipy/_lib\n",
            "  \u001b[31m   \u001b[0m copying scipy/_lib/_ccallback.py -> build/lib.macosx-11.0-arm64-3.11/scipy/_lib\n",
            "  \u001b[31m   \u001b[0m copying scipy/_lib/_threadsafety.py -> build/lib.macosx-11.0-arm64-3.11/scipy/_lib\n",
            "  \u001b[31m   \u001b[0m copying scipy/_lib/setup.py -> build/lib.macosx-11.0-arm64-3.11/scipy/_lib\n",
            "  \u001b[31m   \u001b[0m copying scipy/_lib/_tmpdirs.py -> build/lib.macosx-11.0-arm64-3.11/scipy/_lib\n",
            "  \u001b[31m   \u001b[0m copying scipy/_lib/_util.py -> build/lib.macosx-11.0-arm64-3.11/scipy/_lib\n",
            "  \u001b[31m   \u001b[0m copying scipy/_lib/_gcutils.py -> build/lib.macosx-11.0-arm64-3.11/scipy/_lib\n",
            "  \u001b[31m   \u001b[0m copying scipy/_lib/doccer.py -> build/lib.macosx-11.0-arm64-3.11/scipy/_lib\n",
            "  \u001b[31m   \u001b[0m creating build/lib.macosx-11.0-arm64-3.11/scipy/_lib/_uarray\n",
            "  \u001b[31m   \u001b[0m copying scipy/_lib/_uarray/_backend.py -> build/lib.macosx-11.0-arm64-3.11/scipy/_lib/_uarray\n",
            "  \u001b[31m   \u001b[0m copying scipy/_lib/_uarray/__init__.py -> build/lib.macosx-11.0-arm64-3.11/scipy/_lib/_uarray\n",
            "  \u001b[31m   \u001b[0m copying scipy/_lib/_uarray/setup.py -> build/lib.macosx-11.0-arm64-3.11/scipy/_lib/_uarray\n",
            "  \u001b[31m   \u001b[0m running build_clib\n",
            "  \u001b[31m   \u001b[0m INFO: customize UnixCCompiler\n",
            "  \u001b[31m   \u001b[0m WARN: #### ['clang', '-DNDEBUG', '-fwrapv', '-O2', '-Wall', '-fPIC', '-O2', '-isystem', '/opt/homebrew/Caskroom/miniforge/base/envs/ml/include', '-arch', 'arm64', '-fPIC', '-O2', '-isystem', '/opt/homebrew/Caskroom/miniforge/base/envs/ml/include', '-arch', 'arm64'] #######\n",
            "  \u001b[31m   \u001b[0m INFO: customize UnixCCompiler using build_clib\n",
            "  \u001b[31m   \u001b[0m INFO: CCompilerOpt.cc_test_flags[1085] : testing flags (-march=native)\n",
            "  \u001b[31m   \u001b[0m INFO: C compiler: clang -DNDEBUG -fwrapv -O2 -Wall -fPIC -O2 -isystem /opt/homebrew/Caskroom/miniforge/base/envs/ml/include -arch arm64 -fPIC -O2 -isystem /opt/homebrew/Caskroom/miniforge/base/envs/ml/include -arch arm64\n",
            "  \u001b[31m   \u001b[0m \n",
            "  \u001b[31m   \u001b[0m creating /var/folders/ps/szc1qwh135x62ct9q9t4phnr0000gn/T/tmpulp7lyhf/private\n",
            "  \u001b[31m   \u001b[0m creating /var/folders/ps/szc1qwh135x62ct9q9t4phnr0000gn/T/tmpulp7lyhf/private/var\n",
            "  \u001b[31m   \u001b[0m creating /var/folders/ps/szc1qwh135x62ct9q9t4phnr0000gn/T/tmpulp7lyhf/private/var/folders\n",
            "  \u001b[31m   \u001b[0m creating /var/folders/ps/szc1qwh135x62ct9q9t4phnr0000gn/T/tmpulp7lyhf/private/var/folders/ps\n",
            "  \u001b[31m   \u001b[0m creating /var/folders/ps/szc1qwh135x62ct9q9t4phnr0000gn/T/tmpulp7lyhf/private/var/folders/ps/szc1qwh135x62ct9q9t4phnr0000gn\n",
            "  \u001b[31m   \u001b[0m creating /var/folders/ps/szc1qwh135x62ct9q9t4phnr0000gn/T/tmpulp7lyhf/private/var/folders/ps/szc1qwh135x62ct9q9t4phnr0000gn/T\n",
            "  \u001b[31m   \u001b[0m creating /var/folders/ps/szc1qwh135x62ct9q9t4phnr0000gn/T/tmpulp7lyhf/private/var/folders/ps/szc1qwh135x62ct9q9t4phnr0000gn/T/pip-build-env-wgeggg3r\n",
            "  \u001b[31m   \u001b[0m creating /var/folders/ps/szc1qwh135x62ct9q9t4phnr0000gn/T/tmpulp7lyhf/private/var/folders/ps/szc1qwh135x62ct9q9t4phnr0000gn/T/pip-build-env-wgeggg3r/overlay\n",
            "  \u001b[31m   \u001b[0m creating /var/folders/ps/szc1qwh135x62ct9q9t4phnr0000gn/T/tmpulp7lyhf/private/var/folders/ps/szc1qwh135x62ct9q9t4phnr0000gn/T/pip-build-env-wgeggg3r/overlay/lib\n",
            "  \u001b[31m   \u001b[0m creating /var/folders/ps/szc1qwh135x62ct9q9t4phnr0000gn/T/tmpulp7lyhf/private/var/folders/ps/szc1qwh135x62ct9q9t4phnr0000gn/T/pip-build-env-wgeggg3r/overlay/lib/python3.11\n",
            "  \u001b[31m   \u001b[0m creating /var/folders/ps/szc1qwh135x62ct9q9t4phnr0000gn/T/tmpulp7lyhf/private/var/folders/ps/szc1qwh135x62ct9q9t4phnr0000gn/T/pip-build-env-wgeggg3r/overlay/lib/python3.11/site-packages\n",
            "  \u001b[31m   \u001b[0m creating /var/folders/ps/szc1qwh135x62ct9q9t4phnr0000gn/T/tmpulp7lyhf/private/var/folders/ps/szc1qwh135x62ct9q9t4phnr0000gn/T/pip-build-env-wgeggg3r/overlay/lib/python3.11/site-packages/numpy\n",
            "  \u001b[31m   \u001b[0m creating /var/folders/ps/szc1qwh135x62ct9q9t4phnr0000gn/T/tmpulp7lyhf/private/var/folders/ps/szc1qwh135x62ct9q9t4phnr0000gn/T/pip-build-env-wgeggg3r/overlay/lib/python3.11/site-packages/numpy/distutils\n",
            "  \u001b[31m   \u001b[0m creating /var/folders/ps/szc1qwh135x62ct9q9t4phnr0000gn/T/tmpulp7lyhf/private/var/folders/ps/szc1qwh135x62ct9q9t4phnr0000gn/T/pip-build-env-wgeggg3r/overlay/lib/python3.11/site-packages/numpy/distutils/checks\n",
            "  \u001b[31m   \u001b[0m INFO: compile options: '-c'\n",
            "  \u001b[31m   \u001b[0m extra options: '-march=native'\n",
            "  \u001b[31m   \u001b[0m WARN: CCompilerOpt.dist_test[636] : CCompilerOpt._dist_test_spawn[770] : Command (clang -DNDEBUG -fwrapv -O2 -Wall -fPIC -O2 -isystem /opt/homebrew/Caskroom/miniforge/base/envs/ml/include -arch arm64 -fPIC -O2 -isystem /opt/homebrew/Caskroom/miniforge/base/envs/ml/include -arch arm64 -c /private/var/folders/ps/szc1qwh135x62ct9q9t4phnr0000gn/T/pip-build-env-wgeggg3r/overlay/lib/python3.11/site-packages/numpy/distutils/checks/test_flags.c -o /var/folders/ps/szc1qwh135x62ct9q9t4phnr0000gn/T/tmpulp7lyhf/private/var/folders/ps/szc1qwh135x62ct9q9t4phnr0000gn/T/pip-build-env-wgeggg3r/overlay/lib/python3.11/site-packages/numpy/distutils/checks/test_flags.o -MMD -MF /var/folders/ps/szc1qwh135x62ct9q9t4phnr0000gn/T/tmpulp7lyhf/private/var/folders/ps/szc1qwh135x62ct9q9t4phnr0000gn/T/pip-build-env-wgeggg3r/overlay/lib/python3.11/site-packages/numpy/distutils/checks/test_flags.o.d -march=native) failed with exit status 1 output ->\n",
            "  \u001b[31m   \u001b[0m clang: error: the clang compiler does not support '-march=native'\n",
            "  \u001b[31m   \u001b[0m \n",
            "  \u001b[31m   \u001b[0m WARN: CCompilerOpt.cc_test_flags[1089] : testing failed\n",
            "  \u001b[31m   \u001b[0m INFO: CCompilerOpt.cc_test_flags[1085] : testing flags (-O3)\n",
            "  \u001b[31m   \u001b[0m INFO: C compiler: clang -DNDEBUG -fwrapv -O2 -Wall -fPIC -O2 -isystem /opt/homebrew/Caskroom/miniforge/base/envs/ml/include -arch arm64 -fPIC -O2 -isystem /opt/homebrew/Caskroom/miniforge/base/envs/ml/include -arch arm64\n",
            "  \u001b[31m   \u001b[0m \n",
            "  \u001b[31m   \u001b[0m INFO: compile options: '-c'\n",
            "  \u001b[31m   \u001b[0m extra options: '-O3'\n",
            "  \u001b[31m   \u001b[0m INFO: CCompilerOpt.cc_test_flags[1085] : testing flags (-Werror=switch)\n",
            "  \u001b[31m   \u001b[0m INFO: C compiler: clang -DNDEBUG -fwrapv -O2 -Wall -fPIC -O2 -isystem /opt/homebrew/Caskroom/miniforge/base/envs/ml/include -arch arm64 -fPIC -O2 -isystem /opt/homebrew/Caskroom/miniforge/base/envs/ml/include -arch arm64\n",
            "  \u001b[31m   \u001b[0m \n",
            "  \u001b[31m   \u001b[0m INFO: compile options: '-c'\n",
            "  \u001b[31m   \u001b[0m extra options: '-Werror=switch'\n",
            "  \u001b[31m   \u001b[0m INFO: CCompilerOpt.cc_test_flags[1085] : testing flags (-Werror)\n",
            "  \u001b[31m   \u001b[0m INFO: C compiler: clang -DNDEBUG -fwrapv -O2 -Wall -fPIC -O2 -isystem /opt/homebrew/Caskroom/miniforge/base/envs/ml/include -arch arm64 -fPIC -O2 -isystem /opt/homebrew/Caskroom/miniforge/base/envs/ml/include -arch arm64\n",
            "  \u001b[31m   \u001b[0m \n",
            "  \u001b[31m   \u001b[0m INFO: compile options: '-c'\n",
            "  \u001b[31m   \u001b[0m extra options: '-Werror'\n",
            "  \u001b[31m   \u001b[0m INFO: CCompilerOpt.__init__[1794] : check requested baseline\n",
            "  \u001b[31m   \u001b[0m INFO: CCompilerOpt.feature_test[1559] : testing feature 'NEON_VFPV4' with flags ()\n",
            "  \u001b[31m   \u001b[0m INFO: C compiler: clang -DNDEBUG -fwrapv -O2 -Wall -fPIC -O2 -isystem /opt/homebrew/Caskroom/miniforge/base/envs/ml/include -arch arm64 -fPIC -O2 -isystem /opt/homebrew/Caskroom/miniforge/base/envs/ml/include -arch arm64\n",
            "  \u001b[31m   \u001b[0m \n",
            "  \u001b[31m   \u001b[0m INFO: compile options: '-c'\n",
            "  \u001b[31m   \u001b[0m extra options: '-Werror=switch -Werror'\n",
            "  \u001b[31m   \u001b[0m INFO: CCompilerOpt.feature_test[1559] : testing feature 'NEON_FP16' with flags ()\n",
            "  \u001b[31m   \u001b[0m INFO: C compiler: clang -DNDEBUG -fwrapv -O2 -Wall -fPIC -O2 -isystem /opt/homebrew/Caskroom/miniforge/base/envs/ml/include -arch arm64 -fPIC -O2 -isystem /opt/homebrew/Caskroom/miniforge/base/envs/ml/include -arch arm64\n",
            "  \u001b[31m   \u001b[0m \n",
            "  \u001b[31m   \u001b[0m INFO: compile options: '-c'\n",
            "  \u001b[31m   \u001b[0m extra options: '-Werror=switch -Werror'\n",
            "  \u001b[31m   \u001b[0m INFO: CCompilerOpt.feature_test[1559] : testing feature 'NEON' with flags ()\n",
            "  \u001b[31m   \u001b[0m INFO: C compiler: clang -DNDEBUG -fwrapv -O2 -Wall -fPIC -O2 -isystem /opt/homebrew/Caskroom/miniforge/base/envs/ml/include -arch arm64 -fPIC -O2 -isystem /opt/homebrew/Caskroom/miniforge/base/envs/ml/include -arch arm64\n",
            "  \u001b[31m   \u001b[0m \n",
            "  \u001b[31m   \u001b[0m INFO: compile options: '-c'\n",
            "  \u001b[31m   \u001b[0m extra options: '-Werror=switch -Werror'\n",
            "  \u001b[31m   \u001b[0m INFO: CCompilerOpt.feature_test[1559] : testing feature 'ASIMD' with flags ()\n",
            "  \u001b[31m   \u001b[0m INFO: C compiler: clang -DNDEBUG -fwrapv -O2 -Wall -fPIC -O2 -isystem /opt/homebrew/Caskroom/miniforge/base/envs/ml/include -arch arm64 -fPIC -O2 -isystem /opt/homebrew/Caskroom/miniforge/base/envs/ml/include -arch arm64\n",
            "  \u001b[31m   \u001b[0m \n",
            "  \u001b[31m   \u001b[0m INFO: compile options: '-c'\n",
            "  \u001b[31m   \u001b[0m extra options: '-Werror=switch -Werror'\n",
            "  \u001b[31m   \u001b[0m INFO: CCompilerOpt.__init__[1803] : check requested dispatch-able features\n",
            "  \u001b[31m   \u001b[0m INFO: CCompilerOpt.cc_test_flags[1085] : testing flags (-march=armv8.2-a+fp16)\n",
            "  \u001b[31m   \u001b[0m INFO: C compiler: clang -DNDEBUG -fwrapv -O2 -Wall -fPIC -O2 -isystem /opt/homebrew/Caskroom/miniforge/base/envs/ml/include -arch arm64 -fPIC -O2 -isystem /opt/homebrew/Caskroom/miniforge/base/envs/ml/include -arch arm64\n",
            "  \u001b[31m   \u001b[0m \n",
            "  \u001b[31m   \u001b[0m INFO: compile options: '-c'\n",
            "  \u001b[31m   \u001b[0m extra options: '-march=armv8.2-a+fp16'\n",
            "  \u001b[31m   \u001b[0m INFO: CCompilerOpt.feature_test[1559] : testing feature 'ASIMDHP' with flags (-march=armv8.2-a+fp16)\n",
            "  \u001b[31m   \u001b[0m INFO: C compiler: clang -DNDEBUG -fwrapv -O2 -Wall -fPIC -O2 -isystem /opt/homebrew/Caskroom/miniforge/base/envs/ml/include -arch arm64 -fPIC -O2 -isystem /opt/homebrew/Caskroom/miniforge/base/envs/ml/include -arch arm64\n",
            "  \u001b[31m   \u001b[0m \n",
            "  \u001b[31m   \u001b[0m INFO: compile options: '-c'\n",
            "  \u001b[31m   \u001b[0m extra options: '-march=armv8.2-a+fp16 -Werror=switch -Werror'\n",
            "  \u001b[31m   \u001b[0m INFO: CCompilerOpt.cc_test_flags[1085] : testing flags (-march=armv8.2-a+fp16fml)\n",
            "  \u001b[31m   \u001b[0m INFO: C compiler: clang -DNDEBUG -fwrapv -O2 -Wall -fPIC -O2 -isystem /opt/homebrew/Caskroom/miniforge/base/envs/ml/include -arch arm64 -fPIC -O2 -isystem /opt/homebrew/Caskroom/miniforge/base/envs/ml/include -arch arm64\n",
            "  \u001b[31m   \u001b[0m \n",
            "  \u001b[31m   \u001b[0m INFO: compile options: '-c'\n",
            "  \u001b[31m   \u001b[0m extra options: '-march=armv8.2-a+fp16fml'\n",
            "  \u001b[31m   \u001b[0m INFO: CCompilerOpt.feature_test[1559] : testing feature 'ASIMDFHM' with flags (-march=armv8.2-a+fp16+fp16fml)\n",
            "  \u001b[31m   \u001b[0m INFO: C compiler: clang -DNDEBUG -fwrapv -O2 -Wall -fPIC -O2 -isystem /opt/homebrew/Caskroom/miniforge/base/envs/ml/include -arch arm64 -fPIC -O2 -isystem /opt/homebrew/Caskroom/miniforge/base/envs/ml/include -arch arm64\n",
            "  \u001b[31m   \u001b[0m \n",
            "  \u001b[31m   \u001b[0m INFO: compile options: '-c'\n",
            "  \u001b[31m   \u001b[0m extra options: '-march=armv8.2-a+fp16+fp16fml -Werror=switch -Werror'\n",
            "  \u001b[31m   \u001b[0m INFO: CCompilerOpt.cc_test_flags[1085] : testing flags (-march=armv8.2-a+dotprod)\n",
            "  \u001b[31m   \u001b[0m INFO: C compiler: clang -DNDEBUG -fwrapv -O2 -Wall -fPIC -O2 -isystem /opt/homebrew/Caskroom/miniforge/base/envs/ml/include -arch arm64 -fPIC -O2 -isystem /opt/homebrew/Caskroom/miniforge/base/envs/ml/include -arch arm64\n",
            "  \u001b[31m   \u001b[0m \n",
            "  \u001b[31m   \u001b[0m INFO: compile options: '-c'\n",
            "  \u001b[31m   \u001b[0m extra options: '-march=armv8.2-a+dotprod'\n",
            "  \u001b[31m   \u001b[0m INFO: CCompilerOpt.feature_test[1559] : testing feature 'ASIMDDP' with flags (-march=armv8.2-a+dotprod)\n",
            "  \u001b[31m   \u001b[0m INFO: C compiler: clang -DNDEBUG -fwrapv -O2 -Wall -fPIC -O2 -isystem /opt/homebrew/Caskroom/miniforge/base/envs/ml/include -arch arm64 -fPIC -O2 -isystem /opt/homebrew/Caskroom/miniforge/base/envs/ml/include -arch arm64\n",
            "  \u001b[31m   \u001b[0m \n",
            "  \u001b[31m   \u001b[0m INFO: compile options: '-c'\n",
            "  \u001b[31m   \u001b[0m extra options: '-march=armv8.2-a+dotprod -Werror=switch -Werror'\n",
            "  \u001b[31m   \u001b[0m INFO: CCompilerOpt.__init__[1815] : skip features (NEON ASIMD NEON_VFPV4 NEON_FP16) since its part of baseline\n",
            "  \u001b[31m   \u001b[0m INFO: CCompilerOpt.__init__[1819] : initialize targets groups\n",
            "  \u001b[31m   \u001b[0m INFO: CCompilerOpt.__init__[1821] : parse target group simd_test\n",
            "  \u001b[31m   \u001b[0m INFO: CCompilerOpt._parse_target_tokens[2032] : skip targets (VSX XOP AVX512_SKX (AVX2 FMA3) VXE2 SSE42 VSX3 AVX512F SSE2 VSX2 VX VXE VSX4 FMA4) not part of baseline or dispatch-able features\n",
            "  \u001b[31m   \u001b[0m INFO: CCompilerOpt._parse_policy_not_keepbase[2144] : skip baseline features (ASIMD)\n",
            "  \u001b[31m   \u001b[0m INFO: CCompilerOpt.generate_dispatch_header[2365] : generate CPU dispatch header: (build/src.macosx-11.0-arm64-3.11/numpy/distutils/include/npy_cpu_dispatch_config.h)\n",
            "  \u001b[31m   \u001b[0m WARN: CCompilerOpt.generate_dispatch_header[2374] : dispatch header dir build/src.macosx-11.0-arm64-3.11/numpy/distutils/include does not exist, creating it\n",
            "  \u001b[31m   \u001b[0m INFO: building 'mach' library\n",
            "  \u001b[31m   \u001b[0m error: library mach has Fortran sources but no Fortran compiler found\n",
            "  \u001b[31m   \u001b[0m INFO:\n",
            "  \u001b[31m   \u001b[0m ########### CLIB COMPILER OPTIMIZATION ###########\n",
            "  \u001b[31m   \u001b[0m INFO: Platform      :\n",
            "  \u001b[31m   \u001b[0m   Architecture: aarch64\n",
            "  \u001b[31m   \u001b[0m   Compiler    : clang\n",
            "  \u001b[31m   \u001b[0m \n",
            "  \u001b[31m   \u001b[0m CPU baseline  :\n",
            "  \u001b[31m   \u001b[0m   Requested   : 'min'\n",
            "  \u001b[31m   \u001b[0m   Enabled     : NEON NEON_FP16 NEON_VFPV4 ASIMD\n",
            "  \u001b[31m   \u001b[0m   Flags       : none\n",
            "  \u001b[31m   \u001b[0m   Extra checks: none\n",
            "  \u001b[31m   \u001b[0m \n",
            "  \u001b[31m   \u001b[0m CPU dispatch  :\n",
            "  \u001b[31m   \u001b[0m   Requested   : 'max -xop -fma4'\n",
            "  \u001b[31m   \u001b[0m   Enabled     : ASIMDHP ASIMDDP ASIMDFHM\n",
            "  \u001b[31m   \u001b[0m   Generated   : none\n",
            "  \u001b[31m   \u001b[0m INFO: CCompilerOpt.cache_flush[863] : write cache to path -> /private/var/folders/ps/szc1qwh135x62ct9q9t4phnr0000gn/T/pip-install-ezt9kppg/scipy_4f02ecc8fd9849e29821fdf13bc7a34e/build/temp.macosx-11.0-arm64-3.11/ccompiler_opt_cache_clib.py\n",
            "  \u001b[31m   \u001b[0m \u001b[31m[end of output]\u001b[0m\n",
            "  \n",
            "  \u001b[1;35mnote\u001b[0m: This error originates from a subprocess, and is likely not a problem with pip.\n",
            "\u001b[?25h\u001b[31m  ERROR: Failed building wheel for scipy\u001b[0m\u001b[31m\n",
            "\u001b[0mFailed to build scipy\n",
            "\u001b[31mERROR: Could not build wheels for scipy, which is required to install pyproject.toml-based projects\u001b[0m\u001b[31m\n",
            "\u001b[0m"
          ]
        }
      ],
      "source": [
        "!pip install scipy==1.6.0"
      ]
    },
    {
      "attachments": {},
      "cell_type": "markdown",
      "metadata": {
        "id": "l_R2bnWbupEz"
      },
      "source": [
        "### 1.카이제곱 적합도 검정"
      ]
    },
    {
      "attachments": {},
      "cell_type": "markdown",
      "metadata": {
        "id": "neenT8e9PFS_"
      },
      "source": [
        "#### 1-1.특정비율\n",
        "A학급 40명의 혈액형 비율을 A, B, O, AB 각각 20%, 20%, 30%, 30%로 예상하였다.  \n",
        "실제 측정 결과 16, 16, 4, 4 명인 경우의 적합도 검정을 수행하여 보자\n"
      ]
    },
    {
      "attachments": {},
      "cell_type": "markdown",
      "metadata": {
        "id": "mma6l4kjwtrN"
      },
      "source": [
        "- 𝑯_𝟎 : 변수의 분포가 기대 분포와 같다\n",
        "- 𝑯_𝟏 : 변수의 분포가 기대 분포와 같지 않다"
      ]
    },
    {
      "cell_type": "code",
      "execution_count": 3,
      "metadata": {
        "id": "BuXBEihxffVT"
      },
      "outputs": [
        {
          "name": "stdout",
          "output_type": "stream",
          "text": [
            "None\n"
          ]
        }
      ],
      "source": [
        "# [파일로 주어진 경우 직접 개수 계산]\n",
        "import pandas as pd\n",
        "data = {'blood_type': ['A']*16 + ['B']*16 + ['C']*4 + ['D']*4}\n",
        "data = pd.DataFrame(data)\n",
        "\n",
        "# 그룹 나누기\n",
        "observed = [16, 16, 4, 4] # 관찰값 (총 40명)\n",
        "expected = [40*0.2, 40*0.2, 40*0.3, 40*0.3] # 기대값"
      ]
    },
    {
      "cell_type": "code",
      "execution_count": null,
      "metadata": {
        "id": "wwAhhxQzCZno"
      },
      "outputs": [],
      "source": [
        "from scipy.stats import chisquare\n",
        "import numpy as np\n",
        "\n",
        "# 카이제곱 검정 적합도 검사\n",
        "from scipy.stats import chisquare\n",
        "chi, pvalue = chisquare(observed, expected, ddof=0, axis=0)\n",
        "print(round(pvalue,4))  # pvalue : 0 -> 귀무가설 기각 -> 관찰도수의 분포가 기대도수의 분포와 다르다."
      ]
    },
    {
      "attachments": {},
      "cell_type": "markdown",
      "metadata": {
        "id": "VCRZhIkAPR0R"
      },
      "source": [
        "#### 1-2.동일비율\n",
        "4개의 범주에 대해 동일한 비율이라고 가정하고, 실제측정 한 표본 분포가 다음과 같을 때,   \n",
        "카이제곱 적합도 검정을 수행하여 보자  \n",
        "observed = [54, 46, 60, 40]\n"
      ]
    },
    {
      "attachments": {},
      "cell_type": "markdown",
      "metadata": {
        "id": "kkShHc9fwwt9"
      },
      "source": [
        "- 𝑯_𝟎 : 변수의 분포에 비율 차이가 없다.\n",
        "- 𝑯_𝟏 : 변수의 분포에 비율 차이가 있다."
      ]
    },
    {
      "cell_type": "code",
      "execution_count": null,
      "metadata": {
        "id": "uA_Ax2E9DWlu"
      },
      "outputs": [],
      "source": [
        "from scipy.stats import chisquare\n",
        "import numpy as np\n",
        "\n",
        "observed = [54, 46, 60, 40] # 관찰값\n",
        "expected = []] # 기대값"
      ]
    },
    {
      "attachments": {},
      "cell_type": "markdown",
      "metadata": {
        "id": "SxRu53YNAzIQ"
      },
      "source": [
        "### 2.카이제곱 동질성/독립성 검정\n",
        "- 두 범주형 자료 간의 차이를 분석하는 검증 방법\n",
        "- 관찰빈도(실제값)가 기대빈도(기댓값)와 유의한 차이가 있는지 검증\n",
        "- 관찰빈도는 절대적 수치로만 관찰되어야 함, 기대빈도의 합과 관찰빈도의 합은 같음\n",
        "- 분할표의 칸 수 및 각 칸의 기대빈도는 5이상 이어야 함\n",
        "- 귀무가설이 기각되면 범주별 기대빈도와 관측빈도의 차이가 충분히 크다고 말할 수 있음\n",
        "- 기대빈도와 관찰빈도의 차이가 커지면 카이제곱 통계량도 커짐\n"
      ]
    },
    {
      "attachments": {},
      "cell_type": "markdown",
      "metadata": {
        "id": "GCJnrWia2dVy"
      },
      "source": [
        "#### 2-1.카이제곱 동질성 검정\n",
        "- H0 : 성별별 핸드폰 모델 선호도 분포는 같다\n",
        "- H1 : 성별별 핸드폰 모델 선호도 분포가 같지 않다"
      ]
    },
    {
      "cell_type": "code",
      "execution_count": 6,
      "metadata": {
        "id": "0cSvCzSTr_HM"
      },
      "outputs": [
        {
          "name": "stdout",
          "output_type": "stream",
          "text": [
            "   model_A  model_B  model_C\n",
            "M       10       40       50\n",
            "F       30       60       10\n"
          ]
        }
      ],
      "source": [
        "import pandas as pd\n",
        "from scipy.stats import chi2_contingency\n",
        "\n",
        "crs_table = pd.DataFrame([[10, 40, 50], [30, 60, 10]],\n",
        "                         index=['M', 'F'],\n",
        "                columns=['model_A', 'model_B', 'model_C'])\n",
        "print(crs_table)"
      ]
    },
    {
      "attachments": {},
      "cell_type": "markdown",
      "metadata": {
        "id": "_7ocSatdo6Fa"
      },
      "source": [
        "#### 2-2.카이제곱 독립성 검정\n",
        "- 귀무가설 : 당뇨와 비만 사이에 관계는 독립이다.  \n",
        "- 대립가설 : 당뇨와 비만 사이에 관계는 독립이 아니다."
      ]
    },
    {
      "cell_type": "code",
      "execution_count": 5,
      "metadata": {
        "id": "xFdtbLsfAzIm"
      },
      "outputs": [
        {
          "name": "stdout",
          "output_type": "stream",
          "text": [
            "   당뇨 여부 비만 여부\n",
            "0      Y     N\n",
            "1      N     Y\n",
            "2      N     N\n",
            "3      N     N\n",
            "4      N     Y\n",
            "..   ...   ...\n",
            "95     N     N\n",
            "96     N     N\n",
            "97     Y     N\n",
            "98     N     N\n",
            "99     N     N\n",
            "\n",
            "[100 rows x 2 columns]\n"
          ]
        }
      ],
      "source": [
        "# [1] 데이터 가져오기\n",
        "import pandas as pd\n",
        "from scipy.stats import chi2_contingency\n",
        "data = pd.read_csv(\"data_02/data_chi.csv\")\n",
        "print(data)"
      ]
    },
    {
      "cell_type": "code",
      "execution_count": 7,
      "metadata": {
        "id": "PkuYPjfhAzIo"
      },
      "outputs": [
        {
          "name": "stdout",
          "output_type": "stream",
          "text": [
            "비만 여부   N   Y\n",
            "당뇨 여부        \n",
            "N      62  22\n",
            "Y      12   4\n"
          ]
        }
      ],
      "source": [
        "# [2] 카이제곱 분석을 위한 분할표 만들기\n",
        "crs_tab = pd.crosstab(data['당뇨 여부'], data['비만 여부'])\n",
        "print(crs_tab)"
      ]
    },
    {
      "cell_type": "code",
      "execution_count": 8,
      "metadata": {
        "id": "aaF4JuDgAzIq"
      },
      "outputs": [
        {
          "name": "stdout",
          "output_type": "stream",
          "text": [
            "1.0\n"
          ]
        }
      ],
      "source": [
        "# [3] 카이스퀘어 분석\n",
        "# 동질성 검정\n",
        "from scipy.stats import chi2_contingency\n",
        "chi, pvalue, df, expected = chi2_contingency(crs_tab)\n",
        "print(pvalue)   # pvalue : 0.1 -> 귀무가설 채택 -> 당뇨와 비만 사이 관계는 독립이다."
      ]
    },
    {
      "cell_type": "code",
      "execution_count": 9,
      "metadata": {
        "id": "K1zoZrmeAzIr"
      },
      "outputs": [
        {
          "name": "stdout",
          "output_type": "stream",
          "text": [
            "채택\n"
          ]
        }
      ],
      "source": [
        "# [4] 결론\n",
        "print('기각' if pvalue < 0.05 else '채택')"
      ]
    },
    {
      "attachments": {},
      "cell_type": "markdown",
      "metadata": {
        "id": "c1OAl4TEAzIr"
      },
      "source": [
        "#### 2-3.피셔의 정확검정\n",
        "- 만약 사건 발생 수, 빈도 수가 극히 적거나(특히 5개 이하의 빈도가 전체 셀 중 20%이상 존재하는 경우) 서로의 빈도 수의 차이가 많이나는 경우에는 카이제곱 검정의 정확도는 낮아집니다.\n",
        "- 이때 필요한 검정이 바로 '피셔의 정확검정'입니다."
      ]
    },
    {
      "attachments": {},
      "cell_type": "markdown",
      "metadata": {
        "id": "CYYcCASq47Qq"
      },
      "source": [
        "가설설정\n",
        "- 귀무가설 : 약과 효과의 관계는 독립이다.\n",
        "- 대립가설 : 약과 효과의 관계가 독립이 아니다."
      ]
    },
    {
      "cell_type": "code",
      "execution_count": 10,
      "metadata": {
        "id": "co0B6Sp7AzIs"
      },
      "outputs": [
        {
          "name": "stdout",
          "output_type": "stream",
          "text": [
            "      가짜 약  진짜 약\n",
            "효과있음     1     6\n",
            "효과없음     5     2\n"
          ]
        }
      ],
      "source": [
        "import pandas as pd\n",
        "from scipy.stats import fisher_exact\n",
        "\n",
        "# [1] 분할표 생성\n",
        "data = pd.DataFrame([[1, 6], [5, 2]])\n",
        "data.columns = ['가짜 약','진짜 약']\n",
        "data.index = ['효과있음', '효과없음']\n",
        "print(data)"
      ]
    },
    {
      "cell_type": "code",
      "execution_count": 12,
      "metadata": {
        "id": "XgrrakEyAzIt"
      },
      "outputs": [
        {
          "name": "stdout",
          "output_type": "stream",
          "text": [
            "0.10256410256410255\n"
          ]
        }
      ],
      "source": [
        "# [2] 피셔 검정\n",
        "from scipy.stats import fisher_exact\n",
        "odd, pvalue = fisher_exact(data)\n",
        "print(pvalue)   # pvalue : 0.1 -> 귀무가설 채택 -> 약과 효과의 관계는 독립니다. (연관 없다.)"
      ]
    },
    {
      "cell_type": "code",
      "execution_count": null,
      "metadata": {
        "id": "_rd9IFPvRJl1"
      },
      "outputs": [],
      "source": [
        "help(fisher_exact)"
      ]
    },
    {
      "cell_type": "code",
      "execution_count": 13,
      "metadata": {
        "id": "540ZpO-2AzIt"
      },
      "outputs": [
        {
          "name": "stdout",
          "output_type": "stream",
          "text": [
            "채택\n"
          ]
        }
      ],
      "source": [
        "# [3] 결과\n",
        "print('기각' if pvalue < 0.05 else '채택')"
      ]
    },
    {
      "attachments": {},
      "cell_type": "markdown",
      "metadata": {
        "id": "v9WM-wsiAzIu"
      },
      "source": [
        "#### 2-4.아내와 남편의 집안일\n",
        "- 귀무가설 : 집안일의 종류와 수행하는 사람의 관계는 독립이다.\n",
        "- 대립가설 : 집안일의 종류와 수행하는 사람의 관계가 독립이 아니다."
      ]
    },
    {
      "cell_type": "code",
      "execution_count": 23,
      "metadata": {
        "colab": {
          "base_uri": "https://localhost:8080/"
        },
        "id": "aUjCofq6vbzX",
        "outputId": "3dccdaed-3e42-450e-c87b-ee48d298b306",
        "scrolled": true
      },
      "outputs": [
        {
          "data": {
            "text/html": [
              "<div>\n",
              "<style scoped>\n",
              "    .dataframe tbody tr th:only-of-type {\n",
              "        vertical-align: middle;\n",
              "    }\n",
              "\n",
              "    .dataframe tbody tr th {\n",
              "        vertical-align: top;\n",
              "    }\n",
              "\n",
              "    .dataframe thead th {\n",
              "        text-align: right;\n",
              "    }\n",
              "</style>\n",
              "<table border=\"1\" class=\"dataframe\">\n",
              "  <thead>\n",
              "    <tr style=\"text-align: right;\">\n",
              "      <th></th>\n",
              "      <th>Wife</th>\n",
              "      <th>Alternating</th>\n",
              "      <th>Husband</th>\n",
              "      <th>Jointly</th>\n",
              "    </tr>\n",
              "  </thead>\n",
              "  <tbody>\n",
              "    <tr>\n",
              "      <th>Laundry</th>\n",
              "      <td>156</td>\n",
              "      <td>14</td>\n",
              "      <td>2</td>\n",
              "      <td>4</td>\n",
              "    </tr>\n",
              "    <tr>\n",
              "      <th>Main_meal</th>\n",
              "      <td>124</td>\n",
              "      <td>20</td>\n",
              "      <td>5</td>\n",
              "      <td>4</td>\n",
              "    </tr>\n",
              "    <tr>\n",
              "      <th>Dinner</th>\n",
              "      <td>77</td>\n",
              "      <td>11</td>\n",
              "      <td>7</td>\n",
              "      <td>13</td>\n",
              "    </tr>\n",
              "    <tr>\n",
              "      <th>Breakfeast</th>\n",
              "      <td>82</td>\n",
              "      <td>36</td>\n",
              "      <td>15</td>\n",
              "      <td>7</td>\n",
              "    </tr>\n",
              "    <tr>\n",
              "      <th>Tidying</th>\n",
              "      <td>53</td>\n",
              "      <td>11</td>\n",
              "      <td>1</td>\n",
              "      <td>57</td>\n",
              "    </tr>\n",
              "    <tr>\n",
              "      <th>Dishes</th>\n",
              "      <td>32</td>\n",
              "      <td>24</td>\n",
              "      <td>4</td>\n",
              "      <td>53</td>\n",
              "    </tr>\n",
              "    <tr>\n",
              "      <th>Shopping</th>\n",
              "      <td>33</td>\n",
              "      <td>23</td>\n",
              "      <td>9</td>\n",
              "      <td>55</td>\n",
              "    </tr>\n",
              "    <tr>\n",
              "      <th>Official</th>\n",
              "      <td>12</td>\n",
              "      <td>46</td>\n",
              "      <td>23</td>\n",
              "      <td>15</td>\n",
              "    </tr>\n",
              "    <tr>\n",
              "      <th>Driving</th>\n",
              "      <td>10</td>\n",
              "      <td>51</td>\n",
              "      <td>75</td>\n",
              "      <td>3</td>\n",
              "    </tr>\n",
              "    <tr>\n",
              "      <th>Finances</th>\n",
              "      <td>13</td>\n",
              "      <td>13</td>\n",
              "      <td>21</td>\n",
              "      <td>66</td>\n",
              "    </tr>\n",
              "    <tr>\n",
              "      <th>Insurance</th>\n",
              "      <td>8</td>\n",
              "      <td>1</td>\n",
              "      <td>53</td>\n",
              "      <td>77</td>\n",
              "    </tr>\n",
              "    <tr>\n",
              "      <th>Repairs</th>\n",
              "      <td>0</td>\n",
              "      <td>3</td>\n",
              "      <td>160</td>\n",
              "      <td>2</td>\n",
              "    </tr>\n",
              "    <tr>\n",
              "      <th>Holidays</th>\n",
              "      <td>0</td>\n",
              "      <td>1</td>\n",
              "      <td>6</td>\n",
              "      <td>153</td>\n",
              "    </tr>\n",
              "  </tbody>\n",
              "</table>\n",
              "</div>"
            ],
            "text/plain": [
              "            Wife  Alternating  Husband  Jointly\n",
              "Laundry      156           14        2        4\n",
              "Main_meal    124           20        5        4\n",
              "Dinner        77           11        7       13\n",
              "Breakfeast    82           36       15        7\n",
              "Tidying       53           11        1       57\n",
              "Dishes        32           24        4       53\n",
              "Shopping      33           23        9       55\n",
              "Official      12           46       23       15\n",
              "Driving       10           51       75        3\n",
              "Finances      13           13       21       66\n",
              "Insurance      8            1       53       77\n",
              "Repairs        0            3      160        2\n",
              "Holidays       0            1        6      153"
            ]
          },
          "execution_count": 23,
          "metadata": {},
          "output_type": "execute_result"
        }
      ],
      "source": [
        "# [1] crosstable 형태의 데이터 읽기\n",
        "import pandas as pd\n",
        "\n",
        "data = pd.read_csv('./data_02/housetasks.csv') # 0 칼럼이 인덱스로 가면 교차표 형태가 된다\n",
        "data = pd.read_csv('./data_02/housetasks.csv', index_col=0)\n",
        "\n",
        "# print(data.shape)\n",
        "# print(data.info())\n",
        "data"
      ]
    },
    {
      "cell_type": "code",
      "execution_count": 19,
      "metadata": {
        "id": "TUkflhpsvbzX"
      },
      "outputs": [
        {
          "name": "stdout",
          "output_type": "stream",
          "text": [
            "0.0\n"
          ]
        }
      ],
      "source": [
        "# 독립 여부를 물으니까 독립성 검정이고\n",
        "# 독립성 검정은 crs_tab 필요 -> 이미 크로스탭아니야?\n",
        "# crs_tab = pd.crosstab(data[''], data[''])\n",
        "\n",
        "# [2] 카이제곱 독립성 검정\n",
        "from scipy.stats import chi2_contingency\n",
        "chi, pvalue, df, expacted = chi2_contingency(data)\n",
        "print(pvalue) # pvalue:0 -> 귀무가설 기각 -> 집안일의 종류와 수행하는 사람은 독립적이지 않다. "
      ]
    },
    {
      "cell_type": "code",
      "execution_count": 20,
      "metadata": {
        "id": "JEUuPpmGvbzX"
      },
      "outputs": [
        {
          "name": "stdout",
          "output_type": "stream",
          "text": [
            "기각\n"
          ]
        }
      ],
      "source": [
        "# [3] 결과\n",
        "print('기각' if pvalue < 0.05 else '채택')"
      ]
    },
    {
      "attachments": {},
      "cell_type": "markdown",
      "metadata": {
        "id": "BPdRVNRiNorp"
      },
      "source": [
        "#### 2-5.분류 모델에서 활용\n",
        "- 2개 범주형 변수의 관계에 대해 검정한다"
      ]
    },
    {
      "cell_type": "code",
      "execution_count": 31,
      "metadata": {
        "id": "bDz_WRXS87QI"
      },
      "outputs": [],
      "source": [
        "# [1] 파일 불러오기\n",
        "import pandas as pd\n",
        "data = pd.read_csv('https://raw.githubusercontent.com/Soyoung-Yoon/bigdata/main/1st_Train.csv')\n",
        "X = data.drop(columns=['Reached.on.Time_Y.N'])\n",
        "Y = data[['ID', 'Reached.on.Time_Y.N']]"
      ]
    },
    {
      "cell_type": "code",
      "execution_count": 42,
      "metadata": {
        "id": "6-Ld0VziPKIG"
      },
      "outputs": [
        {
          "name": "stdout",
          "output_type": "stream",
          "text": [
            "ID                     10999\n",
            "Warehouse_block            5\n",
            "Mode_of_Shipment           3\n",
            "Customer_care_calls        6\n",
            "Customer_rating            5\n",
            "Cost_of_the_Product      215\n",
            "Prior_purchases            8\n",
            "Product_importance         3\n",
            "Gender                     2\n",
            "Discount_offered          65\n",
            "Weight_in_gms           4034\n",
            "Reached.on.Time_Y.N        2\n",
            "dtype: int64\n"
          ]
        }
      ],
      "source": [
        "#[2] X,Y가 분리되어 있는 경우 병합하기\n",
        "XY = pd.merge(X, Y, on='ID')\n",
        "#[3] 컬럼별 값의 가짓수 확인하기 (종류의 가지 수 확인이니까 당연히 nunique)\n",
        "print(XY.nunique())"
      ]
    },
    {
      "cell_type": "code",
      "execution_count": 43,
      "metadata": {
        "id": "gcEfce_LPzYo"
      },
      "outputs": [
        {
          "name": "stdout",
          "output_type": "stream",
          "text": [
            "<class 'pandas.core.frame.DataFrame'>\n",
            "Int64Index: 10999 entries, 0 to 10998\n",
            "Data columns (total 12 columns):\n",
            " #   Column               Non-Null Count  Dtype \n",
            "---  ------               --------------  ----- \n",
            " 0   ID                   10999 non-null  int64 \n",
            " 1   Warehouse_block      10999 non-null  object\n",
            " 2   Mode_of_Shipment     10999 non-null  object\n",
            " 3   Customer_care_calls  10999 non-null  int64 \n",
            " 4   Customer_rating      10999 non-null  int64 \n",
            " 5   Cost_of_the_Product  10999 non-null  int64 \n",
            " 6   Prior_purchases      10999 non-null  int64 \n",
            " 7   Product_importance   10999 non-null  object\n",
            " 8   Gender               10999 non-null  object\n",
            " 9   Discount_offered     10999 non-null  int64 \n",
            " 10  Weight_in_gms        10999 non-null  int64 \n",
            " 11  Reached.on.Time_Y.N  10999 non-null  int64 \n",
            "dtypes: int64(8), object(4)\n",
            "memory usage: 1.1+ MB\n"
          ]
        }
      ],
      "source": [
        "#[4] 범주형 변수 확인하기\n",
        "# (설명을 보고 확인하는 것이 정확함)\n",
        "XY.info()"
      ]
    },
    {
      "attachments": {},
      "cell_type": "markdown",
      "metadata": {
        "id": "m1CLeC-_SFKv"
      },
      "source": [
        "- (독립)범주형 변수 : 'Warehouse_block', 'Mode_of_Shipment', 'Product_importance', 'Gender', 'Customer_rating', 'Customer_care_calls', 'Prior_purchases'\n",
        "- (종속)범주형 변수 : 'Reached.on.Time_Y.N'\n",
        "- 귀무가설 : 'Reached.on.Time_Y.N'과 feature는 독립이다. (연관성이 없다.)\n",
        "- 대립가설 : 'Reached.on.Time_Y.N'과 feature는 독립이 아니다. (연관성이 있다.)\n"
      ]
    },
    {
      "cell_type": "code",
      "execution_count": 46,
      "metadata": {},
      "outputs": [
        {
          "name": "stdout",
          "output_type": "stream",
          "text": [
            "F    3666\n",
            "D    1834\n",
            "A    1833\n",
            "B    1833\n",
            "C    1833\n",
            "Name: Warehouse_block, dtype: int64\n",
            "-----------------------------------\n",
            "Ship      7462\n",
            "Flight    1777\n",
            "Road      1760\n",
            "Name: Mode_of_Shipment, dtype: int64\n",
            "-----------------------------------\n",
            "low       5297\n",
            "medium    4754\n",
            "high       948\n",
            "Name: Product_importance, dtype: int64\n",
            "-----------------------------------\n",
            "F    5545\n",
            "M    5454\n",
            "Name: Gender, dtype: int64\n",
            "-----------------------------------\n",
            "3    2239\n",
            "1    2235\n",
            "4    2189\n",
            "5    2171\n",
            "2    2165\n",
            "Name: Customer_rating, dtype: int64\n",
            "-----------------------------------\n",
            "4    3557\n",
            "3    3217\n",
            "5    2328\n",
            "6    1013\n",
            "2     638\n",
            "7     246\n",
            "Name: Customer_care_calls, dtype: int64\n",
            "-----------------------------------\n",
            "3     3955\n",
            "2     2599\n",
            "4     2155\n",
            "5     1287\n",
            "6      561\n",
            "10     178\n",
            "7      136\n",
            "8      128\n",
            "Name: Prior_purchases, dtype: int64\n",
            "-----------------------------------\n"
          ]
        }
      ],
      "source": [
        "col_list = ['Warehouse_block', 'Mode_of_Shipment', 'Product_importance', 'Gender', 'Customer_rating', 'Customer_care_calls', 'Prior_purchases']\n",
        "\n",
        "for i in col_list:\n",
        "    print(XY[i].value_counts())\n",
        "    print('-'*35)\n",
        "\n",
        "# 종속변수와 아래 종속변수중 하나와 카이제곱 검정하면 됨"
      ]
    },
    {
      "cell_type": "code",
      "execution_count": 60,
      "metadata": {
        "id": "dOX9QW4KkzoV"
      },
      "outputs": [
        {
          "name": "stdout",
          "output_type": "stream",
          "text": [
            "0.896\n"
          ]
        }
      ],
      "source": [
        "# 크로스탭 만들기\n",
        "df = pd.merge(X[['ID', 'Warehouse_block']],Y,on='ID')\n",
        "crs_tab = pd.crosstab(df['Warehouse_block'], df['Reached.on.Time_Y.N'])\n",
        "# print(crs_tab)\n",
        "\n",
        "# [5] 카이제곱 독립성 검정\n",
        "from scipy.stats import chi2_contingency\n",
        "chi, pv, df, exp = chi2_contingency(crs_tab)\n",
        "print(round(pv, 4)) # pvalue 0.8 -> 귀무가설 채택 -> 독립성 있다. (연관성 없다.)\n"
      ]
    },
    {
      "cell_type": "code",
      "execution_count": 61,
      "metadata": {
        "id": "s05J6N5STYR4"
      },
      "outputs": [
        {
          "name": "stdout",
          "output_type": "stream",
          "text": [
            "채택\n"
          ]
        }
      ],
      "source": [
        "# [6] 결론\n",
        "print('기각' if pv < 0.05 else '채택')"
      ]
    },
    {
      "attachments": {},
      "cell_type": "markdown",
      "metadata": {
        "id": "3RbZJzgisWPn"
      },
      "source": [
        "### 3.Wilcoxon Signed Rank Test\n",
        "- 일표본/대응표본 T검정에서 정규성 가정이 만족되지 않을 때 사용하는 비모수 검정법\n",
        "- 일표본/대응표본 T검정과는 달리 **중앙값에 관한 결과를 얻을 수 있음**.\n",
        "- 가정\n",
        "  1. 표본은 동일한 모집단에서 추출되어야 한다.\n",
        "  2. 표본은 임의, 독립적으로 추출되어야 한다."
      ]
    },
    {
      "attachments": {},
      "cell_type": "markdown",
      "metadata": {
        "id": "Y_lV-lfmsWPr"
      },
      "source": [
        "#### 3-1.일표본(One Sample)\n",
        "- alternative='two-sided'\n",
        "   - H0: 모집단의 중앙값은 A 이다.\n",
        "   - H1: 모집단의 중앙값은 A가 아니다.\n",
        "- alternative='less'\n",
        "   - H0: 모집단의 중앙값은 A보다 크거나 같다.\n",
        "   - H1: 모집단의 중앙값은 A보다 작다.\n",
        "- alternative='greater'\n",
        "   - H0: 모집단의 중앙값은 A보다 작거나 같다.\n",
        "   - H1: 모집단의 중앙값은 A보다 크다."
      ]
    },
    {
      "attachments": {},
      "cell_type": "markdown",
      "metadata": {
        "id": "RuCyqbRMw6LI"
      },
      "source": [
        "중량이 100g 으로 표기된 닭가슴살 제품이 100g이라고 할 수 있는가?\n",
        "- 동일한 회사 제품을 임의로 9개 표본 추출하였음\n",
        "- 통계적 유의수준은 0.05로 사용함\n",
        "- H0: 닭 가슴살 중량의 중앙값은 100g이다\n",
        "- H1: 닭 가슴살 중량의 중앙값은 100g이 아니다"
      ]
    },
    {
      "cell_type": "code",
      "execution_count": 62,
      "metadata": {
        "colab": {
          "base_uri": "https://localhost:8080/"
        },
        "id": "T8Hsa8MRsWPu",
        "outputId": "a2b6f9c5-e98e-4863-efb6-8e227dfbb59b"
      },
      "outputs": [
        {
          "name": "stdout",
          "output_type": "stream",
          "text": [
            "       weight\n",
            "0  107.704526\n",
            "1   96.505220\n",
            "2  109.417631\n",
            "3  109.696405\n",
            "4   90.783694\n",
            "5  107.871426\n",
            "6  106.447983\n",
            "7  104.484894\n",
            "8   95.778403\n"
          ]
        }
      ],
      "source": [
        "# [1] 데이터 가져오기\n",
        "import pandas as pd\n",
        "df = pd.read_csv('data_02/chicken_breast.csv')\n",
        "print(df)"
      ]
    },
    {
      "cell_type": "code",
      "execution_count": 63,
      "metadata": {
        "id": "x53QNwEPsWPw"
      },
      "outputs": [
        {
          "name": "stdout",
          "output_type": "stream",
          "text": [
            "106.447983025573\n"
          ]
        }
      ],
      "source": [
        "# [2] 중앙값 구하기\n",
        "sri = df['weight']\n",
        "print(sri.median())"
      ]
    },
    {
      "cell_type": "code",
      "execution_count": 65,
      "metadata": {
        "id": "iwnfln_WsWPw"
      },
      "outputs": [
        {
          "name": "stdout",
          "output_type": "stream",
          "text": [
            "0.1640625\n"
          ]
        }
      ],
      "source": [
        "# [3] 윌콕슨 검정 실행\n",
        "from scipy.stats import wilcoxon\n",
        "# print(scipy.stats.__all__)     # 목록 확인\n",
        "# help(wilcoxon)\n",
        "statistics, pvalue = wilcoxon(df['weight'] - 100, alternative='two-sided')\n",
        "print(pvalue)   # pvalue 0.16 -> 귀무가설 채택 -> 중앙값은 100g 맞음 "
      ]
    },
    {
      "cell_type": "code",
      "execution_count": 67,
      "metadata": {
        "id": "zrmkmOoFsWPx"
      },
      "outputs": [
        {
          "name": "stdout",
          "output_type": "stream",
          "text": [
            "채택\n"
          ]
        }
      ],
      "source": [
        "# [4] 결과\n",
        "print('기각' if pvalue < 0.05 else '채택')"
      ]
    },
    {
      "attachments": {},
      "cell_type": "markdown",
      "metadata": {
        "id": "xSY1jrGlVisp"
      },
      "source": [
        "alternative='less'\n",
        "- H0: 닭가슴살 중량의 중앙값은 100 보다 크거나 같다.\n",
        "- H1: 닭가슴살 중량의 중앙값은 100 보다 작다."
      ]
    },
    {
      "cell_type": "code",
      "execution_count": 68,
      "metadata": {
        "id": "KIxyHdlAsWPy"
      },
      "outputs": [
        {
          "name": "stdout",
          "output_type": "stream",
          "text": [
            "0.935546875\n"
          ]
        }
      ],
      "source": [
        "# 데이터 로드\n",
        "df.weight\n",
        "\n",
        "# 비모수 윌콕슨 검정 \n",
        "from scipy.stats import wilcoxon\n",
        "statistic, pvalue = wilcoxon(df.weight-100, alternative='less')\n",
        "print(pvalue)   # pvalue 0.9 -> 귀무가설 채택 -> 중앙값은 100보다 크거나 같다."
      ]
    },
    {
      "attachments": {},
      "cell_type": "markdown",
      "metadata": {
        "id": "jZG_MJCEWAue"
      },
      "source": [
        "alternative='greater'\n",
        "- H0: 닭가슴살 중량의 중앙값은 100 보다 작거나 같다.\n",
        "- H1: 닭가슴살 중량의 중앙값은 100 보다 크다."
      ]
    },
    {
      "cell_type": "code",
      "execution_count": 69,
      "metadata": {
        "id": "bPFA118LsWPx"
      },
      "outputs": [
        {
          "name": "stdout",
          "output_type": "stream",
          "text": [
            "0.08203125\n"
          ]
        }
      ],
      "source": [
        "# 데이터 로드 \n",
        "df.weight\n",
        "\n",
        "# 비모수 윌콕슨 검정\n",
        "from scipy.stats import wilcoxon\n",
        "stat, pv = wilcoxon(df.weight - 100, alternative='greater')\n",
        "print(pv)   # pvalue 0.08 -> 귀무가설 채택 -> 중앙값은 100보다 작거나 같다."
      ]
    },
    {
      "attachments": {},
      "cell_type": "markdown",
      "metadata": {
        "id": "nVeut6MEsWPz"
      },
      "source": [
        "#### 3-2.대응표본(Paired)\n",
        "- alternative='two-sided'\n",
        "    - H0: 값 차이(처리후 - 처리전)의 중앙값이 0이다(=값의 차이가 없다)\n",
        "    - H1: 값 차이(처리후 - 처리전)의 중앙값이 0이 아니다(=값의 차이가 있다)\n",
        "- alternative='less'\n",
        "    - H0: 값 차이(처리후 - 처리전)의 중앙값이 0보다 크거나 같다\n",
        "    - H1: 값 차이(처리후 - 처리전)의 중앙값이 0보다 작다\n",
        "- alternative='greater'\n",
        "    - H0: 값 차이(처리후 - 처리전)의 중앙값이 0보다 작거나 같다\n",
        "    - H1: 값 차이(처리후 - 처리전)의 중앙값이 0보다 크다"
      ]
    },
    {
      "attachments": {},
      "cell_type": "markdown",
      "metadata": {
        "id": "RBYraU93L_hX"
      },
      "source": [
        "다이어트 후, 체중이 줄었다고 할 수 있는가? 몸무게 : 비율척도\n",
        "- 동일한 회사 제품을 임의로 8개 표본 추출하였음\n",
        "- 통계적 유의수준은 0.05로 사용함\n"
      ]
    },
    {
      "attachments": {},
      "cell_type": "markdown",
      "metadata": {
        "id": "sRBDBOT9XehC"
      },
      "source": [
        "alternative='less'\n",
        "- H0: 다이어트 후 - 다이어트 전 몸무게 중앙값은 0보다 크거나 같다\n",
        "- H1: 다이어트 후 - 다이어트 전 몸무게 중앙값은 0보다 작다."
      ]
    },
    {
      "cell_type": "code",
      "execution_count": 70,
      "metadata": {
        "colab": {
          "base_uri": "https://localhost:8080/"
        },
        "id": "iKA8w9zbsWPz",
        "outputId": "de94092e-b4a9-42f9-fa67-f47fbf56bff1"
      },
      "outputs": [
        {
          "name": "stdout",
          "output_type": "stream",
          "text": [
            "      before      after\n",
            "0  60.038972  56.153355\n",
            "1  58.566940  55.678046\n",
            "2  62.200320  63.010597\n",
            "3  68.522263  64.413353\n",
            "4  54.802465  52.110032\n",
            "5  55.437637  51.330742\n",
            "6  64.700073  62.047727\n",
            "7  65.030917  61.157653\n"
          ]
        }
      ],
      "source": [
        "# [1] 파일 불러오기\n",
        "import pandas as pd\n",
        "df = pd.read_csv('data_02/diet_result.csv')\n",
        "print(df)"
      ]
    },
    {
      "cell_type": "code",
      "execution_count": null,
      "metadata": {
        "id": "y6VjXh8rJzML"
      },
      "outputs": [],
      "source": [
        "# scipy.stats.wilcoxon(x, y=None, zero_method='wilcox', correction=False, alternative='two-sided', mode='auto')\n",
        "# The Wilcoxon signed-rank test tests the null hypothesis that two related paired samples come from the same distribution.\n",
        "# In particular, it tests whether the distribution of the differences x - y is symmetric about zero.\n",
        "# It is a non-parametric version of the paired T-test."
      ]
    },
    {
      "cell_type": "code",
      "execution_count": 74,
      "metadata": {
        "id": "eTPRCvvmsWP0"
      },
      "outputs": [
        {
          "name": "stdout",
          "output_type": "stream",
          "text": [
            "0.0078125\n"
          ]
        }
      ],
      "source": [
        "# [2] wilcoxon sign rank sum - (paired t-test의 비모수)\n",
        "from scipy.stats import wilcoxon\n",
        "stat, p = wilcoxon(df['after'] - df['before'], alternative='less')\n",
        "print(p)    # p 0.007 -> 귀무가설 기각 -> 다이어트 효과 있다."
      ]
    },
    {
      "cell_type": "code",
      "execution_count": 73,
      "metadata": {
        "id": "xYr_yQ0csWP0"
      },
      "outputs": [
        {
          "name": "stdout",
          "output_type": "stream",
          "text": [
            "기각\n"
          ]
        }
      ],
      "source": [
        "# [3] 결과\n",
        "print('기각' if p < 0.05 else '채택') "
      ]
    },
    {
      "attachments": {},
      "cell_type": "markdown",
      "metadata": {
        "id": "M2jZy4s_aiQ-"
      },
      "source": [
        "alternative='two-sided'\n",
        "- H0: 다이어트 후 - 다이어트 전 몸무게 중앙값은 0과 같다\n",
        "- H1: 다이어트 후 - 다이어트 전 몸무게 중앙값은 0과 다르다"
      ]
    },
    {
      "cell_type": "code",
      "execution_count": 76,
      "metadata": {
        "id": "ZAj8pg94ao7i"
      },
      "outputs": [
        {
          "name": "stdout",
          "output_type": "stream",
          "text": [
            "0.015625\n"
          ]
        }
      ],
      "source": [
        "from scipy.stats import wilcoxon\n",
        "stat, p = wilcoxon(df['after'] - df['before'], alternative='two-sided')\n",
        "print(p)    # p 0.007 -> 귀무가설 기각 -> 다이어트 전 후 몸무게가 다르다. (효과인지 역효과인지는 모름)"
      ]
    },
    {
      "attachments": {},
      "cell_type": "markdown",
      "metadata": {
        "id": "asqAuDPla26U"
      },
      "source": [
        "alternative='greater'\n",
        "- H0: 다이어트 후 - 다이어트 전 몸무게 중앙값은 0보다 작거나 같다\n",
        "- H1: 다이어트 후 - 다이어트 전 몸무게 중앙값은 0보다 크다"
      ]
    },
    {
      "cell_type": "code",
      "execution_count": 78,
      "metadata": {
        "id": "LVprTAbKa1k9"
      },
      "outputs": [
        {
          "name": "stdout",
          "output_type": "stream",
          "text": [
            "0.99609375\n"
          ]
        }
      ],
      "source": [
        "from scipy.stats import wilcoxon\n",
        "stat, p = wilcoxon(df['after'] - df['before'], alternative='greater')\n",
        "print(p)    # p 0.007 -> 귀무가설 채택 -> 작거나 같다. (효과 있거나 그대로다)"
      ]
    },
    {
      "attachments": {},
      "cell_type": "markdown",
      "metadata": {
        "id": "avKGqqA-sWP0"
      },
      "source": [
        "### 4.독립 2표본(Two Sample)\n",
        "- 독립 2표본 T검정에서 정규성 가정이 만족되지 않을 때 사용하는 비모수 검정법\n",
        "- **두 표본의 중위수를 비교**하는데 쓰임\n",
        "- 가정\n",
        "   1. 두 그룹은 독립적이다\n",
        "   2. 측정값은 최소 순서형 변수이다(대소 비교가 가능해야 함)\n",
        "\n"
      ]
    },
    {
      "attachments": {},
      "cell_type": "markdown",
      "metadata": {
        "id": "FdKSUU-LoGk8"
      },
      "source": [
        "- alternative='two-sided'\n",
        "    - H0: gA의 중앙값과 gB의 중앙값이 같다(차이가 없다)\n",
        "    - H1: gA의 중앙값과 gB의 중앙값이 다르다(차이가 있다)\n",
        "- alternative='less'\n",
        "    - H0: gA의 중앙값이 gB의 중앙값보다 크거나 같다\n",
        "    - H1: gA의 중앙값이 gB의 중앙값보다 작다\n",
        "- alternative='greater'\n",
        "    - H0: gA의 중앙값이 gB의 중앙값보다 작거나 같다\n",
        "    - H1: gA의 중앙값이 gB의 중앙값보다 크다"
      ]
    },
    {
      "attachments": {},
      "cell_type": "markdown",
      "metadata": {
        "id": "1ntotjlgeWCv"
      },
      "source": [
        "#### 4-1.Wilcoxon Rank Sum Test"
      ]
    },
    {
      "attachments": {},
      "cell_type": "markdown",
      "metadata": {
        "id": "3m3_AQNEdzV6"
      },
      "source": [
        "A사 닭가슴살 제품의 중량과 B사 닭가슴살 제품의 중량이 차이가 있는지 확인\n",
        "- A사 닭가슴살은 40개의 표본, B사 닭가슴살은 20개의 표본이 있으며\n",
        "- 각각 독립적이고 임의로 추출했다\n",
        "- 통계적 유의수준은 0.05 사용\n"
      ]
    },
    {
      "attachments": {},
      "cell_type": "markdown",
      "metadata": {
        "id": "-Vwa_FQ5eI0C"
      },
      "source": [
        "alternative='two-sided'\n",
        "- H0: A사 닭가슴살 중량과 B사 닭가슴살 중량의 차이가 없다\n",
        "- H1: A사 닭가슴살 중량과 B사 닭가슴살 중량의 차이가 있다"
      ]
    },
    {
      "cell_type": "code",
      "execution_count": 81,
      "metadata": {
        "id": "ur8JubqzsWP1"
      },
      "outputs": [
        {
          "data": {
            "text/html": [
              "<div>\n",
              "<style scoped>\n",
              "    .dataframe tbody tr th:only-of-type {\n",
              "        vertical-align: middle;\n",
              "    }\n",
              "\n",
              "    .dataframe tbody tr th {\n",
              "        vertical-align: top;\n",
              "    }\n",
              "\n",
              "    .dataframe thead th {\n",
              "        text-align: right;\n",
              "    }\n",
              "</style>\n",
              "<table border=\"1\" class=\"dataframe\">\n",
              "  <thead>\n",
              "    <tr style=\"text-align: right;\">\n",
              "      <th></th>\n",
              "      <th>company</th>\n",
              "      <th>weight</th>\n",
              "    </tr>\n",
              "  </thead>\n",
              "  <tbody>\n",
              "    <tr>\n",
              "      <th>0</th>\n",
              "      <td>A</td>\n",
              "      <td>97.604131</td>\n",
              "    </tr>\n",
              "    <tr>\n",
              "      <th>1</th>\n",
              "      <td>A</td>\n",
              "      <td>95.963639</td>\n",
              "    </tr>\n",
              "    <tr>\n",
              "      <th>2</th>\n",
              "      <td>A</td>\n",
              "      <td>101.239447</td>\n",
              "    </tr>\n",
              "    <tr>\n",
              "      <th>3</th>\n",
              "      <td>A</td>\n",
              "      <td>99.734285</td>\n",
              "    </tr>\n",
              "    <tr>\n",
              "      <th>4</th>\n",
              "      <td>A</td>\n",
              "      <td>99.130079</td>\n",
              "    </tr>\n",
              "    <tr>\n",
              "      <th>5</th>\n",
              "      <td>A</td>\n",
              "      <td>98.956492</td>\n",
              "    </tr>\n",
              "    <tr>\n",
              "      <th>6</th>\n",
              "      <td>A</td>\n",
              "      <td>101.984577</td>\n",
              "    </tr>\n",
              "    <tr>\n",
              "      <th>7</th>\n",
              "      <td>A</td>\n",
              "      <td>97.829155</td>\n",
              "    </tr>\n",
              "    <tr>\n",
              "      <th>8</th>\n",
              "      <td>A</td>\n",
              "      <td>101.919665</td>\n",
              "    </tr>\n",
              "    <tr>\n",
              "      <th>9</th>\n",
              "      <td>A</td>\n",
              "      <td>97.921979</td>\n",
              "    </tr>\n",
              "    <tr>\n",
              "      <th>10</th>\n",
              "      <td>A</td>\n",
              "      <td>99.724316</td>\n",
              "    </tr>\n",
              "    <tr>\n",
              "      <th>11</th>\n",
              "      <td>A</td>\n",
              "      <td>99.570583</td>\n",
              "    </tr>\n",
              "    <tr>\n",
              "      <th>12</th>\n",
              "      <td>A</td>\n",
              "      <td>101.147437</td>\n",
              "    </tr>\n",
              "    <tr>\n",
              "      <th>13</th>\n",
              "      <td>A</td>\n",
              "      <td>96.447101</td>\n",
              "    </tr>\n",
              "    <tr>\n",
              "      <th>14</th>\n",
              "      <td>A</td>\n",
              "      <td>99.487215</td>\n",
              "    </tr>\n",
              "    <tr>\n",
              "      <th>15</th>\n",
              "      <td>A</td>\n",
              "      <td>99.722899</td>\n",
              "    </tr>\n",
              "    <tr>\n",
              "      <th>16</th>\n",
              "      <td>A</td>\n",
              "      <td>101.115370</td>\n",
              "    </tr>\n",
              "    <tr>\n",
              "      <th>17</th>\n",
              "      <td>A</td>\n",
              "      <td>102.244693</td>\n",
              "    </tr>\n",
              "    <tr>\n",
              "      <th>18</th>\n",
              "      <td>A</td>\n",
              "      <td>98.035706</td>\n",
              "    </tr>\n",
              "    <tr>\n",
              "      <th>19</th>\n",
              "      <td>A</td>\n",
              "      <td>100.653811</td>\n",
              "    </tr>\n",
              "    <tr>\n",
              "      <th>20</th>\n",
              "      <td>A</td>\n",
              "      <td>100.895653</td>\n",
              "    </tr>\n",
              "    <tr>\n",
              "      <th>21</th>\n",
              "      <td>A</td>\n",
              "      <td>102.367448</td>\n",
              "    </tr>\n",
              "    <tr>\n",
              "      <th>22</th>\n",
              "      <td>A</td>\n",
              "      <td>99.822766</td>\n",
              "    </tr>\n",
              "    <tr>\n",
              "      <th>23</th>\n",
              "      <td>A</td>\n",
              "      <td>102.293996</td>\n",
              "    </tr>\n",
              "    <tr>\n",
              "      <th>24</th>\n",
              "      <td>A</td>\n",
              "      <td>100.173625</td>\n",
              "    </tr>\n",
              "    <tr>\n",
              "      <th>25</th>\n",
              "      <td>A</td>\n",
              "      <td>99.409990</td>\n",
              "    </tr>\n",
              "    <tr>\n",
              "      <th>26</th>\n",
              "      <td>A</td>\n",
              "      <td>101.024666</td>\n",
              "    </tr>\n",
              "    <tr>\n",
              "      <th>27</th>\n",
              "      <td>A</td>\n",
              "      <td>100.566627</td>\n",
              "    </tr>\n",
              "    <tr>\n",
              "      <th>28</th>\n",
              "      <td>A</td>\n",
              "      <td>100.769087</td>\n",
              "    </tr>\n",
              "    <tr>\n",
              "      <th>29</th>\n",
              "      <td>A</td>\n",
              "      <td>102.009609</td>\n",
              "    </tr>\n",
              "    <tr>\n",
              "      <th>30</th>\n",
              "      <td>A</td>\n",
              "      <td>99.428068</td>\n",
              "    </tr>\n",
              "    <tr>\n",
              "      <th>31</th>\n",
              "      <td>A</td>\n",
              "      <td>99.525320</td>\n",
              "    </tr>\n",
              "    <tr>\n",
              "      <th>32</th>\n",
              "      <td>A</td>\n",
              "      <td>99.592651</td>\n",
              "    </tr>\n",
              "    <tr>\n",
              "      <th>33</th>\n",
              "      <td>A</td>\n",
              "      <td>102.144944</td>\n",
              "    </tr>\n",
              "    <tr>\n",
              "      <th>34</th>\n",
              "      <td>A</td>\n",
              "      <td>103.900556</td>\n",
              "    </tr>\n",
              "    <tr>\n",
              "      <th>35</th>\n",
              "      <td>A</td>\n",
              "      <td>101.928908</td>\n",
              "    </tr>\n",
              "    <tr>\n",
              "      <th>36</th>\n",
              "      <td>A</td>\n",
              "      <td>102.076809</td>\n",
              "    </tr>\n",
              "    <tr>\n",
              "      <th>37</th>\n",
              "      <td>A</td>\n",
              "      <td>103.537747</td>\n",
              "    </tr>\n",
              "    <tr>\n",
              "      <th>38</th>\n",
              "      <td>A</td>\n",
              "      <td>98.856700</td>\n",
              "    </tr>\n",
              "    <tr>\n",
              "      <th>39</th>\n",
              "      <td>A</td>\n",
              "      <td>97.059434</td>\n",
              "    </tr>\n",
              "    <tr>\n",
              "      <th>40</th>\n",
              "      <td>B</td>\n",
              "      <td>100.667103</td>\n",
              "    </tr>\n",
              "    <tr>\n",
              "      <th>41</th>\n",
              "      <td>B</td>\n",
              "      <td>102.779430</td>\n",
              "    </tr>\n",
              "    <tr>\n",
              "      <th>42</th>\n",
              "      <td>B</td>\n",
              "      <td>103.002040</td>\n",
              "    </tr>\n",
              "    <tr>\n",
              "      <th>43</th>\n",
              "      <td>B</td>\n",
              "      <td>100.664805</td>\n",
              "    </tr>\n",
              "    <tr>\n",
              "      <th>44</th>\n",
              "      <td>B</td>\n",
              "      <td>102.546562</td>\n",
              "    </tr>\n",
              "    <tr>\n",
              "      <th>45</th>\n",
              "      <td>B</td>\n",
              "      <td>101.835250</td>\n",
              "    </tr>\n",
              "    <tr>\n",
              "      <th>46</th>\n",
              "      <td>B</td>\n",
              "      <td>100.016523</td>\n",
              "    </tr>\n",
              "    <tr>\n",
              "      <th>47</th>\n",
              "      <td>B</td>\n",
              "      <td>100.239899</td>\n",
              "    </tr>\n",
              "    <tr>\n",
              "      <th>48</th>\n",
              "      <td>B</td>\n",
              "      <td>104.410242</td>\n",
              "    </tr>\n",
              "    <tr>\n",
              "      <th>49</th>\n",
              "      <td>B</td>\n",
              "      <td>104.117585</td>\n",
              "    </tr>\n",
              "    <tr>\n",
              "      <th>50</th>\n",
              "      <td>B</td>\n",
              "      <td>117.065155</td>\n",
              "    </tr>\n",
              "    <tr>\n",
              "      <th>51</th>\n",
              "      <td>B</td>\n",
              "      <td>119.608666</td>\n",
              "    </tr>\n",
              "    <tr>\n",
              "      <th>52</th>\n",
              "      <td>B</td>\n",
              "      <td>117.387015</td>\n",
              "    </tr>\n",
              "    <tr>\n",
              "      <th>53</th>\n",
              "      <td>B</td>\n",
              "      <td>117.374972</td>\n",
              "    </tr>\n",
              "    <tr>\n",
              "      <th>54</th>\n",
              "      <td>B</td>\n",
              "      <td>118.289180</td>\n",
              "    </tr>\n",
              "    <tr>\n",
              "      <th>55</th>\n",
              "      <td>B</td>\n",
              "      <td>115.816602</td>\n",
              "    </tr>\n",
              "    <tr>\n",
              "      <th>56</th>\n",
              "      <td>B</td>\n",
              "      <td>115.475972</td>\n",
              "    </tr>\n",
              "    <tr>\n",
              "      <th>57</th>\n",
              "      <td>B</td>\n",
              "      <td>119.307574</td>\n",
              "    </tr>\n",
              "    <tr>\n",
              "      <th>58</th>\n",
              "      <td>B</td>\n",
              "      <td>116.199396</td>\n",
              "    </tr>\n",
              "    <tr>\n",
              "      <th>59</th>\n",
              "      <td>B</td>\n",
              "      <td>117.777021</td>\n",
              "    </tr>\n",
              "  </tbody>\n",
              "</table>\n",
              "</div>"
            ],
            "text/plain": [
              "   company      weight\n",
              "0        A   97.604131\n",
              "1        A   95.963639\n",
              "2        A  101.239447\n",
              "3        A   99.734285\n",
              "4        A   99.130079\n",
              "5        A   98.956492\n",
              "6        A  101.984577\n",
              "7        A   97.829155\n",
              "8        A  101.919665\n",
              "9        A   97.921979\n",
              "10       A   99.724316\n",
              "11       A   99.570583\n",
              "12       A  101.147437\n",
              "13       A   96.447101\n",
              "14       A   99.487215\n",
              "15       A   99.722899\n",
              "16       A  101.115370\n",
              "17       A  102.244693\n",
              "18       A   98.035706\n",
              "19       A  100.653811\n",
              "20       A  100.895653\n",
              "21       A  102.367448\n",
              "22       A   99.822766\n",
              "23       A  102.293996\n",
              "24       A  100.173625\n",
              "25       A   99.409990\n",
              "26       A  101.024666\n",
              "27       A  100.566627\n",
              "28       A  100.769087\n",
              "29       A  102.009609\n",
              "30       A   99.428068\n",
              "31       A   99.525320\n",
              "32       A   99.592651\n",
              "33       A  102.144944\n",
              "34       A  103.900556\n",
              "35       A  101.928908\n",
              "36       A  102.076809\n",
              "37       A  103.537747\n",
              "38       A   98.856700\n",
              "39       A   97.059434\n",
              "40       B  100.667103\n",
              "41       B  102.779430\n",
              "42       B  103.002040\n",
              "43       B  100.664805\n",
              "44       B  102.546562\n",
              "45       B  101.835250\n",
              "46       B  100.016523\n",
              "47       B  100.239899\n",
              "48       B  104.410242\n",
              "49       B  104.117585\n",
              "50       B  117.065155\n",
              "51       B  119.608666\n",
              "52       B  117.387015\n",
              "53       B  117.374972\n",
              "54       B  118.289180\n",
              "55       B  115.816602\n",
              "56       B  115.475972\n",
              "57       B  119.307574\n",
              "58       B  116.199396\n",
              "59       B  117.777021"
            ]
          },
          "execution_count": 81,
          "metadata": {},
          "output_type": "execute_result"
        }
      ],
      "source": [
        "# [1] 파일 불러오기\n",
        "import pandas as pd\n",
        "df = pd.read_csv('data_02/chicken_weight_AB.csv')\n",
        "df"
      ]
    },
    {
      "cell_type": "code",
      "execution_count": 82,
      "metadata": {
        "id": "bxa_tBVHsWP1"
      },
      "outputs": [],
      "source": [
        "# [2] 그룹 나누기\n",
        "# print(df['company'].unique())\n",
        "gA = df.loc[df.company=='A', 'weight']\n",
        "gB = df.loc[df.company=='B', 'weight']"
      ]
    },
    {
      "attachments": {},
      "cell_type": "markdown",
      "metadata": {
        "id": "ekpq5xQVsWP2"
      },
      "source": [
        "scipy.stats.ranksums(x, y, alternative='two-sided')\n",
        "- Compute the Wilcoxon rank-sum statistic for two samples.\n",
        "- The Wilcoxon rank-sum test tests the null hypothesis that two sets of measurements are drawn from the same distribution.\n",
        "- The alternative hypothesis is that values in one sample are more likely to be larger than the values in the other sample.\n",
        "\n",
        "- This test should be used to compare two samples from continuous distributions.\n",
        "- It does not handle ties between measurements in x and y. For tie-handling and an optional continuity correction see scipy.stats.mannwhitneyu."
      ]
    },
    {
      "cell_type": "code",
      "execution_count": 83,
      "metadata": {
        "id": "ivWM3O-UsWP3"
      },
      "outputs": [],
      "source": [
        "# [3] wilcoxon rank sum test (two sample)\n",
        "from scipy.stats import ranksums\n",
        "# print(scipy.stats.__all__)\n",
        "# print(help(ranksums))\n",
        "stat, p = ranksums(gA, gB, alternative='two-sided')"
      ]
    },
    {
      "cell_type": "code",
      "execution_count": 84,
      "metadata": {
        "id": "OCGB-udUsWP3"
      },
      "outputs": [
        {
          "name": "stdout",
          "output_type": "stream",
          "text": [
            "0.0\n"
          ]
        }
      ],
      "source": [
        "# [4] 결과\n",
        "print(round(p,4))    # pvalue 0 -> 귀무가설 기각 -> 중량 차이 있다. "
      ]
    },
    {
      "attachments": {},
      "cell_type": "markdown",
      "metadata": {
        "id": "ndUdlcB5ovW9"
      },
      "source": [
        "alternative='less'\n",
        "- H0: A사 닭가슴살 중량이 B사 닭가슴살 중량보다 크거나 같다\n",
        "- H1: A사 닭가슴살 중량이 B사 닭가슴살 중량보다 작다"
      ]
    },
    {
      "cell_type": "code",
      "execution_count": null,
      "metadata": {
        "id": "_790RW13ps_9"
      },
      "outputs": [],
      "source": [
        "# wilcoxon rank sum test (two sample)\n"
      ]
    },
    {
      "attachments": {},
      "cell_type": "markdown",
      "metadata": {
        "id": "3VeqYEnfqGsW"
      },
      "source": [
        "alternative='greater'\n",
        "- H0: A사 닭가슴살 중량이 B사 닭가슴살 중량보다 작거나 같다\n",
        "- H1: A사 닭가슴살 중량이 B사 닭가슴살 중량보다 크다"
      ]
    },
    {
      "cell_type": "code",
      "execution_count": null,
      "metadata": {
        "id": "IBrwFLpVqMhF"
      },
      "outputs": [],
      "source": [
        "# wilcoxon rank sum test (two sample)\n",
        "from scipy.stats import ranksums\n"
      ]
    },
    {
      "attachments": {},
      "cell_type": "markdown",
      "metadata": {
        "id": "YNSWc5YGlCVl"
      },
      "source": [
        "#### 4-2.Mann-Whitney U test"
      ]
    },
    {
      "attachments": {},
      "cell_type": "markdown",
      "metadata": {
        "id": "eZls1pBOsWP3"
      },
      "source": [
        "scipy.stats.mannwhitneyu(x, y, use_continuity=True, alternative='two-sided', axis=0, method='auto')\n",
        "- Perform the Mann-Whitney U rank test on two independent samples.\n",
        "- The Mann-Whitney U test is a nonparametric test of the null hypothesis that the distribution underlying sample x is the same as the distribution underlying sample y.\n"
      ]
    },
    {
      "attachments": {},
      "cell_type": "markdown",
      "metadata": {
        "id": "cxi9eMCnc9Yp"
      },
      "source": [
        "alternative='two-sided'\n",
        "- H0: A사 닭가슴살 중량과 B사 닭가슴살 중량의 차이가 없다\n",
        "- H1: A사 닭가슴살 중량과 B사 닭가슴살 중량의 차이가 있다"
      ]
    },
    {
      "cell_type": "code",
      "execution_count": 85,
      "metadata": {
        "id": "LrYQy8hSkmB7"
      },
      "outputs": [
        {
          "name": "stdout",
          "output_type": "stream",
          "text": [
            "0.0\n"
          ]
        }
      ],
      "source": [
        "# [1] Mann-Whitney U test (two sample)\n",
        "from scipy.stats import mannwhitneyu\n",
        "# print(scipy.stats.__all__)\n",
        "# help(mannwhitneyu)\n",
        "\n",
        "stat, p = mannwhitneyu(gA, gB, alternative='two-sided')\n",
        "print(round(p,4))   # pvalue 0 -> 귀무가설 기각 -> 중량 차이 있다."
      ]
    },
    {
      "cell_type": "code",
      "execution_count": 86,
      "metadata": {
        "id": "snTOAfHKkm-N"
      },
      "outputs": [
        {
          "name": "stdout",
          "output_type": "stream",
          "text": [
            "0.0\n"
          ]
        }
      ],
      "source": [
        "# [2] 결과\n",
        "print(round(p,4))   # pvalue 0 -> 귀무가설 기각 -> 중량 차이 있다."
      ]
    },
    {
      "attachments": {},
      "cell_type": "markdown",
      "metadata": {
        "id": "QMN9fqKvkqkI"
      },
      "source": [
        "alternative='less'\n",
        "- H0: A사 닭가슴살 중량이 B사 닭가슴살 중량보다 크거나 같다\n",
        "- H1: A사 닭가슴살 중량이 B사 닭가슴살 중량보다 작다"
      ]
    },
    {
      "cell_type": "code",
      "execution_count": null,
      "metadata": {
        "id": "ZlJG14OPkrfA"
      },
      "outputs": [],
      "source": []
    },
    {
      "attachments": {},
      "cell_type": "markdown",
      "metadata": {
        "id": "DlLISFlCkuJw"
      },
      "source": [
        "alternative='greater'\n",
        "- H0: A사 닭가슴살 중량이 B사 닭가슴살 중량보다 작거나 같다\n",
        "- H1: A사 닭가슴살 중량이 B사 닭가슴살 중량보다 크다"
      ]
    },
    {
      "cell_type": "code",
      "execution_count": null,
      "metadata": {
        "id": "P9nnJkNTku_4"
      },
      "outputs": [],
      "source": []
    },
    {
      "attachments": {},
      "cell_type": "markdown",
      "metadata": {
        "id": "T8UKpoResWP5"
      },
      "source": [
        "### 5.Kruskal-Wallis H-test\n",
        "- 분산 분석(ANOVA)에서 정규성 가정이 만족되지 않을 때 사용하는 비모수 검정법\n",
        "- ANOVA와는 달리 중앙값에 관한 결과를 얻을 수 있음\n",
        "- 가정\n",
        "  1. 표본은 독립적이다.\n",
        "  2. 측정값은 최소 순서형 변수이다. (대소 비교가 가능해야 합니다.)\n",
        "- 가설\n",
        "  - H0: 모든 그룹의 중앙값은 서로 같다\n",
        "  - H1: 모든 그룹의 중앙값이 전부 같은 것은 아니다"
      ]
    },
    {
      "attachments": {},
      "cell_type": "markdown",
      "metadata": {
        "id": "H3iixAzusWP5"
      },
      "source": [
        "scipy.stats.kruskal(*args, nan_policy='propagate')[source]\n",
        "- The Kruskal-Wallis H-test tests the null hypothesis that the population median of all of the groups are equal.\n",
        "- It is a non-parametric version of ANOVA. The test works on 2 or more independent samples, which may have different sizes.\n",
        "- Note that rejecting the null hypothesis does not indicate which of the groups differs.\n",
        "- Post hoc comparisons between groups are required to determine which groups are different."
      ]
    },
    {
      "attachments": {},
      "cell_type": "markdown",
      "metadata": {
        "id": "GrJjSMVvqwUv"
      },
      "source": [
        "#### 5-1.K개 Sample\n",
        "- A, B, C 고등학교 학생들의 하루 공부 시간을 조사했을 때,고등학교 간에 공부 시간이 차이가 있는지 확인\n",
        "- 통계적 유의수준은 0.05\n"
      ]
    },
    {
      "attachments": {},
      "cell_type": "markdown",
      "metadata": {
        "id": "Oa1vYvOsrC3S"
      },
      "source": [
        "- H0: A,B,C 고등학교 학생들의 하루 공부시간에 차이가 없다\n",
        "- H1: A,B,C 고등학교 학생들의 하루 공부시간에 차이가 있다"
      ]
    },
    {
      "cell_type": "code",
      "execution_count": 87,
      "metadata": {
        "colab": {
          "base_uri": "https://localhost:8080/",
          "height": 112
        },
        "id": "qGFPt-x_sWP5",
        "outputId": "d8046da9-e917-40e8-f1fd-fcb38074d128"
      },
      "outputs": [
        {
          "data": {
            "text/html": [
              "<div>\n",
              "<style scoped>\n",
              "    .dataframe tbody tr th:only-of-type {\n",
              "        vertical-align: middle;\n",
              "    }\n",
              "\n",
              "    .dataframe tbody tr th {\n",
              "        vertical-align: top;\n",
              "    }\n",
              "\n",
              "    .dataframe thead th {\n",
              "        text-align: right;\n",
              "    }\n",
              "</style>\n",
              "<table border=\"1\" class=\"dataframe\">\n",
              "  <thead>\n",
              "    <tr style=\"text-align: right;\">\n",
              "      <th></th>\n",
              "      <th>group</th>\n",
              "      <th>time</th>\n",
              "    </tr>\n",
              "  </thead>\n",
              "  <tbody>\n",
              "    <tr>\n",
              "      <th>0</th>\n",
              "      <td>A</td>\n",
              "      <td>12.525909</td>\n",
              "    </tr>\n",
              "    <tr>\n",
              "      <th>1</th>\n",
              "      <td>A</td>\n",
              "      <td>9.347533</td>\n",
              "    </tr>\n",
              "  </tbody>\n",
              "</table>\n",
              "</div>"
            ],
            "text/plain": [
              "  group       time\n",
              "0     A  12.525909\n",
              "1     A   9.347533"
            ]
          },
          "execution_count": 87,
          "metadata": {},
          "output_type": "execute_result"
        }
      ],
      "source": [
        "# [1] 파일 불러오기\n",
        "import pandas as pd\n",
        "df = pd.read_csv('data_02/high_school.csv')\n",
        "df.head(2)"
      ]
    },
    {
      "cell_type": "code",
      "execution_count": 88,
      "metadata": {
        "id": "LNqDVBFqsWP6"
      },
      "outputs": [],
      "source": [
        "# [2] 그룹 나누기\n",
        "# print(df['group'].unique())\n",
        "gA = df.loc[df.group=='A', 'time']\n",
        "gB = df.loc[df.group=='B', 'time']\n",
        "gC = df.loc[df.group=='C', 'time']"
      ]
    },
    {
      "cell_type": "code",
      "execution_count": 89,
      "metadata": {
        "id": "SghdhhrZsWP6"
      },
      "outputs": [],
      "source": [
        "# [3] Kruskal-Wallis Test\n",
        "from scipy.stats import kruskal\n",
        "# print(scipy.stats.__all__)\n",
        "# help(kruskal)\n",
        "stat, p = kruskal(gA, gB, gC)"
      ]
    },
    {
      "cell_type": "code",
      "execution_count": 90,
      "metadata": {
        "id": "SSWshAlqsWP6"
      },
      "outputs": [
        {
          "name": "stdout",
          "output_type": "stream",
          "text": [
            "0.0\n"
          ]
        }
      ],
      "source": [
        "# [4] 결과\n",
        "print(round(p,4))   # pvalue 0 -> 귀무가설 기각 -> 고등학교 학생들의 공부 시간에 차이가 있다."
      ]
    },
    {
      "cell_type": "code",
      "execution_count": 94,
      "metadata": {
        "id": "LYVuNZNvnVpp"
      },
      "outputs": [
        {
          "name": "stdout",
          "output_type": "stream",
          "text": [
            "0.0\n"
          ]
        }
      ],
      "source": [
        "# 그룹 나눈기\n",
        "# 이미 위에서 gA, gB, gC로 나눔\n",
        "\n",
        "# [5] ANOVA Test\n",
        "from scipy.stats import f_oneway\n",
        "# print(scipy.stats.__all__)\n",
        "stat, p = f_oneway(gA, gB, gC)\n",
        "print(round(p,4))   # pavlue 0 -> 귀무가설 기각 -> 고등학교 학생들의 공부 시간에 차이가 있다."
      ]
    },
    {
      "cell_type": "code",
      "execution_count": 96,
      "metadata": {
        "id": "MfFLMg3hGFml"
      },
      "outputs": [
        {
          "data": {
            "text/plain": [
              "BartlettResult(statistic=0.978756985013508, pvalue=0.6130072644235558)"
            ]
          },
          "execution_count": 96,
          "metadata": {},
          "output_type": "execute_result"
        }
      ],
      "source": [
        "# 등분산성 검정은??  (강의 내용에 없지만 확인!)\n",
        "from scipy.stats import bartlett\n",
        "bartlett(gA, gB, gC)    # pvalue 0.6 -> 귀무가설 채택 -> 등분산성 만족"
      ]
    },
    {
      "attachments": {},
      "cell_type": "markdown",
      "metadata": {
        "id": "0PhN_27IIhVX"
      },
      "source": [
        "#### 5-2.분류 모델에서 활용\n",
        "- 1개 연속형 변수, 1개 범주형 변수 (4개 범주)\n",
        "- 범주별로 연속형 변수의 평균 차이가 있는지 검정한다"
      ]
    },
    {
      "cell_type": "code",
      "execution_count": 97,
      "metadata": {
        "colab": {
          "base_uri": "https://localhost:8080/",
          "height": 112
        },
        "id": "miK2v9ctInPH",
        "outputId": "75e1b985-7817-4a03-97be-2d09a9ff5c26"
      },
      "outputs": [
        {
          "data": {
            "text/html": [
              "<div>\n",
              "<style scoped>\n",
              "    .dataframe tbody tr th:only-of-type {\n",
              "        vertical-align: middle;\n",
              "    }\n",
              "\n",
              "    .dataframe tbody tr th {\n",
              "        vertical-align: top;\n",
              "    }\n",
              "\n",
              "    .dataframe thead th {\n",
              "        text-align: right;\n",
              "    }\n",
              "</style>\n",
              "<table border=\"1\" class=\"dataframe\">\n",
              "  <thead>\n",
              "    <tr style=\"text-align: right;\">\n",
              "      <th></th>\n",
              "      <th>ID</th>\n",
              "      <th>Gender</th>\n",
              "      <th>Ever_Married</th>\n",
              "      <th>Age</th>\n",
              "      <th>Graduated</th>\n",
              "      <th>Profession</th>\n",
              "      <th>Work_Experience</th>\n",
              "      <th>Spending_Score</th>\n",
              "      <th>Family_Size</th>\n",
              "      <th>Var_1</th>\n",
              "      <th>Segmentation</th>\n",
              "    </tr>\n",
              "  </thead>\n",
              "  <tbody>\n",
              "    <tr>\n",
              "      <th>0</th>\n",
              "      <td>462809</td>\n",
              "      <td>Male</td>\n",
              "      <td>No</td>\n",
              "      <td>22</td>\n",
              "      <td>No</td>\n",
              "      <td>Healthcare</td>\n",
              "      <td>1.0</td>\n",
              "      <td>Low</td>\n",
              "      <td>4.0</td>\n",
              "      <td>Cat_4</td>\n",
              "      <td>4</td>\n",
              "    </tr>\n",
              "    <tr>\n",
              "      <th>1</th>\n",
              "      <td>466315</td>\n",
              "      <td>Female</td>\n",
              "      <td>Yes</td>\n",
              "      <td>67</td>\n",
              "      <td>Yes</td>\n",
              "      <td>Engineer</td>\n",
              "      <td>1.0</td>\n",
              "      <td>Low</td>\n",
              "      <td>1.0</td>\n",
              "      <td>Cat_6</td>\n",
              "      <td>2</td>\n",
              "    </tr>\n",
              "  </tbody>\n",
              "</table>\n",
              "</div>"
            ],
            "text/plain": [
              "       ID  Gender Ever_Married  Age Graduated  Profession  Work_Experience  \\\n",
              "0  462809    Male           No   22        No  Healthcare              1.0   \n",
              "1  466315  Female          Yes   67       Yes    Engineer              1.0   \n",
              "\n",
              "  Spending_Score  Family_Size  Var_1  Segmentation  \n",
              "0            Low          4.0  Cat_4             4  \n",
              "1            Low          1.0  Cat_6             2  "
            ]
          },
          "execution_count": 97,
          "metadata": {},
          "output_type": "execute_result"
        }
      ],
      "source": [
        "# [1] 데이터 읽어오기 (4회기출)\n",
        "import pandas as pd\n",
        "\n",
        "data = pd.read_csv('https://raw.githubusercontent.com/Soyoung-Yoon/bigdata/main/train_04.csv')\n",
        "data.head(2)"
      ]
    },
    {
      "cell_type": "code",
      "execution_count": 98,
      "metadata": {
        "colab": {
          "base_uri": "https://localhost:8080/"
        },
        "id": "E4A_aBoyYoB2",
        "outputId": "72a6c7f5-d6f4-4a57-8176-95ae43d3a27c"
      },
      "outputs": [],
      "source": [
        "# [2] 그룹 나누기 - 종속변수 Age, 독립변수 Segmentation\n",
        "# print(data['Age'].unique())\n",
        "# print(data['Segmentation'].unique())\n",
        "# print(data.info()) # 세그먼트 정수형\n",
        "\n",
        "gA = data.loc[data.Segmentation==1, 'Age']\n",
        "gB = data.loc[data.Segmentation==2, 'Age']\n",
        "gC = data.loc[data.Segmentation==3, 'Age']\n",
        "gD = data.loc[data.Segmentation==4, 'Age']"
      ]
    },
    {
      "cell_type": "code",
      "execution_count": 101,
      "metadata": {
        "id": "FzJpzhl_cIrP"
      },
      "outputs": [
        {
          "name": "stdout",
          "output_type": "stream",
          "text": [
            "0.0000, 0.0000, 0.0000, 0.0000\n"
          ]
        }
      ],
      "source": [
        "# [3] 정규성 검정 \n",
        "from scipy.stats import shapiro\n",
        "stat1, p1 = shapiro(gA)\n",
        "stat2, p2 = shapiro(gB)\n",
        "stat2, p3 = shapiro(gC)\n",
        "stat2, p4 = shapiro(gD)\n",
        "print(f'{p1:.4f}, {p2:.4f}, {p3:.4f}, {p4:.4f}')    # pvalue 0 -> 귀무가설 기각 -> 정규성 불만족"
      ]
    },
    {
      "cell_type": "code",
      "execution_count": 104,
      "metadata": {
        "id": "rxcXZZvAYPMm"
      },
      "outputs": [
        {
          "name": "stdout",
          "output_type": "stream",
          "text": [
            "Segmentation\n",
            "1    40.0\n",
            "2    46.0\n",
            "3    49.0\n",
            "4    29.0\n",
            "Name: Age, dtype: float64\n"
          ]
        }
      ],
      "source": [
        "# [4] 'Segmentation' 그룹별 'Age'의 중앙값 구하기\n",
        "print(data.groupby('Segmentation')['Age'].median()) "
      ]
    },
    {
      "cell_type": "code",
      "execution_count": 102,
      "metadata": {
        "id": "-vfOuE_HYyoP"
      },
      "outputs": [
        {
          "name": "stdout",
          "output_type": "stream",
          "text": [
            "0.0\n"
          ]
        }
      ],
      "source": [
        "# [5] 크루스칼-왈리스 검정 수행\n",
        "# 귀무가설 : Segmentation별 Age의 차이가 없다\n",
        "# 대립가설 : Segmentation별 Age의 차이가 있다\n",
        "from scipy.stats import kruskal\n",
        "stat, p = kruskal(gA, gB, gC, gD)\n",
        "print(p)    # pvalue 0 -> 귀무가설 기각 -> 세그멘테이션별 나이 차이 있다. "
      ]
    },
    {
      "cell_type": "code",
      "execution_count": 103,
      "metadata": {},
      "outputs": [
        {
          "name": "stdout",
          "output_type": "stream",
          "text": [
            "기각 \n"
          ]
        }
      ],
      "source": [
        "# [6] 결과\n",
        "print('기각 ' if p < 0.05 else '채택')"
      ]
    }
  ],
  "metadata": {
    "colab": {
      "provenance": []
    },
    "kernelspec": {
      "display_name": "ml",
      "language": "python",
      "name": "ml"
    },
    "language_info": {
      "codemirror_mode": {
        "name": "ipython",
        "version": 3
      },
      "file_extension": ".py",
      "mimetype": "text/x-python",
      "name": "python",
      "nbconvert_exporter": "python",
      "pygments_lexer": "ipython3",
      "version": "3.11.0"
    }
  },
  "nbformat": 4,
  "nbformat_minor": 0
}
