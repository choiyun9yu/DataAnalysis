{
  "cells": [
    {
      "attachments": {},
      "cell_type": "markdown",
      "metadata": {
        "id": "EjBWtm_nmNHu"
      },
      "source": [
        "## 1.파일 다운로드"
      ]
    },
    {
      "cell_type": "code",
      "execution_count": null,
      "metadata": {
        "colab": {
          "base_uri": "https://localhost:8080/"
        },
        "id": "qfHamjZ_l7vt",
        "outputId": "aa7d872d-c8d2-49f6-aefe-e2e42aec03d3"
      },
      "outputs": [
        {
          "name": "stdout",
          "output_type": "stream",
          "text": [
            "Cloning into 'data_01'...\n",
            "remote: Enumerating objects: 47, done.\u001b[K\n",
            "remote: Counting objects: 100% (47/47), done.\u001b[K\n",
            "remote: Compressing objects: 100% (47/47), done.\u001b[K\n",
            "remote: Total 47 (delta 15), reused 0 (delta 0), pack-reused 0\u001b[K\n",
            "Unpacking objects: 100% (47/47), done.\n"
          ]
        }
      ],
      "source": [
        "!git clone https://github.com/Soyoung-Yoon/data_01"
      ]
    },
    {
      "attachments": {},
      "cell_type": "markdown",
      "metadata": {
        "id": "zfb0qkWpO7IV"
      },
      "source": [
        "## 2.Colab에서 한글 폰트 사용하기"
      ]
    },
    {
      "cell_type": "code",
      "execution_count": null,
      "metadata": {
        "id": "Ju01GX7OVddk"
      },
      "outputs": [],
      "source": [
        "### [230417]변경안내\n",
        "# colab에서 matplotlib의 버전이 변경되면서\n",
        "# koreanize_matplotlib 사용이 가능해 졌습니다.\n",
        "# 아래의 설치 후, import koreanize_matplotlib 를 한 뒤 사용하시면 됩니다."
      ]
    },
    {
      "cell_type": "code",
      "execution_count": null,
      "metadata": {
        "id": "8PslbHCwWqCM"
      },
      "outputs": [],
      "source": [
        "!pip install koreanize-matplotlib"
      ]
    },
    {
      "cell_type": "code",
      "execution_count": null,
      "metadata": {
        "id": "8jXofBbYWogX"
      },
      "outputs": [],
      "source": [
        "# 사용 예시!\n",
        "import matplotlib.pyplot as plt\n",
        "import koreanize_matplotlib\n",
        "plt.figure(figsize=(4,3))\n",
        "plt.plot([-1, 0, 1, 2])\n",
        "plt.xlabel('간단한 그래프')\n",
        "plt.show()"
      ]
    },
    {
      "attachments": {},
      "cell_type": "markdown",
      "metadata": {
        "id": "naUXmBprpDM7"
      },
      "source": [
        "## 3.미세먼지"
      ]
    },
    {
      "cell_type": "code",
      "execution_count": 1,
      "metadata": {
        "id": "EgnXWwn-pZTr"
      },
      "outputs": [],
      "source": [
        "# [3-0] 사용라이브러리 import\n",
        "import pandas as pd\n",
        "import numpy as np\n",
        "import matplotlib.pyplot as plt\n",
        "import seaborn as sns"
      ]
    },
    {
      "attachments": {},
      "cell_type": "markdown",
      "metadata": {
        "id": "IDFjuMZIpIvM"
      },
      "source": [
        "### 3-1.파일 준비하기\n",
        "- data_day_2016.xlsx, data_day_2017.xlsx, data_day_2018.xlsx, data_day_2019.xlsx 파일을 가져와 df로 합치기작업\n",
        "- 각 파일에 기록되어 있는 내용\n",
        "    - 측정일시, 측정소명, 이산화질소농도, 오존농도, 이산화탄소농도, 아황산가스, 미세먼지, 초미세먼지의 측정치"
      ]
    },
    {
      "cell_type": "code",
      "execution_count": 2,
      "metadata": {
        "id": "ngjXhJDupF90"
      },
      "outputs": [
        {
          "data": {
            "text/html": [
              "<div>\n",
              "<style scoped>\n",
              "    .dataframe tbody tr th:only-of-type {\n",
              "        vertical-align: middle;\n",
              "    }\n",
              "\n",
              "    .dataframe tbody tr th {\n",
              "        vertical-align: top;\n",
              "    }\n",
              "\n",
              "    .dataframe thead th {\n",
              "        text-align: right;\n",
              "    }\n",
              "</style>\n",
              "<table border=\"1\" class=\"dataframe\">\n",
              "  <thead>\n",
              "    <tr style=\"text-align: right;\">\n",
              "      <th></th>\n",
              "      <th>측정일시</th>\n",
              "      <th>측정소명</th>\n",
              "      <th>이산화질소농도(ppm)</th>\n",
              "      <th>오존농도(ppm)</th>\n",
              "      <th>이산화탄소농도(ppm)</th>\n",
              "      <th>아황산가스(ppm)</th>\n",
              "      <th>미세먼지(㎍/㎥)</th>\n",
              "      <th>초미세먼지(㎍/㎥)</th>\n",
              "    </tr>\n",
              "  </thead>\n",
              "  <tbody>\n",
              "    <tr>\n",
              "      <th>0</th>\n",
              "      <td>20160101</td>\n",
              "      <td>강남구</td>\n",
              "      <td>0.047</td>\n",
              "      <td>0.006</td>\n",
              "      <td>0.8</td>\n",
              "      <td>0.006</td>\n",
              "      <td>73.0</td>\n",
              "      <td>44.0</td>\n",
              "    </tr>\n",
              "    <tr>\n",
              "      <th>1</th>\n",
              "      <td>20160101</td>\n",
              "      <td>강남대로</td>\n",
              "      <td>0.054</td>\n",
              "      <td>0.004</td>\n",
              "      <td>1.2</td>\n",
              "      <td>0.009</td>\n",
              "      <td>85.0</td>\n",
              "      <td>52.0</td>\n",
              "    </tr>\n",
              "    <tr>\n",
              "      <th>2</th>\n",
              "      <td>20160101</td>\n",
              "      <td>강동구</td>\n",
              "      <td>0.043</td>\n",
              "      <td>0.002</td>\n",
              "      <td>0.9</td>\n",
              "      <td>0.004</td>\n",
              "      <td>77.0</td>\n",
              "      <td>45.0</td>\n",
              "    </tr>\n",
              "    <tr>\n",
              "      <th>3</th>\n",
              "      <td>20160101</td>\n",
              "      <td>강변북로</td>\n",
              "      <td>0.046</td>\n",
              "      <td>0.004</td>\n",
              "      <td>1.1</td>\n",
              "      <td>0.006</td>\n",
              "      <td>73.0</td>\n",
              "      <td>39.0</td>\n",
              "    </tr>\n",
              "    <tr>\n",
              "      <th>4</th>\n",
              "      <td>20160101</td>\n",
              "      <td>강북구</td>\n",
              "      <td>0.047</td>\n",
              "      <td>0.004</td>\n",
              "      <td>1.1</td>\n",
              "      <td>0.004</td>\n",
              "      <td>77.0</td>\n",
              "      <td>52.0</td>\n",
              "    </tr>\n",
              "  </tbody>\n",
              "</table>\n",
              "</div>"
            ],
            "text/plain": [
              "       측정일시  측정소명  이산화질소농도(ppm)  오존농도(ppm)  이산화탄소농도(ppm)  아황산가스(ppm)  \\\n",
              "0  20160101   강남구         0.047      0.006           0.8       0.006   \n",
              "1  20160101  강남대로         0.054      0.004           1.2       0.009   \n",
              "2  20160101   강동구         0.043      0.002           0.9       0.004   \n",
              "3  20160101  강변북로         0.046      0.004           1.1       0.006   \n",
              "4  20160101   강북구         0.047      0.004           1.1       0.004   \n",
              "\n",
              "   미세먼지(㎍/㎥)  초미세먼지(㎍/㎥)  \n",
              "0       73.0        44.0  \n",
              "1       85.0        52.0  \n",
              "2       77.0        45.0  \n",
              "3       73.0        39.0  \n",
              "4       77.0        52.0  "
            ]
          },
          "execution_count": 2,
          "metadata": {},
          "output_type": "execute_result"
        }
      ],
      "source": [
        "# [3-1] './data_01/data_day_2016.xlsx' 파일을 가져와 df2016이라는 이름을 부여합니다.\n",
        "df2016 = pd.read_excel('data_01/data_day_2016.xlsx', engine='openpyxl')\n",
        "df2016.head()"
      ]
    },
    {
      "cell_type": "code",
      "execution_count": 3,
      "metadata": {
        "id": "sESr2k6-nGdk"
      },
      "outputs": [
        {
          "data": {
            "text/html": [
              "<div>\n",
              "<style scoped>\n",
              "    .dataframe tbody tr th:only-of-type {\n",
              "        vertical-align: middle;\n",
              "    }\n",
              "\n",
              "    .dataframe tbody tr th {\n",
              "        vertical-align: top;\n",
              "    }\n",
              "\n",
              "    .dataframe thead th {\n",
              "        text-align: right;\n",
              "    }\n",
              "</style>\n",
              "<table border=\"1\" class=\"dataframe\">\n",
              "  <thead>\n",
              "    <tr style=\"text-align: right;\">\n",
              "      <th></th>\n",
              "      <th>측정일시</th>\n",
              "      <th>측정소명</th>\n",
              "      <th>이산화질소농도(ppm)</th>\n",
              "      <th>오존농도(ppm)</th>\n",
              "      <th>이산화탄소농도(ppm)</th>\n",
              "      <th>아황산가스(ppm)</th>\n",
              "      <th>미세먼지(㎍/㎥)</th>\n",
              "      <th>초미세먼지(㎍/㎥)</th>\n",
              "    </tr>\n",
              "  </thead>\n",
              "  <tbody>\n",
              "    <tr>\n",
              "      <th>0</th>\n",
              "      <td>20170101</td>\n",
              "      <td>강남구</td>\n",
              "      <td>0.040</td>\n",
              "      <td>0.002</td>\n",
              "      <td>0.8</td>\n",
              "      <td>0.005</td>\n",
              "      <td>80.0</td>\n",
              "      <td>58.0</td>\n",
              "    </tr>\n",
              "    <tr>\n",
              "      <th>1</th>\n",
              "      <td>20170101</td>\n",
              "      <td>강남대로</td>\n",
              "      <td>0.082</td>\n",
              "      <td>0.005</td>\n",
              "      <td>1.4</td>\n",
              "      <td>0.007</td>\n",
              "      <td>83.0</td>\n",
              "      <td>58.0</td>\n",
              "    </tr>\n",
              "    <tr>\n",
              "      <th>2</th>\n",
              "      <td>20170101</td>\n",
              "      <td>강동구</td>\n",
              "      <td>0.039</td>\n",
              "      <td>0.003</td>\n",
              "      <td>0.8</td>\n",
              "      <td>0.004</td>\n",
              "      <td>80.0</td>\n",
              "      <td>54.0</td>\n",
              "    </tr>\n",
              "    <tr>\n",
              "      <th>3</th>\n",
              "      <td>20170101</td>\n",
              "      <td>강변북로</td>\n",
              "      <td>0.042</td>\n",
              "      <td>0.003</td>\n",
              "      <td>0.8</td>\n",
              "      <td>0.004</td>\n",
              "      <td>81.0</td>\n",
              "      <td>NaN</td>\n",
              "    </tr>\n",
              "    <tr>\n",
              "      <th>4</th>\n",
              "      <td>20170101</td>\n",
              "      <td>강북구</td>\n",
              "      <td>0.046</td>\n",
              "      <td>0.003</td>\n",
              "      <td>1.0</td>\n",
              "      <td>0.005</td>\n",
              "      <td>78.0</td>\n",
              "      <td>65.0</td>\n",
              "    </tr>\n",
              "  </tbody>\n",
              "</table>\n",
              "</div>"
            ],
            "text/plain": [
              "       측정일시  측정소명  이산화질소농도(ppm)  오존농도(ppm)  이산화탄소농도(ppm)  아황산가스(ppm)  \\\n",
              "0  20170101   강남구         0.040      0.002           0.8       0.005   \n",
              "1  20170101  강남대로         0.082      0.005           1.4       0.007   \n",
              "2  20170101   강동구         0.039      0.003           0.8       0.004   \n",
              "3  20170101  강변북로         0.042      0.003           0.8       0.004   \n",
              "4  20170101   강북구         0.046      0.003           1.0       0.005   \n",
              "\n",
              "   미세먼지(㎍/㎥)  초미세먼지(㎍/㎥)  \n",
              "0       80.0        58.0  \n",
              "1       83.0        58.0  \n",
              "2       80.0        54.0  \n",
              "3       81.0         NaN  \n",
              "4       78.0        65.0  "
            ]
          },
          "execution_count": 3,
          "metadata": {},
          "output_type": "execute_result"
        }
      ],
      "source": [
        "# [3-2] './data_01/data_day_2017.xlsx' 파일을 가져와 df2017이라는 이름을 부여합니다.\n",
        "df2017 = pd.read_excel('data_01/data_day_2017.xlsx', engine='openpyxl')\n",
        "df2017.head()"
      ]
    },
    {
      "cell_type": "code",
      "execution_count": 4,
      "metadata": {
        "id": "aEJ_463fnGSu"
      },
      "outputs": [
        {
          "data": {
            "text/html": [
              "<div>\n",
              "<style scoped>\n",
              "    .dataframe tbody tr th:only-of-type {\n",
              "        vertical-align: middle;\n",
              "    }\n",
              "\n",
              "    .dataframe tbody tr th {\n",
              "        vertical-align: top;\n",
              "    }\n",
              "\n",
              "    .dataframe thead th {\n",
              "        text-align: right;\n",
              "    }\n",
              "</style>\n",
              "<table border=\"1\" class=\"dataframe\">\n",
              "  <thead>\n",
              "    <tr style=\"text-align: right;\">\n",
              "      <th></th>\n",
              "      <th>측정일시</th>\n",
              "      <th>측정소명</th>\n",
              "      <th>이산화질소농도(ppm)</th>\n",
              "      <th>오존농도(ppm)</th>\n",
              "      <th>이산화탄소농도(ppm)</th>\n",
              "      <th>아황산가스(ppm)</th>\n",
              "      <th>미세먼지(㎍/㎥)</th>\n",
              "      <th>초미세먼지(㎍/㎥)</th>\n",
              "    </tr>\n",
              "  </thead>\n",
              "  <tbody>\n",
              "    <tr>\n",
              "      <th>0</th>\n",
              "      <td>20180101</td>\n",
              "      <td>강남구</td>\n",
              "      <td>0.033</td>\n",
              "      <td>0.010</td>\n",
              "      <td>0.6</td>\n",
              "      <td>0.006</td>\n",
              "      <td>34.0</td>\n",
              "      <td>22.0</td>\n",
              "    </tr>\n",
              "    <tr>\n",
              "      <th>1</th>\n",
              "      <td>20180101</td>\n",
              "      <td>강남대로</td>\n",
              "      <td>0.040</td>\n",
              "      <td>0.007</td>\n",
              "      <td>0.8</td>\n",
              "      <td>0.006</td>\n",
              "      <td>NaN</td>\n",
              "      <td>17.0</td>\n",
              "    </tr>\n",
              "    <tr>\n",
              "      <th>2</th>\n",
              "      <td>20180101</td>\n",
              "      <td>강동구</td>\n",
              "      <td>0.038</td>\n",
              "      <td>0.010</td>\n",
              "      <td>0.7</td>\n",
              "      <td>0.005</td>\n",
              "      <td>48.0</td>\n",
              "      <td>24.0</td>\n",
              "    </tr>\n",
              "    <tr>\n",
              "      <th>3</th>\n",
              "      <td>20180101</td>\n",
              "      <td>강변북로</td>\n",
              "      <td>0.033</td>\n",
              "      <td>0.008</td>\n",
              "      <td>0.6</td>\n",
              "      <td>0.005</td>\n",
              "      <td>48.0</td>\n",
              "      <td>15.0</td>\n",
              "    </tr>\n",
              "    <tr>\n",
              "      <th>4</th>\n",
              "      <td>20180101</td>\n",
              "      <td>강북구</td>\n",
              "      <td>0.026</td>\n",
              "      <td>0.018</td>\n",
              "      <td>0.6</td>\n",
              "      <td>0.004</td>\n",
              "      <td>38.0</td>\n",
              "      <td>18.0</td>\n",
              "    </tr>\n",
              "  </tbody>\n",
              "</table>\n",
              "</div>"
            ],
            "text/plain": [
              "       측정일시  측정소명  이산화질소농도(ppm)  오존농도(ppm)  이산화탄소농도(ppm)  아황산가스(ppm)  \\\n",
              "0  20180101   강남구         0.033      0.010           0.6       0.006   \n",
              "1  20180101  강남대로         0.040      0.007           0.8       0.006   \n",
              "2  20180101   강동구         0.038      0.010           0.7       0.005   \n",
              "3  20180101  강변북로         0.033      0.008           0.6       0.005   \n",
              "4  20180101   강북구         0.026      0.018           0.6       0.004   \n",
              "\n",
              "   미세먼지(㎍/㎥)  초미세먼지(㎍/㎥)  \n",
              "0       34.0        22.0  \n",
              "1        NaN        17.0  \n",
              "2       48.0        24.0  \n",
              "3       48.0        15.0  \n",
              "4       38.0        18.0  "
            ]
          },
          "execution_count": 4,
          "metadata": {},
          "output_type": "execute_result"
        }
      ],
      "source": [
        "# [3-3] './data_01/data_day_2018.xlsx' 파일을 가져와 df2018이라는 이름을 부여합니다.\n",
        "df2018 = pd.read_excel('data_01/data_day_2018.xlsx', engine='openpyxl')\n",
        "df2018.head()"
      ]
    },
    {
      "cell_type": "code",
      "execution_count": 5,
      "metadata": {
        "id": "XH5N66Ee_4M8"
      },
      "outputs": [
        {
          "data": {
            "text/html": [
              "<div>\n",
              "<style scoped>\n",
              "    .dataframe tbody tr th:only-of-type {\n",
              "        vertical-align: middle;\n",
              "    }\n",
              "\n",
              "    .dataframe tbody tr th {\n",
              "        vertical-align: top;\n",
              "    }\n",
              "\n",
              "    .dataframe thead th {\n",
              "        text-align: right;\n",
              "    }\n",
              "</style>\n",
              "<table border=\"1\" class=\"dataframe\">\n",
              "  <thead>\n",
              "    <tr style=\"text-align: right;\">\n",
              "      <th></th>\n",
              "      <th>측정일시</th>\n",
              "      <th>측정소명</th>\n",
              "      <th>이산화질소농도(ppm)</th>\n",
              "      <th>오존농도(ppm)</th>\n",
              "      <th>일산화탄소농도(ppm)</th>\n",
              "      <th>아황산가스(ppm)</th>\n",
              "      <th>미세먼지(㎍/㎥)</th>\n",
              "      <th>초미세먼지(㎍/㎥)</th>\n",
              "    </tr>\n",
              "  </thead>\n",
              "  <tbody>\n",
              "    <tr>\n",
              "      <th>0</th>\n",
              "      <td>20200818</td>\n",
              "      <td>강남구</td>\n",
              "      <td>0.022</td>\n",
              "      <td>0.006</td>\n",
              "      <td>0.4</td>\n",
              "      <td>0.003</td>\n",
              "      <td>28.0</td>\n",
              "      <td>21.0</td>\n",
              "    </tr>\n",
              "    <tr>\n",
              "      <th>1</th>\n",
              "      <td>20200818</td>\n",
              "      <td>강남대로</td>\n",
              "      <td>0.017</td>\n",
              "      <td>0.005</td>\n",
              "      <td>0.6</td>\n",
              "      <td>0.003</td>\n",
              "      <td>25.0</td>\n",
              "      <td>11.0</td>\n",
              "    </tr>\n",
              "    <tr>\n",
              "      <th>2</th>\n",
              "      <td>20200818</td>\n",
              "      <td>강동구</td>\n",
              "      <td>NaN</td>\n",
              "      <td>0.004</td>\n",
              "      <td>0.3</td>\n",
              "      <td>0.003</td>\n",
              "      <td>33.0</td>\n",
              "      <td>22.0</td>\n",
              "    </tr>\n",
              "    <tr>\n",
              "      <th>3</th>\n",
              "      <td>20200818</td>\n",
              "      <td>강변북로</td>\n",
              "      <td>0.025</td>\n",
              "      <td>0.003</td>\n",
              "      <td>0.8</td>\n",
              "      <td>0.003</td>\n",
              "      <td>26.0</td>\n",
              "      <td>17.0</td>\n",
              "    </tr>\n",
              "    <tr>\n",
              "      <th>4</th>\n",
              "      <td>20200818</td>\n",
              "      <td>강북구</td>\n",
              "      <td>0.008</td>\n",
              "      <td>0.008</td>\n",
              "      <td>0.3</td>\n",
              "      <td>0.002</td>\n",
              "      <td>32.0</td>\n",
              "      <td>18.0</td>\n",
              "    </tr>\n",
              "  </tbody>\n",
              "</table>\n",
              "</div>"
            ],
            "text/plain": [
              "       측정일시  측정소명  이산화질소농도(ppm)  오존농도(ppm)  일산화탄소농도(ppm)  아황산가스(ppm)  \\\n",
              "0  20200818   강남구         0.022      0.006           0.4       0.003   \n",
              "1  20200818  강남대로         0.017      0.005           0.6       0.003   \n",
              "2  20200818   강동구           NaN      0.004           0.3       0.003   \n",
              "3  20200818  강변북로         0.025      0.003           0.8       0.003   \n",
              "4  20200818   강북구         0.008      0.008           0.3       0.002   \n",
              "\n",
              "   미세먼지(㎍/㎥)  초미세먼지(㎍/㎥)  \n",
              "0       28.0        21.0  \n",
              "1       25.0        11.0  \n",
              "2       33.0        22.0  \n",
              "3       26.0        17.0  \n",
              "4       32.0        18.0  "
            ]
          },
          "execution_count": 5,
          "metadata": {},
          "output_type": "execute_result"
        }
      ],
      "source": [
        "# [3-4] './data_01/data_day_2019.xlsx' 파일을 가져와 df2019라는 이름을 부여합니다.\n",
        "df2019 = pd.read_excel('data_01/data_day_2019.xlsx', engine='openpyxl')\n",
        "df2019.head()"
      ]
    },
    {
      "cell_type": "code",
      "execution_count": 6,
      "metadata": {
        "colab": {
          "base_uri": "https://localhost:8080/",
          "height": 175
        },
        "id": "8TG7PN0jXz9q",
        "outputId": "fdf9c3de-6597-4176-cd0b-08f6b8352748"
      },
      "outputs": [
        {
          "data": {
            "text/html": [
              "<div>\n",
              "<style scoped>\n",
              "    .dataframe tbody tr th:only-of-type {\n",
              "        vertical-align: middle;\n",
              "    }\n",
              "\n",
              "    .dataframe tbody tr th {\n",
              "        vertical-align: top;\n",
              "    }\n",
              "\n",
              "    .dataframe thead th {\n",
              "        text-align: right;\n",
              "    }\n",
              "</style>\n",
              "<table border=\"1\" class=\"dataframe\">\n",
              "  <thead>\n",
              "    <tr style=\"text-align: right;\">\n",
              "      <th></th>\n",
              "      <th>A</th>\n",
              "      <th>B</th>\n",
              "    </tr>\n",
              "  </thead>\n",
              "  <tbody>\n",
              "    <tr>\n",
              "      <th>0</th>\n",
              "      <td>1</td>\n",
              "      <td>3</td>\n",
              "    </tr>\n",
              "    <tr>\n",
              "      <th>1</th>\n",
              "      <td>2</td>\n",
              "      <td>4</td>\n",
              "    </tr>\n",
              "    <tr>\n",
              "      <th>0</th>\n",
              "      <td>5</td>\n",
              "      <td>7</td>\n",
              "    </tr>\n",
              "    <tr>\n",
              "      <th>1</th>\n",
              "      <td>6</td>\n",
              "      <td>8</td>\n",
              "    </tr>\n",
              "  </tbody>\n",
              "</table>\n",
              "</div>"
            ],
            "text/plain": [
              "   A  B\n",
              "0  1  3\n",
              "1  2  4\n",
              "0  5  7\n",
              "1  6  8"
            ]
          },
          "execution_count": 6,
          "metadata": {},
          "output_type": "execute_result"
        }
      ],
      "source": [
        "temp1 = pd.DataFrame({'A': [1, 2],\n",
        "                     'B': [3, 4]})\n",
        "temp2 = pd.DataFrame({'A': [5, 6],\n",
        "                     'B': [7, 8]})\n",
        "pd.concat([temp1, temp2])"
      ]
    },
    {
      "cell_type": "code",
      "execution_count": 7,
      "metadata": {
        "colab": {
          "base_uri": "https://localhost:8080/",
          "height": 112
        },
        "id": "NZYRnafPYmvF",
        "outputId": "cfb25c35-3497-4ed5-e9d4-37a82260468e"
      },
      "outputs": [
        {
          "data": {
            "text/html": [
              "<div>\n",
              "<style scoped>\n",
              "    .dataframe tbody tr th:only-of-type {\n",
              "        vertical-align: middle;\n",
              "    }\n",
              "\n",
              "    .dataframe tbody tr th {\n",
              "        vertical-align: top;\n",
              "    }\n",
              "\n",
              "    .dataframe thead th {\n",
              "        text-align: right;\n",
              "    }\n",
              "</style>\n",
              "<table border=\"1\" class=\"dataframe\">\n",
              "  <thead>\n",
              "    <tr style=\"text-align: right;\">\n",
              "      <th></th>\n",
              "      <th>A</th>\n",
              "      <th>B</th>\n",
              "      <th>C</th>\n",
              "      <th>D</th>\n",
              "    </tr>\n",
              "  </thead>\n",
              "  <tbody>\n",
              "    <tr>\n",
              "      <th>0</th>\n",
              "      <td>1</td>\n",
              "      <td>3</td>\n",
              "      <td>5</td>\n",
              "      <td>7</td>\n",
              "    </tr>\n",
              "    <tr>\n",
              "      <th>1</th>\n",
              "      <td>2</td>\n",
              "      <td>4</td>\n",
              "      <td>6</td>\n",
              "      <td>8</td>\n",
              "    </tr>\n",
              "  </tbody>\n",
              "</table>\n",
              "</div>"
            ],
            "text/plain": [
              "   A  B  C  D\n",
              "0  1  3  5  7\n",
              "1  2  4  6  8"
            ]
          },
          "execution_count": 7,
          "metadata": {},
          "output_type": "execute_result"
        }
      ],
      "source": [
        "temp1 = pd.DataFrame({'A': [1, 2],\n",
        "                     'B': [3, 4]})\n",
        "temp2 = pd.DataFrame({'C': [5, 6],\n",
        "                     'D': [7, 8]})\n",
        "pd.concat([temp1, temp2], axis=1)"
      ]
    },
    {
      "cell_type": "code",
      "execution_count": 8,
      "metadata": {
        "colab": {
          "base_uri": "https://localhost:8080/"
        },
        "id": "HEdKvJnBqaWG",
        "outputId": "85db7a3a-9396-4cfb-f00b-39a29978d3e7"
      },
      "outputs": [
        {
          "data": {
            "text/plain": [
              "(60208, 9)"
            ]
          },
          "execution_count": 8,
          "metadata": {},
          "output_type": "execute_result"
        }
      ],
      "source": [
        "# [3-5] df2016, df2017, df2018, df2019를 합쳐 한 개의 DataFrame으로 만들어 df라는 이름을 지정합니다.\n",
        "dfList = [df2016, df2017, df2018, df2019]\n",
        "df = pd.concat(dfList, axis=0)\n",
        "\n",
        "# df의 shape을 출력하여 전체 행, 열의 수를 확인합니다.\n",
        "df.shape"
      ]
    },
    {
      "attachments": {},
      "cell_type": "markdown",
      "metadata": {
        "id": "_JNQxPHnAGHl"
      },
      "source": [
        "여기서 잠깐! 파일이 많으면요?\n",
        "- 파일이름 목록을 가져오는 glob 모듈의 glob 함수를 사용함\n",
        "- 시험 대비용은 아님"
      ]
    },
    {
      "cell_type": "code",
      "execution_count": 9,
      "metadata": {
        "colab": {
          "base_uri": "https://localhost:8080/"
        },
        "id": "G0DXgtvXEZDw",
        "outputId": "5ac584ea-7f07-46f5-d289-e50624a5adfc"
      },
      "outputs": [
        {
          "data": {
            "text/plain": [
              "['data_01/data_day_2016.xlsx',\n",
              " 'data_01/data_day_2017.xlsx',\n",
              " 'data_01/data_day_2018.xlsx',\n",
              " 'data_01/data_day_2019.xlsx']"
            ]
          },
          "execution_count": 9,
          "metadata": {},
          "output_type": "execute_result"
        }
      ],
      "source": [
        "import glob\n",
        "glob.glob('data_01/data_day_*.xlsx')"
      ]
    },
    {
      "cell_type": "code",
      "execution_count": 10,
      "metadata": {
        "colab": {
          "base_uri": "https://localhost:8080/"
        },
        "id": "s3R2ofDRbfjk",
        "outputId": "5afec69c-9558-4375-a638-479c9aadd0ee"
      },
      "outputs": [
        {
          "data": {
            "text/plain": [
              "['data_01/data_day_2016.xlsx',\n",
              " 'data_01/data_day_2017.xlsx',\n",
              " 'data_01/data_day_2018.xlsx',\n",
              " 'data_01/data_day_2019.xlsx']"
            ]
          },
          "execution_count": 10,
          "metadata": {},
          "output_type": "execute_result"
        }
      ],
      "source": [
        "#[TIP] 만일 파일이름을 정렬하고 싶다면 sorted() 함수를 사용합니다.\n",
        "# (-.- 강의에서는 언급을 몬했어요 ㅎ)\n",
        "sorted(glob.glob('data_01/data_day_*.xlsx'))"
      ]
    },
    {
      "cell_type": "code",
      "execution_count": 11,
      "metadata": {
        "colab": {
          "base_uri": "https://localhost:8080/"
        },
        "id": "Aj139EKTANNU",
        "outputId": "d49067cf-d42f-4aed-d77c-2c2ddbd2d6f4"
      },
      "outputs": [
        {
          "data": {
            "text/plain": [
              "(60208, 9)"
            ]
          },
          "execution_count": 11,
          "metadata": {},
          "output_type": "execute_result"
        }
      ],
      "source": [
        "import glob\n",
        "dfList = []\n",
        "for x in sorted(glob.glob('data_01/data_day_*.xlsx')):\n",
        "    temp = pd.read_excel(x)\n",
        "    dfList.append(temp)\n",
        "\n",
        "df = pd.concat(dfList, axis=0)\n",
        "df.shape"
      ]
    },
    {
      "cell_type": "code",
      "execution_count": 12,
      "metadata": {
        "colab": {
          "base_uri": "https://localhost:8080/"
        },
        "id": "lCIp_TusqzCl",
        "outputId": "6e5c462a-bc44-46b1-f6d5-4e1460cdccdd"
      },
      "outputs": [
        {
          "name": "stdout",
          "output_type": "stream",
          "text": [
            "<class 'pandas.core.frame.DataFrame'>\n",
            "Int64Index: 60208 entries, 0 to 19256\n",
            "Data columns (total 9 columns):\n",
            " #   Column        Non-Null Count  Dtype  \n",
            "---  ------        --------------  -----  \n",
            " 0   측정일시          60208 non-null  int64  \n",
            " 1   측정소명          60208 non-null  object \n",
            " 2   이산화질소농도(ppm)  58050 non-null  float64\n",
            " 3   오존농도(ppm)     58075 non-null  float64\n",
            " 4   이산화탄소농도(ppm)  40421 non-null  float64\n",
            " 5   아황산가스(ppm)    58075 non-null  float64\n",
            " 6   미세먼지(㎍/㎥)     59327 non-null  float64\n",
            " 7   초미세먼지(㎍/㎥)    58429 non-null  float64\n",
            " 8   일산화탄소농도(ppm)  17591 non-null  float64\n",
            "dtypes: float64(7), int64(1), object(1)\n",
            "memory usage: 4.6+ MB\n"
          ]
        }
      ],
      "source": [
        "# [3-6] df의 row의 개수 및 각 column의 정보 및 메모리 사용량을 확인합니다.\n",
        "# 몇몇 컬럼에 대한 정보가 부족한 것을 확인할 수 있습니다.\n",
        "df.info()"
      ]
    },
    {
      "cell_type": "code",
      "execution_count": 13,
      "metadata": {
        "id": "dev4sMXeq75w"
      },
      "outputs": [
        {
          "data": {
            "text/html": [
              "<div>\n",
              "<style scoped>\n",
              "    .dataframe tbody tr th:only-of-type {\n",
              "        vertical-align: middle;\n",
              "    }\n",
              "\n",
              "    .dataframe tbody tr th {\n",
              "        vertical-align: top;\n",
              "    }\n",
              "\n",
              "    .dataframe thead th {\n",
              "        text-align: right;\n",
              "    }\n",
              "</style>\n",
              "<table border=\"1\" class=\"dataframe\">\n",
              "  <thead>\n",
              "    <tr style=\"text-align: right;\">\n",
              "      <th></th>\n",
              "      <th>측정일시</th>\n",
              "      <th>측정소명</th>\n",
              "      <th>이산화질소농도(ppm)</th>\n",
              "      <th>오존농도(ppm)</th>\n",
              "      <th>이산화탄소농도(ppm)</th>\n",
              "      <th>아황산가스(ppm)</th>\n",
              "      <th>미세먼지(㎍/㎥)</th>\n",
              "      <th>초미세먼지(㎍/㎥)</th>\n",
              "      <th>일산화탄소농도(ppm)</th>\n",
              "    </tr>\n",
              "  </thead>\n",
              "  <tbody>\n",
              "    <tr>\n",
              "      <th>19254</th>\n",
              "      <td>20190818</td>\n",
              "      <td>행주</td>\n",
              "      <td>0.014</td>\n",
              "      <td>0.060</td>\n",
              "      <td>NaN</td>\n",
              "      <td>0.004</td>\n",
              "      <td>25.0</td>\n",
              "      <td>13.0</td>\n",
              "      <td>0.5</td>\n",
              "    </tr>\n",
              "    <tr>\n",
              "      <th>19255</th>\n",
              "      <td>20190818</td>\n",
              "      <td>홍릉로</td>\n",
              "      <td>0.027</td>\n",
              "      <td>0.047</td>\n",
              "      <td>NaN</td>\n",
              "      <td>0.004</td>\n",
              "      <td>30.0</td>\n",
              "      <td>20.0</td>\n",
              "      <td>0.7</td>\n",
              "    </tr>\n",
              "    <tr>\n",
              "      <th>19256</th>\n",
              "      <td>20190818</td>\n",
              "      <td>화랑로</td>\n",
              "      <td>0.022</td>\n",
              "      <td>0.040</td>\n",
              "      <td>NaN</td>\n",
              "      <td>0.003</td>\n",
              "      <td>13.0</td>\n",
              "      <td>13.0</td>\n",
              "      <td>0.3</td>\n",
              "    </tr>\n",
              "  </tbody>\n",
              "</table>\n",
              "</div>"
            ],
            "text/plain": [
              "           측정일시 측정소명  이산화질소농도(ppm)  오존농도(ppm)  이산화탄소농도(ppm)  아황산가스(ppm)  \\\n",
              "19254  20190818   행주         0.014      0.060           NaN       0.004   \n",
              "19255  20190818  홍릉로         0.027      0.047           NaN       0.004   \n",
              "19256  20190818  화랑로         0.022      0.040           NaN       0.003   \n",
              "\n",
              "       미세먼지(㎍/㎥)  초미세먼지(㎍/㎥)  일산화탄소농도(ppm)  \n",
              "19254       25.0        13.0           0.5  \n",
              "19255       30.0        20.0           0.7  \n",
              "19256       13.0        13.0           0.3  "
            ]
          },
          "execution_count": 13,
          "metadata": {},
          "output_type": "execute_result"
        }
      ],
      "source": [
        "# [3-7] df의 마지막 3개 행을 출력해 봅니다.\n",
        "# 데이터가 총 60208인데 마지막 행의 번호가 올바르지 않은 것을 볼 수 있습니다.\n",
        "# 이것은 concat을 하더라도 index는 유지 되기 때문입니다.\n",
        "df.tail(3)"
      ]
    },
    {
      "cell_type": "code",
      "execution_count": 14,
      "metadata": {
        "id": "ymmm82lUow3u"
      },
      "outputs": [
        {
          "data": {
            "text/plain": [
              "((14269, 8), (14235, 8), (12447, 8), (19257, 8))"
            ]
          },
          "execution_count": 14,
          "metadata": {},
          "output_type": "execute_result"
        }
      ],
      "source": [
        "# [3-8] df2016, df2017, df2018, df2019의 각 shape을 확인합니다.\n",
        "df2016.shape, df2017.shape, df2018.shape, df2019.shape"
      ]
    },
    {
      "cell_type": "code",
      "execution_count": 15,
      "metadata": {
        "colab": {
          "base_uri": "https://localhost:8080/"
        },
        "id": "6qinfo7bbZ24",
        "outputId": "ede7824c-63fc-4a36-b4c0-300be99331d4"
      },
      "outputs": [
        {
          "data": {
            "text/plain": [
              "[(14269, 8), (14235, 8), (12447, 8), (19257, 8)]"
            ]
          },
          "execution_count": 15,
          "metadata": {},
          "output_type": "execute_result"
        }
      ],
      "source": [
        "[ x.shape for x in dfList]"
      ]
    },
    {
      "cell_type": "code",
      "execution_count": 16,
      "metadata": {
        "id": "k5EPzCfIb9xS"
      },
      "outputs": [
        {
          "ename": "SyntaxError",
          "evalue": "invalid syntax (1055660012.py, line 1)",
          "output_type": "error",
          "traceback": [
            "\u001b[0;36m  Cell \u001b[0;32mIn[16], line 1\u001b[0;36m\u001b[0m\n\u001b[0;31m    index, columns => 두 가지 방법 사용\u001b[0m\n\u001b[0m                    ^\u001b[0m\n\u001b[0;31mSyntaxError\u001b[0m\u001b[0;31m:\u001b[0m invalid syntax\n"
          ]
        }
      ],
      "source": [
        "index, columns => 두 가지 방법 사용\n",
        "1. 눈에 보이지 않는 integer 번호 (python에서의 index번호 개념) => 사용하고 싶음\n",
        "2. 눈에 보이는 label (다양한 Index타입이 존재)"
      ]
    },
    {
      "cell_type": "code",
      "execution_count": 26,
      "metadata": {
        "colab": {
          "base_uri": "https://localhost:8080/",
          "height": 161
        },
        "id": "3bPJrcGwq26Z",
        "outputId": "4b8baa8a-e452-4e78-a946-21dc6907596c"
      },
      "outputs": [
        {
          "data": {
            "text/html": [
              "<div>\n",
              "<style scoped>\n",
              "    .dataframe tbody tr th:only-of-type {\n",
              "        vertical-align: middle;\n",
              "    }\n",
              "\n",
              "    .dataframe tbody tr th {\n",
              "        vertical-align: top;\n",
              "    }\n",
              "\n",
              "    .dataframe thead th {\n",
              "        text-align: right;\n",
              "    }\n",
              "</style>\n",
              "<table border=\"1\" class=\"dataframe\">\n",
              "  <thead>\n",
              "    <tr style=\"text-align: right;\">\n",
              "      <th></th>\n",
              "      <th>측정일시</th>\n",
              "      <th>측정소명</th>\n",
              "      <th>이산화질소농도(ppm)</th>\n",
              "      <th>오존농도(ppm)</th>\n",
              "      <th>이산화탄소농도(ppm)</th>\n",
              "      <th>아황산가스(ppm)</th>\n",
              "      <th>미세먼지(㎍/㎥)</th>\n",
              "      <th>초미세먼지(㎍/㎥)</th>\n",
              "      <th>일산화탄소농도(ppm)</th>\n",
              "      <th>년</th>\n",
              "      <th>월</th>\n",
              "      <th>일</th>\n",
              "    </tr>\n",
              "  </thead>\n",
              "  <tbody>\n",
              "    <tr>\n",
              "      <th>14268</th>\n",
              "      <td>20161231</td>\n",
              "      <td>화랑로</td>\n",
              "      <td>0.122</td>\n",
              "      <td>0.004</td>\n",
              "      <td>1.1</td>\n",
              "      <td>0.005</td>\n",
              "      <td>64.0</td>\n",
              "      <td>NaN</td>\n",
              "      <td>NaN</td>\n",
              "      <td>2016</td>\n",
              "      <td>12</td>\n",
              "      <td>31</td>\n",
              "    </tr>\n",
              "    <tr>\n",
              "      <th>14269</th>\n",
              "      <td>20170101</td>\n",
              "      <td>강남구</td>\n",
              "      <td>0.040</td>\n",
              "      <td>0.002</td>\n",
              "      <td>0.8</td>\n",
              "      <td>0.005</td>\n",
              "      <td>80.0</td>\n",
              "      <td>58.0</td>\n",
              "      <td>NaN</td>\n",
              "      <td>2017</td>\n",
              "      <td>1</td>\n",
              "      <td>1</td>\n",
              "    </tr>\n",
              "    <tr>\n",
              "      <th>14270</th>\n",
              "      <td>20170101</td>\n",
              "      <td>강남대로</td>\n",
              "      <td>0.082</td>\n",
              "      <td>0.005</td>\n",
              "      <td>1.4</td>\n",
              "      <td>0.007</td>\n",
              "      <td>83.0</td>\n",
              "      <td>58.0</td>\n",
              "      <td>NaN</td>\n",
              "      <td>2017</td>\n",
              "      <td>1</td>\n",
              "      <td>1</td>\n",
              "    </tr>\n",
              "  </tbody>\n",
              "</table>\n",
              "</div>"
            ],
            "text/plain": [
              "           측정일시  측정소명  이산화질소농도(ppm)  오존농도(ppm)  이산화탄소농도(ppm)  아황산가스(ppm)  \\\n",
              "14268  20161231   화랑로         0.122      0.004           1.1       0.005   \n",
              "14269  20170101   강남구         0.040      0.002           0.8       0.005   \n",
              "14270  20170101  강남대로         0.082      0.005           1.4       0.007   \n",
              "\n",
              "       미세먼지(㎍/㎥)  초미세먼지(㎍/㎥)  일산화탄소농도(ppm)     년   월   일  \n",
              "14268       64.0         NaN           NaN  2016  12  31  \n",
              "14269       80.0        58.0           NaN  2017   1   1  \n",
              "14270       83.0        58.0           NaN  2017   1   1  "
            ]
          },
          "execution_count": 26,
          "metadata": {},
          "output_type": "execute_result"
        }
      ],
      "source": [
        "# [3-9] 첫 번째 파일 마지막부터 두 번째 파일의 시작 부분의 실제 index를 확인해 봅니다.\n",
        "# 14268:14271 의 실제 index 확인\n",
        "df.iloc[14268:14271,]"
      ]
    },
    {
      "attachments": {},
      "cell_type": "markdown",
      "metadata": {
        "id": "on6WeqJSx3aX"
      },
      "source": [
        "여러개 DataFrame을 합친 경우 index 번호를 RangeIndex로 새롭게 부여\n",
        "- pd.concat([df1, df2...], ignore_index=True)\n",
        "- DataFrame.index = pd.RangeIndex(len(df))"
      ]
    },
    {
      "cell_type": "code",
      "execution_count": 27,
      "metadata": {
        "colab": {
          "base_uri": "https://localhost:8080/",
          "height": 161
        },
        "id": "akPsDzDwraOV",
        "outputId": "72aec1e5-b27f-4403-9e8a-cc58cbf171d6"
      },
      "outputs": [
        {
          "data": {
            "text/html": [
              "<div>\n",
              "<style scoped>\n",
              "    .dataframe tbody tr th:only-of-type {\n",
              "        vertical-align: middle;\n",
              "    }\n",
              "\n",
              "    .dataframe tbody tr th {\n",
              "        vertical-align: top;\n",
              "    }\n",
              "\n",
              "    .dataframe thead th {\n",
              "        text-align: right;\n",
              "    }\n",
              "</style>\n",
              "<table border=\"1\" class=\"dataframe\">\n",
              "  <thead>\n",
              "    <tr style=\"text-align: right;\">\n",
              "      <th></th>\n",
              "      <th>측정일시</th>\n",
              "      <th>측정소명</th>\n",
              "      <th>이산화질소농도(ppm)</th>\n",
              "      <th>오존농도(ppm)</th>\n",
              "      <th>이산화탄소농도(ppm)</th>\n",
              "      <th>아황산가스(ppm)</th>\n",
              "      <th>미세먼지(㎍/㎥)</th>\n",
              "      <th>초미세먼지(㎍/㎥)</th>\n",
              "      <th>일산화탄소농도(ppm)</th>\n",
              "    </tr>\n",
              "  </thead>\n",
              "  <tbody>\n",
              "    <tr>\n",
              "      <th>60205</th>\n",
              "      <td>20190818</td>\n",
              "      <td>행주</td>\n",
              "      <td>0.014</td>\n",
              "      <td>0.060</td>\n",
              "      <td>NaN</td>\n",
              "      <td>0.004</td>\n",
              "      <td>25.0</td>\n",
              "      <td>13.0</td>\n",
              "      <td>0.5</td>\n",
              "    </tr>\n",
              "    <tr>\n",
              "      <th>60206</th>\n",
              "      <td>20190818</td>\n",
              "      <td>홍릉로</td>\n",
              "      <td>0.027</td>\n",
              "      <td>0.047</td>\n",
              "      <td>NaN</td>\n",
              "      <td>0.004</td>\n",
              "      <td>30.0</td>\n",
              "      <td>20.0</td>\n",
              "      <td>0.7</td>\n",
              "    </tr>\n",
              "    <tr>\n",
              "      <th>60207</th>\n",
              "      <td>20190818</td>\n",
              "      <td>화랑로</td>\n",
              "      <td>0.022</td>\n",
              "      <td>0.040</td>\n",
              "      <td>NaN</td>\n",
              "      <td>0.003</td>\n",
              "      <td>13.0</td>\n",
              "      <td>13.0</td>\n",
              "      <td>0.3</td>\n",
              "    </tr>\n",
              "  </tbody>\n",
              "</table>\n",
              "</div>"
            ],
            "text/plain": [
              "           측정일시 측정소명  이산화질소농도(ppm)  오존농도(ppm)  이산화탄소농도(ppm)  아황산가스(ppm)  \\\n",
              "60205  20190818   행주         0.014      0.060           NaN       0.004   \n",
              "60206  20190818  홍릉로         0.027      0.047           NaN       0.004   \n",
              "60207  20190818  화랑로         0.022      0.040           NaN       0.003   \n",
              "\n",
              "       미세먼지(㎍/㎥)  초미세먼지(㎍/㎥)  일산화탄소농도(ppm)  \n",
              "60205       25.0        13.0           0.5  \n",
              "60206       30.0        20.0           0.7  \n",
              "60207       13.0        13.0           0.3  "
            ]
          },
          "execution_count": 27,
          "metadata": {},
          "output_type": "execute_result"
        }
      ],
      "source": [
        "# [3-10] 해결방법 1 : index 번호 정리하면서 합치기\n",
        "dfList = [df2016, df2017, df2018, df2019]\n",
        "df2 = pd.concat(dfList, ignore_index=True, axis=0)\n",
        "df2.tail(3)\n"
      ]
    },
    {
      "cell_type": "code",
      "execution_count": 28,
      "metadata": {
        "colab": {
          "base_uri": "https://localhost:8080/",
          "height": 195
        },
        "id": "3_nwo3P_rSrS",
        "outputId": "2a706d73-c002-4e79-8059-494bc1f80ce2"
      },
      "outputs": [
        {
          "data": {
            "text/html": [
              "<div>\n",
              "<style scoped>\n",
              "    .dataframe tbody tr th:only-of-type {\n",
              "        vertical-align: middle;\n",
              "    }\n",
              "\n",
              "    .dataframe tbody tr th {\n",
              "        vertical-align: top;\n",
              "    }\n",
              "\n",
              "    .dataframe thead th {\n",
              "        text-align: right;\n",
              "    }\n",
              "</style>\n",
              "<table border=\"1\" class=\"dataframe\">\n",
              "  <thead>\n",
              "    <tr style=\"text-align: right;\">\n",
              "      <th></th>\n",
              "      <th>측정일시</th>\n",
              "      <th>측정소명</th>\n",
              "      <th>이산화질소농도(ppm)</th>\n",
              "      <th>오존농도(ppm)</th>\n",
              "      <th>이산화탄소농도(ppm)</th>\n",
              "      <th>아황산가스(ppm)</th>\n",
              "      <th>미세먼지(㎍/㎥)</th>\n",
              "      <th>초미세먼지(㎍/㎥)</th>\n",
              "      <th>일산화탄소농도(ppm)</th>\n",
              "      <th>년</th>\n",
              "      <th>월</th>\n",
              "      <th>일</th>\n",
              "    </tr>\n",
              "  </thead>\n",
              "  <tbody>\n",
              "    <tr>\n",
              "      <th>60205</th>\n",
              "      <td>20190818</td>\n",
              "      <td>행주</td>\n",
              "      <td>0.014</td>\n",
              "      <td>0.060</td>\n",
              "      <td>NaN</td>\n",
              "      <td>0.004</td>\n",
              "      <td>25.0</td>\n",
              "      <td>13.0</td>\n",
              "      <td>0.5</td>\n",
              "      <td>2019</td>\n",
              "      <td>8</td>\n",
              "      <td>18</td>\n",
              "    </tr>\n",
              "    <tr>\n",
              "      <th>60206</th>\n",
              "      <td>20190818</td>\n",
              "      <td>홍릉로</td>\n",
              "      <td>0.027</td>\n",
              "      <td>0.047</td>\n",
              "      <td>NaN</td>\n",
              "      <td>0.004</td>\n",
              "      <td>30.0</td>\n",
              "      <td>20.0</td>\n",
              "      <td>0.7</td>\n",
              "      <td>2019</td>\n",
              "      <td>8</td>\n",
              "      <td>18</td>\n",
              "    </tr>\n",
              "    <tr>\n",
              "      <th>60207</th>\n",
              "      <td>20190818</td>\n",
              "      <td>화랑로</td>\n",
              "      <td>0.022</td>\n",
              "      <td>0.040</td>\n",
              "      <td>NaN</td>\n",
              "      <td>0.003</td>\n",
              "      <td>13.0</td>\n",
              "      <td>13.0</td>\n",
              "      <td>0.3</td>\n",
              "      <td>2019</td>\n",
              "      <td>8</td>\n",
              "      <td>18</td>\n",
              "    </tr>\n",
              "  </tbody>\n",
              "</table>\n",
              "</div>"
            ],
            "text/plain": [
              "           측정일시 측정소명  이산화질소농도(ppm)  오존농도(ppm)  이산화탄소농도(ppm)  아황산가스(ppm)  \\\n",
              "60205  20190818   행주         0.014      0.060           NaN       0.004   \n",
              "60206  20190818  홍릉로         0.027      0.047           NaN       0.004   \n",
              "60207  20190818  화랑로         0.022      0.040           NaN       0.003   \n",
              "\n",
              "       미세먼지(㎍/㎥)  초미세먼지(㎍/㎥)  일산화탄소농도(ppm)     년  월   일  \n",
              "60205       25.0        13.0           0.5  2019  8  18  \n",
              "60206       30.0        20.0           0.7  2019  8  18  \n",
              "60207       13.0        13.0           0.3  2019  8  18  "
            ]
          },
          "execution_count": 28,
          "metadata": {},
          "output_type": "execute_result"
        }
      ],
      "source": [
        "# [3-11] 해결방법 2 : index를 만들어 사용하기\n",
        "df.index = pd.RangeIndex(len(df))\n",
        "df.tail(3)"
      ]
    },
    {
      "attachments": {},
      "cell_type": "markdown",
      "metadata": {
        "id": "7xKwNokETzZ6"
      },
      "source": [
        "### 3-2.날짜 타입변경"
      ]
    },
    {
      "cell_type": "code",
      "execution_count": 29,
      "metadata": {
        "id": "6YVKWNcUUadE"
      },
      "outputs": [
        {
          "name": "stdout",
          "output_type": "stream",
          "text": [
            "<class 'pandas.core.frame.DataFrame'>\n",
            "RangeIndex: 60208 entries, 0 to 60207\n",
            "Data columns (total 12 columns):\n",
            " #   Column        Non-Null Count  Dtype  \n",
            "---  ------        --------------  -----  \n",
            " 0   측정일시          60208 non-null  int64  \n",
            " 1   측정소명          60208 non-null  object \n",
            " 2   이산화질소농도(ppm)  58050 non-null  float64\n",
            " 3   오존농도(ppm)     58075 non-null  float64\n",
            " 4   이산화탄소농도(ppm)  40421 non-null  float64\n",
            " 5   아황산가스(ppm)    58075 non-null  float64\n",
            " 6   미세먼지(㎍/㎥)     59327 non-null  float64\n",
            " 7   초미세먼지(㎍/㎥)    58429 non-null  float64\n",
            " 8   일산화탄소농도(ppm)  17591 non-null  float64\n",
            " 9   년             60208 non-null  int64  \n",
            " 10  월             60208 non-null  int64  \n",
            " 11  일             60208 non-null  int64  \n",
            "dtypes: float64(7), int64(4), object(1)\n",
            "memory usage: 5.5+ MB\n"
          ]
        }
      ],
      "source": [
        "# [3-12] df의 컬럼별 데이터 타입을 확인합니다.\n",
        "df.info()"
      ]
    },
    {
      "cell_type": "code",
      "execution_count": 30,
      "metadata": {
        "id": "wyUM2zVPUWOb"
      },
      "outputs": [
        {
          "ename": "ValueError",
          "evalue": "The 'datetime64' dtype has no unit. Please pass in 'datetime64[ns]' instead.",
          "output_type": "error",
          "traceback": [
            "\u001b[0;31m---------------------------------------------------------------------------\u001b[0m",
            "\u001b[0;31mValueError\u001b[0m                                Traceback (most recent call last)",
            "Cell \u001b[0;32mIn[30], line 4\u001b[0m\n\u001b[1;32m      1\u001b[0m \u001b[39m# [3-13] df의 '측정일시'에 대해서 astype을 사용해 데이터 타입을 datetime으로 변경합니다.\u001b[39;00m\n\u001b[1;32m      2\u001b[0m \u001b[39m# 올바르게 변경되지 않는 것을 확인할 수 있습니다.\u001b[39;00m\n\u001b[0;32m----> 4\u001b[0m df[\u001b[39m'\u001b[39m\u001b[39m측정일시\u001b[39m\u001b[39m'\u001b[39m] \u001b[39m=\u001b[39m df[\u001b[39m'\u001b[39;49m\u001b[39m측정일시\u001b[39;49m\u001b[39m'\u001b[39;49m]\u001b[39m.\u001b[39;49mastype(np\u001b[39m.\u001b[39;49mdatetime64)\n\u001b[1;32m      5\u001b[0m df\u001b[39m.\u001b[39minfo()\n",
            "File \u001b[0;32m/opt/homebrew/Caskroom/miniforge/base/envs/ml/lib/python3.11/site-packages/pandas/core/generic.py:6240\u001b[0m, in \u001b[0;36mNDFrame.astype\u001b[0;34m(self, dtype, copy, errors)\u001b[0m\n\u001b[1;32m   6233\u001b[0m     results \u001b[39m=\u001b[39m [\n\u001b[1;32m   6234\u001b[0m         \u001b[39mself\u001b[39m\u001b[39m.\u001b[39miloc[:, i]\u001b[39m.\u001b[39mastype(dtype, copy\u001b[39m=\u001b[39mcopy)\n\u001b[1;32m   6235\u001b[0m         \u001b[39mfor\u001b[39;00m i \u001b[39min\u001b[39;00m \u001b[39mrange\u001b[39m(\u001b[39mlen\u001b[39m(\u001b[39mself\u001b[39m\u001b[39m.\u001b[39mcolumns))\n\u001b[1;32m   6236\u001b[0m     ]\n\u001b[1;32m   6238\u001b[0m \u001b[39melse\u001b[39;00m:\n\u001b[1;32m   6239\u001b[0m     \u001b[39m# else, only a single dtype is given\u001b[39;00m\n\u001b[0;32m-> 6240\u001b[0m     new_data \u001b[39m=\u001b[39m \u001b[39mself\u001b[39;49m\u001b[39m.\u001b[39;49m_mgr\u001b[39m.\u001b[39;49mastype(dtype\u001b[39m=\u001b[39;49mdtype, copy\u001b[39m=\u001b[39;49mcopy, errors\u001b[39m=\u001b[39;49merrors)\n\u001b[1;32m   6241\u001b[0m     \u001b[39mreturn\u001b[39;00m \u001b[39mself\u001b[39m\u001b[39m.\u001b[39m_constructor(new_data)\u001b[39m.\u001b[39m__finalize__(\u001b[39mself\u001b[39m, method\u001b[39m=\u001b[39m\u001b[39m\"\u001b[39m\u001b[39mastype\u001b[39m\u001b[39m\"\u001b[39m)\n\u001b[1;32m   6243\u001b[0m \u001b[39m# GH 33113: handle empty frame or series\u001b[39;00m\n",
            "File \u001b[0;32m/opt/homebrew/Caskroom/miniforge/base/envs/ml/lib/python3.11/site-packages/pandas/core/internals/managers.py:450\u001b[0m, in \u001b[0;36mBaseBlockManager.astype\u001b[0;34m(self, dtype, copy, errors)\u001b[0m\n\u001b[1;32m    449\u001b[0m \u001b[39mdef\u001b[39;00m \u001b[39mastype\u001b[39m(\u001b[39mself\u001b[39m: T, dtype, copy: \u001b[39mbool\u001b[39m \u001b[39m=\u001b[39m \u001b[39mFalse\u001b[39;00m, errors: \u001b[39mstr\u001b[39m \u001b[39m=\u001b[39m \u001b[39m\"\u001b[39m\u001b[39mraise\u001b[39m\u001b[39m\"\u001b[39m) \u001b[39m-\u001b[39m\u001b[39m>\u001b[39m T:\n\u001b[0;32m--> 450\u001b[0m     \u001b[39mreturn\u001b[39;00m \u001b[39mself\u001b[39;49m\u001b[39m.\u001b[39;49mapply(\u001b[39m\"\u001b[39;49m\u001b[39mastype\u001b[39;49m\u001b[39m\"\u001b[39;49m, dtype\u001b[39m=\u001b[39;49mdtype, copy\u001b[39m=\u001b[39;49mcopy, errors\u001b[39m=\u001b[39;49merrors)\n",
            "File \u001b[0;32m/opt/homebrew/Caskroom/miniforge/base/envs/ml/lib/python3.11/site-packages/pandas/core/internals/managers.py:352\u001b[0m, in \u001b[0;36mBaseBlockManager.apply\u001b[0;34m(self, f, align_keys, ignore_failures, **kwargs)\u001b[0m\n\u001b[1;32m    350\u001b[0m         applied \u001b[39m=\u001b[39m b\u001b[39m.\u001b[39mapply(f, \u001b[39m*\u001b[39m\u001b[39m*\u001b[39mkwargs)\n\u001b[1;32m    351\u001b[0m     \u001b[39melse\u001b[39;00m:\n\u001b[0;32m--> 352\u001b[0m         applied \u001b[39m=\u001b[39m \u001b[39mgetattr\u001b[39;49m(b, f)(\u001b[39m*\u001b[39;49m\u001b[39m*\u001b[39;49mkwargs)\n\u001b[1;32m    353\u001b[0m \u001b[39mexcept\u001b[39;00m (\u001b[39mTypeError\u001b[39;00m, \u001b[39mNotImplementedError\u001b[39;00m):\n\u001b[1;32m    354\u001b[0m     \u001b[39mif\u001b[39;00m \u001b[39mnot\u001b[39;00m ignore_failures:\n",
            "File \u001b[0;32m/opt/homebrew/Caskroom/miniforge/base/envs/ml/lib/python3.11/site-packages/pandas/core/internals/blocks.py:526\u001b[0m, in \u001b[0;36mBlock.astype\u001b[0;34m(self, dtype, copy, errors)\u001b[0m\n\u001b[1;32m    508\u001b[0m \u001b[39m\"\"\"\u001b[39;00m\n\u001b[1;32m    509\u001b[0m \u001b[39mCoerce to the new dtype.\u001b[39;00m\n\u001b[1;32m    510\u001b[0m \n\u001b[0;32m   (...)\u001b[0m\n\u001b[1;32m    522\u001b[0m \u001b[39mBlock\u001b[39;00m\n\u001b[1;32m    523\u001b[0m \u001b[39m\"\"\"\u001b[39;00m\n\u001b[1;32m    524\u001b[0m values \u001b[39m=\u001b[39m \u001b[39mself\u001b[39m\u001b[39m.\u001b[39mvalues\n\u001b[0;32m--> 526\u001b[0m new_values \u001b[39m=\u001b[39m astype_array_safe(values, dtype, copy\u001b[39m=\u001b[39;49mcopy, errors\u001b[39m=\u001b[39;49merrors)\n\u001b[1;32m    528\u001b[0m new_values \u001b[39m=\u001b[39m maybe_coerce_values(new_values)\n\u001b[1;32m    529\u001b[0m newb \u001b[39m=\u001b[39m \u001b[39mself\u001b[39m\u001b[39m.\u001b[39mmake_block(new_values)\n",
            "File \u001b[0;32m/opt/homebrew/Caskroom/miniforge/base/envs/ml/lib/python3.11/site-packages/pandas/core/dtypes/astype.py:299\u001b[0m, in \u001b[0;36mastype_array_safe\u001b[0;34m(values, dtype, copy, errors)\u001b[0m\n\u001b[1;32m    296\u001b[0m     \u001b[39mreturn\u001b[39;00m values\u001b[39m.\u001b[39mcopy()\n\u001b[1;32m    298\u001b[0m \u001b[39mtry\u001b[39;00m:\n\u001b[0;32m--> 299\u001b[0m     new_values \u001b[39m=\u001b[39m astype_array(values, dtype, copy\u001b[39m=\u001b[39;49mcopy)\n\u001b[1;32m    300\u001b[0m \u001b[39mexcept\u001b[39;00m (\u001b[39mValueError\u001b[39;00m, \u001b[39mTypeError\u001b[39;00m):\n\u001b[1;32m    301\u001b[0m     \u001b[39m# e.g. astype_nansafe can fail on object-dtype of strings\u001b[39;00m\n\u001b[1;32m    302\u001b[0m     \u001b[39m#  trying to convert to float\u001b[39;00m\n\u001b[1;32m    303\u001b[0m     \u001b[39mif\u001b[39;00m errors \u001b[39m==\u001b[39m \u001b[39m\"\u001b[39m\u001b[39mignore\u001b[39m\u001b[39m\"\u001b[39m:\n",
            "File \u001b[0;32m/opt/homebrew/Caskroom/miniforge/base/envs/ml/lib/python3.11/site-packages/pandas/core/dtypes/astype.py:230\u001b[0m, in \u001b[0;36mastype_array\u001b[0;34m(values, dtype, copy)\u001b[0m\n\u001b[1;32m    227\u001b[0m     values \u001b[39m=\u001b[39m values\u001b[39m.\u001b[39mastype(dtype, copy\u001b[39m=\u001b[39mcopy)\n\u001b[1;32m    229\u001b[0m \u001b[39melse\u001b[39;00m:\n\u001b[0;32m--> 230\u001b[0m     values \u001b[39m=\u001b[39m astype_nansafe(values, dtype, copy\u001b[39m=\u001b[39;49mcopy)\n\u001b[1;32m    232\u001b[0m \u001b[39m# in pandas we don't store numpy str dtypes, so convert to object\u001b[39;00m\n\u001b[1;32m    233\u001b[0m \u001b[39mif\u001b[39;00m \u001b[39misinstance\u001b[39m(dtype, np\u001b[39m.\u001b[39mdtype) \u001b[39mand\u001b[39;00m \u001b[39missubclass\u001b[39m(values\u001b[39m.\u001b[39mdtype\u001b[39m.\u001b[39mtype, \u001b[39mstr\u001b[39m):\n",
            "File \u001b[0;32m/opt/homebrew/Caskroom/miniforge/base/envs/ml/lib/python3.11/site-packages/pandas/core/dtypes/astype.py:166\u001b[0m, in \u001b[0;36mastype_nansafe\u001b[0;34m(arr, dtype, copy, skipna)\u001b[0m\n\u001b[1;32m    161\u001b[0m \u001b[39mif\u001b[39;00m dtype\u001b[39m.\u001b[39mname \u001b[39min\u001b[39;00m (\u001b[39m\"\u001b[39m\u001b[39mdatetime64\u001b[39m\u001b[39m\"\u001b[39m, \u001b[39m\"\u001b[39m\u001b[39mtimedelta64\u001b[39m\u001b[39m\"\u001b[39m):\n\u001b[1;32m    162\u001b[0m     msg \u001b[39m=\u001b[39m (\n\u001b[1;32m    163\u001b[0m         \u001b[39mf\u001b[39m\u001b[39m\"\u001b[39m\u001b[39mThe \u001b[39m\u001b[39m'\u001b[39m\u001b[39m{\u001b[39;00mdtype\u001b[39m.\u001b[39mname\u001b[39m}\u001b[39;00m\u001b[39m'\u001b[39m\u001b[39m dtype has no unit. Please pass in \u001b[39m\u001b[39m\"\u001b[39m\n\u001b[1;32m    164\u001b[0m         \u001b[39mf\u001b[39m\u001b[39m\"\u001b[39m\u001b[39m'\u001b[39m\u001b[39m{\u001b[39;00mdtype\u001b[39m.\u001b[39mname\u001b[39m}\u001b[39;00m\u001b[39m[ns]\u001b[39m\u001b[39m'\u001b[39m\u001b[39m instead.\u001b[39m\u001b[39m\"\u001b[39m\n\u001b[1;32m    165\u001b[0m     )\n\u001b[0;32m--> 166\u001b[0m     \u001b[39mraise\u001b[39;00m \u001b[39mValueError\u001b[39;00m(msg)\n\u001b[1;32m    168\u001b[0m \u001b[39mif\u001b[39;00m copy \u001b[39mor\u001b[39;00m is_object_dtype(arr\u001b[39m.\u001b[39mdtype) \u001b[39mor\u001b[39;00m is_object_dtype(dtype):\n\u001b[1;32m    169\u001b[0m     \u001b[39m# Explicit copy, or required since NumPy can't view from / to object.\u001b[39;00m\n\u001b[1;32m    170\u001b[0m     \u001b[39mreturn\u001b[39;00m arr\u001b[39m.\u001b[39mastype(dtype, copy\u001b[39m=\u001b[39m\u001b[39mTrue\u001b[39;00m)\n",
            "\u001b[0;31mValueError\u001b[0m: The 'datetime64' dtype has no unit. Please pass in 'datetime64[ns]' instead."
          ]
        }
      ],
      "source": [
        "# [3-13] df의 '측정일시'에 대해서 astype을 사용해 데이터 타입을 datetime으로 변경합니다.\n",
        "# 올바르게 변경되지 않는 것을 확인할 수 있습니다.\n",
        "\n",
        "df['측정일시'] = df['측정일시'].astype(np.datetime64)\n",
        "df.info()"
      ]
    },
    {
      "attachments": {},
      "cell_type": "markdown",
      "metadata": {
        "id": "9qub7d8720iF"
      },
      "source": [
        "날짜, 시간 타입 변경 (youtube 분석에서 했었어요!)\n",
        "- pd.to_datetime(Series, format='형식')\n",
        "    - %Y: 4글자 년도, %y : 2글자 년도, %m : 2글자 월, %d : 2글자 일\n",
        "    - 다양한 형식 문자들 : https://docs.python.org/3/library/datetime.html#strftime-and-strptime-behavior\n",
        "    - format의 지정이 필수는 아님"
      ]
    },
    {
      "cell_type": "code",
      "execution_count": 31,
      "metadata": {
        "id": "RUScfELYP0wV"
      },
      "outputs": [
        {
          "data": {
            "text/plain": [
              "0       2016-01-01\n",
              "1       2016-01-01\n",
              "2       2016-01-01\n",
              "3       2016-01-01\n",
              "4       2016-01-01\n",
              "           ...    \n",
              "60203   2019-08-18\n",
              "60204   2019-08-18\n",
              "60205   2019-08-18\n",
              "60206   2019-08-18\n",
              "60207   2019-08-18\n",
              "Name: 측정일시, Length: 60208, dtype: datetime64[ns]"
            ]
          },
          "execution_count": 31,
          "metadata": {},
          "output_type": "execute_result"
        }
      ],
      "source": [
        "# [3-14] df의 '측정일시'에 대해서 format='%Y%m%d'을 지정하여 데이터 타입을 datetime으로 변경합니다.\n",
        "# 올바르게 변경되는 것을 확인할 수 있습니다.\n",
        "pd.to_datetime(df['측정일시'], format='%Y%m%d')\n"
      ]
    },
    {
      "attachments": {},
      "cell_type": "markdown",
      "metadata": {
        "id": "7ZyioEL9ImCX"
      },
      "source": [
        "DataFrame.insert(위치, 이름, 데이터)\n",
        "- return이 없는 함수 (inplace 동작)\n",
        "- https://pandas.pydata.org/pandas-docs/stable/reference/api/pandas.DataFrame.insert.html"
      ]
    },
    {
      "cell_type": "code",
      "execution_count": 32,
      "metadata": {
        "id": "_2bC9eQhQ58V"
      },
      "outputs": [],
      "source": [
        "# [3-15] df의 '측정일시'에 대해서 format='%Y%m%d'을 지정하여 데이터 타입을 datetime으로 변경한 뒤\n",
        "# '측정일시2' 컬럼을 '측정일시' 뒤에 삽입합니다\n",
        "#df['측정일시2'] = pd.to_datetime(df['측정일시'], format='%Y%m%d')   # 뒤에 추가\n",
        "\n",
        "df.insert(1, column='측정일시2', value=pd.to_datetime(df['측정일시'], format='%Y%m%d'))"
      ]
    },
    {
      "cell_type": "code",
      "execution_count": 33,
      "metadata": {
        "id": "otH-GDuNRMZx"
      },
      "outputs": [
        {
          "data": {
            "text/html": [
              "<div>\n",
              "<style scoped>\n",
              "    .dataframe tbody tr th:only-of-type {\n",
              "        vertical-align: middle;\n",
              "    }\n",
              "\n",
              "    .dataframe tbody tr th {\n",
              "        vertical-align: top;\n",
              "    }\n",
              "\n",
              "    .dataframe thead th {\n",
              "        text-align: right;\n",
              "    }\n",
              "</style>\n",
              "<table border=\"1\" class=\"dataframe\">\n",
              "  <thead>\n",
              "    <tr style=\"text-align: right;\">\n",
              "      <th></th>\n",
              "      <th>측정일시</th>\n",
              "      <th>측정일시2</th>\n",
              "      <th>측정소명</th>\n",
              "      <th>이산화질소농도(ppm)</th>\n",
              "      <th>오존농도(ppm)</th>\n",
              "      <th>이산화탄소농도(ppm)</th>\n",
              "      <th>아황산가스(ppm)</th>\n",
              "      <th>미세먼지(㎍/㎥)</th>\n",
              "      <th>초미세먼지(㎍/㎥)</th>\n",
              "      <th>일산화탄소농도(ppm)</th>\n",
              "      <th>년</th>\n",
              "      <th>월</th>\n",
              "      <th>일</th>\n",
              "    </tr>\n",
              "  </thead>\n",
              "  <tbody>\n",
              "    <tr>\n",
              "      <th>0</th>\n",
              "      <td>20160101</td>\n",
              "      <td>2016-01-01</td>\n",
              "      <td>강남구</td>\n",
              "      <td>0.047</td>\n",
              "      <td>0.006</td>\n",
              "      <td>0.8</td>\n",
              "      <td>0.006</td>\n",
              "      <td>73.0</td>\n",
              "      <td>44.0</td>\n",
              "      <td>NaN</td>\n",
              "      <td>2016</td>\n",
              "      <td>1</td>\n",
              "      <td>1</td>\n",
              "    </tr>\n",
              "    <tr>\n",
              "      <th>1</th>\n",
              "      <td>20160101</td>\n",
              "      <td>2016-01-01</td>\n",
              "      <td>강남대로</td>\n",
              "      <td>0.054</td>\n",
              "      <td>0.004</td>\n",
              "      <td>1.2</td>\n",
              "      <td>0.009</td>\n",
              "      <td>85.0</td>\n",
              "      <td>52.0</td>\n",
              "      <td>NaN</td>\n",
              "      <td>2016</td>\n",
              "      <td>1</td>\n",
              "      <td>1</td>\n",
              "    </tr>\n",
              "    <tr>\n",
              "      <th>2</th>\n",
              "      <td>20160101</td>\n",
              "      <td>2016-01-01</td>\n",
              "      <td>강동구</td>\n",
              "      <td>0.043</td>\n",
              "      <td>0.002</td>\n",
              "      <td>0.9</td>\n",
              "      <td>0.004</td>\n",
              "      <td>77.0</td>\n",
              "      <td>45.0</td>\n",
              "      <td>NaN</td>\n",
              "      <td>2016</td>\n",
              "      <td>1</td>\n",
              "      <td>1</td>\n",
              "    </tr>\n",
              "    <tr>\n",
              "      <th>3</th>\n",
              "      <td>20160101</td>\n",
              "      <td>2016-01-01</td>\n",
              "      <td>강변북로</td>\n",
              "      <td>0.046</td>\n",
              "      <td>0.004</td>\n",
              "      <td>1.1</td>\n",
              "      <td>0.006</td>\n",
              "      <td>73.0</td>\n",
              "      <td>39.0</td>\n",
              "      <td>NaN</td>\n",
              "      <td>2016</td>\n",
              "      <td>1</td>\n",
              "      <td>1</td>\n",
              "    </tr>\n",
              "    <tr>\n",
              "      <th>4</th>\n",
              "      <td>20160101</td>\n",
              "      <td>2016-01-01</td>\n",
              "      <td>강북구</td>\n",
              "      <td>0.047</td>\n",
              "      <td>0.004</td>\n",
              "      <td>1.1</td>\n",
              "      <td>0.004</td>\n",
              "      <td>77.0</td>\n",
              "      <td>52.0</td>\n",
              "      <td>NaN</td>\n",
              "      <td>2016</td>\n",
              "      <td>1</td>\n",
              "      <td>1</td>\n",
              "    </tr>\n",
              "  </tbody>\n",
              "</table>\n",
              "</div>"
            ],
            "text/plain": [
              "       측정일시      측정일시2  측정소명  이산화질소농도(ppm)  오존농도(ppm)  이산화탄소농도(ppm)  \\\n",
              "0  20160101 2016-01-01   강남구         0.047      0.006           0.8   \n",
              "1  20160101 2016-01-01  강남대로         0.054      0.004           1.2   \n",
              "2  20160101 2016-01-01   강동구         0.043      0.002           0.9   \n",
              "3  20160101 2016-01-01  강변북로         0.046      0.004           1.1   \n",
              "4  20160101 2016-01-01   강북구         0.047      0.004           1.1   \n",
              "\n",
              "   아황산가스(ppm)  미세먼지(㎍/㎥)  초미세먼지(㎍/㎥)  일산화탄소농도(ppm)     년  월  일  \n",
              "0       0.006       73.0        44.0           NaN  2016  1  1  \n",
              "1       0.009       85.0        52.0           NaN  2016  1  1  \n",
              "2       0.004       77.0        45.0           NaN  2016  1  1  \n",
              "3       0.006       73.0        39.0           NaN  2016  1  1  \n",
              "4       0.004       77.0        52.0           NaN  2016  1  1  "
            ]
          },
          "execution_count": 33,
          "metadata": {},
          "output_type": "execute_result"
        }
      ],
      "source": [
        "# [3-16] df에 datetime64 데이터타입을 갖는 '측정일시2' 컬럼이 추가된 것을 확인합니다.\n",
        "df.head()"
      ]
    },
    {
      "cell_type": "code",
      "execution_count": 34,
      "metadata": {
        "id": "qw2Wk4mTRS7z"
      },
      "outputs": [
        {
          "data": {
            "text/plain": [
              "0        2016\n",
              "1        2016\n",
              "2        2016\n",
              "3        2016\n",
              "4        2016\n",
              "         ... \n",
              "60203    2019\n",
              "60204    2019\n",
              "60205    2019\n",
              "60206    2019\n",
              "60207    2019\n",
              "Name: 측정일시2, Length: 60208, dtype: int64"
            ]
          },
          "execution_count": 34,
          "metadata": {},
          "output_type": "execute_result"
        }
      ],
      "source": [
        "# [3-17] datetime 타입은 accessor - dt를 사용할 수 있습니다.\n",
        "# https://pandas.pydata.org/pandas-docs/stable/reference/series.html#accessors\n",
        "# df의 '측정일시2' 컬럼의 dt accessor를 사용하여 year 정보만 확인합니다.\n",
        "df['측정일시2'].dt.year"
      ]
    },
    {
      "cell_type": "code",
      "execution_count": 35,
      "metadata": {
        "id": "mT16ITXIRhtQ"
      },
      "outputs": [
        {
          "data": {
            "text/plain": [
              "0        1\n",
              "1        1\n",
              "2        1\n",
              "3        1\n",
              "4        1\n",
              "        ..\n",
              "60203    8\n",
              "60204    8\n",
              "60205    8\n",
              "60206    8\n",
              "60207    8\n",
              "Name: 측정일시2, Length: 60208, dtype: int64"
            ]
          },
          "execution_count": 35,
          "metadata": {},
          "output_type": "execute_result"
        }
      ],
      "source": [
        "# [3-18] df의 '측정일시2' 컬럼의 dt를 사용하여 month 정보만 확인합니다.\n",
        "df['측정일시2'].dt.month"
      ]
    },
    {
      "cell_type": "code",
      "execution_count": 36,
      "metadata": {
        "id": "xGNxLEqcRnHh"
      },
      "outputs": [
        {
          "data": {
            "text/plain": [
              "0         1\n",
              "1         1\n",
              "2         1\n",
              "3         1\n",
              "4         1\n",
              "         ..\n",
              "60203    18\n",
              "60204    18\n",
              "60205    18\n",
              "60206    18\n",
              "60207    18\n",
              "Name: 측정일시2, Length: 60208, dtype: int64"
            ]
          },
          "execution_count": 36,
          "metadata": {},
          "output_type": "execute_result"
        }
      ],
      "source": [
        "# [3-19] df의 '측정일시2' 컬럼의 dt를 사용하여 day 정보만 확인합니다.\n",
        "df['측정일시2'].dt.day"
      ]
    },
    {
      "cell_type": "code",
      "execution_count": 37,
      "metadata": {
        "id": "4GO83_cmRtDI"
      },
      "outputs": [
        {
          "data": {
            "text/html": [
              "<div>\n",
              "<style scoped>\n",
              "    .dataframe tbody tr th:only-of-type {\n",
              "        vertical-align: middle;\n",
              "    }\n",
              "\n",
              "    .dataframe tbody tr th {\n",
              "        vertical-align: top;\n",
              "    }\n",
              "\n",
              "    .dataframe thead th {\n",
              "        text-align: right;\n",
              "    }\n",
              "</style>\n",
              "<table border=\"1\" class=\"dataframe\">\n",
              "  <thead>\n",
              "    <tr style=\"text-align: right;\">\n",
              "      <th></th>\n",
              "      <th>측정일시</th>\n",
              "      <th>측정일시2</th>\n",
              "      <th>측정소명</th>\n",
              "      <th>이산화질소농도(ppm)</th>\n",
              "      <th>오존농도(ppm)</th>\n",
              "      <th>이산화탄소농도(ppm)</th>\n",
              "      <th>아황산가스(ppm)</th>\n",
              "      <th>미세먼지(㎍/㎥)</th>\n",
              "      <th>초미세먼지(㎍/㎥)</th>\n",
              "      <th>일산화탄소농도(ppm)</th>\n",
              "      <th>년</th>\n",
              "      <th>월</th>\n",
              "      <th>일</th>\n",
              "    </tr>\n",
              "  </thead>\n",
              "  <tbody>\n",
              "    <tr>\n",
              "      <th>0</th>\n",
              "      <td>20160101</td>\n",
              "      <td>2016-01-01</td>\n",
              "      <td>강남구</td>\n",
              "      <td>0.047</td>\n",
              "      <td>0.006</td>\n",
              "      <td>0.8</td>\n",
              "      <td>0.006</td>\n",
              "      <td>73.0</td>\n",
              "      <td>44.0</td>\n",
              "      <td>NaN</td>\n",
              "      <td>2016</td>\n",
              "      <td>1</td>\n",
              "      <td>1</td>\n",
              "    </tr>\n",
              "    <tr>\n",
              "      <th>1</th>\n",
              "      <td>20160101</td>\n",
              "      <td>2016-01-01</td>\n",
              "      <td>강남대로</td>\n",
              "      <td>0.054</td>\n",
              "      <td>0.004</td>\n",
              "      <td>1.2</td>\n",
              "      <td>0.009</td>\n",
              "      <td>85.0</td>\n",
              "      <td>52.0</td>\n",
              "      <td>NaN</td>\n",
              "      <td>2016</td>\n",
              "      <td>1</td>\n",
              "      <td>1</td>\n",
              "    </tr>\n",
              "  </tbody>\n",
              "</table>\n",
              "</div>"
            ],
            "text/plain": [
              "       측정일시      측정일시2  측정소명  이산화질소농도(ppm)  오존농도(ppm)  이산화탄소농도(ppm)  \\\n",
              "0  20160101 2016-01-01   강남구         0.047      0.006           0.8   \n",
              "1  20160101 2016-01-01  강남대로         0.054      0.004           1.2   \n",
              "\n",
              "   아황산가스(ppm)  미세먼지(㎍/㎥)  초미세먼지(㎍/㎥)  일산화탄소농도(ppm)     년  월  일  \n",
              "0       0.006       73.0        44.0           NaN  2016  1  1  \n",
              "1       0.009       85.0        52.0           NaN  2016  1  1  "
            ]
          },
          "execution_count": 37,
          "metadata": {},
          "output_type": "execute_result"
        }
      ],
      "source": [
        "# [3-20] df에 '년', '월', '일' 컬럼을 추가합니다.\n",
        "df['년']=df['측정일시2'].dt.year\n",
        "df['월']=df['측정일시2'].dt.month\n",
        "df['일']=df['측정일시2'].dt.day\n",
        "df.head(2)"
      ]
    },
    {
      "attachments": {},
      "cell_type": "markdown",
      "metadata": {
        "id": "45U498qCI_30"
      },
      "source": [
        "DataFrame.drop([컬럼이름1, 컬럼이름2,...], axis=1)\n",
        "- 컬럼 삭제\n",
        "- 목록에 있는 컬럼이 삭제된 DataFrame을 반환\n",
        "\n",
        "DataFrame.drop([행이름1, 행이름2, ...], axis=0)\n",
        "- 행 삭제\n",
        "- 목록에 있는 행이 삭제된 DataFrame을 반환\n",
        "\n",
        "삭제할 컬럼 또는 행이 1개인 경우 목록이 아닌 한 개 이름만 지정할 수 있음"
      ]
    },
    {
      "cell_type": "code",
      "execution_count": 38,
      "metadata": {
        "colab": {
          "base_uri": "https://localhost:8080/",
          "height": 181
        },
        "id": "DHGCfpnSX8c1",
        "outputId": "69e41ade-5566-468b-953d-a5a5b3250f36"
      },
      "outputs": [
        {
          "data": {
            "text/html": [
              "<div>\n",
              "<style scoped>\n",
              "    .dataframe tbody tr th:only-of-type {\n",
              "        vertical-align: middle;\n",
              "    }\n",
              "\n",
              "    .dataframe tbody tr th {\n",
              "        vertical-align: top;\n",
              "    }\n",
              "\n",
              "    .dataframe thead th {\n",
              "        text-align: right;\n",
              "    }\n",
              "</style>\n",
              "<table border=\"1\" class=\"dataframe\">\n",
              "  <thead>\n",
              "    <tr style=\"text-align: right;\">\n",
              "      <th></th>\n",
              "      <th>측정일시</th>\n",
              "      <th>측정소명</th>\n",
              "      <th>이산화질소농도(ppm)</th>\n",
              "      <th>오존농도(ppm)</th>\n",
              "      <th>이산화탄소농도(ppm)</th>\n",
              "      <th>아황산가스(ppm)</th>\n",
              "      <th>미세먼지(㎍/㎥)</th>\n",
              "      <th>초미세먼지(㎍/㎥)</th>\n",
              "      <th>일산화탄소농도(ppm)</th>\n",
              "      <th>년</th>\n",
              "      <th>월</th>\n",
              "      <th>일</th>\n",
              "    </tr>\n",
              "  </thead>\n",
              "  <tbody>\n",
              "    <tr>\n",
              "      <th>0</th>\n",
              "      <td>20160101</td>\n",
              "      <td>강남구</td>\n",
              "      <td>0.047</td>\n",
              "      <td>0.006</td>\n",
              "      <td>0.8</td>\n",
              "      <td>0.006</td>\n",
              "      <td>73.0</td>\n",
              "      <td>44.0</td>\n",
              "      <td>NaN</td>\n",
              "      <td>2016</td>\n",
              "      <td>1</td>\n",
              "      <td>1</td>\n",
              "    </tr>\n",
              "    <tr>\n",
              "      <th>1</th>\n",
              "      <td>20160101</td>\n",
              "      <td>강남대로</td>\n",
              "      <td>0.054</td>\n",
              "      <td>0.004</td>\n",
              "      <td>1.2</td>\n",
              "      <td>0.009</td>\n",
              "      <td>85.0</td>\n",
              "      <td>52.0</td>\n",
              "      <td>NaN</td>\n",
              "      <td>2016</td>\n",
              "      <td>1</td>\n",
              "      <td>1</td>\n",
              "    </tr>\n",
              "    <tr>\n",
              "      <th>2</th>\n",
              "      <td>20160101</td>\n",
              "      <td>강동구</td>\n",
              "      <td>0.043</td>\n",
              "      <td>0.002</td>\n",
              "      <td>0.9</td>\n",
              "      <td>0.004</td>\n",
              "      <td>77.0</td>\n",
              "      <td>45.0</td>\n",
              "      <td>NaN</td>\n",
              "      <td>2016</td>\n",
              "      <td>1</td>\n",
              "      <td>1</td>\n",
              "    </tr>\n",
              "    <tr>\n",
              "      <th>3</th>\n",
              "      <td>20160101</td>\n",
              "      <td>강변북로</td>\n",
              "      <td>0.046</td>\n",
              "      <td>0.004</td>\n",
              "      <td>1.1</td>\n",
              "      <td>0.006</td>\n",
              "      <td>73.0</td>\n",
              "      <td>39.0</td>\n",
              "      <td>NaN</td>\n",
              "      <td>2016</td>\n",
              "      <td>1</td>\n",
              "      <td>1</td>\n",
              "    </tr>\n",
              "    <tr>\n",
              "      <th>4</th>\n",
              "      <td>20160101</td>\n",
              "      <td>강북구</td>\n",
              "      <td>0.047</td>\n",
              "      <td>0.004</td>\n",
              "      <td>1.1</td>\n",
              "      <td>0.004</td>\n",
              "      <td>77.0</td>\n",
              "      <td>52.0</td>\n",
              "      <td>NaN</td>\n",
              "      <td>2016</td>\n",
              "      <td>1</td>\n",
              "      <td>1</td>\n",
              "    </tr>\n",
              "  </tbody>\n",
              "</table>\n",
              "</div>"
            ],
            "text/plain": [
              "       측정일시  측정소명  이산화질소농도(ppm)  오존농도(ppm)  이산화탄소농도(ppm)  아황산가스(ppm)  \\\n",
              "0  20160101   강남구         0.047      0.006           0.8       0.006   \n",
              "1  20160101  강남대로         0.054      0.004           1.2       0.009   \n",
              "2  20160101   강동구         0.043      0.002           0.9       0.004   \n",
              "3  20160101  강변북로         0.046      0.004           1.1       0.006   \n",
              "4  20160101   강북구         0.047      0.004           1.1       0.004   \n",
              "\n",
              "   미세먼지(㎍/㎥)  초미세먼지(㎍/㎥)  일산화탄소농도(ppm)     년  월  일  \n",
              "0       73.0        44.0           NaN  2016  1  1  \n",
              "1       85.0        52.0           NaN  2016  1  1  \n",
              "2       77.0        45.0           NaN  2016  1  1  \n",
              "3       73.0        39.0           NaN  2016  1  1  \n",
              "4       77.0        52.0           NaN  2016  1  1  "
            ]
          },
          "execution_count": 38,
          "metadata": {},
          "output_type": "execute_result"
        }
      ],
      "source": [
        "# [3-21] '측정일시2' 컬럼이 필요 없으므로 제거합니다.\n",
        "# 컬럼을 제거하기 위해서는 drop 함수에서 axis=1 을 사용해야 합니다.\n",
        "# 삭제된 DataFrame을 df2 이름을 지정합니다.\n",
        "#df.drop('측정일시2', axis=1)\n",
        "df = df.drop('측정일시2', axis=1)\n",
        "df.head()"
      ]
    },
    {
      "cell_type": "code",
      "execution_count": 39,
      "metadata": {
        "id": "-UmM8HBhdade"
      },
      "outputs": [],
      "source": [
        "df2.to_csv('fine_dust.csv', index=False)"
      ]
    },
    {
      "cell_type": "code",
      "execution_count": 40,
      "metadata": {
        "id": "sHPEafaWcSdU"
      },
      "outputs": [
        {
          "data": {
            "text/html": [
              "<div>\n",
              "<style scoped>\n",
              "    .dataframe tbody tr th:only-of-type {\n",
              "        vertical-align: middle;\n",
              "    }\n",
              "\n",
              "    .dataframe tbody tr th {\n",
              "        vertical-align: top;\n",
              "    }\n",
              "\n",
              "    .dataframe thead th {\n",
              "        text-align: right;\n",
              "    }\n",
              "</style>\n",
              "<table border=\"1\" class=\"dataframe\">\n",
              "  <thead>\n",
              "    <tr style=\"text-align: right;\">\n",
              "      <th></th>\n",
              "      <th>측정일시</th>\n",
              "      <th>측정소명</th>\n",
              "      <th>이산화질소농도(ppm)</th>\n",
              "      <th>오존농도(ppm)</th>\n",
              "      <th>이산화탄소농도(ppm)</th>\n",
              "      <th>아황산가스(ppm)</th>\n",
              "      <th>미세먼지(㎍/㎥)</th>\n",
              "      <th>초미세먼지(㎍/㎥)</th>\n",
              "      <th>일산화탄소농도(ppm)</th>\n",
              "    </tr>\n",
              "  </thead>\n",
              "  <tbody>\n",
              "    <tr>\n",
              "      <th>0</th>\n",
              "      <td>20160101</td>\n",
              "      <td>강남구</td>\n",
              "      <td>0.047</td>\n",
              "      <td>0.006</td>\n",
              "      <td>0.8</td>\n",
              "      <td>0.006</td>\n",
              "      <td>73.0</td>\n",
              "      <td>44.0</td>\n",
              "      <td>NaN</td>\n",
              "    </tr>\n",
              "    <tr>\n",
              "      <th>1</th>\n",
              "      <td>20160101</td>\n",
              "      <td>강남대로</td>\n",
              "      <td>0.054</td>\n",
              "      <td>0.004</td>\n",
              "      <td>1.2</td>\n",
              "      <td>0.009</td>\n",
              "      <td>85.0</td>\n",
              "      <td>52.0</td>\n",
              "      <td>NaN</td>\n",
              "    </tr>\n",
              "  </tbody>\n",
              "</table>\n",
              "</div>"
            ],
            "text/plain": [
              "       측정일시  측정소명  이산화질소농도(ppm)  오존농도(ppm)  이산화탄소농도(ppm)  아황산가스(ppm)  \\\n",
              "0  20160101   강남구         0.047      0.006           0.8       0.006   \n",
              "1  20160101  강남대로         0.054      0.004           1.2       0.009   \n",
              "\n",
              "   미세먼지(㎍/㎥)  초미세먼지(㎍/㎥)  일산화탄소농도(ppm)  \n",
              "0       73.0        44.0           NaN  \n",
              "1       85.0        52.0           NaN  "
            ]
          },
          "execution_count": 40,
          "metadata": {},
          "output_type": "execute_result"
        }
      ],
      "source": [
        "df2 = pd.read_csv('fine_dust.csv')\n",
        "df2.head(2)"
      ]
    },
    {
      "attachments": {},
      "cell_type": "markdown",
      "metadata": {
        "id": "DKciWUW9r6ml"
      },
      "source": [
        "### 3-3.결측치 확인\n",
        "- [pandas-02] drinks 에서 다루어 본 내용입니다.\n",
        "- heatmap 그래프를 사용한 결측치 확인방법을 알아보겠습니다.\n",
        "- 데이터가 많을 때 직관적인 판단을 할 수 있게 됩니다.\n"
      ]
    },
    {
      "cell_type": "code",
      "execution_count": 41,
      "metadata": {
        "id": "yvaHU-lit56z"
      },
      "outputs": [],
      "source": [
        "# 데이타가 많은 경우 모두 출력 안되고 ... 으로 생략해서 출력됩니다.\n",
        "# 생략되지 않는 행, 열의 개수를 설정하여 생략되지 않고 출력되도록 합니다.\n",
        "pd.set_option('display.max_rows', 800)    #출력할 max row를 지정\n",
        "pd.set_option('display.max_columns', 100)  #출력할 max columns를 지정"
      ]
    },
    {
      "cell_type": "code",
      "execution_count": 68,
      "metadata": {
        "id": "OA4lGsS3NfkG"
      },
      "outputs": [
        {
          "data": {
            "text/html": [
              "<div>\n",
              "<style scoped>\n",
              "    .dataframe tbody tr th:only-of-type {\n",
              "        vertical-align: middle;\n",
              "    }\n",
              "\n",
              "    .dataframe tbody tr th {\n",
              "        vertical-align: top;\n",
              "    }\n",
              "\n",
              "    .dataframe thead th {\n",
              "        text-align: right;\n",
              "    }\n",
              "</style>\n",
              "<table border=\"1\" class=\"dataframe\">\n",
              "  <thead>\n",
              "    <tr style=\"text-align: right;\">\n",
              "      <th></th>\n",
              "      <th>측정일시</th>\n",
              "      <th>측정소명</th>\n",
              "      <th>이산화질소농도(ppm)</th>\n",
              "      <th>오존농도(ppm)</th>\n",
              "      <th>이산화탄소농도(ppm)</th>\n",
              "      <th>아황산가스(ppm)</th>\n",
              "      <th>미세먼지(㎍/㎥)</th>\n",
              "      <th>초미세먼지(㎍/㎥)</th>\n",
              "      <th>일산화탄소농도(ppm)</th>\n",
              "    </tr>\n",
              "  </thead>\n",
              "  <tbody>\n",
              "    <tr>\n",
              "      <th>0</th>\n",
              "      <td>20160101</td>\n",
              "      <td>강남구</td>\n",
              "      <td>0.047</td>\n",
              "      <td>0.006</td>\n",
              "      <td>0.8</td>\n",
              "      <td>0.006</td>\n",
              "      <td>73.0</td>\n",
              "      <td>44.0</td>\n",
              "      <td>NaN</td>\n",
              "    </tr>\n",
              "    <tr>\n",
              "      <th>1</th>\n",
              "      <td>20160101</td>\n",
              "      <td>강남대로</td>\n",
              "      <td>0.054</td>\n",
              "      <td>0.004</td>\n",
              "      <td>1.2</td>\n",
              "      <td>0.009</td>\n",
              "      <td>85.0</td>\n",
              "      <td>52.0</td>\n",
              "      <td>NaN</td>\n",
              "    </tr>\n",
              "    <tr>\n",
              "      <th>2</th>\n",
              "      <td>20160101</td>\n",
              "      <td>강동구</td>\n",
              "      <td>0.043</td>\n",
              "      <td>0.002</td>\n",
              "      <td>0.9</td>\n",
              "      <td>0.004</td>\n",
              "      <td>77.0</td>\n",
              "      <td>45.0</td>\n",
              "      <td>NaN</td>\n",
              "    </tr>\n",
              "    <tr>\n",
              "      <th>3</th>\n",
              "      <td>20160101</td>\n",
              "      <td>강변북로</td>\n",
              "      <td>0.046</td>\n",
              "      <td>0.004</td>\n",
              "      <td>1.1</td>\n",
              "      <td>0.006</td>\n",
              "      <td>73.0</td>\n",
              "      <td>39.0</td>\n",
              "      <td>NaN</td>\n",
              "    </tr>\n",
              "    <tr>\n",
              "      <th>4</th>\n",
              "      <td>20160101</td>\n",
              "      <td>강북구</td>\n",
              "      <td>0.047</td>\n",
              "      <td>0.004</td>\n",
              "      <td>1.1</td>\n",
              "      <td>0.004</td>\n",
              "      <td>77.0</td>\n",
              "      <td>52.0</td>\n",
              "      <td>NaN</td>\n",
              "    </tr>\n",
              "  </tbody>\n",
              "</table>\n",
              "</div>"
            ],
            "text/plain": [
              "       측정일시  측정소명  이산화질소농도(ppm)  오존농도(ppm)  이산화탄소농도(ppm)  아황산가스(ppm)  \\\n",
              "0  20160101   강남구         0.047      0.006           0.8       0.006   \n",
              "1  20160101  강남대로         0.054      0.004           1.2       0.009   \n",
              "2  20160101   강동구         0.043      0.002           0.9       0.004   \n",
              "3  20160101  강변북로         0.046      0.004           1.1       0.006   \n",
              "4  20160101   강북구         0.047      0.004           1.1       0.004   \n",
              "\n",
              "   미세먼지(㎍/㎥)  초미세먼지(㎍/㎥)  일산화탄소농도(ppm)  \n",
              "0       73.0        44.0           NaN  \n",
              "1       85.0        52.0           NaN  \n",
              "2       77.0        45.0           NaN  \n",
              "3       73.0        39.0           NaN  \n",
              "4       77.0        52.0           NaN  "
            ]
          },
          "execution_count": 68,
          "metadata": {},
          "output_type": "execute_result"
        }
      ],
      "source": [
        "# [3-22] df2를 복사하여 df를 생성합니다.\n",
        "# 앞으로 결측치에 대한 처리는 df를 사용합니다.\n",
        "df = df2.copy()\n",
        "df.head()"
      ]
    },
    {
      "cell_type": "code",
      "execution_count": 69,
      "metadata": {
        "id": "x0KbaSd5r5-b"
      },
      "outputs": [
        {
          "data": {
            "text/plain": [
              "측정일시                0\n",
              "측정소명                0\n",
              "이산화질소농도(ppm)     2158\n",
              "오존농도(ppm)        2133\n",
              "이산화탄소농도(ppm)    19787\n",
              "아황산가스(ppm)       2133\n",
              "미세먼지(㎍/㎥)         881\n",
              "초미세먼지(㎍/㎥)       1779\n",
              "일산화탄소농도(ppm)    42617\n",
              "dtype: int64"
            ]
          },
          "execution_count": 69,
          "metadata": {},
          "output_type": "execute_result"
        }
      ],
      "source": [
        "# [3-23] df의 행별 결측치를 조사합니다.\n",
        "df.isnull().sum()"
      ]
    },
    {
      "cell_type": "code",
      "execution_count": 72,
      "metadata": {},
      "outputs": [
        {
          "name": "stdout",
          "output_type": "stream",
          "text": [
            "<class 'pandas.core.frame.DataFrame'>\n",
            "RangeIndex: 60208 entries, 0 to 60207\n",
            "Data columns (total 9 columns):\n",
            " #   Column        Non-Null Count  Dtype         \n",
            "---  ------        --------------  -----         \n",
            " 0   측정일시          60208 non-null  datetime64[ns]\n",
            " 1   측정소명          60208 non-null  object        \n",
            " 2   이산화질소농도(ppm)  58050 non-null  float64       \n",
            " 3   오존농도(ppm)     58075 non-null  float64       \n",
            " 4   이산화탄소농도(ppm)  40421 non-null  float64       \n",
            " 5   아황산가스(ppm)    58075 non-null  float64       \n",
            " 6   미세먼지(㎍/㎥)     59327 non-null  float64       \n",
            " 7   초미세먼지(㎍/㎥)    58429 non-null  float64       \n",
            " 8   일산화탄소농도(ppm)  17591 non-null  float64       \n",
            "dtypes: datetime64[ns](1), float64(7), object(1)\n",
            "memory usage: 4.1+ MB\n"
          ]
        }
      ],
      "source": [
        "df['측정일시'] = pd.to_datetime(df['측정일시'], format='%Y%m%d')\n",
        "df.info()"
      ]
    },
    {
      "cell_type": "code",
      "execution_count": 73,
      "metadata": {},
      "outputs": [],
      "source": [
        "df['년'] = df['측정일시'].dt.year\n",
        "df['월'] = df['측정일시'].dt.month\n",
        "df['일'] = df['측정일시'].dt.day"
      ]
    },
    {
      "cell_type": "code",
      "execution_count": 74,
      "metadata": {
        "id": "mDvk4TC4Zxa1"
      },
      "outputs": [
        {
          "data": {
            "text/html": [
              "<div>\n",
              "<style scoped>\n",
              "    .dataframe tbody tr th:only-of-type {\n",
              "        vertical-align: middle;\n",
              "    }\n",
              "\n",
              "    .dataframe tbody tr th {\n",
              "        vertical-align: top;\n",
              "    }\n",
              "\n",
              "    .dataframe thead th {\n",
              "        text-align: right;\n",
              "    }\n",
              "</style>\n",
              "<table border=\"1\" class=\"dataframe\">\n",
              "  <thead>\n",
              "    <tr style=\"text-align: right;\">\n",
              "      <th></th>\n",
              "      <th>측정소명</th>\n",
              "      <th>이산화질소농도(ppm)</th>\n",
              "      <th>오존농도(ppm)</th>\n",
              "      <th>이산화탄소농도(ppm)</th>\n",
              "      <th>아황산가스(ppm)</th>\n",
              "      <th>미세먼지(㎍/㎥)</th>\n",
              "      <th>초미세먼지(㎍/㎥)</th>\n",
              "      <th>일산화탄소농도(ppm)</th>\n",
              "      <th>년</th>\n",
              "      <th>월</th>\n",
              "      <th>일</th>\n",
              "    </tr>\n",
              "    <tr>\n",
              "      <th>측정일시</th>\n",
              "      <th></th>\n",
              "      <th></th>\n",
              "      <th></th>\n",
              "      <th></th>\n",
              "      <th></th>\n",
              "      <th></th>\n",
              "      <th></th>\n",
              "      <th></th>\n",
              "      <th></th>\n",
              "      <th></th>\n",
              "      <th></th>\n",
              "    </tr>\n",
              "  </thead>\n",
              "  <tbody>\n",
              "    <tr>\n",
              "      <th>2016-01-01</th>\n",
              "      <td>강남구</td>\n",
              "      <td>0.047</td>\n",
              "      <td>0.006</td>\n",
              "      <td>0.8</td>\n",
              "      <td>0.006</td>\n",
              "      <td>73.0</td>\n",
              "      <td>44.0</td>\n",
              "      <td>NaN</td>\n",
              "      <td>2016</td>\n",
              "      <td>1</td>\n",
              "      <td>1</td>\n",
              "    </tr>\n",
              "    <tr>\n",
              "      <th>2016-01-01</th>\n",
              "      <td>성북구</td>\n",
              "      <td>0.056</td>\n",
              "      <td>0.005</td>\n",
              "      <td>1.3</td>\n",
              "      <td>0.007</td>\n",
              "      <td>71.0</td>\n",
              "      <td>45.0</td>\n",
              "      <td>NaN</td>\n",
              "      <td>2016</td>\n",
              "      <td>1</td>\n",
              "      <td>1</td>\n",
              "    </tr>\n",
              "    <tr>\n",
              "      <th>2016-01-01</th>\n",
              "      <td>송파구</td>\n",
              "      <td>0.046</td>\n",
              "      <td>0.004</td>\n",
              "      <td>1.1</td>\n",
              "      <td>0.006</td>\n",
              "      <td>64.0</td>\n",
              "      <td>39.0</td>\n",
              "      <td>NaN</td>\n",
              "      <td>2016</td>\n",
              "      <td>1</td>\n",
              "      <td>1</td>\n",
              "    </tr>\n",
              "    <tr>\n",
              "      <th>2016-01-01</th>\n",
              "      <td>신촌로</td>\n",
              "      <td>0.060</td>\n",
              "      <td>0.004</td>\n",
              "      <td>1.3</td>\n",
              "      <td>0.005</td>\n",
              "      <td>87.0</td>\n",
              "      <td>40.0</td>\n",
              "      <td>NaN</td>\n",
              "      <td>2016</td>\n",
              "      <td>1</td>\n",
              "      <td>1</td>\n",
              "    </tr>\n",
              "    <tr>\n",
              "      <th>2016-01-01</th>\n",
              "      <td>양천구</td>\n",
              "      <td>0.049</td>\n",
              "      <td>0.008</td>\n",
              "      <td>1.1</td>\n",
              "      <td>0.005</td>\n",
              "      <td>82.0</td>\n",
              "      <td>65.0</td>\n",
              "      <td>NaN</td>\n",
              "      <td>2016</td>\n",
              "      <td>1</td>\n",
              "      <td>1</td>\n",
              "    </tr>\n",
              "  </tbody>\n",
              "</table>\n",
              "</div>"
            ],
            "text/plain": [
              "           측정소명  이산화질소농도(ppm)  오존농도(ppm)  이산화탄소농도(ppm)  아황산가스(ppm)  미세먼지(㎍/㎥)  \\\n",
              "측정일시                                                                            \n",
              "2016-01-01  강남구         0.047      0.006           0.8       0.006       73.0   \n",
              "2016-01-01  성북구         0.056      0.005           1.3       0.007       71.0   \n",
              "2016-01-01  송파구         0.046      0.004           1.1       0.006       64.0   \n",
              "2016-01-01  신촌로         0.060      0.004           1.3       0.005       87.0   \n",
              "2016-01-01  양천구         0.049      0.008           1.1       0.005       82.0   \n",
              "\n",
              "            초미세먼지(㎍/㎥)  일산화탄소농도(ppm)     년  월  일  \n",
              "측정일시                                              \n",
              "2016-01-01        44.0           NaN  2016  1  1  \n",
              "2016-01-01        45.0           NaN  2016  1  1  \n",
              "2016-01-01        39.0           NaN  2016  1  1  \n",
              "2016-01-01        40.0           NaN  2016  1  1  \n",
              "2016-01-01        65.0           NaN  2016  1  1  "
            ]
          },
          "execution_count": 74,
          "metadata": {},
          "output_type": "execute_result"
        }
      ],
      "source": [
        "# [3-24] '측정일시'를 index로 설정하고,\n",
        "# index 기준으로 오름차순 정렬해서 df1으로 이름 붙입니다.\n",
        "# 그래프에서 y축으로 사용하려고 합니다.\n",
        "df1 = df.set_index('측정일시').sort_index()\n",
        "df1.head()"
      ]
    },
    {
      "cell_type": "code",
      "execution_count": 45,
      "metadata": {
        "id": "SdqsYfukdB1M"
      },
      "outputs": [
        {
          "ename": "SyntaxError",
          "evalue": "invalid syntax (232301833.py, line 1)",
          "output_type": "error",
          "traceback": [
            "\u001b[0;36m  Cell \u001b[0;32mIn[45], line 1\u001b[0;36m\u001b[0m\n\u001b[0;31m    https://seaborn.pydata.org/generated/seaborn.heatmap.html\u001b[0m\n\u001b[0m          ^\u001b[0m\n\u001b[0;31mSyntaxError\u001b[0m\u001b[0;31m:\u001b[0m invalid syntax\n"
          ]
        }
      ],
      "source": [
        "https://seaborn.pydata.org/generated/seaborn.heatmap.html\n",
        "# vmax, vmin, cbar"
      ]
    },
    {
      "cell_type": "code",
      "execution_count": 75,
      "metadata": {
        "colab": {
          "base_uri": "https://localhost:8080/",
          "height": 590
        },
        "id": "EmFzNhum7SuN",
        "outputId": "4f14dca6-d3e3-4193-f6a1-c683852e51f4"
      },
      "outputs": [
        {
          "data": {
            "image/png": "[encoded data removed]",
            "text/plain": [
              "<Figure size 1400x1000 with 1 Axes>"
            ]
          },
          "metadata": {},
          "output_type": "display_data"
        }
      ],
      "source": [
        "# [3-25] df1의 '이산화질소농도(ppm)':'일산화탄소농도(ppm)'의 결측치의 상태를 그래프로 확인해 봅니다\n",
        "# seaborn.heatmap()를 사용하며, df.isna()를 데이터로 지정해 확인할 수 있습니다.\n",
        "# 흐린색이 결측치를 의미합니다.\n",
        "import koreanize_matplotlib\n",
        "\n",
        "plt.figure(figsize=(14, 10))\n",
        "ax = sns.heatmap(df1.loc[:, '이산화질소농도(ppm)':'일산화탄소농도(ppm)'].isna(), cbar=False)\n",
        "ax.set_xticklabels(ax.get_xticklabels(),fontsize=13, rotation=0)\n",
        "plt.show()"
      ]
    },
    {
      "attachments": {},
      "cell_type": "markdown",
      "metadata": {
        "id": "bY4isPNASSWj"
      },
      "source": [
        "데이터 중에서 오존농도, 미세먼지, 초미세먼지에 대해서만 사용할 것이므로, indexing한 뒤 다시 결측치 정보를 확인합니다."
      ]
    },
    {
      "cell_type": "code",
      "execution_count": 48,
      "metadata": {
        "id": "E7CzVzPOyvVR"
      },
      "outputs": [
        {
          "ename": "SyntaxError",
          "evalue": "invalid decimal literal (557304042.py, line 1)",
          "output_type": "error",
          "traceback": [
            "\u001b[0;36m  Cell \u001b[0;32mIn[48], line 1\u001b[0;36m\u001b[0m\n\u001b[0;31m    df['컬럼명'] : 1개의 컬럼을 Series로 반환\u001b[0m\n\u001b[0m                ^\u001b[0m\n\u001b[0;31mSyntaxError\u001b[0m\u001b[0;31m:\u001b[0m invalid decimal literal\n"
          ]
        }
      ],
      "source": [
        "df['컬럼명'] : 1개의 컬럼을 Series로 반환\n",
        "df[['컬럼명1', '컬럼명2', ...]]  : 여러개의 컬럼을 DataFrame으로 반환\n",
        "df['행이름1':'행이름N'] : 행이름1 ~ 행이름 N 전까지를 반환\n",
        "df[조건] : 행 중에서 조건이 True인 행을 반환"
      ]
    },
    {
      "cell_type": "code",
      "execution_count": 76,
      "metadata": {
        "colab": {
          "base_uri": "https://localhost:8080/",
          "height": 143
        },
        "id": "zQhQc-JxLG0F",
        "outputId": "5bf7f71c-34d2-4fe0-ad4c-e811981e76b0"
      },
      "outputs": [
        {
          "data": {
            "text/html": [
              "<div>\n",
              "<style scoped>\n",
              "    .dataframe tbody tr th:only-of-type {\n",
              "        vertical-align: middle;\n",
              "    }\n",
              "\n",
              "    .dataframe tbody tr th {\n",
              "        vertical-align: top;\n",
              "    }\n",
              "\n",
              "    .dataframe thead th {\n",
              "        text-align: right;\n",
              "    }\n",
              "</style>\n",
              "<table border=\"1\" class=\"dataframe\">\n",
              "  <thead>\n",
              "    <tr style=\"text-align: right;\">\n",
              "      <th></th>\n",
              "      <th>측정소명</th>\n",
              "      <th>년</th>\n",
              "      <th>월</th>\n",
              "      <th>일</th>\n",
              "      <th>오존농도(ppm)</th>\n",
              "      <th>미세먼지(㎍/㎥)</th>\n",
              "      <th>초미세먼지(㎍/㎥)</th>\n",
              "    </tr>\n",
              "    <tr>\n",
              "      <th>측정일시</th>\n",
              "      <th></th>\n",
              "      <th></th>\n",
              "      <th></th>\n",
              "      <th></th>\n",
              "      <th></th>\n",
              "      <th></th>\n",
              "      <th></th>\n",
              "    </tr>\n",
              "  </thead>\n",
              "  <tbody>\n",
              "    <tr>\n",
              "      <th>2016-01-01</th>\n",
              "      <td>강남구</td>\n",
              "      <td>2016</td>\n",
              "      <td>1</td>\n",
              "      <td>1</td>\n",
              "      <td>0.006</td>\n",
              "      <td>73.0</td>\n",
              "      <td>44.0</td>\n",
              "    </tr>\n",
              "    <tr>\n",
              "      <th>2016-01-01</th>\n",
              "      <td>성북구</td>\n",
              "      <td>2016</td>\n",
              "      <td>1</td>\n",
              "      <td>1</td>\n",
              "      <td>0.005</td>\n",
              "      <td>71.0</td>\n",
              "      <td>45.0</td>\n",
              "    </tr>\n",
              "    <tr>\n",
              "      <th>2016-01-01</th>\n",
              "      <td>송파구</td>\n",
              "      <td>2016</td>\n",
              "      <td>1</td>\n",
              "      <td>1</td>\n",
              "      <td>0.004</td>\n",
              "      <td>64.0</td>\n",
              "      <td>39.0</td>\n",
              "    </tr>\n",
              "    <tr>\n",
              "      <th>2016-01-01</th>\n",
              "      <td>신촌로</td>\n",
              "      <td>2016</td>\n",
              "      <td>1</td>\n",
              "      <td>1</td>\n",
              "      <td>0.004</td>\n",
              "      <td>87.0</td>\n",
              "      <td>40.0</td>\n",
              "    </tr>\n",
              "    <tr>\n",
              "      <th>2016-01-01</th>\n",
              "      <td>양천구</td>\n",
              "      <td>2016</td>\n",
              "      <td>1</td>\n",
              "      <td>1</td>\n",
              "      <td>0.008</td>\n",
              "      <td>82.0</td>\n",
              "      <td>65.0</td>\n",
              "    </tr>\n",
              "  </tbody>\n",
              "</table>\n",
              "</div>"
            ],
            "text/plain": [
              "           측정소명     년  월  일  오존농도(ppm)  미세먼지(㎍/㎥)  초미세먼지(㎍/㎥)\n",
              "측정일시                                                         \n",
              "2016-01-01  강남구  2016  1  1      0.006       73.0        44.0\n",
              "2016-01-01  성북구  2016  1  1      0.005       71.0        45.0\n",
              "2016-01-01  송파구  2016  1  1      0.004       64.0        39.0\n",
              "2016-01-01  신촌로  2016  1  1      0.004       87.0        40.0\n",
              "2016-01-01  양천구  2016  1  1      0.008       82.0        65.0"
            ]
          },
          "execution_count": 76,
          "metadata": {},
          "output_type": "execute_result"
        }
      ],
      "source": [
        "# [3-26] df1에서 '측정소명', '년', '월', '일','오존농도(ppm)', '미세먼지(㎍/㎥)', '초미세먼지(㎍/㎥)'컬럼만\n",
        "# 추출하여 df_dust 라는 이름을 정의합니다.\n",
        "df_dust = df1[['측정소명', '년', '월', '일', '오존농도(ppm)', '미세먼지(㎍/㎥)', '초미세먼지(㎍/㎥)']]\n",
        "df_dust.head()\n"
      ]
    },
    {
      "cell_type": "code",
      "execution_count": 77,
      "metadata": {
        "colab": {
          "base_uri": "https://localhost:8080/"
        },
        "id": "AgC_nkDSYzSs",
        "outputId": "9ee567c1-b3e9-41f4-d34b-ea9d75683574"
      },
      "outputs": [
        {
          "data": {
            "text/plain": [
              "측정소명             0\n",
              "년                0\n",
              "월                0\n",
              "일                0\n",
              "오존농도(ppm)     2133\n",
              "미세먼지(㎍/㎥)      881\n",
              "초미세먼지(㎍/㎥)    1779\n",
              "dtype: int64"
            ]
          },
          "execution_count": 77,
          "metadata": {},
          "output_type": "execute_result"
        }
      ],
      "source": [
        "# [3-27] df_dust의 컬럼별 결측치 개수를 구해봅니다\n",
        "df_dust.isna().sum()"
      ]
    },
    {
      "cell_type": "code",
      "execution_count": 78,
      "metadata": {
        "colab": {
          "base_uri": "https://localhost:8080/",
          "height": 487
        },
        "id": "1FTBKMjLZIGI",
        "outputId": "6267fef6-b8ff-4c51-e7fe-8897ad2f9140"
      },
      "outputs": [
        {
          "data": {
            "image/png": "[encoded data removed]",
            "text/plain": [
              "<Figure size 700x800 with 1 Axes>"
            ]
          },
          "metadata": {},
          "output_type": "display_data"
        }
      ],
      "source": [
        "# [3-28] df_dust의 '오존농도(ppm)':'초미세먼지(㎍/㎥)'에 대한 결측치 heatmap을 그려봅니다.\n",
        "plt.figure(figsize=(7, 8))\n",
        "sns.heatmap(df_dust.loc[:, '오존농도(ppm)':'초미세먼지(㎍/㎥)'].isna(), cbar=False)\n",
        "ax.set_xticklabels(ax.get_xticklabels(),rotation=0,fontsize=12)\n",
        "plt.show()"
      ]
    },
    {
      "attachments": {},
      "cell_type": "markdown",
      "metadata": {
        "id": "noHAl58wtejh"
      },
      "source": [
        "- DataFrame의 index를 columns로 사용 : DataFrame.reset_index()\n",
        "- DataFrame의 columns를 index로 사용 : DataFrame.set_index('컬럼이름')\n"
      ]
    },
    {
      "cell_type": "code",
      "execution_count": 79,
      "metadata": {
        "colab": {
          "base_uri": "https://localhost:8080/",
          "height": 112
        },
        "id": "kkmh1k60m2No",
        "outputId": "2e0d7281-168f-4131-8f59-7dc899cd1236"
      },
      "outputs": [],
      "source": [
        "# [3-29] df_dust의 index를 다시 컬럼으로 사용되도록 합니다.\n",
        "# 다음 작업인 결측치 삭제를 사용하기 위함\n",
        "df_dust = df_dust.reset_index()"
      ]
    },
    {
      "cell_type": "code",
      "execution_count": 80,
      "metadata": {},
      "outputs": [
        {
          "data": {
            "text/html": [
              "<div>\n",
              "<style scoped>\n",
              "    .dataframe tbody tr th:only-of-type {\n",
              "        vertical-align: middle;\n",
              "    }\n",
              "\n",
              "    .dataframe tbody tr th {\n",
              "        vertical-align: top;\n",
              "    }\n",
              "\n",
              "    .dataframe thead th {\n",
              "        text-align: right;\n",
              "    }\n",
              "</style>\n",
              "<table border=\"1\" class=\"dataframe\">\n",
              "  <thead>\n",
              "    <tr style=\"text-align: right;\">\n",
              "      <th></th>\n",
              "      <th>측정일시</th>\n",
              "      <th>측정소명</th>\n",
              "      <th>년</th>\n",
              "      <th>월</th>\n",
              "      <th>일</th>\n",
              "      <th>오존농도(ppm)</th>\n",
              "      <th>미세먼지(㎍/㎥)</th>\n",
              "      <th>초미세먼지(㎍/㎥)</th>\n",
              "    </tr>\n",
              "  </thead>\n",
              "  <tbody>\n",
              "    <tr>\n",
              "      <th>0</th>\n",
              "      <td>2016-01-01</td>\n",
              "      <td>강남구</td>\n",
              "      <td>2016</td>\n",
              "      <td>1</td>\n",
              "      <td>1</td>\n",
              "      <td>0.006</td>\n",
              "      <td>73.0</td>\n",
              "      <td>44.0</td>\n",
              "    </tr>\n",
              "    <tr>\n",
              "      <th>1</th>\n",
              "      <td>2016-01-01</td>\n",
              "      <td>성북구</td>\n",
              "      <td>2016</td>\n",
              "      <td>1</td>\n",
              "      <td>1</td>\n",
              "      <td>0.005</td>\n",
              "      <td>71.0</td>\n",
              "      <td>45.0</td>\n",
              "    </tr>\n",
              "  </tbody>\n",
              "</table>\n",
              "</div>"
            ],
            "text/plain": [
              "        측정일시 측정소명     년  월  일  오존농도(ppm)  미세먼지(㎍/㎥)  초미세먼지(㎍/㎥)\n",
              "0 2016-01-01  강남구  2016  1  1      0.006       73.0        44.0\n",
              "1 2016-01-01  성북구  2016  1  1      0.005       71.0        45.0"
            ]
          },
          "execution_count": 80,
          "metadata": {},
          "output_type": "execute_result"
        }
      ],
      "source": [
        "df_dust.head(2)"
      ]
    },
    {
      "attachments": {},
      "cell_type": "markdown",
      "metadata": {
        "id": "V8S5EfGParyB"
      },
      "source": [
        "### 3-4.결측치 제거"
      ]
    },
    {
      "attachments": {},
      "cell_type": "markdown",
      "metadata": {
        "id": "DY_Vle8Al27_"
      },
      "source": [
        "DataFrame.dropna(axis=0, how='any', thresh=None, subset=None, inplace=False)\n",
        "- 결측치 제거에 사용되는 메서드\n",
        "- how='any' : 결측치가 하나라도 포함된 행 삭제\n",
        "- how='all' : 모든 데이터가 결측치인 행 삭제\n",
        "- axis=1 : 컬럼에 대해 동작\n",
        "- thresh=숫자 : 숫자 이상의 데이터를 가진 행은 삭제 안함\n",
        "- subset=[컬럼이름1, ...] : subset으로 지정된 컬럼만 사용하여 삭제 대상 검색"
      ]
    },
    {
      "cell_type": "code",
      "execution_count": 81,
      "metadata": {
        "id": "9_Q2z3V8IpHm"
      },
      "outputs": [
        {
          "name": "stdout",
          "output_type": "stream",
          "text": [
            "592\n"
          ]
        }
      ],
      "source": [
        "# [3-30] df_dust 에서 ['오존농도(ppm)','미세먼지(㎍/㎥)', '초미세먼지(㎍/㎥)']에서\n",
        "# 모든 데이터가 결측치인 행을 제거하여 결과를 temp1으로 저장합니다\n",
        "temp1 = df_dust.dropna(how='all', axis=0, subset=['오존농도(ppm)','미세먼지(㎍/㎥)', '초미세먼지(㎍/㎥)'])\n",
        "\n",
        "# df_dust와 temp1의 행의 수 (len)을 확인하여 제거된 행의 개수를 확인합니다.\n",
        "print(len(df_dust)-len(temp1))"
      ]
    },
    {
      "cell_type": "code",
      "execution_count": 82,
      "metadata": {
        "id": "1hsj4bLxvO0h"
      },
      "outputs": [
        {
          "name": "stdout",
          "output_type": "stream",
          "text": [
            "3359\n"
          ]
        }
      ],
      "source": [
        "# [3-31] df_dust 에서 ['오존농도(ppm)','미세먼지(㎍/㎥)', '초미세먼지(㎍/㎥)']에서\n",
        "# 하나라도 결측치가 있는 행을 제거하여 결과를 temp2로 저장합니다.\n",
        "temp2 = df_dust.dropna(how='any', axis=0, subset=['오존농도(ppm)','미세먼지(㎍/㎥)', '초미세먼지(㎍/㎥)'])\n",
        "\n",
        "# df_dust와 temp2의 행의 수 (len)을 확인하여 제거된 행의 개수를 확인합니다.\n",
        "print(len(df_dust)-len(temp2))"
      ]
    },
    {
      "cell_type": "code",
      "execution_count": 83,
      "metadata": {
        "id": "cZMJtzhlbbVJ"
      },
      "outputs": [
        {
          "name": "stdout",
          "output_type": "stream",
          "text": [
            "842\n"
          ]
        }
      ],
      "source": [
        "# [3-32] df_dust 에서 ['오존농도(ppm)','미세먼지(㎍/㎥)', '초미세먼지(㎍/㎥)']에서\n",
        "# 2개 이상의 데이터를 가진 행은 제거하지 않은 결과를 temp3로 저장합니다.\n",
        "# (= 3개의 정보 중 1개의 데이터만 가진 행을 제거함)\n",
        "temp3 = df_dust.dropna(thresh=2, axis=0, subset=['오존농도(ppm)','미세먼지(㎍/㎥)', '초미세먼지(㎍/㎥)'])\n",
        "\n",
        "# df_dust와 temp3의 행의 수 (len)을 확인하여 제거된 행의 개수를 확인합니다.\n",
        "print(len(df_dust)-len(temp3))"
      ]
    },
    {
      "cell_type": "code",
      "execution_count": 84,
      "metadata": {
        "colab": {
          "base_uri": "https://localhost:8080/",
          "height": 487
        },
        "id": "_YJMG2LSLS-B",
        "outputId": "32f46b87-51c8-4e38-b748-9985ea25e25f"
      },
      "outputs": [
        {
          "data": {
            "image/png": "[encoded data removed]",
            "text/plain": [
              "<Figure size 700x800 with 1 Axes>"
            ]
          },
          "metadata": {},
          "output_type": "display_data"
        }
      ],
      "source": [
        "# [3-33] temp1, temp2, temp3의 '오존농도(ppm)':'초미세먼지(㎍/㎥)'에 대한 결측치 heatmap을 그려봅니다.\n",
        "# temp1, temp3는 부분적으로 결측치가 남아있고, temp2는 결측치가 없습니다.\n",
        "plt.figure(figsize=(7, 8))\n",
        "sns.heatmap(temp3.loc[:, '오존농도(ppm)':'초미세먼지(㎍/㎥)'].isna(), cbar=False)\n",
        "plt.show()"
      ]
    },
    {
      "attachments": {},
      "cell_type": "markdown",
      "metadata": {
        "id": "2nIcnNxUki3y"
      },
      "source": [
        "df.groupby(by=[컬럼1, 컬럼2, ...]).함수()\n",
        "- 그룹 기준으로 목록을 지정하면 MultiIndex로 만들어짐\n",
        "- MultiIndex인 경우의 indexing은 tuple을 사용함\n",
        "- ['년', '월']을 그룹 기준으로 사용한 경우 (2017, 6) 처럼 지정함"
      ]
    },
    {
      "cell_type": "code",
      "execution_count": 85,
      "metadata": {
        "id": "g722axhuTFe_"
      },
      "outputs": [
        {
          "data": {
            "text/html": [
              "<div>\n",
              "<style scoped>\n",
              "    .dataframe tbody tr th:only-of-type {\n",
              "        vertical-align: middle;\n",
              "    }\n",
              "\n",
              "    .dataframe tbody tr th {\n",
              "        vertical-align: top;\n",
              "    }\n",
              "\n",
              "    .dataframe thead th {\n",
              "        text-align: right;\n",
              "    }\n",
              "</style>\n",
              "<table border=\"1\" class=\"dataframe\">\n",
              "  <thead>\n",
              "    <tr style=\"text-align: right;\">\n",
              "      <th></th>\n",
              "      <th></th>\n",
              "      <th>미세먼지(㎍/㎥)</th>\n",
              "    </tr>\n",
              "    <tr>\n",
              "      <th>년</th>\n",
              "      <th>월</th>\n",
              "      <th></th>\n",
              "    </tr>\n",
              "  </thead>\n",
              "  <tbody>\n",
              "    <tr>\n",
              "      <th rowspan=\"5\" valign=\"top\">2016</th>\n",
              "      <th>1</th>\n",
              "      <td>52.693844</td>\n",
              "    </tr>\n",
              "    <tr>\n",
              "      <th>2</th>\n",
              "      <td>48.283273</td>\n",
              "    </tr>\n",
              "    <tr>\n",
              "      <th>3</th>\n",
              "      <td>66.799503</td>\n",
              "    </tr>\n",
              "    <tr>\n",
              "      <th>4</th>\n",
              "      <td>73.327039</td>\n",
              "    </tr>\n",
              "    <tr>\n",
              "      <th>5</th>\n",
              "      <td>58.624172</td>\n",
              "    </tr>\n",
              "  </tbody>\n",
              "</table>\n",
              "</div>"
            ],
            "text/plain": [
              "        미세먼지(㎍/㎥)\n",
              "년    월           \n",
              "2016 1  52.693844\n",
              "     2  48.283273\n",
              "     3  66.799503\n",
              "     4  73.327039\n",
              "     5  58.624172"
            ]
          },
          "execution_count": 85,
          "metadata": {},
          "output_type": "execute_result"
        }
      ],
      "source": [
        "# [3-34] df_dust에서 '년', '월'별 '미세먼지(㎍/㎥)' 데이터의 평균을 구해\n",
        "# DataFrame으로 만들어 meandf 라는 이름을 지정합니다.ㅣ\n",
        "meandf = df_dust.groupby(['년', '월'])[['미세먼지(㎍/㎥)']].mean()\n",
        "meandf.head()\n"
      ]
    },
    {
      "cell_type": "code",
      "execution_count": 86,
      "metadata": {
        "id": "J-Y2ocLekJnz"
      },
      "outputs": [
        {
          "data": {
            "text/html": [
              "<div>\n",
              "<style scoped>\n",
              "    .dataframe tbody tr th:only-of-type {\n",
              "        vertical-align: middle;\n",
              "    }\n",
              "\n",
              "    .dataframe tbody tr th {\n",
              "        vertical-align: top;\n",
              "    }\n",
              "\n",
              "    .dataframe thead th {\n",
              "        text-align: right;\n",
              "    }\n",
              "</style>\n",
              "<table border=\"1\" class=\"dataframe\">\n",
              "  <thead>\n",
              "    <tr style=\"text-align: right;\">\n",
              "      <th></th>\n",
              "      <th></th>\n",
              "      <th>미세먼지(㎍/㎥)</th>\n",
              "    </tr>\n",
              "    <tr>\n",
              "      <th>년</th>\n",
              "      <th>월</th>\n",
              "      <th></th>\n",
              "    </tr>\n",
              "  </thead>\n",
              "  <tbody>\n",
              "    <tr>\n",
              "      <th rowspan=\"12\" valign=\"top\">2016</th>\n",
              "      <th>1</th>\n",
              "      <td>52.693844</td>\n",
              "    </tr>\n",
              "    <tr>\n",
              "      <th>2</th>\n",
              "      <td>48.283273</td>\n",
              "    </tr>\n",
              "    <tr>\n",
              "      <th>3</th>\n",
              "      <td>66.799503</td>\n",
              "    </tr>\n",
              "    <tr>\n",
              "      <th>4</th>\n",
              "      <td>73.327039</td>\n",
              "    </tr>\n",
              "    <tr>\n",
              "      <th>5</th>\n",
              "      <td>58.624172</td>\n",
              "    </tr>\n",
              "    <tr>\n",
              "      <th>6</th>\n",
              "      <td>47.872304</td>\n",
              "    </tr>\n",
              "    <tr>\n",
              "      <th>7</th>\n",
              "      <td>35.531092</td>\n",
              "    </tr>\n",
              "    <tr>\n",
              "      <th>8</th>\n",
              "      <td>37.124378</td>\n",
              "    </tr>\n",
              "    <tr>\n",
              "      <th>9</th>\n",
              "      <td>40.013841</td>\n",
              "    </tr>\n",
              "    <tr>\n",
              "      <th>10</th>\n",
              "      <td>40.191363</td>\n",
              "    </tr>\n",
              "    <tr>\n",
              "      <th>11</th>\n",
              "      <td>54.729965</td>\n",
              "    </tr>\n",
              "    <tr>\n",
              "      <th>12</th>\n",
              "      <td>50.693522</td>\n",
              "    </tr>\n",
              "    <tr>\n",
              "      <th rowspan=\"6\" valign=\"top\">2017</th>\n",
              "      <th>1</th>\n",
              "      <td>55.719138</td>\n",
              "    </tr>\n",
              "    <tr>\n",
              "      <th>2</th>\n",
              "      <td>49.554029</td>\n",
              "    </tr>\n",
              "    <tr>\n",
              "      <th>3</th>\n",
              "      <td>64.532392</td>\n",
              "    </tr>\n",
              "    <tr>\n",
              "      <th>4</th>\n",
              "      <td>59.582549</td>\n",
              "    </tr>\n",
              "    <tr>\n",
              "      <th>5</th>\n",
              "      <td>66.029826</td>\n",
              "    </tr>\n",
              "    <tr>\n",
              "      <th>6</th>\n",
              "      <td>43.878112</td>\n",
              "    </tr>\n",
              "  </tbody>\n",
              "</table>\n",
              "</div>"
            ],
            "text/plain": [
              "         미세먼지(㎍/㎥)\n",
              "년    월            \n",
              "2016 1   52.693844\n",
              "     2   48.283273\n",
              "     3   66.799503\n",
              "     4   73.327039\n",
              "     5   58.624172\n",
              "     6   47.872304\n",
              "     7   35.531092\n",
              "     8   37.124378\n",
              "     9   40.013841\n",
              "     10  40.191363\n",
              "     11  54.729965\n",
              "     12  50.693522\n",
              "2017 1   55.719138\n",
              "     2   49.554029\n",
              "     3   64.532392\n",
              "     4   59.582549\n",
              "     5   66.029826\n",
              "     6   43.878112"
            ]
          },
          "execution_count": 86,
          "metadata": {},
          "output_type": "execute_result"
        }
      ],
      "source": [
        "# [3-35] meandf에서 2017년 6월까지의 데이터만 출력합니다.\n",
        "meandf.loc[:(2017,6),:]"
      ]
    },
    {
      "cell_type": "code",
      "execution_count": 87,
      "metadata": {
        "id": "7zXo36sTh0hI"
      },
      "outputs": [],
      "source": [
        "# [3-36] meandf에 '결측치제거후' 및 '차이'라는 컬럼을 추가합니다.\n",
        "# '결측치제거후' 컬럼은 temp2에서 '년', '월'별 '미세먼지(㎍/㎥)' 데이터의 평균을 사용합니다.\n",
        "# '차이' 컬럼은 '미세먼지(㎍/㎥)' - '결측치제거후' 를 사용합니다.\n",
        "meandf['결측치제거후'] = temp2.groupby(['년','월'])[['미세먼지(㎍/㎥)']].mean()\n",
        "meandf['차이'] = meandf['미세먼지(㎍/㎥)'] - meandf['결측치제거후']"
      ]
    },
    {
      "cell_type": "code",
      "execution_count": 88,
      "metadata": {
        "id": "hNp-CcDflJhc"
      },
      "outputs": [
        {
          "data": {
            "text/html": [
              "<div>\n",
              "<style scoped>\n",
              "    .dataframe tbody tr th:only-of-type {\n",
              "        vertical-align: middle;\n",
              "    }\n",
              "\n",
              "    .dataframe tbody tr th {\n",
              "        vertical-align: top;\n",
              "    }\n",
              "\n",
              "    .dataframe thead th {\n",
              "        text-align: right;\n",
              "    }\n",
              "</style>\n",
              "<table border=\"1\" class=\"dataframe\">\n",
              "  <thead>\n",
              "    <tr style=\"text-align: right;\">\n",
              "      <th></th>\n",
              "      <th></th>\n",
              "      <th>미세먼지(㎍/㎥)</th>\n",
              "      <th>결측치제거후</th>\n",
              "      <th>차이</th>\n",
              "    </tr>\n",
              "    <tr>\n",
              "      <th>년</th>\n",
              "      <th>월</th>\n",
              "      <th></th>\n",
              "      <th></th>\n",
              "      <th></th>\n",
              "    </tr>\n",
              "  </thead>\n",
              "  <tbody>\n",
              "    <tr>\n",
              "      <th rowspan=\"12\" valign=\"top\">2016</th>\n",
              "      <th>1</th>\n",
              "      <td>52.693844</td>\n",
              "      <td>52.693844</td>\n",
              "      <td>0.000000</td>\n",
              "    </tr>\n",
              "    <tr>\n",
              "      <th>2</th>\n",
              "      <td>48.283273</td>\n",
              "      <td>48.283273</td>\n",
              "      <td>0.000000</td>\n",
              "    </tr>\n",
              "    <tr>\n",
              "      <th>3</th>\n",
              "      <td>66.799503</td>\n",
              "      <td>66.799503</td>\n",
              "      <td>0.000000</td>\n",
              "    </tr>\n",
              "    <tr>\n",
              "      <th>4</th>\n",
              "      <td>73.327039</td>\n",
              "      <td>73.327039</td>\n",
              "      <td>0.000000</td>\n",
              "    </tr>\n",
              "    <tr>\n",
              "      <th>5</th>\n",
              "      <td>58.624172</td>\n",
              "      <td>58.571784</td>\n",
              "      <td>0.052388</td>\n",
              "    </tr>\n",
              "    <tr>\n",
              "      <th>6</th>\n",
              "      <td>47.872304</td>\n",
              "      <td>47.872304</td>\n",
              "      <td>0.000000</td>\n",
              "    </tr>\n",
              "    <tr>\n",
              "      <th>7</th>\n",
              "      <td>35.531092</td>\n",
              "      <td>35.417235</td>\n",
              "      <td>0.113857</td>\n",
              "    </tr>\n",
              "    <tr>\n",
              "      <th>8</th>\n",
              "      <td>37.124378</td>\n",
              "      <td>37.147870</td>\n",
              "      <td>-0.023492</td>\n",
              "    </tr>\n",
              "    <tr>\n",
              "      <th>9</th>\n",
              "      <td>40.013841</td>\n",
              "      <td>40.051304</td>\n",
              "      <td>-0.037464</td>\n",
              "    </tr>\n",
              "    <tr>\n",
              "      <th>10</th>\n",
              "      <td>40.191363</td>\n",
              "      <td>40.128497</td>\n",
              "      <td>0.062867</td>\n",
              "    </tr>\n",
              "    <tr>\n",
              "      <th>11</th>\n",
              "      <td>54.729965</td>\n",
              "      <td>53.557128</td>\n",
              "      <td>1.172837</td>\n",
              "    </tr>\n",
              "    <tr>\n",
              "      <th>12</th>\n",
              "      <td>50.693522</td>\n",
              "      <td>50.028426</td>\n",
              "      <td>0.665095</td>\n",
              "    </tr>\n",
              "    <tr>\n",
              "      <th rowspan=\"6\" valign=\"top\">2017</th>\n",
              "      <th>1</th>\n",
              "      <td>55.719138</td>\n",
              "      <td>55.638219</td>\n",
              "      <td>0.080919</td>\n",
              "    </tr>\n",
              "    <tr>\n",
              "      <th>2</th>\n",
              "      <td>49.554029</td>\n",
              "      <td>49.554029</td>\n",
              "      <td>0.000000</td>\n",
              "    </tr>\n",
              "    <tr>\n",
              "      <th>3</th>\n",
              "      <td>64.532392</td>\n",
              "      <td>64.580699</td>\n",
              "      <td>-0.048307</td>\n",
              "    </tr>\n",
              "    <tr>\n",
              "      <th>4</th>\n",
              "      <td>59.582549</td>\n",
              "      <td>57.955078</td>\n",
              "      <td>1.627471</td>\n",
              "    </tr>\n",
              "    <tr>\n",
              "      <th>5</th>\n",
              "      <td>66.029826</td>\n",
              "      <td>64.139216</td>\n",
              "      <td>1.890610</td>\n",
              "    </tr>\n",
              "    <tr>\n",
              "      <th>6</th>\n",
              "      <td>43.878112</td>\n",
              "      <td>43.922865</td>\n",
              "      <td>-0.044753</td>\n",
              "    </tr>\n",
              "  </tbody>\n",
              "</table>\n",
              "</div>"
            ],
            "text/plain": [
              "         미세먼지(㎍/㎥)     결측치제거후        차이\n",
              "년    월                                 \n",
              "2016 1   52.693844  52.693844  0.000000\n",
              "     2   48.283273  48.283273  0.000000\n",
              "     3   66.799503  66.799503  0.000000\n",
              "     4   73.327039  73.327039  0.000000\n",
              "     5   58.624172  58.571784  0.052388\n",
              "     6   47.872304  47.872304  0.000000\n",
              "     7   35.531092  35.417235  0.113857\n",
              "     8   37.124378  37.147870 -0.023492\n",
              "     9   40.013841  40.051304 -0.037464\n",
              "     10  40.191363  40.128497  0.062867\n",
              "     11  54.729965  53.557128  1.172837\n",
              "     12  50.693522  50.028426  0.665095\n",
              "2017 1   55.719138  55.638219  0.080919\n",
              "     2   49.554029  49.554029  0.000000\n",
              "     3   64.532392  64.580699 -0.048307\n",
              "     4   59.582549  57.955078  1.627471\n",
              "     5   66.029826  64.139216  1.890610\n",
              "     6   43.878112  43.922865 -0.044753"
            ]
          },
          "execution_count": 88,
          "metadata": {},
          "output_type": "execute_result"
        }
      ],
      "source": [
        "# [3-37] meandf에서 2017년 6월까지의 데이터만 출력합니다.\n",
        "# 여러 개의 값에 차이가 있는 것을 확인 할 수 있습니다.\n",
        "meandf.loc[:(2017,6),:]"
      ]
    },
    {
      "cell_type": "code",
      "execution_count": 89,
      "metadata": {
        "id": "DHr2i8N0pAhk"
      },
      "outputs": [
        {
          "ename": "SyntaxError",
          "evalue": "invalid syntax (1174962211.py, line 1)",
          "output_type": "error",
          "traceback": [
            "\u001b[0;36m  Cell \u001b[0;32mIn[89], line 1\u001b[0;36m\u001b[0m\n\u001b[0;31m    temp2의 경우 NaN 데이터를 포함한 행 삭제시 평균 값이 달라진 것을 확인 할 수 있습니다.\u001b[0m\n\u001b[0m           ^\u001b[0m\n\u001b[0;31mSyntaxError\u001b[0m\u001b[0;31m:\u001b[0m invalid syntax\n"
          ]
        }
      ],
      "source": [
        "temp2의 경우 NaN 데이터를 포함한 행 삭제시 평균 값이 달라진 것을 확인 할 수 있습니다.\n",
        "삭제된 행 중, 미세먼지에 대한 값을 가진 것이 있기 때문입니다.\n",
        "\"결측치 제거시에는 주의가 필요합니다.\""
      ]
    },
    {
      "attachments": {},
      "cell_type": "markdown",
      "metadata": {
        "id": "zUu81TvMpZP6"
      },
      "source": [
        "### 3-5.결측치 대체 (평균값)"
      ]
    },
    {
      "attachments": {},
      "cell_type": "markdown",
      "metadata": {
        "id": "jLAOfR8upf9S"
      },
      "source": [
        "Series.mask(조건, 조건이 참일 때 사용할 값 또는 값 목록)\n",
        "- 조건이 True인 것에 대해 다른 값을 변경합니다.\n",
        "- s.isna() : NA값에 대해 True, NA아닌 것은 False\n",
        "\n",
        "Series.where(조건, 조건이 거짓일 때 사용할 값 또는 값 목록)\n",
        "- 조건이 False인 것에 대해서 다른 값으로 변경합니다.\n",
        "- s.notna() : NA값에 대해 False, NA아닌 것은 True"
      ]
    },
    {
      "cell_type": "code",
      "execution_count": 90,
      "metadata": {
        "id": "B_0qUz05yWyl"
      },
      "outputs": [
        {
          "data": {
            "text/html": [
              "<div>\n",
              "<style scoped>\n",
              "    .dataframe tbody tr th:only-of-type {\n",
              "        vertical-align: middle;\n",
              "    }\n",
              "\n",
              "    .dataframe tbody tr th {\n",
              "        vertical-align: top;\n",
              "    }\n",
              "\n",
              "    .dataframe thead th {\n",
              "        text-align: right;\n",
              "    }\n",
              "</style>\n",
              "<table border=\"1\" class=\"dataframe\">\n",
              "  <thead>\n",
              "    <tr style=\"text-align: right;\">\n",
              "      <th></th>\n",
              "      <th>A</th>\n",
              "      <th>B</th>\n",
              "      <th>C</th>\n",
              "    </tr>\n",
              "  </thead>\n",
              "  <tbody>\n",
              "    <tr>\n",
              "      <th>0</th>\n",
              "      <td>NaN</td>\n",
              "      <td>7</td>\n",
              "      <td>1</td>\n",
              "    </tr>\n",
              "    <tr>\n",
              "      <th>1</th>\n",
              "      <td>2.0</td>\n",
              "      <td>8</td>\n",
              "      <td>2</td>\n",
              "    </tr>\n",
              "    <tr>\n",
              "      <th>2</th>\n",
              "      <td>NaN</td>\n",
              "      <td>9</td>\n",
              "      <td>4</td>\n",
              "    </tr>\n",
              "    <tr>\n",
              "      <th>3</th>\n",
              "      <td>4.0</td>\n",
              "      <td>10</td>\n",
              "      <td>8</td>\n",
              "    </tr>\n",
              "  </tbody>\n",
              "</table>\n",
              "</div>"
            ],
            "text/plain": [
              "     A   B  C\n",
              "0  NaN   7  1\n",
              "1  2.0   8  2\n",
              "2  NaN   9  4\n",
              "3  4.0  10  8"
            ]
          },
          "execution_count": 90,
          "metadata": {},
          "output_type": "execute_result"
        }
      ],
      "source": [
        "# [3-38] where 연습을 위한 temp 생성\n",
        "import numpy as np\n",
        "temp = pd.DataFrame({'A':[np.nan, 2, np.nan, 4],\n",
        "                     'B':[7, 8, 9, 10],\n",
        "                     'C':[1, 2, 4, 8]})\n",
        "temp"
      ]
    },
    {
      "cell_type": "code",
      "execution_count": 91,
      "metadata": {
        "id": "7gRuYU1CBGfj"
      },
      "outputs": [
        {
          "data": {
            "text/plain": [
              "0    7.0\n",
              "1    2.0\n",
              "2    9.0\n",
              "3    4.0\n",
              "Name: A, dtype: float64"
            ]
          },
          "execution_count": 91,
          "metadata": {},
          "output_type": "execute_result"
        }
      ],
      "source": [
        "# temp의 'A' 열에 대해서 결측치인 경우 'B'의 값으로 대체합니다.\n",
        "temp['A'].mask(temp['A'].isna(), temp['B'])"
      ]
    },
    {
      "cell_type": "code",
      "execution_count": 92,
      "metadata": {
        "id": "2pju3L-xAZKo"
      },
      "outputs": [
        {
          "data": {
            "text/plain": [
              "0    1.0\n",
              "1    2.0\n",
              "2    4.0\n",
              "3    4.0\n",
              "Name: A, dtype: float64"
            ]
          },
          "execution_count": 92,
          "metadata": {},
          "output_type": "execute_result"
        }
      ],
      "source": [
        "# temp의 'A' 열에 대해서 결측치인 경우 'C'의 값으로 대체합니다.\n",
        "temp['A'].where(temp['A'].notna(), temp['C'])"
      ]
    },
    {
      "attachments": {},
      "cell_type": "markdown",
      "metadata": {
        "id": "bRe5pYtr0O0V"
      },
      "source": [
        "df.groupby(그룹기준컬럼)[함수를 적용할 컬럼명].transform(함수)\n",
        "- index가 유지 되면서 그룹별 함수를 적용함\n",
        "- agg는 index가 그룹기준컬럼으로 변경됨"
      ]
    },
    {
      "cell_type": "code",
      "execution_count": 93,
      "metadata": {
        "colab": {
          "base_uri": "https://localhost:8080/"
        },
        "id": "yuTXAKJhR3rA",
        "outputId": "174eabff-9884-47f4-d1b3-cb68320ed042"
      },
      "outputs": [
        {
          "data": {
            "text/plain": [
              "측정일시\n",
              "2016-01-01    70.736842\n",
              "2016-01-02    53.789474\n",
              "2016-01-03    98.861111\n",
              "2016-01-04    76.205128\n",
              "2016-01-05    34.333333\n",
              "                ...    \n",
              "2020-08-14    31.660000\n",
              "2020-08-15    37.400000\n",
              "2020-08-16    22.380000\n",
              "2020-08-17    24.980000\n",
              "2020-08-18    27.080000\n",
              "Name: 미세먼지(㎍/㎥), Length: 1403, dtype: float64"
            ]
          },
          "execution_count": 93,
          "metadata": {},
          "output_type": "execute_result"
        }
      ],
      "source": [
        "# [앗! 살펴 보세요 ^^]\n",
        "df_dust.groupby(['측정일시'])['미세먼지(㎍/㎥)'].mean()  # <- 동일한 값을 갖음.  MultiIndex 아님"
      ]
    },
    {
      "cell_type": "code",
      "execution_count": 94,
      "metadata": {
        "id": "bOl8sKzEwcR8"
      },
      "outputs": [
        {
          "data": {
            "text/plain": [
              "0        70.736842\n",
              "1        70.736842\n",
              "2        70.736842\n",
              "3        70.736842\n",
              "4        70.736842\n",
              "           ...    \n",
              "60203    27.080000\n",
              "60204    27.080000\n",
              "60205    27.080000\n",
              "60206    27.080000\n",
              "60207    27.080000\n",
              "Name: 미세먼지(㎍/㎥), Length: 60208, dtype: float64"
            ]
          },
          "execution_count": 94,
          "metadata": {},
          "output_type": "execute_result"
        }
      ],
      "source": [
        "# [3-39] df_dust의 일자(년, 월, 일)별 '미세먼지(㎍/㎥)'의 평균을 구합니다.\n",
        "# 이때, index 변경을 하지 않기 위해 transform을 사용하고, fine_dust라는 이름을 지정합니다.\n",
        "fine_dust = df_dust.groupby(['측정일시'])['미세먼지(㎍/㎥)'].transform('mean')\n",
        "fine_dust"
      ]
    },
    {
      "cell_type": "code",
      "execution_count": 95,
      "metadata": {
        "id": "STWM8k3kzin_"
      },
      "outputs": [
        {
          "data": {
            "text/plain": [
              "(881, 0)"
            ]
          },
          "execution_count": 95,
          "metadata": {},
          "output_type": "execute_result"
        }
      ],
      "source": [
        "# [3-40] df_dust['미세먼지(㎍/㎥)'], fine_dust의 결측치 값의 개수를 구합니다.\n",
        "df_dust['미세먼지(㎍/㎥)'].isna().sum(), fine_dust.isna().sum()"
      ]
    },
    {
      "cell_type": "code",
      "execution_count": 96,
      "metadata": {
        "id": "zFobgJbXx6Tv"
      },
      "outputs": [],
      "source": [
        "# [3-41] df_dust의 '미세먼지(㎍/㎥)'의 결측치를 fine_dust의 값으로 채우기 합니다.\n",
        "# 채우기 한 결과를 다시 df_dust['미세먼지(㎍/㎥)']로 저장합니다.\n",
        "df_dust['미세먼지(㎍/㎥)'] = df_dust['미세먼지(㎍/㎥)'].mask(df_dust['미세먼지(㎍/㎥)'].isna(), fine_dust)"
      ]
    },
    {
      "cell_type": "code",
      "execution_count": 97,
      "metadata": {
        "id": "W7n605TQzus1"
      },
      "outputs": [
        {
          "data": {
            "text/plain": [
              "측정일시             0\n",
              "측정소명             0\n",
              "년                0\n",
              "월                0\n",
              "일                0\n",
              "오존농도(ppm)     2133\n",
              "미세먼지(㎍/㎥)        0\n",
              "초미세먼지(㎍/㎥)    1779\n",
              "dtype: int64"
            ]
          },
          "execution_count": 97,
          "metadata": {},
          "output_type": "execute_result"
        }
      ],
      "source": [
        "# [3-42] df_dust의 컬럼별 결측치 개수를 확인하여 봅니다.\n",
        "# 미세먼지에 대한 결측치가 제거 되었습니다.\n",
        "df_dust.isna().sum()"
      ]
    },
    {
      "cell_type": "code",
      "execution_count": 98,
      "metadata": {
        "id": "mxMz7EvV4Fy5"
      },
      "outputs": [
        {
          "data": {
            "text/html": [
              "<div>\n",
              "<style scoped>\n",
              "    .dataframe tbody tr th:only-of-type {\n",
              "        vertical-align: middle;\n",
              "    }\n",
              "\n",
              "    .dataframe tbody tr th {\n",
              "        vertical-align: top;\n",
              "    }\n",
              "\n",
              "    .dataframe thead th {\n",
              "        text-align: right;\n",
              "    }\n",
              "</style>\n",
              "<table border=\"1\" class=\"dataframe\">\n",
              "  <thead>\n",
              "    <tr style=\"text-align: right;\">\n",
              "      <th></th>\n",
              "      <th></th>\n",
              "      <th>미세먼지(㎍/㎥)</th>\n",
              "      <th>결측치제거후</th>\n",
              "      <th>차이</th>\n",
              "      <th>결측치대체</th>\n",
              "      <th>차이2</th>\n",
              "    </tr>\n",
              "    <tr>\n",
              "      <th>년</th>\n",
              "      <th>월</th>\n",
              "      <th></th>\n",
              "      <th></th>\n",
              "      <th></th>\n",
              "      <th></th>\n",
              "      <th></th>\n",
              "    </tr>\n",
              "  </thead>\n",
              "  <tbody>\n",
              "    <tr>\n",
              "      <th rowspan=\"5\" valign=\"top\">2016</th>\n",
              "      <th>1</th>\n",
              "      <td>52.693844</td>\n",
              "      <td>52.693844</td>\n",
              "      <td>0.000000</td>\n",
              "      <td>52.752104</td>\n",
              "      <td>-0.058261</td>\n",
              "    </tr>\n",
              "    <tr>\n",
              "      <th>2</th>\n",
              "      <td>48.283273</td>\n",
              "      <td>48.283273</td>\n",
              "      <td>0.000000</td>\n",
              "      <td>48.293733</td>\n",
              "      <td>-0.010460</td>\n",
              "    </tr>\n",
              "    <tr>\n",
              "      <th>3</th>\n",
              "      <td>66.799503</td>\n",
              "      <td>66.799503</td>\n",
              "      <td>0.000000</td>\n",
              "      <td>66.850594</td>\n",
              "      <td>-0.051091</td>\n",
              "    </tr>\n",
              "    <tr>\n",
              "      <th>4</th>\n",
              "      <td>73.327039</td>\n",
              "      <td>73.327039</td>\n",
              "      <td>0.000000</td>\n",
              "      <td>73.478543</td>\n",
              "      <td>-0.151504</td>\n",
              "    </tr>\n",
              "    <tr>\n",
              "      <th>5</th>\n",
              "      <td>58.624172</td>\n",
              "      <td>58.571784</td>\n",
              "      <td>0.052388</td>\n",
              "      <td>58.610857</td>\n",
              "      <td>0.013315</td>\n",
              "    </tr>\n",
              "  </tbody>\n",
              "</table>\n",
              "</div>"
            ],
            "text/plain": [
              "        미세먼지(㎍/㎥)     결측치제거후        차이      결측치대체       차이2\n",
              "년    월                                                     \n",
              "2016 1  52.693844  52.693844  0.000000  52.752104 -0.058261\n",
              "     2  48.283273  48.283273  0.000000  48.293733 -0.010460\n",
              "     3  66.799503  66.799503  0.000000  66.850594 -0.051091\n",
              "     4  73.327039  73.327039  0.000000  73.478543 -0.151504\n",
              "     5  58.624172  58.571784  0.052388  58.610857  0.013315"
            ]
          },
          "execution_count": 98,
          "metadata": {},
          "output_type": "execute_result"
        }
      ],
      "source": [
        "# [3-43] meandf에 '결측치대체' 및 '차이2'라는 컬럼을 추가합니다.\n",
        "# '결측치대체' 컬럼은 df_dust에서 '년', '월'별 '미세먼지(㎍/㎥)' 데이터의 평균을 사용합니다.\n",
        "# '차이2' 컬럼은 '미세먼지(㎍/㎥)' - '결측치대체'를 사용합니다.\n",
        "meandf['결측치대체'] = df_dust.groupby(['년','월'])['미세먼지(㎍/㎥)'].mean()\n",
        "meandf['차이2'] = meandf['미세먼지(㎍/㎥)'] - meandf['결측치대체']\n",
        "meandf.head()"
      ]
    },
    {
      "cell_type": "code",
      "execution_count": 99,
      "metadata": {},
      "outputs": [
        {
          "data": {
            "text/plain": [
              "(7.062269281823493, 2.76528301020522)"
            ]
          },
          "execution_count": 99,
          "metadata": {},
          "output_type": "execute_result"
        }
      ],
      "source": [
        "meandf['차이'].abs().sum(), meandf['차이2'].abs().sum()"
      ]
    },
    {
      "cell_type": "code",
      "execution_count": 100,
      "metadata": {
        "id": "t03rSeti588D"
      },
      "outputs": [
        {
          "data": {
            "text/html": [
              "<div>\n",
              "<style scoped>\n",
              "    .dataframe tbody tr th:only-of-type {\n",
              "        vertical-align: middle;\n",
              "    }\n",
              "\n",
              "    .dataframe tbody tr th {\n",
              "        vertical-align: top;\n",
              "    }\n",
              "\n",
              "    .dataframe thead th {\n",
              "        text-align: right;\n",
              "    }\n",
              "</style>\n",
              "<table border=\"1\" class=\"dataframe\">\n",
              "  <thead>\n",
              "    <tr style=\"text-align: right;\">\n",
              "      <th></th>\n",
              "      <th></th>\n",
              "      <th>미세먼지(㎍/㎥)</th>\n",
              "      <th>결측치제거후</th>\n",
              "      <th>차이</th>\n",
              "      <th>결측치대체</th>\n",
              "      <th>차이2</th>\n",
              "    </tr>\n",
              "    <tr>\n",
              "      <th>년</th>\n",
              "      <th>월</th>\n",
              "      <th></th>\n",
              "      <th></th>\n",
              "      <th></th>\n",
              "      <th></th>\n",
              "      <th></th>\n",
              "    </tr>\n",
              "  </thead>\n",
              "  <tbody>\n",
              "    <tr>\n",
              "      <th rowspan=\"12\" valign=\"top\">2016</th>\n",
              "      <th>1</th>\n",
              "      <td>52.693844</td>\n",
              "      <td>52.693844</td>\n",
              "      <td>0.000000</td>\n",
              "      <td>52.752104</td>\n",
              "      <td>-0.058261</td>\n",
              "    </tr>\n",
              "    <tr>\n",
              "      <th>2</th>\n",
              "      <td>48.283273</td>\n",
              "      <td>48.283273</td>\n",
              "      <td>0.000000</td>\n",
              "      <td>48.293733</td>\n",
              "      <td>-0.010460</td>\n",
              "    </tr>\n",
              "    <tr>\n",
              "      <th>3</th>\n",
              "      <td>66.799503</td>\n",
              "      <td>66.799503</td>\n",
              "      <td>0.000000</td>\n",
              "      <td>66.850594</td>\n",
              "      <td>-0.051091</td>\n",
              "    </tr>\n",
              "    <tr>\n",
              "      <th>4</th>\n",
              "      <td>73.327039</td>\n",
              "      <td>73.327039</td>\n",
              "      <td>0.000000</td>\n",
              "      <td>73.478543</td>\n",
              "      <td>-0.151504</td>\n",
              "    </tr>\n",
              "    <tr>\n",
              "      <th>5</th>\n",
              "      <td>58.624172</td>\n",
              "      <td>58.571784</td>\n",
              "      <td>0.052388</td>\n",
              "      <td>58.610857</td>\n",
              "      <td>0.013315</td>\n",
              "    </tr>\n",
              "    <tr>\n",
              "      <th>6</th>\n",
              "      <td>47.872304</td>\n",
              "      <td>47.872304</td>\n",
              "      <td>0.000000</td>\n",
              "      <td>47.777946</td>\n",
              "      <td>0.094358</td>\n",
              "    </tr>\n",
              "    <tr>\n",
              "      <th>7</th>\n",
              "      <td>35.531092</td>\n",
              "      <td>35.417235</td>\n",
              "      <td>0.113857</td>\n",
              "      <td>35.423542</td>\n",
              "      <td>0.107550</td>\n",
              "    </tr>\n",
              "    <tr>\n",
              "      <th>8</th>\n",
              "      <td>37.124378</td>\n",
              "      <td>37.147870</td>\n",
              "      <td>-0.023492</td>\n",
              "      <td>37.107287</td>\n",
              "      <td>0.017091</td>\n",
              "    </tr>\n",
              "    <tr>\n",
              "      <th>9</th>\n",
              "      <td>40.013841</td>\n",
              "      <td>40.051304</td>\n",
              "      <td>-0.037464</td>\n",
              "      <td>40.036313</td>\n",
              "      <td>-0.022472</td>\n",
              "    </tr>\n",
              "    <tr>\n",
              "      <th>10</th>\n",
              "      <td>40.191363</td>\n",
              "      <td>40.128497</td>\n",
              "      <td>0.062867</td>\n",
              "      <td>40.244174</td>\n",
              "      <td>-0.052811</td>\n",
              "    </tr>\n",
              "    <tr>\n",
              "      <th>11</th>\n",
              "      <td>54.729965</td>\n",
              "      <td>53.557128</td>\n",
              "      <td>1.172837</td>\n",
              "      <td>54.780218</td>\n",
              "      <td>-0.050252</td>\n",
              "    </tr>\n",
              "    <tr>\n",
              "      <th>12</th>\n",
              "      <td>50.693522</td>\n",
              "      <td>50.028426</td>\n",
              "      <td>0.665095</td>\n",
              "      <td>50.714662</td>\n",
              "      <td>-0.021140</td>\n",
              "    </tr>\n",
              "    <tr>\n",
              "      <th rowspan=\"6\" valign=\"top\">2017</th>\n",
              "      <th>1</th>\n",
              "      <td>55.719138</td>\n",
              "      <td>55.638219</td>\n",
              "      <td>0.080919</td>\n",
              "      <td>55.730312</td>\n",
              "      <td>-0.011174</td>\n",
              "    </tr>\n",
              "    <tr>\n",
              "      <th>2</th>\n",
              "      <td>49.554029</td>\n",
              "      <td>49.554029</td>\n",
              "      <td>0.000000</td>\n",
              "      <td>49.554029</td>\n",
              "      <td>0.000000</td>\n",
              "    </tr>\n",
              "    <tr>\n",
              "      <th>3</th>\n",
              "      <td>64.532392</td>\n",
              "      <td>64.580699</td>\n",
              "      <td>-0.048307</td>\n",
              "      <td>64.535588</td>\n",
              "      <td>-0.003196</td>\n",
              "    </tr>\n",
              "    <tr>\n",
              "      <th>4</th>\n",
              "      <td>59.582549</td>\n",
              "      <td>57.955078</td>\n",
              "      <td>1.627471</td>\n",
              "      <td>59.576136</td>\n",
              "      <td>0.006413</td>\n",
              "    </tr>\n",
              "    <tr>\n",
              "      <th>5</th>\n",
              "      <td>66.029826</td>\n",
              "      <td>64.139216</td>\n",
              "      <td>1.890610</td>\n",
              "      <td>66.012864</td>\n",
              "      <td>0.016962</td>\n",
              "    </tr>\n",
              "    <tr>\n",
              "      <th>6</th>\n",
              "      <td>43.878112</td>\n",
              "      <td>43.922865</td>\n",
              "      <td>-0.044753</td>\n",
              "      <td>43.886280</td>\n",
              "      <td>-0.008168</td>\n",
              "    </tr>\n",
              "  </tbody>\n",
              "</table>\n",
              "</div>"
            ],
            "text/plain": [
              "         미세먼지(㎍/㎥)     결측치제거후        차이      결측치대체       차이2\n",
              "년    월                                                      \n",
              "2016 1   52.693844  52.693844  0.000000  52.752104 -0.058261\n",
              "     2   48.283273  48.283273  0.000000  48.293733 -0.010460\n",
              "     3   66.799503  66.799503  0.000000  66.850594 -0.051091\n",
              "     4   73.327039  73.327039  0.000000  73.478543 -0.151504\n",
              "     5   58.624172  58.571784  0.052388  58.610857  0.013315\n",
              "     6   47.872304  47.872304  0.000000  47.777946  0.094358\n",
              "     7   35.531092  35.417235  0.113857  35.423542  0.107550\n",
              "     8   37.124378  37.147870 -0.023492  37.107287  0.017091\n",
              "     9   40.013841  40.051304 -0.037464  40.036313 -0.022472\n",
              "     10  40.191363  40.128497  0.062867  40.244174 -0.052811\n",
              "     11  54.729965  53.557128  1.172837  54.780218 -0.050252\n",
              "     12  50.693522  50.028426  0.665095  50.714662 -0.021140\n",
              "2017 1   55.719138  55.638219  0.080919  55.730312 -0.011174\n",
              "     2   49.554029  49.554029  0.000000  49.554029  0.000000\n",
              "     3   64.532392  64.580699 -0.048307  64.535588 -0.003196\n",
              "     4   59.582549  57.955078  1.627471  59.576136  0.006413\n",
              "     5   66.029826  64.139216  1.890610  66.012864  0.016962\n",
              "     6   43.878112  43.922865 -0.044753  43.886280 -0.008168"
            ]
          },
          "execution_count": 100,
          "metadata": {},
          "output_type": "execute_result"
        }
      ],
      "source": [
        "# [3-44] meandf에서 2017년 6월까지의 데이터만 출력합니다.\n",
        "# 차이가 없는 것을 확인합니다.\n",
        "meandf.loc[:(2017,6),]"
      ]
    },
    {
      "cell_type": "code",
      "execution_count": 101,
      "metadata": {
        "id": "B14wjpS9z2Oc"
      },
      "outputs": [],
      "source": [
        "# [3-45] df_dust의 '오존농도(ppm)', '초미세먼지(㎍/㎥)' 컬럼에 대해서도\n",
        "# '미세먼지(㎍/㎥)'와 같이 동일한 '년', '월', '일'의 평균 값으로 채우기 합니다.\n",
        "fine_dust = df_dust.groupby('측정일시')['미세먼지(㎍/㎥)'].transform('mean')\n",
        "s = df_dust['미세먼지(㎍/㎥)']\n",
        "df_dust['미세먼지(㎍/㎥)'] = s.mask(s.isna(), fine_dust)"
      ]
    },
    {
      "cell_type": "code",
      "execution_count": 102,
      "metadata": {},
      "outputs": [],
      "source": [
        "# [3-45] df_dust의 '오존농도(ppm)', '초미세먼지(㎍/㎥)' 컬럼에 대해서도\n",
        "# '미세먼지(㎍/㎥)'와 같이 동일한 '년', '월', '일'의 평균 값으로 채우기 합니다.\n",
        "fine_dust = df_dust.groupby('측정일시')['오존농도(ppm)'].transform('mean')\n",
        "s = df_dust['오존농도(ppm)']\n",
        "df_dust['오존농도(ppm)'] = s.mask(s.isna(), fine_dust)\n",
        "\n",
        "fine_dust = df_dust.groupby('측정일시')['초미세먼지(㎍/㎥)'].transform('mean')\n",
        "s = df_dust['초미세먼지(㎍/㎥)']\n",
        "df_dust['초미세먼지(㎍/㎥)'] = s.mask(s.isna(), fine_dust)"
      ]
    },
    {
      "cell_type": "code",
      "execution_count": 103,
      "metadata": {
        "id": "x_EUIqZC0dFM"
      },
      "outputs": [
        {
          "data": {
            "text/plain": [
              "0"
            ]
          },
          "execution_count": 103,
          "metadata": {},
          "output_type": "execute_result"
        }
      ],
      "source": [
        "# [3-46] df_dust의 컬럼별 결측치 개수를 확인합니다.\n",
        "df_dust.isna().sum().sum()"
      ]
    },
    {
      "cell_type": "code",
      "execution_count": 104,
      "metadata": {
        "id": "BsVAn4o4Cqzw"
      },
      "outputs": [],
      "source": [
        "# 필요시 저장하였다가 가져와 사용하면 됩니다 ^^!\n",
        "df_dust.to_csv('fine_dust02.csv', index=False)"
      ]
    },
    {
      "cell_type": "code",
      "execution_count": 105,
      "metadata": {
        "id": "_cjCpYLZk_cx"
      },
      "outputs": [
        {
          "data": {
            "text/plain": [
              "측정일시          0\n",
              "측정소명          0\n",
              "년             0\n",
              "월             0\n",
              "일             0\n",
              "오존농도(ppm)     0\n",
              "미세먼지(㎍/㎥)     0\n",
              "초미세먼지(㎍/㎥)    0\n",
              "dtype: int64"
            ]
          },
          "execution_count": 105,
          "metadata": {},
          "output_type": "execute_result"
        }
      ],
      "source": [
        "df_dust2 = pd.read_csv('fine_dust02.csv')\n",
        "df_dust2.isna().sum()"
      ]
    },
    {
      "cell_type": "code",
      "execution_count": 106,
      "metadata": {
        "id": "TftDH7dsk3w5"
      },
      "outputs": [],
      "source": [
        "import shelve\n",
        "with shelve.open('mydata') as data:\n",
        "    data['fine_dust02'] = df_dust"
      ]
    },
    {
      "cell_type": "code",
      "execution_count": 107,
      "metadata": {
        "id": "gwF_Q5O0k8gA"
      },
      "outputs": [],
      "source": [
        "import shelve\n",
        "with shelve.open('mydata') as data:\n",
        "    df_dust3 = data['fine_dust02']"
      ]
    },
    {
      "attachments": {},
      "cell_type": "markdown",
      "metadata": {
        "id": "CmDJne4y0kwr"
      },
      "source": [
        "### 3-6. 미세먼지 분석"
      ]
    },
    {
      "cell_type": "code",
      "execution_count": 108,
      "metadata": {
        "id": "_Ujsl7UZZUmF"
      },
      "outputs": [],
      "source": [
        "# 데이터 값 실수. 소수점 넷째자리까지 표시\n",
        "pd.options.display.float_format = '{:.2f}'.format"
      ]
    },
    {
      "cell_type": "code",
      "execution_count": 109,
      "metadata": {
        "colab": {
          "base_uri": "https://localhost:8080/",
          "height": 112
        },
        "id": "RkDaZnXJ9zLg",
        "outputId": "2f929d84-bf91-4ea4-98c7-8f469c6123cc"
      },
      "outputs": [
        {
          "data": {
            "text/html": [
              "<div>\n",
              "<style scoped>\n",
              "    .dataframe tbody tr th:only-of-type {\n",
              "        vertical-align: middle;\n",
              "    }\n",
              "\n",
              "    .dataframe tbody tr th {\n",
              "        vertical-align: top;\n",
              "    }\n",
              "\n",
              "    .dataframe thead th {\n",
              "        text-align: right;\n",
              "    }\n",
              "</style>\n",
              "<table border=\"1\" class=\"dataframe\">\n",
              "  <thead>\n",
              "    <tr style=\"text-align: right;\">\n",
              "      <th></th>\n",
              "      <th>측정일시</th>\n",
              "      <th>측정소명</th>\n",
              "      <th>년</th>\n",
              "      <th>월</th>\n",
              "      <th>일</th>\n",
              "      <th>오존농도(ppm)</th>\n",
              "      <th>미세먼지(㎍/㎥)</th>\n",
              "      <th>초미세먼지(㎍/㎥)</th>\n",
              "    </tr>\n",
              "  </thead>\n",
              "  <tbody>\n",
              "    <tr>\n",
              "      <th>0</th>\n",
              "      <td>2016-01-01</td>\n",
              "      <td>강남구</td>\n",
              "      <td>2016</td>\n",
              "      <td>1</td>\n",
              "      <td>1</td>\n",
              "      <td>0.01</td>\n",
              "      <td>73.00</td>\n",
              "      <td>44.00</td>\n",
              "    </tr>\n",
              "    <tr>\n",
              "      <th>1</th>\n",
              "      <td>2016-01-01</td>\n",
              "      <td>성북구</td>\n",
              "      <td>2016</td>\n",
              "      <td>1</td>\n",
              "      <td>1</td>\n",
              "      <td>0.01</td>\n",
              "      <td>71.00</td>\n",
              "      <td>45.00</td>\n",
              "    </tr>\n",
              "  </tbody>\n",
              "</table>\n",
              "</div>"
            ],
            "text/plain": [
              "        측정일시 측정소명     년  월  일  오존농도(ppm)  미세먼지(㎍/㎥)  초미세먼지(㎍/㎥)\n",
              "0 2016-01-01  강남구  2016  1  1       0.01      73.00       44.00\n",
              "1 2016-01-01  성북구  2016  1  1       0.01      71.00       45.00"
            ]
          },
          "execution_count": 109,
          "metadata": {},
          "output_type": "execute_result"
        }
      ],
      "source": [
        "# [3-47] df_dust의 첫 2개 행을 출력합니다.\n",
        "df_dust.head(2)"
      ]
    },
    {
      "attachments": {},
      "cell_type": "markdown",
      "metadata": {
        "id": "jMdl0wvmiEED"
      },
      "source": [
        "행, 열에 모두 group을 지정하여 통계값 구하기\n",
        "- DataFrame.pivot_table(index=행방향그룹열이름, columns=열방향그룹열이름, values=집계대상열이름, aggfunc=구할 통계값)\n",
        "- 각각에 대해 단독 또는 목록을 사용할 수 있음\n",
        "- index, columns는 범주형, values는 연속형 사용\n",
        "- values, aggfunc의 경우 단독의 경우 출력에 표시되지 않으나, 목록은 표시됨"
      ]
    },
    {
      "cell_type": "code",
      "execution_count": 110,
      "metadata": {
        "id": "U87Ata34YaNT"
      },
      "outputs": [
        {
          "data": {
            "text/html": [
              "<div>\n",
              "<style scoped>\n",
              "    .dataframe tbody tr th:only-of-type {\n",
              "        vertical-align: middle;\n",
              "    }\n",
              "\n",
              "    .dataframe tbody tr th {\n",
              "        vertical-align: top;\n",
              "    }\n",
              "\n",
              "    .dataframe thead tr th {\n",
              "        text-align: left;\n",
              "    }\n",
              "\n",
              "    .dataframe thead tr:last-of-type th {\n",
              "        text-align: right;\n",
              "    }\n",
              "</style>\n",
              "<table border=\"1\" class=\"dataframe\">\n",
              "  <thead>\n",
              "    <tr>\n",
              "      <th></th>\n",
              "      <th colspan=\"5\" halign=\"left\">mean</th>\n",
              "      <th colspan=\"5\" halign=\"left\">min</th>\n",
              "      <th colspan=\"5\" halign=\"left\">max</th>\n",
              "    </tr>\n",
              "    <tr>\n",
              "      <th>년</th>\n",
              "      <th>2016</th>\n",
              "      <th>2017</th>\n",
              "      <th>2018</th>\n",
              "      <th>2019</th>\n",
              "      <th>2020</th>\n",
              "      <th>2016</th>\n",
              "      <th>2017</th>\n",
              "      <th>2018</th>\n",
              "      <th>2019</th>\n",
              "      <th>2020</th>\n",
              "      <th>2016</th>\n",
              "      <th>2017</th>\n",
              "      <th>2018</th>\n",
              "      <th>2019</th>\n",
              "      <th>2020</th>\n",
              "    </tr>\n",
              "    <tr>\n",
              "      <th>월</th>\n",
              "      <th></th>\n",
              "      <th></th>\n",
              "      <th></th>\n",
              "      <th></th>\n",
              "      <th></th>\n",
              "      <th></th>\n",
              "      <th></th>\n",
              "      <th></th>\n",
              "      <th></th>\n",
              "      <th></th>\n",
              "      <th></th>\n",
              "      <th></th>\n",
              "      <th></th>\n",
              "      <th></th>\n",
              "      <th></th>\n",
              "    </tr>\n",
              "  </thead>\n",
              "  <tbody>\n",
              "    <tr>\n",
              "      <th>1</th>\n",
              "      <td>52.75</td>\n",
              "      <td>55.73</td>\n",
              "      <td>53.88</td>\n",
              "      <td>NaN</td>\n",
              "      <td>43.18</td>\n",
              "      <td>22.00</td>\n",
              "      <td>14.00</td>\n",
              "      <td>15.00</td>\n",
              "      <td>NaN</td>\n",
              "      <td>3.00</td>\n",
              "      <td>127.00</td>\n",
              "      <td>151.00</td>\n",
              "      <td>154.00</td>\n",
              "      <td>NaN</td>\n",
              "      <td>90.00</td>\n",
              "    </tr>\n",
              "    <tr>\n",
              "      <th>2</th>\n",
              "      <td>48.29</td>\n",
              "      <td>49.55</td>\n",
              "      <td>56.07</td>\n",
              "      <td>NaN</td>\n",
              "      <td>41.95</td>\n",
              "      <td>9.00</td>\n",
              "      <td>23.00</td>\n",
              "      <td>22.00</td>\n",
              "      <td>NaN</td>\n",
              "      <td>7.00</td>\n",
              "      <td>124.00</td>\n",
              "      <td>135.00</td>\n",
              "      <td>127.00</td>\n",
              "      <td>NaN</td>\n",
              "      <td>103.00</td>\n",
              "    </tr>\n",
              "    <tr>\n",
              "      <th>3</th>\n",
              "      <td>66.85</td>\n",
              "      <td>64.54</td>\n",
              "      <td>43.90</td>\n",
              "      <td>NaN</td>\n",
              "      <td>46.35</td>\n",
              "      <td>18.00</td>\n",
              "      <td>19.00</td>\n",
              "      <td>6.00</td>\n",
              "      <td>NaN</td>\n",
              "      <td>18.00</td>\n",
              "      <td>166.00</td>\n",
              "      <td>149.00</td>\n",
              "      <td>141.00</td>\n",
              "      <td>NaN</td>\n",
              "      <td>142.00</td>\n",
              "    </tr>\n",
              "    <tr>\n",
              "      <th>4</th>\n",
              "      <td>73.48</td>\n",
              "      <td>59.58</td>\n",
              "      <td>51.98</td>\n",
              "      <td>NaN</td>\n",
              "      <td>45.61</td>\n",
              "      <td>21.00</td>\n",
              "      <td>14.00</td>\n",
              "      <td>5.00</td>\n",
              "      <td>NaN</td>\n",
              "      <td>11.00</td>\n",
              "      <td>270.00</td>\n",
              "      <td>134.00</td>\n",
              "      <td>117.00</td>\n",
              "      <td>NaN</td>\n",
              "      <td>126.00</td>\n",
              "    </tr>\n",
              "    <tr>\n",
              "      <th>5</th>\n",
              "      <td>58.61</td>\n",
              "      <td>66.01</td>\n",
              "      <td>40.38</td>\n",
              "      <td>NaN</td>\n",
              "      <td>36.47</td>\n",
              "      <td>14.00</td>\n",
              "      <td>15.00</td>\n",
              "      <td>4.00</td>\n",
              "      <td>NaN</td>\n",
              "      <td>5.00</td>\n",
              "      <td>153.00</td>\n",
              "      <td>243.00</td>\n",
              "      <td>105.00</td>\n",
              "      <td>NaN</td>\n",
              "      <td>167.00</td>\n",
              "    </tr>\n",
              "    <tr>\n",
              "      <th>6</th>\n",
              "      <td>47.78</td>\n",
              "      <td>43.89</td>\n",
              "      <td>50.02</td>\n",
              "      <td>NaN</td>\n",
              "      <td>38.04</td>\n",
              "      <td>15.00</td>\n",
              "      <td>11.00</td>\n",
              "      <td>30.00</td>\n",
              "      <td>NaN</td>\n",
              "      <td>4.00</td>\n",
              "      <td>122.00</td>\n",
              "      <td>85.00</td>\n",
              "      <td>85.00</td>\n",
              "      <td>NaN</td>\n",
              "      <td>79.00</td>\n",
              "    </tr>\n",
              "    <tr>\n",
              "      <th>7</th>\n",
              "      <td>35.42</td>\n",
              "      <td>36.67</td>\n",
              "      <td>26.13</td>\n",
              "      <td>NaN</td>\n",
              "      <td>22.13</td>\n",
              "      <td>3.00</td>\n",
              "      <td>8.00</td>\n",
              "      <td>3.00</td>\n",
              "      <td>NaN</td>\n",
              "      <td>3.00</td>\n",
              "      <td>85.00</td>\n",
              "      <td>85.00</td>\n",
              "      <td>73.00</td>\n",
              "      <td>NaN</td>\n",
              "      <td>167.00</td>\n",
              "    </tr>\n",
              "    <tr>\n",
              "      <th>8</th>\n",
              "      <td>37.11</td>\n",
              "      <td>24.57</td>\n",
              "      <td>23.98</td>\n",
              "      <td>27.68</td>\n",
              "      <td>22.32</td>\n",
              "      <td>4.00</td>\n",
              "      <td>5.00</td>\n",
              "      <td>4.00</td>\n",
              "      <td>11.00</td>\n",
              "      <td>3.00</td>\n",
              "      <td>122.00</td>\n",
              "      <td>76.00</td>\n",
              "      <td>59.00</td>\n",
              "      <td>130.00</td>\n",
              "      <td>58.00</td>\n",
              "    </tr>\n",
              "    <tr>\n",
              "      <th>9</th>\n",
              "      <td>40.04</td>\n",
              "      <td>36.62</td>\n",
              "      <td>21.63</td>\n",
              "      <td>22.09</td>\n",
              "      <td>NaN</td>\n",
              "      <td>7.00</td>\n",
              "      <td>6.00</td>\n",
              "      <td>4.00</td>\n",
              "      <td>3.00</td>\n",
              "      <td>NaN</td>\n",
              "      <td>104.00</td>\n",
              "      <td>94.00</td>\n",
              "      <td>83.00</td>\n",
              "      <td>77.00</td>\n",
              "      <td>NaN</td>\n",
              "    </tr>\n",
              "    <tr>\n",
              "      <th>10</th>\n",
              "      <td>40.24</td>\n",
              "      <td>32.49</td>\n",
              "      <td>29.94</td>\n",
              "      <td>30.86</td>\n",
              "      <td>NaN</td>\n",
              "      <td>5.00</td>\n",
              "      <td>5.00</td>\n",
              "      <td>3.00</td>\n",
              "      <td>3.00</td>\n",
              "      <td>NaN</td>\n",
              "      <td>117.00</td>\n",
              "      <td>97.00</td>\n",
              "      <td>90.00</td>\n",
              "      <td>179.00</td>\n",
              "      <td>NaN</td>\n",
              "    </tr>\n",
              "    <tr>\n",
              "      <th>11</th>\n",
              "      <td>54.78</td>\n",
              "      <td>45.32</td>\n",
              "      <td>53.70</td>\n",
              "      <td>40.72</td>\n",
              "      <td>NaN</td>\n",
              "      <td>12.00</td>\n",
              "      <td>12.00</td>\n",
              "      <td>4.00</td>\n",
              "      <td>3.00</td>\n",
              "      <td>NaN</td>\n",
              "      <td>139.00</td>\n",
              "      <td>108.00</td>\n",
              "      <td>199.00</td>\n",
              "      <td>297.00</td>\n",
              "      <td>NaN</td>\n",
              "    </tr>\n",
              "    <tr>\n",
              "      <th>12</th>\n",
              "      <td>50.71</td>\n",
              "      <td>53.38</td>\n",
              "      <td>43.64</td>\n",
              "      <td>42.16</td>\n",
              "      <td>NaN</td>\n",
              "      <td>19.00</td>\n",
              "      <td>14.00</td>\n",
              "      <td>14.00</td>\n",
              "      <td>13.00</td>\n",
              "      <td>NaN</td>\n",
              "      <td>117.00</td>\n",
              "      <td>165.00</td>\n",
              "      <td>114.00</td>\n",
              "      <td>142.00</td>\n",
              "      <td>NaN</td>\n",
              "    </tr>\n",
              "  </tbody>\n",
              "</table>\n",
              "</div>"
            ],
            "text/plain": [
              "    mean                           min                            max         \\\n",
              "년   2016  2017  2018  2019  2020  2016  2017  2018  2019  2020   2016   2017   \n",
              "월                                                                              \n",
              "1  52.75 55.73 53.88   NaN 43.18 22.00 14.00 15.00   NaN  3.00 127.00 151.00   \n",
              "2  48.29 49.55 56.07   NaN 41.95  9.00 23.00 22.00   NaN  7.00 124.00 135.00   \n",
              "3  66.85 64.54 43.90   NaN 46.35 18.00 19.00  6.00   NaN 18.00 166.00 149.00   \n",
              "4  73.48 59.58 51.98   NaN 45.61 21.00 14.00  5.00   NaN 11.00 270.00 134.00   \n",
              "5  58.61 66.01 40.38   NaN 36.47 14.00 15.00  4.00   NaN  5.00 153.00 243.00   \n",
              "6  47.78 43.89 50.02   NaN 38.04 15.00 11.00 30.00   NaN  4.00 122.00  85.00   \n",
              "7  35.42 36.67 26.13   NaN 22.13  3.00  8.00  3.00   NaN  3.00  85.00  85.00   \n",
              "8  37.11 24.57 23.98 27.68 22.32  4.00  5.00  4.00 11.00  3.00 122.00  76.00   \n",
              "9  40.04 36.62 21.63 22.09   NaN  7.00  6.00  4.00  3.00   NaN 104.00  94.00   \n",
              "10 40.24 32.49 29.94 30.86   NaN  5.00  5.00  3.00  3.00   NaN 117.00  97.00   \n",
              "11 54.78 45.32 53.70 40.72   NaN 12.00 12.00  4.00  3.00   NaN 139.00 108.00   \n",
              "12 50.71 53.38 43.64 42.16   NaN 19.00 14.00 14.00 13.00   NaN 117.00 165.00   \n",
              "\n",
              "                         \n",
              "년    2018   2019   2020  \n",
              "월                        \n",
              "1  154.00    NaN  90.00  \n",
              "2  127.00    NaN 103.00  \n",
              "3  141.00    NaN 142.00  \n",
              "4  117.00    NaN 126.00  \n",
              "5  105.00    NaN 167.00  \n",
              "6   85.00    NaN  79.00  \n",
              "7   73.00    NaN 167.00  \n",
              "8   59.00 130.00  58.00  \n",
              "9   83.00  77.00    NaN  \n",
              "10  90.00 179.00    NaN  \n",
              "11 199.00 297.00    NaN  \n",
              "12 114.00 142.00    NaN  "
            ]
          },
          "execution_count": 110,
          "metadata": {},
          "output_type": "execute_result"
        }
      ],
      "source": [
        "# [3-48] df_dust의 월/년 별 미세먼지의 'mean', 'min', 'max' 구하기\n",
        "# pivot_table 사용, values의 경우 목록으로 지정시와 단독 지정시가 다르게 표시됨\n",
        "df_dust.pivot_table(index='월', columns='년', values='미세먼지(㎍/㎥)', aggfunc=['mean', 'min', 'max'])"
      ]
    },
    {
      "cell_type": "code",
      "execution_count": 111,
      "metadata": {},
      "outputs": [
        {
          "data": {
            "text/html": [
              "<div>\n",
              "<style scoped>\n",
              "    .dataframe tbody tr th:only-of-type {\n",
              "        vertical-align: middle;\n",
              "    }\n",
              "\n",
              "    .dataframe tbody tr th {\n",
              "        vertical-align: top;\n",
              "    }\n",
              "\n",
              "    .dataframe thead tr th {\n",
              "        text-align: left;\n",
              "    }\n",
              "\n",
              "    .dataframe thead tr:last-of-type th {\n",
              "        text-align: right;\n",
              "    }\n",
              "</style>\n",
              "<table border=\"1\" class=\"dataframe\">\n",
              "  <thead>\n",
              "    <tr>\n",
              "      <th></th>\n",
              "      <th colspan=\"5\" halign=\"left\">mean</th>\n",
              "      <th colspan=\"5\" halign=\"left\">min</th>\n",
              "      <th colspan=\"5\" halign=\"left\">max</th>\n",
              "    </tr>\n",
              "    <tr>\n",
              "      <th></th>\n",
              "      <th colspan=\"5\" halign=\"left\">미세먼지(㎍/㎥)</th>\n",
              "      <th colspan=\"5\" halign=\"left\">미세먼지(㎍/㎥)</th>\n",
              "      <th colspan=\"5\" halign=\"left\">미세먼지(㎍/㎥)</th>\n",
              "    </tr>\n",
              "    <tr>\n",
              "      <th>년</th>\n",
              "      <th>2016</th>\n",
              "      <th>2017</th>\n",
              "      <th>2018</th>\n",
              "      <th>2019</th>\n",
              "      <th>2020</th>\n",
              "      <th>2016</th>\n",
              "      <th>2017</th>\n",
              "      <th>2018</th>\n",
              "      <th>2019</th>\n",
              "      <th>2020</th>\n",
              "      <th>2016</th>\n",
              "      <th>2017</th>\n",
              "      <th>2018</th>\n",
              "      <th>2019</th>\n",
              "      <th>2020</th>\n",
              "    </tr>\n",
              "    <tr>\n",
              "      <th>월</th>\n",
              "      <th></th>\n",
              "      <th></th>\n",
              "      <th></th>\n",
              "      <th></th>\n",
              "      <th></th>\n",
              "      <th></th>\n",
              "      <th></th>\n",
              "      <th></th>\n",
              "      <th></th>\n",
              "      <th></th>\n",
              "      <th></th>\n",
              "      <th></th>\n",
              "      <th></th>\n",
              "      <th></th>\n",
              "      <th></th>\n",
              "    </tr>\n",
              "  </thead>\n",
              "  <tbody>\n",
              "    <tr>\n",
              "      <th>1</th>\n",
              "      <td>52.75</td>\n",
              "      <td>55.73</td>\n",
              "      <td>53.88</td>\n",
              "      <td>NaN</td>\n",
              "      <td>43.18</td>\n",
              "      <td>22.00</td>\n",
              "      <td>14.00</td>\n",
              "      <td>15.00</td>\n",
              "      <td>NaN</td>\n",
              "      <td>3.00</td>\n",
              "      <td>127.00</td>\n",
              "      <td>151.00</td>\n",
              "      <td>154.00</td>\n",
              "      <td>NaN</td>\n",
              "      <td>90.00</td>\n",
              "    </tr>\n",
              "    <tr>\n",
              "      <th>2</th>\n",
              "      <td>48.29</td>\n",
              "      <td>49.55</td>\n",
              "      <td>56.07</td>\n",
              "      <td>NaN</td>\n",
              "      <td>41.95</td>\n",
              "      <td>9.00</td>\n",
              "      <td>23.00</td>\n",
              "      <td>22.00</td>\n",
              "      <td>NaN</td>\n",
              "      <td>7.00</td>\n",
              "      <td>124.00</td>\n",
              "      <td>135.00</td>\n",
              "      <td>127.00</td>\n",
              "      <td>NaN</td>\n",
              "      <td>103.00</td>\n",
              "    </tr>\n",
              "    <tr>\n",
              "      <th>3</th>\n",
              "      <td>66.85</td>\n",
              "      <td>64.54</td>\n",
              "      <td>43.90</td>\n",
              "      <td>NaN</td>\n",
              "      <td>46.35</td>\n",
              "      <td>18.00</td>\n",
              "      <td>19.00</td>\n",
              "      <td>6.00</td>\n",
              "      <td>NaN</td>\n",
              "      <td>18.00</td>\n",
              "      <td>166.00</td>\n",
              "      <td>149.00</td>\n",
              "      <td>141.00</td>\n",
              "      <td>NaN</td>\n",
              "      <td>142.00</td>\n",
              "    </tr>\n",
              "    <tr>\n",
              "      <th>4</th>\n",
              "      <td>73.48</td>\n",
              "      <td>59.58</td>\n",
              "      <td>51.98</td>\n",
              "      <td>NaN</td>\n",
              "      <td>45.61</td>\n",
              "      <td>21.00</td>\n",
              "      <td>14.00</td>\n",
              "      <td>5.00</td>\n",
              "      <td>NaN</td>\n",
              "      <td>11.00</td>\n",
              "      <td>270.00</td>\n",
              "      <td>134.00</td>\n",
              "      <td>117.00</td>\n",
              "      <td>NaN</td>\n",
              "      <td>126.00</td>\n",
              "    </tr>\n",
              "    <tr>\n",
              "      <th>5</th>\n",
              "      <td>58.61</td>\n",
              "      <td>66.01</td>\n",
              "      <td>40.38</td>\n",
              "      <td>NaN</td>\n",
              "      <td>36.47</td>\n",
              "      <td>14.00</td>\n",
              "      <td>15.00</td>\n",
              "      <td>4.00</td>\n",
              "      <td>NaN</td>\n",
              "      <td>5.00</td>\n",
              "      <td>153.00</td>\n",
              "      <td>243.00</td>\n",
              "      <td>105.00</td>\n",
              "      <td>NaN</td>\n",
              "      <td>167.00</td>\n",
              "    </tr>\n",
              "    <tr>\n",
              "      <th>6</th>\n",
              "      <td>47.78</td>\n",
              "      <td>43.89</td>\n",
              "      <td>50.02</td>\n",
              "      <td>NaN</td>\n",
              "      <td>38.04</td>\n",
              "      <td>15.00</td>\n",
              "      <td>11.00</td>\n",
              "      <td>30.00</td>\n",
              "      <td>NaN</td>\n",
              "      <td>4.00</td>\n",
              "      <td>122.00</td>\n",
              "      <td>85.00</td>\n",
              "      <td>85.00</td>\n",
              "      <td>NaN</td>\n",
              "      <td>79.00</td>\n",
              "    </tr>\n",
              "    <tr>\n",
              "      <th>7</th>\n",
              "      <td>35.42</td>\n",
              "      <td>36.67</td>\n",
              "      <td>26.13</td>\n",
              "      <td>NaN</td>\n",
              "      <td>22.13</td>\n",
              "      <td>3.00</td>\n",
              "      <td>8.00</td>\n",
              "      <td>3.00</td>\n",
              "      <td>NaN</td>\n",
              "      <td>3.00</td>\n",
              "      <td>85.00</td>\n",
              "      <td>85.00</td>\n",
              "      <td>73.00</td>\n",
              "      <td>NaN</td>\n",
              "      <td>167.00</td>\n",
              "    </tr>\n",
              "    <tr>\n",
              "      <th>8</th>\n",
              "      <td>37.11</td>\n",
              "      <td>24.57</td>\n",
              "      <td>23.98</td>\n",
              "      <td>27.68</td>\n",
              "      <td>22.32</td>\n",
              "      <td>4.00</td>\n",
              "      <td>5.00</td>\n",
              "      <td>4.00</td>\n",
              "      <td>11.00</td>\n",
              "      <td>3.00</td>\n",
              "      <td>122.00</td>\n",
              "      <td>76.00</td>\n",
              "      <td>59.00</td>\n",
              "      <td>130.00</td>\n",
              "      <td>58.00</td>\n",
              "    </tr>\n",
              "    <tr>\n",
              "      <th>9</th>\n",
              "      <td>40.04</td>\n",
              "      <td>36.62</td>\n",
              "      <td>21.63</td>\n",
              "      <td>22.09</td>\n",
              "      <td>NaN</td>\n",
              "      <td>7.00</td>\n",
              "      <td>6.00</td>\n",
              "      <td>4.00</td>\n",
              "      <td>3.00</td>\n",
              "      <td>NaN</td>\n",
              "      <td>104.00</td>\n",
              "      <td>94.00</td>\n",
              "      <td>83.00</td>\n",
              "      <td>77.00</td>\n",
              "      <td>NaN</td>\n",
              "    </tr>\n",
              "    <tr>\n",
              "      <th>10</th>\n",
              "      <td>40.24</td>\n",
              "      <td>32.49</td>\n",
              "      <td>29.94</td>\n",
              "      <td>30.86</td>\n",
              "      <td>NaN</td>\n",
              "      <td>5.00</td>\n",
              "      <td>5.00</td>\n",
              "      <td>3.00</td>\n",
              "      <td>3.00</td>\n",
              "      <td>NaN</td>\n",
              "      <td>117.00</td>\n",
              "      <td>97.00</td>\n",
              "      <td>90.00</td>\n",
              "      <td>179.00</td>\n",
              "      <td>NaN</td>\n",
              "    </tr>\n",
              "    <tr>\n",
              "      <th>11</th>\n",
              "      <td>54.78</td>\n",
              "      <td>45.32</td>\n",
              "      <td>53.70</td>\n",
              "      <td>40.72</td>\n",
              "      <td>NaN</td>\n",
              "      <td>12.00</td>\n",
              "      <td>12.00</td>\n",
              "      <td>4.00</td>\n",
              "      <td>3.00</td>\n",
              "      <td>NaN</td>\n",
              "      <td>139.00</td>\n",
              "      <td>108.00</td>\n",
              "      <td>199.00</td>\n",
              "      <td>297.00</td>\n",
              "      <td>NaN</td>\n",
              "    </tr>\n",
              "    <tr>\n",
              "      <th>12</th>\n",
              "      <td>50.71</td>\n",
              "      <td>53.38</td>\n",
              "      <td>43.64</td>\n",
              "      <td>42.16</td>\n",
              "      <td>NaN</td>\n",
              "      <td>19.00</td>\n",
              "      <td>14.00</td>\n",
              "      <td>14.00</td>\n",
              "      <td>13.00</td>\n",
              "      <td>NaN</td>\n",
              "      <td>117.00</td>\n",
              "      <td>165.00</td>\n",
              "      <td>114.00</td>\n",
              "      <td>142.00</td>\n",
              "      <td>NaN</td>\n",
              "    </tr>\n",
              "  </tbody>\n",
              "</table>\n",
              "</div>"
            ],
            "text/plain": [
              "        mean                               min                          \\\n",
              "   미세먼지(㎍/㎥)                         미세먼지(㎍/㎥)                           \n",
              "년       2016  2017  2018  2019  2020      2016  2017  2018  2019  2020   \n",
              "월                                                                        \n",
              "1      52.75 55.73 53.88   NaN 43.18     22.00 14.00 15.00   NaN  3.00   \n",
              "2      48.29 49.55 56.07   NaN 41.95      9.00 23.00 22.00   NaN  7.00   \n",
              "3      66.85 64.54 43.90   NaN 46.35     18.00 19.00  6.00   NaN 18.00   \n",
              "4      73.48 59.58 51.98   NaN 45.61     21.00 14.00  5.00   NaN 11.00   \n",
              "5      58.61 66.01 40.38   NaN 36.47     14.00 15.00  4.00   NaN  5.00   \n",
              "6      47.78 43.89 50.02   NaN 38.04     15.00 11.00 30.00   NaN  4.00   \n",
              "7      35.42 36.67 26.13   NaN 22.13      3.00  8.00  3.00   NaN  3.00   \n",
              "8      37.11 24.57 23.98 27.68 22.32      4.00  5.00  4.00 11.00  3.00   \n",
              "9      40.04 36.62 21.63 22.09   NaN      7.00  6.00  4.00  3.00   NaN   \n",
              "10     40.24 32.49 29.94 30.86   NaN      5.00  5.00  3.00  3.00   NaN   \n",
              "11     54.78 45.32 53.70 40.72   NaN     12.00 12.00  4.00  3.00   NaN   \n",
              "12     50.71 53.38 43.64 42.16   NaN     19.00 14.00 14.00 13.00   NaN   \n",
              "\n",
              "         max                              \n",
              "   미세먼지(㎍/㎥)                              \n",
              "년       2016   2017   2018   2019   2020  \n",
              "월                                         \n",
              "1     127.00 151.00 154.00    NaN  90.00  \n",
              "2     124.00 135.00 127.00    NaN 103.00  \n",
              "3     166.00 149.00 141.00    NaN 142.00  \n",
              "4     270.00 134.00 117.00    NaN 126.00  \n",
              "5     153.00 243.00 105.00    NaN 167.00  \n",
              "6     122.00  85.00  85.00    NaN  79.00  \n",
              "7      85.00  85.00  73.00    NaN 167.00  \n",
              "8     122.00  76.00  59.00 130.00  58.00  \n",
              "9     104.00  94.00  83.00  77.00    NaN  \n",
              "10    117.00  97.00  90.00 179.00    NaN  \n",
              "11    139.00 108.00 199.00 297.00    NaN  \n",
              "12    117.00 165.00 114.00 142.00    NaN  "
            ]
          },
          "execution_count": 111,
          "metadata": {},
          "output_type": "execute_result"
        }
      ],
      "source": [
        "df_dust.pivot_table(index='월', columns='년', values=['미세먼지(㎍/㎥)'], aggfunc=['mean', 'min', 'max'])"
      ]
    },
    {
      "cell_type": "code",
      "execution_count": 112,
      "metadata": {
        "id": "snvByB4gYQ7v"
      },
      "outputs": [
        {
          "data": {
            "text/html": [
              "<div>\n",
              "<style scoped>\n",
              "    .dataframe tbody tr th:only-of-type {\n",
              "        vertical-align: middle;\n",
              "    }\n",
              "\n",
              "    .dataframe tbody tr th {\n",
              "        vertical-align: top;\n",
              "    }\n",
              "\n",
              "    .dataframe thead tr th {\n",
              "        text-align: left;\n",
              "    }\n",
              "\n",
              "    .dataframe thead tr:last-of-type th {\n",
              "        text-align: right;\n",
              "    }\n",
              "</style>\n",
              "<table border=\"1\" class=\"dataframe\">\n",
              "  <thead>\n",
              "    <tr>\n",
              "      <th></th>\n",
              "      <th colspan=\"5\" halign=\"left\">mean</th>\n",
              "    </tr>\n",
              "    <tr>\n",
              "      <th></th>\n",
              "      <th colspan=\"5\" halign=\"left\">미세먼지(㎍/㎥)</th>\n",
              "    </tr>\n",
              "    <tr>\n",
              "      <th>년</th>\n",
              "      <th>2016</th>\n",
              "      <th>2017</th>\n",
              "      <th>2018</th>\n",
              "      <th>2019</th>\n",
              "      <th>2020</th>\n",
              "    </tr>\n",
              "    <tr>\n",
              "      <th>월</th>\n",
              "      <th></th>\n",
              "      <th></th>\n",
              "      <th></th>\n",
              "      <th></th>\n",
              "      <th></th>\n",
              "    </tr>\n",
              "  </thead>\n",
              "  <tbody>\n",
              "    <tr>\n",
              "      <th>1</th>\n",
              "      <td>54.32</td>\n",
              "      <td>60.32</td>\n",
              "      <td>59.32</td>\n",
              "      <td>NaN</td>\n",
              "      <td>46.65</td>\n",
              "    </tr>\n",
              "    <tr>\n",
              "      <th>2</th>\n",
              "      <td>50.69</td>\n",
              "      <td>50.07</td>\n",
              "      <td>58.70</td>\n",
              "      <td>NaN</td>\n",
              "      <td>45.26</td>\n",
              "    </tr>\n",
              "    <tr>\n",
              "      <th>3</th>\n",
              "      <td>67.16</td>\n",
              "      <td>66.81</td>\n",
              "      <td>47.40</td>\n",
              "      <td>NaN</td>\n",
              "      <td>47.12</td>\n",
              "    </tr>\n",
              "    <tr>\n",
              "      <th>4</th>\n",
              "      <td>79.27</td>\n",
              "      <td>61.30</td>\n",
              "      <td>47.33</td>\n",
              "      <td>NaN</td>\n",
              "      <td>46.57</td>\n",
              "    </tr>\n",
              "    <tr>\n",
              "      <th>5</th>\n",
              "      <td>62.48</td>\n",
              "      <td>71.71</td>\n",
              "      <td>39.24</td>\n",
              "      <td>NaN</td>\n",
              "      <td>33.83</td>\n",
              "    </tr>\n",
              "    <tr>\n",
              "      <th>6</th>\n",
              "      <td>51.90</td>\n",
              "      <td>48.10</td>\n",
              "      <td>46.43</td>\n",
              "      <td>NaN</td>\n",
              "      <td>36.58</td>\n",
              "    </tr>\n",
              "    <tr>\n",
              "      <th>7</th>\n",
              "      <td>36.90</td>\n",
              "      <td>40.58</td>\n",
              "      <td>24.46</td>\n",
              "      <td>NaN</td>\n",
              "      <td>21.71</td>\n",
              "    </tr>\n",
              "    <tr>\n",
              "      <th>8</th>\n",
              "      <td>37.77</td>\n",
              "      <td>26.61</td>\n",
              "      <td>21.65</td>\n",
              "      <td>27.50</td>\n",
              "      <td>20.78</td>\n",
              "    </tr>\n",
              "    <tr>\n",
              "      <th>9</th>\n",
              "      <td>42.50</td>\n",
              "      <td>42.47</td>\n",
              "      <td>18.42</td>\n",
              "      <td>22.48</td>\n",
              "      <td>NaN</td>\n",
              "    </tr>\n",
              "    <tr>\n",
              "      <th>10</th>\n",
              "      <td>44.00</td>\n",
              "      <td>35.45</td>\n",
              "      <td>25.11</td>\n",
              "      <td>31.56</td>\n",
              "      <td>NaN</td>\n",
              "    </tr>\n",
              "    <tr>\n",
              "      <th>11</th>\n",
              "      <td>60.60</td>\n",
              "      <td>53.07</td>\n",
              "      <td>45.77</td>\n",
              "      <td>40.03</td>\n",
              "      <td>NaN</td>\n",
              "    </tr>\n",
              "    <tr>\n",
              "      <th>12</th>\n",
              "      <td>57.90</td>\n",
              "      <td>58.48</td>\n",
              "      <td>41.84</td>\n",
              "      <td>44.87</td>\n",
              "      <td>NaN</td>\n",
              "    </tr>\n",
              "  </tbody>\n",
              "</table>\n",
              "</div>"
            ],
            "text/plain": [
              "        mean                        \n",
              "   미세먼지(㎍/㎥)                        \n",
              "년       2016  2017  2018  2019  2020\n",
              "월                                   \n",
              "1      54.32 60.32 59.32   NaN 46.65\n",
              "2      50.69 50.07 58.70   NaN 45.26\n",
              "3      67.16 66.81 47.40   NaN 47.12\n",
              "4      79.27 61.30 47.33   NaN 46.57\n",
              "5      62.48 71.71 39.24   NaN 33.83\n",
              "6      51.90 48.10 46.43   NaN 36.58\n",
              "7      36.90 40.58 24.46   NaN 21.71\n",
              "8      37.77 26.61 21.65 27.50 20.78\n",
              "9      42.50 42.47 18.42 22.48   NaN\n",
              "10     44.00 35.45 25.11 31.56   NaN\n",
              "11     60.60 53.07 45.77 40.03   NaN\n",
              "12     57.90 58.48 41.84 44.87   NaN"
            ]
          },
          "execution_count": 112,
          "metadata": {},
          "output_type": "execute_result"
        }
      ],
      "source": [
        "# [3-49] df_dust에서 '측정소명'이 '강남구'인 데이터의\n",
        "# 월별(index), 년별(columns), 미세먼지 농도 평균을 조회하여 temp로 저장합니다\n",
        "place = df_dust.loc[df['측정소명']=='강남구'].pivot_table(index='월', columns='년', values=['미세먼지(㎍/㎥)'], aggfunc=['mean'])\n",
        "place"
      ]
    },
    {
      "cell_type": "code",
      "execution_count": 113,
      "metadata": {},
      "outputs": [
        {
          "data": {
            "text/html": [
              "<div>\n",
              "<style scoped>\n",
              "    .dataframe tbody tr th:only-of-type {\n",
              "        vertical-align: middle;\n",
              "    }\n",
              "\n",
              "    .dataframe tbody tr th {\n",
              "        vertical-align: top;\n",
              "    }\n",
              "\n",
              "    .dataframe thead tr th {\n",
              "        text-align: left;\n",
              "    }\n",
              "\n",
              "    .dataframe thead tr:last-of-type th {\n",
              "        text-align: right;\n",
              "    }\n",
              "</style>\n",
              "<table border=\"1\" class=\"dataframe\">\n",
              "  <thead>\n",
              "    <tr>\n",
              "      <th></th>\n",
              "      <th></th>\n",
              "      <th>mean</th>\n",
              "    </tr>\n",
              "    <tr>\n",
              "      <th></th>\n",
              "      <th></th>\n",
              "      <th>미세먼지(㎍/㎥)</th>\n",
              "    </tr>\n",
              "    <tr>\n",
              "      <th>월</th>\n",
              "      <th>년</th>\n",
              "      <th></th>\n",
              "    </tr>\n",
              "  </thead>\n",
              "  <tbody>\n",
              "    <tr>\n",
              "      <th rowspan=\"4\" valign=\"top\">1</th>\n",
              "      <th>2016</th>\n",
              "      <td>54.32</td>\n",
              "    </tr>\n",
              "    <tr>\n",
              "      <th>2017</th>\n",
              "      <td>60.32</td>\n",
              "    </tr>\n",
              "    <tr>\n",
              "      <th>2018</th>\n",
              "      <td>59.32</td>\n",
              "    </tr>\n",
              "    <tr>\n",
              "      <th>2020</th>\n",
              "      <td>46.65</td>\n",
              "    </tr>\n",
              "    <tr>\n",
              "      <th rowspan=\"4\" valign=\"top\">2</th>\n",
              "      <th>2016</th>\n",
              "      <td>50.69</td>\n",
              "    </tr>\n",
              "    <tr>\n",
              "      <th>2017</th>\n",
              "      <td>50.07</td>\n",
              "    </tr>\n",
              "    <tr>\n",
              "      <th>2018</th>\n",
              "      <td>58.70</td>\n",
              "    </tr>\n",
              "    <tr>\n",
              "      <th>2020</th>\n",
              "      <td>45.26</td>\n",
              "    </tr>\n",
              "    <tr>\n",
              "      <th rowspan=\"4\" valign=\"top\">3</th>\n",
              "      <th>2016</th>\n",
              "      <td>67.16</td>\n",
              "    </tr>\n",
              "    <tr>\n",
              "      <th>2017</th>\n",
              "      <td>66.81</td>\n",
              "    </tr>\n",
              "    <tr>\n",
              "      <th>2018</th>\n",
              "      <td>47.40</td>\n",
              "    </tr>\n",
              "    <tr>\n",
              "      <th>2020</th>\n",
              "      <td>47.12</td>\n",
              "    </tr>\n",
              "    <tr>\n",
              "      <th rowspan=\"4\" valign=\"top\">4</th>\n",
              "      <th>2016</th>\n",
              "      <td>79.27</td>\n",
              "    </tr>\n",
              "    <tr>\n",
              "      <th>2017</th>\n",
              "      <td>61.30</td>\n",
              "    </tr>\n",
              "    <tr>\n",
              "      <th>2018</th>\n",
              "      <td>47.33</td>\n",
              "    </tr>\n",
              "    <tr>\n",
              "      <th>2020</th>\n",
              "      <td>46.57</td>\n",
              "    </tr>\n",
              "    <tr>\n",
              "      <th rowspan=\"4\" valign=\"top\">5</th>\n",
              "      <th>2016</th>\n",
              "      <td>62.48</td>\n",
              "    </tr>\n",
              "    <tr>\n",
              "      <th>2017</th>\n",
              "      <td>71.71</td>\n",
              "    </tr>\n",
              "    <tr>\n",
              "      <th>2018</th>\n",
              "      <td>39.24</td>\n",
              "    </tr>\n",
              "    <tr>\n",
              "      <th>2020</th>\n",
              "      <td>33.83</td>\n",
              "    </tr>\n",
              "    <tr>\n",
              "      <th rowspan=\"4\" valign=\"top\">6</th>\n",
              "      <th>2016</th>\n",
              "      <td>51.90</td>\n",
              "    </tr>\n",
              "    <tr>\n",
              "      <th>2017</th>\n",
              "      <td>48.10</td>\n",
              "    </tr>\n",
              "    <tr>\n",
              "      <th>2018</th>\n",
              "      <td>46.43</td>\n",
              "    </tr>\n",
              "    <tr>\n",
              "      <th>2020</th>\n",
              "      <td>36.58</td>\n",
              "    </tr>\n",
              "    <tr>\n",
              "      <th rowspan=\"4\" valign=\"top\">7</th>\n",
              "      <th>2016</th>\n",
              "      <td>36.90</td>\n",
              "    </tr>\n",
              "    <tr>\n",
              "      <th>2017</th>\n",
              "      <td>40.58</td>\n",
              "    </tr>\n",
              "    <tr>\n",
              "      <th>2018</th>\n",
              "      <td>24.46</td>\n",
              "    </tr>\n",
              "    <tr>\n",
              "      <th>2020</th>\n",
              "      <td>21.71</td>\n",
              "    </tr>\n",
              "    <tr>\n",
              "      <th rowspan=\"5\" valign=\"top\">8</th>\n",
              "      <th>2016</th>\n",
              "      <td>37.77</td>\n",
              "    </tr>\n",
              "    <tr>\n",
              "      <th>2017</th>\n",
              "      <td>26.61</td>\n",
              "    </tr>\n",
              "    <tr>\n",
              "      <th>2018</th>\n",
              "      <td>21.65</td>\n",
              "    </tr>\n",
              "    <tr>\n",
              "      <th>2019</th>\n",
              "      <td>27.50</td>\n",
              "    </tr>\n",
              "    <tr>\n",
              "      <th>2020</th>\n",
              "      <td>20.78</td>\n",
              "    </tr>\n",
              "    <tr>\n",
              "      <th rowspan=\"4\" valign=\"top\">9</th>\n",
              "      <th>2016</th>\n",
              "      <td>42.50</td>\n",
              "    </tr>\n",
              "    <tr>\n",
              "      <th>2017</th>\n",
              "      <td>42.47</td>\n",
              "    </tr>\n",
              "    <tr>\n",
              "      <th>2018</th>\n",
              "      <td>18.42</td>\n",
              "    </tr>\n",
              "    <tr>\n",
              "      <th>2019</th>\n",
              "      <td>22.48</td>\n",
              "    </tr>\n",
              "    <tr>\n",
              "      <th rowspan=\"4\" valign=\"top\">10</th>\n",
              "      <th>2016</th>\n",
              "      <td>44.00</td>\n",
              "    </tr>\n",
              "    <tr>\n",
              "      <th>2017</th>\n",
              "      <td>35.45</td>\n",
              "    </tr>\n",
              "    <tr>\n",
              "      <th>2018</th>\n",
              "      <td>25.11</td>\n",
              "    </tr>\n",
              "    <tr>\n",
              "      <th>2019</th>\n",
              "      <td>31.56</td>\n",
              "    </tr>\n",
              "    <tr>\n",
              "      <th rowspan=\"4\" valign=\"top\">11</th>\n",
              "      <th>2016</th>\n",
              "      <td>60.60</td>\n",
              "    </tr>\n",
              "    <tr>\n",
              "      <th>2017</th>\n",
              "      <td>53.07</td>\n",
              "    </tr>\n",
              "    <tr>\n",
              "      <th>2018</th>\n",
              "      <td>45.77</td>\n",
              "    </tr>\n",
              "    <tr>\n",
              "      <th>2019</th>\n",
              "      <td>40.03</td>\n",
              "    </tr>\n",
              "    <tr>\n",
              "      <th rowspan=\"4\" valign=\"top\">12</th>\n",
              "      <th>2016</th>\n",
              "      <td>57.90</td>\n",
              "    </tr>\n",
              "    <tr>\n",
              "      <th>2017</th>\n",
              "      <td>58.48</td>\n",
              "    </tr>\n",
              "    <tr>\n",
              "      <th>2018</th>\n",
              "      <td>41.84</td>\n",
              "    </tr>\n",
              "    <tr>\n",
              "      <th>2019</th>\n",
              "      <td>44.87</td>\n",
              "    </tr>\n",
              "  </tbody>\n",
              "</table>\n",
              "</div>"
            ],
            "text/plain": [
              "             mean\n",
              "        미세먼지(㎍/㎥)\n",
              "월  년             \n",
              "1  2016     54.32\n",
              "   2017     60.32\n",
              "   2018     59.32\n",
              "   2020     46.65\n",
              "2  2016     50.69\n",
              "   2017     50.07\n",
              "   2018     58.70\n",
              "   2020     45.26\n",
              "3  2016     67.16\n",
              "   2017     66.81\n",
              "   2018     47.40\n",
              "   2020     47.12\n",
              "4  2016     79.27\n",
              "   2017     61.30\n",
              "   2018     47.33\n",
              "   2020     46.57\n",
              "5  2016     62.48\n",
              "   2017     71.71\n",
              "   2018     39.24\n",
              "   2020     33.83\n",
              "6  2016     51.90\n",
              "   2017     48.10\n",
              "   2018     46.43\n",
              "   2020     36.58\n",
              "7  2016     36.90\n",
              "   2017     40.58\n",
              "   2018     24.46\n",
              "   2020     21.71\n",
              "8  2016     37.77\n",
              "   2017     26.61\n",
              "   2018     21.65\n",
              "   2019     27.50\n",
              "   2020     20.78\n",
              "9  2016     42.50\n",
              "   2017     42.47\n",
              "   2018     18.42\n",
              "   2019     22.48\n",
              "10 2016     44.00\n",
              "   2017     35.45\n",
              "   2018     25.11\n",
              "   2019     31.56\n",
              "11 2016     60.60\n",
              "   2017     53.07\n",
              "   2018     45.77\n",
              "   2019     40.03\n",
              "12 2016     57.90\n",
              "   2017     58.48\n",
              "   2018     41.84\n",
              "   2019     44.87"
            ]
          },
          "execution_count": 113,
          "metadata": {},
          "output_type": "execute_result"
        }
      ],
      "source": [
        "df_dust.loc[df['측정소명']=='강남구'].pivot_table(index=['월', '년'], values=['미세먼지(㎍/㎥)'], aggfunc=['mean'])"
      ]
    },
    {
      "attachments": {},
      "cell_type": "markdown",
      "metadata": {
        "id": "WiwZl-yzg_6V"
      },
      "source": [
        "- Series.argmax() : 가장 값이 큰 것의 integer index 구하기\n",
        "- Series.argmin() : 가장 값이 작은 것의 integer index 구하기\n",
        "- Series[Series.argmax()] : 가장 큰 값 구하기\n",
        "- Series[Series.argmin()] : 가장 작은 값 구하기"
      ]
    },
    {
      "cell_type": "code",
      "execution_count": 114,
      "metadata": {
        "colab": {
          "base_uri": "https://localhost:8080/"
        },
        "id": "BNNzrQIchJXb",
        "outputId": "d8cb36a9-f854-4d18-e27e-f0248c82c04c"
      },
      "outputs": [
        {
          "data": {
            "text/plain": [
              "A    1\n",
              "B    0\n",
              "C    5\n",
              "D    7\n",
              "E    9\n",
              "F    2\n",
              "G    6\n",
              "H    8\n",
              "dtype: int64"
            ]
          },
          "execution_count": 114,
          "metadata": {},
          "output_type": "execute_result"
        }
      ],
      "source": [
        "# argmin, argmax를 연습하기 위한 Series\n",
        "s = pd.Series([1, 0, 5, 7, 9, 2, 6, 8],\n",
        "              index=list('ABCDEFGH'))\n",
        "s"
      ]
    },
    {
      "cell_type": "code",
      "execution_count": 115,
      "metadata": {
        "colab": {
          "base_uri": "https://localhost:8080/"
        },
        "id": "blXgXXO1hcLZ",
        "outputId": "6c75daea-3284-41e9-9e00-e000e911695f"
      },
      "outputs": [
        {
          "name": "stdout",
          "output_type": "stream",
          "text": [
            "1 0\n",
            "4 9\n"
          ]
        }
      ],
      "source": [
        "# argmin(), argmax() 구하기\n",
        "a = s.argmin()\n",
        "b = s.argmax()\n",
        "print(a, s[a])\n",
        "print(b, s[b])"
      ]
    },
    {
      "cell_type": "code",
      "execution_count": 116,
      "metadata": {
        "id": "1VZS1LRy7swL"
      },
      "outputs": [
        {
          "name": "stdout",
          "output_type": "stream",
          "text": [
            "4\n",
            "5\n",
            "2\n",
            "12\n",
            "3\n"
          ]
        }
      ],
      "source": [
        "# [3-50] 2016년 ~ 2020년도 미세먼지 농도가 가장 높은 월의 위치\n",
        "temp = df_dust.pivot_table(index='월', columns='년', values='미세먼지(㎍/㎥)', aggfunc='mean')\n",
        "for year in temp.columns:\n",
        "    idx=temp[year].argmax()\n",
        "    print(temp.index[idx])\n"
      ]
    },
    {
      "cell_type": "code",
      "execution_count": null,
      "metadata": {
        "id": "EAlPFiLYmi8J"
      },
      "outputs": [],
      "source": [
        "# 2019년 데이터 중 1~7월이 없기 때문에 12월이 나옴"
      ]
    },
    {
      "cell_type": "code",
      "execution_count": 117,
      "metadata": {
        "id": "TSpKmXxFg7pr"
      },
      "outputs": [
        {
          "name": "stdout",
          "output_type": "stream",
          "text": [
            "7\n",
            "8\n",
            "9\n",
            "9\n",
            "7\n"
          ]
        }
      ],
      "source": [
        "# [3-51] 2016년 ~ 2020년도 미세먼지 농도가 가장 낮은 월의 위치\n",
        "# [3-50] 2016년 ~ 2020년도 미세먼지 농도가 가장 높은 월의 위치\n",
        "temp = df_dust.pivot_table(index='월', columns='년', values='미세먼지(㎍/㎥)', aggfunc='mean')\n",
        "for year in temp.columns:\n",
        "    idx=temp[year].argmin()\n",
        "    print(temp.index[idx])"
      ]
    },
    {
      "cell_type": "code",
      "execution_count": null,
      "metadata": {
        "id": "meHv7GxumuUk"
      },
      "outputs": [],
      "source": [
        "# 2020년 데이터 중 9-12월이 없기 때문에 7월이 나옴"
      ]
    },
    {
      "cell_type": "code",
      "execution_count": 135,
      "metadata": {
        "id": "jqH8Kj68m7tZ"
      },
      "outputs": [
        {
          "data": {
            "text/html": [
              "<div>\n",
              "<style scoped>\n",
              "    .dataframe tbody tr th:only-of-type {\n",
              "        vertical-align: middle;\n",
              "    }\n",
              "\n",
              "    .dataframe tbody tr th {\n",
              "        vertical-align: top;\n",
              "    }\n",
              "\n",
              "    .dataframe thead th {\n",
              "        text-align: right;\n",
              "    }\n",
              "</style>\n",
              "<table border=\"1\" class=\"dataframe\">\n",
              "  <thead>\n",
              "    <tr style=\"text-align: right;\">\n",
              "      <th></th>\n",
              "      <th>미세먼지(㎍/㎥)</th>\n",
              "    </tr>\n",
              "    <tr>\n",
              "      <th>월</th>\n",
              "      <th></th>\n",
              "    </tr>\n",
              "  </thead>\n",
              "  <tbody>\n",
              "    <tr>\n",
              "      <th>1</th>\n",
              "      <td>54.12</td>\n",
              "    </tr>\n",
              "    <tr>\n",
              "      <th>2</th>\n",
              "      <td>51.22</td>\n",
              "    </tr>\n",
              "    <tr>\n",
              "      <th>3</th>\n",
              "      <td>60.38</td>\n",
              "    </tr>\n",
              "    <tr>\n",
              "      <th>4</th>\n",
              "      <td>62.76</td>\n",
              "    </tr>\n",
              "    <tr>\n",
              "      <th>5</th>\n",
              "      <td>56.76</td>\n",
              "    </tr>\n",
              "    <tr>\n",
              "      <th>6</th>\n",
              "      <td>46.27</td>\n",
              "    </tr>\n",
              "    <tr>\n",
              "      <th>7</th>\n",
              "      <td>32.88</td>\n",
              "    </tr>\n",
              "    <tr>\n",
              "      <th>8</th>\n",
              "      <td>28.41</td>\n",
              "    </tr>\n",
              "    <tr>\n",
              "      <th>9</th>\n",
              "      <td>29.75</td>\n",
              "    </tr>\n",
              "    <tr>\n",
              "      <th>10</th>\n",
              "      <td>32.94</td>\n",
              "    </tr>\n",
              "    <tr>\n",
              "      <th>11</th>\n",
              "      <td>47.64</td>\n",
              "    </tr>\n",
              "    <tr>\n",
              "      <th>12</th>\n",
              "      <td>47.02</td>\n",
              "    </tr>\n",
              "  </tbody>\n",
              "</table>\n",
              "</div>"
            ],
            "text/plain": [
              "    미세먼지(㎍/㎥)\n",
              "월            \n",
              "1       54.12\n",
              "2       51.22\n",
              "3       60.38\n",
              "4       62.76\n",
              "5       56.76\n",
              "6       46.27\n",
              "7       32.88\n",
              "8       28.41\n",
              "9       29.75\n",
              "10      32.94\n",
              "11      47.64\n",
              "12      47.02"
            ]
          },
          "execution_count": 135,
          "metadata": {},
          "output_type": "execute_result"
        }
      ],
      "source": [
        "# [3-52] 2016년 ~ 2019년 월별 미세먼지 평균을 구해 temp (DataFrame)로 저장합니다.\n",
        "temp = df_dust.loc[df_dust['년']<=2019].groupby('월')[['미세먼지(㎍/㎥)']].mean()\n",
        "temp"
      ]
    },
    {
      "cell_type": "code",
      "execution_count": 136,
      "metadata": {},
      "outputs": [
        {
          "data": {
            "text/html": [
              "<div>\n",
              "<style scoped>\n",
              "    .dataframe tbody tr th:only-of-type {\n",
              "        vertical-align: middle;\n",
              "    }\n",
              "\n",
              "    .dataframe tbody tr th {\n",
              "        vertical-align: top;\n",
              "    }\n",
              "\n",
              "    .dataframe thead th {\n",
              "        text-align: right;\n",
              "    }\n",
              "</style>\n",
              "<table border=\"1\" class=\"dataframe\">\n",
              "  <thead>\n",
              "    <tr style=\"text-align: right;\">\n",
              "      <th></th>\n",
              "      <th>미세먼지(㎍/㎥)</th>\n",
              "    </tr>\n",
              "    <tr>\n",
              "      <th>월</th>\n",
              "      <th></th>\n",
              "    </tr>\n",
              "  </thead>\n",
              "  <tbody>\n",
              "    <tr>\n",
              "      <th>1</th>\n",
              "      <td>54.12</td>\n",
              "    </tr>\n",
              "    <tr>\n",
              "      <th>2</th>\n",
              "      <td>51.22</td>\n",
              "    </tr>\n",
              "    <tr>\n",
              "      <th>3</th>\n",
              "      <td>60.38</td>\n",
              "    </tr>\n",
              "    <tr>\n",
              "      <th>4</th>\n",
              "      <td>62.76</td>\n",
              "    </tr>\n",
              "    <tr>\n",
              "      <th>5</th>\n",
              "      <td>56.76</td>\n",
              "    </tr>\n",
              "    <tr>\n",
              "      <th>6</th>\n",
              "      <td>46.27</td>\n",
              "    </tr>\n",
              "    <tr>\n",
              "      <th>7</th>\n",
              "      <td>32.88</td>\n",
              "    </tr>\n",
              "    <tr>\n",
              "      <th>8</th>\n",
              "      <td>28.41</td>\n",
              "    </tr>\n",
              "    <tr>\n",
              "      <th>9</th>\n",
              "      <td>29.75</td>\n",
              "    </tr>\n",
              "    <tr>\n",
              "      <th>10</th>\n",
              "      <td>32.94</td>\n",
              "    </tr>\n",
              "    <tr>\n",
              "      <th>11</th>\n",
              "      <td>47.64</td>\n",
              "    </tr>\n",
              "    <tr>\n",
              "      <th>12</th>\n",
              "      <td>47.02</td>\n",
              "    </tr>\n",
              "  </tbody>\n",
              "</table>\n",
              "</div>"
            ],
            "text/plain": [
              "    미세먼지(㎍/㎥)\n",
              "월            \n",
              "1       54.12\n",
              "2       51.22\n",
              "3       60.38\n",
              "4       62.76\n",
              "5       56.76\n",
              "6       46.27\n",
              "7       32.88\n",
              "8       28.41\n",
              "9       29.75\n",
              "10      32.94\n",
              "11      47.64\n",
              "12      47.02"
            ]
          },
          "execution_count": 136,
          "metadata": {},
          "output_type": "execute_result"
        }
      ],
      "source": [
        "# [3-52] 2016년 ~ 2019년 월별 미세먼지 평균을 구해 temp (DataFrame)로 저장합니다.\n",
        "temp = df_dust.loc[df_dust['년']<=2019].groupby('월')[['미세먼지(㎍/㎥)']].mean()\n",
        "temp"
      ]
    },
    {
      "cell_type": "code",
      "execution_count": 138,
      "metadata": {
        "id": "O8xs9AYie69b"
      },
      "outputs": [
        {
          "data": {
            "text/html": [
              "<div>\n",
              "<style scoped>\n",
              "    .dataframe tbody tr th:only-of-type {\n",
              "        vertical-align: middle;\n",
              "    }\n",
              "\n",
              "    .dataframe tbody tr th {\n",
              "        vertical-align: top;\n",
              "    }\n",
              "\n",
              "    .dataframe thead th {\n",
              "        text-align: right;\n",
              "    }\n",
              "</style>\n",
              "<table border=\"1\" class=\"dataframe\">\n",
              "  <thead>\n",
              "    <tr style=\"text-align: right;\">\n",
              "      <th></th>\n",
              "      <th>미세먼지(㎍/㎥)</th>\n",
              "      <th>미세먼지 2020</th>\n",
              "    </tr>\n",
              "    <tr>\n",
              "      <th>월</th>\n",
              "      <th></th>\n",
              "      <th></th>\n",
              "    </tr>\n",
              "  </thead>\n",
              "  <tbody>\n",
              "    <tr>\n",
              "      <th>1</th>\n",
              "      <td>54.12</td>\n",
              "      <td>43.18</td>\n",
              "    </tr>\n",
              "    <tr>\n",
              "      <th>2</th>\n",
              "      <td>51.22</td>\n",
              "      <td>41.95</td>\n",
              "    </tr>\n",
              "    <tr>\n",
              "      <th>3</th>\n",
              "      <td>60.38</td>\n",
              "      <td>46.35</td>\n",
              "    </tr>\n",
              "    <tr>\n",
              "      <th>4</th>\n",
              "      <td>62.76</td>\n",
              "      <td>45.61</td>\n",
              "    </tr>\n",
              "    <tr>\n",
              "      <th>5</th>\n",
              "      <td>56.76</td>\n",
              "      <td>36.47</td>\n",
              "    </tr>\n",
              "  </tbody>\n",
              "</table>\n",
              "</div>"
            ],
            "text/plain": [
              "   미세먼지(㎍/㎥)  미세먼지 2020\n",
              "월                      \n",
              "1      54.12      43.18\n",
              "2      51.22      41.95\n",
              "3      60.38      46.35\n",
              "4      62.76      45.61\n",
              "5      56.76      36.47"
            ]
          },
          "execution_count": 138,
          "metadata": {},
          "output_type": "execute_result"
        }
      ],
      "source": [
        "# [3-53] 2020년 월별 미세먼지 평균을 구해 temp에 '미세먼지 2020' 컬럼으로 추가합니다.\n",
        "df_2020 = df_dust.loc[df_dust['측정일시'] >= pd.to_datetime('2020-01-01')]\n",
        "temp['미세먼지 2020'] = df_2020.groupby('월')[ '미세먼지(㎍/㎥)'].mean()\n",
        "temp.head()\n",
        "\n",
        "temp['미세먼지 2020'] = df_dust.loc[df_dust['년']==2020].groupby('월')[['미세먼지(㎍/㎥)']].mean()\n",
        "temp.head()"
      ]
    },
    {
      "cell_type": "code",
      "execution_count": 140,
      "metadata": {
        "id": "xqd2QvRMy9BH"
      },
      "outputs": [
        {
          "data": {
            "text/html": [
              "<div>\n",
              "<style scoped>\n",
              "    .dataframe tbody tr th:only-of-type {\n",
              "        vertical-align: middle;\n",
              "    }\n",
              "\n",
              "    .dataframe tbody tr th {\n",
              "        vertical-align: top;\n",
              "    }\n",
              "\n",
              "    .dataframe thead th {\n",
              "        text-align: right;\n",
              "    }\n",
              "</style>\n",
              "<table border=\"1\" class=\"dataframe\">\n",
              "  <thead>\n",
              "    <tr style=\"text-align: right;\">\n",
              "      <th></th>\n",
              "      <th>미세먼지(㎍/㎥)</th>\n",
              "      <th>미세먼지 2020</th>\n",
              "      <th>차이</th>\n",
              "    </tr>\n",
              "    <tr>\n",
              "      <th>월</th>\n",
              "      <th></th>\n",
              "      <th></th>\n",
              "      <th></th>\n",
              "    </tr>\n",
              "  </thead>\n",
              "  <tbody>\n",
              "    <tr>\n",
              "      <th>1</th>\n",
              "      <td>54.12</td>\n",
              "      <td>43.18</td>\n",
              "      <td>10.94</td>\n",
              "    </tr>\n",
              "    <tr>\n",
              "      <th>2</th>\n",
              "      <td>51.22</td>\n",
              "      <td>41.95</td>\n",
              "      <td>9.27</td>\n",
              "    </tr>\n",
              "    <tr>\n",
              "      <th>3</th>\n",
              "      <td>60.38</td>\n",
              "      <td>46.35</td>\n",
              "      <td>14.03</td>\n",
              "    </tr>\n",
              "    <tr>\n",
              "      <th>4</th>\n",
              "      <td>62.76</td>\n",
              "      <td>45.61</td>\n",
              "      <td>17.15</td>\n",
              "    </tr>\n",
              "    <tr>\n",
              "      <th>5</th>\n",
              "      <td>56.76</td>\n",
              "      <td>36.47</td>\n",
              "      <td>20.29</td>\n",
              "    </tr>\n",
              "    <tr>\n",
              "      <th>6</th>\n",
              "      <td>46.27</td>\n",
              "      <td>38.04</td>\n",
              "      <td>8.23</td>\n",
              "    </tr>\n",
              "    <tr>\n",
              "      <th>7</th>\n",
              "      <td>32.88</td>\n",
              "      <td>22.13</td>\n",
              "      <td>10.75</td>\n",
              "    </tr>\n",
              "    <tr>\n",
              "      <th>8</th>\n",
              "      <td>28.41</td>\n",
              "      <td>22.32</td>\n",
              "      <td>6.09</td>\n",
              "    </tr>\n",
              "    <tr>\n",
              "      <th>9</th>\n",
              "      <td>29.75</td>\n",
              "      <td>NaN</td>\n",
              "      <td>NaN</td>\n",
              "    </tr>\n",
              "    <tr>\n",
              "      <th>10</th>\n",
              "      <td>32.94</td>\n",
              "      <td>NaN</td>\n",
              "      <td>NaN</td>\n",
              "    </tr>\n",
              "    <tr>\n",
              "      <th>11</th>\n",
              "      <td>47.64</td>\n",
              "      <td>NaN</td>\n",
              "      <td>NaN</td>\n",
              "    </tr>\n",
              "    <tr>\n",
              "      <th>12</th>\n",
              "      <td>47.02</td>\n",
              "      <td>NaN</td>\n",
              "      <td>NaN</td>\n",
              "    </tr>\n",
              "  </tbody>\n",
              "</table>\n",
              "</div>"
            ],
            "text/plain": [
              "    미세먼지(㎍/㎥)  미세먼지 2020    차이\n",
              "월                             \n",
              "1       54.12      43.18 10.94\n",
              "2       51.22      41.95  9.27\n",
              "3       60.38      46.35 14.03\n",
              "4       62.76      45.61 17.15\n",
              "5       56.76      36.47 20.29\n",
              "6       46.27      38.04  8.23\n",
              "7       32.88      22.13 10.75\n",
              "8       28.41      22.32  6.09\n",
              "9       29.75        NaN   NaN\n",
              "10      32.94        NaN   NaN\n",
              "11      47.64        NaN   NaN\n",
              "12      47.02        NaN   NaN"
            ]
          },
          "execution_count": 140,
          "metadata": {},
          "output_type": "execute_result"
        }
      ],
      "source": [
        "# [3-54] temp에 '차이'라는 이름의 컬럼을 추가합니다.\n",
        "# '차이' = '미세먼지(㎍/㎥)' - '미세먼지 2020'\n",
        "temp['차이'] = temp['미세먼지(㎍/㎥)'] - temp['미세먼지 2020']\n",
        "temp"
      ]
    },
    {
      "attachments": {},
      "cell_type": "markdown",
      "metadata": {
        "id": "wHnF8QoFn9CR"
      },
      "source": [
        "### 3-7. 그래프로 확인하기"
      ]
    },
    {
      "cell_type": "code",
      "execution_count": null,
      "metadata": {
        "id": "PRnSFZaQziuG"
      },
      "outputs": [],
      "source": [
        "## 그래프만 하시는 분들은\n",
        "# 1. 파일다운로드\n",
        "# 2. Colab에서 한글 폰트 사용하기 실행 후 진행하세요"
      ]
    },
    {
      "cell_type": "code",
      "execution_count": null,
      "metadata": {
        "id": "Hj_Q2T4jzj_N"
      },
      "outputs": [],
      "source": [
        "# 데이터 작성 - 그래프만 작성해볼때 사용하시면 됩니다.\n",
        "import glob\n",
        "import pandas as pd\n",
        "import numpy as np\n",
        "import matplotlib.pyplot as plt\n",
        "import koreanize_matplotlib\n",
        "import seaborn as sns\n",
        "\n",
        "# 데이터 값 실수. 소수점 둘째자리까지 표시\n",
        "pd.options.display.float_format = '{:.2f}'.format\n",
        "\n",
        "dfList = []\n",
        "for x in sorted(glob.glob('data_01/data_day_*.xlsx')):\n",
        "    temp = pd.read_excel(x)\n",
        "    dfList.append(temp)\n",
        "\n",
        "df = pd.concat(dfList, axis=0, ignore_index=True)\n",
        "#df.shape\n",
        "df.insert(1, '측정일시2', pd.to_datetime(df['측정일시'], format='%Y%m%d'))\n",
        "df['년'] = df['측정일시2'].dt.year\n",
        "df['월'] = df['측정일시2'].dt.month\n",
        "df['일'] = df['측정일시2'].dt.day\n",
        "df2 = df.drop(columns=['측정일시2'])\n",
        "df1 = df.set_index('측정일시').sort_index()\n",
        "df_dust = df1[['측정소명', '년', '월', '일','오존농도(ppm)', '미세먼지(㎍/㎥)', '초미세먼지(㎍/㎥)']]\n",
        "df_dust = df_dust.reset_index()\n",
        "fine_dust = df_dust.groupby('측정일시')['미세먼지(㎍/㎥)'].transform('mean')\n",
        "s = df_dust['미세먼지(㎍/㎥)']\n",
        "df_dust['미세먼지(㎍/㎥)'] = s.mask(s.isna(), fine_dust)\n",
        "x = df_dust.groupby('측정일시')[['오존농도(ppm)', '초미세먼지(㎍/㎥)']].transform('mean')\n",
        "y = df_dust[['오존농도(ppm)', '초미세먼지(㎍/㎥)']]\n",
        "df_dust[['오존농도(ppm)', '초미세먼지(㎍/㎥)']] = y.mask(y.isna(), x)"
      ]
    },
    {
      "cell_type": "code",
      "execution_count": null,
      "metadata": {
        "id": "mzBLYn5bn8SF"
      },
      "outputs": [],
      "source": [
        "# [3-55] 월별(index), 년별(columns), 미세먼지 농도 평균을 조회하여 data로 저장합니다\n"
      ]
    },
    {
      "cell_type": "code",
      "execution_count": null,
      "metadata": {
        "colab": {
          "base_uri": "https://localhost:8080/",
          "height": 298
        },
        "id": "_p6NRbzD59Jp",
        "outputId": "3d60538c-a7a0-426f-9456-20ee6af5a065"
      },
      "outputs": [
        {
          "data": {
            "image/png": "[encoded data removed]",
            "text/plain": [
              "<Figure size 576x288 with 1 Axes>"
            ]
          },
          "metadata": {
            "needs_background": "light"
          },
          "output_type": "display_data"
        }
      ],
      "source": [
        "# [3-56] 2016년도 미세먼지 농도가 가장 높은 월은?\n",
        "year = 2016\n"
      ]
    },
    {
      "cell_type": "code",
      "execution_count": null,
      "metadata": {
        "colab": {
          "base_uri": "https://localhost:8080/",
          "height": 352
        },
        "id": "8OWFoUx9p9lK",
        "outputId": "4743a1ac-b60a-45db-8c77-8723340aac03"
      },
      "outputs": [
        {
          "data": {
            "image/png": "[encoded data removed]",
            "text/plain": [
              "<Figure size 720x360 with 1 Axes>"
            ]
          },
          "metadata": {
            "needs_background": "light"
          },
          "output_type": "display_data"
        }
      ],
      "source": [
        "# [3-57] 2016 ~ 2018 년도별 월별 미세먼지 농도 추이 그래프\n"
      ]
    },
    {
      "cell_type": "code",
      "execution_count": null,
      "metadata": {
        "id": "dN29Vyoqz41O"
      },
      "outputs": [],
      "source": [
        "# [3-58] 2016~2018년까지의 월별 미세먼지 평균 구하기\n",
        "\n"
      ]
    },
    {
      "cell_type": "code",
      "execution_count": null,
      "metadata": {
        "colab": {
          "base_uri": "https://localhost:8080/",
          "height": 352
        },
        "id": "fyfUIWI8-VB8",
        "outputId": "9a5473c6-69cb-41ad-f894-dd1c9ddd8e8b"
      },
      "outputs": [
        {
          "data": {
            "image/png": "[encoded data removed]",
            "text/plain": [
              "<Figure size 720x360 with 1 Axes>"
            ]
          },
          "metadata": {
            "needs_background": "light"
          },
          "output_type": "display_data"
        }
      ],
      "source": [
        "# [3-59] 3년 평균 미세먼지 농도가 가장 높은 월과 낮은 월 강조 그래프\n",
        "\n",
        "\n"
      ]
    },
    {
      "cell_type": "code",
      "execution_count": null,
      "metadata": {
        "colab": {
          "base_uri": "https://localhost:8080/"
        },
        "id": "9AD72kM-B8gx",
        "outputId": "1e413a00-cdad-4db8-eaf9-cfd91aa6b605"
      },
      "outputs": [
        {
          "data": {
            "text/plain": [
              "270.0"
            ]
          },
          "execution_count": 271,
          "metadata": {},
          "output_type": "execute_result"
        }
      ],
      "source": [
        "# [3-60] 2016~2018 미세먼지 농도 측정치 중 가장 큰 값은?\n"
      ]
    },
    {
      "cell_type": "code",
      "execution_count": null,
      "metadata": {
        "colab": {
          "base_uri": "https://localhost:8080/",
          "height": 81
        },
        "id": "GyqHT_cSBJtd",
        "outputId": "cdd08a63-e5bd-4246-8692-cfee3458dce8"
      },
      "outputs": [
        {
          "data": {
            "text/html": [
              "<div>\n",
              "<style scoped>\n",
              "    .dataframe tbody tr th:only-of-type {\n",
              "        vertical-align: middle;\n",
              "    }\n",
              "\n",
              "    .dataframe tbody tr th {\n",
              "        vertical-align: top;\n",
              "    }\n",
              "\n",
              "    .dataframe thead th {\n",
              "        text-align: right;\n",
              "    }\n",
              "</style>\n",
              "<table border=\"1\" class=\"dataframe\">\n",
              "  <thead>\n",
              "    <tr style=\"text-align: right;\">\n",
              "      <th></th>\n",
              "      <th>측정일시</th>\n",
              "      <th>측정소명</th>\n",
              "      <th>년</th>\n",
              "      <th>월</th>\n",
              "      <th>일</th>\n",
              "      <th>오존농도(ppm)</th>\n",
              "      <th>미세먼지(㎍/㎥)</th>\n",
              "      <th>초미세먼지(㎍/㎥)</th>\n",
              "    </tr>\n",
              "  </thead>\n",
              "  <tbody>\n",
              "    <tr>\n",
              "      <th>4405</th>\n",
              "      <td>20160423</td>\n",
              "      <td>신촌로</td>\n",
              "      <td>2016</td>\n",
              "      <td>4</td>\n",
              "      <td>23</td>\n",
              "      <td>0.01</td>\n",
              "      <td>270.00</td>\n",
              "      <td>46.00</td>\n",
              "    </tr>\n",
              "  </tbody>\n",
              "</table>\n",
              "</div>"
            ],
            "text/plain": [
              "          측정일시 측정소명     년  월   일  오존농도(ppm)  미세먼지(㎍/㎥)  초미세먼지(㎍/㎥)\n",
              "4405  20160423  신촌로  2016  4  23       0.01     270.00       46.00"
            ]
          },
          "execution_count": 272,
          "metadata": {},
          "output_type": "execute_result"
        }
      ],
      "source": [
        "# [3-61] 2016~2018 미세먼지 농도 측정치 중 가장 큰 값을 갖는 정보\n"
      ]
    },
    {
      "cell_type": "code",
      "execution_count": null,
      "metadata": {
        "colab": {
          "base_uri": "https://localhost:8080/"
        },
        "id": "lvihzMQjEPlF",
        "outputId": "e02da1c0-7eca-4f22-c903-a37c34689f9c"
      },
      "outputs": [
        {
          "data": {
            "text/plain": [
              "측정소명\n",
              "도로변1(광화문역)   22.19\n",
              "Name: 미세먼지(㎍/㎥), dtype: float64"
            ]
          },
          "execution_count": 286,
          "metadata": {},
          "output_type": "execute_result"
        }
      ],
      "source": [
        "# [3-62] 측정소 중에서 평균 미세먼지 농도가 가장 낮은 곳은 어디일까?\n"
      ]
    },
    {
      "cell_type": "code",
      "execution_count": null,
      "metadata": {
        "colab": {
          "base_uri": "https://localhost:8080/"
        },
        "id": "d9MYPMnYFnNM",
        "outputId": "d567ef14-9e31-41dc-887f-cf20b194dc6f"
      },
      "outputs": [
        {
          "name": "stdout",
          "output_type": "stream",
          "text": [
            "미세먼지(㎍/㎥)   96.52\n",
            "Name: 공사장2(신문로), dtype: float64\n"
          ]
        }
      ],
      "source": [
        "# [3-63] 측정소 중에서 평균 미세먼지 농도가 가장 높은 곳은 어디일까?\n",
        "\n"
      ]
    },
    {
      "cell_type": "code",
      "execution_count": null,
      "metadata": {
        "colab": {
          "base_uri": "https://localhost:8080/",
          "height": 1000
        },
        "id": "u8TEu69XCpR-",
        "outputId": "69a408cd-d213-4184-a747-03bd3fa70341"
      },
      "outputs": [
        {
          "data": {
            "image/png": "[encoded data removed]",
            "text/plain": [
              "<Figure size 864x1584 with 1 Axes>"
            ]
          },
          "metadata": {
            "needs_background": "light"
          },
          "output_type": "display_data"
        }
      ],
      "source": [
        "# [3-64] 측정소별 미세먼지 농도 평균을 그래프로 살펴보자\n",
        "\n"
      ]
    }
  ],
  "metadata": {
    "colab": {
      "provenance": [],
      "toc_visible": true
    },
    "kernelspec": {
      "display_name": "ml",
      "language": "python",
      "name": "ml"
    },
    "language_info": {
      "codemirror_mode": {
        "name": "ipython",
        "version": 3
      },
      "file_extension": ".py",
      "mimetype": "text/x-python",
      "name": "python",
      "nbconvert_exporter": "python",
      "pygments_lexer": "ipython3",
      "version": "3.11.0"
    }
  },
  "nbformat": 4,
  "nbformat_minor": 0
}
