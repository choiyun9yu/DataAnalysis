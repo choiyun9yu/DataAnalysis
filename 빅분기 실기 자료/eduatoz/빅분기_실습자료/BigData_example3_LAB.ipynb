{
  "cells": [
    {
      "attachments": {},
      "cell_type": "markdown",
      "metadata": {
        "id": "UdPHfkFPGTDb"
      },
      "source": [
        "## 1.기출문제 (빅분기 실기 4회)"
      ]
    },
    {
      "attachments": {},
      "cell_type": "markdown",
      "metadata": {
        "id": "vA-FmFtl_GSO"
      },
      "source": [
        "#### 1-1. \n",
        "웹과 애플리케이션에서 데이터 객체를 '속성과 값'의 쌍의 형태로 표현하는 형식으로 자바스크립트를 토대로 개발되었으며 독립형 언어이며 텍스트로 기술하여 사람도 쉽게 읽고 작성할 수 있다."
      ]
    },
    {
      "cell_type": "code",
      "execution_count": null,
      "metadata": {
        "id": "dWlF2WPw-rb5"
      },
      "outputs": [],
      "source": []
    },
    {
      "attachments": {},
      "cell_type": "markdown",
      "metadata": {
        "id": "fepF01fW_Mki"
      },
      "source": [
        "#### 1-2. \n",
        "(     )은 통계학에서 적합한 회귀식에 의한 예측치와 관찰치의 차이인 잔차들의 제곱의 합이 최소가 되도록 회귀계수를 추정하는 방법을 말한다."
      ]
    },
    {
      "cell_type": "code",
      "execution_count": null,
      "metadata": {
        "id": "qct50H6e_R11"
      },
      "outputs": [],
      "source": []
    },
    {
      "attachments": {},
      "cell_type": "markdown",
      "metadata": {
        "id": "uMhxcUyi_UJQ"
      },
      "source": [
        "#### 1-3.\n",
        "정규분포가 아닌 데이터를 정규분포에 가깝게 만들거나 데이터 분산을 안정화하는 기법으로 lambda 값에 따라 정도가 달라지는데 이 값이 클수록 고차원의 함수를 사용한다."
      ]
    },
    {
      "cell_type": "code",
      "execution_count": null,
      "metadata": {
        "id": "WkwIMAg7_Tws"
      },
      "outputs": [],
      "source": []
    },
    {
      "attachments": {},
      "cell_type": "markdown",
      "metadata": {
        "id": "KMHZMoow_ekq"
      },
      "source": [
        "#### 1-4.\n",
        "많은 컬럼을 가지는 다차원 데이터셋은 공통된 특성을 많이 가지고 있어서 상대적으로 적은 차원에서 학습한 모델에 비해 예측의 성능이 저하되는 등의 문제가 발생한다. 이를 방지하기 위해 일반적으로 서로 상관성이 높은 변수들을 요약하고 축소하는 주성분분석과 같은 (         ) 방법이 사용된다."
      ]
    },
    {
      "cell_type": "code",
      "execution_count": null,
      "metadata": {
        "id": "RoCqgsMf_m3a"
      },
      "outputs": [],
      "source": []
    },
    {
      "attachments": {},
      "cell_type": "markdown",
      "metadata": {
        "id": "UZgAmIsP_0SU"
      },
      "source": [
        "#### 1-5.\n",
        "다음이 설명하는 것은 무엇인가? \n",
        "- (가) 대뇌피질의 시각피질을 모델화한 인공신경망의 일종이다\n",
        "- (나) 군집분석 방법의 하나이다\n",
        "- (다) 자율학습의 방법으로 훈련이 되며, 저차원의 지도를 생성한다."
      ]
    },
    {
      "cell_type": "code",
      "execution_count": null,
      "metadata": {
        "id": "b9lyDHBP_3_-"
      },
      "outputs": [],
      "source": []
    },
    {
      "attachments": {},
      "cell_type": "markdown",
      "metadata": {
        "id": "PiwGuNDb_3iv"
      },
      "source": [
        "#### 1-6.\n",
        "선형회귀분석에서 아래 설명은 어떤한 가정을 확인하기 위한 것인가?\n",
        "- (가) 오차가 정규분포를 따른다\n",
        "- (나) Q-Q플롯을 그린다\n",
        "- (다) 잔차가 특정 범위 내에 안정적으로 분포되어 있다"
      ]
    },
    {
      "cell_type": "code",
      "execution_count": null,
      "metadata": {
        "id": "8Sh4WvGvAF4L"
      },
      "outputs": [],
      "source": []
    },
    {
      "attachments": {},
      "cell_type": "markdown",
      "metadata": {
        "id": "9D8QN5a5AJgn"
      },
      "source": [
        "#### 1-7. \n",
        "다음은 무엇에 관한 내용인가?\n",
        "- 기계학습 분야 중 하나로 패턴인식 등을 위한 지도학습 모델임\n",
        "- 주어진 데이터 집합을 바탕으로 생로운 데이터가 어떤 범주에 속할 것인지를 판단함\n",
        "- 데이터가 사상된 공간에서 경계로 표현되며, 공간상에 존재하는 여러 경계 중 가장 큰 폭을 가진 경계를 찾음\n",
        "- 고차원 혹은 무한 차원의 공간에서 마진을 최대화하는 초평면을 찾음"
      ]
    },
    {
      "cell_type": "code",
      "execution_count": null,
      "metadata": {
        "id": "r3XoayrfARl5"
      },
      "outputs": [],
      "source": []
    },
    {
      "attachments": {},
      "cell_type": "markdown",
      "metadata": {
        "id": "KfMgiog6AVPO"
      },
      "source": [
        "#### 1-8. \n",
        "인공신경망 모형에서 과적합을 방지하기 위해 사용하는 방법 중 하나로 신경망의 은닉층의 뉴런을 임의로 제거한다."
      ]
    },
    {
      "cell_type": "code",
      "execution_count": null,
      "metadata": {
        "id": "bLCAJnq0ATvv"
      },
      "outputs": [],
      "source": []
    },
    {
      "attachments": {},
      "cell_type": "markdown",
      "metadata": {
        "id": "M3Fgw13HAeC0"
      },
      "source": [
        "#### 1-9.\n",
        "(     )은 정형데이터 수집 기술로 관계형 데이터베이스(RDB)와 분산 파일 시스템(HDFS) 간의 데이터 변환을 위한 도구로 구조화된 데이터 저장소 간에 대량 데이터를 효율적으로 전송하도록 설계되었다."
      ]
    },
    {
      "cell_type": "code",
      "execution_count": null,
      "metadata": {
        "id": "6UL_YB4iAdkQ"
      },
      "outputs": [],
      "source": []
    },
    {
      "attachments": {},
      "cell_type": "markdown",
      "metadata": {
        "id": "nQkH0fq6jBlK"
      },
      "source": [
        "#### 1-10.\n",
        "이진분류에서 Recall=0.8 이고 Precision = 0.6 일 때 f1-score를 계산하고 소수점 셋째 자리까지 나타내어라"
      ]
    },
    {
      "cell_type": "code",
      "execution_count": null,
      "metadata": {
        "id": "HHYHMUm_Pjw4"
      },
      "outputs": [],
      "source": []
    },
    {
      "attachments": {},
      "cell_type": "markdown",
      "metadata": {
        "id": "9wr6snMrGMHo"
      },
      "source": [
        "## 2.기출문제 (빅분기 실기 4회)"
      ]
    },
    {
      "cell_type": "code",
      "execution_count": null,
      "metadata": {
        "id": "dvyzPcRnDb3w"
      },
      "outputs": [],
      "source": [
        "# 데이터 다운로드"
      ]
    },
    {
      "cell_type": "code",
      "execution_count": 1,
      "metadata": {
        "id": "SqK7UuUrWqfP"
      },
      "outputs": [
        {
          "name": "stdout",
          "output_type": "stream",
          "text": [
            "fatal: 대상 경로가('bigdata') 이미 있고 빈 디렉터리가 아닙니다.\n"
          ]
        }
      ],
      "source": [
        "!git clone https://github.com/Soyoung-Yoon/bigdata"
      ]
    },
    {
      "attachments": {},
      "cell_type": "markdown",
      "metadata": {
        "id": "XmsDHqDFBzM3"
      },
      "source": [
        "#### 2-1. 신상 데이터\n",
        "age 컬럼에 대해 아래의 과정을 수행하고 (다) 단계의 결과값을 출력하여라.\n",
        "- (가) 제 1사분위수와 제 3사분위수를 구하기\n",
        "- (나) 두 값의 차이 절댓값 구하기\n",
        "- (다) 그 값의 소수점 버리기\n"
      ]
    },
    {
      "cell_type": "code",
      "execution_count": null,
      "metadata": {
        "id": "ttr2QTVbvRMC"
      },
      "outputs": [],
      "source": [
        "#'https://raw.githubusercontent.com/Soyoung-Yoon/bigdata/main/basic1_data04.csv'  파일 사용"
      ]
    },
    {
      "cell_type": "code",
      "execution_count": 6,
      "metadata": {
        "id": "UQvNfXEgKp6e"
      },
      "outputs": [
        {
          "name": "stdout",
          "output_type": "stream",
          "text": [
            "50\n"
          ]
        }
      ],
      "source": [
        "import pandas as pd\n",
        "pd.set_option('chained_assignment', None)\n",
        "df = pd.read_csv('https://raw.githubusercontent.com/Soyoung-Yoon/bigdata/main/basic1_data04.csv')\n",
        "df.head()\n",
        "\n",
        "target = df['age']\n",
        "\n",
        "# q1, q3 \n",
        "q1, q3 = target.quantile([0.25, 0.75])\n",
        "\n",
        "# abs(q1-q3)\n",
        "res = abs(q1-q3)\n",
        "\n",
        "# round()\n",
        "res = round(res)\n",
        "print(round(res))"
      ]
    },
    {
      "attachments": {},
      "cell_type": "markdown",
      "metadata": {
        "id": "Uv_3WUzRCFV0"
      },
      "source": [
        "#### 2-2. Facebook 데이터\n",
        "\n",
        "Facebook 데이터셋을 불러와 (loves반응 + wows반응)/(reactions반응) 비율이 0.4보다 크고 0.5보다 작으면서, type이 'video'인 데이터의 갯수를 구하여라\n",
        "- 'https://raw.githubusercontent.com/Soyoung-Yoon/bigdata/main/fb_data04.csv' 파일 사용"
      ]
    },
    {
      "cell_type": "code",
      "execution_count": 12,
      "metadata": {
        "id": "FLkE8PWuwV-I"
      },
      "outputs": [
        {
          "name": "stdout",
          "output_type": "stream",
          "text": [
            "90\n"
          ]
        }
      ],
      "source": [
        "import pandas as pd\n",
        "pd.set_option('chained_assignment', None)\n",
        "df = pd.read_csv('https://raw.githubusercontent.com/Soyoung-Yoon/bigdata/main/fb_data04.csv')\n",
        "# print(df.head())\n",
        "\n",
        "loves = df['loves']\n",
        "wows = df['wows']\n",
        "reactions = df['reactions']\n",
        "typ = df['type']\n",
        "\n",
        "condition = (loves+wows)/reactions\n",
        "# print(condition)\n",
        "print(len(df[(condition>0.4) & (condition<0.5) & (typ=='video')]))"
      ]
    },
    {
      "attachments": {},
      "cell_type": "markdown",
      "metadata": {
        "id": "s0Iohr2QC6As"
      },
      "source": [
        "#### 2-3. 넷플릭스 데이터 \n",
        "netflix_subset 데이터셋에서 date_added가 2018년 1월이면서 country가 United Kingdom 단독 제작인 데이터의 개수를 구하여라\n",
        "- 'https://raw.githubusercontent.com/Soyoung-Yoon/bigdata/main/nf_data04.csv' 파일 사용"
      ]
    },
    {
      "cell_type": "code",
      "execution_count": 32,
      "metadata": {
        "id": "II4-4rISf1Ys"
      },
      "outputs": [
        {
          "name": "stdout",
          "output_type": "stream",
          "text": [
            "6\n"
          ]
        }
      ],
      "source": [
        "import pandas as pd\n",
        "pd.set_option('chained_assignment', None)\n",
        "df = pd.read_csv(\"https://raw.githubusercontent.com/Soyoung-Yoon/bigdata/main/nf_data04.csv\")\n",
        "# df.info()\n",
        "\n",
        "# date_added가 가 2018 1월, date_added, object\n",
        "# country가 United Kingdom 단독\n",
        "# 근데 두 칼럼 다 결측치 있어서 결측치를 빈칸으로 채우고 시작\n",
        "\n",
        "df['date_added'] = df['date_added'].fillna('')\n",
        "df['country'] = df['country'].fillna('')\n",
        "# df.info() 결측치 해소\n",
        "\n",
        "# print(df['date_added'])\n",
        "condition0 = df['date_added'].str.contains('January')\n",
        "condition1 = df['date_added'].str.contains('2018')\n",
        "condition2 = df['country']=='United Kingdom'\n",
        "print(len(df[condition0 & condition1 & condition2]))"
      ]
    },
    {
      "attachments": {},
      "cell_type": "markdown",
      "metadata": {
        "id": "SxegKonKDHPJ"
      },
      "source": [
        "## 3.기출문제 (빅분기 실기 4회)\n",
        "자동차 시장 세분화\n",
        "- 자동차 회사는 새로운 전략을 수립하기 위해 4개의 시장으로 세분화했습니다.\n",
        "- 기존 고객 분류 자료를 바탕으로 신규 고객이 어떤 분류에 속할지 예측해주세요!\n",
        "- 예측할 값(y): \"Segmentation\" (1,2,3,4)\n",
        "- 평가: Macro f1-score\n",
        "- 제출형식\n",
        "\n",
        "        ID,Segmentation\n",
        "        458989,1\n",
        "        458994,2\n",
        "        459000,3\n",
        "        459003,4"
      ]
    },
    {
      "attachments": {},
      "cell_type": "markdown",
      "metadata": {
        "id": "XegtsURWg8XJ"
      },
      "source": [
        "- 다음의 데이터 파일 준비를 실행해서 x_train.csv, y_train.csv, x_test.csv 파일을 준비합니다.\n"
      ]
    },
    {
      "attachments": {},
      "cell_type": "markdown",
      "metadata": {
        "id": "NCqn_6zOtyXi"
      },
      "source": [
        "### 3-01.데이터 불러오기, 탐색"
      ]
    },
    {
      "cell_type": "code",
      "execution_count": 33,
      "metadata": {
        "colab": {
          "base_uri": "https://localhost:8080/"
        },
        "id": "Kbwq4Xf2WiZf",
        "outputId": "ba7e2994-c717-4077-d941-8f58166d3202"
      },
      "outputs": [
        {
          "name": "stdout",
          "output_type": "stream",
          "text": [
            "파일을 준비했습니다!  X_train.csv, Y_train.csv, X_test.csv !\n"
          ]
        }
      ],
      "source": [
        "# 데이터 파일 준비\n",
        "# 그냥 실행해서 사용 파일을 생성하도록 합니다.\n",
        "import pandas as pd\n",
        "\n",
        "train = pd.read_csv('https://raw.githubusercontent.com/Soyoung-Yoon/bigdata/main/train_04.csv')\n",
        "test = pd.read_csv('https://raw.githubusercontent.com/Soyoung-Yoon/bigdata/main/test_04.csv')\n",
        "train.head(2)\n",
        "X_train = train.iloc[:, :-1]\n",
        "Y_train = train[['ID', 'Segmentation']]\n",
        "X_train.to_csv('X_train.csv', index=False)\n",
        "Y_train.to_csv('Y_train.csv', index=False)\n",
        "test.to_csv('X_test.csv', index=False)\n",
        "print('파일을 준비했습니다!  X_train.csv, Y_train.csv, X_test.csv !')"
      ]
    },
    {
      "cell_type": "code",
      "execution_count": null,
      "metadata": {
        "id": "ljn7qAfH8uw2"
      },
      "outputs": [],
      "source": [
        "# [0] 사용 라이브러리 import\n",
        "import pandas as pd\n",
        "\n",
        "# 데이타가 많은경우 모두 출력 안되고 ... 으로 생략해서 출력됨.\n",
        "pd.set_option('display.max_rows',500)    #출력할 max row를 지정\n",
        "pd.set_option('display.max_columns',20)  #출력할 max columns를 지정\n",
        "#출력 format 지정 - 소수점아래 2자리까지\n",
        "pd.set_option('display.float_format', '{:.2f}'.format)"
      ]
    },
    {
      "cell_type": "code",
      "execution_count": 91,
      "metadata": {
        "colab": {
          "base_uri": "https://localhost:8080/"
        },
        "id": "mNl3dB0VmMxo",
        "outputId": "9e5513e8-1c43-4b35-b49b-b99d1615696e"
      },
      "outputs": [
        {
          "name": "stdout",
          "output_type": "stream",
          "text": [
            "       ID  Segmentiation\n",
            "0  458989              1\n",
            "1  458994              3\n",
            "2  459000              2\n",
            "3  459003              3\n",
            "4  459005              1\n",
            "[[0.41923278 0.27424795 0.11443216 0.19208711]\n",
            " [0.20689219 0.32409038 0.35004087 0.11897656]\n",
            " [0.2540316  0.34222659 0.28307974 0.12066207]\n",
            " ...\n",
            " [0.4249072  0.27787003 0.12347354 0.17374922]\n",
            " [0.19669467 0.37001358 0.35767075 0.07562101]\n",
            " [0.28332605 0.14879449 0.13634152 0.43153795]]\n"
          ]
        }
      ],
      "source": [
        "import pandas as pd\n",
        "pd.set_option('chained_assignment', None)\n",
        "\n",
        "X_read = pd.read_csv('X_train.csv')\n",
        "y_read = pd.read_csv('Y_train.csv')\n",
        "X_sub_read = pd.read_csv('X_test.csv')\n",
        "# print(X_read.shape, y_read.shape, X_sub_read.shape)# (6665, 10) (6665, 2) (2154, 10)\n",
        "\n",
        "dfx = pd.concat([X_read, X_sub_read], axis=0, ignore_index=True)\n",
        "# print(y_read.head()) # ID, Segmentation\n",
        "y = y_read['Segmentation']\n",
        "# y.unique() # 1, 2, 3, 4의 다중 분류\n",
        "# print(dfx.shape, y.shape) # (8819, 10) (6665,)\n",
        "\n",
        "# dfx.info() # 결측치 없음, obejct : ['Gender', 'Ever_Married' , 'Graduated', 'Profession', 'Spending_Score', 'Var_1']\n",
        "df_o = dfx[['Gender', 'Ever_Married' , 'Graduated', 'Profession', 'Spending_Score', 'Var_1']]\n",
        "df_n = dfx.drop(['ID', 'Gender', 'Ever_Married' , 'Graduated', 'Profession', 'Spending_Score', 'Var_1'], axis=1)\n",
        "# print(df_o.shape, df_n.shape) # (8819, 6) (8819, 3)\n",
        "\n",
        "# print(df_o.head())\n",
        "# print(df_o['Var_1'].value_counts(normalize=True))\n",
        "\n",
        "# 범주형\n",
        "# 라벨링\n",
        "from sklearn.preprocessing import StandardScaler, LabelEncoder\n",
        "df_o['Gender'] = LabelEncoder().fit_transform(df_o['Gender'])\n",
        "df_o['Ever_Married'] = LabelEncoder().fit_transform(df_o['Ever_Married'])\n",
        "df_o['Graduated'] = LabelEncoder().fit_transform(df_o['Graduated'])\n",
        "df_o['Profession'] = LabelEncoder().fit_transform(df_o['Profession'])\n",
        "df_o['Spending_Score'] = LabelEncoder().fit_transform(df_o['Spending_Score'])\n",
        "df_o['Var_1'] = LabelEncoder().fit_transform(df_o['Var_1'])\n",
        "# print(df_o.head())\n",
        "\n",
        "# 연속형\n",
        "# 이상치\n",
        "col = df_n.columns\n",
        "# 스케일링\n",
        "df_n = StandardScaler().fit_transform(df_n)\n",
        "df_n = pd.DataFrame(data=df_n, columns=col)\n",
        "# print(df_n.head())\n",
        "\n",
        "# 홀드아웃\n",
        "dfx = pd.concat([df_n, df_o], axis=1)\n",
        "# print(dfx.shape) # (8819, 9)\n",
        "X = dfx.iloc[:len(X_read),:]\n",
        "X_sub = dfx.iloc[len(X_read):,:]\n",
        "# print(X.shape, X_sub.shape, y.shape) # (6665, 9) (2154, 9) (6665,)\n",
        "\n",
        "from sklearn.model_selection import train_test_split\n",
        "# print(help(train_test_split))\n",
        "X_train, X_test, y_train, y_test = train_test_split(X, y, test_size=0.3,\n",
        "                                                    random_state=0, stratify=y)\n",
        "# print(X_train.shape, X_test.shape, y_train.shape, y_test.shape) # (4665, 9) (2000, 9) (4665,) (2000,)\n",
        "\n",
        "# 모델링\n",
        "from sklearn.ensemble import RandomForestClassifier\n",
        "model = RandomForestClassifier(n_estimators=500, max_depth=5)\n",
        "model.fit(X, y)\n",
        "# y_proba = model.predict_proba(X_test)\n",
        "# print(model.score(X_test, y_test))\n",
        "# from sklearn.metrics import roc_auc_score\n",
        "# roc = roc_auc_score(y_test, y_proba, multi_class='ovo')\n",
        "# print(roc)\n",
        "y_pred = model.predict(X_sub)\n",
        "\n",
        "pd.DataFrame({'ID':X_sub_read.ID, 'Segmentiation':y_pred}).to_csv('006005011.csv', index=False)\n",
        "ch = pd.read_csv('006005011.csv')\n",
        "print(ch.head())\n",
        "\n",
        "y_proba = model.predict_proba(X_sub)\n",
        "print(y_proba)\n"
      ]
    }
  ],
  "metadata": {
    "colab": {
      "provenance": [],
      "toc_visible": true
    },
    "kernelspec": {
      "display_name": "ml",
      "language": "python",
      "name": "ml"
    },
    "language_info": {
      "codemirror_mode": {
        "name": "ipython",
        "version": 3
      },
      "file_extension": ".py",
      "mimetype": "text/x-python",
      "name": "python",
      "nbconvert_exporter": "python",
      "pygments_lexer": "ipython3",
      "version": "3.11.0"
    }
  },
  "nbformat": 4,
  "nbformat_minor": 0
}
