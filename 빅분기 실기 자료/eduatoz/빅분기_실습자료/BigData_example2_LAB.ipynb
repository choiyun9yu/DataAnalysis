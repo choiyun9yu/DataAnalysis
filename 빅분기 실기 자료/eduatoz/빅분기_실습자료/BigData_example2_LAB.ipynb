{
  "cells": [
    {
      "attachments": {},
      "cell_type": "markdown",
      "metadata": {
        "id": "sDiC6FZZpgoY"
      },
      "source": [
        "## 빅분기 3회 실기 기출"
      ]
    },
    {
      "attachments": {},
      "cell_type": "markdown",
      "metadata": {
        "id": "v9339Cyrqo7I"
      },
      "source": [
        "### 1-1\n",
        "연관성 분석에서 규칙이 우연에 의해 발생한 것인지 판단하기 위해 연관성의 정도를 측정하는 척도는?"
      ]
    },
    {
      "cell_type": "code",
      "execution_count": null,
      "metadata": {
        "id": "ebJEYoReqxWi"
      },
      "outputs": [],
      "source": []
    },
    {
      "attachments": {},
      "cell_type": "markdown",
      "metadata": {
        "id": "sF_ulrihqy2K"
      },
      "source": [
        "### 1-2.\n",
        "분포를 모를 때, 데이터를 0~1 사이로 변환하는 것은?"
      ]
    },
    {
      "cell_type": "code",
      "execution_count": null,
      "metadata": {
        "id": "TG8oyKMjqyjT"
      },
      "outputs": [],
      "source": []
    },
    {
      "attachments": {},
      "cell_type": "markdown",
      "metadata": {
        "id": "Oewel8PYq842"
      },
      "source": [
        "### 1-3.\n",
        "순서형 말고 예를 들어 국가별 코드 값을 가진 이런한 특징을 가진 것을 (    ) 데이터 라고 한다 \n"
      ]
    },
    {
      "cell_type": "code",
      "execution_count": null,
      "metadata": {
        "id": "5XYZIKOXrKV2"
      },
      "outputs": [],
      "source": []
    },
    {
      "attachments": {},
      "cell_type": "markdown",
      "metadata": {
        "id": "BBSKl41HrSkA"
      },
      "source": [
        "### 1-4.\n",
        "마지막 은닉층 두개(0.2, 0.3), 가중치 두개(0.3,-0.1), 바이어스bias(=상수항의 가중치) 0.1 들의 값은 이러하다. 마지막 출력에 입력되는 선형합값은?"
      ]
    },
    {
      "cell_type": "code",
      "execution_count": null,
      "metadata": {
        "id": "x0PKioY-rWns"
      },
      "outputs": [],
      "source": []
    },
    {
      "attachments": {},
      "cell_type": "markdown",
      "metadata": {
        "id": "XrEEzXfFrcyv"
      },
      "source": [
        "### 1-5\n",
        "회귀, 분류 둘다 사용가능하며 지도학습 알고리즘으로 구분하는 경계와 데이터가 멀수록(최대일경우) 가장 좋은 모델로 선정하는 알고리즘은 무엇인가?"
      ]
    },
    {
      "cell_type": "code",
      "execution_count": null,
      "metadata": {
        "id": "2z0kG-OSrfxi"
      },
      "outputs": [],
      "source": []
    },
    {
      "attachments": {},
      "cell_type": "markdown",
      "metadata": {
        "id": "bWD-OBsvu2W8"
      },
      "source": [
        "### 1-6\n",
        "여러 개의 동일 또는 상이한 여러 가지 모형의 예측/분류 결과를 종합하여 최종 결과를 정하는 방식의 머신러닝 알고리즘을 무엇이라고 하는가?\n",
        "\n",
        "\n"
      ]
    },
    {
      "cell_type": "code",
      "execution_count": null,
      "metadata": {
        "id": "aRKEdvcZ4CqP"
      },
      "outputs": [],
      "source": []
    },
    {
      "attachments": {},
      "cell_type": "markdown",
      "metadata": {
        "id": "ZoGO5oimu6fc"
      },
      "source": [
        "### 1-7\n",
        "다음은 어떤 군집화 연결법에 관한 설명인가? \n",
        "- 두 군집의 중심 거리로 결합, 새로운 군집의 평균은 가중평균으로 구하는 연결법"
      ]
    },
    {
      "cell_type": "code",
      "execution_count": null,
      "metadata": {
        "id": "gm7rBmjY39l4"
      },
      "outputs": [],
      "source": []
    },
    {
      "attachments": {},
      "cell_type": "markdown",
      "metadata": {
        "id": "mB7JA4T5vA0g"
      },
      "source": [
        "### 1-8\n",
        "군집 분석 진행 시 데이터의 `(________)`를 고려하는 것이 중요하다"
      ]
    },
    {
      "cell_type": "code",
      "execution_count": null,
      "metadata": {
        "id": "42X5qbFevHDz"
      },
      "outputs": [],
      "source": []
    },
    {
      "attachments": {},
      "cell_type": "markdown",
      "metadata": {
        "id": "cECrE_JOvKIY"
      },
      "source": [
        "### 1-9\n",
        "A 학교의 영어점수 60점과 B학교의 영어점수 60점은 같은 60점이지만 학교가 다르기 때문에 같은 점수라고 볼 수 없다. 이는 데이터의 (    )이 다르기 때문이다."
      ]
    },
    {
      "cell_type": "code",
      "execution_count": null,
      "metadata": {
        "id": "eToHMLZnvTvP"
      },
      "outputs": [],
      "source": []
    },
    {
      "attachments": {},
      "cell_type": "markdown",
      "metadata": {
        "id": "DWbq-blsvZcp"
      },
      "source": [
        "### 1-10\n",
        "그룹화를 의미하는 데이터 변환을 뭐라하는가?\n",
        "(예시 : 일별 매출건수를 그룹화하여 월별 매출건수, 분기별 매출건수로 변환)"
      ]
    },
    {
      "cell_type": "code",
      "execution_count": null,
      "metadata": {
        "id": "yHpb60LWvdNW"
      },
      "outputs": [],
      "source": []
    },
    {
      "attachments": {},
      "cell_type": "markdown",
      "metadata": {
        "id": "U4yCvd7_4HQQ"
      },
      "source": [
        "## 2.작업형1"
      ]
    },
    {
      "cell_type": "code",
      "execution_count": 1,
      "metadata": {
        "colab": {
          "base_uri": "https://localhost:8080/"
        },
        "id": "l_uAL496Wt1f",
        "outputId": "fef7c5b5-000b-4e45-8668-2857d8f4f3b7"
      },
      "outputs": [
        {
          "name": "stdout",
          "output_type": "stream",
          "text": [
            "fatal: 대상 경로가('bigdata') 이미 있고 빈 디렉터리가 아닙니다.\n"
          ]
        }
      ],
      "source": [
        "!git clone https://github.com/Soyoung-Yoon/bigdata"
      ]
    },
    {
      "cell_type": "code",
      "execution_count": null,
      "metadata": {
        "id": "LL4RoM9i6HeL"
      },
      "outputs": [],
      "source": [
        "'https://raw.githubusercontent.com/Soyoung-Yoon/bigdata/main/'"
      ]
    },
    {
      "attachments": {},
      "cell_type": "markdown",
      "metadata": {
        "id": "FbBF6ZmSp4Ge"
      },
      "source": [
        "### 2-1.캘리포니어 집값 데이터\n",
        "결측치를 포함하는 모든 행을 제거한 후, 처음부터 순서대로 70%를 추출하여, 'housing_median_age' 컬럼의 사분위수 Q1의 값을 구하시오\n",
        "- 주의사항 정답 제출시, 정수형으로 제출해야 함\n",
        "- \"https://raw.githubusercontent.com/Soyoung-Yoon/bigdata/main/housing03.csv\" 파일 사용"
      ]
    },
    {
      "cell_type": "code",
      "execution_count": null,
      "metadata": {
        "id": "iWgEGO71cMSR"
      },
      "outputs": [],
      "source": [
        "# 한 문자형 컬럼에 빈칸 ''인 데이터 1건이 있어서\n",
        "# 빈칸을 결측으로 처리시 빈칸 제거전 242건에서 빈칸 제거후 243건의 행이 제거됨\n",
        "# 하지만 제거하지 않고 1분위수를 구하더라도 정답은 같음"
      ]
    },
    {
      "cell_type": "code",
      "execution_count": 29,
      "metadata": {
        "id": "_x39Rr17pda0"
      },
      "outputs": [
        {
          "name": "stdout",
          "output_type": "stream",
          "text": [
            "19\n"
          ]
        }
      ],
      "source": [
        "import pandas as pd\n",
        "pd.set_option('chained_assignment', None)\n",
        "df = pd.read_csv('https://raw.githubusercontent.com/Soyoung-Yoon/bigdata/main/housing03.csv')\n",
        "\n",
        "df = df.dropna(axis=0)\n",
        "\n",
        "target = df.iloc[:int(len(df)*0.7),:]\n",
        "\n",
        "q1 = target['housing_median_age'].quantile(0.25)\n",
        "print(int(q1))"
      ]
    },
    {
      "attachments": {},
      "cell_type": "markdown",
      "metadata": {
        "id": "dvODvI5fqIUl"
      },
      "source": [
        "### 2-2.연도별 나라별 유병률 데이터\n",
        "2000년 데이터에 대해 국가 전체 유병률 평균 값보다 큰 값을 가진 국가 개수는?\n",
        "(year 변수와 국가들의 결핵 유병률 값을 가진 데이터셋이 주어짐)\n",
        "\n",
        "        year  Afghanistan  Albania  Algeria  Andorra  Angola  Antigua & Barbuda  \\\n",
        "        0  1999            0     89.0     25.0    245.0   217.0              102.0   \n",
        "        1  2000            0    132.0      0.0    138.0    57.0              128.0   \n",
        "        2  2001            0     54.0     14.0    312.0    45.0               45.0   \n",
        "        3  2002            0      4.9      0.7     12.4     5.9                4.9 \n",
        "\n",
        "- 'https://raw.githubusercontent.com/Soyoung-Yoon/bigdata/main/worlddata.csv' 파일 사용"
      ]
    },
    {
      "cell_type": "code",
      "execution_count": 57,
      "metadata": {
        "id": "DyKUpzd2qSx8"
      },
      "outputs": [
        {
          "name": "stdout",
          "output_type": "stream",
          "text": [
            "76\n"
          ]
        }
      ],
      "source": [
        "import pandas as pd \n",
        "pd.set_option('chained_assignment', None)\n",
        "df = pd.read_csv('https://raw.githubusercontent.com/Soyoung-Yoon/bigdata/main/worlddata.csv')\n",
        "# df['year'].dtype # int\n",
        "df = df.set_index('year')\n",
        "dft = df.T\n",
        "# dft.info()\n",
        "# print(dft.head())\n",
        "target = dft.iloc[:,1]\n",
        "mean = target.mean()\n",
        "print(len(target[target>mean]))"
      ]
    },
    {
      "attachments": {},
      "cell_type": "markdown",
      "metadata": {
        "id": "LP2f9AnEqT6V"
      },
      "source": [
        "### 2-3.타이타닉 데이터\n",
        "- 각 열의 결측치 비율을 확인 한 후, 결측치의 비율이 가장 높은 변수명을 구하시오\n",
        "- \"https://raw.githubusercontent.com/Soyoung-Yoon/bigdata/main/titanic_train03.csv\" 파일 사용\n",
        "- 원본 데이터 : https://www.kaggle.com/c/2019-1st-ml-month-with-kakr/overview"
      ]
    },
    {
      "cell_type": "code",
      "execution_count": 61,
      "metadata": {
        "id": "fSWeR7GcwMNm"
      },
      "outputs": [
        {
          "name": "stdout",
          "output_type": "stream",
          "text": [
            "Age\n"
          ]
        }
      ],
      "source": [
        "# 결측치 비율 확인 <<\n",
        "\n",
        "import pandas as pd\n",
        "pd.set_option('chained_assignment', None)\n",
        "df = pd.read_csv(\"https://raw.githubusercontent.com/Soyoung-Yoon/bigdata/main/titanic_train03.csv\")\n",
        "# df.info()\n",
        "\n",
        "print('Age')"
      ]
    },
    {
      "attachments": {},
      "cell_type": "markdown",
      "metadata": {
        "id": "_MC0WQLWsd3F"
      },
      "source": [
        "## 3.작업형2\n",
        "travel insurance 데이터 - 보험가입여부 예측\n",
        "- travel insurance 데이터를 활용해서 보험가입여부를 예측하라. \n",
        "- 데이터 : https://www.kaggle.com/agileteam/traval-insurance-exam \n",
        "80점 나왔을 때 30점?!\n",
        "- X_train.csv, y_train.csv\n",
        "- X_test.csv (예측해서 제출하는 것)\n",
        "- 평가: roc-auc 평가지표"
      ]
    },
    {
      "cell_type": "code",
      "execution_count": 62,
      "metadata": {
        "id": "E3WCDW1AaEpm"
      },
      "outputs": [],
      "source": [
        "# [0] 사용 라이브러리 import\n",
        "# 파일 생성을 위해 실행하여 주세요!  시험에서는 이런 것은 없습니다.\n",
        "import pandas as pd\n",
        "\n",
        "# 데이타가 많은경우 모두 출력 안되고 ... 으로 생략해서 출력됨.\n",
        "pd.set_option('display.max_rows',500)    #출력할 max row를 지정\n",
        "pd.set_option('display.max_columns',20)  #출력할 max columns를 지정\n",
        "#출력 format 지정 - 소수점아래 4자리까지\n",
        "pd.set_option('display.float_format', '{:.4f}'.format)\n",
        "\n",
        "train = pd.read_csv('https://raw.githubusercontent.com/Soyoung-Yoon/bigdata/main/travel_insurance_train03.csv')\n",
        "test = pd.read_csv('https://raw.githubusercontent.com/Soyoung-Yoon/bigdata/main/travel_insurance_test03.csv')\n",
        "Xtrain = train.drop(columns='TravelInsurance')\n",
        "Xtrain.to_csv('X_train.csv', index=False)\n",
        "train[['Unnamed: 0', 'TravelInsurance']].to_csv('y_train.csv', index=False)\n",
        "test.to_csv('X_test.csv', index=False)"
      ]
    },
    {
      "cell_type": "code",
      "execution_count": 88,
      "metadata": {
        "id": "aY9hecvAaYQA"
      },
      "outputs": [
        {
          "name": "stdout",
          "output_type": "stream",
          "text": [
            "     cust_id  proba\n",
            "0       1569 0.4776\n",
            "1       1344 0.9900\n",
            "2       1429 0.2377\n",
            "3        896 0.1500\n",
            "4        101 0.9767\n",
            "5        605 0.1190\n",
            "6        829 0.6100\n",
            "7        116 0.0352\n",
            "8        837 0.6600\n",
            "9       1466 0.4228\n",
            "10        93 0.7900\n",
            "11       497 0.3720\n",
            "12       351 0.5067\n",
            "13       579 0.0600\n",
            "14      1790 0.0000\n",
            "15      1543 0.0000\n",
            "16      1066 0.0350\n",
            "17      1910 0.0257\n",
            "18      1307 0.1052\n",
            "19       102 0.7200\n",
            "20       144 0.1792\n",
            "21       268 0.2707\n",
            "22      1570 0.1700\n",
            "23      1692 0.4500\n",
            "24       146 0.8600\n",
            "25      1512 0.0517\n",
            "26      1611 0.9400\n",
            "27      1430 1.0000\n",
            "28       379 0.9500\n",
            "29       449 0.7200\n",
            "30      1092 0.9950\n",
            "31       353 0.0000\n",
            "32      1970 0.1074\n",
            "33      1467 0.6030\n",
            "34       527 0.3784\n",
            "35      1959 0.7500\n",
            "36        61 0.0058\n",
            "37      1509 0.2117\n",
            "38       549 0.0333\n",
            "39       178 0.0100\n",
            "40      1213 0.2567\n",
            "41      1968 0.0843\n",
            "42       237 0.3117\n",
            "43       701 0.9350\n",
            "44      1896 1.0000\n",
            "45      1536 0.3028\n",
            "46       813 0.7112\n",
            "47       734 0.9875\n",
            "48       751 0.9700\n",
            "49       399 0.2112\n",
            "50       354 0.0306\n",
            "51      1072 0.0000\n",
            "52       951 1.0000\n",
            "53       619 0.5100\n",
            "54       554 0.6400\n",
            "55        31 0.0000\n",
            "56      1777 0.1400\n",
            "57      1318 0.7662\n",
            "58      1685 0.1905\n",
            "59       825 0.4258\n",
            "60       394 0.0000\n",
            "61      1203 0.0000\n",
            "62      1410 0.0200\n",
            "63      1603 0.0200\n",
            "64       729 0.3592\n",
            "65      1051 0.2017\n",
            "66       675 0.1460\n",
            "67      1306 0.0401\n",
            "68       223 0.3857\n",
            "69      1413 0.4861\n",
            "70      1435 0.0000\n",
            "71      1058 0.4300\n",
            "72        76 0.4415\n",
            "73       550 0.4153\n",
            "74       358 0.1600\n",
            "75       686 0.9500\n",
            "76      1891 0.1650\n",
            "77       135 0.0000\n",
            "78      1617 0.3438\n",
            "79       692 0.0000\n",
            "80       241 0.9862\n",
            "81      1655 0.0100\n",
            "82       384 0.0483\n",
            "83      1064 0.0464\n",
            "84       113 0.2960\n",
            "85       798 0.0680\n",
            "86       512 0.0300\n",
            "87       615 0.0633\n",
            "88       888 0.0500\n",
            "89       111 0.0000\n",
            "90      1403 0.4510\n",
            "91      1494 0.0400\n",
            "92       544 0.0000\n",
            "93      1714 0.5703\n",
            "94        24 0.9950\n",
            "95      1650 0.8600\n",
            "96       882 0.1150\n",
            "97       230 0.1200\n",
            "98       381 0.0464\n",
            "99      1286 0.4249\n",
            "100      312 0.7125\n",
            "101      388 0.0333\n",
            "102     1497 0.5250\n",
            "103     1946 0.5800\n",
            "104     1861 0.2667\n",
            "105     1837 0.3000\n",
            "106      114 0.6032\n",
            "107      348 0.3483\n",
            "108     1694 0.0000\n",
            "109      564 0.2020\n",
            "110      486 0.4200\n",
            "111     1664 0.0695\n",
            "112     1757 0.2800\n",
            "113      946 1.0000\n",
            "114      668 0.2000\n",
            "115      711 0.8062\n",
            "116       12 0.5625\n",
            "117     1706 0.5250\n",
            "118     1925 0.0100\n",
            "119      255 1.0000\n",
            "120     1702 0.8307\n",
            "121      674 0.6027\n",
            "122     1879 0.1310\n",
            "123     1544 0.2410\n",
            "124      724 0.1600\n",
            "125     1928 1.0000\n",
            "126      224 0.0500\n",
            "127     1153 0.4861\n",
            "128      513 0.2977\n",
            "129      863 0.0242\n",
            "130      845 0.0672\n",
            "131     1303 0.1961\n",
            "132      285 0.3558\n",
            "133     1513 0.9900\n",
            "134     1305 0.0050\n",
            "135      314 1.0000\n",
            "136      849 0.4385\n",
            "137      866 0.6490\n",
            "138      189 0.9500\n",
            "139       88 0.0210\n",
            "140      180 0.0200\n",
            "141     1643 0.1825\n",
            "142     1382 0.9900\n",
            "143     1747 0.9400\n",
            "144      336 0.0600\n",
            "145     1432 0.3366\n",
            "146     1259 0.5250\n",
            "147      171 0.4778\n",
            "148     1888 0.0783\n",
            "149       71 0.0200\n",
            "150     1289 0.7955\n",
            "151     1681 0.0200\n",
            "152      970 0.0900\n",
            "153     1406 0.4365\n",
            "154     1600 0.0100\n",
            "155      860 0.6870\n",
            "156      341 0.2600\n",
            "157      103 1.0000\n",
            "158     1559 0.0150\n",
            "159      385 0.0100\n",
            "160      910 0.4385\n",
            "161      768 1.0000\n",
            "162      370 0.0900\n",
            "163     1273 0.2322\n",
            "164     1581 0.4200\n",
            "165     1215 1.0000\n",
            "166     1459 0.7449\n",
            "167       79 0.0325\n",
            "168      760 0.4897\n",
            "169      865 0.9900\n",
            "170     1518 0.0117\n",
            "171     1230 0.9900\n",
            "172       20 0.0683\n",
            "173     1448 0.2170\n",
            "174     1338 1.0000\n",
            "175      921 0.0000\n",
            "176      606 0.2488\n",
            "177      117 0.0000\n",
            "178     1873 0.0000\n",
            "179      403 0.1500\n",
            "180     1801 0.1235\n",
            "181     1561 0.1617\n",
            "182      474 0.0800\n",
            "183      568 0.2112\n",
            "184      408 0.0000\n",
            "185     1607 0.0300\n",
            "186      806 0.1175\n",
            "187     1849 0.0025\n",
            "188      376 0.0050\n",
            "189     1904 0.0800\n",
            "190     1133 0.1403\n",
            "191     1282 0.9800\n",
            "192     1229 0.7600\n",
            "193     1499 0.2360\n",
            "194      365 0.9700\n",
            "195      988 0.4819\n",
            "196     1713 0.1162\n",
            "197      455 0.2829\n",
            "198     1139 0.1484\n",
            "199     1477 0.0100\n",
            "200      303 0.0000\n",
            "201      234 0.2993\n",
            "202      290 0.1782\n",
            "203     1537 0.1074\n",
            "204      383 0.0000\n",
            "205       67 1.0000\n",
            "206     1120 0.0000\n",
            "207      604 0.0000\n",
            "208     1324 0.8400\n",
            "209     1243 0.9300\n",
            "210     1117 0.0000\n",
            "211      447 0.0000\n",
            "212      816 0.2897\n",
            "213      364 0.0000\n",
            "214      620 0.1410\n",
            "215      900 0.0200\n",
            "216     1003 0.0583\n",
            "217      153 0.1342\n",
            "218     1696 0.4047\n",
            "219      307 0.1350\n",
            "220     1076 1.0000\n",
            "221      438 0.0500\n",
            "222      767 0.0300\n",
            "223      591 0.0292\n",
            "224     1090 0.2561\n",
            "225     1809 0.0000\n",
            "226      643 0.1860\n",
            "227     1826 0.1074\n",
            "228      372 0.0790\n",
            "229      614 0.2550\n",
            "230     1903 0.1700\n",
            "231     1663 0.1634\n",
            "232     1411 0.1900\n",
            "233     1388 0.0200\n",
            "234      612 0.5600\n",
            "235     1043 0.3117\n",
            "236     1481 0.2707\n",
            "237     1093 1.0000\n",
            "238      134 0.6000\n",
            "239     1111 0.0000\n",
            "240     1562 0.0000\n",
            "241      699 0.4730\n",
            "242     1503 0.1074\n",
            "243     1951 0.4003\n",
            "244     1548 0.5018\n",
            "245      282 1.0000\n",
            "246     1577 0.0000\n",
            "247     1729 0.7117\n",
            "248     1530 0.0767\n",
            "249     1414 0.0240\n",
            "250      239 0.7570\n",
            "251     1260 0.1050\n",
            "252      498 0.4050\n",
            "253     1718 0.0240\n",
            "254     1618 0.0000\n",
            "255     1982 0.8600\n",
            "256     1780 0.0125\n",
            "257     1620 0.0653\n",
            "258      276 0.0100\n",
            "259      648 0.1162\n",
            "260      884 0.8300\n",
            "261      504 0.1074\n",
            "262      597 0.4912\n",
            "263     1660 0.0464\n",
            "264     1021 0.0000\n",
            "265     1040 0.0158\n",
            "266     1565 0.7955\n",
            "267     1228 0.0225\n",
            "268     1385 0.2051\n",
            "269     1745 0.2483\n",
            "270      316 0.3308\n",
            "271      112 0.5666\n",
            "272      954 0.1350\n",
            "273      439 0.2488\n",
            "274      650 0.8400\n",
            "275     1662 0.1700\n",
            "276     1109 0.9200\n",
            "277      416 1.0000\n",
            "278      173 0.8000\n",
            "279     1465 0.1500\n",
            "280      719 0.4771\n",
            "281     1697 0.0067\n",
            "282      940 1.0000\n",
            "283      501 0.0057\n",
            "284     1934 0.6186\n",
            "285     1027 0.0417\n",
            "286     1680 0.2150\n",
            "287       10 0.2237\n",
            "288     1960 0.0000\n",
            "289     1534 0.6300\n",
            "290     1157 0.0000\n",
            "291     1425 0.0083\n",
            "292      137 0.2047\n",
            "293     1727 0.0000\n",
            "294      952 0.9900\n",
            "295       30 0.5113\n",
            "296      873 0.0000\n",
            "297      560 1.0000\n",
            "298     1613 0.1800\n",
            "299      132 0.0000\n",
            "300     1893 0.0950\n",
            "301      773 0.1083\n",
            "302      752 0.7500\n",
            "303     1798 0.9900\n",
            "304      183 0.2100\n",
            "305     1806 0.1100\n",
            "306      108 0.1971\n",
            "307     1441 0.0025\n",
            "308      583 0.0000\n",
            "309     1127 0.7108\n",
            "310     1756 0.0160\n",
            "311      602 0.9900\n",
            "312     1107 1.0000\n",
            "313     1208 0.2633\n",
            "314     1266 0.9200\n",
            "315      765 0.3533\n",
            "316      980 0.0000\n",
            "317     1233 0.7018\n",
            "318      654 0.2600\n",
            "319      627 0.0067\n",
            "320     1363 0.0667\n",
            "321      956 0.9600\n",
            "322     1870 0.9900\n",
            "323     1553 0.9700\n",
            "324     1146 0.1235\n",
            "325      405 0.5625\n",
            "326     1800 0.1467\n",
            "327     1428 0.9900\n",
            "328     1814 0.3229\n",
            "329     1193 0.2616\n",
            "330      592 1.0000\n",
            "331     1744 0.3400\n",
            "332      152 0.3720\n",
            "333     1940 1.0000\n",
            "334      698 0.7109\n",
            "335      878 0.1532\n",
            "336     1880 0.3617\n",
            "337     1426 0.0220\n",
            "338      746 0.2893\n",
            "339      669 0.0400\n",
            "340      433 0.0000\n",
            "341     1625 0.0633\n",
            "342      327 0.3860\n",
            "343     1677 0.0633\n",
            "344      586 0.0100\n",
            "345     1019 0.2530\n",
            "346      378 1.0000\n",
            "347      220 0.6107\n",
            "348      852 0.2893\n",
            "349     1263 0.6214\n",
            "350      525 0.4900\n",
            "351      119 0.1924\n",
            "352     1937 0.4200\n",
            "353      984 0.2900\n",
            "354      645 0.0000\n",
            "355     1657 0.0000\n",
            "356     1113 0.0100\n",
            "357     1689 0.4776\n",
            "358     1969 0.7100\n",
            "359     1183 0.0433\n",
            "360      644 0.0000\n",
            "361     1778 0.0000\n",
            "362      683 0.2702\n",
            "363      925 0.0108\n",
            "364      995 0.3228\n",
            "365       68 0.3533\n",
            "366      106 0.0203\n",
            "367      181 0.0670\n",
            "368     1039 0.3259\n",
            "369     1091 0.9700\n",
            "370     1334 0.2133\n",
            "371       82 0.0800\n",
            "372       29 0.0000\n",
            "373      927 0.9447\n",
            "374       75 0.0100\n",
            "375     1416 0.4195\n",
            "376      790 0.3200\n",
            "377      947 0.2112\n",
            "378      240 0.0300\n",
            "379     1251 0.6361\n",
            "380     1375 0.9900\n",
            "381     1200 1.0000\n",
            "382      215 0.0417\n",
            "383      566 0.2554\n",
            "384      986 0.7446\n",
            "385     1500 0.5928\n",
            "386     1351 0.0000\n",
            "387     1365 0.1343\n",
            "388     1038 0.1050\n",
            "389      225 0.1500\n",
            "390      948 0.6032\n",
            "391     1717 0.7449\n",
            "392      499 0.0100\n",
            "393      630 0.1575\n",
            "394        2 0.2600\n",
            "395      347 0.9400\n",
            "396      889 0.3950\n",
            "397      939 0.1803\n",
            "398      912 0.9900\n",
            "399     1897 0.4845\n",
            "400      705 0.2977\n",
            "401     1486 0.0000\n",
            "402     1017 0.0633\n",
            "403      764 0.4776\n",
            "404      489 0.3738\n",
            "405     1154 0.2550\n",
            "406     1862 0.0333\n",
            "407     1371 0.6785\n",
            "408      747 1.0000\n",
            "409      774 0.0000\n",
            "410      559 0.4415\n",
            "411     1030 0.0700\n",
            "412      828 1.0000\n",
            "413      879 0.3422\n",
            "414      211 0.3242\n",
            "415     1044 0.9800\n",
            "416      844 0.2963\n",
            "417     1250 0.3791\n",
            "418      118 0.9400\n",
            "419     1009 0.9900\n",
            "420     1175 0.4000\n",
            "421       83 0.2063\n",
            "422     1252 0.4153\n",
            "423      218 0.9900\n",
            "424      143 0.1971\n",
            "425      460 0.9800\n",
            "426     1845 0.0000\n",
            "427      391 0.0300\n",
            "428      552 0.4710\n",
            "429      226 0.7033\n",
            "430     1792 1.0000\n",
            "431     1012 0.0464\n",
            "432     1049 0.4258\n",
            "433      490 0.0350\n",
            "434     1116 0.5300\n",
            "435      448 0.9600\n",
            "436     1468 0.0327\n",
            "437     1771 1.0000\n",
            "438     1941 0.5018\n",
            "439      670 0.0138\n",
            "440     1546 0.2270\n",
            "441     1350 0.2400\n",
            "442     1687 0.0225\n",
            "443       90 0.2768\n",
            "444      661 0.0000\n",
            "445     1665 0.0000\n",
            "446      133 0.7100\n",
            "447      886 1.0000\n",
            "448      208 1.0000\n",
            "449     1415 0.1600\n",
            "450     1166 0.0203\n",
            "451     1491 1.0000\n",
            "452     1013 0.0617\n",
            "453      903 0.0083\n",
            "454      715 0.1961\n",
            "455     1820 0.0000\n",
            "456     1393 0.1425\n",
            "457     1281 0.0583\n",
            "458     1558 0.0100\n",
            "459     1871 0.9900\n",
            "460      531 0.0000\n",
            "461     1262 0.2051\n",
            "462      257 0.4567\n",
            "463     1551 0.3990\n",
            "464     1452 1.0000\n",
            "465     1341 0.0000\n",
            "466      193 0.1279\n",
            "467     1455 0.4365\n",
            "468     1633 0.0450\n",
            "469      185 0.0000\n",
            "470     1576 0.0000\n",
            "471     1943 0.3488\n",
            "472     1189 0.3235\n",
            "473     1141 0.1653\n",
            "474     1156 0.3990\n",
            "475     1811 0.1317\n",
            "476     1507 0.0033\n",
            "477     1519 0.0000\n",
            "478      293 0.0057\n",
            "479     1877 0.2600\n",
            "480      140 0.0546\n",
            "481      177 0.1104\n",
            "482      783 0.6983\n",
            "483     1417 0.2112\n",
            "484      324 0.0000\n",
            "485     1036 0.0083\n",
            "486      796 0.0100\n",
            "487     1654 0.9100\n",
            "488      537 0.1100\n",
            "489      515 0.1500\n",
            "490      720 0.3357\n",
            "491      340 0.2867\n",
            "492     1376 0.0467\n",
            "493       87 0.0000\n",
            "494      287 0.1235\n",
            "495      337 0.5348\n",
            "496       92 0.0352\n"
          ]
        }
      ],
      "source": [
        "import pandas as pd\n",
        "\n",
        "# 데이터 로드\n",
        "X_read =  pd.read_csv('X_train.csv')\n",
        "y_read =  pd.read_csv('y_train.csv')\n",
        "X_sub_read =  pd.read_csv('X_test.csv')\n",
        "# print(X_read.shape, y_read.shape, X_sub_read.shape) # (1490, 9) (1490, 2) (497, 9)\n",
        "# y_read.info() # TravelInsurance\n",
        "y = y_read['TravelInsurance']\n",
        "# print(y.unique()) # 0, 1 # 이항분류\n",
        "\n",
        "dfx = pd.concat([X_read, X_sub_read], axis=0, ignore_index=True)\n",
        "# dfx.info() # 결측치 없음 / 범주형 ['Employment Type', 'GraduateOrNot', 'FrequentFlyer', 'EverTravelledAbroad']\n",
        "# print(dfx.shape, y.shape) # (1987, 9) (1490,)\n",
        "\n",
        "df_o = dfx[['Employment Type', 'GraduateOrNot', 'FrequentFlyer', 'EverTravelledAbroad']]\n",
        "df_n = dfx.drop(['Employment Type', 'GraduateOrNot', 'FrequentFlyer', 'EverTravelledAbroad', 'Unnamed: 0'], axis=1)\n",
        "# print(dfx['Unnamed: 0'])\n",
        "# print(df_n.shape, df_o.shape) #(1987, 4) (1987, 4)\n",
        "\n",
        "# 범주형\n",
        "# 라벨링\n",
        "from sklearn.preprocessing import StandardScaler, LabelEncoder\n",
        "df_o['Employment Type'] = LabelEncoder().fit_transform(df_o['Employment Type'])\n",
        "df_o['GraduateOrNot'] = LabelEncoder().fit_transform(df_o['GraduateOrNot'])\n",
        "df_o['FrequentFlyer'] = LabelEncoder().fit_transform(df_o['FrequentFlyer'])\n",
        "df_o['EverTravelledAbroad'] = LabelEncoder().fit_transform(df_o['EverTravelledAbroad'])\n",
        "# print(df_o.head())\n",
        "\n",
        "# 연속형\n",
        "# 이상치 (시간 있으면)\n",
        "col = df_n.columns\n",
        "# 스케일링\n",
        "df_n = StandardScaler().fit_transform(df_n)\n",
        "df_n = pd.DataFrame(data=df_n, columns=col)\n",
        "# print(df_n.head())\n",
        "\n",
        "dfx = pd.concat([df_n, df_o], axis=1)\n",
        "# print(dfx.shape, y.shape) # (1987, 8) (1490,)\n",
        "\n",
        "X = dfx.iloc[:len(X_read),:]\n",
        "X_sub = dfx.iloc[len(X_read):,:]\n",
        "# print(X.shape, X_sub.shape) # (1490, 8) (497, 8)\n",
        "\n",
        "# 홀드아웃\n",
        "from sklearn.model_selection import train_test_split\n",
        "X_train, X_test, y_train, y_test = train_test_split(X,y,test_size=0.3,\n",
        "                                                    random_state=777)\n",
        "# print(X_train.shape, X_test.shape, y_train.shape, y_test.shape) # (1043, 8) (447, 8) (1043,) (447,)\n",
        "\n",
        "# 모델링\n",
        "from sklearn.ensemble import RandomForestClassifier\n",
        "# model = RandomForestClassifier()\n",
        "# model.fit(X_train, y_train)\n",
        "# y_proba = model.predict_proba(X_test)[:,1]\n",
        "# print(model.score(X_test, y_test))\n",
        "\n",
        "# from sklearn.metrics import roc_auc_score\n",
        "# roc = roc_auc_score(y_test, y_proba)\n",
        "# print(roc)\n",
        "\n",
        "model = RandomForestClassifier()\n",
        "model.fit(X, y)\n",
        "y_proba = model.predict_proba(X_sub)[:,1]\n",
        "\n",
        "pd.DataFrame({'cust_id':X_sub_read['Unnamed: 0'], 'proba':y_proba}).to_csv('006005011.csv', index=False)\n",
        "ch = pd.read_csv('006005011.csv')\n",
        "print(ch)"
      ]
    }
  ],
  "metadata": {
    "colab": {
      "provenance": [],
      "toc_visible": true
    },
    "kernelspec": {
      "display_name": "ml",
      "language": "python",
      "name": "ml"
    },
    "language_info": {
      "codemirror_mode": {
        "name": "ipython",
        "version": 3
      },
      "file_extension": ".py",
      "mimetype": "text/x-python",
      "name": "python",
      "nbconvert_exporter": "python",
      "pygments_lexer": "ipython3",
      "version": "3.11.0"
    }
  },
  "nbformat": 4,
  "nbformat_minor": 0
}
