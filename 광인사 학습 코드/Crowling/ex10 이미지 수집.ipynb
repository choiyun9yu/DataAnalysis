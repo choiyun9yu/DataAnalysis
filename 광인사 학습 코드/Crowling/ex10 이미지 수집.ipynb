{
 "cells": [
  {
   "cell_type": "code",
   "execution_count": 2,
   "id": "f3dc8ac6",
   "metadata": {},
   "outputs": [],
   "source": [
    "from selenium import webdriver as wb\n",
    "from selenium.webdriver.common.keys import Keys\n",
    "from selenium.webdriver.common.by import By\n",
    "import time\n",
    "# 파일시스템을 위한 라이브러리(파일,폴더를 생성,삭제)\n",
    "import os\n",
    "# 이미지의 url값을 파일로 변형시켜주는 라이브러리\n",
    "from urllib.request import urlretrieve"
   ]
  },
  {
   "cell_type": "code",
   "execution_count": 3,
   "id": "d432f764",
   "metadata": {},
   "outputs": [],
   "source": [
    "#1. 크롬을 통해서 네이버 메인사이트로 이동\n",
    "driver = wb.Chrome()\n",
    "driver.get(\"http://www.naver.com\")"
   ]
  },
  {
   "cell_type": "code",
   "execution_count": 11,
   "id": "1200f5f8",
   "metadata": {},
   "outputs": [],
   "source": [
    "#2. 검색창에 원하는 검색어 입력\n",
    "search=driver.find_element(By.ID, \"query\")\n",
    "#2.1 검색까지 진행\n",
    "search.send_keys(\"손흥민\")\n",
    "search.send_keys(Keys. ENTER)"
   ]
  },
  {
   "cell_type": "code",
   "execution_count": 12,
   "id": "c0ed0e2e",
   "metadata": {},
   "outputs": [],
   "source": [
    "#3. 이미지 탭 클릭\n",
    "image = driver.find_element(By.CSS_SELECTOR, \"#lnb > div.lnb_group > div > ul > li:nth-child(2) > a\")\n",
    "image.click()"
   ]
  },
  {
   "cell_type": "code",
   "execution_count": null,
   "id": "81b09c86",
   "metadata": {},
   "outputs": [],
   "source": [
    "#스크롤 작동하는 코드 삽입하면 (화면 구성 더 많아진다~ 로딩 받는 데이터 증가!)"
   ]
  },
  {
   "cell_type": "code",
   "execution_count": 14,
   "id": "76fb3863",
   "metadata": {},
   "outputs": [],
   "source": [
    "#4. 이미지 태그들을 수집\n",
    "#이유는? 이미지 태그 속에 존재하는 src만 추출하기 위해서!\n",
    "#이미지는 컨텐츠가 존재하지 않기 때문에 홀태그, 글자가 중요한게 아니라 이미지의 src가 중요하다.\n",
    "img = driver.find_elements(By.CSS_SELECTOR,\"._image._listImage\")  #elements로 받으면 리스트 형태로 받아진다"
   ]
  },
  {
   "cell_type": "code",
   "execution_count": 18,
   "id": "a2cb06c9",
   "metadata": {},
   "outputs": [
    {
     "data": {
      "text/plain": [
       "'https://search.pstatic.net/common/?src=http%3A%2F%2Fimgnews.naver.net%2Fimage%2F469%2F2022%2F07%2F10%2F0000685289_001_20220710100105779.jpg&type=a340'"
      ]
     },
     "execution_count": 18,
     "metadata": {},
     "output_type": "execute_result"
    }
   ],
   "source": [
    "#나 img리스트의 0번째 데이터에서 src 속성만 가져다줘!\n",
    "#속성을 수집할 때는 get_attrivute(\"속성\")\n",
    "img[0].get_attribute(\"src\")"
   ]
  },
  {
   "cell_type": "code",
   "execution_count": 31,
   "id": "13a10232",
   "metadata": {},
   "outputs": [],
   "source": [
    "#5. src만 담아줄 리스트 새로 제작\n",
    "srcList = []\n",
    "for i in img :\n",
    "    srcList.append(i.get_attribute(\"src\"))"
   ]
  },
  {
   "cell_type": "code",
   "execution_count": 32,
   "id": "0ce81d3a",
   "metadata": {},
   "outputs": [],
   "source": [
    "#6. 이미지를 저장!\n",
    "#바탕화면에 이미지라는 폴더를 생성\n",
    "#바탕화면에 이미지라는 폴더가 없다면, 바탕화면에 이미지 폴더 만들어줘~\n",
    "if not os.path.isdir(\"C:/Users/AI/OneDrive - dugsiacademy.org（杜吉亚卡迪公益学院）/바탕 화면/이미지\"): #\\\\표시를 /로 바꿔주기\n",
    "    os.mkdir(\"C:/Users/AI/OneDrive - dugsiacademy.org（杜吉亚卡迪公益学院）/바탕 화면/이미지\") #지울 땐 os.rmdir\n",
    "    "
   ]
  },
  {
   "cell_type": "code",
   "execution_count": 33,
   "id": "da010fdf",
   "metadata": {},
   "outputs": [],
   "source": [
    "#7. url값을 이미지 폴더에 저장\n",
    "cnt=0\n",
    "for i in srcList :\n",
    "    #urletrieve(뭘 변경해서, 어디에 저장+파밀명.확장자)\n",
    "    urlretrieve(i,f\"C:/Users/AI/OneDrive - dugsiacademy.org（杜吉亚卡迪公益学院）/바탕 화면/이미지/img{str(cnt)}.jpg\")\n",
    "    cnt+=1\n",
    "    time.sleep(1)\n",
    "    #이미지 로딩 때문에 이미지가 깨져서 가져와질 수 있다.\n",
    "    #중간중간 깨진경우(타임슬롯 or 접근불가이미지)\n",
    "    #밑에 몰려서 깨진경우 (스크롤로 로딩해줘야함)"
   ]
  },
  {
   "cell_type": "markdown",
   "id": "da7843d3",
   "metadata": {},
   "source": [
    "# 이미지가 중간에 깨지는 이유는?\n",
    "- 이미지는 텍스트 파일보다 크기가 더 크기 때문에\n",
    "- 화면상에 스크롤을 통해서 더 많이 로딩을 받기!\n",
    "- 1. 크롬실행\n",
    "- 2. 스크롤을 충분히 진행  // 화면구성\n",
    "- 3. img태그를 수집  // 태그수집\n",
    "- 4. img태그 속 src만 추출  // 데이터가공\n",
    "- 5. 파일로 저장  // 데이터활용"
   ]
  },
  {
   "cell_type": "code",
   "execution_count": null,
   "id": "2f5bfdeb",
   "metadata": {},
   "outputs": [],
   "source": []
  },
  {
   "cell_type": "code",
   "execution_count": null,
   "id": "4b447c56",
   "metadata": {},
   "outputs": [],
   "source": []
  },
  {
   "cell_type": "code",
   "execution_count": null,
   "id": "1477262c",
   "metadata": {},
   "outputs": [],
   "source": []
  },
  {
   "cell_type": "code",
   "execution_count": null,
   "id": "708e3c2d",
   "metadata": {},
   "outputs": [],
   "source": []
  },
  {
   "cell_type": "code",
   "execution_count": null,
   "id": "b3bbd39b",
   "metadata": {},
   "outputs": [],
   "source": []
  },
  {
   "cell_type": "code",
   "execution_count": null,
   "id": "71569d26",
   "metadata": {},
   "outputs": [],
   "source": []
  },
  {
   "cell_type": "code",
   "execution_count": null,
   "id": "2fcef81b",
   "metadata": {},
   "outputs": [],
   "source": []
  },
  {
   "cell_type": "code",
   "execution_count": null,
   "id": "3dd996f9",
   "metadata": {},
   "outputs": [],
   "source": []
  },
  {
   "cell_type": "code",
   "execution_count": null,
   "id": "6eab371d",
   "metadata": {},
   "outputs": [],
   "source": []
  },
  {
   "cell_type": "code",
   "execution_count": null,
   "id": "39c0cbd3",
   "metadata": {},
   "outputs": [],
   "source": []
  },
  {
   "cell_type": "code",
   "execution_count": null,
   "id": "008a7769",
   "metadata": {},
   "outputs": [],
   "source": []
  },
  {
   "cell_type": "code",
   "execution_count": null,
   "id": "70e01eb4",
   "metadata": {},
   "outputs": [],
   "source": []
  },
  {
   "cell_type": "code",
   "execution_count": null,
   "id": "bd9b6cba",
   "metadata": {},
   "outputs": [],
   "source": []
  },
  {
   "cell_type": "code",
   "execution_count": null,
   "id": "4d384615",
   "metadata": {},
   "outputs": [],
   "source": []
  },
  {
   "cell_type": "code",
   "execution_count": null,
   "id": "3b0b6064",
   "metadata": {},
   "outputs": [],
   "source": []
  },
  {
   "cell_type": "code",
   "execution_count": null,
   "id": "2dc58430",
   "metadata": {},
   "outputs": [],
   "source": []
  },
  {
   "cell_type": "code",
   "execution_count": null,
   "id": "75d43d95",
   "metadata": {},
   "outputs": [],
   "source": []
  },
  {
   "cell_type": "code",
   "execution_count": null,
   "id": "93da081e",
   "metadata": {},
   "outputs": [],
   "source": []
  },
  {
   "cell_type": "code",
   "execution_count": null,
   "id": "1451c55d",
   "metadata": {},
   "outputs": [],
   "source": []
  },
  {
   "cell_type": "code",
   "execution_count": null,
   "id": "7e887677",
   "metadata": {},
   "outputs": [],
   "source": []
  },
  {
   "cell_type": "code",
   "execution_count": null,
   "id": "186ffcf3",
   "metadata": {},
   "outputs": [],
   "source": []
  },
  {
   "cell_type": "code",
   "execution_count": null,
   "id": "ece4b4d3",
   "metadata": {},
   "outputs": [],
   "source": []
  },
  {
   "cell_type": "code",
   "execution_count": null,
   "id": "d2c9c908",
   "metadata": {},
   "outputs": [],
   "source": []
  },
  {
   "cell_type": "code",
   "execution_count": null,
   "id": "e8131007",
   "metadata": {},
   "outputs": [],
   "source": []
  },
  {
   "cell_type": "code",
   "execution_count": null,
   "id": "1a8c75c4",
   "metadata": {},
   "outputs": [],
   "source": []
  },
  {
   "cell_type": "code",
   "execution_count": null,
   "id": "bd8454eb",
   "metadata": {},
   "outputs": [],
   "source": []
  },
  {
   "cell_type": "code",
   "execution_count": null,
   "id": "ff976bcb",
   "metadata": {},
   "outputs": [],
   "source": []
  },
  {
   "cell_type": "code",
   "execution_count": null,
   "id": "1916ab5f",
   "metadata": {},
   "outputs": [],
   "source": []
  },
  {
   "cell_type": "code",
   "execution_count": null,
   "id": "b1cf9346",
   "metadata": {},
   "outputs": [],
   "source": []
  },
  {
   "cell_type": "code",
   "execution_count": null,
   "id": "c3d4b883",
   "metadata": {},
   "outputs": [],
   "source": []
  },
  {
   "cell_type": "code",
   "execution_count": null,
   "id": "56bdfb2e",
   "metadata": {},
   "outputs": [],
   "source": []
  },
  {
   "cell_type": "code",
   "execution_count": null,
   "id": "1d16879c",
   "metadata": {},
   "outputs": [],
   "source": []
  },
  {
   "cell_type": "code",
   "execution_count": null,
   "id": "1eca947c",
   "metadata": {},
   "outputs": [],
   "source": []
  },
  {
   "cell_type": "code",
   "execution_count": null,
   "id": "a88c5534",
   "metadata": {},
   "outputs": [],
   "source": []
  },
  {
   "cell_type": "code",
   "execution_count": null,
   "id": "285758ac",
   "metadata": {},
   "outputs": [],
   "source": []
  },
  {
   "cell_type": "code",
   "execution_count": null,
   "id": "c6691945",
   "metadata": {},
   "outputs": [],
   "source": []
  },
  {
   "cell_type": "code",
   "execution_count": null,
   "id": "13800d24",
   "metadata": {},
   "outputs": [],
   "source": []
  },
  {
   "cell_type": "code",
   "execution_count": null,
   "id": "b14c7d25",
   "metadata": {},
   "outputs": [],
   "source": []
  },
  {
   "cell_type": "code",
   "execution_count": null,
   "id": "09d9076f",
   "metadata": {},
   "outputs": [],
   "source": []
  },
  {
   "cell_type": "code",
   "execution_count": null,
   "id": "6476f5ed",
   "metadata": {},
   "outputs": [],
   "source": []
  },
  {
   "cell_type": "code",
   "execution_count": null,
   "id": "5eefe498",
   "metadata": {},
   "outputs": [],
   "source": []
  }
 ],
 "metadata": {
  "kernelspec": {
   "display_name": "Python 3 (ipykernel)",
   "language": "python",
   "name": "python3"
  },
  "language_info": {
   "codemirror_mode": {
    "name": "ipython",
    "version": 3
   },
   "file_extension": ".py",
   "mimetype": "text/x-python",
   "name": "python",
   "nbconvert_exporter": "python",
   "pygments_lexer": "ipython3",
   "version": "3.9.12"
  },
  "toc": {
   "base_numbering": 1,
   "nav_menu": {},
   "number_sections": true,
   "sideBar": true,
   "skip_h1_title": false,
   "title_cell": "Table of Contents",
   "title_sidebar": "Contents",
   "toc_cell": false,
   "toc_position": {},
   "toc_section_display": true,
   "toc_window_display": false
  }
 },
 "nbformat": 4,
 "nbformat_minor": 5
}
